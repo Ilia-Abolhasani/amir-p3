{
 "cells": [
  {
   "cell_type": "code",
   "execution_count": 1,
   "id": "a3378dcb",
   "metadata": {},
   "outputs": [],
   "source": [
    "import os\n",
    "import glob\n",
    "import tqdm\n",
    "import shutil\n",
    "import pandas as pd\n",
    "import zipfile\n",
    "import multiprocessing as mp\n",
    "\n",
    "cpu_count = mp.cpu_count()"
   ]
  },
  {
   "cell_type": "code",
   "execution_count": 2,
   "id": "c622f56e",
   "metadata": {},
   "outputs": [],
   "source": [
    "SRA_path = \"./SRA_zip/\""
   ]
  },
  {
   "cell_type": "code",
   "execution_count": 3,
   "id": "7e5a8c23",
   "metadata": {},
   "outputs": [],
   "source": [
    "def df_to_fasta(df, path, tag=\"tag\", data='data'):\n",
    "    lines = []\n",
    "    df.apply(lambda row: lines.append(f\">{row[tag]}\\n{row[data]}\\n\"),axis=1)\n",
    "    with open(path, 'w') as file:        \n",
    "        file.write(''.join(lines))"
   ]
  },
  {
   "cell_type": "code",
   "execution_count": 4,
   "id": "a4e77f0d",
   "metadata": {},
   "outputs": [],
   "source": [
    "files = glob.glob(f\"{SRA_path}*.zip\")"
   ]
  },
  {
   "cell_type": "code",
   "execution_count": 5,
   "id": "2a5231fa",
   "metadata": {
    "scrolled": false
   },
   "outputs": [
    {
     "name": "stdout",
     "output_type": "stream",
     "text": [
      "(1749, 139)\n"
     ]
    },
    {
     "data": {
      "text/html": [
       "<div>\n",
       "<style scoped>\n",
       "    .dataframe tbody tr th:only-of-type {\n",
       "        vertical-align: middle;\n",
       "    }\n",
       "\n",
       "    .dataframe tbody tr th {\n",
       "        vertical-align: top;\n",
       "    }\n",
       "\n",
       "    .dataframe thead th {\n",
       "        text-align: right;\n",
       "    }\n",
       "</style>\n",
       "<table border=\"1\" class=\"dataframe\">\n",
       "  <thead>\n",
       "    <tr style=\"text-align: right;\">\n",
       "      <th></th>\n",
       "      <th>Reference miRNA cluster</th>\n",
       "      <th>Reference miRNA IDs</th>\n",
       "      <th>Reference miRNA IDs and species</th>\n",
       "      <th>confidence</th>\n",
       "      <th>seq name</th>\n",
       "      <th>ct name</th>\n",
       "      <th>ct</th>\n",
       "      <th>pdf</th>\n",
       "      <th>hit start</th>\n",
       "      <th>hit end</th>\n",
       "      <th>...</th>\n",
       "      <th>distal closest to 21</th>\n",
       "      <th>distal closest to 36</th>\n",
       "      <th>Loop distal junction distance</th>\n",
       "      <th>Loop proximal junction distance</th>\n",
       "      <th>message</th>\n",
       "      <th>hit cluster number</th>\n",
       "      <th>boi cluster number</th>\n",
       "      <th>precursor cluster number</th>\n",
       "      <th>identical hit cluster</th>\n",
       "      <th>seed region</th>\n",
       "    </tr>\n",
       "  </thead>\n",
       "  <tbody>\n",
       "    <tr>\n",
       "      <th>0</th>\n",
       "      <td>C5736</td>\n",
       "      <td>gma-miR408b-5p</td>\n",
       "      <td>gma-miR408b-5p MIMAT0021630 Glycine max miR408...</td>\n",
       "      <td>False</td>\n",
       "      <td>CM040440.1|+|17436091-17436510|201-220</td>\n",
       "      <td>Fold 01</td>\n",
       "      <td>=HYPERLINK(\"http://jupyter.sysmanager.ir/tree/...</td>\n",
       "      <td>=HYPERLINK(\"http://jupyter.sysmanager.ir/tree/...</td>\n",
       "      <td>201</td>\n",
       "      <td>220</td>\n",
       "      <td>...</td>\n",
       "      <td>['loop=dist:19, size:2 + 1']</td>\n",
       "      <td>['loop=dist:19, size:2 + 1']</td>\n",
       "      <td>0.0</td>\n",
       "      <td>15.0</td>\n",
       "      <td>-</td>\n",
       "      <td>['0005']</td>\n",
       "      <td>['0001']</td>\n",
       "      <td>['0001']</td>\n",
       "      <td>1</td>\n",
       "      <td>GGGGAACAGGCA</td>\n",
       "    </tr>\n",
       "    <tr>\n",
       "      <th>1</th>\n",
       "      <td>C5736</td>\n",
       "      <td>gma-miR408b-5p</td>\n",
       "      <td>gma-miR408b-5p MIMAT0021630 Glycine max miR408...</td>\n",
       "      <td>False</td>\n",
       "      <td>CM040440.1|+|17436091-17436510|201-220</td>\n",
       "      <td>Fold 04</td>\n",
       "      <td>=HYPERLINK(\"http://jupyter.sysmanager.ir/tree/...</td>\n",
       "      <td>=HYPERLINK(\"http://jupyter.sysmanager.ir/tree/...</td>\n",
       "      <td>201</td>\n",
       "      <td>220</td>\n",
       "      <td>...</td>\n",
       "      <td>['loop=dist:19, size:2 + 1']</td>\n",
       "      <td>['loop=dist:19, size:2 + 1']</td>\n",
       "      <td>0.0</td>\n",
       "      <td>15.0</td>\n",
       "      <td>-</td>\n",
       "      <td>['0005']</td>\n",
       "      <td>['0002']</td>\n",
       "      <td>['0001']</td>\n",
       "      <td>1</td>\n",
       "      <td>GGGGAACAGGCA</td>\n",
       "    </tr>\n",
       "  </tbody>\n",
       "</table>\n",
       "<p>2 rows × 139 columns</p>\n",
       "</div>"
      ],
      "text/plain": [
       "  Reference miRNA cluster Reference miRNA IDs  \\\n",
       "0                   C5736      gma-miR408b-5p   \n",
       "1                   C5736      gma-miR408b-5p   \n",
       "\n",
       "                     Reference miRNA IDs and species  confidence  \\\n",
       "0  gma-miR408b-5p MIMAT0021630 Glycine max miR408...       False   \n",
       "1  gma-miR408b-5p MIMAT0021630 Glycine max miR408...       False   \n",
       "\n",
       "                                 seq name  ct name  \\\n",
       "0  CM040440.1|+|17436091-17436510|201-220  Fold 01   \n",
       "1  CM040440.1|+|17436091-17436510|201-220  Fold 04   \n",
       "\n",
       "                                                  ct  \\\n",
       "0  =HYPERLINK(\"http://jupyter.sysmanager.ir/tree/...   \n",
       "1  =HYPERLINK(\"http://jupyter.sysmanager.ir/tree/...   \n",
       "\n",
       "                                                 pdf  hit start  hit end  ...  \\\n",
       "0  =HYPERLINK(\"http://jupyter.sysmanager.ir/tree/...        201      220  ...   \n",
       "1  =HYPERLINK(\"http://jupyter.sysmanager.ir/tree/...        201      220  ...   \n",
       "\n",
       "           distal closest to 21          distal closest to 36  \\\n",
       "0  ['loop=dist:19, size:2 + 1']  ['loop=dist:19, size:2 + 1']   \n",
       "1  ['loop=dist:19, size:2 + 1']  ['loop=dist:19, size:2 + 1']   \n",
       "\n",
       "  Loop distal junction distance  Loop proximal junction distance message  \\\n",
       "0                           0.0                             15.0       -   \n",
       "1                           0.0                             15.0       -   \n",
       "\n",
       "  hit cluster number  boi cluster number  precursor cluster number  \\\n",
       "0           ['0005']            ['0001']                  ['0001']   \n",
       "1           ['0005']            ['0002']                  ['0001']   \n",
       "\n",
       "   identical hit cluster   seed region  \n",
       "0                      1  GGGGAACAGGCA  \n",
       "1                      1  GGGGAACAGGCA  \n",
       "\n",
       "[2 rows x 139 columns]"
      ]
     },
     "execution_count": 5,
     "metadata": {},
     "output_type": "execute_result"
    }
   ],
   "source": [
    "result = pd.read_csv(\"result_level2_filter_clustered.csv\")\n",
    "print(result.shape)\n",
    "result.head(2)"
   ]
  },
  {
   "cell_type": "code",
   "execution_count": 6,
   "id": "7d3744b5",
   "metadata": {},
   "outputs": [
    {
     "name": "stderr",
     "output_type": "stream",
     "text": [
      "C:\\Users\\emadi1\\AppData\\Local\\Temp\\3/ipykernel_19836/1843756227.py:3: SettingWithCopyWarning: \n",
      "A value is trying to be set on a copy of a slice from a DataFrame.\n",
      "Try using .loc[row_indexer,col_indexer] = value instead\n",
      "\n",
      "See the caveats in the documentation: https://pandas.pydata.org/pandas-docs/stable/user_guide/indexing.html#returning-a-view-versus-a-copy\n",
      "  pre_df['precursor seq'] = pre_df['precursor seq'].apply(lambda x: x.lower())\n"
     ]
    }
   ],
   "source": [
    "result['precursor_unique'] = result['precursor name'].apply(lambda x: '|'.join(x.split(\"|\")[:-1]))\n",
    "pre_df = result[['precursor_unique', 'precursor seq']]\n",
    "pre_df['precursor seq'] = pre_df['precursor seq'].apply(lambda x: x.lower())\n",
    "pre_df = pre_df.drop_duplicates(subset=['precursor seq'], keep='first')\n",
    "df_to_fasta(pre_df, \"./precursor_query.fasta\", tag=\"precursor_unique\", data='precursor seq')"
   ]
  },
  {
   "cell_type": "code",
   "execution_count": 7,
   "id": "5f62de5c",
   "metadata": {},
   "outputs": [],
   "source": [
    "hit_df = result[['hit position on chromosome', 'hit seq']]\n",
    "hit_df = hit_df.drop_duplicates(subset=['hit seq'], keep='first')\n",
    "df_to_fasta(hit_df, \"./hit_query.fasta\", tag=\"hit position on chromosome\", data='hit seq')"
   ]
  },
  {
   "cell_type": "code",
   "execution_count": 8,
   "id": "0fdd1a84",
   "metadata": {},
   "outputs": [],
   "source": [
    "header = \"qseqid sseqid qstart qend sstart send qseq sseq evalue bitscore score length pident nident mismatch positive gapopen gaps ppos frames qframe sframe sstrand qcovs qcovhsp qlen slen\""
   ]
  },
  {
   "cell_type": "markdown",
   "id": "eb743d47",
   "metadata": {},
   "source": [
    "# Main loop"
   ]
  },
  {
   "cell_type": "code",
   "execution_count": null,
   "id": "b2514bd4",
   "metadata": {},
   "outputs": [],
   "source": [
    "for file in tqdm.tqdm(files):\n",
    "    with zipfile.ZipFile(file , 'r') as zip_ref:\n",
    "        zip_ref.extractall(\"./Temp_extract/\")\n",
    "    name = file[len(SRA_path):-4]\n",
    "    for  query, output, word_size in [[\"./precursor_query.fasta\", \"precursor\", 28], [\"./hit_query.fasta\", \"hit\",18]]:\n",
    "        command = f'''blastn -query {query}\n",
    "        -out ./Result/{output}/{name} \n",
    "        -num_threads {cpu_count} \n",
    "        -db ./Temp_extract/blastdb \n",
    "        -word_size {word_size} \\\n",
    "        -penalty -2 \n",
    "        -reward 1 \n",
    "        -gapopen 5 \n",
    "        -gapextend 2 \n",
    "        -evalue 0.001 \n",
    "        -outfmt \"6 {header}\"\n",
    "        '''.replace(\"\\n\", \"\")\n",
    "        os.system(command)  \n",
    "    shutil.rmtree('./Temp_extract')"
   ]
  },
  {
   "cell_type": "markdown",
   "id": "a6dd87d8",
   "metadata": {},
   "source": [
    "# Process"
   ]
  },
  {
   "cell_type": "markdown",
   "id": "6518dc36",
   "metadata": {},
   "source": [
    "## precursor"
   ]
  },
  {
   "cell_type": "code",
   "execution_count": 9,
   "id": "16d61c1a",
   "metadata": {},
   "outputs": [
    {
     "name": "stderr",
     "output_type": "stream",
     "text": [
      "100%|██████████████████████████████████████████████████████████████████████████████████| 48/48 [00:27<00:00,  1.74it/s]\n"
     ]
    }
   ],
   "source": [
    "def precursor_check_functin(row, df):\n",
    "    if(df['qseqid'].isin([row['precursor_unique']]).any()):        \n",
    "        row['precursor expression'] = True\n",
    "        row['precursor expression db'].append(name)\n",
    "    return row\n",
    "    \n",
    "    \n",
    "result['precursor expression'] = False\n",
    "result['precursor expression db'] = result['precursor expression'].apply(lambda x: [])\n",
    "for file in tqdm.tqdm(files):\n",
    "    name = file[len(SRA_path):-4]\n",
    "    df = pd.read_csv(f\"./Result/precursor/{name}\", sep=\"\\t\", header=None)\n",
    "    df.columns = header.split(\" \")    \n",
    "    result = result.apply(lambda row: precursor_check_functin(row, df), axis=1)            "
   ]
  },
  {
   "cell_type": "code",
   "execution_count": 10,
   "id": "c718d669",
   "metadata": {},
   "outputs": [
    {
     "data": {
      "text/plain": [
       "(268, 142)"
      ]
     },
     "execution_count": 10,
     "metadata": {},
     "output_type": "execute_result"
    }
   ],
   "source": [
    "temp = result.copy()\n",
    "temp['precursor seq'] = temp['precursor seq'].apply(lambda x: x.lower())\n",
    "temp = temp.drop_duplicates(subset=['precursor seq'], keep='first')\n",
    "print(sum(temp['precursor expression']))\n",
    "print(temp.shape[0])"
   ]
  },
  {
   "cell_type": "markdown",
   "id": "a2e85eac",
   "metadata": {},
   "source": [
    "## hit"
   ]
  },
  {
   "cell_type": "code",
   "execution_count": 18,
   "id": "9844f88c",
   "metadata": {},
   "outputs": [
    {
     "name": "stderr",
     "output_type": "stream",
     "text": [
      "C:\\Users\\emadi1\\AppData\\Local\\Temp\\3/ipykernel_19836/3487110299.py:8: PerformanceWarning: DataFrame is highly fragmented.  This is usually the result of calling `frame.insert` many times, which has poor performance.  Consider joining all columns at once using pd.concat(axis=1) instead.  To get a de-fragmented frame, use `newframe = frame.copy()`\n",
      "  result['hit expression'] = False\n",
      "C:\\Users\\emadi1\\AppData\\Local\\Temp\\3/ipykernel_19836/3487110299.py:9: PerformanceWarning: DataFrame is highly fragmented.  This is usually the result of calling `frame.insert` many times, which has poor performance.  Consider joining all columns at once using pd.concat(axis=1) instead.  To get a de-fragmented frame, use `newframe = frame.copy()`\n",
      "  result['hit expression db'] = result['hit expression'].apply(lambda x: [])\n",
      "100%|██████████████████████████████████████████████████████████████████████████████████| 48/48 [00:26<00:00,  1.82it/s]\n"
     ]
    }
   ],
   "source": [
    "def hit_check_functin(row, df):\n",
    "    if(df['qseqid'].isin([row['hit position on chromosome']]).any()):        \n",
    "        row['hit expression'] = True\n",
    "        row['hit expression db'].append(name)\n",
    "    return row\n",
    "    \n",
    "    \n",
    "result['hit expression'] = False\n",
    "result['hit expression db'] = result['hit expression'].apply(lambda x: [])\n",
    "for file in tqdm.tqdm(files):\n",
    "    name = file[len(SRA_path):-4]\n",
    "    df = pd.read_csv(f\"./Result/hit/{name}\", sep=\"\\t\", header=None)\n",
    "    df.columns = header.split(\" \")        \n",
    "    result = result.apply(lambda row: hit_check_functin(row, df), axis=1)            "
   ]
  },
  {
   "cell_type": "code",
   "execution_count": 19,
   "id": "e8988e25",
   "metadata": {},
   "outputs": [
    {
     "name": "stdout",
     "output_type": "stream",
     "text": [
      "201\n",
      "401\n"
     ]
    }
   ],
   "source": [
    "temp = result.copy()\n",
    "temp['hit seq'] = temp['hit seq'].apply(lambda x: x.lower())\n",
    "temp = temp.drop_duplicates(subset=['hit seq'], keep='first')\n",
    "print(sum(temp['hit expression']))\n",
    "print(temp.shape[0])"
   ]
  },
  {
   "cell_type": "code",
   "execution_count": 22,
   "id": "f67dc147",
   "metadata": {},
   "outputs": [],
   "source": [
    "result.to_csv(\"result_expression.csv\",index=False)"
   ]
  },
  {
   "cell_type": "code",
   "execution_count": null,
   "id": "0ac16b72",
   "metadata": {},
   "outputs": [],
   "source": []
  }
 ],
 "metadata": {
  "kernelspec": {
   "display_name": "Python 3 (ipykernel)",
   "language": "python",
   "name": "python3"
  },
  "language_info": {
   "codemirror_mode": {
    "name": "ipython",
    "version": 3
   },
   "file_extension": ".py",
   "mimetype": "text/x-python",
   "name": "python",
   "nbconvert_exporter": "python",
   "pygments_lexer": "ipython3",
   "version": "3.9.7"
  }
 },
 "nbformat": 4,
 "nbformat_minor": 5
}
