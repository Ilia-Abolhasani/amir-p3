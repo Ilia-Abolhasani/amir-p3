{
 "cells": [
  {
   "cell_type": "markdown",
   "metadata": {
    "heading_collapsed": true,
    "id": "qyC8IFwrWkag"
   },
   "source": [
    "# Imports"
   ]
  },
  {
   "cell_type": "code",
   "execution_count": 1,
   "metadata": {
    "ExecuteTime": {
     "end_time": "2022-08-22T13:03:02.407259Z",
     "start_time": "2022-08-22T13:02:37.783319Z"
    },
    "hidden": true,
    "id": "16Duf9iWWkat"
   },
   "outputs": [
    {
     "name": "stdout",
     "output_type": "stream",
     "text": [
      "keras version  2.9.0\n"
     ]
    }
   ],
   "source": [
    "import pickle\n",
    "import json\n",
    "from __future__ import division\n",
    "import warnings\n",
    "warnings.filterwarnings('ignore')\n",
    "import sys\n",
    "import numpy as np\n",
    "import pandas as pd\n",
    "import seaborn as sns\n",
    "import matplotlib.pyplot as plt\n",
    "from sklearn import metrics\n",
    "from numpy.random import randint\n",
    "from numpy.random import rand\n",
    "import multiprocessing as mp\n",
    "import random\n",
    "import math\n",
    "import pandas as pd\n",
    "import numpy as np\n",
    "from tqdm.notebook import tqdm\n",
    "import matplotlib.pyplot as plt\n",
    "from tqdm.contrib.concurrent import process_map\n",
    "import os\n",
    "from sklearn.preprocessing import OneHotEncoder\n",
    "from sklearn.model_selection import KFold, StratifiedKFold\n",
    "from sklearn import metrics\n",
    "from sklearn.metrics import classification_report\n",
    "from sklearn.model_selection import train_test_split\n",
    "\n",
    "import tensorflow as tf\n",
    "import keras\n",
    "from keras import backend as K\n",
    "from keras.models import Sequential\n",
    "from keras.layers import Input,Dense, Dropout, Flatten, Reshape, GlobalAveragePooling1D, BatchNormalization,LSTM,Bidirectional\n",
    "from keras.layers import Conv2D, MaxPooling2D, Conv1D, MaxPooling1D,UpSampling1D, Conv1DTranspose,GaussianNoise \n",
    "from keras.utils import np_utils\n",
    "from keras import backend as K\n",
    "from keras.callbacks import Callback\n",
    "from keras.regularizers import l2 , l1, l1_l2\n",
    "import tensorflow.keras.backend as kb\n",
    "print('keras version ', keras.__version__)\n",
    "\n",
    "from keras.utils.vis_utils import plot_model"
   ]
  },
  {
   "cell_type": "code",
   "execution_count": 2,
   "metadata": {
    "ExecuteTime": {
     "end_time": "2022-08-22T13:03:04.406094Z",
     "start_time": "2022-08-22T13:03:02.411244Z"
    },
    "hidden": true
   },
   "outputs": [],
   "source": [
    "sys.path.append(\"../src\")\n",
    "from convertor import convert\n",
    "from preprocessing import get_target, preprocessing"
   ]
  },
  {
   "cell_type": "markdown",
   "metadata": {
    "id": "bdbqIS-UWka4"
   },
   "source": [
    "# Functions"
   ]
  },
  {
   "cell_type": "code",
   "execution_count": 3,
   "metadata": {
    "ExecuteTime": {
     "end_time": "2022-08-22T13:03:04.416740Z",
     "start_time": "2022-08-22T13:03:04.410703Z"
    },
    "id": "Pk2w6ac8Wka5"
   },
   "outputs": [],
   "source": [
    "def df_to_fasta(df, path):\n",
    "    lines = []\n",
    "    df.apply(lambda row: lines.append(f\">{row['tag']}\\n{row['data']}\\n\"),axis=1)\n",
    "    with open(path,'w') as file:\n",
    "        file.write(''.join(lines))"
   ]
  },
  {
   "cell_type": "code",
   "execution_count": 4,
   "metadata": {
    "ExecuteTime": {
     "end_time": "2022-08-22T13:03:04.429609Z",
     "start_time": "2022-08-22T13:03:04.421107Z"
    },
    "id": "yoDSV7bjWka6"
   },
   "outputs": [],
   "source": [
    "def fasta_to_df(path):\n",
    "    with open(path, 'r') as file:\n",
    "        text = file.read()\n",
    "    lines = [line for line in text.split('\\n') if len(line) > 0]\n",
    "    s = ''\n",
    "    tags = []\n",
    "    data = []\n",
    "    for l in lines:\n",
    "        if(l[0]=='>'):\n",
    "            tags.append(l)        \n",
    "            data.append(s)\n",
    "            s = ''\n",
    "        else:\n",
    "            s += l    \n",
    "    data.append(s)\n",
    "    df = pd.DataFrame(\n",
    "            {\n",
    "                'tag': tags,\n",
    "                'data': data[1:]\n",
    "            })\n",
    "    df['tag'] = df['tag'].apply(lambda x: x[1:])    \n",
    "    return df"
   ]
  },
  {
   "cell_type": "code",
   "execution_count": 5,
   "metadata": {
    "ExecuteTime": {
     "end_time": "2022-08-22T13:03:04.438228Z",
     "start_time": "2022-08-22T13:03:04.433552Z"
    },
    "id": "nQOAHaVBWka_"
   },
   "outputs": [],
   "source": [
    "class DotDict(dict):\n",
    "    __getattr__ = dict.get\n",
    "    __setattr__ = dict.__setitem__\n",
    "    __delattr__ = dict.__delitem__"
   ]
  },
  {
   "cell_type": "code",
   "execution_count": 6,
   "metadata": {
    "ExecuteTime": {
     "end_time": "2022-08-22T13:03:04.454555Z",
     "start_time": "2022-08-22T13:03:04.441326Z"
    },
    "id": "pzR6yRp8v_aT"
   },
   "outputs": [],
   "source": [
    "def confusion_matrix(validations, predictions, LABELS):            \n",
    "    freq = metrics.confusion_matrix(validations, predictions)        \n",
    "    sensitivity =  (np.divide(freq.transpose(),\n",
    "                             np.sum(freq, axis=1)).transpose() * 100).round(2)    \n",
    "    annotation = []\n",
    "    for i in range(freq.shape[0]):\n",
    "        row = []\n",
    "        for j in range(freq.shape[1]):\n",
    "            row.append(f'{freq[i][j]}\\n {sensitivity[i][j]}%')            \n",
    "        annotation.append(row)\n",
    "    annotation = np.array(annotation)\n",
    "    sns.heatmap(sensitivity, cmap=\"YlOrBr\",\n",
    "                vmin=0, vmax=100,\n",
    "                linecolor='white',\n",
    "                linewidths=1,\n",
    "                xticklabels=LABELS,\n",
    "                yticklabels=LABELS,\n",
    "                annot=annotation,\n",
    "               fmt=':<')    \n",
    "    plt.title(\"Confusion Matrix\")\n",
    "    plt.ylabel(\"Actually Label\")\n",
    "    plt.xlabel(\"Predicted Label\")\n",
    "    plt.show()            \n",
    "\n",
    "def report(pred, df, ref):\n",
    "    number_of_hit = len(df['hit seq'].unique())\n",
    "    print(f'number of unique hit: {number_of_hit}')\n",
    "    total = len(df[df['hit seq'].isin(ref['data'])]['hit seq'].unique()) \n",
    "    print(f'total mir: {total}')    \n",
    "    selected = df[pd.Series(pred).apply(lambda x: True if x==1 else False)]\n",
    "    found_seq = selected[selected['hit seq'].isin(ref['data'])]['hit seq'].unique()\n",
    "    found = len(found_seq)\n",
    "    print(f'found mir : {found}')\n",
    "    print(f'fount to all : {round(found / total * 100, 2)}%')\n",
    "    fp = len(selected[~selected['hit seq'].isin(ref['data'])]['hit seq'].unique())\n",
    "    print(f'fp: {fp}')"
   ]
  },
  {
   "cell_type": "markdown",
   "metadata": {
    "id": "4qLMRhTLWkbA"
   },
   "source": [
    "# Load all plant dataset"
   ]
  },
  {
   "cell_type": "code",
   "execution_count": 7,
   "metadata": {
    "ExecuteTime": {
     "end_time": "2022-08-22T13:03:04.464244Z",
     "start_time": "2022-08-22T13:03:04.458520Z"
    }
   },
   "outputs": [],
   "source": [
    "all_plant = [\n",
    "    \"O.sativa\",\n",
    "    \"A.thaliana\",\n",
    "    \"C.sinensis\",\n",
    "    \"Z.mays\",\n",
    "    \"T.aestivum\",\n",
    "    \"G.max\",\n",
    "    \"G.raimondii\",\n",
    "    \"M.truncatula\",\n",
    "    \"S.bicolor\",\n",
    "    \"H.vulgare\"\n",
    "]"
   ]
  },
  {
   "cell_type": "code",
   "execution_count": 8,
   "metadata": {
    "ExecuteTime": {
     "end_time": "2022-08-22T13:03:04.474290Z",
     "start_time": "2022-08-22T13:03:04.469602Z"
    },
    "id": "QSvkewSupdLq"
   },
   "outputs": [],
   "source": [
    "data = {}"
   ]
  },
  {
   "cell_type": "code",
   "execution_count": 9,
   "metadata": {
    "ExecuteTime": {
     "end_time": "2022-08-22T13:03:04.487418Z",
     "start_time": "2022-08-22T13:03:04.478401Z"
    },
    "id": "YREQVEYCQROA"
   },
   "outputs": [],
   "source": [
    "def load(plant, mu=None, std=None):\n",
    "    global data\n",
    "    posX = pd.read_csv(f\"../Experiment/{plant}/positive/Result/result_level1_filter.csv\")\n",
    "    posX = convert(posX)    \n",
    "    posY = np.ones(posX.shape[0], dtype='float32')\n",
    "    posY = np_utils.to_categorical(posY, 2)\n",
    "    \n",
    "    negX = pd.read_csv(f\"../Experiment/{plant}/negative/Result/result_level1_filter.csv\")\n",
    "    negX = convert(negX)    \n",
    "    negY = np.zeros(negX.shape[0], dtype='float32')\n",
    "    negY = np_utils.to_categorical(negY, 2)        \n",
    "    Y = np.concatenate([posY, negY])        \n",
    "    X = pd.concat([posX, negX]).reset_index(drop=True)\n",
    "    [feature, mu, std] = preprocessing(X, mu, std)    \n",
    "    data[plant] = {}\n",
    "    data[plant]['feature'] = feature\n",
    "    data[plant]['target'] = Y\n",
    "    return [mu, std]"
   ]
  },
  {
   "cell_type": "code",
   "execution_count": 85,
   "metadata": {
    "ExecuteTime": {
     "end_time": "2022-08-22T20:06:20.691394Z",
     "start_time": "2022-08-22T20:06:20.026924Z"
    }
   },
   "outputs": [],
   "source": [
    "with open('data.pickle', 'wb') as handle:\n",
    "    pickle.dump(data, handle, protocol=pickle.HIGHEST_PROTOCOL)\n",
    "\n",
    "#with open('filename.pickle', 'rb') as handle:\n",
    "    #data = pickle.load(handle)"
   ]
  },
  {
   "cell_type": "code",
   "execution_count": 11,
   "metadata": {
    "ExecuteTime": {
     "end_time": "2022-08-22T13:03:04.507988Z",
     "start_time": "2022-08-22T13:03:04.499273Z"
    }
   },
   "outputs": [],
   "source": [
    "def get_mu_std(list_plant):    \n",
    "    x_list = []\n",
    "    y_list = []\n",
    "    for plant in list_plant:\n",
    "        posX = pd.read_csv(f\"../Experiment/{plant}/positive/Result/result_level1_filter.csv\")\n",
    "        posX = convert(posX) \n",
    "        x_list.append(posX)\n",
    "        posY = np.ones(posX.shape[0], dtype='float32')\n",
    "        posY = np_utils.to_categorical(posY, 2)    \n",
    "        y_list.append(posY)\n",
    "        negX = pd.read_csv(f\"../Experiment/{plant}/negative/Result/result_level1_filter.csv\")\n",
    "        negX = convert(negX)    \n",
    "        x_list.append(negX)\n",
    "        negY = np.zeros(negX.shape[0], dtype='float32')\n",
    "        negY = np_utils.to_categorical(negY, 2)        \n",
    "        y_list.append(negY)\n",
    "    Y = np.concatenate(y_list)        \n",
    "    X = pd.concat(x_list).reset_index(drop=True)\n",
    "    [feature, mu, std] = preprocessing(X, None, None)        \n",
    "    return [mu, std]"
   ]
  },
  {
   "cell_type": "code",
   "execution_count": 12,
   "metadata": {
    "ExecuteTime": {
     "end_time": "2022-08-22T13:24:53.191097Z",
     "start_time": "2022-08-22T13:03:09.254218Z"
    }
   },
   "outputs": [],
   "source": [
    "[mu, std] = get_mu_std(all_plant)"
   ]
  },
  {
   "cell_type": "markdown",
   "metadata": {
    "id": "5Ueqwrjc5ewu"
   },
   "source": [
    "## O.sativa"
   ]
  },
  {
   "cell_type": "code",
   "execution_count": 13,
   "metadata": {
    "ExecuteTime": {
     "end_time": "2022-08-22T13:29:16.340214Z",
     "start_time": "2022-08-22T13:24:53.196409Z"
    },
    "colab": {
     "base_uri": "https://localhost:8080/"
    },
    "executionInfo": {
     "elapsed": 658144,
     "status": "ok",
     "timestamp": 1655632401689,
     "user": {
      "displayName": "Ilia abolhasani",
      "userId": "05829853781998776186"
     },
     "user_tz": -270
    },
    "id": "RP1AlQ2VPCHz",
    "outputId": "80943c18-970d-4769-f524-4cac30491c6e"
   },
   "outputs": [],
   "source": [
    "load(plant=\"O.sativa\", mu=mu, std=std);"
   ]
  },
  {
   "cell_type": "markdown",
   "metadata": {
    "id": "Yqno44cv5iiY"
   },
   "source": [
    "## A.thaliana"
   ]
  },
  {
   "cell_type": "code",
   "execution_count": 14,
   "metadata": {
    "ExecuteTime": {
     "end_time": "2022-08-22T13:31:09.131144Z",
     "start_time": "2022-08-22T13:29:16.345453Z"
    },
    "colab": {
     "base_uri": "https://localhost:8080/"
    },
    "executionInfo": {
     "elapsed": 74865,
     "status": "ok",
     "timestamp": 1655632476543,
     "user": {
      "displayName": "Ilia abolhasani",
      "userId": "05829853781998776186"
     },
     "user_tz": -270
    },
    "id": "OB3UG8T4QwmB",
    "outputId": "6d21272f-fa48-4092-f466-0ec387fffe14"
   },
   "outputs": [],
   "source": [
    "load(plant=\"A.thaliana\", mu=mu, std=std);"
   ]
  },
  {
   "cell_type": "markdown",
   "metadata": {
    "id": "TlT1KSuI5mJX"
   },
   "source": [
    "## C.sinensis"
   ]
  },
  {
   "cell_type": "code",
   "execution_count": 15,
   "metadata": {
    "ExecuteTime": {
     "end_time": "2022-08-22T13:31:27.037657Z",
     "start_time": "2022-08-22T13:31:09.135274Z"
    },
    "colab": {
     "base_uri": "https://localhost:8080/"
    },
    "executionInfo": {
     "elapsed": 354197,
     "status": "ok",
     "timestamp": 1655632830715,
     "user": {
      "displayName": "Ilia abolhasani",
      "userId": "05829853781998776186"
     },
     "user_tz": -270
    },
    "id": "9FPW6VlKs1bK",
    "outputId": "341c2d64-db53-4a45-a698-880088ee52de"
   },
   "outputs": [],
   "source": [
    "load(plant=\"C.sinensis\", mu=mu, std=std);"
   ]
  },
  {
   "cell_type": "markdown",
   "metadata": {
    "id": "zKOjU6DD5oCk"
   },
   "source": [
    "## Z.mays"
   ]
  },
  {
   "cell_type": "code",
   "execution_count": 16,
   "metadata": {
    "ExecuteTime": {
     "end_time": "2022-08-22T13:32:05.045714Z",
     "start_time": "2022-08-22T13:31:27.041855Z"
    },
    "colab": {
     "base_uri": "https://localhost:8080/"
    },
    "executionInfo": {
     "elapsed": 500447,
     "status": "ok",
     "timestamp": 1655633331146,
     "user": {
      "displayName": "Ilia abolhasani",
      "userId": "05829853781998776186"
     },
     "user_tz": -270
    },
    "id": "46WuwgG0Ud8k",
    "outputId": "eaa997aa-aadf-4cdd-d9c5-34cfdb43fe83",
    "scrolled": true
   },
   "outputs": [],
   "source": [
    "load(plant=\"Z.mays\", mu=mu, std=std);"
   ]
  },
  {
   "cell_type": "markdown",
   "metadata": {},
   "source": [
    "## T.aestivum"
   ]
  },
  {
   "cell_type": "code",
   "execution_count": 17,
   "metadata": {
    "ExecuteTime": {
     "end_time": "2022-08-22T13:37:24.190841Z",
     "start_time": "2022-08-22T13:32:05.049234Z"
    }
   },
   "outputs": [],
   "source": [
    "load(plant=\"T.aestivum\", mu=mu, std=std);"
   ]
  },
  {
   "cell_type": "markdown",
   "metadata": {},
   "source": [
    "## G.max"
   ]
  },
  {
   "cell_type": "code",
   "execution_count": 18,
   "metadata": {
    "ExecuteTime": {
     "end_time": "2022-08-22T13:39:41.086611Z",
     "start_time": "2022-08-22T13:37:24.194458Z"
    }
   },
   "outputs": [],
   "source": [
    "load(plant=\"G.max\", mu=mu, std=std);"
   ]
  },
  {
   "cell_type": "markdown",
   "metadata": {},
   "source": [
    "## G.raimondii"
   ]
  },
  {
   "cell_type": "code",
   "execution_count": 19,
   "metadata": {
    "ExecuteTime": {
     "end_time": "2022-08-22T13:42:40.687148Z",
     "start_time": "2022-08-22T13:39:41.091817Z"
    }
   },
   "outputs": [],
   "source": [
    "load(plant=\"G.raimondii\", mu=mu, std=std);"
   ]
  },
  {
   "cell_type": "markdown",
   "metadata": {},
   "source": [
    "## M.truncatula"
   ]
  },
  {
   "cell_type": "code",
   "execution_count": 20,
   "metadata": {
    "ExecuteTime": {
     "end_time": "2022-08-22T13:44:45.502651Z",
     "start_time": "2022-08-22T13:42:40.691015Z"
    }
   },
   "outputs": [],
   "source": [
    "load(plant=\"M.truncatula\", mu=mu, std=std);"
   ]
  },
  {
   "cell_type": "markdown",
   "metadata": {},
   "source": [
    "## S.bicolor"
   ]
  },
  {
   "cell_type": "code",
   "execution_count": 21,
   "metadata": {
    "ExecuteTime": {
     "end_time": "2022-08-22T13:46:03.425524Z",
     "start_time": "2022-08-22T13:44:45.506848Z"
    }
   },
   "outputs": [],
   "source": [
    "load(plant=\"S.bicolor\", mu=mu, std=std);"
   ]
  },
  {
   "cell_type": "markdown",
   "metadata": {},
   "source": [
    "## H.vulgare"
   ]
  },
  {
   "cell_type": "code",
   "execution_count": 22,
   "metadata": {
    "ExecuteTime": {
     "end_time": "2022-08-22T13:46:20.550542Z",
     "start_time": "2022-08-22T13:46:03.429132Z"
    }
   },
   "outputs": [],
   "source": [
    "load(plant=\"H.vulgare\", mu=mu, std=std);"
   ]
  },
  {
   "cell_type": "code",
   "execution_count": 70,
   "metadata": {
    "ExecuteTime": {
     "end_time": "2022-08-22T15:32:13.220423Z",
     "start_time": "2022-08-22T15:32:13.212016Z"
    }
   },
   "outputs": [
    {
     "name": "stdout",
     "output_type": "stream",
     "text": [
      "O.sativa: 33152\n",
      "A.thaliana: 14338\n",
      "C.sinensis: 2234\n",
      "Z.mays: 4800\n",
      "T.aestivum: 40656\n",
      "G.max: 17477\n",
      "G.raimondii: 22697\n",
      "M.truncatula: 15912\n",
      "S.bicolor: 9838\n",
      "H.vulgare: 2185\n"
     ]
    }
   ],
   "source": [
    "for plant in all_plant:\n",
    "    print(f\"{plant}: {data[plant]['feature'].shape[0]}\")"
   ]
  },
  {
   "cell_type": "markdown",
   "metadata": {
    "id": "JNmcvnfJZhok"
   },
   "source": [
    "# Train Test split and class weight"
   ]
  },
  {
   "cell_type": "code",
   "execution_count": 56,
   "metadata": {
    "ExecuteTime": {
     "end_time": "2022-08-22T13:54:38.106820Z",
     "start_time": "2022-08-22T13:54:38.098408Z"
    }
   },
   "outputs": [],
   "source": [
    "def get_dataset(plant_list, val_size=0.33, random_state=0):\n",
    "    x_list = []\n",
    "    y_list = []\n",
    "    for plant in plant_list:\n",
    "        x_list.append(data[plant]['feature'])\n",
    "        y_list.append(data[plant]['target'])\n",
    "    X = pd.concat(x_list)\n",
    "    Y = np.concatenate(y_list)\n",
    "    X_train, X_val, y_train, y_val = train_test_split(X, Y, test_size=val_size, random_state=random_state)\n",
    "    class_weight = {\n",
    "        0: 1.,\n",
    "        1: (sum(y_train[:,0]) + sum(y_val[:,0])) / (sum(y_train[:,1]) + sum(y_val[:,1]))\n",
    "    }    \n",
    "    return [X_train, X_val, y_train, y_val, class_weight]"
   ]
  },
  {
   "cell_type": "code",
   "execution_count": 57,
   "metadata": {
    "ExecuteTime": {
     "end_time": "2022-08-22T13:54:38.339971Z",
     "start_time": "2022-08-22T13:54:38.335699Z"
    },
    "colab": {
     "base_uri": "https://localhost:8080/",
     "height": 405
    },
    "executionInfo": {
     "elapsed": 6838,
     "status": "ok",
     "timestamp": 1655669600865,
     "user": {
      "displayName": "Ilia abolhasani",
      "userId": "05829853781998776186"
     },
     "user_tz": -270
    },
    "id": "x_Nz7xSWl_As",
    "outputId": "296faf3f-c8e6-4bdc-f6ef-0d19428d00d9"
   },
   "outputs": [],
   "source": [
    "'''\n",
    "from sklearn.decomposition import PCA\n",
    "\n",
    "pca = PCA(n_components=X.shape[1])\n",
    "pca.fit_transform(X)\n",
    "cumsum = pca.explained_variance_ratio_.cumsum()\n",
    "d = np.where(cumsum>=0.9)[0][0] + 1\n",
    "print(f' d = {d}')\n",
    "\n",
    "plt.figure(figsize=(10,6))\n",
    "plt.plot(range(1,len(cumsum)+1), cumsum, linewidth=3)\n",
    "plt.plot(d, cumsum[d-1],'r*',markersize=15)\n",
    "plt.xlabel(\"variance\")\n",
    "plt.ylabel(\"N component\")\n",
    "plt.show()\n",
    "\n",
    "pca = PCA(n_components=53)\n",
    "X_pca = pca.fit_transform(X)\n",
    "''';"
   ]
  },
  {
   "cell_type": "markdown",
   "metadata": {
    "id": "-1L8jIc5WkbW"
   },
   "source": [
    "# Deep learning model"
   ]
  },
  {
   "cell_type": "code",
   "execution_count": 58,
   "metadata": {
    "ExecuteTime": {
     "end_time": "2022-08-22T13:54:38.731504Z",
     "start_time": "2022-08-22T13:54:38.723791Z"
    },
    "colab": {
     "base_uri": "https://localhost:8080/"
    },
    "executionInfo": {
     "elapsed": 950,
     "status": "ok",
     "timestamp": 1655667634792,
     "user": {
      "displayName": "Ilia abolhasani",
      "userId": "05829853781998776186"
     },
     "user_tz": -270
    },
    "id": "PTWcv4craZYB",
    "outputId": "8dbffa2a-b740-44d7-f880-5e2f45900a84"
   },
   "outputs": [],
   "source": [
    "def get_model(input_dimension, show=False):    \n",
    "    model = Sequential()\n",
    "    model.add(Input(shape=(input_dimension,)))\n",
    "    model.add(Dense(256, activation='relu'))\n",
    "    model.add(Dropout(0.33))    \n",
    "    model.add(Dense(128, activation='relu'))\n",
    "    model.add(Dropout(0.33))    \n",
    "    model.add(Dense(64, activation='relu'))\n",
    "    model.add(Dropout(0.33))    \n",
    "    model.add(Dense(16, activation='relu'))\n",
    "    model.add(Dense(2, activation='softmax'))\n",
    "    if(show):\n",
    "        print(model.summary())\n",
    "    return model    "
   ]
  },
  {
   "cell_type": "code",
   "execution_count": 80,
   "metadata": {
    "ExecuteTime": {
     "end_time": "2022-08-22T20:05:29.870387Z",
     "start_time": "2022-08-22T20:05:29.858968Z"
    },
    "colab": {
     "base_uri": "https://localhost:8080/"
    },
    "executionInfo": {
     "elapsed": 447493,
     "status": "ok",
     "timestamp": 1655473082392,
     "user": {
      "displayName": "Ilia abolhasani",
      "userId": "05829853781998776186"
     },
     "user_tz": -270
    },
    "id": "CusrPoF6atqa",
    "outputId": "633aa430-f43e-4965-beb7-f5a6f74378ff",
    "scrolled": false
   },
   "outputs": [],
   "source": [
    "def train(model, x_train, x_val, y_train, y_val, class_weight, batch_size = 64, epochs = 100, learning_rate = 0.002, save=False):\n",
    "    callbacks_list = [\n",
    "                      tf.keras.callbacks.EarlyStopping( monitor=\"val_loss\", patience=5, restore_best_weights=True),\n",
    "                     ]    \n",
    "    lr_schedule = tf.keras.optimizers.schedules.ExponentialDecay(\n",
    "        initial_learning_rate=learning_rate,\n",
    "        decay_steps=10000,\n",
    "        decay_rate=0.9)\n",
    "    \n",
    "    optimizer = tf.keras.optimizers.Adam(lr_schedule)    \n",
    "\n",
    "    model.compile(loss = \"categorical_crossentropy\",                \n",
    "                  optimizer=optimizer,\n",
    "                  metrics = [\"acc\"])\n",
    "    epochs = 100    \n",
    "    history = model.fit(x_train,\n",
    "                        y_train,\n",
    "                        class_weight=class_weight,\n",
    "                        batch_size=batch_size,\n",
    "                        validation_data=(x_val, y_val),\n",
    "                        epochs=epochs,\n",
    "                        callbacks=callbacks_list,\n",
    "                        use_multiprocessing=True,\n",
    "                        verbose=0) \n",
    "    if(save):\n",
    "        json.dump(str(history.history), open(f\"./history.pkl\", \"w\"))\n",
    "        model.save(f'./Model.h5')\n",
    "    return [model, history]"
   ]
  },
  {
   "cell_type": "code",
   "execution_count": 81,
   "metadata": {
    "ExecuteTime": {
     "end_time": "2022-08-22T20:05:30.412685Z",
     "start_time": "2022-08-22T20:05:30.403816Z"
    },
    "scrolled": true
   },
   "outputs": [],
   "source": [
    "def plot_history(history):\n",
    "    plt.figure(figsize=(15, 5))\n",
    "    plt.plot(history.history['acc'], linewidth=3)\n",
    "    plt.plot(history.history['val_acc'], linewidth=3)\n",
    "    plt.title('model accuracy')\n",
    "    plt.ylabel('accuracy')\n",
    "    plt.xlabel('epoch')\n",
    "    plt.legend(['train', 'val'], loc='upper left')\n",
    "    plt.show()\n",
    "\n",
    "    plt.figure(figsize=(15, 5))\n",
    "    plt.plot(history.history['loss'], linewidth=3)\n",
    "    plt.plot(history.history['val_loss'], linewidth=3)\n",
    "    plt.title('model loss')\n",
    "    plt.ylabel('loss')\n",
    "    plt.xlabel('epoch')\n",
    "    plt.legend(['train', 'val'])\n",
    "    plt.show()"
   ]
  },
  {
   "cell_type": "markdown",
   "metadata": {},
   "source": [
    "# Evaluation"
   ]
  },
  {
   "cell_type": "code",
   "execution_count": 82,
   "metadata": {
    "ExecuteTime": {
     "end_time": "2022-08-22T20:05:31.323633Z",
     "start_time": "2022-08-22T20:05:31.318191Z"
    }
   },
   "outputs": [],
   "source": [
    "def evaluation(plant):\n",
    "    y_true = np.argmax(data[plant]['target'], axis=1)\n",
    "    y_pred =  np.argmax(model.predict(data[plant]['feature']), axis=1)\n",
    "    confusion_matrix(y_true,y_pred,[\"No\",\"YES\"])\n",
    "    print(classification_report(y_true, y_pred))"
   ]
  },
  {
   "cell_type": "code",
   "execution_count": 83,
   "metadata": {
    "ExecuteTime": {
     "end_time": "2022-08-22T20:05:32.005591Z",
     "start_time": "2022-08-22T20:05:31.995297Z"
    }
   },
   "outputs": [],
   "source": [
    "def leave_one_out(plants):\n",
    "    result = {}\n",
    "    for i in range(0, len(plants)):\n",
    "        test_plant = plants[i]\n",
    "        train_plants = plants.copy()\n",
    "        train_plants.remove(test_plant)            \n",
    "        [x_train, x_val, y_train, y_val, class_weight] = get_dataset(train_plants)\n",
    "        model = get_model(x_train.shape[1])\n",
    "        [model, history] = train(model, x_train, x_val, y_train, y_val, class_weight, batch_size = 32, epochs = 100, learning_rate = 0.001)\n",
    "        y_true = np.argmax(data[test_plant]['target'], axis=1)\n",
    "        y_pred =  np.argmax(model.predict(data[test_plant]['feature']), axis=1)\n",
    "        result[test_plant] = {\n",
    "            \"accuracy\": metrics.accuracy_score(y_true, y_pred),\n",
    "            \"precision\": metrics.precision_score(y_true, y_pred),\n",
    "            \"recall\": metrics.recall_score(y_true, y_pred),\n",
    "            \"f1\": metrics.f1_score(y_true, y_pred),\n",
    "            \"model\": model,\n",
    "            \"history\": history\n",
    "        }\n",
    "    return result"
   ]
  },
  {
   "cell_type": "code",
   "execution_count": 84,
   "metadata": {
    "ExecuteTime": {
     "end_time": "2022-08-22T20:05:32.566104Z",
     "start_time": "2022-08-22T20:05:32.554649Z"
    }
   },
   "outputs": [],
   "source": [
    "def plot_metrics(result, plants, prefix_name=\"\"):\n",
    "    for metric in ['accuracy', 'precision', 'recall', 'f1']:\n",
    "        fig, ax = plt.subplots(figsize=(12, 3))    \n",
    "        y = [result[plant][metric] for plant in plants]\n",
    "        ax.bar(plants, y)\n",
    "        plt.title(\"Leave one out\")\n",
    "        plt.xlabel(\"plant\")\n",
    "        plt.ylabel(metric)\n",
    "        for i, v in enumerate(y):\n",
    "            ax.text(i - 0.2 , v - 0.1, str(round(v, 3)), color='red', fontweight='bold')\n",
    "        plt.savefig(os.path.join(f'{prefix_name}_leave_one_out_{metric}.svg'), dpi=300, format='svg', bbox_inches='tight')\n",
    "        plt.show()"
   ]
  },
  {
   "cell_type": "markdown",
   "metadata": {},
   "source": [
    "#  leave one out"
   ]
  },
  {
   "cell_type": "code",
   "execution_count": 64,
   "metadata": {
    "ExecuteTime": {
     "end_time": "2022-08-22T14:55:10.752646Z",
     "start_time": "2022-08-22T13:54:41.681671Z"
    },
    "scrolled": false
   },
   "outputs": [
    {
     "name": "stdout",
     "output_type": "stream",
     "text": [
      "1036/1036 [==============================] - 2s 2ms/step\n",
      "449/449 [==============================] - 1s 2ms/step\n",
      "70/70 [==============================] - 0s 2ms/step\n",
      "150/150 [==============================] - 0s 2ms/step\n",
      "1271/1271 [==============================] - 3s 2ms/step\n",
      "547/547 [==============================] - 1s 2ms/step\n",
      "710/710 [==============================] - 2s 2ms/step\n",
      "498/498 [==============================] - 1s 2ms/step\n",
      "308/308 [==============================] - 1s 2ms/step\n",
      "69/69 [==============================] - 0s 2ms/step\n"
     ]
    }
   ],
   "source": [
    "all_result = leave_one_out(all_plant)"
   ]
  },
  {
   "cell_type": "code",
   "execution_count": 79,
   "metadata": {
    "ExecuteTime": {
     "end_time": "2022-08-22T20:04:33.614091Z",
     "start_time": "2022-08-22T20:04:33.604602Z"
    }
   },
   "outputs": [
    {
     "data": {
      "text/plain": [
       "4.007616887601018"
      ]
     },
     "execution_count": 79,
     "metadata": {},
     "output_type": "execute_result"
    }
   ],
   "source": [
    "(pd.Series([all_result[key]['f1'] for key in all_result]) ** 2).sum()"
   ]
  },
  {
   "cell_type": "code",
   "execution_count": 66,
   "metadata": {
    "ExecuteTime": {
     "end_time": "2022-08-22T15:23:36.248342Z",
     "start_time": "2022-08-22T15:23:33.784161Z"
    },
    "scrolled": true
   },
   "outputs": [
    {
     "data": {
      "image/png": "[encoded data removed]",
      "text/plain": [
       "<Figure size 864x216 with 1 Axes>"
      ]
     },
     "metadata": {
      "needs_background": "light"
     },
     "output_type": "display_data"
    },
    {
     "data": {
      "image/png": "[encoded data removed]",
      "text/plain": [
       "<Figure size 864x216 with 1 Axes>"
      ]
     },
     "metadata": {
      "needs_background": "light"
     },
     "output_type": "display_data"
    },
    {
     "data": {
      "image/png": "[encoded data removed]",
      "text/plain": [
       "<Figure size 864x216 with 1 Axes>"
      ]
     },
     "metadata": {
      "needs_background": "light"
     },
     "output_type": "display_data"
    },
    {
     "data": {
      "image/png": "[encoded data removed]",
      "text/plain": [
       "<Figure size 864x216 with 1 Axes>"
      ]
     },
     "metadata": {
      "needs_background": "light"
     },
     "output_type": "display_data"
    }
   ],
   "source": [
    "plot_metrics(all_result, all_plant, prefix_name=\"\")"
   ]
  },
  {
   "cell_type": "markdown",
   "metadata": {
    "heading_collapsed": true
   },
   "source": [
    "# monocotiledoneas vs dicotiledoneas"
   ]
  },
  {
   "cell_type": "code",
   "execution_count": 245,
   "metadata": {
    "ExecuteTime": {
     "end_time": "2022-08-03T19:43:40.056639Z",
     "start_time": "2022-08-03T19:34:45.564666Z"
    },
    "hidden": true,
    "scrolled": true
   },
   "outputs": [
    {
     "name": "stdout",
     "output_type": "stream",
     "text": [
      "326\n",
      "Epoch 1/100\n",
      "286/286 [==============================] - 4s 7ms/step - loss: 0.6980 - acc: 0.8232 - val_loss: 0.0970 - val_acc: 0.9676\n",
      "Epoch 2/100\n",
      "286/286 [==============================] - 2s 6ms/step - loss: 0.2944 - acc: 0.9490 - val_loss: 0.1079 - val_acc: 0.9665\n",
      "Epoch 3/100\n",
      "286/286 [==============================] - 2s 6ms/step - loss: 0.1710 - acc: 0.9678 - val_loss: 0.0553 - val_acc: 0.9798\n",
      "Epoch 4/100\n",
      "286/286 [==============================] - 2s 6ms/step - loss: 0.1503 - acc: 0.9756 - val_loss: 0.0452 - val_acc: 0.9842\n",
      "Epoch 5/100\n",
      "286/286 [==============================] - 2s 6ms/step - loss: 0.1080 - acc: 0.9836 - val_loss: 0.0728 - val_acc: 0.9758\n",
      "Epoch 6/100\n",
      "286/286 [==============================] - 2s 6ms/step - loss: 0.1143 - acc: 0.9828 - val_loss: 0.0376 - val_acc: 0.9880\n",
      "Epoch 7/100\n",
      "286/286 [==============================] - 2s 6ms/step - loss: 0.0812 - acc: 0.9860 - val_loss: 0.0304 - val_acc: 0.9918\n",
      "Epoch 8/100\n",
      "286/286 [==============================] - 2s 6ms/step - loss: 0.0789 - acc: 0.9880 - val_loss: 0.0369 - val_acc: 0.9893\n",
      "Epoch 9/100\n",
      "286/286 [==============================] - 2s 6ms/step - loss: 0.0607 - acc: 0.9895 - val_loss: 0.0338 - val_acc: 0.9880\n",
      "Epoch 10/100\n",
      "286/286 [==============================] - 2s 6ms/step - loss: 0.0488 - acc: 0.9932 - val_loss: 0.0320 - val_acc: 0.9891\n",
      "Epoch 11/100\n",
      "286/286 [==============================] - 2s 6ms/step - loss: 0.0297 - acc: 0.9949 - val_loss: 0.0315 - val_acc: 0.9942\n",
      "Epoch 12/100\n",
      "286/286 [==============================] - 2s 6ms/step - loss: 0.0547 - acc: 0.9922 - val_loss: 0.0306 - val_acc: 0.9938\n",
      "1010/1010 [==============================] - 2s 2ms/step\n",
      "326\n",
      "Epoch 1/100\n",
      "947/947 [==============================] - 9s 7ms/step - loss: 0.8448 - acc: 0.8309 - val_loss: 0.1770 - val_acc: 0.9267\n",
      "Epoch 2/100\n",
      "947/947 [==============================] - 6s 6ms/step - loss: 0.4671 - acc: 0.9219 - val_loss: 0.1624 - val_acc: 0.9470\n",
      "Epoch 3/100\n",
      "947/947 [==============================] - 6s 6ms/step - loss: 0.3469 - acc: 0.9412 - val_loss: 0.1079 - val_acc: 0.9518\n",
      "Epoch 4/100\n",
      "947/947 [==============================] - 6s 6ms/step - loss: 0.3074 - acc: 0.9485 - val_loss: 0.0983 - val_acc: 0.9642\n",
      "Epoch 5/100\n",
      "947/947 [==============================] - 6s 6ms/step - loss: 0.2581 - acc: 0.9575 - val_loss: 0.0887 - val_acc: 0.9662\n",
      "Epoch 6/100\n",
      "947/947 [==============================] - 6s 6ms/step - loss: 0.2427 - acc: 0.9588 - val_loss: 0.0814 - val_acc: 0.9694\n",
      "Epoch 7/100\n",
      "947/947 [==============================] - 6s 6ms/step - loss: 0.2154 - acc: 0.9634 - val_loss: 0.0627 - val_acc: 0.9768\n",
      "Epoch 8/100\n",
      "947/947 [==============================] - 6s 6ms/step - loss: 0.1843 - acc: 0.9682 - val_loss: 0.0638 - val_acc: 0.9689\n",
      "Epoch 9/100\n",
      "947/947 [==============================] - 6s 6ms/step - loss: 0.1986 - acc: 0.9663 - val_loss: 0.0555 - val_acc: 0.9774\n",
      "Epoch 10/100\n",
      "947/947 [==============================] - 6s 6ms/step - loss: 0.1779 - acc: 0.9662 - val_loss: 0.0509 - val_acc: 0.9818\n",
      "Epoch 11/100\n",
      "947/947 [==============================] - 6s 6ms/step - loss: 0.1631 - acc: 0.9730 - val_loss: 0.0534 - val_acc: 0.9773\n",
      "Epoch 12/100\n",
      "947/947 [==============================] - 6s 6ms/step - loss: 0.1474 - acc: 0.9763 - val_loss: 0.0430 - val_acc: 0.9857\n",
      "Epoch 13/100\n",
      "947/947 [==============================] - 6s 6ms/step - loss: 0.1499 - acc: 0.9767 - val_loss: 0.0431 - val_acc: 0.9849\n",
      "Epoch 14/100\n",
      "947/947 [==============================] - 6s 6ms/step - loss: 0.1219 - acc: 0.9806 - val_loss: 0.0394 - val_acc: 0.9871\n",
      "Epoch 15/100\n",
      "947/947 [==============================] - 6s 6ms/step - loss: 0.1091 - acc: 0.9805 - val_loss: 0.0492 - val_acc: 0.9835\n",
      "Epoch 16/100\n",
      "947/947 [==============================] - 6s 6ms/step - loss: 0.1186 - acc: 0.9815 - val_loss: 0.0412 - val_acc: 0.9845\n",
      "Epoch 17/100\n",
      "947/947 [==============================] - 6s 6ms/step - loss: 0.1237 - acc: 0.9813 - val_loss: 0.0435 - val_acc: 0.9865\n",
      "Epoch 18/100\n",
      "947/947 [==============================] - 6s 6ms/step - loss: 0.1251 - acc: 0.9822 - val_loss: 0.0395 - val_acc: 0.9877\n",
      "Epoch 19/100\n",
      "947/947 [==============================] - 6s 6ms/step - loss: 0.0958 - acc: 0.9886 - val_loss: 0.0286 - val_acc: 0.9905\n",
      "Epoch 20/100\n",
      "947/947 [==============================] - 6s 6ms/step - loss: 0.0866 - acc: 0.9846 - val_loss: 0.0387 - val_acc: 0.9855\n",
      "Epoch 21/100\n",
      "947/947 [==============================] - 5s 6ms/step - loss: 0.0834 - acc: 0.9864 - val_loss: 0.0402 - val_acc: 0.9852\n",
      "Epoch 22/100\n",
      "947/947 [==============================] - 6s 6ms/step - loss: 0.0997 - acc: 0.9858 - val_loss: 0.0478 - val_acc: 0.9862\n",
      "Epoch 23/100\n",
      "947/947 [==============================] - 6s 6ms/step - loss: 0.0807 - acc: 0.9872 - val_loss: 0.0442 - val_acc: 0.9856\n",
      "Epoch 24/100\n",
      "947/947 [==============================] - 6s 6ms/step - loss: 0.1006 - acc: 0.9850 - val_loss: 0.0327 - val_acc: 0.9895\n",
      "23/23 [==============================] - 0s 2ms/step\n",
      "326\n",
      "Epoch 1/100\n",
      "928/928 [==============================] - 7s 6ms/step - loss: 0.7165 - acc: 0.8770 - val_loss: 0.2493 - val_acc: 0.9187\n",
      "Epoch 2/100\n",
      "928/928 [==============================] - 5s 6ms/step - loss: 0.3969 - acc: 0.9374 - val_loss: 0.1684 - val_acc: 0.9346\n",
      "Epoch 3/100\n",
      "928/928 [==============================] - 5s 6ms/step - loss: 0.3485 - acc: 0.9515 - val_loss: 0.0964 - val_acc: 0.9740\n",
      "Epoch 4/100\n",
      "928/928 [==============================] - 5s 6ms/step - loss: 0.2618 - acc: 0.9583 - val_loss: 0.0980 - val_acc: 0.9669\n",
      "Epoch 5/100\n",
      "928/928 [==============================] - 5s 6ms/step - loss: 0.2144 - acc: 0.9620 - val_loss: 0.0824 - val_acc: 0.9692\n",
      "Epoch 6/100\n",
      "928/928 [==============================] - 6s 6ms/step - loss: 0.2134 - acc: 0.9622 - val_loss: 0.0513 - val_acc: 0.9820\n",
      "Epoch 7/100\n",
      "928/928 [==============================] - 5s 6ms/step - loss: 0.1767 - acc: 0.9682 - val_loss: 0.0629 - val_acc: 0.9742\n",
      "Epoch 8/100\n",
      "928/928 [==============================] - 5s 6ms/step - loss: 0.1515 - acc: 0.9695 - val_loss: 0.0915 - val_acc: 0.9622\n",
      "Epoch 9/100\n",
      "928/928 [==============================] - 5s 6ms/step - loss: 0.1390 - acc: 0.9735 - val_loss: 0.0469 - val_acc: 0.9843\n",
      "Epoch 10/100\n",
      "928/928 [==============================] - 5s 6ms/step - loss: 0.1385 - acc: 0.9735 - val_loss: 0.0760 - val_acc: 0.9696\n",
      "Epoch 11/100\n",
      "928/928 [==============================] - 5s 6ms/step - loss: 0.1248 - acc: 0.9751 - val_loss: 0.0524 - val_acc: 0.9816\n",
      "Epoch 12/100\n",
      "928/928 [==============================] - 5s 6ms/step - loss: 0.1147 - acc: 0.9770 - val_loss: 0.0530 - val_acc: 0.9799\n",
      "Epoch 13/100\n",
      "928/928 [==============================] - 5s 6ms/step - loss: 0.1276 - acc: 0.9784 - val_loss: 0.0717 - val_acc: 0.9753\n",
      "Epoch 14/100\n",
      "928/928 [==============================] - 6s 6ms/step - loss: 0.1149 - acc: 0.9792 - val_loss: 0.0405 - val_acc: 0.9862\n",
      "Epoch 15/100\n",
      "928/928 [==============================] - 5s 6ms/step - loss: 0.0997 - acc: 0.9837 - val_loss: 0.0430 - val_acc: 0.9875\n",
      "Epoch 16/100\n",
      "928/928 [==============================] - 5s 6ms/step - loss: 0.0996 - acc: 0.9838 - val_loss: 0.0426 - val_acc: 0.9869\n",
      "Epoch 17/100\n",
      "928/928 [==============================] - 5s 6ms/step - loss: 0.0887 - acc: 0.9830 - val_loss: 0.0415 - val_acc: 0.9893\n",
      "Epoch 18/100\n",
      "928/928 [==============================] - 6s 6ms/step - loss: 0.0821 - acc: 0.9842 - val_loss: 0.0453 - val_acc: 0.9893\n",
      "Epoch 19/100\n",
      "928/928 [==============================] - 5s 6ms/step - loss: 0.0893 - acc: 0.9839 - val_loss: 0.0404 - val_acc: 0.9883\n",
      "Epoch 20/100\n",
      "928/928 [==============================] - 5s 6ms/step - loss: 0.0773 - acc: 0.9844 - val_loss: 0.0427 - val_acc: 0.9880\n",
      "Epoch 21/100\n",
      "928/928 [==============================] - 5s 6ms/step - loss: 0.0777 - acc: 0.9848 - val_loss: 0.0459 - val_acc: 0.9896\n",
      "Epoch 22/100\n",
      "928/928 [==============================] - 5s 6ms/step - loss: 0.0824 - acc: 0.9877 - val_loss: 0.0378 - val_acc: 0.9908\n",
      "Epoch 23/100\n",
      "928/928 [==============================] - 5s 6ms/step - loss: 0.0680 - acc: 0.9902 - val_loss: 0.0422 - val_acc: 0.9897\n",
      "Epoch 24/100\n",
      "928/928 [==============================] - 5s 6ms/step - loss: 0.0556 - acc: 0.9908 - val_loss: 0.0502 - val_acc: 0.9877\n",
      "Epoch 25/100\n",
      "928/928 [==============================] - 5s 6ms/step - loss: 0.0680 - acc: 0.9879 - val_loss: 0.0495 - val_acc: 0.9882\n",
      "Epoch 26/100\n",
      "928/928 [==============================] - 5s 6ms/step - loss: 0.0757 - acc: 0.9886 - val_loss: 0.0417 - val_acc: 0.9912\n",
      "Epoch 27/100\n",
      "928/928 [==============================] - 5s 6ms/step - loss: 0.0625 - acc: 0.9892 - val_loss: 0.0490 - val_acc: 0.9914\n",
      "53/53 [==============================] - 0s 2ms/step\n",
      "326\n",
      "Epoch 1/100\n",
      "733/733 [==============================] - 6s 7ms/step - loss: 0.7279 - acc: 0.8512 - val_loss: 0.1704 - val_acc: 0.9359\n",
      "Epoch 2/100\n",
      "733/733 [==============================] - 4s 6ms/step - loss: 0.4114 - acc: 0.9282 - val_loss: 0.1114 - val_acc: 0.9598\n",
      "Epoch 3/100\n",
      "733/733 [==============================] - 4s 6ms/step - loss: 0.3294 - acc: 0.9478 - val_loss: 0.0970 - val_acc: 0.9674\n",
      "Epoch 4/100\n",
      "733/733 [==============================] - 4s 6ms/step - loss: 0.2548 - acc: 0.9559 - val_loss: 0.0965 - val_acc: 0.9616\n",
      "Epoch 5/100\n",
      "733/733 [==============================] - 4s 6ms/step - loss: 0.2209 - acc: 0.9617 - val_loss: 0.0694 - val_acc: 0.9757\n",
      "Epoch 6/100\n",
      "733/733 [==============================] - 4s 6ms/step - loss: 0.1824 - acc: 0.9669 - val_loss: 0.0558 - val_acc: 0.9814\n",
      "Epoch 7/100\n",
      "733/733 [==============================] - 4s 6ms/step - loss: 0.1530 - acc: 0.9705 - val_loss: 0.0705 - val_acc: 0.9706\n",
      "Epoch 8/100\n",
      "733/733 [==============================] - 4s 6ms/step - loss: 0.1518 - acc: 0.9683 - val_loss: 0.0731 - val_acc: 0.9713\n",
      "Epoch 9/100\n",
      "733/733 [==============================] - 4s 6ms/step - loss: 0.1293 - acc: 0.9716 - val_loss: 0.0577 - val_acc: 0.9752\n",
      "Epoch 10/100\n",
      "733/733 [==============================] - 4s 6ms/step - loss: 0.1257 - acc: 0.9791 - val_loss: 0.0465 - val_acc: 0.9843\n",
      "Epoch 11/100\n",
      "733/733 [==============================] - 4s 6ms/step - loss: 0.1042 - acc: 0.9806 - val_loss: 0.0381 - val_acc: 0.9883\n",
      "Epoch 12/100\n",
      "733/733 [==============================] - 4s 6ms/step - loss: 0.0913 - acc: 0.9813 - val_loss: 0.0499 - val_acc: 0.9827\n",
      "Epoch 13/100\n",
      "733/733 [==============================] - 4s 6ms/step - loss: 0.1224 - acc: 0.9809 - val_loss: 0.0547 - val_acc: 0.9840\n",
      "Epoch 14/100\n",
      "733/733 [==============================] - 4s 6ms/step - loss: 0.0994 - acc: 0.9833 - val_loss: 0.0395 - val_acc: 0.9876\n",
      "Epoch 15/100\n",
      "733/733 [==============================] - 4s 6ms/step - loss: 0.0747 - acc: 0.9846 - val_loss: 0.0382 - val_acc: 0.9871\n",
      "Epoch 16/100\n",
      "733/733 [==============================] - 4s 6ms/step - loss: 0.0782 - acc: 0.9878 - val_loss: 0.0421 - val_acc: 0.9862\n",
      "343/343 [==============================] - 1s 2ms/step\n",
      "326\n",
      "Epoch 1/100\n",
      "957/957 [==============================] - 8s 6ms/step - loss: 0.7300 - acc: 0.8586 - val_loss: 0.1617 - val_acc: 0.9641\n",
      "Epoch 2/100\n",
      "957/957 [==============================] - 6s 6ms/step - loss: 0.4219 - acc: 0.9352 - val_loss: 0.1317 - val_acc: 0.9704\n",
      "Epoch 3/100\n",
      "957/957 [==============================] - 6s 6ms/step - loss: 0.3045 - acc: 0.9534 - val_loss: 0.1373 - val_acc: 0.9592\n",
      "Epoch 4/100\n",
      "957/957 [==============================] - 6s 6ms/step - loss: 0.2501 - acc: 0.9583 - val_loss: 0.0793 - val_acc: 0.9714\n",
      "Epoch 5/100\n",
      "957/957 [==============================] - 6s 6ms/step - loss: 0.2267 - acc: 0.9614 - val_loss: 0.1455 - val_acc: 0.9468\n",
      "Epoch 6/100\n",
      "957/957 [==============================] - 6s 6ms/step - loss: 0.1998 - acc: 0.9663 - val_loss: 0.0702 - val_acc: 0.9824\n",
      "Epoch 7/100\n",
      "957/957 [==============================] - 6s 6ms/step - loss: 0.1634 - acc: 0.9701 - val_loss: 0.0663 - val_acc: 0.9733\n",
      "Epoch 8/100\n",
      "957/957 [==============================] - 6s 6ms/step - loss: 0.1459 - acc: 0.9713 - val_loss: 0.0476 - val_acc: 0.9853\n",
      "Epoch 9/100\n",
      "957/957 [==============================] - 6s 6ms/step - loss: 0.1562 - acc: 0.9734 - val_loss: 0.0472 - val_acc: 0.9838\n",
      "Epoch 10/100\n",
      "957/957 [==============================] - 6s 6ms/step - loss: 0.1334 - acc: 0.9778 - val_loss: 0.0571 - val_acc: 0.9828\n",
      "Epoch 11/100\n",
      "957/957 [==============================] - 6s 6ms/step - loss: 0.1267 - acc: 0.9790 - val_loss: 0.0387 - val_acc: 0.9880\n",
      "Epoch 12/100\n",
      "957/957 [==============================] - 6s 6ms/step - loss: 0.1363 - acc: 0.9790 - val_loss: 0.0485 - val_acc: 0.9851\n",
      "Epoch 13/100\n",
      "957/957 [==============================] - 6s 6ms/step - loss: 0.0965 - acc: 0.9813 - val_loss: 0.0360 - val_acc: 0.9862\n",
      "Epoch 14/100\n",
      "957/957 [==============================] - 6s 6ms/step - loss: 0.1126 - acc: 0.9809 - val_loss: 0.0364 - val_acc: 0.9875\n",
      "Epoch 15/100\n",
      "957/957 [==============================] - 6s 6ms/step - loss: 0.1091 - acc: 0.9788 - val_loss: 0.0645 - val_acc: 0.9710\n",
      "Epoch 16/100\n",
      "957/957 [==============================] - 6s 6ms/step - loss: 0.1073 - acc: 0.9797 - val_loss: 0.0468 - val_acc: 0.9873\n",
      "Epoch 17/100\n",
      "957/957 [==============================] - 6s 6ms/step - loss: 0.0763 - acc: 0.9873 - val_loss: 0.0355 - val_acc: 0.9888\n",
      "Epoch 18/100\n",
      "957/957 [==============================] - 6s 6ms/step - loss: 0.0769 - acc: 0.9877 - val_loss: 0.0515 - val_acc: 0.9863\n",
      "Epoch 19/100\n",
      "957/957 [==============================] - 6s 6ms/step - loss: 0.0833 - acc: 0.9866 - val_loss: 0.0382 - val_acc: 0.9879\n",
      "Epoch 20/100\n",
      "957/957 [==============================] - 6s 6ms/step - loss: 0.0743 - acc: 0.9875 - val_loss: 0.0275 - val_acc: 0.9920\n",
      "Epoch 21/100\n",
      "957/957 [==============================] - 6s 6ms/step - loss: 0.0756 - acc: 0.9861 - val_loss: 0.0318 - val_acc: 0.9910\n",
      "Epoch 22/100\n",
      "957/957 [==============================] - 6s 6ms/step - loss: 0.0700 - acc: 0.9883 - val_loss: 0.0312 - val_acc: 0.9921\n",
      "Epoch 23/100\n",
      "957/957 [==============================] - 6s 6ms/step - loss: 0.0528 - acc: 0.9896 - val_loss: 0.0297 - val_acc: 0.9929\n",
      "Epoch 24/100\n",
      "957/957 [==============================] - 6s 6ms/step - loss: 0.0604 - acc: 0.9903 - val_loss: 0.0284 - val_acc: 0.9940\n",
      "Epoch 25/100\n",
      "957/957 [==============================] - 6s 6ms/step - loss: 0.0690 - acc: 0.9911 - val_loss: 0.0406 - val_acc: 0.9890\n",
      "9/9 [==============================] - 0s 3ms/step\n"
     ]
    }
   ],
   "source": [
    "monocotiledoneas = [\n",
    "    \"O.sativa\",        \n",
    "    \"Z.mays\",\n",
    "    \"T.aestivum\",            \n",
    "    \"S.bicolor\",\n",
    "    \"H.vulgare\"\n",
    "]\n",
    "\n",
    "mono_result = leave_one_out(monocotiledoneas)"
   ]
  },
  {
   "cell_type": "code",
   "execution_count": 246,
   "metadata": {
    "ExecuteTime": {
     "end_time": "2022-08-03T19:43:42.023165Z",
     "start_time": "2022-08-03T19:43:40.061274Z"
    },
    "hidden": true
   },
   "outputs": [
    {
     "data": {
      "image/png": "[encoded data removed]",
      "text/plain": [
       "<Figure size 864x216 with 1 Axes>"
      ]
     },
     "metadata": {
      "needs_background": "light"
     },
     "output_type": "display_data"
    },
    {
     "data": {
      "image/png": "[encoded data removed]",
      "text/plain": [
       "<Figure size 864x216 with 1 Axes>"
      ]
     },
     "metadata": {
      "needs_background": "light"
     },
     "output_type": "display_data"
    },
    {
     "data": {
      "image/png": "[encoded data removed]",
      "text/plain": [
       "<Figure size 864x216 with 1 Axes>"
      ]
     },
     "metadata": {
      "needs_background": "light"
     },
     "output_type": "display_data"
    },
    {
     "data": {
      "image/png": "[encoded data removed]",
      "text/plain": [
       "<Figure size 864x216 with 1 Axes>"
      ]
     },
     "metadata": {
      "needs_background": "light"
     },
     "output_type": "display_data"
    }
   ],
   "source": [
    "plot_metrics(mono_result, monocotiledoneas, prefix_name=\"\")"
   ]
  },
  {
   "cell_type": "code",
   "execution_count": null,
   "metadata": {
    "hidden": true
   },
   "outputs": [],
   "source": [
    "dicotiledoneas = [    \n",
    "    \"A.thaliana\",\n",
    "    \"C.Sinensis\",        \n",
    "    \"G.max\",\n",
    "    \"G.raimondii\",\n",
    "    \"M.truncatula\"    \n",
    "]\n",
    "di_result = leave_one_out(dicotiledoneas)"
   ]
  },
  {
   "cell_type": "markdown",
   "metadata": {
    "heading_collapsed": true,
    "hidden": true,
    "id": "3kmGEcGV9Ivg"
   },
   "source": [
    "## O.sativa"
   ]
  },
  {
   "cell_type": "code",
   "execution_count": 178,
   "metadata": {
    "ExecuteTime": {
     "end_time": "2022-08-02T11:49:53.912672Z",
     "start_time": "2022-08-02T11:49:49.921570Z"
    },
    "colab": {
     "background_save": true
    },
    "hidden": true,
    "id": "me4nwgwQdK2g",
    "outputId": "295d8bb2-485a-4ab7-c8e1-b51b5484acc9"
   },
   "outputs": [
    {
     "name": "stdout",
     "output_type": "stream",
     "text": [
      "1010/1010 [==============================] - 2s 2ms/step\n"
     ]
    },
    {
     "data": {
      "image/png": "[encoded data removed]",
      "text/plain": [
       "<Figure size 432x288 with 2 Axes>"
      ]
     },
     "metadata": {
      "needs_background": "light"
     },
     "output_type": "display_data"
    },
    {
     "name": "stdout",
     "output_type": "stream",
     "text": [
      "              precision    recall  f1-score   support\n",
      "\n",
      "           0       1.00      0.99      1.00     30888\n",
      "           1       0.88      0.97      0.93      1419\n",
      "\n",
      "    accuracy                           0.99     32307\n",
      "   macro avg       0.94      0.98      0.96     32307\n",
      "weighted avg       0.99      0.99      0.99     32307\n",
      "\n"
     ]
    }
   ],
   "source": [
    "evaluation('O.sativa')"
   ]
  },
  {
   "cell_type": "markdown",
   "metadata": {
    "heading_collapsed": true,
    "hidden": true,
    "id": "91OMgy_pThZz"
   },
   "source": [
    "## A.thaliana"
   ]
  },
  {
   "cell_type": "code",
   "execution_count": 179,
   "metadata": {
    "ExecuteTime": {
     "end_time": "2022-08-02T11:49:55.521852Z",
     "start_time": "2022-08-02T11:49:53.916405Z"
    },
    "colab": {
     "base_uri": "https://localhost:8080/",
     "height": 538
    },
    "executionInfo": {
     "elapsed": 31527,
     "status": "ok",
     "timestamp": 1655673353129,
     "user": {
      "displayName": "Ilia abolhasani",
      "userId": "05829853781998776186"
     },
     "user_tz": -270
    },
    "hidden": true,
    "id": "xNA4Gq-8U88p",
    "outputId": "584d531d-e536-45ea-bf61-67f1bae8c43f",
    "scrolled": true
   },
   "outputs": [
    {
     "name": "stdout",
     "output_type": "stream",
     "text": [
      "350/350 [==============================] - 1s 2ms/step\n"
     ]
    },
    {
     "data": {
      "image/png": "[encoded data removed]",
      "text/plain": [
       "<Figure size 432x288 with 2 Axes>"
      ]
     },
     "metadata": {
      "needs_background": "light"
     },
     "output_type": "display_data"
    },
    {
     "name": "stdout",
     "output_type": "stream",
     "text": [
      "              precision    recall  f1-score   support\n",
      "\n",
      "           0       1.00      0.99      1.00     10347\n",
      "           1       0.93      0.99      0.96       847\n",
      "\n",
      "    accuracy                           0.99     11194\n",
      "   macro avg       0.97      0.99      0.98     11194\n",
      "weighted avg       0.99      0.99      0.99     11194\n",
      "\n"
     ]
    }
   ],
   "source": [
    "evaluation('A.thaliana')"
   ]
  },
  {
   "cell_type": "code",
   "execution_count": 180,
   "metadata": {
    "ExecuteTime": {
     "end_time": "2022-08-02T11:49:57.076127Z",
     "start_time": "2022-08-02T11:49:55.525975Z"
    },
    "hidden": true
   },
   "outputs": [
    {
     "name": "stdout",
     "output_type": "stream",
     "text": [
      "350/350 [==============================] - 1s 2ms/step\n"
     ]
    },
    {
     "data": {
      "image/png": "[encoded data removed]",
      "text/plain": [
       "<Figure size 432x288 with 2 Axes>"
      ]
     },
     "metadata": {
      "needs_background": "light"
     },
     "output_type": "display_data"
    },
    {
     "name": "stdout",
     "output_type": "stream",
     "text": [
      "              precision    recall  f1-score   support\n",
      "\n",
      "           0       1.00      0.99      1.00     10347\n",
      "           1       0.93      0.99      0.96       847\n",
      "\n",
      "    accuracy                           0.99     11194\n",
      "   macro avg       0.97      0.99      0.98     11194\n",
      "weighted avg       0.99      0.99      0.99     11194\n",
      "\n"
     ]
    }
   ],
   "source": [
    "plant = 'A.thaliana'\n",
    "y_true = np.argmax(data[plant]['target'], axis=1)\n",
    "y_pred =  np.argmax(model.predict(data[plant]['feature']), axis=1)\n",
    "confusion_matrix(y_true,y_pred,[\"No\",\"YES\"])\n",
    "print(classification_report(y_true, y_pred))"
   ]
  },
  {
   "cell_type": "markdown",
   "metadata": {
    "heading_collapsed": true,
    "hidden": true,
    "id": "jrOyXg2_qjPo"
   },
   "source": [
    "## C.Sinensis"
   ]
  },
  {
   "cell_type": "code",
   "execution_count": 181,
   "metadata": {
    "ExecuteTime": {
     "end_time": "2022-08-02T11:49:57.795549Z",
     "start_time": "2022-08-02T11:49:57.080272Z"
    },
    "colab": {
     "base_uri": "https://localhost:8080/",
     "height": 538
    },
    "executionInfo": {
     "elapsed": 2069,
     "status": "ok",
     "timestamp": 1655637593518,
     "user": {
      "displayName": "Ilia abolhasani",
      "userId": "05829853781998776186"
     },
     "user_tz": -270
    },
    "hidden": true,
    "id": "QaKPNj6Kqk5P",
    "outputId": "7d09cc33-396e-4464-a5cd-72f34fedc74c"
   },
   "outputs": [
    {
     "name": "stdout",
     "output_type": "stream",
     "text": [
      "70/70 [==============================] - 0s 2ms/step\n"
     ]
    },
    {
     "data": {
      "image/png": "[encoded data removed]",
      "text/plain": [
       "<Figure size 432x288 with 2 Axes>"
      ]
     },
     "metadata": {
      "needs_background": "light"
     },
     "output_type": "display_data"
    },
    {
     "name": "stdout",
     "output_type": "stream",
     "text": [
      "              precision    recall  f1-score   support\n",
      "\n",
      "           0       1.00      0.99      0.99      1672\n",
      "           1       0.97      1.00      0.98       540\n",
      "\n",
      "    accuracy                           0.99      2212\n",
      "   macro avg       0.98      0.99      0.99      2212\n",
      "weighted avg       0.99      0.99      0.99      2212\n",
      "\n"
     ]
    }
   ],
   "source": [
    "evaluation('C.Sinensis')"
   ]
  },
  {
   "cell_type": "markdown",
   "metadata": {
    "heading_collapsed": true,
    "hidden": true,
    "id": "z7xpiDQCdqdH"
   },
   "source": [
    "## Z.mays"
   ]
  },
  {
   "cell_type": "code",
   "execution_count": 182,
   "metadata": {
    "ExecuteTime": {
     "end_time": "2022-08-02T11:49:58.358499Z",
     "start_time": "2022-08-02T11:49:57.798878Z"
    },
    "colab": {
     "base_uri": "https://localhost:8080/",
     "height": 538
    },
    "executionInfo": {
     "elapsed": 3017,
     "status": "ok",
     "timestamp": 1655637599771,
     "user": {
      "displayName": "Ilia abolhasani",
      "userId": "05829853781998776186"
     },
     "user_tz": -270
    },
    "hidden": true,
    "id": "VqbZ9DJ1gLqc",
    "outputId": "1a559363-5e23-4e55-c238-35e96ec739b2"
   },
   "outputs": [
    {
     "name": "stdout",
     "output_type": "stream",
     "text": [
      "23/23 [==============================] - 0s 2ms/step\n"
     ]
    },
    {
     "data": {
      "image/png": "[encoded data removed]",
      "text/plain": [
       "<Figure size 432x288 with 2 Axes>"
      ]
     },
     "metadata": {
      "needs_background": "light"
     },
     "output_type": "display_data"
    },
    {
     "name": "stdout",
     "output_type": "stream",
     "text": [
      "              precision    recall  f1-score   support\n",
      "\n",
      "           0       1.00      1.00      1.00       110\n",
      "           1       1.00      1.00      1.00       625\n",
      "\n",
      "    accuracy                           1.00       735\n",
      "   macro avg       1.00      1.00      1.00       735\n",
      "weighted avg       1.00      1.00      1.00       735\n",
      "\n"
     ]
    }
   ],
   "source": [
    "evaluation('Z.mays')"
   ]
  },
  {
   "cell_type": "markdown",
   "metadata": {
    "heading_collapsed": true,
    "hidden": true
   },
   "source": [
    "## T.aestivum"
   ]
  },
  {
   "cell_type": "code",
   "execution_count": 183,
   "metadata": {
    "ExecuteTime": {
     "end_time": "2022-08-02T11:49:59.016460Z",
     "start_time": "2022-08-02T11:49:58.361758Z"
    },
    "hidden": true
   },
   "outputs": [
    {
     "name": "stdout",
     "output_type": "stream",
     "text": [
      "53/53 [==============================] - 0s 2ms/step\n"
     ]
    },
    {
     "data": {
      "image/png": "[encoded data removed]",
      "text/plain": [
       "<Figure size 432x288 with 2 Axes>"
      ]
     },
     "metadata": {
      "needs_background": "light"
     },
     "output_type": "display_data"
    },
    {
     "name": "stdout",
     "output_type": "stream",
     "text": [
      "              precision    recall  f1-score   support\n",
      "\n",
      "           0       1.00      0.99      1.00      1264\n",
      "           1       0.97      1.00      0.99       421\n",
      "\n",
      "    accuracy                           0.99      1685\n",
      "   macro avg       0.99      0.99      0.99      1685\n",
      "weighted avg       0.99      0.99      0.99      1685\n",
      "\n"
     ]
    }
   ],
   "source": [
    "evaluation('T.aestivum')"
   ]
  },
  {
   "cell_type": "markdown",
   "metadata": {
    "heading_collapsed": true,
    "hidden": true,
    "id": "5pASyNqygete"
   },
   "source": [
    "## G.max"
   ]
  },
  {
   "cell_type": "code",
   "execution_count": 184,
   "metadata": {
    "ExecuteTime": {
     "end_time": "2022-08-02T11:50:02.832336Z",
     "start_time": "2022-08-02T11:49:59.019919Z"
    },
    "hidden": true
   },
   "outputs": [
    {
     "name": "stdout",
     "output_type": "stream",
     "text": [
      "993/993 [==============================] - 2s 2ms/step\n"
     ]
    },
    {
     "data": {
      "image/png": "[encoded data removed]",
      "text/plain": [
       "<Figure size 432x288 with 2 Axes>"
      ]
     },
     "metadata": {
      "needs_background": "light"
     },
     "output_type": "display_data"
    },
    {
     "name": "stdout",
     "output_type": "stream",
     "text": [
      "              precision    recall  f1-score   support\n",
      "\n",
      "           0       1.00      0.99      1.00     30635\n",
      "           1       0.80      0.98      0.88      1115\n",
      "\n",
      "    accuracy                           0.99     31750\n",
      "   macro avg       0.90      0.99      0.94     31750\n",
      "weighted avg       0.99      0.99      0.99     31750\n",
      "\n"
     ]
    }
   ],
   "source": [
    "evaluation('G.max')"
   ]
  },
  {
   "cell_type": "markdown",
   "metadata": {
    "heading_collapsed": true,
    "hidden": true
   },
   "source": [
    "## G.raimondii"
   ]
  },
  {
   "cell_type": "code",
   "execution_count": 185,
   "metadata": {
    "ExecuteTime": {
     "end_time": "2022-08-02T11:50:05.530973Z",
     "start_time": "2022-08-02T11:50:02.837731Z"
    },
    "hidden": true
   },
   "outputs": [
    {
     "name": "stdout",
     "output_type": "stream",
     "text": [
      "689/689 [==============================] - 2s 2ms/step\n"
     ]
    },
    {
     "data": {
      "image/png": "[encoded data removed]",
      "text/plain": [
       "<Figure size 432x288 with 2 Axes>"
      ]
     },
     "metadata": {
      "needs_background": "light"
     },
     "output_type": "display_data"
    },
    {
     "name": "stdout",
     "output_type": "stream",
     "text": [
      "              precision    recall  f1-score   support\n",
      "\n",
      "           0       1.00      0.99      1.00     21208\n",
      "           1       0.83      0.99      0.90       822\n",
      "\n",
      "    accuracy                           0.99     22030\n",
      "   macro avg       0.91      0.99      0.95     22030\n",
      "weighted avg       0.99      0.99      0.99     22030\n",
      "\n"
     ]
    }
   ],
   "source": [
    "evaluation('G.raimondii')"
   ]
  },
  {
   "cell_type": "markdown",
   "metadata": {
    "hidden": true
   },
   "source": [
    "## M.truncatula"
   ]
  },
  {
   "cell_type": "code",
   "execution_count": 186,
   "metadata": {
    "ExecuteTime": {
     "end_time": "2022-08-02T11:50:07.372800Z",
     "start_time": "2022-08-02T11:50:05.534431Z"
    },
    "hidden": true
   },
   "outputs": [
    {
     "name": "stdout",
     "output_type": "stream",
     "text": [
      "426/426 [==============================] - 1s 2ms/step\n"
     ]
    },
    {
     "data": {
      "image/png": "[encoded data removed]",
      "text/plain": [
       "<Figure size 432x288 with 2 Axes>"
      ]
     },
     "metadata": {
      "needs_background": "light"
     },
     "output_type": "display_data"
    },
    {
     "name": "stdout",
     "output_type": "stream",
     "text": [
      "              precision    recall  f1-score   support\n",
      "\n",
      "           0       0.99      0.92      0.95     12656\n",
      "           1       0.46      0.83      0.59       971\n",
      "\n",
      "    accuracy                           0.92     13627\n",
      "   macro avg       0.72      0.88      0.77     13627\n",
      "weighted avg       0.95      0.92      0.93     13627\n",
      "\n"
     ]
    }
   ],
   "source": [
    "evaluation('M.truncatula')"
   ]
  },
  {
   "cell_type": "markdown",
   "metadata": {
    "heading_collapsed": true
   },
   "source": [
    "# S.bicolor"
   ]
  },
  {
   "cell_type": "code",
   "execution_count": 190,
   "metadata": {
    "ExecuteTime": {
     "end_time": "2022-08-03T14:15:11.305695Z",
     "start_time": "2022-08-03T14:15:08.504645Z"
    },
    "hidden": true
   },
   "outputs": [
    {
     "name": "stdout",
     "output_type": "stream",
     "text": [
      "343/343 [==============================] - 1s 2ms/step\n"
     ]
    },
    {
     "data": {
      "image/png": "[encoded data removed]",
      "text/plain": [
       "<Figure size 432x288 with 2 Axes>"
      ]
     },
     "metadata": {
      "needs_background": "light"
     },
     "output_type": "display_data"
    },
    {
     "name": "stdout",
     "output_type": "stream",
     "text": [
      "              precision    recall  f1-score   support\n",
      "\n",
      "           0       0.99      0.96      0.98     10437\n",
      "           1       0.54      0.88      0.67       528\n",
      "\n",
      "    accuracy                           0.96     10965\n",
      "   macro avg       0.77      0.92      0.82     10965\n",
      "weighted avg       0.97      0.96      0.96     10965\n",
      "\n"
     ]
    }
   ],
   "source": [
    "evaluation('S.bicolor')"
   ]
  },
  {
   "cell_type": "markdown",
   "metadata": {},
   "source": [
    "# H.vulgare"
   ]
  },
  {
   "cell_type": "code",
   "execution_count": 191,
   "metadata": {
    "ExecuteTime": {
     "end_time": "2022-08-03T14:15:15.645837Z",
     "start_time": "2022-08-03T14:15:15.116974Z"
    }
   },
   "outputs": [
    {
     "name": "stdout",
     "output_type": "stream",
     "text": [
      "9/9 [==============================] - 0s 3ms/step\n"
     ]
    },
    {
     "data": {
      "image/png": "[encoded data removed]",
      "text/plain": [
       "<Figure size 432x288 with 2 Axes>"
      ]
     },
     "metadata": {
      "needs_background": "light"
     },
     "output_type": "display_data"
    },
    {
     "name": "stdout",
     "output_type": "stream",
     "text": [
      "              precision    recall  f1-score   support\n",
      "\n",
      "           0       0.95      0.88      0.91       236\n",
      "           1       0.45      0.68      0.54        34\n",
      "\n",
      "    accuracy                           0.86       270\n",
      "   macro avg       0.70      0.78      0.73       270\n",
      "weighted avg       0.89      0.86      0.87       270\n",
      "\n"
     ]
    }
   ],
   "source": [
    "evaluation('H.vulgare')"
   ]
  },
  {
   "cell_type": "code",
   "execution_count": null,
   "metadata": {},
   "outputs": [],
   "source": [
    "'''\n",
    "fig = plt.subplots(figsize =(12, 8))\n",
    "barWidth = 0.2\n",
    "\n",
    "accuracy = [result[plant][\"accuracy\"] for plant in all_plant]\n",
    "precision = [result[plant][\"precision\"] for plant in all_plant]\n",
    "recall = [result[plant][\"recall\"] for plant in all_plant]\n",
    "f1 = [result[plant][\"f1\"] for plant in all_plant]\n",
    " \n",
    "br1 = np.arange(len(accuracy))\n",
    "br2 = [x + barWidth for x in br1]\n",
    "br3 = [x + barWidth for x in br2]\n",
    "br4 = [x + barWidth for x in br3]\n",
    " \n",
    "plt.bar(br1, accuracy, color ='r', width = barWidth, edgecolor ='grey', label ='accuracy')\n",
    "plt.bar(br2, precision, color ='g', width = barWidth, edgecolor ='grey', label ='precision')\n",
    "plt.bar(br3, recall, color ='b', width = barWidth, edgecolor ='grey', label ='recall')\n",
    "plt.bar(br4, f1, color ='c', width = barWidth, edgecolor ='grey', label ='f1')\n",
    " \n",
    "label = [\". \".join(i.split(\".\")) for i in all_plant]\n",
    "plt.xlabel('Plant', fontweight ='bold', fontsize = 15)\n",
    "plt.ylabel('Score', fontweight ='bold', fontsize = 15)\n",
    "plt.xticks(pd.Series(br3)-0.1, label)\n",
    "\n",
    "plt.legend()\n",
    "plt.show()\n",
    "''';"
   ]
  }
 ],
 "metadata": {
  "colab": {
   "collapsed_sections": [
    "qyC8IFwrWkag",
    "bdbqIS-UWka4",
    "5Ueqwrjc5ewu",
    "Yqno44cv5iiY",
    "TlT1KSuI5mJX",
    "zKOjU6DD5oCk",
    "JNmcvnfJZhok",
    "-1L8jIc5WkbW"
   ],
   "name": "Classification.ipynb",
   "provenance": []
  },
  "kernelspec": {
   "display_name": "Python 3",
   "language": "python",
   "name": "python3"
  },
  "language_info": {
   "codemirror_mode": {
    "name": "ipython",
    "version": 3
   },
   "file_extension": ".py",
   "mimetype": "text/x-python",
   "name": "python",
   "nbconvert_exporter": "python",
   "pygments_lexer": "ipython3",
   "version": "3.8.10"
  }
 },
 "nbformat": 4,
 "nbformat_minor": 1
}
