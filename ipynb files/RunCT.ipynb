{
 "cells": [
  {
   "cell_type": "markdown",
   "metadata": {
    "heading_collapsed": true
   },
   "source": [
    "# Common"
   ]
  },
  {
   "cell_type": "code",
   "execution_count": 1,
   "metadata": {
    "ExecuteTime": {
     "end_time": "2022-05-12T17:24:03.786458Z",
     "start_time": "2022-05-12T17:24:03.782618Z"
    },
    "hidden": true
   },
   "outputs": [],
   "source": [
    "#!pip install tqdm"
   ]
  },
  {
   "cell_type": "code",
   "execution_count": 2,
   "metadata": {
    "ExecuteTime": {
     "end_time": "2022-05-12T17:24:04.703699Z",
     "start_time": "2022-05-12T17:24:04.048060Z"
    },
    "hidden": true
   },
   "outputs": [],
   "source": [
    "import json\n",
    "import time\n",
    "from subprocess import Popen, PIPE, STDOUT\n",
    "import math\n",
    "import numpy as np\n",
    "import pandas as pd\n",
    "import requests\n",
    "import os, sys, subprocess\n",
    "from tqdm.contrib.concurrent import process_map\n",
    "from tqdm.notebook import tqdm\n",
    "tqdm.pandas()\n",
    "import multiprocessing as mp\n",
    "import shutil\n",
    "import urllib.parse\n",
    "import glob\n",
    "import os\n",
    "import sys\n",
    "if sys.version_info[0] < 3: \n",
    "    from StringIO import StringIO\n",
    "else:\n",
    "    from io import StringIO"
   ]
  },
  {
   "cell_type": "markdown",
   "metadata": {
    "heading_collapsed": true
   },
   "source": [
    "# CTAnalizer"
   ]
  },
  {
   "cell_type": "code",
   "execution_count": 3,
   "metadata": {
    "ExecuteTime": {
     "end_time": "2022-05-12T17:24:05.500481Z",
     "start_time": "2022-05-12T17:24:05.481755Z"
    },
    "hidden": true
   },
   "outputs": [],
   "source": [
    "sys.path.append(\"./src/\")\n",
    "from ct_analizer import get_row"
   ]
  },
  {
   "cell_type": "code",
   "execution_count": 4,
   "metadata": {
    "ExecuteTime": {
     "end_time": "2022-05-12T17:24:05.986503Z",
     "start_time": "2022-05-12T17:24:05.982456Z"
    },
    "hidden": true
   },
   "outputs": [],
   "source": [
    "def run(tag, path, extra):        \n",
    "    return get_row(tag, path, extra)\n",
    "    #try:\n",
    "     #   return get_row(tag, path,extra)\n",
    "    #except Exception as e:\n",
    "#        print(str(e), tag)        \n",
    "#        return pd.Series()        "
   ]
  },
  {
   "cell_type": "markdown",
   "metadata": {},
   "source": [
    "# Apply on current data"
   ]
  },
  {
   "cell_type": "code",
   "execution_count": 5,
   "metadata": {
    "ExecuteTime": {
     "end_time": "2022-05-12T17:24:08.446087Z",
     "start_time": "2022-05-12T17:24:08.440915Z"
    }
   },
   "outputs": [],
   "source": [
    "base = \"./CT_high_viridi\"\n",
    "cts = glob.glob(f'{base}/*.ct')"
   ]
  },
  {
   "cell_type": "code",
   "execution_count": 6,
   "metadata": {
    "ExecuteTime": {
     "end_time": "2022-05-12T17:24:09.998450Z",
     "start_time": "2022-05-12T17:24:09.994204Z"
    }
   },
   "outputs": [],
   "source": [
    "def get_df_by_path(path , extra=0):           \n",
    "    tag = path[(len(\"./CT_high_viridi/\")):-3]    \n",
    "    return run(tag, path, extra)"
   ]
  },
  {
   "cell_type": "code",
   "execution_count": 7,
   "metadata": {
    "ExecuteTime": {
     "end_time": "2022-05-12T17:24:12.228911Z",
     "start_time": "2022-05-12T17:24:10.336951Z"
    }
   },
   "outputs": [
    {
     "data": {
      "application/vnd.jupyter.widget-view+json": {
       "model_id": "3b7cabe7865247379322e16a8f05b388",
       "version_major": 2,
       "version_minor": 0
      },
      "text/plain": [
       "  0%|          | 0/275 [00:00<?, ?it/s]"
      ]
     },
     "metadata": {},
     "output_type": "display_data"
    }
   ],
   "source": [
    "max_workers = mp.cpu_count() - 4\n",
    "\n",
    "dfs = []\n",
    "for row in process_map(get_df_by_path , cts, tqdm_class=tqdm, max_workers=max_workers, chunksize=5):\n",
    "    dfs.append(row)\n",
    "result = pd.DataFrame(dfs)\n",
    "result = result.replace(np.nan, '-').replace('', '-')            "
   ]
  },
  {
   "cell_type": "code",
   "execution_count": 8,
   "metadata": {
    "ExecuteTime": {
     "end_time": "2022-05-12T17:24:14.012318Z",
     "start_time": "2022-05-12T17:24:13.516879Z"
    }
   },
   "outputs": [],
   "source": [
    "def get_max_in_region(row, type_str, size_str, region):\n",
    "    out = 0\n",
    "    mismatch_type = row[type_str]    \n",
    "    for i in range(len(mismatch_type)):\n",
    "        if mismatch_type[i] == region:\n",
    "            if row[size_str][i] > out:\n",
    "                out = row[size_str][i]\n",
    "    return out\n",
    "\n",
    "def get_number_in_region(row, type_str, size_str, region):\n",
    "    counter = 0\n",
    "    mismatch_type = row[type_str]    \n",
    "    for i in range(len(mismatch_type)):\n",
    "        if mismatch_type[i] == region:\n",
    "            counter += 1            \n",
    "    return counter\n",
    "\n",
    "def get_sum_in_region(row, type_str, size_str, region):\n",
    "    out = 0\n",
    "    mismatch_type = row[type_str]    \n",
    "    for i in range(len(mismatch_type)):\n",
    "        if mismatch_type[i] == region:\n",
    "            out += row[size_str][i]            \n",
    "    return out\n",
    "\n",
    "for region in [\"loop distal\", \"hit region\", \"distal border line\", \"loop proximal\", \"proximal border line\"]:\n",
    "    result[f'max mismatch in {region}'] = result.apply(lambda row: get_max_in_region(row, \"mismatch type\", \"mismatch size\", region), axis=1)\n",
    "    result[f'number mismatch in {region}'] = result.apply(lambda row: get_number_in_region(row, \"mismatch type\", \"mismatch size\", region), axis=1)\n",
    "    result[f'sum mismatch in {region}'] = result.apply(lambda row: get_sum_in_region(row, \"mismatch type\", \"mismatch size\", region), axis=1)    \n",
    "    result[f'max bulge in {region}'] = result.apply(lambda row: get_max_in_region(row, \"bulge type\", \"bulge size\", region), axis=1)\n",
    "    result[f'number bulge in {region}'] = result.apply(lambda row: get_number_in_region(row, \"bulge type\", \"bulge size\", region), axis=1)\n",
    "    result[f'sum bulge in {region}'] = result.apply(lambda row: get_sum_in_region(row, \"bulge type\", \"bulge size\", region), axis=1)\n",
    "    result[f'max loop in {region}']= result.apply(lambda row: get_max_in_region(row, \"internal type\", \"internal loop total size\", region), axis=1)\n",
    "    result[f'number loop in {region}']= result.apply(lambda row: get_number_in_region(row, \"internal type\", \"internal loop total size\", region), axis=1)\n",
    "    result[f'sum loop in {region}']= result.apply(lambda row: get_sum_in_region(row, \"internal type\", \"internal loop total size\", region), axis=1)"
   ]
  },
  {
   "cell_type": "code",
   "execution_count": 9,
   "metadata": {
    "ExecuteTime": {
     "end_time": "2022-05-12T17:24:14.481156Z",
     "start_time": "2022-05-12T17:24:14.246182Z"
    },
    "scrolled": false
   },
   "outputs": [],
   "source": [
    "def sum_of_size_in_hit(row, type_str, size_str):\n",
    "    _sum = 0\n",
    "    mismatch_type = row[type_str]\n",
    "    for i in range(len(mismatch_type)):\n",
    "        if mismatch_type[i] == \"hit region\":\n",
    "            _sum += row[size_str][i]\n",
    "    return _sum\n",
    "\n",
    "def sum_of_size_in_hit_only_zero(row):\n",
    "    _sum = 0\n",
    "    bulge_type = row[\"bulge type\"]\n",
    "    bulge_strand = row[\"bulge strand\"]\n",
    "    for i in range(len(bulge_type)):\n",
    "        if bulge_type[i] == \"hit region\" and bulge_strand[i] == \"zero\":\n",
    "            _sum += row[\"bulge size\"][i]\n",
    "    return _sum\n",
    "\n",
    "def number_of_residue(row):\n",
    "    hit_end = row['hit end']    \n",
    "    hit_start = row['hit start']\n",
    "    psep = row['psep']\n",
    "    if(psep == '-'):\n",
    "        return 0\n",
    "    mir_type = row['mir type']\n",
    "    if mir_type == '5p':\n",
    "        if psep < hit_end:\n",
    "            return hit_end - psep\n",
    "    if mir_type == '3p':\n",
    "        if psep > hit_start:\n",
    "            return psep - hit_start\n",
    "    return 0\n",
    "\n",
    "\n",
    "def sum_of_size_in_border_line(row, border_type, type_str, size_str, start, end):\n",
    "    _sum = 0\n",
    "    _size = row[size_str]    \n",
    "    _start = row[start]    \n",
    "    _end = row[end]\n",
    "    mir_type = row['mir type']     \n",
    "    mismatch_type = row[type_str]    \n",
    "    for i in range(len(mismatch_type)):\n",
    "        if mismatch_type[i] == border_type:\n",
    "            if border_type == \"distal border line\":\n",
    "                if mir_type  == '5p':\n",
    "                    _sum += _size[i] - _start[i]\n",
    "                if mir_type == '3p':\n",
    "                    _sum += _size[i] - _end[i]\n",
    "            if border_type == \"proximal border line\":\n",
    "                if mir_type == '5p':\n",
    "                    _sum += _size[i] - _end[i]\n",
    "                if mir_type == '3p':\n",
    "                    _sum += _size[i] - _start[i]\n",
    "    return _sum\n",
    "\n",
    "\n",
    "def check_involvement(row):\n",
    "    if(row['number of terminal structures'] == \"-\"):\n",
    "        return None\n",
    "    if(row['number of terminal structures'] > 1):\n",
    "        return True\n",
    "    start = row['branch#1 apical loop start']\n",
    "    end = row['branch#1 apical loop end']\n",
    "    for col in ['hit start', 'hit end', 'star start', 'star end']:\n",
    "        if(start < row[col] < end ):\n",
    "            return False                    \n",
    "    return True\n",
    "\n",
    "sum_missmatch = result.apply(lambda row: sum_of_size_in_hit(row, 'mismatch type', 'mismatch size'), axis=1)\n",
    "sum_bulge = result.apply(lambda row: sum_of_size_in_hit(row, 'bulge type', 'bulge size'), axis=1)\n",
    "sum_internal = result.apply(lambda row: sum_of_size_in_hit(row, 'internal type', 'internal loop total size'), axis=1)\n",
    "sum_internal_hsbl = result.apply(lambda row: sum_of_size_in_hit(row, 'internal type', 'internal loop HSBL'),axis=1)\n",
    "sum_missmatch_border_proximal = result.apply(lambda row: sum_of_size_in_border_line(row, 'proximal border line', 'mismatch type', 'mismatch size', 'mismatch start', 'mismatch end'), axis=1)\n",
    "sum_missmatch_border_distal = result.apply(lambda row: sum_of_size_in_border_line(row, 'distal border line', 'mismatch type', 'mismatch size', 'mismatch start', 'mismatch end'), axis=1)\n",
    "sum_bulge_border_proximal = result.apply(lambda row: sum_of_size_in_border_line(row, 'proximal border line', 'bulge type', 'bulge size', 'bulge start', 'bulge end'), axis=1)\n",
    "sum_bulge_border_distal = result.apply(lambda row: sum_of_size_in_border_line(row, 'distal border line', 'bulge type', 'bulge size', 'bulge start', 'bulge end'), axis=1)\n",
    "sum_internal_border_proximal = result.apply(lambda row: sum_of_size_in_border_line(row, 'proximal border line', 'internal type', 'internal loop HSBL', 'internal start', 'internal end'), axis=1)\n",
    "sum_internal_border_distal = result.apply(lambda row: sum_of_size_in_border_line(row, 'distal border line', 'internal type', 'internal loop HSBL', 'internal start', 'internal end'), axis=1)\n",
    "sum_of_residue = result.apply(lambda row: number_of_residue(row), axis=1)\n",
    "\n",
    "sum_bulge_zero = result.apply(lambda row: sum_of_size_in_hit_only_zero(row), axis=1)\n",
    "\n",
    "\n",
    "result['sum of residue in terminal loop'] = sum_of_residue\n",
    "\n",
    "\n",
    "_sum = sum_bulge + sum_internal + sum_bulge_border_proximal + sum_bulge_border_distal + sum_internal_border_proximal + sum_internal_border_distal + sum_of_residue\n",
    "result[\"ACCEPTABLE_NUM_FOR_HIT_LOCATIONS_IN_BULGES_OR_LOOPS\"] = _sum\n",
    "\n",
    "result[\"ACCEPTABLE_NUM_FOR_UNMATCHED_LOCATIONS_IN_HIT_REGION * 2\"] = (_sum + (sum_missmatch + sum_missmatch_border_proximal + sum_missmatch_border_distal) * 2)\n",
    "result[\"ACCEPTABLE_NUM_FOR_UNMATCHED_LOCATIONS_IN_HIT_REGION\"] = (_sum + (sum_missmatch + sum_missmatch_border_proximal + sum_missmatch_border_distal))\n",
    "\n",
    "_sum = sum_bulge_zero + sum_internal_hsbl + sum_bulge_border_proximal + sum_bulge_border_distal + sum_internal_border_proximal + sum_internal_border_distal + sum_of_residue\n",
    "result[\"ACCEPTABLE_NUM_FOR_HIT_LOCATIONS_IN_BULGES_OR_LOOPS_mayers\"] = _sum\n",
    "\n",
    "result[\"ACCEPTABLE_NUM_FOR_UNMATCHED_LOCATIONS_IN_HIT_REGION_mayers * 2\"] = (_sum + (sum_missmatch + sum_missmatch_border_proximal + sum_missmatch_border_distal) * 2)\n",
    "result[\"ACCEPTABLE_NUM_FOR_UNMATCHED_LOCATIONS_IN_HIT_REGION_mayers\"] = (_sum + (sum_missmatch + sum_missmatch_border_proximal + sum_missmatch_border_distal))\n",
    "\n",
    "result[\"TOTAL_NUM_OF_MISMACHED_POSITIONS\"] = sum_missmatch\n",
    "\n",
    "result[\"TOTAL_NUM_OF_NONMATCHING_POSITIONS\"] = (sum_missmatch + sum_bulge + sum_internal)\n",
    "\n",
    "result[\"TOTAL_NUM_OF_POSITIONS_IN_BULGES_AND_LOOPS\"] = (sum_bulge + sum_internal)\n",
    "\n",
    "result[\"MATURE_DUPLEX_INVOLVEMENT_IN_APICAL_LOOP\"] = result.apply(lambda row: check_involvement(row), axis=1)"
   ]
  },
  {
   "cell_type": "code",
   "execution_count": 10,
   "metadata": {
    "ExecuteTime": {
     "end_time": "2022-05-12T17:25:18.956394Z",
     "start_time": "2022-05-12T17:25:18.884650Z"
    }
   },
   "outputs": [],
   "source": [
    "result.to_csv(\"./Result/confident_viridi_ct_analizer.csv\", index=False)    \n",
    "#!zip -r ./Result/not_confident_viridi_ct_analizer.zip ./Result/not_confident_viridi_ct_analizer.csv"
   ]
  },
  {
   "cell_type": "code",
   "execution_count": null,
   "metadata": {},
   "outputs": [],
   "source": []
  },
  {
   "cell_type": "code",
   "execution_count": null,
   "metadata": {},
   "outputs": [],
   "source": []
  }
 ],
 "metadata": {
  "hide_input": false,
  "kernelspec": {
   "display_name": "Python 3",
   "language": "python",
   "name": "python3"
  },
  "language_info": {
   "codemirror_mode": {
    "name": "ipython",
    "version": 3
   },
   "file_extension": ".py",
   "mimetype": "text/x-python",
   "name": "python",
   "nbconvert_exporter": "python",
   "pygments_lexer": "ipython3",
   "version": "3.8.10"
  },
  "varInspector": {
   "cols": {
    "lenName": 16,
    "lenType": 16,
    "lenVar": 40
   },
   "kernels_config": {
    "python": {
     "delete_cmd_postfix": "",
     "delete_cmd_prefix": "del ",
     "library": "var_list.py",
     "varRefreshCmd": "print(var_dic_list())"
    },
    "r": {
     "delete_cmd_postfix": ") ",
     "delete_cmd_prefix": "rm(",
     "library": "var_list.r",
     "varRefreshCmd": "cat(var_dic_list()) "
    }
   },
   "types_to_exclude": [
    "module",
    "function",
    "builtin_function_or_method",
    "instance",
    "_Feature"
   ],
   "window_display": false
  }
 },
 "nbformat": 4,
 "nbformat_minor": 4
}
