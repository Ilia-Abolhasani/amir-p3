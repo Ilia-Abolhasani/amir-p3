{
 "cells": [
  {
   "cell_type": "markdown",
   "metadata": {
    "id": "qyC8IFwrWkag"
   },
   "source": [
    "# Imports"
   ]
  },
  {
   "cell_type": "code",
   "execution_count": 1,
   "metadata": {
    "ExecuteTime": {
     "end_time": "2022-09-24T20:00:31.994175Z",
     "start_time": "2022-09-24T20:00:26.968851Z"
    },
    "id": "16Duf9iWWkat"
   },
   "outputs": [
    {
     "name": "stdout",
     "output_type": "stream",
     "text": [
      "keras version  2.9.0\n"
     ]
    }
   ],
   "source": [
    "import pickle\n",
    "import json\n",
    "from __future__ import division\n",
    "import warnings\n",
    "warnings.filterwarnings('ignore')\n",
    "import sys\n",
    "import numpy as np\n",
    "import pandas as pd\n",
    "import seaborn as sns\n",
    "import matplotlib.pyplot as plt\n",
    "from sklearn import metrics\n",
    "from numpy.random import randint\n",
    "from numpy.random import rand\n",
    "import multiprocessing as mp\n",
    "import random\n",
    "import math\n",
    "import pandas as pd\n",
    "import numpy as np\n",
    "from tqdm.notebook import tqdm\n",
    "import matplotlib.pyplot as plt\n",
    "from tqdm.contrib.concurrent import process_map\n",
    "import os\n",
    "from sklearn.preprocessing import OneHotEncoder\n",
    "from sklearn.model_selection import KFold, StratifiedKFold\n",
    "from sklearn import metrics\n",
    "from sklearn.metrics import classification_report\n",
    "from sklearn.model_selection import train_test_split\n",
    "from sklearn.model_selection import KFold\n",
    "\n",
    "import tensorflow as tf\n",
    "import keras\n",
    "from keras import backend as K\n",
    "from keras.models import Sequential\n",
    "from keras import layers\n",
    "from keras.layers import Input,Dense, Dropout, Flatten, Reshape, GlobalAveragePooling1D, BatchNormalization,LSTM,Bidirectional\n",
    "from keras.layers import Conv2D, MaxPooling2D, Conv1D, MaxPooling1D,UpSampling1D, Conv1DTranspose,GaussianNoise \n",
    "from keras.utils import np_utils\n",
    "from keras import backend as K\n",
    "from keras.callbacks import Callback\n",
    "from keras.regularizers import l2 , l1, l1_l2\n",
    "import tensorflow.keras.backend as kb\n",
    "print('keras version ', keras.__version__)\n",
    "\n",
    "from keras.utils.vis_utils import plot_model"
   ]
  },
  {
   "cell_type": "code",
   "execution_count": 2,
   "metadata": {
    "ExecuteTime": {
     "end_time": "2022-09-24T20:00:34.074899Z",
     "start_time": "2022-09-24T20:00:31.997941Z"
    }
   },
   "outputs": [],
   "source": [
    "sys.path.append(\"../src\")\n",
    "from convertor import convert\n",
    "from preprocessing import get_target, preprocessing"
   ]
  },
  {
   "cell_type": "code",
   "execution_count": 3,
   "metadata": {
    "ExecuteTime": {
     "end_time": "2022-09-24T20:00:34.215508Z",
     "start_time": "2022-09-24T20:00:34.078729Z"
    }
   },
   "outputs": [],
   "source": [
    "from imblearn.under_sampling import RandomUnderSampler"
   ]
  },
  {
   "cell_type": "markdown",
   "metadata": {
    "id": "bdbqIS-UWka4"
   },
   "source": [
    "# Functions"
   ]
  },
  {
   "cell_type": "code",
   "execution_count": 4,
   "metadata": {
    "ExecuteTime": {
     "end_time": "2022-09-24T20:00:39.246541Z",
     "start_time": "2022-09-24T20:00:39.240530Z"
    },
    "id": "Pk2w6ac8Wka5"
   },
   "outputs": [],
   "source": [
    "def df_to_fasta(df, path):\n",
    "    lines = []\n",
    "    df.apply(lambda row: lines.append(f\">{row['tag']}\\n{row['data']}\\n\"),axis=1)\n",
    "    with open(path,'w') as file:\n",
    "        file.write(''.join(lines))"
   ]
  },
  {
   "cell_type": "code",
   "execution_count": 5,
   "metadata": {
    "ExecuteTime": {
     "end_time": "2022-09-24T20:00:39.556285Z",
     "start_time": "2022-09-24T20:00:39.547513Z"
    },
    "id": "yoDSV7bjWka6"
   },
   "outputs": [],
   "source": [
    "def fasta_to_df(path):\n",
    "    with open(path, 'r') as file:\n",
    "        text = file.read()\n",
    "    lines = [line for line in text.split('\\n') if len(line) > 0]\n",
    "    s = ''\n",
    "    tags = []\n",
    "    data = []\n",
    "    for l in lines:\n",
    "        if(l[0]=='>'):\n",
    "            tags.append(l)        \n",
    "            data.append(s)\n",
    "            s = ''\n",
    "        else:\n",
    "            s += l    \n",
    "    data.append(s)\n",
    "    df = pd.DataFrame(\n",
    "            {\n",
    "                'tag': tags,\n",
    "                'data': data[1:]\n",
    "            })\n",
    "    df['tag'] = df['tag'].apply(lambda x: x[1:])    \n",
    "    return df"
   ]
  },
  {
   "cell_type": "code",
   "execution_count": 6,
   "metadata": {
    "ExecuteTime": {
     "end_time": "2022-09-24T20:00:39.853680Z",
     "start_time": "2022-09-24T20:00:39.849093Z"
    },
    "id": "nQOAHaVBWka_"
   },
   "outputs": [],
   "source": [
    "class DotDict(dict):\n",
    "    __getattr__ = dict.get\n",
    "    __setattr__ = dict.__setitem__\n",
    "    __delattr__ = dict.__delitem__"
   ]
  },
  {
   "cell_type": "code",
   "execution_count": 7,
   "metadata": {
    "ExecuteTime": {
     "end_time": "2022-09-24T20:00:40.207789Z",
     "start_time": "2022-09-24T20:00:40.192894Z"
    },
    "id": "pzR6yRp8v_aT"
   },
   "outputs": [],
   "source": [
    "def confusion_matrix(validations, predictions, LABELS):            \n",
    "    freq = metrics.confusion_matrix(validations, predictions)        \n",
    "    sensitivity =  (np.divide(freq.transpose(),\n",
    "                             np.sum(freq, axis=1)).transpose() * 100).round(2)    \n",
    "    annotation = []\n",
    "    for i in range(freq.shape[0]):\n",
    "        row = []\n",
    "        for j in range(freq.shape[1]):\n",
    "            row.append(f'{freq[i][j]}\\n {sensitivity[i][j]}%')            \n",
    "        annotation.append(row)\n",
    "    annotation = np.array(annotation)\n",
    "    sns.heatmap(sensitivity, cmap=\"YlOrBr\",\n",
    "                vmin=0, vmax=100,\n",
    "                linecolor='white',\n",
    "                linewidths=1,\n",
    "                xticklabels=LABELS,\n",
    "                yticklabels=LABELS,\n",
    "                annot=annotation,\n",
    "               fmt=':<')    \n",
    "    plt.title(\"Confusion Matrix\")\n",
    "    plt.ylabel(\"Actually Label\")\n",
    "    plt.xlabel(\"Predicted Label\")\n",
    "    plt.show()            \n",
    "\n",
    "def report(pred, df, ref):\n",
    "    number_of_hit = len(df['hit seq'].unique())\n",
    "    print(f'number of unique hit: {number_of_hit}')\n",
    "    total = len(df[df['hit seq'].isin(ref['data'])]['hit seq'].unique()) \n",
    "    print(f'total mir: {total}')    \n",
    "    selected = df[pd.Series(pred).apply(lambda x: True if x==1 else False)]\n",
    "    found_seq = selected[selected['hit seq'].isin(ref['data'])]['hit seq'].unique()\n",
    "    found = len(found_seq)\n",
    "    print(f'found mir : {found}')\n",
    "    print(f'fount to all : {round(found / total * 100, 2)}%')\n",
    "    fp = len(selected[~selected['hit seq'].isin(ref['data'])]['hit seq'].unique())\n",
    "    print(f'fp: {fp}')"
   ]
  },
  {
   "cell_type": "markdown",
   "metadata": {
    "id": "4qLMRhTLWkbA"
   },
   "source": [
    "# Load all plant dataset"
   ]
  },
  {
   "cell_type": "code",
   "execution_count": 8,
   "metadata": {
    "ExecuteTime": {
     "end_time": "2022-09-24T20:00:45.640792Z",
     "start_time": "2022-09-24T20:00:45.636292Z"
    }
   },
   "outputs": [],
   "source": [
    "all_plant = [\n",
    "    \"O.sativa\",\n",
    "    \"A.thaliana\",\n",
    "    \"C.sinensis\",\n",
    "    \"Z.mays\",\n",
    "    \"T.aestivum\",\n",
    "    \"G.max\",\n",
    "    \"G.raimondii\",\n",
    "    \"M.truncatula\",\n",
    "    \"S.bicolor\",\n",
    "    \"H.vulgare\"\n",
    "]"
   ]
  },
  {
   "cell_type": "code",
   "execution_count": 9,
   "metadata": {
    "ExecuteTime": {
     "end_time": "2022-09-24T20:00:46.280176Z",
     "start_time": "2022-09-24T20:00:46.276191Z"
    },
    "id": "QSvkewSupdLq"
   },
   "outputs": [],
   "source": [
    "data = {}"
   ]
  },
  {
   "cell_type": "code",
   "execution_count": 10,
   "metadata": {
    "ExecuteTime": {
     "end_time": "2022-09-24T20:00:46.550019Z",
     "start_time": "2022-09-24T20:00:46.537640Z"
    },
    "id": "YREQVEYCQROA"
   },
   "outputs": [],
   "source": [
    "def get_load(plant, mu=None, std=None, under_sampling=False):\n",
    "    posX = pd.read_csv(f\"../Experiment/{plant}/positive/Result/result_level1_filter.csv\")\n",
    "    posX = convert(posX)    \n",
    "    posY = np.ones(posX.shape[0], dtype='float32')\n",
    "    posY = np_utils.to_categorical(posY, 2)\n",
    "    print(f'Print positive shape: {posY.shape[0]}')\n",
    "    \n",
    "    negX = pd.read_csv(f\"../Experiment/{plant}/negative/Result/result_level1_filter.csv\")\n",
    "    negX = convert(negX)    \n",
    "    negY = np.zeros(negX.shape[0], dtype='float32')\n",
    "    negY = np_utils.to_categorical(negY, 2)        \n",
    "    print(f'Print negative shape: {negY.shape[0]}')\n",
    "    Y = np.concatenate([posY, negY])            \n",
    "    X = pd.concat([posX, negX]).reset_index(drop=True)\n",
    "    [feature, mu, std] = preprocessing(X, mu, std)    \n",
    "    data[plant] = {}    \n",
    "    if(under_sampling):\n",
    "        rus = RandomUnderSampler(random_state=0)\n",
    "        feature, Y = rus.fit_resample(feature , Y)\n",
    "        Y = np_utils.to_categorical(Y, 2)         \n",
    "    data[plant]['df'] = X\n",
    "    data[plant]['feature'] = feature\n",
    "    data[plant]['target'] = Y\n",
    "    print(f'total data: {feature.shape[0]}')\n",
    "    return [X, feature, Y, mu, std]\n",
    "\n",
    "def load(plant, mu=None, std=None, under_sampling=True):\n",
    "    global data\n",
    "    data[plant] = {}        \n",
    "    [X, feature, Y, mu, std] = get_load(plant, mu, std, under_sampling)\n",
    "    data[plant]['df'] = X\n",
    "    data[plant]['feature'] = feature\n",
    "    data[plant]['target'] = Y\n",
    "    return [mu, std]"
   ]
  },
  {
   "cell_type": "code",
   "execution_count": 11,
   "metadata": {
    "ExecuteTime": {
     "end_time": "2022-09-24T20:00:47.525026Z",
     "start_time": "2022-09-24T20:00:47.521341Z"
    }
   },
   "outputs": [],
   "source": [
    "#with open('data.pickle', 'wb') as handle:\n",
    "#    pickle.dump(data, handle, protocol=pickle.HIGHEST_PROTOCOL)\n",
    "\n",
    "#with open('filename.pickle', 'rb') as handle:\n",
    "    #data = pickle.load(handle)"
   ]
  },
  {
   "cell_type": "code",
   "execution_count": 12,
   "metadata": {
    "ExecuteTime": {
     "end_time": "2022-09-24T20:00:48.112169Z",
     "start_time": "2022-09-24T20:00:48.103526Z"
    }
   },
   "outputs": [],
   "source": [
    "def get_mu_std(list_plant):    \n",
    "    x_list = []\n",
    "    y_list = []\n",
    "    for plant in list_plant:\n",
    "        posX = pd.read_csv(f\"../Experiment/{plant}/positive/Result/result_level1_filter.csv\")\n",
    "        posX = convert(posX) \n",
    "        x_list.append(posX)\n",
    "        posY = np.ones(posX.shape[0], dtype='float32')\n",
    "        posY = np_utils.to_categorical(posY, 2)    \n",
    "        y_list.append(posY)\n",
    "        negX = pd.read_csv(f\"../Experiment/{plant}/negative/Result/result_level1_filter.csv\")\n",
    "        negX = convert(negX)    \n",
    "        x_list.append(negX)\n",
    "        negY = np.zeros(negX.shape[0], dtype='float32')\n",
    "        negY = np_utils.to_categorical(negY, 2)        \n",
    "        y_list.append(negY)\n",
    "    Y = np.concatenate(y_list)        \n",
    "    X = pd.concat(x_list).reset_index(drop=True)\n",
    "    [feature, mu, std] = preprocessing(X, None, None)        \n",
    "    return [mu, std]"
   ]
  },
  {
   "cell_type": "code",
   "execution_count": 13,
   "metadata": {
    "ExecuteTime": {
     "end_time": "2022-09-24T20:08:57.115653Z",
     "start_time": "2022-09-24T20:00:49.479147Z"
    }
   },
   "outputs": [],
   "source": [
    "[mu, std] = get_mu_std(all_plant)\n",
    "# store mu and std\n",
    "with open('../classifier/mu.pickle', 'wb') as handle:\n",
    "    pickle.dump(mu, handle, protocol=pickle.HIGHEST_PROTOCOL)\n",
    "with open('../classifier/std.pickle', 'wb') as handle:\n",
    "    pickle.dump(std, handle, protocol=pickle.HIGHEST_PROTOCOL)"
   ]
  },
  {
   "cell_type": "markdown",
   "metadata": {
    "id": "5Ueqwrjc5ewu"
   },
   "source": [
    "## O.sativa"
   ]
  },
  {
   "cell_type": "code",
   "execution_count": 14,
   "metadata": {
    "ExecuteTime": {
     "end_time": "2022-09-24T20:10:37.790218Z",
     "start_time": "2022-09-24T20:08:57.120727Z"
    },
    "colab": {
     "base_uri": "https://localhost:8080/"
    },
    "executionInfo": {
     "elapsed": 658144,
     "status": "ok",
     "timestamp": 1655632401689,
     "user": {
      "displayName": "Ilia abolhasani",
      "userId": "05829853781998776186"
     },
     "user_tz": -270
    },
    "id": "RP1AlQ2VPCHz",
    "outputId": "80943c18-970d-4769-f524-4cac30491c6e"
   },
   "outputs": [
    {
     "name": "stdout",
     "output_type": "stream",
     "text": [
      "Print positive shape: 1419\n",
      "Print negative shape: 11556\n",
      "total data: 2838\n"
     ]
    }
   ],
   "source": [
    "load(plant=\"O.sativa\", mu=mu, std=std);"
   ]
  },
  {
   "cell_type": "markdown",
   "metadata": {
    "id": "Yqno44cv5iiY"
   },
   "source": [
    "## A.thaliana"
   ]
  },
  {
   "cell_type": "code",
   "execution_count": 15,
   "metadata": {
    "ExecuteTime": {
     "end_time": "2022-09-24T20:11:27.190504Z",
     "start_time": "2022-09-24T20:10:37.794604Z"
    },
    "colab": {
     "base_uri": "https://localhost:8080/"
    },
    "executionInfo": {
     "elapsed": 74865,
     "status": "ok",
     "timestamp": 1655632476543,
     "user": {
      "displayName": "Ilia abolhasani",
      "userId": "05829853781998776186"
     },
     "user_tz": -270
    },
    "id": "OB3UG8T4QwmB",
    "outputId": "6d21272f-fa48-4092-f466-0ec387fffe14"
   },
   "outputs": [
    {
     "name": "stdout",
     "output_type": "stream",
     "text": [
      "Print positive shape: 847\n",
      "Print negative shape: 5464\n",
      "total data: 1694\n"
     ]
    }
   ],
   "source": [
    "load(plant=\"A.thaliana\", mu=mu, std=std);"
   ]
  },
  {
   "cell_type": "markdown",
   "metadata": {
    "id": "TlT1KSuI5mJX"
   },
   "source": [
    "## C.sinensis"
   ]
  },
  {
   "cell_type": "code",
   "execution_count": 16,
   "metadata": {
    "ExecuteTime": {
     "end_time": "2022-09-24T20:11:38.558241Z",
     "start_time": "2022-09-24T20:11:27.194818Z"
    },
    "colab": {
     "base_uri": "https://localhost:8080/"
    },
    "executionInfo": {
     "elapsed": 354197,
     "status": "ok",
     "timestamp": 1655632830715,
     "user": {
      "displayName": "Ilia abolhasani",
      "userId": "05829853781998776186"
     },
     "user_tz": -270
    },
    "id": "9FPW6VlKs1bK",
    "outputId": "341c2d64-db53-4a45-a698-880088ee52de"
   },
   "outputs": [
    {
     "name": "stdout",
     "output_type": "stream",
     "text": [
      "Print positive shape: 540\n",
      "Print negative shape: 914\n",
      "total data: 1080\n"
     ]
    }
   ],
   "source": [
    "load(plant=\"C.sinensis\", mu=mu, std=std);"
   ]
  },
  {
   "cell_type": "markdown",
   "metadata": {
    "id": "zKOjU6DD5oCk"
   },
   "source": [
    "## Z.mays"
   ]
  },
  {
   "cell_type": "code",
   "execution_count": 17,
   "metadata": {
    "ExecuteTime": {
     "end_time": "2022-09-24T20:11:54.589375Z",
     "start_time": "2022-09-24T20:11:38.561974Z"
    },
    "colab": {
     "base_uri": "https://localhost:8080/"
    },
    "executionInfo": {
     "elapsed": 500447,
     "status": "ok",
     "timestamp": 1655633331146,
     "user": {
      "displayName": "Ilia abolhasani",
      "userId": "05829853781998776186"
     },
     "user_tz": -270
    },
    "id": "46WuwgG0Ud8k",
    "outputId": "eaa997aa-aadf-4cdd-d9c5-34cfdb43fe83",
    "scrolled": true
   },
   "outputs": [
    {
     "name": "stdout",
     "output_type": "stream",
     "text": [
      "Print positive shape: 625\n",
      "Print negative shape: 1384\n",
      "total data: 1250\n"
     ]
    }
   ],
   "source": [
    "load(plant=\"Z.mays\", mu=mu, std=std);"
   ]
  },
  {
   "cell_type": "markdown",
   "metadata": {},
   "source": [
    "## T.aestivum"
   ]
  },
  {
   "cell_type": "code",
   "execution_count": 18,
   "metadata": {
    "ExecuteTime": {
     "end_time": "2022-09-24T20:13:18.844933Z",
     "start_time": "2022-09-24T20:11:54.592999Z"
    }
   },
   "outputs": [
    {
     "name": "stdout",
     "output_type": "stream",
     "text": [
      "Print positive shape: 421\n",
      "Print negative shape: 10363\n",
      "total data: 842\n"
     ]
    }
   ],
   "source": [
    "load(plant=\"T.aestivum\", mu=mu, std=std);"
   ]
  },
  {
   "cell_type": "markdown",
   "metadata": {},
   "source": [
    "## G.max"
   ]
  },
  {
   "cell_type": "code",
   "execution_count": 19,
   "metadata": {
    "ExecuteTime": {
     "end_time": "2022-09-24T20:14:06.888412Z",
     "start_time": "2022-09-24T20:13:18.849003Z"
    }
   },
   "outputs": [
    {
     "name": "stdout",
     "output_type": "stream",
     "text": [
      "Print positive shape: 1115\n",
      "Print negative shape: 5008\n",
      "total data: 2230\n"
     ]
    }
   ],
   "source": [
    "load(plant=\"G.max\", mu=mu, std=std);"
   ]
  },
  {
   "cell_type": "markdown",
   "metadata": {},
   "source": [
    "## G.raimondii"
   ]
  },
  {
   "cell_type": "code",
   "execution_count": 20,
   "metadata": {
    "ExecuteTime": {
     "end_time": "2022-09-24T20:15:33.584815Z",
     "start_time": "2022-09-24T20:14:06.894899Z"
    }
   },
   "outputs": [
    {
     "name": "stdout",
     "output_type": "stream",
     "text": [
      "Print positive shape: 822\n",
      "Print negative shape: 10576\n",
      "total data: 1644\n"
     ]
    }
   ],
   "source": [
    "load(plant=\"G.raimondii\", mu=mu, std=std);"
   ]
  },
  {
   "cell_type": "markdown",
   "metadata": {},
   "source": [
    "## M.truncatula"
   ]
  },
  {
   "cell_type": "code",
   "execution_count": 21,
   "metadata": {
    "ExecuteTime": {
     "end_time": "2022-09-24T20:16:24.359648Z",
     "start_time": "2022-09-24T20:15:33.589389Z"
    }
   },
   "outputs": [
    {
     "name": "stdout",
     "output_type": "stream",
     "text": [
      "Print positive shape: 971\n",
      "Print negative shape: 5613\n",
      "total data: 1942\n"
     ]
    }
   ],
   "source": [
    "load(plant=\"M.truncatula\", mu=mu, std=std);"
   ]
  },
  {
   "cell_type": "markdown",
   "metadata": {},
   "source": [
    "## S.bicolor"
   ]
  },
  {
   "cell_type": "code",
   "execution_count": 22,
   "metadata": {
    "ExecuteTime": {
     "end_time": "2022-09-24T20:16:58.262334Z",
     "start_time": "2022-09-24T20:16:24.363600Z"
    }
   },
   "outputs": [
    {
     "name": "stdout",
     "output_type": "stream",
     "text": [
      "Print positive shape: 528\n",
      "Print negative shape: 3841\n",
      "total data: 1056\n"
     ]
    }
   ],
   "source": [
    "load(plant=\"S.bicolor\", mu=mu, std=std);"
   ]
  },
  {
   "cell_type": "markdown",
   "metadata": {},
   "source": [
    "## H.vulgare"
   ]
  },
  {
   "cell_type": "code",
   "execution_count": 23,
   "metadata": {
    "ExecuteTime": {
     "end_time": "2022-09-24T20:17:02.353328Z",
     "start_time": "2022-09-24T20:16:58.265940Z"
    }
   },
   "outputs": [
    {
     "name": "stdout",
     "output_type": "stream",
     "text": [
      "Print positive shape: 34\n",
      "Print negative shape: 468\n",
      "total data: 68\n"
     ]
    }
   ],
   "source": [
    "load(plant=\"H.vulgare\", mu=mu, std=std);"
   ]
  },
  {
   "cell_type": "markdown",
   "metadata": {
    "id": "JNmcvnfJZhok"
   },
   "source": [
    "# Train Test split and class weight"
   ]
  },
  {
   "cell_type": "code",
   "execution_count": 24,
   "metadata": {
    "ExecuteTime": {
     "end_time": "2022-09-24T20:17:02.365034Z",
     "start_time": "2022-09-24T20:17:02.356790Z"
    }
   },
   "outputs": [],
   "source": [
    "def get_dataset(plant_list, val_size=0.33, random_state=0):\n",
    "    x_list = []\n",
    "    y_list = []\n",
    "    for plant in plant_list:\n",
    "        x_list.append(data[plant]['feature'])\n",
    "        y_list.append(data[plant]['target'])\n",
    "    X = pd.concat(x_list)\n",
    "    Y = np.concatenate(y_list)\n",
    "    X_train, X_val, y_train, y_val = train_test_split(X, Y, test_size=val_size, random_state=random_state)\n",
    "    class_weight = {\n",
    "        0: 1.,\n",
    "        1: (sum(y_train[:,0]) + sum(y_val[:,0])) / (sum(y_train[:,1]) + sum(y_val[:,1]))\n",
    "    }        \n",
    "    return [X_train, X_val, y_train, y_val, class_weight]    "
   ]
  },
  {
   "cell_type": "markdown",
   "metadata": {
    "id": "-1L8jIc5WkbW"
   },
   "source": [
    "# Deep learning model"
   ]
  },
  {
   "cell_type": "code",
   "execution_count": 25,
   "metadata": {
    "ExecuteTime": {
     "end_time": "2022-09-24T20:17:02.377877Z",
     "start_time": "2022-09-24T20:17:02.368335Z"
    },
    "colab": {
     "base_uri": "https://localhost:8080/"
    },
    "executionInfo": {
     "elapsed": 950,
     "status": "ok",
     "timestamp": 1655667634792,
     "user": {
      "displayName": "Ilia abolhasani",
      "userId": "05829853781998776186"
     },
     "user_tz": -270
    },
    "id": "PTWcv4craZYB",
    "outputId": "8dbffa2a-b740-44d7-f880-5e2f45900a84"
   },
   "outputs": [],
   "source": [
    "def get_model(input_dimension, show=False):    \n",
    "    model = Sequential()\n",
    "    model.add(Input(shape=(input_dimension,)))\n",
    "    model.add(Dense(512, activation='selu'))\n",
    "    model.add(Dropout(0.5))    \n",
    "    model.add(Dense(256, activation='selu'))\n",
    "    model.add(Dropout(0.5))    \n",
    "    model.add(Dense(128, activation='selu'))\n",
    "    model.add(Dropout(0.5))    \n",
    "    model.add(Dense(64, activation='selu'))\n",
    "    model.add(Dropout(0.5))    \n",
    "    model.add(Dense(32, activation='selu'))\n",
    "    model.add(Dropout(0.5))    \n",
    "    model.add(Dense(16, activation='selu'))\n",
    "    model.add(Dropout(0.5))    \n",
    "    model.add(Dense(8, activation='selu'))\n",
    "    model.add(Dropout(0.5))    \n",
    "    model.add(Dense(2, activation='softmax'))\n",
    "    if(show):\n",
    "        print(model.summary())\n",
    "    return model    "
   ]
  },
  {
   "cell_type": "code",
   "execution_count": 26,
   "metadata": {
    "ExecuteTime": {
     "end_time": "2022-09-24T20:17:02.390507Z",
     "start_time": "2022-09-24T20:17:02.381339Z"
    },
    "colab": {
     "base_uri": "https://localhost:8080/"
    },
    "executionInfo": {
     "elapsed": 447493,
     "status": "ok",
     "timestamp": 1655473082392,
     "user": {
      "displayName": "Ilia abolhasani",
      "userId": "05829853781998776186"
     },
     "user_tz": -270
    },
    "id": "CusrPoF6atqa",
    "outputId": "633aa430-f43e-4965-beb7-f5a6f74378ff",
    "scrolled": false
   },
   "outputs": [],
   "source": [
    "def train(model, x_train, x_val, y_train, y_val, class_weight, batch_size, learning_rate,  epochs = 100, save=False):\n",
    "    callbacks_list = [\n",
    "                      tf.keras.callbacks.EarlyStopping( monitor=\"val_loss\", patience=10, restore_best_weights=True),\n",
    "                     ]    \n",
    "    lr_schedule = tf.keras.optimizers.schedules.ExponentialDecay(\n",
    "        initial_learning_rate=learning_rate,\n",
    "        decay_steps=1000,\n",
    "        decay_rate=0.99)\n",
    "    \n",
    "    optimizer = tf.keras.optimizers.Adam(lr_schedule)    \n",
    "\n",
    "    model.compile(loss = \"categorical_crossentropy\",                \n",
    "                  optimizer=optimizer,\n",
    "                  metrics = [\"acc\"])\n",
    "    epochs = 100    \n",
    "    history = model.fit(x_train,\n",
    "                        y_train,\n",
    "                        class_weight=class_weight,\n",
    "                        batch_size=batch_size,\n",
    "                        validation_data=(x_val, y_val),\n",
    "                        epochs=epochs,\n",
    "                        callbacks=callbacks_list,\n",
    "                        use_multiprocessing=True,\n",
    "                        verbose=0) \n",
    "    if(save):\n",
    "        json.dump(str(history.history), open(f\"./history.pkl\", \"w\"))\n",
    "        model.save(f'./Model.h5')\n",
    "    return [model, history]"
   ]
  },
  {
   "cell_type": "code",
   "execution_count": 27,
   "metadata": {
    "ExecuteTime": {
     "end_time": "2022-09-24T20:17:02.402547Z",
     "start_time": "2022-09-24T20:17:02.394150Z"
    },
    "scrolled": true
   },
   "outputs": [],
   "source": [
    "def plot_history(history):\n",
    "    plt.figure(figsize=(15, 5))\n",
    "    plt.plot(history.history['acc'], linewidth=3)\n",
    "    plt.plot(history.history['val_acc'], linewidth=3)\n",
    "    plt.title('model accuracy')\n",
    "    plt.ylabel('accuracy')\n",
    "    plt.xlabel('epoch')\n",
    "    plt.legend(['train', 'val'], loc='upper left')\n",
    "    plt.show()\n",
    "\n",
    "    plt.figure(figsize=(15, 5))\n",
    "    plt.plot(history.history['loss'], linewidth=3)\n",
    "    plt.plot(history.history['val_loss'], linewidth=3)\n",
    "    plt.title('model loss')\n",
    "    plt.ylabel('loss')\n",
    "    plt.xlabel('epoch')\n",
    "    plt.legend(['train', 'val'])\n",
    "    plt.show()"
   ]
  },
  {
   "cell_type": "markdown",
   "metadata": {},
   "source": [
    "# 10 fold cross validation"
   ]
  },
  {
   "cell_type": "code",
   "execution_count": null,
   "metadata": {
    "ExecuteTime": {
     "start_time": "2022-09-24T20:01:11.671Z"
    },
    "scrolled": false
   },
   "outputs": [
    {
     "name": "stdout",
     "output_type": "stream",
     "text": [
      "9/9 [==============================] - 0s 4ms/step\n",
      "9/9 [==============================] - 0s 4ms/step\n",
      "9/9 [==============================] - 0s 4ms/step\n",
      "9/9 [==============================] - 0s 4ms/step\n",
      "9/9 [==============================] - 0s 4ms/step\n",
      "9/9 [==============================] - 0s 4ms/step\n",
      "9/9 [==============================] - 0s 4ms/step\n",
      "9/9 [==============================] - 0s 4ms/step\n",
      "9/9 [==============================] - 0s 4ms/step\n",
      "9/9 [==============================] - 0s 3ms/step\n",
      "6/6 [==============================] - 0s 4ms/step\n",
      "6/6 [==============================] - 1s 5ms/step\n",
      "6/6 [==============================] - 0s 4ms/step\n",
      "6/6 [==============================] - 0s 3ms/step\n",
      "6/6 [==============================] - 0s 4ms/step\n",
      "6/6 [==============================] - 0s 3ms/step\n",
      "6/6 [==============================] - 0s 4ms/step\n",
      "6/6 [==============================] - 0s 4ms/step\n",
      "6/6 [==============================] - 0s 4ms/step\n",
      "6/6 [==============================] - 0s 4ms/step\n",
      "4/4 [==============================] - 0s 4ms/step\n",
      "4/4 [==============================] - 0s 4ms/step\n",
      "4/4 [==============================] - 0s 4ms/step\n",
      "4/4 [==============================] - 0s 4ms/step\n",
      "4/4 [==============================] - 0s 6ms/step\n",
      "4/4 [==============================] - 0s 5ms/step\n",
      "4/4 [==============================] - 0s 4ms/step\n",
      "4/4 [==============================] - 0s 4ms/step\n",
      "4/4 [==============================] - 0s 5ms/step\n",
      "4/4 [==============================] - 0s 4ms/step\n",
      "3/3 [==============================] - 0s 5ms/step\n",
      "3/3 [==============================] - 0s 4ms/step\n",
      "3/3 [==============================] - 0s 4ms/step\n",
      "WARNING:tensorflow:5 out of the last 14 calls to <function Model.make_predict_function.<locals>.predict_function at 0x7f49b34fc3a0> triggered tf.function retracing. Tracing is expensive and the excessive number of tracings could be due to (1) creating @tf.function repeatedly in a loop, (2) passing tensors with different shapes, (3) passing Python objects instead of tensors. For (1), please define your @tf.function outside of the loop. For (2), @tf.function has reduce_retracing=True option that can avoid unnecessary retracing. For (3), please refer to https://www.tensorflow.org/guide/function#controlling_retracing and https://www.tensorflow.org/api_docs/python/tf/function for  more details.\n",
      "3/3 [==============================] - 0s 4ms/step\n",
      "WARNING:tensorflow:5 out of the last 13 calls to <function Model.make_predict_function.<locals>.predict_function at 0x7f49b503e790> triggered tf.function retracing. Tracing is expensive and the excessive number of tracings could be due to (1) creating @tf.function repeatedly in a loop, (2) passing tensors with different shapes, (3) passing Python objects instead of tensors. For (1), please define your @tf.function outside of the loop. For (2), @tf.function has reduce_retracing=True option that can avoid unnecessary retracing. For (3), please refer to https://www.tensorflow.org/guide/function#controlling_retracing and https://www.tensorflow.org/api_docs/python/tf/function for  more details.\n",
      "3/3 [==============================] - 0s 5ms/step\n",
      "3/3 [==============================] - 0s 4ms/step\n",
      "3/3 [==============================] - 0s 5ms/step\n",
      "3/3 [==============================] - 0s 4ms/step\n",
      "3/3 [==============================] - 0s 5ms/step\n",
      "3/3 [==============================] - 0s 4ms/step\n",
      "7/7 [==============================] - 0s 4ms/step\n",
      "7/7 [==============================] - 0s 4ms/step\n",
      "7/7 [==============================] - 0s 4ms/step\n",
      "7/7 [==============================] - 0s 4ms/step\n",
      "7/7 [==============================] - 0s 4ms/step\n",
      "7/7 [==============================] - 0s 4ms/step\n",
      "7/7 [==============================] - 0s 4ms/step\n",
      "7/7 [==============================] - 0s 4ms/step\n",
      "7/7 [==============================] - 0s 4ms/step\n",
      "7/7 [==============================] - 0s 5ms/step\n",
      "6/6 [==============================] - 0s 4ms/step\n",
      "6/6 [==============================] - 0s 4ms/step\n",
      "6/6 [==============================] - 0s 4ms/step\n",
      "6/6 [==============================] - 0s 4ms/step\n",
      "6/6 [==============================] - 0s 4ms/step\n",
      "6/6 [==============================] - 0s 4ms/step\n",
      "6/6 [==============================] - 0s 3ms/step\n",
      "6/6 [==============================] - 0s 4ms/step\n",
      "6/6 [==============================] - 0s 4ms/step\n",
      "6/6 [==============================] - 0s 4ms/step\n",
      "7/7 [==============================] - 0s 3ms/step\n",
      "7/7 [==============================] - 0s 4ms/step\n",
      "7/7 [==============================] - 0s 4ms/step\n",
      "7/7 [==============================] - 0s 3ms/step\n",
      "7/7 [==============================] - 0s 4ms/step\n",
      "7/7 [==============================] - 0s 4ms/step\n",
      "7/7 [==============================] - 0s 4ms/step\n",
      "7/7 [==============================] - 0s 4ms/step\n",
      "7/7 [==============================] - 0s 3ms/step\n",
      "7/7 [==============================] - 0s 4ms/step\n",
      "4/4 [==============================] - 0s 4ms/step\n",
      "4/4 [==============================] - 0s 4ms/step\n",
      "4/4 [==============================] - 0s 4ms/step\n",
      "4/4 [==============================] - 0s 4ms/step\n",
      "4/4 [==============================] - 0s 4ms/step\n",
      "4/4 [==============================] - 0s 4ms/step\n",
      "4/4 [==============================] - 0s 4ms/step\n",
      "4/4 [==============================] - 0s 4ms/step\n",
      "4/4 [==============================] - 0s 4ms/step\n",
      "4/4 [==============================] - 0s 4ms/step\n"
     ]
    }
   ],
   "source": [
    "result = {}\n",
    "for plant in all_plant:     \n",
    "    X = data[plant]['df'] \n",
    "    feature = data[plant]['feature']\n",
    "    Y = data[plant]['target']        \n",
    "    kf = KFold(n_splits=10, shuffle=True)    \n",
    "    result_list = []\n",
    "    for train_index, test_index in kf.split(feature):    \n",
    "        X_train, X_val, y_train, y_val = train_test_split(feature.iloc[train_index], Y[train_index], test_size=0.2, random_state=0)\n",
    "        class_weight = {\n",
    "            0: 1.,\n",
    "            1: (sum(y_train[:,0]) + sum(y_val[:,0])) / (sum(y_train[:,1]) + sum(y_val[:,1]))\n",
    "        }               \n",
    "        model = get_model(X_train.shape[1])\n",
    "        [model, history] = train(model, X_train, X_val, y_train, y_val, class_weight, batch_size=32, learning_rate = 0.002, epochs=500)\n",
    "        y_true = np.argmax(Y[test_index], axis=1)\n",
    "        y_pred =  np.argmax(model.predict(feature.iloc[test_index]), axis=1)\n",
    "        tn, fp, fn, tp = metrics.confusion_matrix(y_true, y_pred, labels=[0, 1]).ravel()\n",
    "        result_list.append({\n",
    "            \"accuracy\": metrics.accuracy_score(y_true, y_pred),\n",
    "            \"precision\": metrics.precision_score(y_true, y_pred),\n",
    "            \"recall\": metrics.recall_score(y_true, y_pred),\n",
    "            \"specificity\": tn / (tn+fp),\n",
    "            \"f1\": metrics.f1_score(y_true, y_pred),\n",
    "            \"mcc\": metrics.matthews_corrcoef(y_true, y_pred)            \n",
    "        })            \n",
    "        \n",
    "    # mean and std\n",
    "    result[plant] = {}\n",
    "    for metric in [\"accuracy\", \"precision\", \"recall\", \"specificity\", \"f1\", \"mcc\"]:        \n",
    "        temp = pd.Series([item[metric] for item in result_list])        \n",
    "        result[plant][metric] = {}\n",
    "        result[plant][metric]['min'] = temp.min()\n",
    "        result[plant][metric]['max'] = temp.max()\n",
    "        result[plant][metric]['median'] = temp.median()\n",
    "        result[plant][metric]['mean'] = temp.mean()\n",
    "        result[plant][metric]['std'] = temp.std()\n",
    "        result[plant][metric]['var'] = temp.var()        "
   ]
  },
  {
   "cell_type": "code",
   "execution_count": 38,
   "metadata": {
    "ExecuteTime": {
     "end_time": "2022-09-24T21:02:33.481093Z",
     "start_time": "2022-09-24T21:02:33.464617Z"
    }
   },
   "outputs": [
    {
     "name": "stdout",
     "output_type": "stream",
     "text": [
      "O.sativa 0.9049 0.9542 0.9259 0.9267 0.0148 0.0002 0.8828 0.9552 0.9269 0.9235 0.0263 0.0007 0.8741 0.9653 0.9359 0.9311 0.0282 0.0008 0.8732 0.9577 0.9264 0.9227 0.0271 0.0007 0.9025 0.9553 0.9282 0.9268 0.0157 0.0002 0.8116 0.9086 0.851 0.8541 0.0292 0.0009 \n",
      "A.thaliana 0.9349 1.0 0.9794 0.9758 0.0194 0.0004 0.8878 1.0 0.9874 0.9749 0.0365 0.0013 0.9419 1.0 0.9866 0.9786 0.02 0.0004 0.8659 1.0 0.9885 0.9724 0.0427 0.0018 0.9405 1.0 0.9809 0.9762 0.0181 0.0003 0.8767 1.0 0.9586 0.9525 0.0369 0.0014 \n",
      "C.sinensis 0.8981 1.0 0.9815 0.9704 0.0302 0.0009 0.8983 1.0 0.9799 0.9672 0.0379 0.0014 0.9138 1.0 0.9829 0.9769 0.0313 0.001 0.88 1.0 0.9828 0.9636 0.0453 0.0021 0.906 1.0 0.9811 0.9716 0.0277 0.0008 0.795 1.0 0.9633 0.9413 0.0604 0.0036 \n",
      "Z.mays 0.976 1.0 0.992 0.9912 0.0096 0.0001 0.95 1.0 0.984 0.9857 0.016 0.0003 0.9839 1.0 1.0 0.9969 0.0065 0.0 0.9559 1.0 0.9846 0.9858 0.0155 0.0002 0.9744 1.0 0.9919 0.9912 0.0095 0.0001 0.9515 1.0 0.9841 0.9825 0.0191 0.0004 \n",
      "T.aestivum 0.631 0.9524 0.9231 0.8692 0.1137 0.0129 0.5735 0.9773 0.9033 0.8475 0.1322 0.0175 0.5833 1.0 0.943 0.9124 0.1206 0.0145 0.3256 0.9737 0.8919 0.8271 0.1921 0.0369 0.6462 0.9556 0.9282 0.8726 0.1128 0.0127 0.3524 0.9054 0.848 0.749 0.2092 0.0438 \n",
      "G.max 0.9193 0.9596 0.9327 0.9345 0.0114 0.0001 0.9062 0.972 0.9304 0.9329 0.0195 0.0004 0.8952 0.9587 0.9404 0.9371 0.0184 0.0003 0.8824 0.9735 0.9269 0.9307 0.0263 0.0007 0.9244 0.9585 0.9331 0.9348 0.0095 0.0001 0.8378 0.9196 0.8654 0.8687 0.0228 0.0005 \n",
      "G.raimondii 0.8902 0.9576 0.9271 0.9245 0.023 0.0005 0.8272 0.9875 0.9459 0.9353 0.0536 0.0029 0.8372 0.9881 0.9132 0.9156 0.0419 0.0018 0.825 0.9878 0.9516 0.9353 0.0556 0.0031 0.8874 0.9565 0.9237 0.9235 0.0237 0.0006 0.7871 0.9169 0.8561 0.8522 0.0438 0.0019 \n",
      "M.truncatula 0.8247 0.9072 0.8843 0.8795 0.0275 0.0008 0.7857 0.939 0.8655 0.8642 0.0476 0.0023 0.8191 0.9706 0.8985 0.9048 0.0463 0.0021 0.75 0.95 0.8587 0.8528 0.0633 0.004 0.8381 0.9135 0.8905 0.8825 0.0256 0.0007 0.6558 0.8205 0.7699 0.7621 0.0542 0.0029 \n",
      "S.bicolor 0.8585 0.9714 0.9009 0.9035 0.034 0.0012 0.7656 0.9434 0.8536 0.8575 0.0573 0.0033 0.8929 1.0 1.0 0.976 0.0382 0.0015 0.7021 0.9483 0.8301 0.8301 0.0817 0.0067 0.8673 0.9691 0.9099 0.9112 0.0287 0.0008 0.7511 0.9441 0.8148 0.8184 0.0611 0.0037 \n",
      "H.vulgare 0.5 0.8571 0.5714 0.6595 0.142 0.0202 0.0 1.0 0.6 0.5467 0.3259 0.1062 0.0 1.0 0.875 0.7 0.4048 0.1639 0.25 1.0 0.6667 0.5967 0.2907 0.0845 0.0 0.8889 0.6667 0.5956 0.3316 0.1099 -0.2582 0.75 0.3536 0.3365 0.3415 0.1166 \n"
     ]
    }
   ],
   "source": [
    "for plant in result:\n",
    "    s = plant + \" \"\n",
    "    for metric in result[plant]:        \n",
    "        for des in result[plant][metric]:            \n",
    "            s += str(round(result[plant][metric][des] , 4)) + \" \"\n",
    "    print(s)"
   ]
  },
  {
   "cell_type": "code",
   "execution_count": null,
   "metadata": {
    "ExecuteTime": {
     "start_time": "2022-09-24T20:01:12.840Z"
    }
   },
   "outputs": [],
   "source": [
    "'''\n",
    "fig, axs = plt.subplots(6, 1, figsize=(12, 12))    \n",
    "plt.suptitle(\"Then fold\")\n",
    "for index, metric in enumerate(['accuracy', 'precision', 'recall', 'f1', \"specificity\", \"mcc\"]):    \n",
    "    y = [r[metric] for r in result_list]\n",
    "    ax = axs[index] \n",
    "    ax.bar([f\"fold{i+1}\" for i in range(0,10)], y)\n",
    "    #ax.set_title(f\"Leave one out - {metric}\")\n",
    "    ax.set_xlabel(\"Folds\")\n",
    "    ax.set_ylabel(metric)\n",
    "    for i, v in enumerate(y):\n",
    "        ax.text(i - 0.2 , v - 0.1, str(round(v, 2)), color='black', fontweight='bold')\n",
    "    #plt.savefig(os.path.join(f'leave_one_out_{metric}.svg'), dpi=300, format='svg', bbox_inches='tight')\n",
    "    #plt.savefig(os.path.join(f'leave_one_out_{metric}.png'), dpi=300, format='png', bbox_inches='tight')\n",
    "plt.show()\n",
    "'''"
   ]
  },
  {
   "cell_type": "markdown",
   "metadata": {},
   "source": [
    "# Evaluation"
   ]
  },
  {
   "cell_type": "code",
   "execution_count": null,
   "metadata": {
    "ExecuteTime": {
     "start_time": "2022-09-24T20:01:13.694Z"
    }
   },
   "outputs": [],
   "source": [
    "def evaluation(plant):\n",
    "    y_true = np.argmax(data[plant]['target'], axis=1)\n",
    "    y_pred =  np.argmax(model.predict(data[plant]['feature']), axis=1)\n",
    "    confusion_matrix(y_true,y_pred,[\"No\",\"YES\"])\n",
    "    print(classification_report(y_true, y_pred))"
   ]
  },
  {
   "cell_type": "code",
   "execution_count": null,
   "metadata": {
    "ExecuteTime": {
     "start_time": "2022-09-24T20:01:14.116Z"
    }
   },
   "outputs": [],
   "source": [
    "def leave_one_out(plants, batch_size, learning_rate, epochs):\n",
    "    result = {}\n",
    "    for i in range(0, len(plants)):\n",
    "        test_plant = plants[i]\n",
    "        train_plants = plants.copy()\n",
    "        train_plants.remove(test_plant)            \n",
    "        [x_train, x_val, y_train, y_val, class_weight] = get_dataset(train_plants)        \n",
    "        model = get_model(x_train.shape[1])\n",
    "        [model, history] = train(model, x_train, x_val, y_train, y_val, class_weight, batch_size = batch_size , learning_rate = learning_rate, epochs=epochs)        \n",
    "        y_true = np.argmax(data[test_plant]['target'], axis=1)\n",
    "        y_pred =  np.argmax(model.predict(data[test_plant]['feature']), axis=1)\n",
    "        tn, fp, fn, tp = metrics.confusion_matrix(y_true, y_pred).ravel()\n",
    "        result[test_plant] = {\n",
    "            \"accuracy\": metrics.accuracy_score(y_true, y_pred),\n",
    "            \"precision\": metrics.precision_score(y_true, y_pred),\n",
    "            \"recall\": metrics.recall_score(y_true, y_pred),\n",
    "            \"specificity\": tn / (tn+fp),            \n",
    "            \"f1\": metrics.f1_score(y_true, y_pred),\n",
    "            \"mcc\": metrics.matthews_corrcoef(y_true, y_pred),            \n",
    "            \"model\": model,\n",
    "            \"history\": history\n",
    "        }\n",
    "    return result"
   ]
  },
  {
   "cell_type": "code",
   "execution_count": null,
   "metadata": {
    "ExecuteTime": {
     "start_time": "2022-09-24T20:01:14.726Z"
    }
   },
   "outputs": [],
   "source": [
    "def plot_metrics(result, plants, prefix_name=\"\"):\n",
    "    for metric in ['accuracy', 'precision', 'recall', 'f1', \"specificity\", \"mcc\"]:\n",
    "        fig, ax = plt.subplots(figsize=(12, 3))    \n",
    "        y = [result[plant][metric] for plant in plants]\n",
    "        ax.bar(plants, y)\n",
    "        plt.title(f\"Leave one out - {metric}\")\n",
    "        plt.xlabel(\"plant\")\n",
    "        plt.ylabel(metric)\n",
    "        for i, v in enumerate(y):\n",
    "            ax.text(i - 0.2 , v - 0.1, str(round(v, 2)), color='black', fontweight='bold')\n",
    "        plt.savefig(os.path.join(f'{prefix_name}_leave_one_out_{metric}.svg'), dpi=300, format='svg', bbox_inches='tight')\n",
    "        plt.savefig(os.path.join(f'{prefix_name}_leave_one_out_{metric}.png'), dpi=300, format='png', bbox_inches='tight')\n",
    "        plt.show()"
   ]
  },
  {
   "cell_type": "markdown",
   "metadata": {},
   "source": [
    "#  leave one out"
   ]
  },
  {
   "cell_type": "code",
   "execution_count": 42,
   "metadata": {
    "ExecuteTime": {
     "end_time": "2022-09-24T21:28:07.941744Z",
     "start_time": "2022-09-24T21:06:56.488879Z"
    }
   },
   "outputs": [
    {
     "name": "stdout",
     "output_type": "stream",
     "text": [
      "89/89 [==============================] - 0s 3ms/step\n",
      "53/53 [==============================] - 0s 3ms/step\n",
      "34/34 [==============================] - 0s 3ms/step\n",
      "40/40 [==============================] - 0s 4ms/step\n",
      "27/27 [==============================] - 0s 3ms/step\n",
      "70/70 [==============================] - 0s 3ms/step\n",
      "52/52 [==============================] - 0s 3ms/step\n",
      "61/61 [==============================] - 0s 3ms/step\n",
      "33/33 [==============================] - 0s 3ms/step\n",
      "3/3 [==============================] - 0s 5ms/step\n"
     ]
    }
   ],
   "source": [
    "all_result = leave_one_out(all_plant, batch_size=32, learning_rate = 0.002, epochs=500)"
   ]
  },
  {
   "cell_type": "code",
   "execution_count": 43,
   "metadata": {
    "ExecuteTime": {
     "end_time": "2022-09-24T21:28:07.958964Z",
     "start_time": "2022-09-24T21:28:07.946835Z"
    }
   },
   "outputs": [
    {
     "name": "stdout",
     "output_type": "stream",
     "text": [
      "f1:  7.255895008744253\n",
      "mcc:  5.120413597116524\n"
     ]
    }
   ],
   "source": [
    "print('f1: ', (pd.Series([all_result[p]['f1'] for p in all_result]) ** 2).sum())\n",
    "print('mcc: ', (pd.Series([all_result[p]['mcc'] for p in all_result]) ** 2).sum())"
   ]
  },
  {
   "cell_type": "code",
   "execution_count": 44,
   "metadata": {
    "ExecuteTime": {
     "end_time": "2022-09-24T21:28:17.993579Z",
     "start_time": "2022-09-24T21:28:07.962864Z"
    },
    "scrolled": true
   },
   "outputs": [
    {
     "data": {
      "image/png": "[encoded data removed]",
      "text/plain": [
       "<Figure size 864x216 with 1 Axes>"
      ]
     },
     "metadata": {
      "needs_background": "light"
     },
     "output_type": "display_data"
    },
    {
     "data": {
      "image/png": "[encoded data removed]",
      "text/plain": [
       "<Figure size 864x216 with 1 Axes>"
      ]
     },
     "metadata": {
      "needs_background": "light"
     },
     "output_type": "display_data"
    },
    {
     "data": {
      "image/png": "[encoded data removed]",
      "text/plain": [
       "<Figure size 864x216 with 1 Axes>"
      ]
     },
     "metadata": {
      "needs_background": "light"
     },
     "output_type": "display_data"
    },
    {
     "data": {
      "image/png": "[encoded data removed]",
      "text/plain": [
       "<Figure size 864x216 with 1 Axes>"
      ]
     },
     "metadata": {
      "needs_background": "light"
     },
     "output_type": "display_data"
    },
    {
     "data": {
      "image/png": "[encoded data removed]",
      "text/plain": [
       "<Figure size 864x216 with 1 Axes>"
      ]
     },
     "metadata": {
      "needs_background": "light"
     },
     "output_type": "display_data"
    },
    {
     "data": {
      "image/png": "[encoded data removed]",
      "text/plain": [
       "<Figure size 864x216 with 1 Axes>"
      ]
     },
     "metadata": {
      "needs_background": "light"
     },
     "output_type": "display_data"
    }
   ],
   "source": [
    "plot_metrics(all_result, all_plant, prefix_name=\"\")"
   ]
  },
  {
   "cell_type": "code",
   "execution_count": 41,
   "metadata": {
    "ExecuteTime": {
     "end_time": "2022-09-24T21:02:51.187447Z",
     "start_time": "2022-09-24T21:02:47.524681Z"
    }
   },
   "outputs": [
    {
     "name": "stdout",
     "output_type": "stream",
     "text": [
      "89/89 [==============================] - 0s 3ms/step\n",
      "53/53 [==============================] - 0s 3ms/step\n",
      "34/34 [==============================] - 0s 3ms/step\n",
      "40/40 [==============================] - 0s 3ms/step\n",
      "27/27 [==============================] - 0s 3ms/step\n",
      "70/70 [==============================] - 0s 3ms/step\n",
      "52/52 [==============================] - 0s 3ms/step\n",
      "61/61 [==============================] - 0s 3ms/step\n",
      "33/33 [==============================] - 0s 4ms/step\n",
      "3/3 [==============================] - 0s 4ms/step\n"
     ]
    },
    {
     "data": {
      "image/png": "[encoded data removed]",
      "text/plain": [
       "<Figure size 936x360 with 1 Axes>"
      ]
     },
     "metadata": {
      "needs_background": "light"
     },
     "output_type": "display_data"
    }
   ],
   "source": [
    "plt.figure(figsize=(13,5))\n",
    "for plant in all_plant:\n",
    "    pred = all_result[plant]['model'].predict(data[plant]['feature'])\n",
    "    pred = pd.DataFrame(pred)[1]\n",
    "    y =  data[plant]['target']\n",
    "    y = pd.DataFrame(y)[1]\n",
    "    fpr, tpr, thresh = metrics.roc_curve(y, pred)\n",
    "    roc_auc = metrics.auc(fpr, tpr)    \n",
    "    lw = 2\n",
    "    plt.plot(\n",
    "        fpr,\n",
    "        tpr,        \n",
    "        lw=lw,\n",
    "        label=f\"ROC curve - {plant} (area = %0.2f)\" % roc_auc,\n",
    "    )\n",
    "plt.plot([0, 1], [0, 1], color=\"navy\", lw=lw, linestyle=\"--\")\n",
    "plt.xlim([0.0, 1.0])\n",
    "plt.ylim([0.0, 1.05])\n",
    "plt.xlabel(\"False Positive Rate\")\n",
    "plt.ylabel(\"True Positive Rate\")\n",
    "plt.title(f\"Receiver operating characteristic\")\n",
    "plt.legend(loc=\"lower right\")\n",
    "plt.show()"
   ]
  },
  {
   "cell_type": "markdown",
   "metadata": {
    "heading_collapsed": true
   },
   "source": [
    "# monocotiledoneas vs dicotiledoneas"
   ]
  },
  {
   "cell_type": "code",
   "execution_count": 245,
   "metadata": {
    "ExecuteTime": {
     "end_time": "2022-08-03T19:43:40.056639Z",
     "start_time": "2022-08-03T19:34:45.564666Z"
    },
    "hidden": true,
    "scrolled": true
   },
   "outputs": [
    {
     "name": "stdout",
     "output_type": "stream",
     "text": [
      "326\n",
      "Epoch 1/100\n",
      "286/286 [==============================] - 4s 7ms/step - loss: 0.6980 - acc: 0.8232 - val_loss: 0.0970 - val_acc: 0.9676\n",
      "Epoch 2/100\n",
      "286/286 [==============================] - 2s 6ms/step - loss: 0.2944 - acc: 0.9490 - val_loss: 0.1079 - val_acc: 0.9665\n",
      "Epoch 3/100\n",
      "286/286 [==============================] - 2s 6ms/step - loss: 0.1710 - acc: 0.9678 - val_loss: 0.0553 - val_acc: 0.9798\n",
      "Epoch 4/100\n",
      "286/286 [==============================] - 2s 6ms/step - loss: 0.1503 - acc: 0.9756 - val_loss: 0.0452 - val_acc: 0.9842\n",
      "Epoch 5/100\n",
      "286/286 [==============================] - 2s 6ms/step - loss: 0.1080 - acc: 0.9836 - val_loss: 0.0728 - val_acc: 0.9758\n",
      "Epoch 6/100\n",
      "286/286 [==============================] - 2s 6ms/step - loss: 0.1143 - acc: 0.9828 - val_loss: 0.0376 - val_acc: 0.9880\n",
      "Epoch 7/100\n",
      "286/286 [==============================] - 2s 6ms/step - loss: 0.0812 - acc: 0.9860 - val_loss: 0.0304 - val_acc: 0.9918\n",
      "Epoch 8/100\n",
      "286/286 [==============================] - 2s 6ms/step - loss: 0.0789 - acc: 0.9880 - val_loss: 0.0369 - val_acc: 0.9893\n",
      "Epoch 9/100\n",
      "286/286 [==============================] - 2s 6ms/step - loss: 0.0607 - acc: 0.9895 - val_loss: 0.0338 - val_acc: 0.9880\n",
      "Epoch 10/100\n",
      "286/286 [==============================] - 2s 6ms/step - loss: 0.0488 - acc: 0.9932 - val_loss: 0.0320 - val_acc: 0.9891\n",
      "Epoch 11/100\n",
      "286/286 [==============================] - 2s 6ms/step - loss: 0.0297 - acc: 0.9949 - val_loss: 0.0315 - val_acc: 0.9942\n",
      "Epoch 12/100\n",
      "286/286 [==============================] - 2s 6ms/step - loss: 0.0547 - acc: 0.9922 - val_loss: 0.0306 - val_acc: 0.9938\n",
      "1010/1010 [==============================] - 2s 2ms/step\n",
      "326\n",
      "Epoch 1/100\n",
      "947/947 [==============================] - 9s 7ms/step - loss: 0.8448 - acc: 0.8309 - val_loss: 0.1770 - val_acc: 0.9267\n",
      "Epoch 2/100\n",
      "947/947 [==============================] - 6s 6ms/step - loss: 0.4671 - acc: 0.9219 - val_loss: 0.1624 - val_acc: 0.9470\n",
      "Epoch 3/100\n",
      "947/947 [==============================] - 6s 6ms/step - loss: 0.3469 - acc: 0.9412 - val_loss: 0.1079 - val_acc: 0.9518\n",
      "Epoch 4/100\n",
      "947/947 [==============================] - 6s 6ms/step - loss: 0.3074 - acc: 0.9485 - val_loss: 0.0983 - val_acc: 0.9642\n",
      "Epoch 5/100\n",
      "947/947 [==============================] - 6s 6ms/step - loss: 0.2581 - acc: 0.9575 - val_loss: 0.0887 - val_acc: 0.9662\n",
      "Epoch 6/100\n",
      "947/947 [==============================] - 6s 6ms/step - loss: 0.2427 - acc: 0.9588 - val_loss: 0.0814 - val_acc: 0.9694\n",
      "Epoch 7/100\n",
      "947/947 [==============================] - 6s 6ms/step - loss: 0.2154 - acc: 0.9634 - val_loss: 0.0627 - val_acc: 0.9768\n",
      "Epoch 8/100\n",
      "947/947 [==============================] - 6s 6ms/step - loss: 0.1843 - acc: 0.9682 - val_loss: 0.0638 - val_acc: 0.9689\n",
      "Epoch 9/100\n",
      "947/947 [==============================] - 6s 6ms/step - loss: 0.1986 - acc: 0.9663 - val_loss: 0.0555 - val_acc: 0.9774\n",
      "Epoch 10/100\n",
      "947/947 [==============================] - 6s 6ms/step - loss: 0.1779 - acc: 0.9662 - val_loss: 0.0509 - val_acc: 0.9818\n",
      "Epoch 11/100\n",
      "947/947 [==============================] - 6s 6ms/step - loss: 0.1631 - acc: 0.9730 - val_loss: 0.0534 - val_acc: 0.9773\n",
      "Epoch 12/100\n",
      "947/947 [==============================] - 6s 6ms/step - loss: 0.1474 - acc: 0.9763 - val_loss: 0.0430 - val_acc: 0.9857\n",
      "Epoch 13/100\n",
      "947/947 [==============================] - 6s 6ms/step - loss: 0.1499 - acc: 0.9767 - val_loss: 0.0431 - val_acc: 0.9849\n",
      "Epoch 14/100\n",
      "947/947 [==============================] - 6s 6ms/step - loss: 0.1219 - acc: 0.9806 - val_loss: 0.0394 - val_acc: 0.9871\n",
      "Epoch 15/100\n",
      "947/947 [==============================] - 6s 6ms/step - loss: 0.1091 - acc: 0.9805 - val_loss: 0.0492 - val_acc: 0.9835\n",
      "Epoch 16/100\n",
      "947/947 [==============================] - 6s 6ms/step - loss: 0.1186 - acc: 0.9815 - val_loss: 0.0412 - val_acc: 0.9845\n",
      "Epoch 17/100\n",
      "947/947 [==============================] - 6s 6ms/step - loss: 0.1237 - acc: 0.9813 - val_loss: 0.0435 - val_acc: 0.9865\n",
      "Epoch 18/100\n",
      "947/947 [==============================] - 6s 6ms/step - loss: 0.1251 - acc: 0.9822 - val_loss: 0.0395 - val_acc: 0.9877\n",
      "Epoch 19/100\n",
      "947/947 [==============================] - 6s 6ms/step - loss: 0.0958 - acc: 0.9886 - val_loss: 0.0286 - val_acc: 0.9905\n",
      "Epoch 20/100\n",
      "947/947 [==============================] - 6s 6ms/step - loss: 0.0866 - acc: 0.9846 - val_loss: 0.0387 - val_acc: 0.9855\n",
      "Epoch 21/100\n",
      "947/947 [==============================] - 5s 6ms/step - loss: 0.0834 - acc: 0.9864 - val_loss: 0.0402 - val_acc: 0.9852\n",
      "Epoch 22/100\n",
      "947/947 [==============================] - 6s 6ms/step - loss: 0.0997 - acc: 0.9858 - val_loss: 0.0478 - val_acc: 0.9862\n",
      "Epoch 23/100\n",
      "947/947 [==============================] - 6s 6ms/step - loss: 0.0807 - acc: 0.9872 - val_loss: 0.0442 - val_acc: 0.9856\n",
      "Epoch 24/100\n",
      "947/947 [==============================] - 6s 6ms/step - loss: 0.1006 - acc: 0.9850 - val_loss: 0.0327 - val_acc: 0.9895\n",
      "23/23 [==============================] - 0s 2ms/step\n",
      "326\n",
      "Epoch 1/100\n",
      "928/928 [==============================] - 7s 6ms/step - loss: 0.7165 - acc: 0.8770 - val_loss: 0.2493 - val_acc: 0.9187\n",
      "Epoch 2/100\n",
      "928/928 [==============================] - 5s 6ms/step - loss: 0.3969 - acc: 0.9374 - val_loss: 0.1684 - val_acc: 0.9346\n",
      "Epoch 3/100\n",
      "928/928 [==============================] - 5s 6ms/step - loss: 0.3485 - acc: 0.9515 - val_loss: 0.0964 - val_acc: 0.9740\n",
      "Epoch 4/100\n",
      "928/928 [==============================] - 5s 6ms/step - loss: 0.2618 - acc: 0.9583 - val_loss: 0.0980 - val_acc: 0.9669\n",
      "Epoch 5/100\n",
      "928/928 [==============================] - 5s 6ms/step - loss: 0.2144 - acc: 0.9620 - val_loss: 0.0824 - val_acc: 0.9692\n",
      "Epoch 6/100\n",
      "928/928 [==============================] - 6s 6ms/step - loss: 0.2134 - acc: 0.9622 - val_loss: 0.0513 - val_acc: 0.9820\n",
      "Epoch 7/100\n",
      "928/928 [==============================] - 5s 6ms/step - loss: 0.1767 - acc: 0.9682 - val_loss: 0.0629 - val_acc: 0.9742\n",
      "Epoch 8/100\n",
      "928/928 [==============================] - 5s 6ms/step - loss: 0.1515 - acc: 0.9695 - val_loss: 0.0915 - val_acc: 0.9622\n",
      "Epoch 9/100\n",
      "928/928 [==============================] - 5s 6ms/step - loss: 0.1390 - acc: 0.9735 - val_loss: 0.0469 - val_acc: 0.9843\n",
      "Epoch 10/100\n",
      "928/928 [==============================] - 5s 6ms/step - loss: 0.1385 - acc: 0.9735 - val_loss: 0.0760 - val_acc: 0.9696\n",
      "Epoch 11/100\n",
      "928/928 [==============================] - 5s 6ms/step - loss: 0.1248 - acc: 0.9751 - val_loss: 0.0524 - val_acc: 0.9816\n",
      "Epoch 12/100\n",
      "928/928 [==============================] - 5s 6ms/step - loss: 0.1147 - acc: 0.9770 - val_loss: 0.0530 - val_acc: 0.9799\n",
      "Epoch 13/100\n",
      "928/928 [==============================] - 5s 6ms/step - loss: 0.1276 - acc: 0.9784 - val_loss: 0.0717 - val_acc: 0.9753\n",
      "Epoch 14/100\n",
      "928/928 [==============================] - 6s 6ms/step - loss: 0.1149 - acc: 0.9792 - val_loss: 0.0405 - val_acc: 0.9862\n",
      "Epoch 15/100\n",
      "928/928 [==============================] - 5s 6ms/step - loss: 0.0997 - acc: 0.9837 - val_loss: 0.0430 - val_acc: 0.9875\n",
      "Epoch 16/100\n",
      "928/928 [==============================] - 5s 6ms/step - loss: 0.0996 - acc: 0.9838 - val_loss: 0.0426 - val_acc: 0.9869\n",
      "Epoch 17/100\n",
      "928/928 [==============================] - 5s 6ms/step - loss: 0.0887 - acc: 0.9830 - val_loss: 0.0415 - val_acc: 0.9893\n",
      "Epoch 18/100\n",
      "928/928 [==============================] - 6s 6ms/step - loss: 0.0821 - acc: 0.9842 - val_loss: 0.0453 - val_acc: 0.9893\n",
      "Epoch 19/100\n",
      "928/928 [==============================] - 5s 6ms/step - loss: 0.0893 - acc: 0.9839 - val_loss: 0.0404 - val_acc: 0.9883\n",
      "Epoch 20/100\n",
      "928/928 [==============================] - 5s 6ms/step - loss: 0.0773 - acc: 0.9844 - val_loss: 0.0427 - val_acc: 0.9880\n",
      "Epoch 21/100\n",
      "928/928 [==============================] - 5s 6ms/step - loss: 0.0777 - acc: 0.9848 - val_loss: 0.0459 - val_acc: 0.9896\n",
      "Epoch 22/100\n",
      "928/928 [==============================] - 5s 6ms/step - loss: 0.0824 - acc: 0.9877 - val_loss: 0.0378 - val_acc: 0.9908\n",
      "Epoch 23/100\n",
      "928/928 [==============================] - 5s 6ms/step - loss: 0.0680 - acc: 0.9902 - val_loss: 0.0422 - val_acc: 0.9897\n",
      "Epoch 24/100\n",
      "928/928 [==============================] - 5s 6ms/step - loss: 0.0556 - acc: 0.9908 - val_loss: 0.0502 - val_acc: 0.9877\n",
      "Epoch 25/100\n",
      "928/928 [==============================] - 5s 6ms/step - loss: 0.0680 - acc: 0.9879 - val_loss: 0.0495 - val_acc: 0.9882\n",
      "Epoch 26/100\n",
      "928/928 [==============================] - 5s 6ms/step - loss: 0.0757 - acc: 0.9886 - val_loss: 0.0417 - val_acc: 0.9912\n",
      "Epoch 27/100\n",
      "928/928 [==============================] - 5s 6ms/step - loss: 0.0625 - acc: 0.9892 - val_loss: 0.0490 - val_acc: 0.9914\n",
      "53/53 [==============================] - 0s 2ms/step\n",
      "326\n",
      "Epoch 1/100\n",
      "733/733 [==============================] - 6s 7ms/step - loss: 0.7279 - acc: 0.8512 - val_loss: 0.1704 - val_acc: 0.9359\n",
      "Epoch 2/100\n",
      "733/733 [==============================] - 4s 6ms/step - loss: 0.4114 - acc: 0.9282 - val_loss: 0.1114 - val_acc: 0.9598\n",
      "Epoch 3/100\n",
      "733/733 [==============================] - 4s 6ms/step - loss: 0.3294 - acc: 0.9478 - val_loss: 0.0970 - val_acc: 0.9674\n",
      "Epoch 4/100\n",
      "733/733 [==============================] - 4s 6ms/step - loss: 0.2548 - acc: 0.9559 - val_loss: 0.0965 - val_acc: 0.9616\n",
      "Epoch 5/100\n",
      "733/733 [==============================] - 4s 6ms/step - loss: 0.2209 - acc: 0.9617 - val_loss: 0.0694 - val_acc: 0.9757\n",
      "Epoch 6/100\n",
      "733/733 [==============================] - 4s 6ms/step - loss: 0.1824 - acc: 0.9669 - val_loss: 0.0558 - val_acc: 0.9814\n",
      "Epoch 7/100\n",
      "733/733 [==============================] - 4s 6ms/step - loss: 0.1530 - acc: 0.9705 - val_loss: 0.0705 - val_acc: 0.9706\n",
      "Epoch 8/100\n",
      "733/733 [==============================] - 4s 6ms/step - loss: 0.1518 - acc: 0.9683 - val_loss: 0.0731 - val_acc: 0.9713\n",
      "Epoch 9/100\n",
      "733/733 [==============================] - 4s 6ms/step - loss: 0.1293 - acc: 0.9716 - val_loss: 0.0577 - val_acc: 0.9752\n",
      "Epoch 10/100\n",
      "733/733 [==============================] - 4s 6ms/step - loss: 0.1257 - acc: 0.9791 - val_loss: 0.0465 - val_acc: 0.9843\n",
      "Epoch 11/100\n",
      "733/733 [==============================] - 4s 6ms/step - loss: 0.1042 - acc: 0.9806 - val_loss: 0.0381 - val_acc: 0.9883\n",
      "Epoch 12/100\n",
      "733/733 [==============================] - 4s 6ms/step - loss: 0.0913 - acc: 0.9813 - val_loss: 0.0499 - val_acc: 0.9827\n",
      "Epoch 13/100\n",
      "733/733 [==============================] - 4s 6ms/step - loss: 0.1224 - acc: 0.9809 - val_loss: 0.0547 - val_acc: 0.9840\n",
      "Epoch 14/100\n",
      "733/733 [==============================] - 4s 6ms/step - loss: 0.0994 - acc: 0.9833 - val_loss: 0.0395 - val_acc: 0.9876\n",
      "Epoch 15/100\n",
      "733/733 [==============================] - 4s 6ms/step - loss: 0.0747 - acc: 0.9846 - val_loss: 0.0382 - val_acc: 0.9871\n",
      "Epoch 16/100\n",
      "733/733 [==============================] - 4s 6ms/step - loss: 0.0782 - acc: 0.9878 - val_loss: 0.0421 - val_acc: 0.9862\n",
      "343/343 [==============================] - 1s 2ms/step\n",
      "326\n",
      "Epoch 1/100\n",
      "957/957 [==============================] - 8s 6ms/step - loss: 0.7300 - acc: 0.8586 - val_loss: 0.1617 - val_acc: 0.9641\n",
      "Epoch 2/100\n",
      "957/957 [==============================] - 6s 6ms/step - loss: 0.4219 - acc: 0.9352 - val_loss: 0.1317 - val_acc: 0.9704\n",
      "Epoch 3/100\n",
      "957/957 [==============================] - 6s 6ms/step - loss: 0.3045 - acc: 0.9534 - val_loss: 0.1373 - val_acc: 0.9592\n",
      "Epoch 4/100\n",
      "957/957 [==============================] - 6s 6ms/step - loss: 0.2501 - acc: 0.9583 - val_loss: 0.0793 - val_acc: 0.9714\n",
      "Epoch 5/100\n",
      "957/957 [==============================] - 6s 6ms/step - loss: 0.2267 - acc: 0.9614 - val_loss: 0.1455 - val_acc: 0.9468\n",
      "Epoch 6/100\n",
      "957/957 [==============================] - 6s 6ms/step - loss: 0.1998 - acc: 0.9663 - val_loss: 0.0702 - val_acc: 0.9824\n",
      "Epoch 7/100\n",
      "957/957 [==============================] - 6s 6ms/step - loss: 0.1634 - acc: 0.9701 - val_loss: 0.0663 - val_acc: 0.9733\n",
      "Epoch 8/100\n",
      "957/957 [==============================] - 6s 6ms/step - loss: 0.1459 - acc: 0.9713 - val_loss: 0.0476 - val_acc: 0.9853\n",
      "Epoch 9/100\n",
      "957/957 [==============================] - 6s 6ms/step - loss: 0.1562 - acc: 0.9734 - val_loss: 0.0472 - val_acc: 0.9838\n",
      "Epoch 10/100\n",
      "957/957 [==============================] - 6s 6ms/step - loss: 0.1334 - acc: 0.9778 - val_loss: 0.0571 - val_acc: 0.9828\n",
      "Epoch 11/100\n",
      "957/957 [==============================] - 6s 6ms/step - loss: 0.1267 - acc: 0.9790 - val_loss: 0.0387 - val_acc: 0.9880\n",
      "Epoch 12/100\n",
      "957/957 [==============================] - 6s 6ms/step - loss: 0.1363 - acc: 0.9790 - val_loss: 0.0485 - val_acc: 0.9851\n",
      "Epoch 13/100\n",
      "957/957 [==============================] - 6s 6ms/step - loss: 0.0965 - acc: 0.9813 - val_loss: 0.0360 - val_acc: 0.9862\n",
      "Epoch 14/100\n",
      "957/957 [==============================] - 6s 6ms/step - loss: 0.1126 - acc: 0.9809 - val_loss: 0.0364 - val_acc: 0.9875\n",
      "Epoch 15/100\n",
      "957/957 [==============================] - 6s 6ms/step - loss: 0.1091 - acc: 0.9788 - val_loss: 0.0645 - val_acc: 0.9710\n",
      "Epoch 16/100\n",
      "957/957 [==============================] - 6s 6ms/step - loss: 0.1073 - acc: 0.9797 - val_loss: 0.0468 - val_acc: 0.9873\n",
      "Epoch 17/100\n",
      "957/957 [==============================] - 6s 6ms/step - loss: 0.0763 - acc: 0.9873 - val_loss: 0.0355 - val_acc: 0.9888\n",
      "Epoch 18/100\n",
      "957/957 [==============================] - 6s 6ms/step - loss: 0.0769 - acc: 0.9877 - val_loss: 0.0515 - val_acc: 0.9863\n",
      "Epoch 19/100\n",
      "957/957 [==============================] - 6s 6ms/step - loss: 0.0833 - acc: 0.9866 - val_loss: 0.0382 - val_acc: 0.9879\n",
      "Epoch 20/100\n",
      "957/957 [==============================] - 6s 6ms/step - loss: 0.0743 - acc: 0.9875 - val_loss: 0.0275 - val_acc: 0.9920\n",
      "Epoch 21/100\n",
      "957/957 [==============================] - 6s 6ms/step - loss: 0.0756 - acc: 0.9861 - val_loss: 0.0318 - val_acc: 0.9910\n",
      "Epoch 22/100\n",
      "957/957 [==============================] - 6s 6ms/step - loss: 0.0700 - acc: 0.9883 - val_loss: 0.0312 - val_acc: 0.9921\n",
      "Epoch 23/100\n",
      "957/957 [==============================] - 6s 6ms/step - loss: 0.0528 - acc: 0.9896 - val_loss: 0.0297 - val_acc: 0.9929\n",
      "Epoch 24/100\n",
      "957/957 [==============================] - 6s 6ms/step - loss: 0.0604 - acc: 0.9903 - val_loss: 0.0284 - val_acc: 0.9940\n",
      "Epoch 25/100\n",
      "957/957 [==============================] - 6s 6ms/step - loss: 0.0690 - acc: 0.9911 - val_loss: 0.0406 - val_acc: 0.9890\n",
      "9/9 [==============================] - 0s 3ms/step\n"
     ]
    }
   ],
   "source": [
    "monocotiledoneas = [\n",
    "    \"O.sativa\",        \n",
    "    \"Z.mays\",\n",
    "    \"T.aestivum\",            \n",
    "    \"S.bicolor\",\n",
    "    \"H.vulgare\"\n",
    "]\n",
    "\n",
    "mono_result = leave_one_out(monocotiledoneas)"
   ]
  },
  {
   "cell_type": "code",
   "execution_count": 246,
   "metadata": {
    "ExecuteTime": {
     "end_time": "2022-08-03T19:43:42.023165Z",
     "start_time": "2022-08-03T19:43:40.061274Z"
    },
    "hidden": true
   },
   "outputs": [
    {
     "data": {
      "image/png": "[encoded data removed]",
      "text/plain": [
       "<Figure size 864x216 with 1 Axes>"
      ]
     },
     "metadata": {
      "needs_background": "light"
     },
     "output_type": "display_data"
    },
    {
     "data": {
      "image/png": "[encoded data removed]",
      "text/plain": [
       "<Figure size 864x216 with 1 Axes>"
      ]
     },
     "metadata": {
      "needs_background": "light"
     },
     "output_type": "display_data"
    },
    {
     "data": {
      "image/png": "[encoded data removed]",
      "text/plain": [
       "<Figure size 864x216 with 1 Axes>"
      ]
     },
     "metadata": {
      "needs_background": "light"
     },
     "output_type": "display_data"
    },
    {
     "data": {
      "image/png": "[encoded data removed]",
      "text/plain": [
       "<Figure size 864x216 with 1 Axes>"
      ]
     },
     "metadata": {
      "needs_background": "light"
     },
     "output_type": "display_data"
    }
   ],
   "source": [
    "plot_metrics(mono_result, monocotiledoneas, prefix_name=\"\")"
   ]
  },
  {
   "cell_type": "code",
   "execution_count": null,
   "metadata": {
    "hidden": true
   },
   "outputs": [],
   "source": [
    "dicotiledoneas = [    \n",
    "    \"A.thaliana\",\n",
    "    \"C.Sinensis\",        \n",
    "    \"G.max\",\n",
    "    \"G.raimondii\",\n",
    "    \"M.truncatula\"    \n",
    "]\n",
    "di_result = leave_one_out(dicotiledoneas)"
   ]
  },
  {
   "cell_type": "markdown",
   "metadata": {
    "heading_collapsed": true,
    "hidden": true,
    "id": "3kmGEcGV9Ivg"
   },
   "source": [
    "## O.sativa"
   ]
  },
  {
   "cell_type": "code",
   "execution_count": 178,
   "metadata": {
    "ExecuteTime": {
     "end_time": "2022-08-02T11:49:53.912672Z",
     "start_time": "2022-08-02T11:49:49.921570Z"
    },
    "colab": {
     "background_save": true
    },
    "hidden": true,
    "id": "me4nwgwQdK2g",
    "outputId": "295d8bb2-485a-4ab7-c8e1-b51b5484acc9"
   },
   "outputs": [
    {
     "name": "stdout",
     "output_type": "stream",
     "text": [
      "1010/1010 [==============================] - 2s 2ms/step\n"
     ]
    },
    {
     "data": {
      "image/png": "[encoded data removed]",
      "text/plain": [
       "<Figure size 432x288 with 2 Axes>"
      ]
     },
     "metadata": {
      "needs_background": "light"
     },
     "output_type": "display_data"
    },
    {
     "name": "stdout",
     "output_type": "stream",
     "text": [
      "              precision    recall  f1-score   support\n",
      "\n",
      "           0       1.00      0.99      1.00     30888\n",
      "           1       0.88      0.97      0.93      1419\n",
      "\n",
      "    accuracy                           0.99     32307\n",
      "   macro avg       0.94      0.98      0.96     32307\n",
      "weighted avg       0.99      0.99      0.99     32307\n",
      "\n"
     ]
    }
   ],
   "source": [
    "evaluation('O.sativa')"
   ]
  },
  {
   "cell_type": "markdown",
   "metadata": {
    "heading_collapsed": true,
    "hidden": true,
    "id": "91OMgy_pThZz"
   },
   "source": [
    "## A.thaliana"
   ]
  },
  {
   "cell_type": "code",
   "execution_count": 179,
   "metadata": {
    "ExecuteTime": {
     "end_time": "2022-08-02T11:49:55.521852Z",
     "start_time": "2022-08-02T11:49:53.916405Z"
    },
    "colab": {
     "base_uri": "https://localhost:8080/",
     "height": 538
    },
    "executionInfo": {
     "elapsed": 31527,
     "status": "ok",
     "timestamp": 1655673353129,
     "user": {
      "displayName": "Ilia abolhasani",
      "userId": "05829853781998776186"
     },
     "user_tz": -270
    },
    "hidden": true,
    "id": "xNA4Gq-8U88p",
    "outputId": "584d531d-e536-45ea-bf61-67f1bae8c43f",
    "scrolled": true
   },
   "outputs": [
    {
     "name": "stdout",
     "output_type": "stream",
     "text": [
      "350/350 [==============================] - 1s 2ms/step\n"
     ]
    },
    {
     "data": {
      "image/png": "[encoded data removed]",
      "text/plain": [
       "<Figure size 432x288 with 2 Axes>"
      ]
     },
     "metadata": {
      "needs_background": "light"
     },
     "output_type": "display_data"
    },
    {
     "name": "stdout",
     "output_type": "stream",
     "text": [
      "              precision    recall  f1-score   support\n",
      "\n",
      "           0       1.00      0.99      1.00     10347\n",
      "           1       0.93      0.99      0.96       847\n",
      "\n",
      "    accuracy                           0.99     11194\n",
      "   macro avg       0.97      0.99      0.98     11194\n",
      "weighted avg       0.99      0.99      0.99     11194\n",
      "\n"
     ]
    }
   ],
   "source": [
    "evaluation('A.thaliana')"
   ]
  },
  {
   "cell_type": "code",
   "execution_count": 180,
   "metadata": {
    "ExecuteTime": {
     "end_time": "2022-08-02T11:49:57.076127Z",
     "start_time": "2022-08-02T11:49:55.525975Z"
    },
    "hidden": true
   },
   "outputs": [
    {
     "name": "stdout",
     "output_type": "stream",
     "text": [
      "350/350 [==============================] - 1s 2ms/step\n"
     ]
    },
    {
     "data": {
      "image/png": "[encoded data removed]",
      "text/plain": [
       "<Figure size 432x288 with 2 Axes>"
      ]
     },
     "metadata": {
      "needs_background": "light"
     },
     "output_type": "display_data"
    },
    {
     "name": "stdout",
     "output_type": "stream",
     "text": [
      "              precision    recall  f1-score   support\n",
      "\n",
      "           0       1.00      0.99      1.00     10347\n",
      "           1       0.93      0.99      0.96       847\n",
      "\n",
      "    accuracy                           0.99     11194\n",
      "   macro avg       0.97      0.99      0.98     11194\n",
      "weighted avg       0.99      0.99      0.99     11194\n",
      "\n"
     ]
    }
   ],
   "source": [
    "plant = 'A.thaliana'\n",
    "y_true = np.argmax(data[plant]['target'], axis=1)\n",
    "y_pred =  np.argmax(model.predict(data[plant]['feature']), axis=1)\n",
    "confusion_matrix(y_true,y_pred,[\"No\",\"YES\"])\n",
    "print(classification_report(y_true, y_pred))"
   ]
  },
  {
   "cell_type": "markdown",
   "metadata": {
    "heading_collapsed": true,
    "hidden": true,
    "id": "jrOyXg2_qjPo"
   },
   "source": [
    "## C.Sinensis"
   ]
  },
  {
   "cell_type": "code",
   "execution_count": 181,
   "metadata": {
    "ExecuteTime": {
     "end_time": "2022-08-02T11:49:57.795549Z",
     "start_time": "2022-08-02T11:49:57.080272Z"
    },
    "colab": {
     "base_uri": "https://localhost:8080/",
     "height": 538
    },
    "executionInfo": {
     "elapsed": 2069,
     "status": "ok",
     "timestamp": 1655637593518,
     "user": {
      "displayName": "Ilia abolhasani",
      "userId": "05829853781998776186"
     },
     "user_tz": -270
    },
    "hidden": true,
    "id": "QaKPNj6Kqk5P",
    "outputId": "7d09cc33-396e-4464-a5cd-72f34fedc74c"
   },
   "outputs": [
    {
     "name": "stdout",
     "output_type": "stream",
     "text": [
      "70/70 [==============================] - 0s 2ms/step\n"
     ]
    },
    {
     "data": {
      "image/png": "[encoded data removed]",
      "text/plain": [
       "<Figure size 432x288 with 2 Axes>"
      ]
     },
     "metadata": {
      "needs_background": "light"
     },
     "output_type": "display_data"
    },
    {
     "name": "stdout",
     "output_type": "stream",
     "text": [
      "              precision    recall  f1-score   support\n",
      "\n",
      "           0       1.00      0.99      0.99      1672\n",
      "           1       0.97      1.00      0.98       540\n",
      "\n",
      "    accuracy                           0.99      2212\n",
      "   macro avg       0.98      0.99      0.99      2212\n",
      "weighted avg       0.99      0.99      0.99      2212\n",
      "\n"
     ]
    }
   ],
   "source": [
    "evaluation('C.Sinensis')"
   ]
  },
  {
   "cell_type": "markdown",
   "metadata": {
    "heading_collapsed": true,
    "hidden": true,
    "id": "z7xpiDQCdqdH"
   },
   "source": [
    "## Z.mays"
   ]
  },
  {
   "cell_type": "code",
   "execution_count": 182,
   "metadata": {
    "ExecuteTime": {
     "end_time": "2022-08-02T11:49:58.358499Z",
     "start_time": "2022-08-02T11:49:57.798878Z"
    },
    "colab": {
     "base_uri": "https://localhost:8080/",
     "height": 538
    },
    "executionInfo": {
     "elapsed": 3017,
     "status": "ok",
     "timestamp": 1655637599771,
     "user": {
      "displayName": "Ilia abolhasani",
      "userId": "05829853781998776186"
     },
     "user_tz": -270
    },
    "hidden": true,
    "id": "VqbZ9DJ1gLqc",
    "outputId": "1a559363-5e23-4e55-c238-35e96ec739b2"
   },
   "outputs": [
    {
     "name": "stdout",
     "output_type": "stream",
     "text": [
      "23/23 [==============================] - 0s 2ms/step\n"
     ]
    },
    {
     "data": {
      "image/png": "[encoded data removed]",
      "text/plain": [
       "<Figure size 432x288 with 2 Axes>"
      ]
     },
     "metadata": {
      "needs_background": "light"
     },
     "output_type": "display_data"
    },
    {
     "name": "stdout",
     "output_type": "stream",
     "text": [
      "              precision    recall  f1-score   support\n",
      "\n",
      "           0       1.00      1.00      1.00       110\n",
      "           1       1.00      1.00      1.00       625\n",
      "\n",
      "    accuracy                           1.00       735\n",
      "   macro avg       1.00      1.00      1.00       735\n",
      "weighted avg       1.00      1.00      1.00       735\n",
      "\n"
     ]
    }
   ],
   "source": [
    "evaluation('Z.mays')"
   ]
  },
  {
   "cell_type": "markdown",
   "metadata": {
    "heading_collapsed": true,
    "hidden": true
   },
   "source": [
    "## T.aestivum"
   ]
  },
  {
   "cell_type": "code",
   "execution_count": 183,
   "metadata": {
    "ExecuteTime": {
     "end_time": "2022-08-02T11:49:59.016460Z",
     "start_time": "2022-08-02T11:49:58.361758Z"
    },
    "hidden": true
   },
   "outputs": [
    {
     "name": "stdout",
     "output_type": "stream",
     "text": [
      "53/53 [==============================] - 0s 2ms/step\n"
     ]
    },
    {
     "data": {
      "image/png": "[encoded data removed]",
      "text/plain": [
       "<Figure size 432x288 with 2 Axes>"
      ]
     },
     "metadata": {
      "needs_background": "light"
     },
     "output_type": "display_data"
    },
    {
     "name": "stdout",
     "output_type": "stream",
     "text": [
      "              precision    recall  f1-score   support\n",
      "\n",
      "           0       1.00      0.99      1.00      1264\n",
      "           1       0.97      1.00      0.99       421\n",
      "\n",
      "    accuracy                           0.99      1685\n",
      "   macro avg       0.99      0.99      0.99      1685\n",
      "weighted avg       0.99      0.99      0.99      1685\n",
      "\n"
     ]
    }
   ],
   "source": [
    "evaluation('T.aestivum')"
   ]
  },
  {
   "cell_type": "markdown",
   "metadata": {
    "heading_collapsed": true,
    "hidden": true,
    "id": "5pASyNqygete"
   },
   "source": [
    "## G.max"
   ]
  },
  {
   "cell_type": "code",
   "execution_count": 184,
   "metadata": {
    "ExecuteTime": {
     "end_time": "2022-08-02T11:50:02.832336Z",
     "start_time": "2022-08-02T11:49:59.019919Z"
    },
    "hidden": true
   },
   "outputs": [
    {
     "name": "stdout",
     "output_type": "stream",
     "text": [
      "993/993 [==============================] - 2s 2ms/step\n"
     ]
    },
    {
     "data": {
      "image/png": "[encoded data removed]",
      "text/plain": [
       "<Figure size 432x288 with 2 Axes>"
      ]
     },
     "metadata": {
      "needs_background": "light"
     },
     "output_type": "display_data"
    },
    {
     "name": "stdout",
     "output_type": "stream",
     "text": [
      "              precision    recall  f1-score   support\n",
      "\n",
      "           0       1.00      0.99      1.00     30635\n",
      "           1       0.80      0.98      0.88      1115\n",
      "\n",
      "    accuracy                           0.99     31750\n",
      "   macro avg       0.90      0.99      0.94     31750\n",
      "weighted avg       0.99      0.99      0.99     31750\n",
      "\n"
     ]
    }
   ],
   "source": [
    "evaluation('G.max')"
   ]
  },
  {
   "cell_type": "markdown",
   "metadata": {
    "heading_collapsed": true,
    "hidden": true
   },
   "source": [
    "## G.raimondii"
   ]
  },
  {
   "cell_type": "code",
   "execution_count": 185,
   "metadata": {
    "ExecuteTime": {
     "end_time": "2022-08-02T11:50:05.530973Z",
     "start_time": "2022-08-02T11:50:02.837731Z"
    },
    "hidden": true
   },
   "outputs": [
    {
     "name": "stdout",
     "output_type": "stream",
     "text": [
      "689/689 [==============================] - 2s 2ms/step\n"
     ]
    },
    {
     "data": {
      "image/png": "[encoded data removed]",
      "text/plain": [
       "<Figure size 432x288 with 2 Axes>"
      ]
     },
     "metadata": {
      "needs_background": "light"
     },
     "output_type": "display_data"
    },
    {
     "name": "stdout",
     "output_type": "stream",
     "text": [
      "              precision    recall  f1-score   support\n",
      "\n",
      "           0       1.00      0.99      1.00     21208\n",
      "           1       0.83      0.99      0.90       822\n",
      "\n",
      "    accuracy                           0.99     22030\n",
      "   macro avg       0.91      0.99      0.95     22030\n",
      "weighted avg       0.99      0.99      0.99     22030\n",
      "\n"
     ]
    }
   ],
   "source": [
    "evaluation('G.raimondii')"
   ]
  },
  {
   "cell_type": "markdown",
   "metadata": {
    "hidden": true
   },
   "source": [
    "## M.truncatula"
   ]
  },
  {
   "cell_type": "code",
   "execution_count": 186,
   "metadata": {
    "ExecuteTime": {
     "end_time": "2022-08-02T11:50:07.372800Z",
     "start_time": "2022-08-02T11:50:05.534431Z"
    },
    "hidden": true
   },
   "outputs": [
    {
     "name": "stdout",
     "output_type": "stream",
     "text": [
      "426/426 [==============================] - 1s 2ms/step\n"
     ]
    },
    {
     "data": {
      "image/png": "[encoded data removed]",
      "text/plain": [
       "<Figure size 432x288 with 2 Axes>"
      ]
     },
     "metadata": {
      "needs_background": "light"
     },
     "output_type": "display_data"
    },
    {
     "name": "stdout",
     "output_type": "stream",
     "text": [
      "              precision    recall  f1-score   support\n",
      "\n",
      "           0       0.99      0.92      0.95     12656\n",
      "           1       0.46      0.83      0.59       971\n",
      "\n",
      "    accuracy                           0.92     13627\n",
      "   macro avg       0.72      0.88      0.77     13627\n",
      "weighted avg       0.95      0.92      0.93     13627\n",
      "\n"
     ]
    }
   ],
   "source": [
    "evaluation('M.truncatula')"
   ]
  },
  {
   "cell_type": "markdown",
   "metadata": {
    "heading_collapsed": true
   },
   "source": [
    "# Confusion matrix"
   ]
  },
  {
   "cell_type": "code",
   "execution_count": 191,
   "metadata": {
    "ExecuteTime": {
     "end_time": "2022-08-03T14:15:15.645837Z",
     "start_time": "2022-08-03T14:15:15.116974Z"
    },
    "hidden": true,
    "scrolled": false
   },
   "outputs": [
    {
     "name": "stdout",
     "output_type": "stream",
     "text": [
      "9/9 [==============================] - 0s 3ms/step\n"
     ]
    },
    {
     "data": {
      "image/png": "[encoded data removed]",
      "text/plain": [
       "<Figure size 432x288 with 2 Axes>"
      ]
     },
     "metadata": {
      "needs_background": "light"
     },
     "output_type": "display_data"
    },
    {
     "name": "stdout",
     "output_type": "stream",
     "text": [
      "              precision    recall  f1-score   support\n",
      "\n",
      "           0       0.95      0.88      0.91       236\n",
      "           1       0.45      0.68      0.54        34\n",
      "\n",
      "    accuracy                           0.86       270\n",
      "   macro avg       0.70      0.78      0.73       270\n",
      "weighted avg       0.89      0.86      0.87       270\n",
      "\n"
     ]
    }
   ],
   "source": [
    "evaluation('H.vulgare')"
   ]
  },
  {
   "cell_type": "code",
   "execution_count": 34,
   "metadata": {
    "ExecuteTime": {
     "end_time": "2022-09-04T09:50:33.592690Z",
     "start_time": "2022-09-04T09:50:32.815934Z"
    },
    "hidden": true
   },
   "outputs": [
    {
     "data": {
      "text/plain": [
       "0.8813559322033898"
      ]
     },
     "execution_count": 34,
     "metadata": {},
     "output_type": "execute_result"
    }
   ],
   "source": [
    "208 / (208 + 28)"
   ]
  },
  {
   "cell_type": "markdown",
   "metadata": {
    "heading_collapsed": true
   },
   "source": [
    "# final model"
   ]
  },
  {
   "cell_type": "code",
   "execution_count": 40,
   "metadata": {
    "ExecuteTime": {
     "end_time": "2022-08-31T15:40:56.613554Z",
     "start_time": "2022-08-31T15:39:39.032673Z"
    },
    "hidden": true
   },
   "outputs": [
    {
     "name": "stdout",
     "output_type": "stream",
     "text": [
      "{0: 1.0, 1: 1.0}\n"
     ]
    }
   ],
   "source": [
    "train_plants = all_plant.copy()        \n",
    "[x_train, x_val, y_train, y_val, class_weight] = get_dataset(train_plants)        \n",
    "print( class_weight)\n",
    "model = get_model(x_train.shape[1])\n",
    "[model, history] = train(model, x_train, x_val, y_train, y_val, class_weight,  batch_size=32, learning_rate = 0.002, epochs=500)                "
   ]
  },
  {
   "cell_type": "code",
   "execution_count": 42,
   "metadata": {
    "ExecuteTime": {
     "end_time": "2022-08-31T15:44:08.845589Z",
     "start_time": "2022-08-31T15:44:08.689180Z"
    },
    "hidden": true
   },
   "outputs": [],
   "source": [
    "model.save('../classifier/model.h5')  "
   ]
  },
  {
   "cell_type": "code",
   "execution_count": null,
   "metadata": {
    "hidden": true
   },
   "outputs": [],
   "source": []
  },
  {
   "cell_type": "code",
   "execution_count": null,
   "metadata": {
    "hidden": true
   },
   "outputs": [],
   "source": []
  }
 ],
 "metadata": {
  "colab": {
   "collapsed_sections": [
    "qyC8IFwrWkag",
    "bdbqIS-UWka4",
    "5Ueqwrjc5ewu",
    "Yqno44cv5iiY",
    "TlT1KSuI5mJX",
    "zKOjU6DD5oCk",
    "JNmcvnfJZhok",
    "-1L8jIc5WkbW"
   ],
   "name": "Classification.ipynb",
   "provenance": []
  },
  "kernelspec": {
   "display_name": "Python 3",
   "language": "python",
   "name": "python3"
  },
  "language_info": {
   "codemirror_mode": {
    "name": "ipython",
    "version": 3
   },
   "file_extension": ".py",
   "mimetype": "text/x-python",
   "name": "python",
   "nbconvert_exporter": "python",
   "pygments_lexer": "ipython3",
   "version": "3.8.10"
  }
 },
 "nbformat": 4,
 "nbformat_minor": 1
}
