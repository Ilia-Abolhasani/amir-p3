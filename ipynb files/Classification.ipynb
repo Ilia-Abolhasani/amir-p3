{
 "cells": [
  {
   "cell_type": "markdown",
   "metadata": {
    "id": "qyC8IFwrWkag"
   },
   "source": [
    "# Imports"
   ]
  },
  {
   "cell_type": "code",
   "execution_count": 27,
   "metadata": {
    "ExecuteTime": {
     "end_time": "2022-06-12T13:38:01.022667Z",
     "start_time": "2022-06-12T13:38:01.014050Z"
    },
    "id": "16Duf9iWWkat"
   },
   "outputs": [],
   "source": [
    "import json\n",
    "from __future__ import division\n",
    "import warnings\n",
    "warnings.filterwarnings('ignore')\n",
    "import sys\n",
    "from numpy.random import randint\n",
    "from numpy.random import rand\n",
    "import multiprocessing as mp\n",
    "import random\n",
    "import math\n",
    "import pandas as pd\n",
    "import numpy as np\n",
    "from tqdm.notebook import tqdm\n",
    "import matplotlib.pyplot as plt\n",
    "from tqdm.contrib.concurrent import process_map\n",
    "sys.path.append(\"./src\")\n",
    "from convertor import convert\n",
    "import os\n",
    "from sklearn.preprocessing import OneHotEncoder"
   ]
  },
  {
   "cell_type": "code",
   "execution_count": 28,
   "metadata": {
    "ExecuteTime": {
     "end_time": "2022-06-12T13:38:01.915729Z",
     "start_time": "2022-06-12T13:38:01.905121Z"
    },
    "colab": {
     "base_uri": "https://localhost:8080/"
    },
    "executionInfo": {
     "elapsed": 2583,
     "status": "ok",
     "timestamp": 1655029466218,
     "user": {
      "displayName": "Ilia abolhasani",
      "userId": "05829853781998776186"
     },
     "user_tz": -270
    },
    "id": "dw2CPHm_ZDdT",
    "outputId": "eed2b593-a5f8-42ae-bfa7-96bd0f32e09f"
   },
   "outputs": [
    {
     "name": "stdout",
     "output_type": "stream",
     "text": [
      "keras version  2.9.0\n"
     ]
    }
   ],
   "source": [
    "from sklearn import metrics\n",
    "from sklearn.metrics import classification_report\n",
    "from sklearn import preprocessing\n",
    "from sklearn.model_selection import train_test_split\n",
    "\n",
    "import tensorflow as tf\n",
    "import keras\n",
    "from keras import backend as K\n",
    "from keras.models import Sequential\n",
    "from keras.layers import Input,Dense, Dropout, Flatten, Reshape, GlobalAveragePooling1D, BatchNormalization,LSTM,Bidirectional\n",
    "from keras.layers import Conv2D, MaxPooling2D, Conv1D, MaxPooling1D,UpSampling1D, Conv1DTranspose,GaussianNoise \n",
    "from keras.utils import np_utils\n",
    "from keras import backend as K\n",
    "from keras.callbacks import Callback\n",
    "from keras.regularizers import l2 , l1, l1_l2\n",
    "import tensorflow.keras.backend as kb\n",
    "print('keras version ', keras.__version__)\n",
    "\n",
    "from keras.utils.vis_utils import plot_model"
   ]
  },
  {
   "cell_type": "markdown",
   "metadata": {
    "id": "bdbqIS-UWka4"
   },
   "source": [
    "# Functions"
   ]
  },
  {
   "cell_type": "code",
   "execution_count": 5,
   "metadata": {
    "ExecuteTime": {
     "end_time": "2022-06-12T12:30:57.721971Z",
     "start_time": "2022-06-12T12:30:57.716796Z"
    },
    "id": "Pk2w6ac8Wka5"
   },
   "outputs": [],
   "source": [
    "def df_to_fasta(df, path):\n",
    "    lines = []\n",
    "    df.apply(lambda row: lines.append(f\">{row['tag']}\\n{row['data']}\\n\"),axis=1)\n",
    "    with open(path,'w') as file:\n",
    "        file.write(''.join(lines))"
   ]
  },
  {
   "cell_type": "code",
   "execution_count": 6,
   "metadata": {
    "ExecuteTime": {
     "end_time": "2022-06-12T12:30:57.732698Z",
     "start_time": "2022-06-12T12:30:57.725334Z"
    },
    "id": "yoDSV7bjWka6"
   },
   "outputs": [],
   "source": [
    "def fasta_to_df(path):\n",
    "    with open(path, 'r') as file:\n",
    "        text = file.read()\n",
    "    lines = [line for line in text.split('\\n') if len(line) > 0]\n",
    "    s = ''\n",
    "    tags = []\n",
    "    data = []\n",
    "    for l in lines:\n",
    "        if(l[0]=='>'):\n",
    "            tags.append(l)        \n",
    "            data.append(s)\n",
    "            s = ''\n",
    "        else:\n",
    "            s += l    \n",
    "    data.append(s)\n",
    "    df = pd.DataFrame(\n",
    "            {\n",
    "                'tag': tags,\n",
    "                'data': data[1:]\n",
    "            })\n",
    "    df['tag'] = df['tag'].apply(lambda x: x[1:])    \n",
    "    return df"
   ]
  },
  {
   "cell_type": "code",
   "execution_count": 7,
   "metadata": {
    "ExecuteTime": {
     "end_time": "2022-06-12T12:30:57.739572Z",
     "start_time": "2022-06-12T12:30:57.735737Z"
    },
    "id": "nQOAHaVBWka_"
   },
   "outputs": [],
   "source": [
    "class DotDict(dict):\n",
    "    __getattr__ = dict.get\n",
    "    __setattr__ = dict.__setitem__\n",
    "    __delattr__ = dict.__delitem__"
   ]
  },
  {
   "cell_type": "code",
   "execution_count": 8,
   "metadata": {
    "ExecuteTime": {
     "end_time": "2022-06-12T12:30:57.795644Z",
     "start_time": "2022-06-12T12:30:57.742438Z"
    },
    "id": "pzR6yRp8v_aT"
   },
   "outputs": [],
   "source": [
    "import numpy as np\n",
    "import pandas as pd\n",
    "import seaborn as sns\n",
    "import matplotlib.pyplot as plt\n",
    "from sklearn import metrics\n",
    "\n",
    "def confusion_matrix(validations, predictions, LABELS):            \n",
    "    freq = metrics.confusion_matrix(validations, predictions)        \n",
    "    sensitivity =  (np.divide(freq.transpose(),\n",
    "                             np.sum(freq, axis=1)).transpose() * 100).round(2)    \n",
    "    annotation = []\n",
    "    for i in range(freq.shape[0]):\n",
    "        row = []\n",
    "        for j in range(freq.shape[1]):\n",
    "            row.append(f'{freq[i][j]}\\n {sensitivity[i][j]}%')            \n",
    "        annotation.append(row)\n",
    "    annotation = np.array(annotation)\n",
    "    sns.heatmap(sensitivity, cmap=\"YlOrBr\",\n",
    "                vmin=0, vmax=100,\n",
    "                linecolor='white',\n",
    "                linewidths=1,\n",
    "                xticklabels=LABELS,\n",
    "                yticklabels=LABELS,\n",
    "                annot=annotation,\n",
    "               fmt=':<')    \n",
    "    plt.title(\"Confusion Matrix\")\n",
    "    plt.ylabel(\"Actually Label\")\n",
    "    plt.xlabel(\"Predicted Label\")\n",
    "    plt.show()            \n",
    "\n",
    "def report(pred, df, ref):\n",
    "    number_of_hit = len(df['hit seq'].unique())\n",
    "    print(f'number of unique hit: {number_of_hit}')\n",
    "    total = len(df[df['hit seq'].isin(ref['data'])]['hit seq'].unique()) \n",
    "    print(f'total mir: {total}')    \n",
    "    selected = df[pd.Series(pred).apply(lambda x: True if x==1 else False)]\n",
    "    found_seq = selected[selected['hit seq'].isin(ref['data'])]['hit seq'].unique()\n",
    "    found = len(found_seq)\n",
    "    print(f'found mir : {found}')\n",
    "    print(f'fount to all : {round(found / total * 100, 2)}%')\n",
    "    fp = len(selected[~selected['hit seq'].isin(ref['data'])]['hit seq'].unique())\n",
    "    print(f'fp: {fp}')"
   ]
  },
  {
   "cell_type": "markdown",
   "metadata": {
    "id": "4qLMRhTLWkbA"
   },
   "source": [
    "# Load all mediom dataset"
   ]
  },
  {
   "cell_type": "code",
   "execution_count": 9,
   "metadata": {
    "ExecuteTime": {
     "end_time": "2022-06-12T12:30:57.803047Z",
     "start_time": "2022-06-12T12:30:57.798600Z"
    },
    "id": "QSvkewSupdLq"
   },
   "outputs": [],
   "source": [
    "data = {}\n",
    "data[\"O.sativa\"] = {}\n",
    "data[\"C.Sinensis\"] = {}\n",
    "data[\"A.thaliana\"] = {}\n",
    "data[\"Z.mays\"] = {}"
   ]
  },
  {
   "cell_type": "code",
   "execution_count": 10,
   "metadata": {
    "ExecuteTime": {
     "end_time": "2022-06-12T12:31:29.381465Z",
     "start_time": "2022-06-12T12:30:57.807342Z"
    },
    "id": "6LIsfAK8WkbB"
   },
   "outputs": [],
   "source": [
    "data[\"O.sativa\"]['df'] = pd.read_csv(f\"./Experiment/O.sativa/Result/result_level1_filter.csv\")\n",
    "data[\"O.sativa\"]['df'] = convert(data[\"O.sativa\"]['df'])"
   ]
  },
  {
   "cell_type": "code",
   "execution_count": 11,
   "metadata": {
    "ExecuteTime": {
     "end_time": "2022-06-12T12:39:12.877967Z",
     "start_time": "2022-06-12T12:39:12.865028Z"
    },
    "id": "vejB1iy5sGLO"
   },
   "outputs": [],
   "source": [
    "data[\"O.sativa\"]['reference'] = fasta_to_df(f\"./Experiment/O.sativa/reference.fasta\")\n",
    "data[\"O.sativa\"]['reference']['data'] = data[\"O.sativa\"]['reference']['data'].apply(lambda x: x.replace(\"U\", \"T\"))"
   ]
  },
  {
   "cell_type": "code",
   "execution_count": 12,
   "metadata": {
    "ExecuteTime": {
     "end_time": "2022-06-12T12:39:20.838782Z",
     "start_time": "2022-06-12T12:39:13.659144Z"
    },
    "id": "-eXwDfMbsjtB"
   },
   "outputs": [],
   "source": [
    "data[\"A.thaliana\"]['df'] = pd.read_csv(f\"./Experiment/A.thaliana/Result/result_level1_filter.csv\")\n",
    "data[\"A.thaliana\"]['df'] = convert(data[\"A.thaliana\"]['df'] )"
   ]
  },
  {
   "cell_type": "code",
   "execution_count": 13,
   "metadata": {
    "ExecuteTime": {
     "end_time": "2022-06-12T12:39:20.853272Z",
     "start_time": "2022-06-12T12:39:20.843311Z"
    },
    "id": "mZVYDRUmsvZ-"
   },
   "outputs": [],
   "source": [
    "data[\"A.thaliana\"]['reference'] = fasta_to_df(f\"./Experiment/A.thaliana/reference.fasta\")\n",
    "data[\"A.thaliana\"]['reference']['data'] = data[\"A.thaliana\"]['reference']['data'].apply(lambda x: x.replace(\"U\", \"T\"))"
   ]
  },
  {
   "cell_type": "code",
   "execution_count": 14,
   "metadata": {
    "ExecuteTime": {
     "end_time": "2022-06-12T12:40:01.927342Z",
     "start_time": "2022-06-12T12:39:20.857567Z"
    },
    "id": "9FPW6VlKs1bK"
   },
   "outputs": [],
   "source": [
    "data[\"C.Sinensis\"]['df'] = pd.read_csv(f\"./Experiment/C.Sinensis/Result/result_level1_filter.csv\")\n",
    "data[\"C.Sinensis\"]['df'] = convert(data[\"C.Sinensis\"]['df'])"
   ]
  },
  {
   "cell_type": "code",
   "execution_count": 15,
   "metadata": {
    "ExecuteTime": {
     "end_time": "2022-06-12T12:40:01.940900Z",
     "start_time": "2022-06-12T12:40:01.931171Z"
    },
    "id": "oQqX6Fovs6_D"
   },
   "outputs": [],
   "source": [
    "data[\"C.Sinensis\"]['reference'] = fasta_to_df(f\"./Experiment/C.Sinensis/reference.fasta\")\n",
    "data[\"C.Sinensis\"]['reference']['data'] = data[\"C.Sinensis\"]['reference']['data'].apply(lambda x: x.replace(\"U\", \"T\"))"
   ]
  },
  {
   "cell_type": "code",
   "execution_count": 16,
   "metadata": {
    "ExecuteTime": {
     "end_time": "2022-06-12T12:40:52.186754Z",
     "start_time": "2022-06-12T12:40:01.944520Z"
    },
    "id": "Pfjt8VwaUJr7"
   },
   "outputs": [],
   "source": [
    "data[\"Z.mays\"]['df'] = pd.read_csv(f\"./Experiment/Z.mays/Result/result_level1_filter.csv\")\n",
    "data[\"Z.mays\"]['df'] = convert(data[\"Z.mays\"]['df'])"
   ]
  },
  {
   "cell_type": "code",
   "execution_count": 17,
   "metadata": {
    "ExecuteTime": {
     "end_time": "2022-06-12T12:40:52.199078Z",
     "start_time": "2022-06-12T12:40:52.190160Z"
    },
    "id": "46WuwgG0Ud8k"
   },
   "outputs": [],
   "source": [
    "data[\"Z.mays\"]['reference'] = fasta_to_df(f\"./Experiment/Z.mays/reference.fasta\")\n",
    "data[\"Z.mays\"]['reference']['data'] = data[\"Z.mays\"]['reference']['data'].apply(lambda x: x.replace(\"U\", \"T\"))"
   ]
  },
  {
   "cell_type": "markdown",
   "metadata": {
    "id": "Mb9Y63NLWkbR"
   },
   "source": [
    "# Preprocess: convert ct-analizer result to feature vector"
   ]
  },
  {
   "cell_type": "code",
   "execution_count": 29,
   "metadata": {
    "ExecuteTime": {
     "end_time": "2022-06-12T13:38:09.488175Z",
     "start_time": "2022-06-12T13:38:09.483510Z"
    },
    "id": "Q-4qhSDHvGiY"
   },
   "outputs": [],
   "source": [
    "from preprocessing import get_target, preprocessing"
   ]
  },
  {
   "cell_type": "markdown",
   "metadata": {
    "id": "ga0XLAghtnVh"
   },
   "source": [
    "# Apply preprocess"
   ]
  },
  {
   "cell_type": "code",
   "execution_count": 20,
   "metadata": {
    "ExecuteTime": {
     "end_time": "2022-06-12T13:14:40.984403Z",
     "start_time": "2022-06-12T12:40:59.321450Z"
    },
    "id": "geJEeON4isHO"
   },
   "outputs": [],
   "source": [
    "data['O.sativa']['feature'] = preprocessing(data[\"O.sativa\"]['df'])\n",
    "data['O.sativa']['target'] = get_target(data[\"O.sativa\"]['df'], data[\"O.sativa\"]['reference'])"
   ]
  },
  {
   "cell_type": "code",
   "execution_count": 21,
   "metadata": {
    "ExecuteTime": {
     "end_time": "2022-06-12T13:22:26.815647Z",
     "start_time": "2022-06-12T13:14:40.989489Z"
    },
    "id": "qK66aSnQujo-"
   },
   "outputs": [],
   "source": [
    "data['A.thaliana']['feature'] = preprocessing(data[\"A.thaliana\"]['df'])\n",
    "data['A.thaliana']['target'] = get_target(data[\"A.thaliana\"]['df'], data[\"A.thaliana\"]['reference'])"
   ]
  },
  {
   "cell_type": "code",
   "execution_count": 30,
   "metadata": {
    "ExecuteTime": {
     "end_time": "2022-06-12T14:13:49.790709Z",
     "start_time": "2022-06-12T13:38:12.490620Z"
    },
    "colab": {
     "background_save": true
    },
    "id": "GRL8MGYEujQ8"
   },
   "outputs": [],
   "source": [
    "data['C.Sinensis']['feature'] = preprocessing(data[\"C.Sinensis\"]['df'])\n",
    "data['C.Sinensis']['target'] = get_target(data[\"C.Sinensis\"]['df'], data[\"C.Sinensis\"]['reference'])"
   ]
  },
  {
   "cell_type": "code",
   "execution_count": 31,
   "metadata": {
    "ExecuteTime": {
     "end_time": "2022-06-12T15:04:18.091559Z",
     "start_time": "2022-06-12T14:13:49.795385Z"
    },
    "id": "I1ntx7PdY5LY"
   },
   "outputs": [],
   "source": [
    "data['Z.mays']['feature'] = preprocessing(data[\"Z.mays\"]['df'])\n",
    "data['Z.mays']['target'] = get_target(data[\"Z.mays\"]['df'], data[\"Z.mays\"]['reference'])"
   ]
  },
  {
   "cell_type": "markdown",
   "metadata": {
    "id": "-1L8jIc5WkbW"
   },
   "source": [
    "# Deep learning model"
   ]
  },
  {
   "cell_type": "code",
   "execution_count": null,
   "metadata": {
    "id": "MqideaON8K6m"
   },
   "outputs": [],
   "source": [
    "X_train, X_val, y_train, y_val = train_test_split(data['O.sativa']['feature'], data['O.sativa']['target'], test_size=0.33, random_state=42)"
   ]
  },
  {
   "cell_type": "code",
   "execution_count": null,
   "metadata": {
    "colab": {
     "base_uri": "https://localhost:8080/"
    },
    "executionInfo": {
     "elapsed": 11,
     "status": "ok",
     "timestamp": 1654867460547,
     "user": {
      "displayName": "Ilia abolhasani",
      "userId": "05829853781998776186"
     },
     "user_tz": -270
    },
    "id": "81y6KiA5Zuvu",
    "outputId": "2358dc0e-63d9-44e3-840e-e588c2734bc0"
   },
   "outputs": [
    {
     "data": {
      "text/plain": [
       "{0: 1.0, 1: 144.69557522123893}"
      ]
     },
     "execution_count": 22,
     "metadata": {},
     "output_type": "execute_result"
    }
   ],
   "source": [
    "class_weight = {0: 1.,\n",
    "                1: (sum(y_train[:,0]) + sum(y_val[:,0])) / (sum(y_train[:,1]) + sum(y_val[:,1]))}\n",
    "class_weight"
   ]
  },
  {
   "cell_type": "code",
   "execution_count": null,
   "metadata": {
    "colab": {
     "base_uri": "https://localhost:8080/"
    },
    "executionInfo": {
     "elapsed": 819,
     "status": "ok",
     "timestamp": 1654869467685,
     "user": {
      "displayName": "Ilia abolhasani",
      "userId": "05829853781998776186"
     },
     "user_tz": -270
    },
    "id": "PTWcv4craZYB",
    "outputId": "52d07e03-7cd9-45ba-f845-ed71882c87d8"
   },
   "outputs": [
    {
     "name": "stdout",
     "output_type": "stream",
     "text": [
      "Model: \"sequential_6\"\n",
      "_________________________________________________________________\n",
      " Layer (type)                Output Shape              Param #   \n",
      "=================================================================\n",
      " dense_34 (Dense)            (None, 256)               82688     \n",
      "                                                                 \n",
      " dropout_22 (Dropout)        (None, 256)               0         \n",
      "                                                                 \n",
      " dense_35 (Dense)            (None, 128)               32896     \n",
      "                                                                 \n",
      " dropout_23 (Dropout)        (None, 128)               0         \n",
      "                                                                 \n",
      " dense_36 (Dense)            (None, 64)                8256      \n",
      "                                                                 \n",
      " dropout_24 (Dropout)        (None, 64)                0         \n",
      "                                                                 \n",
      " dense_37 (Dense)            (None, 16)                1040      \n",
      "                                                                 \n",
      " dropout_25 (Dropout)        (None, 16)                0         \n",
      "                                                                 \n",
      " dense_38 (Dense)            (None, 4)                 68        \n",
      "                                                                 \n",
      " dense_39 (Dense)            (None, 2)                 10        \n",
      "                                                                 \n",
      "=================================================================\n",
      "Total params: 124,958\n",
      "Trainable params: 124,958\n",
      "Non-trainable params: 0\n",
      "_________________________________________________________________\n",
      "None\n"
     ]
    }
   ],
   "source": [
    "model = Sequential()\n",
    "model.add(Dense(256, activation='relu', input_shape=(X_train.shape[1],)))\n",
    "model.add(Dropout(0.5))\n",
    "model.add(Dense(128, activation='relu'))\n",
    "model.add(Dropout(0.5))\n",
    "model.add(Dense(64, activation='relu'))\n",
    "model.add(Dropout(0.5))\n",
    "model.add(Dense(16, activation='relu'))\n",
    "model.add(Dropout(0.5))\n",
    "model.add(Dense(4, activation='relu'))\n",
    "model.add(Dense(2, activation='softmax'))\n",
    "print(model.summary())"
   ]
  },
  {
   "cell_type": "code",
   "execution_count": null,
   "metadata": {
    "colab": {
     "background_save": true,
     "base_uri": "https://localhost:8080/"
    },
    "id": "CusrPoF6atqa",
    "outputId": "eac64144-827a-48fa-f3f9-ce73218b4dd2"
   },
   "outputs": [
    {
     "name": "stdout",
     "output_type": "stream",
     "text": [
      "Epoch 1/100\n",
      "862/862 [==============================] - 7s 7ms/step - loss: 1.3495 - acc: 0.8053 - val_loss: 0.2467 - val_acc: 0.8761\n",
      "Epoch 2/100\n",
      "862/862 [==============================] - 5s 6ms/step - loss: 0.7847 - acc: 0.8327 - val_loss: 0.2197 - val_acc: 0.9034\n",
      "Epoch 3/100\n",
      "862/862 [==============================] - 5s 6ms/step - loss: 0.7885 - acc: 0.8330 - val_loss: 0.4773 - val_acc: 0.7715\n",
      "Epoch 4/100\n",
      "862/862 [==============================] - 6s 7ms/step - loss: 0.6308 - acc: 0.8470 - val_loss: 0.1863 - val_acc: 0.9267\n",
      "Epoch 5/100\n",
      "862/862 [==============================] - 5s 6ms/step - loss: 0.5264 - acc: 0.8686 - val_loss: 0.2525 - val_acc: 0.8932\n",
      "Epoch 6/100\n",
      "862/862 [==============================] - 5s 6ms/step - loss: 0.5490 - acc: 0.8665 - val_loss: 0.2714 - val_acc: 0.8677\n",
      "Epoch 7/100\n",
      "862/862 [==============================] - 6s 7ms/step - loss: 0.4502 - acc: 0.8886 - val_loss: 0.1534 - val_acc: 0.9287\n",
      "Epoch 8/100\n",
      "862/862 [==============================] - 6s 7ms/step - loss: 0.4030 - acc: 0.9069 - val_loss: 0.1476 - val_acc: 0.9407\n",
      "Epoch 9/100\n",
      "862/862 [==============================] - 6s 6ms/step - loss: 0.4139 - acc: 0.9114 - val_loss: 0.1645 - val_acc: 0.9367\n",
      "Epoch 10/100\n",
      "862/862 [==============================] - 6s 6ms/step - loss: 0.3810 - acc: 0.9145 - val_loss: 0.1986 - val_acc: 0.9179\n",
      "Epoch 11/100\n",
      "862/862 [==============================] - 5s 6ms/step - loss: 0.4045 - acc: 0.9070 - val_loss: 0.2788 - val_acc: 0.8807\n",
      "Epoch 12/100\n",
      "862/862 [==============================] - 6s 7ms/step - loss: 0.3173 - acc: 0.9229 - val_loss: 0.1948 - val_acc: 0.9125\n",
      "Epoch 13/100\n",
      "862/862 [==============================] - 6s 7ms/step - loss: 0.2944 - acc: 0.9308 - val_loss: 0.1340 - val_acc: 0.9461\n",
      "Epoch 14/100\n",
      "862/862 [==============================] - 5s 6ms/step - loss: 0.3223 - acc: 0.9303 - val_loss: 0.1591 - val_acc: 0.9303\n",
      "Epoch 15/100\n",
      "862/862 [==============================] - 5s 6ms/step - loss: 0.3009 - acc: 0.9283 - val_loss: 0.1390 - val_acc: 0.9432\n",
      "Epoch 16/100\n",
      "862/862 [==============================] - 6s 6ms/step - loss: 0.2916 - acc: 0.9351 - val_loss: 0.1171 - val_acc: 0.9601\n",
      "Epoch 17/100\n",
      "862/862 [==============================] - 5s 6ms/step - loss: 0.3113 - acc: 0.9309 - val_loss: 0.1156 - val_acc: 0.9622\n",
      "Epoch 18/100\n",
      "862/862 [==============================] - 6s 6ms/step - loss: 0.3244 - acc: 0.9300 - val_loss: 0.1391 - val_acc: 0.9539\n",
      "Epoch 19/100\n",
      "862/862 [==============================] - 5s 6ms/step - loss: 0.2808 - acc: 0.9329 - val_loss: 0.1030 - val_acc: 0.9607\n",
      "Epoch 20/100\n",
      "862/862 [==============================] - 5s 6ms/step - loss: 0.2800 - acc: 0.9397 - val_loss: 0.2674 - val_acc: 0.8847\n",
      "Epoch 21/100\n",
      "862/862 [==============================] - 5s 6ms/step - loss: 0.2487 - acc: 0.9434 - val_loss: 0.1535 - val_acc: 0.9487\n",
      "Epoch 22/100\n",
      "862/862 [==============================] - 7s 8ms/step - loss: 0.3136 - acc: 0.9423 - val_loss: 0.1927 - val_acc: 0.9157\n",
      "Epoch 23/100\n",
      "862/862 [==============================] - 6s 7ms/step - loss: 0.2709 - acc: 0.9411 - val_loss: 0.1207 - val_acc: 0.9535\n",
      "Epoch 24/100\n",
      "862/862 [==============================] - 6s 6ms/step - loss: 0.2375 - acc: 0.9436 - val_loss: 0.1399 - val_acc: 0.9505\n"
     ]
    }
   ],
   "source": [
    "callbacks_list = [\n",
    "                  tf.keras.callbacks.EarlyStopping( monitor=\"val_loss\", patience=5, restore_best_weights=True),\n",
    "                 ]\n",
    "learning_rate = 0.001\n",
    "optimizer = tf.keras.optimizers.Adam(learning_rate)\n",
    "\n",
    "model.compile(loss = \"categorical_crossentropy\",                \n",
    "                optimizer=optimizer,\n",
    "                metrics = [\"acc\"])                \n",
    "BATCH_SIZE = 64\n",
    "EPOCHS = 100\n",
    "history = model.fit(X_train,\n",
    "                    y_train,\n",
    "                    class_weight=class_weight,\n",
    "                    batch_size=BATCH_SIZE,\n",
    "                    validation_data=(X_val, y_val),\n",
    "                    epochs=EPOCHS,\n",
    "                    callbacks=callbacks_list,\n",
    "                    verbose=1) \n",
    "\n",
    "json.dump(str(history.history), open(f\"./history.pkl\", \"w\"))\n",
    "model.save(f'./Model.h5')"
   ]
  },
  {
   "cell_type": "markdown",
   "metadata": {
    "id": "3kmGEcGV9Ivg"
   },
   "source": [
    "# O.sativa"
   ]
  },
  {
   "cell_type": "code",
   "execution_count": null,
   "metadata": {
    "colab": {
     "base_uri": "https://localhost:8080/",
     "height": 553
    },
    "executionInfo": {
     "elapsed": 6279,
     "status": "ok",
     "timestamp": 1654868067689,
     "user": {
      "displayName": "Ilia abolhasani",
      "userId": "05829853781998776186"
     },
     "user_tz": -270
    },
    "id": "me4nwgwQdK2g",
    "outputId": "accff45f-1039-4336-a6cb-cc3ee21fab5e"
   },
   "outputs": [
    {
     "data": {
      "image/png": "[encoded data removed]",
      "text/plain": [
       "<Figure size 432x288 with 2 Axes>"
      ]
     },
     "metadata": {},
     "output_type": "display_data"
    },
    {
     "name": "stdout",
     "output_type": "stream",
     "text": [
      "number of unique hit: 11172\n",
      "total mir: 90\n",
      "found mir : 89\n",
      "fount to all : 98.89%\n",
      "fp: 684\n",
      "              precision    recall  f1-score   support\n",
      "\n",
      "           0       1.00      0.97      0.98     81753\n",
      "           1       0.19      0.98      0.31       565\n",
      "\n",
      "    accuracy                           0.97     82318\n",
      "   macro avg       0.59      0.98      0.65     82318\n",
      "weighted avg       0.99      0.97      0.98     82318\n",
      "\n"
     ]
    }
   ],
   "source": [
    "plant = 'O.sativa'\n",
    "y_true = np.argmax(data[plant]['target'], axis=1)\n",
    "y_pred =  np.argmax(model.predict(data[plant]['feature']), axis=1)\n",
    "confusion_matrix(y_true,y_pred,[\"No\",\"YES\"])\n",
    "report(y_pred, data[plant]['df'], data[plant]['reference'])\n",
    "print(classification_report(y_true, y_pred))"
   ]
  },
  {
   "cell_type": "markdown",
   "metadata": {
    "id": "91OMgy_pThZz"
   },
   "source": [
    "# A.thaliana"
   ]
  },
  {
   "cell_type": "code",
   "execution_count": null,
   "metadata": {
    "colab": {
     "base_uri": "https://localhost:8080/",
     "height": 551
    },
    "executionInfo": {
     "elapsed": 9324,
     "status": "ok",
     "timestamp": 1654868933105,
     "user": {
      "displayName": "Ilia abolhasani",
      "userId": "05829853781998776186"
     },
     "user_tz": -270
    },
    "id": "xNA4Gq-8U88p",
    "outputId": "7732c896-ed66-4ac5-91be-ae2a06d46344"
   },
   "outputs": [
    {
     "data": {
      "image/png": "[encoded data removed]",
      "text/plain": [
       "<Figure size 432x288 with 2 Axes>"
      ]
     },
     "metadata": {},
     "output_type": "display_data"
    },
    {
     "name": "stdout",
     "output_type": "stream",
     "text": [
      "number of unique hit: 3349\n",
      "total mir: 90\n",
      "found mir : 55\n",
      "fount to all : 61.11%\n",
      "fp: 459\n",
      "              precision    recall  f1-score   support\n",
      "\n",
      "           0       0.99      0.90      0.94     18693\n",
      "           1       0.13      0.55      0.21       491\n",
      "\n",
      "    accuracy                           0.89     19184\n",
      "   macro avg       0.56      0.73      0.58     19184\n",
      "weighted avg       0.97      0.89      0.92     19184\n",
      "\n"
     ]
    }
   ],
   "source": [
    "plant = 'A.thaliana'\n",
    "y_true = np.argmax(data[plant]['target'], axis=1)\n",
    "y_pred =  np.argmax(model.predict(data[plant]['feature']), axis=1)\n",
    "confusion_matrix(y_true,y_pred,[\"No\",\"YES\"])\n",
    "report(y_pred, data[plant]['df'], data[plant]['reference'])\n",
    "print(classification_report(y_true, y_pred))"
   ]
  },
  {
   "cell_type": "markdown",
   "metadata": {
    "id": "jrOyXg2_qjPo"
   },
   "source": [
    "# C.Sinensis"
   ]
  },
  {
   "cell_type": "code",
   "execution_count": null,
   "metadata": {
    "colab": {
     "base_uri": "https://localhost:8080/",
     "height": 551
    },
    "executionInfo": {
     "elapsed": 7808,
     "status": "ok",
     "timestamp": 1654868940905,
     "user": {
      "displayName": "Ilia abolhasani",
      "userId": "05829853781998776186"
     },
     "user_tz": -270
    },
    "id": "QaKPNj6Kqk5P",
    "outputId": "ccfecbaa-a5c0-4228-fdd3-82fe28622bdf"
   },
   "outputs": [
    {
     "data": {
      "image/png": "[encoded data removed]",
      "text/plain": [
       "<Figure size 432x288 with 2 Axes>"
      ]
     },
     "metadata": {},
     "output_type": "display_data"
    },
    {
     "name": "stdout",
     "output_type": "stream",
     "text": [
      "number of unique hit: 6419\n",
      "total mir: 86\n",
      "found mir : 46\n",
      "fount to all : 53.49%\n",
      "fp: 367\n",
      "              precision    recall  f1-score   support\n",
      "\n",
      "           0       1.00      0.98      0.99     86585\n",
      "           1       0.17      0.46      0.25       627\n",
      "\n",
      "    accuracy                           0.98     87212\n",
      "   macro avg       0.58      0.72      0.62     87212\n",
      "weighted avg       0.99      0.98      0.98     87212\n",
      "\n"
     ]
    }
   ],
   "source": [
    "plant = 'C.Sinensis'\n",
    "y_true = np.argmax(data[plant]['target'], axis=1)\n",
    "y_pred =  np.argmax(model.predict(data[plant]['feature']), axis=1)\n",
    "confusion_matrix(y_true,y_pred,[\"No\",\"YES\"])\n",
    "report(y_pred, data[plant]['df'], data[plant]['reference'])\n",
    "print(classification_report(y_true, y_pred))"
   ]
  },
  {
   "cell_type": "markdown",
   "metadata": {
    "id": "z7xpiDQCdqdH"
   },
   "source": [
    "# Z.mays"
   ]
  },
  {
   "cell_type": "code",
   "execution_count": null,
   "metadata": {
    "id": "VqbZ9DJ1gLqc"
   },
   "outputs": [],
   "source": [
    "plant = 'Z.mays'\n",
    "y_true = np.argmax(data[plant]['target'], axis=1)\n",
    "y_pred =  np.argmax(model.predict(data[plant]['feature']), axis=1)\n",
    "confusion_matrix(y_true,y_pred,[\"No\",\"YES\"])\n",
    "report(y_pred, data[plant]['df'], data[plant]['reference'])\n",
    "print(classification_report(y_true, y_pred))"
   ]
  }
 ],
 "metadata": {
  "accelerator": "GPU",
  "colab": {
   "collapsed_sections": [
    "qyC8IFwrWkag",
    "bdbqIS-UWka4"
   ],
   "name": "Classification.ipynb",
   "provenance": []
  },
  "kernelspec": {
   "display_name": "Python 3",
   "language": "python",
   "name": "python3"
  }
 },
 "nbformat": 4,
 "nbformat_minor": 1
}
