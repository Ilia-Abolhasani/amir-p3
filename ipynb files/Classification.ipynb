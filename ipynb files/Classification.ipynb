{
 "cells": [
  {
   "cell_type": "markdown",
   "metadata": {
    "heading_collapsed": true,
    "id": "qyC8IFwrWkag"
   },
   "source": [
    "# Imports"
   ]
  },
  {
   "cell_type": "code",
   "execution_count": 4,
   "metadata": {
    "ExecuteTime": {
     "end_time": "2022-07-24T08:24:36.019092Z",
     "start_time": "2022-07-24T08:24:36.004041Z"
    },
    "hidden": true,
    "id": "16Duf9iWWkat"
   },
   "outputs": [
    {
     "name": "stdout",
     "output_type": "stream",
     "text": [
      "keras version  2.9.0\n"
     ]
    }
   ],
   "source": [
    "import pickle\n",
    "import json\n",
    "from __future__ import division\n",
    "import warnings\n",
    "warnings.filterwarnings('ignore')\n",
    "import sys\n",
    "import numpy as np\n",
    "import pandas as pd\n",
    "import seaborn as sns\n",
    "import matplotlib.pyplot as plt\n",
    "from sklearn import metrics\n",
    "from numpy.random import randint\n",
    "from numpy.random import rand\n",
    "import multiprocessing as mp\n",
    "import random\n",
    "import math\n",
    "import pandas as pd\n",
    "import numpy as np\n",
    "from tqdm.notebook import tqdm\n",
    "import matplotlib.pyplot as plt\n",
    "from tqdm.contrib.concurrent import process_map\n",
    "import os\n",
    "from sklearn.preprocessing import OneHotEncoder\n",
    "from sklearn.model_selection import KFold, StratifiedKFold\n",
    "from sklearn import metrics\n",
    "from sklearn.metrics import classification_report\n",
    "from sklearn.model_selection import train_test_split\n",
    "\n",
    "import tensorflow as tf\n",
    "import keras\n",
    "from keras import backend as K\n",
    "from keras.models import Sequential\n",
    "from keras.layers import Input,Dense, Dropout, Flatten, Reshape, GlobalAveragePooling1D, BatchNormalization,LSTM,Bidirectional\n",
    "from keras.layers import Conv2D, MaxPooling2D, Conv1D, MaxPooling1D,UpSampling1D, Conv1DTranspose,GaussianNoise \n",
    "from keras.utils import np_utils\n",
    "from keras import backend as K\n",
    "from keras.callbacks import Callback\n",
    "from keras.regularizers import l2 , l1, l1_l2\n",
    "import tensorflow.keras.backend as kb\n",
    "print('keras version ', keras.__version__)\n",
    "\n",
    "from keras.utils.vis_utils import plot_model"
   ]
  },
  {
   "cell_type": "code",
   "execution_count": 5,
   "metadata": {
    "ExecuteTime": {
     "end_time": "2022-07-24T08:24:36.793157Z",
     "start_time": "2022-07-24T08:24:36.788295Z"
    },
    "hidden": true
   },
   "outputs": [],
   "source": [
    "sys.path.append(\"../src\")\n",
    "from convertor import convert\n",
    "from preprocessing import get_target, preprocessing"
   ]
  },
  {
   "cell_type": "markdown",
   "metadata": {
    "heading_collapsed": true,
    "id": "bdbqIS-UWka4"
   },
   "source": [
    "# Functions"
   ]
  },
  {
   "cell_type": "code",
   "execution_count": 6,
   "metadata": {
    "ExecuteTime": {
     "end_time": "2022-07-24T08:24:38.445997Z",
     "start_time": "2022-07-24T08:24:38.439940Z"
    },
    "hidden": true,
    "id": "Pk2w6ac8Wka5"
   },
   "outputs": [],
   "source": [
    "def df_to_fasta(df, path):\n",
    "    lines = []\n",
    "    df.apply(lambda row: lines.append(f\">{row['tag']}\\n{row['data']}\\n\"),axis=1)\n",
    "    with open(path,'w') as file:\n",
    "        file.write(''.join(lines))"
   ]
  },
  {
   "cell_type": "code",
   "execution_count": 7,
   "metadata": {
    "ExecuteTime": {
     "end_time": "2022-07-24T08:24:38.867566Z",
     "start_time": "2022-07-24T08:24:38.858339Z"
    },
    "hidden": true,
    "id": "yoDSV7bjWka6"
   },
   "outputs": [],
   "source": [
    "def fasta_to_df(path):\n",
    "    with open(path, 'r') as file:\n",
    "        text = file.read()\n",
    "    lines = [line for line in text.split('\\n') if len(line) > 0]\n",
    "    s = ''\n",
    "    tags = []\n",
    "    data = []\n",
    "    for l in lines:\n",
    "        if(l[0]=='>'):\n",
    "            tags.append(l)        \n",
    "            data.append(s)\n",
    "            s = ''\n",
    "        else:\n",
    "            s += l    \n",
    "    data.append(s)\n",
    "    df = pd.DataFrame(\n",
    "            {\n",
    "                'tag': tags,\n",
    "                'data': data[1:]\n",
    "            })\n",
    "    df['tag'] = df['tag'].apply(lambda x: x[1:])    \n",
    "    return df"
   ]
  },
  {
   "cell_type": "code",
   "execution_count": 8,
   "metadata": {
    "ExecuteTime": {
     "end_time": "2022-07-24T08:24:39.351793Z",
     "start_time": "2022-07-24T08:24:39.346967Z"
    },
    "hidden": true,
    "id": "nQOAHaVBWka_"
   },
   "outputs": [],
   "source": [
    "class DotDict(dict):\n",
    "    __getattr__ = dict.get\n",
    "    __setattr__ = dict.__setitem__\n",
    "    __delattr__ = dict.__delitem__"
   ]
  },
  {
   "cell_type": "code",
   "execution_count": 9,
   "metadata": {
    "ExecuteTime": {
     "end_time": "2022-07-24T08:24:39.999125Z",
     "start_time": "2022-07-24T08:24:39.985472Z"
    },
    "hidden": true,
    "id": "pzR6yRp8v_aT"
   },
   "outputs": [],
   "source": [
    "def confusion_matrix(validations, predictions, LABELS):            \n",
    "    freq = metrics.confusion_matrix(validations, predictions)        \n",
    "    sensitivity =  (np.divide(freq.transpose(),\n",
    "                             np.sum(freq, axis=1)).transpose() * 100).round(2)    \n",
    "    annotation = []\n",
    "    for i in range(freq.shape[0]):\n",
    "        row = []\n",
    "        for j in range(freq.shape[1]):\n",
    "            row.append(f'{freq[i][j]}\\n {sensitivity[i][j]}%')            \n",
    "        annotation.append(row)\n",
    "    annotation = np.array(annotation)\n",
    "    sns.heatmap(sensitivity, cmap=\"YlOrBr\",\n",
    "                vmin=0, vmax=100,\n",
    "                linecolor='white',\n",
    "                linewidths=1,\n",
    "                xticklabels=LABELS,\n",
    "                yticklabels=LABELS,\n",
    "                annot=annotation,\n",
    "               fmt=':<')    \n",
    "    plt.title(\"Confusion Matrix\")\n",
    "    plt.ylabel(\"Actually Label\")\n",
    "    plt.xlabel(\"Predicted Label\")\n",
    "    plt.show()            \n",
    "\n",
    "def report(pred, df, ref):\n",
    "    number_of_hit = len(df['hit seq'].unique())\n",
    "    print(f'number of unique hit: {number_of_hit}')\n",
    "    total = len(df[df['hit seq'].isin(ref['data'])]['hit seq'].unique()) \n",
    "    print(f'total mir: {total}')    \n",
    "    selected = df[pd.Series(pred).apply(lambda x: True if x==1 else False)]\n",
    "    found_seq = selected[selected['hit seq'].isin(ref['data'])]['hit seq'].unique()\n",
    "    found = len(found_seq)\n",
    "    print(f'found mir : {found}')\n",
    "    print(f'fount to all : {round(found / total * 100, 2)}%')\n",
    "    fp = len(selected[~selected['hit seq'].isin(ref['data'])]['hit seq'].unique())\n",
    "    print(f'fp: {fp}')"
   ]
  },
  {
   "cell_type": "markdown",
   "metadata": {
    "heading_collapsed": true,
    "id": "4qLMRhTLWkbA"
   },
   "source": [
    "# Load all plant dataset"
   ]
  },
  {
   "cell_type": "code",
   "execution_count": 10,
   "metadata": {
    "ExecuteTime": {
     "end_time": "2022-07-24T08:24:44.689579Z",
     "start_time": "2022-07-24T08:24:44.684872Z"
    },
    "hidden": true,
    "id": "QSvkewSupdLq"
   },
   "outputs": [],
   "source": [
    "data               = {}\n",
    "data[\"O.sativa\"]   = {}\n",
    "data[\"A.thaliana\"] = {}\n",
    "data[\"C.Sinensis\"] = {}\n",
    "data[\"Z.mays\"]     = {}"
   ]
  },
  {
   "cell_type": "code",
   "execution_count": 11,
   "metadata": {
    "ExecuteTime": {
     "end_time": "2022-07-24T08:24:46.849444Z",
     "start_time": "2022-07-24T08:24:46.841100Z"
    },
    "hidden": true,
    "id": "YREQVEYCQROA"
   },
   "outputs": [],
   "source": [
    "def load(plant, mu=None, std=None):\n",
    "    global data\n",
    "    posX = pd.read_csv(f\"../Experiment/{plant}_positive/Result/result_level1_filter.csv\")\n",
    "    posX = convert(posX)    \n",
    "    posY = np.ones(posX.shape[0], dtype='float32')\n",
    "    posY = np_utils.to_categorical(posY, 2)\n",
    "    \n",
    "    negX = pd.read_csv(f\"../Experiment/{plant}_negative/Result/result_level1_filter.csv\")\n",
    "    negX = convert(negX)    \n",
    "    negY = np.zeros(negX.shape[0], dtype='float32')\n",
    "    negY = np_utils.to_categorical(negY, 2)        \n",
    "    Y = np.concatenate([posY, negY])        \n",
    "    X = pd.concat([posX, negX]).reset_index(drop=True)\n",
    "    [feature, mu, std] = preprocessing(X, mu, std)    \n",
    "    data[plant]['feature'] = feature\n",
    "    data[plant]['target'] = Y\n",
    "    return [mu, std]"
   ]
  },
  {
   "cell_type": "code",
   "execution_count": 9,
   "metadata": {
    "ExecuteTime": {
     "end_time": "2022-07-22T16:40:36.107041Z",
     "start_time": "2022-07-22T16:40:36.103682Z"
    },
    "hidden": true
   },
   "outputs": [],
   "source": [
    "#with open('filename.pickle', 'wb') as handle:\n",
    "#   pickle.dump(data, handle, protocol=pickle.HIGHEST_PROTOCOL)\n",
    "\n",
    "#with open('filename.pickle', 'rb') as handle:\n",
    "    #data = pickle.load(handle)"
   ]
  },
  {
   "cell_type": "markdown",
   "metadata": {
    "hidden": true,
    "id": "5Ueqwrjc5ewu"
   },
   "source": [
    "## O.sativa"
   ]
  },
  {
   "cell_type": "code",
   "execution_count": 12,
   "metadata": {
    "ExecuteTime": {
     "end_time": "2022-07-24T08:29:07.756011Z",
     "start_time": "2022-07-24T08:24:55.308231Z"
    },
    "colab": {
     "base_uri": "https://localhost:8080/"
    },
    "executionInfo": {
     "elapsed": 658144,
     "status": "ok",
     "timestamp": 1655632401689,
     "user": {
      "displayName": "Ilia abolhasani",
      "userId": "05829853781998776186"
     },
     "user_tz": -270
    },
    "hidden": true,
    "id": "RP1AlQ2VPCHz",
    "outputId": "80943c18-970d-4769-f524-4cac30491c6e"
   },
   "outputs": [],
   "source": [
    "[mu, std] = load(plant=\"O.sativa\")"
   ]
  },
  {
   "cell_type": "markdown",
   "metadata": {
    "hidden": true,
    "id": "Yqno44cv5iiY"
   },
   "source": [
    "## A.thaliana"
   ]
  },
  {
   "cell_type": "code",
   "execution_count": 13,
   "metadata": {
    "ExecuteTime": {
     "end_time": "2022-07-24T08:30:33.753032Z",
     "start_time": "2022-07-24T08:29:07.761041Z"
    },
    "colab": {
     "base_uri": "https://localhost:8080/"
    },
    "executionInfo": {
     "elapsed": 74865,
     "status": "ok",
     "timestamp": 1655632476543,
     "user": {
      "displayName": "Ilia abolhasani",
      "userId": "05829853781998776186"
     },
     "user_tz": -270
    },
    "hidden": true,
    "id": "OB3UG8T4QwmB",
    "outputId": "6d21272f-fa48-4092-f466-0ec387fffe14"
   },
   "outputs": [],
   "source": [
    "load(plant=\"A.thaliana\", mu=mu, std=std);"
   ]
  },
  {
   "cell_type": "markdown",
   "metadata": {
    "hidden": true,
    "id": "TlT1KSuI5mJX"
   },
   "source": [
    "## C.sinensis"
   ]
  },
  {
   "cell_type": "code",
   "execution_count": 14,
   "metadata": {
    "ExecuteTime": {
     "end_time": "2022-07-24T08:30:51.013462Z",
     "start_time": "2022-07-24T08:30:33.757166Z"
    },
    "colab": {
     "base_uri": "https://localhost:8080/"
    },
    "executionInfo": {
     "elapsed": 354197,
     "status": "ok",
     "timestamp": 1655632830715,
     "user": {
      "displayName": "Ilia abolhasani",
      "userId": "05829853781998776186"
     },
     "user_tz": -270
    },
    "hidden": true,
    "id": "9FPW6VlKs1bK",
    "outputId": "341c2d64-db53-4a45-a698-880088ee52de"
   },
   "outputs": [],
   "source": [
    "load(plant=\"C.Sinensis\", mu=mu, std=std);"
   ]
  },
  {
   "cell_type": "markdown",
   "metadata": {
    "hidden": true,
    "id": "zKOjU6DD5oCk"
   },
   "source": [
    "## Z.mays"
   ]
  },
  {
   "cell_type": "code",
   "execution_count": 15,
   "metadata": {
    "ExecuteTime": {
     "end_time": "2022-07-24T08:30:56.919457Z",
     "start_time": "2022-07-24T08:30:51.016918Z"
    },
    "colab": {
     "base_uri": "https://localhost:8080/"
    },
    "executionInfo": {
     "elapsed": 500447,
     "status": "ok",
     "timestamp": 1655633331146,
     "user": {
      "displayName": "Ilia abolhasani",
      "userId": "05829853781998776186"
     },
     "user_tz": -270
    },
    "hidden": true,
    "id": "46WuwgG0Ud8k",
    "outputId": "eaa997aa-aadf-4cdd-d9c5-34cfdb43fe83",
    "scrolled": true
   },
   "outputs": [],
   "source": [
    "load(plant=\"Z.mays\", mu=mu, std=std);"
   ]
  },
  {
   "cell_type": "markdown",
   "metadata": {
    "heading_collapsed": true,
    "id": "JNmcvnfJZhok"
   },
   "source": [
    "# Train Test split and class weight"
   ]
  },
  {
   "cell_type": "code",
   "execution_count": 16,
   "metadata": {
    "ExecuteTime": {
     "end_time": "2022-07-24T08:46:14.326495Z",
     "start_time": "2022-07-24T08:46:13.947409Z"
    },
    "hidden": true,
    "id": "J5dOkInLZnVk"
   },
   "outputs": [],
   "source": [
    "X = pd.concat([\n",
    "    data['O.sativa']['feature'],\n",
    "    data['A.thaliana']['feature'],\n",
    "    #data['C.Sinensis']['feature'],\n",
    "    #data['Z.mays']['feature'],        \n",
    "]).reset_index(drop=True)\n",
    "Y = np.concatenate([\n",
    "    data['O.sativa']['target'],                    \n",
    "    data['A.thaliana']['target'], \n",
    "    #data['C.Sinensis']['target'],\n",
    "    #data['Z.mays']['target'],\n",
    "])        \n",
    "X_train, X_val, y_train, y_val = train_test_split(X, Y, test_size=0.33, random_state=0)"
   ]
  },
  {
   "cell_type": "code",
   "execution_count": 17,
   "metadata": {
    "ExecuteTime": {
     "end_time": "2022-07-24T08:46:17.749826Z",
     "start_time": "2022-07-24T08:46:17.719282Z"
    },
    "colab": {
     "base_uri": "https://localhost:8080/"
    },
    "executionInfo": {
     "elapsed": 29,
     "status": "ok",
     "timestamp": 1655665864469,
     "user": {
      "displayName": "Ilia abolhasani",
      "userId": "05829853781998776186"
     },
     "user_tz": -270
    },
    "hidden": true,
    "id": "YFEo_zB_Zmup",
    "outputId": "afbfde76-2528-4881-de5c-edb6f74a0cf4"
   },
   "outputs": [
    {
     "data": {
      "text/plain": [
       "{0: 1.0, 1: 18.258007898200965}"
      ]
     },
     "execution_count": 17,
     "metadata": {},
     "output_type": "execute_result"
    }
   ],
   "source": [
    "class_weight = {0: 1.,\n",
    "                1: (sum(y_train[:,0]) + sum(y_val[:,0])) / (sum(y_train[:,1]) + sum(y_val[:,1]))}\n",
    "class_weight"
   ]
  },
  {
   "cell_type": "markdown",
   "metadata": {
    "heading_collapsed": true,
    "id": "bY8RjCkGZXYz"
   },
   "source": [
    "# ML"
   ]
  },
  {
   "cell_type": "code",
   "execution_count": 31,
   "metadata": {
    "ExecuteTime": {
     "end_time": "2022-07-21T19:11:58.791980Z",
     "start_time": "2022-07-21T19:11:57.183040Z"
    },
    "executionInfo": {
     "elapsed": 377,
     "status": "ok",
     "timestamp": 1655669408273,
     "user": {
      "displayName": "Ilia abolhasani",
      "userId": "05829853781998776186"
     },
     "user_tz": -270
    },
    "hidden": true,
    "id": "jQ4Zwnjsm-Wu"
   },
   "outputs": [],
   "source": [
    "from sklearn.ensemble import AdaBoostClassifier\n",
    "from sklearn.ensemble import RandomForestClassifier\n",
    "from sklearn.model_selection import KFold\n",
    "from sklearn import svm\n",
    "from sklearn.metrics import f1_score\n",
    "from sklearn.neighbors import KNeighborsClassifier\n",
    "from sklearn.decomposition import PCA"
   ]
  },
  {
   "cell_type": "code",
   "execution_count": null,
   "metadata": {
    "hidden": true
   },
   "outputs": [],
   "source": [
    "X = data['O.sativa']['feature']\n",
    "Y = np.argmax(data['O.sativa']['target'], axis=1)"
   ]
  },
  {
   "cell_type": "code",
   "execution_count": 32,
   "metadata": {
    "ExecuteTime": {
     "end_time": "2022-07-21T19:12:00.420892Z",
     "start_time": "2022-07-21T19:11:58.795631Z"
    },
    "colab": {
     "base_uri": "https://localhost:8080/",
     "height": 405
    },
    "executionInfo": {
     "elapsed": 6838,
     "status": "ok",
     "timestamp": 1655669600865,
     "user": {
      "displayName": "Ilia abolhasani",
      "userId": "05829853781998776186"
     },
     "user_tz": -270
    },
    "hidden": true,
    "id": "x_Nz7xSWl_As",
    "outputId": "296faf3f-c8e6-4bdc-f6ef-0d19428d00d9"
   },
   "outputs": [
    {
     "name": "stdout",
     "output_type": "stream",
     "text": [
      " d = 46\n"
     ]
    },
    {
     "data": {
      "image/png": "[encoded data removed]",
      "text/plain": [
       "<Figure size 720x432 with 1 Axes>"
      ]
     },
     "metadata": {
      "needs_background": "light"
     },
     "output_type": "display_data"
    }
   ],
   "source": [
    "pca = PCA(n_components=X.shape[1])\n",
    "pca.fit_transform(X)\n",
    "cumsum = pca.explained_variance_ratio_.cumsum()\n",
    "d = np.where(cumsum>=0.9)[0][0] + 1\n",
    "print(f' d = {d}')\n",
    "\n",
    "plt.figure(figsize=(10,6))\n",
    "plt.plot(range(1,len(cumsum)+1), cumsum, linewidth=3)\n",
    "plt.plot(d, cumsum[d-1],'r*',markersize=15)\n",
    "plt.xlabel(\"variance\")\n",
    "plt.ylabel(\"N component\")\n",
    "plt.show()"
   ]
  },
  {
   "cell_type": "code",
   "execution_count": 33,
   "metadata": {
    "ExecuteTime": {
     "end_time": "2022-07-21T19:12:06.647820Z",
     "start_time": "2022-07-21T19:12:00.814651Z"
    },
    "executionInfo": {
     "elapsed": 8111,
     "status": "ok",
     "timestamp": 1655669691678,
     "user": {
      "displayName": "Ilia abolhasani",
      "userId": "05829853781998776186"
     },
     "user_tz": -270
    },
    "hidden": true,
    "id": "Nw1DR54Bmats"
   },
   "outputs": [],
   "source": [
    "pca = PCA(n_components=53)\n",
    "X_pca = pca.fit_transform(X)"
   ]
  },
  {
   "cell_type": "code",
   "execution_count": 35,
   "metadata": {
    "ExecuteTime": {
     "end_time": "2022-07-21T19:19:43.683426Z",
     "start_time": "2022-07-21T19:19:43.674834Z"
    },
    "colab": {
     "base_uri": "https://localhost:8080/"
    },
    "executionInfo": {
     "elapsed": 46615,
     "status": "ok",
     "timestamp": 1655672221175,
     "user": {
      "displayName": "Ilia abolhasani",
      "userId": "05829853781998776186"
     },
     "user_tz": -270
    },
    "hidden": true,
    "id": "wWDjV-VwnTGb",
    "outputId": "b1f31b34-3ade-42c7-f313-a044d9a5fd4e"
   },
   "outputs": [
    {
     "data": {
      "text/plain": [
       "'\\nscores = []\\nkfold = KFold(n_splits=3, shuffle=True, random_state=1)\\nfor train_ix, test_ix in kfold.split(X_pca):\\n    X_train = X_pca[train_ix,:]\\n    X_test  = X_pca[test_ix,:] \\n    y_train = Y[train_ix]\\n    y_test  = Y[test_ix]\\n    clf = svm.SVC(kernel=\"poly\", class_weight=class_weight)    \\n    clf.fit(X_train, y_train)\\n    pred = clf.predict(X_test)\\n    f1 = f1_score(y_test, pred, average=\\'macro\\')\\n    print(f1)\\n    scores.append(f1)     \\n'"
      ]
     },
     "execution_count": 35,
     "metadata": {},
     "output_type": "execute_result"
    }
   ],
   "source": [
    "'''\n",
    "scores = []\n",
    "kfold = KFold(n_splits=3, shuffle=True, random_state=1)\n",
    "for train_ix, test_ix in kfold.split(X_pca):\n",
    "    X_train = X_pca[train_ix,:]\n",
    "    X_test  = X_pca[test_ix,:] \n",
    "    y_train = Y[train_ix]\n",
    "    y_test  = Y[test_ix]\n",
    "    clf = svm.SVC(kernel=\"poly\", class_weight=class_weight)    \n",
    "    clf.fit(X_train, y_train)\n",
    "    pred = clf.predict(X_test)\n",
    "    f1 = f1_score(y_test, pred, average='macro')\n",
    "    print(f1)\n",
    "    scores.append(f1)     \n",
    "'''"
   ]
  },
  {
   "cell_type": "markdown",
   "metadata": {
    "heading_collapsed": true,
    "id": "-1L8jIc5WkbW"
   },
   "source": [
    "# Deep learning model"
   ]
  },
  {
   "cell_type": "code",
   "execution_count": 18,
   "metadata": {
    "ExecuteTime": {
     "end_time": "2022-07-24T08:46:24.481662Z",
     "start_time": "2022-07-24T08:46:24.304571Z"
    },
    "colab": {
     "base_uri": "https://localhost:8080/"
    },
    "executionInfo": {
     "elapsed": 950,
     "status": "ok",
     "timestamp": 1655667634792,
     "user": {
      "displayName": "Ilia abolhasani",
      "userId": "05829853781998776186"
     },
     "user_tz": -270
    },
    "hidden": true,
    "id": "PTWcv4craZYB",
    "outputId": "8dbffa2a-b740-44d7-f880-5e2f45900a84"
   },
   "outputs": [
    {
     "name": "stdout",
     "output_type": "stream",
     "text": [
      "326\n",
      "Model: \"sequential\"\n",
      "_________________________________________________________________\n",
      " Layer (type)                Output Shape              Param #   \n",
      "=================================================================\n",
      " dense (Dense)               (None, 256)               83712     \n",
      "                                                                 \n",
      " dropout (Dropout)           (None, 256)               0         \n",
      "                                                                 \n",
      " dense_1 (Dense)             (None, 128)               32896     \n",
      "                                                                 \n",
      " dropout_1 (Dropout)         (None, 128)               0         \n",
      "                                                                 \n",
      " dense_2 (Dense)             (None, 64)                8256      \n",
      "                                                                 \n",
      " dropout_2 (Dropout)         (None, 64)                0         \n",
      "                                                                 \n",
      " dense_3 (Dense)             (None, 4)                 260       \n",
      "                                                                 \n",
      " dense_4 (Dense)             (None, 2)                 10        \n",
      "                                                                 \n",
      "=================================================================\n",
      "Total params: 125,134\n",
      "Trainable params: 125,134\n",
      "Non-trainable params: 0\n",
      "_________________________________________________________________\n",
      "None\n"
     ]
    }
   ],
   "source": [
    "print(X_train.shape[1])\n",
    "model = Sequential()\n",
    "model.add(Input(shape=(X_train.shape[1],)))\n",
    "model.add(Dense(256, activation='relu'))\n",
    "model.add(Dropout(0.5))\n",
    "model.add(Dense(128, activation='relu'))\n",
    "model.add(Dropout(0.5))\n",
    "model.add(Dense(64, activation='relu'))\n",
    "model.add(Dropout(0.5))\n",
    "model.add(Dense(4, activation='relu'))\n",
    "model.add(Dense(2, activation='softmax'))\n",
    "print(model.summary())"
   ]
  },
  {
   "cell_type": "code",
   "execution_count": 19,
   "metadata": {
    "ExecuteTime": {
     "end_time": "2022-07-24T08:47:38.637261Z",
     "start_time": "2022-07-24T08:46:26.760573Z"
    },
    "colab": {
     "base_uri": "https://localhost:8080/"
    },
    "executionInfo": {
     "elapsed": 447493,
     "status": "ok",
     "timestamp": 1655473082392,
     "user": {
      "displayName": "Ilia abolhasani",
      "userId": "05829853781998776186"
     },
     "user_tz": -270
    },
    "hidden": true,
    "id": "CusrPoF6atqa",
    "outputId": "633aa430-f43e-4965-beb7-f5a6f74378ff",
    "scrolled": false
   },
   "outputs": [
    {
     "name": "stdout",
     "output_type": "stream",
     "text": [
      "Epoch 1/100\n",
      "919/919 [==============================] - 7s 6ms/step - loss: 0.7149 - acc: 0.9001 - val_loss: 0.2785 - val_acc: 0.9236\n",
      "Epoch 2/100\n",
      "919/919 [==============================] - 5s 5ms/step - loss: 0.4346 - acc: 0.9451 - val_loss: 0.1660 - val_acc: 0.9532\n",
      "Epoch 3/100\n",
      "919/919 [==============================] - 5s 5ms/step - loss: 0.3448 - acc: 0.9544 - val_loss: 0.1738 - val_acc: 0.9640\n",
      "Epoch 4/100\n",
      "919/919 [==============================] - 5s 5ms/step - loss: 0.2766 - acc: 0.9619 - val_loss: 0.0844 - val_acc: 0.9800\n",
      "Epoch 5/100\n",
      "919/919 [==============================] - 5s 5ms/step - loss: 0.2368 - acc: 0.9644 - val_loss: 0.0966 - val_acc: 0.9723\n",
      "Epoch 6/100\n",
      "919/919 [==============================] - 5s 5ms/step - loss: 0.2015 - acc: 0.9662 - val_loss: 0.0602 - val_acc: 0.9809\n",
      "Epoch 7/100\n",
      "919/919 [==============================] - 5s 5ms/step - loss: 0.1859 - acc: 0.9713 - val_loss: 0.0530 - val_acc: 0.9859\n",
      "Epoch 8/100\n",
      "919/919 [==============================] - 5s 5ms/step - loss: 0.1606 - acc: 0.9710 - val_loss: 0.0513 - val_acc: 0.9809\n",
      "Epoch 9/100\n",
      "919/919 [==============================] - 5s 5ms/step - loss: 0.1675 - acc: 0.9686 - val_loss: 0.0465 - val_acc: 0.9863\n",
      "Epoch 10/100\n",
      "919/919 [==============================] - 5s 5ms/step - loss: 0.1397 - acc: 0.9766 - val_loss: 0.0530 - val_acc: 0.9830\n",
      "Epoch 11/100\n",
      "919/919 [==============================] - 5s 5ms/step - loss: 0.1303 - acc: 0.9735 - val_loss: 0.0551 - val_acc: 0.9816\n",
      "Epoch 12/100\n",
      "919/919 [==============================] - 5s 5ms/step - loss: 0.1348 - acc: 0.9781 - val_loss: 0.0614 - val_acc: 0.9813\n",
      "Epoch 13/100\n",
      "919/919 [==============================] - 5s 5ms/step - loss: 0.1192 - acc: 0.9772 - val_loss: 0.0508 - val_acc: 0.9855\n",
      "Epoch 14/100\n",
      "919/919 [==============================] - 5s 5ms/step - loss: 0.1477 - acc: 0.9812 - val_loss: 0.0709 - val_acc: 0.9853\n"
     ]
    }
   ],
   "source": [
    "callbacks_list = [\n",
    "                  tf.keras.callbacks.EarlyStopping( monitor=\"val_loss\", patience=5, restore_best_weights=True),\n",
    "                 ]\n",
    "learning_rate = 0.001\n",
    "optimizer = tf.keras.optimizers.Adam(learning_rate)\n",
    "#optimizer = tf.keras.optimizers.Adadelta(lr=1.0, rho=0.95, epsilon=1e-08, decay=0.0)\n",
    "\n",
    "\n",
    "model.compile(loss = \"categorical_crossentropy\",                \n",
    "                optimizer=optimizer,\n",
    "                metrics = [\"acc\"])                \n",
    "BATCH_SIZE = 32\n",
    "EPOCHS = 100\n",
    "history = model.fit(X_train,\n",
    "                    y_train,\n",
    "                    class_weight=class_weight,\n",
    "                    batch_size=BATCH_SIZE,\n",
    "                    validation_data=(X_val, y_val),\n",
    "                    epochs=EPOCHS,\n",
    "                    callbacks=callbacks_list,\n",
    "                    verbose=1) \n",
    "\n",
    "json.dump(str(history.history), open(f\"./history.pkl\", \"w\"))\n",
    "model.save(f'./Model.h5')"
   ]
  },
  {
   "cell_type": "code",
   "execution_count": 20,
   "metadata": {
    "ExecuteTime": {
     "end_time": "2022-07-24T08:47:39.050770Z",
     "start_time": "2022-07-24T08:47:38.641312Z"
    },
    "hidden": true
   },
   "outputs": [
    {
     "data": {
      "image/png": "[encoded data removed]",
      "text/plain": [
       "<Figure size 1080x360 with 1 Axes>"
      ]
     },
     "metadata": {
      "needs_background": "light"
     },
     "output_type": "display_data"
    }
   ],
   "source": [
    "plt.figure(figsize=(15, 5))\n",
    "plt.plot(history.history['acc'], linewidth=3)\n",
    "plt.plot(history.history['val_acc'], linewidth=3)\n",
    "plt.title('model accuracy')\n",
    "plt.ylabel('accuracy')\n",
    "plt.xlabel('epoch')\n",
    "plt.legend(['train', 'val'], loc='upper left')\n",
    "plt.show()"
   ]
  },
  {
   "cell_type": "code",
   "execution_count": 21,
   "metadata": {
    "ExecuteTime": {
     "end_time": "2022-07-24T08:47:39.379339Z",
     "start_time": "2022-07-24T08:47:39.054534Z"
    },
    "hidden": true
   },
   "outputs": [
    {
     "data": {
      "image/png": "[encoded data removed]",
      "text/plain": [
       "<Figure size 1080x360 with 1 Axes>"
      ]
     },
     "metadata": {
      "needs_background": "light"
     },
     "output_type": "display_data"
    }
   ],
   "source": [
    "plt.figure(figsize=(15, 5))\n",
    "plt.plot(history.history['loss'], linewidth=3)\n",
    "plt.plot(history.history['val_loss'], linewidth=3)\n",
    "plt.title('model loss')\n",
    "plt.ylabel('loss')\n",
    "plt.xlabel('epoch')\n",
    "plt.legend(['train', 'val'])\n",
    "plt.show()"
   ]
  },
  {
   "cell_type": "markdown",
   "metadata": {
    "heading_collapsed": true,
    "id": "3kmGEcGV9Ivg"
   },
   "source": [
    "# O.sativa"
   ]
  },
  {
   "cell_type": "code",
   "execution_count": 33,
   "metadata": {
    "ExecuteTime": {
     "end_time": "2022-07-22T20:19:22.999221Z",
     "start_time": "2022-07-22T20:19:19.260372Z"
    },
    "colab": {
     "background_save": true
    },
    "hidden": true,
    "id": "me4nwgwQdK2g",
    "outputId": "295d8bb2-485a-4ab7-c8e1-b51b5484acc9"
   },
   "outputs": [
    {
     "name": "stdout",
     "output_type": "stream",
     "text": [
      "1020/1020 [==============================] - 2s 2ms/step\n"
     ]
    },
    {
     "data": {
      "image/png": "[encoded data removed]",
      "text/plain": [
       "<Figure size 432x288 with 2 Axes>"
      ]
     },
     "metadata": {
      "needs_background": "light"
     },
     "output_type": "display_data"
    },
    {
     "name": "stdout",
     "output_type": "stream",
     "text": [
      "              precision    recall  f1-score   support\n",
      "\n",
      "           0       1.00      1.00      1.00     31208\n",
      "           1       0.91      0.96      0.94      1427\n",
      "\n",
      "    accuracy                           0.99     32635\n",
      "   macro avg       0.95      0.98      0.97     32635\n",
      "weighted avg       0.99      0.99      0.99     32635\n",
      "\n"
     ]
    }
   ],
   "source": [
    "plant = 'O.sativa'\n",
    "y_true = np.argmax(data[plant]['target'], axis=1)\n",
    "y_pred =  np.argmax(model.predict(data[plant]['feature']), axis=1)\n",
    "confusion_matrix(y_true,y_pred,[\"No\",\"YES\"])\n",
    "print(classification_report(y_true, y_pred))"
   ]
  },
  {
   "cell_type": "markdown",
   "metadata": {
    "heading_collapsed": true,
    "id": "91OMgy_pThZz"
   },
   "source": [
    "# A.thaliana"
   ]
  },
  {
   "cell_type": "code",
   "execution_count": 81,
   "metadata": {
    "ExecuteTime": {
     "end_time": "2022-07-22T20:52:32.391311Z",
     "start_time": "2022-07-22T20:52:30.824193Z"
    },
    "colab": {
     "base_uri": "https://localhost:8080/",
     "height": 538
    },
    "executionInfo": {
     "elapsed": 31527,
     "status": "ok",
     "timestamp": 1655673353129,
     "user": {
      "displayName": "Ilia abolhasani",
      "userId": "05829853781998776186"
     },
     "user_tz": -270
    },
    "hidden": true,
    "id": "xNA4Gq-8U88p",
    "outputId": "584d531d-e536-45ea-bf61-67f1bae8c43f",
    "scrolled": true
   },
   "outputs": [
    {
     "name": "stdout",
     "output_type": "stream",
     "text": [
      "352/352 [==============================] - 1s 2ms/step\n"
     ]
    },
    {
     "data": {
      "image/png": "[encoded data removed]",
      "text/plain": [
       "<Figure size 432x288 with 2 Axes>"
      ]
     },
     "metadata": {
      "needs_background": "light"
     },
     "output_type": "display_data"
    },
    {
     "name": "stdout",
     "output_type": "stream",
     "text": [
      "              precision    recall  f1-score   support\n",
      "\n",
      "           0       0.99      0.92      0.95     10402\n",
      "           1       0.47      0.87      0.61       852\n",
      "\n",
      "    accuracy                           0.92     11254\n",
      "   macro avg       0.73      0.89      0.78     11254\n",
      "weighted avg       0.95      0.92      0.93     11254\n",
      "\n"
     ]
    }
   ],
   "source": [
    "plant = 'A.thaliana'\n",
    "y_true = np.argmax(data[plant]['target'], axis=1)\n",
    "y_pred =  np.argmax(model.predict(data[plant]['feature']), axis=1)\n",
    "confusion_matrix(y_true,y_pred,[\"No\",\"YES\"])\n",
    "print(classification_report(y_true, y_pred))"
   ]
  },
  {
   "cell_type": "code",
   "execution_count": 76,
   "metadata": {
    "ExecuteTime": {
     "end_time": "2022-07-22T20:50:52.026801Z",
     "start_time": "2022-07-22T20:50:50.449150Z"
    },
    "hidden": true
   },
   "outputs": [
    {
     "name": "stdout",
     "output_type": "stream",
     "text": [
      "352/352 [==============================] - 1s 2ms/step\n"
     ]
    },
    {
     "data": {
      "image/png": "[encoded data removed]",
      "text/plain": [
       "<Figure size 432x288 with 2 Axes>"
      ]
     },
     "metadata": {
      "needs_background": "light"
     },
     "output_type": "display_data"
    },
    {
     "name": "stdout",
     "output_type": "stream",
     "text": [
      "              precision    recall  f1-score   support\n",
      "\n",
      "           0       0.99      0.93      0.96     10402\n",
      "           1       0.49      0.85      0.62       852\n",
      "\n",
      "    accuracy                           0.92     11254\n",
      "   macro avg       0.74      0.89      0.79     11254\n",
      "weighted avg       0.95      0.92      0.93     11254\n",
      "\n"
     ]
    }
   ],
   "source": [
    "plant = 'A.thaliana'\n",
    "y_true = np.argmax(data[plant]['target'], axis=1)\n",
    "y_pred =  np.argmax(model.predict(data[plant]['feature']), axis=1)\n",
    "confusion_matrix(y_true,y_pred,[\"No\",\"YES\"])\n",
    "print(classification_report(y_true, y_pred))"
   ]
  },
  {
   "cell_type": "markdown",
   "metadata": {
    "heading_collapsed": true,
    "id": "jrOyXg2_qjPo"
   },
   "source": [
    "# C.Sinensis"
   ]
  },
  {
   "cell_type": "code",
   "execution_count": 23,
   "metadata": {
    "ExecuteTime": {
     "end_time": "2022-07-24T08:50:21.697071Z",
     "start_time": "2022-07-24T08:50:20.945225Z"
    },
    "colab": {
     "base_uri": "https://localhost:8080/",
     "height": 538
    },
    "executionInfo": {
     "elapsed": 2069,
     "status": "ok",
     "timestamp": 1655637593518,
     "user": {
      "displayName": "Ilia abolhasani",
      "userId": "05829853781998776186"
     },
     "user_tz": -270
    },
    "hidden": true,
    "id": "QaKPNj6Kqk5P",
    "outputId": "7d09cc33-396e-4464-a5cd-72f34fedc74c"
   },
   "outputs": [
    {
     "name": "stdout",
     "output_type": "stream",
     "text": [
      "73/73 [==============================] - 0s 2ms/step\n"
     ]
    },
    {
     "data": {
      "image/png": "[encoded data removed]",
      "text/plain": [
       "<Figure size 432x288 with 2 Axes>"
      ]
     },
     "metadata": {
      "needs_background": "light"
     },
     "output_type": "display_data"
    },
    {
     "name": "stdout",
     "output_type": "stream",
     "text": [
      "              precision    recall  f1-score   support\n",
      "\n",
      "           0       0.97      0.91      0.94      1751\n",
      "           1       0.78      0.92      0.84       575\n",
      "\n",
      "    accuracy                           0.92      2326\n",
      "   macro avg       0.88      0.92      0.89      2326\n",
      "weighted avg       0.92      0.92      0.92      2326\n",
      "\n"
     ]
    }
   ],
   "source": [
    "plant = 'C.Sinensis'\n",
    "y_true = np.argmax(data[plant]['target'], axis=1)\n",
    "y_pred =  np.argmax(model.predict(data[plant]['feature']), axis=1)\n",
    "confusion_matrix(y_true,y_pred,[\"No\",\"YES\"])\n",
    "print(classification_report(y_true, y_pred))"
   ]
  },
  {
   "cell_type": "markdown",
   "metadata": {
    "heading_collapsed": true,
    "id": "z7xpiDQCdqdH"
   },
   "source": [
    "# Z.mays"
   ]
  },
  {
   "cell_type": "code",
   "execution_count": 36,
   "metadata": {
    "ExecuteTime": {
     "end_time": "2022-07-22T20:19:27.945267Z",
     "start_time": "2022-07-22T20:19:27.457558Z"
    },
    "colab": {
     "base_uri": "https://localhost:8080/",
     "height": 538
    },
    "executionInfo": {
     "elapsed": 3017,
     "status": "ok",
     "timestamp": 1655637599771,
     "user": {
      "displayName": "Ilia abolhasani",
      "userId": "05829853781998776186"
     },
     "user_tz": -270
    },
    "hidden": true,
    "id": "VqbZ9DJ1gLqc",
    "outputId": "1a559363-5e23-4e55-c238-35e96ec739b2"
   },
   "outputs": [
    {
     "name": "stdout",
     "output_type": "stream",
     "text": [
      "23/23 [==============================] - 0s 2ms/step\n"
     ]
    },
    {
     "data": {
      "image/png": "[encoded data removed]",
      "text/plain": [
       "<Figure size 432x288 with 2 Axes>"
      ]
     },
     "metadata": {
      "needs_background": "light"
     },
     "output_type": "display_data"
    },
    {
     "name": "stdout",
     "output_type": "stream",
     "text": [
      "              precision    recall  f1-score   support\n",
      "\n",
      "           0       0.68      1.00      0.81       108\n",
      "           1       1.00      0.92      0.96       627\n",
      "\n",
      "    accuracy                           0.93       735\n",
      "   macro avg       0.84      0.96      0.88       735\n",
      "weighted avg       0.95      0.93      0.93       735\n",
      "\n"
     ]
    }
   ],
   "source": [
    "plant = 'Z.mays'\n",
    "y_true = np.argmax(data[plant]['target'], axis=1)\n",
    "y_pred =  np.argmax(model.predict(data[plant]['feature']), axis=1)\n",
    "confusion_matrix(y_true,y_pred,[\"No\",\"YES\"])\n",
    "print(classification_report(y_true, y_pred))"
   ]
  },
  {
   "cell_type": "code",
   "execution_count": null,
   "metadata": {
    "hidden": true,
    "id": "5pASyNqygete"
   },
   "outputs": [],
   "source": []
  },
  {
   "cell_type": "code",
   "execution_count": null,
   "metadata": {
    "hidden": true
   },
   "outputs": [],
   "source": []
  },
  {
   "cell_type": "code",
   "execution_count": null,
   "metadata": {
    "hidden": true
   },
   "outputs": [],
   "source": []
  }
 ],
 "metadata": {
  "colab": {
   "collapsed_sections": [
    "qyC8IFwrWkag",
    "bdbqIS-UWka4",
    "5Ueqwrjc5ewu",
    "Yqno44cv5iiY",
    "TlT1KSuI5mJX",
    "zKOjU6DD5oCk",
    "JNmcvnfJZhok",
    "-1L8jIc5WkbW"
   ],
   "name": "Classification.ipynb",
   "provenance": []
  },
  "kernelspec": {
   "display_name": "Python 3",
   "language": "python",
   "name": "python3"
  },
  "language_info": {
   "codemirror_mode": {
    "name": "ipython",
    "version": 3
   },
   "file_extension": ".py",
   "mimetype": "text/x-python",
   "name": "python",
   "nbconvert_exporter": "python",
   "pygments_lexer": "ipython3",
   "version": "3.8.10"
  }
 },
 "nbformat": 4,
 "nbformat_minor": 1
}
