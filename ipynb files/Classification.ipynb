{
 "cells": [
  {
   "cell_type": "markdown",
   "metadata": {
    "id": "qyC8IFwrWkag"
   },
   "source": [
    "# Imports"
   ]
  },
  {
   "cell_type": "code",
   "execution_count": null,
   "metadata": {
    "colab": {
     "base_uri": "https://localhost:8080/"
    },
    "executionInfo": {
     "elapsed": 2919,
     "status": "ok",
     "timestamp": 1655665830660,
     "user": {
      "displayName": "Ilia abolhasani",
      "userId": "05829853781998776186"
     },
     "user_tz": -270
    },
    "id": "DWZ7QAf_XvbB",
    "outputId": "bf30af91-0568-40df-a3c9-6acb30e97e2e"
   },
   "outputs": [
    {
     "name": "stdout",
     "output_type": "stream",
     "text": [
      "Drive already mounted at /content/drive; to attempt to forcibly remount, call drive.mount(\"/content/drive\", force_remount=True).\n"
     ]
    }
   ],
   "source": [
    "from google.colab import drive\n",
    "drive.mount('/content/drive')"
   ]
  },
  {
   "cell_type": "code",
   "execution_count": null,
   "metadata": {
    "colab": {
     "base_uri": "https://localhost:8080/"
    },
    "executionInfo": {
     "elapsed": 12,
     "status": "ok",
     "timestamp": 1655665830661,
     "user": {
      "displayName": "Ilia abolhasani",
      "userId": "05829853781998776186"
     },
     "user_tz": -270
    },
    "id": "P0cnPvQaXyF9",
    "outputId": "b17c833f-609c-4a9c-a4ce-637d735f8b7e"
   },
   "outputs": [
    {
     "name": "stdout",
     "output_type": "stream",
     "text": [
      "/content/drive/MyDrive/mirPredict\n"
     ]
    }
   ],
   "source": [
    "%cd /content/drive/MyDrive/mirPredict/"
   ]
  },
  {
   "cell_type": "code",
   "execution_count": null,
   "metadata": {
    "id": "16Duf9iWWkat"
   },
   "outputs": [],
   "source": [
    "import pickle\n",
    "import json\n",
    "from __future__ import division\n",
    "import warnings\n",
    "warnings.filterwarnings('ignore')\n",
    "import sys\n",
    "from numpy.random import randint\n",
    "from numpy.random import rand\n",
    "import multiprocessing as mp\n",
    "import random\n",
    "import math\n",
    "import pandas as pd\n",
    "import numpy as np\n",
    "from tqdm.notebook import tqdm\n",
    "import matplotlib.pyplot as plt\n",
    "from tqdm.contrib.concurrent import process_map\n",
    "sys.path.append(\"./src\")\n",
    "from convertor import convert\n",
    "from preprocessing import get_target, preprocessing\n",
    "import os\n",
    "from sklearn.preprocessing import OneHotEncoder\n",
    "from sklearn.model_selection import KFold, StratifiedKFold"
   ]
  },
  {
   "cell_type": "code",
   "execution_count": null,
   "metadata": {
    "colab": {
     "base_uri": "https://localhost:8080/"
    },
    "executionInfo": {
     "elapsed": 39,
     "status": "ok",
     "timestamp": 1655665831762,
     "user": {
      "displayName": "Ilia abolhasani",
      "userId": "05829853781998776186"
     },
     "user_tz": -270
    },
    "id": "dw2CPHm_ZDdT",
    "outputId": "08821059-1238-4bf4-aea7-efadecd4debe"
   },
   "outputs": [
    {
     "name": "stdout",
     "output_type": "stream",
     "text": [
      "keras version  2.8.0\n"
     ]
    }
   ],
   "source": [
    "from sklearn import metrics\n",
    "from sklearn.metrics import classification_report\n",
    "from sklearn.model_selection import train_test_split\n",
    "\n",
    "import tensorflow as tf\n",
    "import keras\n",
    "from keras import backend as K\n",
    "from keras.models import Sequential\n",
    "from keras.layers import Input,Dense, Dropout, Flatten, Reshape, GlobalAveragePooling1D, BatchNormalization,LSTM,Bidirectional\n",
    "from keras.layers import Conv2D, MaxPooling2D, Conv1D, MaxPooling1D,UpSampling1D, Conv1DTranspose,GaussianNoise \n",
    "from keras.utils import np_utils\n",
    "from keras import backend as K\n",
    "from keras.callbacks import Callback\n",
    "from keras.regularizers import l2 , l1, l1_l2\n",
    "import tensorflow.keras.backend as kb\n",
    "print('keras version ', keras.__version__)\n",
    "\n",
    "from keras.utils.vis_utils import plot_model"
   ]
  },
  {
   "cell_type": "markdown",
   "metadata": {
    "id": "bdbqIS-UWka4"
   },
   "source": [
    "# Functions"
   ]
  },
  {
   "cell_type": "code",
   "execution_count": null,
   "metadata": {
    "id": "Pk2w6ac8Wka5"
   },
   "outputs": [],
   "source": [
    "def df_to_fasta(df, path):\n",
    "    lines = []\n",
    "    df.apply(lambda row: lines.append(f\">{row['tag']}\\n{row['data']}\\n\"),axis=1)\n",
    "    with open(path,'w') as file:\n",
    "        file.write(''.join(lines))"
   ]
  },
  {
   "cell_type": "code",
   "execution_count": null,
   "metadata": {
    "id": "yoDSV7bjWka6"
   },
   "outputs": [],
   "source": [
    "def fasta_to_df(path):\n",
    "    with open(path, 'r') as file:\n",
    "        text = file.read()\n",
    "    lines = [line for line in text.split('\\n') if len(line) > 0]\n",
    "    s = ''\n",
    "    tags = []\n",
    "    data = []\n",
    "    for l in lines:\n",
    "        if(l[0]=='>'):\n",
    "            tags.append(l)        \n",
    "            data.append(s)\n",
    "            s = ''\n",
    "        else:\n",
    "            s += l    \n",
    "    data.append(s)\n",
    "    df = pd.DataFrame(\n",
    "            {\n",
    "                'tag': tags,\n",
    "                'data': data[1:]\n",
    "            })\n",
    "    df['tag'] = df['tag'].apply(lambda x: x[1:])    \n",
    "    return df"
   ]
  },
  {
   "cell_type": "code",
   "execution_count": null,
   "metadata": {
    "id": "nQOAHaVBWka_"
   },
   "outputs": [],
   "source": [
    "class DotDict(dict):\n",
    "    __getattr__ = dict.get\n",
    "    __setattr__ = dict.__setitem__\n",
    "    __delattr__ = dict.__delitem__"
   ]
  },
  {
   "cell_type": "code",
   "execution_count": null,
   "metadata": {
    "id": "pzR6yRp8v_aT"
   },
   "outputs": [],
   "source": [
    "import numpy as np\n",
    "import pandas as pd\n",
    "import seaborn as sns\n",
    "import matplotlib.pyplot as plt\n",
    "from sklearn import metrics\n",
    "\n",
    "def confusion_matrix(validations, predictions, LABELS):            \n",
    "    freq = metrics.confusion_matrix(validations, predictions)        \n",
    "    sensitivity =  (np.divide(freq.transpose(),\n",
    "                             np.sum(freq, axis=1)).transpose() * 100).round(2)    \n",
    "    annotation = []\n",
    "    for i in range(freq.shape[0]):\n",
    "        row = []\n",
    "        for j in range(freq.shape[1]):\n",
    "            row.append(f'{freq[i][j]}\\n {sensitivity[i][j]}%')            \n",
    "        annotation.append(row)\n",
    "    annotation = np.array(annotation)\n",
    "    sns.heatmap(sensitivity, cmap=\"YlOrBr\",\n",
    "                vmin=0, vmax=100,\n",
    "                linecolor='white',\n",
    "                linewidths=1,\n",
    "                xticklabels=LABELS,\n",
    "                yticklabels=LABELS,\n",
    "                annot=annotation,\n",
    "               fmt=':<')    \n",
    "    plt.title(\"Confusion Matrix\")\n",
    "    plt.ylabel(\"Actually Label\")\n",
    "    plt.xlabel(\"Predicted Label\")\n",
    "    plt.show()            \n",
    "\n",
    "def report(pred, df, ref):\n",
    "    number_of_hit = len(df['hit seq'].unique())\n",
    "    print(f'number of unique hit: {number_of_hit}')\n",
    "    total = len(df[df['hit seq'].isin(ref['data'])]['hit seq'].unique()) \n",
    "    print(f'total mir: {total}')    \n",
    "    selected = df[pd.Series(pred).apply(lambda x: True if x==1 else False)]\n",
    "    found_seq = selected[selected['hit seq'].isin(ref['data'])]['hit seq'].unique()\n",
    "    found = len(found_seq)\n",
    "    print(f'found mir : {found}')\n",
    "    print(f'fount to all : {round(found / total * 100, 2)}%')\n",
    "    fp = len(selected[~selected['hit seq'].isin(ref['data'])]['hit seq'].unique())\n",
    "    print(f'fp: {fp}')"
   ]
  },
  {
   "cell_type": "markdown",
   "metadata": {
    "id": "4qLMRhTLWkbA"
   },
   "source": [
    "# Load all plant dataset"
   ]
  },
  {
   "cell_type": "code",
   "execution_count": null,
   "metadata": {
    "id": "QSvkewSupdLq"
   },
   "outputs": [],
   "source": [
    "data               = {}\n",
    "data[\"O.sativa\"]   = {}\n",
    "data[\"C.Sinensis\"] = {}\n",
    "data[\"A.thaliana\"] = {}\n",
    "data[\"Z.mays\"]     = {}"
   ]
  },
  {
   "cell_type": "code",
   "execution_count": null,
   "metadata": {
    "id": "LwEUkJJAV6_W"
   },
   "outputs": [],
   "source": [
    "#with open('filename.pickle', 'wb') as handle:\n",
    "#   pickle.dump(data, handle, protocol=pickle.HIGHEST_PROTOCOL)\n",
    "\n",
    "with open('filename.pickle', 'rb') as handle:\n",
    "    data = pickle.load(handle)"
   ]
  },
  {
   "cell_type": "code",
   "execution_count": null,
   "metadata": {
    "id": "YREQVEYCQROA"
   },
   "outputs": [],
   "source": [
    "def load(plant):\n",
    "    # reference\n",
    "    data[plant]['reference'] = fasta_to_df(f\"./Experiment/{plant}/reference.fasta\")\n",
    "    data[plant]['reference']['data'] = data[plant]['reference']['data'].apply(lambda x: x.replace(\"U\", \"T\"))    \n",
    "    print(data[plant]['reference'].shape)\n",
    "    # data frame    \n",
    "    data[plant]['df'] = pd.read_csv(f\"./Experiment/{plant}/Result/result_level1_filter.csv\")\n",
    "    data[plant]['df'] = convert(data[plant]['df'])\n",
    "    print(data[plant]['df'].shape)\n",
    "    # get tag        \n",
    "    data[plant]['target'] = get_target(data[plant]['df'], data[plant]['reference'])    \n",
    "    print(data[plant]['target'].shape)\n",
    "    # feature\n",
    "    data[plant]['feature'] = preprocessing(data[plant]['df'])\n",
    "    print(data[plant]['feature'].shape)"
   ]
  },
  {
   "cell_type": "markdown",
   "metadata": {
    "id": "5Ueqwrjc5ewu"
   },
   "source": [
    "## O.sativa"
   ]
  },
  {
   "cell_type": "code",
   "execution_count": null,
   "metadata": {
    "id": "srimlkLlcvUo"
   },
   "outputs": [],
   "source": [
    "import os\n",
    "import json\n",
    "import numpy as np\n",
    "import pandas as pd\n",
    "import multiprocessing as mp\n",
    "from numpy.random import randint, rand\n",
    "from sklearn.preprocessing import OneHotEncoder\n",
    "from keras.utils import np_utils\n",
    "\n",
    "\n",
    "def reverse_complement(dna):\n",
    "    out = \"\"\n",
    "    for d in dna[::-1]:\n",
    "        if d == \"A\":\n",
    "            out += \"T\"\n",
    "        if d == \"T\":\n",
    "            out += \"A\"\n",
    "        if d == \"C\":\n",
    "            out += \"G\"\n",
    "        if d == \"G\":\n",
    "            out += \"C\"\n",
    "    return out\n",
    "\n",
    "k = 4\n",
    "nuc = [\"A\", \"C\", \"G\", \"T\"]\n",
    "tnf = set([''.join(np.random.choice(nuc, size=k, replace=True)) for i in range(0, 20000)])\n",
    "_tnf = {}\n",
    "for kmer in tnf:\n",
    "    if(reverse_complement(kmer) not in _tnf):\n",
    "        _tnf[kmer] = 0\n",
    "\n",
    "\n",
    "def tnf_calc(dna):\n",
    "    counter = 0\n",
    "    out = _tnf.copy()        \n",
    "    for i in range(0, len(dna)-(k-1)):        \n",
    "        kmer = dna[i:i+k]        \n",
    "        if(kmer in out):\n",
    "            out[kmer] += 1                \n",
    "        else:\n",
    "            rev = reverse_complement(kmer)\n",
    "            if(rev in out):\n",
    "                out[rev] += 1\n",
    "        counter += 1\n",
    "    return pd.Series(out)/counter    \n",
    "\n",
    "\n",
    "# groups = [['A/A', 'G/A', 'A/G', 'G/G'],\n",
    "#           ['C/C', 'T/T',  'T/C', 'C/T'],\n",
    "#           ['A/C', 'C/A'],\n",
    "#           ['T/A', 'A/T'],\n",
    "#           ['G/C', 'C/G'],\n",
    "#           ['G/T', 'T/G'],\n",
    "#           ['-']]\n",
    "\n",
    "          \n",
    "# def com_one_hot(n):            \n",
    "#     out = np.zeros(len(groups))\n",
    "#     n = n.upper()        \n",
    "#     for i in range(len(groups)):\n",
    "#         if n in groups[i]:\n",
    "#             out[i] = 1\n",
    "#     return pd.Series(out)\n",
    "\n",
    "def nuc_one_hot(n):\n",
    "    n = n.upper()\n",
    "    out = {\"A\":0, \"C\":0, \"G\":0, \"T\":0}\n",
    "    if(n in out):\n",
    "        out[n.upper()] = 1\n",
    "    return pd.Series(out)\n",
    "\n",
    "\n",
    "def com_one_hot(n):\n",
    "    n = n.upper()\n",
    "    if n == \"-\":\n",
    "        n = \"-/-\"\n",
    "    out = np.zeros(8)\n",
    "    if n[0] == \"A\":\n",
    "        out[0] = 1\n",
    "    if n[0] == \"C\":\n",
    "        out[1] = 1\n",
    "    if n[0] == \"G\":\n",
    "        out[2] = 1\n",
    "    if n[0] == \"T\":\n",
    "        out[3] = 1\n",
    "    if n[2] == \"A\":\n",
    "        out[4] = 1\n",
    "    if n[2] == \"C\":\n",
    "        out[5] = 1\n",
    "    if n[2] == \"G\":\n",
    "        out[6] = 1\n",
    "    if n[2] == \"T\":\n",
    "        out[7] = 1\n",
    "    return pd.Series(out)\n",
    "\n",
    "\n",
    "def sum_of_size_in_hit(row, type_str, size_str):\n",
    "    _sum = 0\n",
    "    mismatch_type = row[type_str]\n",
    "    for i in range(len(mismatch_type)):\n",
    "        if mismatch_type[i] == \"hit region\":\n",
    "            _sum += row[size_str][i]\n",
    "    return _sum\n",
    "\n",
    "\n",
    "def sum_of_size_in_hit_only_zero(row):\n",
    "    _sum = 0\n",
    "    bulge_type = row[\"bulge type\"]\n",
    "    bulge_strand = row[\"bulge strand\"]\n",
    "    for i in range(len(bulge_type)):\n",
    "        if bulge_type[i] == \"hit region\" and bulge_strand[i] == \"zero\":\n",
    "            _sum += row[\"bulge size\"][i]\n",
    "    return _sum\n",
    "\n",
    "\n",
    "def number_of_residue(row):\n",
    "    hit_end = row['hit end']    \n",
    "    hit_start = row['hit start']\n",
    "    psep = row['psep']\n",
    "    if(psep == '-'):\n",
    "        return 0\n",
    "    mir_type = row['mir type']\n",
    "    if mir_type == '5p':\n",
    "        if psep < hit_end:\n",
    "            return hit_end - psep\n",
    "    if mir_type == '3p':\n",
    "        if psep > hit_start:\n",
    "            return psep - hit_start\n",
    "    return 0\n",
    "\n",
    "\n",
    "def sum_of_size_in_border_line(row, border_type, type_str, size_str, start, end):\n",
    "    _sum = 0\n",
    "    _size = row[size_str]    \n",
    "    _start = row[start]    \n",
    "    _end = row[end]\n",
    "    mir_type = row['mir type']     \n",
    "    mismatch_type = row[type_str]    \n",
    "    for i in range(len(mismatch_type)):\n",
    "        if mismatch_type[i] == border_type:\n",
    "            if border_type == \"distal border line\":\n",
    "                if mir_type  == '5p':\n",
    "                    _sum += _size[i] - _start[i]\n",
    "                if mir_type == '3p':\n",
    "                    _sum += _size[i] - _end[i]\n",
    "            if border_type == \"proximal border line\":\n",
    "                if mir_type == '5p':\n",
    "                    _sum += _size[i] - _end[i]\n",
    "                if mir_type == '3p':\n",
    "                    _sum += _size[i] - _start[i]\n",
    "    return _sum\n",
    "\n",
    "\n",
    "def check_involvement(row):\n",
    "    if(row['number of terminal structures'] == \"-\"):\n",
    "        return None\n",
    "    if(row['number of terminal structures'] > 1):\n",
    "        return True\n",
    "    start = row['branch#1 apical loop start']\n",
    "    end = row['branch#1 apical loop end']\n",
    "    for col in ['hit start', 'hit end', 'star start', 'star end']:\n",
    "        if(start < row[col] < end ):\n",
    "            return False                    \n",
    "    return True\n",
    "\n",
    "\n",
    "def get_max_in_region(row, type_str, size_str, region):\n",
    "    out = 0\n",
    "    mismatch_type = row[type_str]    \n",
    "    for i in range(len(mismatch_type)):\n",
    "        if mismatch_type[i] == region:\n",
    "            if row[size_str][i] > out:\n",
    "                out = row[size_str][i]\n",
    "    return out\n",
    "\n",
    "\n",
    "def get_number_in_region(row, type_str, size_str, region):\n",
    "    counter = 0\n",
    "    mismatch_type = row[type_str]    \n",
    "    for i in range(len(mismatch_type)):\n",
    "        if mismatch_type[i] == region:\n",
    "            counter += 1            \n",
    "    return counter\n",
    "\n",
    "\n",
    "def get_sum_in_region(row, type_str, size_str, region):\n",
    "    out = 0\n",
    "    mismatch_type = row[type_str]    \n",
    "    for i in range(len(mismatch_type)):\n",
    "        if mismatch_type[i] == region:\n",
    "            out += row[size_str][i]            \n",
    "    return out\n",
    "\n",
    "\n",
    "def preprocessing(df):        \n",
    "    result = df.copy()\n",
    "    result = result.reset_index(drop=True)\n",
    "    cols = ['mismatch type', 'mismatch size']\n",
    "    sum_missmatch = result[cols].apply(lambda row: sum_of_size_in_hit(row, 'mismatch type', 'mismatch size'), axis=1)\n",
    "\n",
    "    cols = ['bulge type', 'bulge size']\n",
    "    sum_bulge = result[cols].apply(lambda row: sum_of_size_in_hit(row, 'bulge type', 'bulge size'), axis=1)\n",
    "    \n",
    "    cols = ['internal type', 'internal loop total size']\n",
    "    sum_internal = result[cols].apply(lambda row: sum_of_size_in_hit(row, 'internal type', 'internal loop total size'), axis=1)\n",
    "\n",
    "    cols = ['internal type', 'internal loop HSBL']\n",
    "    sum_internal_hsbl = result[cols].apply(lambda row: sum_of_size_in_hit(row, 'internal type', 'internal loop HSBL'),axis=1)\n",
    "\n",
    "    cols = [\"mir type\", 'mismatch type', 'mismatch size', 'mismatch start', 'mismatch end'] \n",
    "    sum_missmatch_border_proximal = result[cols].apply(lambda row: sum_of_size_in_border_line(row, 'proximal border line', 'mismatch type', 'mismatch size', 'mismatch start', 'mismatch end'), axis=1)\n",
    "    sum_missmatch_border_distal = result[cols].apply(lambda row: sum_of_size_in_border_line(row, 'distal border line', 'mismatch type', 'mismatch size', 'mismatch start', 'mismatch end'), axis=1)\n",
    "\n",
    "    cols = [\"mir type\", 'bulge type', 'bulge size', 'bulge start', 'bulge end']\n",
    "    sum_bulge_border_proximal = result[cols].apply(lambda row: sum_of_size_in_border_line(row, 'proximal border line', 'bulge type', 'bulge size', 'bulge start', 'bulge end'), axis=1)\n",
    "    sum_bulge_border_distal = result[cols].apply(lambda row: sum_of_size_in_border_line(row, 'distal border line', 'bulge type', 'bulge size', 'bulge start', 'bulge end'), axis=1)\n",
    "\n",
    "    cols = [\"mir type\", 'internal type', 'internal loop HSBL', 'internal start', 'internal end']\n",
    "    sum_internal_border_proximal = result[cols].apply(lambda row: sum_of_size_in_border_line(row, 'proximal border line', 'internal type', 'internal loop HSBL', 'internal start', 'internal end'), axis=1)\n",
    "    sum_internal_border_distal = result[cols].apply(lambda row: sum_of_size_in_border_line(row, 'distal border line', 'internal type', 'internal loop HSBL', 'internal start', 'internal end'), axis=1)\n",
    "\n",
    "    cols = [\"hit start\", \"hit end\", \"psep\", \"mir type\"]\n",
    "    sum_of_residue = result[cols].apply(lambda row: number_of_residue(row), axis=1)\n",
    "    \n",
    "    cols = [\"bulge type\", \"bulge strand\", \"bulge size\"]\n",
    "    sum_bulge_zero = result[cols].apply(lambda row: sum_of_size_in_hit_only_zero(row), axis=1)\n",
    "\n",
    "    result['sum of residue in terminal loop'] = sum_of_residue\n",
    "\n",
    "    _sum = sum_bulge + sum_internal + sum_bulge_border_proximal + sum_bulge_border_distal + sum_internal_border_proximal + sum_internal_border_distal + sum_of_residue\n",
    "    result[\"ACCEPTABLE_NUM_FOR_HIT_LOCATIONS_IN_BULGES_OR_LOOPS\"] = _sum\n",
    "\n",
    "    result[\"ACCEPTABLE_NUM_FOR_UNMATCHED_LOCATIONS_IN_HIT_REGION * 2\"] = (_sum + (sum_missmatch + sum_missmatch_border_proximal + sum_missmatch_border_distal) * 2)\n",
    "    result[\"ACCEPTABLE_NUM_FOR_UNMATCHED_LOCATIONS_IN_HIT_REGION\"] = (_sum + (sum_missmatch + sum_missmatch_border_proximal + sum_missmatch_border_distal))\n",
    "\n",
    "    _sum = sum_bulge_zero + sum_internal_hsbl + sum_bulge_border_proximal + sum_bulge_border_distal + sum_internal_border_proximal + sum_internal_border_distal + sum_of_residue\n",
    "    result[\"ACCEPTABLE_NUM_FOR_HIT_LOCATIONS_IN_BULGES_OR_LOOPS_mayers\"] = _sum\n",
    "\n",
    "    result[\"ACCEPTABLE_NUM_FOR_UNMATCHED_LOCATIONS_IN_HIT_REGION_mayers * 2\"] = (_sum + (sum_missmatch + sum_missmatch_border_proximal + sum_missmatch_border_distal) * 2)\n",
    "    result[\"ACCEPTABLE_NUM_FOR_UNMATCHED_LOCATIONS_IN_HIT_REGION_mayers\"] = (_sum + (sum_missmatch + sum_missmatch_border_proximal + sum_missmatch_border_distal))\n",
    "\n",
    "    result[\"TOTAL_NUM_OF_MISMACHED_POSITIONS\"] = sum_missmatch\n",
    "\n",
    "    result[\"TOTAL_NUM_OF_NONMATCHING_POSITIONS\"] = (sum_missmatch + sum_bulge + sum_internal)\n",
    "\n",
    "    result[\"TOTAL_NUM_OF_POSITIONS_IN_BULGES_AND_LOOPS\"] = (sum_bulge + sum_internal)\n",
    "    \n",
    "    result[\"MATURE_DUPLEX_INVOLVEMENT_IN_APICAL_LOOP\"] = result.apply(lambda row: check_involvement(row), axis=1)\n",
    "\n",
    "    cols = ['hit len',\n",
    "        'flanking GC content',\n",
    "        'flanking MFEI',\n",
    "        'hit GC content',        \n",
    "        'hit complementarity percentage',        \n",
    "        'num of linking residues',\n",
    "        'boi GC content',\n",
    "        'boi delta G',\n",
    "        'boi AMFE',\n",
    "        'boi MFEI',        \n",
    "        'branch#1 apical loop size',        \n",
    "        'precursor gc content',\n",
    "        'precursor delta G',\n",
    "        'precursor AMFE',\n",
    "        'precursor MFEI',\n",
    "        'number of terminal structures',\n",
    "        'primary stem length',\n",
    "        'mismatch',\n",
    "        'bulge',\n",
    "        'internal loop',\n",
    "        'base structure corrected length',\n",
    "        'primary stem corrected length',\n",
    "        'Loop distal junction distance',\n",
    "        'Loop proximal junction distance',\n",
    "        'sum of residue in terminal loop',\n",
    "        'ACCEPTABLE_NUM_FOR_HIT_LOCATIONS_IN_BULGES_OR_LOOPS',\n",
    "        'ACCEPTABLE_NUM_FOR_UNMATCHED_LOCATIONS_IN_HIT_REGION * 2',\n",
    "        'ACCEPTABLE_NUM_FOR_UNMATCHED_LOCATIONS_IN_HIT_REGION',\n",
    "        'ACCEPTABLE_NUM_FOR_HIT_LOCATIONS_IN_BULGES_OR_LOOPS_mayers',\n",
    "        'ACCEPTABLE_NUM_FOR_UNMATCHED_LOCATIONS_IN_HIT_REGION_mayers * 2',\n",
    "        'ACCEPTABLE_NUM_FOR_UNMATCHED_LOCATIONS_IN_HIT_REGION_mayers',\n",
    "        'TOTAL_NUM_OF_MISMACHED_POSITIONS',\n",
    "        'TOTAL_NUM_OF_NONMATCHING_POSITIONS',\n",
    "        'TOTAL_NUM_OF_POSITIONS_IN_BULGES_AND_LOOPS',\n",
    "        'MATURE_DUPLEX_INVOLVEMENT_IN_APICAL_LOOP',\n",
    "        ]\n",
    "    for region in [\"loop distal\", \"hit region\", \"distal border line\", \"loop proximal\", \"proximal border line\"]:\n",
    "        _col = [\"mismatch type\", \"mismatch size\"]\n",
    "        result[f'max mismatch in {region}'] = result[_col].apply(lambda row: get_max_in_region(row, \"mismatch type\", \"mismatch size\", region), axis=1)\n",
    "        cols.append(f'max mismatch in {region}')        \n",
    "        result[f'number mismatch in {region}'] = result[_col].apply(lambda row: get_number_in_region(row, \"mismatch type\", \"mismatch size\", region), axis=1)\n",
    "        cols.append(f'number mismatch in {region}')        \n",
    "        result[f'sum mismatch in {region}'] = result[_col].apply(lambda row: get_sum_in_region(row, \"mismatch type\", \"mismatch size\", region), axis=1)    \n",
    "        cols.append(f'sum mismatch in {region}')\n",
    "        _col = [\"bulge type\", \"bulge size\"]\n",
    "        result[f'max bulge in {region}'] = result[_col].apply(lambda row: get_max_in_region(row, \"bulge type\", \"bulge size\", region), axis=1)\n",
    "        cols.append(f'max bulge in {region}')        \n",
    "        result[f'number bulge in {region}'] = result[_col].apply(lambda row: get_number_in_region(row, \"bulge type\", \"bulge size\", region), axis=1)\n",
    "        cols.append(f'number bulge in {region}')        \n",
    "        result[f'sum bulge in {region}'] = result[_col].apply(lambda row: get_sum_in_region(row, \"bulge type\", \"bulge size\", region), axis=1)\n",
    "        cols.append(f'sum bulge in {region}')\n",
    "        _col = [\"internal type\", \"internal loop total size\"]\n",
    "        result[f'max loop in {region}'] = result[_col].apply(lambda row: get_max_in_region(row, \"internal type\", \"internal loop total size\", region), axis=1)\n",
    "        cols.append(f'max loop in {region}')        \n",
    "        result[f'number loop in {region}'] = result[_col].apply(lambda row: get_number_in_region(row, \"internal type\", \"internal loop total size\", region), axis=1)\n",
    "        cols.append(f'number loop in {region}')        \n",
    "        result[f'sum loop in {region}'] = result[_col].apply(lambda row: get_sum_in_region(row, \"internal type\", \"internal loop total size\", region), axis=1)\n",
    "        cols.append(f'sum loop in {region}')\n",
    "    mirs = result[['mir type']]\n",
    "    X = result[cols]\n",
    "    # replace inf with max\n",
    "    for c in X.columns:\n",
    "        m = X[X[c] != np.inf][c].max()\n",
    "        X[c].replace([np.inf], m, inplace=True)    \n",
    "    # standardization    \n",
    "    mu = X.mean()\n",
    "    std = X.std()\n",
    "    X = (X - mu) / std\n",
    "    # mir type\n",
    "    encoder = OneHotEncoder(handle_unknown='ignore')\n",
    "    encoder_df = pd.DataFrame(encoder.fit_transform(mirs).toarray())\n",
    "    X = X.join(encoder_df)\n",
    "    # TNF\n",
    "    _tnf = pd.DataFrame(df['hit seq'].apply(lambda x: tnf_calc(x)))\n",
    "    X = X.join(_tnf).reset_index(drop=True)\n",
    "    # start end nucleotide\n",
    "    nuc_list = []\n",
    "    for c in [\"-3\", \"-2\", \"-1\", \"\", \"+1\", \"+2\"]:\n",
    "        col_name = f\"hit start{c} composition\"\n",
    "        _nuc = pd.DataFrame(result[col_name].apply(lambda x: com_one_hot(x))).reset_index(drop=True)\n",
    "        _nuc.columns = [f\"start_{c}_{i}\" for i in _nuc.columns]\n",
    "        nuc_list.append(_nuc)\n",
    "        col_name = f\"hit end{c} composition\"\n",
    "        _nuc = pd.DataFrame(result[col_name].apply(lambda x: com_one_hot(x))).reset_index(drop=True)\n",
    "        _nuc.columns = [f\"end_{c}_{i}\" for i in _nuc.columns]\n",
    "        nuc_list.append(_nuc)\n",
    "\n",
    "    X = pd.concat([X, *nuc_list], axis=1)\n",
    "    # connectivity\n",
    "    cols = []\n",
    "    for c in [\"-3\", \"-2\", \"-1\", \"\", \"+1\", \"+2\"]:\n",
    "        cols.append(f\"connectivity hit start{c}\")\n",
    "        cols.append(f\"connectivity hit end{c}\")\n",
    "    #for c in range(2,13):\n",
    "    #    cols.append(f\"seed connectivity{c}\")\n",
    "    X = X.join(result[cols])    \n",
    "    X = X.astype(\"float32\")\n",
    "    return X\n",
    "\n",
    "\n",
    "def get_target(df, reference):\n",
    "    Y = df['hit seq'].isin(reference['data'])\n",
    "    Y = Y.apply(lambda x: 1 if x else 0)\n",
    "    Y = np_utils.to_categorical(Y, 2)\n",
    "    Y = Y.astype(\"float32\")\n",
    "    return Y"
   ]
  },
  {
   "cell_type": "code",
   "execution_count": null,
   "metadata": {
    "colab": {
     "base_uri": "https://localhost:8080/"
    },
    "executionInfo": {
     "elapsed": 658144,
     "status": "ok",
     "timestamp": 1655632401689,
     "user": {
      "displayName": "Ilia abolhasani",
      "userId": "05829853781998776186"
     },
     "user_tz": -270
    },
    "id": "RP1AlQ2VPCHz",
    "outputId": "80943c18-970d-4769-f524-4cac30491c6e"
   },
   "outputs": [
    {
     "name": "stdout",
     "output_type": "stream",
     "text": [
      "(577, 2)\n",
      "(160046, 170)\n",
      "(160046, 2)\n",
      "(160046, 326)\n"
     ]
    }
   ],
   "source": [
    "load(plant=\"O.sativa\")"
   ]
  },
  {
   "cell_type": "markdown",
   "metadata": {
    "id": "Yqno44cv5iiY"
   },
   "source": [
    "## A.thaliana"
   ]
  },
  {
   "cell_type": "code",
   "execution_count": null,
   "metadata": {
    "colab": {
     "base_uri": "https://localhost:8080/"
    },
    "executionInfo": {
     "elapsed": 74865,
     "status": "ok",
     "timestamp": 1655632476543,
     "user": {
      "displayName": "Ilia abolhasani",
      "userId": "05829853781998776186"
     },
     "user_tz": -270
    },
    "id": "OB3UG8T4QwmB",
    "outputId": "6d21272f-fa48-4092-f466-0ec387fffe14"
   },
   "outputs": [
    {
     "name": "stdout",
     "output_type": "stream",
     "text": [
      "(350, 2)\n",
      "(19184, 170)\n",
      "(19184, 2)\n",
      "(19184, 326)\n"
     ]
    }
   ],
   "source": [
    "load(plant=\"A.thaliana\")"
   ]
  },
  {
   "cell_type": "markdown",
   "metadata": {
    "id": "TlT1KSuI5mJX"
   },
   "source": [
    "## C.sinensis"
   ]
  },
  {
   "cell_type": "code",
   "execution_count": null,
   "metadata": {
    "colab": {
     "base_uri": "https://localhost:8080/"
    },
    "executionInfo": {
     "elapsed": 354197,
     "status": "ok",
     "timestamp": 1655632830715,
     "user": {
      "displayName": "Ilia abolhasani",
      "userId": "05829853781998776186"
     },
     "user_tz": -270
    },
    "id": "9FPW6VlKs1bK",
    "outputId": "341c2d64-db53-4a45-a698-880088ee52de"
   },
   "outputs": [
    {
     "name": "stdout",
     "output_type": "stream",
     "text": [
      "(191, 2)\n",
      "(87212, 170)\n",
      "(87212, 2)\n",
      "(87212, 326)\n"
     ]
    }
   ],
   "source": [
    "load(plant=\"C.Sinensis\")"
   ]
  },
  {
   "cell_type": "markdown",
   "metadata": {
    "id": "zKOjU6DD5oCk"
   },
   "source": [
    "## Z.mays"
   ]
  },
  {
   "cell_type": "code",
   "execution_count": null,
   "metadata": {
    "colab": {
     "base_uri": "https://localhost:8080/"
    },
    "executionInfo": {
     "elapsed": 500447,
     "status": "ok",
     "timestamp": 1655633331146,
     "user": {
      "displayName": "Ilia abolhasani",
      "userId": "05829853781998776186"
     },
     "user_tz": -270
    },
    "id": "46WuwgG0Ud8k",
    "outputId": "eaa997aa-aadf-4cdd-d9c5-34cfdb43fe83"
   },
   "outputs": [
    {
     "name": "stdout",
     "output_type": "stream",
     "text": [
      "(207, 2)\n",
      "(123561, 170)\n",
      "(123561, 2)\n",
      "(123561, 326)\n"
     ]
    }
   ],
   "source": [
    "load(plant=\"Z.mays\")"
   ]
  },
  {
   "cell_type": "markdown",
   "metadata": {
    "id": "JNmcvnfJZhok"
   },
   "source": [
    "# Train Test split and class weight"
   ]
  },
  {
   "cell_type": "code",
   "execution_count": null,
   "metadata": {
    "id": "8NTbi3eSoHj1"
   },
   "outputs": [],
   "source": [
    "X = data['O.sativa']['feature']\n",
    "Y = np.argmax(data['O.sativa']['target'], axis=1)"
   ]
  },
  {
   "cell_type": "code",
   "execution_count": null,
   "metadata": {
    "id": "J5dOkInLZnVk"
   },
   "outputs": [],
   "source": [
    "X_train, X_val, y_train, y_val = train_test_split(data['O.sativa']['feature'], data['O.sativa']['target'], test_size=0.33, random_state=0)"
   ]
  },
  {
   "cell_type": "code",
   "execution_count": null,
   "metadata": {
    "colab": {
     "base_uri": "https://localhost:8080/"
    },
    "executionInfo": {
     "elapsed": 29,
     "status": "ok",
     "timestamp": 1655665864469,
     "user": {
      "displayName": "Ilia abolhasani",
      "userId": "05829853781998776186"
     },
     "user_tz": -270
    },
    "id": "YFEo_zB_Zmup",
    "outputId": "afbfde76-2528-4881-de5c-edb6f74a0cf4"
   },
   "outputs": [
    {
     "data": {
      "text/plain": [
       "{0: 1.0, 1: 40.94077568134172}"
      ]
     },
     "execution_count": 19,
     "metadata": {},
     "output_type": "execute_result"
    }
   ],
   "source": [
    "class_weight = {0: 1.,\n",
    "                1: (sum(y_train[:,0]) + sum(y_val[:,0])) / (sum(y_train[:,1]) + sum(y_val[:,1]))}\n",
    "class_weight"
   ]
  },
  {
   "cell_type": "markdown",
   "metadata": {
    "id": "bY8RjCkGZXYz"
   },
   "source": [
    "# ML"
   ]
  },
  {
   "cell_type": "code",
   "execution_count": 25,
   "metadata": {
    "executionInfo": {
     "elapsed": 377,
     "status": "ok",
     "timestamp": 1655669408273,
     "user": {
      "displayName": "Ilia abolhasani",
      "userId": "05829853781998776186"
     },
     "user_tz": -270
    },
    "id": "jQ4Zwnjsm-Wu"
   },
   "outputs": [],
   "source": [
    "from sklearn.ensemble import AdaBoostClassifier\n",
    "from sklearn.ensemble import RandomForestClassifier\n",
    "from sklearn.model_selection import KFold\n",
    "from sklearn import svm\n",
    "from sklearn.metrics import f1_score\n",
    "from sklearn.neighbors import KNeighborsClassifier\n",
    "from sklearn.decomposition import PCA"
   ]
  },
  {
   "cell_type": "code",
   "execution_count": 27,
   "metadata": {
    "colab": {
     "base_uri": "https://localhost:8080/",
     "height": 405
    },
    "executionInfo": {
     "elapsed": 6838,
     "status": "ok",
     "timestamp": 1655669600865,
     "user": {
      "displayName": "Ilia abolhasani",
      "userId": "05829853781998776186"
     },
     "user_tz": -270
    },
    "id": "x_Nz7xSWl_As",
    "outputId": "296faf3f-c8e6-4bdc-f6ef-0d19428d00d9"
   },
   "outputs": [
    {
     "name": "stdout",
     "output_type": "stream",
     "text": [
      " d = 53\n"
     ]
    },
    {
     "data": {
      "image/png": "[encoded data removed]",
      "text/plain": [
       "<Figure size 720x432 with 1 Axes>"
      ]
     },
     "metadata": {
      "needs_background": "light"
     },
     "output_type": "display_data"
    }
   ],
   "source": [
    "pca = PCA(n_components=X.shape[1])\n",
    "pca.fit_transform(X)\n",
    "cumsum = pca.explained_variance_ratio_.cumsum()\n",
    "d = np.where(cumsum>=0.9)[0][0] + 1\n",
    "print(f' d = {d}')\n",
    "\n",
    "plt.figure(figsize=(10,6))\n",
    "plt.plot(range(1,len(cumsum)+1), cumsum, linewidth=3)\n",
    "plt.plot(d, cumsum[d-1],'r*',markersize=15)\n",
    "plt.xlabel(\"variance\")\n",
    "plt.ylabel(\"N component\")\n",
    "plt.show()"
   ]
  },
  {
   "cell_type": "code",
   "execution_count": 29,
   "metadata": {
    "executionInfo": {
     "elapsed": 8111,
     "status": "ok",
     "timestamp": 1655669691678,
     "user": {
      "displayName": "Ilia abolhasani",
      "userId": "05829853781998776186"
     },
     "user_tz": -270
    },
    "id": "Nw1DR54Bmats"
   },
   "outputs": [],
   "source": [
    "pca = PCA(n_components=53)\n",
    "X_pca = pca.fit_transform(X)"
   ]
  },
  {
   "cell_type": "code",
   "execution_count": 31,
   "metadata": {
    "colab": {
     "base_uri": "https://localhost:8080/"
    },
    "executionInfo": {
     "elapsed": 46615,
     "status": "ok",
     "timestamp": 1655672221175,
     "user": {
      "displayName": "Ilia abolhasani",
      "userId": "05829853781998776186"
     },
     "user_tz": -270
    },
    "id": "wWDjV-VwnTGb",
    "outputId": "b1f31b34-3ade-42c7-f313-a044d9a5fd4e"
   },
   "outputs": [
    {
     "name": "stdout",
     "output_type": "stream",
     "text": [
      "0.6772976301869422\n",
      "0.6727235332032242\n",
      "0.6634725810103412\n"
     ]
    }
   ],
   "source": [
    "scores = []\n",
    "kfold = KFold(n_splits=3, shuffle=True, random_state=1)\n",
    "for train_ix, test_ix in kfold.split(X_pca):\n",
    "    X_train = X_pca[train_ix,:]\n",
    "    X_test  = X_pca[test_ix,:] \n",
    "    y_train = Y[train_ix]\n",
    "    y_test  = Y[test_ix]\n",
    "    clf = svm.SVC(kernel=\"poly\", class_weight=class_weight)    \n",
    "    clf.fit(X_train, y_train)\n",
    "    pred = clf.predict(X_test)\n",
    "    f1 = f1_score(y_test, pred, average='macro')\n",
    "    print(f1)\n",
    "    scores.append(f1)    "
   ]
  },
  {
   "cell_type": "markdown",
   "metadata": {
    "id": "-1L8jIc5WkbW"
   },
   "source": [
    "# Deep learning model"
   ]
  },
  {
   "cell_type": "code",
   "execution_count": null,
   "metadata": {
    "colab": {
     "base_uri": "https://localhost:8080/"
    },
    "executionInfo": {
     "elapsed": 950,
     "status": "ok",
     "timestamp": 1655667634792,
     "user": {
      "displayName": "Ilia abolhasani",
      "userId": "05829853781998776186"
     },
     "user_tz": -270
    },
    "id": "PTWcv4craZYB",
    "outputId": "8dbffa2a-b740-44d7-f880-5e2f45900a84"
   },
   "outputs": [
    {
     "name": "stdout",
     "output_type": "stream",
     "text": [
      "326\n",
      "Model: \"sequential\"\n",
      "_________________________________________________________________\n",
      " Layer (type)                Output Shape              Param #   \n",
      "=================================================================\n",
      " dense (Dense)               (None, 256)               83712     \n",
      "                                                                 \n",
      " dropout (Dropout)           (None, 256)               0         \n",
      "                                                                 \n",
      " dense_1 (Dense)             (None, 128)               32896     \n",
      "                                                                 \n",
      " dropout_1 (Dropout)         (None, 128)               0         \n",
      "                                                                 \n",
      " dense_2 (Dense)             (None, 64)                8256      \n",
      "                                                                 \n",
      " dropout_2 (Dropout)         (None, 64)                0         \n",
      "                                                                 \n",
      " dense_3 (Dense)             (None, 4)                 260       \n",
      "                                                                 \n",
      " dense_4 (Dense)             (None, 2)                 10        \n",
      "                                                                 \n",
      "=================================================================\n",
      "Total params: 125,134\n",
      "Trainable params: 125,134\n",
      "Non-trainable params: 0\n",
      "_________________________________________________________________\n",
      "None\n"
     ]
    }
   ],
   "source": [
    "print(X_train.shape[1])\n",
    "model = Sequential()\n",
    "model.add(Input(shape=(X_train.shape[1],)))\n",
    "model.add(Dense(256, activation='relu'))\n",
    "model.add(Dropout(0.5))\n",
    "model.add(Dense(128, activation='relu'))\n",
    "model.add(Dropout(0.5))\n",
    "model.add(Dense(64, activation='relu'))\n",
    "model.add(Dropout(0.5))\n",
    "model.add(Dense(4, activation='relu'))\n",
    "model.add(Dense(2, activation='softmax'))\n",
    "print(model.summary())"
   ]
  },
  {
   "cell_type": "code",
   "execution_count": null,
   "metadata": {
    "colab": {
     "base_uri": "https://localhost:8080/"
    },
    "executionInfo": {
     "elapsed": 447493,
     "status": "ok",
     "timestamp": 1655473082392,
     "user": {
      "displayName": "Ilia abolhasani",
      "userId": "05829853781998776186"
     },
     "user_tz": -270
    },
    "id": "CusrPoF6atqa",
    "outputId": "633aa430-f43e-4965-beb7-f5a6f74378ff"
   },
   "outputs": [
    {
     "name": "stdout",
     "output_type": "stream",
     "text": [
      "Epoch 1/100\n",
      "3351/3351 [==============================] - 14s 4ms/step - loss: 1.2125 - acc: 0.6513 - val_loss: 0.5746 - val_acc: 0.7351\n",
      "Epoch 2/100\n",
      "3351/3351 [==============================] - 13s 4ms/step - loss: 0.9153 - acc: 0.7759 - val_loss: 0.4803 - val_acc: 0.7973\n",
      "Epoch 3/100\n",
      "3351/3351 [==============================] - 13s 4ms/step - loss: 0.8108 - acc: 0.8164 - val_loss: 0.4135 - val_acc: 0.8319\n",
      "Epoch 4/100\n",
      "3351/3351 [==============================] - 12s 4ms/step - loss: 0.7507 - acc: 0.8220 - val_loss: 0.3280 - val_acc: 0.8594\n",
      "Epoch 5/100\n",
      "3351/3351 [==============================] - 12s 4ms/step - loss: 0.6623 - acc: 0.8430 - val_loss: 0.2859 - val_acc: 0.8468\n",
      "Epoch 6/100\n",
      "3351/3351 [==============================] - 13s 4ms/step - loss: 0.6372 - acc: 0.8408 - val_loss: 0.5059 - val_acc: 0.8253\n",
      "Epoch 7/100\n",
      "3351/3351 [==============================] - 13s 4ms/step - loss: 0.5909 - acc: 0.8654 - val_loss: 0.2332 - val_acc: 0.8975\n",
      "Epoch 8/100\n",
      "3351/3351 [==============================] - 13s 4ms/step - loss: 0.5750 - acc: 0.8726 - val_loss: 0.2316 - val_acc: 0.8987\n",
      "Epoch 9/100\n",
      "3351/3351 [==============================] - 13s 4ms/step - loss: 0.5117 - acc: 0.8863 - val_loss: 0.1663 - val_acc: 0.8902\n",
      "Epoch 10/100\n",
      "3351/3351 [==============================] - 12s 4ms/step - loss: 0.5025 - acc: 0.8893 - val_loss: 0.1734 - val_acc: 0.9234\n",
      "Epoch 11/100\n",
      "3351/3351 [==============================] - 13s 4ms/step - loss: 0.4834 - acc: 0.8975 - val_loss: 0.2402 - val_acc: 0.8865\n",
      "Epoch 12/100\n",
      "3351/3351 [==============================] - 14s 4ms/step - loss: 0.4690 - acc: 0.8955 - val_loss: 0.2592 - val_acc: 0.8928\n",
      "Epoch 13/100\n",
      "3351/3351 [==============================] - 13s 4ms/step - loss: 0.4337 - acc: 0.9072 - val_loss: 0.2044 - val_acc: 0.9184\n",
      "Epoch 14/100\n",
      "3351/3351 [==============================] - 12s 4ms/step - loss: 0.4442 - acc: 0.9152 - val_loss: 0.1407 - val_acc: 0.9431\n",
      "Epoch 15/100\n",
      "3351/3351 [==============================] - 12s 4ms/step - loss: 0.4290 - acc: 0.9149 - val_loss: 0.1597 - val_acc: 0.9320\n",
      "Epoch 16/100\n",
      "3351/3351 [==============================] - 13s 4ms/step - loss: 0.4023 - acc: 0.9201 - val_loss: 0.1609 - val_acc: 0.9486\n",
      "Epoch 17/100\n",
      "3351/3351 [==============================] - 13s 4ms/step - loss: 0.4069 - acc: 0.9230 - val_loss: 0.1545 - val_acc: 0.9305\n",
      "Epoch 18/100\n",
      "3351/3351 [==============================] - 12s 4ms/step - loss: 0.4193 - acc: 0.9305 - val_loss: 0.1597 - val_acc: 0.9438\n",
      "Epoch 19/100\n",
      "3351/3351 [==============================] - 13s 4ms/step - loss: 0.4244 - acc: 0.9375 - val_loss: 0.1396 - val_acc: 0.9391\n",
      "Epoch 20/100\n",
      "3351/3351 [==============================] - 12s 4ms/step - loss: 0.4187 - acc: 0.9354 - val_loss: 0.1502 - val_acc: 0.9439\n",
      "Epoch 21/100\n",
      "3351/3351 [==============================] - 12s 4ms/step - loss: 0.3936 - acc: 0.9393 - val_loss: 0.2627 - val_acc: 0.9426\n",
      "Epoch 22/100\n",
      "3351/3351 [==============================] - 12s 4ms/step - loss: 0.3931 - acc: 0.9409 - val_loss: 0.1380 - val_acc: 0.9451\n",
      "Epoch 23/100\n",
      "3351/3351 [==============================] - 12s 4ms/step - loss: 0.3974 - acc: 0.9452 - val_loss: 0.1397 - val_acc: 0.9530\n",
      "Epoch 24/100\n",
      "3351/3351 [==============================] - 12s 4ms/step - loss: 0.3605 - acc: 0.9473 - val_loss: 0.1723 - val_acc: 0.9513\n",
      "Epoch 25/100\n",
      "3351/3351 [==============================] - 12s 4ms/step - loss: 0.3453 - acc: 0.9488 - val_loss: 0.1659 - val_acc: 0.9437\n",
      "Epoch 26/100\n",
      "3351/3351 [==============================] - 13s 4ms/step - loss: 0.3992 - acc: 0.9443 - val_loss: 0.1184 - val_acc: 0.9607\n",
      "Epoch 27/100\n",
      "3351/3351 [==============================] - 13s 4ms/step - loss: 0.3559 - acc: 0.9508 - val_loss: 0.1206 - val_acc: 0.9604\n",
      "Epoch 28/100\n",
      "3351/3351 [==============================] - 13s 4ms/step - loss: 0.3571 - acc: 0.9526 - val_loss: 0.1358 - val_acc: 0.9586\n",
      "Epoch 29/100\n",
      "3351/3351 [==============================] - 12s 4ms/step - loss: 0.3442 - acc: 0.9519 - val_loss: 0.2128 - val_acc: 0.9461\n",
      "Epoch 30/100\n",
      "3351/3351 [==============================] - 13s 4ms/step - loss: 0.3718 - acc: 0.9499 - val_loss: 0.1179 - val_acc: 0.9650\n",
      "Epoch 31/100\n",
      "3351/3351 [==============================] - 13s 4ms/step - loss: 0.3400 - acc: 0.9532 - val_loss: 0.1274 - val_acc: 0.9606\n",
      "Epoch 32/100\n",
      "3351/3351 [==============================] - 13s 4ms/step - loss: 0.3641 - acc: 0.9483 - val_loss: 0.1526 - val_acc: 0.9566\n",
      "Epoch 33/100\n",
      "3351/3351 [==============================] - 13s 4ms/step - loss: 0.3395 - acc: 0.9529 - val_loss: 0.1420 - val_acc: 0.9613\n",
      "Epoch 34/100\n",
      "3351/3351 [==============================] - 14s 4ms/step - loss: 0.3743 - acc: 0.9470 - val_loss: 0.1371 - val_acc: 0.9585\n",
      "Epoch 35/100\n",
      "3351/3351 [==============================] - 13s 4ms/step - loss: 0.3107 - acc: 0.9445 - val_loss: 0.1283 - val_acc: 0.9576\n"
     ]
    }
   ],
   "source": [
    "callbacks_list = [\n",
    "                  tf.keras.callbacks.EarlyStopping( monitor=\"val_loss\", patience=5, restore_best_weights=True),\n",
    "                 ]\n",
    "learning_rate = 0.001\n",
    "optimizer = tf.keras.optimizers.Adam(learning_rate)\n",
    "#optimizer = tf.keras.optimizers.Adadelta(lr=1.0, rho=0.95, epsilon=1e-08, decay=0.0)\n",
    "\n",
    "\n",
    "model.compile(loss = \"categorical_crossentropy\",                \n",
    "                optimizer=optimizer,\n",
    "                metrics = [\"acc\"])                \n",
    "BATCH_SIZE = 32\n",
    "EPOCHS = 100\n",
    "history = model.fit(X_train,\n",
    "                    y_train,\n",
    "                    class_weight=class_weight,\n",
    "                    batch_size=BATCH_SIZE,\n",
    "                    validation_data=(X_val, y_val),\n",
    "                    epochs=EPOCHS,\n",
    "                    callbacks=callbacks_list,\n",
    "                    verbose=1) \n",
    "\n",
    "json.dump(str(history.history), open(f\"./history.pkl\", \"w\"))\n",
    "model.save(f'./Model.h5')"
   ]
  },
  {
   "cell_type": "markdown",
   "metadata": {
    "id": "3kmGEcGV9Ivg"
   },
   "source": [
    "# O.sativa"
   ]
  },
  {
   "cell_type": "code",
   "execution_count": null,
   "metadata": {
    "colab": {
     "background_save": true
    },
    "id": "me4nwgwQdK2g",
    "outputId": "295d8bb2-485a-4ab7-c8e1-b51b5484acc9"
   },
   "outputs": [
    {
     "data": {
      "image/png": "[encoded data removed]",
      "text/plain": [
       "<Figure size 432x288 with 2 Axes>"
      ]
     },
     "metadata": {},
     "output_type": "display_data"
    },
    {
     "name": "stdout",
     "output_type": "stream",
     "text": [
      "number of unique hit: 19793\n",
      "total mir: 361\n",
      "found mir : 258\n",
      "fount to all : 71.47%\n",
      "fp: 332\n",
      "              precision    recall  f1-score   support\n",
      "\n",
      "           0       0.99      1.00      1.00    156230\n",
      "           1       0.83      0.75      0.79      3816\n",
      "\n",
      "    accuracy                           0.99    160046\n",
      "   macro avg       0.91      0.87      0.89    160046\n",
      "weighted avg       0.99      0.99      0.99    160046\n",
      "\n"
     ]
    }
   ],
   "source": [
    "plant = 'O.sativa'\n",
    "y_true = np.argmax(data[plant]['target'], axis=1)\n",
    "#y_pred =  np.argmax(model.predict(data[plant]['feature']), axis=1)\n",
    "y_pred =  clf.predict(data[plant]['feature'])\n",
    "confusion_matrix(y_true,y_pred,[\"No\",\"YES\"])\n",
    "report(y_pred, data[plant]['df'], data[plant]['reference'])\n",
    "print(classification_report(y_true, y_pred))"
   ]
  },
  {
   "cell_type": "markdown",
   "metadata": {
    "id": "91OMgy_pThZz"
   },
   "source": [
    "# A.thaliana"
   ]
  },
  {
   "cell_type": "code",
   "execution_count": 33,
   "metadata": {
    "colab": {
     "base_uri": "https://localhost:8080/",
     "height": 538
    },
    "executionInfo": {
     "elapsed": 31527,
     "status": "ok",
     "timestamp": 1655673353129,
     "user": {
      "displayName": "Ilia abolhasani",
      "userId": "05829853781998776186"
     },
     "user_tz": -270
    },
    "id": "xNA4Gq-8U88p",
    "outputId": "584d531d-e536-45ea-bf61-67f1bae8c43f"
   },
   "outputs": [
    {
     "data": {
      "image/png": "[encoded data removed]",
      "text/plain": [
       "<Figure size 432x288 with 2 Axes>"
      ]
     },
     "metadata": {
      "needs_background": "light"
     },
     "output_type": "display_data"
    },
    {
     "name": "stdout",
     "output_type": "stream",
     "text": [
      "number of unique hit: 3349\n",
      "total mir: 90\n",
      "found mir : 50\n",
      "fount to all : 55.56%\n",
      "fp: 1231\n",
      "              precision    recall  f1-score   support\n",
      "\n",
      "           0       0.98      0.70      0.82     18693\n",
      "           1       0.03      0.42      0.06       491\n",
      "\n",
      "    accuracy                           0.69     19184\n",
      "   macro avg       0.51      0.56      0.44     19184\n",
      "weighted avg       0.95      0.69      0.80     19184\n",
      "\n"
     ]
    }
   ],
   "source": [
    "_X = pca.fit_transform(data[plant]['feature'])\n",
    "plant = 'A.thaliana'\n",
    "y_true = np.argmax(data[plant]['target'], axis=1)\n",
    "#y_pred =  np.argmax(model.predict(data[plant]['feature']), axis=1)\n",
    "y_pred = clf.predict(_X)\n",
    "confusion_matrix(y_true,y_pred,[\"No\",\"YES\"])\n",
    "report(y_pred, data[plant]['df'], data[plant]['reference'])\n",
    "print(classification_report(y_true, y_pred))"
   ]
  },
  {
   "cell_type": "markdown",
   "metadata": {
    "id": "jrOyXg2_qjPo"
   },
   "source": [
    "# C.Sinensis"
   ]
  },
  {
   "cell_type": "code",
   "execution_count": null,
   "metadata": {
    "colab": {
     "base_uri": "https://localhost:8080/",
     "height": 538
    },
    "executionInfo": {
     "elapsed": 2069,
     "status": "ok",
     "timestamp": 1655637593518,
     "user": {
      "displayName": "Ilia abolhasani",
      "userId": "05829853781998776186"
     },
     "user_tz": -270
    },
    "id": "QaKPNj6Kqk5P",
    "outputId": "7d09cc33-396e-4464-a5cd-72f34fedc74c"
   },
   "outputs": [
    {
     "data": {
      "image/png": "[encoded data removed]",
      "text/plain": [
       "<Figure size 432x288 with 2 Axes>"
      ]
     },
     "metadata": {},
     "output_type": "display_data"
    },
    {
     "name": "stdout",
     "output_type": "stream",
     "text": [
      "number of unique hit: 6419\n",
      "total mir: 86\n",
      "found mir : 0\n",
      "fount to all : 0.0%\n",
      "fp: 0\n",
      "              precision    recall  f1-score   support\n",
      "\n",
      "           0       0.99      1.00      1.00     86585\n",
      "           1       0.00      0.00      0.00       627\n",
      "\n",
      "    accuracy                           0.99     87212\n",
      "   macro avg       0.50      0.50      0.50     87212\n",
      "weighted avg       0.99      0.99      0.99     87212\n",
      "\n"
     ]
    }
   ],
   "source": [
    "plant = 'C.Sinensis'\n",
    "y_true = np.argmax(data[plant]['target'], axis=1)\n",
    "#y_pred =  np.argmax(model.predict(data[plant]['feature']), axis=1)\n",
    "y_pred = clf.predict(data[plant]['feature'])\n",
    "confusion_matrix(y_true,y_pred,[\"No\",\"YES\"])\n",
    "report(y_pred, data[plant]['df'], data[plant]['reference'])\n",
    "print(classification_report(y_true, y_pred))"
   ]
  },
  {
   "cell_type": "markdown",
   "metadata": {
    "id": "z7xpiDQCdqdH"
   },
   "source": [
    "# Z.mays"
   ]
  },
  {
   "cell_type": "code",
   "execution_count": null,
   "metadata": {
    "colab": {
     "base_uri": "https://localhost:8080/",
     "height": 538
    },
    "executionInfo": {
     "elapsed": 3017,
     "status": "ok",
     "timestamp": 1655637599771,
     "user": {
      "displayName": "Ilia abolhasani",
      "userId": "05829853781998776186"
     },
     "user_tz": -270
    },
    "id": "VqbZ9DJ1gLqc",
    "outputId": "1a559363-5e23-4e55-c238-35e96ec739b2"
   },
   "outputs": [
    {
     "data": {
      "image/png": "[encoded data removed]",
      "text/plain": [
       "<Figure size 432x288 with 2 Axes>"
      ]
     },
     "metadata": {},
     "output_type": "display_data"
    },
    {
     "name": "stdout",
     "output_type": "stream",
     "text": [
      "number of unique hit: 9849\n",
      "total mir: 84\n",
      "found mir : 10\n",
      "fount to all : 11.9%\n",
      "fp: 3\n",
      "              precision    recall  f1-score   support\n",
      "\n",
      "           0       1.00      1.00      1.00    122927\n",
      "           1       0.91      0.11      0.19       634\n",
      "\n",
      "    accuracy                           1.00    123561\n",
      "   macro avg       0.95      0.55      0.60    123561\n",
      "weighted avg       0.99      1.00      0.99    123561\n",
      "\n"
     ]
    }
   ],
   "source": [
    "plant = 'Z.mays'\n",
    "y_true = np.argmax(data[plant]['target'], axis=1)\n",
    "#y_pred =  np.argmax(model.predict(data[plant]['feature']), axis=1)\n",
    "y_pred = clf.predict(data[plant]['feature'])\n",
    "confusion_matrix(y_true,y_pred,[\"No\",\"YES\"])\n",
    "report(y_pred, data[plant]['df'], data[plant]['reference'])\n",
    "print(classification_report(y_true, y_pred))"
   ]
  },
  {
   "cell_type": "code",
   "execution_count": null,
   "metadata": {
    "id": "5pASyNqygete"
   },
   "outputs": [],
   "source": [
    ""
   ]
  }
 ],
 "metadata": {
  "colab": {
   "collapsed_sections": [
    "qyC8IFwrWkag",
    "bdbqIS-UWka4",
    "5Ueqwrjc5ewu",
    "Yqno44cv5iiY",
    "TlT1KSuI5mJX",
    "zKOjU6DD5oCk",
    "JNmcvnfJZhok",
    "-1L8jIc5WkbW"
   ],
   "name": "Classification.ipynb",
   "provenance": []
  },
  "kernelspec": {
   "display_name": "Python 3",
   "language": "python",
   "name": "python3"
  },
  "language_info": {
   "codemirror_mode": {
    "name": "ipython",
    "version": 3
   },
   "file_extension": ".py",
   "mimetype": "text/x-python",
   "name": "python",
   "nbconvert_exporter": "python",
   "pygments_lexer": "ipython3",
   "version": "3.8.10"
  }
 },
 "nbformat": 4,
 "nbformat_minor": 0
}
