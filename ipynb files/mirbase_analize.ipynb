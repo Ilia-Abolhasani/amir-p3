{
 "cells": [
  {
   "cell_type": "markdown",
   "metadata": {
    "heading_collapsed": true
   },
   "source": [
    "# Common"
   ]
  },
  {
   "cell_type": "code",
   "execution_count": 1,
   "metadata": {
    "ExecuteTime": {
     "end_time": "2022-06-04T15:28:19.882494Z",
     "start_time": "2022-06-04T15:28:18.843093Z"
    },
    "hidden": true
   },
   "outputs": [],
   "source": [
    "import json\n",
    "import time\n",
    "from subprocess import Popen, PIPE, STDOUT\n",
    "import math\n",
    "import numpy as np\n",
    "import pandas as pd\n",
    "import hashlib\n",
    "import requests\n",
    "import os, sys, subprocess\n",
    "from tqdm.contrib.concurrent import process_map\n",
    "from tqdm.notebook import tqdm\n",
    "tqdm.pandas()\n",
    "import multiprocessing as mp\n",
    "import shutil\n",
    "import urllib.parse\n",
    "import glob\n",
    "import os\n",
    "import sys\n",
    "import networkx\n",
    "from networkx.algorithms.clique import find_cliques as maximal_cliques\n",
    "from ast import literal_eval\n",
    "if sys.version_info[0] < 3: \n",
    "    from StringIO import StringIO\n",
    "else:\n",
    "    from io import StringIO\n",
    "sys.path.append(\"./src/\")\n",
    "from ct_analizer import get_row\n",
    "from filter1 import filter1_run\n",
    "from filter2 import filter2_run"
   ]
  },
  {
   "cell_type": "code",
   "execution_count": 2,
   "metadata": {
    "ExecuteTime": {
     "end_time": "2022-06-04T15:28:19.904365Z",
     "start_time": "2022-06-04T15:28:19.897316Z"
    },
    "hidden": true
   },
   "outputs": [],
   "source": [
    "def fasta_to_df(path):\n",
    "    with open(path, 'r') as file:\n",
    "        text = file.read()\n",
    "    lines = [line for line in text.split('\\n') if len(line) > 0]\n",
    "    s = ''\n",
    "    tags = []\n",
    "    data = []\n",
    "    for l in lines:\n",
    "        if(l[0]=='>'):\n",
    "            tags.append(l)        \n",
    "            data.append(s)\n",
    "            s = ''\n",
    "        else:\n",
    "            s += l    \n",
    "    data.append(s)\n",
    "    df = pd.DataFrame(\n",
    "            {\n",
    "                'tag': tags,\n",
    "                'data': data[1:]\n",
    "            })\n",
    "    df['tag'] = df['tag'].apply(lambda x: x[1:])    \n",
    "    return df"
   ]
  },
  {
   "cell_type": "code",
   "execution_count": 3,
   "metadata": {
    "ExecuteTime": {
     "end_time": "2022-06-04T15:28:20.055707Z",
     "start_time": "2022-06-04T15:28:20.050963Z"
    },
    "hidden": true
   },
   "outputs": [],
   "source": [
    "def df_to_fasta(df, path):\n",
    "    lines = []\n",
    "    df.apply(lambda row: lines.append(f\">{row['tag']}\\n{row['data']}\\n\"),axis=1)\n",
    "    with open(path,'w') as file:\n",
    "        file.write(''.join(lines))"
   ]
  },
  {
   "cell_type": "markdown",
   "metadata": {},
   "source": [
    "# Download data from Mirbase"
   ]
  },
  {
   "cell_type": "code",
   "execution_count": 33,
   "metadata": {
    "ExecuteTime": {
     "end_time": "2022-06-04T15:33:11.052420Z",
     "start_time": "2022-06-04T15:33:11.048604Z"
    }
   },
   "outputs": [],
   "source": [
    "directory = \"./miRBase_driven_data\"\n",
    "base = \"https://www.mirbase.org/ftp/CURRENT\""
   ]
  },
  {
   "cell_type": "code",
   "execution_count": 34,
   "metadata": {
    "ExecuteTime": {
     "end_time": "2022-06-04T15:33:11.755156Z",
     "start_time": "2022-06-04T15:33:11.615372Z"
    }
   },
   "outputs": [],
   "source": [
    "mature = fasta_to_df(f'{directory}/mature.fa')\n",
    "mature_high_conf = fasta_to_df(f'{directory}/mature_high_conf.fa')\n",
    "mature['trim tag'] = mature['tag'].apply(lambda line: ' '.join(line.split(' ')[:2]))\n",
    "mature['confidence'] = mature['trim tag'].isin(mature_high_conf['tag'])"
   ]
  },
  {
   "cell_type": "code",
   "execution_count": 35,
   "metadata": {
    "ExecuteTime": {
     "end_time": "2022-06-04T15:33:12.396294Z",
     "start_time": "2022-06-04T15:33:12.359277Z"
    }
   },
   "outputs": [
    {
     "name": "stdout",
     "output_type": "stream",
     "text": [
      "(48885, 5)\n"
     ]
    },
    {
     "data": {
      "text/html": [
       "<div>\n",
       "<style scoped>\n",
       "    .dataframe tbody tr th:only-of-type {\n",
       "        vertical-align: middle;\n",
       "    }\n",
       "\n",
       "    .dataframe tbody tr th {\n",
       "        vertical-align: top;\n",
       "    }\n",
       "\n",
       "    .dataframe thead th {\n",
       "        text-align: right;\n",
       "    }\n",
       "</style>\n",
       "<table border=\"1\" class=\"dataframe\">\n",
       "  <thead>\n",
       "    <tr style=\"text-align: right;\">\n",
       "      <th></th>\n",
       "      <th>tag</th>\n",
       "      <th>data</th>\n",
       "      <th>trim tag</th>\n",
       "      <th>confidence</th>\n",
       "      <th>organism</th>\n",
       "    </tr>\n",
       "  </thead>\n",
       "  <tbody>\n",
       "    <tr>\n",
       "      <th>0</th>\n",
       "      <td>cel-let-7-5p MIMAT0000001 Caenorhabditis elega...</td>\n",
       "      <td>UGAGGUAGUAGGUUGUAUAGUU</td>\n",
       "      <td>cel-let-7-5p MIMAT0000001</td>\n",
       "      <td>True</td>\n",
       "      <td>cel</td>\n",
       "    </tr>\n",
       "    <tr>\n",
       "      <th>1</th>\n",
       "      <td>cel-let-7-3p MIMAT0015091 Caenorhabditis elega...</td>\n",
       "      <td>CUAUGCAAUUUUCUACCUUACC</td>\n",
       "      <td>cel-let-7-3p MIMAT0015091</td>\n",
       "      <td>True</td>\n",
       "      <td>cel</td>\n",
       "    </tr>\n",
       "  </tbody>\n",
       "</table>\n",
       "</div>"
      ],
      "text/plain": [
       "                                                 tag                    data  \\\n",
       "0  cel-let-7-5p MIMAT0000001 Caenorhabditis elega...  UGAGGUAGUAGGUUGUAUAGUU   \n",
       "1  cel-let-7-3p MIMAT0015091 Caenorhabditis elega...  CUAUGCAAUUUUCUACCUUACC   \n",
       "\n",
       "                    trim tag  confidence organism  \n",
       "0  cel-let-7-5p MIMAT0000001        True      cel  \n",
       "1  cel-let-7-3p MIMAT0015091        True      cel  "
      ]
     },
     "execution_count": 35,
     "metadata": {},
     "output_type": "execute_result"
    }
   ],
   "source": [
    "mature['organism'] = mature['tag'].apply(lambda x: x[:3])\n",
    "print(mature.shape)\n",
    "mature.head(2)"
   ]
  },
  {
   "cell_type": "code",
   "execution_count": 36,
   "metadata": {
    "ExecuteTime": {
     "end_time": "2022-06-04T15:33:13.139257Z",
     "start_time": "2022-06-04T15:33:13.119073Z"
    }
   },
   "outputs": [
    {
     "name": "stdout",
     "output_type": "stream",
     "text": [
      "(285, 5)\n"
     ]
    },
    {
     "data": {
      "text/html": [
       "<div>\n",
       "<style scoped>\n",
       "    .dataframe tbody tr th:only-of-type {\n",
       "        vertical-align: middle;\n",
       "    }\n",
       "\n",
       "    .dataframe tbody tr th {\n",
       "        vertical-align: top;\n",
       "    }\n",
       "\n",
       "    .dataframe thead th {\n",
       "        text-align: right;\n",
       "    }\n",
       "</style>\n",
       "<table border=\"1\" class=\"dataframe\">\n",
       "  <thead>\n",
       "    <tr style=\"text-align: right;\">\n",
       "      <th></th>\n",
       "      <th>organism</th>\n",
       "      <th>division</th>\n",
       "      <th>name</th>\n",
       "      <th>tree</th>\n",
       "      <th>NCBI-taxid</th>\n",
       "    </tr>\n",
       "  </thead>\n",
       "  <tbody>\n",
       "    <tr>\n",
       "      <th>0</th>\n",
       "      <td>aqu</td>\n",
       "      <td>AQU</td>\n",
       "      <td>Amphimedon queenslandica</td>\n",
       "      <td>Metazoa;Porifera;</td>\n",
       "      <td>400682</td>\n",
       "    </tr>\n",
       "    <tr>\n",
       "      <th>1</th>\n",
       "      <td>nve</td>\n",
       "      <td>NVE</td>\n",
       "      <td>Nematostella vectensis</td>\n",
       "      <td>Metazoa;Cnidaria;</td>\n",
       "      <td>45351</td>\n",
       "    </tr>\n",
       "  </tbody>\n",
       "</table>\n",
       "</div>"
      ],
      "text/plain": [
       "  organism division                      name               tree  NCBI-taxid\n",
       "0      aqu      AQU  Amphimedon queenslandica  Metazoa;Porifera;      400682\n",
       "1      nve      NVE    Nematostella vectensis  Metazoa;Cnidaria;       45351"
      ]
     },
     "execution_count": 36,
     "metadata": {},
     "output_type": "execute_result"
    }
   ],
   "source": [
    "organism = pd.read_csv(f'./{directory}/organisms.txt',sep='\\t')\n",
    "organism.columns = [c.replace('#','') for c in organism.columns] # remove sharp from columns\n",
    "print(organism.shape)\n",
    "organism.head(2)"
   ]
  },
  {
   "cell_type": "code",
   "execution_count": 39,
   "metadata": {
    "ExecuteTime": {
     "end_time": "2022-06-04T15:33:34.335912Z",
     "start_time": "2022-06-04T15:33:34.326919Z"
    },
    "scrolled": true
   },
   "outputs": [
    {
     "data": {
      "text/plain": [
       "['Viruses;',\n",
       " 'Mycetozoa;',\n",
       " 'Alveolata;',\n",
       " 'Metazoa;Porifera;',\n",
       " 'Metazoa;Cnidaria;',\n",
       " 'Viridiplantae;Chlorophyta;',\n",
       " 'Viridiplantae;Embryophyta;',\n",
       " 'Viridiplantae;Coniferophyta;',\n",
       " 'Viridiplantae;Magnoliophyta;',\n",
       " 'Metazoa;Bilateria;Deuterostoma;',\n",
       " 'Chromalveolata;Heterokontophyta;',\n",
       " 'Metazoa;Bilateria;Ecdysozoa;Nematoda;',\n",
       " 'Metazoa;Bilateria;Lophotrochozoa;Annelida;',\n",
       " 'Metazoa;Bilateria;Lophotrochozoa;Nemertea;',\n",
       " 'Metazoa;Bilateria;Lophotrochozoa;Mollusca;',\n",
       " 'Viridiplantae;Magnoliophyta;monocotyledons;',\n",
       " 'Metazoa;Bilateria;Deuterostoma;Hemichordata;',\n",
       " 'Metazoa;Bilateria;Deuterostoma;Echinodermata;',\n",
       " 'Metazoa;Bilateria;Lophotrochozoa;Brachiopoda;',\n",
       " 'Metazoa;Bilateria;Ecdysozoa;Arthropoda;Hexapoda;',\n",
       " 'Metazoa;Bilateria;Ecdysozoa;Arthropoda;Crustacea;',\n",
       " 'Metazoa;Bilateria;Lophotrochozoa;Platyhelminthes;',\n",
       " 'Metazoa;Bilateria;Ecdysozoa;Arthropoda;Chelicerata;',\n",
       " 'Metazoa;Bilateria;Ecdysozoa;Arthropoda;Mandibulata;',\n",
       " 'Viridiplantae;Magnoliophyta;eudicotyledons;Poaceae;',\n",
       " 'Metazoa;Bilateria;Deuterostoma;Chordata;Urochordata;',\n",
       " 'Viridiplantae;Magnoliophyta;eudicotyledons;Fabaceae;',\n",
       " 'Viridiplantae;Magnoliophyta;eudicotyledons;Vitaceae;',\n",
       " 'Viridiplantae;Magnoliophyta;eudicotyledons;Rosaceae;',\n",
       " 'Viridiplantae;Magnoliophyta;eudicotyledons;Rutaceae;',\n",
       " 'Viridiplantae;Magnoliophyta;eudicotyledons;Lamiales;',\n",
       " 'Viridiplantae;Magnoliophyta;eudicotyledons;Linaceae;',\n",
       " 'Viridiplantae;Magnoliophyta;eudicotyledons;Malvaceae;',\n",
       " 'Viridiplantae;Magnoliophyta;eudicotyledons;Myrtaceae;',\n",
       " 'Viridiplantae;Magnoliophyta;eudicotyledons;Caricaceae;',\n",
       " 'Viridiplantae;Magnoliophyta;eudicotyledons;Salicaceae;',\n",
       " 'Viridiplantae;Magnoliophyta;eudicotyledons;Solanaceae;',\n",
       " 'Viridiplantae;Magnoliophyta;eudicotyledons;Asteraceae;',\n",
       " 'Viridiplantae;Magnoliophyta;eudicotyledons;Araliaceae;',\n",
       " 'Viridiplantae;Magnoliophyta;eudicotyledons;Paeoniaceae;',\n",
       " 'Metazoa;Bilateria;Deuterostoma;Chordata;Cephalochordata;',\n",
       " 'Metazoa;Bilateria;Deuterostoma;Chordata;Vertebrata;Aves;',\n",
       " 'Viridiplantae;Magnoliophyta;eudicotyledons;Brassicaceae;',\n",
       " 'Viridiplantae;Magnoliophyta;eudicotyledons;Papaveraceae;',\n",
       " 'Viridiplantae;Magnoliophyta;eudicotyledons;Ranunculaceae;',\n",
       " 'Viridiplantae;Magnoliophyta;eudicotyledons;Euphorbiaceae;',\n",
       " 'Viridiplantae;Magnoliophyta;eudicotyledons;Cucurbitaceae;',\n",
       " 'Viridiplantae;Magnoliophyta;eudicotyledons;Amaranthaceae;',\n",
       " 'Viridiplantae;Magnoliophyta;eudicotyledons;Rhizophoraceae;',\n",
       " 'Metazoa;Bilateria;Deuterostoma;Chordata;Vertebrata;Sauria;',\n",
       " 'Metazoa;Bilateria;Deuterostoma;Chordata;Vertebrata;Amphibia;',\n",
       " 'Metazoa;Bilateria;Deuterostoma;Chordata;Vertebrata;Teleostei;',\n",
       " 'Metazoa;Bilateria;Deuterostoma;Chordata;Vertebrata;Gnathostomata;',\n",
       " 'Metazoa;Bilateria;Deuterostoma;Chordata;Vertebrata;Mammalia;Suina;',\n",
       " 'Metazoa;Bilateria;Deuterostoma;Chordata;Vertebrata;Agnathostomata;',\n",
       " 'Metazoa;Bilateria;Deuterostoma;Chordata;Vertebrata;Mammalia;Rodentia;',\n",
       " 'Metazoa;Bilateria;Deuterostoma;Chordata;Vertebrata;Mammalia;Carnivora;',\n",
       " 'Metazoa;Bilateria;Deuterostoma;Chordata;Vertebrata;Mammalia;Cingulata;',\n",
       " 'Metazoa;Bilateria;Deuterostoma;Chordata;Vertebrata;Mammalia;Metatheria;',\n",
       " 'Metazoa;Bilateria;Deuterostoma;Chordata;Vertebrata;Mammalia;Ruminantia;',\n",
       " 'Metazoa;Bilateria;Deuterostoma;Chordata;Vertebrata;Mammalia;Lagomorpha;',\n",
       " 'Metazoa;Bilateria;Deuterostoma;Chordata;Vertebrata;Mammalia;Scandentia;',\n",
       " 'Metazoa;Bilateria;Deuterostoma;Chordata;Vertebrata;Mammalia;Afrotheria;',\n",
       " 'Metazoa;Bilateria;Deuterostoma;Chordata;Vertebrata;Mammalia;Prototheria;',\n",
       " 'Metazoa;Bilateria;Deuterostoma;Chordata;Vertebrata;Mammalia;Laurasiatheria;',\n",
       " 'Metazoa;Bilateria;Deuterostoma;Chordata;Vertebrata;Mammalia;Primates;Cebidae;',\n",
       " 'Metazoa;Bilateria;Deuterostoma;Chordata;Vertebrata;Mammalia;Primates;Atelidae;',\n",
       " 'Metazoa;Bilateria;Deuterostoma;Chordata;Vertebrata;Mammalia;Primates;Hominidae;',\n",
       " 'Metazoa;Bilateria;Deuterostoma;Chordata;Vertebrata;Mammalia;Primates;Lemuridae;',\n",
       " 'Metazoa;Bilateria;Deuterostoma;Chordata;Vertebrata;Mammalia;Primates;Galagidae;',\n",
       " 'Metazoa;Bilateria;Deuterostoma;Chordata;Vertebrata;Mammalia;Primates;Hylobatidae;',\n",
       " 'Metazoa;Bilateria;Deuterostoma;Chordata;Vertebrata;Mammalia;Primates;Cheirogaleidae;',\n",
       " 'Metazoa;Bilateria;Deuterostoma;Chordata;Vertebrata;Mammalia;Primates;Daubentoniidae;',\n",
       " 'Metazoa;Bilateria;Deuterostoma;Chordata;Vertebrata;Mammalia;Primates;Cercopithecidae;']"
      ]
     },
     "execution_count": 39,
     "metadata": {},
     "output_type": "execute_result"
    }
   ],
   "source": [
    "items = list(organism['tree'].unique())\n",
    "items.sort(key=len)\n",
    "items"
   ]
  },
  {
   "cell_type": "code",
   "execution_count": 48,
   "metadata": {
    "ExecuteTime": {
     "end_time": "2022-06-04T15:36:20.005918Z",
     "start_time": "2022-06-04T15:36:19.989122Z"
    },
    "scrolled": false
   },
   "outputs": [
    {
     "name": "stdout",
     "output_type": "stream",
     "text": [
      "(78, 5)\n"
     ]
    },
    {
     "data": {
      "text/html": [
       "<div>\n",
       "<style scoped>\n",
       "    .dataframe tbody tr th:only-of-type {\n",
       "        vertical-align: middle;\n",
       "    }\n",
       "\n",
       "    .dataframe tbody tr th {\n",
       "        vertical-align: top;\n",
       "    }\n",
       "\n",
       "    .dataframe thead th {\n",
       "        text-align: right;\n",
       "    }\n",
       "</style>\n",
       "<table border=\"1\" class=\"dataframe\">\n",
       "  <thead>\n",
       "    <tr style=\"text-align: right;\">\n",
       "      <th></th>\n",
       "      <th>organism</th>\n",
       "      <th>division</th>\n",
       "      <th>name</th>\n",
       "      <th>tree</th>\n",
       "      <th>NCBI-taxid</th>\n",
       "    </tr>\n",
       "  </thead>\n",
       "  <tbody>\n",
       "    <tr>\n",
       "      <th>70</th>\n",
       "      <td>ath</td>\n",
       "      <td>ATH</td>\n",
       "      <td>Arabidopsis thaliana</td>\n",
       "      <td>Viridiplantae;Magnoliophyta;eudicotyledons;Bra...</td>\n",
       "      <td>3702</td>\n",
       "    </tr>\n",
       "    <tr>\n",
       "      <th>71</th>\n",
       "      <td>bna</td>\n",
       "      <td>BNA</td>\n",
       "      <td>Brassica napus</td>\n",
       "      <td>Viridiplantae;Magnoliophyta;eudicotyledons;Bra...</td>\n",
       "      <td>3708</td>\n",
       "    </tr>\n",
       "    <tr>\n",
       "      <th>72</th>\n",
       "      <td>bol</td>\n",
       "      <td>BOL</td>\n",
       "      <td>Brassica oleracea</td>\n",
       "      <td>Viridiplantae;Magnoliophyta;eudicotyledons;Bra...</td>\n",
       "      <td>3712</td>\n",
       "    </tr>\n",
       "    <tr>\n",
       "      <th>73</th>\n",
       "      <td>bra</td>\n",
       "      <td>BRA</td>\n",
       "      <td>Brassica rapa</td>\n",
       "      <td>Viridiplantae;Magnoliophyta;eudicotyledons;Bra...</td>\n",
       "      <td>3711</td>\n",
       "    </tr>\n",
       "    <tr>\n",
       "      <th>74</th>\n",
       "      <td>cpa</td>\n",
       "      <td>CPA</td>\n",
       "      <td>Carica papaya</td>\n",
       "      <td>Viridiplantae;Magnoliophyta;eudicotyledons;Car...</td>\n",
       "      <td>3649</td>\n",
       "    </tr>\n",
       "  </tbody>\n",
       "</table>\n",
       "</div>"
      ],
      "text/plain": [
       "   organism division                  name  \\\n",
       "70      ath      ATH  Arabidopsis thaliana   \n",
       "71      bna      BNA        Brassica napus   \n",
       "72      bol      BOL     Brassica oleracea   \n",
       "73      bra      BRA         Brassica rapa   \n",
       "74      cpa      CPA         Carica papaya   \n",
       "\n",
       "                                                 tree  NCBI-taxid  \n",
       "70  Viridiplantae;Magnoliophyta;eudicotyledons;Bra...        3702  \n",
       "71  Viridiplantae;Magnoliophyta;eudicotyledons;Bra...        3708  \n",
       "72  Viridiplantae;Magnoliophyta;eudicotyledons;Bra...        3712  \n",
       "73  Viridiplantae;Magnoliophyta;eudicotyledons;Bra...        3711  \n",
       "74  Viridiplantae;Magnoliophyta;eudicotyledons;Car...        3649  "
      ]
     },
     "execution_count": 48,
     "metadata": {},
     "output_type": "execute_result"
    }
   ],
   "source": [
    "selectedTree = organism[organism['tree'].apply(lambda x: \"Viridiplantae;Magnoliophyta;monocotyledons;\" in x)]\n",
    "print(selectedTree.shape)\n",
    "selectedTree.head(5)"
   ]
  },
  {
   "cell_type": "code",
   "execution_count": 49,
   "metadata": {
    "ExecuteTime": {
     "end_time": "2022-06-04T15:36:20.444444Z",
     "start_time": "2022-06-04T15:36:20.425507Z"
    }
   },
   "outputs": [
    {
     "data": {
      "text/html": [
       "<div>\n",
       "<style scoped>\n",
       "    .dataframe tbody tr th:only-of-type {\n",
       "        vertical-align: middle;\n",
       "    }\n",
       "\n",
       "    .dataframe tbody tr th {\n",
       "        vertical-align: top;\n",
       "    }\n",
       "\n",
       "    .dataframe thead th {\n",
       "        text-align: right;\n",
       "    }\n",
       "</style>\n",
       "<table border=\"1\" class=\"dataframe\">\n",
       "  <thead>\n",
       "    <tr style=\"text-align: right;\">\n",
       "      <th></th>\n",
       "      <th>organism</th>\n",
       "      <th>division</th>\n",
       "      <th>name</th>\n",
       "      <th>tree</th>\n",
       "      <th>NCBI-taxid</th>\n",
       "    </tr>\n",
       "  </thead>\n",
       "  <tbody>\n",
       "    <tr>\n",
       "      <th>70</th>\n",
       "      <td>ath</td>\n",
       "      <td>ATH</td>\n",
       "      <td>Arabidopsis thaliana</td>\n",
       "      <td>Viridiplantae;Magnoliophyta;eudicotyledons;Bra...</td>\n",
       "      <td>3702</td>\n",
       "    </tr>\n",
       "    <tr>\n",
       "      <th>71</th>\n",
       "      <td>bna</td>\n",
       "      <td>BNA</td>\n",
       "      <td>Brassica napus</td>\n",
       "      <td>Viridiplantae;Magnoliophyta;eudicotyledons;Bra...</td>\n",
       "      <td>3708</td>\n",
       "    </tr>\n",
       "    <tr>\n",
       "      <th>72</th>\n",
       "      <td>bol</td>\n",
       "      <td>BOL</td>\n",
       "      <td>Brassica oleracea</td>\n",
       "      <td>Viridiplantae;Magnoliophyta;eudicotyledons;Bra...</td>\n",
       "      <td>3712</td>\n",
       "    </tr>\n",
       "    <tr>\n",
       "      <th>73</th>\n",
       "      <td>bra</td>\n",
       "      <td>BRA</td>\n",
       "      <td>Brassica rapa</td>\n",
       "      <td>Viridiplantae;Magnoliophyta;eudicotyledons;Bra...</td>\n",
       "      <td>3711</td>\n",
       "    </tr>\n",
       "    <tr>\n",
       "      <th>74</th>\n",
       "      <td>cpa</td>\n",
       "      <td>CPA</td>\n",
       "      <td>Carica papaya</td>\n",
       "      <td>Viridiplantae;Magnoliophyta;eudicotyledons;Car...</td>\n",
       "      <td>3649</td>\n",
       "    </tr>\n",
       "    <tr>\n",
       "      <th>...</th>\n",
       "      <td>...</td>\n",
       "      <td>...</td>\n",
       "      <td>...</td>\n",
       "      <td>...</td>\n",
       "      <td>...</td>\n",
       "    </tr>\n",
       "    <tr>\n",
       "      <th>258</th>\n",
       "      <td>cst</td>\n",
       "      <td>CST</td>\n",
       "      <td>Cucumis sativus</td>\n",
       "      <td>Viridiplantae;Magnoliophyta;eudicotyledons;Cuc...</td>\n",
       "      <td>3659</td>\n",
       "    </tr>\n",
       "    <tr>\n",
       "      <th>262</th>\n",
       "      <td>cas</td>\n",
       "      <td>CAS</td>\n",
       "      <td>Camelina sativa</td>\n",
       "      <td>Viridiplantae;Magnoliophyta;eudicotyledons;Bra...</td>\n",
       "      <td>90675</td>\n",
       "    </tr>\n",
       "    <tr>\n",
       "      <th>264</th>\n",
       "      <td>pla</td>\n",
       "      <td>PLA</td>\n",
       "      <td>Paeonia lactiflora</td>\n",
       "      <td>Viridiplantae;Magnoliophyta;eudicotyledons;Pae...</td>\n",
       "      <td>35924</td>\n",
       "    </tr>\n",
       "    <tr>\n",
       "      <th>274</th>\n",
       "      <td>smi</td>\n",
       "      <td>SMI</td>\n",
       "      <td>Salvia miltiorrhiza</td>\n",
       "      <td>Viridiplantae;Magnoliophyta;eudicotyledons;Lam...</td>\n",
       "      <td>226208</td>\n",
       "    </tr>\n",
       "    <tr>\n",
       "      <th>282</th>\n",
       "      <td>aof</td>\n",
       "      <td>AOF</td>\n",
       "      <td>Asparagus officinalis</td>\n",
       "      <td>Viridiplantae;Magnoliophyta;monocotyledons;</td>\n",
       "      <td>4686</td>\n",
       "    </tr>\n",
       "  </tbody>\n",
       "</table>\n",
       "<p>77 rows × 5 columns</p>\n",
       "</div>"
      ],
      "text/plain": [
       "    organism division                   name  \\\n",
       "70       ath      ATH   Arabidopsis thaliana   \n",
       "71       bna      BNA         Brassica napus   \n",
       "72       bol      BOL      Brassica oleracea   \n",
       "73       bra      BRA          Brassica rapa   \n",
       "74       cpa      CPA          Carica papaya   \n",
       "..       ...      ...                    ...   \n",
       "258      cst      CST        Cucumis sativus   \n",
       "262      cas      CAS        Camelina sativa   \n",
       "264      pla      PLA     Paeonia lactiflora   \n",
       "274      smi      SMI    Salvia miltiorrhiza   \n",
       "282      aof      AOF  Asparagus officinalis   \n",
       "\n",
       "                                                  tree  NCBI-taxid  \n",
       "70   Viridiplantae;Magnoliophyta;eudicotyledons;Bra...        3702  \n",
       "71   Viridiplantae;Magnoliophyta;eudicotyledons;Bra...        3708  \n",
       "72   Viridiplantae;Magnoliophyta;eudicotyledons;Bra...        3712  \n",
       "73   Viridiplantae;Magnoliophyta;eudicotyledons;Bra...        3711  \n",
       "74   Viridiplantae;Magnoliophyta;eudicotyledons;Car...        3649  \n",
       "..                                                 ...         ...  \n",
       "258  Viridiplantae;Magnoliophyta;eudicotyledons;Cuc...        3659  \n",
       "262  Viridiplantae;Magnoliophyta;eudicotyledons;Bra...       90675  \n",
       "264  Viridiplantae;Magnoliophyta;eudicotyledons;Pae...       35924  \n",
       "274  Viridiplantae;Magnoliophyta;eudicotyledons;Lam...      226208  \n",
       "282        Viridiplantae;Magnoliophyta;monocotyledons;        4686  \n",
       "\n",
       "[77 rows x 5 columns]"
      ]
     },
     "execution_count": 49,
     "metadata": {},
     "output_type": "execute_result"
    }
   ],
   "source": [
    "selectedTree = selectedTree[selectedTree['name'] != \"Oryza sativa\"]\n",
    "selectedTree"
   ]
  },
  {
   "cell_type": "code",
   "execution_count": 50,
   "metadata": {
    "ExecuteTime": {
     "end_time": "2022-06-04T15:36:20.959328Z",
     "start_time": "2022-06-04T15:36:20.938456Z"
    },
    "scrolled": false
   },
   "outputs": [
    {
     "name": "stdout",
     "output_type": "stream",
     "text": [
      "(8559, 5)\n"
     ]
    },
    {
     "data": {
      "text/html": [
       "<div>\n",
       "<style scoped>\n",
       "    .dataframe tbody tr th:only-of-type {\n",
       "        vertical-align: middle;\n",
       "    }\n",
       "\n",
       "    .dataframe tbody tr th {\n",
       "        vertical-align: top;\n",
       "    }\n",
       "\n",
       "    .dataframe thead th {\n",
       "        text-align: right;\n",
       "    }\n",
       "</style>\n",
       "<table border=\"1\" class=\"dataframe\">\n",
       "  <thead>\n",
       "    <tr style=\"text-align: right;\">\n",
       "      <th></th>\n",
       "      <th>tag</th>\n",
       "      <th>data</th>\n",
       "      <th>trim tag</th>\n",
       "      <th>confidence</th>\n",
       "      <th>organism</th>\n",
       "    </tr>\n",
       "  </thead>\n",
       "  <tbody>\n",
       "    <tr>\n",
       "      <th>316</th>\n",
       "      <td>ath-miR156a-5p MIMAT0000166 Arabidopsis thalia...</td>\n",
       "      <td>UGACAGAAGAGAGUGAGCAC</td>\n",
       "      <td>ath-miR156a-5p MIMAT0000166</td>\n",
       "      <td>False</td>\n",
       "      <td>ath</td>\n",
       "    </tr>\n",
       "  </tbody>\n",
       "</table>\n",
       "</div>"
      ],
      "text/plain": [
       "                                                   tag                  data  \\\n",
       "316  ath-miR156a-5p MIMAT0000166 Arabidopsis thalia...  UGACAGAAGAGAGUGAGCAC   \n",
       "\n",
       "                        trim tag  confidence organism  \n",
       "316  ath-miR156a-5p MIMAT0000166       False      ath  "
      ]
     },
     "execution_count": 50,
     "metadata": {},
     "output_type": "execute_result"
    }
   ],
   "source": [
    "selected = mature[mature['organism'].isin(selectedTree['organism'])]\n",
    "print(selected.shape)\n",
    "selected.head(1)"
   ]
  },
  {
   "cell_type": "code",
   "execution_count": 51,
   "metadata": {
    "ExecuteTime": {
     "end_time": "2022-06-04T15:36:21.838633Z",
     "start_time": "2022-06-04T15:36:21.831366Z"
    }
   },
   "outputs": [
    {
     "data": {
      "text/plain": [
       "4780"
      ]
     },
     "execution_count": 51,
     "metadata": {},
     "output_type": "execute_result"
    }
   ],
   "source": [
    "len(selected['data'].unique())"
   ]
  },
  {
   "cell_type": "code",
   "execution_count": null,
   "metadata": {},
   "outputs": [],
   "source": []
  },
  {
   "cell_type": "code",
   "execution_count": 22,
   "metadata": {
    "ExecuteTime": {
     "end_time": "2022-06-04T15:29:48.995365Z",
     "start_time": "2022-06-04T15:29:48.981201Z"
    },
    "scrolled": false
   },
   "outputs": [
    {
     "data": {
      "text/plain": [
       "(738, 9)"
      ]
     },
     "execution_count": 22,
     "metadata": {},
     "output_type": "execute_result"
    }
   ],
   "source": [
    "selected = pd.merge(selected, selectedTree, how=\"inner\", left_on=\"organism\", right_on=\"organism\")\n",
    "selected.shape"
   ]
  },
  {
   "cell_type": "code",
   "execution_count": 38,
   "metadata": {
    "ExecuteTime": {
     "end_time": "2022-06-04T15:21:11.468812Z",
     "start_time": "2022-06-04T15:21:10.654863Z"
    },
    "code_folding": []
   },
   "outputs": [
    {
     "name": "stdout",
     "output_type": "stream",
     "text": [
      "Chlamydomonas reinhardtii       mir not confidence: 85   mir conf: 0\n",
      "Pinus taeda                     mir not confidence: 32   mir conf: 0\n",
      "Physcomitrella patens           mir not confidence: 215  mir conf: 0\n",
      "Selaginella moellendorffii      mir not confidence: 60   mir conf: 0\n",
      "Arabidopsis thaliana            mir not confidence: 350  mir conf: 0\n",
      "Brassica napus                  mir not confidence: 53   mir conf: 0\n",
      "Brassica oleracea               mir not confidence: 10   mir conf: 0\n",
      "Brassica rapa                   mir not confidence: 127  mir conf: 0\n",
      "Carica papaya                   mir not confidence: 52   mir conf: 0\n",
      "Glycine max                     mir not confidence: 569  mir conf: 0\n",
      "Lotus japonicus                 mir not confidence: 291  mir conf: 0\n",
      "Medicago truncatula             mir not confidence: 426  mir conf: 0\n",
      "Vigna unguiculata               mir not confidence: 17   mir conf: 0\n",
      "Gossypium herbaceum             mir not confidence: 1    mir conf: 0\n",
      "Gossypium hirsutum              mir not confidence: 63   mir conf: 0\n",
      "Gossypium raimondii             mir not confidence: 246  mir conf: 0\n",
      "Populus trichocarpa             mir not confidence: 253  mir conf: 0\n",
      "Solanum lycopersicum            mir not confidence: 137  mir conf: 0\n",
      "Vitis vinifera                  mir not confidence: 102  mir conf: 18\n",
      "Oryza sativa                    mir not confidence: 526  mir conf: 63\n",
      "Sorghum bicolor                 mir not confidence: 152  mir conf: 0\n",
      "Saccharum officinarum           mir not confidence: 10   mir conf: 0\n",
      "Triticum aestivum               mir not confidence: 101  mir conf: 22\n",
      "Zea mays                        mir not confidence: 163  mir conf: 60\n",
      "Phaseolus vulgaris              mir not confidence: 10   mir conf: 0\n",
      "Malus domestica                 mir not confidence: 152  mir conf: 0\n",
      "Brachypodium distachyon         mir not confidence: 437  mir conf: 0\n",
      "Aquilegia caerulea              mir not confidence: 34   mir conf: 0\n",
      "Populus euphratica              mir not confidence: 3    mir conf: 0\n",
      "Citrus sinensis                 mir not confidence: 191  mir conf: 0\n",
      "Citrus clementina               mir not confidence: 4    mir conf: 0\n",
      "Citrus reticulata               mir not confidence: 4    mir conf: 0\n",
      "Citrus trifoliata               mir not confidence: 6    mir conf: 0\n",
      "Ricinus communis                mir not confidence: 36   mir conf: 0\n",
      "Gossypium arboreum              mir not confidence: 1    mir conf: 0\n",
      "Arabidopsis lyrata              mir not confidence: 289  mir conf: 28\n",
      "Arachis hypogaea                mir not confidence: 32   mir conf: 0\n",
      "Glycine soja                    mir not confidence: 10   mir conf: 0\n",
      "Picea abies                     mir not confidence: 406  mir conf: 0\n",
      "Triticum turgidum               mir not confidence: 1    mir conf: 0\n",
      "Aegilops tauschii               mir not confidence: 137  mir conf: 0\n",
      "Hordeum vulgare                 mir not confidence: 66   mir conf: 0\n",
      "Papaver somniferum              mir not confidence: 0    mir conf: 0\n",
      "Festuca arundinacea             mir not confidence: 14   mir conf: 0\n",
      "Bruguiera gymnorhiza            mir not confidence: 4    mir conf: 0\n",
      "Bruguiera cylindrica            mir not confidence: 4    mir conf: 0\n",
      "Cunninghamia lanceolata         mir not confidence: 4    mir conf: 0\n",
      "Theobroma cacao                 mir not confidence: 57   mir conf: 0\n",
      "Rehmannia glutinosa             mir not confidence: 37   mir conf: 0\n",
      "Cucumis melo                    mir not confidence: 75   mir conf: 0\n",
      "Saccharum sp.                   mir not confidence: 18   mir conf: 0\n",
      "Acacia mangium                  mir not confidence: 3    mir conf: 0\n",
      "Acacia auriculiformis           mir not confidence: 7    mir conf: 0\n",
      "Salvia sclarea                  mir not confidence: 17   mir conf: 0\n",
      "Digitalis purpurea              mir not confidence: 11   mir conf: 0\n",
      "Nicotiana tabacum               mir not confidence: 91   mir conf: 0\n",
      "Solanum tuberosum               mir not confidence: 244  mir conf: 0\n",
      "Elaeis guineensis               mir not confidence: 2    mir conf: 0\n",
      "Manihot esculenta               mir not confidence: 103  mir conf: 0\n",
      "Cynara cardunculus              mir not confidence: 54   mir conf: 0\n",
      "Linum usitatissimum             mir not confidence: 57   mir conf: 0\n",
      "Panax ginseng                   mir not confidence: 25   mir conf: 0\n",
      "Hevea brasiliensis              mir not confidence: 30   mir conf: 0\n",
      "Prunus mume                     mir not confidence: 0    mir conf: 0\n",
      "Pinus densata                   mir not confidence: 27   mir conf: 0\n",
      "Helianthus annuus               mir not confidence: 6    mir conf: 0\n",
      "Helianthus ciliaris             mir not confidence: 3    mir conf: 0\n",
      "Helianthus tuberosus            mir not confidence: 9    mir conf: 0\n",
      "Helianthus exilis               mir not confidence: 1    mir conf: 0\n",
      "Helianthus argophyllus          mir not confidence: 3    mir conf: 0\n",
      "Helianthus petiolaris           mir not confidence: 3    mir conf: 0\n",
      "Helianthus paradoxus            mir not confidence: 3    mir conf: 0\n",
      "Prunus persica                  mir not confidence: 155  mir conf: 0\n",
      "Avicennia marina                mir not confidence: 3    mir conf: 0\n",
      "Amborella trichopoda            mir not confidence: 87   mir conf: 28\n",
      "Setaria italica                 mir not confidence: 0    mir conf: 0\n",
      "Vriesea carinata                mir not confidence: 60   mir conf: 0\n",
      "Eugenia uniflora                mir not confidence: 71   mir conf: 0\n",
      "Salicornia europaea             mir not confidence: 30   mir conf: 0\n",
      "Fragaria vesca                  mir not confidence: 101  mir conf: 0\n",
      "Cucumis sativus                 mir not confidence: 5    mir conf: 0\n",
      "Camelina sativa                 mir not confidence: 92   mir conf: 0\n",
      "Paeonia lactiflora              mir not confidence: 15   mir conf: 0\n",
      "Marchantia polymorpha           mir not confidence: 0    mir conf: 0\n",
      "Salvia miltiorrhiza             mir not confidence: 1    mir conf: 0\n",
      "Asparagus officinalis           mir not confidence: 101  mir conf: 0\n"
     ]
    }
   ],
   "source": [
    "for name in selectedTree['name']:\n",
    "    tree = selectedTree[selectedTree['name'] == name]\n",
    "    _selected = pd.merge(selected, tree, how=\"inner\", left_on=\"organism\", right_on=\"organism\")\n",
    "    conf = _selected[_selected['confidence']]    \n",
    "    conf = conf.drop_duplicates(subset=['data'], keep='first')\n",
    "    not_conf = _selected[~_selected['confidence']]\n",
    "    not_conf = not_conf.drop_duplicates(subset=['data'], keep='first')\n",
    "    print(f'{str(name).ljust(30,\" \")}  mir not confidence: {str(not_conf.shape[0]).ljust(5,\" \")}mir conf: {conf.shape[0]}')   "
   ]
  }
 ],
 "metadata": {
  "hide_input": false,
  "kernelspec": {
   "display_name": "Python 3",
   "language": "python",
   "name": "python3"
  },
  "language_info": {
   "codemirror_mode": {
    "name": "ipython",
    "version": 3
   },
   "file_extension": ".py",
   "mimetype": "text/x-python",
   "name": "python",
   "nbconvert_exporter": "python",
   "pygments_lexer": "ipython3",
   "version": "3.8.10"
  },
  "varInspector": {
   "cols": {
    "lenName": 16,
    "lenType": 16,
    "lenVar": 40
   },
   "kernels_config": {
    "python": {
     "delete_cmd_postfix": "",
     "delete_cmd_prefix": "del ",
     "library": "var_list.py",
     "varRefreshCmd": "print(var_dic_list())"
    },
    "r": {
     "delete_cmd_postfix": ") ",
     "delete_cmd_prefix": "rm(",
     "library": "var_list.r",
     "varRefreshCmd": "cat(var_dic_list()) "
    }
   },
   "types_to_exclude": [
    "module",
    "function",
    "builtin_function_or_method",
    "instance",
    "_Feature"
   ],
   "window_display": false
  }
 },
 "nbformat": 4,
 "nbformat_minor": 4
}
