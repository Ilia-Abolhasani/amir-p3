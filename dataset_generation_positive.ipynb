{
 "cells": [
  {
   "cell_type": "markdown",
   "metadata": {
    "ExecuteTime": {
     "end_time": "2022-06-15T21:49:38.290957Z",
     "start_time": "2022-06-15T21:49:38.286712Z"
    }
   },
   "source": [
    "# Config"
   ]
  },
  {
   "cell_type": "code",
   "execution_count": 1,
   "metadata": {
    "ExecuteTime": {
     "end_time": "2022-12-03T18:54:37.703738Z",
     "start_time": "2022-12-03T18:54:37.698232Z"
    }
   },
   "outputs": [],
   "source": [
    "plant = \"T.aestivum\"\n",
    "input_genome_name = \"GCF_018294505.1_IWGSC_CS_RefSeq_v2.1_genomic.fna\"\n",
    "\n",
    "experiment_dir = \"./Experiment\"\n",
    "experiment = f\"{plant}/positive\"\n",
    "\n",
    "input_genome_path = f'{experiment_dir}/{plant}/{input_genome_name}'\n",
    "\n",
    "temp_path = f\"{experiment_dir}/{experiment}/Temp\"\n",
    "result_path = f\"{experiment_dir}/{experiment}/Result\""
   ]
  },
  {
   "cell_type": "code",
   "execution_count": 2,
   "metadata": {
    "ExecuteTime": {
     "end_time": "2022-12-03T18:54:38.008573Z",
     "start_time": "2022-12-03T18:54:38.002999Z"
    }
   },
   "outputs": [],
   "source": [
    "import os\n",
    "if(not os.path.exists(f'{experiment_dir}/{experiment}')):\n",
    "    os.mkdir(f'{experiment_dir}/{experiment}')"
   ]
  },
  {
   "cell_type": "markdown",
   "metadata": {},
   "source": [
    "# Common"
   ]
  },
  {
   "cell_type": "code",
   "execution_count": 3,
   "metadata": {
    "ExecuteTime": {
     "end_time": "2022-12-03T18:54:39.789127Z",
     "start_time": "2022-12-03T18:54:38.533870Z"
    }
   },
   "outputs": [],
   "source": [
    "import json\n",
    "import time\n",
    "from subprocess import Popen, PIPE, STDOUT\n",
    "import math\n",
    "import numpy as np\n",
    "import pandas as pd\n",
    "import hashlib\n",
    "import requests\n",
    "import os, sys, subprocess\n",
    "from tqdm.contrib.concurrent import process_map\n",
    "from tqdm.notebook import tqdm\n",
    "tqdm.pandas()\n",
    "import multiprocessing as mp\n",
    "import shutil\n",
    "import urllib.parse\n",
    "import glob\n",
    "import os\n",
    "import sys\n",
    "import networkx\n",
    "from networkx.algorithms.clique import find_cliques as maximal_cliques\n",
    "from ast import literal_eval\n",
    "if sys.version_info[0] < 3: \n",
    "    from StringIO import StringIO\n",
    "else:\n",
    "    from io import StringIO\n",
    "sys.path.append(\"./src/\")\n",
    "from ct_analizer import get_row\n",
    "from filter import filter_run\n",
    "from utils import adjust, bracket_to_ct, fasta_to_df, df_to_fasta,reformat, reformatCT,get_ct_data, ct2dot_bracket, is_nested"
   ]
  },
  {
   "cell_type": "code",
   "execution_count": 4,
   "metadata": {
    "ExecuteTime": {
     "end_time": "2022-12-03T18:54:39.798188Z",
     "start_time": "2022-12-03T18:54:39.793021Z"
    }
   },
   "outputs": [],
   "source": [
    "if(not os.path.exists(temp_path)):\n",
    "    os.mkdir(temp_path)\n",
    "    \n",
    "if(not os.path.exists(result_path)):\n",
    "    os.mkdir(result_path)\n",
    "    \n",
    "current_path = os.getcwd()"
   ]
  },
  {
   "cell_type": "code",
   "execution_count": 5,
   "metadata": {
    "ExecuteTime": {
     "end_time": "2022-12-03T18:54:39.807347Z",
     "start_time": "2022-12-03T18:54:39.802052Z"
    }
   },
   "outputs": [],
   "source": [
    "def bracket_row(row):    \n",
    "    s = row['data']\n",
    "    index = min(s.find('.'), s.find('('))\n",
    "    data = row['data']\n",
    "    row['data'] = data[0:index]\n",
    "    row['bracket'] = data[index:]\n",
    "    return row"
   ]
  },
  {
   "cell_type": "code",
   "execution_count": 6,
   "metadata": {
    "ExecuteTime": {
     "end_time": "2022-12-03T18:54:40.029833Z",
     "start_time": "2022-12-03T18:54:39.991373Z"
    }
   },
   "outputs": [],
   "source": [
    "def isChar(c):\n",
    "    return not c in [' ', '-', '|']\n",
    "\n",
    "def adjust(text,n=7):\n",
    "    text = str(text)    \n",
    "    return \" \" * (n - len(text)) + text\n",
    "\n",
    "def isMature(c1, c2):\n",
    "    if(c1.isupper() and isChar(c1)):\n",
    "        return True\n",
    "    if(c2.isupper() and isChar(c2)):\n",
    "        return True\n",
    "    return False\n",
    "\n",
    "def get_number(strText):\n",
    "    number = 0 \n",
    "    for i in range(len(strText[2])):\n",
    "        if(isChar(strText[2][i]) or isChar(strText[3][i])):\n",
    "            number += 1    \n",
    "        if(isChar(strText[4][i])):\n",
    "            number += 1    \n",
    "        if(isChar(strText[5][i]) or isChar(strText[6][i])):\n",
    "            number += 1     \n",
    "    return number\n",
    "\n",
    "def get5pInfo(strText):\n",
    "    has_5p = False\n",
    "    s_5p = 0\n",
    "    f_5p = 0\n",
    "    counter = 0\n",
    "    for i in range(len(strText[2])):\n",
    "        if(isChar(strText[2][i]) or isChar(strText[3][i])):\n",
    "            counter += 1            \n",
    "            if(isMature(strText[2][i] ,strText[3][i])):\n",
    "                if(not has_5p):\n",
    "                    has_5p = True\n",
    "                    s_5p = counter\n",
    "                else:\n",
    "                    continue\n",
    "            elif(has_5p):\n",
    "                f_5p = counter - 1 \n",
    "                break\n",
    "    return [has_5p, s_5p, f_5p]\n",
    "\n",
    "def get3pInfo(strText, number):\n",
    "    has_3p = False\n",
    "    s_3p = 0\n",
    "    f_3p = 0\n",
    "    counter = 0\n",
    "    for i in range(len(strText[6])):\n",
    "        if(isChar(strText[6][i]) or isChar(strText[5][i])):\n",
    "            counter += 1            \n",
    "            if(isMature(strText[6][i] ,strText[5][i])):\n",
    "                if(not has_3p):\n",
    "                    has_3p = True\n",
    "                    s_3p = counter\n",
    "                else:\n",
    "                    continue\n",
    "            elif(has_3p):\n",
    "                f_3p = counter - 1 \n",
    "                break        \n",
    "    return [has_3p, number - f_3p + 1, number - s_3p + 1]    \n",
    "\n",
    "def convertor(strText):\n",
    "    index  = []\n",
    "    values = []\n",
    "    nucludid = []\n",
    "    def add(i, v, n):        \n",
    "        index.append(i)\n",
    "        values.append(v)\n",
    "        nucludid.append(n)\n",
    "            \n",
    "    f_counter = 1\n",
    "    r_counter = 0\n",
    "                    \n",
    "    number = get_number(strText)    \n",
    "    [FO, FI, Mid, RI, RO] = strText[2:]\n",
    "    # main loop    \n",
    "    for i in range(len(Mid)):           \n",
    "        \n",
    "        if(isChar(FO[i]) and FI[i] == \" \" and Mid[i] == \" \" and RI[i] == \" \"  and RO[i] == \"-\" ):\n",
    "            add(f_counter, 0, FO[i])                \n",
    "            f_counter += 1                      \n",
    "                \n",
    "        elif(FO[i] == \"-\" and FI[i] == \" \" and Mid[i] == \" \" and RI[i] == \" \"  and isChar(RO[i])):                                            \n",
    "            add(number - r_counter, 0, RO[i])                \n",
    "            r_counter += 1                      \n",
    "        \n",
    "        elif(isChar(FO[i]) and not isChar(FI[i]) and not isChar(Mid[i]) and not isChar(RI[i]) and isChar(RO[i])):\n",
    "            add(f_counter, 0, FO[i])                    \n",
    "            add(number - r_counter, 0, RO[i])                                \n",
    "            f_counter += 1        \n",
    "            r_counter += 1                              \n",
    "            \n",
    "        elif(not isChar(FO[i]) and isChar(FI[i]) and Mid[i] == \"|\" and isChar(RI[i]) and not isChar(RO[i])):        \n",
    "            add(f_counter, number - r_counter, FI[i])                        \n",
    "            add(number - r_counter, f_counter, RI[i])                \n",
    "            f_counter += 1        \n",
    "            r_counter += 1                  \n",
    "            \n",
    "        elif(not isChar(FO[i]) and isChar(FI[i]) and isChar(Mid[i]) and isChar(RI[i]) and not isChar(RO[i])):\n",
    "            add(f_counter, 0, FI[i])\n",
    "            add(f_counter + 1, 0, Mid[i])\n",
    "            add(number - r_counter, 0, RI[i])\n",
    "            f_counter += 2\n",
    "            r_counter += 1\n",
    "            \n",
    "        elif(not isChar(FO[i]) and isChar(FI[i]) and Mid[i] == \" \" and isChar(RI[i]) and not isChar(RO[i])):                \n",
    "            add(f_counter, 0, FI[i])                    \n",
    "            add(number - r_counter, 0, RI[i])                    \n",
    "            f_counter += 1        \n",
    "            r_counter += 1                  \n",
    "            \n",
    "        elif(not isChar(FO[i]) and not isChar(FI[i]) and isChar(Mid[i]) and not isChar(RI[i]) and not isChar(RO[i])):                \n",
    "            add(f_counter, 0, Mid[i])                                \n",
    "            f_counter += 1                    \n",
    "\n",
    "    # sort indexs and other base on indexes\n",
    "    inds = np.array(index).argsort()    \n",
    "    nucludid = np.array(nucludid)[inds]       \n",
    "    return ''.join(nucludid)"
   ]
  },
  {
   "cell_type": "markdown",
   "metadata": {},
   "source": [
    "# Download data from Mirbase"
   ]
  },
  {
   "cell_type": "code",
   "execution_count": 7,
   "metadata": {
    "ExecuteTime": {
     "end_time": "2022-12-03T18:54:56.083589Z",
     "start_time": "2022-12-03T18:54:56.079296Z"
    }
   },
   "outputs": [],
   "source": [
    "directory = './miRBase'\n",
    "base = \"https://www.mirbase.org/ftp/CURRENT\"        "
   ]
  },
  {
   "cell_type": "code",
   "execution_count": 8,
   "metadata": {
    "ExecuteTime": {
     "end_time": "2022-12-03T18:54:58.548641Z",
     "start_time": "2022-12-03T18:54:58.387272Z"
    }
   },
   "outputs": [],
   "source": [
    "mature = fasta_to_df(f'{directory}/mature.fa')\n",
    "mature_high_conf = fasta_to_df(f'{directory}/mature_high_conf.fa')\n",
    "mature['trim tag'] = mature['tag'].apply(lambda line: ' '.join(line.split(' ')[:2]))\n",
    "mature['confidence'] = mature['trim tag'].isin(mature_high_conf['tag'])"
   ]
  },
  {
   "cell_type": "code",
   "execution_count": 9,
   "metadata": {
    "ExecuteTime": {
     "end_time": "2022-12-03T18:54:59.782329Z",
     "start_time": "2022-12-03T18:54:59.729430Z"
    }
   },
   "outputs": [
    {
     "name": "stdout",
     "output_type": "stream",
     "text": [
      "(48885, 5)\n"
     ]
    },
    {
     "data": {
      "text/html": [
       "<div>\n",
       "<style scoped>\n",
       "    .dataframe tbody tr th:only-of-type {\n",
       "        vertical-align: middle;\n",
       "    }\n",
       "\n",
       "    .dataframe tbody tr th {\n",
       "        vertical-align: top;\n",
       "    }\n",
       "\n",
       "    .dataframe thead th {\n",
       "        text-align: right;\n",
       "    }\n",
       "</style>\n",
       "<table border=\"1\" class=\"dataframe\">\n",
       "  <thead>\n",
       "    <tr style=\"text-align: right;\">\n",
       "      <th></th>\n",
       "      <th>tag</th>\n",
       "      <th>data</th>\n",
       "      <th>trim tag</th>\n",
       "      <th>confidence</th>\n",
       "      <th>organism</th>\n",
       "    </tr>\n",
       "  </thead>\n",
       "  <tbody>\n",
       "    <tr>\n",
       "      <th>0</th>\n",
       "      <td>cel-let-7-5p MIMAT0000001 Caenorhabditis elega...</td>\n",
       "      <td>UGAGGUAGUAGGUUGUAUAGUU</td>\n",
       "      <td>cel-let-7-5p MIMAT0000001</td>\n",
       "      <td>True</td>\n",
       "      <td>cel</td>\n",
       "    </tr>\n",
       "    <tr>\n",
       "      <th>1</th>\n",
       "      <td>cel-let-7-3p MIMAT0015091 Caenorhabditis elega...</td>\n",
       "      <td>CUAUGCAAUUUUCUACCUUACC</td>\n",
       "      <td>cel-let-7-3p MIMAT0015091</td>\n",
       "      <td>True</td>\n",
       "      <td>cel</td>\n",
       "    </tr>\n",
       "  </tbody>\n",
       "</table>\n",
       "</div>"
      ],
      "text/plain": [
       "                                                 tag                    data  \\\n",
       "0  cel-let-7-5p MIMAT0000001 Caenorhabditis elega...  UGAGGUAGUAGGUUGUAUAGUU   \n",
       "1  cel-let-7-3p MIMAT0015091 Caenorhabditis elega...  CUAUGCAAUUUUCUACCUUACC   \n",
       "\n",
       "                    trim tag  confidence organism  \n",
       "0  cel-let-7-5p MIMAT0000001        True      cel  \n",
       "1  cel-let-7-3p MIMAT0015091        True      cel  "
      ]
     },
     "execution_count": 9,
     "metadata": {},
     "output_type": "execute_result"
    }
   ],
   "source": [
    "mature['organism'] = mature['tag'].apply(lambda x: x[:3])\n",
    "print(mature.shape)\n",
    "mature.head(2)"
   ]
  },
  {
   "cell_type": "code",
   "execution_count": 10,
   "metadata": {
    "ExecuteTime": {
     "end_time": "2022-12-03T18:55:03.199492Z",
     "start_time": "2022-12-03T18:55:03.175696Z"
    }
   },
   "outputs": [
    {
     "name": "stdout",
     "output_type": "stream",
     "text": [
      "(285, 5)\n"
     ]
    },
    {
     "data": {
      "text/html": [
       "<div>\n",
       "<style scoped>\n",
       "    .dataframe tbody tr th:only-of-type {\n",
       "        vertical-align: middle;\n",
       "    }\n",
       "\n",
       "    .dataframe tbody tr th {\n",
       "        vertical-align: top;\n",
       "    }\n",
       "\n",
       "    .dataframe thead th {\n",
       "        text-align: right;\n",
       "    }\n",
       "</style>\n",
       "<table border=\"1\" class=\"dataframe\">\n",
       "  <thead>\n",
       "    <tr style=\"text-align: right;\">\n",
       "      <th></th>\n",
       "      <th>organism</th>\n",
       "      <th>division</th>\n",
       "      <th>name</th>\n",
       "      <th>tree</th>\n",
       "      <th>NCBI-taxid</th>\n",
       "    </tr>\n",
       "  </thead>\n",
       "  <tbody>\n",
       "    <tr>\n",
       "      <th>0</th>\n",
       "      <td>aqu</td>\n",
       "      <td>AQU</td>\n",
       "      <td>Amphimedon queenslandica</td>\n",
       "      <td>Metazoa;Porifera;</td>\n",
       "      <td>400682</td>\n",
       "    </tr>\n",
       "    <tr>\n",
       "      <th>1</th>\n",
       "      <td>nve</td>\n",
       "      <td>NVE</td>\n",
       "      <td>Nematostella vectensis</td>\n",
       "      <td>Metazoa;Cnidaria;</td>\n",
       "      <td>45351</td>\n",
       "    </tr>\n",
       "  </tbody>\n",
       "</table>\n",
       "</div>"
      ],
      "text/plain": [
       "  organism division                      name               tree  NCBI-taxid\n",
       "0      aqu      AQU  Amphimedon queenslandica  Metazoa;Porifera;      400682\n",
       "1      nve      NVE    Nematostella vectensis  Metazoa;Cnidaria;       45351"
      ]
     },
     "execution_count": 10,
     "metadata": {},
     "output_type": "execute_result"
    }
   ],
   "source": [
    "organism = pd.read_csv(f'./{directory}/organisms.txt',sep='\\t')\n",
    "organism.columns = [c.replace('#','') for c in organism.columns] # remove sharp from columns\n",
    "print(organism.shape)\n",
    "organism.head(2)"
   ]
  },
  {
   "cell_type": "code",
   "execution_count": 11,
   "metadata": {
    "ExecuteTime": {
     "end_time": "2022-12-03T18:55:06.597476Z",
     "start_time": "2022-12-03T18:55:06.586250Z"
    },
    "scrolled": true
   },
   "outputs": [
    {
     "data": {
      "text/plain": [
       "['Viruses;',\n",
       " 'Mycetozoa;',\n",
       " 'Alveolata;',\n",
       " 'Metazoa;Porifera;',\n",
       " 'Metazoa;Cnidaria;',\n",
       " 'Viridiplantae;Chlorophyta;',\n",
       " 'Viridiplantae;Embryophyta;',\n",
       " 'Viridiplantae;Coniferophyta;',\n",
       " 'Viridiplantae;Magnoliophyta;',\n",
       " 'Metazoa;Bilateria;Deuterostoma;',\n",
       " 'Chromalveolata;Heterokontophyta;',\n",
       " 'Metazoa;Bilateria;Ecdysozoa;Nematoda;',\n",
       " 'Metazoa;Bilateria;Lophotrochozoa;Annelida;',\n",
       " 'Metazoa;Bilateria;Lophotrochozoa;Nemertea;',\n",
       " 'Metazoa;Bilateria;Lophotrochozoa;Mollusca;',\n",
       " 'Viridiplantae;Magnoliophyta;monocotyledons;',\n",
       " 'Metazoa;Bilateria;Deuterostoma;Hemichordata;',\n",
       " 'Metazoa;Bilateria;Deuterostoma;Echinodermata;',\n",
       " 'Metazoa;Bilateria;Lophotrochozoa;Brachiopoda;',\n",
       " 'Metazoa;Bilateria;Ecdysozoa;Arthropoda;Hexapoda;',\n",
       " 'Metazoa;Bilateria;Ecdysozoa;Arthropoda;Crustacea;',\n",
       " 'Metazoa;Bilateria;Lophotrochozoa;Platyhelminthes;',\n",
       " 'Metazoa;Bilateria;Ecdysozoa;Arthropoda;Chelicerata;',\n",
       " 'Metazoa;Bilateria;Ecdysozoa;Arthropoda;Mandibulata;',\n",
       " 'Viridiplantae;Magnoliophyta;eudicotyledons;Poaceae;',\n",
       " 'Metazoa;Bilateria;Deuterostoma;Chordata;Urochordata;',\n",
       " 'Viridiplantae;Magnoliophyta;eudicotyledons;Fabaceae;',\n",
       " 'Viridiplantae;Magnoliophyta;eudicotyledons;Vitaceae;',\n",
       " 'Viridiplantae;Magnoliophyta;eudicotyledons;Rosaceae;',\n",
       " 'Viridiplantae;Magnoliophyta;eudicotyledons;Rutaceae;',\n",
       " 'Viridiplantae;Magnoliophyta;eudicotyledons;Lamiales;',\n",
       " 'Viridiplantae;Magnoliophyta;eudicotyledons;Linaceae;',\n",
       " 'Viridiplantae;Magnoliophyta;eudicotyledons;Malvaceae;',\n",
       " 'Viridiplantae;Magnoliophyta;eudicotyledons;Myrtaceae;',\n",
       " 'Viridiplantae;Magnoliophyta;eudicotyledons;Caricaceae;',\n",
       " 'Viridiplantae;Magnoliophyta;eudicotyledons;Salicaceae;',\n",
       " 'Viridiplantae;Magnoliophyta;eudicotyledons;Solanaceae;',\n",
       " 'Viridiplantae;Magnoliophyta;eudicotyledons;Asteraceae;',\n",
       " 'Viridiplantae;Magnoliophyta;eudicotyledons;Araliaceae;',\n",
       " 'Viridiplantae;Magnoliophyta;eudicotyledons;Paeoniaceae;',\n",
       " 'Metazoa;Bilateria;Deuterostoma;Chordata;Cephalochordata;',\n",
       " 'Metazoa;Bilateria;Deuterostoma;Chordata;Vertebrata;Aves;',\n",
       " 'Viridiplantae;Magnoliophyta;eudicotyledons;Brassicaceae;',\n",
       " 'Viridiplantae;Magnoliophyta;eudicotyledons;Papaveraceae;',\n",
       " 'Viridiplantae;Magnoliophyta;eudicotyledons;Ranunculaceae;',\n",
       " 'Viridiplantae;Magnoliophyta;eudicotyledons;Euphorbiaceae;',\n",
       " 'Viridiplantae;Magnoliophyta;eudicotyledons;Cucurbitaceae;',\n",
       " 'Viridiplantae;Magnoliophyta;eudicotyledons;Amaranthaceae;',\n",
       " 'Viridiplantae;Magnoliophyta;eudicotyledons;Rhizophoraceae;',\n",
       " 'Metazoa;Bilateria;Deuterostoma;Chordata;Vertebrata;Sauria;',\n",
       " 'Metazoa;Bilateria;Deuterostoma;Chordata;Vertebrata;Amphibia;',\n",
       " 'Metazoa;Bilateria;Deuterostoma;Chordata;Vertebrata;Teleostei;',\n",
       " 'Metazoa;Bilateria;Deuterostoma;Chordata;Vertebrata;Gnathostomata;',\n",
       " 'Metazoa;Bilateria;Deuterostoma;Chordata;Vertebrata;Mammalia;Suina;',\n",
       " 'Metazoa;Bilateria;Deuterostoma;Chordata;Vertebrata;Agnathostomata;',\n",
       " 'Metazoa;Bilateria;Deuterostoma;Chordata;Vertebrata;Mammalia;Rodentia;',\n",
       " 'Metazoa;Bilateria;Deuterostoma;Chordata;Vertebrata;Mammalia;Carnivora;',\n",
       " 'Metazoa;Bilateria;Deuterostoma;Chordata;Vertebrata;Mammalia;Cingulata;',\n",
       " 'Metazoa;Bilateria;Deuterostoma;Chordata;Vertebrata;Mammalia;Metatheria;',\n",
       " 'Metazoa;Bilateria;Deuterostoma;Chordata;Vertebrata;Mammalia;Ruminantia;',\n",
       " 'Metazoa;Bilateria;Deuterostoma;Chordata;Vertebrata;Mammalia;Lagomorpha;',\n",
       " 'Metazoa;Bilateria;Deuterostoma;Chordata;Vertebrata;Mammalia;Scandentia;',\n",
       " 'Metazoa;Bilateria;Deuterostoma;Chordata;Vertebrata;Mammalia;Afrotheria;',\n",
       " 'Metazoa;Bilateria;Deuterostoma;Chordata;Vertebrata;Mammalia;Prototheria;',\n",
       " 'Metazoa;Bilateria;Deuterostoma;Chordata;Vertebrata;Mammalia;Laurasiatheria;',\n",
       " 'Metazoa;Bilateria;Deuterostoma;Chordata;Vertebrata;Mammalia;Primates;Cebidae;',\n",
       " 'Metazoa;Bilateria;Deuterostoma;Chordata;Vertebrata;Mammalia;Primates;Atelidae;',\n",
       " 'Metazoa;Bilateria;Deuterostoma;Chordata;Vertebrata;Mammalia;Primates;Hominidae;',\n",
       " 'Metazoa;Bilateria;Deuterostoma;Chordata;Vertebrata;Mammalia;Primates;Lemuridae;',\n",
       " 'Metazoa;Bilateria;Deuterostoma;Chordata;Vertebrata;Mammalia;Primates;Galagidae;',\n",
       " 'Metazoa;Bilateria;Deuterostoma;Chordata;Vertebrata;Mammalia;Primates;Hylobatidae;',\n",
       " 'Metazoa;Bilateria;Deuterostoma;Chordata;Vertebrata;Mammalia;Primates;Cheirogaleidae;',\n",
       " 'Metazoa;Bilateria;Deuterostoma;Chordata;Vertebrata;Mammalia;Primates;Daubentoniidae;',\n",
       " 'Metazoa;Bilateria;Deuterostoma;Chordata;Vertebrata;Mammalia;Primates;Cercopithecidae;']"
      ]
     },
     "execution_count": 11,
     "metadata": {},
     "output_type": "execute_result"
    }
   ],
   "source": [
    "items = list(organism['tree'].unique())\n",
    "items.sort(key=len)\n",
    "items"
   ]
  },
  {
   "cell_type": "code",
   "execution_count": 12,
   "metadata": {
    "ExecuteTime": {
     "end_time": "2022-12-03T18:55:10.952893Z",
     "start_time": "2022-12-03T18:55:10.933703Z"
    },
    "scrolled": true
   },
   "outputs": [
    {
     "name": "stdout",
     "output_type": "stream",
     "text": [
      "(86, 5)\n"
     ]
    },
    {
     "data": {
      "text/html": [
       "<div>\n",
       "<style scoped>\n",
       "    .dataframe tbody tr th:only-of-type {\n",
       "        vertical-align: middle;\n",
       "    }\n",
       "\n",
       "    .dataframe tbody tr th {\n",
       "        vertical-align: top;\n",
       "    }\n",
       "\n",
       "    .dataframe thead th {\n",
       "        text-align: right;\n",
       "    }\n",
       "</style>\n",
       "<table border=\"1\" class=\"dataframe\">\n",
       "  <thead>\n",
       "    <tr style=\"text-align: right;\">\n",
       "      <th></th>\n",
       "      <th>organism</th>\n",
       "      <th>division</th>\n",
       "      <th>name</th>\n",
       "      <th>tree</th>\n",
       "      <th>NCBI-taxid</th>\n",
       "    </tr>\n",
       "  </thead>\n",
       "  <tbody>\n",
       "    <tr>\n",
       "      <th>66</th>\n",
       "      <td>cre</td>\n",
       "      <td>CRE</td>\n",
       "      <td>Chlamydomonas reinhardtii</td>\n",
       "      <td>Viridiplantae;Chlorophyta;</td>\n",
       "      <td>3055</td>\n",
       "    </tr>\n",
       "    <tr>\n",
       "      <th>67</th>\n",
       "      <td>pta</td>\n",
       "      <td>PTA</td>\n",
       "      <td>Pinus taeda</td>\n",
       "      <td>Viridiplantae;Coniferophyta;</td>\n",
       "      <td>3352</td>\n",
       "    </tr>\n",
       "    <tr>\n",
       "      <th>68</th>\n",
       "      <td>ppt</td>\n",
       "      <td>PPT</td>\n",
       "      <td>Physcomitrella patens</td>\n",
       "      <td>Viridiplantae;Embryophyta;</td>\n",
       "      <td>3218</td>\n",
       "    </tr>\n",
       "    <tr>\n",
       "      <th>69</th>\n",
       "      <td>smo</td>\n",
       "      <td>SMO</td>\n",
       "      <td>Selaginella moellendorffii</td>\n",
       "      <td>Viridiplantae;Embryophyta;</td>\n",
       "      <td>88036</td>\n",
       "    </tr>\n",
       "    <tr>\n",
       "      <th>70</th>\n",
       "      <td>ath</td>\n",
       "      <td>ATH</td>\n",
       "      <td>Arabidopsis thaliana</td>\n",
       "      <td>Viridiplantae;Magnoliophyta;eudicotyledons;Bra...</td>\n",
       "      <td>3702</td>\n",
       "    </tr>\n",
       "  </tbody>\n",
       "</table>\n",
       "</div>"
      ],
      "text/plain": [
       "   organism division                        name  \\\n",
       "66      cre      CRE   Chlamydomonas reinhardtii   \n",
       "67      pta      PTA                 Pinus taeda   \n",
       "68      ppt      PPT       Physcomitrella patens   \n",
       "69      smo      SMO  Selaginella moellendorffii   \n",
       "70      ath      ATH        Arabidopsis thaliana   \n",
       "\n",
       "                                                 tree  NCBI-taxid  \n",
       "66                         Viridiplantae;Chlorophyta;        3055  \n",
       "67                       Viridiplantae;Coniferophyta;        3352  \n",
       "68                         Viridiplantae;Embryophyta;        3218  \n",
       "69                         Viridiplantae;Embryophyta;       88036  \n",
       "70  Viridiplantae;Magnoliophyta;eudicotyledons;Bra...        3702  "
      ]
     },
     "execution_count": 12,
     "metadata": {},
     "output_type": "execute_result"
    }
   ],
   "source": [
    "selectedTree = organism[organism['tree'].apply(lambda x: \"Viridiplantae;\" in x)]\n",
    "print(selectedTree.shape)\n",
    "selectedTree.head(5)"
   ]
  },
  {
   "cell_type": "code",
   "execution_count": 15,
   "metadata": {
    "ExecuteTime": {
     "end_time": "2022-12-03T18:56:03.858472Z",
     "start_time": "2022-12-03T18:56:03.853059Z"
    }
   },
   "outputs": [],
   "source": [
    "selectedTree = selectedTree[selectedTree['name'] == \"Triticum aestivum\"]"
   ]
  },
  {
   "cell_type": "code",
   "execution_count": 16,
   "metadata": {
    "ExecuteTime": {
     "end_time": "2022-12-03T18:56:06.227236Z",
     "start_time": "2022-12-03T18:56:06.192368Z"
    },
    "scrolled": true
   },
   "outputs": [
    {
     "name": "stdout",
     "output_type": "stream",
     "text": [
      "(125, 5)\n"
     ]
    },
    {
     "data": {
      "text/html": [
       "<div>\n",
       "<style scoped>\n",
       "    .dataframe tbody tr th:only-of-type {\n",
       "        vertical-align: middle;\n",
       "    }\n",
       "\n",
       "    .dataframe tbody tr th {\n",
       "        vertical-align: top;\n",
       "    }\n",
       "\n",
       "    .dataframe thead th {\n",
       "        text-align: right;\n",
       "    }\n",
       "</style>\n",
       "<table border=\"1\" class=\"dataframe\">\n",
       "  <thead>\n",
       "    <tr style=\"text-align: right;\">\n",
       "      <th></th>\n",
       "      <th>tag</th>\n",
       "      <th>data</th>\n",
       "      <th>trim tag</th>\n",
       "      <th>confidence</th>\n",
       "      <th>organism</th>\n",
       "    </tr>\n",
       "  </thead>\n",
       "  <tbody>\n",
       "    <tr>\n",
       "      <th>6755</th>\n",
       "      <td>tae-miR159a MIMAT0005343 Triticum aestivum miR...</td>\n",
       "      <td>UUUGGAUUGAAGGGAGCUCUG</td>\n",
       "      <td>tae-miR159a MIMAT0005343</td>\n",
       "      <td>True</td>\n",
       "      <td>tae</td>\n",
       "    </tr>\n",
       "  </tbody>\n",
       "</table>\n",
       "</div>"
      ],
      "text/plain": [
       "                                                    tag  \\\n",
       "6755  tae-miR159a MIMAT0005343 Triticum aestivum miR...   \n",
       "\n",
       "                       data                  trim tag  confidence organism  \n",
       "6755  UUUGGAUUGAAGGGAGCUCUG  tae-miR159a MIMAT0005343        True      tae  "
      ]
     },
     "execution_count": 16,
     "metadata": {},
     "output_type": "execute_result"
    }
   ],
   "source": [
    "selected = mature[mature['organism'].isin(selectedTree['organism'])]\n",
    "print(selected.shape)\n",
    "selected.head(1)"
   ]
  },
  {
   "cell_type": "code",
   "execution_count": 17,
   "metadata": {
    "ExecuteTime": {
     "end_time": "2022-12-03T18:56:22.902952Z",
     "start_time": "2022-12-03T18:56:22.407774Z"
    },
    "scrolled": true
   },
   "outputs": [
    {
     "data": {
      "application/vnd.jupyter.widget-view+json": {
       "model_id": "73d3a704374d4ae7a145979b9294c040",
       "version_major": 2,
       "version_minor": 0
      },
      "text/plain": [
       "  0%|          | 0/38590 [00:00<?, ?it/s]"
      ]
     },
     "metadata": {},
     "output_type": "display_data"
    },
    {
     "name": "stdout",
     "output_type": "stream",
     "text": [
      "(123, 6)\n"
     ]
    },
    {
     "data": {
      "text/html": [
       "<div>\n",
       "<style scoped>\n",
       "    .dataframe tbody tr th:only-of-type {\n",
       "        vertical-align: middle;\n",
       "    }\n",
       "\n",
       "    .dataframe tbody tr th {\n",
       "        vertical-align: top;\n",
       "    }\n",
       "\n",
       "    .dataframe thead th {\n",
       "        text-align: right;\n",
       "    }\n",
       "</style>\n",
       "<table border=\"1\" class=\"dataframe\">\n",
       "  <thead>\n",
       "    <tr style=\"text-align: right;\">\n",
       "      <th></th>\n",
       "      <th>data</th>\n",
       "      <th>hit_start</th>\n",
       "      <th>hit_end</th>\n",
       "      <th>hit</th>\n",
       "      <th>confidence</th>\n",
       "      <th>tag</th>\n",
       "    </tr>\n",
       "  </thead>\n",
       "  <tbody>\n",
       "    <tr>\n",
       "      <th>0</th>\n",
       "      <td>guggagcuccuaucauuccaaugaagggucuaccgaaggguuugug...</td>\n",
       "      <td>154</td>\n",
       "      <td>174</td>\n",
       "      <td>UUUGGAUUGAAGGGAGCUCUG</td>\n",
       "      <td>True</td>\n",
       "      <td>0</td>\n",
       "    </tr>\n",
       "    <tr>\n",
       "      <th>1</th>\n",
       "      <td>gagcuccuuucgguccaaaaagggguguugcugugggucgauugag...</td>\n",
       "      <td>230</td>\n",
       "      <td>250</td>\n",
       "      <td>UUUGGAUUGAAGGGAGCUCUG</td>\n",
       "      <td>True</td>\n",
       "      <td>1</td>\n",
       "    </tr>\n",
       "    <tr>\n",
       "      <th>2</th>\n",
       "      <td>agaggugaaaacaaugggauaugccuggcucccuguaugccacucg...</td>\n",
       "      <td>22</td>\n",
       "      <td>42</td>\n",
       "      <td>UGCCUGGCUCCCUGUAUGCCA</td>\n",
       "      <td>False</td>\n",
       "      <td>2</td>\n",
       "    </tr>\n",
       "    <tr>\n",
       "      <th>3</th>\n",
       "      <td>gguggagaagcagggcacgugcauccauuuccagcucggcauuccc...</td>\n",
       "      <td>3</td>\n",
       "      <td>23</td>\n",
       "      <td>UGGAGAAGCAGGGCACGUGCA</td>\n",
       "      <td>False</td>\n",
       "      <td>3</td>\n",
       "    </tr>\n",
       "    <tr>\n",
       "      <th>4</th>\n",
       "      <td>cugcccaagggaacgagugaagcugccagcaugaucuagcuccgag...</td>\n",
       "      <td>18</td>\n",
       "      <td>38</td>\n",
       "      <td>UGAAGCUGCCAGCAUGAUCUA</td>\n",
       "      <td>False</td>\n",
       "      <td>4</td>\n",
       "    </tr>\n",
       "  </tbody>\n",
       "</table>\n",
       "</div>"
      ],
      "text/plain": [
       "                                                data  hit_start  hit_end  \\\n",
       "0  guggagcuccuaucauuccaaugaagggucuaccgaaggguuugug...        154      174   \n",
       "1  gagcuccuuucgguccaaaaagggguguugcugugggucgauugag...        230      250   \n",
       "2  agaggugaaaacaaugggauaugccuggcucccuguaugccacucg...         22       42   \n",
       "3  gguggagaagcagggcacgugcauccauuuccagcucggcauuccc...          3       23   \n",
       "4  cugcccaagggaacgagugaagcugccagcaugaucuagcuccgag...         18       38   \n",
       "\n",
       "                     hit  confidence  tag  \n",
       "0  UUUGGAUUGAAGGGAGCUCUG        True    0  \n",
       "1  UUUGGAUUGAAGGGAGCUCUG        True    1  \n",
       "2  UGCCUGGCUCCCUGUAUGCCA       False    2  \n",
       "3  UGGAGAAGCAGGGCACGUGCA       False    3  \n",
       "4  UGAAGCUGCCAGCAUGAUCUA       False    4  "
      ]
     },
     "execution_count": 17,
     "metadata": {},
     "output_type": "execute_result"
    }
   ],
   "source": [
    "with open(f'./{directory}/miRNA.str') as file:\n",
    "    strRNA = file.read()\n",
    "    lines = strRNA.split('\\n')\n",
    "nuclutide = []\n",
    "hit_start = []\n",
    "hit_end = []\n",
    "for i in tqdm(range(0,len(lines), 8)):\n",
    "    tag = lines[i]\n",
    "    if(tag[1:4] == \"tae\"):\n",
    "        strText = lines[i:(i+7)]        \n",
    "        if(len(strText) == 7):\n",
    "            nuc = convertor(strText).lower()            \n",
    "            number = get_number(strText)    \n",
    "            [has_5p, s_5p, f_5p] = get5pInfo(strText)                \n",
    "            [has_3p, s_3p, f_3p] = get3pInfo(strText, number)\n",
    "            if(has_5p):\n",
    "                if(s_5p > f_5p):                    \n",
    "                    continue\n",
    "            if(has_3p):\n",
    "                if(s_3p > f_3p):                    \n",
    "                    continue\n",
    "            if(has_5p):\n",
    "                nuclutide.append(nuc)\n",
    "                hit_start.append(s_5p)                \n",
    "                hit_end.append(f_5p)\n",
    "            if(has_3p):\n",
    "                nuclutide.append(nuc)                \n",
    "                hit_start.append(s_3p)\n",
    "                hit_end.append(f_3p)                                                      \n",
    "precursor = pd.DataFrame({\"data\": nuclutide, \"hit_start\": hit_start, \"hit_end\": hit_end})\n",
    "precursor['hit'] = precursor.apply(lambda row: row['data'][(row['hit_start']-1):(row['hit_end'])].upper(), axis=1)\n",
    "precursor['confidence'] = precursor['hit'].apply(lambda hit: selected['confidence'][selected['data'] == hit].sum() > 0)\n",
    "precursor['tag'] = precursor.index\n",
    "print(precursor.shape)\n",
    "precursor.head()"
   ]
  },
  {
   "cell_type": "code",
   "execution_count": 18,
   "metadata": {
    "ExecuteTime": {
     "end_time": "2022-12-03T18:56:52.067638Z",
     "start_time": "2022-12-03T18:56:52.045066Z"
    }
   },
   "outputs": [
    {
     "data": {
      "text/html": [
       "<div>\n",
       "<style scoped>\n",
       "    .dataframe tbody tr th:only-of-type {\n",
       "        vertical-align: middle;\n",
       "    }\n",
       "\n",
       "    .dataframe tbody tr th {\n",
       "        vertical-align: top;\n",
       "    }\n",
       "\n",
       "    .dataframe thead th {\n",
       "        text-align: right;\n",
       "    }\n",
       "</style>\n",
       "<table border=\"1\" class=\"dataframe\">\n",
       "  <thead>\n",
       "    <tr style=\"text-align: right;\">\n",
       "      <th></th>\n",
       "      <th>data</th>\n",
       "      <th>hit_start</th>\n",
       "      <th>hit_end</th>\n",
       "      <th>hit</th>\n",
       "      <th>confidence</th>\n",
       "      <th>tag</th>\n",
       "    </tr>\n",
       "  </thead>\n",
       "  <tbody>\n",
       "    <tr>\n",
       "      <th>0</th>\n",
       "      <td>guggagcuccuaucauuccaaugaagggucuaccgaaggguuugug...</td>\n",
       "      <td>154</td>\n",
       "      <td>174</td>\n",
       "      <td>UUUGGAUUGAAGGGAGCUCUG</td>\n",
       "      <td>True</td>\n",
       "      <td>0</td>\n",
       "    </tr>\n",
       "    <tr>\n",
       "      <th>1</th>\n",
       "      <td>gagcuccuuucgguccaaaaagggguguugcugugggucgauugag...</td>\n",
       "      <td>230</td>\n",
       "      <td>250</td>\n",
       "      <td>UUUGGAUUGAAGGGAGCUCUG</td>\n",
       "      <td>True</td>\n",
       "      <td>1</td>\n",
       "    </tr>\n",
       "    <tr>\n",
       "      <th>2</th>\n",
       "      <td>agaggugaaaacaaugggauaugccuggcucccuguaugccacucg...</td>\n",
       "      <td>22</td>\n",
       "      <td>42</td>\n",
       "      <td>UGCCUGGCUCCCUGUAUGCCA</td>\n",
       "      <td>False</td>\n",
       "      <td>2</td>\n",
       "    </tr>\n",
       "    <tr>\n",
       "      <th>3</th>\n",
       "      <td>gguggagaagcagggcacgugcauccauuuccagcucggcauuccc...</td>\n",
       "      <td>3</td>\n",
       "      <td>23</td>\n",
       "      <td>UGGAGAAGCAGGGCACGUGCA</td>\n",
       "      <td>False</td>\n",
       "      <td>3</td>\n",
       "    </tr>\n",
       "    <tr>\n",
       "      <th>4</th>\n",
       "      <td>cugcccaagggaacgagugaagcugccagcaugaucuagcuccgag...</td>\n",
       "      <td>18</td>\n",
       "      <td>38</td>\n",
       "      <td>UGAAGCUGCCAGCAUGAUCUA</td>\n",
       "      <td>False</td>\n",
       "      <td>4</td>\n",
       "    </tr>\n",
       "    <tr>\n",
       "      <th>...</th>\n",
       "      <td>...</td>\n",
       "      <td>...</td>\n",
       "      <td>...</td>\n",
       "      <td>...</td>\n",
       "      <td>...</td>\n",
       "      <td>...</td>\n",
       "    </tr>\n",
       "    <tr>\n",
       "      <th>118</th>\n",
       "      <td>cggacgcagauucagugacauucccccgugacauucucggugacau...</td>\n",
       "      <td>43</td>\n",
       "      <td>60</td>\n",
       "      <td>ACAUUCAGUCAUUGACAU</td>\n",
       "      <td>False</td>\n",
       "      <td>118</td>\n",
       "    </tr>\n",
       "    <tr>\n",
       "      <th>119</th>\n",
       "      <td>uauaucuagacauagacuuuguucagauaauaguuacucccuccgu...</td>\n",
       "      <td>57</td>\n",
       "      <td>74</td>\n",
       "      <td>AAGAGAUUUUGAAGGGAU</td>\n",
       "      <td>False</td>\n",
       "      <td>119</td>\n",
       "    </tr>\n",
       "    <tr>\n",
       "      <th>120</th>\n",
       "      <td>cuacaugacaucgugacuucgcgguuuuagcuguaggacaccguau...</td>\n",
       "      <td>71</td>\n",
       "      <td>88</td>\n",
       "      <td>UGUCAAAAGUUGGAUAUU</td>\n",
       "      <td>False</td>\n",
       "      <td>120</td>\n",
       "    </tr>\n",
       "    <tr>\n",
       "      <th>121</th>\n",
       "      <td>guuaguuuaguuucacaaaaccacacuauugaugaauggauucacu...</td>\n",
       "      <td>71</td>\n",
       "      <td>90</td>\n",
       "      <td>CUUGGAUGAGAACAUGGCAU</td>\n",
       "      <td>False</td>\n",
       "      <td>121</td>\n",
       "    </tr>\n",
       "    <tr>\n",
       "      <th>122</th>\n",
       "      <td>acauauauccagauucauaguacuagaauaugucauaucuaguccu...</td>\n",
       "      <td>50</td>\n",
       "      <td>68</td>\n",
       "      <td>UUCGUUUUUUAUAGGAUGG</td>\n",
       "      <td>False</td>\n",
       "      <td>122</td>\n",
       "    </tr>\n",
       "  </tbody>\n",
       "</table>\n",
       "<p>123 rows × 6 columns</p>\n",
       "</div>"
      ],
      "text/plain": [
       "                                                  data  hit_start  hit_end  \\\n",
       "0    guggagcuccuaucauuccaaugaagggucuaccgaaggguuugug...        154      174   \n",
       "1    gagcuccuuucgguccaaaaagggguguugcugugggucgauugag...        230      250   \n",
       "2    agaggugaaaacaaugggauaugccuggcucccuguaugccacucg...         22       42   \n",
       "3    gguggagaagcagggcacgugcauccauuuccagcucggcauuccc...          3       23   \n",
       "4    cugcccaagggaacgagugaagcugccagcaugaucuagcuccgag...         18       38   \n",
       "..                                                 ...        ...      ...   \n",
       "118  cggacgcagauucagugacauucccccgugacauucucggugacau...         43       60   \n",
       "119  uauaucuagacauagacuuuguucagauaauaguuacucccuccgu...         57       74   \n",
       "120  cuacaugacaucgugacuucgcgguuuuagcuguaggacaccguau...         71       88   \n",
       "121  guuaguuuaguuucacaaaaccacacuauugaugaauggauucacu...         71       90   \n",
       "122  acauauauccagauucauaguacuagaauaugucauaucuaguccu...         50       68   \n",
       "\n",
       "                       hit  confidence  tag  \n",
       "0    UUUGGAUUGAAGGGAGCUCUG        True    0  \n",
       "1    UUUGGAUUGAAGGGAGCUCUG        True    1  \n",
       "2    UGCCUGGCUCCCUGUAUGCCA       False    2  \n",
       "3    UGGAGAAGCAGGGCACGUGCA       False    3  \n",
       "4    UGAAGCUGCCAGCAUGAUCUA       False    4  \n",
       "..                     ...         ...  ...  \n",
       "118     ACAUUCAGUCAUUGACAU       False  118  \n",
       "119     AAGAGAUUUUGAAGGGAU       False  119  \n",
       "120     UGUCAAAAGUUGGAUAUU       False  120  \n",
       "121   CUUGGAUGAGAACAUGGCAU       False  121  \n",
       "122    UUCGUUUUUUAUAGGAUGG       False  122  \n",
       "\n",
       "[123 rows x 6 columns]"
      ]
     },
     "execution_count": 18,
     "metadata": {},
     "output_type": "execute_result"
    }
   ],
   "source": [
    "precursor"
   ]
  },
  {
   "cell_type": "code",
   "execution_count": 19,
   "metadata": {
    "ExecuteTime": {
     "end_time": "2022-12-03T18:56:57.054391Z",
     "start_time": "2022-12-03T18:56:57.037927Z"
    }
   },
   "outputs": [],
   "source": [
    "precursor.to_csv(f'{temp_path}/precursor_info.csv')\n",
    "df_to_fasta(precursor, f'{temp_path}/mature_microRNA_queries.fasta')"
   ]
  },
  {
   "cell_type": "markdown",
   "metadata": {},
   "source": [
    "# Remove redundant"
   ]
  },
  {
   "cell_type": "markdown",
   "metadata": {},
   "source": [
    "## cdhit-est"
   ]
  },
  {
   "cell_type": "code",
   "execution_count": 20,
   "metadata": {
    "ExecuteTime": {
     "end_time": "2022-12-03T18:57:01.465676Z",
     "start_time": "2022-12-03T18:57:01.178114Z"
    },
    "code_folding": [],
    "scrolled": true
   },
   "outputs": [
    {
     "name": "stdout",
     "output_type": "stream",
     "text": [
      "================================================================\n",
      "Program: CD-HIT, V4.8.1 (+OpenMP), Oct 23 2021, 21:45:39\n",
      "Command: ./software/cdhit/cd-hit-est -i\n",
      "         ././Experiment/T.aestivum/positive/Temp/mature_microRNA_queries.fasta\n",
      "         -o\n",
      "         ././Experiment/T.aestivum/positive/Temp/NR_mature_microRNA_queries.fasta\n",
      "         -c 1 -r 0 -G 1 -g 1 -b 30 -l 10 -aL 0 -AL 99999999 -aS\n",
      "         0 -AS 99999999 -s 0 -S 0\n",
      "\n",
      "Started: Sat Dec  3 22:27:01 2022\n",
      "================================================================\n",
      "                            Output                              \n",
      "----------------------------------------------------------------\n",
      "total seq: 123\n",
      "longest and shortest : 426 and 54\n",
      "Total letters: 16541\n",
      "Sequences have been sorted\n",
      "\n",
      "Approximated minimal memory consumption:\n",
      "Sequence        : 0M\n",
      "Buffer          : 1 X 12M = 12M\n",
      "Table           : 1 X 16M = 16M\n",
      "Miscellaneous   : 0M\n",
      "Total           : 28M\n",
      "\n",
      "Table limit with the given memory limit:\n",
      "Max number of representatives: 3247413\n",
      "Max number of word counting entries: 96377554\n",
      "\n",
      "comparing sequences from          0  to        123\n",
      "\n",
      "      123  finished        120  clusters\n",
      "\n",
      "Approximated maximum memory consumption: 29M\n",
      "writing new database\n",
      "writing clustering information\n",
      "program completed !\n",
      "\n",
      "Total CPU time 0.06\n"
     ]
    }
   ],
   "source": [
    "!./software/cdhit/cd-hit-est -i ./{temp_path}/mature_microRNA_queries.fasta  -o ./{temp_path}/NR_mature_microRNA_queries.fasta \\\n",
    "    -c 1 -r 0 -G 1 -g 1 -b 30 -l 10 -aL 0 -AL 99999999 -aS 0 \\\n",
    "    -AS 99999999 -s 0 -S 0"
   ]
  },
  {
   "cell_type": "markdown",
   "metadata": {},
   "source": [
    "## reformat"
   ]
  },
  {
   "cell_type": "code",
   "execution_count": 21,
   "metadata": {
    "ExecuteTime": {
     "end_time": "2022-12-03T18:57:06.293826Z",
     "start_time": "2022-12-03T18:57:06.243350Z"
    },
    "scrolled": true
   },
   "outputs": [
    {
     "name": "stdout",
     "output_type": "stream",
     "text": [
      "(123, 2)\n"
     ]
    },
    {
     "data": {
      "text/html": [
       "<div>\n",
       "<style scoped>\n",
       "    .dataframe tbody tr th:only-of-type {\n",
       "        vertical-align: middle;\n",
       "    }\n",
       "\n",
       "    .dataframe tbody tr th {\n",
       "        vertical-align: top;\n",
       "    }\n",
       "\n",
       "    .dataframe thead th {\n",
       "        text-align: right;\n",
       "    }\n",
       "</style>\n",
       "<table border=\"1\" class=\"dataframe\">\n",
       "  <thead>\n",
       "    <tr style=\"text-align: right;\">\n",
       "      <th></th>\n",
       "      <th>seqid</th>\n",
       "      <th>cluster</th>\n",
       "    </tr>\n",
       "  </thead>\n",
       "  <tbody>\n",
       "    <tr>\n",
       "      <th>0</th>\n",
       "      <td>8</td>\n",
       "      <td>C0</td>\n",
       "    </tr>\n",
       "    <tr>\n",
       "      <th>1</th>\n",
       "      <td>84</td>\n",
       "      <td>C1</td>\n",
       "    </tr>\n",
       "  </tbody>\n",
       "</table>\n",
       "</div>"
      ],
      "text/plain": [
       "  seqid cluster\n",
       "0     8      C0\n",
       "1    84      C1"
      ]
     },
     "execution_count": 21,
     "metadata": {},
     "output_type": "execute_result"
    }
   ],
   "source": [
    "with open(f'./{temp_path}/NR_mature_microRNA_queries.fasta.clstr','r') as file:\n",
    "    text = file.read()\n",
    "lines = [line for line in text.split('\\n') if len(line) > 0]\n",
    "cluster = []\n",
    "seqid = []\n",
    "last_cluster = \"\"\n",
    "for l in lines:\n",
    "    if(l[0]=='>'):        \n",
    "        last_cluster = l.replace('>Cluster ',\"C\")\n",
    "    else:        \n",
    "        cluster.append(last_cluster)\n",
    "        seqid.append(l.split(', >')[1].split('...')[0])                \n",
    "seq2cluster = pd.DataFrame({'seqid': seqid,'cluster': cluster})\n",
    "print(seq2cluster.shape)\n",
    "seq2cluster.head(2)    "
   ]
  },
  {
   "cell_type": "code",
   "execution_count": 22,
   "metadata": {
    "ExecuteTime": {
     "end_time": "2022-12-03T18:57:12.756023Z",
     "start_time": "2022-12-03T18:57:12.719272Z"
    }
   },
   "outputs": [
    {
     "name": "stdout",
     "output_type": "stream",
     "text": [
      "(123, 4)\n"
     ]
    },
    {
     "data": {
      "text/html": [
       "<div>\n",
       "<style scoped>\n",
       "    .dataframe tbody tr th:only-of-type {\n",
       "        vertical-align: middle;\n",
       "    }\n",
       "\n",
       "    .dataframe tbody tr th {\n",
       "        vertical-align: top;\n",
       "    }\n",
       "\n",
       "    .dataframe thead th {\n",
       "        text-align: right;\n",
       "    }\n",
       "</style>\n",
       "<table border=\"1\" class=\"dataframe\">\n",
       "  <thead>\n",
       "    <tr style=\"text-align: right;\">\n",
       "      <th></th>\n",
       "      <th>cluster</th>\n",
       "      <th>seqid</th>\n",
       "      <th>tag</th>\n",
       "      <th>confidence</th>\n",
       "    </tr>\n",
       "  </thead>\n",
       "  <tbody>\n",
       "    <tr>\n",
       "      <th>0</th>\n",
       "      <td>C19</td>\n",
       "      <td>0</td>\n",
       "      <td>0</td>\n",
       "      <td>True</td>\n",
       "    </tr>\n",
       "    <tr>\n",
       "      <th>1</th>\n",
       "      <td>C7</td>\n",
       "      <td>1</td>\n",
       "      <td>1</td>\n",
       "      <td>True</td>\n",
       "    </tr>\n",
       "  </tbody>\n",
       "</table>\n",
       "</div>"
      ],
      "text/plain": [
       "  cluster seqid tag  confidence\n",
       "0     C19     0   0        True\n",
       "1      C7     1   1        True"
      ]
     },
     "metadata": {},
     "output_type": "display_data"
    }
   ],
   "source": [
    "df = fasta_to_df(f\"./{temp_path}/mature_microRNA_queries.fasta\")\n",
    "seq2cluster = pd.merge(df,seq2cluster,how=\"inner\",left_on='tag',right_on=\"seqid\")\n",
    "precursor['tag'] = precursor['tag'].apply(lambda x : str(x))\n",
    "seq2cluster = pd.merge(seq2cluster, precursor,how=\"inner\",left_on='seqid',right_on=\"tag\")[['cluster','seqid','tag_x', 'confidence']]\n",
    "seq2cluster.columns = ['cluster','seqid','tag', 'confidence']\n",
    "print(seq2cluster.shape)\n",
    "display(seq2cluster.head(2))\n",
    "seq2cluster.to_csv(f'./{temp_path}/seq2cluster.csv',index=False)"
   ]
  },
  {
   "cell_type": "code",
   "execution_count": 23,
   "metadata": {
    "ExecuteTime": {
     "end_time": "2022-12-03T18:57:14.739894Z",
     "start_time": "2022-12-03T18:57:14.723688Z"
    }
   },
   "outputs": [
    {
     "data": {
      "text/html": [
       "<div>\n",
       "<style scoped>\n",
       "    .dataframe tbody tr th:only-of-type {\n",
       "        vertical-align: middle;\n",
       "    }\n",
       "\n",
       "    .dataframe tbody tr th {\n",
       "        vertical-align: top;\n",
       "    }\n",
       "\n",
       "    .dataframe thead th {\n",
       "        text-align: right;\n",
       "    }\n",
       "</style>\n",
       "<table border=\"1\" class=\"dataframe\">\n",
       "  <thead>\n",
       "    <tr style=\"text-align: right;\">\n",
       "      <th></th>\n",
       "      <th>cluster</th>\n",
       "      <th>seqid</th>\n",
       "      <th>tag</th>\n",
       "      <th>confidence</th>\n",
       "    </tr>\n",
       "  </thead>\n",
       "  <tbody>\n",
       "    <tr>\n",
       "      <th>8</th>\n",
       "      <td>C0</td>\n",
       "      <td>8</td>\n",
       "      <td>8</td>\n",
       "      <td>False</td>\n",
       "    </tr>\n",
       "    <tr>\n",
       "      <th>84</th>\n",
       "      <td>C1</td>\n",
       "      <td>84</td>\n",
       "      <td>84</td>\n",
       "      <td>False</td>\n",
       "    </tr>\n",
       "  </tbody>\n",
       "</table>\n",
       "</div>"
      ],
      "text/plain": [
       "   cluster seqid tag  confidence\n",
       "8       C0     8   8       False\n",
       "84      C1    84  84       False"
      ]
     },
     "execution_count": 23,
     "metadata": {},
     "output_type": "execute_result"
    }
   ],
   "source": [
    "# todo: sorted first by cluster then by seqid\n",
    "seq2cluster.sort_values(\"cluster\").head(2)"
   ]
  },
  {
   "cell_type": "code",
   "execution_count": 24,
   "metadata": {
    "ExecuteTime": {
     "end_time": "2022-12-03T18:57:16.986368Z",
     "start_time": "2022-12-03T18:57:16.963064Z"
    }
   },
   "outputs": [
    {
     "name": "stdout",
     "output_type": "stream",
     "text": [
      "(120, 2)\n"
     ]
    }
   ],
   "source": [
    "df = fasta_to_df(f\"./{temp_path}/NR_mature_microRNA_queries.fasta\")\n",
    "df['tag'] = df['tag'].apply(lambda x : str(x))\n",
    "df = pd.merge(df,seq2cluster,how=\"inner\",left_on='tag',right_on=\"seqid\")[['cluster','data']]\n",
    "\n",
    "lines = []\n",
    "df.apply(lambda row: lines.append(f\">{row['cluster']}\\n{row['data']}\\n\"),axis=1)\n",
    "print(df.shape)\n",
    "with open(f'./{temp_path}/BLASTn_queries.fasta','w') as file:\n",
    "    file.write(''.join(lines))"
   ]
  },
  {
   "cell_type": "markdown",
   "metadata": {},
   "source": [
    "# BlastN"
   ]
  },
  {
   "cell_type": "code",
   "execution_count": 25,
   "metadata": {
    "ExecuteTime": {
     "end_time": "2022-12-03T19:02:24.458092Z",
     "start_time": "2022-12-03T18:57:18.538780Z"
    },
    "scrolled": true
   },
   "outputs": [
    {
     "name": "stdout",
     "output_type": "stream",
     "text": [
      "\n",
      "\n",
      "Building a new DB, current time: 12/03/2022 22:27:20\n",
      "New DB name:   /home/jupyter/plant_microRNA_prediction/Experiment/T.aestivum/positive/Temp/blastn_database\n",
      "New DB title:  ./Experiment/T.aestivum/GCF_018294505.1_IWGSC_CS_RefSeq_v2.1_genomic.fna\n",
      "Sequence type: Nucleotide\n",
      "Keep MBits: T\n",
      "Maximum file size: 1000000000B\n",
      "Adding sequences from FASTA; added 91589 sequences in 303.709 seconds.\n"
     ]
    }
   ],
   "source": [
    "!makeblastdb -in {input_genome_path} -dbtype nucl -out ./{temp_path}/blastn_database"
   ]
  },
  {
   "cell_type": "code",
   "execution_count": 26,
   "metadata": {
    "ExecuteTime": {
     "end_time": "2022-12-03T19:02:24.477639Z",
     "start_time": "2022-12-03T19:02:24.463211Z"
    }
   },
   "outputs": [],
   "source": [
    "header = 'qseqid sseqid qstart qend sstart send qseq sseq evalue bitscore score length pident nident mismatch positive gapopen gaps ppos frames qframe sframe sstrand qcovs qcovhsp qlen slen'"
   ]
  },
  {
   "cell_type": "code",
   "execution_count": 27,
   "metadata": {
    "ExecuteTime": {
     "end_time": "2022-12-03T19:50:34.929327Z",
     "start_time": "2022-12-03T19:02:24.482793Z"
    }
   },
   "outputs": [],
   "source": [
    "!blastn -query ./{temp_path}/BLASTn_queries.fasta \\\n",
    "        -out ./{temp_path}/BLASTn_result \\\n",
    "        -num_threads {mp.cpu_count()} \\\n",
    "        -db ./{temp_path}/blastn_database \\\n",
    "        -word_size 7 \\\n",
    "        -penalty -3 \\\n",
    "        -reward 2 \\\n",
    "        -gapopen 5 \\\n",
    "        -gapextend 2 \\\n",
    "        -outfmt '6 qseqid sseqid qstart qend sstart send qseq sseq evalue bitscore score length pident nident mismatch positive gapopen gaps ppos frames qframe sframe sstrand qcovs qcovhsp qlen slen'       "
   ]
  },
  {
   "cell_type": "code",
   "execution_count": 28,
   "metadata": {
    "ExecuteTime": {
     "end_time": "2022-12-03T19:51:02.626563Z",
     "start_time": "2022-12-03T19:50:35.035265Z"
    },
    "scrolled": true
   },
   "outputs": [
    {
     "name": "stdout",
     "output_type": "stream",
     "text": [
      "(2711698, 27)\n"
     ]
    },
    {
     "data": {
      "text/html": [
       "<div>\n",
       "<style scoped>\n",
       "    .dataframe tbody tr th:only-of-type {\n",
       "        vertical-align: middle;\n",
       "    }\n",
       "\n",
       "    .dataframe tbody tr th {\n",
       "        vertical-align: top;\n",
       "    }\n",
       "\n",
       "    .dataframe thead th {\n",
       "        text-align: right;\n",
       "    }\n",
       "</style>\n",
       "<table border=\"1\" class=\"dataframe\">\n",
       "  <thead>\n",
       "    <tr style=\"text-align: right;\">\n",
       "      <th></th>\n",
       "      <th>qseqid</th>\n",
       "      <th>sseqid</th>\n",
       "      <th>qstart</th>\n",
       "      <th>qend</th>\n",
       "      <th>sstart</th>\n",
       "      <th>send</th>\n",
       "      <th>qseq</th>\n",
       "      <th>sseq</th>\n",
       "      <th>evalue</th>\n",
       "      <th>bitscore</th>\n",
       "      <th>...</th>\n",
       "      <th>gaps</th>\n",
       "      <th>ppos</th>\n",
       "      <th>frames</th>\n",
       "      <th>qframe</th>\n",
       "      <th>sframe</th>\n",
       "      <th>sstrand</th>\n",
       "      <th>qcovs</th>\n",
       "      <th>qcovhsp</th>\n",
       "      <th>qlen</th>\n",
       "      <th>slen</th>\n",
       "    </tr>\n",
       "  </thead>\n",
       "  <tbody>\n",
       "    <tr>\n",
       "      <th>0</th>\n",
       "      <td>C19</td>\n",
       "      <td>NC_057802.1</td>\n",
       "      <td>1</td>\n",
       "      <td>177</td>\n",
       "      <td>6525140</td>\n",
       "      <td>6524964</td>\n",
       "      <td>GTGGAGCTCCTATCATTCCAATGAAGGGTCTACCGAAGGGTTTGTG...</td>\n",
       "      <td>GTGGAGCTCCTATCATTCCAATGAAGGGTCTACCGAAGGGTTTGTG...</td>\n",
       "      <td>7.030000e-85</td>\n",
       "      <td>320.0</td>\n",
       "      <td>...</td>\n",
       "      <td>0</td>\n",
       "      <td>100.00</td>\n",
       "      <td>1/-1</td>\n",
       "      <td>1</td>\n",
       "      <td>-1</td>\n",
       "      <td>minus</td>\n",
       "      <td>100</td>\n",
       "      <td>100</td>\n",
       "      <td>177</td>\n",
       "      <td>619618552</td>\n",
       "    </tr>\n",
       "    <tr>\n",
       "      <th>1</th>\n",
       "      <td>C19</td>\n",
       "      <td>NC_057801.1</td>\n",
       "      <td>1</td>\n",
       "      <td>177</td>\n",
       "      <td>12799326</td>\n",
       "      <td>12799150</td>\n",
       "      <td>GTGGAGCTCCTATCATTCCAATGAAGGGTCTACCG-AAGGGTTTGT...</td>\n",
       "      <td>GTGGAGCTCCTATCATTCCAATGAAGGGTCTACCGGAAGGGTTTGT...</td>\n",
       "      <td>4.150000e-75</td>\n",
       "      <td>288.0</td>\n",
       "      <td>...</td>\n",
       "      <td>2</td>\n",
       "      <td>96.63</td>\n",
       "      <td>1/-1</td>\n",
       "      <td>1</td>\n",
       "      <td>-1</td>\n",
       "      <td>minus</td>\n",
       "      <td>100</td>\n",
       "      <td>100</td>\n",
       "      <td>177</td>\n",
       "      <td>851934019</td>\n",
       "    </tr>\n",
       "  </tbody>\n",
       "</table>\n",
       "<p>2 rows × 27 columns</p>\n",
       "</div>"
      ],
      "text/plain": [
       "  qseqid       sseqid  qstart  qend    sstart      send  \\\n",
       "0    C19  NC_057802.1       1   177   6525140   6524964   \n",
       "1    C19  NC_057801.1       1   177  12799326  12799150   \n",
       "\n",
       "                                                qseq  \\\n",
       "0  GTGGAGCTCCTATCATTCCAATGAAGGGTCTACCGAAGGGTTTGTG...   \n",
       "1  GTGGAGCTCCTATCATTCCAATGAAGGGTCTACCG-AAGGGTTTGT...   \n",
       "\n",
       "                                                sseq        evalue  bitscore  \\\n",
       "0  GTGGAGCTCCTATCATTCCAATGAAGGGTCTACCGAAGGGTTTGTG...  7.030000e-85     320.0   \n",
       "1  GTGGAGCTCCTATCATTCCAATGAAGGGTCTACCGGAAGGGTTTGT...  4.150000e-75     288.0   \n",
       "\n",
       "   ...  gaps    ppos  frames  qframe  sframe  sstrand  qcovs  qcovhsp  qlen  \\\n",
       "0  ...     0  100.00    1/-1       1      -1    minus    100      100   177   \n",
       "1  ...     2   96.63    1/-1       1      -1    minus    100      100   177   \n",
       "\n",
       "        slen  \n",
       "0  619618552  \n",
       "1  851934019  \n",
       "\n",
       "[2 rows x 27 columns]"
      ]
     },
     "execution_count": 28,
     "metadata": {},
     "output_type": "execute_result"
    }
   ],
   "source": [
    "df_blastn = pd.read_csv(f'./{temp_path}/BLASTn_result', sep='\\t',header=None)\n",
    "df_blastn.columns = header.replace(\"  \",\" \").split(\" \")\n",
    "print(df_blastn.shape)\n",
    "df_blastn.head(2)"
   ]
  },
  {
   "cell_type": "code",
   "execution_count": 29,
   "metadata": {
    "ExecuteTime": {
     "end_time": "2022-12-03T19:51:03.635027Z",
     "start_time": "2022-12-03T19:51:02.659653Z"
    }
   },
   "outputs": [
    {
     "name": "stdout",
     "output_type": "stream",
     "text": [
      "(277, 28)\n"
     ]
    },
    {
     "data": {
      "text/html": [
       "<div>\n",
       "<style scoped>\n",
       "    .dataframe tbody tr th:only-of-type {\n",
       "        vertical-align: middle;\n",
       "    }\n",
       "\n",
       "    .dataframe tbody tr th {\n",
       "        vertical-align: top;\n",
       "    }\n",
       "\n",
       "    .dataframe thead th {\n",
       "        text-align: right;\n",
       "    }\n",
       "</style>\n",
       "<table border=\"1\" class=\"dataframe\">\n",
       "  <thead>\n",
       "    <tr style=\"text-align: right;\">\n",
       "      <th></th>\n",
       "      <th>qseqid</th>\n",
       "      <th>sseqid</th>\n",
       "      <th>qstart</th>\n",
       "      <th>qend</th>\n",
       "      <th>sstart</th>\n",
       "      <th>send</th>\n",
       "      <th>qseq</th>\n",
       "      <th>sseq</th>\n",
       "      <th>evalue</th>\n",
       "      <th>bitscore</th>\n",
       "      <th>...</th>\n",
       "      <th>ppos</th>\n",
       "      <th>frames</th>\n",
       "      <th>qframe</th>\n",
       "      <th>sframe</th>\n",
       "      <th>sstrand</th>\n",
       "      <th>qcovs</th>\n",
       "      <th>qcovhsp</th>\n",
       "      <th>qlen</th>\n",
       "      <th>slen</th>\n",
       "      <th>Nonconformity</th>\n",
       "    </tr>\n",
       "  </thead>\n",
       "  <tbody>\n",
       "    <tr>\n",
       "      <th>0</th>\n",
       "      <td>C19</td>\n",
       "      <td>NC_057802.1</td>\n",
       "      <td>1</td>\n",
       "      <td>177</td>\n",
       "      <td>6525140</td>\n",
       "      <td>6524964</td>\n",
       "      <td>GTGGAGCTCCTATCATTCCAATGAAGGGTCTACCGAAGGGTTTGTG...</td>\n",
       "      <td>GTGGAGCTCCTATCATTCCAATGAAGGGTCTACCGAAGGGTTTGTG...</td>\n",
       "      <td>7.030000e-85</td>\n",
       "      <td>320.0</td>\n",
       "      <td>...</td>\n",
       "      <td>100.0</td>\n",
       "      <td>1/-1</td>\n",
       "      <td>1</td>\n",
       "      <td>-1</td>\n",
       "      <td>minus</td>\n",
       "      <td>100</td>\n",
       "      <td>100</td>\n",
       "      <td>177</td>\n",
       "      <td>619618552</td>\n",
       "      <td>0</td>\n",
       "    </tr>\n",
       "    <tr>\n",
       "      <th>30</th>\n",
       "      <td>C33</td>\n",
       "      <td>NC_057807.1</td>\n",
       "      <td>1</td>\n",
       "      <td>147</td>\n",
       "      <td>601833629</td>\n",
       "      <td>601833775</td>\n",
       "      <td>AGAGGTGAAAACAATGGGATATGCCTGGCTCCCTGTATGCCACTCG...</td>\n",
       "      <td>AGAGGTGAAAACAATGGGATATGCCTGGCTCCCTGTATGCCACTCG...</td>\n",
       "      <td>1.080000e-68</td>\n",
       "      <td>266.0</td>\n",
       "      <td>...</td>\n",
       "      <td>100.0</td>\n",
       "      <td>1/1</td>\n",
       "      <td>1</td>\n",
       "      <td>1</td>\n",
       "      <td>plus</td>\n",
       "      <td>100</td>\n",
       "      <td>100</td>\n",
       "      <td>147</td>\n",
       "      <td>714697677</td>\n",
       "      <td>0</td>\n",
       "    </tr>\n",
       "  </tbody>\n",
       "</table>\n",
       "<p>2 rows × 28 columns</p>\n",
       "</div>"
      ],
      "text/plain": [
       "   qseqid       sseqid  qstart  qend     sstart       send  \\\n",
       "0     C19  NC_057802.1       1   177    6525140    6524964   \n",
       "30    C33  NC_057807.1       1   147  601833629  601833775   \n",
       "\n",
       "                                                 qseq  \\\n",
       "0   GTGGAGCTCCTATCATTCCAATGAAGGGTCTACCGAAGGGTTTGTG...   \n",
       "30  AGAGGTGAAAACAATGGGATATGCCTGGCTCCCTGTATGCCACTCG...   \n",
       "\n",
       "                                                 sseq        evalue  bitscore  \\\n",
       "0   GTGGAGCTCCTATCATTCCAATGAAGGGTCTACCGAAGGGTTTGTG...  7.030000e-85     320.0   \n",
       "30  AGAGGTGAAAACAATGGGATATGCCTGGCTCCCTGTATGCCACTCG...  1.080000e-68     266.0   \n",
       "\n",
       "    ...   ppos  frames  qframe  sframe  sstrand  qcovs  qcovhsp  qlen  \\\n",
       "0   ...  100.0    1/-1       1      -1    minus    100      100   177   \n",
       "30  ...  100.0     1/1       1       1     plus    100      100   147   \n",
       "\n",
       "         slen Nonconformity  \n",
       "0   619618552             0  \n",
       "30  714697677             0  \n",
       "\n",
       "[2 rows x 28 columns]"
      ]
     },
     "execution_count": 29,
     "metadata": {},
     "output_type": "execute_result"
    }
   ],
   "source": [
    "threshold = 0\n",
    "df_blastn['Nonconformity'] = df_blastn['qlen'] - (abs(df_blastn['qend'] - df_blastn['qstart']) + 1) + df_blastn['gaps'] + df_blastn['mismatch']\n",
    "df_blastn = df_blastn[df_blastn['Nonconformity'] <= threshold]\n",
    "print(df_blastn.shape)\n",
    "df_blastn.head(2)"
   ]
  },
  {
   "cell_type": "code",
   "execution_count": 30,
   "metadata": {
    "ExecuteTime": {
     "end_time": "2022-12-03T19:51:04.315736Z",
     "start_time": "2022-12-03T19:51:03.642832Z"
    }
   },
   "outputs": [],
   "source": [
    "# alignment length adjustment\n",
    "def blastn_adjust(row):\n",
    "    if(row['sstrand'] == \"plus\"):        \n",
    "        row['sstart'] = max(1, row['sstart'] - (row['qstart'] - 1))\n",
    "        row['send'] = min(row['slen'], row['send'] + (row['qlen'] - row['qend']))\n",
    "    if(row['sstrand'] == \"minus\"):        \n",
    "        row['send'] = max(1, row['send'] - (row['qstart'] - 1 ))\n",
    "        row['sstart'] = min(row['slen'], row['sstart'] + (row['qlen'] - row['qend'] ))\n",
    "    return row\n",
    "    \n",
    "df_blastn = df_blastn.apply(lambda row: blastn_adjust(row), axis=1)"
   ]
  },
  {
   "cell_type": "code",
   "execution_count": 31,
   "metadata": {
    "ExecuteTime": {
     "end_time": "2022-12-03T19:51:04.830861Z",
     "start_time": "2022-12-03T19:51:04.319061Z"
    },
    "scrolled": false
   },
   "outputs": [
    {
     "name": "stdout",
     "output_type": "stream",
     "text": [
      "(277, 28)\n"
     ]
    }
   ],
   "source": [
    "# remore redundancy and hold best one base of Nonconformity value\n",
    "df_blastn = df_blastn.sort_values([\"Nonconformity\", \"evalue\"], ascending = (True, True))\n",
    "df_blastn = df_blastn.drop_duplicates(subset=['sseqid','sstart', 'qseqid', 'send','sstrand'], keep='first')\n",
    "df_blastn.to_csv(f'./{temp_path}/filtered_out_blastn.csv')\n",
    "print(df_blastn.shape)"
   ]
  },
  {
   "cell_type": "code",
   "execution_count": 32,
   "metadata": {
    "ExecuteTime": {
     "end_time": "2022-12-03T19:51:05.140327Z",
     "start_time": "2022-12-03T19:51:04.837001Z"
    },
    "scrolled": true
   },
   "outputs": [
    {
     "name": "stdout",
     "output_type": "stream",
     "text": [
      "(306, 38)\n"
     ]
    },
    {
     "data": {
      "text/html": [
       "<div>\n",
       "<style scoped>\n",
       "    .dataframe tbody tr th:only-of-type {\n",
       "        vertical-align: middle;\n",
       "    }\n",
       "\n",
       "    .dataframe tbody tr th {\n",
       "        vertical-align: top;\n",
       "    }\n",
       "\n",
       "    .dataframe thead th {\n",
       "        text-align: right;\n",
       "    }\n",
       "</style>\n",
       "<table border=\"1\" class=\"dataframe\">\n",
       "  <thead>\n",
       "    <tr style=\"text-align: right;\">\n",
       "      <th></th>\n",
       "      <th>qseqid</th>\n",
       "      <th>sseqid</th>\n",
       "      <th>qstart</th>\n",
       "      <th>qend</th>\n",
       "      <th>sstart</th>\n",
       "      <th>send</th>\n",
       "      <th>qseq</th>\n",
       "      <th>sseq</th>\n",
       "      <th>evalue</th>\n",
       "      <th>bitscore</th>\n",
       "      <th>...</th>\n",
       "      <th>cluster</th>\n",
       "      <th>seqid</th>\n",
       "      <th>tag_x</th>\n",
       "      <th>confidence_x</th>\n",
       "      <th>data</th>\n",
       "      <th>hit_start</th>\n",
       "      <th>hit_end</th>\n",
       "      <th>hit</th>\n",
       "      <th>confidence_y</th>\n",
       "      <th>tag_y</th>\n",
       "    </tr>\n",
       "  </thead>\n",
       "  <tbody>\n",
       "    <tr>\n",
       "      <th>0</th>\n",
       "      <td>C1</td>\n",
       "      <td>NC_057802.1</td>\n",
       "      <td>1</td>\n",
       "      <td>344</td>\n",
       "      <td>577914993</td>\n",
       "      <td>577915336</td>\n",
       "      <td>TGCATTACATATAAAACCTTCAGCTATCCATCTCCATATCAGCCTG...</td>\n",
       "      <td>TGCATTACATATAAAACCTTCAGCTATCCATCTCCATATCAGCCTG...</td>\n",
       "      <td>3.320000e-175</td>\n",
       "      <td>621.0</td>\n",
       "      <td>...</td>\n",
       "      <td>C1</td>\n",
       "      <td>84</td>\n",
       "      <td>84</td>\n",
       "      <td>False</td>\n",
       "      <td>ugcauuacauauaaaaccuucagcuauccaucuccauaucagccug...</td>\n",
       "      <td>11</td>\n",
       "      <td>32</td>\n",
       "      <td>AUAAAACCUUCAGCUAUCCAUC</td>\n",
       "      <td>False</td>\n",
       "      <td>84</td>\n",
       "    </tr>\n",
       "    <tr>\n",
       "      <th>1</th>\n",
       "      <td>C3</td>\n",
       "      <td>NC_057807.1</td>\n",
       "      <td>1</td>\n",
       "      <td>295</td>\n",
       "      <td>168546905</td>\n",
       "      <td>168547199</td>\n",
       "      <td>ATAAGTACTCCCTCTGTTCCTAAATACTCCCTCCGTCCCAAAAATT...</td>\n",
       "      <td>ATAAGTACTCCCTCTGTTCCTAAATACTCCCTCCGTCCCAAAAATT...</td>\n",
       "      <td>1.120000e-148</td>\n",
       "      <td>533.0</td>\n",
       "      <td>...</td>\n",
       "      <td>C3</td>\n",
       "      <td>13</td>\n",
       "      <td>13</td>\n",
       "      <td>False</td>\n",
       "      <td>auaaguacucccucuguuccuaaauacucccuccgucccaaaaauu...</td>\n",
       "      <td>96</td>\n",
       "      <td>115</td>\n",
       "      <td>UAGAUACAUCCGUAUCUAGA</td>\n",
       "      <td>False</td>\n",
       "      <td>13</td>\n",
       "    </tr>\n",
       "    <tr>\n",
       "      <th>2</th>\n",
       "      <td>C3</td>\n",
       "      <td>NC_057807.1</td>\n",
       "      <td>1</td>\n",
       "      <td>295</td>\n",
       "      <td>332816689</td>\n",
       "      <td>332816395</td>\n",
       "      <td>ATAAGTACTCCCTCTGTTCCTAAATACTCCCTCCGTCCCAAAAATT...</td>\n",
       "      <td>ATAAGTACTCCCTCTGTTCCTAAATACTCCCTCCGTCCCAAAAATT...</td>\n",
       "      <td>1.120000e-148</td>\n",
       "      <td>533.0</td>\n",
       "      <td>...</td>\n",
       "      <td>C3</td>\n",
       "      <td>13</td>\n",
       "      <td>13</td>\n",
       "      <td>False</td>\n",
       "      <td>auaaguacucccucuguuccuaaauacucccuccgucccaaaaauu...</td>\n",
       "      <td>96</td>\n",
       "      <td>115</td>\n",
       "      <td>UAGAUACAUCCGUAUCUAGA</td>\n",
       "      <td>False</td>\n",
       "      <td>13</td>\n",
       "    </tr>\n",
       "    <tr>\n",
       "      <th>3</th>\n",
       "      <td>C3</td>\n",
       "      <td>NC_057804.1</td>\n",
       "      <td>1</td>\n",
       "      <td>295</td>\n",
       "      <td>590714470</td>\n",
       "      <td>590714764</td>\n",
       "      <td>ATAAGTACTCCCTCTGTTCCTAAATACTCCCTCCGTCCCAAAAATT...</td>\n",
       "      <td>ATAAGTACTCCCTCTGTTCCTAAATACTCCCTCCGTCCCAAAAATT...</td>\n",
       "      <td>1.120000e-148</td>\n",
       "      <td>533.0</td>\n",
       "      <td>...</td>\n",
       "      <td>C3</td>\n",
       "      <td>13</td>\n",
       "      <td>13</td>\n",
       "      <td>False</td>\n",
       "      <td>auaaguacucccucuguuccuaaauacucccuccgucccaaaaauu...</td>\n",
       "      <td>96</td>\n",
       "      <td>115</td>\n",
       "      <td>UAGAUACAUCCGUAUCUAGA</td>\n",
       "      <td>False</td>\n",
       "      <td>13</td>\n",
       "    </tr>\n",
       "    <tr>\n",
       "      <th>4</th>\n",
       "      <td>C4</td>\n",
       "      <td>NC_057804.1</td>\n",
       "      <td>1</td>\n",
       "      <td>280</td>\n",
       "      <td>635694439</td>\n",
       "      <td>635694160</td>\n",
       "      <td>CGGCCGCCATTCAGCCAGAAGAAGCAGCGAGCCAGCGGAGACCGGC...</td>\n",
       "      <td>CGGCCGCCATTCAGCCAGAAGAAGCAGCGAGCCAGCGGAGACCGGC...</td>\n",
       "      <td>1.460000e-140</td>\n",
       "      <td>506.0</td>\n",
       "      <td>...</td>\n",
       "      <td>C4</td>\n",
       "      <td>19</td>\n",
       "      <td>19</td>\n",
       "      <td>False</td>\n",
       "      <td>cggccgccauucagccagaagaagcagcgagccagcggagaccggc...</td>\n",
       "      <td>25</td>\n",
       "      <td>48</td>\n",
       "      <td>CAGCGAGCCAGCGGAGACCGGCAG</td>\n",
       "      <td>False</td>\n",
       "      <td>19</td>\n",
       "    </tr>\n",
       "  </tbody>\n",
       "</table>\n",
       "<p>5 rows × 38 columns</p>\n",
       "</div>"
      ],
      "text/plain": [
       "  qseqid       sseqid  qstart  qend     sstart       send  \\\n",
       "0     C1  NC_057802.1       1   344  577914993  577915336   \n",
       "1     C3  NC_057807.1       1   295  168546905  168547199   \n",
       "2     C3  NC_057807.1       1   295  332816689  332816395   \n",
       "3     C3  NC_057804.1       1   295  590714470  590714764   \n",
       "4     C4  NC_057804.1       1   280  635694439  635694160   \n",
       "\n",
       "                                                qseq  \\\n",
       "0  TGCATTACATATAAAACCTTCAGCTATCCATCTCCATATCAGCCTG...   \n",
       "1  ATAAGTACTCCCTCTGTTCCTAAATACTCCCTCCGTCCCAAAAATT...   \n",
       "2  ATAAGTACTCCCTCTGTTCCTAAATACTCCCTCCGTCCCAAAAATT...   \n",
       "3  ATAAGTACTCCCTCTGTTCCTAAATACTCCCTCCGTCCCAAAAATT...   \n",
       "4  CGGCCGCCATTCAGCCAGAAGAAGCAGCGAGCCAGCGGAGACCGGC...   \n",
       "\n",
       "                                                sseq         evalue  bitscore  \\\n",
       "0  TGCATTACATATAAAACCTTCAGCTATCCATCTCCATATCAGCCTG...  3.320000e-175     621.0   \n",
       "1  ATAAGTACTCCCTCTGTTCCTAAATACTCCCTCCGTCCCAAAAATT...  1.120000e-148     533.0   \n",
       "2  ATAAGTACTCCCTCTGTTCCTAAATACTCCCTCCGTCCCAAAAATT...  1.120000e-148     533.0   \n",
       "3  ATAAGTACTCCCTCTGTTCCTAAATACTCCCTCCGTCCCAAAAATT...  1.120000e-148     533.0   \n",
       "4  CGGCCGCCATTCAGCCAGAAGAAGCAGCGAGCCAGCGGAGACCGGC...  1.460000e-140     506.0   \n",
       "\n",
       "   ...  cluster  seqid  tag_x  confidence_x  \\\n",
       "0  ...       C1     84     84         False   \n",
       "1  ...       C3     13     13         False   \n",
       "2  ...       C3     13     13         False   \n",
       "3  ...       C3     13     13         False   \n",
       "4  ...       C4     19     19         False   \n",
       "\n",
       "                                                data  hit_start  hit_end  \\\n",
       "0  ugcauuacauauaaaaccuucagcuauccaucuccauaucagccug...         11       32   \n",
       "1  auaaguacucccucuguuccuaaauacucccuccgucccaaaaauu...         96      115   \n",
       "2  auaaguacucccucuguuccuaaauacucccuccgucccaaaaauu...         96      115   \n",
       "3  auaaguacucccucuguuccuaaauacucccuccgucccaaaaauu...         96      115   \n",
       "4  cggccgccauucagccagaagaagcagcgagccagcggagaccggc...         25       48   \n",
       "\n",
       "                        hit  confidence_y tag_y  \n",
       "0    AUAAAACCUUCAGCUAUCCAUC         False    84  \n",
       "1      UAGAUACAUCCGUAUCUAGA         False    13  \n",
       "2      UAGAUACAUCCGUAUCUAGA         False    13  \n",
       "3      UAGAUACAUCCGUAUCUAGA         False    13  \n",
       "4  CAGCGAGCCAGCGGAGACCGGCAG         False    19  \n",
       "\n",
       "[5 rows x 38 columns]"
      ]
     },
     "execution_count": 32,
     "metadata": {},
     "output_type": "execute_result"
    }
   ],
   "source": [
    "df_blastn = pd.merge(df_blastn, seq2cluster, how='inner', left_on='qseqid', right_on='cluster')\n",
    "df_blastn = pd.merge(df_blastn, precursor, how='inner', left_on='seqid', right_on='tag')\n",
    "print(df_blastn.shape)\n",
    "df_blastn.head()"
   ]
  },
  {
   "cell_type": "markdown",
   "metadata": {},
   "source": [
    "# Result of the blastn to bed file"
   ]
  },
  {
   "cell_type": "code",
   "execution_count": 33,
   "metadata": {
    "ExecuteTime": {
     "end_time": "2022-12-03T19:51:05.303570Z",
     "start_time": "2022-12-03T19:51:05.144500Z"
    }
   },
   "outputs": [
    {
     "name": "stderr",
     "output_type": "stream",
     "text": [
      "<ipython-input-33-3cfdabc28c3c>:3: SettingWithCopyWarning: \n",
      "A value is trying to be set on a copy of a slice from a DataFrame.\n",
      "Try using .loc[row_indexer,col_indexer] = value instead\n",
      "\n",
      "See the caveats in the documentation: https://pandas.pydata.org/pandas-docs/stable/user_guide/indexing.html#returning-a-view-versus-a-copy\n",
      "  df['ones'] = 1\n"
     ]
    },
    {
     "data": {
      "text/html": [
       "<div>\n",
       "<style scoped>\n",
       "    .dataframe tbody tr th:only-of-type {\n",
       "        vertical-align: middle;\n",
       "    }\n",
       "\n",
       "    .dataframe tbody tr th {\n",
       "        vertical-align: top;\n",
       "    }\n",
       "\n",
       "    .dataframe thead th {\n",
       "        text-align: right;\n",
       "    }\n",
       "</style>\n",
       "<table border=\"1\" class=\"dataframe\">\n",
       "  <thead>\n",
       "    <tr style=\"text-align: right;\">\n",
       "      <th></th>\n",
       "      <th>qseqid</th>\n",
       "      <th>sseqid</th>\n",
       "      <th>sstart</th>\n",
       "      <th>send</th>\n",
       "      <th>sstrand</th>\n",
       "      <th>slen</th>\n",
       "      <th>hit_start</th>\n",
       "      <th>hit_end</th>\n",
       "      <th>ones</th>\n",
       "    </tr>\n",
       "  </thead>\n",
       "  <tbody>\n",
       "    <tr>\n",
       "      <th>0</th>\n",
       "      <td>C1</td>\n",
       "      <td>NC_057802.1</td>\n",
       "      <td>577914993</td>\n",
       "      <td>577915336</td>\n",
       "      <td>plus</td>\n",
       "      <td>619618552</td>\n",
       "      <td>11</td>\n",
       "      <td>32</td>\n",
       "      <td>1</td>\n",
       "    </tr>\n",
       "    <tr>\n",
       "      <th>1</th>\n",
       "      <td>C3</td>\n",
       "      <td>NC_057807.1</td>\n",
       "      <td>168546905</td>\n",
       "      <td>168547199</td>\n",
       "      <td>plus</td>\n",
       "      <td>714697677</td>\n",
       "      <td>96</td>\n",
       "      <td>115</td>\n",
       "      <td>1</td>\n",
       "    </tr>\n",
       "  </tbody>\n",
       "</table>\n",
       "</div>"
      ],
      "text/plain": [
       "  qseqid       sseqid     sstart       send sstrand       slen  hit_start  \\\n",
       "0     C1  NC_057802.1  577914993  577915336    plus  619618552         11   \n",
       "1     C3  NC_057807.1  168546905  168547199    plus  714697677         96   \n",
       "\n",
       "   hit_end  ones  \n",
       "0       32     1  \n",
       "1      115     1  "
      ]
     },
     "execution_count": 33,
     "metadata": {},
     "output_type": "execute_result"
    }
   ],
   "source": [
    "flanking_value = 20\n",
    "df = df_blastn[['qseqid', 'sseqid', 'sstart', 'send', 'sstrand','slen', 'hit_start', 'hit_end']]\n",
    "df['ones'] = 1\n",
    "df.head(2)"
   ]
  },
  {
   "cell_type": "code",
   "execution_count": 34,
   "metadata": {
    "ExecuteTime": {
     "end_time": "2022-12-03T19:51:05.416544Z",
     "start_time": "2022-12-03T19:51:05.307397Z"
    }
   },
   "outputs": [],
   "source": [
    "def switch(row):\n",
    "    if(row['sstart'] > row['send']):        \n",
    "        temp = row['sstart']\n",
    "        row['sstart'] = row['send']\n",
    "        row['send'] = temp\n",
    "    return row\n",
    "df = df.apply(lambda row: switch(row), axis=1)"
   ]
  },
  {
   "cell_type": "code",
   "execution_count": 35,
   "metadata": {
    "ExecuteTime": {
     "end_time": "2022-12-03T19:51:05.464315Z",
     "start_time": "2022-12-03T19:51:05.420354Z"
    }
   },
   "outputs": [],
   "source": [
    "def convert(inp):\n",
    "    if(inp == \"plus\"):\n",
    "        return \"forward\"\n",
    "    if(inp == \"minus\"):\n",
    "        return \"reverse\"\n",
    "    raise Exception('Error, sstrand contains illegal word! only \"plus\" and \"minus\" are allowed')\n",
    "df['strand'] = df['sstrand'].apply(lambda x: convert(x))"
   ]
  },
  {
   "cell_type": "code",
   "execution_count": 36,
   "metadata": {
    "ExecuteTime": {
     "end_time": "2022-12-03T19:51:05.522445Z",
     "start_time": "2022-12-03T19:51:05.468114Z"
    }
   },
   "outputs": [],
   "source": [
    "def convert2sign(inp):\n",
    "    if(inp == \"plus\"):\n",
    "        return \"+\"\n",
    "    if(inp == \"minus\"):\n",
    "        return \"-\"\n",
    "    raise Exception('Error, sstrand contains illegal word! only \"plus\" and \"minus\" are allowed')\n",
    "df['sign'] = df['sstrand'].apply(lambda x: convert2sign(x))"
   ]
  },
  {
   "cell_type": "code",
   "execution_count": 37,
   "metadata": {
    "ExecuteTime": {
     "end_time": "2022-12-03T19:51:05.590054Z",
     "start_time": "2022-12-03T19:51:05.526305Z"
    }
   },
   "outputs": [],
   "source": [
    "df['hit_length'] = df.apply(lambda row: abs(row['send'] - row['sstart']) + 1 ,axis=1)"
   ]
  },
  {
   "cell_type": "markdown",
   "metadata": {},
   "source": [
    "## convert sstart and send from location to index (range)"
   ]
  },
  {
   "cell_type": "code",
   "execution_count": 38,
   "metadata": {
    "ExecuteTime": {
     "end_time": "2022-12-03T19:51:05.641487Z",
     "start_time": "2022-12-03T19:51:05.593882Z"
    }
   },
   "outputs": [],
   "source": [
    "df['sstart'] = df['sstart'].apply(lambda x: x - 1)"
   ]
  },
  {
   "cell_type": "code",
   "execution_count": 39,
   "metadata": {
    "ExecuteTime": {
     "end_time": "2022-12-03T19:51:05.690357Z",
     "start_time": "2022-12-03T19:51:05.644963Z"
    }
   },
   "outputs": [],
   "source": [
    "df['downstream_flanking'] = df['sstart'].apply(lambda x: flanking_value if x > flanking_value else x)"
   ]
  },
  {
   "cell_type": "code",
   "execution_count": 40,
   "metadata": {
    "ExecuteTime": {
     "end_time": "2022-12-03T19:51:05.719562Z",
     "start_time": "2022-12-03T19:51:05.693624Z"
    }
   },
   "outputs": [],
   "source": [
    "df['upstream_flanking'] = df.apply(lambda row: flanking_value if (row['send']+flanking_value) <= row['slen'] else row['slen'] - row['send'],axis=1)"
   ]
  },
  {
   "cell_type": "code",
   "execution_count": 41,
   "metadata": {
    "ExecuteTime": {
     "end_time": "2022-12-03T19:51:05.753778Z",
     "start_time": "2022-12-03T19:51:05.723168Z"
    }
   },
   "outputs": [],
   "source": [
    "df['hit_start'] = df.apply(lambda row: row['downstream_flanking'] + row['hit_start'] -1 if row['sign'] == \"+\" else row['upstream_flanking'] + row['hit_start'] -1, axis=1)\n",
    "df['hit_end'] = df.apply(lambda row: row['downstream_flanking'] + row['hit_end'] if row['sign'] == \"+\" else row['upstream_flanking'] + row['hit_end'],axis=1)"
   ]
  },
  {
   "cell_type": "code",
   "execution_count": 42,
   "metadata": {
    "ExecuteTime": {
     "end_time": "2022-12-03T19:51:05.774601Z",
     "start_time": "2022-12-03T19:51:05.756787Z"
    }
   },
   "outputs": [],
   "source": [
    "df['sstart'] = df['sstart'].apply(lambda x: max(x - flanking_value, 0))\n",
    "df['send'] = df.apply(lambda row: min(row['send'] + flanking_value , row['slen']),axis=1)"
   ]
  },
  {
   "cell_type": "code",
   "execution_count": 43,
   "metadata": {
    "ExecuteTime": {
     "end_time": "2022-12-03T19:51:05.885411Z",
     "start_time": "2022-12-03T19:51:05.778038Z"
    }
   },
   "outputs": [],
   "source": [
    "df['tag'] = df.apply(lambda row: f\">{row['sseqid']}:{row['sstart']}-{row['send']}({row['sign']})\",axis=1)\n",
    "df['reformated_tag'] = df['tag'].apply(lambda t: reformat(t))\n",
    "df[['tag', 'reformated_tag', 'hit_start', 'hit_end']].to_csv(f'./{temp_path}/hit_index_info.csv')#, index=False)"
   ]
  },
  {
   "cell_type": "code",
   "execution_count": 44,
   "metadata": {
    "ExecuteTime": {
     "end_time": "2022-12-03T19:51:05.997701Z",
     "start_time": "2022-12-03T19:51:05.888896Z"
    }
   },
   "outputs": [],
   "source": [
    "df['location_tag'] = df.apply(lambda row: f\">{row['sseqid']}|{row['sign']}|{row['sstart'] + 1}-{row['send']}|{row['hit_start']+1}-{row['hit_end']}\",axis=1)\n",
    "df[['location_tag','qseqid']].to_csv(f'./{temp_path}/pipe_seprated_location_list.csv',index=False,sep='\\t')"
   ]
  },
  {
   "cell_type": "code",
   "execution_count": 45,
   "metadata": {
    "ExecuteTime": {
     "end_time": "2022-12-03T19:51:06.010514Z",
     "start_time": "2022-12-03T19:51:06.000774Z"
    }
   },
   "outputs": [],
   "source": [
    "df[['sseqid','sstart','send','strand','ones', 'sign']].to_csv(f'./{temp_path}/extension_index.bed', \n",
    "        index=False, header=False, sep=\"\\t\")"
   ]
  },
  {
   "cell_type": "markdown",
   "metadata": {},
   "source": [
    "# Extention"
   ]
  },
  {
   "cell_type": "code",
   "execution_count": 46,
   "metadata": {
    "ExecuteTime": {
     "end_time": "2022-12-03T19:51:08.944023Z",
     "start_time": "2022-12-03T19:51:06.014392Z"
    }
   },
   "outputs": [
    {
     "name": "stdout",
     "output_type": "stream",
     "text": [
      "rm: cannot remove 'input_genome.fna.fai': No such file or directory\r\n"
     ]
    }
   ],
   "source": [
    "!bedtools getfasta -fi {input_genome_path} -fo ./{temp_path}/extended_original.txt -s -bed ./{temp_path}/extension_index.bed\n",
    "!rm input_genome.fna.fai"
   ]
  },
  {
   "cell_type": "markdown",
   "metadata": {},
   "source": [
    "# Convert hit region to upper case and other region to lower case"
   ]
  },
  {
   "cell_type": "code",
   "execution_count": 47,
   "metadata": {
    "ExecuteTime": {
     "end_time": "2022-12-03T19:51:08.995920Z",
     "start_time": "2022-12-03T19:51:08.953866Z"
    }
   },
   "outputs": [
    {
     "name": "stdout",
     "output_type": "stream",
     "text": [
      "(306, 5)\n"
     ]
    },
    {
     "data": {
      "text/html": [
       "<div>\n",
       "<style scoped>\n",
       "    .dataframe tbody tr th:only-of-type {\n",
       "        vertical-align: middle;\n",
       "    }\n",
       "\n",
       "    .dataframe tbody tr th {\n",
       "        vertical-align: top;\n",
       "    }\n",
       "\n",
       "    .dataframe thead th {\n",
       "        text-align: right;\n",
       "    }\n",
       "</style>\n",
       "<table border=\"1\" class=\"dataframe\">\n",
       "  <thead>\n",
       "    <tr style=\"text-align: right;\">\n",
       "      <th></th>\n",
       "      <th>Unnamed: 0</th>\n",
       "      <th>tag</th>\n",
       "      <th>reformated_tag</th>\n",
       "      <th>hit_start</th>\n",
       "      <th>hit_end</th>\n",
       "    </tr>\n",
       "  </thead>\n",
       "  <tbody>\n",
       "    <tr>\n",
       "      <th>0</th>\n",
       "      <td>0</td>\n",
       "      <td>NC_057802.1:577914972-577915356(+)</td>\n",
       "      <td>&gt;NC_0578021_577914972-577915356_+_</td>\n",
       "      <td>30</td>\n",
       "      <td>52</td>\n",
       "    </tr>\n",
       "    <tr>\n",
       "      <th>1</th>\n",
       "      <td>1</td>\n",
       "      <td>NC_057807.1:168546884-168547219(+)</td>\n",
       "      <td>&gt;NC_0578071_168546884-168547219_+_</td>\n",
       "      <td>115</td>\n",
       "      <td>135</td>\n",
       "    </tr>\n",
       "  </tbody>\n",
       "</table>\n",
       "</div>"
      ],
      "text/plain": [
       "   Unnamed: 0                                 tag  \\\n",
       "0           0  NC_057802.1:577914972-577915356(+)   \n",
       "1           1  NC_057807.1:168546884-168547219(+)   \n",
       "\n",
       "                       reformated_tag  hit_start  hit_end  \n",
       "0  >NC_0578021_577914972-577915356_+_         30       52  \n",
       "1  >NC_0578071_168546884-168547219_+_        115      135  "
      ]
     },
     "execution_count": 47,
     "metadata": {},
     "output_type": "execute_result"
    }
   ],
   "source": [
    "ext = fasta_to_df(f'./{temp_path}/extended_original.txt')\n",
    "info = pd.read_csv(f'./{temp_path}/hit_index_info.csv')\n",
    "info['tag'] = info['tag'].apply(lambda x: x[1:])\n",
    "print(info.shape)\n",
    "info.head(2)"
   ]
  },
  {
   "cell_type": "code",
   "execution_count": 48,
   "metadata": {
    "ExecuteTime": {
     "end_time": "2022-12-03T19:51:09.226332Z",
     "start_time": "2022-12-03T19:51:08.999328Z"
    }
   },
   "outputs": [],
   "source": [
    "ext = ext.sort_values(by=['tag']).reset_index()\n",
    "ext['help_tag'] = ext.apply(lambda r: r['tag'] + str(r.name),axis=1)\n",
    "del ext['tag']\n",
    "\n",
    "info = info.sort_values(by=['tag']).reset_index()\n",
    "info['help_tag'] = info.apply(lambda row: row['tag']+ str(row.name),axis=1)\n",
    "def redefined_tag(row):\n",
    "    tag = row['tag']\n",
    "    [sstart, send] = tag.split(':')[-1].split('(')[0].split('-')\n",
    "    sstart = int(sstart) + 1\n",
    "    sign = tag.split('(')[-1].split(')')[0]    \n",
    "    return f\"{tag.split(':')[0]}|{sign}|{sstart}-{send}|{row['hit_start']+1}-{row['hit_end']}\"\n",
    "info['tag'] = info.apply(lambda row: redefined_tag(row),axis=1)\n",
    "ext = pd.merge(ext,info,how='inner', on='help_tag')\n",
    "\n",
    "def emphasis_hit(row):\n",
    "    seq = list(row['data'].lower())            \n",
    "    s = row['hit_start']\n",
    "    e = row['hit_end']\n",
    "    seq[s:e] = list(''.join(seq[s:e]).upper())    \n",
    "    return ''.join(seq)\n",
    "    \n",
    "ext['data'] = ext.apply(lambda row: emphasis_hit(row),axis=1)\n",
    "ext = ext.drop_duplicates(subset=['data'], keep='first')\n",
    "df_to_fasta(ext[['tag','data']],f\"./{temp_path}/extended_modified.txt\")"
   ]
  },
  {
   "cell_type": "markdown",
   "metadata": {},
   "source": [
    "# Protein coding elimination [Diamond]"
   ]
  },
  {
   "cell_type": "code",
   "execution_count": 46,
   "metadata": {
    "ExecuteTime": {
     "end_time": "2022-08-02T17:22:23.006114Z",
     "start_time": "2022-08-02T17:22:23.002653Z"
    }
   },
   "outputs": [],
   "source": [
    "#!./diamond makedb --in ./NR/nr -d ./Temp/diamond_output"
   ]
  },
  {
   "cell_type": "code",
   "execution_count": 47,
   "metadata": {
    "ExecuteTime": {
     "end_time": "2022-08-02T17:22:23.012468Z",
     "start_time": "2022-08-02T17:22:23.009319Z"
    }
   },
   "outputs": [],
   "source": [
    "#!./diamond blastx -d ./Temp/diamond_output.dmnd \\\n",
    "#                  -q ./Temp/extended_modified.txt \\\n",
    "#                  -o ./Temp/diamond_matches.tsv \\\n",
    "#                  -p 22"
   ]
  },
  {
   "cell_type": "code",
   "execution_count": 48,
   "metadata": {
    "ExecuteTime": {
     "end_time": "2022-08-02T18:59:33.375039Z",
     "start_time": "2022-08-02T18:59:33.360302Z"
    }
   },
   "outputs": [],
   "source": [
    "dmn = pd.read_csv(f\"./{temp_path}/diamond_matches.tsv\", sep='\\t', header=None)\n",
    "dmn.columns = 'qseqid sseqid pident length mismatch gapopen qstart qend sstart send evalue bitscore'.split(' ')\n",
    "coding_seq = dmn['qseqid'].unique()"
   ]
  },
  {
   "cell_type": "code",
   "execution_count": 49,
   "metadata": {
    "ExecuteTime": {
     "end_time": "2022-08-02T18:59:34.299740Z",
     "start_time": "2022-08-02T18:59:34.280540Z"
    }
   },
   "outputs": [
    {
     "name": "stdout",
     "output_type": "stream",
     "text": [
      "total:      26\n",
      "non_coding: 16\n",
      "coding:     10\n"
     ]
    }
   ],
   "source": [
    "def clear(inp):\n",
    "    if(inp[:9] == \"reverse::\"):\n",
    "        return inp[9:]\n",
    "    if(inp[:9] == \"forward::\"):\n",
    "        return inp[9:]\n",
    "    return inp\n",
    "coding_seq = pd.Series(coding_seq).apply(lambda x : clear(x))\n",
    "\n",
    "ext = fasta_to_df(f'./{temp_path}/extended_modified.txt')\n",
    "print(f'total:      {ext.shape[0]}')\n",
    "non_coding = ext[~ext['tag'].isin(coding_seq)]\n",
    "print(f'non_coding: {non_coding.shape[0]}')\n",
    "df_to_fasta(non_coding,f'./{temp_path}/extended_modified_non_coding.txt')\n",
    "coding = ext[ext['tag'].isin(coding_seq)]\n",
    "print(f'coding:     {coding.shape[0]}')\n",
    "df_to_fasta(coding,f'./{temp_path}/extended_modified_coding.txt')"
   ]
  },
  {
   "cell_type": "markdown",
   "metadata": {
    "heading_collapsed": true
   },
   "source": [
    "# RNA 2d prediction"
   ]
  },
  {
   "cell_type": "markdown",
   "metadata": {
    "heading_collapsed": true,
    "hidden": true
   },
   "source": [
    "## Mfold"
   ]
  },
  {
   "cell_type": "code",
   "execution_count": 50,
   "metadata": {
    "ExecuteTime": {
     "end_time": "2022-08-02T19:00:18.448452Z",
     "start_time": "2022-08-02T19:00:18.138307Z"
    },
    "hidden": true
   },
   "outputs": [
    {
     "name": "stdout",
     "output_type": "stream",
     "text": [
      "rm: cannot remove './Experiment/H.vulgare/positive/Result/secondary_structure/mfold/': No such file or directory\r\n"
     ]
    }
   ],
   "source": [
    "counter = 0\n",
    "base = f\"{result_path}/secondary_structure/mfold/\"\n",
    "!rm -r {base}\n",
    "!mkdir -p {base}\n",
    "df = fasta_to_df(f'./{temp_path}/extended_modified_non_coding.txt')\n",
    "\n",
    "for index, row in df.iterrows():    \n",
    "    tag = reformat(row['tag'])\n",
    "    if(not os.path.exists(base + tag)):\n",
    "        os.makedirs(base + tag)            \n",
    "    with open(base + f\"{tag}/SEQ.FASTA\",'w') as file:\n",
    "        file.write(f\">{row['tag']}\\n{row['data']}\")\n",
    "    counter += 1    \n",
    "    #if(counter >= 100):\n",
    "      #  break"
   ]
  },
  {
   "cell_type": "code",
   "execution_count": 51,
   "metadata": {
    "ExecuteTime": {
     "end_time": "2022-08-02T19:00:30.858212Z",
     "start_time": "2022-08-02T19:00:18.579269Z"
    },
    "hidden": true
   },
   "outputs": [],
   "source": [
    "%%capture\n",
    "remove_lock = False\n",
    "def run_mfold(tag):\n",
    "    tag = reformat(tag)\n",
    "    %cd {base + tag}\n",
    "    !mfold  SEQ=\"SEQ.FASTA\" T=22\n",
    "    if(not remove_lock):\n",
    "        !find . -name \"SEQ*\" -not -name \"*.ct\" -not -name \"*.pdf\" -not -name \"*SEQ.FASTA\" -not -type d -delete\n",
    "    %cd {current_path}\n",
    "\n",
    "if __name__ == '__main__':        \n",
    "    pool = mp.Pool(mp.cpu_count() - 3)\n",
    "    pool.map(run_mfold, df['tag'])  "
   ]
  },
  {
   "cell_type": "markdown",
   "metadata": {
    "heading_collapsed": true,
    "hidden": true
   },
   "source": [
    "## Mxfold2"
   ]
  },
  {
   "cell_type": "code",
   "execution_count": null,
   "metadata": {
    "ExecuteTime": {
     "start_time": "2022-05-19T07:59:48.236Z"
    },
    "hidden": true
   },
   "outputs": [],
   "source": [
    "#!wget https://github.com/keio-bioinformatics/mxfold2/releases/download/v0.1.1/mxfold2-0.1.1.tar.gz\n",
    "#!pip3 install mxfold2-0.1.1.tar.gz\n",
    "#!rm mxfold2-0.1.1.tar.gz"
   ]
  },
  {
   "cell_type": "code",
   "execution_count": null,
   "metadata": {
    "ExecuteTime": {
     "start_time": "2022-05-19T07:59:48.239Z"
    },
    "hidden": true
   },
   "outputs": [],
   "source": [
    "!mxfold2 predict ./extended.txt > Result/secondary_structure/mxfold2_result.txt"
   ]
  },
  {
   "cell_type": "code",
   "execution_count": null,
   "metadata": {
    "ExecuteTime": {
     "start_time": "2022-05-19T07:59:48.242Z"
    },
    "hidden": true
   },
   "outputs": [],
   "source": [
    "df = fasta_to_df('./Result/secondary_structure/mxfold2_result.txt')\n",
    "df = df.apply(lambda row: bracket_row(row) , axis=1)\n",
    "df.head(2)"
   ]
  },
  {
   "cell_type": "code",
   "execution_count": null,
   "metadata": {
    "ExecuteTime": {
     "start_time": "2022-05-19T07:59:48.244Z"
    },
    "hidden": true
   },
   "outputs": [],
   "source": [
    "base = \"./Result/secondary_structure/mxfold2/\"\n",
    "!rm -r {base}\n",
    "!mkdir -p {base}\n",
    "for index, row in df.iterrows():    \n",
    "    if(not os.path.exists(base + reformat(row['tag']))):\n",
    "        os.makedirs(base + reformat(row['tag']))        \n",
    "    tag = reformat(row['tag'])\n",
    "    with open(base + f\"{tag}/{tag}.ct\",'w') as file:\n",
    "        bracket = row['bracket'].split(' ')[0]\n",
    "        deltaG = row['bracket'].split(' ')[1]\n",
    "        ct = bracket_to_ct(row['tag'], row['data'], bracket, deltaG)\n",
    "        file.write(ct)    "
   ]
  },
  {
   "cell_type": "markdown",
   "metadata": {
    "heading_collapsed": true,
    "hidden": true
   },
   "source": [
    "## Vienna package"
   ]
  },
  {
   "cell_type": "code",
   "execution_count": null,
   "metadata": {
    "ExecuteTime": {
     "start_time": "2022-05-19T07:59:48.248Z"
    },
    "hidden": true
   },
   "outputs": [],
   "source": [
    "#!wget https://www.tbi.univie.ac.at/RNA/download/ubuntu/ubuntu_20_04/viennarna_2.4.18-1_amd64.deb -O viennarna.deb\n",
    "#!sudo dpkg -i ./viennarna.deb\n",
    "#!sudo apt-get -f install\n",
    "#!rm viennarna.deb"
   ]
  },
  {
   "cell_type": "code",
   "execution_count": 96,
   "metadata": {
    "ExecuteTime": {
     "end_time": "2022-06-24T17:25:24.194794Z",
     "start_time": "2022-06-24T17:25:23.759029Z"
    },
    "hidden": true,
    "scrolled": false
   },
   "outputs": [
    {
     "name": "stdout",
     "output_type": "stream",
     "text": [
      "rm: cannot remove 'Experiment/A.thaliana/Result/secondary_structure/viennarna/': No such file or directory\n",
      "rm: cannot remove 'Experiment/A.thaliana/Result/secondary_structure/viennarna_result.txt': No such file or directory\n"
     ]
    }
   ],
   "source": [
    "base = f\"{result_path}/secondary_structure/viennarna/\"\n",
    "!rm -r {base}\n",
    "!rm {result_path}/secondary_structure/viennarna_result.txt\n",
    "!mkdir -p {base}"
   ]
  },
  {
   "cell_type": "code",
   "execution_count": 102,
   "metadata": {
    "ExecuteTime": {
     "end_time": "2022-06-24T17:33:38.865438Z",
     "start_time": "2022-06-24T17:28:49.490639Z"
    },
    "hidden": true
   },
   "outputs": [],
   "source": [
    "#%cd {base}\n",
    "!RNAfold --jobs=0 --infile {current_path}/{temp_path}/extended_modified.txt  --noPS -T 22 > {current_path}/{base}/viennarna_result.txt\n",
    "#%cd {current_path}"
   ]
  },
  {
   "cell_type": "code",
   "execution_count": 107,
   "metadata": {
    "ExecuteTime": {
     "end_time": "2022-06-24T17:38:58.749614Z",
     "start_time": "2022-06-24T17:38:38.726944Z"
    },
    "hidden": true
   },
   "outputs": [
    {
     "name": "stdout",
     "output_type": "stream",
     "text": [
      "(17793, 3)\n"
     ]
    },
    {
     "data": {
      "text/html": [
       "<div>\n",
       "<style scoped>\n",
       "    .dataframe tbody tr th:only-of-type {\n",
       "        vertical-align: middle;\n",
       "    }\n",
       "\n",
       "    .dataframe tbody tr th {\n",
       "        vertical-align: top;\n",
       "    }\n",
       "\n",
       "    .dataframe thead th {\n",
       "        text-align: right;\n",
       "    }\n",
       "</style>\n",
       "<table border=\"1\" class=\"dataframe\">\n",
       "  <thead>\n",
       "    <tr style=\"text-align: right;\">\n",
       "      <th></th>\n",
       "      <th>tag</th>\n",
       "      <th>data</th>\n",
       "      <th>bracket</th>\n",
       "    </tr>\n",
       "  </thead>\n",
       "  <tbody>\n",
       "    <tr>\n",
       "      <th>0</th>\n",
       "      <td>NC_000932.1|+|101567-101986|201-220</td>\n",
       "      <td>aaucccagggcucaacccuggacaggcgguggaaacuaccaagcuu...</td>\n",
       "      <td>.(((((((((.....)))))).((((((((((...)))))..))))...</td>\n",
       "    </tr>\n",
       "    <tr>\n",
       "      <th>1</th>\n",
       "      <td>NC_000932.1|+|105092-105512|201-221</td>\n",
       "      <td>aaucccgugugaaucagcaaggaccaccuugcaaggcuaaauacuc...</td>\n",
       "      <td>.....(((((......((((((....))))))....(((..(((((...</td>\n",
       "    </tr>\n",
       "  </tbody>\n",
       "</table>\n",
       "</div>"
      ],
      "text/plain": [
       "                                   tag  \\\n",
       "0  NC_000932.1|+|101567-101986|201-220   \n",
       "1  NC_000932.1|+|105092-105512|201-221   \n",
       "\n",
       "                                                data  \\\n",
       "0  aaucccagggcucaacccuggacaggcgguggaaacuaccaagcuu...   \n",
       "1  aaucccgugugaaucagcaaggaccaccuugcaaggcuaaauacuc...   \n",
       "\n",
       "                                             bracket  \n",
       "0  .(((((((((.....)))))).((((((((((...)))))..))))...  \n",
       "1  .....(((((......((((((....))))))....(((..(((((...  "
      ]
     },
     "execution_count": 107,
     "metadata": {},
     "output_type": "execute_result"
    }
   ],
   "source": [
    "df = fasta_to_df(f'{result_path}/secondary_structure/viennarna/viennarna_result.txt')\n",
    "df = df.apply(lambda row: bracket_row(row) , axis=1)\n",
    "print(df.shape)\n",
    "df.head(2)"
   ]
  },
  {
   "cell_type": "code",
   "execution_count": 108,
   "metadata": {
    "ExecuteTime": {
     "end_time": "2022-06-24T17:40:19.793270Z",
     "start_time": "2022-06-24T17:39:06.525797Z"
    },
    "hidden": true
   },
   "outputs": [],
   "source": [
    "for index, row in df.iterrows():    \n",
    "    tag = reformat(row['tag'])\n",
    "    if(not os.path.exists(base + tag)):\n",
    "        os.makedirs(base + tag)      \n",
    "    with open(base + f\"{tag}/{tag}.ct\",'w') as file:\n",
    "        bracket = row['bracket'].split(' ')[0]\n",
    "        deltaG = row['bracket'].split(' ')[1]\n",
    "        ct = bracket_to_ct(row['tag'], row['data'], bracket, deltaG, False)\n",
    "        file.write(ct)    "
   ]
  },
  {
   "cell_type": "code",
   "execution_count": 109,
   "metadata": {
    "ExecuteTime": {
     "end_time": "2022-06-24T17:40:23.866901Z",
     "start_time": "2022-06-24T17:40:23.833422Z"
    },
    "hidden": true
   },
   "outputs": [],
   "source": [
    "import glob\n",
    "for file in glob.glob(f\"{base}*.ps\"):    \n",
    "    f = file[len(base):-6] # _ss.ps \n",
    "    f = reformat(f)        \n",
    "    shutil.move(file, f\"{base}{f}/{f}.ps\")    "
   ]
  },
  {
   "cell_type": "markdown",
   "metadata": {
    "heading_collapsed": true,
    "hidden": true
   },
   "source": [
    "## ContraFold"
   ]
  },
  {
   "cell_type": "code",
   "execution_count": null,
   "metadata": {
    "ExecuteTime": {
     "start_time": "2022-05-19T07:59:48.266Z"
    },
    "hidden": true
   },
   "outputs": [],
   "source": [
    "#!wget http://contra.stanford.edu/contrafold/contrafold_v2_02.tar.gz\n",
    "#!tar -xvzf contrafold_v2_02.tar.gz && rm contrafold_v2_02.tar.gz\n",
    "#%cd contrafold/src\n",
    "#!make clean\n",
    "#!make \n",
    "# to file must changed to be complieable # utility.hpp and optimization.c++ files"
   ]
  },
  {
   "cell_type": "code",
   "execution_count": null,
   "metadata": {
    "ExecuteTime": {
     "start_time": "2022-05-19T07:59:48.269Z"
    },
    "hidden": true
   },
   "outputs": [],
   "source": [
    "counter = 0\n",
    "base = f\"./{result_path}/secondary_structure/contrafold/\"\n",
    "!rm -r {base}\n",
    "!mkdir -p {base}\n",
    "df = fasta_to_df(f'./{temp_path}/extended.txt')\n",
    "\n",
    "for index, row in tqdm(df.iterrows()):    \n",
    "    tag = reformat(row['tag'])\n",
    "    if(not os.path.exists(base + tag)):\n",
    "        os.makedirs(base + tag)            \n",
    "    with open(base + f\"{tag}/{tag}.FASTA\",'w') as file:\n",
    "        file.write(f\">{row['tag']}\\n{row['data']}\")\n",
    "    counter += 1        "
   ]
  },
  {
   "cell_type": "code",
   "execution_count": null,
   "metadata": {
    "ExecuteTime": {
     "start_time": "2022-05-19T07:59:48.272Z"
    },
    "hidden": true
   },
   "outputs": [],
   "source": [
    "def run_contrafold(tag):\n",
    "    tag = reformat(tag)    \n",
    "    %cd Software/contrafold/src\n",
    "    !./contrafold predict ../..{base[1:]}{tag}/{tag}.FASTA > ../..{base[1:]}{tag}/{tag}.dot\n",
    "    with open(f\"../..{base[1:]}{tag}/{tag}.dot\", 'r') as file:\n",
    "        text = file.read()\n",
    "    text = [l for l in text.split(\"\\n\") if l[:len(\">structure\")] != \">structure\"]    \n",
    "    header = text[0]\n",
    "    with open(f\"../..{base[1:]}{tag}/{tag}.dot\", 'w') as file:\n",
    "        file.write('\\n'.join(text[1:]))    \n",
    "    !RNAeval  ../..{base[1:]}{tag}/{tag}.dot -T 20 > ../..{base[1:]}{tag}/{tag}.dotdg    \n",
    "    with open(f\"../..{base[1:]}{tag}/{tag}.dotdg\", 'r') as file:\n",
    "        text = file.read()\n",
    "    with open(f\"../..{base[1:]}{tag}/{tag}.dot\", 'w') as file:\n",
    "        file.write(header + \"\\n\" + text)    \n",
    "    \n",
    "    df = fasta_to_df(f'../..{base[1:]}{tag}/{tag}.dot')\n",
    "    df = df.apply(lambda row: bracket_row(row) , axis=1)        \n",
    "    tag = reformat(df['tag'][0])\n",
    "    with open(f'../..{base[1:]}{tag}/{tag}.ct','w') as file:\n",
    "        bracket = df['bracket'][0].split(' ')[0]        \n",
    "        deltaG = df['bracket'][0].split(' ')[1]\n",
    "        ct = bracket_to_ct(df['tag'][0], df['data'][0], bracket, deltaG, False)\n",
    "        file.write(ct)    \n",
    "    #!rm ../..{base[1:]}{tag}/{tag}.dot\n",
    "    #!rm ../..{base[1:]}{tag}/{tag}.dotdg\n",
    "    !rm ../..{base[1:]}{tag}/{tag}.FASTA\n",
    "    %cd {current_path}        \n",
    "\n",
    "if __name__ == '__main__':        \n",
    "    pool = mp.Pool(mp.cpu_count() - 1)  \n",
    "    pool.map(run_contrafold, df['tag'].iloc[:10])"
   ]
  },
  {
   "cell_type": "code",
   "execution_count": null,
   "metadata": {
    "ExecuteTime": {
     "start_time": "2022-05-19T07:59:48.275Z"
    },
    "hidden": true
   },
   "outputs": [],
   "source": [
    "'''path = 'secondary_structure/contrafold/AMWY020333941_469-893_-_/AMWY020333941_469-893_-_.dot'\n",
    "!RNAeval  {path} -T 20 -v'''; "
   ]
  },
  {
   "cell_type": "markdown",
   "metadata": {},
   "source": [
    "# CTAnalizer"
   ]
  },
  {
   "cell_type": "code",
   "execution_count": 21,
   "metadata": {
    "ExecuteTime": {
     "end_time": "2022-11-29T17:41:32.583188Z",
     "start_time": "2022-11-29T17:41:32.458157Z"
    }
   },
   "outputs": [
    {
     "name": "stdout",
     "output_type": "stream",
     "text": [
      "(204, 2)\n"
     ]
    }
   ],
   "source": [
    "# only select those not ran before\n",
    "ss_method = \"mfold\"\n",
    "base = f\"{result_path}/secondary_structure/{ss_method}/\"\n",
    "df = fasta_to_df(f'./{temp_path}/extended_modified_non_coding.txt')\n",
    "index_list =[]\n",
    "for index, row in df.iterrows():\n",
    "    tag = reformat(row['tag']) \n",
    "    if(len(glob.glob(f'{base + tag}/*.ct')) != 0):\n",
    "        index_list.append(index)\n",
    "df = df.iloc[index_list,:]\n",
    "print(df.shape)"
   ]
  },
  {
   "cell_type": "code",
   "execution_count": 22,
   "metadata": {
    "ExecuteTime": {
     "end_time": "2022-11-29T17:41:33.310137Z",
     "start_time": "2022-11-29T17:41:33.289407Z"
    }
   },
   "outputs": [],
   "source": [
    "def run(tag, path, extra):             \n",
    "    return get_row(tag, path,extra)\n",
    "    try:\n",
    "        return get_row(tag, path,extra)\n",
    "    except Exception as e:\n",
    "        print(str(e), tag)                \n",
    "        return pd.Series()\n",
    "        \n",
    "def get_df_by_tag(tag , extra=0):           \n",
    "    ct_files = glob.glob(f'{base}{reformat(tag)}/*.ct')    \n",
    "    ct_files = [i for i in ct_files if i[-6:] != 'SEQ.ct']\n",
    "    return pd.Series(ct_files).apply(lambda path: run(tag, path,extra))    "
   ]
  },
  {
   "cell_type": "markdown",
   "metadata": {},
   "source": [
    "# Apply on current data"
   ]
  },
  {
   "cell_type": "code",
   "execution_count": 23,
   "metadata": {
    "ExecuteTime": {
     "end_time": "2022-11-29T17:41:34.206216Z",
     "start_time": "2022-11-29T17:41:33.992231Z"
    }
   },
   "outputs": [],
   "source": [
    "seq2cluster = pd.read_csv(f\"{temp_path}/seq2cluster.csv\")\n",
    "seq2cluster['tag'] = seq2cluster['tag'].apply(lambda x: str(x))\n",
    "seq2cluster['tag'] = seq2cluster.groupby(['cluster'])['tag'].transform(lambda x: ','.join(x))\n",
    "seq2cluster['seqid'] = seq2cluster['seqid'].apply(lambda x: str(x))\n",
    "seq2cluster['seqid'] = seq2cluster.groupby(['cluster'])['seqid'].transform(lambda x: ','.join(x))\n",
    "seq2cluster = seq2cluster.drop_duplicates()\n",
    "tag2cluster = pd.read_csv(f'./{temp_path}/pipe_seprated_location_list.csv',sep='\\t')\n",
    "tag2cluster['location_tag'] = tag2cluster['location_tag'].apply(lambda x : x[1:])\n",
    "data = pd.merge(seq2cluster,tag2cluster,how='inner', left_on='cluster', right_on='qseqid')\n",
    "data['Reference miRNA cluster'] = data['cluster']\n",
    "data['Reference miRNA IDs'] = data['seqid']\n",
    "data['Reference miRNA IDs and species'] = data['tag']\n",
    "data = data[['location_tag','Reference miRNA cluster', 'Reference miRNA IDs', 'Reference miRNA IDs and species','confidence']]"
   ]
  },
  {
   "cell_type": "code",
   "execution_count": 24,
   "metadata": {
    "ExecuteTime": {
     "end_time": "2022-11-29T17:41:34.304077Z",
     "start_time": "2022-11-29T17:41:34.283150Z"
    },
    "code_folding": []
   },
   "outputs": [],
   "source": [
    "rcols_ref = ['Reference miRNA cluster',\n",
    "             'Reference miRNA IDs',\n",
    "             'Reference miRNA IDs and species']\n",
    "rcols_boi = ['boi seq', 'boi name', 'boi dotbracket']\n",
    "\n",
    "rcols = [*rcols_ref,\n",
    "         *rcols_boi]\n",
    "\n",
    "rcols_dg = [*rcols, 'delta G']\n",
    "\n",
    "def selection(row):        \n",
    "    global repeted\n",
    "    tuple_row = tuple(row)            \n",
    "    if(tuple_row not in repeted):\n",
    "        repeted[tuple_row] = row.name\n",
    "        return True\n",
    "    return False\n",
    "\n",
    "def boi_selection(row):    \n",
    "    global repeted_boi        \n",
    "    tuple_row_boi = tuple(row[rcols_boi])\n",
    "    dg = row['delta G']\n",
    "    if(tuple_row_boi not in repeted_boi):\n",
    "        repeted_boi[tuple_row_boi] = { \n",
    "            \"counter\": 1,\n",
    "            \"dg\": dg,\n",
    "            \"ref clusters\": row['Reference miRNA cluster'],\n",
    "            \"ref ids\": row['Reference miRNA IDs'],\n",
    "            \"ref species\": row['Reference miRNA IDs and species'],\n",
    "            \"lock\": False\n",
    "        }\n",
    "    else:            \n",
    "        value =  repeted_boi[tuple_row_boi]\n",
    "        value['counter'] += 1\n",
    "        value['dg'] = min(value['dg'] , dg)\n",
    "        value['ref clusters'] += \",\" + row['Reference miRNA cluster']\n",
    "        value['ref ids'] += \",\" + row['Reference miRNA IDs']\n",
    "        value['ref species'] += \",\" +  row['Reference miRNA IDs and species']                \n",
    "        repeted_boi[tuple_row_boi] = value        "
   ]
  },
  {
   "cell_type": "code",
   "execution_count": 25,
   "metadata": {
    "ExecuteTime": {
     "end_time": "2022-11-29T17:41:59.341135Z",
     "start_time": "2022-11-29T17:41:34.507647Z"
    },
    "scrolled": false
   },
   "outputs": [
    {
     "data": {
      "application/vnd.jupyter.widget-view+json": {
       "model_id": "34d6d331bd994aad8d7893dee60ca99c",
       "version_major": 2,
       "version_minor": 0
      },
      "text/plain": [
       "  0%|          | 0/1 [00:00<?, ?it/s]"
      ]
     },
     "metadata": {},
     "output_type": "display_data"
    },
    {
     "data": {
      "application/vnd.jupyter.widget-view+json": {
       "model_id": "7bd196bb0fa448db873cc52b5910dd9b",
       "version_major": 2,
       "version_minor": 0
      },
      "text/plain": [
       "  0%|          | 0/204 [00:00<?, ?it/s]"
      ]
     },
     "metadata": {},
     "output_type": "display_data"
    }
   ],
   "source": [
    "!rm ./{result_path}/ct_analizer.csv\n",
    "chunksize = 1 * (10 ** 4)\n",
    "max_workers = mp.cpu_count() - 4\n",
    "num_terminal = 5 # acceptable_terminal_structures\n",
    "\n",
    "repeted = {}\n",
    "repeted_boi = {}\n",
    "header = True\n",
    "orders = None\n",
    "arr = np.array_split(df['tag'], max(df['tag'].shape[0]//chunksize , 1))\n",
    "for chunk in tqdm(arr):\n",
    "    dfs = []\n",
    "    for row in process_map(get_df_by_tag , chunk, tqdm_class=tqdm, max_workers=max_workers, chunksize=5):        \n",
    "        dfs.append(row)\n",
    "    chunk = pd.concat(dfs,axis=0)\n",
    "    chunk = pd.merge(data, chunk, how='right', left_on = 'location_tag', right_on ='seq name')\n",
    "    del chunk['location_tag']\n",
    "    if(header):\n",
    "        orders = chunk.columns\n",
    "    for col in orders:\n",
    "        if(col not in chunk.columns):\n",
    "            chunk[col] = np.nan            \n",
    "        \n",
    "    for col in chunk.columns:\n",
    "        if(col not in orders ):\n",
    "            print(f\"Error in {col}\")        \n",
    "    chunk = chunk.reindex(columns=orders)\n",
    "    chunk = chunk.replace(np.nan, '-').replace('', '-')                    \n",
    "    # delete repeated\n",
    "    selected = chunk[rcols].apply(lambda row: selection(row), axis=1)\n",
    "    chunk = chunk[selected]\n",
    "    \n",
    "    # cluster refs\n",
    "    chunk[rcols_dg].apply(lambda row: boi_selection(row), axis=1)        \n",
    "    chunk.to_csv(f\"./{result_path}/ct_analizer.csv\", header=header, mode='a', index=False)    \n",
    "    header = False"
   ]
  },
  {
   "cell_type": "code",
   "execution_count": 26,
   "metadata": {
    "ExecuteTime": {
     "end_time": "2022-11-29T17:42:02.494378Z",
     "start_time": "2022-11-29T17:41:59.348100Z"
    },
    "scrolled": true
   },
   "outputs": [
    {
     "data": {
      "application/vnd.jupyter.widget-view+json": {
       "model_id": "fc8013ecc9604c0eb207f1dfa14165e6",
       "version_major": 2,
       "version_minor": 0
      },
      "text/plain": [
       "0it [00:00, ?it/s]"
      ]
     },
     "metadata": {},
     "output_type": "display_data"
    }
   ],
   "source": [
    "!rm ./{result_path}/ct_analizer_clustered.csv\n",
    "def isKeepCluster(row):\n",
    "    global repeted_boi    \n",
    "    dg = row['delta G']    \n",
    "    if(row[\"boi name\"] == \"-\"):\n",
    "        return False\n",
    "    tuple_row_boi = tuple(row[rcols_boi])    \n",
    "    value = repeted_boi[tuple_row_boi]\n",
    "    if(value['counter'] == 1):\n",
    "        return True\n",
    "    if(value['dg'] != dg):        \n",
    "        return False\n",
    "    if(value['lock']):\n",
    "        return False\n",
    "    value['lock'] = True\n",
    "    repeted_boi[tuple_row_boi] = value\n",
    "    return True\n",
    "\n",
    "\n",
    "def makeCluster(row):            \n",
    "    tuple_row_boi = tuple(row[rcols_boi])    \n",
    "    value = repeted_boi[tuple_row_boi]\n",
    "    if(value['counter'] != 1):\n",
    "        for ref_c in ['ref clusters', 'ref ids', 'ref species']:\n",
    "            value[ref_c] = value[ref_c].replace(' ,', ',').replace(', ', ',')                        \n",
    "            value[ref_c] = value[ref_c].split(',')\n",
    "            value[ref_c] = set(value[ref_c])\n",
    "            value[ref_c] = \", \".join(value[ref_c])                    \n",
    "        row['Reference miRNA cluster'] = value[\"ref clusters\"]\n",
    "        row['Reference miRNA IDs'] = value[\"ref ids\"]\n",
    "        row['Reference miRNA IDs and species'] = value[\"ref species\"]\n",
    "    return row\n",
    "\n",
    "\n",
    "header = True\n",
    "for chunk in tqdm(pd.read_csv(f\"./{result_path}/ct_analizer.csv\", chunksize=10 ** 5)):\n",
    "    chunk = chunk[chunk[rcols_dg].apply(lambda row:  isKeepCluster(row), axis=1)]\n",
    "    chunk = chunk.apply(lambda row : makeCluster(row), axis=1)\n",
    "    chunk.to_csv(f\"./{result_path}/ct_analizer_clustered.csv\", mode='a', index=False)\n",
    "    header = False"
   ]
  },
  {
   "cell_type": "markdown",
   "metadata": {},
   "source": [
    "# Filters"
   ]
  },
  {
   "cell_type": "code",
   "execution_count": 27,
   "metadata": {
    "ExecuteTime": {
     "end_time": "2022-11-29T17:42:03.238549Z",
     "start_time": "2022-11-29T17:42:02.504909Z"
    }
   },
   "outputs": [
    {
     "name": "stderr",
     "output_type": "stream",
     "text": [
      "1it [00:00,  1.91it/s]\n"
     ]
    }
   ],
   "source": [
    "!rm ./{result_path}/result_level1_filter.csv\n",
    "filter_run(input_file=  f\"./{result_path}/ct_analizer_clustered.csv\",\n",
    "            output_file= f\"./{result_path}/result_level1_filter.csv\")"
   ]
  },
  {
   "cell_type": "code",
   "execution_count": 28,
   "metadata": {
    "ExecuteTime": {
     "end_time": "2022-11-29T17:42:03.475259Z",
     "start_time": "2022-11-29T17:42:03.250083Z"
    }
   },
   "outputs": [
    {
     "data": {
      "text/plain": [
       "(625, 183)"
      ]
     },
     "execution_count": 28,
     "metadata": {},
     "output_type": "execute_result"
    }
   ],
   "source": [
    "pd.read_csv(f\"./{result_path}/result_level1_filter.csv\").shape"
   ]
  },
  {
   "cell_type": "code",
   "execution_count": null,
   "metadata": {},
   "outputs": [],
   "source": []
  }
 ],
 "metadata": {
  "hide_input": false,
  "kernelspec": {
   "display_name": "Python 3",
   "language": "python",
   "name": "python3"
  },
  "language_info": {
   "codemirror_mode": {
    "name": "ipython",
    "version": 3
   },
   "file_extension": ".py",
   "mimetype": "text/x-python",
   "name": "python",
   "nbconvert_exporter": "python",
   "pygments_lexer": "ipython3",
   "version": "3.8.10"
  },
  "varInspector": {
   "cols": {
    "lenName": 16,
    "lenType": 16,
    "lenVar": 40
   },
   "kernels_config": {
    "python": {
     "delete_cmd_postfix": "",
     "delete_cmd_prefix": "del ",
     "library": "var_list.py",
     "varRefreshCmd": "print(var_dic_list())"
    },
    "r": {
     "delete_cmd_postfix": ") ",
     "delete_cmd_prefix": "rm(",
     "library": "var_list.r",
     "varRefreshCmd": "cat(var_dic_list()) "
    }
   },
   "types_to_exclude": [
    "module",
    "function",
    "builtin_function_or_method",
    "instance",
    "_Feature"
   ],
   "window_display": false
  }
 },
 "nbformat": 4,
 "nbformat_minor": 4
}
