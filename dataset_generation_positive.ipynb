{
 "cells": [
  {
   "cell_type": "markdown",
   "metadata": {
    "ExecuteTime": {
     "end_time": "2022-06-15T21:49:38.290957Z",
     "start_time": "2022-06-15T21:49:38.286712Z"
    }
   },
   "source": [
    "# Config"
   ]
  },
  {
   "cell_type": "code",
   "execution_count": 1,
   "metadata": {
    "ExecuteTime": {
     "end_time": "2022-07-15T11:03:04.785916Z",
     "start_time": "2022-07-15T11:03:04.780481Z"
    }
   },
   "outputs": [],
   "source": [
    "experiment = \"O.sativa_positive\"\n",
    "input_genome_name = \"GCF_001433935.1.fna\"\n",
    "\n",
    "experiment_dir = \"./Experiment\"\n",
    "\n",
    "input_genome_path = f'{experiment_dir}/{experiment}/{input_genome_name}'\n",
    "\n",
    "temp_path = f\"{experiment_dir}/{experiment}/Temp\"\n",
    "result_path = f\"{experiment_dir}/{experiment}/Result\""
   ]
  },
  {
   "cell_type": "markdown",
   "metadata": {
    "heading_collapsed": true
   },
   "source": [
    "# Common"
   ]
  },
  {
   "cell_type": "code",
   "execution_count": 2,
   "metadata": {
    "ExecuteTime": {
     "end_time": "2022-07-15T11:03:06.682669Z",
     "start_time": "2022-07-15T11:03:05.532360Z"
    },
    "hidden": true
   },
   "outputs": [],
   "source": [
    "import json\n",
    "import time\n",
    "from subprocess import Popen, PIPE, STDOUT\n",
    "import math\n",
    "import numpy as np\n",
    "import pandas as pd\n",
    "import hashlib\n",
    "import requests\n",
    "import os, sys, subprocess\n",
    "from tqdm.contrib.concurrent import process_map\n",
    "from tqdm.notebook import tqdm\n",
    "tqdm.pandas()\n",
    "import multiprocessing as mp\n",
    "import shutil\n",
    "import urllib.parse\n",
    "import glob\n",
    "import os\n",
    "import sys\n",
    "import networkx\n",
    "from networkx.algorithms.clique import find_cliques as maximal_cliques\n",
    "from ast import literal_eval\n",
    "if sys.version_info[0] < 3: \n",
    "    from StringIO import StringIO\n",
    "else:\n",
    "    from io import StringIO\n",
    "sys.path.append(\"./src/\")\n",
    "from ct_analizer import get_row\n",
    "from filter1 import filter1_run\n",
    "from filter2 import filter2\n",
    "from utils import adjust, bracket_to_ct, fasta_to_df, df_to_fasta,reformat, reformatCT,get_ct_data, ct2dot_bracket, is_nested"
   ]
  },
  {
   "cell_type": "code",
   "execution_count": 3,
   "metadata": {
    "ExecuteTime": {
     "end_time": "2022-07-15T11:03:06.691378Z",
     "start_time": "2022-07-15T11:03:06.686091Z"
    },
    "hidden": true
   },
   "outputs": [],
   "source": [
    "if(not os.path.exists(temp_path)):\n",
    "    os.mkdir(temp_path)\n",
    "    \n",
    "if(not os.path.exists(result_path)):\n",
    "    os.mkdir(result_path)\n",
    "    \n",
    "current_path = os.getcwd()"
   ]
  },
  {
   "cell_type": "code",
   "execution_count": 4,
   "metadata": {
    "ExecuteTime": {
     "end_time": "2022-07-15T11:03:06.701057Z",
     "start_time": "2022-07-15T11:03:06.695580Z"
    },
    "hidden": true
   },
   "outputs": [],
   "source": [
    "def bracket_row(row):    \n",
    "    s = row['data']\n",
    "    index = min(s.find('.'), s.find('('))\n",
    "    data = row['data']\n",
    "    row['data'] = data[0:index]\n",
    "    row['bracket'] = data[index:]\n",
    "    return row"
   ]
  },
  {
   "cell_type": "code",
   "execution_count": 5,
   "metadata": {
    "ExecuteTime": {
     "end_time": "2022-07-15T11:03:06.737132Z",
     "start_time": "2022-07-15T11:03:06.705360Z"
    },
    "hidden": true
   },
   "outputs": [],
   "source": [
    "def isChar(c):\n",
    "    return not c in [' ', '-', '|']\n",
    "\n",
    "def adjust(text,n=7):\n",
    "    text = str(text)    \n",
    "    return \" \" * (n - len(text)) + text\n",
    "\n",
    "def isMature(c1, c2):\n",
    "    if(c1.isupper() and isChar(c1)):\n",
    "        return True\n",
    "    if(c2.isupper() and isChar(c2)):\n",
    "        return True\n",
    "    return False\n",
    "\n",
    "def get_number(strText):\n",
    "    number = 0 \n",
    "    for i in range(len(strText[2])):\n",
    "        if(isChar(strText[2][i]) or isChar(strText[3][i])):\n",
    "            number += 1    \n",
    "        if(isChar(strText[4][i])):\n",
    "            number += 1    \n",
    "        if(isChar(strText[5][i]) or isChar(strText[6][i])):\n",
    "            number += 1     \n",
    "    return number\n",
    "\n",
    "def get5pInfo(strText):\n",
    "    has_5p = False\n",
    "    s_5p = 0\n",
    "    f_5p = 0\n",
    "    counter = 0\n",
    "    for i in range(len(strText[2])):\n",
    "        if(isChar(strText[2][i]) or isChar(strText[3][i])):\n",
    "            counter += 1            \n",
    "            if(isMature(strText[2][i] ,strText[3][i])):\n",
    "                if(not has_5p):\n",
    "                    has_5p = True\n",
    "                    s_5p = counter\n",
    "                else:\n",
    "                    continue\n",
    "            elif(has_5p):\n",
    "                f_5p = counter - 1 \n",
    "                break\n",
    "    return [has_5p, s_5p, f_5p]\n",
    "\n",
    "def get3pInfo(strText, number):\n",
    "    has_3p = False\n",
    "    s_3p = 0\n",
    "    f_3p = 0\n",
    "    counter = 0\n",
    "    for i in range(len(strText[6])):\n",
    "        if(isChar(strText[6][i]) or isChar(strText[5][i])):\n",
    "            counter += 1            \n",
    "            if(isMature(strText[6][i] ,strText[5][i])):\n",
    "                if(not has_3p):\n",
    "                    has_3p = True\n",
    "                    s_3p = counter\n",
    "                else:\n",
    "                    continue\n",
    "            elif(has_3p):\n",
    "                f_3p = counter - 1 \n",
    "                break        \n",
    "    return [has_3p, number - f_3p + 1, number - s_3p + 1]    \n",
    "\n",
    "def convertor(strText):\n",
    "    index  = []\n",
    "    values = []\n",
    "    nucludid = []\n",
    "    def add(i, v, n):        \n",
    "        index.append(i)\n",
    "        values.append(v)\n",
    "        nucludid.append(n)\n",
    "            \n",
    "    f_counter = 1\n",
    "    r_counter = 0\n",
    "                    \n",
    "    number = get_number(strText)    \n",
    "    [FO, FI, Mid, RI, RO] = strText[2:]\n",
    "    # main loop    \n",
    "    for i in range(len(Mid)):           \n",
    "        \n",
    "        if(isChar(FO[i]) and FI[i] == \" \" and Mid[i] == \" \" and RI[i] == \" \"  and RO[i] == \"-\" ):\n",
    "            add(f_counter, 0, FO[i])                \n",
    "            f_counter += 1                      \n",
    "                \n",
    "        elif(FO[i] == \"-\" and FI[i] == \" \" and Mid[i] == \" \" and RI[i] == \" \"  and isChar(RO[i])):                                            \n",
    "            add(number - r_counter, 0, RO[i])                \n",
    "            r_counter += 1                      \n",
    "        \n",
    "        elif(isChar(FO[i]) and not isChar(FI[i]) and not isChar(Mid[i]) and not isChar(RI[i]) and isChar(RO[i])):\n",
    "            add(f_counter, 0, FO[i])                    \n",
    "            add(number - r_counter, 0, RO[i])                                \n",
    "            f_counter += 1        \n",
    "            r_counter += 1                              \n",
    "            \n",
    "        elif(not isChar(FO[i]) and isChar(FI[i]) and Mid[i] == \"|\" and isChar(RI[i]) and not isChar(RO[i])):        \n",
    "            add(f_counter, number - r_counter, FI[i])                        \n",
    "            add(number - r_counter, f_counter, RI[i])                \n",
    "            f_counter += 1        \n",
    "            r_counter += 1                  \n",
    "            \n",
    "        elif(not isChar(FO[i]) and isChar(FI[i]) and isChar(Mid[i]) and isChar(RI[i]) and not isChar(RO[i])):\n",
    "            add(f_counter, 0, FI[i])\n",
    "            add(f_counter + 1, 0, Mid[i])\n",
    "            add(number - r_counter, 0, RI[i])\n",
    "            f_counter += 2\n",
    "            r_counter += 1\n",
    "            \n",
    "        elif(not isChar(FO[i]) and isChar(FI[i]) and Mid[i] == \" \" and isChar(RI[i]) and not isChar(RO[i])):                \n",
    "            add(f_counter, 0, FI[i])                    \n",
    "            add(number - r_counter, 0, RI[i])                    \n",
    "            f_counter += 1        \n",
    "            r_counter += 1                  \n",
    "            \n",
    "        elif(not isChar(FO[i]) and not isChar(FI[i]) and isChar(Mid[i]) and not isChar(RI[i]) and not isChar(RO[i])):                \n",
    "            add(f_counter, 0, Mid[i])                                \n",
    "            f_counter += 1                    \n",
    "\n",
    "    # sort indexs and other base on indexes\n",
    "    inds = np.array(index).argsort()    \n",
    "    nucludid = np.array(nucludid)[inds]       \n",
    "    return ''.join(nucludid)"
   ]
  },
  {
   "cell_type": "markdown",
   "metadata": {
    "heading_collapsed": true
   },
   "source": [
    "# Download data from Mirbase"
   ]
  },
  {
   "cell_type": "code",
   "execution_count": 6,
   "metadata": {
    "ExecuteTime": {
     "end_time": "2022-07-15T10:55:07.161226Z",
     "start_time": "2022-07-15T10:55:07.157685Z"
    },
    "hidden": true
   },
   "outputs": [],
   "source": [
    "directory = './miRBase'\n",
    "base = \"https://www.mirbase.org/ftp/CURRENT\"        "
   ]
  },
  {
   "cell_type": "code",
   "execution_count": 7,
   "metadata": {
    "ExecuteTime": {
     "end_time": "2022-07-12T11:00:15.661811Z",
     "start_time": "2022-07-12T11:00:15.514366Z"
    },
    "hidden": true
   },
   "outputs": [],
   "source": [
    "mature = fasta_to_df(f'{directory}/mature.fa')\n",
    "mature_high_conf = fasta_to_df(f'{directory}/mature_high_conf.fa')\n",
    "mature['trim tag'] = mature['tag'].apply(lambda line: ' '.join(line.split(' ')[:2]))\n",
    "mature['confidence'] = mature['trim tag'].isin(mature_high_conf['tag'])"
   ]
  },
  {
   "cell_type": "code",
   "execution_count": 8,
   "metadata": {
    "ExecuteTime": {
     "end_time": "2022-07-12T11:00:16.665348Z",
     "start_time": "2022-07-12T11:00:16.620511Z"
    },
    "hidden": true
   },
   "outputs": [
    {
     "name": "stdout",
     "output_type": "stream",
     "text": [
      "(48885, 5)\n"
     ]
    },
    {
     "data": {
      "text/html": [
       "<div>\n",
       "<style scoped>\n",
       "    .dataframe tbody tr th:only-of-type {\n",
       "        vertical-align: middle;\n",
       "    }\n",
       "\n",
       "    .dataframe tbody tr th {\n",
       "        vertical-align: top;\n",
       "    }\n",
       "\n",
       "    .dataframe thead th {\n",
       "        text-align: right;\n",
       "    }\n",
       "</style>\n",
       "<table border=\"1\" class=\"dataframe\">\n",
       "  <thead>\n",
       "    <tr style=\"text-align: right;\">\n",
       "      <th></th>\n",
       "      <th>tag</th>\n",
       "      <th>data</th>\n",
       "      <th>trim tag</th>\n",
       "      <th>confidence</th>\n",
       "      <th>organism</th>\n",
       "    </tr>\n",
       "  </thead>\n",
       "  <tbody>\n",
       "    <tr>\n",
       "      <th>0</th>\n",
       "      <td>cel-let-7-5p MIMAT0000001 Caenorhabditis elega...</td>\n",
       "      <td>UGAGGUAGUAGGUUGUAUAGUU</td>\n",
       "      <td>cel-let-7-5p MIMAT0000001</td>\n",
       "      <td>True</td>\n",
       "      <td>cel</td>\n",
       "    </tr>\n",
       "    <tr>\n",
       "      <th>1</th>\n",
       "      <td>cel-let-7-3p MIMAT0015091 Caenorhabditis elega...</td>\n",
       "      <td>CUAUGCAAUUUUCUACCUUACC</td>\n",
       "      <td>cel-let-7-3p MIMAT0015091</td>\n",
       "      <td>True</td>\n",
       "      <td>cel</td>\n",
       "    </tr>\n",
       "  </tbody>\n",
       "</table>\n",
       "</div>"
      ],
      "text/plain": [
       "                                                 tag                    data  \\\n",
       "0  cel-let-7-5p MIMAT0000001 Caenorhabditis elega...  UGAGGUAGUAGGUUGUAUAGUU   \n",
       "1  cel-let-7-3p MIMAT0015091 Caenorhabditis elega...  CUAUGCAAUUUUCUACCUUACC   \n",
       "\n",
       "                    trim tag  confidence organism  \n",
       "0  cel-let-7-5p MIMAT0000001        True      cel  \n",
       "1  cel-let-7-3p MIMAT0015091        True      cel  "
      ]
     },
     "execution_count": 8,
     "metadata": {},
     "output_type": "execute_result"
    }
   ],
   "source": [
    "mature['organism'] = mature['tag'].apply(lambda x: x[:3])\n",
    "print(mature.shape)\n",
    "mature.head(2)"
   ]
  },
  {
   "cell_type": "code",
   "execution_count": 9,
   "metadata": {
    "ExecuteTime": {
     "end_time": "2022-07-12T11:00:17.475288Z",
     "start_time": "2022-07-12T11:00:17.452354Z"
    },
    "hidden": true
   },
   "outputs": [
    {
     "name": "stdout",
     "output_type": "stream",
     "text": [
      "(285, 5)\n"
     ]
    },
    {
     "data": {
      "text/html": [
       "<div>\n",
       "<style scoped>\n",
       "    .dataframe tbody tr th:only-of-type {\n",
       "        vertical-align: middle;\n",
       "    }\n",
       "\n",
       "    .dataframe tbody tr th {\n",
       "        vertical-align: top;\n",
       "    }\n",
       "\n",
       "    .dataframe thead th {\n",
       "        text-align: right;\n",
       "    }\n",
       "</style>\n",
       "<table border=\"1\" class=\"dataframe\">\n",
       "  <thead>\n",
       "    <tr style=\"text-align: right;\">\n",
       "      <th></th>\n",
       "      <th>organism</th>\n",
       "      <th>division</th>\n",
       "      <th>name</th>\n",
       "      <th>tree</th>\n",
       "      <th>NCBI-taxid</th>\n",
       "    </tr>\n",
       "  </thead>\n",
       "  <tbody>\n",
       "    <tr>\n",
       "      <th>0</th>\n",
       "      <td>aqu</td>\n",
       "      <td>AQU</td>\n",
       "      <td>Amphimedon queenslandica</td>\n",
       "      <td>Metazoa;Porifera;</td>\n",
       "      <td>400682</td>\n",
       "    </tr>\n",
       "    <tr>\n",
       "      <th>1</th>\n",
       "      <td>nve</td>\n",
       "      <td>NVE</td>\n",
       "      <td>Nematostella vectensis</td>\n",
       "      <td>Metazoa;Cnidaria;</td>\n",
       "      <td>45351</td>\n",
       "    </tr>\n",
       "  </tbody>\n",
       "</table>\n",
       "</div>"
      ],
      "text/plain": [
       "  organism division                      name               tree  NCBI-taxid\n",
       "0      aqu      AQU  Amphimedon queenslandica  Metazoa;Porifera;      400682\n",
       "1      nve      NVE    Nematostella vectensis  Metazoa;Cnidaria;       45351"
      ]
     },
     "execution_count": 9,
     "metadata": {},
     "output_type": "execute_result"
    }
   ],
   "source": [
    "organism = pd.read_csv(f'./{directory}/organisms.txt',sep='\\t')\n",
    "organism.columns = [c.replace('#','') for c in organism.columns] # remove sharp from columns\n",
    "print(organism.shape)\n",
    "organism.head(2)"
   ]
  },
  {
   "cell_type": "code",
   "execution_count": 10,
   "metadata": {
    "ExecuteTime": {
     "end_time": "2022-07-12T11:00:18.145022Z",
     "start_time": "2022-07-12T11:00:18.135065Z"
    },
    "hidden": true,
    "scrolled": true
   },
   "outputs": [
    {
     "data": {
      "text/plain": [
       "['Viruses;',\n",
       " 'Mycetozoa;',\n",
       " 'Alveolata;',\n",
       " 'Metazoa;Porifera;',\n",
       " 'Metazoa;Cnidaria;',\n",
       " 'Viridiplantae;Chlorophyta;',\n",
       " 'Viridiplantae;Embryophyta;',\n",
       " 'Viridiplantae;Coniferophyta;',\n",
       " 'Viridiplantae;Magnoliophyta;',\n",
       " 'Metazoa;Bilateria;Deuterostoma;',\n",
       " 'Chromalveolata;Heterokontophyta;',\n",
       " 'Metazoa;Bilateria;Ecdysozoa;Nematoda;',\n",
       " 'Metazoa;Bilateria;Lophotrochozoa;Annelida;',\n",
       " 'Metazoa;Bilateria;Lophotrochozoa;Nemertea;',\n",
       " 'Metazoa;Bilateria;Lophotrochozoa;Mollusca;',\n",
       " 'Viridiplantae;Magnoliophyta;monocotyledons;',\n",
       " 'Metazoa;Bilateria;Deuterostoma;Hemichordata;',\n",
       " 'Metazoa;Bilateria;Deuterostoma;Echinodermata;',\n",
       " 'Metazoa;Bilateria;Lophotrochozoa;Brachiopoda;',\n",
       " 'Metazoa;Bilateria;Ecdysozoa;Arthropoda;Hexapoda;',\n",
       " 'Metazoa;Bilateria;Ecdysozoa;Arthropoda;Crustacea;',\n",
       " 'Metazoa;Bilateria;Lophotrochozoa;Platyhelminthes;',\n",
       " 'Metazoa;Bilateria;Ecdysozoa;Arthropoda;Chelicerata;',\n",
       " 'Metazoa;Bilateria;Ecdysozoa;Arthropoda;Mandibulata;',\n",
       " 'Viridiplantae;Magnoliophyta;eudicotyledons;Poaceae;',\n",
       " 'Metazoa;Bilateria;Deuterostoma;Chordata;Urochordata;',\n",
       " 'Viridiplantae;Magnoliophyta;eudicotyledons;Fabaceae;',\n",
       " 'Viridiplantae;Magnoliophyta;eudicotyledons;Vitaceae;',\n",
       " 'Viridiplantae;Magnoliophyta;eudicotyledons;Rosaceae;',\n",
       " 'Viridiplantae;Magnoliophyta;eudicotyledons;Rutaceae;',\n",
       " 'Viridiplantae;Magnoliophyta;eudicotyledons;Lamiales;',\n",
       " 'Viridiplantae;Magnoliophyta;eudicotyledons;Linaceae;',\n",
       " 'Viridiplantae;Magnoliophyta;eudicotyledons;Malvaceae;',\n",
       " 'Viridiplantae;Magnoliophyta;eudicotyledons;Myrtaceae;',\n",
       " 'Viridiplantae;Magnoliophyta;eudicotyledons;Caricaceae;',\n",
       " 'Viridiplantae;Magnoliophyta;eudicotyledons;Salicaceae;',\n",
       " 'Viridiplantae;Magnoliophyta;eudicotyledons;Solanaceae;',\n",
       " 'Viridiplantae;Magnoliophyta;eudicotyledons;Asteraceae;',\n",
       " 'Viridiplantae;Magnoliophyta;eudicotyledons;Araliaceae;',\n",
       " 'Viridiplantae;Magnoliophyta;eudicotyledons;Paeoniaceae;',\n",
       " 'Metazoa;Bilateria;Deuterostoma;Chordata;Cephalochordata;',\n",
       " 'Metazoa;Bilateria;Deuterostoma;Chordata;Vertebrata;Aves;',\n",
       " 'Viridiplantae;Magnoliophyta;eudicotyledons;Brassicaceae;',\n",
       " 'Viridiplantae;Magnoliophyta;eudicotyledons;Papaveraceae;',\n",
       " 'Viridiplantae;Magnoliophyta;eudicotyledons;Ranunculaceae;',\n",
       " 'Viridiplantae;Magnoliophyta;eudicotyledons;Euphorbiaceae;',\n",
       " 'Viridiplantae;Magnoliophyta;eudicotyledons;Cucurbitaceae;',\n",
       " 'Viridiplantae;Magnoliophyta;eudicotyledons;Amaranthaceae;',\n",
       " 'Viridiplantae;Magnoliophyta;eudicotyledons;Rhizophoraceae;',\n",
       " 'Metazoa;Bilateria;Deuterostoma;Chordata;Vertebrata;Sauria;',\n",
       " 'Metazoa;Bilateria;Deuterostoma;Chordata;Vertebrata;Amphibia;',\n",
       " 'Metazoa;Bilateria;Deuterostoma;Chordata;Vertebrata;Teleostei;',\n",
       " 'Metazoa;Bilateria;Deuterostoma;Chordata;Vertebrata;Gnathostomata;',\n",
       " 'Metazoa;Bilateria;Deuterostoma;Chordata;Vertebrata;Mammalia;Suina;',\n",
       " 'Metazoa;Bilateria;Deuterostoma;Chordata;Vertebrata;Agnathostomata;',\n",
       " 'Metazoa;Bilateria;Deuterostoma;Chordata;Vertebrata;Mammalia;Rodentia;',\n",
       " 'Metazoa;Bilateria;Deuterostoma;Chordata;Vertebrata;Mammalia;Carnivora;',\n",
       " 'Metazoa;Bilateria;Deuterostoma;Chordata;Vertebrata;Mammalia;Cingulata;',\n",
       " 'Metazoa;Bilateria;Deuterostoma;Chordata;Vertebrata;Mammalia;Metatheria;',\n",
       " 'Metazoa;Bilateria;Deuterostoma;Chordata;Vertebrata;Mammalia;Ruminantia;',\n",
       " 'Metazoa;Bilateria;Deuterostoma;Chordata;Vertebrata;Mammalia;Lagomorpha;',\n",
       " 'Metazoa;Bilateria;Deuterostoma;Chordata;Vertebrata;Mammalia;Scandentia;',\n",
       " 'Metazoa;Bilateria;Deuterostoma;Chordata;Vertebrata;Mammalia;Afrotheria;',\n",
       " 'Metazoa;Bilateria;Deuterostoma;Chordata;Vertebrata;Mammalia;Prototheria;',\n",
       " 'Metazoa;Bilateria;Deuterostoma;Chordata;Vertebrata;Mammalia;Laurasiatheria;',\n",
       " 'Metazoa;Bilateria;Deuterostoma;Chordata;Vertebrata;Mammalia;Primates;Cebidae;',\n",
       " 'Metazoa;Bilateria;Deuterostoma;Chordata;Vertebrata;Mammalia;Primates;Atelidae;',\n",
       " 'Metazoa;Bilateria;Deuterostoma;Chordata;Vertebrata;Mammalia;Primates;Hominidae;',\n",
       " 'Metazoa;Bilateria;Deuterostoma;Chordata;Vertebrata;Mammalia;Primates;Lemuridae;',\n",
       " 'Metazoa;Bilateria;Deuterostoma;Chordata;Vertebrata;Mammalia;Primates;Galagidae;',\n",
       " 'Metazoa;Bilateria;Deuterostoma;Chordata;Vertebrata;Mammalia;Primates;Hylobatidae;',\n",
       " 'Metazoa;Bilateria;Deuterostoma;Chordata;Vertebrata;Mammalia;Primates;Cheirogaleidae;',\n",
       " 'Metazoa;Bilateria;Deuterostoma;Chordata;Vertebrata;Mammalia;Primates;Daubentoniidae;',\n",
       " 'Metazoa;Bilateria;Deuterostoma;Chordata;Vertebrata;Mammalia;Primates;Cercopithecidae;']"
      ]
     },
     "execution_count": 10,
     "metadata": {},
     "output_type": "execute_result"
    }
   ],
   "source": [
    "items = list(organism['tree'].unique())\n",
    "items.sort(key=len)\n",
    "items"
   ]
  },
  {
   "cell_type": "code",
   "execution_count": 11,
   "metadata": {
    "ExecuteTime": {
     "end_time": "2022-07-12T11:00:18.873643Z",
     "start_time": "2022-07-12T11:00:18.851463Z"
    },
    "hidden": true,
    "scrolled": false
   },
   "outputs": [
    {
     "name": "stdout",
     "output_type": "stream",
     "text": [
      "(86, 5)\n"
     ]
    },
    {
     "data": {
      "text/html": [
       "<div>\n",
       "<style scoped>\n",
       "    .dataframe tbody tr th:only-of-type {\n",
       "        vertical-align: middle;\n",
       "    }\n",
       "\n",
       "    .dataframe tbody tr th {\n",
       "        vertical-align: top;\n",
       "    }\n",
       "\n",
       "    .dataframe thead th {\n",
       "        text-align: right;\n",
       "    }\n",
       "</style>\n",
       "<table border=\"1\" class=\"dataframe\">\n",
       "  <thead>\n",
       "    <tr style=\"text-align: right;\">\n",
       "      <th></th>\n",
       "      <th>organism</th>\n",
       "      <th>division</th>\n",
       "      <th>name</th>\n",
       "      <th>tree</th>\n",
       "      <th>NCBI-taxid</th>\n",
       "    </tr>\n",
       "  </thead>\n",
       "  <tbody>\n",
       "    <tr>\n",
       "      <th>66</th>\n",
       "      <td>cre</td>\n",
       "      <td>CRE</td>\n",
       "      <td>Chlamydomonas reinhardtii</td>\n",
       "      <td>Viridiplantae;Chlorophyta;</td>\n",
       "      <td>3055</td>\n",
       "    </tr>\n",
       "    <tr>\n",
       "      <th>67</th>\n",
       "      <td>pta</td>\n",
       "      <td>PTA</td>\n",
       "      <td>Pinus taeda</td>\n",
       "      <td>Viridiplantae;Coniferophyta;</td>\n",
       "      <td>3352</td>\n",
       "    </tr>\n",
       "    <tr>\n",
       "      <th>68</th>\n",
       "      <td>ppt</td>\n",
       "      <td>PPT</td>\n",
       "      <td>Physcomitrella patens</td>\n",
       "      <td>Viridiplantae;Embryophyta;</td>\n",
       "      <td>3218</td>\n",
       "    </tr>\n",
       "    <tr>\n",
       "      <th>69</th>\n",
       "      <td>smo</td>\n",
       "      <td>SMO</td>\n",
       "      <td>Selaginella moellendorffii</td>\n",
       "      <td>Viridiplantae;Embryophyta;</td>\n",
       "      <td>88036</td>\n",
       "    </tr>\n",
       "    <tr>\n",
       "      <th>70</th>\n",
       "      <td>ath</td>\n",
       "      <td>ATH</td>\n",
       "      <td>Arabidopsis thaliana</td>\n",
       "      <td>Viridiplantae;Magnoliophyta;eudicotyledons;Bra...</td>\n",
       "      <td>3702</td>\n",
       "    </tr>\n",
       "  </tbody>\n",
       "</table>\n",
       "</div>"
      ],
      "text/plain": [
       "   organism division                        name  \\\n",
       "66      cre      CRE   Chlamydomonas reinhardtii   \n",
       "67      pta      PTA                 Pinus taeda   \n",
       "68      ppt      PPT       Physcomitrella patens   \n",
       "69      smo      SMO  Selaginella moellendorffii   \n",
       "70      ath      ATH        Arabidopsis thaliana   \n",
       "\n",
       "                                                 tree  NCBI-taxid  \n",
       "66                         Viridiplantae;Chlorophyta;        3055  \n",
       "67                       Viridiplantae;Coniferophyta;        3352  \n",
       "68                         Viridiplantae;Embryophyta;        3218  \n",
       "69                         Viridiplantae;Embryophyta;       88036  \n",
       "70  Viridiplantae;Magnoliophyta;eudicotyledons;Bra...        3702  "
      ]
     },
     "execution_count": 11,
     "metadata": {},
     "output_type": "execute_result"
    }
   ],
   "source": [
    "selectedTree = organism[organism['tree'].apply(lambda x: \"Viridiplantae;\" in x)]\n",
    "print(selectedTree.shape)\n",
    "selectedTree.head(5)"
   ]
  },
  {
   "cell_type": "code",
   "execution_count": 12,
   "metadata": {
    "ExecuteTime": {
     "end_time": "2022-07-12T11:00:19.609511Z",
     "start_time": "2022-07-12T11:00:19.602533Z"
    },
    "hidden": true
   },
   "outputs": [],
   "source": [
    "selectedTree = selectedTree[selectedTree['name'] == \"Oryza sativa\"]"
   ]
  },
  {
   "cell_type": "code",
   "execution_count": 13,
   "metadata": {
    "ExecuteTime": {
     "end_time": "2022-07-12T11:00:20.187928Z",
     "start_time": "2022-07-12T11:00:20.148146Z"
    },
    "hidden": true,
    "scrolled": true
   },
   "outputs": [
    {
     "name": "stdout",
     "output_type": "stream",
     "text": [
      "(738, 5)\n"
     ]
    },
    {
     "data": {
      "text/html": [
       "<div>\n",
       "<style scoped>\n",
       "    .dataframe tbody tr th:only-of-type {\n",
       "        vertical-align: middle;\n",
       "    }\n",
       "\n",
       "    .dataframe tbody tr th {\n",
       "        vertical-align: top;\n",
       "    }\n",
       "\n",
       "    .dataframe thead th {\n",
       "        text-align: right;\n",
       "    }\n",
       "</style>\n",
       "<table border=\"1\" class=\"dataframe\">\n",
       "  <thead>\n",
       "    <tr style=\"text-align: right;\">\n",
       "      <th></th>\n",
       "      <th>tag</th>\n",
       "      <th>data</th>\n",
       "      <th>trim tag</th>\n",
       "      <th>confidence</th>\n",
       "      <th>organism</th>\n",
       "    </tr>\n",
       "  </thead>\n",
       "  <tbody>\n",
       "    <tr>\n",
       "      <th>1068</th>\n",
       "      <td>osa-miR156a MIMAT0000618 Oryza sativa miR156a</td>\n",
       "      <td>UGACAGAAGAGAGUGAGCAC</td>\n",
       "      <td>osa-miR156a MIMAT0000618</td>\n",
       "      <td>False</td>\n",
       "      <td>osa</td>\n",
       "    </tr>\n",
       "  </tbody>\n",
       "</table>\n",
       "</div>"
      ],
      "text/plain": [
       "                                                tag                  data  \\\n",
       "1068  osa-miR156a MIMAT0000618 Oryza sativa miR156a  UGACAGAAGAGAGUGAGCAC   \n",
       "\n",
       "                      trim tag  confidence organism  \n",
       "1068  osa-miR156a MIMAT0000618       False      osa  "
      ]
     },
     "execution_count": 13,
     "metadata": {},
     "output_type": "execute_result"
    }
   ],
   "source": [
    "selected = mature[mature['organism'].isin(selectedTree['organism'])]\n",
    "print(selected.shape)\n",
    "selected.head(1)"
   ]
  },
  {
   "cell_type": "code",
   "execution_count": 128,
   "metadata": {
    "ExecuteTime": {
     "end_time": "2022-07-12T12:05:23.440501Z",
     "start_time": "2022-07-12T12:05:22.451203Z"
    },
    "hidden": true,
    "scrolled": false
   },
   "outputs": [
    {
     "data": {
      "application/vnd.jupyter.widget-view+json": {
       "model_id": "1b12d2124217493aa4bd294c47afbc1e",
       "version_major": 2,
       "version_minor": 0
      },
      "text/plain": [
       "  0%|          | 0/38590 [00:00<?, ?it/s]"
      ]
     },
     "metadata": {},
     "output_type": "display_data"
    },
    {
     "name": "stdout",
     "output_type": "stream",
     "text": [
      "(713, 6)\n"
     ]
    },
    {
     "data": {
      "text/html": [
       "<div>\n",
       "<style scoped>\n",
       "    .dataframe tbody tr th:only-of-type {\n",
       "        vertical-align: middle;\n",
       "    }\n",
       "\n",
       "    .dataframe tbody tr th {\n",
       "        vertical-align: top;\n",
       "    }\n",
       "\n",
       "    .dataframe thead th {\n",
       "        text-align: right;\n",
       "    }\n",
       "</style>\n",
       "<table border=\"1\" class=\"dataframe\">\n",
       "  <thead>\n",
       "    <tr style=\"text-align: right;\">\n",
       "      <th></th>\n",
       "      <th>data</th>\n",
       "      <th>hit_start</th>\n",
       "      <th>hit_end</th>\n",
       "      <th>hit</th>\n",
       "      <th>confidence</th>\n",
       "      <th>tag</th>\n",
       "    </tr>\n",
       "  </thead>\n",
       "  <tbody>\n",
       "    <tr>\n",
       "      <th>0</th>\n",
       "      <td>ggagggugacagaagagagugagcacacgugguuguuuccuugcau...</td>\n",
       "      <td>7</td>\n",
       "      <td>26</td>\n",
       "      <td>UGACAGAAGAGAGUGAGCAC</td>\n",
       "      <td>True</td>\n",
       "      <td>0</td>\n",
       "    </tr>\n",
       "    <tr>\n",
       "      <th>1</th>\n",
       "      <td>uugucuugagaggggaagagaucucuauggguuuuggaggucugac...</td>\n",
       "      <td>43</td>\n",
       "      <td>62</td>\n",
       "      <td>UGACAGAAGAGAGUGAGCAC</td>\n",
       "      <td>True</td>\n",
       "      <td>1</td>\n",
       "    </tr>\n",
       "    <tr>\n",
       "      <th>2</th>\n",
       "      <td>uugucuugagaggggaagagaucucuauggguuuuggaggucugac...</td>\n",
       "      <td>110</td>\n",
       "      <td>130</td>\n",
       "      <td>GCUCACUCUCUAUCUGUCAGC</td>\n",
       "      <td>True</td>\n",
       "      <td>2</td>\n",
       "    </tr>\n",
       "    <tr>\n",
       "      <th>3</th>\n",
       "      <td>ggaggaagagaggggugagaggugaggcugacagaagagagugagc...</td>\n",
       "      <td>29</td>\n",
       "      <td>48</td>\n",
       "      <td>UGACAGAAGAGAGUGAGCAC</td>\n",
       "      <td>True</td>\n",
       "      <td>3</td>\n",
       "    </tr>\n",
       "    <tr>\n",
       "      <th>4</th>\n",
       "      <td>ggaggaagagaggggugagaggugaggcugacagaagagagugagc...</td>\n",
       "      <td>100</td>\n",
       "      <td>121</td>\n",
       "      <td>GCUCACUUCUCUCUCUGUCAGC</td>\n",
       "      <td>True</td>\n",
       "      <td>4</td>\n",
       "    </tr>\n",
       "  </tbody>\n",
       "</table>\n",
       "</div>"
      ],
      "text/plain": [
       "                                                data  hit_start  hit_end  \\\n",
       "0  ggagggugacagaagagagugagcacacgugguuguuuccuugcau...          7       26   \n",
       "1  uugucuugagaggggaagagaucucuauggguuuuggaggucugac...         43       62   \n",
       "2  uugucuugagaggggaagagaucucuauggguuuuggaggucugac...        110      130   \n",
       "3  ggaggaagagaggggugagaggugaggcugacagaagagagugagc...         29       48   \n",
       "4  ggaggaagagaggggugagaggugaggcugacagaagagagugagc...        100      121   \n",
       "\n",
       "                      hit  confidence  tag  \n",
       "0    UGACAGAAGAGAGUGAGCAC        True    0  \n",
       "1    UGACAGAAGAGAGUGAGCAC        True    1  \n",
       "2   GCUCACUCUCUAUCUGUCAGC        True    2  \n",
       "3    UGACAGAAGAGAGUGAGCAC        True    3  \n",
       "4  GCUCACUUCUCUCUCUGUCAGC        True    4  "
      ]
     },
     "execution_count": 128,
     "metadata": {},
     "output_type": "execute_result"
    }
   ],
   "source": [
    "with open(f'./{directory}/miRNA.str') as file:\n",
    "    strRNA = file.read()\n",
    "    lines = strRNA.split('\\n')\n",
    "nuclutide = []\n",
    "hit_start = []\n",
    "hit_end = []\n",
    "for i in tqdm(range(0,len(lines), 8)):\n",
    "    tag = lines[i]\n",
    "    if(tag[1:4] == \"osa\"):\n",
    "        strText = lines[i:(i+7)]        \n",
    "        if(len(strText) == 7):\n",
    "            nuc = convertor(strText).lower()            \n",
    "            number = get_number(strText)    \n",
    "            [has_5p, s_5p, f_5p] = get5pInfo(strText)    \n",
    "            [has_3p, s_3p, f_3p] = get3pInfo(strText, number)\n",
    "            if(has_5p):\n",
    "                if(s_5p > f_5p):                    \n",
    "                    continue\n",
    "            if(has_3p):\n",
    "                if(s_3p > f_3p):                    \n",
    "                    continue\n",
    "            if(has_5p):\n",
    "                nuclutide.append(nuc)\n",
    "                hit_start.append(s_5p)                \n",
    "                hit_end.append(f_5p)                \n",
    "            if(has_3p):\n",
    "                nuclutide.append(nuc)                \n",
    "                hit_start.append(s_3p)\n",
    "                hit_end.append(f_3p)                                                      \n",
    "precursor = pd.DataFrame({\"data\": nuclutide, \"hit_start\": hit_start, \"hit_end\": hit_end})\n",
    "precursor['hit'] = precursor.apply(lambda row: row['data'][(row['hit_start']-1):(row['hit_end'])].upper(), axis=1)\n",
    "precursor['confidence'] = precursor['hit'].apply(lambda hit: selected['confidence'][selected['data'] == hit].sum() > 0)\n",
    "precursor['tag'] = precursor.index\n",
    "print(precursor.shape)\n",
    "precursor.head()"
   ]
  },
  {
   "cell_type": "code",
   "execution_count": 129,
   "metadata": {
    "ExecuteTime": {
     "end_time": "2022-07-12T12:05:23.487305Z",
     "start_time": "2022-07-12T12:05:23.444050Z"
    },
    "hidden": true
   },
   "outputs": [],
   "source": [
    "precursor.to_csv(f'{temp_path}/precursor_info.csv')\n",
    "df_to_fasta(precursor, f'{temp_path}/mature_microRNA_queries.fasta')"
   ]
  },
  {
   "cell_type": "markdown",
   "metadata": {
    "heading_collapsed": true
   },
   "source": [
    "# Remove redundant"
   ]
  },
  {
   "cell_type": "markdown",
   "metadata": {
    "hidden": true
   },
   "source": [
    "## cdhit-est"
   ]
  },
  {
   "cell_type": "code",
   "execution_count": 16,
   "metadata": {
    "ExecuteTime": {
     "end_time": "2022-07-12T11:00:24.951401Z",
     "start_time": "2022-07-12T11:00:24.749522Z"
    },
    "code_folding": [],
    "hidden": true,
    "scrolled": true
   },
   "outputs": [
    {
     "name": "stdout",
     "output_type": "stream",
     "text": [
      "================================================================\n",
      "Program: CD-HIT, V4.8.1 (+OpenMP), Oct 23 2021, 21:45:39\n",
      "Command: ./software/cdhit/cd-hit-est -i\n",
      "         ././Experiment/O.sativa_plus/Temp/mature_microRNA_queries.fasta\n",
      "         -o\n",
      "         ././Experiment/O.sativa_plus/Temp/NR_mature_microRNA_queries.fasta\n",
      "         -c 1 -r 0 -G 1 -g 1 -b 30 -l 10 -aL 0 -AL 99999999 -aS\n",
      "         0 -AS 99999999 -s 0 -S 0\n",
      "\n",
      "Started: Tue Jul 12 15:30:24 2022\n",
      "================================================================\n",
      "                            Output                              \n",
      "----------------------------------------------------------------\n",
      "total seq: 713\n",
      "longest and shortest : 541 and 59\n",
      "Total letters: 109981\n",
      "Sequences have been sorted\n",
      "\n",
      "Approximated minimal memory consumption:\n",
      "Sequence        : 0M\n",
      "Buffer          : 1 X 12M = 12M\n",
      "Table           : 1 X 16M = 16M\n",
      "Miscellaneous   : 0M\n",
      "Total           : 29M\n",
      "\n",
      "Table limit with the given memory limit:\n",
      "Max number of representatives: 2881052\n",
      "Max number of word counting entries: 96349954\n",
      "\n",
      "comparing sequences from          0  to        713\n",
      "\n",
      "      713  finished        587  clusters\n",
      "\n",
      "Approximated maximum memory consumption: 29M\n",
      "writing new database\n",
      "writing clustering information\n",
      "program completed !\n",
      "\n",
      "Total CPU time 0.06\n"
     ]
    }
   ],
   "source": [
    "!./software/cdhit/cd-hit-est -i ./{temp_path}/mature_microRNA_queries.fasta  -o ./{temp_path}/NR_mature_microRNA_queries.fasta \\\n",
    "    -c 1 -r 0 -G 1 -g 1 -b 30 -l 10 -aL 0 -AL 99999999 -aS 0 \\\n",
    "    -AS 99999999 -s 0 -S 0"
   ]
  },
  {
   "cell_type": "markdown",
   "metadata": {
    "hidden": true
   },
   "source": [
    "## reformat"
   ]
  },
  {
   "cell_type": "code",
   "execution_count": 41,
   "metadata": {
    "ExecuteTime": {
     "end_time": "2022-07-12T11:25:34.388645Z",
     "start_time": "2022-07-12T11:25:34.365322Z"
    },
    "hidden": true,
    "scrolled": true
   },
   "outputs": [
    {
     "name": "stdout",
     "output_type": "stream",
     "text": [
      "(713, 2)\n"
     ]
    },
    {
     "data": {
      "text/html": [
       "<div>\n",
       "<style scoped>\n",
       "    .dataframe tbody tr th:only-of-type {\n",
       "        vertical-align: middle;\n",
       "    }\n",
       "\n",
       "    .dataframe tbody tr th {\n",
       "        vertical-align: top;\n",
       "    }\n",
       "\n",
       "    .dataframe thead th {\n",
       "        text-align: right;\n",
       "    }\n",
       "</style>\n",
       "<table border=\"1\" class=\"dataframe\">\n",
       "  <thead>\n",
       "    <tr style=\"text-align: right;\">\n",
       "      <th></th>\n",
       "      <th>seqid</th>\n",
       "      <th>cluster</th>\n",
       "    </tr>\n",
       "  </thead>\n",
       "  <tbody>\n",
       "    <tr>\n",
       "      <th>0</th>\n",
       "      <td>499</td>\n",
       "      <td>C0</td>\n",
       "    </tr>\n",
       "    <tr>\n",
       "      <th>1</th>\n",
       "      <td>697</td>\n",
       "      <td>C1</td>\n",
       "    </tr>\n",
       "  </tbody>\n",
       "</table>\n",
       "</div>"
      ],
      "text/plain": [
       "  seqid cluster\n",
       "0   499      C0\n",
       "1   697      C1"
      ]
     },
     "execution_count": 41,
     "metadata": {},
     "output_type": "execute_result"
    }
   ],
   "source": [
    "with open(f'./{temp_path}/NR_mature_microRNA_queries.fasta.clstr','r') as file:\n",
    "    text = file.read()\n",
    "lines = [line for line in text.split('\\n') if len(line) > 0]\n",
    "cluster = []\n",
    "seqid = []\n",
    "last_cluster = \"\"\n",
    "for l in lines:\n",
    "    if(l[0]=='>'):        \n",
    "        last_cluster = l.replace('>Cluster ',\"C\")\n",
    "    else:        \n",
    "        cluster.append(last_cluster)\n",
    "        seqid.append(l.split(', >')[1].split('...')[0])                \n",
    "seq2cluster = pd.DataFrame({'seqid': seqid,'cluster': cluster})\n",
    "print(seq2cluster.shape)\n",
    "seq2cluster.head(2)    "
   ]
  },
  {
   "cell_type": "code",
   "execution_count": 18,
   "metadata": {
    "ExecuteTime": {
     "end_time": "2022-07-12T11:00:28.181876Z",
     "start_time": "2022-07-12T11:00:28.143735Z"
    },
    "hidden": true
   },
   "outputs": [
    {
     "name": "stdout",
     "output_type": "stream",
     "text": [
      "(713, 4)\n"
     ]
    },
    {
     "data": {
      "text/html": [
       "<div>\n",
       "<style scoped>\n",
       "    .dataframe tbody tr th:only-of-type {\n",
       "        vertical-align: middle;\n",
       "    }\n",
       "\n",
       "    .dataframe tbody tr th {\n",
       "        vertical-align: top;\n",
       "    }\n",
       "\n",
       "    .dataframe thead th {\n",
       "        text-align: right;\n",
       "    }\n",
       "</style>\n",
       "<table border=\"1\" class=\"dataframe\">\n",
       "  <thead>\n",
       "    <tr style=\"text-align: right;\">\n",
       "      <th></th>\n",
       "      <th>cluster</th>\n",
       "      <th>seqid</th>\n",
       "      <th>tag</th>\n",
       "      <th>confidence</th>\n",
       "    </tr>\n",
       "  </thead>\n",
       "  <tbody>\n",
       "    <tr>\n",
       "      <th>0</th>\n",
       "      <td>C446</td>\n",
       "      <td>0</td>\n",
       "      <td>0</td>\n",
       "      <td>True</td>\n",
       "    </tr>\n",
       "    <tr>\n",
       "      <th>1</th>\n",
       "      <td>C167</td>\n",
       "      <td>1</td>\n",
       "      <td>1</td>\n",
       "      <td>True</td>\n",
       "    </tr>\n",
       "  </tbody>\n",
       "</table>\n",
       "</div>"
      ],
      "text/plain": [
       "  cluster seqid tag  confidence\n",
       "0    C446     0   0        True\n",
       "1    C167     1   1        True"
      ]
     },
     "metadata": {},
     "output_type": "display_data"
    }
   ],
   "source": [
    "df = fasta_to_df(f\"./{temp_path}/mature_microRNA_queries.fasta\")\n",
    "seq2cluster = pd.merge(df,seq2cluster,how=\"inner\",left_on='tag',right_on=\"seqid\")\n",
    "precursor['tag'] = precursor['tag'].apply(lambda x : str(x))\n",
    "seq2cluster = pd.merge(seq2cluster, precursor,how=\"inner\",left_on='seqid',right_on=\"tag\")[['cluster','seqid','tag_x', 'confidence']]\n",
    "seq2cluster.columns = ['cluster','seqid','tag', 'confidence']\n",
    "print(seq2cluster.shape)\n",
    "display(seq2cluster.head(2))\n",
    "seq2cluster.to_csv(f'./{temp_path}/seq2cluster.csv',index=False)"
   ]
  },
  {
   "cell_type": "code",
   "execution_count": 19,
   "metadata": {
    "ExecuteTime": {
     "end_time": "2022-07-12T11:00:29.061150Z",
     "start_time": "2022-07-12T11:00:29.044999Z"
    },
    "hidden": true
   },
   "outputs": [
    {
     "data": {
      "text/html": [
       "<div>\n",
       "<style scoped>\n",
       "    .dataframe tbody tr th:only-of-type {\n",
       "        vertical-align: middle;\n",
       "    }\n",
       "\n",
       "    .dataframe tbody tr th {\n",
       "        vertical-align: top;\n",
       "    }\n",
       "\n",
       "    .dataframe thead th {\n",
       "        text-align: right;\n",
       "    }\n",
       "</style>\n",
       "<table border=\"1\" class=\"dataframe\">\n",
       "  <thead>\n",
       "    <tr style=\"text-align: right;\">\n",
       "      <th></th>\n",
       "      <th>cluster</th>\n",
       "      <th>seqid</th>\n",
       "      <th>tag</th>\n",
       "      <th>confidence</th>\n",
       "    </tr>\n",
       "  </thead>\n",
       "  <tbody>\n",
       "    <tr>\n",
       "      <th>499</th>\n",
       "      <td>C0</td>\n",
       "      <td>499</td>\n",
       "      <td>499</td>\n",
       "      <td>False</td>\n",
       "    </tr>\n",
       "    <tr>\n",
       "      <th>697</th>\n",
       "      <td>C1</td>\n",
       "      <td>697</td>\n",
       "      <td>697</td>\n",
       "      <td>False</td>\n",
       "    </tr>\n",
       "  </tbody>\n",
       "</table>\n",
       "</div>"
      ],
      "text/plain": [
       "    cluster seqid  tag  confidence\n",
       "499      C0   499  499       False\n",
       "697      C1   697  697       False"
      ]
     },
     "execution_count": 19,
     "metadata": {},
     "output_type": "execute_result"
    }
   ],
   "source": [
    "# todo: sorted first by cluster then by seqid\n",
    "seq2cluster.sort_values(\"cluster\").head(2)"
   ]
  },
  {
   "cell_type": "code",
   "execution_count": 20,
   "metadata": {
    "ExecuteTime": {
     "end_time": "2022-07-12T11:00:30.238570Z",
     "start_time": "2022-07-12T11:00:30.200576Z"
    },
    "hidden": true
   },
   "outputs": [
    {
     "name": "stdout",
     "output_type": "stream",
     "text": [
      "(587, 2)\n"
     ]
    }
   ],
   "source": [
    "df = fasta_to_df(f\"./{temp_path}/NR_mature_microRNA_queries.fasta\")\n",
    "df['tag'] = df['tag'].apply(lambda x : str(x))\n",
    "df = pd.merge(df,seq2cluster,how=\"inner\",left_on='tag',right_on=\"seqid\")[['cluster','data']]\n",
    "\n",
    "lines = []\n",
    "df.apply(lambda row: lines.append(f\">{row['cluster']}\\n{row['data']}\\n\"),axis=1)\n",
    "print(df.shape)\n",
    "with open(f'./{temp_path}/BLASTn_queries.fasta','w') as file:\n",
    "    file.write(''.join(lines))"
   ]
  },
  {
   "cell_type": "markdown",
   "metadata": {
    "heading_collapsed": true
   },
   "source": [
    "# BlastN"
   ]
  },
  {
   "cell_type": "code",
   "execution_count": 21,
   "metadata": {
    "ExecuteTime": {
     "end_time": "2022-07-12T11:00:41.019823Z",
     "start_time": "2022-07-12T11:00:34.925300Z"
    },
    "hidden": true,
    "scrolled": true
   },
   "outputs": [
    {
     "name": "stdout",
     "output_type": "stream",
     "text": [
      "\n",
      "\n",
      "Building a new DB, current time: 07/12/2022 15:30:34\n",
      "New DB name:   /home/jupyter/plant_microRNA_prediction/Experiment/O.sativa_plus/Temp/blastn_database\n",
      "New DB title:  ././Experiment/O.sativa_plus/GCF_001433935.1.fna\n",
      "Sequence type: Nucleotide\n",
      "Keep MBits: T\n",
      "Maximum file size: 1000000000B\n",
      "Adding sequences from FASTA; added 58 sequences in 5.91597 seconds.\n"
     ]
    }
   ],
   "source": [
    "path = f'./{experiment_dir}/{experiment}/{input_genome_name}'\n",
    "!makeblastdb -in {path} -dbtype nucl -out ./{temp_path}/blastn_database"
   ]
  },
  {
   "cell_type": "code",
   "execution_count": 22,
   "metadata": {
    "ExecuteTime": {
     "end_time": "2022-07-12T11:00:41.028809Z",
     "start_time": "2022-07-12T11:00:41.023921Z"
    },
    "hidden": true
   },
   "outputs": [],
   "source": [
    "header = 'qseqid sseqid qstart qend sstart send qseq sseq evalue bitscore score length pident nident mismatch positive gapopen gaps ppos frames qframe sframe sstrand qcovs qcovhsp qlen slen'"
   ]
  },
  {
   "cell_type": "code",
   "execution_count": 23,
   "metadata": {
    "ExecuteTime": {
     "end_time": "2022-07-12T11:10:31.788877Z",
     "start_time": "2022-07-12T11:00:45.178198Z"
    },
    "hidden": true
   },
   "outputs": [],
   "source": [
    "!blastn -query ./{temp_path}/BLASTn_queries.fasta \\\n",
    "        -out ./{temp_path}/BLASTn_result \\\n",
    "        -num_threads {mp.cpu_count()} \\\n",
    "        -db ./{temp_path}/blastn_database \\\n",
    "        -word_size 7 \\\n",
    "        -penalty -3 \\\n",
    "        -reward 2 \\\n",
    "        -gapopen 5 \\\n",
    "        -gapextend 2 \\\n",
    "        -outfmt '6 qseqid sseqid qstart qend sstart send qseq sseq evalue bitscore score length pident nident mismatch positive gapopen gaps ppos frames qframe sframe sstrand qcovs qcovhsp qlen slen'       "
   ]
  },
  {
   "cell_type": "code",
   "execution_count": 60,
   "metadata": {
    "ExecuteTime": {
     "end_time": "2022-07-12T11:31:47.851280Z",
     "start_time": "2022-07-12T11:31:40.342940Z"
    },
    "hidden": true,
    "scrolled": false
   },
   "outputs": [
    {
     "name": "stdout",
     "output_type": "stream",
     "text": [
      "(1035831, 27)\n"
     ]
    },
    {
     "data": {
      "text/html": [
       "<div>\n",
       "<style scoped>\n",
       "    .dataframe tbody tr th:only-of-type {\n",
       "        vertical-align: middle;\n",
       "    }\n",
       "\n",
       "    .dataframe tbody tr th {\n",
       "        vertical-align: top;\n",
       "    }\n",
       "\n",
       "    .dataframe thead th {\n",
       "        text-align: right;\n",
       "    }\n",
       "</style>\n",
       "<table border=\"1\" class=\"dataframe\">\n",
       "  <thead>\n",
       "    <tr style=\"text-align: right;\">\n",
       "      <th></th>\n",
       "      <th>qseqid</th>\n",
       "      <th>sseqid</th>\n",
       "      <th>qstart</th>\n",
       "      <th>qend</th>\n",
       "      <th>sstart</th>\n",
       "      <th>send</th>\n",
       "      <th>qseq</th>\n",
       "      <th>sseq</th>\n",
       "      <th>evalue</th>\n",
       "      <th>bitscore</th>\n",
       "      <th>...</th>\n",
       "      <th>gaps</th>\n",
       "      <th>ppos</th>\n",
       "      <th>frames</th>\n",
       "      <th>qframe</th>\n",
       "      <th>sframe</th>\n",
       "      <th>sstrand</th>\n",
       "      <th>qcovs</th>\n",
       "      <th>qcovhsp</th>\n",
       "      <th>qlen</th>\n",
       "      <th>slen</th>\n",
       "    </tr>\n",
       "  </thead>\n",
       "  <tbody>\n",
       "    <tr>\n",
       "      <th>0</th>\n",
       "      <td>C446</td>\n",
       "      <td>NC_029256.1</td>\n",
       "      <td>1</td>\n",
       "      <td>100</td>\n",
       "      <td>22524246</td>\n",
       "      <td>22524147</td>\n",
       "      <td>GGAGGGTGACAGAAGAGAGTGAGCACACGTGGTTGTTTCCTTGCAT...</td>\n",
       "      <td>GGAGGGTGACAGAAGAGAGTGAGCACACGTGGTTGTTTCCTTGCAT...</td>\n",
       "      <td>5.790000e-45</td>\n",
       "      <td>181.0</td>\n",
       "      <td>...</td>\n",
       "      <td>0</td>\n",
       "      <td>100.00</td>\n",
       "      <td>1/-1</td>\n",
       "      <td>1</td>\n",
       "      <td>-1</td>\n",
       "      <td>minus</td>\n",
       "      <td>100</td>\n",
       "      <td>100</td>\n",
       "      <td>100</td>\n",
       "      <td>43270923</td>\n",
       "    </tr>\n",
       "    <tr>\n",
       "      <th>1</th>\n",
       "      <td>C446</td>\n",
       "      <td>NC_029256.1</td>\n",
       "      <td>2</td>\n",
       "      <td>95</td>\n",
       "      <td>4665998</td>\n",
       "      <td>4666093</td>\n",
       "      <td>GAGGGTGACAGAAGAGAGTGAGCACACGTGGTTGTTTCCTTGCATA...</td>\n",
       "      <td>GAGGCTGACAGAAGAGAGTGAGCACACATGGTGACTTTCTTGCATG...</td>\n",
       "      <td>2.310000e-18</td>\n",
       "      <td>93.3</td>\n",
       "      <td>...</td>\n",
       "      <td>6</td>\n",
       "      <td>82.65</td>\n",
       "      <td>1/1</td>\n",
       "      <td>1</td>\n",
       "      <td>1</td>\n",
       "      <td>plus</td>\n",
       "      <td>100</td>\n",
       "      <td>94</td>\n",
       "      <td>100</td>\n",
       "      <td>43270923</td>\n",
       "    </tr>\n",
       "  </tbody>\n",
       "</table>\n",
       "<p>2 rows × 27 columns</p>\n",
       "</div>"
      ],
      "text/plain": [
       "  qseqid       sseqid  qstart  qend    sstart      send  \\\n",
       "0   C446  NC_029256.1       1   100  22524246  22524147   \n",
       "1   C446  NC_029256.1       2    95   4665998   4666093   \n",
       "\n",
       "                                                qseq  \\\n",
       "0  GGAGGGTGACAGAAGAGAGTGAGCACACGTGGTTGTTTCCTTGCAT...   \n",
       "1  GAGGGTGACAGAAGAGAGTGAGCACACGTGGTTGTTTCCTTGCATA...   \n",
       "\n",
       "                                                sseq        evalue  bitscore  \\\n",
       "0  GGAGGGTGACAGAAGAGAGTGAGCACACGTGGTTGTTTCCTTGCAT...  5.790000e-45     181.0   \n",
       "1  GAGGCTGACAGAAGAGAGTGAGCACACATGGTGACTTTCTTGCATG...  2.310000e-18      93.3   \n",
       "\n",
       "   ...  gaps    ppos  frames  qframe  sframe  sstrand  qcovs  qcovhsp  qlen  \\\n",
       "0  ...     0  100.00    1/-1       1      -1    minus    100      100   100   \n",
       "1  ...     6   82.65     1/1       1       1     plus    100       94   100   \n",
       "\n",
       "       slen  \n",
       "0  43270923  \n",
       "1  43270923  \n",
       "\n",
       "[2 rows x 27 columns]"
      ]
     },
     "execution_count": 60,
     "metadata": {},
     "output_type": "execute_result"
    }
   ],
   "source": [
    "df_blastn = pd.read_csv(f'./{temp_path}/BLASTn_result', sep='\\t',header=None)\n",
    "df_blastn.columns = header.replace(\"  \",\" \").split(\" \")\n",
    "print(df_blastn.shape)\n",
    "df_blastn.head(2)"
   ]
  },
  {
   "cell_type": "code",
   "execution_count": 61,
   "metadata": {
    "ExecuteTime": {
     "end_time": "2022-07-12T11:31:48.032652Z",
     "start_time": "2022-07-12T11:31:47.856690Z"
    },
    "hidden": true
   },
   "outputs": [
    {
     "name": "stdout",
     "output_type": "stream",
     "text": [
      "(590, 28)\n"
     ]
    },
    {
     "data": {
      "text/html": [
       "<div>\n",
       "<style scoped>\n",
       "    .dataframe tbody tr th:only-of-type {\n",
       "        vertical-align: middle;\n",
       "    }\n",
       "\n",
       "    .dataframe tbody tr th {\n",
       "        vertical-align: top;\n",
       "    }\n",
       "\n",
       "    .dataframe thead th {\n",
       "        text-align: right;\n",
       "    }\n",
       "</style>\n",
       "<table border=\"1\" class=\"dataframe\">\n",
       "  <thead>\n",
       "    <tr style=\"text-align: right;\">\n",
       "      <th></th>\n",
       "      <th>qseqid</th>\n",
       "      <th>sseqid</th>\n",
       "      <th>qstart</th>\n",
       "      <th>qend</th>\n",
       "      <th>sstart</th>\n",
       "      <th>send</th>\n",
       "      <th>qseq</th>\n",
       "      <th>sseq</th>\n",
       "      <th>evalue</th>\n",
       "      <th>bitscore</th>\n",
       "      <th>...</th>\n",
       "      <th>ppos</th>\n",
       "      <th>frames</th>\n",
       "      <th>qframe</th>\n",
       "      <th>sframe</th>\n",
       "      <th>sstrand</th>\n",
       "      <th>qcovs</th>\n",
       "      <th>qcovhsp</th>\n",
       "      <th>qlen</th>\n",
       "      <th>slen</th>\n",
       "      <th>Nonconformity</th>\n",
       "    </tr>\n",
       "  </thead>\n",
       "  <tbody>\n",
       "    <tr>\n",
       "      <th>0</th>\n",
       "      <td>C446</td>\n",
       "      <td>NC_029256.1</td>\n",
       "      <td>1</td>\n",
       "      <td>100</td>\n",
       "      <td>22524246</td>\n",
       "      <td>22524147</td>\n",
       "      <td>GGAGGGTGACAGAAGAGAGTGAGCACACGTGGTTGTTTCCTTGCAT...</td>\n",
       "      <td>GGAGGGTGACAGAAGAGAGTGAGCACACGTGGTTGTTTCCTTGCAT...</td>\n",
       "      <td>5.790000e-45</td>\n",
       "      <td>181.0</td>\n",
       "      <td>...</td>\n",
       "      <td>100.0</td>\n",
       "      <td>1/-1</td>\n",
       "      <td>1</td>\n",
       "      <td>-1</td>\n",
       "      <td>minus</td>\n",
       "      <td>100</td>\n",
       "      <td>100</td>\n",
       "      <td>100</td>\n",
       "      <td>43270923</td>\n",
       "      <td>0</td>\n",
       "    </tr>\n",
       "    <tr>\n",
       "      <th>60</th>\n",
       "      <td>C167</td>\n",
       "      <td>NC_029256.1</td>\n",
       "      <td>1</td>\n",
       "      <td>176</td>\n",
       "      <td>4666341</td>\n",
       "      <td>4666516</td>\n",
       "      <td>TTGTCTTGAGAGGGGAAGAGATCTCTATGGGTTTTGGAGGTCTGAC...</td>\n",
       "      <td>TTGTCTTGAGAGGGGAAGAGATCTCTATGGGTTTTGGAGGTCTGAC...</td>\n",
       "      <td>6.480000e-86</td>\n",
       "      <td>318.0</td>\n",
       "      <td>...</td>\n",
       "      <td>100.0</td>\n",
       "      <td>1/1</td>\n",
       "      <td>1</td>\n",
       "      <td>1</td>\n",
       "      <td>plus</td>\n",
       "      <td>100</td>\n",
       "      <td>100</td>\n",
       "      <td>176</td>\n",
       "      <td>43270923</td>\n",
       "      <td>0</td>\n",
       "    </tr>\n",
       "  </tbody>\n",
       "</table>\n",
       "<p>2 rows × 28 columns</p>\n",
       "</div>"
      ],
      "text/plain": [
       "   qseqid       sseqid  qstart  qend    sstart      send  \\\n",
       "0    C446  NC_029256.1       1   100  22524246  22524147   \n",
       "60   C167  NC_029256.1       1   176   4666341   4666516   \n",
       "\n",
       "                                                 qseq  \\\n",
       "0   GGAGGGTGACAGAAGAGAGTGAGCACACGTGGTTGTTTCCTTGCAT...   \n",
       "60  TTGTCTTGAGAGGGGAAGAGATCTCTATGGGTTTTGGAGGTCTGAC...   \n",
       "\n",
       "                                                 sseq        evalue  bitscore  \\\n",
       "0   GGAGGGTGACAGAAGAGAGTGAGCACACGTGGTTGTTTCCTTGCAT...  5.790000e-45     181.0   \n",
       "60  TTGTCTTGAGAGGGGAAGAGATCTCTATGGGTTTTGGAGGTCTGAC...  6.480000e-86     318.0   \n",
       "\n",
       "    ...   ppos  frames  qframe  sframe  sstrand  qcovs  qcovhsp  qlen  \\\n",
       "0   ...  100.0    1/-1       1      -1    minus    100      100   100   \n",
       "60  ...  100.0     1/1       1       1     plus    100      100   176   \n",
       "\n",
       "        slen Nonconformity  \n",
       "0   43270923             0  \n",
       "60  43270923             0  \n",
       "\n",
       "[2 rows x 28 columns]"
      ]
     },
     "execution_count": 61,
     "metadata": {},
     "output_type": "execute_result"
    }
   ],
   "source": [
    "threshold = 0\n",
    "df_blastn['Nonconformity'] = df_blastn['qlen'] - (abs(df_blastn['qend'] - df_blastn['qstart']) + 1) + df_blastn['gaps'] + df_blastn['mismatch']\n",
    "df_blastn = df_blastn[df_blastn['Nonconformity'] <= threshold]\n",
    "print(df_blastn.shape)\n",
    "df_blastn.head(2)"
   ]
  },
  {
   "cell_type": "code",
   "execution_count": 62,
   "metadata": {
    "ExecuteTime": {
     "end_time": "2022-07-12T11:31:48.296987Z",
     "start_time": "2022-07-12T11:31:48.036514Z"
    },
    "hidden": true
   },
   "outputs": [],
   "source": [
    "# alignment length adjustment\n",
    "def blastn_adjust(row):\n",
    "    if(row['sstrand'] == \"plus\"):        \n",
    "        row['sstart'] = max(1, row['sstart'] - (row['qstart'] - 1))\n",
    "        row['send'] = min(row['slen'], row['send'] + (row['qlen'] - row['qend']))\n",
    "    if(row['sstrand'] == \"minus\"):        \n",
    "        row['send'] = max(1, row['send'] - (row['qstart'] - 1 ))\n",
    "        row['sstart'] = min(row['slen'], row['sstart'] + (row['qlen'] - row['qend'] ))\n",
    "    return row\n",
    "    \n",
    "df_blastn = df_blastn.apply(lambda row: blastn_adjust(row), axis=1)"
   ]
  },
  {
   "cell_type": "code",
   "execution_count": 63,
   "metadata": {
    "ExecuteTime": {
     "end_time": "2022-07-12T11:31:48.335052Z",
     "start_time": "2022-07-12T11:31:48.300654Z"
    },
    "hidden": true,
    "scrolled": false
   },
   "outputs": [
    {
     "name": "stdout",
     "output_type": "stream",
     "text": [
      "(590, 28)\n"
     ]
    }
   ],
   "source": [
    "# remore redundancy and hold best one base of Nonconformity value\n",
    "df_blastn = df_blastn.sort_values([\"Nonconformity\", \"evalue\"], ascending = (True, True))\n",
    "df_blastn = df_blastn.drop_duplicates(subset=['sseqid','sstart', 'qseqid', 'send','sstrand'], keep='first')\n",
    "df_blastn.to_csv(f'./{temp_path}/filtered_out_blastn.csv')\n",
    "print(df_blastn.shape)"
   ]
  },
  {
   "cell_type": "code",
   "execution_count": 64,
   "metadata": {
    "ExecuteTime": {
     "end_time": "2022-07-12T11:31:48.394167Z",
     "start_time": "2022-07-12T11:31:48.338385Z"
    },
    "hidden": true,
    "scrolled": true
   },
   "outputs": [
    {
     "name": "stdout",
     "output_type": "stream",
     "text": [
      "(727, 30)\n",
      "(727, 36)\n"
     ]
    },
    {
     "data": {
      "text/html": [
       "<div>\n",
       "<style scoped>\n",
       "    .dataframe tbody tr th:only-of-type {\n",
       "        vertical-align: middle;\n",
       "    }\n",
       "\n",
       "    .dataframe tbody tr th {\n",
       "        vertical-align: top;\n",
       "    }\n",
       "\n",
       "    .dataframe thead th {\n",
       "        text-align: right;\n",
       "    }\n",
       "</style>\n",
       "<table border=\"1\" class=\"dataframe\">\n",
       "  <thead>\n",
       "    <tr style=\"text-align: right;\">\n",
       "      <th></th>\n",
       "      <th>qseqid</th>\n",
       "      <th>sseqid</th>\n",
       "      <th>qstart</th>\n",
       "      <th>qend</th>\n",
       "      <th>sstart</th>\n",
       "      <th>send</th>\n",
       "      <th>qseq</th>\n",
       "      <th>sseq</th>\n",
       "      <th>evalue</th>\n",
       "      <th>bitscore</th>\n",
       "      <th>...</th>\n",
       "      <th>slen</th>\n",
       "      <th>Nonconformity</th>\n",
       "      <th>seqid</th>\n",
       "      <th>cluster</th>\n",
       "      <th>data</th>\n",
       "      <th>hit_start</th>\n",
       "      <th>hit_end</th>\n",
       "      <th>hit</th>\n",
       "      <th>confidence</th>\n",
       "      <th>tag</th>\n",
       "    </tr>\n",
       "  </thead>\n",
       "  <tbody>\n",
       "    <tr>\n",
       "      <th>0</th>\n",
       "      <td>C4</td>\n",
       "      <td>NC_029260.1</td>\n",
       "      <td>1</td>\n",
       "      <td>471</td>\n",
       "      <td>26049315</td>\n",
       "      <td>26049785</td>\n",
       "      <td>CAGAGTGTCTTCGCCAAAATGCCATCCCGAACAGAAATGCCACTTC...</td>\n",
       "      <td>CAGAGTGTCTTCGCCAAAATGCCATCCCGAACAGAAATGCCACTTC...</td>\n",
       "      <td>0.0</td>\n",
       "      <td>850.0</td>\n",
       "      <td>...</td>\n",
       "      <td>29958434</td>\n",
       "      <td>0</td>\n",
       "      <td>278</td>\n",
       "      <td>C4</td>\n",
       "      <td>cagagugucuucgccaaaaugccaucccgaacagaaaugccacuuc...</td>\n",
       "      <td>439</td>\n",
       "      <td>459</td>\n",
       "      <td>CGUCUGGGAUGGCAUUUUGGC</td>\n",
       "      <td>False</td>\n",
       "      <td>278</td>\n",
       "    </tr>\n",
       "    <tr>\n",
       "      <th>1</th>\n",
       "      <td>C14</td>\n",
       "      <td>NC_029257.1</td>\n",
       "      <td>1</td>\n",
       "      <td>374</td>\n",
       "      <td>8521746</td>\n",
       "      <td>8522119</td>\n",
       "      <td>CCATATCTCTAGTCTAATATGGTATCCGAGCTTATTGGTTAGTTGC...</td>\n",
       "      <td>CCATATCTCTAGTCTAATATGGTATCCGAGCTTATTGGTTAGTTGC...</td>\n",
       "      <td>0.0</td>\n",
       "      <td>675.0</td>\n",
       "      <td>...</td>\n",
       "      <td>35937250</td>\n",
       "      <td>0</td>\n",
       "      <td>319</td>\n",
       "      <td>C14</td>\n",
       "      <td>ccauaucucuagucuaauaugguauccgagcuuauugguuaguugc...</td>\n",
       "      <td>341</td>\n",
       "      <td>364</td>\n",
       "      <td>AGCUCUGAUACCAUGUUAGAUUAG</td>\n",
       "      <td>False</td>\n",
       "      <td>319</td>\n",
       "    </tr>\n",
       "    <tr>\n",
       "      <th>2</th>\n",
       "      <td>C19</td>\n",
       "      <td>NC_029266.1</td>\n",
       "      <td>1</td>\n",
       "      <td>360</td>\n",
       "      <td>2524994</td>\n",
       "      <td>2525353</td>\n",
       "      <td>CTTAGATTATTTCATAGTTCGGTTTGTAGAATACCATCTTCGAGTT...</td>\n",
       "      <td>CTTAGATTATTTCATAGTTCGGTTTGTAGAATACCATCTTCGAGTT...</td>\n",
       "      <td>0.0</td>\n",
       "      <td>650.0</td>\n",
       "      <td>...</td>\n",
       "      <td>29021106</td>\n",
       "      <td>0</td>\n",
       "      <td>435</td>\n",
       "      <td>C19</td>\n",
       "      <td>cuuagauuauuucauaguucgguuuguagaauaccaucuucgaguu...</td>\n",
       "      <td>331</td>\n",
       "      <td>351</td>\n",
       "      <td>UGGGGUUCUACAAACCGAACU</td>\n",
       "      <td>False</td>\n",
       "      <td>435</td>\n",
       "    </tr>\n",
       "    <tr>\n",
       "      <th>3</th>\n",
       "      <td>C18</td>\n",
       "      <td>NC_029259.1</td>\n",
       "      <td>1</td>\n",
       "      <td>361</td>\n",
       "      <td>28585568</td>\n",
       "      <td>28585208</td>\n",
       "      <td>AATCTTGGTTTAATGTATCATCCGATGTCCAAAGTGCAGATGACGC...</td>\n",
       "      <td>AATCTTGGTTTAATGTATCATCCGATGTCCAAAGTGCAGATGACGC...</td>\n",
       "      <td>0.0</td>\n",
       "      <td>652.0</td>\n",
       "      <td>...</td>\n",
       "      <td>35502694</td>\n",
       "      <td>0</td>\n",
       "      <td>441</td>\n",
       "      <td>C18</td>\n",
       "      <td>aaucuugguuuaauguaucauccgauguccaaagugcagaugacgc...</td>\n",
       "      <td>292</td>\n",
       "      <td>315</td>\n",
       "      <td>UUGCAUCCUCUGCACUUUGGGCCU</td>\n",
       "      <td>False</td>\n",
       "      <td>441</td>\n",
       "    </tr>\n",
       "    <tr>\n",
       "      <th>4</th>\n",
       "      <td>C20</td>\n",
       "      <td>NC_029267.1</td>\n",
       "      <td>1</td>\n",
       "      <td>360</td>\n",
       "      <td>4867257</td>\n",
       "      <td>4867616</td>\n",
       "      <td>CAATAGCAATGCATCAGTTACGTTTCCTACATAGTTACATGGTATC...</td>\n",
       "      <td>CAATAGCAATGCATCAGTTACGTTTCCTACATAGTTACATGGTATC...</td>\n",
       "      <td>0.0</td>\n",
       "      <td>650.0</td>\n",
       "      <td>...</td>\n",
       "      <td>27531856</td>\n",
       "      <td>0</td>\n",
       "      <td>450</td>\n",
       "      <td>C20</td>\n",
       "      <td>caauagcaaugcaucaguuacguuuccuacauaguuacaugguauc...</td>\n",
       "      <td>329</td>\n",
       "      <td>351</td>\n",
       "      <td>AGAGACUUGGCUGAUGCAUUACU</td>\n",
       "      <td>False</td>\n",
       "      <td>450</td>\n",
       "    </tr>\n",
       "  </tbody>\n",
       "</table>\n",
       "<p>5 rows × 36 columns</p>\n",
       "</div>"
      ],
      "text/plain": [
       "  qseqid       sseqid  qstart  qend    sstart      send  \\\n",
       "0     C4  NC_029260.1       1   471  26049315  26049785   \n",
       "1    C14  NC_029257.1       1   374   8521746   8522119   \n",
       "2    C19  NC_029266.1       1   360   2524994   2525353   \n",
       "3    C18  NC_029259.1       1   361  28585568  28585208   \n",
       "4    C20  NC_029267.1       1   360   4867257   4867616   \n",
       "\n",
       "                                                qseq  \\\n",
       "0  CAGAGTGTCTTCGCCAAAATGCCATCCCGAACAGAAATGCCACTTC...   \n",
       "1  CCATATCTCTAGTCTAATATGGTATCCGAGCTTATTGGTTAGTTGC...   \n",
       "2  CTTAGATTATTTCATAGTTCGGTTTGTAGAATACCATCTTCGAGTT...   \n",
       "3  AATCTTGGTTTAATGTATCATCCGATGTCCAAAGTGCAGATGACGC...   \n",
       "4  CAATAGCAATGCATCAGTTACGTTTCCTACATAGTTACATGGTATC...   \n",
       "\n",
       "                                                sseq  evalue  bitscore  ...  \\\n",
       "0  CAGAGTGTCTTCGCCAAAATGCCATCCCGAACAGAAATGCCACTTC...     0.0     850.0  ...   \n",
       "1  CCATATCTCTAGTCTAATATGGTATCCGAGCTTATTGGTTAGTTGC...     0.0     675.0  ...   \n",
       "2  CTTAGATTATTTCATAGTTCGGTTTGTAGAATACCATCTTCGAGTT...     0.0     650.0  ...   \n",
       "3  AATCTTGGTTTAATGTATCATCCGATGTCCAAAGTGCAGATGACGC...     0.0     652.0  ...   \n",
       "4  CAATAGCAATGCATCAGTTACGTTTCCTACATAGTTACATGGTATC...     0.0     650.0  ...   \n",
       "\n",
       "       slen  Nonconformity  seqid  cluster  \\\n",
       "0  29958434              0    278       C4   \n",
       "1  35937250              0    319      C14   \n",
       "2  29021106              0    435      C19   \n",
       "3  35502694              0    441      C18   \n",
       "4  27531856              0    450      C20   \n",
       "\n",
       "                                                data  hit_start  hit_end  \\\n",
       "0  cagagugucuucgccaaaaugccaucccgaacagaaaugccacuuc...        439      459   \n",
       "1  ccauaucucuagucuaauaugguauccgagcuuauugguuaguugc...        341      364   \n",
       "2  cuuagauuauuucauaguucgguuuguagaauaccaucuucgaguu...        331      351   \n",
       "3  aaucuugguuuaauguaucauccgauguccaaagugcagaugacgc...        292      315   \n",
       "4  caauagcaaugcaucaguuacguuuccuacauaguuacaugguauc...        329      351   \n",
       "\n",
       "                        hit  confidence  tag  \n",
       "0     CGUCUGGGAUGGCAUUUUGGC       False  278  \n",
       "1  AGCUCUGAUACCAUGUUAGAUUAG       False  319  \n",
       "2     UGGGGUUCUACAAACCGAACU       False  435  \n",
       "3  UUGCAUCCUCUGCACUUUGGGCCU       False  441  \n",
       "4   AGAGACUUGGCUGAUGCAUUACU       False  450  \n",
       "\n",
       "[5 rows x 36 columns]"
      ]
     },
     "execution_count": 64,
     "metadata": {},
     "output_type": "execute_result"
    }
   ],
   "source": [
    "df_blastn = pd.merge(df_blastn, seq2cluster, how='inner', left_on='qseqid', right_on='cluster')\n",
    "df_blastn = pd.merge(df_blastn, precursor, how='inner', left_on='seqid', right_on='tag')\n",
    "print(df_blastn.shape)\n",
    "df_blastn.head()"
   ]
  },
  {
   "cell_type": "markdown",
   "metadata": {
    "heading_collapsed": true
   },
   "source": [
    "# Result of the blastn to bed file"
   ]
  },
  {
   "cell_type": "code",
   "execution_count": 131,
   "metadata": {
    "ExecuteTime": {
     "end_time": "2022-07-12T12:16:38.703397Z",
     "start_time": "2022-07-12T12:16:38.680032Z"
    },
    "hidden": true
   },
   "outputs": [
    {
     "name": "stderr",
     "output_type": "stream",
     "text": [
      "<ipython-input-131-3cfdabc28c3c>:3: SettingWithCopyWarning: \n",
      "A value is trying to be set on a copy of a slice from a DataFrame.\n",
      "Try using .loc[row_indexer,col_indexer] = value instead\n",
      "\n",
      "See the caveats in the documentation: https://pandas.pydata.org/pandas-docs/stable/user_guide/indexing.html#returning-a-view-versus-a-copy\n",
      "  df['ones'] = 1\n"
     ]
    },
    {
     "data": {
      "text/html": [
       "<div>\n",
       "<style scoped>\n",
       "    .dataframe tbody tr th:only-of-type {\n",
       "        vertical-align: middle;\n",
       "    }\n",
       "\n",
       "    .dataframe tbody tr th {\n",
       "        vertical-align: top;\n",
       "    }\n",
       "\n",
       "    .dataframe thead th {\n",
       "        text-align: right;\n",
       "    }\n",
       "</style>\n",
       "<table border=\"1\" class=\"dataframe\">\n",
       "  <thead>\n",
       "    <tr style=\"text-align: right;\">\n",
       "      <th></th>\n",
       "      <th>qseqid</th>\n",
       "      <th>sseqid</th>\n",
       "      <th>sstart</th>\n",
       "      <th>send</th>\n",
       "      <th>sstrand</th>\n",
       "      <th>slen</th>\n",
       "      <th>hit_start</th>\n",
       "      <th>hit_end</th>\n",
       "      <th>ones</th>\n",
       "    </tr>\n",
       "  </thead>\n",
       "  <tbody>\n",
       "    <tr>\n",
       "      <th>0</th>\n",
       "      <td>C4</td>\n",
       "      <td>NC_029260.1</td>\n",
       "      <td>26049315</td>\n",
       "      <td>26049785</td>\n",
       "      <td>plus</td>\n",
       "      <td>29958434</td>\n",
       "      <td>439</td>\n",
       "      <td>459</td>\n",
       "      <td>1</td>\n",
       "    </tr>\n",
       "    <tr>\n",
       "      <th>1</th>\n",
       "      <td>C14</td>\n",
       "      <td>NC_029257.1</td>\n",
       "      <td>8521746</td>\n",
       "      <td>8522119</td>\n",
       "      <td>plus</td>\n",
       "      <td>35937250</td>\n",
       "      <td>341</td>\n",
       "      <td>364</td>\n",
       "      <td>1</td>\n",
       "    </tr>\n",
       "  </tbody>\n",
       "</table>\n",
       "</div>"
      ],
      "text/plain": [
       "  qseqid       sseqid    sstart      send sstrand      slen  hit_start  \\\n",
       "0     C4  NC_029260.1  26049315  26049785    plus  29958434        439   \n",
       "1    C14  NC_029257.1   8521746   8522119    plus  35937250        341   \n",
       "\n",
       "   hit_end  ones  \n",
       "0      459     1  \n",
       "1      364     1  "
      ]
     },
     "execution_count": 131,
     "metadata": {},
     "output_type": "execute_result"
    }
   ],
   "source": [
    "flanking_value = 20\n",
    "df = df_blastn[['qseqid', 'sseqid', 'sstart', 'send', 'sstrand','slen', 'hit_start', 'hit_end']]\n",
    "df['ones'] = 1\n",
    "df.head(2)"
   ]
  },
  {
   "cell_type": "code",
   "execution_count": 132,
   "metadata": {
    "ExecuteTime": {
     "end_time": "2022-07-12T12:16:39.180693Z",
     "start_time": "2022-07-12T12:16:39.046523Z"
    },
    "hidden": true
   },
   "outputs": [],
   "source": [
    "def switch(row):\n",
    "    if(row['sstart'] > row['send']):        \n",
    "        temp = row['sstart']\n",
    "        row['sstart'] = row['send']\n",
    "        row['send'] = temp\n",
    "    return row\n",
    "df = df.apply(lambda row: switch(row), axis=1)"
   ]
  },
  {
   "cell_type": "code",
   "execution_count": 133,
   "metadata": {
    "ExecuteTime": {
     "end_time": "2022-07-12T12:16:39.264155Z",
     "start_time": "2022-07-12T12:16:39.256206Z"
    },
    "hidden": true
   },
   "outputs": [],
   "source": [
    "def convert(inp):\n",
    "    if(inp == \"plus\"):\n",
    "        return \"forward\"\n",
    "    if(inp == \"minus\"):\n",
    "        return \"reverse\"\n",
    "    raise Exception('Error, sstrand contains illegal word! only \"plus\" and \"minus\" are allowed')\n",
    "df['strand'] = df['sstrand'].apply(lambda x: convert(x))"
   ]
  },
  {
   "cell_type": "code",
   "execution_count": 134,
   "metadata": {
    "ExecuteTime": {
     "end_time": "2022-07-12T12:16:39.480990Z",
     "start_time": "2022-07-12T12:16:39.473291Z"
    },
    "hidden": true
   },
   "outputs": [],
   "source": [
    "def convert2sign(inp):\n",
    "    if(inp == \"plus\"):\n",
    "        return \"+\"\n",
    "    if(inp == \"minus\"):\n",
    "        return \"-\"\n",
    "    raise Exception('Error, sstrand contains illegal word! only \"plus\" and \"minus\" are allowed')\n",
    "df['sign'] = df['sstrand'].apply(lambda x: convert2sign(x))"
   ]
  },
  {
   "cell_type": "code",
   "execution_count": 135,
   "metadata": {
    "ExecuteTime": {
     "end_time": "2022-07-12T12:16:39.693251Z",
     "start_time": "2022-07-12T12:16:39.662234Z"
    },
    "hidden": true
   },
   "outputs": [],
   "source": [
    "df['hit_length'] = df.apply(lambda row: abs(row['send'] - row['sstart']) + 1 ,axis=1)"
   ]
  },
  {
   "cell_type": "markdown",
   "metadata": {
    "hidden": true
   },
   "source": [
    "## convert sstart and send from location to index (range)"
   ]
  },
  {
   "cell_type": "code",
   "execution_count": 136,
   "metadata": {
    "ExecuteTime": {
     "end_time": "2022-07-12T12:16:40.044463Z",
     "start_time": "2022-07-12T12:16:40.037807Z"
    },
    "hidden": true
   },
   "outputs": [],
   "source": [
    "df['sstart'] = df['sstart'].apply(lambda x: x - 1)"
   ]
  },
  {
   "cell_type": "code",
   "execution_count": 137,
   "metadata": {
    "ExecuteTime": {
     "end_time": "2022-07-12T12:16:40.321601Z",
     "start_time": "2022-07-12T12:16:40.314341Z"
    },
    "hidden": true
   },
   "outputs": [],
   "source": [
    "df['downstream_flanking'] = df['sstart'].apply(lambda x: flanking_value if x > flanking_value else x)"
   ]
  },
  {
   "cell_type": "code",
   "execution_count": 138,
   "metadata": {
    "ExecuteTime": {
     "end_time": "2022-07-12T12:16:40.751455Z",
     "start_time": "2022-07-12T12:16:40.719338Z"
    },
    "hidden": true
   },
   "outputs": [],
   "source": [
    "df['upstream_flanking'] = df.apply(lambda row: flanking_value if (row['send']+flanking_value) <= row['slen'] else row['slen'] - row['send'],axis=1)"
   ]
  },
  {
   "cell_type": "code",
   "execution_count": 139,
   "metadata": {
    "ExecuteTime": {
     "end_time": "2022-07-12T12:16:41.156132Z",
     "start_time": "2022-07-12T12:16:41.090188Z"
    },
    "hidden": true
   },
   "outputs": [],
   "source": [
    "df['hit_start'] = df.apply(lambda row: row['downstream_flanking'] + row['hit_start'] -1 if row['sign'] == \"+\" else row['upstream_flanking'] + row['hit_start'] -1, axis=1)\n",
    "df['hit_end'] = df.apply(lambda row: row['downstream_flanking'] + row['hit_end'] if row['sign'] == \"+\" else row['upstream_flanking'] + row['hit_end'],axis=1)"
   ]
  },
  {
   "cell_type": "code",
   "execution_count": 140,
   "metadata": {
    "ExecuteTime": {
     "end_time": "2022-07-12T12:16:41.506751Z",
     "start_time": "2022-07-12T12:16:41.454684Z"
    },
    "hidden": true
   },
   "outputs": [],
   "source": [
    "df['sstart'] = df['sstart'].apply(lambda x: max(x - flanking_value, 0))\n",
    "df['send'] = df.apply(lambda row: min(row['send'] + flanking_value , row['slen']),axis=1)"
   ]
  },
  {
   "cell_type": "code",
   "execution_count": 141,
   "metadata": {
    "ExecuteTime": {
     "end_time": "2022-07-12T12:16:41.964500Z",
     "start_time": "2022-07-12T12:16:41.914329Z"
    },
    "hidden": true
   },
   "outputs": [],
   "source": [
    "df['tag'] = df.apply(lambda row: f\">{row['sseqid']}:{row['sstart']}-{row['send']}({row['sign']})\",axis=1)\n",
    "df['reformated_tag'] = df['tag'].apply(lambda t: reformat(t))\n",
    "df[['tag', 'reformated_tag', 'hit_start', 'hit_end']].to_csv(f'./{temp_path}/hit_index_info.csv')#, index=False)"
   ]
  },
  {
   "cell_type": "code",
   "execution_count": 142,
   "metadata": {
    "ExecuteTime": {
     "end_time": "2022-07-12T12:16:42.336089Z",
     "start_time": "2022-07-12T12:16:42.280493Z"
    },
    "hidden": true
   },
   "outputs": [],
   "source": [
    "df['location_tag'] = df.apply(lambda row: f\">{row['sseqid']}|{row['sign']}|{row['sstart'] + 1}-{row['send']}|{row['hit_start']+1}-{row['hit_end']}\",axis=1)\n",
    "df[['location_tag','qseqid']].to_csv(f'./{temp_path}/pipe_seprated_location_list.csv',index=False,sep='\\t')"
   ]
  },
  {
   "cell_type": "code",
   "execution_count": 143,
   "metadata": {
    "ExecuteTime": {
     "end_time": "2022-07-12T12:16:42.665616Z",
     "start_time": "2022-07-12T12:16:42.654864Z"
    },
    "hidden": true
   },
   "outputs": [],
   "source": [
    "df[['sseqid','sstart','send','strand','ones', 'sign']].to_csv(f'./{temp_path}/extension_index.bed', \n",
    "        index=False, header=False, sep=\"\\t\")"
   ]
  },
  {
   "cell_type": "markdown",
   "metadata": {
    "heading_collapsed": true
   },
   "source": [
    "# Extention"
   ]
  },
  {
   "cell_type": "code",
   "execution_count": 144,
   "metadata": {
    "ExecuteTime": {
     "end_time": "2022-07-12T12:16:44.552905Z",
     "start_time": "2022-07-12T12:16:44.087003Z"
    },
    "hidden": true
   },
   "outputs": [
    {
     "name": "stdout",
     "output_type": "stream",
     "text": [
      "rm: cannot remove 'input_genome.fna.fai': No such file or directory\r\n"
     ]
    }
   ],
   "source": [
    "!bedtools getfasta -fi {input_genome_path} -fo ./{temp_path}/extended_original.txt -s -bed ./{temp_path}/extension_index.bed\n",
    "!rm input_genome.fna.fai"
   ]
  },
  {
   "cell_type": "markdown",
   "metadata": {
    "heading_collapsed": true
   },
   "source": [
    "# Convert hit region to upper case and other region to lower case"
   ]
  },
  {
   "cell_type": "code",
   "execution_count": 145,
   "metadata": {
    "ExecuteTime": {
     "end_time": "2022-07-12T12:16:45.264815Z",
     "start_time": "2022-07-12T12:16:45.234809Z"
    },
    "hidden": true
   },
   "outputs": [
    {
     "name": "stdout",
     "output_type": "stream",
     "text": [
      "(727, 5)\n"
     ]
    },
    {
     "data": {
      "text/html": [
       "<div>\n",
       "<style scoped>\n",
       "    .dataframe tbody tr th:only-of-type {\n",
       "        vertical-align: middle;\n",
       "    }\n",
       "\n",
       "    .dataframe tbody tr th {\n",
       "        vertical-align: top;\n",
       "    }\n",
       "\n",
       "    .dataframe thead th {\n",
       "        text-align: right;\n",
       "    }\n",
       "</style>\n",
       "<table border=\"1\" class=\"dataframe\">\n",
       "  <thead>\n",
       "    <tr style=\"text-align: right;\">\n",
       "      <th></th>\n",
       "      <th>Unnamed: 0</th>\n",
       "      <th>tag</th>\n",
       "      <th>reformated_tag</th>\n",
       "      <th>hit_start</th>\n",
       "      <th>hit_end</th>\n",
       "    </tr>\n",
       "  </thead>\n",
       "  <tbody>\n",
       "    <tr>\n",
       "      <th>0</th>\n",
       "      <td>0</td>\n",
       "      <td>NC_029260.1:26049294-26049805(+)</td>\n",
       "      <td>&gt;NC_0292601_26049294-26049805_+_</td>\n",
       "      <td>458</td>\n",
       "      <td>479</td>\n",
       "    </tr>\n",
       "    <tr>\n",
       "      <th>1</th>\n",
       "      <td>1</td>\n",
       "      <td>NC_029257.1:8521725-8522139(+)</td>\n",
       "      <td>&gt;NC_0292571_8521725-8522139_+_</td>\n",
       "      <td>360</td>\n",
       "      <td>384</td>\n",
       "    </tr>\n",
       "  </tbody>\n",
       "</table>\n",
       "</div>"
      ],
      "text/plain": [
       "   Unnamed: 0                               tag  \\\n",
       "0           0  NC_029260.1:26049294-26049805(+)   \n",
       "1           1    NC_029257.1:8521725-8522139(+)   \n",
       "\n",
       "                     reformated_tag  hit_start  hit_end  \n",
       "0  >NC_0292601_26049294-26049805_+_        458      479  \n",
       "1    >NC_0292571_8521725-8522139_+_        360      384  "
      ]
     },
     "execution_count": 145,
     "metadata": {},
     "output_type": "execute_result"
    }
   ],
   "source": [
    "ext = fasta_to_df(f'./{temp_path}/extended_original.txt')\n",
    "info = pd.read_csv(f'./{temp_path}/hit_index_info.csv')\n",
    "info['tag'] = info['tag'].apply(lambda x: x[1:])\n",
    "print(info.shape)\n",
    "info.head(2)"
   ]
  },
  {
   "cell_type": "code",
   "execution_count": 146,
   "metadata": {
    "ExecuteTime": {
     "end_time": "2022-07-12T12:16:46.104463Z",
     "start_time": "2022-07-12T12:16:45.938141Z"
    },
    "hidden": true
   },
   "outputs": [],
   "source": [
    "ext = ext.sort_values(by=['tag']).reset_index()\n",
    "ext['help_tag'] = ext.apply(lambda r: r['tag'] + str(r.name),axis=1)\n",
    "del ext['tag']\n",
    "\n",
    "info = info.sort_values(by=['tag']).reset_index()\n",
    "info['help_tag'] = info.apply(lambda row: row['tag']+ str(row.name),axis=1)\n",
    "def redefined_tag(row):\n",
    "    tag = row['tag']\n",
    "    [sstart, send] = tag.split(':')[-1].split('(')[0].split('-')\n",
    "    sstart = int(sstart) + 1\n",
    "    sign = tag.split('(')[-1].split(')')[0]    \n",
    "    return f\"{tag.split(':')[0]}|{sign}|{sstart}-{send}|{row['hit_start']+1}-{row['hit_end']}\"\n",
    "info['tag'] = info.apply(lambda row: redefined_tag(row),axis=1)\n",
    "ext = pd.merge(ext,info,how='inner', on='help_tag')\n",
    "\n",
    "def emphasis_hit(row):\n",
    "    seq = list(row['data'].lower())            \n",
    "    s = row['hit_start']\n",
    "    e = row['hit_end']\n",
    "    seq[s:e] = list(''.join(seq[s:e]).upper())    \n",
    "    return ''.join(seq)\n",
    "    \n",
    "ext['data'] = ext.apply(lambda row: emphasis_hit(row),axis=1)\n",
    "df_to_fasta(ext[['tag','data']],f\"./{temp_path}/extended_modified.txt\")"
   ]
  },
  {
   "cell_type": "markdown",
   "metadata": {
    "heading_collapsed": true
   },
   "source": [
    "# Protein coding elimination [Download nr]"
   ]
  },
  {
   "cell_type": "code",
   "execution_count": null,
   "metadata": {
    "ExecuteTime": {
     "start_time": "2022-05-19T07:59:48.196Z"
    },
    "hidden": true
   },
   "outputs": [],
   "source": [
    "!wget https://ftp.ncbi.nlm.nih.gov/blast/db/FASTA/nr.gz"
   ]
  },
  {
   "cell_type": "markdown",
   "metadata": {
    "heading_collapsed": true
   },
   "source": [
    "# Protein coding elimination [Diamond]"
   ]
  },
  {
   "cell_type": "code",
   "execution_count": 57,
   "metadata": {
    "ExecuteTime": {
     "end_time": "2022-06-16T00:49:37.151115Z",
     "start_time": "2022-06-16T00:49:37.146983Z"
    },
    "hidden": true
   },
   "outputs": [],
   "source": [
    "#!wget http://github.com/bbuchfink/diamond/releases/download/v2.0.13/diamond-linux64.tar.gz\n",
    "#!tar xzf diamond-linux64.tar.gz"
   ]
  },
  {
   "cell_type": "code",
   "execution_count": null,
   "metadata": {
    "ExecuteTime": {
     "start_time": "2022-05-19T07:59:48.202Z"
    },
    "hidden": true
   },
   "outputs": [],
   "source": [
    "!./diamond makedb --in ./NR/nr -d ./Temp/diamond_output"
   ]
  },
  {
   "cell_type": "code",
   "execution_count": 93,
   "metadata": {
    "ExecuteTime": {
     "end_time": "2022-06-24T17:24:49.025922Z",
     "start_time": "2022-06-24T17:24:48.876300Z"
    },
    "hidden": true
   },
   "outputs": [
    {
     "name": "stdout",
     "output_type": "stream",
     "text": [
      "/bin/bash: ./diamond: No such file or directory\r\n"
     ]
    }
   ],
   "source": [
    "!./diamond blastx -d ./Temp/diamond_output.dmnd \\\n",
    "                  -q ./Temp/extended_modified.txt \\\n",
    "                  -o ./Temp/diamond_matches.tsv \\\n",
    "                  -p 22"
   ]
  },
  {
   "cell_type": "code",
   "execution_count": 158,
   "metadata": {
    "ExecuteTime": {
     "end_time": "2022-07-15T10:34:48.107916Z",
     "start_time": "2022-07-15T10:34:48.070911Z"
    },
    "hidden": true
   },
   "outputs": [],
   "source": [
    "dmn = pd.read_csv(f\"./{temp_path}/diamond_matches.tsv\", sep='\\t', header=None)\n",
    "dmn.columns = 'qseqid sseqid pident length mismatch gapopen qstart qend sstart send evalue bitscore'.split(' ')\n",
    "coding_seq = dmn['qseqid'].unique()"
   ]
  },
  {
   "cell_type": "code",
   "execution_count": 159,
   "metadata": {
    "ExecuteTime": {
     "end_time": "2022-07-15T10:35:38.009069Z",
     "start_time": "2022-07-15T10:35:37.804304Z"
    },
    "hidden": true
   },
   "outputs": [
    {
     "name": "stdout",
     "output_type": "stream",
     "text": [
      "total:      727\n",
      "non_coding: 486\n",
      "coding:     241\n"
     ]
    }
   ],
   "source": [
    "def clear(inp):\n",
    "    if(inp[:9] == \"reverse::\"):\n",
    "        return inp[9:]\n",
    "    if(inp[:9] == \"forward::\"):\n",
    "        return inp[9:]\n",
    "    return inp\n",
    "coding_seq = pd.Series(coding_seq).apply(lambda x : clear(x))\n",
    "\n",
    "ext = fasta_to_df(f'./{temp_path}/extended_modified.txt')\n",
    "print(f'total:      {ext.shape[0]}')\n",
    "non_coding = ext[~ext['tag'].isin(coding_seq)]\n",
    "print(f'non_coding: {non_coding.shape[0]}')\n",
    "df_to_fasta(non_coding,f'./{temp_path}/extended_modified_non_coding.txt')\n",
    "coding = ext[ext['tag'].isin(coding_seq)]\n",
    "print(f'coding:     {coding.shape[0]}')\n",
    "df_to_fasta(coding,f'./{temp_path}/extended_modified_coding.txt')"
   ]
  },
  {
   "cell_type": "markdown",
   "metadata": {
    "heading_collapsed": true
   },
   "source": [
    "# RNA 2d prediction"
   ]
  },
  {
   "cell_type": "markdown",
   "metadata": {
    "hidden": true
   },
   "source": [
    "## Mfold"
   ]
  },
  {
   "cell_type": "code",
   "execution_count": 160,
   "metadata": {
    "ExecuteTime": {
     "end_time": "2022-07-15T10:39:00.112427Z",
     "start_time": "2022-07-15T10:38:59.380106Z"
    },
    "hidden": true
   },
   "outputs": [
    {
     "name": "stdout",
     "output_type": "stream",
     "text": [
      "rm: cannot remove './Experiment/O.sativa_plus/Result/secondary_structure/mfold/': No such file or directory\r\n"
     ]
    }
   ],
   "source": [
    "counter = 0\n",
    "base = f\"{result_path}/secondary_structure/mfold/\"\n",
    "!rm -r {base}\n",
    "!mkdir -p {base}\n",
    "df = fasta_to_df(f'./{temp_path}/extended_modified_non_coding.txt')\n",
    "\n",
    "for index, row in df.iterrows():    \n",
    "    tag = reformat(row['tag'])\n",
    "    if(not os.path.exists(base + tag)):\n",
    "        os.makedirs(base + tag)            \n",
    "    with open(base + f\"{tag}/SEQ.FASTA\",'w') as file:\n",
    "        file.write(f\">{row['tag']}\\n{row['data']}\")\n",
    "    counter += 1    \n",
    "    #if(counter >= 100):\n",
    "      #  break"
   ]
  },
  {
   "cell_type": "code",
   "execution_count": 161,
   "metadata": {
    "ExecuteTime": {
     "end_time": "2022-07-15T10:40:53.722708Z",
     "start_time": "2022-07-15T10:39:02.416214Z"
    },
    "hidden": true
   },
   "outputs": [],
   "source": [
    "%%capture\n",
    "remove_lock = False\n",
    "def run_mfold(tag):\n",
    "    tag = reformat(tag)\n",
    "    %cd {base + tag}\n",
    "    !mfold  SEQ=\"SEQ.FASTA\" T=22\n",
    "    if(not remove_lock):\n",
    "        !find . -name \"SEQ*\" -not -name \"*.ct\" -not -name \"*.pdf\" -not -name \"*SEQ.FASTA\" -not -type d -delete\n",
    "    %cd {current_path}\n",
    "\n",
    "if __name__ == '__main__':        \n",
    "    pool = mp.Pool(mp.cpu_count() - 3)      \n",
    "    pool.map(run_mfold, df['tag'])  "
   ]
  },
  {
   "cell_type": "markdown",
   "metadata": {
    "heading_collapsed": true,
    "hidden": true
   },
   "source": [
    "## Mxfold2"
   ]
  },
  {
   "cell_type": "code",
   "execution_count": null,
   "metadata": {
    "ExecuteTime": {
     "start_time": "2022-05-19T07:59:48.236Z"
    },
    "hidden": true
   },
   "outputs": [],
   "source": [
    "#!wget https://github.com/keio-bioinformatics/mxfold2/releases/download/v0.1.1/mxfold2-0.1.1.tar.gz\n",
    "#!pip3 install mxfold2-0.1.1.tar.gz\n",
    "#!rm mxfold2-0.1.1.tar.gz"
   ]
  },
  {
   "cell_type": "code",
   "execution_count": null,
   "metadata": {
    "ExecuteTime": {
     "start_time": "2022-05-19T07:59:48.239Z"
    },
    "hidden": true
   },
   "outputs": [],
   "source": [
    "!mxfold2 predict ./extended.txt > Result/secondary_structure/mxfold2_result.txt"
   ]
  },
  {
   "cell_type": "code",
   "execution_count": null,
   "metadata": {
    "ExecuteTime": {
     "start_time": "2022-05-19T07:59:48.242Z"
    },
    "hidden": true
   },
   "outputs": [],
   "source": [
    "df = fasta_to_df('./Result/secondary_structure/mxfold2_result.txt')\n",
    "df = df.apply(lambda row: bracket_row(row) , axis=1)\n",
    "df.head(2)"
   ]
  },
  {
   "cell_type": "code",
   "execution_count": null,
   "metadata": {
    "ExecuteTime": {
     "start_time": "2022-05-19T07:59:48.244Z"
    },
    "hidden": true
   },
   "outputs": [],
   "source": [
    "base = \"./Result/secondary_structure/mxfold2/\"\n",
    "!rm -r {base}\n",
    "!mkdir -p {base}\n",
    "for index, row in df.iterrows():    \n",
    "    if(not os.path.exists(base + reformat(row['tag']))):\n",
    "        os.makedirs(base + reformat(row['tag']))        \n",
    "    tag = reformat(row['tag'])\n",
    "    with open(base + f\"{tag}/{tag}.ct\",'w') as file:\n",
    "        bracket = row['bracket'].split(' ')[0]\n",
    "        deltaG = row['bracket'].split(' ')[1]\n",
    "        ct = bracket_to_ct(row['tag'], row['data'], bracket, deltaG)\n",
    "        file.write(ct)    "
   ]
  },
  {
   "cell_type": "markdown",
   "metadata": {
    "heading_collapsed": true,
    "hidden": true
   },
   "source": [
    "## Vienna package"
   ]
  },
  {
   "cell_type": "code",
   "execution_count": null,
   "metadata": {
    "ExecuteTime": {
     "start_time": "2022-05-19T07:59:48.248Z"
    },
    "hidden": true
   },
   "outputs": [],
   "source": [
    "#!wget https://www.tbi.univie.ac.at/RNA/download/ubuntu/ubuntu_20_04/viennarna_2.4.18-1_amd64.deb -O viennarna.deb\n",
    "#!sudo dpkg -i ./viennarna.deb\n",
    "#!sudo apt-get -f install\n",
    "#!rm viennarna.deb"
   ]
  },
  {
   "cell_type": "code",
   "execution_count": 96,
   "metadata": {
    "ExecuteTime": {
     "end_time": "2022-06-24T17:25:24.194794Z",
     "start_time": "2022-06-24T17:25:23.759029Z"
    },
    "hidden": true,
    "scrolled": false
   },
   "outputs": [
    {
     "name": "stdout",
     "output_type": "stream",
     "text": [
      "rm: cannot remove 'Experiment/A.thaliana/Result/secondary_structure/viennarna/': No such file or directory\n",
      "rm: cannot remove 'Experiment/A.thaliana/Result/secondary_structure/viennarna_result.txt': No such file or directory\n"
     ]
    }
   ],
   "source": [
    "base = f\"{result_path}/secondary_structure/viennarna/\"\n",
    "!rm -r {base}\n",
    "!rm {result_path}/secondary_structure/viennarna_result.txt\n",
    "!mkdir -p {base}"
   ]
  },
  {
   "cell_type": "code",
   "execution_count": 102,
   "metadata": {
    "ExecuteTime": {
     "end_time": "2022-06-24T17:33:38.865438Z",
     "start_time": "2022-06-24T17:28:49.490639Z"
    },
    "hidden": true
   },
   "outputs": [],
   "source": [
    "#%cd {base}\n",
    "!RNAfold --jobs=0 --infile {current_path}/{temp_path}/extended_modified.txt  --noPS -T 22 > {current_path}/{base}/viennarna_result.txt\n",
    "#%cd {current_path}"
   ]
  },
  {
   "cell_type": "code",
   "execution_count": 107,
   "metadata": {
    "ExecuteTime": {
     "end_time": "2022-06-24T17:38:58.749614Z",
     "start_time": "2022-06-24T17:38:38.726944Z"
    },
    "hidden": true
   },
   "outputs": [
    {
     "name": "stdout",
     "output_type": "stream",
     "text": [
      "(17793, 3)\n"
     ]
    },
    {
     "data": {
      "text/html": [
       "<div>\n",
       "<style scoped>\n",
       "    .dataframe tbody tr th:only-of-type {\n",
       "        vertical-align: middle;\n",
       "    }\n",
       "\n",
       "    .dataframe tbody tr th {\n",
       "        vertical-align: top;\n",
       "    }\n",
       "\n",
       "    .dataframe thead th {\n",
       "        text-align: right;\n",
       "    }\n",
       "</style>\n",
       "<table border=\"1\" class=\"dataframe\">\n",
       "  <thead>\n",
       "    <tr style=\"text-align: right;\">\n",
       "      <th></th>\n",
       "      <th>tag</th>\n",
       "      <th>data</th>\n",
       "      <th>bracket</th>\n",
       "    </tr>\n",
       "  </thead>\n",
       "  <tbody>\n",
       "    <tr>\n",
       "      <th>0</th>\n",
       "      <td>NC_000932.1|+|101567-101986|201-220</td>\n",
       "      <td>aaucccagggcucaacccuggacaggcgguggaaacuaccaagcuu...</td>\n",
       "      <td>.(((((((((.....)))))).((((((((((...)))))..))))...</td>\n",
       "    </tr>\n",
       "    <tr>\n",
       "      <th>1</th>\n",
       "      <td>NC_000932.1|+|105092-105512|201-221</td>\n",
       "      <td>aaucccgugugaaucagcaaggaccaccuugcaaggcuaaauacuc...</td>\n",
       "      <td>.....(((((......((((((....))))))....(((..(((((...</td>\n",
       "    </tr>\n",
       "  </tbody>\n",
       "</table>\n",
       "</div>"
      ],
      "text/plain": [
       "                                   tag  \\\n",
       "0  NC_000932.1|+|101567-101986|201-220   \n",
       "1  NC_000932.1|+|105092-105512|201-221   \n",
       "\n",
       "                                                data  \\\n",
       "0  aaucccagggcucaacccuggacaggcgguggaaacuaccaagcuu...   \n",
       "1  aaucccgugugaaucagcaaggaccaccuugcaaggcuaaauacuc...   \n",
       "\n",
       "                                             bracket  \n",
       "0  .(((((((((.....)))))).((((((((((...)))))..))))...  \n",
       "1  .....(((((......((((((....))))))....(((..(((((...  "
      ]
     },
     "execution_count": 107,
     "metadata": {},
     "output_type": "execute_result"
    }
   ],
   "source": [
    "df = fasta_to_df(f'{result_path}/secondary_structure/viennarna/viennarna_result.txt')\n",
    "df = df.apply(lambda row: bracket_row(row) , axis=1)\n",
    "print(df.shape)\n",
    "df.head(2)"
   ]
  },
  {
   "cell_type": "code",
   "execution_count": 108,
   "metadata": {
    "ExecuteTime": {
     "end_time": "2022-06-24T17:40:19.793270Z",
     "start_time": "2022-06-24T17:39:06.525797Z"
    },
    "hidden": true
   },
   "outputs": [],
   "source": [
    "for index, row in df.iterrows():    \n",
    "    tag = reformat(row['tag'])\n",
    "    if(not os.path.exists(base + tag)):\n",
    "        os.makedirs(base + tag)      \n",
    "    with open(base + f\"{tag}/{tag}.ct\",'w') as file:\n",
    "        bracket = row['bracket'].split(' ')[0]\n",
    "        deltaG = row['bracket'].split(' ')[1]\n",
    "        ct = bracket_to_ct(row['tag'], row['data'], bracket, deltaG, False)\n",
    "        file.write(ct)    "
   ]
  },
  {
   "cell_type": "code",
   "execution_count": 109,
   "metadata": {
    "ExecuteTime": {
     "end_time": "2022-06-24T17:40:23.866901Z",
     "start_time": "2022-06-24T17:40:23.833422Z"
    },
    "hidden": true
   },
   "outputs": [],
   "source": [
    "import glob\n",
    "for file in glob.glob(f\"{base}*.ps\"):    \n",
    "    f = file[len(base):-6] # _ss.ps \n",
    "    f = reformat(f)        \n",
    "    shutil.move(file, f\"{base}{f}/{f}.ps\")    "
   ]
  },
  {
   "cell_type": "markdown",
   "metadata": {
    "heading_collapsed": true,
    "hidden": true
   },
   "source": [
    "## ContraFold"
   ]
  },
  {
   "cell_type": "code",
   "execution_count": null,
   "metadata": {
    "ExecuteTime": {
     "start_time": "2022-05-19T07:59:48.266Z"
    },
    "hidden": true
   },
   "outputs": [],
   "source": [
    "#!wget http://contra.stanford.edu/contrafold/contrafold_v2_02.tar.gz\n",
    "#!tar -xvzf contrafold_v2_02.tar.gz && rm contrafold_v2_02.tar.gz\n",
    "#%cd contrafold/src\n",
    "#!make clean\n",
    "#!make \n",
    "# to file must changed to be complieable # utility.hpp and optimization.c++ files"
   ]
  },
  {
   "cell_type": "code",
   "execution_count": null,
   "metadata": {
    "ExecuteTime": {
     "start_time": "2022-05-19T07:59:48.269Z"
    },
    "hidden": true
   },
   "outputs": [],
   "source": [
    "counter = 0\n",
    "base = f\"./{result_path}/secondary_structure/contrafold/\"\n",
    "!rm -r {base}\n",
    "!mkdir -p {base}\n",
    "df = fasta_to_df(f'./{temp_path}/extended.txt')\n",
    "\n",
    "for index, row in tqdm(df.iterrows()):    \n",
    "    tag = reformat(row['tag'])\n",
    "    if(not os.path.exists(base + tag)):\n",
    "        os.makedirs(base + tag)            \n",
    "    with open(base + f\"{tag}/{tag}.FASTA\",'w') as file:\n",
    "        file.write(f\">{row['tag']}\\n{row['data']}\")\n",
    "    counter += 1        "
   ]
  },
  {
   "cell_type": "code",
   "execution_count": null,
   "metadata": {
    "ExecuteTime": {
     "start_time": "2022-05-19T07:59:48.272Z"
    },
    "hidden": true
   },
   "outputs": [],
   "source": [
    "def run_contrafold(tag):\n",
    "    tag = reformat(tag)    \n",
    "    %cd Software/contrafold/src\n",
    "    !./contrafold predict ../..{base[1:]}{tag}/{tag}.FASTA > ../..{base[1:]}{tag}/{tag}.dot\n",
    "    with open(f\"../..{base[1:]}{tag}/{tag}.dot\", 'r') as file:\n",
    "        text = file.read()\n",
    "    text = [l for l in text.split(\"\\n\") if l[:len(\">structure\")] != \">structure\"]    \n",
    "    header = text[0]\n",
    "    with open(f\"../..{base[1:]}{tag}/{tag}.dot\", 'w') as file:\n",
    "        file.write('\\n'.join(text[1:]))    \n",
    "    !RNAeval  ../..{base[1:]}{tag}/{tag}.dot -T 20 > ../..{base[1:]}{tag}/{tag}.dotdg    \n",
    "    with open(f\"../..{base[1:]}{tag}/{tag}.dotdg\", 'r') as file:\n",
    "        text = file.read()\n",
    "    with open(f\"../..{base[1:]}{tag}/{tag}.dot\", 'w') as file:\n",
    "        file.write(header + \"\\n\" + text)    \n",
    "    \n",
    "    df = fasta_to_df(f'../..{base[1:]}{tag}/{tag}.dot')\n",
    "    df = df.apply(lambda row: bracket_row(row) , axis=1)        \n",
    "    tag = reformat(df['tag'][0])\n",
    "    with open(f'../..{base[1:]}{tag}/{tag}.ct','w') as file:\n",
    "        bracket = df['bracket'][0].split(' ')[0]        \n",
    "        deltaG = df['bracket'][0].split(' ')[1]\n",
    "        ct = bracket_to_ct(df['tag'][0], df['data'][0], bracket, deltaG, False)\n",
    "        file.write(ct)    \n",
    "    #!rm ../..{base[1:]}{tag}/{tag}.dot\n",
    "    #!rm ../..{base[1:]}{tag}/{tag}.dotdg\n",
    "    !rm ../..{base[1:]}{tag}/{tag}.FASTA\n",
    "    %cd {current_path}        \n",
    "\n",
    "if __name__ == '__main__':        \n",
    "    pool = mp.Pool(mp.cpu_count() - 1)  \n",
    "    pool.map(run_contrafold, df['tag'].iloc[:10])"
   ]
  },
  {
   "cell_type": "code",
   "execution_count": null,
   "metadata": {
    "ExecuteTime": {
     "start_time": "2022-05-19T07:59:48.275Z"
    },
    "hidden": true
   },
   "outputs": [],
   "source": [
    "'''path = 'secondary_structure/contrafold/AMWY020333941_469-893_-_/AMWY020333941_469-893_-_.dot'\n",
    "!RNAeval  {path} -T 20 -v'''; "
   ]
  },
  {
   "cell_type": "markdown",
   "metadata": {},
   "source": [
    "# CTAnalizer"
   ]
  },
  {
   "cell_type": "code",
   "execution_count": 6,
   "metadata": {
    "ExecuteTime": {
     "end_time": "2022-07-15T11:03:18.203271Z",
     "start_time": "2022-07-15T11:03:18.077077Z"
    }
   },
   "outputs": [
    {
     "name": "stdout",
     "output_type": "stream",
     "text": [
      "(486, 2)\n"
     ]
    }
   ],
   "source": [
    "# only select those not ran before\n",
    "ss_method = \"mfold\"\n",
    "base = f\"{result_path}/secondary_structure/{ss_method}/\"\n",
    "df = fasta_to_df(f'./{temp_path}/extended_modified_non_coding.txt')\n",
    "index_list =[]\n",
    "for index, row in df.iterrows():    \n",
    "    tag = reformat(row['tag'])    \n",
    "    if(len(glob.glob(f'{base + tag}/*.ct')) != 0):\n",
    "        index_list.append(index)\n",
    "df = df.iloc[index_list,:]\n",
    "print(df.shape)"
   ]
  },
  {
   "cell_type": "code",
   "execution_count": 7,
   "metadata": {
    "ExecuteTime": {
     "end_time": "2022-07-15T11:03:18.555439Z",
     "start_time": "2022-07-15T11:03:18.548275Z"
    }
   },
   "outputs": [],
   "source": [
    "def run(tag, path, extra):             \n",
    "    return get_row(tag, path,extra)\n",
    "    try:\n",
    "        return get_row(tag, path,extra)\n",
    "    except Exception as e:\n",
    "        print(str(e), tag)                \n",
    "        return pd.Series()\n",
    "        \n",
    "def get_df_by_tag(tag , extra=0):           \n",
    "    ct_files = glob.glob(f'{base}{reformat(tag)}/*.ct')    \n",
    "    return pd.Series(ct_files).apply(lambda path: run(tag, path,extra))    "
   ]
  },
  {
   "cell_type": "code",
   "execution_count": 8,
   "metadata": {
    "ExecuteTime": {
     "end_time": "2022-07-15T11:03:19.455170Z",
     "start_time": "2022-07-15T11:03:19.097861Z"
    },
    "scrolled": false
   },
   "outputs": [
    {
     "name": "stdout",
     "output_type": "stream",
     "text": [
      "<class 'pandas.core.series.Series'> <class 'int'> <class 'int'>\n",
      "<class 'pandas.core.series.Series'> <class 'int'> <class 'int'>\n"
     ]
    },
    {
     "ename": "TypeError",
     "evalue": "'<' not supported between instances of 'int' and 'str'",
     "output_type": "error",
     "traceback": [
      "\u001b[0;31m---------------------------------------------------------------------------\u001b[0m",
      "\u001b[0;31mTypeError\u001b[0m                                 Traceback (most recent call last)",
      "\u001b[0;32m<ipython-input-8-f38f2cad348d>\u001b[0m in \u001b[0;36m<module>\u001b[0;34m\u001b[0m\n\u001b[0;32m----> 1\u001b[0;31m \u001b[0mget_df_by_tag\u001b[0m\u001b[0;34m(\u001b[0m\u001b[0;34m\"NC_029257.1|-|3280761-3280918|31-51\"\u001b[0m\u001b[0;34m,\u001b[0m \u001b[0mextra\u001b[0m\u001b[0;34m=\u001b[0m\u001b[0;36m0\u001b[0m\u001b[0;34m)\u001b[0m\u001b[0;34m\u001b[0m\u001b[0;34m\u001b[0m\u001b[0m\n\u001b[0m\u001b[1;32m      2\u001b[0m \u001b[0;31m#d.to_csv('Result/d.csv')#.iloc[0,:]['full seq visualization']x\u001b[0m\u001b[0;34m\u001b[0m\u001b[0;34m\u001b[0m\u001b[0;34m\u001b[0m\u001b[0m\n",
      "\u001b[0;32m<ipython-input-7-26e96a0a09aa>\u001b[0m in \u001b[0;36mget_df_by_tag\u001b[0;34m(tag, extra)\u001b[0m\n\u001b[1;32m      9\u001b[0m \u001b[0;32mdef\u001b[0m \u001b[0mget_df_by_tag\u001b[0m\u001b[0;34m(\u001b[0m\u001b[0mtag\u001b[0m \u001b[0;34m,\u001b[0m \u001b[0mextra\u001b[0m\u001b[0;34m=\u001b[0m\u001b[0;36m0\u001b[0m\u001b[0;34m)\u001b[0m\u001b[0;34m:\u001b[0m\u001b[0;34m\u001b[0m\u001b[0;34m\u001b[0m\u001b[0m\n\u001b[1;32m     10\u001b[0m     \u001b[0mct_files\u001b[0m \u001b[0;34m=\u001b[0m \u001b[0mglob\u001b[0m\u001b[0;34m.\u001b[0m\u001b[0mglob\u001b[0m\u001b[0;34m(\u001b[0m\u001b[0;34mf'{base}{reformat(tag)}/*.ct'\u001b[0m\u001b[0;34m)\u001b[0m\u001b[0;34m\u001b[0m\u001b[0;34m\u001b[0m\u001b[0m\n\u001b[0;32m---> 11\u001b[0;31m     \u001b[0;32mreturn\u001b[0m \u001b[0mpd\u001b[0m\u001b[0;34m.\u001b[0m\u001b[0mSeries\u001b[0m\u001b[0;34m(\u001b[0m\u001b[0mct_files\u001b[0m\u001b[0;34m)\u001b[0m\u001b[0;34m.\u001b[0m\u001b[0mapply\u001b[0m\u001b[0;34m(\u001b[0m\u001b[0;32mlambda\u001b[0m \u001b[0mpath\u001b[0m\u001b[0;34m:\u001b[0m \u001b[0mrun\u001b[0m\u001b[0;34m(\u001b[0m\u001b[0mtag\u001b[0m\u001b[0;34m,\u001b[0m \u001b[0mpath\u001b[0m\u001b[0;34m,\u001b[0m\u001b[0mextra\u001b[0m\u001b[0;34m)\u001b[0m\u001b[0;34m)\u001b[0m\u001b[0;34m\u001b[0m\u001b[0;34m\u001b[0m\u001b[0m\n\u001b[0m",
      "\u001b[0;32m~/.local/lib/python3.8/site-packages/pandas/core/series.py\u001b[0m in \u001b[0;36mapply\u001b[0;34m(self, func, convert_dtype, args, **kwargs)\u001b[0m\n\u001b[1;32m   4355\u001b[0m         \u001b[0mdtype\u001b[0m\u001b[0;34m:\u001b[0m \u001b[0mfloat64\u001b[0m\u001b[0;34m\u001b[0m\u001b[0;34m\u001b[0m\u001b[0m\n\u001b[1;32m   4356\u001b[0m         \"\"\"\n\u001b[0;32m-> 4357\u001b[0;31m         \u001b[0;32mreturn\u001b[0m \u001b[0mSeriesApply\u001b[0m\u001b[0;34m(\u001b[0m\u001b[0mself\u001b[0m\u001b[0;34m,\u001b[0m \u001b[0mfunc\u001b[0m\u001b[0;34m,\u001b[0m \u001b[0mconvert_dtype\u001b[0m\u001b[0;34m,\u001b[0m \u001b[0margs\u001b[0m\u001b[0;34m,\u001b[0m \u001b[0mkwargs\u001b[0m\u001b[0;34m)\u001b[0m\u001b[0;34m.\u001b[0m\u001b[0mapply\u001b[0m\u001b[0;34m(\u001b[0m\u001b[0;34m)\u001b[0m\u001b[0;34m\u001b[0m\u001b[0;34m\u001b[0m\u001b[0m\n\u001b[0m\u001b[1;32m   4358\u001b[0m \u001b[0;34m\u001b[0m\u001b[0m\n\u001b[1;32m   4359\u001b[0m     def _reduce(\n",
      "\u001b[0;32m~/.local/lib/python3.8/site-packages/pandas/core/apply.py\u001b[0m in \u001b[0;36mapply\u001b[0;34m(self)\u001b[0m\n\u001b[1;32m   1041\u001b[0m             \u001b[0;32mreturn\u001b[0m \u001b[0mself\u001b[0m\u001b[0;34m.\u001b[0m\u001b[0mapply_str\u001b[0m\u001b[0;34m(\u001b[0m\u001b[0;34m)\u001b[0m\u001b[0;34m\u001b[0m\u001b[0;34m\u001b[0m\u001b[0m\n\u001b[1;32m   1042\u001b[0m \u001b[0;34m\u001b[0m\u001b[0m\n\u001b[0;32m-> 1043\u001b[0;31m         \u001b[0;32mreturn\u001b[0m \u001b[0mself\u001b[0m\u001b[0;34m.\u001b[0m\u001b[0mapply_standard\u001b[0m\u001b[0;34m(\u001b[0m\u001b[0;34m)\u001b[0m\u001b[0;34m\u001b[0m\u001b[0;34m\u001b[0m\u001b[0m\n\u001b[0m\u001b[1;32m   1044\u001b[0m \u001b[0;34m\u001b[0m\u001b[0m\n\u001b[1;32m   1045\u001b[0m     \u001b[0;32mdef\u001b[0m \u001b[0magg\u001b[0m\u001b[0;34m(\u001b[0m\u001b[0mself\u001b[0m\u001b[0;34m)\u001b[0m\u001b[0;34m:\u001b[0m\u001b[0;34m\u001b[0m\u001b[0;34m\u001b[0m\u001b[0m\n",
      "\u001b[0;32m~/.local/lib/python3.8/site-packages/pandas/core/apply.py\u001b[0m in \u001b[0;36mapply_standard\u001b[0;34m(self)\u001b[0m\n\u001b[1;32m   1097\u001b[0m                 \u001b[0;31m# List[Union[Callable[..., Any], str]]]]]\"; expected\u001b[0m\u001b[0;34m\u001b[0m\u001b[0;34m\u001b[0m\u001b[0;34m\u001b[0m\u001b[0m\n\u001b[1;32m   1098\u001b[0m                 \u001b[0;31m# \"Callable[[Any], Any]\"\u001b[0m\u001b[0;34m\u001b[0m\u001b[0;34m\u001b[0m\u001b[0;34m\u001b[0m\u001b[0m\n\u001b[0;32m-> 1099\u001b[0;31m                 mapped = lib.map_infer(\n\u001b[0m\u001b[1;32m   1100\u001b[0m                     \u001b[0mvalues\u001b[0m\u001b[0;34m,\u001b[0m\u001b[0;34m\u001b[0m\u001b[0;34m\u001b[0m\u001b[0m\n\u001b[1;32m   1101\u001b[0m                     \u001b[0mf\u001b[0m\u001b[0;34m,\u001b[0m  \u001b[0;31m# type: ignore[arg-type]\u001b[0m\u001b[0;34m\u001b[0m\u001b[0;34m\u001b[0m\u001b[0m\n",
      "\u001b[0;32m~/.local/lib/python3.8/site-packages/pandas/_libs/lib.pyx\u001b[0m in \u001b[0;36mpandas._libs.lib.map_infer\u001b[0;34m()\u001b[0m\n",
      "\u001b[0;32m<ipython-input-7-26e96a0a09aa>\u001b[0m in \u001b[0;36m<lambda>\u001b[0;34m(path)\u001b[0m\n\u001b[1;32m      9\u001b[0m \u001b[0;32mdef\u001b[0m \u001b[0mget_df_by_tag\u001b[0m\u001b[0;34m(\u001b[0m\u001b[0mtag\u001b[0m \u001b[0;34m,\u001b[0m \u001b[0mextra\u001b[0m\u001b[0;34m=\u001b[0m\u001b[0;36m0\u001b[0m\u001b[0;34m)\u001b[0m\u001b[0;34m:\u001b[0m\u001b[0;34m\u001b[0m\u001b[0;34m\u001b[0m\u001b[0m\n\u001b[1;32m     10\u001b[0m     \u001b[0mct_files\u001b[0m \u001b[0;34m=\u001b[0m \u001b[0mglob\u001b[0m\u001b[0;34m.\u001b[0m\u001b[0mglob\u001b[0m\u001b[0;34m(\u001b[0m\u001b[0;34mf'{base}{reformat(tag)}/*.ct'\u001b[0m\u001b[0;34m)\u001b[0m\u001b[0;34m\u001b[0m\u001b[0;34m\u001b[0m\u001b[0m\n\u001b[0;32m---> 11\u001b[0;31m     \u001b[0;32mreturn\u001b[0m \u001b[0mpd\u001b[0m\u001b[0;34m.\u001b[0m\u001b[0mSeries\u001b[0m\u001b[0;34m(\u001b[0m\u001b[0mct_files\u001b[0m\u001b[0;34m)\u001b[0m\u001b[0;34m.\u001b[0m\u001b[0mapply\u001b[0m\u001b[0;34m(\u001b[0m\u001b[0;32mlambda\u001b[0m \u001b[0mpath\u001b[0m\u001b[0;34m:\u001b[0m \u001b[0mrun\u001b[0m\u001b[0;34m(\u001b[0m\u001b[0mtag\u001b[0m\u001b[0;34m,\u001b[0m \u001b[0mpath\u001b[0m\u001b[0;34m,\u001b[0m\u001b[0mextra\u001b[0m\u001b[0;34m)\u001b[0m\u001b[0;34m)\u001b[0m\u001b[0;34m\u001b[0m\u001b[0;34m\u001b[0m\u001b[0m\n\u001b[0m",
      "\u001b[0;32m<ipython-input-7-26e96a0a09aa>\u001b[0m in \u001b[0;36mrun\u001b[0;34m(tag, path, extra)\u001b[0m\n\u001b[1;32m      1\u001b[0m \u001b[0;32mdef\u001b[0m \u001b[0mrun\u001b[0m\u001b[0;34m(\u001b[0m\u001b[0mtag\u001b[0m\u001b[0;34m,\u001b[0m \u001b[0mpath\u001b[0m\u001b[0;34m,\u001b[0m \u001b[0mextra\u001b[0m\u001b[0;34m)\u001b[0m\u001b[0;34m:\u001b[0m\u001b[0;34m\u001b[0m\u001b[0;34m\u001b[0m\u001b[0m\n\u001b[0;32m----> 2\u001b[0;31m     \u001b[0;32mreturn\u001b[0m \u001b[0mget_row\u001b[0m\u001b[0;34m(\u001b[0m\u001b[0mtag\u001b[0m\u001b[0;34m,\u001b[0m \u001b[0mpath\u001b[0m\u001b[0;34m,\u001b[0m\u001b[0mextra\u001b[0m\u001b[0;34m)\u001b[0m\u001b[0;34m\u001b[0m\u001b[0;34m\u001b[0m\u001b[0m\n\u001b[0m\u001b[1;32m      3\u001b[0m     \u001b[0;32mtry\u001b[0m\u001b[0;34m:\u001b[0m\u001b[0;34m\u001b[0m\u001b[0;34m\u001b[0m\u001b[0m\n\u001b[1;32m      4\u001b[0m         \u001b[0;32mreturn\u001b[0m \u001b[0mget_row\u001b[0m\u001b[0;34m(\u001b[0m\u001b[0mtag\u001b[0m\u001b[0;34m,\u001b[0m \u001b[0mpath\u001b[0m\u001b[0;34m,\u001b[0m\u001b[0mextra\u001b[0m\u001b[0;34m)\u001b[0m\u001b[0;34m\u001b[0m\u001b[0;34m\u001b[0m\u001b[0m\n\u001b[1;32m      5\u001b[0m     \u001b[0;32mexcept\u001b[0m \u001b[0mException\u001b[0m \u001b[0;32mas\u001b[0m \u001b[0me\u001b[0m\u001b[0;34m:\u001b[0m\u001b[0;34m\u001b[0m\u001b[0;34m\u001b[0m\u001b[0m\n",
      "\u001b[0;32m/home/jupyter/plant_microRNA_prediction/./src/ct_analizer.py\u001b[0m in \u001b[0;36mget_row\u001b[0;34m(tag, path, extra, acceptable_terminal_structures, MCMA, effective_bulge_size_in_Hit_vicinity_regions, effective_internal_loop_size_in_Hit_vicinity_regions, energy_calc_method)\u001b[0m\n\u001b[1;32m    964\u001b[0m     \u001b[0;31m#result['flanking istar max']  = flanking_istar_max\u001b[0m\u001b[0;34m\u001b[0m\u001b[0;34m\u001b[0m\u001b[0;34m\u001b[0m\u001b[0m\n\u001b[1;32m    965\u001b[0m \u001b[0;34m\u001b[0m\u001b[0m\n\u001b[0;32m--> 966\u001b[0;31m     \u001b[0mcontinuous_pairing\u001b[0m \u001b[0;34m=\u001b[0m \u001b[0mget_continuous_pairing\u001b[0m\u001b[0;34m(\u001b[0m\u001b[0mhit_start\u001b[0m\u001b[0;34m,\u001b[0m \u001b[0mhit_end\u001b[0m\u001b[0;34m,\u001b[0m \u001b[0mflanking_istar_min\u001b[0m\u001b[0;34m,\u001b[0m \u001b[0mflanking_istar_max\u001b[0m\u001b[0;34m,\u001b[0m \u001b[0mhit_self_complementarity\u001b[0m\u001b[0;34m)\u001b[0m\u001b[0;34m\u001b[0m\u001b[0;34m\u001b[0m\u001b[0m\n\u001b[0m\u001b[1;32m    967\u001b[0m     \u001b[0mresult\u001b[0m\u001b[0;34m[\u001b[0m\u001b[0mtitles\u001b[0m\u001b[0;34m.\u001b[0m\u001b[0mcont_pairing\u001b[0m\u001b[0;34m]\u001b[0m \u001b[0;34m=\u001b[0m \u001b[0mcontinuous_pairing\u001b[0m\u001b[0;34m\u001b[0m\u001b[0;34m\u001b[0m\u001b[0m\n\u001b[1;32m    968\u001b[0m     \u001b[0;32mif\u001b[0m\u001b[0;34m(\u001b[0m\u001b[0mcontinuous_pairing\u001b[0m \u001b[0;34m==\u001b[0m \u001b[0;34m\"no\"\u001b[0m\u001b[0;34m)\u001b[0m\u001b[0;34m:\u001b[0m\u001b[0;34m\u001b[0m\u001b[0;34m\u001b[0m\u001b[0m\n",
      "\u001b[0;32m/home/jupyter/plant_microRNA_prediction/./src/ct_analizer.py\u001b[0m in \u001b[0;36mget_continuous_pairing\u001b[0;34m(hit_start, hit_end, istar_min, istar_max, hit_self_complementarity)\u001b[0m\n\u001b[1;32m    213\u001b[0m     \u001b[0;32mif\u001b[0m\u001b[0;34m(\u001b[0m\u001b[0mhit_self_complementarity\u001b[0m \u001b[0;34m==\u001b[0m \u001b[0;34m'yes'\u001b[0m\u001b[0;34m)\u001b[0m\u001b[0;34m:\u001b[0m\u001b[0;34m\u001b[0m\u001b[0;34m\u001b[0m\u001b[0m\n\u001b[1;32m    214\u001b[0m         \u001b[0;32mreturn\u001b[0m \u001b[0;34m\"undifined\"\u001b[0m\u001b[0;34m\u001b[0m\u001b[0;34m\u001b[0m\u001b[0m\n\u001b[0;32m--> 215\u001b[0;31m     \u001b[0;32mif\u001b[0m\u001b[0;34m(\u001b[0m\u001b[0mhit_end\u001b[0m \u001b[0;34m<\u001b[0m \u001b[0mistar_max\u001b[0m \u001b[0;32mand\u001b[0m \u001b[0;34m(\u001b[0m\u001b[0mhit_start\u001b[0m\u001b[0;34m+\u001b[0m\u001b[0;36m1\u001b[0m\u001b[0;34m)\u001b[0m \u001b[0;34m>\u001b[0m \u001b[0mistar_min\u001b[0m\u001b[0;34m)\u001b[0m\u001b[0;34m:\u001b[0m\u001b[0;34m\u001b[0m\u001b[0;34m\u001b[0m\u001b[0m\n\u001b[0m\u001b[1;32m    216\u001b[0m         \u001b[0;32mreturn\u001b[0m \u001b[0;34m\"no\"\u001b[0m\u001b[0;34m\u001b[0m\u001b[0;34m\u001b[0m\u001b[0m\n\u001b[1;32m    217\u001b[0m     \u001b[0;32mreturn\u001b[0m  \u001b[0;34m\"yes\"\u001b[0m\u001b[0;34m\u001b[0m\u001b[0;34m\u001b[0m\u001b[0m\n",
      "\u001b[0;31mTypeError\u001b[0m: '<' not supported between instances of 'int' and 'str'"
     ]
    }
   ],
   "source": [
    "get_df_by_tag(\"NC_029257.1|-|3280761-3280918|31-51\", extra=0)\n",
    "#d.to_csv('Result/d.csv')#.iloc[0,:]['full seq visualization']x"
   ]
  },
  {
   "cell_type": "markdown",
   "metadata": {},
   "source": [
    "# Apply on current data"
   ]
  },
  {
   "cell_type": "code",
   "execution_count": 185,
   "metadata": {
    "ExecuteTime": {
     "end_time": "2022-07-15T10:51:23.234135Z",
     "start_time": "2022-07-15T10:51:22.967930Z"
    }
   },
   "outputs": [],
   "source": [
    "seq2cluster = pd.read_csv(f\"{temp_path}/seq2cluster.csv\")\n",
    "seq2cluster['tag'] = seq2cluster['tag'].apply(lambda x: str(x))\n",
    "seq2cluster['tag'] = seq2cluster.groupby(['cluster'])['tag'].transform(lambda x: ','.join(x))\n",
    "seq2cluster['seqid'] = seq2cluster['seqid'].apply(lambda x: str(x))\n",
    "seq2cluster['seqid'] = seq2cluster.groupby(['cluster'])['seqid'].transform(lambda x: ','.join(x))\n",
    "seq2cluster = seq2cluster.drop_duplicates()\n",
    "tag2cluster = pd.read_csv(f'./{temp_path}/pipe_seprated_location_list.csv',sep='\\t')\n",
    "tag2cluster['location_tag'] = tag2cluster['location_tag'].apply(lambda x : x[1:])\n",
    "data = pd.merge(seq2cluster,tag2cluster,how='inner', left_on='cluster', right_on='qseqid')\n",
    "data['Reference miRNA cluster'] = data['cluster']\n",
    "data['Reference miRNA IDs'] = data['seqid']\n",
    "data['Reference miRNA IDs and species'] = data['tag']\n",
    "data = data[['location_tag','Reference miRNA cluster', 'Reference miRNA IDs', 'Reference miRNA IDs and species','confidence']]"
   ]
  },
  {
   "cell_type": "code",
   "execution_count": 186,
   "metadata": {
    "ExecuteTime": {
     "end_time": "2022-07-15T10:51:23.467264Z",
     "start_time": "2022-07-15T10:51:23.457210Z"
    },
    "code_folding": []
   },
   "outputs": [],
   "source": [
    "rcols_ref = ['Reference miRNA cluster',\n",
    "             'Reference miRNA IDs',\n",
    "             'Reference miRNA IDs and species']\n",
    "rcols_boi = ['boi seq', 'boi name', 'boi dotbracket']\n",
    "\n",
    "rcols = [*rcols_ref,\n",
    "         *rcols_boi]\n",
    "\n",
    "rcols_dg = [*rcols, 'delta G']\n",
    "\n",
    "def selection(row):        \n",
    "    global repeted\n",
    "    tuple_row = tuple(row)            \n",
    "    if(tuple_row not in repeted):\n",
    "        repeted[tuple_row] = row.name\n",
    "        return True\n",
    "    return False\n",
    "\n",
    "def boi_selection(row):    \n",
    "    global repeted_boi        \n",
    "    tuple_row_boi = tuple(row[rcols_boi])\n",
    "    dg = row['delta G']\n",
    "    if(tuple_row_boi not in repeted_boi):\n",
    "        repeted_boi[tuple_row_boi] = { \n",
    "            \"counter\": 1,\n",
    "            \"dg\": dg,\n",
    "            \"ref clusters\": row['Reference miRNA cluster'],\n",
    "            \"ref ids\": row['Reference miRNA IDs'],\n",
    "            \"ref species\": row['Reference miRNA IDs and species'],\n",
    "            \"lock\": False\n",
    "        }\n",
    "    else:            \n",
    "        value =  repeted_boi[tuple_row_boi]\n",
    "        value['counter'] += 1\n",
    "        value['dg'] = min(value['dg'] , dg)\n",
    "        value['ref clusters'] += \",\" + row['Reference miRNA cluster']\n",
    "        value['ref ids'] += \",\" + row['Reference miRNA IDs']\n",
    "        value['ref species'] += \",\" +  row['Reference miRNA IDs and species']                \n",
    "        repeted_boi[tuple_row_boi] = value        "
   ]
  },
  {
   "cell_type": "code",
   "execution_count": 187,
   "metadata": {
    "ExecuteTime": {
     "end_time": "2022-07-15T10:51:30.497899Z",
     "start_time": "2022-07-15T10:51:25.441544Z"
    },
    "scrolled": false
   },
   "outputs": [
    {
     "name": "stdout",
     "output_type": "stream",
     "text": [
      "rm: cannot remove '././Experiment/O.sativa_plus/Result/ct_analizer.csv': No such file or directory\r\n"
     ]
    },
    {
     "data": {
      "application/vnd.jupyter.widget-view+json": {
       "model_id": "c6c491b5f632464aa5cf1db83baa527e",
       "version_major": 2,
       "version_minor": 0
      },
      "text/plain": [
       "  0%|          | 0/1 [00:00<?, ?it/s]"
      ]
     },
     "metadata": {},
     "output_type": "display_data"
    },
    {
     "data": {
      "application/vnd.jupyter.widget-view+json": {
       "model_id": "baed8e6089c1437dba1d44fa7001bda1",
       "version_major": 2,
       "version_minor": 0
      },
      "text/plain": [
       "  0%|          | 0/486 [00:00<?, ?it/s]"
      ]
     },
     "metadata": {},
     "output_type": "display_data"
    },
    {
     "name": "stdout",
     "output_type": "stream",
     "text": [
      "'<=' not supported between instances of 'str' and 'int' '<=' not supported between instances of 'str' and 'int'NC_029257.1|-|3280761-3280918|31-51'<=' not supported between instances of 'str' and 'int''<=' not supported between instances of 'str' and 'int''<=' not supported between instances of 'str' and 'int' \n",
      "'<=' not supported between instances of 'str' and 'int'  NC_029256.1|+|9055583-9055799|166-187 NC_029256.1|-|2317258-2317415|31-51\n",
      "NC_029257.1|+|20716154-20716300|43-64 NC_029257.1|+|34890431-34890707|171-194\n",
      "NC_029256.1|-|38764269-38764411|27-48\n",
      "\n",
      "\n",
      "'<=' not supported between instances of 'str' and 'int' NC_029256.1|+|26250141-26250578|334-357\n",
      "'<=' not supported between instances of 'str' and 'int' NC_029256.1|-|30477592-30477749|108-128\n",
      "'<=' not supported between instances of 'str' and 'int''<=' not supported between instances of 'str' and 'int'  NC_029256.1|+|16373408-16373567|116-139NC_029256.1|+|20332858-20333007|37-57\n",
      "'<=' not supported between instances of 'str' and 'int'\n",
      " '<=' not supported between instances of 'str' and 'int'NC_029257.1|-|10889652-10889774|32-53 '<=' not supported between instances of 'str' and 'int'NC_029257.1|+|16227785-16227923|100-119\n",
      " NC_029256.1|-|11846119-11846220|22-45\n",
      "'<=' not supported between instances of 'str' and 'int'\n",
      " NC_029256.1|+|13160757-13160916|29-49'<=' not supported between instances of 'str' and 'int' \n",
      "NC_029258.1|+|18209430-18209601|117-136\n",
      "'<=' not supported between instances of 'str' and 'int' NC_029258.1|+|23077248-23077411|109-129\n",
      "'<=' not supported between instances of 'str' and 'int' NC_029259.1|+|13157328-13157426|22-42'<=' not supported between instances of 'str' and 'int'\n",
      " NC_029258.1|+|26838871-26838997|31-51\n",
      "'<=' not supported between instances of 'str' and 'int' NC_029258.1|-|32572965-32573107|93-113\n",
      "'<=' not supported between instances of 'str' and 'int' NC_029259.1|-|18386959-18387130|122-142 \n",
      "'<=' not supported between instances of 'str' and 'int''<=' not supported between instances of 'str' and 'int' NC_029258.1|+|6510850-6510974|31-54\n",
      "NC_029256.1|-|7189198-7189367|25-45'<=' not supported between instances of 'str' and 'int' NC_029258.1|+|34000574-34000757|31-54'<=' not supported between instances of 'str' and 'int'\n",
      "'<=' not supported between instances of 'str' and 'int'\n",
      "  NC_029258.1|+|30027754-30027920|117-137NC_029257.1|+|27593760-27594027|160-180\n",
      "'<=' not supported between instances of 'str' and 'int' NC_029257.1|-|18895888-18896228|289-312\n",
      "'<=' not supported between instances of 'str' and 'int''<=' not supported between instances of 'str' and 'int'\n",
      "  NC_029258.1|+|21191583-21191742|108-128NC_029259.1|+|19715097-19715272|115-135\n",
      "\n",
      "'<=' not supported between instances of 'str' and 'int' NC_029257.1|+|7650664-7650819|106-126\n",
      "'<=' not supported between instances of 'str' and 'int' NC_029259.1|+|6536536-6536667|36-57\n",
      "'<=' not supported between instances of 'str' and 'int' '<=' not supported between instances of 'str' and 'int'NC_029259.1|-|34931856-34932027|123-143 \n",
      "NC_029256.1|-|43208602-43208870|218-239\n",
      "'<=' not supported between instances of 'str' and 'int''<=' not supported between instances of 'str' and 'int'  NC_029260.1|-|3661470-3661658|32-53NC_029259.1|-|21654574-21654784|129-150\n",
      "\n",
      "'<=' not supported between instances of 'str' and 'int' '<=' not supported between instances of 'str' and 'int'NC_029259.1|-|30081882-30082097|31-51 \n",
      "NC_029259.1|-|2761587-2761902|34-54\n",
      "'<=' not supported between instances of 'str' and 'int' NC_029259.1|-|31805474-31805655|132-152\n",
      "'<=' not supported between instances of 'str' and 'int' NC_029261.1|+|11402585-11402744|62-81\n",
      "'<=' not supported between instances of 'str' and 'int' NC_029259.1|+|8340779-8340959|126-146\n",
      "'<=' not supported between instances of 'str' and 'int' '<=' not supported between instances of 'str' and 'int'NC_029261.1|+|21164735-21164983|64-87 \n",
      "NC_029260.1|+|26307916-26308054|89-109\n",
      "'<=' not supported between instances of 'str' and 'int' NC_029260.1|+|5230589-5230784|31-51\n",
      "'<=' not supported between instances of 'str' and 'int' NC_029258.1|+|10542137-10542308|31-51\n",
      "'<=' not supported between instances of 'str' and 'int' '<=' not supported between instances of 'str' and 'int'NC_029259.1|-|31804892-31805019|78-98'<=' not supported between instances of 'str' and 'int' \n",
      " NC_029261.1|-|17701847-17701975|31-51NC_029258.1|-|35885461-35885744|234-254\n",
      "\n",
      "'<=' not supported between instances of 'str' and 'int' '<=' not supported between instances of 'str' and 'int'NC_029259.1|+|16882224-16882440|173-196 \n",
      "NC_029261.1|+|26260287-26260490|154-175\n",
      "'<=' not supported between instances of 'str' and 'int' NC_029260.1|-|23591536-23591807|219-242\n",
      "'<=' not supported between instances of 'str' and 'int' NC_029260.1|-|18432815-18433086|219-242\n",
      "'<=' not supported between instances of 'str' and 'int' NC_029261.1|+|16973796-16974008|31-51\n",
      "'<=' not supported between instances of 'str' and 'int' NC_029259.1|+|32622923-32623048|76-96\n",
      "'<=' not supported between instances of 'str' and 'int' NC_029257.1|-|3742221-3742533|31-51\n"
     ]
    },
    {
     "ename": "NameError",
     "evalue": "name 'asa' is not defined",
     "output_type": "error",
     "traceback": [
      "\u001b[0;31m---------------------------------------------------------------------------\u001b[0m",
      "\u001b[0;31m_RemoteTraceback\u001b[0m                          Traceback (most recent call last)",
      "\u001b[0;31m_RemoteTraceback\u001b[0m: \n\"\"\"\nTraceback (most recent call last):\n  File \"<ipython-input-183-6deda6d8694f>\", line 3, in run\n    return get_row(tag, path,extra)\n  File \"/home/jupyter/plant_microRNA_prediction/./src/ct_analizer.py\", line 952, in get_row\n    hit_self_complementarity = get_hit_self_complementarity(hit_start, hit_end, inc_srange)\n  File \"/home/jupyter/plant_microRNA_prediction/./src/ct_analizer.py\", line 199, in get_hit_self_complementarity\n    if(((inc_srange <= hit_start) | (inc_srange > hit_end)).all()):\n  File \"/home/emadi/.local/lib/python3.8/site-packages/pandas/core/ops/common.py\", line 69, in new_method\n    return method(self, other)\n  File \"/home/emadi/.local/lib/python3.8/site-packages/pandas/core/arraylike.py\", line 44, in __le__\n    return self._cmp_method(other, operator.le)\n  File \"/home/emadi/.local/lib/python3.8/site-packages/pandas/core/series.py\", line 5502, in _cmp_method\n    res_values = ops.comparison_op(lvalues, rvalues, op)\n  File \"/home/emadi/.local/lib/python3.8/site-packages/pandas/core/ops/array_ops.py\", line 284, in comparison_op\n    res_values = comp_method_OBJECT_ARRAY(op, lvalues, rvalues)\n  File \"/home/emadi/.local/lib/python3.8/site-packages/pandas/core/ops/array_ops.py\", line 73, in comp_method_OBJECT_ARRAY\n    result = libops.scalar_compare(x.ravel(), y, op)\n  File \"pandas/_libs/ops.pyx\", line 107, in pandas._libs.ops.scalar_compare\nTypeError: '<=' not supported between instances of 'str' and 'int'\n\nDuring handling of the above exception, another exception occurred:\n\nTraceback (most recent call last):\n  File \"/usr/lib/python3.8/concurrent/futures/process.py\", line 239, in _process_worker\n    r = call_item.fn(*call_item.args, **call_item.kwargs)\n  File \"/usr/lib/python3.8/concurrent/futures/process.py\", line 198, in _process_chunk\n    return [fn(*args) for args in chunk]\n  File \"/usr/lib/python3.8/concurrent/futures/process.py\", line 198, in <listcomp>\n    return [fn(*args) for args in chunk]\n  File \"<ipython-input-183-6deda6d8694f>\", line 11, in get_df_by_tag\n    return pd.Series(ct_files).apply(lambda path: run(tag, path,extra))\n  File \"/home/emadi/.local/lib/python3.8/site-packages/pandas/core/series.py\", line 4357, in apply\n    return SeriesApply(self, func, convert_dtype, args, kwargs).apply()\n  File \"/home/emadi/.local/lib/python3.8/site-packages/pandas/core/apply.py\", line 1043, in apply\n    return self.apply_standard()\n  File \"/home/emadi/.local/lib/python3.8/site-packages/pandas/core/apply.py\", line 1099, in apply_standard\n    mapped = lib.map_infer(\n  File \"pandas/_libs/lib.pyx\", line 2859, in pandas._libs.lib.map_infer\n  File \"<ipython-input-183-6deda6d8694f>\", line 11, in <lambda>\n    return pd.Series(ct_files).apply(lambda path: run(tag, path,extra))\n  File \"<ipython-input-183-6deda6d8694f>\", line 6, in run\n    asa\nNameError: name 'asa' is not defined\n\"\"\"",
      "\nThe above exception was the direct cause of the following exception:\n",
      "\u001b[0;31mNameError\u001b[0m                                 Traceback (most recent call last)",
      "\u001b[0;32m<ipython-input-187-cf3f14bc662b>\u001b[0m in \u001b[0;36m<module>\u001b[0;34m\u001b[0m\n\u001b[1;32m     11\u001b[0m \u001b[0;32mfor\u001b[0m \u001b[0mchunk\u001b[0m \u001b[0;32min\u001b[0m \u001b[0mtqdm\u001b[0m\u001b[0;34m(\u001b[0m\u001b[0marr\u001b[0m\u001b[0;34m)\u001b[0m\u001b[0;34m:\u001b[0m\u001b[0;34m\u001b[0m\u001b[0;34m\u001b[0m\u001b[0m\n\u001b[1;32m     12\u001b[0m     \u001b[0mdfs\u001b[0m \u001b[0;34m=\u001b[0m \u001b[0;34m[\u001b[0m\u001b[0;34m]\u001b[0m\u001b[0;34m\u001b[0m\u001b[0;34m\u001b[0m\u001b[0m\n\u001b[0;32m---> 13\u001b[0;31m     \u001b[0;32mfor\u001b[0m \u001b[0mrow\u001b[0m \u001b[0;32min\u001b[0m \u001b[0mprocess_map\u001b[0m\u001b[0;34m(\u001b[0m\u001b[0mget_df_by_tag\u001b[0m \u001b[0;34m,\u001b[0m \u001b[0mchunk\u001b[0m\u001b[0;34m,\u001b[0m \u001b[0mtqdm_class\u001b[0m\u001b[0;34m=\u001b[0m\u001b[0mtqdm\u001b[0m\u001b[0;34m,\u001b[0m \u001b[0mmax_workers\u001b[0m\u001b[0;34m=\u001b[0m\u001b[0mmax_workers\u001b[0m\u001b[0;34m,\u001b[0m \u001b[0mchunksize\u001b[0m\u001b[0;34m=\u001b[0m\u001b[0;36m5\u001b[0m\u001b[0;34m)\u001b[0m\u001b[0;34m:\u001b[0m\u001b[0;34m\u001b[0m\u001b[0;34m\u001b[0m\u001b[0m\n\u001b[0m\u001b[1;32m     14\u001b[0m         \u001b[0mdfs\u001b[0m\u001b[0;34m.\u001b[0m\u001b[0mappend\u001b[0m\u001b[0;34m(\u001b[0m\u001b[0mrow\u001b[0m\u001b[0;34m)\u001b[0m\u001b[0;34m\u001b[0m\u001b[0;34m\u001b[0m\u001b[0m\n\u001b[1;32m     15\u001b[0m     \u001b[0mchunk\u001b[0m \u001b[0;34m=\u001b[0m \u001b[0mpd\u001b[0m\u001b[0;34m.\u001b[0m\u001b[0mconcat\u001b[0m\u001b[0;34m(\u001b[0m\u001b[0mdfs\u001b[0m\u001b[0;34m,\u001b[0m\u001b[0maxis\u001b[0m\u001b[0;34m=\u001b[0m\u001b[0;36m0\u001b[0m\u001b[0;34m)\u001b[0m\u001b[0;34m\u001b[0m\u001b[0;34m\u001b[0m\u001b[0m\n",
      "\u001b[0;32m~/.local/lib/python3.8/site-packages/tqdm/contrib/concurrent.py\u001b[0m in \u001b[0;36mprocess_map\u001b[0;34m(fn, *iterables, **tqdm_kwargs)\u001b[0m\n\u001b[1;32m    128\u001b[0m         \u001b[0mtqdm_kwargs\u001b[0m \u001b[0;34m=\u001b[0m \u001b[0mtqdm_kwargs\u001b[0m\u001b[0;34m.\u001b[0m\u001b[0mcopy\u001b[0m\u001b[0;34m(\u001b[0m\u001b[0;34m)\u001b[0m\u001b[0;34m\u001b[0m\u001b[0;34m\u001b[0m\u001b[0m\n\u001b[1;32m    129\u001b[0m         \u001b[0mtqdm_kwargs\u001b[0m\u001b[0;34m[\u001b[0m\u001b[0;34m\"lock_name\"\u001b[0m\u001b[0;34m]\u001b[0m \u001b[0;34m=\u001b[0m \u001b[0;34m\"mp_lock\"\u001b[0m\u001b[0;34m\u001b[0m\u001b[0;34m\u001b[0m\u001b[0m\n\u001b[0;32m--> 130\u001b[0;31m     \u001b[0;32mreturn\u001b[0m \u001b[0m_executor_map\u001b[0m\u001b[0;34m(\u001b[0m\u001b[0mProcessPoolExecutor\u001b[0m\u001b[0;34m,\u001b[0m \u001b[0mfn\u001b[0m\u001b[0;34m,\u001b[0m \u001b[0;34m*\u001b[0m\u001b[0miterables\u001b[0m\u001b[0;34m,\u001b[0m \u001b[0;34m**\u001b[0m\u001b[0mtqdm_kwargs\u001b[0m\u001b[0;34m)\u001b[0m\u001b[0;34m\u001b[0m\u001b[0;34m\u001b[0m\u001b[0m\n\u001b[0m",
      "\u001b[0;32m~/.local/lib/python3.8/site-packages/tqdm/contrib/concurrent.py\u001b[0m in \u001b[0;36m_executor_map\u001b[0;34m(PoolExecutor, fn, *iterables, **tqdm_kwargs)\u001b[0m\n\u001b[1;32m     74\u001b[0m             \u001b[0mmap_args\u001b[0m\u001b[0;34m.\u001b[0m\u001b[0mupdate\u001b[0m\u001b[0;34m(\u001b[0m\u001b[0mchunksize\u001b[0m\u001b[0;34m=\u001b[0m\u001b[0mchunksize\u001b[0m\u001b[0;34m)\u001b[0m\u001b[0;34m\u001b[0m\u001b[0;34m\u001b[0m\u001b[0m\n\u001b[1;32m     75\u001b[0m         \u001b[0;32mwith\u001b[0m \u001b[0mPoolExecutor\u001b[0m\u001b[0;34m(\u001b[0m\u001b[0;34m**\u001b[0m\u001b[0mpool_kwargs\u001b[0m\u001b[0;34m)\u001b[0m \u001b[0;32mas\u001b[0m \u001b[0mex\u001b[0m\u001b[0;34m:\u001b[0m\u001b[0;34m\u001b[0m\u001b[0;34m\u001b[0m\u001b[0m\n\u001b[0;32m---> 76\u001b[0;31m             \u001b[0;32mreturn\u001b[0m \u001b[0mlist\u001b[0m\u001b[0;34m(\u001b[0m\u001b[0mtqdm_class\u001b[0m\u001b[0;34m(\u001b[0m\u001b[0mex\u001b[0m\u001b[0;34m.\u001b[0m\u001b[0mmap\u001b[0m\u001b[0;34m(\u001b[0m\u001b[0mfn\u001b[0m\u001b[0;34m,\u001b[0m \u001b[0;34m*\u001b[0m\u001b[0miterables\u001b[0m\u001b[0;34m,\u001b[0m \u001b[0;34m**\u001b[0m\u001b[0mmap_args\u001b[0m\u001b[0;34m)\u001b[0m\u001b[0;34m,\u001b[0m \u001b[0;34m**\u001b[0m\u001b[0mkwargs\u001b[0m\u001b[0;34m)\u001b[0m\u001b[0;34m)\u001b[0m\u001b[0;34m\u001b[0m\u001b[0;34m\u001b[0m\u001b[0m\n\u001b[0m\u001b[1;32m     77\u001b[0m \u001b[0;34m\u001b[0m\u001b[0m\n\u001b[1;32m     78\u001b[0m \u001b[0;34m\u001b[0m\u001b[0m\n",
      "\u001b[0;32m~/.local/lib/python3.8/site-packages/tqdm/notebook.py\u001b[0m in \u001b[0;36m__iter__\u001b[0;34m(self)\u001b[0m\n\u001b[1;32m    255\u001b[0m     \u001b[0;32mdef\u001b[0m \u001b[0m__iter__\u001b[0m\u001b[0;34m(\u001b[0m\u001b[0mself\u001b[0m\u001b[0;34m)\u001b[0m\u001b[0;34m:\u001b[0m\u001b[0;34m\u001b[0m\u001b[0;34m\u001b[0m\u001b[0m\n\u001b[1;32m    256\u001b[0m         \u001b[0;32mtry\u001b[0m\u001b[0;34m:\u001b[0m\u001b[0;34m\u001b[0m\u001b[0;34m\u001b[0m\u001b[0m\n\u001b[0;32m--> 257\u001b[0;31m             \u001b[0;32mfor\u001b[0m \u001b[0mobj\u001b[0m \u001b[0;32min\u001b[0m \u001b[0msuper\u001b[0m\u001b[0;34m(\u001b[0m\u001b[0mtqdm_notebook\u001b[0m\u001b[0;34m,\u001b[0m \u001b[0mself\u001b[0m\u001b[0;34m)\u001b[0m\u001b[0;34m.\u001b[0m\u001b[0m__iter__\u001b[0m\u001b[0;34m(\u001b[0m\u001b[0;34m)\u001b[0m\u001b[0;34m:\u001b[0m\u001b[0;34m\u001b[0m\u001b[0;34m\u001b[0m\u001b[0m\n\u001b[0m\u001b[1;32m    258\u001b[0m                 \u001b[0;31m# return super(tqdm...) will not catch exception\u001b[0m\u001b[0;34m\u001b[0m\u001b[0;34m\u001b[0m\u001b[0;34m\u001b[0m\u001b[0m\n\u001b[1;32m    259\u001b[0m                 \u001b[0;32myield\u001b[0m \u001b[0mobj\u001b[0m\u001b[0;34m\u001b[0m\u001b[0;34m\u001b[0m\u001b[0m\n",
      "\u001b[0;32m~/.local/lib/python3.8/site-packages/tqdm/std.py\u001b[0m in \u001b[0;36m__iter__\u001b[0;34m(self)\u001b[0m\n\u001b[1;32m   1178\u001b[0m \u001b[0;34m\u001b[0m\u001b[0m\n\u001b[1;32m   1179\u001b[0m         \u001b[0;32mtry\u001b[0m\u001b[0;34m:\u001b[0m\u001b[0;34m\u001b[0m\u001b[0;34m\u001b[0m\u001b[0m\n\u001b[0;32m-> 1180\u001b[0;31m             \u001b[0;32mfor\u001b[0m \u001b[0mobj\u001b[0m \u001b[0;32min\u001b[0m \u001b[0miterable\u001b[0m\u001b[0;34m:\u001b[0m\u001b[0;34m\u001b[0m\u001b[0;34m\u001b[0m\u001b[0m\n\u001b[0m\u001b[1;32m   1181\u001b[0m                 \u001b[0;32myield\u001b[0m \u001b[0mobj\u001b[0m\u001b[0;34m\u001b[0m\u001b[0;34m\u001b[0m\u001b[0m\n\u001b[1;32m   1182\u001b[0m                 \u001b[0;31m# Update and possibly print the progressbar.\u001b[0m\u001b[0;34m\u001b[0m\u001b[0;34m\u001b[0m\u001b[0;34m\u001b[0m\u001b[0m\n",
      "\u001b[0;32m/usr/lib/python3.8/concurrent/futures/process.py\u001b[0m in \u001b[0;36m_chain_from_iterable_of_lists\u001b[0;34m(iterable)\u001b[0m\n\u001b[1;32m    482\u001b[0m     \u001b[0mcareful\u001b[0m \u001b[0;32mnot\u001b[0m \u001b[0mto\u001b[0m \u001b[0mkeep\u001b[0m \u001b[0mreferences\u001b[0m \u001b[0mto\u001b[0m \u001b[0myielded\u001b[0m \u001b[0mobjects\u001b[0m\u001b[0;34m.\u001b[0m\u001b[0;34m\u001b[0m\u001b[0;34m\u001b[0m\u001b[0m\n\u001b[1;32m    483\u001b[0m     \"\"\"\n\u001b[0;32m--> 484\u001b[0;31m     \u001b[0;32mfor\u001b[0m \u001b[0melement\u001b[0m \u001b[0;32min\u001b[0m \u001b[0miterable\u001b[0m\u001b[0;34m:\u001b[0m\u001b[0;34m\u001b[0m\u001b[0;34m\u001b[0m\u001b[0m\n\u001b[0m\u001b[1;32m    485\u001b[0m         \u001b[0melement\u001b[0m\u001b[0;34m.\u001b[0m\u001b[0mreverse\u001b[0m\u001b[0;34m(\u001b[0m\u001b[0;34m)\u001b[0m\u001b[0;34m\u001b[0m\u001b[0;34m\u001b[0m\u001b[0m\n\u001b[1;32m    486\u001b[0m         \u001b[0;32mwhile\u001b[0m \u001b[0melement\u001b[0m\u001b[0;34m:\u001b[0m\u001b[0;34m\u001b[0m\u001b[0;34m\u001b[0m\u001b[0m\n",
      "\u001b[0;32m/usr/lib/python3.8/concurrent/futures/_base.py\u001b[0m in \u001b[0;36mresult_iterator\u001b[0;34m()\u001b[0m\n\u001b[1;32m    617\u001b[0m                     \u001b[0;31m# Careful not to keep a reference to the popped future\u001b[0m\u001b[0;34m\u001b[0m\u001b[0;34m\u001b[0m\u001b[0;34m\u001b[0m\u001b[0m\n\u001b[1;32m    618\u001b[0m                     \u001b[0;32mif\u001b[0m \u001b[0mtimeout\u001b[0m \u001b[0;32mis\u001b[0m \u001b[0;32mNone\u001b[0m\u001b[0;34m:\u001b[0m\u001b[0;34m\u001b[0m\u001b[0;34m\u001b[0m\u001b[0m\n\u001b[0;32m--> 619\u001b[0;31m                         \u001b[0;32myield\u001b[0m \u001b[0mfs\u001b[0m\u001b[0;34m.\u001b[0m\u001b[0mpop\u001b[0m\u001b[0;34m(\u001b[0m\u001b[0;34m)\u001b[0m\u001b[0;34m.\u001b[0m\u001b[0mresult\u001b[0m\u001b[0;34m(\u001b[0m\u001b[0;34m)\u001b[0m\u001b[0;34m\u001b[0m\u001b[0;34m\u001b[0m\u001b[0m\n\u001b[0m\u001b[1;32m    620\u001b[0m                     \u001b[0;32melse\u001b[0m\u001b[0;34m:\u001b[0m\u001b[0;34m\u001b[0m\u001b[0;34m\u001b[0m\u001b[0m\n\u001b[1;32m    621\u001b[0m                         \u001b[0;32myield\u001b[0m \u001b[0mfs\u001b[0m\u001b[0;34m.\u001b[0m\u001b[0mpop\u001b[0m\u001b[0;34m(\u001b[0m\u001b[0;34m)\u001b[0m\u001b[0;34m.\u001b[0m\u001b[0mresult\u001b[0m\u001b[0;34m(\u001b[0m\u001b[0mend_time\u001b[0m \u001b[0;34m-\u001b[0m \u001b[0mtime\u001b[0m\u001b[0;34m.\u001b[0m\u001b[0mmonotonic\u001b[0m\u001b[0;34m(\u001b[0m\u001b[0;34m)\u001b[0m\u001b[0;34m)\u001b[0m\u001b[0;34m\u001b[0m\u001b[0;34m\u001b[0m\u001b[0m\n",
      "\u001b[0;32m/usr/lib/python3.8/concurrent/futures/_base.py\u001b[0m in \u001b[0;36mresult\u001b[0;34m(self, timeout)\u001b[0m\n\u001b[1;32m    442\u001b[0m                     \u001b[0;32mraise\u001b[0m \u001b[0mCancelledError\u001b[0m\u001b[0;34m(\u001b[0m\u001b[0;34m)\u001b[0m\u001b[0;34m\u001b[0m\u001b[0;34m\u001b[0m\u001b[0m\n\u001b[1;32m    443\u001b[0m                 \u001b[0;32melif\u001b[0m \u001b[0mself\u001b[0m\u001b[0;34m.\u001b[0m\u001b[0m_state\u001b[0m \u001b[0;34m==\u001b[0m \u001b[0mFINISHED\u001b[0m\u001b[0;34m:\u001b[0m\u001b[0;34m\u001b[0m\u001b[0;34m\u001b[0m\u001b[0m\n\u001b[0;32m--> 444\u001b[0;31m                     \u001b[0;32mreturn\u001b[0m \u001b[0mself\u001b[0m\u001b[0;34m.\u001b[0m\u001b[0m__get_result\u001b[0m\u001b[0;34m(\u001b[0m\u001b[0;34m)\u001b[0m\u001b[0;34m\u001b[0m\u001b[0;34m\u001b[0m\u001b[0m\n\u001b[0m\u001b[1;32m    445\u001b[0m                 \u001b[0;32melse\u001b[0m\u001b[0;34m:\u001b[0m\u001b[0;34m\u001b[0m\u001b[0;34m\u001b[0m\u001b[0m\n\u001b[1;32m    446\u001b[0m                     \u001b[0;32mraise\u001b[0m \u001b[0mTimeoutError\u001b[0m\u001b[0;34m(\u001b[0m\u001b[0;34m)\u001b[0m\u001b[0;34m\u001b[0m\u001b[0;34m\u001b[0m\u001b[0m\n",
      "\u001b[0;32m/usr/lib/python3.8/concurrent/futures/_base.py\u001b[0m in \u001b[0;36m__get_result\u001b[0;34m(self)\u001b[0m\n\u001b[1;32m    387\u001b[0m         \u001b[0;32mif\u001b[0m \u001b[0mself\u001b[0m\u001b[0;34m.\u001b[0m\u001b[0m_exception\u001b[0m\u001b[0;34m:\u001b[0m\u001b[0;34m\u001b[0m\u001b[0;34m\u001b[0m\u001b[0m\n\u001b[1;32m    388\u001b[0m             \u001b[0;32mtry\u001b[0m\u001b[0;34m:\u001b[0m\u001b[0;34m\u001b[0m\u001b[0;34m\u001b[0m\u001b[0m\n\u001b[0;32m--> 389\u001b[0;31m                 \u001b[0;32mraise\u001b[0m \u001b[0mself\u001b[0m\u001b[0;34m.\u001b[0m\u001b[0m_exception\u001b[0m\u001b[0;34m\u001b[0m\u001b[0;34m\u001b[0m\u001b[0m\n\u001b[0m\u001b[1;32m    390\u001b[0m             \u001b[0;32mfinally\u001b[0m\u001b[0;34m:\u001b[0m\u001b[0;34m\u001b[0m\u001b[0;34m\u001b[0m\u001b[0m\n\u001b[1;32m    391\u001b[0m                 \u001b[0;31m# Break a reference cycle with the exception in self._exception\u001b[0m\u001b[0;34m\u001b[0m\u001b[0;34m\u001b[0m\u001b[0;34m\u001b[0m\u001b[0m\n",
      "\u001b[0;31mNameError\u001b[0m: name 'asa' is not defined"
     ]
    }
   ],
   "source": [
    "!rm ./{result_path}/ct_analizer.csv\n",
    "chunksize = 1 * (10 ** 4)\n",
    "max_workers = mp.cpu_count() - 4\n",
    "num_terminal = 5 # acceptable_terminal_structures\n",
    "\n",
    "repeted = {}\n",
    "repeted_boi = {}\n",
    "header = True\n",
    "orders = None\n",
    "arr = np.array_split(df['tag'], max(df['tag'].shape[0]//chunksize , 1))\n",
    "for chunk in tqdm(arr):\n",
    "    dfs = []\n",
    "    for row in process_map(get_df_by_tag , chunk, tqdm_class=tqdm, max_workers=max_workers, chunksize=5):        \n",
    "        dfs.append(row)\n",
    "    chunk = pd.concat(dfs,axis=0)\n",
    "    chunk = pd.merge(data, chunk, how='right', left_on = 'location_tag', right_on ='seq name')\n",
    "    del chunk['location_tag']\n",
    "    if(header):\n",
    "        orders = chunk.columns\n",
    "    for col in orders:\n",
    "        if(col not in chunk.columns):\n",
    "            chunk[col] = np.nan            \n",
    "        \n",
    "    for col in chunk.columns:\n",
    "        if(col not in orders ):\n",
    "            print(f\"Error in {col}\")        \n",
    "    chunk = chunk.reindex(columns=orders)\n",
    "    chunk = chunk.replace(np.nan, '-').replace('', '-')                    \n",
    "    # delete repeated\n",
    "    selected = chunk[rcols].apply(lambda row: selection(row), axis=1)\n",
    "    chunk = chunk[selected]\n",
    "    \n",
    "    # cluster refs\n",
    "    chunk[rcols_dg].apply(lambda row: boi_selection(row), axis=1)        \n",
    "    chunk.to_csv(f\"./{result_path}/ct_analizer.csv\", header=header, mode='a', index=False)    \n",
    "    header = False"
   ]
  },
  {
   "cell_type": "code",
   "execution_count": null,
   "metadata": {
    "ExecuteTime": {
     "end_time": "2022-07-15T10:48:46.417609Z",
     "start_time": "2022-07-15T10:48:43.099Z"
    },
    "scrolled": true
   },
   "outputs": [],
   "source": [
    "!rm ./{result_path}/ct_analizer_clustered.csv\n",
    "def isKeepCluster(row):\n",
    "    global repeted_boi    \n",
    "    dg = row['delta G']    \n",
    "    if(row[\"boi name\"] == \"-\"):\n",
    "        return False\n",
    "    tuple_row_boi = tuple(row[rcols_boi])    \n",
    "    value = repeted_boi[tuple_row_boi]\n",
    "    if(value['counter'] == 1):\n",
    "        return True\n",
    "    if(value['dg'] != dg):        \n",
    "        return False\n",
    "    if(value['lock']):\n",
    "        return False\n",
    "    value['lock'] = True\n",
    "    repeted_boi[tuple_row_boi] = value\n",
    "    return True\n",
    "\n",
    "\n",
    "def makeCluster(row):            \n",
    "    tuple_row_boi = tuple(row[rcols_boi])    \n",
    "    value = repeted_boi[tuple_row_boi]\n",
    "    if(value['counter'] != 1):\n",
    "        for ref_c in ['ref clusters', 'ref ids', 'ref species']:\n",
    "            value[ref_c] = value[ref_c].replace(' ,', ',').replace(', ', ',')                        \n",
    "            value[ref_c] = value[ref_c].split(',')\n",
    "            value[ref_c] = set(value[ref_c])\n",
    "            value[ref_c] = \", \".join(value[ref_c])                    \n",
    "        row['Reference miRNA cluster'] = value[\"ref clusters\"]\n",
    "        row['Reference miRNA IDs'] = value[\"ref ids\"]\n",
    "        row['Reference miRNA IDs and species'] = value[\"ref species\"]\n",
    "    return row\n",
    "\n",
    "\n",
    "header = True\n",
    "for chunk in tqdm(pd.read_csv(f\"./{result_path}/ct_analizer.csv\", chunksize=10 ** 5)):\n",
    "    chunk = chunk[chunk[rcols_dg].apply(lambda row:  isKeepCluster(row), axis=1)]\n",
    "    chunk = chunk.apply(lambda row : makeCluster(row), axis=1)\n",
    "    chunk.to_csv(f\"./{result_path}/ct_analizer_clustered.csv\", mode='a', index=False)\n",
    "    header = False"
   ]
  },
  {
   "cell_type": "markdown",
   "metadata": {
    "heading_collapsed": true
   },
   "source": [
    "# Filters"
   ]
  },
  {
   "cell_type": "code",
   "execution_count": 133,
   "metadata": {
    "ExecuteTime": {
     "end_time": "2022-06-24T19:19:24.851278Z",
     "start_time": "2022-06-24T19:19:23.460609Z"
    },
    "hidden": true
   },
   "outputs": [
    {
     "name": "stdout",
     "output_type": "stream",
     "text": [
      "rm: cannot remove '././Experiment/A.thaliana/Result/result_level1_filter.csv': No such file or directory\r\n"
     ]
    },
    {
     "name": "stderr",
     "output_type": "stream",
     "text": [
      "1it [00:01,  1.20s/it]\n"
     ]
    }
   ],
   "source": [
    "!rm ./{result_path}/result_level1_filter.csv\n",
    "filter1_run(input_file=  f\"./{result_path}/ct_analizer_clustered.csv\",\n",
    "            output_file= f\"./{result_path}/result_level1_filter.csv\")"
   ]
  },
  {
   "cell_type": "code",
   "execution_count": 137,
   "metadata": {
    "ExecuteTime": {
     "end_time": "2022-06-24T19:22:40.455249Z",
     "start_time": "2022-06-24T19:22:36.210570Z"
    },
    "hidden": true
   },
   "outputs": [
    {
     "name": "stderr",
     "output_type": "stream",
     "text": [
      "1it [00:04,  4.22s/it]\n"
     ]
    }
   ],
   "source": [
    "config = {'delta_g_min': -999,\n",
    "          'delta_g_max': 1,\n",
    "          'hit_len_min': 21,\n",
    "          'hit_len_max': 21,\n",
    "          'hit_complementarity_percentage_min': 0.5,\n",
    "          'hit_complementarity_percentage_max': 1.0,\n",
    "          'number_of_terminal_structure_min': 0,\n",
    "          'number_of_terminal_structure_max': 5,\n",
    "          'boi_gc_content_min': 45,\n",
    "          'boi_gc_content_max': 94, \n",
    "          'num_of_linking_residues_min': 5, \n",
    "          'num_of_linking_residues_max': 159,\n",
    "          'hit_gc_content_percentage_min': 37, \n",
    "          'hit_gc_content_percentage_max': 86,\n",
    "          'precursor_mfei_min': 0.87,\n",
    "          'precursor_mfei_max': 1.3695556794836854, \n",
    "          'border_line_mismatch_max': 0,\n",
    "          'border_line_bulge_max': 0,\n",
    "          'border_line_internal_max': 0,\n",
    "          'total_num_of_nonmatching_positions': 5,\n",
    "          'total_num_of_mismached_positions': 5,\n",
    "          'total_num_of_positions_in_bulges_and_loops': 2,\n",
    "          'max_allowed_mismatch_size_in_hit_region': 2,\n",
    "          'max_allowed_bulge_size_in_hit_region': 1,\n",
    "          'max_allowed_internal_loop_size_in_hit_region': 3,\n",
    "          'max_allowed_hsbl_ssbl_size': 2,\n",
    "          'minimum_required_clear_region': 0,\n",
    "          'acceptable_num_for_hit_locations_in_bulges_or_loops': 2,\n",
    "          'acceptable_num_for_unmatched_locations_in_hit_region': 5,\n",
    "          'delete_if_mature_duplex_involvement_in_apical_loop': 'YES',\n",
    "          'border_line_structure_allowance': 'NOT ACCEPTED'}\n",
    "\n",
    "filter2(input_file  = f\"./{result_path}/result_level1_filter.csv\",\n",
    "            output_file = f\"./{result_path}/result_level2_filter.csv\",\n",
    "            config=config)"
   ]
  },
  {
   "cell_type": "markdown",
   "metadata": {
    "heading_collapsed": true
   },
   "source": [
    "# Cluster JSC"
   ]
  },
  {
   "cell_type": "code",
   "execution_count": 20,
   "metadata": {
    "ExecuteTime": {
     "end_time": "2022-05-28T08:41:05.353674Z",
     "start_time": "2022-05-28T08:41:04.465121Z"
    },
    "hidden": true,
    "scrolled": false
   },
   "outputs": [
    {
     "name": "stdout",
     "output_type": "stream",
     "text": [
      "(9946, 134)\n"
     ]
    },
    {
     "data": {
      "text/html": [
       "<div>\n",
       "<style scoped>\n",
       "    .dataframe tbody tr th:only-of-type {\n",
       "        vertical-align: middle;\n",
       "    }\n",
       "\n",
       "    .dataframe tbody tr th {\n",
       "        vertical-align: top;\n",
       "    }\n",
       "\n",
       "    .dataframe thead th {\n",
       "        text-align: right;\n",
       "    }\n",
       "</style>\n",
       "<table border=\"1\" class=\"dataframe\">\n",
       "  <thead>\n",
       "    <tr style=\"text-align: right;\">\n",
       "      <th></th>\n",
       "      <th>Reference miRNA cluster</th>\n",
       "      <th>Reference miRNA IDs</th>\n",
       "      <th>Reference miRNA IDs and species</th>\n",
       "      <th>confidence</th>\n",
       "      <th>seq name</th>\n",
       "      <th>ct name</th>\n",
       "      <th>ct</th>\n",
       "      <th>pdf</th>\n",
       "      <th>hit start</th>\n",
       "      <th>hit end</th>\n",
       "      <th>...</th>\n",
       "      <th>proximal closest to 17</th>\n",
       "      <th>proximal closest to 21</th>\n",
       "      <th>proximal closest to 36</th>\n",
       "      <th>distal closest to 15</th>\n",
       "      <th>distal closest to 17</th>\n",
       "      <th>distal closest to 21</th>\n",
       "      <th>distal closest to 36</th>\n",
       "      <th>Loop distal junction distance</th>\n",
       "      <th>Loop proximal junction distance</th>\n",
       "      <th>message</th>\n",
       "    </tr>\n",
       "  </thead>\n",
       "  <tbody>\n",
       "    <tr>\n",
       "      <th>0</th>\n",
       "      <td>C154</td>\n",
       "      <td>mtr-miR5205b</td>\n",
       "      <td>mtr-miR5205b MIMAT0021134 Medicago truncatula ...</td>\n",
       "      <td>False</td>\n",
       "      <td>NC_029256.1|-|1012887-1013310|201-224</td>\n",
       "      <td>Fold 08</td>\n",
       "      <td>=HYPERLINK(\"http://jupyter.sysmanager.ir/tree/...</td>\n",
       "      <td>=HYPERLINK(\"http://jupyter.sysmanager.ir/tree/...</td>\n",
       "      <td>201</td>\n",
       "      <td>224</td>\n",
       "      <td>...</td>\n",
       "      <td>['loop=dist:15, size:3 + 2']</td>\n",
       "      <td>['loop=dist:15, size:3 + 2']</td>\n",
       "      <td>['loop=dist:15, size:3 + 2']</td>\n",
       "      <td>-</td>\n",
       "      <td>-</td>\n",
       "      <td>-</td>\n",
       "      <td>-</td>\n",
       "      <td>1.0</td>\n",
       "      <td>15.0</td>\n",
       "      <td>-</td>\n",
       "    </tr>\n",
       "    <tr>\n",
       "      <th>1</th>\n",
       "      <td>C145</td>\n",
       "      <td>hvu-miR1120</td>\n",
       "      <td>hvu-miR1120 MIMAT0018499 Hordeum vulgare miR1120</td>\n",
       "      <td>False</td>\n",
       "      <td>NC_029256.1|-|1012889-1013312|201-224</td>\n",
       "      <td>Fold 08</td>\n",
       "      <td>=HYPERLINK(\"http://jupyter.sysmanager.ir/tree/...</td>\n",
       "      <td>=HYPERLINK(\"http://jupyter.sysmanager.ir/tree/...</td>\n",
       "      <td>201</td>\n",
       "      <td>224</td>\n",
       "      <td>...</td>\n",
       "      <td>['loop=dist:13, size:3 + 2', 'loop=dist:17, si...</td>\n",
       "      <td>['loop=dist:13, size:3 + 2', 'loop=dist:17, si...</td>\n",
       "      <td>['loop=dist:13, size:3 + 2', 'loop=dist:17, si...</td>\n",
       "      <td>-</td>\n",
       "      <td>-</td>\n",
       "      <td>-</td>\n",
       "      <td>-</td>\n",
       "      <td>3.0</td>\n",
       "      <td>13.0</td>\n",
       "      <td>-</td>\n",
       "    </tr>\n",
       "  </tbody>\n",
       "</table>\n",
       "<p>2 rows × 134 columns</p>\n",
       "</div>"
      ],
      "text/plain": [
       "  Reference miRNA cluster Reference miRNA IDs  \\\n",
       "0                    C154        mtr-miR5205b   \n",
       "1                    C145         hvu-miR1120   \n",
       "\n",
       "                     Reference miRNA IDs and species  confidence  \\\n",
       "0  mtr-miR5205b MIMAT0021134 Medicago truncatula ...       False   \n",
       "1   hvu-miR1120 MIMAT0018499 Hordeum vulgare miR1120       False   \n",
       "\n",
       "                                seq name  ct name  \\\n",
       "0  NC_029256.1|-|1012887-1013310|201-224  Fold 08   \n",
       "1  NC_029256.1|-|1012889-1013312|201-224  Fold 08   \n",
       "\n",
       "                                                  ct  \\\n",
       "0  =HYPERLINK(\"http://jupyter.sysmanager.ir/tree/...   \n",
       "1  =HYPERLINK(\"http://jupyter.sysmanager.ir/tree/...   \n",
       "\n",
       "                                                 pdf  hit start  hit end  ...  \\\n",
       "0  =HYPERLINK(\"http://jupyter.sysmanager.ir/tree/...        201      224  ...   \n",
       "1  =HYPERLINK(\"http://jupyter.sysmanager.ir/tree/...        201      224  ...   \n",
       "\n",
       "                              proximal closest to 17  \\\n",
       "0                       ['loop=dist:15, size:3 + 2']   \n",
       "1  ['loop=dist:13, size:3 + 2', 'loop=dist:17, si...   \n",
       "\n",
       "                              proximal closest to 21  \\\n",
       "0                       ['loop=dist:15, size:3 + 2']   \n",
       "1  ['loop=dist:13, size:3 + 2', 'loop=dist:17, si...   \n",
       "\n",
       "                              proximal closest to 36  distal closest to 15  \\\n",
       "0                       ['loop=dist:15, size:3 + 2']                     -   \n",
       "1  ['loop=dist:13, size:3 + 2', 'loop=dist:17, si...                     -   \n",
       "\n",
       "  distal closest to 17 distal closest to 21  distal closest to 36  \\\n",
       "0                    -                    -                     -   \n",
       "1                    -                    -                     -   \n",
       "\n",
       "   Loop distal junction distance  Loop proximal junction distance  message  \n",
       "0                            1.0                             15.0        -  \n",
       "1                            3.0                             13.0        -  \n",
       "\n",
       "[2 rows x 134 columns]"
      ]
     },
     "execution_count": 20,
     "metadata": {},
     "output_type": "execute_result"
    }
   ],
   "source": [
    "result = pd.read_csv(f\"./{result_path}/result_level2_filter.csv\")\n",
    "print(result.shape)\n",
    "result.head(2)"
   ]
  },
  {
   "cell_type": "code",
   "execution_count": 21,
   "metadata": {
    "ExecuteTime": {
     "end_time": "2022-05-28T08:41:06.238531Z",
     "start_time": "2022-05-28T08:41:06.231345Z"
    },
    "hidden": true
   },
   "outputs": [],
   "source": [
    "def jaccard(A, B):\n",
    "    a1 = int(A.split('-')[0])\n",
    "    a2 = int(A.split('-')[1])\n",
    "    b1 = int(B.split('-')[0])\n",
    "    b2 = int(B.split('-')[1])\n",
    "    s1 = set([i for i in range(min(a1,a2), max(a1,a2) + 1)])\n",
    "    s2 = set([i for i in range(min(b1,b2), max(b1,b2) + 1)])    \n",
    "    intersection = len(s1.intersection(s2))\n",
    "    union = (len(s1) + len(s2)) - intersection\n",
    "    return float(intersection) / union"
   ]
  },
  {
   "cell_type": "code",
   "execution_count": 22,
   "metadata": {
    "ExecuteTime": {
     "end_time": "2022-05-28T08:41:07.074595Z",
     "start_time": "2022-05-28T08:41:07.065398Z"
    },
    "hidden": true
   },
   "outputs": [],
   "source": [
    "def same2cluster(same_dict, threshold=0.8):        \n",
    "    counter = 1\n",
    "    for key in same_dict:        \n",
    "        item2cluster = {}\n",
    "        SET = list(set(same_dict[key]))\n",
    "        G = networkx.Graph()\n",
    "        # add nodes\n",
    "        for s in SET:\n",
    "            G.add_node(s)\n",
    "        # add edges\n",
    "        for i in range(0, len(SET)):\n",
    "            for j in range(i+1, len(SET)):\n",
    "                if(jaccard(SET[i],SET[j]) >= threshold):        \n",
    "                    G.add_edge(SET[i], SET[j], weight=jaccard(SET[i],SET[j]))\n",
    "                            \n",
    "        # get maximal\n",
    "    \n",
    "        for clique in maximal_cliques(G):    \n",
    "            unique = str(counter).zfill(4)\n",
    "            counter += 1\n",
    "            for item in clique:\n",
    "                if(item in item2cluster):\n",
    "                    item2cluster[item].append(unique)\n",
    "                else:\n",
    "                    item2cluster[item] = [unique]    \n",
    "        same_dict[key] = item2cluster\n",
    "    return same_dict "
   ]
  },
  {
   "cell_type": "markdown",
   "metadata": {
    "hidden": true
   },
   "source": [
    "## hit jaccard similarity"
   ]
  },
  {
   "cell_type": "code",
   "execution_count": 23,
   "metadata": {
    "ExecuteTime": {
     "end_time": "2022-05-28T08:41:13.441176Z",
     "start_time": "2022-05-28T08:41:10.691827Z"
    },
    "hidden": true
   },
   "outputs": [],
   "source": [
    "hit_threshold = 0.8\n",
    "same_strand_hit = {}\n",
    "\n",
    "def same_strand(row):    \n",
    "    global same_strand_hit\n",
    "    chrom = row['chromosome']\n",
    "    sign = row['sign']\n",
    "    hit = row['hit position on chromosome']      \n",
    "    key = f'{chrom}{sign}'\n",
    "    if(key in same_strand_hit):        \n",
    "        same_strand_hit[key].append(hit)\n",
    "    else:\n",
    "        same_strand_hit[key] = [hit]\n",
    "        \n",
    "rcols_hit = ['chromosome', 'sign', 'hit position on chromosome']\n",
    "result[rcols_hit].apply(lambda row: same_strand(row), axis=1)\n",
    "same_strand_hit = same2cluster(same_strand_hit, threshold=hit_threshold)\n",
    "\n",
    "def _f(row):        \n",
    "    key = f\"{row['chromosome']}{row['sign']}\"\n",
    "    return same_strand_hit[f'{key}'][row['hit position on chromosome']]\n",
    "result['hit cluster number'] = result[rcols_hit].apply(lambda row: _f(row),axis=1)"
   ]
  },
  {
   "cell_type": "code",
   "execution_count": 24,
   "metadata": {
    "ExecuteTime": {
     "end_time": "2022-05-28T08:41:17.472399Z",
     "start_time": "2022-05-28T08:41:16.235025Z"
    },
    "hidden": true
   },
   "outputs": [],
   "source": [
    "rcols_boi = ['boi seq', 'boi name', 'boi dotbracket']\n",
    "boi_threshold = 0.8\n",
    "same_strand_boi = {}\n",
    "\n",
    "def same_strand(row):    \n",
    "    global same_strand_boi    \n",
    "    seq = row['boi seq'].lower()\n",
    "    name = row['boi name']\n",
    "    dotbracket = row['boi dotbracket'].lower()\n",
    "    if(pd.isna(name) or name == \"-\"):\n",
    "        return \n",
    "    name = name.split('|')    \n",
    "    loction = name[0] + name[1] + name[2]\n",
    "    hit = name[3]\n",
    "    key = f'{seq}{dotbracket}{loction}'\n",
    "    if(key in same_strand_boi):        \n",
    "        same_strand_boi[key].append(hit)\n",
    "    else:\n",
    "        same_strand_boi[key] = [hit]\n",
    "        \n",
    "        \n",
    "result[rcols_boi].apply(lambda row: same_strand(row), axis=1)\n",
    "\n",
    "same_strand_boi = same2cluster(same_strand_boi, threshold=boi_threshold)\n",
    "\n",
    "def _f(row):        \n",
    "    seq = row['boi seq'].lower()\n",
    "    name = row['boi name']\n",
    "    dotbracket = row['boi dotbracket'].lower()\n",
    "    if(pd.isna(name) or name == \"-\"):\n",
    "        return \n",
    "    name = name.split('|')    \n",
    "    loction = name[0] + name[1] + name[2]\n",
    "    hit = name[3]\n",
    "    key = f'{seq}{dotbracket}{loction}'        \n",
    "    return same_strand_boi[f'{key}'][hit]\n",
    "result['boi cluster number'] = result[rcols_boi].apply(lambda row: _f(row),axis=1)"
   ]
  },
  {
   "cell_type": "code",
   "execution_count": 25,
   "metadata": {
    "ExecuteTime": {
     "end_time": "2022-05-28T08:41:23.069864Z",
     "start_time": "2022-05-28T08:41:22.105560Z"
    },
    "hidden": true
   },
   "outputs": [],
   "source": [
    "precursor_threshold = 0.8\n",
    "same_strand_precursor = {}\n",
    "rcols_pre = ['precursor seq', 'precursor name', 'precursor dotbracket']\n",
    "\n",
    "def same_strand(row):    \n",
    "    global same_strand_precursor    \n",
    "    seq = row['precursor seq'].lower()\n",
    "    name = row['precursor name']\n",
    "    dotbracket = row['precursor dotbracket'].lower()\n",
    "    if(pd.isna(name) or name == \"-\"):\n",
    "        return \n",
    "    name = name.split('|')    \n",
    "    loction = name[0] + name[1] + name[2]\n",
    "    hit = name[3]\n",
    "    key = f'{seq}{dotbracket}{loction}'\n",
    "    if(key in same_strand_precursor):        \n",
    "        same_strand_precursor[key].append(hit)\n",
    "    else:\n",
    "        same_strand_precursor[key] = [hit]\n",
    "        \n",
    "        \n",
    "result[rcols_pre].apply(lambda row: same_strand(row), axis=1)\n",
    "same_strand_precursor = same2cluster(same_strand_precursor, threshold=precursor_threshold)\n",
    "\n",
    "def _f(row):        \n",
    "    seq = row['precursor seq'].lower()\n",
    "    name = row['precursor name']\n",
    "    dotbracket = row['precursor dotbracket'].lower()\n",
    "    if(pd.isna(name) or name == \"-\"):\n",
    "        return \n",
    "    name = name.split('|')    \n",
    "    loction = name[0] + name[1] + name[2]\n",
    "    hit = name[3]\n",
    "    key = f'{seq}{dotbracket}{loction}'\n",
    "    return same_strand_precursor[f'{key}'][hit]\n",
    "result['precursor cluster number'] = result[rcols_pre].apply(lambda row: _f(row),axis=1)"
   ]
  },
  {
   "cell_type": "code",
   "execution_count": 26,
   "metadata": {
    "ExecuteTime": {
     "end_time": "2022-05-28T08:41:23.825993Z",
     "start_time": "2022-05-28T08:41:23.814910Z"
    },
    "code_folding": [],
    "hidden": true
   },
   "outputs": [],
   "source": [
    "hit2cluster = {}\n",
    "hit_unique = result['hit seq'].unique()\n",
    "for i in range(0, hit_unique.shape[0]):\n",
    "    hit2cluster[hit_unique[i]] = str(i + 1).zfill(4)\n",
    "result['identical hit cluster'] = result['hit seq'].apply(lambda hit: hit2cluster[hit])"
   ]
  },
  {
   "cell_type": "code",
   "execution_count": 27,
   "metadata": {
    "ExecuteTime": {
     "end_time": "2022-05-28T08:41:25.180352Z",
     "start_time": "2022-05-28T08:41:25.170614Z"
    },
    "hidden": true
   },
   "outputs": [],
   "source": [
    "seed_start = 2\n",
    "seed_end = 13\n",
    "result['seed region'] = result['hit seq'].apply(lambda hit: hit[seed_start-1:seed_end])"
   ]
  },
  {
   "cell_type": "code",
   "execution_count": 28,
   "metadata": {
    "ExecuteTime": {
     "end_time": "2022-05-28T08:41:53.688308Z",
     "start_time": "2022-05-28T08:41:50.027740Z"
    },
    "hidden": true
   },
   "outputs": [
    {
     "name": "stdout",
     "output_type": "stream",
     "text": [
      "  adding: Experiment/O.sativa/Result/result_level2_filter_clustered.csv (deflated 95%)\n"
     ]
    }
   ],
   "source": [
    "result.to_csv(f\"./{result_path}/result_level2_filter_clustered.csv\",index=False)\n",
    "!zip -r ./{result_path}/result_level2_filter_clustered.zip ./{result_path}/result_level2_filter_clustered.csv"
   ]
  }
 ],
 "metadata": {
  "hide_input": false,
  "kernelspec": {
   "display_name": "Python 3",
   "language": "python",
   "name": "python3"
  },
  "language_info": {
   "codemirror_mode": {
    "name": "ipython",
    "version": 3
   },
   "file_extension": ".py",
   "mimetype": "text/x-python",
   "name": "python",
   "nbconvert_exporter": "python",
   "pygments_lexer": "ipython3",
   "version": "3.8.10"
  },
  "varInspector": {
   "cols": {
    "lenName": 16,
    "lenType": 16,
    "lenVar": 40
   },
   "kernels_config": {
    "python": {
     "delete_cmd_postfix": "",
     "delete_cmd_prefix": "del ",
     "library": "var_list.py",
     "varRefreshCmd": "print(var_dic_list())"
    },
    "r": {
     "delete_cmd_postfix": ") ",
     "delete_cmd_prefix": "rm(",
     "library": "var_list.r",
     "varRefreshCmd": "cat(var_dic_list()) "
    }
   },
   "types_to_exclude": [
    "module",
    "function",
    "builtin_function_or_method",
    "instance",
    "_Feature"
   ],
   "window_display": false
  }
 },
 "nbformat": 4,
 "nbformat_minor": 4
}
