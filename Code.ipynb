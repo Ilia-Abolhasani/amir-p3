{
 "cells": [
  {
   "cell_type": "markdown",
   "metadata": {
    "heading_collapsed": true
   },
   "source": [
    "# Common"
   ]
  },
  {
   "cell_type": "code",
   "execution_count": 1,
   "metadata": {
    "ExecuteTime": {
     "end_time": "2022-01-30T14:16:18.962802Z",
     "start_time": "2022-01-30T14:16:18.958057Z"
    },
    "hidden": true
   },
   "outputs": [],
   "source": [
    "#!pip install tqdm"
   ]
  },
  {
   "cell_type": "code",
   "execution_count": 2,
   "metadata": {
    "ExecuteTime": {
     "end_time": "2022-01-30T14:16:19.900306Z",
     "start_time": "2022-01-30T14:16:19.409574Z"
    },
    "hidden": true
   },
   "outputs": [],
   "source": [
    "import math\n",
    "import numpy as np\n",
    "import pandas as pd\n",
    "from tqdm.contrib.concurrent import process_map\n",
    "from tqdm.notebook import tqdm\n",
    "tqdm.pandas()\n",
    "import multiprocessing as mp\n",
    "import shutil\n",
    "import glob\n",
    "import os\n",
    "import sys\n",
    "if sys.version_info[0] < 3: \n",
    "    from StringIO import StringIO\n",
    "else:\n",
    "    from io import StringIO"
   ]
  },
  {
   "cell_type": "code",
   "execution_count": 3,
   "metadata": {
    "ExecuteTime": {
     "end_time": "2022-01-30T14:16:20.546013Z",
     "start_time": "2022-01-30T14:16:20.424839Z"
    },
    "hidden": true
   },
   "outputs": [],
   "source": [
    "!mkdir -p Temp"
   ]
  },
  {
   "cell_type": "code",
   "execution_count": 4,
   "metadata": {
    "ExecuteTime": {
     "end_time": "2022-01-30T14:16:20.857901Z",
     "start_time": "2022-01-30T14:16:20.852257Z"
    },
    "hidden": true
   },
   "outputs": [],
   "source": [
    "def bracket_row(row):    \n",
    "    s = row['data']\n",
    "    index = min(s.find('.'), s.find('('))\n",
    "    data = row['data']\n",
    "    row['data'] = data[0:index]\n",
    "    row['bracket'] = data[index:]\n",
    "    return row"
   ]
  },
  {
   "cell_type": "code",
   "execution_count": 5,
   "metadata": {
    "ExecuteTime": {
     "end_time": "2022-01-30T14:16:21.555906Z",
     "start_time": "2022-01-30T14:16:21.551787Z"
    },
    "hidden": true
   },
   "outputs": [],
   "source": [
    "def adjust(text,n=7):\n",
    "    text = str(text)    \n",
    "    return \" \" * (n - len(text)) + text"
   ]
  },
  {
   "cell_type": "code",
   "execution_count": 6,
   "metadata": {
    "ExecuteTime": {
     "end_time": "2022-01-30T14:16:22.017434Z",
     "start_time": "2022-01-30T14:16:22.006311Z"
    },
    "hidden": true
   },
   "outputs": [],
   "source": [
    "def bracket_to_ct(tag, data, bracket, deltaG, negative_deltaG=True):    \n",
    "    deltaG = deltaG.replace('(','').replace(')','')\n",
    "    deltaG = float(deltaG)\n",
    "    if(deltaG > 0 and negative_deltaG ): # negetive?!\n",
    "        deltaG = -1 * deltaG\n",
    "    stack = []\n",
    "    index = np.zeros((len(bracket)), dtype = int)\n",
    "    values = np.zeros((len(bracket)), dtype = int)\n",
    "    for i in range(len(bracket)):\n",
    "        index[i] = i + 1\n",
    "        if(bracket[i] == '.'):\n",
    "            values[i] = 0\n",
    "        elif(bracket[i] == '('):\n",
    "            stack.append(i)\n",
    "        elif(bracket[i] == ')'):\n",
    "            if(len(stack) == 0 ):\n",
    "                print('structure error!')\n",
    "            values[stack[-1]] = i + 1\n",
    "            values[i]  = stack[-1] + 1\n",
    "            stack.pop()\n",
    "        else:\n",
    "            print('structure error!')\n",
    "    if(len(stack) != 0 ):\n",
    "        print('structure error!')\n",
    "    # body    \n",
    "    ct = f\"{adjust(len(data),6)} dG ={adjust(deltaG,10)} {tag}\\n\"   \n",
    "    for i in range(len(bracket)):\n",
    "        ct += f\"{adjust(index[i],6)} {data[i]} {adjust(i,6)} {adjust((i+2)%(len(data)+1),6)} {adjust(values[i],6)} {adjust(index[i],7)}\\n\"\n",
    "    return ct"
   ]
  },
  {
   "cell_type": "code",
   "execution_count": 7,
   "metadata": {
    "ExecuteTime": {
     "end_time": "2022-01-30T14:16:22.356124Z",
     "start_time": "2022-01-30T14:16:22.349022Z"
    },
    "hidden": true
   },
   "outputs": [],
   "source": [
    "def fasta_to_df(path):\n",
    "    with open(path, 'r') as file:\n",
    "        text = file.read()\n",
    "    lines = [line for line in text.split('\\n') if len(line) > 0]\n",
    "    s = ''\n",
    "    tags = []\n",
    "    data = []\n",
    "    for l in lines:\n",
    "        if(l[0]=='>'):\n",
    "            tags.append(l)        \n",
    "            data.append(s)\n",
    "            s = ''\n",
    "        else:\n",
    "            s += l    \n",
    "    data.append(s)\n",
    "    df = pd.DataFrame(\n",
    "            {\n",
    "                'tag': tags,\n",
    "                'data': data[1:]\n",
    "            })\n",
    "    df['tag'] = df['tag'].apply(lambda x: x[1:])    \n",
    "    return df"
   ]
  },
  {
   "cell_type": "code",
   "execution_count": 8,
   "metadata": {
    "ExecuteTime": {
     "end_time": "2022-01-30T14:16:22.767436Z",
     "start_time": "2022-01-30T14:16:22.762503Z"
    },
    "hidden": true
   },
   "outputs": [],
   "source": [
    "def df_to_fasta(df, path):\n",
    "    lines = []\n",
    "    df.apply(lambda row: lines.append(f\">{row['tag']}\\n{row['data']}\\n\"),axis=1)\n",
    "    with open(path,'w') as file:\n",
    "        file.write(''.join(lines))"
   ]
  },
  {
   "cell_type": "code",
   "execution_count": 9,
   "metadata": {
    "ExecuteTime": {
     "end_time": "2022-01-30T14:16:23.133952Z",
     "start_time": "2022-01-30T14:16:23.129718Z"
    },
    "hidden": true
   },
   "outputs": [],
   "source": [
    "def reformat(path):\n",
    "    return path.replace('(','_').replace(')','_').replace('.','').replace(':','_')"
   ]
  },
  {
   "cell_type": "code",
   "execution_count": 10,
   "metadata": {
    "ExecuteTime": {
     "end_time": "2022-01-30T14:16:23.618658Z",
     "start_time": "2022-01-30T14:16:23.607445Z"
    },
    "hidden": true
   },
   "outputs": [],
   "source": [
    "def reformatCT(path):\n",
    "    with open(path, 'r') as file:\n",
    "        text = file.read()\n",
    "    text = [l for l in text.split('\\n') if len(l) > 0 ] # remove blank lines\n",
    "    text = '\\n'.join(text)\n",
    "    text = text.replace(\"\\t\",\" \")\n",
    "    while(\"  \" in text):\n",
    "        text = text.replace(\"  \", \" \")\n",
    "    lines = [l for l in text.split('\\n')]\n",
    "    for i in range(len(lines)):\n",
    "        if(lines[i][0] == \" \"):\n",
    "            lines[i] = lines[i][1:]\n",
    "        if(lines[i][-1] == \" \"):\n",
    "            lines[i] = lines[i][:-1]\n",
    "    text = '\\n'.join(lines)\n",
    "    return text"
   ]
  },
  {
   "cell_type": "code",
   "execution_count": 11,
   "metadata": {
    "ExecuteTime": {
     "end_time": "2022-01-30T14:16:23.987986Z",
     "start_time": "2022-01-30T14:16:23.980325Z"
    },
    "hidden": true
   },
   "outputs": [],
   "source": [
    "def get_ct_data(ct):\n",
    "    ct = \"\\n\".join(ct.split('\\n')[1:])\n",
    "    df = pd.read_csv(StringIO(ct), sep=\" \", header=None)               \n",
    "    nucleotide = df.iloc[:,1]\n",
    "    index = df.iloc[:,5]\n",
    "    values = df.iloc[:,4]\n",
    "    return [nucleotide, index, values]"
   ]
  },
  {
   "cell_type": "code",
   "execution_count": 12,
   "metadata": {
    "ExecuteTime": {
     "end_time": "2022-01-30T14:16:24.211447Z",
     "start_time": "2022-01-30T14:16:24.203361Z"
    },
    "hidden": true
   },
   "outputs": [],
   "source": [
    "def ct2dot_bracket(path):\n",
    "    [nucleotide, index, values] = get_ct_data(reformatCT(path))\n",
    "    text = ''.join(nucleotide) + \"\\n\"\n",
    "    watch = []\n",
    "    for i, v in zip(index,values):\n",
    "        if(v == 0):\n",
    "            text += '.'\n",
    "        else:\n",
    "            if( v not in watch):\n",
    "                text += '('\n",
    "                watch.append(i)\n",
    "            if( v in watch):\n",
    "                text += ')'\n",
    "    return text"
   ]
  },
  {
   "cell_type": "code",
   "execution_count": 13,
   "metadata": {
    "ExecuteTime": {
     "end_time": "2022-01-30T14:16:24.477518Z",
     "start_time": "2022-01-30T14:16:24.471607Z"
    },
    "hidden": true
   },
   "outputs": [],
   "source": [
    "def is_nested(index, values):\n",
    "    max_value = max(index) + 10 # inf\n",
    "    for i, v in zip(index, values):\n",
    "        if(v < max_value and v != 0):\n",
    "            max_value  = v\n",
    "        if(i >= max_value):\n",
    "            max_value = max(index) + 10 # inf\n",
    "        if(v > max_value):\n",
    "            return False               \n",
    "    return True"
   ]
  },
  {
   "cell_type": "code",
   "execution_count": 14,
   "metadata": {
    "ExecuteTime": {
     "end_time": "2022-01-30T14:16:24.884068Z",
     "start_time": "2022-01-30T14:16:24.878496Z"
    },
    "hidden": true
   },
   "outputs": [],
   "source": [
    "'''ct = reformatCT('./secondary_structure/spot_rna/AMWY020598281_2832-3256_+_/AMWY020598281_2832-3256_+_.ct')\n",
    "[nucleotide, index, values] = get_ct_data(ct)\n",
    "print(is_nested( index,  values))\n",
    "''';"
   ]
  },
  {
   "cell_type": "markdown",
   "metadata": {
    "heading_collapsed": true,
    "hidden": true
   },
   "source": [
    "### rename tag of input genome to new tag id"
   ]
  },
  {
   "cell_type": "markdown",
   "metadata": {
    "heading_collapsed": true
   },
   "source": [
    "# Download dataset"
   ]
  },
  {
   "cell_type": "code",
   "execution_count": null,
   "metadata": {
    "ExecuteTime": {
     "end_time": "2021-11-14T15:26:00.765914Z",
     "start_time": "2021-11-14T15:26:00.762196Z"
    },
    "hidden": true
   },
   "outputs": [],
   "source": [
    "'''\n",
    "from Bio import Entrez\n",
    "Entrez.email = \"abolhasani.eliya@gmail.com\"     \n",
    "with Entrez.esearch(db='nucleotide', term=\"Arabidopsis thaliana\") as handle:\n",
    "    result = Entrez.read(handle)\n",
    "\n",
    "print(result)\n",
    "genome_ids = result['IdList']\n",
    "\n",
    "for genome_id in genome_ids:\n",
    "    print(genome_id)\n",
    "    record = Entrez.efetch(db=\"nucleotide\", id=genome_id, rettype=\"fasta\", retmode=\"text\")        \n",
    "    with open(f'{genome_id}.fasta', 'w') as f:\n",
    "        f.write(record.read())\n",
    "    break\n",
    "''';\n",
    "'''\n",
    "from Bio import Entrez\n",
    "Entrez.email = \"abolhasani.eliya@gmail.com\"     \n",
    "record = Entrez.efetch(db=\"nucleotide\", id=\"NC_054143.4\", rettype=\"fasta\", retmode=\"text\")        \n",
    "with open(f'data.fasta', 'w') as f:\n",
    "    f.write(record.read())\n",
    "''';"
   ]
  },
  {
   "cell_type": "code",
   "execution_count": null,
   "metadata": {
    "ExecuteTime": {
     "end_time": "2021-11-14T14:40:09.505684Z",
     "start_time": "2021-11-14T14:40:04.087813Z"
    },
    "hidden": true
   },
   "outputs": [],
   "source": [
    "!wget https://ftp.ncbi.nlm.nih.gov/genomes/all/GCA/000/439/995/GCA_000439995.3_AzaInd2.1/GCA_000439995.3_AzaInd2.1_genomic.fna.gz"
   ]
  },
  {
   "cell_type": "code",
   "execution_count": null,
   "metadata": {
    "ExecuteTime": {
     "end_time": "2021-10-24T15:35:44.724088Z",
     "start_time": "2021-10-24T15:35:41.652464Z"
    },
    "hidden": true
   },
   "outputs": [],
   "source": [
    "!gzip -d ./GCA_000439995.3_AzaInd2.1_genomic.fna.gz"
   ]
  },
  {
   "cell_type": "markdown",
   "metadata": {
    "heading_collapsed": true
   },
   "source": [
    "# Download data from Mirbase"
   ]
  },
  {
   "cell_type": "code",
   "execution_count": null,
   "metadata": {
    "ExecuteTime": {
     "end_time": "2021-11-30T12:01:35.867582Z",
     "start_time": "2021-11-30T12:01:35.863632Z"
    },
    "hidden": true
   },
   "outputs": [],
   "source": [
    "directory = 'miRBase_driven_data'"
   ]
  },
  {
   "cell_type": "code",
   "execution_count": null,
   "metadata": {
    "ExecuteTime": {
     "end_time": "2021-11-14T15:38:44.732483Z",
     "start_time": "2021-11-14T15:38:31.128444Z"
    },
    "hidden": true
   },
   "outputs": [],
   "source": [
    "base = \"https://www.mirbase.org/ftp/CURRENT\"        \n",
    "!rm -r {directory}\n",
    "!mkdir -p {directory}\n",
    "!wget {base}/aliases.txt.gz -P ./{directory}/       ; gzip -d ./{directory}/aliases.txt.gz \n",
    "!wget {base}/hairpin.fa.gz -P ./{directory}/           ; gzip -d ./{directory}/hairpin.fa.gz \n",
    "!wget {base}/hairpin_high_conf.fa.gz -P ./{directory}/ ; gzip -d ./{directory}/hairpin_high_conf.fa.gz \n",
    "!wget {base}/mature.fa.gz -P ./{directory}/            ; gzip -d ./{directory}/mature.fa.gz \n",
    "!wget {base}/mature_high_conf.fa.gz -P ./{directory}/  ; gzip -d ./{directory}/mature_high_conf.fa.gz\n",
    "!wget {base}/miRNA.str.gz -P ./{directory}/            ; gzip -d ./{directory}/miRNA.str.gz \n",
    "!wget {base}/miRNA.xls.gz -P ./{directory}/            ; gzip -d ./{directory}/miRNA.xls.gz \n",
    "!wget {base}/organisms.txt.gz -P ./{directory}/        ; gzip -d ./{directory}/organisms.txt.gz"
   ]
  },
  {
   "cell_type": "code",
   "execution_count": null,
   "metadata": {
    "ExecuteTime": {
     "end_time": "2021-11-30T12:01:50.905161Z",
     "start_time": "2021-11-30T12:01:50.826861Z"
    },
    "hidden": true
   },
   "outputs": [],
   "source": [
    "#df = fasta_to_df(f'./{directory}/mature.fa')\n",
    "df = fasta_to_df(f'./{directory}/hairpin_high_conf.fa')\n",
    "#df = fasta_to_df('./Data/mature_high_conf.fa')\n",
    "df['organism'] = df['tag'].apply(lambda x: x[:3])\n",
    "print(df.shape)\n",
    "df.head(2)"
   ]
  },
  {
   "cell_type": "code",
   "execution_count": null,
   "metadata": {
    "ExecuteTime": {
     "end_time": "2021-11-30T12:01:51.817599Z",
     "start_time": "2021-11-30T12:01:51.790304Z"
    },
    "hidden": true
   },
   "outputs": [],
   "source": [
    "organism = pd.read_csv(f'./{directory}/organisms.txt',sep='\\t')\n",
    "organism.columns = [c.replace('#','') for c in organism.columns] # remove sharp from columns\n",
    "print(organism.shape)\n",
    "organism.head(2)"
   ]
  },
  {
   "cell_type": "code",
   "execution_count": null,
   "metadata": {
    "ExecuteTime": {
     "end_time": "2021-11-30T12:01:59.502151Z",
     "start_time": "2021-11-30T12:01:59.491104Z"
    },
    "hidden": true
   },
   "outputs": [],
   "source": [
    "items = list(organism['tree'].unique())\n",
    "items.sort(key=len)\n",
    "items"
   ]
  },
  {
   "cell_type": "code",
   "execution_count": null,
   "metadata": {
    "ExecuteTime": {
     "end_time": "2021-11-30T12:02:47.162276Z",
     "start_time": "2021-11-30T12:02:47.143996Z"
    },
    "hidden": true
   },
   "outputs": [],
   "source": [
    "selectedTree = organism[organism['tree'].apply(lambda x: \"Viridiplantae;\" in x)]\n",
    "print(selectedTree.shape)\n",
    "selectedTree.head(5)"
   ]
  },
  {
   "cell_type": "code",
   "execution_count": null,
   "metadata": {
    "ExecuteTime": {
     "end_time": "2021-11-30T12:03:08.144051Z",
     "start_time": "2021-11-30T12:03:08.127763Z"
    },
    "hidden": true,
    "scrolled": false
   },
   "outputs": [],
   "source": [
    "selected = df[df['organism'].isin(selectedTree['organism'])]\n",
    "print(selected.shape)\n",
    "selected.head(1)"
   ]
  },
  {
   "cell_type": "code",
   "execution_count": null,
   "metadata": {
    "ExecuteTime": {
     "end_time": "2021-11-28T18:49:13.685029Z",
     "start_time": "2021-11-28T18:49:13.387481Z"
    },
    "hidden": true
   },
   "outputs": [],
   "source": [
    "df_to_fasta(selected,'./Temp/mature_microRNA_queries.fasta')"
   ]
  },
  {
   "cell_type": "code",
   "execution_count": null,
   "metadata": {
    "ExecuteTime": {
     "end_time": "2021-11-30T12:03:50.308862Z",
     "start_time": "2021-11-30T12:03:47.996087Z"
    },
    "hidden": true
   },
   "outputs": [],
   "source": [
    "# use this cell for extracting str files for hairpin.fa\n",
    "'''\n",
    "tags = list(selected['tag'].apply(lambda x : x.split(' ')[0]))\n",
    "with open(f'./{directory}/miRNA.str', 'r') as file:\n",
    "    text = file.read()\n",
    "text = text.split('\\n')\n",
    "\n",
    "result = ''\n",
    "for i in range(0,len(text),8):\n",
    "    if(text[i].split(' ')[0][1:] in tags):\n",
    "        result += '\\n'.join(text[i:i+8]) + \"\\n\"        \n",
    "with open(f'./high_conf_hairpin.str', 'w') as file:\n",
    "    file.write(result)\n",
    "''';"
   ]
  },
  {
   "cell_type": "markdown",
   "metadata": {
    "heading_collapsed": true
   },
   "source": [
    "# Remove redundant"
   ]
  },
  {
   "cell_type": "markdown",
   "metadata": {
    "heading_collapsed": true,
    "hidden": true
   },
   "source": [
    "## cdhit-est"
   ]
  },
  {
   "cell_type": "code",
   "execution_count": null,
   "metadata": {
    "ExecuteTime": {
     "end_time": "2021-11-14T15:53:14.610830Z",
     "start_time": "2021-11-14T15:53:14.359020Z"
    },
    "hidden": true
   },
   "outputs": [],
   "source": [
    "!cdhit/cd-hit-est -i ./Temp/mature_microRNA_queries.fasta  -o ./Temp/NR_mature_microRNA_queries.fasta \\\n",
    "    -c 1 -r 0 -G 1 -g 1 -b 30 -l 10 -aL 0 -AL 99999999 -aS 0 \\\n",
    "    -AS 99999999 -s 0 -S 0 "
   ]
  },
  {
   "cell_type": "markdown",
   "metadata": {
    "heading_collapsed": true,
    "hidden": true
   },
   "source": [
    "## reformat"
   ]
  },
  {
   "cell_type": "code",
   "execution_count": null,
   "metadata": {
    "ExecuteTime": {
     "end_time": "2021-11-14T15:53:16.096729Z",
     "start_time": "2021-11-14T15:53:16.056661Z"
    },
    "hidden": true
   },
   "outputs": [],
   "source": [
    "with open('./Temp/NR_mature_microRNA_queries.fasta.clstr','r') as file:\n",
    "    text = file.read()\n",
    "lines = [line for line in text.split('\\n') if len(line) > 0]\n",
    "cluster = []\n",
    "seqid = []\n",
    "last_cluster = \"\"\n",
    "for l in lines:\n",
    "    if(l[0]=='>'):        \n",
    "        last_cluster = l.replace('>Cluster ',\"C\")\n",
    "    else:        \n",
    "        cluster.append(last_cluster)\n",
    "        seqid.append(l.split(', >')[1].split('...')[0])                \n",
    "seq2cluster = pd.DataFrame({'seqid': seqid,'cluster': cluster})\n",
    "print(seq2cluster.shape)\n",
    "seq2cluster.head(2)    "
   ]
  },
  {
   "cell_type": "code",
   "execution_count": null,
   "metadata": {
    "ExecuteTime": {
     "end_time": "2021-11-14T15:53:16.880158Z",
     "start_time": "2021-11-14T15:53:16.769037Z"
    },
    "hidden": true
   },
   "outputs": [],
   "source": [
    "df = fasta_to_df(\"./Temp/mature_microRNA_queries.fasta\")\n",
    "df['accession'] = df['tag'].apply(lambda x : x.split(' ')[0])\n",
    "seq2cluster = pd.merge(df,seq2cluster,how=\"inner\",left_on='accession',right_on=\"seqid\")[['cluster','seqid','tag']]\n",
    "print(seq2cluster.shape)\n",
    "display(seq2cluster.head(2))\n",
    "seq2cluster.to_csv('./Temp/seq2cluster.csv',index=False)"
   ]
  },
  {
   "cell_type": "code",
   "execution_count": null,
   "metadata": {
    "ExecuteTime": {
     "end_time": "2021-11-14T15:53:17.423563Z",
     "start_time": "2021-11-14T15:53:17.402420Z"
    },
    "hidden": true
   },
   "outputs": [],
   "source": [
    "# todo: sorted first by cluster then by seqid\n",
    "seq2cluster.sort_values(\"cluster\").head(2)"
   ]
  },
  {
   "cell_type": "code",
   "execution_count": null,
   "metadata": {
    "ExecuteTime": {
     "end_time": "2021-11-14T15:53:18.409180Z",
     "start_time": "2021-11-14T15:53:18.205823Z"
    },
    "hidden": true
   },
   "outputs": [],
   "source": [
    "df = fasta_to_df(\"./Temp/NR_mature_microRNA_queries.fasta\")\n",
    "df['tag'] = df['tag'].apply(lambda x : x.split(' ')[0])\n",
    "df = pd.merge(df,seq2cluster,how=\"inner\",left_on='tag',right_on=\"seqid\")[['cluster','data']]\n",
    "\n",
    "lines = []\n",
    "df.apply(lambda row: lines.append(f\">{row['cluster']}\\n{row['data']}\\n\"),axis=1)\n",
    "print(df.shape)\n",
    "with open('./Temp/BLASTn_queries.fasta','w') as file:\n",
    "    file.write(''.join(lines))"
   ]
  },
  {
   "cell_type": "markdown",
   "metadata": {
    "heading_collapsed": true
   },
   "source": [
    "# BlastN"
   ]
  },
  {
   "cell_type": "markdown",
   "metadata": {
    "hidden": true
   },
   "source": [
    "!sudo apt-get install ncbi-blast+\n"
   ]
  },
  {
   "cell_type": "code",
   "execution_count": null,
   "metadata": {
    "ExecuteTime": {
     "end_time": "2021-11-14T15:53:56.806426Z",
     "start_time": "2021-11-14T15:53:45.294463Z"
    },
    "hidden": true
   },
   "outputs": [],
   "source": [
    "!makeblastdb -in input_genome.fna \\\n",
    "             -dbtype nucl \\\n",
    "             -out ./Temp/blastn_database"
   ]
  },
  {
   "cell_type": "code",
   "execution_count": null,
   "metadata": {
    "ExecuteTime": {
     "end_time": "2021-12-13T17:43:56.859038Z",
     "start_time": "2021-12-13T17:43:56.854400Z"
    },
    "hidden": true
   },
   "outputs": [],
   "source": [
    "header = 'qseqid sseqid qstart qend sstart send qseq sseq evalue bitscore score length pident nident mismatch positive gapopen gaps ppos frames qframe sframe sstrand qcovs qcovhsp qlen slen'"
   ]
  },
  {
   "cell_type": "code",
   "execution_count": null,
   "metadata": {
    "ExecuteTime": {
     "end_time": "2021-11-15T17:37:49.644999Z",
     "start_time": "2021-11-15T17:35:24.046004Z"
    },
    "hidden": true
   },
   "outputs": [],
   "source": [
    "!blastn -query ./Temp/BLASTn_queries.fasta \\\n",
    "        -out ./Temp/BLASTn_result \\\n",
    "        -num_threads {mp.cpu_count()} \\\n",
    "        -db ./Temp/blastn_database \\\n",
    "        -word_size 7 \\\n",
    "        -penalty -3 \\\n",
    "        -reward 2 \\\n",
    "        -gapopen 5 \\\n",
    "        -gapextend 2 \\\n",
    "        -outfmt '6 qseqid sseqid qstart qend sstart send qseq sseq evalue bitscore score length pident nident mismatch positive gapopen gaps ppos frames qframe sframe sstrand qcovs qcovhsp qlen slen'       "
   ]
  },
  {
   "cell_type": "code",
   "execution_count": null,
   "metadata": {
    "ExecuteTime": {
     "end_time": "2021-12-13T17:44:01.076622Z",
     "start_time": "2021-12-13T17:43:59.501425Z"
    },
    "hidden": true
   },
   "outputs": [],
   "source": [
    "df_blastn = pd.read_csv('./Temp/BLASTn_result', sep='\\t',header=None)\n",
    "df_blastn.columns = header.replace(\"  \",\" \").split(\" \")\n",
    "print(df_blastn.shape)\n",
    "df_blastn.head(2)"
   ]
  },
  {
   "cell_type": "code",
   "execution_count": null,
   "metadata": {
    "ExecuteTime": {
     "end_time": "2021-12-13T17:44:02.195799Z",
     "start_time": "2021-12-13T17:44:02.105702Z"
    },
    "hidden": true
   },
   "outputs": [],
   "source": [
    "threshold = 4\n",
    "df_blastn['Nonconformity'] = df_blastn['qlen'] - (abs(df_blastn['qend'] - df_blastn['qstart']) + 1) + df_blastn['gaps'] + df_blastn['mismatch']\n",
    "df_blastn = df_blastn[df_blastn['Nonconformity'] <= threshold]\n",
    "print(df_blastn.shape)\n",
    "df_blastn.head(2)"
   ]
  },
  {
   "cell_type": "code",
   "execution_count": null,
   "metadata": {
    "ExecuteTime": {
     "end_time": "2021-12-13T17:44:03.776661Z",
     "start_time": "2021-12-13T17:44:02.821069Z"
    },
    "hidden": true,
    "scrolled": true
   },
   "outputs": [],
   "source": [
    "# remore redundancy and hold best one base of Nonconformity value\n",
    "df_blastn = df_blastn.sort_values([\"Nonconformity\", \"evalue\"], ascending = (True, True))\n",
    "df_blastn = df_blastn.drop_duplicates(subset=['sseqid','sstart', 'send','sstrand'], keep='first')\n",
    "df_blastn.to_csv('./Temp/filtered_out_blastn.csv')\n",
    "print(df_blastn.shape)"
   ]
  },
  {
   "cell_type": "markdown",
   "metadata": {
    "heading_collapsed": true
   },
   "source": [
    "# Result of the blastn to bed file"
   ]
  },
  {
   "cell_type": "code",
   "execution_count": null,
   "metadata": {
    "ExecuteTime": {
     "end_time": "2021-12-13T17:44:04.837317Z",
     "start_time": "2021-12-13T17:44:04.826796Z"
    },
    "hidden": true
   },
   "outputs": [],
   "source": [
    "flanking_value = 200\n",
    "df = df_blastn[['sseqid', 'sstart', 'send', 'sstrand','slen']]\n",
    "df['ones'] = 1"
   ]
  },
  {
   "cell_type": "code",
   "execution_count": null,
   "metadata": {
    "ExecuteTime": {
     "end_time": "2021-12-13T17:44:16.269392Z",
     "start_time": "2021-12-13T17:44:05.724948Z"
    },
    "hidden": true
   },
   "outputs": [],
   "source": [
    "def switch(row):\n",
    "    if(row['sstart'] > row['send']):        \n",
    "        temp = row['sstart']\n",
    "        row['sstart'] = row['send']\n",
    "        row['send'] = temp\n",
    "    return row\n",
    "df = df.apply(lambda row: switch(row), axis=1)"
   ]
  },
  {
   "cell_type": "code",
   "execution_count": null,
   "metadata": {
    "ExecuteTime": {
     "end_time": "2021-12-13T17:44:16.298700Z",
     "start_time": "2021-12-13T17:44:16.272901Z"
    },
    "hidden": true
   },
   "outputs": [],
   "source": [
    "def convert(inp):\n",
    "    if(inp == \"plus\"):\n",
    "        return \"forward\"\n",
    "    if(inp == \"minus\"):\n",
    "        return \"reverse\"\n",
    "    raise Exception('Error, sstrand contains illegal word! only \"plus\" and \"minus\" are allowed')\n",
    "df['strand'] = df['sstrand'].apply(lambda x: convert(x))"
   ]
  },
  {
   "cell_type": "code",
   "execution_count": null,
   "metadata": {
    "ExecuteTime": {
     "end_time": "2021-12-13T17:44:16.327222Z",
     "start_time": "2021-12-13T17:44:16.302039Z"
    },
    "hidden": true
   },
   "outputs": [],
   "source": [
    "def convert2sign(inp):\n",
    "    if(inp == \"plus\"):\n",
    "        return \"+\"\n",
    "    if(inp == \"minus\"):\n",
    "        return \"-\"\n",
    "    raise Exception('Error, sstrand contains illegal word! only \"plus\" and \"minus\" are allowed')\n",
    "df['sign'] = df['sstrand'].apply(lambda x: convert2sign(x))"
   ]
  },
  {
   "cell_type": "code",
   "execution_count": null,
   "metadata": {
    "ExecuteTime": {
     "end_time": "2021-12-13T17:44:18.221663Z",
     "start_time": "2021-12-13T17:44:16.330170Z"
    },
    "hidden": true
   },
   "outputs": [],
   "source": [
    "df['hit_length'] = df.apply(lambda row: abs(row['send'] - row['sstart']) + 1 ,axis=1)"
   ]
  },
  {
   "cell_type": "markdown",
   "metadata": {
    "heading_collapsed": true,
    "hidden": true
   },
   "source": [
    "## convert sstart and send from location to index (range)"
   ]
  },
  {
   "cell_type": "code",
   "execution_count": null,
   "metadata": {
    "ExecuteTime": {
     "end_time": "2021-11-15T17:38:41.549426Z",
     "start_time": "2021-11-15T17:38:41.512935Z"
    },
    "hidden": true
   },
   "outputs": [],
   "source": [
    "df['sstart'] = df['sstart'].apply(lambda x: x - 1)"
   ]
  },
  {
   "cell_type": "code",
   "execution_count": null,
   "metadata": {
    "ExecuteTime": {
     "end_time": "2021-11-15T17:38:41.588656Z",
     "start_time": "2021-11-15T17:38:41.552256Z"
    },
    "hidden": true
   },
   "outputs": [],
   "source": [
    "df['downstream_flanking'] = df['sstart'].apply(lambda x:  flanking_value if x > flanking_value else x)"
   ]
  },
  {
   "cell_type": "code",
   "execution_count": null,
   "metadata": {
    "ExecuteTime": {
     "end_time": "2021-11-15T17:38:43.613893Z",
     "start_time": "2021-11-15T17:38:41.591319Z"
    },
    "hidden": true
   },
   "outputs": [],
   "source": [
    "df['upstream_flanking'] = df.apply(lambda row:  flanking_value if (row['send']+flanking_value) <= row['slen'] else row['slen'] - row['send'],axis=1)"
   ]
  },
  {
   "cell_type": "code",
   "execution_count": null,
   "metadata": {
    "ExecuteTime": {
     "end_time": "2021-11-15T17:38:45.487406Z",
     "start_time": "2021-11-15T17:38:43.619391Z"
    },
    "hidden": true
   },
   "outputs": [],
   "source": [
    "df['hit_start'] = df.apply(lambda row: row['downstream_flanking'] if row['sign'] == \"+\" else row['upstream_flanking'],axis=1)"
   ]
  },
  {
   "cell_type": "code",
   "execution_count": null,
   "metadata": {
    "ExecuteTime": {
     "end_time": "2021-11-15T17:38:47.794296Z",
     "start_time": "2021-11-15T17:38:45.490590Z"
    },
    "hidden": true
   },
   "outputs": [],
   "source": [
    "df['hit_end'] = df.apply(lambda row: row['downstream_flanking'] + row['hit_length'] if row['sign'] == \"+\" else row['upstream_flanking'] + row['hit_length'],axis=1)"
   ]
  },
  {
   "cell_type": "code",
   "execution_count": null,
   "metadata": {
    "ExecuteTime": {
     "end_time": "2021-11-15T17:38:49.856166Z",
     "start_time": "2021-11-15T17:38:47.797824Z"
    },
    "hidden": true
   },
   "outputs": [],
   "source": [
    "df['sstart'] = df['sstart'].apply(lambda x: max(x - flanking_value, 0))\n",
    "df['send'] = df.apply(lambda row: min(row['send'] + flanking_value , row['slen']),axis=1)"
   ]
  },
  {
   "cell_type": "code",
   "execution_count": null,
   "metadata": {
    "ExecuteTime": {
     "end_time": "2021-11-15T17:38:53.067352Z",
     "start_time": "2021-11-15T17:38:49.859005Z"
    },
    "hidden": true
   },
   "outputs": [],
   "source": [
    "df['tag'] = df.apply(lambda row: f\">{row['sseqid']}:{row['sstart']}-{row['send']}({row['sign']})\",axis=1)\n",
    "df['reformated_tag'] = df['tag'].apply(lambda t: reformat(t))\n",
    "df[['tag', 'reformated_tag', 'hit_start', 'hit_end']].to_csv('./Temp/hit_index_info.csv')#, index=False)"
   ]
  },
  {
   "cell_type": "code",
   "execution_count": null,
   "metadata": {
    "ExecuteTime": {
     "end_time": "2021-11-15T17:38:56.908475Z",
     "start_time": "2021-11-15T17:38:53.071253Z"
    },
    "hidden": true
   },
   "outputs": [],
   "source": [
    "df['location_tag'] = df.apply(lambda row: f\">{row['sseqid']}|{row['sign']}|{row['sstart'] + 1}-{row['send']}|{row['hit_start']+1}-{row['hit_end']}\",axis=1)\n",
    "df[['location_tag']].to_csv('./Temp/pipe_seprated_location_list.csv',index=False)"
   ]
  },
  {
   "cell_type": "code",
   "execution_count": null,
   "metadata": {
    "ExecuteTime": {
     "end_time": "2021-11-15T17:38:57.133643Z",
     "start_time": "2021-11-15T17:38:56.911402Z"
    },
    "hidden": true
   },
   "outputs": [],
   "source": [
    "df[['sseqid','sstart','send','strand','ones', 'sign']].to_csv('./Temp/extension_index.bed', \n",
    "        index=False, header=False, sep=\"\\t\")"
   ]
  },
  {
   "cell_type": "markdown",
   "metadata": {
    "heading_collapsed": true
   },
   "source": [
    "# Extention\n"
   ]
  },
  {
   "cell_type": "code",
   "execution_count": null,
   "metadata": {
    "ExecuteTime": {
     "end_time": "2021-11-15T17:38:57.139683Z",
     "start_time": "2021-11-15T17:38:57.136568Z"
    },
    "hidden": true
   },
   "outputs": [],
   "source": [
    "# !sudo apt-get install bedtools"
   ]
  },
  {
   "cell_type": "code",
   "execution_count": null,
   "metadata": {
    "ExecuteTime": {
     "end_time": "2021-12-13T17:44:58.609023Z",
     "start_time": "2021-12-13T17:44:53.629899Z"
    },
    "hidden": true
   },
   "outputs": [],
   "source": [
    "!bedtools getfasta -fi ./input_genome.fna -fo ./Temp/extended_original.txt -s -bed ./Temp/extension_index.bed\n",
    "!rm input_genome.fna.fai"
   ]
  },
  {
   "cell_type": "code",
   "execution_count": null,
   "metadata": {
    "ExecuteTime": {
     "end_time": "2021-11-15T14:45:18.658125Z",
     "start_time": "2021-11-15T14:45:18.653842Z"
    },
    "code_folding": [],
    "hidden": true
   },
   "outputs": [],
   "source": [
    "# todo: remove duplicated\n",
    "'''\n",
    "df = fasta_to_df(\"./Temp/extended.txt\")\n",
    "df = df.drop_duplicates(subset=['tag'], keep='first')\n",
    "df_to_fasta(df,\"./Temp/extended.txt\")\n",
    "len(df['tag'].unique())\n",
    "''';"
   ]
  },
  {
   "cell_type": "markdown",
   "metadata": {
    "heading_collapsed": true
   },
   "source": [
    "# Convert hit region to upper case and other region to lower case"
   ]
  },
  {
   "cell_type": "code",
   "execution_count": null,
   "metadata": {
    "ExecuteTime": {
     "end_time": "2021-12-13T17:45:02.357784Z",
     "start_time": "2021-12-13T17:45:02.004502Z"
    },
    "hidden": true
   },
   "outputs": [],
   "source": [
    "ext = fasta_to_df('./Temp/extended_original.txt')\n",
    "info = pd.read_csv('./Temp/hit_index_info.csv')\n",
    "info['tag'] = info['tag'].apply(lambda x: x[1:])\n",
    "print(info.shape)\n",
    "info.head(2)"
   ]
  },
  {
   "cell_type": "code",
   "execution_count": null,
   "metadata": {
    "ExecuteTime": {
     "end_time": "2021-12-13T17:45:15.227534Z",
     "start_time": "2021-12-13T17:45:03.298641Z"
    },
    "hidden": true
   },
   "outputs": [],
   "source": [
    "ext = ext.sort_values(by=['tag']).reset_index()\n",
    "ext['help_tag'] = ext.apply(lambda r: r['tag']+ str(r.name),axis=1)\n",
    "del ext['tag']\n",
    "\n",
    "info = info.sort_values(by=['tag']).reset_index()\n",
    "info['help_tag'] = info.apply(lambda row: row['tag']+ str(row.name),axis=1)\n",
    "def redefined_tag(row):\n",
    "    tag = row['tag']\n",
    "    [sstart, send] = tag.split(':')[-1].split('(')[0].split('-')\n",
    "    sstart = int(sstart) + 1\n",
    "    sign = tag.split('(')[-1].split(')')[0]    \n",
    "    return f\"{tag.split(':')[0]}|{sign}|{sstart}-{send}|{row['hit_start']+1}-{row['hit_end']}\"\n",
    "info['tag'] = info.apply(lambda row: redefined_tag(row),axis=1)\n",
    "ext = pd.merge(ext,info,how='inner', on='help_tag')\n",
    "\n",
    "def emphasis_hit(row):\n",
    "    seq = list(row['data'].lower())            \n",
    "    s = row['hit_start']\n",
    "    e = row['hit_end']\n",
    "    seq[s:e] = list(''.join(seq[s:e]).upper())    \n",
    "    return ''.join(seq)\n",
    "    \n",
    "ext['data'] = ext.apply(lambda row: emphasis_hit(row),axis=1)\n",
    "df_to_fasta(ext[['tag','data']],\"./Temp/extended_modified.txt\")"
   ]
  },
  {
   "cell_type": "markdown",
   "metadata": {
    "heading_collapsed": true
   },
   "source": [
    "# Extended validation"
   ]
  },
  {
   "cell_type": "code",
   "execution_count": null,
   "metadata": {
    "hidden": true
   },
   "outputs": [],
   "source": [
    "df_blastn['hit'] = df_blastn['sseq'].apply(lambda x: x.replace('-', ''))\n",
    "info = pd.read_csv('./Temp/hit_index_info.csv')\n",
    "ext = fasta_to_df('./Temp/extended2.txt')\n",
    "\n",
    "counter = 0\n",
    "for index in df_blastn.index:\n",
    "    hit = df_blastn['hit'][index]\n",
    "    row = info[info['Unnamed: 0']== index].reset_index()\n",
    "    tag = row['tag'][0][1:]\n",
    "    hs = row['hit_start'][0]\n",
    "    he = row['hit_end'][0]        \n",
    "    tag = tag.replace('(+)',f\"|{hs}-{he}(+)\")\n",
    "    tag = tag.replace('(-)',f\"|{hs}-{he}(-)\")            \n",
    "    seq = ext[ext['tag']==tag]['data'].iloc[0]\n",
    "    seq = ext[ext['tag']==tag]['data'].iloc[0]    \n",
    "    if(seq[hs:he] != hit):\n",
    "        print(tag, df_blastn['slen'][index])\n",
    "        print(seq[hs:he])\n",
    "        print(hit)\n",
    "        print('\\n\\n')\n",
    "        counter += 1                "
   ]
  },
  {
   "cell_type": "code",
   "execution_count": null,
   "metadata": {
    "ExecuteTime": {
     "end_time": "2021-11-12T16:55:04.208851Z",
     "start_time": "2021-11-12T16:55:03.831213Z"
    },
    "hidden": true
   },
   "outputs": [],
   "source": [
    "df = pd.read_csv('check1.csv')\n",
    "df.columns = ['tag', 'data']\n",
    "def do(x):\n",
    "    x = x[1:]\n",
    "    x = x.split('|')\n",
    "    s = int(x[2].split('-')[0]) - 1\n",
    "    e = x[2].split('-')[1]\n",
    "    return f\"{x[0]}:{s}-{e}({x[1]})\"\n",
    "df['tag'] = df['tag'].apply(lambda x: do(x))\n",
    "df.head(2)"
   ]
  },
  {
   "cell_type": "code",
   "execution_count": null,
   "metadata": {
    "ExecuteTime": {
     "end_time": "2021-11-12T16:54:03.716073Z",
     "start_time": "2021-11-12T16:47:01.709169Z"
    },
    "hidden": true
   },
   "outputs": [],
   "source": [
    "for t in df['tag']:\n",
    "    check_seq = df[df['tag']==t]['data'].iloc[0]\n",
    "    ext_seq = ext[ext['tag']==t]['data'].iloc[0]\n",
    "    if(check_seq != ext_seq):\n",
    "        print('error')        "
   ]
  },
  {
   "cell_type": "code",
   "execution_count": null,
   "metadata": {
    "ExecuteTime": {
     "end_time": "2021-11-12T16:38:20.621448Z",
     "start_time": "2021-11-12T16:38:20.428902Z"
    },
    "hidden": true
   },
   "outputs": [],
   "source": [
    "ext = fasta_to_df('./Temp/extended.txt')\n",
    "ext.head(2)"
   ]
  },
  {
   "cell_type": "markdown",
   "metadata": {
    "heading_collapsed": true
   },
   "source": [
    "# RNA 2d prediction"
   ]
  },
  {
   "cell_type": "markdown",
   "metadata": {
    "heading_collapsed": true,
    "hidden": true
   },
   "source": [
    "## Mfold"
   ]
  },
  {
   "cell_type": "code",
   "execution_count": null,
   "metadata": {
    "ExecuteTime": {
     "end_time": "2021-11-18T16:23:27.830630Z",
     "start_time": "2021-11-18T16:23:27.826922Z"
    },
    "hidden": true
   },
   "outputs": [],
   "source": [
    "'''\n",
    "# installation\n",
    "!wget http://www.unafold.org/download/mfold-3.6.tar.gz\n",
    "!tar -xvf ./mfold-3.6.tar.gz; rm ./mfold-3.6.tar.gz\n",
    "%cd ./mfold-3.6\n",
    "!./configure\n",
    "!make\n",
    "!make install\n",
    "%cd ..\n",
    "!sudo apt install texlive-font-utils\n",
    "''';"
   ]
  },
  {
   "cell_type": "code",
   "execution_count": null,
   "metadata": {
    "ExecuteTime": {
     "end_time": "2021-11-18T16:23:28.114502Z",
     "start_time": "2021-11-18T16:23:28.111002Z"
    },
    "hidden": true
   },
   "outputs": [],
   "source": [
    "#todo : add all hyperparameter(options) to GUI"
   ]
  },
  {
   "cell_type": "code",
   "execution_count": null,
   "metadata": {
    "ExecuteTime": {
     "end_time": "2021-12-13T17:46:07.006146Z",
     "start_time": "2021-12-13T17:46:04.984687Z"
    },
    "hidden": true
   },
   "outputs": [],
   "source": [
    "counter = 0\n",
    "base = \"./secondary_structure/mfold/\"\n",
    "!rm -r {base}\n",
    "!mkdir -p {base}\n",
    "df = fasta_to_df('./Temp/extended_modified.txt')\n",
    "\n",
    "for index, row in df.iterrows():    \n",
    "    tag = reformat(row['tag'])\n",
    "    if(not os.path.exists(base + tag)):\n",
    "        os.makedirs(base + tag)            \n",
    "    with open(base + f\"{tag}/SEQ.FASTA\",'w') as file:\n",
    "        file.write(f\">{row['tag']}\\n{row['data']}\")\n",
    "    counter += 1    \n",
    "    if(counter >= 2000):\n",
    "        break"
   ]
  },
  {
   "cell_type": "code",
   "execution_count": null,
   "metadata": {
    "ExecuteTime": {
     "end_time": "2021-12-13T17:50:54.102944Z",
     "start_time": "2021-12-13T17:46:21.973388Z"
    },
    "hidden": true
   },
   "outputs": [],
   "source": [
    "%%capture\n",
    "remove_lock = False\n",
    "def run_mfold(tag):\n",
    "    tag = reformat(tag)\n",
    "    %cd {base + tag}\n",
    "    !mfold  SEQ=\"SEQ.FASTA\" T=20 MAX=2    \n",
    "    if(not remove_lock):\n",
    "        !find . -not -name \"*.ct\" -not -name \"*.pdf\" -not -name \"*SEQ.FASTA\" -not -type d -delete\n",
    "    %cd ../../..\n",
    "\n",
    "if __name__ == '__main__':        \n",
    "    pool = mp.Pool(mp.cpu_count())  \n",
    "    pool.map(run_mfold, df['tag'].iloc[:2000])"
   ]
  },
  {
   "cell_type": "code",
   "execution_count": null,
   "metadata": {
    "ExecuteTime": {
     "end_time": "2021-11-06T15:12:52.776002Z",
     "start_time": "2021-11-06T15:10:32.633727Z"
    },
    "hidden": true
   },
   "outputs": [],
   "source": [
    "'''\n",
    "base = \"secondary_structure/mfold/\"\n",
    "for directory in glob.glob(f\"{base}*\"):    \n",
    "    tag = directory[len(base):]\n",
    "    ct_files = glob.glob(f'{directory}/*.ct')        \n",
    "    try:\n",
    "        ct_files.remove(f'{base}{tag}/SEQ.ct')\n",
    "    except:\n",
    "        print(directory)\n",
    "        print(ct_files)\n",
    "        print(\"*****************\")\n",
    "    for file in ct_files:        \n",
    "        shutil.copy(file, './1.ct')\n",
    "        #dot = ct2dot_bracket('./1.ct')\n",
    "        #dot = dot.split('\\n')\n",
    "        #with open('./2.ct', 'w') as stream:\n",
    "            #stream.write(bracket_to_ct(tag, dot[0] , dot[1] , \"(0)\"))        \n",
    "        #ct1 = '\\n'.join(reformatCT('./1.ct').split('\\n')[1:])\n",
    "        #ct2 = '\\n'.join(reformatCT('./2.ct').split('\\n')[1:])\n",
    "        #if(ct1 != ct2):\n",
    "            #print(file)\n",
    "        ct = reformatCT('./1.ct')\n",
    "        [nucleotide, index, values] = get_ct_data(ct)        \n",
    "        #print(is_nested( index,  values))\n",
    "        if(not is_nested( index,  values)):\n",
    "            print(\"************\")             \n",
    "'''"
   ]
  },
  {
   "cell_type": "markdown",
   "metadata": {
    "heading_collapsed": true,
    "hidden": true
   },
   "source": [
    "## Mxfold2"
   ]
  },
  {
   "cell_type": "code",
   "execution_count": null,
   "metadata": {
    "ExecuteTime": {
     "end_time": "2021-11-06T16:20:40.729087Z",
     "start_time": "2021-11-06T16:20:40.725251Z"
    },
    "hidden": true
   },
   "outputs": [],
   "source": [
    "#!wget https://github.com/keio-bioinformatics/mxfold2/releases/download/v0.1.1/mxfold2-0.1.1.tar.gz\n",
    "#!pip3 install mxfold2-0.1.1.tar.gz\n",
    "#!rm mxfold2-0.1.1.tar.gz"
   ]
  },
  {
   "cell_type": "code",
   "execution_count": null,
   "metadata": {
    "ExecuteTime": {
     "end_time": "2021-11-06T16:22:35.682900Z",
     "start_time": "2021-11-06T16:20:48.694439Z"
    },
    "hidden": true
   },
   "outputs": [],
   "source": [
    "!mxfold2 predict ./extended.txt > secondary_structure/mxfold2_result.txt"
   ]
  },
  {
   "cell_type": "code",
   "execution_count": null,
   "metadata": {
    "ExecuteTime": {
     "end_time": "2021-10-31T17:46:46.009981Z",
     "start_time": "2021-10-31T17:46:45.980600Z"
    },
    "hidden": true
   },
   "outputs": [],
   "source": [
    "df = fasta_to_df('secondary_structure/mxfold2_result.txt')\n",
    "df = df.apply(lambda row: bracket_row(row) , axis=1)\n",
    "df.head(2)"
   ]
  },
  {
   "cell_type": "code",
   "execution_count": null,
   "metadata": {
    "ExecuteTime": {
     "end_time": "2021-10-31T17:48:37.583164Z",
     "start_time": "2021-10-31T17:48:37.308743Z"
    },
    "hidden": true
   },
   "outputs": [],
   "source": [
    "base = \"./secondary_structure/mxfold2/\"\n",
    "!rm -r {base}\n",
    "!mkdir -p {base}\n",
    "for index, row in df.iterrows():    \n",
    "    if(not os.path.exists(base + reformat(row['tag']))):\n",
    "        os.makedirs(base + reformat(row['tag']))        \n",
    "    tag = reformat(row['tag'])\n",
    "    with open(base + f\"{tag}/{tag}.ct\",'w') as file:\n",
    "        bracket = row['bracket'].split(' ')[0]\n",
    "        deltaG = row['bracket'].split(' ')[1]\n",
    "        ct = bracket_to_ct(row['tag'], row['data'], bracket, deltaG)\n",
    "        file.write(ct)    "
   ]
  },
  {
   "cell_type": "markdown",
   "metadata": {
    "heading_collapsed": true,
    "hidden": true
   },
   "source": [
    "## SPOT-RNA"
   ]
  },
  {
   "cell_type": "code",
   "execution_count": null,
   "metadata": {
    "ExecuteTime": {
     "end_time": "2021-11-02T17:07:56.140509Z",
     "start_time": "2021-11-02T17:07:56.137052Z"
    },
    "hidden": true,
    "scrolled": true
   },
   "outputs": [],
   "source": [
    "#!git clone https://github.com/jaswindersingh2/SPOT-RNA.git\n",
    "#%cd SPOT-RNA\n",
    "#!wget 'https://www.dropbox.com/s/dsrcf460nbjqpxa/SPOT-RNA-models.tar.gz' || wget -O SPOT-RNA-models.tar.gz 'https://app.nihaocloud.com/f/fbf3315a91d542c0bdc2/?dl=1'\n",
    "#!tar -xvzf SPOT-RNA-models.tar.gz && rm SPOT-RNA-models.tar.gz\n",
    "#!sudo apt-get install python3.6\n",
    "#!python3.6 -m pip install tensorflow==1.14.0 # or for gpu: tensorflow-gpu==1.14.0\n",
    "#! python3.6 -m pip install -r requirements.txt"
   ]
  },
  {
   "cell_type": "code",
   "execution_count": null,
   "metadata": {
    "ExecuteTime": {
     "end_time": "2021-11-04T15:54:27.343924Z",
     "start_time": "2021-11-04T15:54:27.088380Z"
    },
    "hidden": true
   },
   "outputs": [],
   "source": [
    "base = \"./secondary_structure/spot_rna/\"\n",
    "!rm -r {base}\n",
    "!mkdir -p {base}"
   ]
  },
  {
   "cell_type": "code",
   "execution_count": null,
   "metadata": {
    "ExecuteTime": {
     "end_time": "2021-11-04T16:06:02.696464Z",
     "start_time": "2021-11-04T16:02:34.125112Z"
    },
    "hidden": true,
    "scrolled": true
   },
   "outputs": [],
   "source": [
    "!python3.6 ./SPOT-RNA/SPOT-RNA.py  --inputs ./extended.txt  --outputs '{base}'  --cpu 32 --plots True"
   ]
  },
  {
   "cell_type": "code",
   "execution_count": null,
   "metadata": {
    "ExecuteTime": {
     "end_time": "2021-11-04T16:28:01.500658Z",
     "start_time": "2021-11-04T16:28:01.122310Z"
    },
    "hidden": true
   },
   "outputs": [],
   "source": [
    "!rm {base}/*.bpseq\n",
    "!rm {base}/*.prob\n",
    "for file in glob.glob(f\"{base}*.ct\"):    \n",
    "    f = file[len(base):-3] # .ct        \n",
    "    f = reformat(f)        \n",
    "    if(not os.path.exists(base + f)):\n",
    "        os.makedirs(base + f)  \n",
    "    header = reformatCT(file).split(\"\\n\")[0]    \n",
    "    with open(f\"{base}{f}.dot\", 'w') as stream:        \n",
    "        stream.write(ct2dot_bracket(file))\n",
    "    !RNAeval \"{base}{f}.dot\" -T 20 -v \n",
    "    #shutil.move(file, f\"{base}{f}/{f}.ct\")    "
   ]
  },
  {
   "cell_type": "code",
   "execution_count": null,
   "metadata": {
    "ExecuteTime": {
     "end_time": "2021-11-04T17:28:02.481342Z",
     "start_time": "2021-11-04T17:28:02.464531Z"
    },
    "hidden": true
   },
   "outputs": [],
   "source": [
    "df = fasta_to_df('./secondary_structure/spot_rna/AMWY02059828.1:2832-3256(+).dot')\n",
    "df = df.apply(lambda row: bracket_row(row) , axis=1)\n",
    "bracket = df['bracket'][0].split(' ')[0]\n",
    "ct = bracket_to_ct(df['tag'][0], df['data'][0], bracket, \"(0)\")\n",
    "print(ct)"
   ]
  },
  {
   "cell_type": "markdown",
   "metadata": {
    "heading_collapsed": true,
    "hidden": true
   },
   "source": [
    "## Vienna package"
   ]
  },
  {
   "cell_type": "code",
   "execution_count": null,
   "metadata": {
    "ExecuteTime": {
     "end_time": "2021-11-14T16:28:14.874416Z",
     "start_time": "2021-11-14T16:28:14.870733Z"
    },
    "hidden": true
   },
   "outputs": [],
   "source": [
    "#!wget https://www.tbi.univie.ac.at/RNA/download/ubuntu/ubuntu_20_04/viennarna_2.4.18-1_amd64.deb -O viennarna.deb\n",
    "#!sudo dpkg -i ./viennarna.deb\n",
    "#!sudo apt-get -f install\n",
    "#!rm viennarna.deb"
   ]
  },
  {
   "cell_type": "code",
   "execution_count": null,
   "metadata": {
    "ExecuteTime": {
     "end_time": "2021-11-14T19:35:57.889695Z",
     "start_time": "2021-11-14T19:35:57.480149Z"
    },
    "hidden": true
   },
   "outputs": [],
   "source": [
    "base = \"./secondary_structure/viennarna/\"\n",
    "!rm -r {base}\n",
    "!rm ./secondary_structure/viennarna_result.txt\n",
    "!mkdir -p {base}"
   ]
  },
  {
   "cell_type": "code",
   "execution_count": null,
   "metadata": {
    "ExecuteTime": {
     "end_time": "2021-11-14T19:52:09.128413Z",
     "start_time": "2021-11-14T19:36:03.739898Z"
    },
    "hidden": true
   },
   "outputs": [],
   "source": [
    "%cd {base}\n",
    "!RNAfold --jobs=0 --infile ../../Temp/extended_modified.txt  --noPS -T 20 > ../viennarna_result.txt\n",
    "%cd ../../"
   ]
  },
  {
   "cell_type": "code",
   "execution_count": null,
   "metadata": {
    "ExecuteTime": {
     "end_time": "2021-11-14T17:36:50.680457Z",
     "start_time": "2021-11-14T17:36:28.498386Z"
    },
    "hidden": true
   },
   "outputs": [],
   "source": [
    "df = fasta_to_df('secondary_structure/viennarna_result.txt')\n",
    "df = df.apply(lambda row: bracket_row(row) , axis=1)\n",
    "print(df.shape)\n",
    "df.head(2)"
   ]
  },
  {
   "cell_type": "code",
   "execution_count": null,
   "metadata": {
    "ExecuteTime": {
     "end_time": "2021-11-04T13:12:19.517498Z",
     "start_time": "2021-11-04T13:12:19.487872Z"
    },
    "hidden": true
   },
   "outputs": [],
   "source": [
    "for index, row in df.iterrows():    \n",
    "    tag = reformat(row['tag'])\n",
    "    if(not os.path.exists(base + tag)):\n",
    "        os.makedirs(base + tag)      \n",
    "    with open(base + f\"{tag}/{tag}.ct\",'w') as file:\n",
    "        bracket = row['bracket'].split(' ')[0]\n",
    "        deltaG = row['bracket'].split(' ')[1]\n",
    "        ct = bracket_to_ct(row['tag'], row['data'], bracket, deltaG, False)\n",
    "        file.write(ct)    "
   ]
  },
  {
   "cell_type": "code",
   "execution_count": null,
   "metadata": {
    "ExecuteTime": {
     "end_time": "2021-11-04T13:12:20.455326Z",
     "start_time": "2021-11-04T13:12:20.449583Z"
    },
    "hidden": true
   },
   "outputs": [],
   "source": [
    "import glob\n",
    "for file in glob.glob(f\"{base}*.ps\"):    \n",
    "    f = file[len(base):-6] # _ss.ps \n",
    "    f = reformat(f)        \n",
    "    shutil.move(file, f\"{base}{f}/{f}.ps\")    "
   ]
  },
  {
   "cell_type": "markdown",
   "metadata": {
    "heading_collapsed": true,
    "hidden": true
   },
   "source": [
    "## ContraFold"
   ]
  },
  {
   "cell_type": "code",
   "execution_count": null,
   "metadata": {
    "ExecuteTime": {
     "end_time": "2021-11-06T15:47:08.282696Z",
     "start_time": "2021-11-06T15:47:08.278027Z"
    },
    "hidden": true
   },
   "outputs": [],
   "source": [
    "#!wget http://contra.stanford.edu/contrafold/contrafold_v2_02.tar.gz\n",
    "#!tar -xvzf contrafold_v2_02.tar.gz && rm contrafold_v2_02.tar.gz\n",
    "#%cd contrafold/src\n",
    "#!make clean\n",
    "#!make \n",
    "# to file must changed to be complieable # utility.hpp and optimization.c++ files"
   ]
  },
  {
   "cell_type": "code",
   "execution_count": null,
   "metadata": {
    "ExecuteTime": {
     "end_time": "2021-11-06T15:52:08.807315Z",
     "start_time": "2021-11-06T15:52:08.274966Z"
    },
    "hidden": true
   },
   "outputs": [],
   "source": [
    "counter = 0\n",
    "base = \"./secondary_structure/contrafold/\"\n",
    "!rm -r {base}\n",
    "!mkdir -p {base}\n",
    "df = fasta_to_df('./Temp/extended.txt')\n",
    "\n",
    "for index, row in df.iterrows():    \n",
    "    tag = reformat(row['tag'])\n",
    "    if(not os.path.exists(base + tag)):\n",
    "        os.makedirs(base + tag)            \n",
    "    with open(base + f\"{tag}/{tag}.FASTA\",'w') as file:\n",
    "        file.write(f\">{row['tag']}\\n{row['data']}\")\n",
    "    counter += 1    \n",
    "    if(counter >= 10):\n",
    "        break"
   ]
  },
  {
   "cell_type": "code",
   "execution_count": null,
   "metadata": {
    "ExecuteTime": {
     "end_time": "2021-11-06T15:52:20.318477Z",
     "start_time": "2021-11-06T15:52:18.362143Z"
    },
    "hidden": true
   },
   "outputs": [],
   "source": [
    "def run_contrafold(tag):\n",
    "    tag = reformat(tag)    \n",
    "    %cd contrafold/src\n",
    "    !./contrafold predict ../..{base[1:]}{tag}/{tag}.FASTA > ../..{base[1:]}{tag}/{tag}.dot\n",
    "    with open(f\"../..{base[1:]}{tag}/{tag}.dot\", 'r') as file:\n",
    "        text = file.read()\n",
    "    text = [l for l in text.split(\"\\n\") if l[:len(\">structure\")] != \">structure\"]    \n",
    "    header = text[0]\n",
    "    with open(f\"../..{base[1:]}{tag}/{tag}.dot\", 'w') as file:\n",
    "        file.write('\\n'.join(text[1:]))    \n",
    "    !RNAeval  ../..{base[1:]}{tag}/{tag}.dot -T 20 > ../..{base[1:]}{tag}/{tag}.dotdg    \n",
    "    with open(f\"../..{base[1:]}{tag}/{tag}.dotdg\", 'r') as file:\n",
    "        text = file.read()\n",
    "    with open(f\"../..{base[1:]}{tag}/{tag}.dot\", 'w') as file:\n",
    "        file.write(header + \"\\n\" + text)    \n",
    "    \n",
    "    df = fasta_to_df(f'../..{base[1:]}{tag}/{tag}.dot')\n",
    "    df = df.apply(lambda row: bracket_row(row) , axis=1)        \n",
    "    tag = reformat(df['tag'][0])\n",
    "    with open(f'../..{base[1:]}{tag}/{tag}.ct','w') as file:\n",
    "        bracket = df['bracket'][0].split(' ')[0]        \n",
    "        deltaG = df['bracket'][0].split(' ')[1]\n",
    "        ct = bracket_to_ct(df['tag'][0], df['data'][0], bracket, deltaG, False)\n",
    "        file.write(ct)    \n",
    "    #!rm ../..{base[1:]}{tag}/{tag}.dot\n",
    "    #!rm ../..{base[1:]}{tag}/{tag}.dotdg\n",
    "    !rm ../..{base[1:]}{tag}/{tag}.FASTA\n",
    "    %cd ../../        \n",
    "\n",
    "if __name__ == '__main__':        \n",
    "    pool = mp.Pool(mp.cpu_count() - 1)  \n",
    "    pool.map(run_contrafold, df['tag'].iloc[:10])"
   ]
  },
  {
   "cell_type": "code",
   "execution_count": null,
   "metadata": {
    "ExecuteTime": {
     "end_time": "2021-11-06T16:04:49.091652Z",
     "start_time": "2021-11-06T16:04:49.084840Z"
    },
    "hidden": true
   },
   "outputs": [],
   "source": [
    "s = 'CUCCCCUUGUCUACCAUCCCCAACUAGCGAGAGAGACAUUACCUACCUGAAUAGAAGAUCUCUCUCGAGCUCUCGagcucucucuuuuucuauaUCUCUGUCUCUUUGUGUCUCUGGAGCUUGUACUAACAUUAAUAUCGUGCACCAGCAGCAGUUGAAGCUGCCAGCAUGAUCUAAACUUCCUUCUCUGUAAAGGAUAGAUCGGAUCAUGUGGUAGCUUCACCUGUUGAUGGGAUCACGAAAGCGCCCCUCUUACUACUCUACAUUAAUUCUUUCUCGUUAUACAACCUCCCAGUAAGCAUGCUUUCAAAACCAACUUGAGuaaguuaauuuguuuagcuuuuguuuuuggcucuuccuuuacuuuaaauuuucucaucuggguuuuuguuauauauauguacuguuuuauauauguauuccu'\n",
    "d = '............................((((((((..(...(((......))).)..))))))))(((((....)))))...................................((((.((((...(((.......(((((..(((.((((((.((((((((((.(((((((((.(.(((((((.......))))).)).).))))))))))))))))))).)))))).)))...))))).....................................)))..)))).))))....((((()))))..((((((....((((.(((((((.....)))(((.........)))................)))).))))....))))))....(((((((((((......)))))))))))....'\n",
    "print(s[300],s[301])\n",
    "print(d[300],d[301])"
   ]
  },
  {
   "cell_type": "code",
   "execution_count": null,
   "metadata": {
    "ExecuteTime": {
     "end_time": "2021-11-06T16:04:27.288085Z",
     "start_time": "2021-11-06T16:04:27.151101Z"
    },
    "hidden": true
   },
   "outputs": [],
   "source": [
    "'''path = 'secondary_structure/contrafold/AMWY020333941_469-893_-_/AMWY020333941_469-893_-_.dot'\n",
    "!RNAeval  {path} -T 20 -v'''; "
   ]
  },
  {
   "cell_type": "markdown",
   "metadata": {
    "heading_collapsed": true
   },
   "source": [
    "# Visualization"
   ]
  },
  {
   "cell_type": "code",
   "execution_count": null,
   "metadata": {
    "ExecuteTime": {
     "end_time": "2021-11-04T15:58:52.008179Z",
     "start_time": "2021-11-04T15:58:52.003841Z"
    },
    "hidden": true
   },
   "outputs": [],
   "source": [
    "#https://github.com/ViennaRNA/forna\n",
    "#http://varna.lri.fr/"
   ]
  },
  {
   "cell_type": "markdown",
   "metadata": {},
   "source": [
    "# CT Analizer"
   ]
  },
  {
   "cell_type": "code",
   "execution_count": 15,
   "metadata": {
    "ExecuteTime": {
     "end_time": "2022-01-30T14:16:44.130628Z",
     "start_time": "2022-01-30T14:16:33.375618Z"
    }
   },
   "outputs": [
    {
     "name": "stdout",
     "output_type": "stream",
     "text": [
      "(2000, 2)\n"
     ]
    }
   ],
   "source": [
    "# only select those not ran before\n",
    "base = \"./secondary_structure/mfold/\"\n",
    "df = fasta_to_df('./Temp/extended_modified.txt')\n",
    "\n",
    "index_list =[]\n",
    "for index, row in df.iterrows():    \n",
    "    tag = reformat(row['tag'])    \n",
    "    if(len(glob.glob(f'{base + tag}/*.ct')) != 0):\n",
    "        index_list.append(index)\n",
    "df = df.iloc[index_list,:]\n",
    "print(df.shape)"
   ]
  },
  {
   "cell_type": "code",
   "execution_count": 16,
   "metadata": {
    "ExecuteTime": {
     "end_time": "2022-01-30T14:16:44.139659Z",
     "start_time": "2022-01-30T14:16:44.134271Z"
    }
   },
   "outputs": [],
   "source": [
    "def get_tag_info(tag):    \n",
    "    data = tag.split('|')\n",
    "    sign = data[1]\n",
    "    hit_start = int(data[3].split('-')[0]) - 1 \n",
    "    hit_end = int(data[3].split('-')[1])    \n",
    "    return [hit_start, hit_end, sign]"
   ]
  },
  {
   "cell_type": "code",
   "execution_count": 17,
   "metadata": {
    "ExecuteTime": {
     "end_time": "2022-01-30T14:16:44.148759Z",
     "start_time": "2022-01-30T14:16:44.143296Z"
    }
   },
   "outputs": [],
   "source": [
    "def get_deltaG(ct):\n",
    "    ct_head = ct.split('\\n')[0]\n",
    "    if(\"dG = \" in ct_head):    \n",
    "        dG_patter = \"dG = \" \n",
    "    elif(\"dG= \" in ct_head):    \n",
    "        dG_patter = \"dG= \"\n",
    "    elif(\"dG=\" in ct_head):    \n",
    "        dG_patter = \"dG=\"\n",
    "    elif(\"dG =\" in ct_head):    \n",
    "        dG_patter = \"dG =\"\n",
    "    else:\n",
    "        print('there is no dG')\n",
    "    return float(ct_head.split(dG_patter)[-1].split(' ')[0])"
   ]
  },
  {
   "cell_type": "code",
   "execution_count": 18,
   "metadata": {
    "ExecuteTime": {
     "end_time": "2022-01-30T14:16:44.156146Z",
     "start_time": "2022-01-30T14:16:44.151962Z"
    }
   },
   "outputs": [],
   "source": [
    "def get_complementarity_in_hit_region(inc_srange, hit_len):    \n",
    "    if(sum(inc_srange == 0) == hit_len):\n",
    "        return \"no\"\n",
    "    elif(sum(inc_srange != 0) == hit_len):\n",
    "        return \"fully_connected\"\n",
    "    else:    \n",
    "        return \"yes\"    "
   ]
  },
  {
   "cell_type": "code",
   "execution_count": 19,
   "metadata": {
    "ExecuteTime": {
     "end_time": "2022-01-30T14:16:44.162992Z",
     "start_time": "2022-01-30T14:16:44.158984Z"
    }
   },
   "outputs": [],
   "source": [
    "def get_hit_self_complementarity(hit_start, hit_end, inc_srange):    \n",
    "    if(((inc_srange <= hit_start) | (inc_srange > hit_end)).all()):\n",
    "        return \"no\"\n",
    "    return \"yes\""
   ]
  },
  {
   "cell_type": "code",
   "execution_count": 20,
   "metadata": {
    "ExecuteTime": {
     "end_time": "2022-01-30T14:16:44.170119Z",
     "start_time": "2022-01-30T14:16:44.165780Z"
    }
   },
   "outputs": [],
   "source": [
    "def get_istar_min_max(inc_srange, hit_self_complementarity):\n",
    "    nonzero_data_srange  = inc_srange[inc_srange!=0]\n",
    "    if(hit_self_complementarity == 'yes'):\n",
    "        return [np.nan, np.nan]\n",
    "    return [nonzero_data_srange.min(), nonzero_data_srange.max()]"
   ]
  },
  {
   "cell_type": "code",
   "execution_count": 21,
   "metadata": {
    "ExecuteTime": {
     "end_time": "2022-01-30T14:16:44.177307Z",
     "start_time": "2022-01-30T14:16:44.172824Z"
    }
   },
   "outputs": [],
   "source": [
    "def get_continuous_pairing(hit_start, hit_end, istar_min, istar_max, hit_self_complementarity):    \n",
    "    if(hit_self_complementarity == 'yes'):\n",
    "        return \"undifined\"\n",
    "    if(hit_end < istar_max and (hit_start+1) > istar_min):\n",
    "        return \"no\"    \n",
    "    return  \"yes\""
   ]
  },
  {
   "cell_type": "code",
   "execution_count": 22,
   "metadata": {
    "ExecuteTime": {
     "end_time": "2022-01-30T14:16:44.188403Z",
     "start_time": "2022-01-30T14:16:44.182091Z"
    }
   },
   "outputs": [],
   "source": [
    "def get_mir_type(hit_start, hit_end, istar_min, istar_max, continuous_pairing, complementarity_in_hit_region, hit_self_complementarity):        \n",
    "    if(continuous_pairing == \"yes\" and complementarity_in_hit_region != \"no\" and hit_self_complementarity == \"no\"):\n",
    "        if( hit_end < istar_min):\n",
    "            return \"5p\" \n",
    "        if( (hit_start+1) > istar_max):\n",
    "            return \"3p\"     \n",
    "    else:\n",
    "        if(continuous_pairing == \"no\" and hit_self_complementarity == \"yes\"):\n",
    "            return \"discontinuous star strand and hit self complementarity\"\n",
    "        elif(continuous_pairing == \"no\"):\n",
    "            return \"discontinuous star strand\"\n",
    "        elif(hit_self_complementarity == \"yes\"):\n",
    "            return \"hit self complementarity\"\n",
    "\n",
    "    if(complementarity_in_hit_region == \"no\"):\n",
    "        return \"no complementarity in hit region\"  \n",
    "    print(hit_start, hit_end, istar_min, istar_max, continuous_pairing, complementarity_in_hit_region, hit_self_complementarity)"
   ]
  },
  {
   "cell_type": "code",
   "execution_count": 23,
   "metadata": {
    "ExecuteTime": {
     "end_time": "2022-01-30T14:16:44.197667Z",
     "start_time": "2022-01-30T14:16:44.192057Z"
    }
   },
   "outputs": [],
   "source": [
    "def get_star_start(hit_start, hit_end, values):\n",
    "    c = 0\n",
    "    i = hit_end - 3 - c\n",
    "    while(values[i] == 0 and i >= 0):\n",
    "        c += 1\n",
    "        i = hit_end - 3 - c        \n",
    "    if(values[i] - c < 1):                    \n",
    "        return [max(values[i] - c,1), \"negative value\"]\n",
    "    if(i < hit_start):\n",
    "        return [values[i] - c, 'less than hit start']\n",
    "    return [values[i] - c, '']"
   ]
  },
  {
   "cell_type": "code",
   "execution_count": 24,
   "metadata": {
    "ExecuteTime": {
     "end_time": "2022-01-30T14:16:44.206408Z",
     "start_time": "2022-01-30T14:16:44.200384Z"
    }
   },
   "outputs": [],
   "source": [
    "def get_star_end(hit_start, hit_end, values):\n",
    "    if(hit_start - 2 >= 0 ):\n",
    "        a = 0    \n",
    "    else:\n",
    "        a = abs(hit_start - 2)\n",
    "    \n",
    "    i = hit_start - 2 + a\n",
    "    while(values[i] == 0 and i <= hit_end):\n",
    "        a += 1\n",
    "        i = hit_start - 2 + a\n",
    "    \n",
    "    if(i <= hit_end):        \n",
    "        if((values[i] + a) > len(values)):\n",
    "            return [len(values), \"out of sequance range\"]        \n",
    "        return [values[i] + a, \"\"]\n",
    "    return [np.nan, \"some error happened\"]"
   ]
  },
  {
   "cell_type": "code",
   "execution_count": 25,
   "metadata": {
    "ExecuteTime": {
     "end_time": "2022-01-30T14:16:44.214117Z",
     "start_time": "2022-01-30T14:16:44.209355Z"
    }
   },
   "outputs": [],
   "source": [
    "def get_num_of_linking_residues(hit_start,hit_end, star_start, star_end, mir_type):\n",
    "    if(mir_type == '5p'):\n",
    "        return str(star_start - hit_end - 1)\n",
    "    elif(mir_type == '3p'):\n",
    "        return str(hit_start - star_end)\n",
    "    elif(mir_type == \"discontinuous star strand\"):\n",
    "        return \"discontinuous star strand\"\n",
    "    elif(mir_type == \"no complementarity in hit region\"):\n",
    "        print('error')    "
   ]
  },
  {
   "cell_type": "code",
   "execution_count": 26,
   "metadata": {
    "ExecuteTime": {
     "end_time": "2022-01-30T14:16:44.220823Z",
     "start_time": "2022-01-30T14:16:44.216916Z"
    }
   },
   "outputs": [],
   "source": [
    "def get_star_branching(star_start, star_end, star_range, values):\n",
    "    return not ((values[star_range-1] < star_start) | (values[star_range-1] > star_end)).all()"
   ]
  },
  {
   "cell_type": "code",
   "execution_count": 27,
   "metadata": {
    "ExecuteTime": {
     "end_time": "2022-01-30T14:16:44.299918Z",
     "start_time": "2022-01-30T14:16:44.223703Z"
    }
   },
   "outputs": [],
   "source": [
    "def getBOI_5p(hit_start, hit_end, values):\n",
    "    # first calc latest non zero value\n",
    "    for i in range(hit_end-1, 0, -1):\n",
    "        if(values[i] != 0):\n",
    "            last_v = values[i]\n",
    "            last_i = i\n",
    "            place = i\n",
    "            break            \n",
    "            \n",
    "    for i in range(place-1, 0, -1):\n",
    "        v = values[i]\n",
    "        if(v == 0):\n",
    "            continue\n",
    "        if(v < last_v):\n",
    "            if(last_i <= hit_start and last_i <= hit_end and last_v > hit_start and last_v >= hit_end):                \n",
    "                return [last_i + 1, last_v]            \n",
    "        \n",
    "        if((v - last_v) >= 3):            \n",
    "            s1 = set(range(last_v+1, v))\n",
    "            s2 = set([values[ii-1] for ii in range(last_v+1, v)])                        \n",
    "            if(len(s1.intersection(s2)) > 0):                                                \n",
    "                if(last_i <= hit_start and last_i < hit_end and last_v > hit_start and last_v >= hit_end): #?????                     \n",
    "                    return [last_i + 1, last_v]    \n",
    "        last_v = v            \n",
    "        last_i = i            \n",
    "    for i in range(0,hit_start):\n",
    "        if(values[i] != 0 ):\n",
    "            if(last_i <= hit_start and last_i <= hit_end and last_v > hit_start and last_v >= hit_end):                    \n",
    "                return [i + 1, values[i]]          \n",
    "    return [np.nan, np.nan]    \n",
    "    \n",
    "                \n",
    "def getBOI_3p(hit_start, hit_end, values):\n",
    "    # first calc latest non zero value\n",
    "    for i in range(hit_start, len(values)):    \n",
    "        if(values[i] != 0):\n",
    "            last_v = values[i]\n",
    "            last_i = i\n",
    "            place = i\n",
    "            break            \n",
    "            \n",
    "    for i in range(place + 1, len(values)):\n",
    "        v = values[i]\n",
    "        if(v == 0):\n",
    "            continue\n",
    "        if(v > last_v):\n",
    "            if((last_v-1) <= hit_start and (last_v-1) <= hit_end and (last_i+1)  > hit_start and (last_i+1)  >= hit_end):    \n",
    "                return [last_v, last_i + 1]                                                                                    \n",
    "        if((last_v - v) >= 3):\n",
    "            s1 = set(range(v+1, last_v))\n",
    "            s2 = set([values[ii-1] for ii in range(v+1, last_v)])\n",
    "            if(len(s1.intersection(s2)) > 0):\n",
    "                if((last_v-1) <= hit_start and (last_v-1) < hit_end and (last_i+1)  > hit_start and (last_i+1)  >= hit_end):\n",
    "                    return [last_v, last_i + 1]    \n",
    "        last_v = v            \n",
    "        last_i = i            \n",
    "    for i in range(len(values)-1, hit_end-2, -1):  # changed!        \n",
    "        if(values[i] != 0 ):\n",
    "            if((last_v-1) <= hit_start and (last_v-1) <= hit_end and (last_i+1)  > hit_start and (last_i+1)  >= hit_end):                    \n",
    "                return [values[i], i + 1]    \n",
    "    return [np.nan, np.nan]\n",
    "    \n",
    "    \n",
    "def get_boi(hit_start, hit_end, values, mir_type):    \n",
    "    if(mir_type == '5p'):\n",
    "        return getBOI_5p(hit_start, hit_end, values)\n",
    "    if(mir_type == '3p'):\n",
    "        return getBOI_3p(hit_start, hit_end, values)"
   ]
  },
  {
   "cell_type": "code",
   "execution_count": 28,
   "metadata": {
    "ExecuteTime": {
     "end_time": "2022-01-30T14:16:44.307690Z",
     "start_time": "2022-01-30T14:16:44.302970Z"
    }
   },
   "outputs": [],
   "source": [
    "def get_terminal_structure_range(hit_start, hit_end, istar_min, istar_max, mir_type):\n",
    "    if(mir_type == '5p'):\n",
    "        return [i for i in range(hit_end, istar_min-1)]\n",
    "    if(mir_type == '3p'):\n",
    "        return [i for i in range(istar_max, hit_start)]\n",
    "    print(\"Error in get_terminal_structure_range function\")        "
   ]
  },
  {
   "cell_type": "code",
   "execution_count": 29,
   "metadata": {
    "ExecuteTime": {
     "end_time": "2022-01-30T14:16:44.315570Z",
     "start_time": "2022-01-30T14:16:44.310360Z"
    }
   },
   "outputs": [],
   "source": [
    "def get_number_of_terminal_structure(values, terminal_structure_range):    \n",
    "    data = values[terminal_structure_range]\n",
    "    data = data[data != 0].to_numpy()\n",
    "    if(len(data) == 0):\n",
    "        return 0           \n",
    "    counter = 1            \n",
    "    last = data[0]         \n",
    "    for i in range(1,len(data)): \n",
    "        if(data[i] > last):\n",
    "            counter += 1\n",
    "        last = data[i]        \n",
    "    return counter "
   ]
  },
  {
   "cell_type": "code",
   "execution_count": 30,
   "metadata": {
    "ExecuteTime": {
     "end_time": "2022-01-30T14:16:44.327752Z",
     "start_time": "2022-01-30T14:16:44.318340Z"
    }
   },
   "outputs": [],
   "source": [
    "def get_branch_star_end_point(values, terminal_structure_range):        \n",
    "    data = values[terminal_structure_range]    \n",
    "    index = np.array(terminal_structure_range)[data != 0]    \n",
    "    data = data[data != 0].to_numpy()                        \n",
    "    branch_start_index = []\n",
    "    branch_end_index = []\n",
    "    branch_start_index.append(index[0])\n",
    "    last = data[0]            \n",
    "    for i in range(1,len(data)): \n",
    "        if(data[i] > last):\n",
    "            branch_end_index.append(index[i-1])\n",
    "            branch_start_index.append(index[i])\n",
    "        last = data[i]        \n",
    "    branch_end_index.append(index[-1])\n",
    "    #\n",
    "    branch_start_point = []\n",
    "    branch_end_point = []\n",
    "    for i in range(0, len(branch_start_index)):         \n",
    "        i_s = branch_start_index[i]\n",
    "        i_e = branch_end_index[i]\n",
    "        v_s = values[i_s]\n",
    "        v_e = values[i_e]\n",
    "        if(v_s > i_s and v_s <= (i_e + 1)):\n",
    "            branch_start_point.append(i_s + 1)\n",
    "            branch_end_point.append(v_s)\n",
    "        elif(v_e > i_s and v_e <= (i_e + 1)):\n",
    "            branch_start_point.append(v_e)\n",
    "            branch_end_point.append(i_e + 1)        \n",
    "    return [branch_start_point, branch_end_point]"
   ]
  },
  {
   "cell_type": "code",
   "execution_count": 31,
   "metadata": {
    "ExecuteTime": {
     "end_time": "2022-01-30T14:16:44.337786Z",
     "start_time": "2022-01-30T14:16:44.330600Z"
    }
   },
   "outputs": [],
   "source": [
    "def get_branch_apical_loop_size(branch_start_point, branch_end_point, values):        \n",
    "    branch_apical_loop_start = []\n",
    "    branch_apical_loop_end = []\n",
    "    branch_apical_loop_size = []\n",
    "    for s,e in zip(branch_start_point, branch_end_point):\n",
    "        data = values[s-1: e]\n",
    "        index = np.array([i for i in range(s-1, e)])[data != 0]                    \n",
    "        for i in range(len(index)-1):\n",
    "            if(values[index[i+1]] == index[i]+1 and values[index[i]] == index[i+1]+1):\n",
    "                branch_apical_loop_start.append(index[i]+1)\n",
    "                branch_apical_loop_end.append(index[i+1]+1)\n",
    "                branch_apical_loop_size.append(index[i+1] - index[i] - 1)                                                \n",
    "    return [branch_apical_loop_start, branch_apical_loop_end, branch_apical_loop_size]"
   ]
  },
  {
   "cell_type": "code",
   "execution_count": 32,
   "metadata": {
    "ExecuteTime": {
     "end_time": "2022-01-30T14:16:44.345434Z",
     "start_time": "2022-01-30T14:16:44.340570Z"
    }
   },
   "outputs": [],
   "source": [
    "def get_stem_last_residue(branch_apical_loop_start,branch_apical_loop_end, mir_type):\n",
    "    out = []\n",
    "    for i in range(len(branch_apical_loop_start)):\n",
    "        if(mir_type == '5p'):\n",
    "            out.append(min(branch_apical_loop_start[i], branch_apical_loop_end[i]))\n",
    "        if(mir_type == '3p'):\n",
    "            out.append(max(branch_apical_loop_start[i], branch_apical_loop_end[i]))\n",
    "    return out"
   ]
  },
  {
   "cell_type": "code",
   "execution_count": 33,
   "metadata": {
    "ExecuteTime": {
     "end_time": "2022-01-30T14:16:44.352251Z",
     "start_time": "2022-01-30T14:16:44.348075Z"
    }
   },
   "outputs": [],
   "source": [
    "def get_branch_stem_length(branch_start_point, branch_apical_loop_start):\n",
    "    out = []\n",
    "    for i in range(len(branch_start_point)):\n",
    "        out.append(branch_apical_loop_start[i] - branch_start_point[i] + 1)\n",
    "    return out"
   ]
  },
  {
   "cell_type": "code",
   "execution_count": 34,
   "metadata": {
    "ExecuteTime": {
     "end_time": "2022-01-30T14:16:44.367182Z",
     "start_time": "2022-01-30T14:16:44.354952Z"
    }
   },
   "outputs": [],
   "source": [
    "def get_primary_stem_end_point(branch_start_point, branch_end_point, stem_last_residue, hit_start, hit_end, istar_min, istar_max, values, number_of_terminal_structure, mir_type):    \n",
    "    if(number_of_terminal_structure == 1):\n",
    "        return stem_last_residue[0]\n",
    "    if(mir_type == '5p'):\n",
    "        if(number_of_terminal_structure == 0):                            \n",
    "            for i in range(hit_end-1, hit_start-1,-1):\n",
    "                if(values[i] != 0):\n",
    "                    return i + 1\n",
    "        else:\n",
    "            a = -1                        \n",
    "            for i in range(branch_start_point[0]-2, hit_end-1, -1):                \n",
    "                if(values[i] != 0):\n",
    "                    a = i + 1\n",
    "                    break            \n",
    "            b = -1            \n",
    "            for i in range(branch_end_point[-1], istar_min - 1):\n",
    "                if(values[i] != 0):\n",
    "                    b = values[i]\n",
    "                    break                   \n",
    "            if(a == -1 or b == -1):\n",
    "                return np.nan\n",
    "            return min(a,b)\n",
    "            \n",
    "    if(mir_type == '3p'):\n",
    "        if(number_of_terminal_structure == 0):                \n",
    "            for i in range(hit_start, hit_end):\n",
    "                if(values[i] != 0):\n",
    "                    return i + 1 \n",
    "        else:\n",
    "            a = -1\n",
    "            for i in range(branch_end_point[-1], hit_start):\n",
    "                if(values[i] != 0):\n",
    "                    a = i + 1\n",
    "                    break            \n",
    "            \n",
    "            b = -1            \n",
    "            for i in range(branch_start_point[0]-2, istar_max-1, -1):                \n",
    "                if(values[i] != 0):\n",
    "                    b = values[i]\n",
    "                    break                    \n",
    "            \n",
    "            if(a == -1 or b == -1):\n",
    "                return np.nan\n",
    "            return max(a,b)"
   ]
  },
  {
   "cell_type": "code",
   "execution_count": 35,
   "metadata": {
    "ExecuteTime": {
     "end_time": "2022-01-30T14:16:44.375718Z",
     "start_time": "2022-01-30T14:16:44.370067Z"
    }
   },
   "outputs": [],
   "source": [
    "def get_primary_stem_length(primary_stem_end_point, branch_start_point, branch_end_point, stem_last_residue, hit_start, hit_end, values, number_of_terminal_structure ,mir_type):    \n",
    "    if(number_of_terminal_structure == 0):\n",
    "        return 0\n",
    "    if(mir_type == '5p'):\n",
    "        if(number_of_terminal_structure == 1):                \n",
    "            return stem_last_residue[0] - branch_start_point[0] + 1\n",
    "        else:                        \n",
    "            return primary_stem_end_point - hit_end\n",
    "            \n",
    "    if(mir_type == '3p'):\n",
    "        if(number_of_terminal_structure == 1):                \n",
    "            return branch_end_point[0] - stem_last_residue[0] + 1\n",
    "        else:                        \n",
    "            return (hit_start+1) - primary_stem_end_point"
   ]
  },
  {
   "cell_type": "code",
   "execution_count": 36,
   "metadata": {
    "ExecuteTime": {
     "end_time": "2022-01-30T14:16:44.382695Z",
     "start_time": "2022-01-30T14:16:44.378498Z"
    },
    "code_folding": []
   },
   "outputs": [],
   "source": [
    "def get_domain(primary_stem_end_point, boi_start, boi_end, stem_last_residue, hit_start, hit_end, mir_type):    \n",
    "    if(mir_type == '5p'):        \n",
    "        return range(boi_start-1, primary_stem_end_point)                                        \n",
    "    if(mir_type == '3p'):        \n",
    "        return range(primary_stem_end_point-1, boi_end)"
   ]
  },
  {
   "cell_type": "code",
   "execution_count": 37,
   "metadata": {
    "ExecuteTime": {
     "end_time": "2022-01-30T14:16:44.392259Z",
     "start_time": "2022-01-30T14:16:44.387988Z"
    }
   },
   "outputs": [],
   "source": [
    "def get_domain_star(primary_stem_end_point_star, boi_start, boi_end, stem_last_residue, hit_start, hit_end, mir_type):    \n",
    "    if(mir_type == '5p'):        \n",
    "        return range(primary_stem_end_point_star - 1, boi_end)                                        \n",
    "    if(mir_type == '3p'):        \n",
    "        return range(boi_start-1 , primary_stem_end_point_star)"
   ]
  },
  {
   "cell_type": "code",
   "execution_count": 38,
   "metadata": {
    "ExecuteTime": {
     "end_time": "2022-01-30T14:16:44.399987Z",
     "start_time": "2022-01-30T14:16:44.395316Z"
    }
   },
   "outputs": [],
   "source": [
    "def get_interfering_structures(domain, values):\n",
    "    [c, d] = [min(domain[0], domain[-1]), max(domain[0], domain[-1])]    \n",
    "    v = values[c-1:d]    \n",
    "    return not ((v < c) | (v > d)).all()"
   ]
  },
  {
   "cell_type": "code",
   "execution_count": 39,
   "metadata": {
    "ExecuteTime": {
     "end_time": "2022-01-30T14:16:44.412278Z",
     "start_time": "2022-01-30T14:16:44.402823Z"
    }
   },
   "outputs": [],
   "source": [
    "def getLocation(start, end, hit_start, hit_end, mir_type):            \n",
    "    def _location(point): # base location              \n",
    "        if(mir_type == \"5p\"):                        \n",
    "            if(point < (hit_start+1)):\n",
    "                return [\"loop distal\", (hit_start+1) - point]\n",
    "            if(point <= hit_end):\n",
    "                return [\"hit region\", point - (hit_start+1) + 1]\n",
    "            return [\"loop proximal\" , point - hit_end]\n",
    "        \n",
    "        if(mir_type == \"3p\"):    \n",
    "            if(point > hit_end):\n",
    "                return [\"loop distal\" , point - hit_end]\n",
    "            if(point >= (hit_start+1)):\n",
    "                return [\"hit region\", point - (hit_start+1) + 1]\n",
    "            return [\"loop proximal\", (hit_start+1) - point]                                        \n",
    "            \n",
    "    [type1, loc1] = _location(start)\n",
    "    [type2, loc2] = _location(end)    \n",
    "    if(type1 == type2):                \n",
    "        return [type1, min(loc1, loc2), max(loc1, loc2)]\n",
    "    \n",
    "    if((type1 == \"loop distal\" and type2 == \"hit region\") or\n",
    "       (type2 == \"loop distal\" and type1 == \"hit region\")):                \n",
    "        return [\"distal border line\", loc1, loc2]\n",
    "        \n",
    "    if((type1 == \"loop proximal\" and type2 == \"hit region\") or\n",
    "       (type2 == \"loop proximal\" and type1 == \"hit region\")):        \n",
    "        return [\"proximal border line\", loc1, loc2]\n",
    "    \n",
    "    raise exception(\"loop proximal and loop distal\")"
   ]
  },
  {
   "cell_type": "code",
   "execution_count": 40,
   "metadata": {
    "ExecuteTime": {
     "end_time": "2022-01-30T14:16:44.425375Z",
     "start_time": "2022-01-30T14:16:44.415116Z"
    },
    "code_folding": []
   },
   "outputs": [],
   "source": [
    "def get_mismatch(domain, values, MCMA, hit_start, hit_end, mir_type): #MCMA: maximum consecutive mismatch allowance    \n",
    "    size = []\n",
    "    location_type = []\n",
    "    location_start = []\n",
    "    location_end = []\n",
    "    if(values[domain[0]] == 0 or values[domain[-1]] == 0):\n",
    "        raise Exception(\"Domain start or end = 0\")        \n",
    "        return \"Domain start or end = 0\"\n",
    "    mismatch_counter = 0 \n",
    "    zero_counter = 0\n",
    "    last = values[domain[0]]    \n",
    "    lastI = domain[0]\n",
    "    for d in domain[1:]:\n",
    "        if(values[d] == 0):\n",
    "            zero_counter += 1\n",
    "        else:            \n",
    "            current = values[d]\n",
    "            if(current > last):\n",
    "                return [\"Increment series error\", None, None, None, None]\n",
    "            elif(current < last and zero_counter > 0):                \n",
    "                if(last - current - 1 == zero_counter and zero_counter <= MCMA):\n",
    "                    mismatch_counter += 1\n",
    "                    size.append(zero_counter)                    \n",
    "                    [loc_type, loc_start, loc_end ] = getLocation(lastI+2, d, hit_start, hit_end, mir_type)\n",
    "                    location_type.append(loc_type)\n",
    "                    location_start.append(loc_start)\n",
    "                    location_end.append(loc_end)                    \n",
    "                zero_counter = 0                                    \n",
    "            last = current\n",
    "            lastI = d\n",
    "    if(mir_type == \"3p\"):\n",
    "        size = size[::-1]\n",
    "        location_type = location_type[::-1]\n",
    "        location_start = location_start[::-1]\n",
    "        location_end = location_end[::-1]\n",
    "    return [mismatch_counter, size, location_type, location_start, location_end]"
   ]
  },
  {
   "cell_type": "code",
   "execution_count": 41,
   "metadata": {
    "ExecuteTime": {
     "end_time": "2022-01-30T14:16:44.439528Z",
     "start_time": "2022-01-30T14:16:44.428132Z"
    }
   },
   "outputs": [],
   "source": [
    "def get_bulge(domain, values, hit_start, hit_end, mir_type): \n",
    "    size = []  \n",
    "    bulge_type = []\n",
    "    location_type = []\n",
    "    location_start = []\n",
    "    location_end = []\n",
    "    zero_counter = 0\n",
    "    last = values[domain[0]]  \n",
    "    lastI = domain[0]\n",
    "    for d in domain[1:]:\n",
    "        if(values[d] == 0):\n",
    "            zero_counter += 1\n",
    "        else:\n",
    "            current = values[d]\n",
    "            if(current > last):\n",
    "                return [\"Increment series error\", None, None, None, None,None]\n",
    "            \n",
    "            if(last - current == 1 and zero_counter > 0):                \n",
    "                size.append(zero_counter)                            \n",
    "                [loc_type, loc_start, loc_end ] = getLocation(lastI+1, d+1, hit_start, hit_end, mir_type)\n",
    "                bulge_type.append(\"zero\")\n",
    "                location_type.append(loc_type)\n",
    "                location_start.append(loc_start)\n",
    "                location_end.append(loc_end)                    \n",
    "                \n",
    "            if(last - current > 1 and zero_counter == 0):                \n",
    "                size.append(last - current - 1)                \n",
    "                [loc_type, loc_start, loc_end ] = getLocation(lastI+2, d, hit_start, hit_end, mir_type)\n",
    "                bulge_type.append(\"jump\")\n",
    "                location_type.append(loc_type)\n",
    "                location_start.append(loc_start)\n",
    "                location_end.append(loc_end)                    \n",
    "                                            \n",
    "            zero_counter = 0                                                    \n",
    "            last = current\n",
    "            lastI = d\n",
    "    if(mir_type == \"3p\"):\n",
    "        size = size[::-1]\n",
    "        bulge_type = bulge_type[::-1]\n",
    "        location_type = location_type[::-1]\n",
    "        location_start = location_start[::-1]\n",
    "        location_end = location_end[::-1]\n",
    "    return [len(size), size, location_type, location_start, location_end, bulge_type]"
   ]
  },
  {
   "cell_type": "code",
   "execution_count": 42,
   "metadata": {
    "ExecuteTime": {
     "end_time": "2022-01-30T14:16:44.454176Z",
     "start_time": "2022-01-30T14:16:44.442296Z"
    }
   },
   "outputs": [],
   "source": [
    "def get_internal_loop(domain, values, MCMA, hit_start, hit_end, mir_type): #MCMA: maximum consecutive mismatch allowance\n",
    "    size_HSBL = []  # number of         \n",
    "    size_SSBL = []     \n",
    "    location_type = []\n",
    "    location_start = []\n",
    "    location_end = []\n",
    "    zero_counter = 0\n",
    "    last = values[domain[0]]    \n",
    "    lastI = domain[0]\n",
    "    for d in domain[1:]:\n",
    "        if(values[d] == 0):\n",
    "            zero_counter += 1\n",
    "        else:\n",
    "            current = values[d]            \n",
    "            if(current > last):\n",
    "                return [\"Increment series error\", None, None, None, None, None]        \n",
    "            if(current < last and zero_counter > 0):                \n",
    "                jump = last - current - 1\n",
    "                if(jump == 0):\n",
    "                    zero_counter = 0                                    \n",
    "                elif(jump != zero_counter):                                        \n",
    "                    size_HSBL.append(zero_counter)\n",
    "                    size_SSBL.append(jump)\n",
    "                    [loc_type, loc_start, loc_end ] = getLocation(lastI+2, d, hit_start, hit_end, mir_type)\n",
    "                    location_type.append(loc_type)\n",
    "                    location_start.append(loc_start)\n",
    "                    location_end.append(loc_end)                    \n",
    "                elif(zero_counter > MCMA):\n",
    "                    size_HSBL.append(zero_counter)\n",
    "                    size_SSBL.append(jump)\n",
    "                    [loc_type, loc_start, loc_end ] = getLocation(lastI+2, d, hit_start, hit_end, mir_type)\n",
    "                    location_type.append(loc_type)\n",
    "                    location_start.append(loc_start)\n",
    "                    location_end.append(loc_end)                    \n",
    "                    \n",
    "            zero_counter = 0                                    \n",
    "            last = current\n",
    "            lastI = d\n",
    "    if(mir_type == \"3p\"):        \n",
    "        size_SSBL = size_SSBL[::-1]\n",
    "        size_HSBL = size_HSBL[::-1]\n",
    "        location_type = location_type[::-1]\n",
    "        location_start = location_start[::-1]\n",
    "        location_end = location_end[::-1]\n",
    "    return [len(size_HSBL), size_HSBL, size_SSBL, location_type, location_start, location_end]"
   ]
  },
  {
   "cell_type": "code",
   "execution_count": 90,
   "metadata": {
    "ExecuteTime": {
     "end_time": "2022-01-30T15:10:32.235750Z",
     "start_time": "2022-01-30T15:10:32.217120Z"
    }
   },
   "outputs": [],
   "source": [
    "def get_distance_info(inp_type,inp_bord_type, mis_loc_type,mismatch_size, mis_start, bulge_size, bulge_loc_type, bulge_start,bulge_end, bulge_type,internal_loop,size_HSBL,size_SSBL,intr_loc_type,intr_start,intr_end):\n",
    "    counter = 0 \n",
    "    data = []\n",
    "    # mismatch\n",
    "    if(mis_loc_type != None):\n",
    "        for i in range(0, len(mis_loc_type)):\n",
    "            if(mis_loc_type[i] == inp_type):\n",
    "                data.append({'start':mis_start[i],\n",
    "                             'size': mismatch_size[i],\n",
    "                             'type':\"mismatch\"})\n",
    "    # bulge\n",
    "    if(bulge_loc_type != None):\n",
    "        for i in range(0, len(bulge_loc_type)):\n",
    "            if(bulge_loc_type[i] == inp_type):\n",
    "                data.append({'start':bulge_start[i],\n",
    "                              'size': bulge_size[i],\n",
    "                              'end': bulge_end[i],\n",
    "                              'bulge_type': bulge_type[i],\n",
    "                              'type':\"bulge\"})\n",
    "            if(bulge_loc_type[i] == inp_bord_type and\n",
    "                bulge_type[i] == \"zero\"):\n",
    "                counter = bulge_end[i] - 1 \n",
    "    # loop\n",
    "    if(intr_loc_type != None):\n",
    "        for i in range(0, len(intr_loc_type)):\n",
    "            if(intr_loc_type[i] == inp_type):\n",
    "                data.append({'start': intr_start[i],\n",
    "                         'HSBL' : size_HSBL[i],\n",
    "                         'SSBL' : size_SSBL[i],\n",
    "                         'end'  : intr_end[i],\n",
    "                         'type' : \"loop\"})\n",
    "            if(intr_loc_type[i] == inp_bord_type and\n",
    "               size_HSBL[i] > size_SSBL[i] and\n",
    "               intr_end[i] > size_SSBL[i]):\n",
    "                counter = intr_end[i] - size_SSBL[i]\n",
    "    if(len(data) == 0):\n",
    "        return [[], []]\n",
    "    data.sort(key=lambda x: x['start'], reverse=False)\n",
    "    #\n",
    "    output = []\n",
    "    outputhr = []\n",
    "    for d in data:\n",
    "        # todo\n",
    "        dist = d['start'] - counter - 1\n",
    "        if(d['type']== \"mismatch\"):\n",
    "            output.append({'type':\"mismatch\",\n",
    "                           'dist': dist,\n",
    "                           'size': d['size']})\n",
    "            outputhr.append(f\"mismatch=dist:{dist}, size:{d['size']}\")\n",
    "        if(d['type']== \"bulge\"):\n",
    "            dist = d['start'] - counter\n",
    "            output.append({'type':\"bulge\",\n",
    "                           'dist': dist,\n",
    "                           'size': d['size']})\n",
    "            outputhr.append(f\"bulge=dist:{dist}, size:{d['size']}\")\n",
    "            if(d['bulge_type'] == \"zero\"):\n",
    "                counter +=  d['size']\n",
    "        if(d['type']== \"loop\"):\n",
    "            dist = d['start'] - counter - 1\n",
    "            _size = str(d['HSBL'])+ \" + \" + str(d['SSBL'])\n",
    "            output.append({'type':\"loop\",\n",
    "                           'dist': dist,\n",
    "                           'size': _size})\n",
    "            outputhr.append(f\"loop=dist:{dist}, size:{_size}\")\n",
    "            if(d['HSBL'] > d['SSBL']):\n",
    "                counter += d['HSBL'] - d['SSBL']\n",
    "    return [output,outputhr]"
   ]
  },
  {
   "cell_type": "code",
   "execution_count": 91,
   "metadata": {
    "ExecuteTime": {
     "end_time": "2022-01-30T15:10:32.288494Z",
     "start_time": "2022-01-30T15:10:32.281460Z"
    }
   },
   "outputs": [],
   "source": [
    "def closestto(data,number=15):\n",
    "    for d in data:\n",
    "        if(d['type'] == \"mismatch\"):\n",
    "            data.remove(d)\n",
    "    dist = []\n",
    "    if(len(data)==0):\n",
    "        return \"\"\n",
    "    for d in data:\n",
    "        dist.append(abs(d['dist'] - number))\n",
    "    min_dist = min(dist)\n",
    "    out = []\n",
    "    for i in range(0,len(dist)):\n",
    "        if(dist[i] == min_dist):\n",
    "            out.append(data[i])\n",
    "            \n",
    "    output = []\n",
    "    for o in out:\n",
    "        output.append(f\"{o['type']}=dist:{o['dist']}, size:{o['size']}\")                \n",
    "    return output"
   ]
  },
  {
   "cell_type": "code",
   "execution_count": 123,
   "metadata": {
    "ExecuteTime": {
     "end_time": "2022-01-30T15:23:27.023981Z",
     "start_time": "2022-01-30T15:23:26.972769Z"
    },
    "code_folding": []
   },
   "outputs": [],
   "source": [
    "server_url = \"http://jupyter.sysmanager.ir/tree/plant_microRNA_prediction\"\n",
    "#MCMA: maximum consecutive mismatch allowance\n",
    "def get_row(tag, path, extra, acceptable_terminal_structures = 5, MCMA=2):    \n",
    "    result = {}    \n",
    "    ct = reformatCT(path)\n",
    "    result['seq name'] = tag\n",
    "    result['ct name'] = \"Fold \" + path[-20:].split('SEQ_')[1].split('.ct')[0]\n",
    "    result['ct'] = f'=HYPERLINK(\"{server_url + path[1:]}\",\"ct\")'\n",
    "    result['pdf'] = f'=HYPERLINK(\"{server_url + path[1:-3] + \".pdf\"}\",\"pdf\")'            \n",
    "    #print(result['pdf'])\n",
    "    [hit_start, hit_end, sign] = get_tag_info(tag)    \n",
    "    result['hit start'] = hit_start + 1\n",
    "    result['hit end'] =  hit_end\n",
    "    result['sign'] = sign\n",
    "    dg = get_deltaG(ct)\n",
    "    result['delta G'] = dg\n",
    "    [nucleotide, index, values] = get_ct_data(ct)\n",
    "    hit_seq = ''.join(nucleotide[hit_start:hit_end])\n",
    "    result['hit seq'] = hit_seq\n",
    "    hit_range = index[hit_start:hit_end]\n",
    "    hit_len = len(hit_range)\n",
    "    result['hit len'] = hit_len\n",
    "    inc_srange = values[hit_start:hit_end] # Incomplete_Star_range\n",
    "\n",
    "    complementarity_in_hit_region = get_complementarity_in_hit_region(inc_srange, hit_len)\n",
    "    result['complementarity in hit region'] = complementarity_in_hit_region    \n",
    "    if(complementarity_in_hit_region == \"no\"):        \n",
    "        result['message'] = \"no complementarity in hit region\"        \n",
    "        return pd.Series(result) \n",
    "    \n",
    "    hit_self_complementarity = get_hit_self_complementarity(hit_start, hit_end, inc_srange)    \n",
    "    result['hit self complementarity'] = hit_self_complementarity       \n",
    "    if(hit_self_complementarity == \"yes\"):        \n",
    "        result['message'] = \"hit self complementarity\"\n",
    "        return pd.Series(result)     \n",
    "    if(hit_start - extra < 0 or (len(values) - hit_end) < extra):        \n",
    "        result['message'] = \"Not enough flanking for hit region\"                \n",
    "        return pd.Series(result) \n",
    "    \n",
    "    [flanking_istar_min, flanking_istar_max] = get_istar_min_max(values[(hit_start-extra):(hit_end+extra)], hit_self_complementarity)  \n",
    "    result['flanking istar min']  = flanking_istar_min\n",
    "    result['flanking istar max']  = flanking_istar_max    \n",
    "    \n",
    "    continuous_pairing = get_continuous_pairing(hit_start, hit_end, flanking_istar_min, flanking_istar_max, hit_self_complementarity)\n",
    "    result['continuous pairing'] = continuous_pairing    \n",
    "    if(continuous_pairing == \"no\"):\n",
    "        result['message'] = \"discontinuous star strand\"\n",
    "        return pd.Series(result) \n",
    "    \n",
    "    [istar_min, istar_max] = get_istar_min_max(inc_srange, hit_self_complementarity)  \n",
    "    result['istar min']  = istar_min\n",
    "    result['istar max']  = istar_max\n",
    "    \n",
    "    mir_type = get_mir_type(hit_start, hit_end, istar_min, istar_max, continuous_pairing, complementarity_in_hit_region, hit_self_complementarity)\n",
    "    result['mir type'] = mir_type    \n",
    "    if(mir_type not in ['3p', '5p']):        \n",
    "        result['message'] = mir_type\n",
    "        return pd.Series(result) \n",
    "    \n",
    "    [star_start, star_start_msg] = get_star_start(hit_start, hit_end, values)\n",
    "    [star_end, star_end_msg] = get_star_end(hit_start, hit_end, values)\n",
    "    result['star start'] = star_start \n",
    "    result['star start msg'] = star_start_msg     \n",
    "    result['star end'] = star_end    \n",
    "    result['star end msg'] =  star_end_msg            \n",
    "    set1 = set(range(star_start-1 , star_end))\n",
    "    set2 = set(range(hit_start, hit_end))            \n",
    "    if(len(set1.intersection(set2)) > 0):        \n",
    "        result['message'] = 'overlap between miRNA and miRNA*'        \n",
    "        return pd.Series(result) \n",
    "    \n",
    "    star_range = index[star_start - 1:star_end]\n",
    "    star_seq = ''.join(nucleotide[star_start - 1:star_end])\n",
    "    result['star seq'] = star_seq\n",
    "    num_of_linking_residues = get_num_of_linking_residues(hit_start,hit_end, star_start, star_end, mir_type)\n",
    "    result['num of linking residues'] = num_of_linking_residues\n",
    "    #print(result)\n",
    "    star_branching = get_star_branching(star_start, star_end, star_range, values)\n",
    "    #star_branching = get_star_branching(istar_min, istar_max, inc_srange, values)\n",
    "    result['star branching'] = \"yes\" if star_branching else \"no\"    \n",
    "    [boi_start, boi_end] = get_boi(hit_start, hit_end, values, mir_type)                \n",
    "    if(math.isnan(boi_start) or math.isnan(boi_end)):        \n",
    "        result['message'] = 'unfit BOI structure'\n",
    "        return pd.Series(result) \n",
    "    boi_seq = ''.join(nucleotide[boi_start-1: boi_end].tolist())\n",
    "    result['boi start'] = boi_start\n",
    "    result['boi end'] =  boi_end\n",
    "    result['boi seq'] =  boi_seq    \n",
    "    terminal_structure_range = get_terminal_structure_range(hit_start, hit_end, istar_min, istar_max, mir_type)\n",
    "    result['terminal structure range'] = [i+1 for i in [terminal_structure_range[0], terminal_structure_range[-1]]]                            \n",
    "    if(len(terminal_structure_range) == 0):        \n",
    "        result['number of terminal structure'] = \"no residues between miR and miR*\"         \n",
    "    else:                \n",
    "        number_of_terminal_structure = get_number_of_terminal_structure(values, terminal_structure_range)        \n",
    "        if(number_of_terminal_structure == 0):\n",
    "            result['number of terminal structure'] = 1                    \n",
    "            #[branch_start_point, branch_end_point] = [[terminal_structure_range[0]+1], [terminal_structure_range[-1]+1]]\n",
    "            [branch_start_point, branch_end_point] = [[], []]   \n",
    "            stem_last_residue = []\n",
    "        elif(number_of_terminal_structure == 1):\n",
    "            result['number of terminal structure'] = 1        \n",
    "            [branch_start_point, branch_end_point] = [[terminal_structure_range[0]+1], [terminal_structure_range[-1]+1]]            \n",
    "            stem_last_residue = []\n",
    "        else:\n",
    "            result['number of terminal structure'] = number_of_terminal_structure\n",
    "            [branch_start_point, branch_end_point]  = get_branch_star_end_point(values, terminal_structure_range)         \n",
    "        if(number_of_terminal_structure != 0):\n",
    "            #[branch_apical_loop_start, branch_apical_loop_end, branch_apical_loop_size] = [[branch_start_point[0]], [branch_end_point[0]], [abs(branch_end_point[0] - branch_start_point[0]) + 1]]                    \n",
    "            [branch_apical_loop_start, branch_apical_loop_end, branch_apical_loop_size] = get_branch_apical_loop_size(branch_start_point, branch_end_point, values)\n",
    "            stem_last_residue = get_stem_last_residue(branch_apical_loop_start,branch_apical_loop_end, mir_type)\n",
    "            branch_stem_length = get_branch_stem_length(branch_start_point, branch_apical_loop_start)                        \n",
    "        for i in range(acceptable_terminal_structures):\n",
    "            if(i < len(branch_start_point)):\n",
    "                result[f'branch#{i + 1} start point'] = branch_start_point[i]\n",
    "                result[f'branch#{i + 1} end point'] = branch_end_point[i]\n",
    "                result[f'branch#{i + 1} total length'] = abs(branch_end_point[i] - branch_start_point[i]) + 1                                                \n",
    "                result[f'branch#{i + 1} apical loop start'] = branch_apical_loop_start[i]\n",
    "                result[f'branch#{i + 1} apical loop end'] = branch_apical_loop_end[i]\n",
    "                result[f'branch#{i + 1} apical loop size'] = branch_apical_loop_size[i]                    \n",
    "                if(number_of_terminal_structure == 1):\n",
    "                    result[f'branch#{i + 1} stem last residue'] = stem_last_residue[i]\n",
    "                else:\n",
    "                    result[f'branch#{i + 1} stem last residue'] = \"\"\n",
    "                result[f'branch#{i + 1} stem length'] = branch_stem_length[i]                \n",
    "            else:\n",
    "                result[f'branch#{i + 1} start point'] = \"\"\n",
    "                result[f'branch#{i + 1} end point'] = \"\"            \n",
    "                result[f'branch#{i + 1} total length'] = \"\"\n",
    "                result[f'branch#{i + 1} apical loop start'] = \"\"\n",
    "                result[f'branch#{i + 1} apical loop end'] = \"\"\n",
    "                result[f'branch#{i + 1} apical loop size'] = \"\"\n",
    "                result[f'branch#{i + 1} stem last residue'] = \"\"\n",
    "                result[f'branch#{i + 1} stem length']  = \"\"           \n",
    "        \n",
    "        \n",
    "        primary_stem_end_point = get_primary_stem_end_point(branch_start_point, branch_end_point, stem_last_residue, hit_start, hit_end, istar_min, istar_max, values, number_of_terminal_structure, mir_type)                \n",
    "        if(not np.isnan(primary_stem_end_point)):\n",
    "            primary_stem_end_point_star = values[primary_stem_end_point-1]\n",
    "            result['psep'] = primary_stem_end_point\n",
    "            result['psep*'] = primary_stem_end_point_star\n",
    "            \n",
    "            primary_stem_length = get_primary_stem_length(primary_stem_end_point, branch_start_point, branch_end_point, stem_last_residue, hit_start, hit_end, values, number_of_terminal_structure, mir_type)\n",
    "            result['primary stem length'] = primary_stem_length                            \n",
    "            \n",
    "            domain = get_domain(primary_stem_end_point, boi_start, boi_end, stem_last_residue, hit_start, hit_end, mir_type)\n",
    "            result['domain'] = [domain[0]+1, domain[-1]+1]\n",
    "            domain_star = get_domain_star(primary_stem_end_point_star, boi_start, boi_end, stem_last_residue, hit_start, hit_end, mir_type)\n",
    "            result['domain*'] = [domain_star[0] + 1, domain_star[-1] + 1]\n",
    "            interfering_structures_domain = get_interfering_structures(domain, values)\n",
    "            result['domain interfering structures'] = \"yes\" if interfering_structures_domain else \"no\"\n",
    "            \n",
    "            interfering_structures_domain_star = get_interfering_structures(domain_star, values)\n",
    "            result['domain* interfering structures'] = \"yes\" if interfering_structures_domain_star else \"no\"\n",
    "                        \n",
    "            [mismatch, mismatch_size, mis_loc_type, mis_start, mis_end] = get_mismatch(domain, values,MCMA, hit_start, hit_end, mir_type)            \n",
    "            result['mismatch'] = mismatch\n",
    "            result['mismatch size'] = mismatch_size\n",
    "            result['mismatch type'] = mis_loc_type\n",
    "            result['mismatch start'] = mis_start\n",
    "            result['mismatch end'] = mis_end\n",
    "            [bulge, bulge_size, bulge_loc_type, bulge_start, bulge_end,bulge_type] = get_bulge(domain, values, hit_start, hit_end, mir_type)\n",
    "            result['bulge'] = bulge\n",
    "            result['bulge size'] = bulge_size\n",
    "            result['bulge type'] = bulge_loc_type\n",
    "            result['bulge start'] = bulge_start\n",
    "            result['bulge end'] = bulge_end\n",
    "            [internal_loop, size_HSBL, size_SSBL, intr_loc_type, intr_start, intr_end] = get_internal_loop(domain, values, MCMA, hit_start, hit_end, mir_type)\n",
    "            result['internal loop'] = internal_loop\n",
    "            result['internal loop HSBL'] = size_HSBL\n",
    "            result['internal loop SSBL'] = size_SSBL\n",
    "            result['internal type'] = intr_loc_type\n",
    "            result['internal start'] = intr_start\n",
    "            result['internal end'] = intr_end\n",
    "            [proximal,proximal_hr] = get_distance_info(\"loop proximal\",\"proximal border line\", mis_loc_type,mismatch_size, mis_start, bulge_size, bulge_loc_type, bulge_start,bulge_end, bulge_type,internal_loop,size_HSBL,size_SSBL,intr_loc_type,intr_start,intr_end)\n",
    "            result['proximal distance'] = proximal_hr\n",
    "            [distal, distal_hr] = get_distance_info(\"loop distal\",\"distal border line\", mis_loc_type,mismatch_size, mis_start, bulge_size, bulge_loc_type, bulge_start,bulge_end, bulge_type,internal_loop,size_HSBL,size_SSBL,intr_loc_type,intr_start,intr_end)\n",
    "            result['distal distance'] = distal_hr\n",
    "            result['proximal closest to 15'] = closestto(proximal,15) \n",
    "            result['proximal closest to 21'] = closestto(proximal,21) \n",
    "            result['proximal closest to 36'] = closestto(proximal,36)\n",
    "            result['distal closest to 15'] = closestto(distal,15)\n",
    "            result['distal closest to 21'] = closestto(distal,21)\n",
    "            result['distal closest to 36'] = closestto(distal,36)\n",
    "        else:\n",
    "            result['message'] = \"immediate branching\"                        \n",
    "    return pd.Series(result)"
   ]
  },
  {
   "cell_type": "code",
   "execution_count": 124,
   "metadata": {
    "ExecuteTime": {
     "end_time": "2022-01-30T15:23:27.447332Z",
     "start_time": "2022-01-30T15:23:27.440978Z"
    }
   },
   "outputs": [],
   "source": [
    "def run(tag, path, extra):        \n",
    "    #return get_row(tag, path, extra)\n",
    "    try:\n",
    "        return get_row(tag, path,extra)\n",
    "    except Exception as e:\n",
    "        print(str(e), tag)        \n",
    "        return pd.Series()\n",
    "        \n",
    "def get_df_by_tag(tag , extra=0):           \n",
    "    ct_files = glob.glob(f'{base}{reformat(tag)}/SEQ_*.ct')    \n",
    "    return pd.Series(ct_files).apply(lambda path: run(tag, path,extra))    "
   ]
  },
  {
   "cell_type": "markdown",
   "metadata": {},
   "source": [
    "## apply on current data"
   ]
  },
  {
   "cell_type": "code",
   "execution_count": 125,
   "metadata": {
    "ExecuteTime": {
     "end_time": "2022-01-30T15:23:28.171061Z",
     "start_time": "2022-01-30T15:23:28.167864Z"
    },
    "scrolled": false
   },
   "outputs": [],
   "source": [
    "#get_df_by_tag(df['tag'].iloc[8])#['ct'][1]\n",
    "#get_df_by_tag(\"AMWY02000161.1|-|1642-2061|201-220\", extra=0).to_csv('Result/d.csv')"
   ]
  },
  {
   "cell_type": "code",
   "execution_count": 126,
   "metadata": {
    "ExecuteTime": {
     "end_time": "2022-01-30T15:23:28.644017Z",
     "start_time": "2022-01-30T15:23:28.564722Z"
    }
   },
   "outputs": [
    {
     "data": {
      "text/html": [
       "<div>\n",
       "<style scoped>\n",
       "    .dataframe tbody tr th:only-of-type {\n",
       "        vertical-align: middle;\n",
       "    }\n",
       "\n",
       "    .dataframe tbody tr th {\n",
       "        vertical-align: top;\n",
       "    }\n",
       "\n",
       "    .dataframe thead th {\n",
       "        text-align: right;\n",
       "    }\n",
       "</style>\n",
       "<table border=\"1\" class=\"dataframe\">\n",
       "  <thead>\n",
       "    <tr style=\"text-align: right;\">\n",
       "      <th></th>\n",
       "      <th>seq name</th>\n",
       "      <th>ct name</th>\n",
       "      <th>ct</th>\n",
       "      <th>pdf</th>\n",
       "      <th>hit start</th>\n",
       "      <th>hit end</th>\n",
       "      <th>sign</th>\n",
       "      <th>delta G</th>\n",
       "      <th>hit seq</th>\n",
       "      <th>hit len</th>\n",
       "      <th>...</th>\n",
       "      <th>internal start</th>\n",
       "      <th>internal end</th>\n",
       "      <th>proximal distance</th>\n",
       "      <th>distal distance</th>\n",
       "      <th>proximal closest to 15</th>\n",
       "      <th>proximal closest to 21</th>\n",
       "      <th>proximal closest to 36</th>\n",
       "      <th>distal closest to 15</th>\n",
       "      <th>distal closest to 21</th>\n",
       "      <th>distal closest to 36</th>\n",
       "    </tr>\n",
       "  </thead>\n",
       "  <tbody>\n",
       "    <tr>\n",
       "      <th>0</th>\n",
       "      <td>AMWY02000027.1|-|2935-3353|201-219</td>\n",
       "      <td>Fold 1</td>\n",
       "      <td>=HYPERLINK(\"http://jupyter.sysmanager.ir/tree/...</td>\n",
       "      <td>=HYPERLINK(\"http://jupyter.sysmanager.ir/tree/...</td>\n",
       "      <td>201</td>\n",
       "      <td>219</td>\n",
       "      <td>-</td>\n",
       "      <td>-152.62</td>\n",
       "      <td>CCTCGGTACCAAGGTTGAT</td>\n",
       "      <td>19</td>\n",
       "      <td>...</td>\n",
       "      <td>None</td>\n",
       "      <td>None</td>\n",
       "      <td>[]</td>\n",
       "      <td>[]</td>\n",
       "      <td></td>\n",
       "      <td></td>\n",
       "      <td></td>\n",
       "      <td></td>\n",
       "      <td></td>\n",
       "      <td></td>\n",
       "    </tr>\n",
       "    <tr>\n",
       "      <th>1</th>\n",
       "      <td>AMWY02000027.1|-|2935-3353|201-219</td>\n",
       "      <td>Fold 2</td>\n",
       "      <td>=HYPERLINK(\"http://jupyter.sysmanager.ir/tree/...</td>\n",
       "      <td>=HYPERLINK(\"http://jupyter.sysmanager.ir/tree/...</td>\n",
       "      <td>201</td>\n",
       "      <td>219</td>\n",
       "      <td>-</td>\n",
       "      <td>-152.03</td>\n",
       "      <td>CCTCGGTACCAAGGTTGAT</td>\n",
       "      <td>19</td>\n",
       "      <td>...</td>\n",
       "      <td>None</td>\n",
       "      <td>None</td>\n",
       "      <td>[]</td>\n",
       "      <td>[]</td>\n",
       "      <td></td>\n",
       "      <td></td>\n",
       "      <td></td>\n",
       "      <td></td>\n",
       "      <td></td>\n",
       "      <td></td>\n",
       "    </tr>\n",
       "  </tbody>\n",
       "</table>\n",
       "<p>2 rows × 101 columns</p>\n",
       "</div>"
      ],
      "text/plain": [
       "                             seq name ct name  \\\n",
       "0  AMWY02000027.1|-|2935-3353|201-219  Fold 1   \n",
       "1  AMWY02000027.1|-|2935-3353|201-219  Fold 2   \n",
       "\n",
       "                                                  ct  \\\n",
       "0  =HYPERLINK(\"http://jupyter.sysmanager.ir/tree/...   \n",
       "1  =HYPERLINK(\"http://jupyter.sysmanager.ir/tree/...   \n",
       "\n",
       "                                                 pdf  hit start  hit end sign  \\\n",
       "0  =HYPERLINK(\"http://jupyter.sysmanager.ir/tree/...        201      219    -   \n",
       "1  =HYPERLINK(\"http://jupyter.sysmanager.ir/tree/...        201      219    -   \n",
       "\n",
       "   delta G              hit seq  hit len  ... internal start internal end  \\\n",
       "0  -152.62  CCTCGGTACCAAGGTTGAT       19  ...           None         None   \n",
       "1  -152.03  CCTCGGTACCAAGGTTGAT       19  ...           None         None   \n",
       "\n",
       "   proximal distance  distal distance proximal closest to 15  \\\n",
       "0                 []               []                          \n",
       "1                 []               []                          \n",
       "\n",
       "   proximal closest to 21  proximal closest to 36 distal closest to 15  \\\n",
       "0                                                                        \n",
       "1                                                                        \n",
       "\n",
       "   distal closest to 21 distal closest to 36  \n",
       "0                                             \n",
       "1                                             \n",
       "\n",
       "[2 rows x 101 columns]"
      ]
     },
     "execution_count": 126,
     "metadata": {},
     "output_type": "execute_result"
    }
   ],
   "source": [
    "get_df_by_tag(\"AMWY02000027.1|-|2935-3353|201-219\", extra=0)"
   ]
  },
  {
   "cell_type": "code",
   "execution_count": 127,
   "metadata": {
    "ExecuteTime": {
     "end_time": "2022-01-30T15:23:46.985299Z",
     "start_time": "2022-01-30T15:23:30.957691Z"
    },
    "scrolled": false
   },
   "outputs": [
    {
     "data": {
      "application/vnd.jupyter.widget-view+json": {
       "model_id": "6efe0f2618e746409ff8f7e1ee62d47e",
       "version_major": 2,
       "version_minor": 0
      },
      "text/plain": [
       "  0%|          | 0/2000 [00:00<?, ?it/s]"
      ]
     },
     "metadata": {},
     "output_type": "display_data"
    },
    {
     "name": "stdout",
     "output_type": "stream",
     "text": [
      "list index out of range AMWY02000334.1|+|4703-5044|201-219\n"
     ]
    },
    {
     "name": "stderr",
     "output_type": "stream",
     "text": [
      "<ipython-input-124-730172f7edd6>:7: DeprecationWarning: The default dtype for empty Series will be 'object' instead of 'float64' in a future version. Specify a dtype explicitly to silence this warning.\n",
      "  return pd.Series()\n"
     ]
    },
    {
     "name": "stdout",
     "output_type": "stream",
     "text": [
      "-1 AMWY02001715.1|-|7418-7637|4-20\n"
     ]
    },
    {
     "name": "stderr",
     "output_type": "stream",
     "text": [
      "<ipython-input-124-730172f7edd6>:7: DeprecationWarning: The default dtype for empty Series will be 'object' instead of 'float64' in a future version. Specify a dtype explicitly to silence this warning.\n",
      "  return pd.Series()\n"
     ]
    }
   ],
   "source": [
    "dfs = []\n",
    "max_workers = mp.cpu_count() - 1\n",
    "#max_workers = 1\n",
    "for d in process_map(get_df_by_tag , df['tag'], tqdm_class=tqdm, max_workers=max_workers, chunksize=5):\n",
    "    dfs.append(d)\n",
    "df_result = pd.concat(dfs,axis=0)\n",
    "df_result.to_csv(\"Result/ct_analizer_result_extra=0.csv\", index=False)\n",
    "#!zip -r Result/ct_analizer_result.csv.zip ./Result/ct_analizer_result.csv"
   ]
  },
  {
   "cell_type": "markdown",
   "metadata": {
    "heading_collapsed": true
   },
   "source": [
    "## apply on CT viridi"
   ]
  },
  {
   "cell_type": "code",
   "execution_count": null,
   "metadata": {
    "ExecuteTime": {
     "end_time": "2021-12-14T17:07:47.214754Z",
     "start_time": "2021-12-14T17:07:47.180411Z"
    },
    "hidden": true
   },
   "outputs": [],
   "source": [
    "tag = \"osa-MIR5150-3p|+|1-79|44-67\"\n",
    "get_row(tag, f'./CT_high_viridi/{tag}.ct')"
   ]
  },
  {
   "cell_type": "code",
   "execution_count": null,
   "metadata": {
    "ExecuteTime": {
     "end_time": "2021-12-14T16:32:16.392288Z",
     "start_time": "2021-12-14T16:32:10.523098Z"
    },
    "hidden": true
   },
   "outputs": [],
   "source": [
    "def _run(tag):           \n",
    "    return run(tag, f'./CT_high_viridi/{tag}.ct')    \n",
    "\n",
    "ct_files = glob.glob(f'CT_high_viridi/*.ct')\n",
    "tags = [ct[len(\"CT_high_viridi/\"):-3] for ct in ct_files]\n",
    "\n",
    "dfs = []\n",
    "max_workers = mp.cpu_count() - 1\n",
    "max_workers = 1\n",
    "for d in process_map(_run , pd.Series(tags), tqdm_class=tqdm, max_workers=max_workers, chunksize=5):\n",
    "    dfs.append(d)\n",
    "    \n",
    "df_result = pd.concat(dfs,axis=0)\n",
    "df_result.to_csv(\"Result/ct_high_viridi_analizer_result.csv\", index=False)"
   ]
  },
  {
   "cell_type": "markdown",
   "metadata": {
    "heading_collapsed": true
   },
   "source": [
    "# BLASTX "
   ]
  },
  {
   "cell_type": "code",
   "execution_count": 28,
   "metadata": {
    "ExecuteTime": {
     "end_time": "2022-01-23T16:42:17.709286Z",
     "start_time": "2022-01-23T16:42:17.551241Z"
    },
    "hidden": true,
    "scrolled": false
   },
   "outputs": [
    {
     "name": "stdout",
     "output_type": "stream",
     "text": [
      "USAGE\r\n",
      "  makeblastdb [-h] [-help] [-in input_file] [-input_type type]\r\n",
      "    -dbtype molecule_type [-title database_title] [-parse_seqids]\r\n",
      "    [-hash_index] [-mask_data mask_data_files] [-mask_id mask_algo_ids]\r\n",
      "    [-mask_desc mask_algo_descriptions] [-gi_mask]\r\n",
      "    [-gi_mask_name gi_based_mask_names] [-out database_name]\r\n",
      "    [-blastdb_version version] [-max_file_sz number_of_bytes]\r\n",
      "    [-logfile File_Name] [-taxid TaxID] [-taxid_map TaxIDMapFile] [-version]\r\n",
      "\r\n",
      "DESCRIPTION\r\n",
      "   Application to create BLAST databases, version 2.9.0+\r\n",
      "\r\n",
      "Use '-help' to print detailed descriptions of command line arguments\r\n",
      "========================================================================\r\n",
      "\r\n",
      "Error:  (CArgException::eInvalidArg) Unknown argument: \"num_threads\"\r\n"
     ]
    }
   ],
   "source": [
    "!makeblastdb -in ./NR/nr -dbtype prot -out ./NR/nr_database"
   ]
  },
  {
   "cell_type": "code",
   "execution_count": 79,
   "metadata": {
    "ExecuteTime": {
     "end_time": "2022-01-24T11:07:26.138130Z",
     "start_time": "2022-01-24T11:07:25.776108Z"
    },
    "hidden": true
   },
   "outputs": [],
   "source": [
    "!head -n 20000 ./Temp/extended_modified.txt > ./input_blastx.txt"
   ]
  },
  {
   "cell_type": "code",
   "execution_count": 57,
   "metadata": {
    "ExecuteTime": {
     "end_time": "2022-01-23T17:11:34.724958Z",
     "start_time": "2022-01-23T17:11:34.720770Z"
    },
    "hidden": true
   },
   "outputs": [],
   "source": [
    "#Temp/extended_modified.txt "
   ]
  },
  {
   "cell_type": "code",
   "execution_count": 58,
   "metadata": {
    "ExecuteTime": {
     "end_time": "2022-01-23T17:21:07.820582Z",
     "start_time": "2022-01-23T17:11:35.373782Z"
    },
    "hidden": true
   },
   "outputs": [],
   "source": [
    "!blastx -query ./input_blastx.txt \\\n",
    "        -db ./NR/nr_database \\\n",
    "        -out ./Temp/BlastX/blastx \\\n",
    "        -num_threads 20 \\\n",
    "        -outfmt \"6 qseqid sseqid qstart qend evalue bitscore score length frames qframe qcovs qcovhsp staxids\""
   ]
  },
  {
   "cell_type": "markdown",
   "metadata": {
    "heading_collapsed": true
   },
   "source": [
    "# DIAMOND"
   ]
  },
  {
   "cell_type": "markdown",
   "metadata": {
    "ExecuteTime": {
     "end_time": "2021-10-17T20:40:11.194148Z",
     "start_time": "2021-10-17T20:40:11.187523Z"
    },
    "hidden": true
   },
   "source": [
    "https://github.com/bbuchfink/diamond"
   ]
  },
  {
   "cell_type": "code",
   "execution_count": null,
   "metadata": {
    "hidden": true
   },
   "outputs": [],
   "source": [
    "#!wget http://github.com/bbuchfink/diamond/releases/download/v2.0.13/diamond-linux64.tar.gz\n",
    "#!tar xzf diamond-linux64.tar.gz"
   ]
  },
  {
   "cell_type": "code",
   "execution_count": 73,
   "metadata": {
    "ExecuteTime": {
     "end_time": "2022-01-23T18:36:18.488552Z",
     "start_time": "2022-01-23T18:30:12.626645Z"
    },
    "hidden": true
   },
   "outputs": [
    {
     "name": "stdout",
     "output_type": "stream",
     "text": [
      "diamond v2.0.13.151 (C) Max Planck Society for the Advancement of Science\n",
      "Documentation, support and updates available at http://www.diamondsearch.org\n",
      "Please cite: http://dx.doi.org/10.1038/s41592-021-01101-x Nature Methods (2021)\n",
      "\n",
      "#CPU threads: 24\n",
      "Scoring parameters: (Matrix=BLOSUM62 Lambda=0.267 K=0.041 Penalties=11/1)\n",
      "Database input file: ./NR/nr\n",
      "Opening the database file...  [0.007s]\n",
      "Loading sequences...  [13.005s]\n",
      "Masking sequences...  [20.066s]\n",
      "Writing sequences...  [2.562s]\n",
      "Hashing sequences...  [0.678s]\n",
      "Loading sequences...  [22.545s]\n",
      "Masking sequences...  [31.055s]\n",
      "Writing sequences...  [2.56s]\n",
      "Hashing sequences...  [0.677s]\n",
      "Loading sequences...  [22.368s]\n",
      "Masking sequences...  [36.732s]\n",
      "Writing sequences...  [2.628s]\n",
      "Hashing sequences...  [0.741s]\n",
      "Loading sequences...  [22.37s]\n",
      "Masking sequences...  [23.951s]\n",
      "Writing sequences...  [2.697s]\n",
      "Hashing sequences...  [0.682s]\n",
      "Loading sequences...  [22.234s]\n",
      "Masking sequences...  [7.003s]\n",
      "Writing sequences...  [2.601s]\n",
      "Hashing sequences...  [0.74s]\n",
      "Loading sequences...  [22.863s]\n",
      "Masking sequences...  [27.499s]\n",
      "Writing sequences...  [2.776s]\n",
      "Hashing sequences...  [0.664s]\n",
      "Loading sequences...  [21.026s]\n",
      "Masking sequences...  [11.656s]\n",
      "Writing sequences...  [3.229s]\n",
      "Hashing sequences...  [0.673s]\n",
      "Loading sequences...  [19.916s]\n",
      "Masking sequences...  [7.693s]\n",
      "Writing sequences...  [2.521s]\n",
      "Hashing sequences...  [0.77s]\n",
      "Loading sequences...  [0.567s]\n",
      "Masking sequences...  [0.146s]\n",
      "Writing sequences...  [0.044s]\n",
      "Hashing sequences...  [0.012s]\n",
      "Loading sequences...  [0s]\n",
      "Writing trailer...  [0.836s]\n",
      "Closing the input file...  [0.005s]\n",
      "Closing the database file...  [0.216s]\n",
      "\n",
      "Database sequences  21408080\n",
      "  Database letters  8021191388\n",
      "     Database hash  8a96e50da0cfaed9d82bb82ff24ab2d7\n",
      "        Total time  361s\n"
     ]
    }
   ],
   "source": [
    "!./diamond makedb --in ./NR/nr -d ./DIAMOND/diamond_output"
   ]
  },
  {
   "cell_type": "code",
   "execution_count": 82,
   "metadata": {
    "ExecuteTime": {
     "end_time": "2022-01-25T09:12:49.743031Z",
     "start_time": "2022-01-25T09:02:47.486265Z"
    },
    "hidden": true
   },
   "outputs": [
    {
     "name": "stdout",
     "output_type": "stream",
     "text": [
      "diamond v2.0.13.151 (C) Max Planck Society for the Advancement of Science\n",
      "Documentation, support and updates available at http://www.diamondsearch.org\n",
      "Please cite: http://dx.doi.org/10.1038/s41592-021-01101-x Nature Methods (2021)\n",
      "\n",
      "#CPU threads: 24\n",
      "Scoring parameters: (Matrix=BLOSUM62 Lambda=0.267 K=0.041 Penalties=11/1)\n",
      "Temporary directory: .\n",
      "#Target sequences to report alignments for: 25\n",
      "Opening the database...  [0.078s]\n",
      "Database: ./DIAMOND/diamond_output.dmnd (type: Diamond database, sequences: 21408080, letters: 8021191388)\n",
      "Block size = 2000000000\n",
      "Opening the input file...  [0.017s]\n",
      "Opening the output file...  [0s]\n",
      "Loading query sequences...  [0.433s]\n",
      "Masking queries...  [0.323s]\n",
      "Algorithm: Double-indexed\n",
      "Building query histograms...  [0.113s]\n",
      "Allocating buffers...  [0s]\n",
      "Loading reference sequences...  [16.476s]\n",
      "Masking reference...  [18.327s]\n",
      "Initializing dictionary...  [0.014s]\n",
      "Initializing temporary storage...  [0s]\n",
      "Building reference histograms...  [11.545s]\n",
      "Allocating buffers...  [0s]\n",
      "Processing query block 1, reference block 1/5, shape 1/2, index chunk 1/4.\n",
      "Building reference seed array...  [4.565s]\n",
      "Building query seed array...  [0.066s]\n",
      "Computing hash join...  [1.133s]\n",
      "Masking low complexity seeds...  [0.017s]\n",
      "Searching alignments...  [0.419s]\n",
      "Processing query block 1, reference block 1/5, shape 1/2, index chunk 2/4.\n",
      "Building reference seed array...  [4.015s]\n",
      "Building query seed array...  [0.055s]\n",
      "Computing hash join...  [0.584s]\n",
      "Masking low complexity seeds...  [0.018s]\n",
      "Searching alignments...  [0.284s]\n",
      "Processing query block 1, reference block 1/5, shape 1/2, index chunk 3/4.\n",
      "Building reference seed array...  [4.351s]\n",
      "Building query seed array...  [0.054s]\n",
      "Computing hash join...  [0.627s]\n",
      "Masking low complexity seeds...  [0.024s]\n",
      "Searching alignments...  [0.263s]\n",
      "Processing query block 1, reference block 1/5, shape 1/2, index chunk 4/4.\n",
      "Building reference seed array...  [3.5s]\n",
      "Building query seed array...  [0.065s]\n",
      "Computing hash join...  [0.571s]\n",
      "Masking low complexity seeds...  [0.018s]\n",
      "Searching alignments...  [0.274s]\n",
      "Processing query block 1, reference block 1/5, shape 2/2, index chunk 1/4.\n",
      "Building reference seed array...  [3.548s]\n",
      "Building query seed array...  [0.052s]\n",
      "Computing hash join...  [0.64s]\n",
      "Masking low complexity seeds...  [0.019s]\n",
      "Searching alignments...  [0.28s]\n",
      "Processing query block 1, reference block 1/5, shape 2/2, index chunk 2/4.\n",
      "Building reference seed array...  [4.952s]\n",
      "Building query seed array...  [0.052s]\n",
      "Computing hash join...  [0.618s]\n",
      "Masking low complexity seeds...  [0.018s]\n",
      "Searching alignments...  [0.242s]\n",
      "Processing query block 1, reference block 1/5, shape 2/2, index chunk 3/4.\n",
      "Building reference seed array...  [4.2s]\n",
      "Building query seed array...  [0.053s]\n",
      "Computing hash join...  [1.344s]\n",
      "Masking low complexity seeds...  [0.015s]\n",
      "Searching alignments...  [0.256s]\n",
      "Processing query block 1, reference block 1/5, shape 2/2, index chunk 4/4.\n",
      "Building reference seed array...  [3.588s]\n",
      "Building query seed array...  [0.047s]\n",
      "Computing hash join...  [0.596s]\n",
      "Masking low complexity seeds...  [0.021s]\n",
      "Searching alignments...  [0.25s]\n",
      "Deallocating buffers...  [0.598s]\n",
      "Clearing query masking...  [0.008s]\n",
      "Opening temporary output file...  [0s]\n",
      "Computing alignments...  [4.787s]\n",
      "Deallocating reference...  [0.212s]\n",
      "Loading reference sequences...  [17.816s]\n",
      "Masking reference...  [68.664s]\n",
      "Initializing dictionary...  [0.011s]\n",
      "Initializing temporary storage...  [0.001s]\n",
      "Building reference histograms...  [30.747s]\n",
      "Allocating buffers...  [0s]\n",
      "Processing query block 1, reference block 2/5, shape 1/2, index chunk 1/4.\n",
      "Building reference seed array...  [4.604s]\n",
      "Building query seed array...  [0.06s]\n",
      "Computing hash join...  [0.641s]\n",
      "Masking low complexity seeds...  [0.019s]\n",
      "Searching alignments...  [0.353s]\n",
      "Processing query block 1, reference block 2/5, shape 1/2, index chunk 2/4.\n",
      "Building reference seed array...  [4.063s]\n",
      "Building query seed array...  [0.063s]\n",
      "Computing hash join...  [0.733s]\n",
      "Masking low complexity seeds...  [0.016s]\n",
      "Searching alignments...  [0.264s]\n",
      "Processing query block 1, reference block 2/5, shape 1/2, index chunk 3/4.\n",
      "Building reference seed array...  [4.284s]\n",
      "Building query seed array...  [0.066s]\n",
      "Computing hash join...  [0.564s]\n",
      "Masking low complexity seeds...  [0.023s]\n",
      "Searching alignments...  [0.38s]\n",
      "Processing query block 1, reference block 2/5, shape 1/2, index chunk 4/4.\n",
      "Building reference seed array...  [4.191s]\n",
      "Building query seed array...  [0.052s]\n",
      "Computing hash join...  [0.598s]\n",
      "Masking low complexity seeds...  [0.017s]\n",
      "Searching alignments...  [0.263s]\n",
      "Processing query block 1, reference block 2/5, shape 2/2, index chunk 1/4.\n",
      "Building reference seed array...  [3.913s]\n",
      "Building query seed array...  [0.053s]\n",
      "Computing hash join...  [0.597s]\n",
      "Masking low complexity seeds...  [0.021s]\n",
      "Searching alignments...  [0.253s]\n",
      "Processing query block 1, reference block 2/5, shape 2/2, index chunk 2/4.\n",
      "Building reference seed array...  [3.957s]\n",
      "Building query seed array...  [0.055s]\n",
      "Computing hash join...  [1.005s]\n",
      "Masking low complexity seeds...  [0.017s]\n",
      "Searching alignments...  [0.258s]\n",
      "Processing query block 1, reference block 2/5, shape 2/2, index chunk 3/4.\n",
      "Building reference seed array...  [4.353s]\n",
      "Building query seed array...  [0.061s]\n",
      "Computing hash join...  [0.589s]\n",
      "Masking low complexity seeds...  [0.027s]\n",
      "Searching alignments...  [0.277s]\n",
      "Processing query block 1, reference block 2/5, shape 2/2, index chunk 4/4.\n",
      "Building reference seed array...  [3.97s]\n",
      "Building query seed array...  [0.054s]\n",
      "Computing hash join...  [0.622s]\n",
      "Masking low complexity seeds...  [0.02s]\n",
      "Searching alignments...  [0.423s]\n",
      "Deallocating buffers...  [0.652s]\n",
      "Clearing query masking...  [0.008s]\n",
      "Opening temporary output file...  [0.008s]\n",
      "Computing alignments...  [3.613s]\n",
      "Deallocating reference...  [0.249s]\n",
      "Loading reference sequences...  [18.086s]\n",
      "Masking reference...  [57.418s]\n",
      "Initializing dictionary...  [0.01s]\n",
      "Initializing temporary storage...  [0.001s]\n",
      "Building reference histograms...  [36.358s]\n",
      "Allocating buffers...  [0s]\n",
      "Processing query block 1, reference block 3/5, shape 1/2, index chunk 1/4.\n",
      "Building reference seed array...  [5.36s]\n",
      "Building query seed array...  [0.078s]\n",
      "Computing hash join...  [1.007s]\n",
      "Masking low complexity seeds...  [0.023s]\n",
      "Searching alignments...  [0.37s]\n",
      "Processing query block 1, reference block 3/5, shape 1/2, index chunk 2/4.\n",
      "Building reference seed array...  [3.973s]\n",
      "Building query seed array...  [0.055s]\n",
      "Computing hash join...  [0.585s]\n",
      "Masking low complexity seeds...  [0.027s]\n",
      "Searching alignments...  [0.28s]\n",
      "Processing query block 1, reference block 3/5, shape 1/2, index chunk 3/4.\n",
      "Building reference seed array...  [4.455s]\n",
      "Building query seed array...  [0.055s]\n",
      "Computing hash join...  [0.56s]\n",
      "Masking low complexity seeds...  [0.021s]\n",
      "Searching alignments...  [0.325s]\n",
      "Processing query block 1, reference block 3/5, shape 1/2, index chunk 4/4.\n",
      "Building reference seed array...  [3.569s]\n",
      "Building query seed array...  [0.053s]\n",
      "Computing hash join...  [0.586s]\n",
      "Masking low complexity seeds...  [0.015s]\n",
      "Searching alignments...  [0.258s]\n",
      "Processing query block 1, reference block 3/5, shape 2/2, index chunk 1/4.\n",
      "Building reference seed array...  [3.929s]\n",
      "Building query seed array...  [0.06s]\n",
      "Computing hash join...  [0.644s]\n",
      "Masking low complexity seeds...  [0.019s]\n",
      "Searching alignments...  [0.255s]\n",
      "Processing query block 1, reference block 3/5, shape 2/2, index chunk 2/4.\n",
      "Building reference seed array...  [3.935s]\n",
      "Building query seed array...  [0.054s]\n",
      "Computing hash join...  [0.602s]\n",
      "Masking low complexity seeds...  [0.018s]\n",
      "Searching alignments...  [0.258s]\n",
      "Processing query block 1, reference block 3/5, shape 2/2, index chunk 3/4.\n",
      "Building reference seed array...  [4.349s]\n",
      "Building query seed array...  [0.057s]\n",
      "Computing hash join...  [0.741s]\n",
      "Masking low complexity seeds...  [0.015s]\n",
      "Searching alignments...  [0.237s]\n",
      "Processing query block 1, reference block 3/5, shape 2/2, index chunk 4/4.\n",
      "Building reference seed array...  [3.635s]\n",
      "Building query seed array...  [0.051s]\n",
      "Computing hash join...  [0.587s]\n",
      "Masking low complexity seeds...  [0.02s]\n",
      "Searching alignments...  [0.253s]\n",
      "Deallocating buffers...  [0.544s]\n",
      "Clearing query masking...  [0.008s]\n",
      "Opening temporary output file...  [0s]\n",
      "Computing alignments...  [5.23s]\n",
      "Deallocating reference...  [0.239s]\n",
      "Loading reference sequences...  [20.524s]\n",
      "Masking reference...  [79.369s]\n",
      "Initializing dictionary...  [0.011s]\n",
      "Initializing temporary storage...  [0s]\n",
      "Building reference histograms...  [33.324s]\n",
      "Allocating buffers...  [0s]\n",
      "Processing query block 1, reference block 4/5, shape 1/2, index chunk 1/4.\n",
      "Building reference seed array...  [5.105s]\n",
      "Building query seed array...  [0.067s]\n",
      "Computing hash join...  [1.003s]\n",
      "Masking low complexity seeds...  [0.017s]\n",
      "Searching alignments...  [0.433s]\n",
      "Processing query block 1, reference block 4/5, shape 1/2, index chunk 2/4.\n",
      "Building reference seed array...  [3.982s]\n",
      "Building query seed array...  [0.061s]\n",
      "Computing hash join...  [0.574s]\n",
      "Masking low complexity seeds...  [0.02s]\n",
      "Searching alignments...  [0.286s]\n",
      "Processing query block 1, reference block 4/5, shape 1/2, index chunk 3/4.\n",
      "Building reference seed array...  [4.264s]\n",
      "Building query seed array...  [0.059s]\n",
      "Computing hash join...  [0.615s]\n",
      "Masking low complexity seeds...  [0.022s]\n",
      "Searching alignments...  [0.287s]\n",
      "Processing query block 1, reference block 4/5, shape 1/2, index chunk 4/4.\n",
      "Building reference seed array...  [3.652s]\n",
      "Building query seed array...  [0.066s]\n",
      "Computing hash join...  [0.602s]\n",
      "Masking low complexity seeds...  [0.028s]\n",
      "Searching alignments...  [0.279s]\n",
      "Processing query block 1, reference block 4/5, shape 2/2, index chunk 1/4.\n",
      "Building reference seed array...  [4.174s]\n",
      "Building query seed array...  [0.066s]\n",
      "Computing hash join...  [0.597s]\n",
      "Masking low complexity seeds...  [0.019s]\n",
      "Searching alignments...  [0.255s]\n",
      "Processing query block 1, reference block 4/5, shape 2/2, index chunk 2/4.\n",
      "Building reference seed array...  [4.373s]\n",
      "Building query seed array...  [0.053s]\n",
      "Computing hash join...  [0.612s]\n",
      "Masking low complexity seeds...  [0.021s]\n",
      "Searching alignments...  [0.264s]\n",
      "Processing query block 1, reference block 4/5, shape 2/2, index chunk 3/4.\n",
      "Building reference seed array...  [4.131s]\n",
      "Building query seed array...  [0.061s]\n",
      "Computing hash join...  [0.614s]\n",
      "Masking low complexity seeds...  [0.017s]\n",
      "Searching alignments...  [0.248s]\n",
      "Processing query block 1, reference block 4/5, shape 2/2, index chunk 4/4.\n",
      "Building reference seed array...  [4.428s]\n",
      "Building query seed array...  [0.172s]\n",
      "Computing hash join...  [0.679s]\n",
      "Masking low complexity seeds...  [0.016s]\n",
      "Searching alignments...  [0.255s]\n",
      "Deallocating buffers...  [0.783s]\n",
      "Clearing query masking...  [0.009s]\n",
      "Opening temporary output file...  [0s]\n",
      "Computing alignments...  [4.236s]\n",
      "Deallocating reference...  [0.242s]\n",
      "Loading reference sequences...  [0.511s]\n",
      "Masking reference...  [0.157s]\n",
      "Initializing dictionary...  [0s]\n",
      "Initializing temporary storage...  [0.001s]\n",
      "Building reference histograms...  [0.176s]\n",
      "Allocating buffers...  [0s]\n",
      "Processing query block 1, reference block 5/5, shape 1/2, index chunk 1/4.\n",
      "Building reference seed array...  [0.065s]\n",
      "Building query seed array...  [0.087s]\n",
      "Computing hash join...  [0.032s]\n",
      "Masking low complexity seeds...  [0.017s]\n",
      "Searching alignments...  [0.012s]\n",
      "Processing query block 1, reference block 5/5, shape 1/2, index chunk 2/4.\n",
      "Building reference seed array...  [0.056s]\n",
      "Building query seed array...  [0.056s]\n",
      "Computing hash join...  [0.017s]\n",
      "Masking low complexity seeds...  [0.003s]\n",
      "Searching alignments...  [0.009s]\n",
      "Processing query block 1, reference block 5/5, shape 1/2, index chunk 3/4.\n",
      "Building reference seed array...  [0.063s]\n",
      "Building query seed array...  [0.057s]\n",
      "Computing hash join...  [0.016s]\n",
      "Masking low complexity seeds...  [0.003s]\n",
      "Searching alignments...  [0.008s]\n",
      "Processing query block 1, reference block 5/5, shape 1/2, index chunk 4/4.\n",
      "Building reference seed array...  [0.057s]\n",
      "Building query seed array...  [0.053s]\n",
      "Computing hash join...  [0.017s]\n",
      "Masking low complexity seeds...  [0.003s]\n",
      "Searching alignments...  [0.008s]\n",
      "Processing query block 1, reference block 5/5, shape 2/2, index chunk 1/4.\n",
      "Building reference seed array...  [0.053s]\n",
      "Building query seed array...  [0.054s]\n",
      "Computing hash join...  [0.017s]\n",
      "Masking low complexity seeds...  [0.003s]\n",
      "Searching alignments...  [0.009s]\n",
      "Processing query block 1, reference block 5/5, shape 2/2, index chunk 2/4.\n",
      "Building reference seed array...  [0.061s]\n",
      "Building query seed array...  [0.055s]\n",
      "Computing hash join...  [0.024s]\n",
      "Masking low complexity seeds...  [0.003s]\n",
      "Searching alignments...  [0.01s]\n",
      "Processing query block 1, reference block 5/5, shape 2/2, index chunk 3/4.\n",
      "Building reference seed array...  [0.067s]\n",
      "Building query seed array...  [0.066s]\n",
      "Computing hash join...  [0.017s]\n",
      "Masking low complexity seeds...  [0.003s]\n",
      "Searching alignments...  [0.008s]\n",
      "Processing query block 1, reference block 5/5, shape 2/2, index chunk 4/4.\n",
      "Building reference seed array...  [0.05s]\n",
      "Building query seed array...  [0.049s]\n",
      "Computing hash join...  [0.014s]\n",
      "Masking low complexity seeds...  [0.003s]\n",
      "Searching alignments...  [0.009s]\n",
      "Deallocating buffers...  [0.004s]\n",
      "Clearing query masking...  [0.009s]\n",
      "Opening temporary output file...  [0s]\n",
      "Computing alignments...  [0.283s]\n",
      "Deallocating reference...  [0s]\n",
      "Loading reference sequences...  [0s]\n",
      "Deallocating buffers...  [0.016s]\n",
      "Joining output blocks... Joining output blocks...  [0.588s]\n",
      " [0.725s]\n",
      "Deallocating queries...  [0.014s]\n",
      "Loading query sequences...  [0.011s]\n",
      "Closing the input file...  [0s]\n",
      "Closing the output file...  [0.035s]\n",
      "Cleaning up...  [0s]\n",
      "Total time = 601.901s\n",
      "Reported 357583 pairwise alignments, 357583 HSPs.\n",
      "18316 queries aligned.\n"
     ]
    }
   ],
   "source": [
    "!./diamond blastx -d ./DIAMOND/diamond_output.dmnd\\\n",
    "                  -q ./blastx_query_13980507.txt\\\n",
    "                  -o ./matches.tsv"
   ]
  },
  {
   "cell_type": "code",
   "execution_count": null,
   "metadata": {
    "hidden": true
   },
   "outputs": [],
   "source": []
  }
 ],
 "metadata": {
  "hide_input": false,
  "kernelspec": {
   "display_name": "Python 3",
   "language": "python",
   "name": "python3"
  },
  "language_info": {
   "codemirror_mode": {
    "name": "ipython",
    "version": 3
   },
   "file_extension": ".py",
   "mimetype": "text/x-python",
   "name": "python",
   "nbconvert_exporter": "python",
   "pygments_lexer": "ipython3",
   "version": "3.8.10"
  },
  "varInspector": {
   "cols": {
    "lenName": 16,
    "lenType": 16,
    "lenVar": 40
   },
   "kernels_config": {
    "python": {
     "delete_cmd_postfix": "",
     "delete_cmd_prefix": "del ",
     "library": "var_list.py",
     "varRefreshCmd": "print(var_dic_list())"
    },
    "r": {
     "delete_cmd_postfix": ") ",
     "delete_cmd_prefix": "rm(",
     "library": "var_list.r",
     "varRefreshCmd": "cat(var_dic_list()) "
    }
   },
   "types_to_exclude": [
    "module",
    "function",
    "builtin_function_or_method",
    "instance",
    "_Feature"
   ],
   "window_display": false
  }
 },
 "nbformat": 4,
 "nbformat_minor": 4
}
