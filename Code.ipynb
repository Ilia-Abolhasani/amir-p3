{
 "cells": [
  {
   "cell_type": "markdown",
   "metadata": {
    "heading_collapsed": true
   },
   "source": [
    "# Common"
   ]
  },
  {
   "cell_type": "code",
   "execution_count": 239,
   "metadata": {
    "ExecuteTime": {
     "end_time": "2021-11-01T17:58:14.558052Z",
     "start_time": "2021-11-01T17:58:14.553112Z"
    },
    "hidden": true
   },
   "outputs": [],
   "source": [
    "import numpy as np\n",
    "import pandas as pd\n",
    "from tqdm import tqdm  # !pip install tqdm\n",
    "from tqdm import trange\n",
    "import multiprocessing as mp\n",
    "import shutil\n",
    "import os"
   ]
  },
  {
   "cell_type": "code",
   "execution_count": 240,
   "metadata": {
    "ExecuteTime": {
     "end_time": "2021-11-01T17:58:15.563216Z",
     "start_time": "2021-11-01T17:58:15.558014Z"
    },
    "hidden": true
   },
   "outputs": [],
   "source": [
    "def bracket_row(row):    \n",
    "    s = row['data']\n",
    "    index = min(s.find('.'), s.find('('))\n",
    "    data = row['data']\n",
    "    row['data'] = data[0:index]\n",
    "    row['bracket'] = data[index:]\n",
    "    return row"
   ]
  },
  {
   "cell_type": "code",
   "execution_count": 137,
   "metadata": {
    "ExecuteTime": {
     "end_time": "2021-10-31T17:36:47.480779Z",
     "start_time": "2021-10-31T17:36:47.475581Z"
    },
    "hidden": true
   },
   "outputs": [],
   "source": [
    "def adjust(text,n=7):\n",
    "    text = str(text)    \n",
    "    return \" \" * (n - len(text)) + text"
   ]
  },
  {
   "cell_type": "code",
   "execution_count": 246,
   "metadata": {
    "ExecuteTime": {
     "end_time": "2021-11-01T18:00:17.079358Z",
     "start_time": "2021-11-01T18:00:17.068504Z"
    },
    "hidden": true
   },
   "outputs": [],
   "source": [
    "def bracket_to_ct(tag, data, bracket, deltaG, negative_deltaG=True):    \n",
    "    deltaG = deltaG.replace('(','').replace(')','')\n",
    "    deltaG = float(deltaG)\n",
    "    if(deltaG > 0 and negative_deltaG ): # negetive?!\n",
    "        deltaG = -1 * deltaG\n",
    "    stack = []\n",
    "    index = np.zeros((len(bracket)), dtype = int)\n",
    "    values = np.zeros((len(bracket)), dtype = int)\n",
    "    for i in range(len(bracket)):\n",
    "        index[i] = i + 1\n",
    "        if(bracket[i] == '.'):\n",
    "            values[i] = 0\n",
    "        elif(bracket[i] == '('):\n",
    "            stack.append(i)\n",
    "        elif(bracket[i] == ')'):\n",
    "            if(len(stack) == 0 ):\n",
    "                print('structure error!')\n",
    "            values[stack[-1]] = i + 1\n",
    "            values[i]  = stack[-1] + 1\n",
    "            stack.pop()\n",
    "        else:\n",
    "            print('structure error!')\n",
    "    if(len(stack) != 0 ):\n",
    "        print('structure error!')\n",
    "    # body    \n",
    "    ct = f\"{adjust(len(data),6)} dG ={adjust(deltaG,10)} {tag}\\n\"   \n",
    "    for i in range(len(bracket)):\n",
    "        ct += f\"{adjust(index[i],6)} {data[i]} {adjust(i,6)} {adjust((i+2)%(len(data)+1),6)} {adjust(values[i],6)} {adjust(index[i],7)}\\n\"\n",
    "    return ct"
   ]
  },
  {
   "cell_type": "code",
   "execution_count": 48,
   "metadata": {
    "ExecuteTime": {
     "end_time": "2021-10-31T16:09:21.362724Z",
     "start_time": "2021-10-31T16:09:21.348158Z"
    },
    "hidden": true
   },
   "outputs": [],
   "source": [
    "def fasta_to_df(path):\n",
    "    with open(path, 'r') as file:\n",
    "        text = file.read()\n",
    "    lines = [line for line in text.split('\\n') if len(line) > 0]\n",
    "    s = ''\n",
    "    tags = []\n",
    "    data = []\n",
    "    for l in lines:\n",
    "        if(l[0]=='>'):\n",
    "            tags.append(l)        \n",
    "            data.append(s)\n",
    "            s = ''\n",
    "        else:\n",
    "            s += l    \n",
    "    data.append(s)\n",
    "    df = pd.DataFrame(\n",
    "            {\n",
    "                'tag': tags,\n",
    "                'data': data[1:]\n",
    "            })\n",
    "    df['tag'] = df['tag'].apply(lambda x: x[1:])    \n",
    "    return df"
   ]
  },
  {
   "cell_type": "code",
   "execution_count": 49,
   "metadata": {
    "ExecuteTime": {
     "end_time": "2021-10-31T16:09:21.814167Z",
     "start_time": "2021-10-31T16:09:21.809261Z"
    },
    "hidden": true
   },
   "outputs": [],
   "source": [
    "def df_to_fasta(df, path):\n",
    "    lines = []\n",
    "    df.apply(lambda row: lines.append(f\">{row['tag']}\\n{row['data']}\\n\"),axis=1)\n",
    "    with open(path,'w') as file:\n",
    "        file.write(''.join(lines))"
   ]
  },
  {
   "cell_type": "code",
   "execution_count": 270,
   "metadata": {
    "ExecuteTime": {
     "end_time": "2021-11-01T18:10:38.412266Z",
     "start_time": "2021-11-01T18:10:38.407423Z"
    },
    "hidden": true
   },
   "outputs": [],
   "source": [
    "def reformat(path):\n",
    "    return path.replace('(','_').replace(')','_').replace('.','').replace(':','_')"
   ]
  },
  {
   "cell_type": "markdown",
   "metadata": {
    "hidden": true
   },
   "source": [
    "### rename tag of input genome to new tag id"
   ]
  },
  {
   "cell_type": "markdown",
   "metadata": {
    "heading_collapsed": true
   },
   "source": [
    "# Download dataset"
   ]
  },
  {
   "cell_type": "code",
   "execution_count": 186,
   "metadata": {
    "ExecuteTime": {
     "end_time": "2021-10-24T13:30:29.392160Z",
     "start_time": "2021-10-24T13:30:24.140263Z"
    },
    "hidden": true
   },
   "outputs": [
    {
     "name": "stdout",
     "output_type": "stream",
     "text": [
      "{'Count': '3344178', 'RetMax': '20', 'RetStart': '0', 'IdList': ['2112722214', '2112720223', '2112718526', '2112713974', '2112712776', '2112711465', '2112710136', '2112708929', '2112707731', '2112706611', '2112705454', '2112704446', '2112703491', '2112702625', '2112701442', '2112700588', '2112699487', '2112698892', '2112697886', '2112697471'], 'TranslationSet': [{'From': 'Arabidopsis thaliana', 'To': '\"Arabidopsis thaliana\"[Organism] OR Arabidopsis thaliana[All Fields]'}], 'TranslationStack': [{'Term': '\"Arabidopsis thaliana\"[Organism]', 'Field': 'Organism', 'Count': '2700195', 'Explode': 'Y'}, {'Term': 'Arabidopsis thaliana[All Fields]', 'Field': 'All Fields', 'Count': '3344178', 'Explode': 'N'}, 'OR', 'GROUP'], 'QueryTranslation': '\"Arabidopsis thaliana\"[Organism] OR Arabidopsis thaliana[All Fields]'}\n",
      "2112722214\n"
     ]
    },
    {
     "ename": "KeyboardInterrupt",
     "evalue": "",
     "output_type": "error",
     "traceback": [
      "\u001b[0;31m---------------------------------------------------------------------------\u001b[0m",
      "\u001b[0;31mKeyboardInterrupt\u001b[0m                         Traceback (most recent call last)",
      "\u001b[0;32m<ipython-input-186-1d824c9e0dcc>\u001b[0m in \u001b[0;36m<module>\u001b[0;34m\u001b[0m\n\u001b[1;32m     11\u001b[0m     \u001b[0mrecord\u001b[0m \u001b[0;34m=\u001b[0m \u001b[0mEntrez\u001b[0m\u001b[0;34m.\u001b[0m\u001b[0mefetch\u001b[0m\u001b[0;34m(\u001b[0m\u001b[0mdb\u001b[0m\u001b[0;34m=\u001b[0m\u001b[0;34m\"nucleotide\"\u001b[0m\u001b[0;34m,\u001b[0m \u001b[0mid\u001b[0m\u001b[0;34m=\u001b[0m\u001b[0mgenome_id\u001b[0m\u001b[0;34m,\u001b[0m \u001b[0mrettype\u001b[0m\u001b[0;34m=\u001b[0m\u001b[0;34m\"fasta\"\u001b[0m\u001b[0;34m,\u001b[0m \u001b[0mretmode\u001b[0m\u001b[0;34m=\u001b[0m\u001b[0;34m\"text\"\u001b[0m\u001b[0;34m)\u001b[0m\u001b[0;34m\u001b[0m\u001b[0;34m\u001b[0m\u001b[0m\n\u001b[1;32m     12\u001b[0m     \u001b[0;32mwith\u001b[0m \u001b[0mopen\u001b[0m\u001b[0;34m(\u001b[0m\u001b[0;34mf'{genome_id}.fasta'\u001b[0m\u001b[0;34m,\u001b[0m \u001b[0;34m'w'\u001b[0m\u001b[0;34m)\u001b[0m \u001b[0;32mas\u001b[0m \u001b[0mf\u001b[0m\u001b[0;34m:\u001b[0m\u001b[0;34m\u001b[0m\u001b[0;34m\u001b[0m\u001b[0m\n\u001b[0;32m---> 13\u001b[0;31m         \u001b[0mf\u001b[0m\u001b[0;34m.\u001b[0m\u001b[0mwrite\u001b[0m\u001b[0;34m(\u001b[0m\u001b[0mrecord\u001b[0m\u001b[0;34m.\u001b[0m\u001b[0mread\u001b[0m\u001b[0;34m(\u001b[0m\u001b[0;34m)\u001b[0m\u001b[0;34m)\u001b[0m\u001b[0;34m\u001b[0m\u001b[0;34m\u001b[0m\u001b[0m\n\u001b[0m\u001b[1;32m     14\u001b[0m     \u001b[0;32mbreak\u001b[0m\u001b[0;34m\u001b[0m\u001b[0;34m\u001b[0m\u001b[0m\n",
      "\u001b[0;32m/usr/lib/python3.8/http/client.py\u001b[0m in \u001b[0;36mread\u001b[0;34m(self, amt)\u001b[0m\n\u001b[1;32m    460\u001b[0m \u001b[0;34m\u001b[0m\u001b[0m\n\u001b[1;32m    461\u001b[0m             \u001b[0;32mif\u001b[0m \u001b[0mself\u001b[0m\u001b[0;34m.\u001b[0m\u001b[0mchunked\u001b[0m\u001b[0;34m:\u001b[0m\u001b[0;34m\u001b[0m\u001b[0;34m\u001b[0m\u001b[0m\n\u001b[0;32m--> 462\u001b[0;31m                 \u001b[0;32mreturn\u001b[0m \u001b[0mself\u001b[0m\u001b[0;34m.\u001b[0m\u001b[0m_readall_chunked\u001b[0m\u001b[0;34m(\u001b[0m\u001b[0;34m)\u001b[0m\u001b[0;34m\u001b[0m\u001b[0;34m\u001b[0m\u001b[0m\n\u001b[0m\u001b[1;32m    463\u001b[0m \u001b[0;34m\u001b[0m\u001b[0m\n\u001b[1;32m    464\u001b[0m             \u001b[0;32mif\u001b[0m \u001b[0mself\u001b[0m\u001b[0;34m.\u001b[0m\u001b[0mlength\u001b[0m \u001b[0;32mis\u001b[0m \u001b[0;32mNone\u001b[0m\u001b[0;34m:\u001b[0m\u001b[0;34m\u001b[0m\u001b[0;34m\u001b[0m\u001b[0m\n",
      "\u001b[0;32m/usr/lib/python3.8/http/client.py\u001b[0m in \u001b[0;36m_readall_chunked\u001b[0;34m(self)\u001b[0m\n\u001b[1;32m    570\u001b[0m                 \u001b[0;32mif\u001b[0m \u001b[0mchunk_left\u001b[0m \u001b[0;32mis\u001b[0m \u001b[0;32mNone\u001b[0m\u001b[0;34m:\u001b[0m\u001b[0;34m\u001b[0m\u001b[0;34m\u001b[0m\u001b[0m\n\u001b[1;32m    571\u001b[0m                     \u001b[0;32mbreak\u001b[0m\u001b[0;34m\u001b[0m\u001b[0;34m\u001b[0m\u001b[0m\n\u001b[0;32m--> 572\u001b[0;31m                 \u001b[0mvalue\u001b[0m\u001b[0;34m.\u001b[0m\u001b[0mappend\u001b[0m\u001b[0;34m(\u001b[0m\u001b[0mself\u001b[0m\u001b[0;34m.\u001b[0m\u001b[0m_safe_read\u001b[0m\u001b[0;34m(\u001b[0m\u001b[0mchunk_left\u001b[0m\u001b[0;34m)\u001b[0m\u001b[0;34m)\u001b[0m\u001b[0;34m\u001b[0m\u001b[0;34m\u001b[0m\u001b[0m\n\u001b[0m\u001b[1;32m    573\u001b[0m                 \u001b[0mself\u001b[0m\u001b[0;34m.\u001b[0m\u001b[0mchunk_left\u001b[0m \u001b[0;34m=\u001b[0m \u001b[0;36m0\u001b[0m\u001b[0;34m\u001b[0m\u001b[0;34m\u001b[0m\u001b[0m\n\u001b[1;32m    574\u001b[0m             \u001b[0;32mreturn\u001b[0m \u001b[0;34mb''\u001b[0m\u001b[0;34m.\u001b[0m\u001b[0mjoin\u001b[0m\u001b[0;34m(\u001b[0m\u001b[0mvalue\u001b[0m\u001b[0;34m)\u001b[0m\u001b[0;34m\u001b[0m\u001b[0;34m\u001b[0m\u001b[0m\n",
      "\u001b[0;32m/usr/lib/python3.8/http/client.py\u001b[0m in \u001b[0;36m_safe_read\u001b[0;34m(self, amt)\u001b[0m\n\u001b[1;32m    607\u001b[0m         \u001b[0mIncompleteRead\u001b[0m \u001b[0mexception\u001b[0m \u001b[0mcan\u001b[0m \u001b[0mbe\u001b[0m \u001b[0mused\u001b[0m \u001b[0mto\u001b[0m \u001b[0mdetect\u001b[0m \u001b[0mthe\u001b[0m \u001b[0mproblem\u001b[0m\u001b[0;34m.\u001b[0m\u001b[0;34m\u001b[0m\u001b[0;34m\u001b[0m\u001b[0m\n\u001b[1;32m    608\u001b[0m         \"\"\"\n\u001b[0;32m--> 609\u001b[0;31m         \u001b[0mdata\u001b[0m \u001b[0;34m=\u001b[0m \u001b[0mself\u001b[0m\u001b[0;34m.\u001b[0m\u001b[0mfp\u001b[0m\u001b[0;34m.\u001b[0m\u001b[0mread\u001b[0m\u001b[0;34m(\u001b[0m\u001b[0mamt\u001b[0m\u001b[0;34m)\u001b[0m\u001b[0;34m\u001b[0m\u001b[0;34m\u001b[0m\u001b[0m\n\u001b[0m\u001b[1;32m    610\u001b[0m         \u001b[0;32mif\u001b[0m \u001b[0mlen\u001b[0m\u001b[0;34m(\u001b[0m\u001b[0mdata\u001b[0m\u001b[0;34m)\u001b[0m \u001b[0;34m<\u001b[0m \u001b[0mamt\u001b[0m\u001b[0;34m:\u001b[0m\u001b[0;34m\u001b[0m\u001b[0;34m\u001b[0m\u001b[0m\n\u001b[1;32m    611\u001b[0m             \u001b[0;32mraise\u001b[0m \u001b[0mIncompleteRead\u001b[0m\u001b[0;34m(\u001b[0m\u001b[0mdata\u001b[0m\u001b[0;34m,\u001b[0m \u001b[0mamt\u001b[0m\u001b[0;34m-\u001b[0m\u001b[0mlen\u001b[0m\u001b[0;34m(\u001b[0m\u001b[0mdata\u001b[0m\u001b[0;34m)\u001b[0m\u001b[0;34m)\u001b[0m\u001b[0;34m\u001b[0m\u001b[0;34m\u001b[0m\u001b[0m\n",
      "\u001b[0;32m/usr/lib/python3.8/socket.py\u001b[0m in \u001b[0;36mreadinto\u001b[0;34m(self, b)\u001b[0m\n\u001b[1;32m    667\u001b[0m         \u001b[0;32mwhile\u001b[0m \u001b[0;32mTrue\u001b[0m\u001b[0;34m:\u001b[0m\u001b[0;34m\u001b[0m\u001b[0;34m\u001b[0m\u001b[0m\n\u001b[1;32m    668\u001b[0m             \u001b[0;32mtry\u001b[0m\u001b[0;34m:\u001b[0m\u001b[0;34m\u001b[0m\u001b[0;34m\u001b[0m\u001b[0m\n\u001b[0;32m--> 669\u001b[0;31m                 \u001b[0;32mreturn\u001b[0m \u001b[0mself\u001b[0m\u001b[0;34m.\u001b[0m\u001b[0m_sock\u001b[0m\u001b[0;34m.\u001b[0m\u001b[0mrecv_into\u001b[0m\u001b[0;34m(\u001b[0m\u001b[0mb\u001b[0m\u001b[0;34m)\u001b[0m\u001b[0;34m\u001b[0m\u001b[0;34m\u001b[0m\u001b[0m\n\u001b[0m\u001b[1;32m    670\u001b[0m             \u001b[0;32mexcept\u001b[0m \u001b[0mtimeout\u001b[0m\u001b[0;34m:\u001b[0m\u001b[0;34m\u001b[0m\u001b[0;34m\u001b[0m\u001b[0m\n\u001b[1;32m    671\u001b[0m                 \u001b[0mself\u001b[0m\u001b[0;34m.\u001b[0m\u001b[0m_timeout_occurred\u001b[0m \u001b[0;34m=\u001b[0m \u001b[0;32mTrue\u001b[0m\u001b[0;34m\u001b[0m\u001b[0;34m\u001b[0m\u001b[0m\n",
      "\u001b[0;32m/usr/lib/python3.8/ssl.py\u001b[0m in \u001b[0;36mrecv_into\u001b[0;34m(self, buffer, nbytes, flags)\u001b[0m\n\u001b[1;32m   1239\u001b[0m                   \u001b[0;34m\"non-zero flags not allowed in calls to recv_into() on %s\"\u001b[0m \u001b[0;34m%\u001b[0m\u001b[0;34m\u001b[0m\u001b[0;34m\u001b[0m\u001b[0m\n\u001b[1;32m   1240\u001b[0m                   self.__class__)\n\u001b[0;32m-> 1241\u001b[0;31m             \u001b[0;32mreturn\u001b[0m \u001b[0mself\u001b[0m\u001b[0;34m.\u001b[0m\u001b[0mread\u001b[0m\u001b[0;34m(\u001b[0m\u001b[0mnbytes\u001b[0m\u001b[0;34m,\u001b[0m \u001b[0mbuffer\u001b[0m\u001b[0;34m)\u001b[0m\u001b[0;34m\u001b[0m\u001b[0;34m\u001b[0m\u001b[0m\n\u001b[0m\u001b[1;32m   1242\u001b[0m         \u001b[0;32melse\u001b[0m\u001b[0;34m:\u001b[0m\u001b[0;34m\u001b[0m\u001b[0;34m\u001b[0m\u001b[0m\n\u001b[1;32m   1243\u001b[0m             \u001b[0;32mreturn\u001b[0m \u001b[0msuper\u001b[0m\u001b[0;34m(\u001b[0m\u001b[0;34m)\u001b[0m\u001b[0;34m.\u001b[0m\u001b[0mrecv_into\u001b[0m\u001b[0;34m(\u001b[0m\u001b[0mbuffer\u001b[0m\u001b[0;34m,\u001b[0m \u001b[0mnbytes\u001b[0m\u001b[0;34m,\u001b[0m \u001b[0mflags\u001b[0m\u001b[0;34m)\u001b[0m\u001b[0;34m\u001b[0m\u001b[0;34m\u001b[0m\u001b[0m\n",
      "\u001b[0;32m/usr/lib/python3.8/ssl.py\u001b[0m in \u001b[0;36mread\u001b[0;34m(self, len, buffer)\u001b[0m\n\u001b[1;32m   1097\u001b[0m         \u001b[0;32mtry\u001b[0m\u001b[0;34m:\u001b[0m\u001b[0;34m\u001b[0m\u001b[0;34m\u001b[0m\u001b[0m\n\u001b[1;32m   1098\u001b[0m             \u001b[0;32mif\u001b[0m \u001b[0mbuffer\u001b[0m \u001b[0;32mis\u001b[0m \u001b[0;32mnot\u001b[0m \u001b[0;32mNone\u001b[0m\u001b[0;34m:\u001b[0m\u001b[0;34m\u001b[0m\u001b[0;34m\u001b[0m\u001b[0m\n\u001b[0;32m-> 1099\u001b[0;31m                 \u001b[0;32mreturn\u001b[0m \u001b[0mself\u001b[0m\u001b[0;34m.\u001b[0m\u001b[0m_sslobj\u001b[0m\u001b[0;34m.\u001b[0m\u001b[0mread\u001b[0m\u001b[0;34m(\u001b[0m\u001b[0mlen\u001b[0m\u001b[0;34m,\u001b[0m \u001b[0mbuffer\u001b[0m\u001b[0;34m)\u001b[0m\u001b[0;34m\u001b[0m\u001b[0;34m\u001b[0m\u001b[0m\n\u001b[0m\u001b[1;32m   1100\u001b[0m             \u001b[0;32melse\u001b[0m\u001b[0;34m:\u001b[0m\u001b[0;34m\u001b[0m\u001b[0;34m\u001b[0m\u001b[0m\n\u001b[1;32m   1101\u001b[0m                 \u001b[0;32mreturn\u001b[0m \u001b[0mself\u001b[0m\u001b[0;34m.\u001b[0m\u001b[0m_sslobj\u001b[0m\u001b[0;34m.\u001b[0m\u001b[0mread\u001b[0m\u001b[0;34m(\u001b[0m\u001b[0mlen\u001b[0m\u001b[0;34m)\u001b[0m\u001b[0;34m\u001b[0m\u001b[0;34m\u001b[0m\u001b[0m\n",
      "\u001b[0;31mKeyboardInterrupt\u001b[0m: "
     ]
    }
   ],
   "source": [
    "from Bio import Entrez\n",
    "Entrez.email = \"abolhasani.eliya@gmail.com\"     \n",
    "with Entrez.esearch(db='nucleotide', term=\"Arabidopsis thaliana\") as handle:\n",
    "    result = Entrez.read(handle)\n",
    "\n",
    "print(result)\n",
    "genome_ids = result['IdList']\n",
    "\n",
    "for genome_id in genome_ids:\n",
    "    print(genome_id)\n",
    "    record = Entrez.efetch(db=\"nucleotide\", id=genome_id, rettype=\"fasta\", retmode=\"text\")        \n",
    "    with open(f'{genome_id}.fasta', 'w') as f:\n",
    "        f.write(record.read())\n",
    "    break"
   ]
  },
  {
   "cell_type": "code",
   "execution_count": 68,
   "metadata": {
    "ExecuteTime": {
     "end_time": "2021-10-20T12:13:59.505631Z",
     "start_time": "2021-10-20T12:13:53.682294Z"
    },
    "hidden": true
   },
   "outputs": [],
   "source": [
    "from Bio import Entrez\n",
    "Entrez.email = \"abolhasani.eliya@gmail.com\"     \n",
    "record = Entrez.efetch(db=\"nucleotide\", id=\"NC_054143.4\", rettype=\"fasta\", retmode=\"text\")        \n",
    "with open(f'data.fasta', 'w') as f:\n",
    "    f.write(record.read())"
   ]
  },
  {
   "cell_type": "code",
   "execution_count": 259,
   "metadata": {
    "ExecuteTime": {
     "end_time": "2021-10-24T15:35:02.042146Z",
     "start_time": "2021-10-24T15:34:50.501272Z"
    },
    "hidden": true
   },
   "outputs": [
    {
     "name": "stdout",
     "output_type": "stream",
     "text": [
      "--2021-10-24 19:04:50--  https://ftp.ncbi.nlm.nih.gov/genomes/all/GCA/000/439/995/GCA_000439995.3_AzaInd2.1/GCA_000439995.3_AzaInd2.1_genomic.fna.gz\n",
      "Resolving ftp.ncbi.nlm.nih.gov (ftp.ncbi.nlm.nih.gov)... 165.112.9.230, 130.14.250.11, 2607:f220:41f:250::229, ...\n",
      "Connecting to ftp.ncbi.nlm.nih.gov (ftp.ncbi.nlm.nih.gov)|165.112.9.230|:443... connected.\n",
      "HTTP request sent, awaiting response... 200 OK\n",
      "Length: 85647577 (82M) [application/x-gzip]\n",
      "Saving to: ‘GCA_000439995.3_AzaInd2.1_genomic.fna.gz’\n",
      "\n",
      "GCA_000439995.3_Aza 100%[===================>]  81.68M  9.70MB/s    in 10s     \n",
      "\n",
      "2021-10-24 19:05:01 (7.99 MB/s) - ‘GCA_000439995.3_AzaInd2.1_genomic.fna.gz’ saved [85647577/85647577]\n",
      "\n"
     ]
    }
   ],
   "source": [
    "!wget https://ftp.ncbi.nlm.nih.gov/genomes/all/GCA/000/439/995/GCA_000439995.3_AzaInd2.1/GCA_000439995.3_AzaInd2.1_genomic.fna.gz"
   ]
  },
  {
   "cell_type": "code",
   "execution_count": 263,
   "metadata": {
    "ExecuteTime": {
     "end_time": "2021-10-24T15:35:44.724088Z",
     "start_time": "2021-10-24T15:35:41.652464Z"
    },
    "hidden": true
   },
   "outputs": [],
   "source": [
    "!gzip -d ./GCA_000439995.3_AzaInd2.1_genomic.fna.gz"
   ]
  },
  {
   "cell_type": "markdown",
   "metadata": {
    "heading_collapsed": true
   },
   "source": [
    "# Download data from Mirbase"
   ]
  },
  {
   "cell_type": "code",
   "execution_count": 112,
   "metadata": {
    "ExecuteTime": {
     "end_time": "2021-10-21T11:43:19.149122Z",
     "start_time": "2021-10-21T11:42:52.990005Z"
    },
    "hidden": true
   },
   "outputs": [
    {
     "name": "stdout",
     "output_type": "stream",
     "text": [
      "--2021-10-21 15:12:53--  ftp://mirbase.org/pub/mirbase/CURRENT/aliases.txt.gz\n",
      "           => ‘./Data/aliases.txt.gz’\n",
      "Resolving mirbase.org (mirbase.org)... 130.88.97.249\n",
      "Connecting to mirbase.org (mirbase.org)|130.88.97.249|:21... connected.\n",
      "Logging in as anonymous ... Logged in!\n",
      "==> SYST ... done.    ==> PWD ... done.\n",
      "==> TYPE I ... done.  ==> CWD (1) /pub/mirbase/CURRENT ... done.\n",
      "==> SIZE aliases.txt.gz ... 480536\n",
      "==> PASV ... done.    ==> RETR aliases.txt.gz ... done.\n",
      "Length: 480536 (469K) (unauthoritative)\n",
      "\n",
      "aliases.txt.gz      100%[===================>] 469.27K   415KB/s    in 1.1s    \n",
      "\n",
      "2021-10-21 15:12:55 (415 KB/s) - ‘./Data/aliases.txt.gz’ saved [480536]\n",
      "\n",
      "--2021-10-21 15:12:55--  ftp://mirbase.org/pub/mirbase/CURRENT/hairpin.fa.gz\n",
      "           => ‘./Data/hairpin.fa.gz’\n",
      "Resolving mirbase.org (mirbase.org)... 130.88.97.249\n",
      "Connecting to mirbase.org (mirbase.org)|130.88.97.249|:21... connected.\n",
      "Logging in as anonymous ... Logged in!\n",
      "==> SYST ... done.    ==> PWD ... done.\n",
      "==> TYPE I ... done.  ==> CWD (1) /pub/mirbase/CURRENT ... done.\n",
      "==> SIZE hairpin.fa.gz ... 1547350\n",
      "==> PASV ... done.    ==> RETR hairpin.fa.gz ... done.\n",
      "Length: 1547350 (1.5M) (unauthoritative)\n",
      "\n",
      "hairpin.fa.gz       100%[===================>]   1.48M   676KB/s    in 2.2s    \n",
      "\n",
      "2021-10-21 15:12:59 (676 KB/s) - ‘./Data/hairpin.fa.gz’ saved [1547350]\n",
      "\n",
      "--2021-10-21 15:12:59--  ftp://mirbase.org/pub/mirbase/CURRENT/hairpin_high_conf.fa.gz\n",
      "           => ‘./Data/hairpin_high_conf.fa.gz’\n",
      "Resolving mirbase.org (mirbase.org)... 130.88.97.249\n",
      "Connecting to mirbase.org (mirbase.org)|130.88.97.249|:21... connected.\n",
      "Logging in as anonymous ... Logged in!\n",
      "==> SYST ... done.    ==> PWD ... done.\n",
      "==> TYPE I ... done.  ==> CWD (1) /pub/mirbase/CURRENT ... done.\n",
      "==> SIZE hairpin_high_conf.fa.gz ... 129596\n",
      "==> PASV ... done.    ==> RETR hairpin_high_conf.fa.gz ... done.\n",
      "Length: 129596 (127K) (unauthoritative)\n",
      "\n",
      "hairpin_high_conf.f 100%[===================>] 126.56K   286KB/s    in 0.4s    \n",
      "\n",
      "2021-10-21 15:13:01 (286 KB/s) - ‘./Data/hairpin_high_conf.fa.gz’ saved [129596]\n",
      "\n",
      "--2021-10-21 15:13:01--  ftp://mirbase.org/pub/mirbase/CURRENT/mature.fa.gz\n",
      "           => ‘./Data/mature.fa.gz’\n",
      "Resolving mirbase.org (mirbase.org)... 130.88.97.249\n",
      "Connecting to mirbase.org (mirbase.org)|130.88.97.249|:21... connected.\n",
      "Logging in as anonymous ... Logged in!\n",
      "==> SYST ... done.    ==> PWD ... done.\n",
      "==> TYPE I ... done.  ==> CWD (1) /pub/mirbase/CURRENT ... done.\n",
      "==> SIZE mature.fa.gz ... 803746\n",
      "==> PASV ... done.    ==> RETR mature.fa.gz ... done.\n",
      "Length: 803746 (785K) (unauthoritative)\n",
      "\n",
      "mature.fa.gz        100%[===================>] 784.91K   501KB/s    in 1.6s    \n",
      "\n",
      "2021-10-21 15:13:04 (501 KB/s) - ‘./Data/mature.fa.gz’ saved [803746]\n",
      "\n",
      "--2021-10-21 15:13:04--  ftp://mirbase.org/pub/mirbase/CURRENT/mature_high_conf.fa.gz\n",
      "           => ‘./Data/mature_high_conf.fa.gz’\n",
      "Resolving mirbase.org (mirbase.org)... 130.88.97.249\n",
      "Connecting to mirbase.org (mirbase.org)|130.88.97.249|:21... connected.\n",
      "Logging in as anonymous ... Logged in!\n",
      "==> SYST ... done.    ==> PWD ... done.\n",
      "==> TYPE I ... done.  ==> CWD (1) /pub/mirbase/CURRENT ... done.\n",
      "==> SIZE mature_high_conf.fa.gz ... 69381\n",
      "==> PASV ... done.    ==> RETR mature_high_conf.fa.gz ... done.\n",
      "Length: 69381 (68K) (unauthoritative)\n",
      "\n",
      "mature_high_conf.fa 100%[===================>]  67.75K   204KB/s    in 0.3s    \n",
      "\n",
      "2021-10-21 15:13:06 (204 KB/s) - ‘./Data/mature_high_conf.fa.gz’ saved [69381]\n",
      "\n",
      "--2021-10-21 15:13:06--  ftp://mirbase.org/pub/mirbase/CURRENT/miRNA.str.gz\n",
      "           => ‘./Data/miRNA.str.gz’\n",
      "Resolving mirbase.org (mirbase.org)... 130.88.97.249\n",
      "Connecting to mirbase.org (mirbase.org)|130.88.97.249|:21... connected.\n",
      "Logging in as anonymous ... Logged in!\n",
      "==> SYST ... done.    ==> PWD ... done.\n",
      "==> TYPE I ... done.  ==> CWD (1) /pub/mirbase/CURRENT ... done.\n",
      "==> SIZE miRNA.str.gz ... 3373763\n",
      "==> PASV ... done.    ==> RETR miRNA.str.gz ... done.\n",
      "Length: 3373763 (3.2M) (unauthoritative)\n",
      "\n",
      "miRNA.str.gz        100%[===================>]   3.22M   923KB/s    in 3.9s    \n",
      "\n",
      "2021-10-21 15:13:11 (845 KB/s) - ‘./Data/miRNA.str.gz’ saved [3373763]\n",
      "\n",
      "--2021-10-21 15:13:12--  ftp://mirbase.org/pub/mirbase/CURRENT/miRNA.xls.gz\n",
      "           => ‘./Data/miRNA.xls.gz’\n",
      "Resolving mirbase.org (mirbase.org)... 130.88.97.249\n",
      "Connecting to mirbase.org (mirbase.org)|130.88.97.249|:21... connected.\n",
      "Logging in as anonymous ... Logged in!\n",
      "==> SYST ... done.    ==> PWD ... done.\n",
      "==> TYPE I ... done.  ==> CWD (1) /pub/mirbase/CURRENT ... done.\n",
      "==> SIZE miRNA.xls.gz ... 2963404\n",
      "==> PASV ... done.    ==> RETR miRNA.xls.gz ... done.\n",
      "Length: 2963404 (2.8M) (unauthoritative)\n",
      "\n",
      "miRNA.xls.gz        100%[===================>]   2.83M   797KB/s    in 3.8s    \n",
      "\n",
      "2021-10-21 15:13:17 (756 KB/s) - ‘./Data/miRNA.xls.gz’ saved [2963404]\n",
      "\n",
      "--2021-10-21 15:13:17--  ftp://mirbase.org/pub/mirbase/CURRENT/organisms.txt.gz\n",
      "           => ‘./Data/organisms.txt.gz’\n",
      "Resolving mirbase.org (mirbase.org)... 130.88.97.249\n",
      "Connecting to mirbase.org (mirbase.org)|130.88.97.249|:21... connected.\n",
      "Logging in as anonymous ... Logged in!\n",
      "==> SYST ... done.    ==> PWD ... done.\n",
      "==> TYPE I ... done.  ==> CWD (1) /pub/mirbase/CURRENT ... done.\n",
      "==> SIZE organisms.txt.gz ... 6842\n",
      "==> PASV ... done.    ==> RETR organisms.txt.gz ... done.\n",
      "Length: 6842 (6.7K) (unauthoritative)\n",
      "\n",
      "organisms.txt.gz    100%[===================>]   6.68K  --.-KB/s    in 0.007s  \n",
      "\n",
      "2021-10-21 15:13:19 (993 KB/s) - ‘./Data/organisms.txt.gz’ saved [6842]\n",
      "\n"
     ]
    }
   ],
   "source": [
    "base = \"ftp://mirbase.org/pub/mirbase/CURRENT\"\n",
    "!wget {base}/aliases.txt.gz -P ./Data/          ; gzip -d ./Data/aliases.txt.gz \n",
    "!wget {base}/hairpin.fa.gz -P ./Data/           ; gzip -d ./Data/hairpin.fa.gz \n",
    "!wget {base}/hairpin_high_conf.fa.gz -P ./Data/ ; gzip -d ./Data/hairpin_high_conf.fa.gz \n",
    "!wget {base}/mature.fa.gz -P ./Data/            ; gzip -d ./Data/mature.fa.gz \n",
    "!wget {base}/mature_high_conf.fa.gz -P ./Data/  ; gzip -d ./Data/mature_high_conf.fa.gz\n",
    "!wget {base}/miRNA.str.gz -P ./Data/            ; gzip -d ./Data/miRNA.str.gz \n",
    "!wget {base}/miRNA.xls.gz -P ./Data/            ; gzip -d ./Data/miRNA.xls.gz \n",
    "!wget {base}/organisms.txt.gz -P ./Data/        ; gzip -d ./Data/organisms.txt.gz"
   ]
  },
  {
   "cell_type": "code",
   "execution_count": 3,
   "metadata": {
    "ExecuteTime": {
     "end_time": "2021-10-27T16:24:33.436559Z",
     "start_time": "2021-10-27T16:24:33.258604Z"
    },
    "hidden": true
   },
   "outputs": [
    {
     "name": "stdout",
     "output_type": "stream",
     "text": [
      "(48885, 3)\n"
     ]
    },
    {
     "data": {
      "text/html": [
       "<div>\n",
       "<style scoped>\n",
       "    .dataframe tbody tr th:only-of-type {\n",
       "        vertical-align: middle;\n",
       "    }\n",
       "\n",
       "    .dataframe tbody tr th {\n",
       "        vertical-align: top;\n",
       "    }\n",
       "\n",
       "    .dataframe thead th {\n",
       "        text-align: right;\n",
       "    }\n",
       "</style>\n",
       "<table border=\"1\" class=\"dataframe\">\n",
       "  <thead>\n",
       "    <tr style=\"text-align: right;\">\n",
       "      <th></th>\n",
       "      <th>tag</th>\n",
       "      <th>data</th>\n",
       "      <th>organism</th>\n",
       "    </tr>\n",
       "  </thead>\n",
       "  <tbody>\n",
       "    <tr>\n",
       "      <th>0</th>\n",
       "      <td>cel-let-7-5p MIMAT0000001 Caenorhabditis elega...</td>\n",
       "      <td>UGAGGUAGUAGGUUGUAUAGUU</td>\n",
       "      <td>cel</td>\n",
       "    </tr>\n",
       "    <tr>\n",
       "      <th>1</th>\n",
       "      <td>cel-let-7-3p MIMAT0015091 Caenorhabditis elega...</td>\n",
       "      <td>CUAUGCAAUUUUCUACCUUACC</td>\n",
       "      <td>cel</td>\n",
       "    </tr>\n",
       "  </tbody>\n",
       "</table>\n",
       "</div>"
      ],
      "text/plain": [
       "                                                 tag                    data  \\\n",
       "0  cel-let-7-5p MIMAT0000001 Caenorhabditis elega...  UGAGGUAGUAGGUUGUAUAGUU   \n",
       "1  cel-let-7-3p MIMAT0015091 Caenorhabditis elega...  CUAUGCAAUUUUCUACCUUACC   \n",
       "\n",
       "  organism  \n",
       "0      cel  \n",
       "1      cel  "
      ]
     },
     "execution_count": 3,
     "metadata": {},
     "output_type": "execute_result"
    }
   ],
   "source": [
    "df = fasta_to_df('./Data/mature.fa')\n",
    "#df = fasta_to_df('./Data/mature_high_conf.fa')\n",
    "#df = fasta_to_df('./Data/hairpin_high_conf.fa')\n",
    "df['organism'] = df['tag'].apply(lambda x: x[:3])\n",
    "print(df.shape)\n",
    "df.head(2)"
   ]
  },
  {
   "cell_type": "code",
   "execution_count": 5,
   "metadata": {
    "ExecuteTime": {
     "end_time": "2021-10-27T16:24:57.526121Z",
     "start_time": "2021-10-27T16:24:57.507466Z"
    },
    "hidden": true
   },
   "outputs": [
    {
     "name": "stdout",
     "output_type": "stream",
     "text": [
      "(285, 5)\n"
     ]
    },
    {
     "data": {
      "text/html": [
       "<div>\n",
       "<style scoped>\n",
       "    .dataframe tbody tr th:only-of-type {\n",
       "        vertical-align: middle;\n",
       "    }\n",
       "\n",
       "    .dataframe tbody tr th {\n",
       "        vertical-align: top;\n",
       "    }\n",
       "\n",
       "    .dataframe thead th {\n",
       "        text-align: right;\n",
       "    }\n",
       "</style>\n",
       "<table border=\"1\" class=\"dataframe\">\n",
       "  <thead>\n",
       "    <tr style=\"text-align: right;\">\n",
       "      <th></th>\n",
       "      <th>organism</th>\n",
       "      <th>division</th>\n",
       "      <th>name</th>\n",
       "      <th>tree</th>\n",
       "      <th>NCBI-taxid</th>\n",
       "    </tr>\n",
       "  </thead>\n",
       "  <tbody>\n",
       "    <tr>\n",
       "      <th>0</th>\n",
       "      <td>aqu</td>\n",
       "      <td>AQU</td>\n",
       "      <td>Amphimedon queenslandica</td>\n",
       "      <td>Metazoa;Porifera;</td>\n",
       "      <td>400682</td>\n",
       "    </tr>\n",
       "    <tr>\n",
       "      <th>1</th>\n",
       "      <td>nve</td>\n",
       "      <td>NVE</td>\n",
       "      <td>Nematostella vectensis</td>\n",
       "      <td>Metazoa;Cnidaria;</td>\n",
       "      <td>45351</td>\n",
       "    </tr>\n",
       "  </tbody>\n",
       "</table>\n",
       "</div>"
      ],
      "text/plain": [
       "  organism division                      name               tree  NCBI-taxid\n",
       "0      aqu      AQU  Amphimedon queenslandica  Metazoa;Porifera;      400682\n",
       "1      nve      NVE    Nematostella vectensis  Metazoa;Cnidaria;       45351"
      ]
     },
     "execution_count": 5,
     "metadata": {},
     "output_type": "execute_result"
    }
   ],
   "source": [
    "organism = pd.read_csv('./Data/organisms.txt',sep='\\t')\n",
    "organism.columns = [c.replace('#','') for c in organism.columns] # remove sharp from columns\n",
    "print(organism.shape)\n",
    "organism.head(2)"
   ]
  },
  {
   "cell_type": "code",
   "execution_count": 6,
   "metadata": {
    "ExecuteTime": {
     "end_time": "2021-10-27T16:25:01.602243Z",
     "start_time": "2021-10-27T16:25:01.593287Z"
    },
    "hidden": true
   },
   "outputs": [
    {
     "data": {
      "text/plain": [
       "['Viruses;',\n",
       " 'Mycetozoa;',\n",
       " 'Alveolata;',\n",
       " 'Metazoa;Porifera;',\n",
       " 'Metazoa;Cnidaria;',\n",
       " 'Viridiplantae;Chlorophyta;',\n",
       " 'Viridiplantae;Embryophyta;',\n",
       " 'Viridiplantae;Coniferophyta;',\n",
       " 'Viridiplantae;Magnoliophyta;',\n",
       " 'Metazoa;Bilateria;Deuterostoma;',\n",
       " 'Chromalveolata;Heterokontophyta;',\n",
       " 'Metazoa;Bilateria;Ecdysozoa;Nematoda;',\n",
       " 'Metazoa;Bilateria;Lophotrochozoa;Annelida;',\n",
       " 'Metazoa;Bilateria;Lophotrochozoa;Nemertea;',\n",
       " 'Metazoa;Bilateria;Lophotrochozoa;Mollusca;',\n",
       " 'Viridiplantae;Magnoliophyta;monocotyledons;',\n",
       " 'Metazoa;Bilateria;Deuterostoma;Hemichordata;',\n",
       " 'Metazoa;Bilateria;Deuterostoma;Echinodermata;',\n",
       " 'Metazoa;Bilateria;Lophotrochozoa;Brachiopoda;',\n",
       " 'Metazoa;Bilateria;Ecdysozoa;Arthropoda;Hexapoda;',\n",
       " 'Metazoa;Bilateria;Ecdysozoa;Arthropoda;Crustacea;',\n",
       " 'Metazoa;Bilateria;Lophotrochozoa;Platyhelminthes;',\n",
       " 'Metazoa;Bilateria;Ecdysozoa;Arthropoda;Chelicerata;',\n",
       " 'Metazoa;Bilateria;Ecdysozoa;Arthropoda;Mandibulata;',\n",
       " 'Viridiplantae;Magnoliophyta;eudicotyledons;Poaceae;',\n",
       " 'Metazoa;Bilateria;Deuterostoma;Chordata;Urochordata;',\n",
       " 'Viridiplantae;Magnoliophyta;eudicotyledons;Fabaceae;',\n",
       " 'Viridiplantae;Magnoliophyta;eudicotyledons;Vitaceae;',\n",
       " 'Viridiplantae;Magnoliophyta;eudicotyledons;Rosaceae;',\n",
       " 'Viridiplantae;Magnoliophyta;eudicotyledons;Rutaceae;',\n",
       " 'Viridiplantae;Magnoliophyta;eudicotyledons;Lamiales;',\n",
       " 'Viridiplantae;Magnoliophyta;eudicotyledons;Linaceae;',\n",
       " 'Viridiplantae;Magnoliophyta;eudicotyledons;Malvaceae;',\n",
       " 'Viridiplantae;Magnoliophyta;eudicotyledons;Myrtaceae;',\n",
       " 'Viridiplantae;Magnoliophyta;eudicotyledons;Caricaceae;',\n",
       " 'Viridiplantae;Magnoliophyta;eudicotyledons;Salicaceae;',\n",
       " 'Viridiplantae;Magnoliophyta;eudicotyledons;Solanaceae;',\n",
       " 'Viridiplantae;Magnoliophyta;eudicotyledons;Asteraceae;',\n",
       " 'Viridiplantae;Magnoliophyta;eudicotyledons;Araliaceae;',\n",
       " 'Viridiplantae;Magnoliophyta;eudicotyledons;Paeoniaceae;',\n",
       " 'Metazoa;Bilateria;Deuterostoma;Chordata;Cephalochordata;',\n",
       " 'Metazoa;Bilateria;Deuterostoma;Chordata;Vertebrata;Aves;',\n",
       " 'Viridiplantae;Magnoliophyta;eudicotyledons;Brassicaceae;',\n",
       " 'Viridiplantae;Magnoliophyta;eudicotyledons;Papaveraceae;',\n",
       " 'Viridiplantae;Magnoliophyta;eudicotyledons;Ranunculaceae;',\n",
       " 'Viridiplantae;Magnoliophyta;eudicotyledons;Euphorbiaceae;',\n",
       " 'Viridiplantae;Magnoliophyta;eudicotyledons;Cucurbitaceae;',\n",
       " 'Viridiplantae;Magnoliophyta;eudicotyledons;Amaranthaceae;',\n",
       " 'Viridiplantae;Magnoliophyta;eudicotyledons;Rhizophoraceae;',\n",
       " 'Metazoa;Bilateria;Deuterostoma;Chordata;Vertebrata;Sauria;',\n",
       " 'Metazoa;Bilateria;Deuterostoma;Chordata;Vertebrata;Amphibia;',\n",
       " 'Metazoa;Bilateria;Deuterostoma;Chordata;Vertebrata;Teleostei;',\n",
       " 'Metazoa;Bilateria;Deuterostoma;Chordata;Vertebrata;Gnathostomata;',\n",
       " 'Metazoa;Bilateria;Deuterostoma;Chordata;Vertebrata;Mammalia;Suina;',\n",
       " 'Metazoa;Bilateria;Deuterostoma;Chordata;Vertebrata;Agnathostomata;',\n",
       " 'Metazoa;Bilateria;Deuterostoma;Chordata;Vertebrata;Mammalia;Rodentia;',\n",
       " 'Metazoa;Bilateria;Deuterostoma;Chordata;Vertebrata;Mammalia;Carnivora;',\n",
       " 'Metazoa;Bilateria;Deuterostoma;Chordata;Vertebrata;Mammalia;Cingulata;',\n",
       " 'Metazoa;Bilateria;Deuterostoma;Chordata;Vertebrata;Mammalia;Metatheria;',\n",
       " 'Metazoa;Bilateria;Deuterostoma;Chordata;Vertebrata;Mammalia;Ruminantia;',\n",
       " 'Metazoa;Bilateria;Deuterostoma;Chordata;Vertebrata;Mammalia;Lagomorpha;',\n",
       " 'Metazoa;Bilateria;Deuterostoma;Chordata;Vertebrata;Mammalia;Scandentia;',\n",
       " 'Metazoa;Bilateria;Deuterostoma;Chordata;Vertebrata;Mammalia;Afrotheria;',\n",
       " 'Metazoa;Bilateria;Deuterostoma;Chordata;Vertebrata;Mammalia;Prototheria;',\n",
       " 'Metazoa;Bilateria;Deuterostoma;Chordata;Vertebrata;Mammalia;Laurasiatheria;',\n",
       " 'Metazoa;Bilateria;Deuterostoma;Chordata;Vertebrata;Mammalia;Primates;Cebidae;',\n",
       " 'Metazoa;Bilateria;Deuterostoma;Chordata;Vertebrata;Mammalia;Primates;Atelidae;',\n",
       " 'Metazoa;Bilateria;Deuterostoma;Chordata;Vertebrata;Mammalia;Primates;Hominidae;',\n",
       " 'Metazoa;Bilateria;Deuterostoma;Chordata;Vertebrata;Mammalia;Primates;Lemuridae;',\n",
       " 'Metazoa;Bilateria;Deuterostoma;Chordata;Vertebrata;Mammalia;Primates;Galagidae;',\n",
       " 'Metazoa;Bilateria;Deuterostoma;Chordata;Vertebrata;Mammalia;Primates;Hylobatidae;',\n",
       " 'Metazoa;Bilateria;Deuterostoma;Chordata;Vertebrata;Mammalia;Primates;Cheirogaleidae;',\n",
       " 'Metazoa;Bilateria;Deuterostoma;Chordata;Vertebrata;Mammalia;Primates;Daubentoniidae;',\n",
       " 'Metazoa;Bilateria;Deuterostoma;Chordata;Vertebrata;Mammalia;Primates;Cercopithecidae;']"
      ]
     },
     "execution_count": 6,
     "metadata": {},
     "output_type": "execute_result"
    }
   ],
   "source": [
    "items = list(organism['tree'].unique())\n",
    "items.sort(key=len)\n",
    "items"
   ]
  },
  {
   "cell_type": "code",
   "execution_count": 7,
   "metadata": {
    "ExecuteTime": {
     "end_time": "2021-10-27T16:25:27.347207Z",
     "start_time": "2021-10-27T16:25:27.328963Z"
    },
    "hidden": true
   },
   "outputs": [
    {
     "name": "stdout",
     "output_type": "stream",
     "text": [
      "(86, 5)\n"
     ]
    },
    {
     "data": {
      "text/html": [
       "<div>\n",
       "<style scoped>\n",
       "    .dataframe tbody tr th:only-of-type {\n",
       "        vertical-align: middle;\n",
       "    }\n",
       "\n",
       "    .dataframe tbody tr th {\n",
       "        vertical-align: top;\n",
       "    }\n",
       "\n",
       "    .dataframe thead th {\n",
       "        text-align: right;\n",
       "    }\n",
       "</style>\n",
       "<table border=\"1\" class=\"dataframe\">\n",
       "  <thead>\n",
       "    <tr style=\"text-align: right;\">\n",
       "      <th></th>\n",
       "      <th>organism</th>\n",
       "      <th>division</th>\n",
       "      <th>name</th>\n",
       "      <th>tree</th>\n",
       "      <th>NCBI-taxid</th>\n",
       "    </tr>\n",
       "  </thead>\n",
       "  <tbody>\n",
       "    <tr>\n",
       "      <th>66</th>\n",
       "      <td>cre</td>\n",
       "      <td>CRE</td>\n",
       "      <td>Chlamydomonas reinhardtii</td>\n",
       "      <td>Viridiplantae;Chlorophyta;</td>\n",
       "      <td>3055</td>\n",
       "    </tr>\n",
       "    <tr>\n",
       "      <th>67</th>\n",
       "      <td>pta</td>\n",
       "      <td>PTA</td>\n",
       "      <td>Pinus taeda</td>\n",
       "      <td>Viridiplantae;Coniferophyta;</td>\n",
       "      <td>3352</td>\n",
       "    </tr>\n",
       "    <tr>\n",
       "      <th>68</th>\n",
       "      <td>ppt</td>\n",
       "      <td>PPT</td>\n",
       "      <td>Physcomitrella patens</td>\n",
       "      <td>Viridiplantae;Embryophyta;</td>\n",
       "      <td>3218</td>\n",
       "    </tr>\n",
       "    <tr>\n",
       "      <th>69</th>\n",
       "      <td>smo</td>\n",
       "      <td>SMO</td>\n",
       "      <td>Selaginella moellendorffii</td>\n",
       "      <td>Viridiplantae;Embryophyta;</td>\n",
       "      <td>88036</td>\n",
       "    </tr>\n",
       "    <tr>\n",
       "      <th>70</th>\n",
       "      <td>ath</td>\n",
       "      <td>ATH</td>\n",
       "      <td>Arabidopsis thaliana</td>\n",
       "      <td>Viridiplantae;Magnoliophyta;eudicotyledons;Bra...</td>\n",
       "      <td>3702</td>\n",
       "    </tr>\n",
       "  </tbody>\n",
       "</table>\n",
       "</div>"
      ],
      "text/plain": [
       "   organism division                        name  \\\n",
       "66      cre      CRE   Chlamydomonas reinhardtii   \n",
       "67      pta      PTA                 Pinus taeda   \n",
       "68      ppt      PPT       Physcomitrella patens   \n",
       "69      smo      SMO  Selaginella moellendorffii   \n",
       "70      ath      ATH        Arabidopsis thaliana   \n",
       "\n",
       "                                                 tree  NCBI-taxid  \n",
       "66                         Viridiplantae;Chlorophyta;        3055  \n",
       "67                       Viridiplantae;Coniferophyta;        3352  \n",
       "68                         Viridiplantae;Embryophyta;        3218  \n",
       "69                         Viridiplantae;Embryophyta;       88036  \n",
       "70  Viridiplantae;Magnoliophyta;eudicotyledons;Bra...        3702  "
      ]
     },
     "execution_count": 7,
     "metadata": {},
     "output_type": "execute_result"
    }
   ],
   "source": [
    "selectedTree = organism[organism['tree'].apply(lambda x: \"Viridiplantae;\" in x)]\n",
    "print(selectedTree.shape)\n",
    "selectedTree.head(5)"
   ]
  },
  {
   "cell_type": "code",
   "execution_count": 8,
   "metadata": {
    "ExecuteTime": {
     "end_time": "2021-10-27T16:25:30.413205Z",
     "start_time": "2021-10-27T16:25:30.375790Z"
    },
    "hidden": true
   },
   "outputs": [
    {
     "name": "stdout",
     "output_type": "stream",
     "text": [
      "(10414, 3)\n"
     ]
    },
    {
     "data": {
      "text/html": [
       "<div>\n",
       "<style scoped>\n",
       "    .dataframe tbody tr th:only-of-type {\n",
       "        vertical-align: middle;\n",
       "    }\n",
       "\n",
       "    .dataframe tbody tr th {\n",
       "        vertical-align: top;\n",
       "    }\n",
       "\n",
       "    .dataframe thead th {\n",
       "        text-align: right;\n",
       "    }\n",
       "</style>\n",
       "<table border=\"1\" class=\"dataframe\">\n",
       "  <thead>\n",
       "    <tr style=\"text-align: right;\">\n",
       "      <th></th>\n",
       "      <th>tag</th>\n",
       "      <th>data</th>\n",
       "      <th>organism</th>\n",
       "    </tr>\n",
       "  </thead>\n",
       "  <tbody>\n",
       "    <tr>\n",
       "      <th>316</th>\n",
       "      <td>ath-miR156a-5p MIMAT0000166 Arabidopsis thalia...</td>\n",
       "      <td>UGACAGAAGAGAGUGAGCAC</td>\n",
       "      <td>ath</td>\n",
       "    </tr>\n",
       "    <tr>\n",
       "      <th>317</th>\n",
       "      <td>ath-miR156a-3p MIMAT0031865 Arabidopsis thalia...</td>\n",
       "      <td>GCUCACUGCUCUUUCUGUCAGA</td>\n",
       "      <td>ath</td>\n",
       "    </tr>\n",
       "    <tr>\n",
       "      <th>318</th>\n",
       "      <td>ath-miR156b-5p MIMAT0000167 Arabidopsis thalia...</td>\n",
       "      <td>UGACAGAAGAGAGUGAGCAC</td>\n",
       "      <td>ath</td>\n",
       "    </tr>\n",
       "    <tr>\n",
       "      <th>319</th>\n",
       "      <td>ath-miR156b-3p MIMAT0031866 Arabidopsis thalia...</td>\n",
       "      <td>UGCUCACCUCUCUUUCUGUCAGU</td>\n",
       "      <td>ath</td>\n",
       "    </tr>\n",
       "    <tr>\n",
       "      <th>320</th>\n",
       "      <td>ath-miR156c-5p MIMAT0000168 Arabidopsis thalia...</td>\n",
       "      <td>UGACAGAAGAGAGUGAGCAC</td>\n",
       "      <td>ath</td>\n",
       "    </tr>\n",
       "  </tbody>\n",
       "</table>\n",
       "</div>"
      ],
      "text/plain": [
       "                                                   tag  \\\n",
       "316  ath-miR156a-5p MIMAT0000166 Arabidopsis thalia...   \n",
       "317  ath-miR156a-3p MIMAT0031865 Arabidopsis thalia...   \n",
       "318  ath-miR156b-5p MIMAT0000167 Arabidopsis thalia...   \n",
       "319  ath-miR156b-3p MIMAT0031866 Arabidopsis thalia...   \n",
       "320  ath-miR156c-5p MIMAT0000168 Arabidopsis thalia...   \n",
       "\n",
       "                        data organism  \n",
       "316     UGACAGAAGAGAGUGAGCAC      ath  \n",
       "317   GCUCACUGCUCUUUCUGUCAGA      ath  \n",
       "318     UGACAGAAGAGAGUGAGCAC      ath  \n",
       "319  UGCUCACCUCUCUUUCUGUCAGU      ath  \n",
       "320     UGACAGAAGAGAGUGAGCAC      ath  "
      ]
     },
     "execution_count": 8,
     "metadata": {},
     "output_type": "execute_result"
    }
   ],
   "source": [
    "selected = df[df['organism'].isin(selectedTree['organism'])]\n",
    "print(selected.shape)\n",
    "selected.head()"
   ]
  },
  {
   "cell_type": "code",
   "execution_count": 9,
   "metadata": {
    "ExecuteTime": {
     "end_time": "2021-10-27T16:25:42.081352Z",
     "start_time": "2021-10-27T16:25:41.780796Z"
    },
    "hidden": true
   },
   "outputs": [],
   "source": [
    "df_to_fasta(selected,'./Temp/selected.fasta')"
   ]
  },
  {
   "cell_type": "markdown",
   "metadata": {
    "heading_collapsed": true
   },
   "source": [
    "# Remove redundant"
   ]
  },
  {
   "cell_type": "markdown",
   "metadata": {
    "heading_collapsed": true,
    "hidden": true
   },
   "source": [
    "## cdhit-est"
   ]
  },
  {
   "cell_type": "code",
   "execution_count": 13,
   "metadata": {
    "ExecuteTime": {
     "end_time": "2021-10-27T16:30:13.884129Z",
     "start_time": "2021-10-27T16:30:13.654303Z"
    },
    "hidden": true
   },
   "outputs": [
    {
     "name": "stdout",
     "output_type": "stream",
     "text": [
      "================================================================\n",
      "Program: CD-HIT, V4.8.1 (+OpenMP), Oct 23 2021, 21:45:39\n",
      "Command: cdhit/cd-hit-est -i ./Temp/selected.fasta -o\n",
      "         ./Temp/out.fasta -c 1 -r 0 -G 1 -g 1 -b 30 -l 10 -aL 0\n",
      "         -AL 99999999 -aS 0 -AS 99999999 -s 0 -S 0\n",
      "\n",
      "Started: Wed Oct 27 20:00:13 2021\n",
      "================================================================\n",
      "                            Output                              \n",
      "----------------------------------------------------------------\n",
      "total seq: 10414\n",
      "longest and shortest : 28 and 17\n",
      "Total letters: 222978\n",
      "Sequences have been sorted\n",
      "\n",
      "Approximated minimal memory consumption:\n",
      "Sequence        : 1M\n",
      "Buffer          : 1 X 12M = 12M\n",
      "Table           : 1 X 16M = 16M\n",
      "Miscellaneous   : 0M\n",
      "Total           : 30M\n",
      "\n",
      "Table limit with the given memory limit:\n",
      "Max number of representatives: 4000000\n",
      "Max number of word counting entries: 96149440\n",
      "\n",
      "comparing sequences from          0  to      10414\n",
      "..........    10000  finished       5817  clusters\n",
      "\n",
      "    10414  finished       6028  clusters\n",
      "\n",
      "Approximated maximum memory consumption: 31M\n",
      "writing new database\n",
      "writing clustering information\n",
      "program completed !\n",
      "\n",
      "Total CPU time 0.10\n"
     ]
    }
   ],
   "source": [
    "!cdhit/cd-hit-est -i ./Temp/selected.fasta  -o ./Temp/out.fasta \\\n",
    "    -c 1 -r 0 -G 1 -g 1 -b 30 -l 10 -aL 0 -AL 99999999 -aS 0 \\\n",
    "    -AS 99999999 -s 0 -S 0 "
   ]
  },
  {
   "cell_type": "markdown",
   "metadata": {
    "heading_collapsed": true,
    "hidden": true
   },
   "source": [
    "## reformat"
   ]
  },
  {
   "cell_type": "code",
   "execution_count": 14,
   "metadata": {
    "ExecuteTime": {
     "end_time": "2021-10-27T16:30:20.600574Z",
     "start_time": "2021-10-27T16:30:20.562392Z"
    },
    "hidden": true
   },
   "outputs": [
    {
     "name": "stdout",
     "output_type": "stream",
     "text": [
      "(10414, 2)\n"
     ]
    },
    {
     "data": {
      "text/html": [
       "<div>\n",
       "<style scoped>\n",
       "    .dataframe tbody tr th:only-of-type {\n",
       "        vertical-align: middle;\n",
       "    }\n",
       "\n",
       "    .dataframe tbody tr th {\n",
       "        vertical-align: top;\n",
       "    }\n",
       "\n",
       "    .dataframe thead th {\n",
       "        text-align: right;\n",
       "    }\n",
       "</style>\n",
       "<table border=\"1\" class=\"dataframe\">\n",
       "  <thead>\n",
       "    <tr style=\"text-align: right;\">\n",
       "      <th></th>\n",
       "      <th>seqid</th>\n",
       "      <th>cluster</th>\n",
       "    </tr>\n",
       "  </thead>\n",
       "  <tbody>\n",
       "    <tr>\n",
       "      <th>0</th>\n",
       "      <td>cst-miR11332</td>\n",
       "      <td>C0</td>\n",
       "    </tr>\n",
       "    <tr>\n",
       "      <th>1</th>\n",
       "      <td>stu-miR7994b-5p</td>\n",
       "      <td>C1</td>\n",
       "    </tr>\n",
       "  </tbody>\n",
       "</table>\n",
       "</div>"
      ],
      "text/plain": [
       "             seqid cluster\n",
       "0     cst-miR11332      C0\n",
       "1  stu-miR7994b-5p      C1"
      ]
     },
     "execution_count": 14,
     "metadata": {},
     "output_type": "execute_result"
    }
   ],
   "source": [
    "with open('./Temp/out.fasta.clstr','r') as file:\n",
    "    text = file.read()\n",
    "lines = [line for line in text.split('\\n') if len(line) > 0]\n",
    "cluster = []\n",
    "seqid = []\n",
    "last_cluster = \"\"\n",
    "for l in lines:\n",
    "    if(l[0]=='>'):        \n",
    "        last_cluster = l.replace('>Cluster ',\"C\")\n",
    "    else:        \n",
    "        cluster.append(last_cluster)\n",
    "        seqid.append(l.split(', >')[1].split('...')[0])                \n",
    "seq2cluster = pd.DataFrame({'seqid': seqid,'cluster': cluster})\n",
    "print(seq2cluster.shape)\n",
    "seq2cluster.head(2)    "
   ]
  },
  {
   "cell_type": "code",
   "execution_count": 15,
   "metadata": {
    "ExecuteTime": {
     "end_time": "2021-10-27T16:30:36.987171Z",
     "start_time": "2021-10-27T16:30:36.877487Z"
    },
    "hidden": true
   },
   "outputs": [
    {
     "name": "stdout",
     "output_type": "stream",
     "text": [
      "(10414, 3)\n"
     ]
    },
    {
     "data": {
      "text/html": [
       "<div>\n",
       "<style scoped>\n",
       "    .dataframe tbody tr th:only-of-type {\n",
       "        vertical-align: middle;\n",
       "    }\n",
       "\n",
       "    .dataframe tbody tr th {\n",
       "        vertical-align: top;\n",
       "    }\n",
       "\n",
       "    .dataframe thead th {\n",
       "        text-align: right;\n",
       "    }\n",
       "</style>\n",
       "<table border=\"1\" class=\"dataframe\">\n",
       "  <thead>\n",
       "    <tr style=\"text-align: right;\">\n",
       "      <th></th>\n",
       "      <th>cluster</th>\n",
       "      <th>seqid</th>\n",
       "      <th>tag</th>\n",
       "    </tr>\n",
       "  </thead>\n",
       "  <tbody>\n",
       "    <tr>\n",
       "      <th>0</th>\n",
       "      <td>C5495</td>\n",
       "      <td>ath-miR156a-5p</td>\n",
       "      <td>ath-miR156a-5p MIMAT0000166 Arabidopsis thalia...</td>\n",
       "    </tr>\n",
       "    <tr>\n",
       "      <th>1</th>\n",
       "      <td>C1199</td>\n",
       "      <td>ath-miR156a-3p</td>\n",
       "      <td>ath-miR156a-3p MIMAT0031865 Arabidopsis thalia...</td>\n",
       "    </tr>\n",
       "  </tbody>\n",
       "</table>\n",
       "</div>"
      ],
      "text/plain": [
       "  cluster           seqid                                                tag\n",
       "0   C5495  ath-miR156a-5p  ath-miR156a-5p MIMAT0000166 Arabidopsis thalia...\n",
       "1   C1199  ath-miR156a-3p  ath-miR156a-3p MIMAT0031865 Arabidopsis thalia..."
      ]
     },
     "metadata": {},
     "output_type": "display_data"
    }
   ],
   "source": [
    "df = fasta_to_df(\"./Temp/selected.fasta\")\n",
    "df['accession'] = df['tag'].apply(lambda x : x.split(' ')[0])\n",
    "seq2cluster = pd.merge(df,seq2cluster,how=\"inner\",left_on='accession',right_on=\"seqid\")[['cluster','seqid','tag']]\n",
    "print(seq2cluster.shape)\n",
    "display(seq2cluster.head(2))\n",
    "seq2cluster.to_csv('./Temp/seq2cluster.csv',index=False)"
   ]
  },
  {
   "cell_type": "code",
   "execution_count": 16,
   "metadata": {
    "ExecuteTime": {
     "end_time": "2021-10-27T16:30:43.767958Z",
     "start_time": "2021-10-27T16:30:43.729092Z"
    },
    "hidden": true
   },
   "outputs": [
    {
     "data": {
      "text/html": [
       "<div>\n",
       "<style scoped>\n",
       "    .dataframe tbody tr th:only-of-type {\n",
       "        vertical-align: middle;\n",
       "    }\n",
       "\n",
       "    .dataframe tbody tr th {\n",
       "        vertical-align: top;\n",
       "    }\n",
       "\n",
       "    .dataframe thead th {\n",
       "        text-align: right;\n",
       "    }\n",
       "</style>\n",
       "<table border=\"1\" class=\"dataframe\">\n",
       "  <thead>\n",
       "    <tr style=\"text-align: right;\">\n",
       "      <th></th>\n",
       "      <th>cluster</th>\n",
       "      <th>seqid</th>\n",
       "      <th>tag</th>\n",
       "    </tr>\n",
       "  </thead>\n",
       "  <tbody>\n",
       "    <tr>\n",
       "      <th>9422</th>\n",
       "      <td>C0</td>\n",
       "      <td>cst-miR11332</td>\n",
       "      <td>cst-miR11332 MIMAT0044622 Cucumis sativus miR1...</td>\n",
       "    </tr>\n",
       "    <tr>\n",
       "      <th>7002</th>\n",
       "      <td>C1</td>\n",
       "      <td>stu-miR7994b-5p</td>\n",
       "      <td>stu-miR7994b-5p MIMAT0031188 Solanum tuberosum...</td>\n",
       "    </tr>\n",
       "  </tbody>\n",
       "</table>\n",
       "</div>"
      ],
      "text/plain": [
       "     cluster            seqid  \\\n",
       "9422      C0     cst-miR11332   \n",
       "7002      C1  stu-miR7994b-5p   \n",
       "\n",
       "                                                    tag  \n",
       "9422  cst-miR11332 MIMAT0044622 Cucumis sativus miR1...  \n",
       "7002  stu-miR7994b-5p MIMAT0031188 Solanum tuberosum...  "
      ]
     },
     "execution_count": 16,
     "metadata": {},
     "output_type": "execute_result"
    }
   ],
   "source": [
    "# todo: sorted first by cluster then by seqid\n",
    "seq2cluster.sort_values(\"cluster\").head(2)"
   ]
  },
  {
   "cell_type": "code",
   "execution_count": 17,
   "metadata": {
    "ExecuteTime": {
     "end_time": "2021-10-27T16:30:55.173861Z",
     "start_time": "2021-10-27T16:30:54.951624Z"
    },
    "hidden": true
   },
   "outputs": [
    {
     "name": "stdout",
     "output_type": "stream",
     "text": [
      "(6028, 2)\n"
     ]
    }
   ],
   "source": [
    "df = fasta_to_df(\"./Temp/out.fasta\")\n",
    "df['tag'] = df['tag'].apply(lambda x : x.split(' ')[0])\n",
    "df = pd.merge(df,seq2cluster,how=\"inner\",left_on='tag',right_on=\"seqid\")[['cluster','data']]\n",
    "\n",
    "lines = []\n",
    "df.apply(lambda row: lines.append(f\">{row['cluster']}\\n{row['data']}\\n\"),axis=1)\n",
    "print(df.shape)\n",
    "with open('./Temp/selected_clustrerd.fasta','w') as file:\n",
    "    file.write(''.join(lines))"
   ]
  },
  {
   "cell_type": "markdown",
   "metadata": {
    "heading_collapsed": true
   },
   "source": [
    "# BlastN"
   ]
  },
  {
   "cell_type": "markdown",
   "metadata": {
    "hidden": true
   },
   "source": [
    "!sudo apt-get install ncbi-blast+\n"
   ]
  },
  {
   "cell_type": "code",
   "execution_count": 18,
   "metadata": {
    "ExecuteTime": {
     "end_time": "2021-10-27T16:31:23.562552Z",
     "start_time": "2021-10-27T16:31:11.999372Z"
    },
    "hidden": true
   },
   "outputs": [
    {
     "name": "stdout",
     "output_type": "stream",
     "text": [
      "\n",
      "\n",
      "Building a new DB, current time: 10/27/2021 20:01:13\n",
      "New DB name:   /home/jupyter/plant_microRNA_prediction/Temp/blastn_database\n",
      "New DB title:  input_genome.fna\n",
      "Sequence type: Nucleotide\n",
      "Keep MBits: T\n",
      "Maximum file size: 1000000000B\n",
      "Adding sequences from FASTA; added 126142 sequences in 9.91275 seconds.\n"
     ]
    }
   ],
   "source": [
    "!makeblastdb -in input_genome.fna \\\n",
    "             -dbtype nucl \\\n",
    "             -out ./Temp/blastn_database"
   ]
  },
  {
   "cell_type": "code",
   "execution_count": 5,
   "metadata": {
    "ExecuteTime": {
     "end_time": "2021-10-29T15:41:59.436815Z",
     "start_time": "2021-10-29T15:41:59.432296Z"
    },
    "hidden": true
   },
   "outputs": [],
   "source": [
    "header = \"qseqid sseqid qstart qend sstart send qseq sseq evalue bitscore score length pident nident mismatch positive gapopen gaps ppos frames qframe sframe sstrand qcovs qcovhsp qlen slen\""
   ]
  },
  {
   "cell_type": "code",
   "execution_count": 29,
   "metadata": {
    "ExecuteTime": {
     "end_time": "2021-10-27T16:44:52.989154Z",
     "start_time": "2021-10-27T16:42:33.604365Z"
    },
    "hidden": true
   },
   "outputs": [],
   "source": [
    "blast_header = \"6 \" + header\n",
    "!blastn -query ./Temp/selected_clustrerd.fasta \\\n",
    "        -out ./Temp/out_blastn \\\n",
    "        -num_threads {mp.cpu_count()} \\\n",
    "        -db ./Temp/blastn_database \\\n",
    "        -word_size 7 \\\n",
    "        -penalty -3 \\\n",
    "        -reward 2 \\\n",
    "        -gapopen 5 \\\n",
    "        -gapextend 2 \\\n",
    "        -outfmt {blast_header}"
   ]
  },
  {
   "cell_type": "code",
   "execution_count": 6,
   "metadata": {
    "ExecuteTime": {
     "end_time": "2021-10-29T15:42:04.154618Z",
     "start_time": "2021-10-29T15:42:02.883660Z"
    },
    "hidden": true
   },
   "outputs": [
    {
     "name": "stdout",
     "output_type": "stream",
     "text": [
      "(326849, 27)\n"
     ]
    },
    {
     "data": {
      "text/html": [
       "<div>\n",
       "<style scoped>\n",
       "    .dataframe tbody tr th:only-of-type {\n",
       "        vertical-align: middle;\n",
       "    }\n",
       "\n",
       "    .dataframe tbody tr th {\n",
       "        vertical-align: top;\n",
       "    }\n",
       "\n",
       "    .dataframe thead th {\n",
       "        text-align: right;\n",
       "    }\n",
       "</style>\n",
       "<table border=\"1\" class=\"dataframe\">\n",
       "  <thead>\n",
       "    <tr style=\"text-align: right;\">\n",
       "      <th></th>\n",
       "      <th>qseqid</th>\n",
       "      <th>sseqid</th>\n",
       "      <th>qstart</th>\n",
       "      <th>qend</th>\n",
       "      <th>sstart</th>\n",
       "      <th>send</th>\n",
       "      <th>qseq</th>\n",
       "      <th>sseq</th>\n",
       "      <th>evalue</th>\n",
       "      <th>bitscore</th>\n",
       "      <th>...</th>\n",
       "      <th>gaps</th>\n",
       "      <th>ppos</th>\n",
       "      <th>frames</th>\n",
       "      <th>qframe</th>\n",
       "      <th>sframe</th>\n",
       "      <th>sstrand</th>\n",
       "      <th>qcovs</th>\n",
       "      <th>qcovhsp</th>\n",
       "      <th>qlen</th>\n",
       "      <th>slen</th>\n",
       "    </tr>\n",
       "  </thead>\n",
       "  <tbody>\n",
       "    <tr>\n",
       "      <th>0</th>\n",
       "      <td>C5495</td>\n",
       "      <td>AMWY02099822.1</td>\n",
       "      <td>1</td>\n",
       "      <td>20</td>\n",
       "      <td>1769</td>\n",
       "      <td>1750</td>\n",
       "      <td>TGACAGAAGAGAGTGAGCAC</td>\n",
       "      <td>TGACAGAAGAGAGTGAGCAC</td>\n",
       "      <td>0.004</td>\n",
       "      <td>37.4</td>\n",
       "      <td>...</td>\n",
       "      <td>0</td>\n",
       "      <td>100.0</td>\n",
       "      <td>1/-1</td>\n",
       "      <td>1</td>\n",
       "      <td>-1</td>\n",
       "      <td>minus</td>\n",
       "      <td>100</td>\n",
       "      <td>100</td>\n",
       "      <td>20</td>\n",
       "      <td>3308</td>\n",
       "    </tr>\n",
       "    <tr>\n",
       "      <th>1</th>\n",
       "      <td>C5495</td>\n",
       "      <td>AMWY02082313.1</td>\n",
       "      <td>1</td>\n",
       "      <td>20</td>\n",
       "      <td>5954</td>\n",
       "      <td>5973</td>\n",
       "      <td>TGACAGAAGAGAGTGAGCAC</td>\n",
       "      <td>TGACAGAAGAGAGTGAGCAC</td>\n",
       "      <td>0.004</td>\n",
       "      <td>37.4</td>\n",
       "      <td>...</td>\n",
       "      <td>0</td>\n",
       "      <td>100.0</td>\n",
       "      <td>1/1</td>\n",
       "      <td>1</td>\n",
       "      <td>1</td>\n",
       "      <td>plus</td>\n",
       "      <td>100</td>\n",
       "      <td>100</td>\n",
       "      <td>20</td>\n",
       "      <td>8471</td>\n",
       "    </tr>\n",
       "  </tbody>\n",
       "</table>\n",
       "<p>2 rows × 27 columns</p>\n",
       "</div>"
      ],
      "text/plain": [
       "  qseqid          sseqid  qstart  qend  sstart  send                  qseq  \\\n",
       "0  C5495  AMWY02099822.1       1    20    1769  1750  TGACAGAAGAGAGTGAGCAC   \n",
       "1  C5495  AMWY02082313.1       1    20    5954  5973  TGACAGAAGAGAGTGAGCAC   \n",
       "\n",
       "                   sseq  evalue  bitscore  ...  gaps   ppos  frames  qframe  \\\n",
       "0  TGACAGAAGAGAGTGAGCAC   0.004      37.4  ...     0  100.0    1/-1       1   \n",
       "1  TGACAGAAGAGAGTGAGCAC   0.004      37.4  ...     0  100.0     1/1       1   \n",
       "\n",
       "   sframe  sstrand  qcovs  qcovhsp  qlen  slen  \n",
       "0      -1    minus    100      100    20  3308  \n",
       "1       1     plus    100      100    20  8471  \n",
       "\n",
       "[2 rows x 27 columns]"
      ]
     },
     "execution_count": 6,
     "metadata": {},
     "output_type": "execute_result"
    }
   ],
   "source": [
    "df = pd.read_csv('./Temp/out_blastn', sep='\\t',header=None)\n",
    "df.columns = header.replace(\"  \",\" \").split(\" \")\n",
    "print(df.shape)\n",
    "df.head(2)"
   ]
  },
  {
   "cell_type": "code",
   "execution_count": 7,
   "metadata": {
    "ExecuteTime": {
     "end_time": "2021-10-29T15:42:04.251683Z",
     "start_time": "2021-10-29T15:42:04.158641Z"
    },
    "hidden": true
   },
   "outputs": [
    {
     "name": "stdout",
     "output_type": "stream",
     "text": [
      "(80217, 28)\n"
     ]
    },
    {
     "data": {
      "text/html": [
       "<div>\n",
       "<style scoped>\n",
       "    .dataframe tbody tr th:only-of-type {\n",
       "        vertical-align: middle;\n",
       "    }\n",
       "\n",
       "    .dataframe tbody tr th {\n",
       "        vertical-align: top;\n",
       "    }\n",
       "\n",
       "    .dataframe thead th {\n",
       "        text-align: right;\n",
       "    }\n",
       "</style>\n",
       "<table border=\"1\" class=\"dataframe\">\n",
       "  <thead>\n",
       "    <tr style=\"text-align: right;\">\n",
       "      <th></th>\n",
       "      <th>qseqid</th>\n",
       "      <th>sseqid</th>\n",
       "      <th>qstart</th>\n",
       "      <th>qend</th>\n",
       "      <th>sstart</th>\n",
       "      <th>send</th>\n",
       "      <th>qseq</th>\n",
       "      <th>sseq</th>\n",
       "      <th>evalue</th>\n",
       "      <th>bitscore</th>\n",
       "      <th>...</th>\n",
       "      <th>ppos</th>\n",
       "      <th>frames</th>\n",
       "      <th>qframe</th>\n",
       "      <th>sframe</th>\n",
       "      <th>sstrand</th>\n",
       "      <th>qcovs</th>\n",
       "      <th>qcovhsp</th>\n",
       "      <th>qlen</th>\n",
       "      <th>slen</th>\n",
       "      <th>Nonconformity</th>\n",
       "    </tr>\n",
       "  </thead>\n",
       "  <tbody>\n",
       "    <tr>\n",
       "      <th>0</th>\n",
       "      <td>C5495</td>\n",
       "      <td>AMWY02099822.1</td>\n",
       "      <td>1</td>\n",
       "      <td>20</td>\n",
       "      <td>1769</td>\n",
       "      <td>1750</td>\n",
       "      <td>TGACAGAAGAGAGTGAGCAC</td>\n",
       "      <td>TGACAGAAGAGAGTGAGCAC</td>\n",
       "      <td>0.004</td>\n",
       "      <td>37.4</td>\n",
       "      <td>...</td>\n",
       "      <td>100.0</td>\n",
       "      <td>1/-1</td>\n",
       "      <td>1</td>\n",
       "      <td>-1</td>\n",
       "      <td>minus</td>\n",
       "      <td>100</td>\n",
       "      <td>100</td>\n",
       "      <td>20</td>\n",
       "      <td>3308</td>\n",
       "      <td>0</td>\n",
       "    </tr>\n",
       "    <tr>\n",
       "      <th>1</th>\n",
       "      <td>C5495</td>\n",
       "      <td>AMWY02082313.1</td>\n",
       "      <td>1</td>\n",
       "      <td>20</td>\n",
       "      <td>5954</td>\n",
       "      <td>5973</td>\n",
       "      <td>TGACAGAAGAGAGTGAGCAC</td>\n",
       "      <td>TGACAGAAGAGAGTGAGCAC</td>\n",
       "      <td>0.004</td>\n",
       "      <td>37.4</td>\n",
       "      <td>...</td>\n",
       "      <td>100.0</td>\n",
       "      <td>1/1</td>\n",
       "      <td>1</td>\n",
       "      <td>1</td>\n",
       "      <td>plus</td>\n",
       "      <td>100</td>\n",
       "      <td>100</td>\n",
       "      <td>20</td>\n",
       "      <td>8471</td>\n",
       "      <td>0</td>\n",
       "    </tr>\n",
       "  </tbody>\n",
       "</table>\n",
       "<p>2 rows × 28 columns</p>\n",
       "</div>"
      ],
      "text/plain": [
       "  qseqid          sseqid  qstart  qend  sstart  send                  qseq  \\\n",
       "0  C5495  AMWY02099822.1       1    20    1769  1750  TGACAGAAGAGAGTGAGCAC   \n",
       "1  C5495  AMWY02082313.1       1    20    5954  5973  TGACAGAAGAGAGTGAGCAC   \n",
       "\n",
       "                   sseq  evalue  bitscore  ...   ppos  frames  qframe  sframe  \\\n",
       "0  TGACAGAAGAGAGTGAGCAC   0.004      37.4  ...  100.0    1/-1       1      -1   \n",
       "1  TGACAGAAGAGAGTGAGCAC   0.004      37.4  ...  100.0     1/1       1       1   \n",
       "\n",
       "   sstrand  qcovs  qcovhsp  qlen  slen Nonconformity  \n",
       "0    minus    100      100    20  3308             0  \n",
       "1     plus    100      100    20  8471             0  \n",
       "\n",
       "[2 rows x 28 columns]"
      ]
     },
     "execution_count": 7,
     "metadata": {},
     "output_type": "execute_result"
    }
   ],
   "source": [
    "threshold = 4\n",
    "df['Nonconformity'] = df['qlen'] - (abs(df['qend'] - df['qstart']) + 1) + df['gaps'] + df['mismatch']\n",
    "df = df[df['Nonconformity'] <= threshold]\n",
    "print(df.shape)\n",
    "df.head(2)"
   ]
  },
  {
   "cell_type": "code",
   "execution_count": 8,
   "metadata": {
    "ExecuteTime": {
     "end_time": "2021-10-29T15:42:04.258776Z",
     "start_time": "2021-10-29T15:42:04.255007Z"
    },
    "hidden": true
   },
   "outputs": [],
   "source": [
    "# remore redundancy and hold best one base of Nonconformity value"
   ]
  },
  {
   "cell_type": "code",
   "execution_count": 9,
   "metadata": {
    "ExecuteTime": {
     "end_time": "2021-10-29T15:42:05.253500Z",
     "start_time": "2021-10-29T15:42:04.321771Z"
    },
    "hidden": true
   },
   "outputs": [
    {
     "name": "stdout",
     "output_type": "stream",
     "text": [
      "(66445, 28)\n"
     ]
    }
   ],
   "source": [
    "df = df.sort_values([\"Nonconformity\", \"evalue\"], ascending = (True, True))\n",
    "df = df.drop_duplicates(subset=['sseqid','sstart', 'send','sstrand'], keep='first')\n",
    "df.to_csv('./Temp/filtered_out_blastn.csv')\n",
    "print(df.shape)"
   ]
  },
  {
   "cell_type": "code",
   "execution_count": 10,
   "metadata": {
    "ExecuteTime": {
     "end_time": "2021-10-29T15:42:05.885622Z",
     "start_time": "2021-10-29T15:42:05.256856Z"
    },
    "hidden": true
   },
   "outputs": [
    {
     "data": {
      "image/png": "[encoded data removed]",
      "text/plain": [
       "<Figure size 432x288 with 1 Axes>"
      ]
     },
     "metadata": {
      "needs_background": "light"
     },
     "output_type": "display_data"
    }
   ],
   "source": [
    "import matplotlib.pyplot as plt\n",
    "plt.hist(df['length'],bins=max(df['length'])-min(df['length']));"
   ]
  },
  {
   "cell_type": "code",
   "execution_count": 11,
   "metadata": {
    "ExecuteTime": {
     "end_time": "2021-10-29T15:42:05.914423Z",
     "start_time": "2021-10-29T15:42:05.889617Z"
    },
    "hidden": true
   },
   "outputs": [
    {
     "data": {
      "text/plain": [
       "6626"
      ]
     },
     "execution_count": 11,
     "metadata": {},
     "output_type": "execute_result"
    }
   ],
   "source": [
    "sum(df['length'] < 18 ) + sum(df['length'] > 24 ) "
   ]
  },
  {
   "cell_type": "markdown",
   "metadata": {
    "hidden": true
   },
   "source": [
    "## convert the result of the blast to bed file"
   ]
  },
  {
   "cell_type": "code",
   "execution_count": 12,
   "metadata": {
    "ExecuteTime": {
     "end_time": "2021-10-29T15:42:18.237991Z",
     "start_time": "2021-10-29T15:42:05.917440Z"
    },
    "hidden": true
   },
   "outputs": [
    {
     "data": {
      "text/html": [
       "<div>\n",
       "<style scoped>\n",
       "    .dataframe tbody tr th:only-of-type {\n",
       "        vertical-align: middle;\n",
       "    }\n",
       "\n",
       "    .dataframe tbody tr th {\n",
       "        vertical-align: top;\n",
       "    }\n",
       "\n",
       "    .dataframe thead th {\n",
       "        text-align: right;\n",
       "    }\n",
       "</style>\n",
       "<table border=\"1\" class=\"dataframe\">\n",
       "  <thead>\n",
       "    <tr style=\"text-align: right;\">\n",
       "      <th></th>\n",
       "      <th>sseqid</th>\n",
       "      <th>sstart</th>\n",
       "      <th>send</th>\n",
       "      <th>sstrand</th>\n",
       "      <th>slen</th>\n",
       "      <th>strand</th>\n",
       "      <th>sign</th>\n",
       "      <th>ones</th>\n",
       "    </tr>\n",
       "  </thead>\n",
       "  <tbody>\n",
       "    <tr>\n",
       "      <th>132836</th>\n",
       "      <td>AMWY02059828.1</td>\n",
       "      <td>2832</td>\n",
       "      <td>3256</td>\n",
       "      <td>plus</td>\n",
       "      <td>4662</td>\n",
       "      <td>forward</td>\n",
       "      <td>+</td>\n",
       "      <td>1</td>\n",
       "    </tr>\n",
       "    <tr>\n",
       "      <th>300170</th>\n",
       "      <td>AMWY02004761.1</td>\n",
       "      <td>1853</td>\n",
       "      <td>2277</td>\n",
       "      <td>plus</td>\n",
       "      <td>3675</td>\n",
       "      <td>forward</td>\n",
       "      <td>+</td>\n",
       "      <td>1</td>\n",
       "    </tr>\n",
       "    <tr>\n",
       "      <th>320840</th>\n",
       "      <td>AMWY02033394.1</td>\n",
       "      <td>469</td>\n",
       "      <td>893</td>\n",
       "      <td>minus</td>\n",
       "      <td>1874</td>\n",
       "      <td>reverse</td>\n",
       "      <td>-</td>\n",
       "      <td>1</td>\n",
       "    </tr>\n",
       "    <tr>\n",
       "      <th>39433</th>\n",
       "      <td>AMWY02098706.1</td>\n",
       "      <td>0</td>\n",
       "      <td>407</td>\n",
       "      <td>minus</td>\n",
       "      <td>2315</td>\n",
       "      <td>reverse</td>\n",
       "      <td>-</td>\n",
       "      <td>1</td>\n",
       "    </tr>\n",
       "    <tr>\n",
       "      <th>39436</th>\n",
       "      <td>AMWY02003241.1</td>\n",
       "      <td>1997</td>\n",
       "      <td>2420</td>\n",
       "      <td>plus</td>\n",
       "      <td>4402</td>\n",
       "      <td>forward</td>\n",
       "      <td>+</td>\n",
       "      <td>1</td>\n",
       "    </tr>\n",
       "  </tbody>\n",
       "</table>\n",
       "</div>"
      ],
      "text/plain": [
       "                sseqid  sstart  send sstrand  slen   strand sign  ones\n",
       "132836  AMWY02059828.1    2832  3256    plus  4662  forward    +     1\n",
       "300170  AMWY02004761.1    1853  2277    plus  3675  forward    +     1\n",
       "320840  AMWY02033394.1     469   893   minus  1874  reverse    -     1\n",
       "39433   AMWY02098706.1       0   407   minus  2315  reverse    -     1\n",
       "39436   AMWY02003241.1    1997  2420    plus  4402  forward    +     1"
      ]
     },
     "execution_count": 12,
     "metadata": {},
     "output_type": "execute_result"
    }
   ],
   "source": [
    "flanking_value = 200\n",
    "df = df[['sseqid', 'sstart', 'send', 'sstrand','slen']]\n",
    "\n",
    "def switch(row):\n",
    "    if(row['sstart'] > row['send']):\n",
    "        temp = row['sstart']\n",
    "        row['sstart'] = row['send']\n",
    "        row['send'] = temp\n",
    "    return row\n",
    "df = df.apply(lambda row: switch(row), axis=1)\n",
    "\n",
    "def convert(inp):\n",
    "    if(inp == \"plus\"):\n",
    "        return \"forward\"\n",
    "    if(inp == \"minus\"):\n",
    "        return \"reverse\"\n",
    "    raise Exception('Error, sstrand contains illegal word! only \"plus\" and \"minus\" are allowed')\n",
    "df['strand'] = df['sstrand'].apply(lambda x: convert(x))\n",
    "\n",
    "def convert2sign(inp):\n",
    "    if(inp == \"plus\"):\n",
    "        return \"+\"\n",
    "    if(inp == \"minus\"):\n",
    "        return \"-\"\n",
    "    raise Exception('Error, sstrand contains illegal word! only \"plus\" and \"minus\" are allowed')\n",
    "df['sign'] = df['sstrand'].apply(lambda x: convert2sign(x))\n",
    "df['sstart'] = df['sstart'].apply(lambda x: max(x - flanking_value - 1, 0))\n",
    "df['send'] = df.apply(lambda row: min(row['send'] + flanking_value , row['slen']),axis=1)\n",
    "df['ones'] = df['send'].apply(lambda row:1)\n",
    "df.head(5)"
   ]
  },
  {
   "cell_type": "code",
   "execution_count": 13,
   "metadata": {
    "ExecuteTime": {
     "end_time": "2021-10-29T15:42:18.448737Z",
     "start_time": "2021-10-29T15:42:18.241065Z"
    },
    "hidden": true
   },
   "outputs": [],
   "source": [
    "df[['sseqid','sstart','send','strand','ones', 'sign']].to_csv('./Temp/extension_index.bed', \n",
    "        index=False, header=False, sep=\"\\t\")"
   ]
  },
  {
   "cell_type": "markdown",
   "metadata": {
    "heading_collapsed": true
   },
   "source": [
    "# Extention\n"
   ]
  },
  {
   "cell_type": "markdown",
   "metadata": {
    "ExecuteTime": {
     "end_time": "2021-10-27T16:50:25.342850Z",
     "start_time": "2021-10-27T16:49:57.394942Z"
    },
    "hidden": true
   },
   "source": [
    "## !sudo apt-get install bedtools"
   ]
  },
  {
   "cell_type": "code",
   "execution_count": 14,
   "metadata": {
    "ExecuteTime": {
     "end_time": "2021-10-29T15:42:21.664168Z",
     "start_time": "2021-10-29T15:42:18.452489Z"
    },
    "hidden": true
   },
   "outputs": [
    {
     "name": "stdout",
     "output_type": "stream",
     "text": [
      "index file ./input_genome.fna.fai not found, generating...\r\n"
     ]
    }
   ],
   "source": [
    "!bedtools getfasta -fi ./input_genome.fna -fo ./Temp/extended.txt -s -bed ./Temp/extension_index.bed\n",
    "!rm input_genome.fna.fai"
   ]
  },
  {
   "cell_type": "code",
   "execution_count": 15,
   "metadata": {
    "ExecuteTime": {
     "end_time": "2021-10-29T15:42:24.021593Z",
     "start_time": "2021-10-29T15:42:21.668031Z"
    },
    "hidden": true
   },
   "outputs": [
    {
     "data": {
      "text/plain": [
       "65798"
      ]
     },
     "execution_count": 15,
     "metadata": {},
     "output_type": "execute_result"
    }
   ],
   "source": [
    "# todo: remove duplicated\n",
    "df = fasta_to_df(\"./Temp/extended.txt\")\n",
    "df = df.drop_duplicates(subset=['tag'], keep='first')\n",
    "df_to_fasta(df,\"./Temp/extended.txt\")\n",
    "len(df['tag'].unique()) "
   ]
  },
  {
   "cell_type": "markdown",
   "metadata": {},
   "source": [
    "# RNA 2d prediction"
   ]
  },
  {
   "cell_type": "markdown",
   "metadata": {
    "heading_collapsed": true
   },
   "source": [
    "## Mfold"
   ]
  },
  {
   "cell_type": "code",
   "execution_count": 132,
   "metadata": {
    "ExecuteTime": {
     "end_time": "2021-10-31T17:22:18.895178Z",
     "start_time": "2021-10-31T17:22:18.889760Z"
    },
    "hidden": true
   },
   "outputs": [],
   "source": [
    "'''\n",
    "# installation\n",
    "!wget http://www.unafold.org/download/mfold-3.6.tar.gz\n",
    "!tar -xvf ./mfold-3.6.tar.gz; rm ./mfold-3.6.tar.gz\n",
    "%cd ./mfold-3.6\n",
    "!./configure\n",
    "!make\n",
    "!make install\n",
    "%cd ..\n",
    "!sudo apt install texlive-font-utils\n",
    "''';"
   ]
  },
  {
   "cell_type": "code",
   "execution_count": 16,
   "metadata": {
    "ExecuteTime": {
     "end_time": "2021-10-29T15:08:33.017101Z",
     "start_time": "2021-10-29T15:08:33.013428Z"
    },
    "hidden": true
   },
   "outputs": [],
   "source": [
    "#todo : add all hyperparameter(options) to GUI"
   ]
  },
  {
   "cell_type": "code",
   "execution_count": 172,
   "metadata": {
    "ExecuteTime": {
     "end_time": "2021-10-31T17:59:21.394198Z",
     "start_time": "2021-10-31T17:59:20.862504Z"
    },
    "hidden": true
   },
   "outputs": [],
   "source": [
    "counter = 0\n",
    "base = \"./RNA_secondary_structure/mfold/\"\n",
    "!rm -r {base}\n",
    "!mkdir -p {base}\n",
    "df = fasta_to_df('./Temp/extended.txt')\n",
    "\n",
    "for index, row in df.iterrows():    \n",
    "    tag = reformat(row['tag'])\n",
    "    if(not os.path.exists(base + tag)):\n",
    "        os.makedirs(base + tag)            \n",
    "    with open(base + f\"{tag}/{tag}.FASTA\",'w') as file:\n",
    "        file.write(f\">{row['tag']}\\n{row['data']}\")\n",
    "    counter += 1    \n",
    "    if(counter >= 1):\n",
    "        break"
   ]
  },
  {
   "cell_type": "code",
   "execution_count": 173,
   "metadata": {
    "ExecuteTime": {
     "end_time": "2021-10-31T17:59:24.140889Z",
     "start_time": "2021-10-31T17:59:21.435779Z"
    },
    "hidden": true
   },
   "outputs": [
    {
     "name": "stdout",
     "output_type": "stream",
     "text": [
      "/home/jupyter/plant_microRNA_prediction/RNA_secondary_structure/mfold/AMWY020598281:2832-3256_+_\n",
      "mfold version 3.6\n",
      "REUSE= NO\n",
      "AMWY020598281:2832-3256_+_.pnt created.\n",
      "Sequence length is 424\n",
      "RNA free energy files (version 2.3) at 20 degrees created.\n",
      "10,20,30,40,50,60,70,80,90,100,110,120,130,140,150,160,170,180,190,200,210,220,230,240,250,260,270,280,290,300,310,320,330,340,350,360,370,380,390,400,410,420, \n",
      "End of Fill\n",
      "Save file created using nafold.\n",
      "Minimum folding energy is -127.70 kcal/mol.\n",
      "Energy increment is 6.38 kcal/mol.\n",
      "H-num file created from plot file.\n",
      "1,2,3,4,5, \n",
      "Suboptimal foldings created.\n",
      "Energy dot plot created.\n",
      "+\t+\t+\t+\t+\t\n",
      "Structure plots generated.\n",
      "All done.\n",
      "/home/jupyter/plant_microRNA_prediction\n"
     ]
    }
   ],
   "source": [
    "def run_mfold(tag):\n",
    "    tag = reformat(tag)\n",
    "    %cd {base + tag}\n",
    "    !mfold  SEQ=\"{tag}.FASTA\" T=20 \n",
    "    #!find . -type f ! -name \"*.ct\" ! -name \"*.pdf\" -exec rm {} \\;\n",
    "    %cd ../../..\n",
    "\n",
    "if __name__ == '__main__':        \n",
    "    pool = mp.Pool(mp.cpu_count() - 1)  \n",
    "    pool.map(run_mfold, df['tag'].iloc[:1])"
   ]
  },
  {
   "cell_type": "markdown",
   "metadata": {
    "heading_collapsed": true
   },
   "source": [
    "## mxfold2"
   ]
  },
  {
   "cell_type": "code",
   "execution_count": 20,
   "metadata": {
    "ExecuteTime": {
     "end_time": "2021-10-30T16:39:51.172414Z",
     "start_time": "2021-10-30T16:39:51.050088Z"
    },
    "hidden": true
   },
   "outputs": [],
   "source": [
    "#!wget https://github.com/keio-bioinformatics/mxfold2/releases/download/v0.1.1/mxfold2-0.1.1.tar.gz\n",
    "#!pip3 install mxfold2-0.1.1.tar.gz\n",
    "#!rm mxfold2-0.1.1.tar.gz"
   ]
  },
  {
   "cell_type": "code",
   "execution_count": 142,
   "metadata": {
    "ExecuteTime": {
     "end_time": "2021-10-31T17:46:45.976404Z",
     "start_time": "2021-10-31T17:46:19.057495Z"
    },
    "hidden": true
   },
   "outputs": [],
   "source": [
    "!mxfold2 predict SEQ.FASTA > RNA_secondary_structure/mxfold2_result.txt"
   ]
  },
  {
   "cell_type": "code",
   "execution_count": 143,
   "metadata": {
    "ExecuteTime": {
     "end_time": "2021-10-31T17:46:46.009981Z",
     "start_time": "2021-10-31T17:46:45.980600Z"
    },
    "hidden": true
   },
   "outputs": [
    {
     "data": {
      "text/html": [
       "<div>\n",
       "<style scoped>\n",
       "    .dataframe tbody tr th:only-of-type {\n",
       "        vertical-align: middle;\n",
       "    }\n",
       "\n",
       "    .dataframe tbody tr th {\n",
       "        vertical-align: top;\n",
       "    }\n",
       "\n",
       "    .dataframe thead th {\n",
       "        text-align: right;\n",
       "    }\n",
       "</style>\n",
       "<table border=\"1\" class=\"dataframe\">\n",
       "  <thead>\n",
       "    <tr style=\"text-align: right;\">\n",
       "      <th></th>\n",
       "      <th>tag</th>\n",
       "      <th>data</th>\n",
       "      <th>bracket</th>\n",
       "    </tr>\n",
       "  </thead>\n",
       "  <tbody>\n",
       "    <tr>\n",
       "      <th>0</th>\n",
       "      <td>AMWY02059828.1:2832-3256(+)</td>\n",
       "      <td>AAAGAATCAGCAATGGAAAAATAACCGGTTCTTAATTCAGcataac...</td>\n",
       "      <td>........................((((...........((........</td>\n",
       "    </tr>\n",
       "    <tr>\n",
       "      <th>1</th>\n",
       "      <td>AMWY02004761.1:1853-2277(+)</td>\n",
       "      <td>actaataatgCATGGCCATATATATCAAATCTACCATATgccattt...</td>\n",
       "      <td>.................................................</td>\n",
       "    </tr>\n",
       "  </tbody>\n",
       "</table>\n",
       "</div>"
      ],
      "text/plain": [
       "                           tag  \\\n",
       "0  AMWY02059828.1:2832-3256(+)   \n",
       "1  AMWY02004761.1:1853-2277(+)   \n",
       "\n",
       "                                                data  \\\n",
       "0  AAAGAATCAGCAATGGAAAAATAACCGGTTCTTAATTCAGcataac...   \n",
       "1  actaataatgCATGGCCATATATATCAAATCTACCATATgccattt...   \n",
       "\n",
       "                                             bracket  \n",
       "0  ........................((((...........((........  \n",
       "1  .................................................  "
      ]
     },
     "execution_count": 143,
     "metadata": {},
     "output_type": "execute_result"
    }
   ],
   "source": [
    "df = fasta_to_df('RNA_secondary_structure/mxfold2_result.txt')\n",
    "df = df.apply(lambda row: bracket_row(row) , axis=1)\n",
    "df.head(2)"
   ]
  },
  {
   "cell_type": "code",
   "execution_count": 145,
   "metadata": {
    "ExecuteTime": {
     "end_time": "2021-10-31T17:48:37.583164Z",
     "start_time": "2021-10-31T17:48:37.308743Z"
    },
    "hidden": true
   },
   "outputs": [],
   "source": [
    "base = \"./RNA_secondary_structure/mxfold2/\"\n",
    "!rm -r {base}\n",
    "!mkdir -p {base}\n",
    "for index, row in df.iterrows():    \n",
    "    if(not os.path.exists(base + reformat(row['tag']))):\n",
    "        os.makedirs(base + reformat(row['tag']))        \n",
    "    tag = reformat(row['tag'])\n",
    "    with open(base + f\"{tag}/{tag}.ct\",'w') as file:\n",
    "        bracket = row['bracket'].split(' ')[0]\n",
    "        deltaG = row['bracket'].split(' ')[1]\n",
    "        ct = bracket_to_ct(row['tag'], row['data'], bracket, deltaG)\n",
    "        file.write(ct)    "
   ]
  },
  {
   "cell_type": "markdown",
   "metadata": {
    "heading_collapsed": true
   },
   "source": [
    "## SPOT-RNA"
   ]
  },
  {
   "cell_type": "code",
   "execution_count": null,
   "metadata": {
    "hidden": true
   },
   "outputs": [],
   "source": []
  },
  {
   "cell_type": "markdown",
   "metadata": {
    "heading_collapsed": true
   },
   "source": [
    "## Vienna package"
   ]
  },
  {
   "cell_type": "code",
   "execution_count": 271,
   "metadata": {
    "ExecuteTime": {
     "end_time": "2021-11-01T18:10:48.713025Z",
     "start_time": "2021-11-01T18:10:48.709209Z"
    },
    "hidden": true
   },
   "outputs": [],
   "source": [
    "#!wget https://www.tbi.univie.ac.at/RNA/download/ubuntu/ubuntu_20_04/viennarna_2.4.18-1_amd64.deb -O viennarna.deb\n",
    "#!sudo dpkg -i ./viennarna.deb\n",
    "#!sudo apt-get -f install\n",
    "#!rm viennarna.deb"
   ]
  },
  {
   "cell_type": "code",
   "execution_count": 272,
   "metadata": {
    "ExecuteTime": {
     "end_time": "2021-11-01T18:10:49.375198Z",
     "start_time": "2021-11-01T18:10:49.047343Z"
    },
    "hidden": true
   },
   "outputs": [],
   "source": [
    "base = \"./RNA_secondary_structure/viennarna/\"\n",
    "!rm -r {base}\n",
    "!mkdir -p {base}"
   ]
  },
  {
   "cell_type": "code",
   "execution_count": 273,
   "metadata": {
    "ExecuteTime": {
     "end_time": "2021-11-01T18:10:58.366847Z",
     "start_time": "2021-11-01T18:10:50.542485Z"
    },
    "hidden": true
   },
   "outputs": [
    {
     "name": "stdout",
     "output_type": "stream",
     "text": [
      "/home/jupyter/plant_microRNA_prediction/RNA_secondary_structure/viennarna\n",
      "\u001b[1;35mWARNING: \u001b[0m\u001b[1m...from traverse_loop. Loop 6 has crossed regions\u001b[0m\n",
      "\u001b[1;35mWARNING: \u001b[0m\u001b[1m...from traverse_loop. Loop 6 has crossed regions\u001b[0m\n",
      "\u001b[1;35mWARNING: \u001b[0m\u001b[1m...from traverse_loop. Loop 6 has crossed regions\u001b[0m\n",
      "\u001b[1;35mWARNING: \u001b[0m\u001b[1m...from traverse_loop. Loop 6 has crossed regions\u001b[0m\n",
      "/home/jupyter/plant_microRNA_prediction\n"
     ]
    }
   ],
   "source": [
    "%cd {base}\n",
    "!RNAfold --jobs=0 --infile ../../extended.txt  > ../viennarna_result.txt\n",
    "%cd ../../"
   ]
  },
  {
   "cell_type": "code",
   "execution_count": 274,
   "metadata": {
    "ExecuteTime": {
     "end_time": "2021-11-01T18:11:00.091494Z",
     "start_time": "2021-11-01T18:10:59.536034Z"
    },
    "hidden": true
   },
   "outputs": [
    {
     "data": {
      "text/html": [
       "<div>\n",
       "<style scoped>\n",
       "    .dataframe tbody tr th:only-of-type {\n",
       "        vertical-align: middle;\n",
       "    }\n",
       "\n",
       "    .dataframe tbody tr th {\n",
       "        vertical-align: top;\n",
       "    }\n",
       "\n",
       "    .dataframe thead th {\n",
       "        text-align: right;\n",
       "    }\n",
       "</style>\n",
       "<table border=\"1\" class=\"dataframe\">\n",
       "  <thead>\n",
       "    <tr style=\"text-align: right;\">\n",
       "      <th></th>\n",
       "      <th>tag</th>\n",
       "      <th>data</th>\n",
       "      <th>bracket</th>\n",
       "    </tr>\n",
       "  </thead>\n",
       "  <tbody>\n",
       "    <tr>\n",
       "      <th>0</th>\n",
       "      <td>AMWY02059828.1:2832-3256(+)</td>\n",
       "      <td>AAAGAAUCAGCAAUGGAAAAAUAACCGGUUCUUAAUUCAGcauaac...</td>\n",
       "      <td>........((.(((((.......((((((((((....(((((((.....</td>\n",
       "    </tr>\n",
       "    <tr>\n",
       "      <th>1</th>\n",
       "      <td>AMWY02004761.1:1853-2277(+)</td>\n",
       "      <td>acuaauaaugCAUGGCCAUAUAUAUCAAAUCUACCAUAUgccauuu...</td>\n",
       "      <td>...........(((((.((((..............))))))))).....</td>\n",
       "    </tr>\n",
       "  </tbody>\n",
       "</table>\n",
       "</div>"
      ],
      "text/plain": [
       "                           tag  \\\n",
       "0  AMWY02059828.1:2832-3256(+)   \n",
       "1  AMWY02004761.1:1853-2277(+)   \n",
       "\n",
       "                                                data  \\\n",
       "0  AAAGAAUCAGCAAUGGAAAAAUAACCGGUUCUUAAUUCAGcauaac...   \n",
       "1  acuaauaaugCAUGGCCAUAUAUAUCAAAUCUACCAUAUgccauuu...   \n",
       "\n",
       "                                             bracket  \n",
       "0  ........((.(((((.......((((((((((....(((((((.....  \n",
       "1  ...........(((((.((((..............))))))))).....  "
      ]
     },
     "execution_count": 274,
     "metadata": {},
     "output_type": "execute_result"
    }
   ],
   "source": [
    "df = fasta_to_df('RNA_secondary_structure/viennarna_result.txt')\n",
    "df = df.apply(lambda row: bracket_row(row) , axis=1)\n",
    "df.head(2)"
   ]
  },
  {
   "cell_type": "code",
   "execution_count": 275,
   "metadata": {
    "ExecuteTime": {
     "end_time": "2021-11-01T18:11:03.208590Z",
     "start_time": "2021-11-01T18:11:01.147398Z"
    },
    "hidden": true
   },
   "outputs": [],
   "source": [
    "for index, row in df.iterrows():    \n",
    "    tag = reformat(row['tag'])\n",
    "    if(not os.path.exists(base + tag)):\n",
    "        os.makedirs(base + tag)      \n",
    "    with open(base + f\"{tag}/{tag}.ct\",'w') as file:\n",
    "        bracket = row['bracket'].split(' ')[0]\n",
    "        deltaG = row['bracket'].split(' ')[1]\n",
    "        ct = bracket_to_ct(row['tag'], row['data'], bracket, deltaG, False)\n",
    "        file.write(ct)    "
   ]
  },
  {
   "cell_type": "code",
   "execution_count": 276,
   "metadata": {
    "ExecuteTime": {
     "end_time": "2021-11-01T18:11:04.227668Z",
     "start_time": "2021-11-01T18:11:03.847356Z"
    },
    "hidden": true
   },
   "outputs": [
    {
     "name": "stdout",
     "output_type": "stream",
     "text": [
      "./RNA_secondary_structure/viennarna/AMWY02067918.1_868-1289(-)_ss.ps\n",
      "./RNA_secondary_structure/viennarna/AMWY020679181_868-1289_-_/AMWY020679181_868-1289_-_.ps\n",
      "./RNA_secondary_structure/viennarna/AMWY02033394.1_518-938(-)_ss.ps\n",
      "./RNA_secondary_structure/viennarna/AMWY020333941_518-938_-_/AMWY020333941_518-938_-_.ps\n",
      "./RNA_secondary_structure/viennarna/AMWY02125553.1_3-321(-)_ss.ps\n",
      "./RNA_secondary_structure/viennarna/AMWY021255531_3-321_-_/AMWY021255531_3-321_-_.ps\n",
      "./RNA_secondary_structure/viennarna/AMWY02039981.1_1215-1636(-)_ss.ps\n",
      "./RNA_secondary_structure/viennarna/AMWY020399811_1215-1636_-_/AMWY020399811_1215-1636_-_.ps\n",
      "./RNA_secondary_structure/viennarna/AMWY02044036.1_729-1150(+)_ss.ps\n",
      "./RNA_secondary_structure/viennarna/AMWY020440361_729-1150_+_/AMWY020440361_729-1150_+_.ps\n",
      "./RNA_secondary_structure/viennarna/AMWY02083568.1_5790-6210(-)_ss.ps\n",
      "./RNA_secondary_structure/viennarna/AMWY020835681_5790-6210_-_/AMWY020835681_5790-6210_-_.ps\n",
      "./RNA_secondary_structure/viennarna/AMWY02075576.1_1001-1421(+)_ss.ps\n",
      "./RNA_secondary_structure/viennarna/AMWY020755761_1001-1421_+_/AMWY020755761_1001-1421_+_.ps\n",
      "./RNA_secondary_structure/viennarna/AMWY02013611.1_406-828(-)_ss.ps\n",
      "./RNA_secondary_structure/viennarna/AMWY020136111_406-828_-_/AMWY020136111_406-828_-_.ps\n",
      "./RNA_secondary_structure/viennarna/AMWY02081099.1_0-272(-)_ss.ps\n",
      "./RNA_secondary_structure/viennarna/AMWY020810991_0-272_-_/AMWY020810991_0-272_-_.ps\n",
      "./RNA_secondary_structure/viennarna/AMWY02072995.1_8590-9010(+)_ss.ps\n",
      "./RNA_secondary_structure/viennarna/AMWY020729951_8590-9010_+_/AMWY020729951_8590-9010_+_.ps\n",
      "./RNA_secondary_structure/viennarna/AMWY02072079.1_86-507(+)_ss.ps\n",
      "./RNA_secondary_structure/viennarna/AMWY020720791_86-507_+_/AMWY020720791_86-507_+_.ps\n",
      "./RNA_secondary_structure/viennarna/AMWY02036519.1_7373-7794(+)_ss.ps\n",
      "./RNA_secondary_structure/viennarna/AMWY020365191_7373-7794_+_/AMWY020365191_7373-7794_+_.ps\n",
      "./RNA_secondary_structure/viennarna/AMWY02109873.1_351-753(+)_ss.ps\n",
      "./RNA_secondary_structure/viennarna/AMWY021098731_351-753_+_/AMWY021098731_351-753_+_.ps\n",
      "./RNA_secondary_structure/viennarna/AMWY02067912.1_307-651(+)_ss.ps\n",
      "./RNA_secondary_structure/viennarna/AMWY020679121_307-651_+_/AMWY020679121_307-651_+_.ps\n",
      "./RNA_secondary_structure/viennarna/AMWY02072077.1_3360-3781(+)_ss.ps\n",
      "./RNA_secondary_structure/viennarna/AMWY020720771_3360-3781_+_/AMWY020720771_3360-3781_+_.ps\n",
      "./RNA_secondary_structure/viennarna/AMWY02053841.1_3047-3467(+)_ss.ps\n",
      "./RNA_secondary_structure/viennarna/AMWY020538411_3047-3467_+_/AMWY020538411_3047-3467_+_.ps\n",
      "./RNA_secondary_structure/viennarna/AMWY02013752.1_226-646(+)_ss.ps\n",
      "./RNA_secondary_structure/viennarna/AMWY020137521_226-646_+_/AMWY020137521_226-646_+_.ps\n",
      "./RNA_secondary_structure/viennarna/AMWY02064511.1_8294-8715(+)_ss.ps\n",
      "./RNA_secondary_structure/viennarna/AMWY020645111_8294-8715_+_/AMWY020645111_8294-8715_+_.ps\n",
      "./RNA_secondary_structure/viennarna/AMWY02044036.1_677-1097(+)_ss.ps\n",
      "./RNA_secondary_structure/viennarna/AMWY020440361_677-1097_+_/AMWY020440361_677-1097_+_.ps\n",
      "./RNA_secondary_structure/viennarna/AMWY02059828.1_2832-3256(+)_ss.ps\n",
      "./RNA_secondary_structure/viennarna/AMWY020598281_2832-3256_+_/AMWY020598281_2832-3256_+_.ps\n",
      "./RNA_secondary_structure/viennarna/AMWY02020081.1_503-924(-)_ss.ps\n",
      "./RNA_secondary_structure/viennarna/AMWY020200811_503-924_-_/AMWY020200811_503-924_-_.ps\n",
      "./RNA_secondary_structure/viennarna/AMWY02076578.1_409-829(+)_ss.ps\n",
      "./RNA_secondary_structure/viennarna/AMWY020765781_409-829_+_/AMWY020765781_409-829_+_.ps\n",
      "./RNA_secondary_structure/viennarna/AMWY02020180.1_111-532(-)_ss.ps\n",
      "./RNA_secondary_structure/viennarna/AMWY020201801_111-532_-_/AMWY020201801_111-532_-_.ps\n",
      "./RNA_secondary_structure/viennarna/AMWY02012522.1_5489-5910(-)_ss.ps\n",
      "./RNA_secondary_structure/viennarna/AMWY020125221_5489-5910_-_/AMWY020125221_5489-5910_-_.ps\n",
      "./RNA_secondary_structure/viennarna/AMWY02006930.1_264-685(-)_ss.ps\n",
      "./RNA_secondary_structure/viennarna/AMWY020069301_264-685_-_/AMWY020069301_264-685_-_.ps\n",
      "./RNA_secondary_structure/viennarna/AMWY02071394.1_326-746(-)_ss.ps\n",
      "./RNA_secondary_structure/viennarna/AMWY020713941_326-746_-_/AMWY020713941_326-746_-_.ps\n",
      "./RNA_secondary_structure/viennarna/AMWY02026818.1_607-1028(+)_ss.ps\n",
      "./RNA_secondary_structure/viennarna/AMWY020268181_607-1028_+_/AMWY020268181_607-1028_+_.ps\n",
      "./RNA_secondary_structure/viennarna/AMWY02085869.1_1820-2241(+)_ss.ps\n",
      "./RNA_secondary_structure/viennarna/AMWY020858691_1820-2241_+_/AMWY020858691_1820-2241_+_.ps\n",
      "./RNA_secondary_structure/viennarna/AMWY02020081.1_503-925(-)_ss.ps\n",
      "./RNA_secondary_structure/viennarna/AMWY020200811_503-925_-_/AMWY020200811_503-925_-_.ps\n",
      "./RNA_secondary_structure/viennarna/AMWY02030001.1_57-397(-)_ss.ps\n",
      "./RNA_secondary_structure/viennarna/AMWY020300011_57-397_-_/AMWY020300011_57-397_-_.ps\n",
      "./RNA_secondary_structure/viennarna/AMWY02084240.1_482-902(-)_ss.ps\n",
      "./RNA_secondary_structure/viennarna/AMWY020842401_482-902_-_/AMWY020842401_482-902_-_.ps\n",
      "./RNA_secondary_structure/viennarna/AMWY02053921.1_1499-1919(+)_ss.ps\n",
      "./RNA_secondary_structure/viennarna/AMWY020539211_1499-1919_+_/AMWY020539211_1499-1919_+_.ps\n",
      "./RNA_secondary_structure/viennarna/AMWY02075571.1_0-377(+)_ss.ps\n",
      "./RNA_secondary_structure/viennarna/AMWY020755711_0-377_+_/AMWY020755711_0-377_+_.ps\n",
      "./RNA_secondary_structure/viennarna/AMWY02002882.1_33639-34059(-)_ss.ps\n",
      "./RNA_secondary_structure/viennarna/AMWY020028821_33639-34059_-_/AMWY020028821_33639-34059_-_.ps\n",
      "./RNA_secondary_structure/viennarna/AMWY02056071.1_4752-5173(-)_ss.ps\n",
      "./RNA_secondary_structure/viennarna/AMWY020560711_4752-5173_-_/AMWY020560711_4752-5173_-_.ps\n",
      "./RNA_secondary_structure/viennarna/AMWY02009767.1_785-1206(-)_ss.ps\n",
      "./RNA_secondary_structure/viennarna/AMWY020097671_785-1206_-_/AMWY020097671_785-1206_-_.ps\n",
      "./RNA_secondary_structure/viennarna/AMWY02053841.1_3047-3468(+)_ss.ps\n",
      "./RNA_secondary_structure/viennarna/AMWY020538411_3047-3468_+_/AMWY020538411_3047-3468_+_.ps\n",
      "./RNA_secondary_structure/viennarna/AMWY02030874.1_1382-1803(+)_ss.ps\n",
      "./RNA_secondary_structure/viennarna/AMWY020308741_1382-1803_+_/AMWY020308741_1382-1803_+_.ps\n",
      "./RNA_secondary_structure/viennarna/AMWY02025525.1_6167-6587(+)_ss.ps\n",
      "./RNA_secondary_structure/viennarna/AMWY020255251_6167-6587_+_/AMWY020255251_6167-6587_+_.ps\n",
      "./RNA_secondary_structure/viennarna/AMWY02063293.1_2312-2681(-)_ss.ps\n",
      "./RNA_secondary_structure/viennarna/AMWY020632931_2312-2681_-_/AMWY020632931_2312-2681_-_.ps\n",
      "./RNA_secondary_structure/viennarna/AMWY02082313.1_5753-6173(+)_ss.ps\n",
      "./RNA_secondary_structure/viennarna/AMWY020823131_5753-6173_+_/AMWY020823131_5753-6173_+_.ps\n",
      "./RNA_secondary_structure/viennarna/AMWY02092566.1_83-504(+)_ss.ps\n",
      "./RNA_secondary_structure/viennarna/AMWY020925661_83-504_+_/AMWY020925661_83-504_+_.ps\n",
      "./RNA_secondary_structure/viennarna/AMWY02002654.1_244-664(+)_ss.ps\n",
      "./RNA_secondary_structure/viennarna/AMWY020026541_244-664_+_/AMWY020026541_244-664_+_.ps\n",
      "./RNA_secondary_structure/viennarna/AMWY02043062.1_488-908(-)_ss.ps\n",
      "./RNA_secondary_structure/viennarna/AMWY020430621_488-908_-_/AMWY020430621_488-908_-_.ps\n",
      "./RNA_secondary_structure/viennarna/AMWY02089812.1_84-505(-)_ss.ps\n",
      "./RNA_secondary_structure/viennarna/AMWY020898121_84-505_-_/AMWY020898121_84-505_-_.ps\n",
      "./RNA_secondary_structure/viennarna/AMWY02022710.1_81-502(-)_ss.ps\n",
      "./RNA_secondary_structure/viennarna/AMWY020227101_81-502_-_/AMWY020227101_81-502_-_.ps\n",
      "./RNA_secondary_structure/viennarna/AMWY02038953.1_1616-2037(+)_ss.ps\n",
      "./RNA_secondary_structure/viennarna/AMWY020389531_1616-2037_+_/AMWY020389531_1616-2037_+_.ps\n",
      "./RNA_secondary_structure/viennarna/AMWY02086019.1_2394-2816(-)_ss.ps\n",
      "./RNA_secondary_structure/viennarna/AMWY020860191_2394-2816_-_/AMWY020860191_2394-2816_-_.ps\n",
      "./RNA_secondary_structure/viennarna/AMWY02003785.1_11206-11628(+)_ss.ps\n",
      "./RNA_secondary_structure/viennarna/AMWY020037851_11206-11628_+_/AMWY020037851_11206-11628_+_.ps\n",
      "./RNA_secondary_structure/viennarna/AMWY02125613.1_2401-2821(-)_ss.ps\n",
      "./RNA_secondary_structure/viennarna/AMWY021256131_2401-2821_-_/AMWY021256131_2401-2821_-_.ps\n",
      "./RNA_secondary_structure/viennarna/AMWY02008019.1_2185-2606(+)_ss.ps\n",
      "./RNA_secondary_structure/viennarna/AMWY020080191_2185-2606_+_/AMWY020080191_2185-2606_+_.ps\n",
      "./RNA_secondary_structure/viennarna/AMWY02000636.1_4775-5196(-)_ss.ps\n",
      "./RNA_secondary_structure/viennarna/AMWY020006361_4775-5196_-_/AMWY020006361_4775-5196_-_.ps\n",
      "./RNA_secondary_structure/viennarna/AMWY02097334.1_772-1193(-)_ss.ps\n",
      "./RNA_secondary_structure/viennarna/AMWY020973341_772-1193_-_/AMWY020973341_772-1193_-_.ps\n",
      "./RNA_secondary_structure/viennarna/AMWY02063240.1_624-1044(-)_ss.ps\n",
      "./RNA_secondary_structure/viennarna/AMWY020632401_624-1044_-_/AMWY020632401_624-1044_-_.ps\n",
      "./RNA_secondary_structure/viennarna/AMWY02082313.1_5812-6234(+)_ss.ps\n",
      "./RNA_secondary_structure/viennarna/AMWY020823131_5812-6234_+_/AMWY020823131_5812-6234_+_.ps\n",
      "./RNA_secondary_structure/viennarna/AMWY02020533.1_7348-7769(-)_ss.ps\n",
      "./RNA_secondary_structure/viennarna/AMWY020205331_7348-7769_-_/AMWY020205331_7348-7769_-_.ps\n",
      "./RNA_secondary_structure/viennarna/AMWY02060076.1_1763-2185(-)_ss.ps\n",
      "./RNA_secondary_structure/viennarna/AMWY020600761_1763-2185_-_/AMWY020600761_1763-2185_-_.ps\n",
      "./RNA_secondary_structure/viennarna/AMWY02075577.1_2531-2951(-)_ss.ps\n",
      "./RNA_secondary_structure/viennarna/AMWY020755771_2531-2951_-_/AMWY020755771_2531-2951_-_.ps\n",
      "./RNA_secondary_structure/viennarna/AMWY02047745.1_4779-5199(-)_ss.ps\n",
      "./RNA_secondary_structure/viennarna/AMWY020477451_4779-5199_-_/AMWY020477451_4779-5199_-_.ps\n",
      "./RNA_secondary_structure/viennarna/AMWY02071394.1_544-966(+)_ss.ps\n",
      "./RNA_secondary_structure/viennarna/AMWY020713941_544-966_+_/AMWY020713941_544-966_+_.ps\n",
      "./RNA_secondary_structure/viennarna/AMWY02037546.1_4655-5076(+)_ss.ps\n",
      "./RNA_secondary_structure/viennarna/AMWY020375461_4655-5076_+_/AMWY020375461_4655-5076_+_.ps\n",
      "./RNA_secondary_structure/viennarna/AMWY02038369.1_306-726(+)_ss.ps\n",
      "./RNA_secondary_structure/viennarna/AMWY020383691_306-726_+_/AMWY020383691_306-726_+_.ps\n",
      "./RNA_secondary_structure/viennarna/AMWY02006928.1_1233-1654(-)_ss.ps\n",
      "./RNA_secondary_structure/viennarna/AMWY020069281_1233-1654_-_/AMWY020069281_1233-1654_-_.ps\n",
      "./RNA_secondary_structure/viennarna/AMWY02040824.1_2902-3323(+)_ss.ps\n",
      "./RNA_secondary_structure/viennarna/AMWY020408241_2902-3323_+_/AMWY020408241_2902-3323_+_.ps\n",
      "./RNA_secondary_structure/viennarna/AMWY02030001.1_56-397(-)_ss.ps\n",
      "./RNA_secondary_structure/viennarna/AMWY020300011_56-397_-_/AMWY020300011_56-397_-_.ps\n",
      "./RNA_secondary_structure/viennarna/AMWY02125612.1_3046-3467(-)_ss.ps\n",
      "./RNA_secondary_structure/viennarna/AMWY021256121_3046-3467_-_/AMWY021256121_3046-3467_-_.ps\n",
      "./RNA_secondary_structure/viennarna/AMWY02075577.1_2530-2951(-)_ss.ps\n",
      "./RNA_secondary_structure/viennarna/AMWY020755771_2530-2951_-_/AMWY020755771_2530-2951_-_.ps\n",
      "./RNA_secondary_structure/viennarna/AMWY02048436.1_7390-7811(-)_ss.ps\n",
      "./RNA_secondary_structure/viennarna/AMWY020484361_7390-7811_-_/AMWY020484361_7390-7811_-_.ps\n",
      "./RNA_secondary_structure/viennarna/AMWY02103996.1_111-531(-)_ss.ps\n",
      "./RNA_secondary_structure/viennarna/AMWY021039961_111-531_-_/AMWY021039961_111-531_-_.ps\n",
      "./RNA_secondary_structure/viennarna/AMWY02022711.1_452-874(-)_ss.ps\n",
      "./RNA_secondary_structure/viennarna/AMWY020227111_452-874_-_/AMWY020227111_452-874_-_.ps\n",
      "./RNA_secondary_structure/viennarna/AMWY02075577.1_2457-2878(-)_ss.ps\n",
      "./RNA_secondary_structure/viennarna/AMWY020755771_2457-2878_-_/AMWY020755771_2457-2878_-_.ps\n",
      "./RNA_secondary_structure/viennarna/AMWY02002882.1_33638-34059(-)_ss.ps\n",
      "./RNA_secondary_structure/viennarna/AMWY020028821_33638-34059_-_/AMWY020028821_33638-34059_-_.ps\n",
      "./RNA_secondary_structure/viennarna/AMWY02054459.1_0-411(+)_ss.ps\n",
      "./RNA_secondary_structure/viennarna/AMWY020544591_0-411_+_/AMWY020544591_0-411_+_.ps\n",
      "./RNA_secondary_structure/viennarna/AMWY02103996.1_37-458(-)_ss.ps\n",
      "./RNA_secondary_structure/viennarna/AMWY021039961_37-458_-_/AMWY021039961_37-458_-_.ps\n",
      "./RNA_secondary_structure/viennarna/AMWY02008183.1_1162-1582(+)_ss.ps\n",
      "./RNA_secondary_structure/viennarna/AMWY020081831_1162-1582_+_/AMWY020081831_1162-1582_+_.ps\n",
      "./RNA_secondary_structure/viennarna/AMWY02006834.1_900-1321(-)_ss.ps\n",
      "./RNA_secondary_structure/viennarna/AMWY020068341_900-1321_-_/AMWY020068341_900-1321_-_.ps\n",
      "./RNA_secondary_structure/viennarna/AMWY02047745.1_4780-5201(-)_ss.ps\n",
      "./RNA_secondary_structure/viennarna/AMWY020477451_4780-5201_-_/AMWY020477451_4780-5201_-_.ps\n",
      "./RNA_secondary_structure/viennarna/AMWY02072689.1_0-377(+)_ss.ps\n",
      "./RNA_secondary_structure/viennarna/AMWY020726891_0-377_+_/AMWY020726891_0-377_+_.ps\n",
      "./RNA_secondary_structure/viennarna/AMWY02003241.1_1997-2420(+)_ss.ps\n",
      "./RNA_secondary_structure/viennarna/AMWY020032411_1997-2420_+_/AMWY020032411_1997-2420_+_.ps\n",
      "./RNA_secondary_structure/viennarna/AMWY02077774.1_961-1381(+)_ss.ps\n",
      "./RNA_secondary_structure/viennarna/AMWY020777741_961-1381_+_/AMWY020777741_961-1381_+_.ps\n",
      "./RNA_secondary_structure/viennarna/AMWY02013611.1_3258-3679(-)_ss.ps\n",
      "./RNA_secondary_structure/viennarna/AMWY020136111_3258-3679_-_/AMWY020136111_3258-3679_-_.ps\n",
      "./RNA_secondary_structure/viennarna/AMWY02032510.1_2032-2453(+)_ss.ps\n",
      "./RNA_secondary_structure/viennarna/AMWY020325101_2032-2453_+_/AMWY020325101_2032-2453_+_.ps\n",
      "./RNA_secondary_structure/viennarna/AMWY02061316.1_8895-9198(-)_ss.ps\n",
      "./RNA_secondary_structure/viennarna/AMWY020613161_8895-9198_-_/AMWY020613161_8895-9198_-_.ps\n",
      "./RNA_secondary_structure/viennarna/AMWY02078114.1_1294-1715(-)_ss.ps\n",
      "./RNA_secondary_structure/viennarna/AMWY020781141_1294-1715_-_/AMWY020781141_1294-1715_-_.ps\n",
      "./RNA_secondary_structure/viennarna/AMWY02103130.1_1114-1534(+)_ss.ps\n",
      "./RNA_secondary_structure/viennarna/AMWY021031301_1114-1534_+_/AMWY021031301_1114-1534_+_.ps\n",
      "./RNA_secondary_structure/viennarna/AMWY02010195.1_2847-3267(+)_ss.ps\n",
      "./RNA_secondary_structure/viennarna/AMWY020101951_2847-3267_+_/AMWY020101951_2847-3267_+_.ps\n",
      "./RNA_secondary_structure/viennarna/AMWY02002882.1_33638-34058(-)_ss.ps\n",
      "./RNA_secondary_structure/viennarna/AMWY020028821_33638-34058_-_/AMWY020028821_33638-34058_-_.ps\n",
      "./RNA_secondary_structure/viennarna/AMWY02001968.1_1243-1665(+)_ss.ps\n",
      "./RNA_secondary_structure/viennarna/AMWY020019681_1243-1665_+_/AMWY020019681_1243-1665_+_.ps\n",
      "./RNA_secondary_structure/viennarna/AMWY02103471.1_2890-3311(+)_ss.ps\n",
      "./RNA_secondary_structure/viennarna/AMWY021034711_2890-3311_+_/AMWY021034711_2890-3311_+_.ps\n",
      "./RNA_secondary_structure/viennarna/AMWY02033396.1_16-439(-)_ss.ps\n",
      "./RNA_secondary_structure/viennarna/AMWY020333961_16-439_-_/AMWY020333961_16-439_-_.ps\n",
      "./RNA_secondary_structure/viennarna/AMWY02024273.1_5270-5691(-)_ss.ps\n",
      "./RNA_secondary_structure/viennarna/AMWY020242731_5270-5691_-_/AMWY020242731_5270-5691_-_.ps\n",
      "./RNA_secondary_structure/viennarna/AMWY02082313.1_5813-6235(+)_ss.ps\n",
      "./RNA_secondary_structure/viennarna/AMWY020823131_5813-6235_+_/AMWY020823131_5813-6235_+_.ps\n",
      "./RNA_secondary_structure/viennarna/AMWY02103996.1_112-533(+)_ss.ps\n",
      "./RNA_secondary_structure/viennarna/AMWY021039961_112-533_+_/AMWY021039961_112-533_+_.ps\n",
      "./RNA_secondary_structure/viennarna/AMWY02106851.1_490-910(+)_ss.ps\n",
      "./RNA_secondary_structure/viennarna/AMWY021068511_490-910_+_/AMWY021068511_490-910_+_.ps\n",
      "./RNA_secondary_structure/viennarna/AMWY02044036.1_727-1148(-)_ss.ps\n",
      "./RNA_secondary_structure/viennarna/AMWY020440361_727-1148_-_/AMWY020440361_727-1148_-_.ps\n",
      "./RNA_secondary_structure/viennarna/AMWY02014828.1_6139-6560(-)_ss.ps\n",
      "./RNA_secondary_structure/viennarna/AMWY020148281_6139-6560_-_/AMWY020148281_6139-6560_-_.ps\n",
      "./RNA_secondary_structure/viennarna/AMWY02010657.1_5690-6096(-)_ss.ps\n",
      "./RNA_secondary_structure/viennarna/AMWY020106571_5690-6096_-_/AMWY020106571_5690-6096_-_.ps\n",
      "./RNA_secondary_structure/viennarna/AMWY02103850.1_42-463(+)_ss.ps\n",
      "./RNA_secondary_structure/viennarna/AMWY021038501_42-463_+_/AMWY021038501_42-463_+_.ps\n",
      "./RNA_secondary_structure/viennarna/AMWY02064372.1_940-1361(-)_ss.ps\n",
      "./RNA_secondary_structure/viennarna/AMWY020643721_940-1361_-_/AMWY020643721_940-1361_-_.ps\n",
      "./RNA_secondary_structure/viennarna/AMWY02083458.1_639-1045(-)_ss.ps\n",
      "./RNA_secondary_structure/viennarna/AMWY020834581_639-1045_-_/AMWY020834581_639-1045_-_.ps\n",
      "./RNA_secondary_structure/viennarna/AMWY02013611.1_3548-3969(-)_ss.ps\n",
      "./RNA_secondary_structure/viennarna/AMWY020136111_3548-3969_-_/AMWY020136111_3548-3969_-_.ps\n",
      "./RNA_secondary_structure/viennarna/AMWY02049825.1_2240-2660(-)_ss.ps\n",
      "./RNA_secondary_structure/viennarna/AMWY020498251_2240-2660_-_/AMWY020498251_2240-2660_-_.ps\n",
      "./RNA_secondary_structure/viennarna/AMWY02075576.1_1065-1485(+)_ss.ps\n",
      "./RNA_secondary_structure/viennarna/AMWY020755761_1065-1485_+_/AMWY020755761_1065-1485_+_.ps\n",
      "./RNA_secondary_structure/viennarna/AMWY02038760.1_1824-2247(+)_ss.ps\n",
      "./RNA_secondary_structure/viennarna/AMWY020387601_1824-2247_+_/AMWY020387601_1824-2247_+_.ps\n",
      "./RNA_secondary_structure/viennarna/AMWY02047745.1_4779-5200(-)_ss.ps\n",
      "./RNA_secondary_structure/viennarna/AMWY020477451_4779-5200_-_/AMWY020477451_4779-5200_-_.ps\n",
      "./RNA_secondary_structure/viennarna/AMWY02022710.1_82-502(-)_ss.ps\n",
      "./RNA_secondary_structure/viennarna/AMWY020227101_82-502_-_/AMWY020227101_82-502_-_.ps\n",
      "./RNA_secondary_structure/viennarna/AMWY02071394.1_325-746(-)_ss.ps\n",
      "./RNA_secondary_structure/viennarna/AMWY020713941_325-746_-_/AMWY020713941_325-746_-_.ps\n",
      "./RNA_secondary_structure/viennarna/AMWY02038760.1_1779-2200(+)_ss.ps\n",
      "./RNA_secondary_structure/viennarna/AMWY020387601_1779-2200_+_/AMWY020387601_1779-2200_+_.ps\n",
      "./RNA_secondary_structure/viennarna/AMWY02043062.1_414-834(-)_ss.ps\n",
      "./RNA_secondary_structure/viennarna/AMWY020430621_414-834_-_/AMWY020430621_414-834_-_.ps\n",
      "./RNA_secondary_structure/viennarna/AMWY02046101.1_1349-1769(-)_ss.ps\n",
      "./RNA_secondary_structure/viennarna/AMWY020461011_1349-1769_-_/AMWY020461011_1349-1769_-_.ps\n",
      "./RNA_secondary_structure/viennarna/AMWY02038953.1_1710-2131(-)_ss.ps\n",
      "./RNA_secondary_structure/viennarna/AMWY020389531_1710-2131_-_/AMWY020389531_1710-2131_-_.ps\n",
      "./RNA_secondary_structure/viennarna/AMWY02006834.1_833-1253(-)_ss.ps\n",
      "./RNA_secondary_structure/viennarna/AMWY020068341_833-1253_-_/AMWY020068341_833-1253_-_.ps\n",
      "./RNA_secondary_structure/viennarna/AMWY02123518.1_363-784(-)_ss.ps\n",
      "./RNA_secondary_structure/viennarna/AMWY021235181_363-784_-_/AMWY021235181_363-784_-_.ps\n",
      "./RNA_secondary_structure/viennarna/AMWY02064372.1_832-1253(-)_ss.ps\n",
      "./RNA_secondary_structure/viennarna/AMWY020643721_832-1253_-_/AMWY020643721_832-1253_-_.ps\n",
      "./RNA_secondary_structure/viennarna/AMWY02061133.1_272-693(+)_ss.ps\n",
      "./RNA_secondary_structure/viennarna/AMWY020611331_272-693_+_/AMWY020611331_272-693_+_.ps\n",
      "./RNA_secondary_structure/viennarna/AMWY02006834.1_831-1253(-)_ss.ps\n",
      "./RNA_secondary_structure/viennarna/AMWY020068341_831-1253_-_/AMWY020068341_831-1253_-_.ps\n",
      "./RNA_secondary_structure/viennarna/AMWY02002882.1_33797-34218(-)_ss.ps\n",
      "./RNA_secondary_structure/viennarna/AMWY020028821_33797-34218_-_/AMWY020028821_33797-34218_-_.ps\n",
      "./RNA_secondary_structure/viennarna/AMWY02055432.1_78-499(-)_ss.ps\n",
      "./RNA_secondary_structure/viennarna/AMWY020554321_78-499_-_/AMWY020554321_78-499_-_.ps\n",
      "./RNA_secondary_structure/viennarna/AMWY02064511.1_8296-8716(+)_ss.ps\n",
      "./RNA_secondary_structure/viennarna/AMWY020645111_8296-8716_+_/AMWY020645111_8296-8716_+_.ps\n",
      "./RNA_secondary_structure/viennarna/AMWY02012522.1_5488-5909(+)_ss.ps\n",
      "./RNA_secondary_structure/viennarna/AMWY020125221_5488-5909_+_/AMWY020125221_5488-5909_+_.ps\n",
      "./RNA_secondary_structure/viennarna/AMWY02075577.1_2458-2878(-)_ss.ps\n",
      "./RNA_secondary_structure/viennarna/AMWY020755771_2458-2878_-_/AMWY020755771_2458-2878_-_.ps\n",
      "./RNA_secondary_structure/viennarna/AMWY02030167.1_572-993(-)_ss.ps\n",
      "./RNA_secondary_structure/viennarna/AMWY020301671_572-993_-_/AMWY020301671_572-993_-_.ps\n",
      "./RNA_secondary_structure/viennarna/AMWY02039047.1_0-348(+)_ss.ps\n",
      "./RNA_secondary_structure/viennarna/AMWY020390471_0-348_+_/AMWY020390471_0-348_+_.ps\n",
      "./RNA_secondary_structure/viennarna/AMWY02033396.1_104-522(-)_ss.ps\n",
      "./RNA_secondary_structure/viennarna/AMWY020333961_104-522_-_/AMWY020333961_104-522_-_.ps\n",
      "./RNA_secondary_structure/viennarna/AMWY02004761.1_1788-2209(+)_ss.ps\n",
      "./RNA_secondary_structure/viennarna/AMWY020047611_1788-2209_+_/AMWY020047611_1788-2209_+_.ps\n",
      "./RNA_secondary_structure/viennarna/AMWY02053841.1_3049-3470(+)_ss.ps\n",
      "./RNA_secondary_structure/viennarna/AMWY020538411_3049-3470_+_/AMWY020538411_3049-3470_+_.ps\n",
      "./RNA_secondary_structure/viennarna/AMWY02002487.1_2689-3109(-)_ss.ps\n",
      "./RNA_secondary_structure/viennarna/AMWY020024871_2689-3109_-_/AMWY020024871_2689-3109_-_.ps\n",
      "./RNA_secondary_structure/viennarna/AMWY02038760.1_1826-2246(+)_ss.ps\n",
      "./RNA_secondary_structure/viennarna/AMWY020387601_1826-2246_+_/AMWY020387601_1826-2246_+_.ps\n",
      "./RNA_secondary_structure/viennarna/AMWY02043062.1_414-835(-)_ss.ps\n",
      "./RNA_secondary_structure/viennarna/AMWY020430621_414-835_-_/AMWY020430621_414-835_-_.ps\n",
      "./RNA_secondary_structure/viennarna/AMWY02089009.1_1707-2127(+)_ss.ps\n",
      "./RNA_secondary_structure/viennarna/AMWY020890091_1707-2127_+_/AMWY020890091_1707-2127_+_.ps\n",
      "./RNA_secondary_structure/viennarna/AMWY02069092.1_394-733(+)_ss.ps\n",
      "./RNA_secondary_structure/viennarna/AMWY020690921_394-733_+_/AMWY020690921_394-733_+_.ps\n",
      "./RNA_secondary_structure/viennarna/AMWY02099822.1_1488-1910(-)_ss.ps\n",
      "./RNA_secondary_structure/viennarna/AMWY020998221_1488-1910_-_/AMWY020998221_1488-1910_-_.ps\n",
      "./RNA_secondary_structure/viennarna/AMWY02112093.1_98-519(-)_ss.ps\n",
      "./RNA_secondary_structure/viennarna/AMWY021120931_98-519_-_/AMWY021120931_98-519_-_.ps\n",
      "./RNA_secondary_structure/viennarna/AMWY02096708.1_505-927(-)_ss.ps\n",
      "./RNA_secondary_structure/viennarna/AMWY020967081_505-927_-_/AMWY020967081_505-927_-_.ps\n",
      "./RNA_secondary_structure/viennarna/AMWY02048125.1_1222-1643(+)_ss.ps\n",
      "./RNA_secondary_structure/viennarna/AMWY020481251_1222-1643_+_/AMWY020481251_1222-1643_+_.ps\n",
      "./RNA_secondary_structure/viennarna/AMWY02110951.1_303-723(-)_ss.ps\n",
      "./RNA_secondary_structure/viennarna/AMWY021109511_303-723_-_/AMWY021109511_303-723_-_.ps\n",
      "./RNA_secondary_structure/viennarna/AMWY02099822.1_1487-1909(-)_ss.ps\n",
      "./RNA_secondary_structure/viennarna/AMWY020998221_1487-1909_-_/AMWY020998221_1487-1909_-_.ps\n",
      "./RNA_secondary_structure/viennarna/AMWY02033394.1_469-893(-)_ss.ps\n",
      "./RNA_secondary_structure/viennarna/AMWY020333941_469-893_-_/AMWY020333941_469-893_-_.ps\n",
      "./RNA_secondary_structure/viennarna/AMWY02110608.1_115-535(+)_ss.ps\n",
      "./RNA_secondary_structure/viennarna/AMWY021106081_115-535_+_/AMWY021106081_115-535_+_.ps\n",
      "./RNA_secondary_structure/viennarna/AMWY02025269.1_2836-3256(-)_ss.ps\n",
      "./RNA_secondary_structure/viennarna/AMWY020252691_2836-3256_-_/AMWY020252691_2836-3256_-_.ps\n",
      "./RNA_secondary_structure/viennarna/AMWY02059828.1_2832-3254(-)_ss.ps\n",
      "./RNA_secondary_structure/viennarna/AMWY020598281_2832-3254_-_/AMWY020598281_2832-3254_-_.ps\n",
      "./RNA_secondary_structure/viennarna/AMWY02072689.1_0-318(+)_ss.ps\n",
      "./RNA_secondary_structure/viennarna/AMWY020726891_0-318_+_/AMWY020726891_0-318_+_.ps\n",
      "./RNA_secondary_structure/viennarna/AMWY02121860.1_0-392(+)_ss.ps\n",
      "./RNA_secondary_structure/viennarna/AMWY021218601_0-392_+_/AMWY021218601_0-392_+_.ps\n",
      "./RNA_secondary_structure/viennarna/AMWY02066294.1_3811-4232(-)_ss.ps\n",
      "./RNA_secondary_structure/viennarna/AMWY020662941_3811-4232_-_/AMWY020662941_3811-4232_-_.ps\n",
      "./RNA_secondary_structure/viennarna/AMWY02002654.1_245-665(+)_ss.ps\n",
      "./RNA_secondary_structure/viennarna/AMWY020026541_245-665_+_/AMWY020026541_245-665_+_.ps\n",
      "./RNA_secondary_structure/viennarna/AMWY02010195.1_2847-3268(+)_ss.ps\n",
      "./RNA_secondary_structure/viennarna/AMWY020101951_2847-3268_+_/AMWY020101951_2847-3268_+_.ps\n",
      "./RNA_secondary_structure/viennarna/AMWY02072689.1_0-317(+)_ss.ps\n",
      "./RNA_secondary_structure/viennarna/AMWY020726891_0-317_+_/AMWY020726891_0-317_+_.ps\n",
      "./RNA_secondary_structure/viennarna/AMWY02077935.1_5799-6219(-)_ss.ps\n",
      "./RNA_secondary_structure/viennarna/AMWY020779351_5799-6219_-_/AMWY020779351_5799-6219_-_.ps\n",
      "./RNA_secondary_structure/viennarna/AMWY02084240.1_481-902(-)_ss.ps\n",
      "./RNA_secondary_structure/viennarna/AMWY020842401_481-902_-_/AMWY020842401_481-902_-_.ps\n",
      "./RNA_secondary_structure/viennarna/AMWY02067626.1_7483-7904(-)_ss.ps\n",
      "./RNA_secondary_structure/viennarna/AMWY020676261_7483-7904_-_/AMWY020676261_7483-7904_-_.ps\n",
      "./RNA_secondary_structure/viennarna/AMWY02035317.1_1967-2388(-)_ss.ps\n",
      "./RNA_secondary_structure/viennarna/AMWY020353171_1967-2388_-_/AMWY020353171_1967-2388_-_.ps\n",
      "./RNA_secondary_structure/viennarna/AMWY02002212.1_7867-8287(+)_ss.ps\n",
      "./RNA_secondary_structure/viennarna/AMWY020022121_7867-8287_+_/AMWY020022121_7867-8287_+_.ps\n",
      "./RNA_secondary_structure/viennarna/AMWY02044036.1_677-1098(+)_ss.ps\n",
      "./RNA_secondary_structure/viennarna/AMWY020440361_677-1098_+_/AMWY020440361_677-1098_+_.ps\n",
      "./RNA_secondary_structure/viennarna/AMWY02086369.1_2293-2714(-)_ss.ps\n",
      "./RNA_secondary_structure/viennarna/AMWY020863691_2293-2714_-_/AMWY020863691_2293-2714_-_.ps\n",
      "./RNA_secondary_structure/viennarna/AMWY02033866.1_1131-1553(+)_ss.ps\n",
      "./RNA_secondary_structure/viennarna/AMWY020338661_1131-1553_+_/AMWY020338661_1131-1553_+_.ps\n",
      "./RNA_secondary_structure/viennarna/AMWY02121860.1_0-393(+)_ss.ps\n",
      "./RNA_secondary_structure/viennarna/AMWY021218601_0-393_+_/AMWY021218601_0-393_+_.ps\n",
      "./RNA_secondary_structure/viennarna/AMWY02020533.1_7023-7445(-)_ss.ps\n",
      "./RNA_secondary_structure/viennarna/AMWY020205331_7023-7445_-_/AMWY020205331_7023-7445_-_.ps\n",
      "./RNA_secondary_structure/viennarna/AMWY02075576.1_1064-1485(+)_ss.ps\n",
      "./RNA_secondary_structure/viennarna/AMWY020755761_1064-1485_+_/AMWY020755761_1064-1485_+_.ps\n",
      "./RNA_secondary_structure/viennarna/AMWY02061665.1_8246-8667(-)_ss.ps\n",
      "./RNA_secondary_structure/viennarna/AMWY020616651_8246-8667_-_/AMWY020616651_8246-8667_-_.ps\n",
      "./RNA_secondary_structure/viennarna/AMWY02038953.1_1713-2133(+)_ss.ps\n",
      "./RNA_secondary_structure/viennarna/AMWY020389531_1713-2133_+_/AMWY020389531_1713-2133_+_.ps\n",
      "./RNA_secondary_structure/viennarna/AMWY02000708.1_1276-1661(+)_ss.ps\n",
      "./RNA_secondary_structure/viennarna/AMWY020007081_1276-1661_+_/AMWY020007081_1276-1661_+_.ps\n",
      "./RNA_secondary_structure/viennarna/AMWY02071701.1_1810-2231(+)_ss.ps\n",
      "./RNA_secondary_structure/viennarna/AMWY020717011_1810-2231_+_/AMWY020717011_1810-2231_+_.ps\n",
      "./RNA_secondary_structure/viennarna/AMWY02052125.1_611-1032(+)_ss.ps\n",
      "./RNA_secondary_structure/viennarna/AMWY020521251_611-1032_+_/AMWY020521251_611-1032_+_.ps\n",
      "./RNA_secondary_structure/viennarna/AMWY02038953.1_1712-2132(+)_ss.ps\n",
      "./RNA_secondary_structure/viennarna/AMWY020389531_1712-2132_+_/AMWY020389531_1712-2132_+_.ps\n",
      "./RNA_secondary_structure/viennarna/AMWY02013427.1_244-666(+)_ss.ps\n",
      "./RNA_secondary_structure/viennarna/AMWY020134271_244-666_+_/AMWY020134271_244-666_+_.ps\n",
      "./RNA_secondary_structure/viennarna/AMWY02006834.1_832-1252(-)_ss.ps\n",
      "./RNA_secondary_structure/viennarna/AMWY020068341_832-1252_-_/AMWY020068341_832-1252_-_.ps\n",
      "./RNA_secondary_structure/viennarna/AMWY02036993.1_135-555(+)_ss.ps\n",
      "./RNA_secondary_structure/viennarna/AMWY020369931_135-555_+_/AMWY020369931_135-555_+_.ps\n",
      "./RNA_secondary_structure/viennarna/AMWY02033249.1_0-289(-)_ss.ps\n",
      "./RNA_secondary_structure/viennarna/AMWY020332491_0-289_-_/AMWY020332491_0-289_-_.ps\n",
      "./RNA_secondary_structure/viennarna/AMWY02103996.1_37-460(-)_ss.ps\n",
      "./RNA_secondary_structure/viennarna/AMWY021039961_37-460_-_/AMWY021039961_37-460_-_.ps\n",
      "./RNA_secondary_structure/viennarna/AMWY02036519.1_7302-7722(+)_ss.ps\n",
      "./RNA_secondary_structure/viennarna/AMWY020365191_7302-7722_+_/AMWY020365191_7302-7722_+_.ps\n",
      "./RNA_secondary_structure/viennarna/AMWY02002487.1_2518-2939(+)_ss.ps\n",
      "./RNA_secondary_structure/viennarna/AMWY020024871_2518-2939_+_/AMWY020024871_2518-2939_+_.ps\n",
      "./RNA_secondary_structure/viennarna/AMWY02033933.1_1960-2222(-)_ss.ps\n",
      "./RNA_secondary_structure/viennarna/AMWY020339331_1960-2222_-_/AMWY020339331_1960-2222_-_.ps\n",
      "./RNA_secondary_structure/viennarna/AMWY02043062.1_487-908(-)_ss.ps\n",
      "./RNA_secondary_structure/viennarna/AMWY020430621_487-908_-_/AMWY020430621_487-908_-_.ps\n",
      "./RNA_secondary_structure/viennarna/AMWY02089009.1_1706-2126(+)_ss.ps\n",
      "./RNA_secondary_structure/viennarna/AMWY020890091_1706-2126_+_/AMWY020890091_1706-2126_+_.ps\n",
      "./RNA_secondary_structure/viennarna/AMWY02012522.1_5544-5965(+)_ss.ps\n",
      "./RNA_secondary_structure/viennarna/AMWY020125221_5544-5965_+_/AMWY020125221_5544-5965_+_.ps\n",
      "./RNA_secondary_structure/viennarna/AMWY02033394.1_516-938(-)_ss.ps\n",
      "./RNA_secondary_structure/viennarna/AMWY020333941_516-938_-_/AMWY020333941_516-938_-_.ps\n",
      "./RNA_secondary_structure/viennarna/AMWY02106851.1_448-869(+)_ss.ps\n",
      "./RNA_secondary_structure/viennarna/AMWY021068511_448-869_+_/AMWY021068511_448-869_+_.ps\n",
      "./RNA_secondary_structure/viennarna/AMWY02078114.1_1356-1778(-)_ss.ps\n",
      "./RNA_secondary_structure/viennarna/AMWY020781141_1356-1778_-_/AMWY020781141_1356-1778_-_.ps\n",
      "./RNA_secondary_structure/viennarna/AMWY02039813.1_110-530(+)_ss.ps\n",
      "./RNA_secondary_structure/viennarna/AMWY020398131_110-530_+_/AMWY020398131_110-530_+_.ps\n",
      "./RNA_secondary_structure/viennarna/AMWY02078114.1_1195-1616(-)_ss.ps\n",
      "./RNA_secondary_structure/viennarna/AMWY020781141_1195-1616_-_/AMWY020781141_1195-1616_-_.ps\n",
      "./RNA_secondary_structure/viennarna/AMWY02075576.1_1001-1422(+)_ss.ps\n",
      "./RNA_secondary_structure/viennarna/AMWY020755761_1001-1422_+_/AMWY020755761_1001-1422_+_.ps\n",
      "./RNA_secondary_structure/viennarna/AMWY02049825.1_2242-2663(-)_ss.ps\n",
      "./RNA_secondary_structure/viennarna/AMWY020498251_2242-2663_-_/AMWY020498251_2242-2663_-_.ps\n",
      "./RNA_secondary_structure/viennarna/AMWY02103130.1_1060-1480(+)_ss.ps\n",
      "./RNA_secondary_structure/viennarna/AMWY021031301_1060-1480_+_/AMWY021031301_1060-1480_+_.ps\n",
      "./RNA_secondary_structure/viennarna/AMWY02043062.1_489-910(+)_ss.ps\n",
      "./RNA_secondary_structure/viennarna/AMWY020430621_489-910_+_/AMWY020430621_489-910_+_.ps\n",
      "./RNA_secondary_structure/viennarna/AMWY02039981.1_1156-1577(-)_ss.ps\n",
      "./RNA_secondary_structure/viennarna/AMWY020399811_1156-1577_-_/AMWY020399811_1156-1577_-_.ps\n",
      "./RNA_secondary_structure/viennarna/AMWY02035913.1_2747-3168(+)_ss.ps\n",
      "./RNA_secondary_structure/viennarna/AMWY020359131_2747-3168_+_/AMWY020359131_2747-3168_+_.ps\n",
      "./RNA_secondary_structure/viennarna/AMWY02022832.1_1667-2087(-)_ss.ps\n",
      "./RNA_secondary_structure/viennarna/AMWY020228321_1667-2087_-_/AMWY020228321_1667-2087_-_.ps\n",
      "./RNA_secondary_structure/viennarna/AMWY02020180.1_203-624(-)_ss.ps\n",
      "./RNA_secondary_structure/viennarna/AMWY020201801_203-624_-_/AMWY020201801_203-624_-_.ps\n",
      "./RNA_secondary_structure/viennarna/AMWY02030167.1_571-992(-)_ss.ps\n",
      "./RNA_secondary_structure/viennarna/AMWY020301671_571-992_-_/AMWY020301671_571-992_-_.ps\n",
      "./RNA_secondary_structure/viennarna/AMWY02013611.1_3257-3679(-)_ss.ps\n",
      "./RNA_secondary_structure/viennarna/AMWY020136111_3257-3679_-_/AMWY020136111_3257-3679_-_.ps\n",
      "./RNA_secondary_structure/viennarna/AMWY02071754.1_1353-1773(+)_ss.ps\n",
      "./RNA_secondary_structure/viennarna/AMWY020717541_1353-1773_+_/AMWY020717541_1353-1773_+_.ps\n",
      "./RNA_secondary_structure/viennarna/AMWY02046101.1_1347-1768(-)_ss.ps\n",
      "./RNA_secondary_structure/viennarna/AMWY020461011_1347-1768_-_/AMWY020461011_1347-1768_-_.ps\n",
      "./RNA_secondary_structure/viennarna/AMWY02072615.1_56-477(+)_ss.ps\n",
      "./RNA_secondary_structure/viennarna/AMWY020726151_56-477_+_/AMWY020726151_56-477_+_.ps\n",
      "./RNA_secondary_structure/viennarna/AMWY02106851.1_490-911(+)_ss.ps\n",
      "./RNA_secondary_structure/viennarna/AMWY021068511_490-911_+_/AMWY021068511_490-911_+_.ps\n",
      "./RNA_secondary_structure/viennarna/AMWY02071754.1_1350-1771(+)_ss.ps\n",
      "./RNA_secondary_structure/viennarna/AMWY020717541_1350-1771_+_/AMWY020717541_1350-1771_+_.ps\n",
      "./RNA_secondary_structure/viennarna/AMWY02067626.1_7483-7906(+)_ss.ps\n",
      "./RNA_secondary_structure/viennarna/AMWY020676261_7483-7906_+_/AMWY020676261_7483-7906_+_.ps\n",
      "./RNA_secondary_structure/viennarna/AMWY02002882.1_33750-34171(-)_ss.ps\n",
      "./RNA_secondary_structure/viennarna/AMWY020028821_33750-34171_-_/AMWY020028821_33750-34171_-_.ps\n",
      "./RNA_secondary_structure/viennarna/AMWY02075576.1_1062-1483(+)_ss.ps\n",
      "./RNA_secondary_structure/viennarna/AMWY020755761_1062-1483_+_/AMWY020755761_1062-1483_+_.ps\n",
      "./RNA_secondary_structure/viennarna/AMWY02089009.1_1706-2127(+)_ss.ps\n",
      "./RNA_secondary_structure/viennarna/AMWY020890091_1706-2127_+_/AMWY020890091_1706-2127_+_.ps\n",
      "./RNA_secondary_structure/viennarna/AMWY02059828.1_2931-3353(-)_ss.ps\n",
      "./RNA_secondary_structure/viennarna/AMWY020598281_2931-3353_-_/AMWY020598281_2931-3353_-_.ps\n",
      "./RNA_secondary_structure/viennarna/AMWY02098888.1_887-1308(+)_ss.ps\n",
      "./RNA_secondary_structure/viennarna/AMWY020988881_887-1308_+_/AMWY020988881_887-1308_+_.ps\n",
      "./RNA_secondary_structure/viennarna/AMWY02110608.1_115-536(+)_ss.ps\n",
      "./RNA_secondary_structure/viennarna/AMWY021106081_115-536_+_/AMWY021106081_115-536_+_.ps\n",
      "./RNA_secondary_structure/viennarna/AMWY02118469.1_0-383(+)_ss.ps\n",
      "./RNA_secondary_structure/viennarna/AMWY021184691_0-383_+_/AMWY021184691_0-383_+_.ps\n",
      "./RNA_secondary_structure/viennarna/AMWY02064372.1_834-1254(-)_ss.ps\n",
      "./RNA_secondary_structure/viennarna/AMWY020643721_834-1254_-_/AMWY020643721_834-1254_-_.ps\n",
      "./RNA_secondary_structure/viennarna/AMWY02075577.1_2530-2950(-)_ss.ps\n",
      "./RNA_secondary_structure/viennarna/AMWY020755771_2530-2950_-_/AMWY020755771_2530-2950_-_.ps\n",
      "./RNA_secondary_structure/viennarna/AMWY02113323.1_122-543(+)_ss.ps\n",
      "./RNA_secondary_structure/viennarna/AMWY021133231_122-543_+_/AMWY021133231_122-543_+_.ps\n",
      "./RNA_secondary_structure/viennarna/AMWY02082313.1_5753-6174(+)_ss.ps\n",
      "./RNA_secondary_structure/viennarna/AMWY020823131_5753-6174_+_/AMWY020823131_5753-6174_+_.ps\n",
      "./RNA_secondary_structure/viennarna/AMWY02008103.1_6379-6800(-)_ss.ps\n",
      "./RNA_secondary_structure/viennarna/AMWY020081031_6379-6800_-_/AMWY020081031_6379-6800_-_.ps\n",
      "./RNA_secondary_structure/viennarna/AMWY02038760.1_1826-2247(+)_ss.ps\n",
      "./RNA_secondary_structure/viennarna/AMWY020387601_1826-2247_+_/AMWY020387601_1826-2247_+_.ps\n",
      "./RNA_secondary_structure/viennarna/AMWY02103130.1_1059-1480(+)_ss.ps\n",
      "./RNA_secondary_structure/viennarna/AMWY021031301_1059-1480_+_/AMWY021031301_1059-1480_+_.ps\n",
      "./RNA_secondary_structure/viennarna/AMWY02059073.1_3601-4022(-)_ss.ps\n",
      "./RNA_secondary_structure/viennarna/AMWY020590731_3601-4022_-_/AMWY020590731_3601-4022_-_.ps\n",
      "./RNA_secondary_structure/viennarna/AMWY02008183.1_1162-1583(+)_ss.ps\n",
      "./RNA_secondary_structure/viennarna/AMWY020081831_1162-1583_+_/AMWY020081831_1162-1583_+_.ps\n",
      "./RNA_secondary_structure/viennarna/AMWY02020180.1_112-532(-)_ss.ps\n",
      "./RNA_secondary_structure/viennarna/AMWY020201801_112-532_-_/AMWY020201801_112-532_-_.ps\n",
      "./RNA_secondary_structure/viennarna/AMWY02038953.1_1711-2132(+)_ss.ps\n",
      "./RNA_secondary_structure/viennarna/AMWY020389531_1711-2132_+_/AMWY020389531_1711-2132_+_.ps\n",
      "./RNA_secondary_structure/viennarna/AMWY02036519.1_7302-7723(+)_ss.ps\n",
      "./RNA_secondary_structure/viennarna/AMWY020365191_7302-7723_+_/AMWY020365191_7302-7723_+_.ps\n",
      "./RNA_secondary_structure/viennarna/AMWY02057495.1_0-288(+)_ss.ps\n",
      "./RNA_secondary_structure/viennarna/AMWY020574951_0-288_+_/AMWY020574951_0-288_+_.ps\n",
      "./RNA_secondary_structure/viennarna/AMWY02083659.1_241-663(+)_ss.ps\n",
      "./RNA_secondary_structure/viennarna/AMWY020836591_241-663_+_/AMWY020836591_241-663_+_.ps\n",
      "./RNA_secondary_structure/viennarna/AMWY02048808.1_0-283(-)_ss.ps\n",
      "./RNA_secondary_structure/viennarna/AMWY020488081_0-283_-_/AMWY020488081_0-283_-_.ps\n",
      "./RNA_secondary_structure/viennarna/AMWY02067626.1_7484-7905(+)_ss.ps\n",
      "./RNA_secondary_structure/viennarna/AMWY020676261_7484-7905_+_/AMWY020676261_7484-7905_+_.ps\n",
      "./RNA_secondary_structure/viennarna/AMWY02002654.1_244-666(+)_ss.ps\n",
      "./RNA_secondary_structure/viennarna/AMWY020026541_244-666_+_/AMWY020026541_244-666_+_.ps\n",
      "./RNA_secondary_structure/viennarna/AMWY02057498.1_0-261(+)_ss.ps\n",
      "./RNA_secondary_structure/viennarna/AMWY020574981_0-261_+_/AMWY020574981_0-261_+_.ps\n",
      "./RNA_secondary_structure/viennarna/AMWY02004761.1_1857-2277(+)_ss.ps\n",
      "./RNA_secondary_structure/viennarna/AMWY020047611_1857-2277_+_/AMWY020047611_1857-2277_+_.ps\n",
      "./RNA_secondary_structure/viennarna/AMWY02105301.1_2187-2608(+)_ss.ps\n",
      "./RNA_secondary_structure/viennarna/AMWY021053011_2187-2608_+_/AMWY021053011_2187-2608_+_.ps\n",
      "./RNA_secondary_structure/viennarna/AMWY02064143.1_2950-3371(+)_ss.ps\n",
      "./RNA_secondary_structure/viennarna/AMWY020641431_2950-3371_+_/AMWY020641431_2950-3371_+_.ps\n",
      "./RNA_secondary_structure/viennarna/AMWY02066294.1_3811-4231(-)_ss.ps\n",
      "./RNA_secondary_structure/viennarna/AMWY020662941_3811-4231_-_/AMWY020662941_3811-4231_-_.ps\n",
      "./RNA_secondary_structure/viennarna/AMWY02094772.1_320-724(-)_ss.ps\n",
      "./RNA_secondary_structure/viennarna/AMWY020947721_320-724_-_/AMWY020947721_320-724_-_.ps\n",
      "./RNA_secondary_structure/viennarna/AMWY02033394.1_517-938(-)_ss.ps\n",
      "./RNA_secondary_structure/viennarna/AMWY020333941_517-938_-_/AMWY020333941_517-938_-_.ps\n",
      "./RNA_secondary_structure/viennarna/AMWY02099822.1_1549-1969(-)_ss.ps\n",
      "./RNA_secondary_structure/viennarna/AMWY020998221_1549-1969_-_/AMWY020998221_1549-1969_-_.ps\n",
      "./RNA_secondary_structure/viennarna/AMWY02034614.1_58-478(+)_ss.ps\n",
      "./RNA_secondary_structure/viennarna/AMWY020346141_58-478_+_/AMWY020346141_58-478_+_.ps\n",
      "./RNA_secondary_structure/viennarna/AMWY02046101.1_1348-1768(-)_ss.ps\n",
      "./RNA_secondary_structure/viennarna/AMWY020461011_1348-1768_-_/AMWY020461011_1348-1768_-_.ps\n",
      "./RNA_secondary_structure/viennarna/AMWY02013611.1_3549-3969(-)_ss.ps\n",
      "./RNA_secondary_structure/viennarna/AMWY020136111_3549-3969_-_/AMWY020136111_3549-3969_-_.ps\n",
      "./RNA_secondary_structure/viennarna/AMWY02059073.1_3602-4022(-)_ss.ps\n",
      "./RNA_secondary_structure/viennarna/AMWY020590731_3602-4022_-_/AMWY020590731_3602-4022_-_.ps\n",
      "./RNA_secondary_structure/viennarna/AMWY02123518.1_364-784(-)_ss.ps\n",
      "./RNA_secondary_structure/viennarna/AMWY021235181_364-784_-_/AMWY021235181_364-784_-_.ps\n",
      "./RNA_secondary_structure/viennarna/AMWY02016736.1_1215-1636(+)_ss.ps\n",
      "./RNA_secondary_structure/viennarna/AMWY020167361_1215-1636_+_/AMWY020167361_1215-1636_+_.ps\n",
      "./RNA_secondary_structure/viennarna/AMWY02075577.1_2457-2877(-)_ss.ps\n",
      "./RNA_secondary_structure/viennarna/AMWY020755771_2457-2877_-_/AMWY020755771_2457-2877_-_.ps\n",
      "./RNA_secondary_structure/viennarna/AMWY02083127.1_3092-3455(+)_ss.ps\n",
      "./RNA_secondary_structure/viennarna/AMWY020831271_3092-3455_+_/AMWY020831271_3092-3455_+_.ps\n",
      "./RNA_secondary_structure/viennarna/AMWY02084282.1_181-601(+)_ss.ps\n",
      "./RNA_secondary_structure/viennarna/AMWY020842821_181-601_+_/AMWY020842821_181-601_+_.ps\n",
      "./RNA_secondary_structure/viennarna/AMWY02002654.1_135-556(+)_ss.ps\n",
      "./RNA_secondary_structure/viennarna/AMWY020026541_135-556_+_/AMWY020026541_135-556_+_.ps\n",
      "./RNA_secondary_structure/viennarna/AMWY02013611.1_408-828(-)_ss.ps\n",
      "./RNA_secondary_structure/viennarna/AMWY020136111_408-828_-_/AMWY020136111_408-828_-_.ps\n",
      "./RNA_secondary_structure/viennarna/AMWY02060728.1_857-1277(-)_ss.ps\n",
      "./RNA_secondary_structure/viennarna/AMWY020607281_857-1277_-_/AMWY020607281_857-1277_-_.ps\n",
      "./RNA_secondary_structure/viennarna/AMWY02053426.1_0-390(+)_ss.ps\n",
      "./RNA_secondary_structure/viennarna/AMWY020534261_0-390_+_/AMWY020534261_0-390_+_.ps\n",
      "./RNA_secondary_structure/viennarna/AMWY02072689.1_0-378(+)_ss.ps\n",
      "./RNA_secondary_structure/viennarna/AMWY020726891_0-378_+_/AMWY020726891_0-378_+_.ps\n",
      "./RNA_secondary_structure/viennarna/AMWY02049899.1_10525-10945(+)_ss.ps\n",
      "./RNA_secondary_structure/viennarna/AMWY020498991_10525-10945_+_/AMWY020498991_10525-10945_+_.ps\n",
      "./RNA_secondary_structure/viennarna/AMWY02014828.1_6366-6787(-)_ss.ps\n",
      "./RNA_secondary_structure/viennarna/AMWY020148281_6366-6787_-_/AMWY020148281_6366-6787_-_.ps\n",
      "./RNA_secondary_structure/viennarna/AMWY02082646.1_8795-9216(+)_ss.ps\n",
      "./RNA_secondary_structure/viennarna/AMWY020826461_8795-9216_+_/AMWY020826461_8795-9216_+_.ps\n",
      "./RNA_secondary_structure/viennarna/AMWY02064930.1_5596-6017(+)_ss.ps\n",
      "./RNA_secondary_structure/viennarna/AMWY020649301_5596-6017_+_/AMWY020649301_5596-6017_+_.ps\n",
      "./RNA_secondary_structure/viennarna/AMWY02072079.1_86-506(+)_ss.ps\n",
      "./RNA_secondary_structure/viennarna/AMWY020720791_86-506_+_/AMWY020720791_86-506_+_.ps\n",
      "./RNA_secondary_structure/viennarna/AMWY02067918.1_868-1288(-)_ss.ps\n",
      "./RNA_secondary_structure/viennarna/AMWY020679181_868-1288_-_/AMWY020679181_868-1288_-_.ps\n",
      "./RNA_secondary_structure/viennarna/AMWY02006930.1_263-685(-)_ss.ps\n",
      "./RNA_secondary_structure/viennarna/AMWY020069301_263-685_-_/AMWY020069301_263-685_-_.ps\n",
      "./RNA_secondary_structure/viennarna/AMWY02064511.1_8296-8717(+)_ss.ps\n",
      "./RNA_secondary_structure/viennarna/AMWY020645111_8296-8717_+_/AMWY020645111_8296-8717_+_.ps\n",
      "./RNA_secondary_structure/viennarna/AMWY02034614.1_58-479(+)_ss.ps\n",
      "./RNA_secondary_structure/viennarna/AMWY020346141_58-479_+_/AMWY020346141_58-479_+_.ps\n",
      "./RNA_secondary_structure/viennarna/AMWY02063240.1_678-1098(-)_ss.ps\n",
      "./RNA_secondary_structure/viennarna/AMWY020632401_678-1098_-_/AMWY020632401_678-1098_-_.ps\n",
      "./RNA_secondary_structure/viennarna/AMWY02071394.1_390-810(-)_ss.ps\n",
      "./RNA_secondary_structure/viennarna/AMWY020713941_390-810_-_/AMWY020713941_390-810_-_.ps\n",
      "./RNA_secondary_structure/viennarna/AMWY02009767.1_786-1206(-)_ss.ps\n",
      "./RNA_secondary_structure/viennarna/AMWY020097671_786-1206_-_/AMWY020097671_786-1206_-_.ps\n",
      "./RNA_secondary_structure/viennarna/AMWY02098706.1_0-407(-)_ss.ps\n",
      "./RNA_secondary_structure/viennarna/AMWY020987061_0-407_-_/AMWY020987061_0-407_-_.ps\n",
      "./RNA_secondary_structure/viennarna/AMWY02095410.1_1715-1968(-)_ss.ps\n",
      "./RNA_secondary_structure/viennarna/AMWY020954101_1715-1968_-_/AMWY020954101_1715-1968_-_.ps\n",
      "./RNA_secondary_structure/viennarna/AMWY02000636.1_4776-5196(-)_ss.ps\n",
      "./RNA_secondary_structure/viennarna/AMWY020006361_4776-5196_-_/AMWY020006361_4776-5196_-_.ps\n",
      "./RNA_secondary_structure/viennarna/AMWY02099822.1_1548-1969(-)_ss.ps\n",
      "./RNA_secondary_structure/viennarna/AMWY020998221_1548-1969_-_/AMWY020998221_1548-1969_-_.ps\n",
      "./RNA_secondary_structure/viennarna/AMWY02083127.1_3093-3455(+)_ss.ps\n",
      "./RNA_secondary_structure/viennarna/AMWY020831271_3093-3455_+_/AMWY020831271_3093-3455_+_.ps\n",
      "./RNA_secondary_structure/viennarna/AMWY02123996.1_49-470(-)_ss.ps\n",
      "./RNA_secondary_structure/viennarna/AMWY021239961_49-470_-_/AMWY021239961_49-470_-_.ps\n",
      "./RNA_secondary_structure/viennarna/AMWY02078114.1_1289-1710(-)_ss.ps\n",
      "./RNA_secondary_structure/viennarna/AMWY020781141_1289-1710_-_/AMWY020781141_1289-1710_-_.ps\n",
      "./RNA_secondary_structure/viennarna/AMWY02125624.1_0-317(+)_ss.ps\n",
      "./RNA_secondary_structure/viennarna/AMWY021256241_0-317_+_/AMWY021256241_0-317_+_.ps\n",
      "./RNA_secondary_structure/viennarna/AMWY02046101.1_1348-1769(-)_ss.ps\n",
      "./RNA_secondary_structure/viennarna/AMWY020461011_1348-1769_-_/AMWY020461011_1348-1769_-_.ps\n"
     ]
    },
    {
     "name": "stdout",
     "output_type": "stream",
     "text": [
      "./RNA_secondary_structure/viennarna/AMWY02086587.1_1550-1971(-)_ss.ps\n",
      "./RNA_secondary_structure/viennarna/AMWY020865871_1550-1971_-_/AMWY020865871_1550-1971_-_.ps\n",
      "./RNA_secondary_structure/viennarna/AMWY02013752.1_227-647(+)_ss.ps\n",
      "./RNA_secondary_structure/viennarna/AMWY020137521_227-647_+_/AMWY020137521_227-647_+_.ps\n",
      "./RNA_secondary_structure/viennarna/AMWY02084282.1_178-599(+)_ss.ps\n",
      "./RNA_secondary_structure/viennarna/AMWY020842821_178-599_+_/AMWY020842821_178-599_+_.ps\n",
      "./RNA_secondary_structure/viennarna/AMWY02022711.1_454-874(-)_ss.ps\n",
      "./RNA_secondary_structure/viennarna/AMWY020227111_454-874_-_/AMWY020227111_454-874_-_.ps\n",
      "./RNA_secondary_structure/viennarna/AMWY02002487.1_2518-2938(+)_ss.ps\n",
      "./RNA_secondary_structure/viennarna/AMWY020024871_2518-2938_+_/AMWY020024871_2518-2938_+_.ps\n",
      "./RNA_secondary_structure/viennarna/AMWY02125728.1_173-484(-)_ss.ps\n",
      "./RNA_secondary_structure/viennarna/AMWY021257281_173-484_-_/AMWY021257281_173-484_-_.ps\n",
      "./RNA_secondary_structure/viennarna/AMWY02050134.1_2471-2892(+)_ss.ps\n",
      "./RNA_secondary_structure/viennarna/AMWY020501341_2471-2892_+_/AMWY020501341_2471-2892_+_.ps\n",
      "./RNA_secondary_structure/viennarna/AMWY02064372.1_833-1253(-)_ss.ps\n",
      "./RNA_secondary_structure/viennarna/AMWY020643721_833-1253_-_/AMWY020643721_833-1253_-_.ps\n",
      "./RNA_secondary_structure/viennarna/AMWY02014828.1_6367-6787(-)_ss.ps\n",
      "./RNA_secondary_structure/viennarna/AMWY020148281_6367-6787_-_/AMWY020148281_6367-6787_-_.ps\n",
      "./RNA_secondary_structure/viennarna/AMWY02064143.1_2949-3369(+)_ss.ps\n",
      "./RNA_secondary_structure/viennarna/AMWY020641431_2949-3369_+_/AMWY020641431_2949-3369_+_.ps\n",
      "./RNA_secondary_structure/viennarna/AMWY02025269.1_2832-3253(-)_ss.ps\n",
      "./RNA_secondary_structure/viennarna/AMWY020252691_2832-3253_-_/AMWY020252691_2832-3253_-_.ps\n",
      "./RNA_secondary_structure/viennarna/AMWY02106272.1_0-320(+)_ss.ps\n",
      "./RNA_secondary_structure/viennarna/AMWY021062721_0-320_+_/AMWY021062721_0-320_+_.ps\n",
      "./RNA_secondary_structure/viennarna/AMWY02004761.1_1856-2277(+)_ss.ps\n",
      "./RNA_secondary_structure/viennarna/AMWY020047611_1856-2277_+_/AMWY020047611_1856-2277_+_.ps\n",
      "./RNA_secondary_structure/viennarna/AMWY02118469.1_0-384(-)_ss.ps\n",
      "./RNA_secondary_structure/viennarna/AMWY021184691_0-384_-_/AMWY021184691_0-384_-_.ps\n",
      "./RNA_secondary_structure/viennarna/AMWY02103996.1_38-458(-)_ss.ps\n",
      "./RNA_secondary_structure/viennarna/AMWY021039961_38-458_-_/AMWY021039961_38-458_-_.ps\n",
      "./RNA_secondary_structure/viennarna/AMWY02030874.1_1382-1802(+)_ss.ps\n",
      "./RNA_secondary_structure/viennarna/AMWY020308741_1382-1802_+_/AMWY020308741_1382-1802_+_.ps\n",
      "./RNA_secondary_structure/viennarna/AMWY02071754.1_1353-1774(+)_ss.ps\n",
      "./RNA_secondary_structure/viennarna/AMWY020717541_1353-1774_+_/AMWY020717541_1353-1774_+_.ps\n",
      "./RNA_secondary_structure/viennarna/AMWY02036519.1_7371-7792(-)_ss.ps\n",
      "./RNA_secondary_structure/viennarna/AMWY020365191_7371-7792_-_/AMWY020365191_7371-7792_-_.ps\n",
      "./RNA_secondary_structure/viennarna/AMWY02106851.1_491-912(+)_ss.ps\n",
      "./RNA_secondary_structure/viennarna/AMWY021068511_491-912_+_/AMWY021068511_491-912_+_.ps\n",
      "./RNA_secondary_structure/viennarna/AMWY02078114.1_1357-1777(-)_ss.ps\n",
      "./RNA_secondary_structure/viennarna/AMWY020781141_1357-1777_-_/AMWY020781141_1357-1777_-_.ps\n",
      "./RNA_secondary_structure/viennarna/AMWY02015137.1_2322-2743(-)_ss.ps\n",
      "./RNA_secondary_structure/viennarna/AMWY020151371_2322-2743_-_/AMWY020151371_2322-2743_-_.ps\n",
      "./RNA_secondary_structure/viennarna/AMWY02082313.1_5752-6173(+)_ss.ps\n",
      "./RNA_secondary_structure/viennarna/AMWY020823131_5752-6173_+_/AMWY020823131_5752-6173_+_.ps\n",
      "./RNA_secondary_structure/viennarna/AMWY02025525.1_6166-6587(+)_ss.ps\n",
      "./RNA_secondary_structure/viennarna/AMWY020255251_6166-6587_+_/AMWY020255251_6166-6587_+_.ps\n",
      "./RNA_secondary_structure/viennarna/AMWY02004761.1_1856-2276(+)_ss.ps\n",
      "./RNA_secondary_structure/viennarna/AMWY020047611_1856-2276_+_/AMWY020047611_1856-2276_+_.ps\n",
      "./RNA_secondary_structure/viennarna/AMWY02067626.1_7483-7903(+)_ss.ps\n",
      "./RNA_secondary_structure/viennarna/AMWY020676261_7483-7903_+_/AMWY020676261_7483-7903_+_.ps\n",
      "./RNA_secondary_structure/viennarna/AMWY02067914.1_985-1405(-)_ss.ps\n",
      "./RNA_secondary_structure/viennarna/AMWY020679141_985-1405_-_/AMWY020679141_985-1405_-_.ps\n",
      "./RNA_secondary_structure/viennarna/AMWY02039981.1_1215-1637(-)_ss.ps\n",
      "./RNA_secondary_structure/viennarna/AMWY020399811_1215-1637_-_/AMWY020399811_1215-1637_-_.ps\n",
      "./RNA_secondary_structure/viennarna/AMWY02053841.1_3049-3469(+)_ss.ps\n",
      "./RNA_secondary_structure/viennarna/AMWY020538411_3049-3469_+_/AMWY020538411_3049-3469_+_.ps\n",
      "./RNA_secondary_structure/viennarna/AMWY02089009.1_1704-2127(+)_ss.ps\n",
      "./RNA_secondary_structure/viennarna/AMWY020890091_1704-2127_+_/AMWY020890091_1704-2127_+_.ps\n",
      "./RNA_secondary_structure/viennarna/AMWY02039047.1_0-349(+)_ss.ps\n",
      "./RNA_secondary_structure/viennarna/AMWY020390471_0-349_+_/AMWY020390471_0-349_+_.ps\n",
      "./RNA_secondary_structure/viennarna/AMWY02072615.1_8015-8436(-)_ss.ps\n",
      "./RNA_secondary_structure/viennarna/AMWY020726151_8015-8436_-_/AMWY020726151_8015-8436_-_.ps\n",
      "./RNA_secondary_structure/viennarna/AMWY02075576.1_1004-1425(+)_ss.ps\n",
      "./RNA_secondary_structure/viennarna/AMWY020755761_1004-1425_+_/AMWY020755761_1004-1425_+_.ps\n",
      "./RNA_secondary_structure/viennarna/AMWY02077774.1_959-1380(+)_ss.ps\n",
      "./RNA_secondary_structure/viennarna/AMWY020777741_959-1380_+_/AMWY020777741_959-1380_+_.ps\n",
      "./RNA_secondary_structure/viennarna/AMWY02002381.1_2995-3416(-)_ss.ps\n",
      "./RNA_secondary_structure/viennarna/AMWY020023811_2995-3416_-_/AMWY020023811_2995-3416_-_.ps\n",
      "./RNA_secondary_structure/viennarna/AMWY02095009.1_1185-1605(+)_ss.ps\n",
      "./RNA_secondary_structure/viennarna/AMWY020950091_1185-1605_+_/AMWY020950091_1185-1605_+_.ps\n",
      "./RNA_secondary_structure/viennarna/AMWY02002128.1_660-1080(+)_ss.ps\n",
      "./RNA_secondary_structure/viennarna/AMWY020021281_660-1080_+_/AMWY020021281_660-1080_+_.ps\n",
      "./RNA_secondary_structure/viennarna/AMWY02027578.1_1906-2264(-)_ss.ps\n",
      "./RNA_secondary_structure/viennarna/AMWY020275781_1906-2264_-_/AMWY020275781_1906-2264_-_.ps\n",
      "./RNA_secondary_structure/viennarna/AMWY02072617.1_1288-1709(+)_ss.ps\n",
      "./RNA_secondary_structure/viennarna/AMWY020726171_1288-1709_+_/AMWY020726171_1288-1709_+_.ps\n",
      "./RNA_secondary_structure/viennarna/AMWY02004761.1_1853-2277(+)_ss.ps\n",
      "./RNA_secondary_structure/viennarna/AMWY020047611_1853-2277_+_/AMWY020047611_1853-2277_+_.ps\n",
      "./RNA_secondary_structure/viennarna/AMWY02064143.1_2949-3372(+)_ss.ps\n",
      "./RNA_secondary_structure/viennarna/AMWY020641431_2949-3372_+_/AMWY020641431_2949-3372_+_.ps\n",
      "./RNA_secondary_structure/viennarna/AMWY02064372.1_833-1254(-)_ss.ps\n",
      "./RNA_secondary_structure/viennarna/AMWY020643721_833-1254_-_/AMWY020643721_833-1254_-_.ps\n",
      "./RNA_secondary_structure/viennarna/AMWY02064372.1_986-1407(-)_ss.ps\n",
      "./RNA_secondary_structure/viennarna/AMWY020643721_986-1407_-_/AMWY020643721_986-1407_-_.ps\n",
      "./RNA_secondary_structure/viennarna/AMWY02075571.1_0-378(+)_ss.ps\n",
      "./RNA_secondary_structure/viennarna/AMWY020755711_0-378_+_/AMWY020755711_0-378_+_.ps\n",
      "./RNA_secondary_structure/viennarna/AMWY02072077.1_3360-3780(+)_ss.ps\n",
      "./RNA_secondary_structure/viennarna/AMWY020720771_3360-3780_+_/AMWY020720771_3360-3780_+_.ps\n",
      "./RNA_secondary_structure/viennarna/AMWY02022711.1_453-874(-)_ss.ps\n",
      "./RNA_secondary_structure/viennarna/AMWY020227111_453-874_-_/AMWY020227111_453-874_-_.ps\n",
      "./RNA_secondary_structure/viennarna/AMWY02006930.1_265-685(-)_ss.ps\n",
      "./RNA_secondary_structure/viennarna/AMWY020069301_265-685_-_/AMWY020069301_265-685_-_.ps\n",
      "./RNA_secondary_structure/viennarna/AMWY02067626.1_7544-7965(+)_ss.ps\n",
      "./RNA_secondary_structure/viennarna/AMWY020676261_7544-7965_+_/AMWY020676261_7544-7965_+_.ps\n",
      "./RNA_secondary_structure/viennarna/AMWY02089812.1_0-419(-)_ss.ps\n",
      "./RNA_secondary_structure/viennarna/AMWY020898121_0-419_-_/AMWY020898121_0-419_-_.ps\n",
      "./RNA_secondary_structure/viennarna/AMWY02028426.1_331-752(+)_ss.ps\n",
      "./RNA_secondary_structure/viennarna/AMWY020284261_331-752_+_/AMWY020284261_331-752_+_.ps\n",
      "./RNA_secondary_structure/viennarna/AMWY02085869.1_1820-2240(+)_ss.ps\n",
      "./RNA_secondary_structure/viennarna/AMWY020858691_1820-2240_+_/AMWY020858691_1820-2240_+_.ps\n",
      "./RNA_secondary_structure/viennarna/AMWY02034614.1_55-476(+)_ss.ps\n",
      "./RNA_secondary_structure/viennarna/AMWY020346141_55-476_+_/AMWY020346141_55-476_+_.ps\n",
      "./RNA_secondary_structure/viennarna/AMWY02059828.1_2933-3353(-)_ss.ps\n",
      "./RNA_secondary_structure/viennarna/AMWY020598281_2933-3353_-_/AMWY020598281_2933-3353_-_.ps\n",
      "./RNA_secondary_structure/viennarna/AMWY02002487.1_2519-2939(+)_ss.ps\n",
      "./RNA_secondary_structure/viennarna/AMWY020024871_2519-2939_+_/AMWY020024871_2519-2939_+_.ps\n",
      "./RNA_secondary_structure/viennarna/AMWY02034614.1_55-475(+)_ss.ps\n",
      "./RNA_secondary_structure/viennarna/AMWY020346141_55-475_+_/AMWY020346141_55-475_+_.ps\n",
      "./RNA_secondary_structure/viennarna/AMWY02039058.1_1030-1451(-)_ss.ps\n",
      "./RNA_secondary_structure/viennarna/AMWY020390581_1030-1451_-_/AMWY020390581_1030-1451_-_.ps\n",
      "./RNA_secondary_structure/viennarna/AMWY02067626.1_7483-7904(+)_ss.ps\n",
      "./RNA_secondary_structure/viennarna/AMWY020676261_7483-7904_+_/AMWY020676261_7483-7904_+_.ps\n",
      "./RNA_secondary_structure/viennarna/AMWY02083654.1_1162-1583(-)_ss.ps\n",
      "./RNA_secondary_structure/viennarna/AMWY020836541_1162-1583_-_/AMWY020836541_1162-1583_-_.ps\n",
      "./RNA_secondary_structure/viennarna/AMWY02067914.1_985-1406(-)_ss.ps\n",
      "./RNA_secondary_structure/viennarna/AMWY020679141_985-1406_-_/AMWY020679141_985-1406_-_.ps\n",
      "./RNA_secondary_structure/viennarna/AMWY02067918.1_1885-2306(+)_ss.ps\n",
      "./RNA_secondary_structure/viennarna/AMWY020679181_1885-2306_+_/AMWY020679181_1885-2306_+_.ps\n",
      "./RNA_secondary_structure/viennarna/AMWY02006834.1_834-1255(-)_ss.ps\n",
      "./RNA_secondary_structure/viennarna/AMWY020068341_834-1255_-_/AMWY020068341_834-1255_-_.ps\n",
      "./RNA_secondary_structure/viennarna/AMWY02074033.1_1781-2201(+)_ss.ps\n",
      "./RNA_secondary_structure/viennarna/AMWY020740331_1781-2201_+_/AMWY020740331_1781-2201_+_.ps\n",
      "./RNA_secondary_structure/viennarna/AMWY02006930.1_186-607(-)_ss.ps\n",
      "./RNA_secondary_structure/viennarna/AMWY020069301_186-607_-_/AMWY020069301_186-607_-_.ps\n",
      "./RNA_secondary_structure/viennarna/AMWY02002654.1_244-665(+)_ss.ps\n",
      "./RNA_secondary_structure/viennarna/AMWY020026541_244-665_+_/AMWY020026541_244-665_+_.ps\n",
      "./RNA_secondary_structure/viennarna/AMWY02001968.1_1243-1664(+)_ss.ps\n",
      "./RNA_secondary_structure/viennarna/AMWY020019681_1243-1664_+_/AMWY020019681_1243-1664_+_.ps\n",
      "./RNA_secondary_structure/viennarna/AMWY02001974.1_838-1259(-)_ss.ps\n",
      "./RNA_secondary_structure/viennarna/AMWY020019741_838-1259_-_/AMWY020019741_838-1259_-_.ps\n",
      "./RNA_secondary_structure/viennarna/AMWY02064143.1_2949-3370(-)_ss.ps\n",
      "./RNA_secondary_structure/viennarna/AMWY020641431_2949-3370_-_/AMWY020641431_2949-3370_-_.ps\n",
      "./RNA_secondary_structure/viennarna/AMWY02051553.1_857-1278(+)_ss.ps\n",
      "./RNA_secondary_structure/viennarna/AMWY020515531_857-1278_+_/AMWY020515531_857-1278_+_.ps\n",
      "./RNA_secondary_structure/viennarna/AMWY02015137.1_2323-2743(-)_ss.ps\n",
      "./RNA_secondary_structure/viennarna/AMWY020151371_2323-2743_-_/AMWY020151371_2323-2743_-_.ps\n",
      "./RNA_secondary_structure/viennarna/AMWY02039798.1_0-399(-)_ss.ps\n",
      "./RNA_secondary_structure/viennarna/AMWY020397981_0-399_-_/AMWY020397981_0-399_-_.ps\n",
      "./RNA_secondary_structure/viennarna/AMWY02022573.1_87-509(+)_ss.ps\n",
      "./RNA_secondary_structure/viennarna/AMWY020225731_87-509_+_/AMWY020225731_87-509_+_.ps\n",
      "./RNA_secondary_structure/viennarna/AMWY02063240.1_678-1099(-)_ss.ps\n",
      "./RNA_secondary_structure/viennarna/AMWY020632401_678-1099_-_/AMWY020632401_678-1099_-_.ps\n",
      "./RNA_secondary_structure/viennarna/AMWY02075571.1_0-316(+)_ss.ps\n",
      "./RNA_secondary_structure/viennarna/AMWY020755711_0-316_+_/AMWY020755711_0-316_+_.ps\n",
      "./RNA_secondary_structure/viennarna/AMWY02072617.1_1286-1707(-)_ss.ps\n",
      "./RNA_secondary_structure/viennarna/AMWY020726171_1286-1707_-_/AMWY020726171_1286-1707_-_.ps\n",
      "./RNA_secondary_structure/viennarna/AMWY02006834.1_832-1253(-)_ss.ps\n",
      "./RNA_secondary_structure/viennarna/AMWY020068341_832-1253_-_/AMWY020068341_832-1253_-_.ps\n",
      "./RNA_secondary_structure/viennarna/AMWY02078382.1_2296-2716(-)_ss.ps\n",
      "./RNA_secondary_structure/viennarna/AMWY020783821_2296-2716_-_/AMWY020783821_2296-2716_-_.ps\n",
      "./RNA_secondary_structure/viennarna/AMWY02072995.1_8588-9009(+)_ss.ps\n",
      "./RNA_secondary_structure/viennarna/AMWY020729951_8588-9009_+_/AMWY020729951_8588-9009_+_.ps\n",
      "./RNA_secondary_structure/viennarna/AMWY02025269.1_2833-3253(-)_ss.ps\n",
      "./RNA_secondary_structure/viennarna/AMWY020252691_2833-3253_-_/AMWY020252691_2833-3253_-_.ps\n",
      "./RNA_secondary_structure/viennarna/AMWY02067918.1_1886-2306(+)_ss.ps\n",
      "./RNA_secondary_structure/viennarna/AMWY020679181_1886-2306_+_/AMWY020679181_1886-2306_+_.ps\n",
      "./RNA_secondary_structure/viennarna/AMWY02002487.1_2691-3112(+)_ss.ps\n",
      "./RNA_secondary_structure/viennarna/AMWY020024871_2691-3112_+_/AMWY020024871_2691-3112_+_.ps\n",
      "./RNA_secondary_structure/viennarna/AMWY02045540.1_3003-3303(-)_ss.ps\n",
      "./RNA_secondary_structure/viennarna/AMWY020455401_3003-3303_-_/AMWY020455401_3003-3303_-_.ps\n",
      "./RNA_secondary_structure/viennarna/AMWY02001674.1_0-400(+)_ss.ps\n",
      "./RNA_secondary_structure/viennarna/AMWY020016741_0-400_+_/AMWY020016741_0-400_+_.ps\n",
      "./RNA_secondary_structure/viennarna/AMWY02053426.1_0-391(+)_ss.ps\n",
      "./RNA_secondary_structure/viennarna/AMWY020534261_0-391_+_/AMWY020534261_0-391_+_.ps\n",
      "./RNA_secondary_structure/viennarna/AMWY02038953.1_1712-2133(+)_ss.ps\n",
      "./RNA_secondary_structure/viennarna/AMWY020389531_1712-2133_+_/AMWY020389531_1712-2133_+_.ps\n",
      "./RNA_secondary_structure/viennarna/AMWY02077902.1_4164-4584(-)_ss.ps\n",
      "./RNA_secondary_structure/viennarna/AMWY020779021_4164-4584_-_/AMWY020779021_4164-4584_-_.ps\n",
      "./RNA_secondary_structure/viennarna/AMWY02103130.1_1114-1535(+)_ss.ps\n",
      "./RNA_secondary_structure/viennarna/AMWY021031301_1114-1535_+_/AMWY021031301_1114-1535_+_.ps\n",
      "./RNA_secondary_structure/viennarna/AMWY02118469.1_0-384(+)_ss.ps\n",
      "./RNA_secondary_structure/viennarna/AMWY021184691_0-384_+_/AMWY021184691_0-384_+_.ps\n",
      "./RNA_secondary_structure/viennarna/AMWY02105897.1_635-1030(+)_ss.ps\n",
      "./RNA_secondary_structure/viennarna/AMWY021058971_635-1030_+_/AMWY021058971_635-1030_+_.ps\n",
      "./RNA_secondary_structure/viennarna/AMWY02087785.1_1676-2097(-)_ss.ps\n",
      "./RNA_secondary_structure/viennarna/AMWY020877851_1676-2097_-_/AMWY020877851_1676-2097_-_.ps\n",
      "./RNA_secondary_structure/viennarna/AMWY02033396.1_105-522(-)_ss.ps\n",
      "./RNA_secondary_structure/viennarna/AMWY020333961_105-522_-_/AMWY020333961_105-522_-_.ps\n",
      "./RNA_secondary_structure/viennarna/AMWY02039981.1_1214-1636(-)_ss.ps\n",
      "./RNA_secondary_structure/viennarna/AMWY020399811_1214-1636_-_/AMWY020399811_1214-1636_-_.ps\n",
      "./RNA_secondary_structure/viennarna/AMWY02006834.1_833-1254(-)_ss.ps\n",
      "./RNA_secondary_structure/viennarna/AMWY020068341_833-1254_-_/AMWY020068341_833-1254_-_.ps\n",
      "./RNA_secondary_structure/viennarna/AMWY02053841.1_3048-3469(+)_ss.ps\n",
      "./RNA_secondary_structure/viennarna/AMWY020538411_3048-3469_+_/AMWY020538411_3048-3469_+_.ps\n",
      "./RNA_secondary_structure/viennarna/AMWY02001968.1_1670-2091(+)_ss.ps\n",
      "./RNA_secondary_structure/viennarna/AMWY020019681_1670-2091_+_/AMWY020019681_1670-2091_+_.ps\n",
      "./RNA_secondary_structure/viennarna/AMWY02064143.1_2949-3370(+)_ss.ps\n",
      "./RNA_secondary_structure/viennarna/AMWY020641431_2949-3370_+_/AMWY020641431_2949-3370_+_.ps\n",
      "./RNA_secondary_structure/viennarna/AMWY02013752.1_226-647(+)_ss.ps\n",
      "./RNA_secondary_structure/viennarna/AMWY020137521_226-647_+_/AMWY020137521_226-647_+_.ps\n",
      "./RNA_secondary_structure/viennarna/AMWY02078382.1_2295-2716(-)_ss.ps\n",
      "./RNA_secondary_structure/viennarna/AMWY020783821_2295-2716_-_/AMWY020783821_2295-2716_-_.ps\n",
      "./RNA_secondary_structure/viennarna/AMWY02067912.1_306-651(+)_ss.ps\n",
      "./RNA_secondary_structure/viennarna/AMWY020679121_306-651_+_/AMWY020679121_306-651_+_.ps\n",
      "./RNA_secondary_structure/viennarna/AMWY02014828.1_6365-6787(-)_ss.ps\n",
      "./RNA_secondary_structure/viennarna/AMWY020148281_6365-6787_-_/AMWY020148281_6365-6787_-_.ps\n",
      "./RNA_secondary_structure/viennarna/AMWY02038369.1_306-727(+)_ss.ps\n",
      "./RNA_secondary_structure/viennarna/AMWY020383691_306-727_+_/AMWY020383691_306-727_+_.ps\n",
      "./RNA_secondary_structure/viennarna/AMWY02020533.1_7024-7445(-)_ss.ps\n",
      "./RNA_secondary_structure/viennarna/AMWY020205331_7024-7445_-_/AMWY020205331_7024-7445_-_.ps\n",
      "./RNA_secondary_structure/viennarna/AMWY02078114.1_1196-1617(-)_ss.ps\n",
      "./RNA_secondary_structure/viennarna/AMWY020781141_1196-1617_-_/AMWY020781141_1196-1617_-_.ps\n",
      "./RNA_secondary_structure/viennarna/AMWY02042741.1_24366-24787(-)_ss.ps\n",
      "./RNA_secondary_structure/viennarna/AMWY020427411_24366-24787_-_/AMWY020427411_24366-24787_-_.ps\n",
      "./RNA_secondary_structure/viennarna/AMWY02097334.1_773-1194(-)_ss.ps\n",
      "./RNA_secondary_structure/viennarna/AMWY020973341_773-1194_-_/AMWY020973341_773-1194_-_.ps\n",
      "./RNA_secondary_structure/viennarna/AMWY02078114.1_1435-1856(-)_ss.ps\n",
      "./RNA_secondary_structure/viennarna/AMWY020781141_1435-1856_-_/AMWY020781141_1435-1856_-_.ps\n",
      "./RNA_secondary_structure/viennarna/AMWY02030001.1_0-390(-)_ss.ps\n",
      "./RNA_secondary_structure/viennarna/AMWY020300011_0-390_-_/AMWY020300011_0-390_-_.ps\n",
      "./RNA_secondary_structure/viennarna/AMWY02000708.1_1341-1661(+)_ss.ps\n",
      "./RNA_secondary_structure/viennarna/AMWY020007081_1341-1661_+_/AMWY020007081_1341-1661_+_.ps\n",
      "./RNA_secondary_structure/viennarna/AMWY02097334.1_771-1193(-)_ss.ps\n",
      "./RNA_secondary_structure/viennarna/AMWY020973341_771-1193_-_/AMWY020973341_771-1193_-_.ps\n",
      "./RNA_secondary_structure/viennarna/AMWY02071754.1_1293-1714(+)_ss.ps\n",
      "./RNA_secondary_structure/viennarna/AMWY020717541_1293-1714_+_/AMWY020717541_1293-1714_+_.ps\n",
      "./RNA_secondary_structure/viennarna/AMWY02053841.1_3050-3470(+)_ss.ps\n",
      "./RNA_secondary_structure/viennarna/AMWY020538411_3050-3470_+_/AMWY020538411_3050-3470_+_.ps\n",
      "./RNA_secondary_structure/viennarna/AMWY02011348.1_2612-3033(-)_ss.ps\n",
      "./RNA_secondary_structure/viennarna/AMWY020113481_2612-3033_-_/AMWY020113481_2612-3033_-_.ps\n",
      "./RNA_secondary_structure/viennarna/AMWY02002882.1_33636-34058(-)_ss.ps\n",
      "./RNA_secondary_structure/viennarna/AMWY020028821_33636-34058_-_/AMWY020028821_33636-34058_-_.ps\n",
      "./RNA_secondary_structure/viennarna/AMWY02006930.1_5394-5815(-)_ss.ps\n",
      "./RNA_secondary_structure/viennarna/AMWY020069301_5394-5815_-_/AMWY020069301_5394-5815_-_.ps\n",
      "./RNA_secondary_structure/viennarna/AMWY02086587.1_1551-1971(-)_ss.ps\n",
      "./RNA_secondary_structure/viennarna/AMWY020865871_1551-1971_-_/AMWY020865871_1551-1971_-_.ps\n",
      "./RNA_secondary_structure/viennarna/AMWY02077774.1_961-1382(+)_ss.ps\n",
      "./RNA_secondary_structure/viennarna/AMWY020777741_961-1382_+_/AMWY020777741_961-1382_+_.ps\n",
      "./RNA_secondary_structure/viennarna/AMWY02087085.1_695-1115(+)_ss.ps\n",
      "./RNA_secondary_structure/viennarna/AMWY020870851_695-1115_+_/AMWY020870851_695-1115_+_.ps\n",
      "./RNA_secondary_structure/viennarna/AMWY02044036.1_677-1099(+)_ss.ps\n",
      "./RNA_secondary_structure/viennarna/AMWY020440361_677-1099_+_/AMWY020440361_677-1099_+_.ps\n",
      "./RNA_secondary_structure/viennarna/AMWY02078114.1_1358-1778(-)_ss.ps\n",
      "./RNA_secondary_structure/viennarna/AMWY020781141_1358-1778_-_/AMWY020781141_1358-1778_-_.ps\n",
      "./RNA_secondary_structure/viennarna/AMWY02056668.1_288-709(-)_ss.ps\n",
      "./RNA_secondary_structure/viennarna/AMWY020566681_288-709_-_/AMWY020566681_288-709_-_.ps\n",
      "./RNA_secondary_structure/viennarna/AMWY02090868.1_955-1377(+)_ss.ps\n",
      "./RNA_secondary_structure/viennarna/AMWY020908681_955-1377_+_/AMWY020908681_955-1377_+_.ps\n",
      "./RNA_secondary_structure/viennarna/AMWY02058178.1_2507-2928(+)_ss.ps\n",
      "./RNA_secondary_structure/viennarna/AMWY020581781_2507-2928_+_/AMWY020581781_2507-2928_+_.ps\n",
      "./RNA_secondary_structure/viennarna/AMWY02011348.1_2612-3032(-)_ss.ps\n",
      "./RNA_secondary_structure/viennarna/AMWY020113481_2612-3032_-_/AMWY020113481_2612-3032_-_.ps\n",
      "./RNA_secondary_structure/viennarna/AMWY02022832.1_1734-2155(-)_ss.ps\n",
      "./RNA_secondary_structure/viennarna/AMWY020228321_1734-2155_-_/AMWY020228321_1734-2155_-_.ps\n",
      "./RNA_secondary_structure/viennarna/AMWY02075571.1_0-375(+)_ss.ps\n",
      "./RNA_secondary_structure/viennarna/AMWY020755711_0-375_+_/AMWY020755711_0-375_+_.ps\n",
      "./RNA_secondary_structure/viennarna/AMWY02064143.1_3009-3430(+)_ss.ps\n",
      "./RNA_secondary_structure/viennarna/AMWY020641431_3009-3430_+_/AMWY020641431_3009-3430_+_.ps\n",
      "./RNA_secondary_structure/viennarna/AMWY02106851.1_491-911(+)_ss.ps\n",
      "./RNA_secondary_structure/viennarna/AMWY021068511_491-911_+_/AMWY021068511_491-911_+_.ps\n",
      "./RNA_secondary_structure/viennarna/AMWY02022832.1_1666-2087(-)_ss.ps\n",
      "./RNA_secondary_structure/viennarna/AMWY020228321_1666-2087_-_/AMWY020228321_1666-2087_-_.ps\n",
      "./RNA_secondary_structure/viennarna/AMWY02084282.1_244-665(+)_ss.ps\n",
      "./RNA_secondary_structure/viennarna/AMWY020842821_244-665_+_/AMWY020842821_244-665_+_.ps\n",
      "./RNA_secondary_structure/viennarna/AMWY02084240.1_477-898(-)_ss.ps\n",
      "./RNA_secondary_structure/viennarna/AMWY020842401_477-898_-_/AMWY020842401_477-898_-_.ps\n",
      "./RNA_secondary_structure/viennarna/AMWY02022832.1_1734-2156(-)_ss.ps\n",
      "./RNA_secondary_structure/viennarna/AMWY020228321_1734-2156_-_/AMWY020228321_1734-2156_-_.ps\n",
      "./RNA_secondary_structure/viennarna/AMWY02043062.1_415-835(-)_ss.ps\n",
      "./RNA_secondary_structure/viennarna/AMWY020430621_415-835_-_/AMWY020430621_415-835_-_.ps\n",
      "./RNA_secondary_structure/viennarna/AMWY02016736.1_1215-1637(+)_ss.ps\n",
      "./RNA_secondary_structure/viennarna/AMWY020167361_1215-1637_+_/AMWY020167361_1215-1637_+_.ps\n",
      "./RNA_secondary_structure/viennarna/AMWY02121860.1_27-448(+)_ss.ps\n",
      "./RNA_secondary_structure/viennarna/AMWY021218601_27-448_+_/AMWY021218601_27-448_+_.ps\n",
      "./RNA_secondary_structure/viennarna/AMWY02103996.1_110-531(-)_ss.ps\n",
      "./RNA_secondary_structure/viennarna/AMWY021039961_110-531_-_/AMWY021039961_110-531_-_.ps\n",
      "./RNA_secondary_structure/viennarna/AMWY02103850.1_42-462(+)_ss.ps\n",
      "./RNA_secondary_structure/viennarna/AMWY021038501_42-462_+_/AMWY021038501_42-462_+_.ps\n",
      "./RNA_secondary_structure/viennarna/AMWY02040824.1_2902-3322(+)_ss.ps\n",
      "./RNA_secondary_structure/viennarna/AMWY020408241_2902-3322_+_/AMWY020408241_2902-3322_+_.ps\n",
      "./RNA_secondary_structure/viennarna/AMWY02002212.1_7866-8287(+)_ss.ps\n",
      "./RNA_secondary_structure/viennarna/AMWY020022121_7866-8287_+_/AMWY020022121_7866-8287_+_.ps\n",
      "./RNA_secondary_structure/viennarna/AMWY02071754.1_1350-1770(+)_ss.ps\n",
      "./RNA_secondary_structure/viennarna/AMWY020717541_1350-1770_+_/AMWY020717541_1350-1770_+_.ps\n",
      "./RNA_secondary_structure/viennarna/AMWY02035317.1_2058-2478(-)_ss.ps\n",
      "./RNA_secondary_structure/viennarna/AMWY020353171_2058-2478_-_/AMWY020353171_2058-2478_-_.ps\n",
      "./RNA_secondary_structure/viennarna/AMWY02030001.1_58-397(+)_ss.ps\n",
      "./RNA_secondary_structure/viennarna/AMWY020300011_58-397_+_/AMWY020300011_58-397_+_.ps\n",
      "./RNA_secondary_structure/viennarna/AMWY02036519.1_7302-7724(+)_ss.ps\n",
      "./RNA_secondary_structure/viennarna/AMWY020365191_7302-7724_+_/AMWY020365191_7302-7724_+_.ps\n",
      "./RNA_secondary_structure/viennarna/AMWY02084240.1_481-903(-)_ss.ps\n",
      "./RNA_secondary_structure/viennarna/AMWY020842401_481-903_-_/AMWY020842401_481-903_-_.ps\n",
      "./RNA_secondary_structure/viennarna/AMWY02082646.1_8725-9147(+)_ss.ps\n",
      "./RNA_secondary_structure/viennarna/AMWY020826461_8725-9147_+_/AMWY020826461_8725-9147_+_.ps\n",
      "./RNA_secondary_structure/viennarna/AMWY02059828.1_2832-3253(-)_ss.ps\n",
      "./RNA_secondary_structure/viennarna/AMWY020598281_2832-3253_-_/AMWY020598281_2832-3253_-_.ps\n",
      "./RNA_secondary_structure/viennarna/AMWY02071394.1_390-811(-)_ss.ps\n",
      "./RNA_secondary_structure/viennarna/AMWY020713941_390-811_-_/AMWY020713941_390-811_-_.ps\n",
      "./RNA_secondary_structure/viennarna/AMWY02084240.1_482-903(-)_ss.ps\n",
      "./RNA_secondary_structure/viennarna/AMWY020842401_482-903_-_/AMWY020842401_482-903_-_.ps\n",
      "./RNA_secondary_structure/viennarna/AMWY02035317.1_2058-2479(-)_ss.ps\n",
      "./RNA_secondary_structure/viennarna/AMWY020353171_2058-2479_-_/AMWY020353171_2058-2479_-_.ps\n",
      "./RNA_secondary_structure/viennarna/AMWY02067914.1_984-1406(-)_ss.ps\n",
      "./RNA_secondary_structure/viennarna/AMWY020679141_984-1406_-_/AMWY020679141_984-1406_-_.ps\n",
      "./RNA_secondary_structure/viennarna/AMWY02033933.1_1962-2222(-)_ss.ps\n",
      "./RNA_secondary_structure/viennarna/AMWY020339331_1962-2222_-_/AMWY020339331_1962-2222_-_.ps\n",
      "./RNA_secondary_structure/viennarna/AMWY02072995.1_8590-9011(+)_ss.ps\n",
      "./RNA_secondary_structure/viennarna/AMWY020729951_8590-9011_+_/AMWY020729951_8590-9011_+_.ps\n",
      "./RNA_secondary_structure/viennarna/AMWY02072615.1_4919-5340(-)_ss.ps\n",
      "./RNA_secondary_structure/viennarna/AMWY020726151_4919-5340_-_/AMWY020726151_4919-5340_-_.ps\n",
      "./RNA_secondary_structure/viennarna/AMWY02068379.1_56-477(+)_ss.ps\n",
      "./RNA_secondary_structure/viennarna/AMWY020683791_56-477_+_/AMWY020683791_56-477_+_.ps\n",
      "./RNA_secondary_structure/viennarna/AMWY02019118.1_1757-2178(-)_ss.ps\n",
      "./RNA_secondary_structure/viennarna/AMWY020191181_1757-2178_-_/AMWY020191181_1757-2178_-_.ps\n",
      "./RNA_secondary_structure/viennarna/AMWY02031445.1_2885-3306(-)_ss.ps\n",
      "./RNA_secondary_structure/viennarna/AMWY020314451_2885-3306_-_/AMWY020314451_2885-3306_-_.ps\n",
      "./RNA_secondary_structure/viennarna/AMWY02038760.1_1827-2247(+)_ss.ps\n",
      "./RNA_secondary_structure/viennarna/AMWY020387601_1827-2247_+_/AMWY020387601_1827-2247_+_.ps\n",
      "./RNA_secondary_structure/viennarna/AMWY02078114.1_1197-1618(-)_ss.ps\n",
      "./RNA_secondary_structure/viennarna/AMWY020781141_1197-1618_-_/AMWY020781141_1197-1618_-_.ps\n",
      "./RNA_secondary_structure/viennarna/AMWY02019461.1_4385-4806(+)_ss.ps\n",
      "./RNA_secondary_structure/viennarna/AMWY020194611_4385-4806_+_/AMWY020194611_4385-4806_+_.ps\n",
      "./RNA_secondary_structure/viennarna/AMWY02095009.1_1185-1607(+)_ss.ps\n",
      "./RNA_secondary_structure/viennarna/AMWY020950091_1185-1607_+_/AMWY020950091_1185-1607_+_.ps\n",
      "./RNA_secondary_structure/viennarna/AMWY02072617.1_1288-1709(-)_ss.ps\n",
      "./RNA_secondary_structure/viennarna/AMWY020726171_1288-1709_-_/AMWY020726171_1288-1709_-_.ps\n",
      "./RNA_secondary_structure/viennarna/AMWY02025269.1_2835-3256(-)_ss.ps\n",
      "./RNA_secondary_structure/viennarna/AMWY020252691_2835-3256_-_/AMWY020252691_2835-3256_-_.ps\n",
      "./RNA_secondary_structure/viennarna/AMWY02078114.1_1198-1618(-)_ss.ps\n",
      "./RNA_secondary_structure/viennarna/AMWY020781141_1198-1618_-_/AMWY020781141_1198-1618_-_.ps\n",
      "./RNA_secondary_structure/viennarna/AMWY02002487.1_2516-2939(+)_ss.ps\n",
      "./RNA_secondary_structure/viennarna/AMWY020024871_2516-2939_+_/AMWY020024871_2516-2939_+_.ps\n",
      "./RNA_secondary_structure/viennarna/AMWY02083127.1_3090-3455(+)_ss.ps\n",
      "./RNA_secondary_structure/viennarna/AMWY020831271_3090-3455_+_/AMWY020831271_3090-3455_+_.ps\n",
      "./RNA_secondary_structure/viennarna/AMWY02014828.1_6057-6478(-)_ss.ps\n",
      "./RNA_secondary_structure/viennarna/AMWY020148281_6057-6478_-_/AMWY020148281_6057-6478_-_.ps\n",
      "./RNA_secondary_structure/viennarna/AMWY02053841.1_3049-3471(+)_ss.ps\n",
      "./RNA_secondary_structure/viennarna/AMWY020538411_3049-3471_+_/AMWY020538411_3049-3471_+_.ps\n",
      "./RNA_secondary_structure/viennarna/AMWY02012522.1_5547-5968(+)_ss.ps\n",
      "./RNA_secondary_structure/viennarna/AMWY020125221_5547-5968_+_/AMWY020125221_5547-5968_+_.ps\n",
      "./RNA_secondary_structure/viennarna/AMWY02015869.1_3604-4026(+)_ss.ps\n",
      "./RNA_secondary_structure/viennarna/AMWY020158691_3604-4026_+_/AMWY020158691_3604-4026_+_.ps\n",
      "./RNA_secondary_structure/viennarna/AMWY02067918.1_867-1289(-)_ss.ps\n",
      "./RNA_secondary_structure/viennarna/AMWY020679181_867-1289_-_/AMWY020679181_867-1289_-_.ps\n",
      "./RNA_secondary_structure/viennarna/AMWY02009767.1_789-1211(-)_ss.ps\n",
      "./RNA_secondary_structure/viennarna/AMWY020097671_789-1211_-_/AMWY020097671_789-1211_-_.ps\n",
      "./RNA_secondary_structure/viennarna/AMWY02103996.1_37-457(-)_ss.ps\n",
      "./RNA_secondary_structure/viennarna/AMWY021039961_37-457_-_/AMWY021039961_37-457_-_.ps\n",
      "./RNA_secondary_structure/viennarna/AMWY02064511.1_8294-8714(+)_ss.ps\n",
      "./RNA_secondary_structure/viennarna/AMWY020645111_8294-8714_+_/AMWY020645111_8294-8714_+_.ps\n",
      "./RNA_secondary_structure/viennarna/AMWY02038369.1_205-626(+)_ss.ps\n",
      "./RNA_secondary_structure/viennarna/AMWY020383691_205-626_+_/AMWY020383691_205-626_+_.ps\n",
      "./RNA_secondary_structure/viennarna/AMWY02036286.1_5431-5852(+)_ss.ps\n",
      "./RNA_secondary_structure/viennarna/AMWY020362861_5431-5852_+_/AMWY020362861_5431-5852_+_.ps\n",
      "./RNA_secondary_structure/viennarna/AMWY02040932.1_543-963(-)_ss.ps\n",
      "./RNA_secondary_structure/viennarna/AMWY020409321_543-963_-_/AMWY020409321_543-963_-_.ps\n",
      "./RNA_secondary_structure/viennarna/AMWY02030001.1_55-397(-)_ss.ps\n",
      "./RNA_secondary_structure/viennarna/AMWY020300011_55-397_-_/AMWY020300011_55-397_-_.ps\n",
      "./RNA_secondary_structure/viennarna/AMWY02084282.1_179-599(+)_ss.ps\n",
      "./RNA_secondary_structure/viennarna/AMWY020842821_179-599_+_/AMWY020842821_179-599_+_.ps\n",
      "./RNA_secondary_structure/viennarna/AMWY02030352.1_1292-1712(-)_ss.ps\n",
      "./RNA_secondary_structure/viennarna/AMWY020303521_1292-1712_-_/AMWY020303521_1292-1712_-_.ps\n",
      "./RNA_secondary_structure/viennarna/AMWY02009767.1_736-1157(-)_ss.ps\n",
      "./RNA_secondary_structure/viennarna/AMWY020097671_736-1157_-_/AMWY020097671_736-1157_-_.ps\n",
      "./RNA_secondary_structure/viennarna/AMWY02012522.1_5547-5967(+)_ss.ps\n",
      "./RNA_secondary_structure/viennarna/AMWY020125221_5547-5967_+_/AMWY020125221_5547-5967_+_.ps\n",
      "./RNA_secondary_structure/viennarna/AMWY02013752.1_226-648(+)_ss.ps\n",
      "./RNA_secondary_structure/viennarna/AMWY020137521_226-648_+_/AMWY020137521_226-648_+_.ps\n",
      "./RNA_secondary_structure/viennarna/AMWY02091136.1_473-871(-)_ss.ps\n",
      "./RNA_secondary_structure/viennarna/AMWY020911361_473-871_-_/AMWY020911361_473-871_-_.ps\n",
      "./RNA_secondary_structure/viennarna/AMWY02033249.1_0-288(-)_ss.ps\n",
      "./RNA_secondary_structure/viennarna/AMWY020332491_0-288_-_/AMWY020332491_0-288_-_.ps\n",
      "./RNA_secondary_structure/viennarna/AMWY02099822.1_1549-1970(-)_ss.ps\n",
      "./RNA_secondary_structure/viennarna/AMWY020998221_1549-1970_-_/AMWY020998221_1549-1970_-_.ps\n",
      "./RNA_secondary_structure/viennarna/AMWY02067918.1_1886-2307(+)_ss.ps\n",
      "./RNA_secondary_structure/viennarna/AMWY020679181_1886-2307_+_/AMWY020679181_1886-2307_+_.ps\n",
      "./RNA_secondary_structure/viennarna/AMWY02063240.1_623-1044(-)_ss.ps\n",
      "./RNA_secondary_structure/viennarna/AMWY020632401_623-1044_-_/AMWY020632401_623-1044_-_.ps\n",
      "./RNA_secondary_structure/viennarna/AMWY02062174.1_139-560(+)_ss.ps\n",
      "./RNA_secondary_structure/viennarna/AMWY020621741_139-560_+_/AMWY020621741_139-560_+_.ps\n",
      "./RNA_secondary_structure/viennarna/AMWY02013611.1_3259-3679(-)_ss.ps\n",
      "./RNA_secondary_structure/viennarna/AMWY020136111_3259-3679_-_/AMWY020136111_3259-3679_-_.ps\n",
      "./RNA_secondary_structure/viennarna/AMWY02013611.1_407-828(-)_ss.ps\n",
      "./RNA_secondary_structure/viennarna/AMWY020136111_407-828_-_/AMWY020136111_407-828_-_.ps\n",
      "./RNA_secondary_structure/viennarna/AMWY02059828.1_2932-3353(-)_ss.ps\n",
      "./RNA_secondary_structure/viennarna/AMWY020598281_2932-3353_-_/AMWY020598281_2932-3353_-_.ps\n",
      "./RNA_secondary_structure/viennarna/AMWY02125198.1_258-680(+)_ss.ps\n",
      "./RNA_secondary_structure/viennarna/AMWY021251981_258-680_+_/AMWY021251981_258-680_+_.ps\n",
      "./RNA_secondary_structure/viennarna/AMWY02001674.1_0-401(+)_ss.ps\n",
      "./RNA_secondary_structure/viennarna/AMWY020016741_0-401_+_/AMWY020016741_0-401_+_.ps\n",
      "./RNA_secondary_structure/viennarna/AMWY02049825.1_2240-2661(-)_ss.ps\n",
      "./RNA_secondary_structure/viennarna/AMWY020498251_2240-2661_-_/AMWY020498251_2240-2661_-_.ps\n",
      "./RNA_secondary_structure/viennarna/AMWY02089812.1_85-505(-)_ss.ps\n",
      "./RNA_secondary_structure/viennarna/AMWY020898121_85-505_-_/AMWY020898121_85-505_-_.ps\n",
      "./RNA_secondary_structure/viennarna/AMWY02030167.1_572-992(-)_ss.ps\n",
      "./RNA_secondary_structure/viennarna/AMWY020301671_572-992_-_/AMWY020301671_572-992_-_.ps\n",
      "./RNA_secondary_structure/viennarna/AMWY02036886.1_2236-2656(+)_ss.ps\n",
      "./RNA_secondary_structure/viennarna/AMWY020368861_2236-2656_+_/AMWY020368861_2236-2656_+_.ps\n",
      "./RNA_secondary_structure/viennarna/AMWY02103850.1_42-464(+)_ss.ps\n",
      "./RNA_secondary_structure/viennarna/AMWY021038501_42-464_+_/AMWY021038501_42-464_+_.ps\n",
      "./RNA_secondary_structure/viennarna/AMWY02072995.1_8586-9007(-)_ss.ps\n",
      "./RNA_secondary_structure/viennarna/AMWY020729951_8586-9007_-_/AMWY020729951_8586-9007_-_.ps\n",
      "./RNA_secondary_structure/viennarna/AMWY02083434.1_1628-2049(-)_ss.ps\n",
      "./RNA_secondary_structure/viennarna/AMWY020834341_1628-2049_-_/AMWY020834341_1628-2049_-_.ps\n",
      "./RNA_secondary_structure/viennarna/AMWY02077787.1_17813-18235(-)_ss.ps\n",
      "./RNA_secondary_structure/viennarna/AMWY020777871_17813-18235_-_/AMWY020777871_17813-18235_-_.ps\n",
      "./RNA_secondary_structure/viennarna/AMWY02045285.1_1942-2362(+)_ss.ps\n",
      "./RNA_secondary_structure/viennarna/AMWY020452851_1942-2362_+_/AMWY020452851_1942-2362_+_.ps\n",
      "./RNA_secondary_structure/viennarna/AMWY02078114.1_1194-1616(-)_ss.ps\n",
      "./RNA_secondary_structure/viennarna/AMWY020781141_1194-1616_-_/AMWY020781141_1194-1616_-_.ps\n",
      "./RNA_secondary_structure/viennarna/AMWY02024273.1_5129-5550(-)_ss.ps\n",
      "./RNA_secondary_structure/viennarna/AMWY020242731_5129-5550_-_/AMWY020242731_5129-5550_-_.ps\n",
      "./RNA_secondary_structure/viennarna/AMWY02030352.1_1291-1712(-)_ss.ps\n",
      "./RNA_secondary_structure/viennarna/AMWY020303521_1291-1712_-_/AMWY020303521_1291-1712_-_.ps\n",
      "./RNA_secondary_structure/viennarna/AMWY02083434.1_1628-2048(-)_ss.ps\n",
      "./RNA_secondary_structure/viennarna/AMWY020834341_1628-2048_-_/AMWY020834341_1628-2048_-_.ps\n",
      "./RNA_secondary_structure/viennarna/AMWY02025269.1_2888-3309(-)_ss.ps\n",
      "./RNA_secondary_structure/viennarna/AMWY020252691_2888-3309_-_/AMWY020252691_2888-3309_-_.ps\n",
      "./RNA_secondary_structure/viennarna/AMWY02004761.1_1856-2278(+)_ss.ps\n",
      "./RNA_secondary_structure/viennarna/AMWY020047611_1856-2278_+_/AMWY020047611_1856-2278_+_.ps\n",
      "./RNA_secondary_structure/viennarna/AMWY02036886.1_2236-2657(-)_ss.ps\n",
      "./RNA_secondary_structure/viennarna/AMWY020368861_2236-2657_-_/AMWY020368861_2236-2657_-_.ps\n",
      "./RNA_secondary_structure/viennarna/AMWY02002882.1_33636-34057(-)_ss.ps\n",
      "./RNA_secondary_structure/viennarna/AMWY020028821_33636-34057_-_/AMWY020028821_33636-34057_-_.ps\n",
      "./RNA_secondary_structure/viennarna/AMWY02045540.1_3002-3303(-)_ss.ps\n",
      "./RNA_secondary_structure/viennarna/AMWY020455401_3002-3303_-_/AMWY020455401_3002-3303_-_.ps\n",
      "./RNA_secondary_structure/viennarna/AMWY02061244.1_3840-4261(-)_ss.ps\n",
      "./RNA_secondary_structure/viennarna/AMWY020612441_3840-4261_-_/AMWY020612441_3840-4261_-_.ps\n",
      "./RNA_secondary_structure/viennarna/AMWY02035960.1_1716-2137(-)_ss.ps\n",
      "./RNA_secondary_structure/viennarna/AMWY020359601_1716-2137_-_/AMWY020359601_1716-2137_-_.ps\n",
      "./RNA_secondary_structure/viennarna/AMWY02043062.1_414-837(-)_ss.ps\n",
      "./RNA_secondary_structure/viennarna/AMWY020430621_414-837_-_/AMWY020430621_414-837_-_.ps\n",
      "./RNA_secondary_structure/viennarna/AMWY02002882.1_33637-34058(-)_ss.ps\n",
      "./RNA_secondary_structure/viennarna/AMWY020028821_33637-34058_-_/AMWY020028821_33637-34058_-_.ps\n",
      "./RNA_secondary_structure/viennarna/AMWY02050134.1_2319-2740(+)_ss.ps\n",
      "./RNA_secondary_structure/viennarna/AMWY020501341_2319-2740_+_/AMWY020501341_2319-2740_+_.ps\n",
      "./RNA_secondary_structure/viennarna/AMWY02013752.1_89-510(+)_ss.ps\n",
      "./RNA_secondary_structure/viennarna/AMWY020137521_89-510_+_/AMWY020137521_89-510_+_.ps\n",
      "./RNA_secondary_structure/viennarna/AMWY02036886.1_2236-2657(+)_ss.ps\n",
      "./RNA_secondary_structure/viennarna/AMWY020368861_2236-2657_+_/AMWY020368861_2236-2657_+_.ps\n",
      "./RNA_secondary_structure/viennarna/AMWY02034827.1_6226-6648(+)_ss.ps\n",
      "./RNA_secondary_structure/viennarna/AMWY020348271_6226-6648_+_/AMWY020348271_6226-6648_+_.ps\n",
      "./RNA_secondary_structure/viennarna/AMWY02052568.1_2203-2625(+)_ss.ps\n",
      "./RNA_secondary_structure/viennarna/AMWY020525681_2203-2625_+_/AMWY020525681_2203-2625_+_.ps\n",
      "./RNA_secondary_structure/viennarna/AMWY02100220.1_0-288(+)_ss.ps\n",
      "./RNA_secondary_structure/viennarna/AMWY021002201_0-288_+_/AMWY021002201_0-288_+_.ps\n",
      "./RNA_secondary_structure/viennarna/AMWY02063397.1_1126-1548(+)_ss.ps\n",
      "./RNA_secondary_structure/viennarna/AMWY020633971_1126-1548_+_/AMWY020633971_1126-1548_+_.ps\n",
      "./RNA_secondary_structure/viennarna/AMWY02010657.1_5691-6096(-)_ss.ps\n",
      "./RNA_secondary_structure/viennarna/AMWY020106571_5691-6096_-_/AMWY020106571_5691-6096_-_.ps\n",
      "./RNA_secondary_structure/viennarna/AMWY02083434.1_1627-2049(-)_ss.ps\n",
      "./RNA_secondary_structure/viennarna/AMWY020834341_1627-2049_-_/AMWY020834341_1627-2049_-_.ps\n",
      "./RNA_secondary_structure/viennarna/AMWY02053037.1_2025-2446(-)_ss.ps\n",
      "./RNA_secondary_structure/viennarna/AMWY020530371_2025-2446_-_/AMWY020530371_2025-2446_-_.ps\n",
      "./RNA_secondary_structure/viennarna/AMWY02097334.1_772-1194(-)_ss.ps\n",
      "./RNA_secondary_structure/viennarna/AMWY020973341_772-1194_-_/AMWY020973341_772-1194_-_.ps\n",
      "./RNA_secondary_structure/viennarna/AMWY02009767.1_784-1206(-)_ss.ps\n",
      "./RNA_secondary_structure/viennarna/AMWY020097671_784-1206_-_/AMWY020097671_784-1206_-_.ps\n",
      "./RNA_secondary_structure/viennarna/AMWY02080032.1_2344-2764(-)_ss.ps\n",
      "./RNA_secondary_structure/viennarna/AMWY020800321_2344-2764_-_/AMWY020800321_2344-2764_-_.ps\n",
      "./RNA_secondary_structure/viennarna/AMWY02078114.1_1357-1778(-)_ss.ps\n",
      "./RNA_secondary_structure/viennarna/AMWY020781141_1357-1778_-_/AMWY020781141_1357-1778_-_.ps\n",
      "./RNA_secondary_structure/viennarna/AMWY02001968.1_1243-1663(+)_ss.ps\n",
      "./RNA_secondary_structure/viennarna/AMWY020019681_1243-1663_+_/AMWY020019681_1243-1663_+_.ps\n",
      "./RNA_secondary_structure/viennarna/AMWY02078114.1_1196-1616(-)_ss.ps\n",
      "./RNA_secondary_structure/viennarna/AMWY020781141_1196-1616_-_/AMWY020781141_1196-1616_-_.ps\n",
      "./RNA_secondary_structure/viennarna/AMWY02006928.1_1234-1654(-)_ss.ps\n",
      "./RNA_secondary_structure/viennarna/AMWY020069281_1234-1654_-_/AMWY020069281_1234-1654_-_.ps\n",
      "./RNA_secondary_structure/viennarna/AMWY02072618.1_396-817(+)_ss.ps\n",
      "./RNA_secondary_structure/viennarna/AMWY020726181_396-817_+_/AMWY020726181_396-817_+_.ps\n",
      "./RNA_secondary_structure/viennarna/AMWY02035960.1_1717-2137(-)_ss.ps\n",
      "./RNA_secondary_structure/viennarna/AMWY020359601_1717-2137_-_/AMWY020359601_1717-2137_-_.ps\n",
      "./RNA_secondary_structure/viennarna/AMWY02006834.1_835-1255(-)_ss.ps\n",
      "./RNA_secondary_structure/viennarna/AMWY020068341_835-1255_-_/AMWY020068341_835-1255_-_.ps\n",
      "./RNA_secondary_structure/viennarna/AMWY02002487.1_2689-3110(-)_ss.ps\n",
      "./RNA_secondary_structure/viennarna/AMWY020024871_2689-3110_-_/AMWY020024871_2689-3110_-_.ps\n",
      "./RNA_secondary_structure/viennarna/AMWY02039981.1_1217-1638(-)_ss.ps\n",
      "./RNA_secondary_structure/viennarna/AMWY020399811_1217-1638_-_/AMWY020399811_1217-1638_-_.ps\n",
      "./RNA_secondary_structure/viennarna/AMWY02121860.1_0-394(+)_ss.ps\n",
      "./RNA_secondary_structure/viennarna/AMWY021218601_0-394_+_/AMWY021218601_0-394_+_.ps\n",
      "./RNA_secondary_structure/viennarna/AMWY02001244.1_164-586(-)_ss.ps\n",
      "./RNA_secondary_structure/viennarna/AMWY020012441_164-586_-_/AMWY020012441_164-586_-_.ps\n",
      "./RNA_secondary_structure/viennarna/AMWY02106272.1_0-385(+)_ss.ps\n",
      "./RNA_secondary_structure/viennarna/AMWY021062721_0-385_+_/AMWY021062721_0-385_+_.ps\n"
     ]
    }
   ],
   "source": [
    "import glob\n",
    "for file in glob.glob(f\"{base}*.ps\"):    \n",
    "    f = file[len(base):-6] # _ss.ps \n",
    "    f = reformat(f)        \n",
    "    shutil.move(file, f\"{base}{f}/{f}.ps\")    "
   ]
  },
  {
   "cell_type": "markdown",
   "metadata": {},
   "source": [
    "# CT Analizer"
   ]
  },
  {
   "cell_type": "code",
   "execution_count": null,
   "metadata": {},
   "outputs": [],
   "source": []
  },
  {
   "cell_type": "markdown",
   "metadata": {},
   "source": [
    "# BLASTX or DIMOND"
   ]
  },
  {
   "cell_type": "markdown",
   "metadata": {},
   "source": [
    "# DIAMOND"
   ]
  },
  {
   "cell_type": "markdown",
   "metadata": {
    "ExecuteTime": {
     "end_time": "2021-10-17T20:40:11.194148Z",
     "start_time": "2021-10-17T20:40:11.187523Z"
    }
   },
   "source": [
    "https://github.com/bbuchfink/diamond"
   ]
  },
  {
   "cell_type": "code",
   "execution_count": null,
   "metadata": {},
   "outputs": [],
   "source": []
  },
  {
   "cell_type": "code",
   "execution_count": null,
   "metadata": {},
   "outputs": [],
   "source": []
  },
  {
   "cell_type": "code",
   "execution_count": null,
   "metadata": {},
   "outputs": [],
   "source": [
    "'''\n",
    "import hashlib\n",
    "import os\n",
    "parallel = [os.path.join(dp, f) for dp, dn, filenames in os.walk(\"./PRNA_secondary_structure\") for f in filenames ]\n",
    "series = [os.path.join(dp, f) for dp, dn, filenames in os.walk(\"./SRNA_secondary_structure\") for f in filenames ]\n",
    "for i in range(len(parallel)):        \n",
    "    md5_hash = hashlib.md5()\n",
    "    with open(parallel[i],\"rb\") as file:        \n",
    "        md5_hash.update(file.read())\n",
    "        digest1 = md5_hash.hexdigest()                \n",
    "    md5_hash = hashlib.md5()\n",
    "    with open(series[i],\"rb\") as file:        \n",
    "        md5_hash.update(file.read())\n",
    "        digest2 = md5_hash.hexdigest()                \n",
    "    if(digest1 != digest2):\n",
    "        print(parallel[i])\n",
    "        print(series[i])\n",
    "        print(\"***********\")     \n",
    "'''"
   ]
  }
 ],
 "metadata": {
  "kernelspec": {
   "display_name": "Python 3",
   "language": "python",
   "name": "python3"
  },
  "language_info": {
   "codemirror_mode": {
    "name": "ipython",
    "version": 3
   },
   "file_extension": ".py",
   "mimetype": "text/x-python",
   "name": "python",
   "nbconvert_exporter": "python",
   "pygments_lexer": "ipython3",
   "version": "3.8.10"
  }
 },
 "nbformat": 4,
 "nbformat_minor": 4
}
