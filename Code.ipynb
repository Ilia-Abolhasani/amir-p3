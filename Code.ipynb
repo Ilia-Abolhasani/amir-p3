{
 "cells": [
  {
   "cell_type": "markdown",
   "metadata": {
    "heading_collapsed": true
   },
   "source": [
    "# Common"
   ]
  },
  {
   "cell_type": "code",
   "execution_count": 1,
   "metadata": {
    "ExecuteTime": {
     "end_time": "2022-05-18T14:40:02.235330Z",
     "start_time": "2022-05-18T14:40:02.231311Z"
    },
    "hidden": true
   },
   "outputs": [],
   "source": [
    "#!pip install tqdm"
   ]
  },
  {
   "cell_type": "code",
   "execution_count": 2,
   "metadata": {
    "ExecuteTime": {
     "end_time": "2022-05-18T14:40:03.112931Z",
     "start_time": "2022-05-18T14:40:02.418698Z"
    },
    "hidden": true
   },
   "outputs": [],
   "source": [
    "import json\n",
    "import time\n",
    "from subprocess import Popen, PIPE, STDOUT\n",
    "import math\n",
    "import numpy as np\n",
    "import pandas as pd\n",
    "import hashlib\n",
    "import requests\n",
    "import os, sys, subprocess\n",
    "from tqdm.contrib.concurrent import process_map\n",
    "from tqdm.notebook import tqdm\n",
    "tqdm.pandas()\n",
    "import multiprocessing as mp\n",
    "import shutil\n",
    "import urllib.parse\n",
    "import glob\n",
    "import os\n",
    "import sys\n",
    "from ast import literal_eval\n",
    "if sys.version_info[0] < 3: \n",
    "    from StringIO import StringIO\n",
    "else:\n",
    "    from io import StringIO\n",
    "sys.path.append(\"./src/\")"
   ]
  },
  {
   "cell_type": "code",
   "execution_count": 3,
   "metadata": {
    "ExecuteTime": {
     "end_time": "2022-05-18T14:40:03.363309Z",
     "start_time": "2022-05-18T14:40:03.116267Z"
    },
    "hidden": true
   },
   "outputs": [],
   "source": [
    "!mkdir -p Temp\n",
    "!mkdir -p Result"
   ]
  },
  {
   "cell_type": "code",
   "execution_count": 4,
   "metadata": {
    "ExecuteTime": {
     "end_time": "2022-05-18T14:40:03.371267Z",
     "start_time": "2022-05-18T14:40:03.367286Z"
    },
    "hidden": true
   },
   "outputs": [],
   "source": [
    "current_path = os.getcwd()"
   ]
  },
  {
   "cell_type": "code",
   "execution_count": 5,
   "metadata": {
    "ExecuteTime": {
     "end_time": "2022-05-18T14:40:03.682610Z",
     "start_time": "2022-05-18T14:40:03.677368Z"
    },
    "hidden": true
   },
   "outputs": [],
   "source": [
    "def bracket_row(row):    \n",
    "    s = row['data']\n",
    "    index = min(s.find('.'), s.find('('))\n",
    "    data = row['data']\n",
    "    row['data'] = data[0:index]\n",
    "    row['bracket'] = data[index:]\n",
    "    return row"
   ]
  },
  {
   "cell_type": "code",
   "execution_count": 6,
   "metadata": {
    "ExecuteTime": {
     "end_time": "2022-05-18T14:40:03.964176Z",
     "start_time": "2022-05-18T14:40:03.959838Z"
    },
    "hidden": true
   },
   "outputs": [],
   "source": [
    "def adjust(text,n=7):\n",
    "    text = str(text)    \n",
    "    return \" \" * (n - len(text)) + text"
   ]
  },
  {
   "cell_type": "code",
   "execution_count": 7,
   "metadata": {
    "ExecuteTime": {
     "end_time": "2022-05-18T14:40:04.429251Z",
     "start_time": "2022-05-18T14:40:04.418237Z"
    },
    "hidden": true
   },
   "outputs": [],
   "source": [
    "def bracket_to_ct(tag, data, bracket, deltaG, negative_deltaG=True):    \n",
    "    deltaG = deltaG.replace('(','').replace(')','')\n",
    "    deltaG = float(deltaG)\n",
    "    if(deltaG > 0 and negative_deltaG ): # negetive?!\n",
    "        deltaG = -1 * deltaG\n",
    "    stack = []\n",
    "    index = np.zeros((len(bracket)), dtype = int)\n",
    "    values = np.zeros((len(bracket)), dtype = int)\n",
    "    for i in range(len(bracket)):\n",
    "        index[i] = i + 1\n",
    "        if(bracket[i] == '.'):\n",
    "            values[i] = 0\n",
    "        elif(bracket[i] == '('):\n",
    "            stack.append(i)\n",
    "        elif(bracket[i] == ')'):\n",
    "            if(len(stack) == 0 ):\n",
    "                print('structure error!')\n",
    "            values[stack[-1]] = i + 1\n",
    "            values[i]  = stack[-1] + 1\n",
    "            stack.pop()\n",
    "        else:\n",
    "            print('structure error!')\n",
    "    if(len(stack) != 0 ):\n",
    "        print('structure error!')\n",
    "    # body    \n",
    "    ct = f\"{adjust(len(data),6)} dG ={adjust(deltaG,10)} {tag}\\n\"   \n",
    "    for i in range(len(bracket)):\n",
    "        ct += f\"{adjust(index[i],6)} {data[i]} {adjust(i,6)} {adjust((i+2)%(len(data)+1),6)} {adjust(values[i],6)} {adjust(index[i],7)}\\n\"\n",
    "    return ct"
   ]
  },
  {
   "cell_type": "code",
   "execution_count": 8,
   "metadata": {
    "ExecuteTime": {
     "end_time": "2022-05-18T14:40:04.820278Z",
     "start_time": "2022-05-18T14:40:04.812871Z"
    },
    "hidden": true
   },
   "outputs": [],
   "source": [
    "def fasta_to_df(path):\n",
    "    with open(path, 'r') as file:\n",
    "        text = file.read()\n",
    "    lines = [line for line in text.split('\\n') if len(line) > 0]\n",
    "    s = ''\n",
    "    tags = []\n",
    "    data = []\n",
    "    for l in lines:\n",
    "        if(l[0]=='>'):\n",
    "            tags.append(l)        \n",
    "            data.append(s)\n",
    "            s = ''\n",
    "        else:\n",
    "            s += l    \n",
    "    data.append(s)\n",
    "    df = pd.DataFrame(\n",
    "            {\n",
    "                'tag': tags,\n",
    "                'data': data[1:]\n",
    "            })\n",
    "    df['tag'] = df['tag'].apply(lambda x: x[1:])    \n",
    "    return df"
   ]
  },
  {
   "cell_type": "code",
   "execution_count": 9,
   "metadata": {
    "ExecuteTime": {
     "end_time": "2022-05-18T14:40:05.569112Z",
     "start_time": "2022-05-18T14:40:05.564059Z"
    },
    "hidden": true
   },
   "outputs": [],
   "source": [
    "def df_to_fasta(df, path):\n",
    "    lines = []\n",
    "    df.apply(lambda row: lines.append(f\">{row['tag']}\\n{row['data']}\\n\"),axis=1)\n",
    "    with open(path,'w') as file:\n",
    "        file.write(''.join(lines))"
   ]
  },
  {
   "cell_type": "code",
   "execution_count": 10,
   "metadata": {
    "ExecuteTime": {
     "end_time": "2022-05-18T14:40:05.901566Z",
     "start_time": "2022-05-18T14:40:05.897179Z"
    },
    "hidden": true
   },
   "outputs": [],
   "source": [
    "def reformat(path):\n",
    "    return path.replace('(','_').replace(')','_').replace('.','').replace(':','_')"
   ]
  },
  {
   "cell_type": "code",
   "execution_count": 11,
   "metadata": {
    "ExecuteTime": {
     "end_time": "2022-05-18T14:40:06.325619Z",
     "start_time": "2022-05-18T14:40:06.317520Z"
    },
    "hidden": true
   },
   "outputs": [],
   "source": [
    "def reformatCT(path):\n",
    "    with open(path, 'r') as file:\n",
    "        text = file.read()\n",
    "    text = [l for l in text.split('\\n') if len(l) > 0 ] # remove blank lines\n",
    "    text = '\\n'.join(text)\n",
    "    text = text.replace(\"\\t\",\" \")\n",
    "    while(\"  \" in text):\n",
    "        text = text.replace(\"  \", \" \")\n",
    "    lines = [l for l in text.split('\\n')]\n",
    "    for i in range(len(lines)):\n",
    "        if(lines[i][0] == \" \"):\n",
    "            lines[i] = lines[i][1:]\n",
    "        if(lines[i][-1] == \" \"):\n",
    "            lines[i] = lines[i][:-1]\n",
    "    text = '\\n'.join(lines)\n",
    "    return text"
   ]
  },
  {
   "cell_type": "code",
   "execution_count": 12,
   "metadata": {
    "ExecuteTime": {
     "end_time": "2022-05-18T14:40:06.761638Z",
     "start_time": "2022-05-18T14:40:06.755976Z"
    },
    "hidden": true
   },
   "outputs": [],
   "source": [
    "def get_ct_data(ct):\n",
    "    ct = \"\\n\".join(ct.split('\\n')[1:])\n",
    "    df = pd.read_csv(StringIO(ct), sep=\" \", header=None)               \n",
    "    nucleotide = df.iloc[:,1]\n",
    "    index = df.iloc[:,5]\n",
    "    values = df.iloc[:,4]\n",
    "    return [nucleotide, index, values]"
   ]
  },
  {
   "cell_type": "code",
   "execution_count": 13,
   "metadata": {
    "ExecuteTime": {
     "end_time": "2022-05-18T14:40:07.249999Z",
     "start_time": "2022-05-18T14:40:07.243967Z"
    },
    "hidden": true
   },
   "outputs": [],
   "source": [
    "def ct2dot_bracket(path):\n",
    "    [nucleotide, index, values] = get_ct_data(reformatCT(path))\n",
    "    text = ''.join(nucleotide) + \"\\n\"\n",
    "    watch = []\n",
    "    for i, v in zip(index,values):\n",
    "        if(v == 0):\n",
    "            text += '.'\n",
    "        else:\n",
    "            if( v not in watch):\n",
    "                text += '('\n",
    "                watch.append(i)\n",
    "            if( v in watch):\n",
    "                text += ')'\n",
    "    return text"
   ]
  },
  {
   "cell_type": "code",
   "execution_count": 14,
   "metadata": {
    "ExecuteTime": {
     "end_time": "2022-05-18T14:40:07.525500Z",
     "start_time": "2022-05-18T14:40:07.520104Z"
    },
    "hidden": true
   },
   "outputs": [],
   "source": [
    "def is_nested(index, values):\n",
    "    max_value = max(index) + 10 # inf\n",
    "    for i, v in zip(index, values):\n",
    "        if(v < max_value and v != 0):\n",
    "            max_value  = v\n",
    "        if(i >= max_value):\n",
    "            max_value = max(index) + 10 # inf\n",
    "        if(v > max_value):\n",
    "            return False               \n",
    "    return True"
   ]
  },
  {
   "cell_type": "markdown",
   "metadata": {
    "heading_collapsed": true
   },
   "source": [
    "# Download dataset"
   ]
  },
  {
   "cell_type": "code",
   "execution_count": 15,
   "metadata": {
    "ExecuteTime": {
     "end_time": "2022-05-18T14:40:08.977153Z",
     "start_time": "2022-05-18T14:40:08.973245Z"
    },
    "hidden": true
   },
   "outputs": [],
   "source": [
    "input_genome_path = \"GCA_022749755.1_ASM2274975v1_genomic.fna\""
   ]
  },
  {
   "cell_type": "markdown",
   "metadata": {
    "heading_collapsed": true
   },
   "source": [
    "# Download data from Mirbase"
   ]
  },
  {
   "cell_type": "code",
   "execution_count": 16,
   "metadata": {
    "ExecuteTime": {
     "end_time": "2022-05-08T16:07:27.411257Z",
     "start_time": "2022-05-08T16:07:27.145392Z"
    },
    "hidden": true
   },
   "outputs": [],
   "source": [
    "directory = './Temp/miRBase_driven_data'\n",
    "base = \"https://www.mirbase.org/ftp/CURRENT\"        \n",
    "!rm -r {directory}\n",
    "!mkdir -p {directory}"
   ]
  },
  {
   "cell_type": "code",
   "execution_count": 17,
   "metadata": {
    "ExecuteTime": {
     "end_time": "2022-05-08T16:07:41.576071Z",
     "start_time": "2022-05-08T16:07:27.573597Z"
    },
    "hidden": true,
    "scrolled": true
   },
   "outputs": [
    {
     "name": "stdout",
     "output_type": "stream",
     "text": [
      "--2022-05-08 20:37:27--  https://www.mirbase.org/ftp/CURRENT/aliases.txt.gz\n",
      "Resolving www.mirbase.org (www.mirbase.org)... 130.88.97.249\n",
      "Connecting to www.mirbase.org (www.mirbase.org)|130.88.97.249|:443... connected.\n",
      "HTTP request sent, awaiting response... 200 OK\n",
      "Length: 480536 (469K) [application/x-gzip]\n",
      "Saving to: ‘././Temp/miRBase_driven_data/aliases.txt.gz’\n",
      "\n",
      "aliases.txt.gz      100%[===================>] 469.27K   455KB/s    in 1.0s    \n",
      "\n",
      "2022-05-08 20:37:29 (455 KB/s) - ‘././Temp/miRBase_driven_data/aliases.txt.gz’ saved [480536/480536]\n",
      "\n",
      "--2022-05-08 20:37:29--  https://www.mirbase.org/ftp/CURRENT/hairpin.fa.gz\n",
      "Resolving www.mirbase.org (www.mirbase.org)... 130.88.97.249\n",
      "Connecting to www.mirbase.org (www.mirbase.org)|130.88.97.249|:443... connected.\n",
      "HTTP request sent, awaiting response... 200 OK\n",
      "Length: 1547350 (1.5M) [application/x-gzip]\n",
      "Saving to: ‘././Temp/miRBase_driven_data/hairpin.fa.gz’\n",
      "\n",
      "hairpin.fa.gz       100%[===================>]   1.48M  1.02MB/s    in 1.4s    \n",
      "\n",
      "2022-05-08 20:37:31 (1.02 MB/s) - ‘././Temp/miRBase_driven_data/hairpin.fa.gz’ saved [1547350/1547350]\n",
      "\n",
      "--2022-05-08 20:37:31--  https://www.mirbase.org/ftp/CURRENT/hairpin_high_conf.fa.gz\n",
      "Resolving www.mirbase.org (www.mirbase.org)... 130.88.97.249\n",
      "Connecting to www.mirbase.org (www.mirbase.org)|130.88.97.249|:443... connected.\n",
      "HTTP request sent, awaiting response... 200 OK\n",
      "Length: 129596 (127K) [application/x-gzip]\n",
      "Saving to: ‘././Temp/miRBase_driven_data/hairpin_high_conf.fa.gz’\n",
      "\n",
      "hairpin_high_conf.f 100%[===================>] 126.56K   176KB/s    in 0.7s    \n",
      "\n",
      "2022-05-08 20:37:32 (176 KB/s) - ‘././Temp/miRBase_driven_data/hairpin_high_conf.fa.gz’ saved [129596/129596]\n",
      "\n",
      "--2022-05-08 20:37:32--  https://www.mirbase.org/ftp/CURRENT/mature.fa.gz\n",
      "Resolving www.mirbase.org (www.mirbase.org)... 130.88.97.249\n",
      "Connecting to www.mirbase.org (www.mirbase.org)|130.88.97.249|:443... connected.\n",
      "HTTP request sent, awaiting response... 200 OK\n",
      "Length: 803746 (785K) [application/x-gzip]\n",
      "Saving to: ‘././Temp/miRBase_driven_data/mature.fa.gz’\n",
      "\n",
      "mature.fa.gz        100%[===================>] 784.91K   576KB/s    in 1.4s    \n",
      "\n",
      "2022-05-08 20:37:34 (576 KB/s) - ‘././Temp/miRBase_driven_data/mature.fa.gz’ saved [803746/803746]\n",
      "\n",
      "--2022-05-08 20:37:34--  https://www.mirbase.org/ftp/CURRENT/mature_high_conf.fa.gz\n",
      "Resolving www.mirbase.org (www.mirbase.org)... 130.88.97.249\n",
      "Connecting to www.mirbase.org (www.mirbase.org)|130.88.97.249|:443... connected.\n",
      "HTTP request sent, awaiting response... 200 OK\n",
      "Length: 69381 (68K) [application/x-gzip]\n",
      "Saving to: ‘././Temp/miRBase_driven_data/mature_high_conf.fa.gz’\n",
      "\n",
      "mature_high_conf.fa 100%[===================>]  67.75K   164KB/s    in 0.4s    \n",
      "\n",
      "2022-05-08 20:37:35 (164 KB/s) - ‘././Temp/miRBase_driven_data/mature_high_conf.fa.gz’ saved [69381/69381]\n",
      "\n",
      "--2022-05-08 20:37:35--  https://www.mirbase.org/ftp/CURRENT/miRNA.str.gz\n",
      "Resolving www.mirbase.org (www.mirbase.org)... 130.88.97.249\n",
      "Connecting to www.mirbase.org (www.mirbase.org)|130.88.97.249|:443... connected.\n",
      "HTTP request sent, awaiting response... 200 OK\n",
      "Length: 3373763 (3.2M) [application/x-gzip]\n",
      "Saving to: ‘././Temp/miRBase_driven_data/miRNA.str.gz’\n",
      "\n",
      "miRNA.str.gz        100%[===================>]   3.22M  1.48MB/s    in 2.2s    \n",
      "\n",
      "2022-05-08 20:37:38 (1.48 MB/s) - ‘././Temp/miRBase_driven_data/miRNA.str.gz’ saved [3373763/3373763]\n",
      "\n",
      "--2022-05-08 20:37:38--  https://www.mirbase.org/ftp/CURRENT/miRNA.xls.gz\n",
      "Resolving www.mirbase.org (www.mirbase.org)... 130.88.97.249\n",
      "Connecting to www.mirbase.org (www.mirbase.org)|130.88.97.249|:443... connected.\n",
      "HTTP request sent, awaiting response... 200 OK\n",
      "Length: 2963404 (2.8M) [application/x-gzip]\n",
      "Saving to: ‘././Temp/miRBase_driven_data/miRNA.xls.gz’\n",
      "\n",
      "miRNA.xls.gz        100%[===================>]   2.83M  1.55MB/s    in 1.8s    \n",
      "\n",
      "2022-05-08 20:37:40 (1.55 MB/s) - ‘././Temp/miRBase_driven_data/miRNA.xls.gz’ saved [2963404/2963404]\n",
      "\n",
      "--2022-05-08 20:37:41--  https://www.mirbase.org/ftp/CURRENT/organisms.txt.gz\n",
      "Resolving www.mirbase.org (www.mirbase.org)... 130.88.97.249\n",
      "Connecting to www.mirbase.org (www.mirbase.org)|130.88.97.249|:443... connected.\n",
      "HTTP request sent, awaiting response... 200 OK\n",
      "Length: 6842 (6.7K) [application/x-gzip]\n",
      "Saving to: ‘././Temp/miRBase_driven_data/organisms.txt.gz’\n",
      "\n",
      "organisms.txt.gz    100%[===================>]   6.68K  --.-KB/s    in 0s      \n",
      "\n",
      "2022-05-08 20:37:41 (193 MB/s) - ‘././Temp/miRBase_driven_data/organisms.txt.gz’ saved [6842/6842]\n",
      "\n"
     ]
    }
   ],
   "source": [
    "!wget {base}/aliases.txt.gz -P ./{directory}/       ; gzip -d ./{directory}/aliases.txt.gz \n",
    "!wget {base}/hairpin.fa.gz -P ./{directory}/           ; gzip -d ./{directory}/hairpin.fa.gz \n",
    "!wget {base}/hairpin_high_conf.fa.gz -P ./{directory}/ ; gzip -d ./{directory}/hairpin_high_conf.fa.gz \n",
    "!wget {base}/mature.fa.gz -P ./{directory}/            ; gzip -d ./{directory}/mature.fa.gz \n",
    "!wget {base}/mature_high_conf.fa.gz -P ./{directory}/  ; gzip -d ./{directory}/mature_high_conf.fa.gz\n",
    "!wget {base}/miRNA.str.gz -P ./{directory}/            ; gzip -d ./{directory}/miRNA.str.gz \n",
    "!wget {base}/miRNA.xls.gz -P ./{directory}/            ; gzip -d ./{directory}/miRNA.xls.gz \n",
    "!wget {base}/organisms.txt.gz -P ./{directory}/        ; gzip -d ./{directory}/organisms.txt.gz"
   ]
  },
  {
   "cell_type": "code",
   "execution_count": 18,
   "metadata": {
    "ExecuteTime": {
     "end_time": "2022-05-08T16:07:41.746315Z",
     "start_time": "2022-05-08T16:07:41.579686Z"
    },
    "hidden": true
   },
   "outputs": [],
   "source": [
    "mature = fasta_to_df(f'{directory}/mature.fa')\n",
    "mature_high_conf = fasta_to_df(f'{directory}/mature_high_conf.fa')\n",
    "mature['trim tag'] = mature['tag'].apply(lambda line: ' '.join(line.split(' ')[:2]))\n",
    "mature['confidence'] = mature['trim tag'].isin(mature_high_conf['tag'])"
   ]
  },
  {
   "cell_type": "code",
   "execution_count": 22,
   "metadata": {
    "ExecuteTime": {
     "end_time": "2022-04-26T13:59:56.668835Z",
     "start_time": "2022-04-26T13:59:56.618958Z"
    },
    "hidden": true
   },
   "outputs": [
    {
     "name": "stdout",
     "output_type": "stream",
     "text": [
      "(48885, 5)\n"
     ]
    },
    {
     "data": {
      "text/html": [
       "<div>\n",
       "<style scoped>\n",
       "    .dataframe tbody tr th:only-of-type {\n",
       "        vertical-align: middle;\n",
       "    }\n",
       "\n",
       "    .dataframe tbody tr th {\n",
       "        vertical-align: top;\n",
       "    }\n",
       "\n",
       "    .dataframe thead th {\n",
       "        text-align: right;\n",
       "    }\n",
       "</style>\n",
       "<table border=\"1\" class=\"dataframe\">\n",
       "  <thead>\n",
       "    <tr style=\"text-align: right;\">\n",
       "      <th></th>\n",
       "      <th>tag</th>\n",
       "      <th>data</th>\n",
       "      <th>trim tag</th>\n",
       "      <th>confidence</th>\n",
       "      <th>organism</th>\n",
       "    </tr>\n",
       "  </thead>\n",
       "  <tbody>\n",
       "    <tr>\n",
       "      <th>0</th>\n",
       "      <td>cel-let-7-5p MIMAT0000001 Caenorhabditis elega...</td>\n",
       "      <td>UGAGGUAGUAGGUUGUAUAGUU</td>\n",
       "      <td>cel-let-7-5p MIMAT0000001</td>\n",
       "      <td>True</td>\n",
       "      <td>cel</td>\n",
       "    </tr>\n",
       "    <tr>\n",
       "      <th>1</th>\n",
       "      <td>cel-let-7-3p MIMAT0015091 Caenorhabditis elega...</td>\n",
       "      <td>CUAUGCAAUUUUCUACCUUACC</td>\n",
       "      <td>cel-let-7-3p MIMAT0015091</td>\n",
       "      <td>True</td>\n",
       "      <td>cel</td>\n",
       "    </tr>\n",
       "  </tbody>\n",
       "</table>\n",
       "</div>"
      ],
      "text/plain": [
       "                                                 tag                    data  \\\n",
       "0  cel-let-7-5p MIMAT0000001 Caenorhabditis elega...  UGAGGUAGUAGGUUGUAUAGUU   \n",
       "1  cel-let-7-3p MIMAT0015091 Caenorhabditis elega...  CUAUGCAAUUUUCUACCUUACC   \n",
       "\n",
       "                    trim tag  confidence organism  \n",
       "0  cel-let-7-5p MIMAT0000001        True      cel  \n",
       "1  cel-let-7-3p MIMAT0015091        True      cel  "
      ]
     },
     "execution_count": 22,
     "metadata": {},
     "output_type": "execute_result"
    }
   ],
   "source": [
    "mature['organism'] = mature['tag'].apply(lambda x: x[:3])\n",
    "print(mature.shape)\n",
    "mature.head(2)"
   ]
  },
  {
   "cell_type": "code",
   "execution_count": 23,
   "metadata": {
    "ExecuteTime": {
     "end_time": "2022-04-26T13:59:57.593257Z",
     "start_time": "2022-04-26T13:59:57.568291Z"
    },
    "hidden": true
   },
   "outputs": [
    {
     "name": "stdout",
     "output_type": "stream",
     "text": [
      "(285, 5)\n"
     ]
    },
    {
     "data": {
      "text/html": [
       "<div>\n",
       "<style scoped>\n",
       "    .dataframe tbody tr th:only-of-type {\n",
       "        vertical-align: middle;\n",
       "    }\n",
       "\n",
       "    .dataframe tbody tr th {\n",
       "        vertical-align: top;\n",
       "    }\n",
       "\n",
       "    .dataframe thead th {\n",
       "        text-align: right;\n",
       "    }\n",
       "</style>\n",
       "<table border=\"1\" class=\"dataframe\">\n",
       "  <thead>\n",
       "    <tr style=\"text-align: right;\">\n",
       "      <th></th>\n",
       "      <th>organism</th>\n",
       "      <th>division</th>\n",
       "      <th>name</th>\n",
       "      <th>tree</th>\n",
       "      <th>NCBI-taxid</th>\n",
       "    </tr>\n",
       "  </thead>\n",
       "  <tbody>\n",
       "    <tr>\n",
       "      <th>0</th>\n",
       "      <td>aqu</td>\n",
       "      <td>AQU</td>\n",
       "      <td>Amphimedon queenslandica</td>\n",
       "      <td>Metazoa;Porifera;</td>\n",
       "      <td>400682</td>\n",
       "    </tr>\n",
       "    <tr>\n",
       "      <th>1</th>\n",
       "      <td>nve</td>\n",
       "      <td>NVE</td>\n",
       "      <td>Nematostella vectensis</td>\n",
       "      <td>Metazoa;Cnidaria;</td>\n",
       "      <td>45351</td>\n",
       "    </tr>\n",
       "  </tbody>\n",
       "</table>\n",
       "</div>"
      ],
      "text/plain": [
       "  organism division                      name               tree  NCBI-taxid\n",
       "0      aqu      AQU  Amphimedon queenslandica  Metazoa;Porifera;      400682\n",
       "1      nve      NVE    Nematostella vectensis  Metazoa;Cnidaria;       45351"
      ]
     },
     "execution_count": 23,
     "metadata": {},
     "output_type": "execute_result"
    }
   ],
   "source": [
    "organism = pd.read_csv(f'./{directory}/organisms.txt',sep='\\t')\n",
    "organism.columns = [c.replace('#','') for c in organism.columns] # remove sharp from columns\n",
    "print(organism.shape)\n",
    "organism.head(2)"
   ]
  },
  {
   "cell_type": "code",
   "execution_count": 24,
   "metadata": {
    "ExecuteTime": {
     "end_time": "2022-04-26T14:00:03.146332Z",
     "start_time": "2022-04-26T14:00:03.137269Z"
    },
    "hidden": true
   },
   "outputs": [
    {
     "data": {
      "text/plain": [
       "['Viruses;',\n",
       " 'Mycetozoa;',\n",
       " 'Alveolata;',\n",
       " 'Metazoa;Porifera;',\n",
       " 'Metazoa;Cnidaria;',\n",
       " 'Viridiplantae;Chlorophyta;',\n",
       " 'Viridiplantae;Embryophyta;',\n",
       " 'Viridiplantae;Coniferophyta;',\n",
       " 'Viridiplantae;Magnoliophyta;',\n",
       " 'Metazoa;Bilateria;Deuterostoma;',\n",
       " 'Chromalveolata;Heterokontophyta;',\n",
       " 'Metazoa;Bilateria;Ecdysozoa;Nematoda;',\n",
       " 'Metazoa;Bilateria;Lophotrochozoa;Annelida;',\n",
       " 'Metazoa;Bilateria;Lophotrochozoa;Nemertea;',\n",
       " 'Metazoa;Bilateria;Lophotrochozoa;Mollusca;',\n",
       " 'Viridiplantae;Magnoliophyta;monocotyledons;',\n",
       " 'Metazoa;Bilateria;Deuterostoma;Hemichordata;',\n",
       " 'Metazoa;Bilateria;Deuterostoma;Echinodermata;',\n",
       " 'Metazoa;Bilateria;Lophotrochozoa;Brachiopoda;',\n",
       " 'Metazoa;Bilateria;Ecdysozoa;Arthropoda;Hexapoda;',\n",
       " 'Metazoa;Bilateria;Ecdysozoa;Arthropoda;Crustacea;',\n",
       " 'Metazoa;Bilateria;Lophotrochozoa;Platyhelminthes;',\n",
       " 'Metazoa;Bilateria;Ecdysozoa;Arthropoda;Chelicerata;',\n",
       " 'Metazoa;Bilateria;Ecdysozoa;Arthropoda;Mandibulata;',\n",
       " 'Viridiplantae;Magnoliophyta;eudicotyledons;Poaceae;',\n",
       " 'Metazoa;Bilateria;Deuterostoma;Chordata;Urochordata;',\n",
       " 'Viridiplantae;Magnoliophyta;eudicotyledons;Fabaceae;',\n",
       " 'Viridiplantae;Magnoliophyta;eudicotyledons;Vitaceae;',\n",
       " 'Viridiplantae;Magnoliophyta;eudicotyledons;Rosaceae;',\n",
       " 'Viridiplantae;Magnoliophyta;eudicotyledons;Rutaceae;',\n",
       " 'Viridiplantae;Magnoliophyta;eudicotyledons;Lamiales;',\n",
       " 'Viridiplantae;Magnoliophyta;eudicotyledons;Linaceae;',\n",
       " 'Viridiplantae;Magnoliophyta;eudicotyledons;Malvaceae;',\n",
       " 'Viridiplantae;Magnoliophyta;eudicotyledons;Myrtaceae;',\n",
       " 'Viridiplantae;Magnoliophyta;eudicotyledons;Caricaceae;',\n",
       " 'Viridiplantae;Magnoliophyta;eudicotyledons;Salicaceae;',\n",
       " 'Viridiplantae;Magnoliophyta;eudicotyledons;Solanaceae;',\n",
       " 'Viridiplantae;Magnoliophyta;eudicotyledons;Asteraceae;',\n",
       " 'Viridiplantae;Magnoliophyta;eudicotyledons;Araliaceae;',\n",
       " 'Viridiplantae;Magnoliophyta;eudicotyledons;Paeoniaceae;',\n",
       " 'Metazoa;Bilateria;Deuterostoma;Chordata;Cephalochordata;',\n",
       " 'Metazoa;Bilateria;Deuterostoma;Chordata;Vertebrata;Aves;',\n",
       " 'Viridiplantae;Magnoliophyta;eudicotyledons;Brassicaceae;',\n",
       " 'Viridiplantae;Magnoliophyta;eudicotyledons;Papaveraceae;',\n",
       " 'Viridiplantae;Magnoliophyta;eudicotyledons;Ranunculaceae;',\n",
       " 'Viridiplantae;Magnoliophyta;eudicotyledons;Euphorbiaceae;',\n",
       " 'Viridiplantae;Magnoliophyta;eudicotyledons;Cucurbitaceae;',\n",
       " 'Viridiplantae;Magnoliophyta;eudicotyledons;Amaranthaceae;',\n",
       " 'Viridiplantae;Magnoliophyta;eudicotyledons;Rhizophoraceae;',\n",
       " 'Metazoa;Bilateria;Deuterostoma;Chordata;Vertebrata;Sauria;',\n",
       " 'Metazoa;Bilateria;Deuterostoma;Chordata;Vertebrata;Amphibia;',\n",
       " 'Metazoa;Bilateria;Deuterostoma;Chordata;Vertebrata;Teleostei;',\n",
       " 'Metazoa;Bilateria;Deuterostoma;Chordata;Vertebrata;Gnathostomata;',\n",
       " 'Metazoa;Bilateria;Deuterostoma;Chordata;Vertebrata;Mammalia;Suina;',\n",
       " 'Metazoa;Bilateria;Deuterostoma;Chordata;Vertebrata;Agnathostomata;',\n",
       " 'Metazoa;Bilateria;Deuterostoma;Chordata;Vertebrata;Mammalia;Rodentia;',\n",
       " 'Metazoa;Bilateria;Deuterostoma;Chordata;Vertebrata;Mammalia;Carnivora;',\n",
       " 'Metazoa;Bilateria;Deuterostoma;Chordata;Vertebrata;Mammalia;Cingulata;',\n",
       " 'Metazoa;Bilateria;Deuterostoma;Chordata;Vertebrata;Mammalia;Metatheria;',\n",
       " 'Metazoa;Bilateria;Deuterostoma;Chordata;Vertebrata;Mammalia;Ruminantia;',\n",
       " 'Metazoa;Bilateria;Deuterostoma;Chordata;Vertebrata;Mammalia;Lagomorpha;',\n",
       " 'Metazoa;Bilateria;Deuterostoma;Chordata;Vertebrata;Mammalia;Scandentia;',\n",
       " 'Metazoa;Bilateria;Deuterostoma;Chordata;Vertebrata;Mammalia;Afrotheria;',\n",
       " 'Metazoa;Bilateria;Deuterostoma;Chordata;Vertebrata;Mammalia;Prototheria;',\n",
       " 'Metazoa;Bilateria;Deuterostoma;Chordata;Vertebrata;Mammalia;Laurasiatheria;',\n",
       " 'Metazoa;Bilateria;Deuterostoma;Chordata;Vertebrata;Mammalia;Primates;Cebidae;',\n",
       " 'Metazoa;Bilateria;Deuterostoma;Chordata;Vertebrata;Mammalia;Primates;Atelidae;',\n",
       " 'Metazoa;Bilateria;Deuterostoma;Chordata;Vertebrata;Mammalia;Primates;Hominidae;',\n",
       " 'Metazoa;Bilateria;Deuterostoma;Chordata;Vertebrata;Mammalia;Primates;Lemuridae;',\n",
       " 'Metazoa;Bilateria;Deuterostoma;Chordata;Vertebrata;Mammalia;Primates;Galagidae;',\n",
       " 'Metazoa;Bilateria;Deuterostoma;Chordata;Vertebrata;Mammalia;Primates;Hylobatidae;',\n",
       " 'Metazoa;Bilateria;Deuterostoma;Chordata;Vertebrata;Mammalia;Primates;Cheirogaleidae;',\n",
       " 'Metazoa;Bilateria;Deuterostoma;Chordata;Vertebrata;Mammalia;Primates;Daubentoniidae;',\n",
       " 'Metazoa;Bilateria;Deuterostoma;Chordata;Vertebrata;Mammalia;Primates;Cercopithecidae;']"
      ]
     },
     "execution_count": 24,
     "metadata": {},
     "output_type": "execute_result"
    }
   ],
   "source": [
    "items = list(organism['tree'].unique())\n",
    "items.sort(key=len)\n",
    "items"
   ]
  },
  {
   "cell_type": "code",
   "execution_count": 25,
   "metadata": {
    "ExecuteTime": {
     "end_time": "2022-04-26T14:00:09.140158Z",
     "start_time": "2022-04-26T14:00:09.122969Z"
    },
    "hidden": true
   },
   "outputs": [
    {
     "name": "stdout",
     "output_type": "stream",
     "text": [
      "(86, 5)\n"
     ]
    },
    {
     "data": {
      "text/html": [
       "<div>\n",
       "<style scoped>\n",
       "    .dataframe tbody tr th:only-of-type {\n",
       "        vertical-align: middle;\n",
       "    }\n",
       "\n",
       "    .dataframe tbody tr th {\n",
       "        vertical-align: top;\n",
       "    }\n",
       "\n",
       "    .dataframe thead th {\n",
       "        text-align: right;\n",
       "    }\n",
       "</style>\n",
       "<table border=\"1\" class=\"dataframe\">\n",
       "  <thead>\n",
       "    <tr style=\"text-align: right;\">\n",
       "      <th></th>\n",
       "      <th>organism</th>\n",
       "      <th>division</th>\n",
       "      <th>name</th>\n",
       "      <th>tree</th>\n",
       "      <th>NCBI-taxid</th>\n",
       "    </tr>\n",
       "  </thead>\n",
       "  <tbody>\n",
       "    <tr>\n",
       "      <th>66</th>\n",
       "      <td>cre</td>\n",
       "      <td>CRE</td>\n",
       "      <td>Chlamydomonas reinhardtii</td>\n",
       "      <td>Viridiplantae;Chlorophyta;</td>\n",
       "      <td>3055</td>\n",
       "    </tr>\n",
       "    <tr>\n",
       "      <th>67</th>\n",
       "      <td>pta</td>\n",
       "      <td>PTA</td>\n",
       "      <td>Pinus taeda</td>\n",
       "      <td>Viridiplantae;Coniferophyta;</td>\n",
       "      <td>3352</td>\n",
       "    </tr>\n",
       "    <tr>\n",
       "      <th>68</th>\n",
       "      <td>ppt</td>\n",
       "      <td>PPT</td>\n",
       "      <td>Physcomitrella patens</td>\n",
       "      <td>Viridiplantae;Embryophyta;</td>\n",
       "      <td>3218</td>\n",
       "    </tr>\n",
       "    <tr>\n",
       "      <th>69</th>\n",
       "      <td>smo</td>\n",
       "      <td>SMO</td>\n",
       "      <td>Selaginella moellendorffii</td>\n",
       "      <td>Viridiplantae;Embryophyta;</td>\n",
       "      <td>88036</td>\n",
       "    </tr>\n",
       "    <tr>\n",
       "      <th>70</th>\n",
       "      <td>ath</td>\n",
       "      <td>ATH</td>\n",
       "      <td>Arabidopsis thaliana</td>\n",
       "      <td>Viridiplantae;Magnoliophyta;eudicotyledons;Bra...</td>\n",
       "      <td>3702</td>\n",
       "    </tr>\n",
       "  </tbody>\n",
       "</table>\n",
       "</div>"
      ],
      "text/plain": [
       "   organism division                        name  \\\n",
       "66      cre      CRE   Chlamydomonas reinhardtii   \n",
       "67      pta      PTA                 Pinus taeda   \n",
       "68      ppt      PPT       Physcomitrella patens   \n",
       "69      smo      SMO  Selaginella moellendorffii   \n",
       "70      ath      ATH        Arabidopsis thaliana   \n",
       "\n",
       "                                                 tree  NCBI-taxid  \n",
       "66                         Viridiplantae;Chlorophyta;        3055  \n",
       "67                       Viridiplantae;Coniferophyta;        3352  \n",
       "68                         Viridiplantae;Embryophyta;        3218  \n",
       "69                         Viridiplantae;Embryophyta;       88036  \n",
       "70  Viridiplantae;Magnoliophyta;eudicotyledons;Bra...        3702  "
      ]
     },
     "execution_count": 25,
     "metadata": {},
     "output_type": "execute_result"
    }
   ],
   "source": [
    "selectedTree = organism[organism['tree'].apply(lambda x: \"Viridiplantae;\" in x)]\n",
    "print(selectedTree.shape)\n",
    "selectedTree.head(5)"
   ]
  },
  {
   "cell_type": "code",
   "execution_count": 26,
   "metadata": {
    "ExecuteTime": {
     "end_time": "2022-04-26T14:00:14.263208Z",
     "start_time": "2022-04-26T14:00:14.231298Z"
    },
    "hidden": true,
    "scrolled": false
   },
   "outputs": [
    {
     "name": "stdout",
     "output_type": "stream",
     "text": [
      "(10414, 5)\n"
     ]
    },
    {
     "data": {
      "text/html": [
       "<div>\n",
       "<style scoped>\n",
       "    .dataframe tbody tr th:only-of-type {\n",
       "        vertical-align: middle;\n",
       "    }\n",
       "\n",
       "    .dataframe tbody tr th {\n",
       "        vertical-align: top;\n",
       "    }\n",
       "\n",
       "    .dataframe thead th {\n",
       "        text-align: right;\n",
       "    }\n",
       "</style>\n",
       "<table border=\"1\" class=\"dataframe\">\n",
       "  <thead>\n",
       "    <tr style=\"text-align: right;\">\n",
       "      <th></th>\n",
       "      <th>tag</th>\n",
       "      <th>data</th>\n",
       "      <th>trim tag</th>\n",
       "      <th>confidence</th>\n",
       "      <th>organism</th>\n",
       "    </tr>\n",
       "  </thead>\n",
       "  <tbody>\n",
       "    <tr>\n",
       "      <th>316</th>\n",
       "      <td>ath-miR156a-5p MIMAT0000166 Arabidopsis thalia...</td>\n",
       "      <td>UGACAGAAGAGAGUGAGCAC</td>\n",
       "      <td>ath-miR156a-5p MIMAT0000166</td>\n",
       "      <td>False</td>\n",
       "      <td>ath</td>\n",
       "    </tr>\n",
       "  </tbody>\n",
       "</table>\n",
       "</div>"
      ],
      "text/plain": [
       "                                                   tag                  data  \\\n",
       "316  ath-miR156a-5p MIMAT0000166 Arabidopsis thalia...  UGACAGAAGAGAGUGAGCAC   \n",
       "\n",
       "                        trim tag  confidence organism  \n",
       "316  ath-miR156a-5p MIMAT0000166       False      ath  "
      ]
     },
     "execution_count": 26,
     "metadata": {},
     "output_type": "execute_result"
    }
   ],
   "source": [
    "selected = mature[mature['organism'].isin(selectedTree['organism'])]\n",
    "print(selected.shape)\n",
    "selected.head(1)"
   ]
  },
  {
   "cell_type": "code",
   "execution_count": 37,
   "metadata": {
    "ExecuteTime": {
     "end_time": "2022-04-16T14:41:21.107697Z",
     "start_time": "2022-04-16T14:41:20.810892Z"
    },
    "hidden": true
   },
   "outputs": [],
   "source": [
    "df_to_fasta(selected,'./Temp/mature_microRNA_queries.fasta')"
   ]
  },
  {
   "cell_type": "code",
   "execution_count": 38,
   "metadata": {
    "ExecuteTime": {
     "end_time": "2022-04-16T14:41:21.719186Z",
     "start_time": "2022-04-16T14:41:21.715006Z"
    },
    "hidden": true
   },
   "outputs": [],
   "source": [
    "# use this cell for extracting str files for hairpin.fa\n",
    "'''\n",
    "tags = list(selected['tag'].apply(lambda x : x.split(' ')[0]))\n",
    "with open(f'./{directory}/miRNA.str', 'r') as file:\n",
    "    text = file.read()\n",
    "text = text.split('\\n')\n",
    "\n",
    "result = ''\n",
    "for i in range(0,len(text),8):\n",
    "    if(text[i].split(' ')[0][1:] in tags):\n",
    "        result += '\\n'.join(text[i:i+8]) + \"\\n\"        \n",
    "with open(f'./high_conf_hairpin.str', 'w') as file:\n",
    "    file.write(result)\n",
    "''';"
   ]
  },
  {
   "cell_type": "markdown",
   "metadata": {
    "heading_collapsed": true
   },
   "source": [
    "# Remove redundant"
   ]
  },
  {
   "cell_type": "markdown",
   "metadata": {
    "hidden": true
   },
   "source": [
    "## cdhit-est"
   ]
  },
  {
   "cell_type": "code",
   "execution_count": 39,
   "metadata": {
    "ExecuteTime": {
     "end_time": "2022-04-16T14:41:23.991087Z",
     "start_time": "2022-04-16T14:41:23.709613Z"
    },
    "code_folding": [],
    "hidden": true
   },
   "outputs": [
    {
     "name": "stdout",
     "output_type": "stream",
     "text": [
      "================================================================\n",
      "Program: CD-HIT, V4.8.1 (+OpenMP), Oct 23 2021, 21:45:39\n",
      "Command: ./Software/cdhit/cd-hit-est -i\n",
      "         ./Temp/mature_microRNA_queries.fasta -o\n",
      "         ./Temp/NR_mature_microRNA_queries.fasta -c 1 -r 0 -G 1\n",
      "         -g 1 -b 30 -l 10 -aL 0 -AL 99999999 -aS 0 -AS 99999999\n",
      "         -s 0 -S 0\n",
      "\n",
      "Started: Sat Apr 16 19:11:23 2022\n",
      "================================================================\n",
      "                            Output                              \n",
      "----------------------------------------------------------------\n",
      "total seq: 10414\n",
      "longest and shortest : 28 and 17\n",
      "Total letters: 222978\n",
      "Sequences have been sorted\n",
      "\n",
      "Approximated minimal memory consumption:\n",
      "Sequence        : 1M\n",
      "Buffer          : 1 X 12M = 12M\n",
      "Table           : 1 X 16M = 16M\n",
      "Miscellaneous   : 0M\n",
      "Total           : 30M\n",
      "\n",
      "Table limit with the given memory limit:\n",
      "Max number of representatives: 4000000\n",
      "Max number of word counting entries: 96149440\n",
      "\n",
      "comparing sequences from          0  to      10414\n",
      "..........    10000  finished       5817  clusters\n",
      "\n",
      "    10414  finished       6028  clusters\n",
      "\n",
      "Approximated maximum memory consumption: 31M\n",
      "writing new database\n",
      "writing clustering information\n",
      "program completed !\n",
      "\n",
      "Total CPU time 0.11\n"
     ]
    }
   ],
   "source": [
    "!./Software/cdhit/cd-hit-est -i ./Temp/mature_microRNA_queries.fasta  -o ./Temp/NR_mature_microRNA_queries.fasta \\\n",
    "    -c 1 -r 0 -G 1 -g 1 -b 30 -l 10 -aL 0 -AL 99999999 -aS 0 \\\n",
    "    -AS 99999999 -s 0 -S 0"
   ]
  },
  {
   "cell_type": "markdown",
   "metadata": {
    "hidden": true
   },
   "source": [
    "## reformat"
   ]
  },
  {
   "cell_type": "code",
   "execution_count": 40,
   "metadata": {
    "ExecuteTime": {
     "end_time": "2022-04-16T14:41:29.507009Z",
     "start_time": "2022-04-16T14:41:29.469848Z"
    },
    "hidden": true
   },
   "outputs": [
    {
     "name": "stdout",
     "output_type": "stream",
     "text": [
      "(10414, 2)\n"
     ]
    },
    {
     "data": {
      "text/html": [
       "<div>\n",
       "<style scoped>\n",
       "    .dataframe tbody tr th:only-of-type {\n",
       "        vertical-align: middle;\n",
       "    }\n",
       "\n",
       "    .dataframe tbody tr th {\n",
       "        vertical-align: top;\n",
       "    }\n",
       "\n",
       "    .dataframe thead th {\n",
       "        text-align: right;\n",
       "    }\n",
       "</style>\n",
       "<table border=\"1\" class=\"dataframe\">\n",
       "  <thead>\n",
       "    <tr style=\"text-align: right;\">\n",
       "      <th></th>\n",
       "      <th>seqid</th>\n",
       "      <th>cluster</th>\n",
       "    </tr>\n",
       "  </thead>\n",
       "  <tbody>\n",
       "    <tr>\n",
       "      <th>0</th>\n",
       "      <td>cst-miR11332</td>\n",
       "      <td>C0</td>\n",
       "    </tr>\n",
       "    <tr>\n",
       "      <th>1</th>\n",
       "      <td>stu-miR7994b-5p</td>\n",
       "      <td>C1</td>\n",
       "    </tr>\n",
       "  </tbody>\n",
       "</table>\n",
       "</div>"
      ],
      "text/plain": [
       "             seqid cluster\n",
       "0     cst-miR11332      C0\n",
       "1  stu-miR7994b-5p      C1"
      ]
     },
     "execution_count": 40,
     "metadata": {},
     "output_type": "execute_result"
    }
   ],
   "source": [
    "with open('./Temp/NR_mature_microRNA_queries.fasta.clstr','r') as file:\n",
    "    text = file.read()\n",
    "lines = [line for line in text.split('\\n') if len(line) > 0]\n",
    "cluster = []\n",
    "seqid = []\n",
    "last_cluster = \"\"\n",
    "for l in lines:\n",
    "    if(l[0]=='>'):        \n",
    "        last_cluster = l.replace('>Cluster ',\"C\")\n",
    "    else:        \n",
    "        cluster.append(last_cluster)\n",
    "        seqid.append(l.split(', >')[1].split('...')[0])                \n",
    "seq2cluster = pd.DataFrame({'seqid': seqid,'cluster': cluster})\n",
    "print(seq2cluster.shape)\n",
    "seq2cluster.head(2)    "
   ]
  },
  {
   "cell_type": "code",
   "execution_count": 41,
   "metadata": {
    "ExecuteTime": {
     "end_time": "2022-04-16T14:41:31.772457Z",
     "start_time": "2022-04-16T14:41:31.578979Z"
    },
    "hidden": true
   },
   "outputs": [
    {
     "name": "stdout",
     "output_type": "stream",
     "text": [
      "(10414, 4)\n"
     ]
    },
    {
     "data": {
      "text/html": [
       "<div>\n",
       "<style scoped>\n",
       "    .dataframe tbody tr th:only-of-type {\n",
       "        vertical-align: middle;\n",
       "    }\n",
       "\n",
       "    .dataframe tbody tr th {\n",
       "        vertical-align: top;\n",
       "    }\n",
       "\n",
       "    .dataframe thead th {\n",
       "        text-align: right;\n",
       "    }\n",
       "</style>\n",
       "<table border=\"1\" class=\"dataframe\">\n",
       "  <thead>\n",
       "    <tr style=\"text-align: right;\">\n",
       "      <th></th>\n",
       "      <th>cluster</th>\n",
       "      <th>seqid</th>\n",
       "      <th>tag</th>\n",
       "      <th>confidence</th>\n",
       "    </tr>\n",
       "  </thead>\n",
       "  <tbody>\n",
       "    <tr>\n",
       "      <th>0</th>\n",
       "      <td>C5495</td>\n",
       "      <td>ath-miR156a-5p</td>\n",
       "      <td>ath-miR156a-5p MIMAT0000166 Arabidopsis thalia...</td>\n",
       "      <td>False</td>\n",
       "    </tr>\n",
       "    <tr>\n",
       "      <th>1</th>\n",
       "      <td>C1199</td>\n",
       "      <td>ath-miR156a-3p</td>\n",
       "      <td>ath-miR156a-3p MIMAT0031865 Arabidopsis thalia...</td>\n",
       "      <td>False</td>\n",
       "    </tr>\n",
       "  </tbody>\n",
       "</table>\n",
       "</div>"
      ],
      "text/plain": [
       "  cluster           seqid                                                tag  \\\n",
       "0   C5495  ath-miR156a-5p  ath-miR156a-5p MIMAT0000166 Arabidopsis thalia...   \n",
       "1   C1199  ath-miR156a-3p  ath-miR156a-3p MIMAT0031865 Arabidopsis thalia...   \n",
       "\n",
       "   confidence  \n",
       "0       False  \n",
       "1       False  "
      ]
     },
     "metadata": {},
     "output_type": "display_data"
    }
   ],
   "source": [
    "df = fasta_to_df(\"./Temp/mature_microRNA_queries.fasta\")\n",
    "df['accession'] = df['tag'].apply(lambda x : x.split(' ')[0])\n",
    "seq2cluster = pd.merge(df,seq2cluster,how=\"inner\",left_on='accession',right_on=\"seqid\")\n",
    "seq2cluster = pd.merge(seq2cluster, mature,how=\"inner\",left_on='tag',right_on=\"tag\")[['cluster','seqid','tag', 'confidence']]\n",
    "print(seq2cluster.shape)\n",
    "display(seq2cluster.head(2))\n",
    "seq2cluster.to_csv('./Temp/seq2cluster.csv',index=False)"
   ]
  },
  {
   "cell_type": "code",
   "execution_count": 42,
   "metadata": {
    "ExecuteTime": {
     "end_time": "2022-04-16T14:41:32.569262Z",
     "start_time": "2022-04-16T14:41:32.539898Z"
    },
    "hidden": true
   },
   "outputs": [
    {
     "data": {
      "text/html": [
       "<div>\n",
       "<style scoped>\n",
       "    .dataframe tbody tr th:only-of-type {\n",
       "        vertical-align: middle;\n",
       "    }\n",
       "\n",
       "    .dataframe tbody tr th {\n",
       "        vertical-align: top;\n",
       "    }\n",
       "\n",
       "    .dataframe thead th {\n",
       "        text-align: right;\n",
       "    }\n",
       "</style>\n",
       "<table border=\"1\" class=\"dataframe\">\n",
       "  <thead>\n",
       "    <tr style=\"text-align: right;\">\n",
       "      <th></th>\n",
       "      <th>cluster</th>\n",
       "      <th>seqid</th>\n",
       "      <th>tag</th>\n",
       "      <th>confidence</th>\n",
       "    </tr>\n",
       "  </thead>\n",
       "  <tbody>\n",
       "    <tr>\n",
       "      <th>9422</th>\n",
       "      <td>C0</td>\n",
       "      <td>cst-miR11332</td>\n",
       "      <td>cst-miR11332 MIMAT0044622 Cucumis sativus miR1...</td>\n",
       "      <td>False</td>\n",
       "    </tr>\n",
       "    <tr>\n",
       "      <th>7002</th>\n",
       "      <td>C1</td>\n",
       "      <td>stu-miR7994b-5p</td>\n",
       "      <td>stu-miR7994b-5p MIMAT0031188 Solanum tuberosum...</td>\n",
       "      <td>False</td>\n",
       "    </tr>\n",
       "  </tbody>\n",
       "</table>\n",
       "</div>"
      ],
      "text/plain": [
       "     cluster            seqid  \\\n",
       "9422      C0     cst-miR11332   \n",
       "7002      C1  stu-miR7994b-5p   \n",
       "\n",
       "                                                    tag  confidence  \n",
       "9422  cst-miR11332 MIMAT0044622 Cucumis sativus miR1...       False  \n",
       "7002  stu-miR7994b-5p MIMAT0031188 Solanum tuberosum...       False  "
      ]
     },
     "execution_count": 42,
     "metadata": {},
     "output_type": "execute_result"
    }
   ],
   "source": [
    "# todo: sorted first by cluster then by seqid\n",
    "seq2cluster.sort_values(\"cluster\").head(2)"
   ]
  },
  {
   "cell_type": "code",
   "execution_count": 43,
   "metadata": {
    "ExecuteTime": {
     "end_time": "2022-04-16T14:41:33.851848Z",
     "start_time": "2022-04-16T14:41:33.661911Z"
    },
    "hidden": true
   },
   "outputs": [
    {
     "name": "stdout",
     "output_type": "stream",
     "text": [
      "(6028, 2)\n"
     ]
    }
   ],
   "source": [
    "df = fasta_to_df(\"./Temp/NR_mature_microRNA_queries.fasta\")\n",
    "df['tag'] = df['tag'].apply(lambda x : x.split(' ')[0])\n",
    "df = pd.merge(df,seq2cluster,how=\"inner\",left_on='tag',right_on=\"seqid\")[['cluster','data']]\n",
    "\n",
    "lines = []\n",
    "df.apply(lambda row: lines.append(f\">{row['cluster']}\\n{row['data']}\\n\"),axis=1)\n",
    "print(df.shape)\n",
    "with open('./Temp/BLASTn_queries.fasta','w') as file:\n",
    "    file.write(''.join(lines))"
   ]
  },
  {
   "cell_type": "markdown",
   "metadata": {
    "heading_collapsed": true
   },
   "source": [
    "# BlastN"
   ]
  },
  {
   "cell_type": "markdown",
   "metadata": {
    "hidden": true
   },
   "source": [
    "!sudo apt-get install ncbi-blast+\n"
   ]
  },
  {
   "cell_type": "code",
   "execution_count": 45,
   "metadata": {
    "ExecuteTime": {
     "end_time": "2022-04-16T14:42:23.433288Z",
     "start_time": "2022-04-16T14:42:17.702670Z"
    },
    "hidden": true
   },
   "outputs": [
    {
     "name": "stdout",
     "output_type": "stream",
     "text": [
      "\n",
      "\n",
      "Building a new DB, current time: 04/16/2022 19:12:19\n",
      "New DB name:   /home/jupyter/plant_microRNA_prediction/Temp/blastn_database\n",
      "New DB title:  GCA_022749755.1_ASM2274975v1_genomic.fna\n",
      "Sequence type: Nucleotide\n",
      "Keep MBits: T\n",
      "Maximum file size: 1000000000B\n",
      "Adding sequences from FASTA; added 70 sequences in 4.12774 seconds.\n"
     ]
    }
   ],
   "source": [
    "!makeblastdb -in {input_genome_path} \\\n",
    "             -dbtype nucl \\\n",
    "             -out ./Temp/blastn_database"
   ]
  },
  {
   "cell_type": "code",
   "execution_count": 44,
   "metadata": {
    "ExecuteTime": {
     "end_time": "2022-04-23T17:24:48.538898Z",
     "start_time": "2022-04-23T17:24:48.535210Z"
    },
    "hidden": true
   },
   "outputs": [],
   "source": [
    "header = 'qseqid sseqid qstart qend sstart send qseq sseq evalue bitscore score length pident nident mismatch positive gapopen gaps ppos frames qframe sframe sstrand qcovs qcovhsp qlen slen'"
   ]
  },
  {
   "cell_type": "code",
   "execution_count": 47,
   "metadata": {
    "ExecuteTime": {
     "end_time": "2022-04-16T14:45:16.542141Z",
     "start_time": "2022-04-16T14:42:29.957644Z"
    },
    "hidden": true
   },
   "outputs": [],
   "source": [
    "!blastn -query ./Temp/BLASTn_queries.fasta \\\n",
    "        -out ./Temp/BLASTn_result \\\n",
    "        -num_threads {mp.cpu_count()} \\\n",
    "        -db ./Temp/blastn_database \\\n",
    "        -word_size 7 \\\n",
    "        -penalty -3 \\\n",
    "        -reward 2 \\\n",
    "        -gapopen 5 \\\n",
    "        -gapextend 2 \\\n",
    "        -outfmt '6 qseqid sseqid qstart qend sstart send qseq sseq evalue bitscore score length pident nident mismatch positive gapopen gaps ppos frames qframe sframe sstrand qcovs qcovhsp qlen slen'       "
   ]
  },
  {
   "cell_type": "code",
   "execution_count": 45,
   "metadata": {
    "ExecuteTime": {
     "end_time": "2022-04-23T17:24:53.554211Z",
     "start_time": "2022-04-23T17:24:51.981022Z"
    },
    "hidden": true,
    "scrolled": false
   },
   "outputs": [
    {
     "name": "stdout",
     "output_type": "stream",
     "text": [
      "(495871, 27)\n"
     ]
    },
    {
     "data": {
      "text/html": [
       "<div>\n",
       "<style scoped>\n",
       "    .dataframe tbody tr th:only-of-type {\n",
       "        vertical-align: middle;\n",
       "    }\n",
       "\n",
       "    .dataframe tbody tr th {\n",
       "        vertical-align: top;\n",
       "    }\n",
       "\n",
       "    .dataframe thead th {\n",
       "        text-align: right;\n",
       "    }\n",
       "</style>\n",
       "<table border=\"1\" class=\"dataframe\">\n",
       "  <thead>\n",
       "    <tr style=\"text-align: right;\">\n",
       "      <th></th>\n",
       "      <th>qseqid</th>\n",
       "      <th>sseqid</th>\n",
       "      <th>qstart</th>\n",
       "      <th>qend</th>\n",
       "      <th>sstart</th>\n",
       "      <th>send</th>\n",
       "      <th>qseq</th>\n",
       "      <th>sseq</th>\n",
       "      <th>evalue</th>\n",
       "      <th>bitscore</th>\n",
       "      <th>...</th>\n",
       "      <th>gaps</th>\n",
       "      <th>ppos</th>\n",
       "      <th>frames</th>\n",
       "      <th>qframe</th>\n",
       "      <th>sframe</th>\n",
       "      <th>sstrand</th>\n",
       "      <th>qcovs</th>\n",
       "      <th>qcovhsp</th>\n",
       "      <th>qlen</th>\n",
       "      <th>slen</th>\n",
       "    </tr>\n",
       "  </thead>\n",
       "  <tbody>\n",
       "    <tr>\n",
       "      <th>0</th>\n",
       "      <td>C5495</td>\n",
       "      <td>CM040446.1</td>\n",
       "      <td>1</td>\n",
       "      <td>20</td>\n",
       "      <td>1833813</td>\n",
       "      <td>1833794</td>\n",
       "      <td>TGACAGAAGAGAGTGAGCAC</td>\n",
       "      <td>TGACAGAAGAGAGTGAGCAC</td>\n",
       "      <td>0.005</td>\n",
       "      <td>37.4</td>\n",
       "      <td>...</td>\n",
       "      <td>0</td>\n",
       "      <td>100.0</td>\n",
       "      <td>1/-1</td>\n",
       "      <td>1</td>\n",
       "      <td>-1</td>\n",
       "      <td>minus</td>\n",
       "      <td>100</td>\n",
       "      <td>100</td>\n",
       "      <td>20</td>\n",
       "      <td>18270782</td>\n",
       "    </tr>\n",
       "    <tr>\n",
       "      <th>1</th>\n",
       "      <td>C5495</td>\n",
       "      <td>CM040446.1</td>\n",
       "      <td>1</td>\n",
       "      <td>20</td>\n",
       "      <td>5663467</td>\n",
       "      <td>5663486</td>\n",
       "      <td>TGACAGAAGAGAGTGAGCAC</td>\n",
       "      <td>TGACAGAAGAGAGTGAGCAC</td>\n",
       "      <td>0.005</td>\n",
       "      <td>37.4</td>\n",
       "      <td>...</td>\n",
       "      <td>0</td>\n",
       "      <td>100.0</td>\n",
       "      <td>1/1</td>\n",
       "      <td>1</td>\n",
       "      <td>1</td>\n",
       "      <td>plus</td>\n",
       "      <td>100</td>\n",
       "      <td>100</td>\n",
       "      <td>20</td>\n",
       "      <td>18270782</td>\n",
       "    </tr>\n",
       "  </tbody>\n",
       "</table>\n",
       "<p>2 rows × 27 columns</p>\n",
       "</div>"
      ],
      "text/plain": [
       "  qseqid      sseqid  qstart  qend   sstart     send                  qseq  \\\n",
       "0  C5495  CM040446.1       1    20  1833813  1833794  TGACAGAAGAGAGTGAGCAC   \n",
       "1  C5495  CM040446.1       1    20  5663467  5663486  TGACAGAAGAGAGTGAGCAC   \n",
       "\n",
       "                   sseq  evalue  bitscore  ...  gaps   ppos  frames  qframe  \\\n",
       "0  TGACAGAAGAGAGTGAGCAC   0.005      37.4  ...     0  100.0    1/-1       1   \n",
       "1  TGACAGAAGAGAGTGAGCAC   0.005      37.4  ...     0  100.0     1/1       1   \n",
       "\n",
       "   sframe  sstrand  qcovs  qcovhsp  qlen      slen  \n",
       "0      -1    minus    100      100    20  18270782  \n",
       "1       1     plus    100      100    20  18270782  \n",
       "\n",
       "[2 rows x 27 columns]"
      ]
     },
     "execution_count": 45,
     "metadata": {},
     "output_type": "execute_result"
    }
   ],
   "source": [
    "df_blastn = pd.read_csv('./Temp/BLASTn_result', sep='\\t',header=None)\n",
    "df_blastn.columns = header.replace(\"  \",\" \").split(\" \")\n",
    "print(df_blastn.shape)\n",
    "df_blastn.head(2)"
   ]
  },
  {
   "cell_type": "code",
   "execution_count": 46,
   "metadata": {
    "ExecuteTime": {
     "end_time": "2022-04-23T17:26:53.012353Z",
     "start_time": "2022-04-23T17:25:00.160898Z"
    },
    "hidden": true
   },
   "outputs": [],
   "source": [
    "# alignment length adjustment\n",
    "def blastn_adjust(row):\n",
    "    if(row['sstrand'] == \"plus\"):        \n",
    "        row['sstart'] = max(1, row['sstart'] - (row['qstart'] - 1))\n",
    "        row['send'] = min(row['slen'], row['send'] + (row['qlen'] - row['qend']))\n",
    "    if(row['sstrand'] == \"minus\"):        \n",
    "        row['send'] = max(1, row['send'] - (row['qstart'] - 1 ))\n",
    "        row['sstart'] = min(row['slen'], row['sstart'] + (row['qlen'] - row['qend'] ))\n",
    "    return row\n",
    "    \n",
    "df_blastn = df_blastn.apply(lambda row: blastn_adjust(row), axis=1)"
   ]
  },
  {
   "cell_type": "code",
   "execution_count": 47,
   "metadata": {
    "ExecuteTime": {
     "end_time": "2022-04-23T17:26:53.347256Z",
     "start_time": "2022-04-23T17:26:53.015685Z"
    },
    "hidden": true
   },
   "outputs": [
    {
     "name": "stdout",
     "output_type": "stream",
     "text": [
      "(120752, 28)\n"
     ]
    },
    {
     "data": {
      "text/html": [
       "<div>\n",
       "<style scoped>\n",
       "    .dataframe tbody tr th:only-of-type {\n",
       "        vertical-align: middle;\n",
       "    }\n",
       "\n",
       "    .dataframe tbody tr th {\n",
       "        vertical-align: top;\n",
       "    }\n",
       "\n",
       "    .dataframe thead th {\n",
       "        text-align: right;\n",
       "    }\n",
       "</style>\n",
       "<table border=\"1\" class=\"dataframe\">\n",
       "  <thead>\n",
       "    <tr style=\"text-align: right;\">\n",
       "      <th></th>\n",
       "      <th>qseqid</th>\n",
       "      <th>sseqid</th>\n",
       "      <th>qstart</th>\n",
       "      <th>qend</th>\n",
       "      <th>sstart</th>\n",
       "      <th>send</th>\n",
       "      <th>qseq</th>\n",
       "      <th>sseq</th>\n",
       "      <th>evalue</th>\n",
       "      <th>bitscore</th>\n",
       "      <th>...</th>\n",
       "      <th>ppos</th>\n",
       "      <th>frames</th>\n",
       "      <th>qframe</th>\n",
       "      <th>sframe</th>\n",
       "      <th>sstrand</th>\n",
       "      <th>qcovs</th>\n",
       "      <th>qcovhsp</th>\n",
       "      <th>qlen</th>\n",
       "      <th>slen</th>\n",
       "      <th>Nonconformity</th>\n",
       "    </tr>\n",
       "  </thead>\n",
       "  <tbody>\n",
       "    <tr>\n",
       "      <th>0</th>\n",
       "      <td>C5495</td>\n",
       "      <td>CM040446.1</td>\n",
       "      <td>1</td>\n",
       "      <td>20</td>\n",
       "      <td>1833813</td>\n",
       "      <td>1833794</td>\n",
       "      <td>TGACAGAAGAGAGTGAGCAC</td>\n",
       "      <td>TGACAGAAGAGAGTGAGCAC</td>\n",
       "      <td>0.005</td>\n",
       "      <td>37.4</td>\n",
       "      <td>...</td>\n",
       "      <td>100.0</td>\n",
       "      <td>1/-1</td>\n",
       "      <td>1</td>\n",
       "      <td>-1</td>\n",
       "      <td>minus</td>\n",
       "      <td>100</td>\n",
       "      <td>100</td>\n",
       "      <td>20</td>\n",
       "      <td>18270782</td>\n",
       "      <td>0</td>\n",
       "    </tr>\n",
       "    <tr>\n",
       "      <th>1</th>\n",
       "      <td>C5495</td>\n",
       "      <td>CM040446.1</td>\n",
       "      <td>1</td>\n",
       "      <td>20</td>\n",
       "      <td>5663467</td>\n",
       "      <td>5663486</td>\n",
       "      <td>TGACAGAAGAGAGTGAGCAC</td>\n",
       "      <td>TGACAGAAGAGAGTGAGCAC</td>\n",
       "      <td>0.005</td>\n",
       "      <td>37.4</td>\n",
       "      <td>...</td>\n",
       "      <td>100.0</td>\n",
       "      <td>1/1</td>\n",
       "      <td>1</td>\n",
       "      <td>1</td>\n",
       "      <td>plus</td>\n",
       "      <td>100</td>\n",
       "      <td>100</td>\n",
       "      <td>20</td>\n",
       "      <td>18270782</td>\n",
       "      <td>0</td>\n",
       "    </tr>\n",
       "  </tbody>\n",
       "</table>\n",
       "<p>2 rows × 28 columns</p>\n",
       "</div>"
      ],
      "text/plain": [
       "  qseqid      sseqid  qstart  qend   sstart     send                  qseq  \\\n",
       "0  C5495  CM040446.1       1    20  1833813  1833794  TGACAGAAGAGAGTGAGCAC   \n",
       "1  C5495  CM040446.1       1    20  5663467  5663486  TGACAGAAGAGAGTGAGCAC   \n",
       "\n",
       "                   sseq  evalue  bitscore  ...   ppos  frames  qframe  sframe  \\\n",
       "0  TGACAGAAGAGAGTGAGCAC   0.005      37.4  ...  100.0    1/-1       1      -1   \n",
       "1  TGACAGAAGAGAGTGAGCAC   0.005      37.4  ...  100.0     1/1       1       1   \n",
       "\n",
       "   sstrand  qcovs  qcovhsp  qlen      slen Nonconformity  \n",
       "0    minus    100      100    20  18270782             0  \n",
       "1     plus    100      100    20  18270782             0  \n",
       "\n",
       "[2 rows x 28 columns]"
      ]
     },
     "execution_count": 47,
     "metadata": {},
     "output_type": "execute_result"
    }
   ],
   "source": [
    "threshold = 3\n",
    "df_blastn['Nonconformity'] = df_blastn['qlen'] - (abs(df_blastn['qend'] - df_blastn['qstart']) + 1) + df_blastn['gaps'] + df_blastn['mismatch']\n",
    "df_blastn = df_blastn[df_blastn['Nonconformity'] <= threshold]\n",
    "print(df_blastn.shape)\n",
    "df_blastn.head(2)"
   ]
  },
  {
   "cell_type": "code",
   "execution_count": 48,
   "metadata": {
    "ExecuteTime": {
     "end_time": "2022-04-23T17:26:54.947111Z",
     "start_time": "2022-04-23T17:26:53.351054Z"
    },
    "hidden": true,
    "scrolled": false
   },
   "outputs": [
    {
     "name": "stdout",
     "output_type": "stream",
     "text": [
      "(120751, 28)\n"
     ]
    }
   ],
   "source": [
    "# remore redundancy and hold best one base of Nonconformity value\n",
    "df_blastn = df_blastn.sort_values([\"Nonconformity\", \"evalue\"], ascending = (True, True))\n",
    "df_blastn = df_blastn.drop_duplicates(subset=['sseqid','sstart', 'qseqid', 'send','sstrand'], keep='first')\n",
    "df_blastn.to_csv('./Temp/filtered_out_blastn.csv')\n",
    "print(df_blastn.shape)"
   ]
  },
  {
   "cell_type": "code",
   "execution_count": 49,
   "metadata": {
    "ExecuteTime": {
     "end_time": "2022-04-23T17:26:54.953477Z",
     "start_time": "2022-04-23T17:26:54.950332Z"
    },
    "hidden": true
   },
   "outputs": [],
   "source": [
    "#todo"
   ]
  },
  {
   "cell_type": "markdown",
   "metadata": {
    "heading_collapsed": true
   },
   "source": [
    "# Result of the blastn to bed file"
   ]
  },
  {
   "cell_type": "code",
   "execution_count": 50,
   "metadata": {
    "ExecuteTime": {
     "end_time": "2022-04-23T17:26:55.001103Z",
     "start_time": "2022-04-23T17:26:54.956584Z"
    },
    "hidden": true
   },
   "outputs": [
    {
     "name": "stderr",
     "output_type": "stream",
     "text": [
      "<ipython-input-50-cccdc8b60626>:3: SettingWithCopyWarning: \n",
      "A value is trying to be set on a copy of a slice from a DataFrame.\n",
      "Try using .loc[row_indexer,col_indexer] = value instead\n",
      "\n",
      "See the caveats in the documentation: https://pandas.pydata.org/pandas-docs/stable/user_guide/indexing.html#returning-a-view-versus-a-copy\n",
      "  df['ones'] = 1\n"
     ]
    }
   ],
   "source": [
    "flanking_value = 200\n",
    "df = df_blastn[['qseqid', 'sseqid', 'sstart', 'send', 'sstrand','slen']]\n",
    "df['ones'] = 1"
   ]
  },
  {
   "cell_type": "code",
   "execution_count": 51,
   "metadata": {
    "ExecuteTime": {
     "end_time": "2022-04-23T17:27:12.934021Z",
     "start_time": "2022-04-23T17:26:55.004022Z"
    },
    "hidden": true
   },
   "outputs": [],
   "source": [
    "def switch(row):\n",
    "    if(row['sstart'] > row['send']):        \n",
    "        temp = row['sstart']\n",
    "        row['sstart'] = row['send']\n",
    "        row['send'] = temp\n",
    "    return row\n",
    "df = df.apply(lambda row: switch(row), axis=1)"
   ]
  },
  {
   "cell_type": "code",
   "execution_count": 52,
   "metadata": {
    "ExecuteTime": {
     "end_time": "2022-04-23T17:27:12.977445Z",
     "start_time": "2022-04-23T17:27:12.937031Z"
    },
    "hidden": true
   },
   "outputs": [],
   "source": [
    "def convert(inp):\n",
    "    if(inp == \"plus\"):\n",
    "        return \"forward\"\n",
    "    if(inp == \"minus\"):\n",
    "        return \"reverse\"\n",
    "    raise Exception('Error, sstrand contains illegal word! only \"plus\" and \"minus\" are allowed')\n",
    "df['strand'] = df['sstrand'].apply(lambda x: convert(x))"
   ]
  },
  {
   "cell_type": "code",
   "execution_count": 53,
   "metadata": {
    "ExecuteTime": {
     "end_time": "2022-04-23T17:27:13.023072Z",
     "start_time": "2022-04-23T17:27:12.982068Z"
    },
    "hidden": true
   },
   "outputs": [],
   "source": [
    "def convert2sign(inp):\n",
    "    if(inp == \"plus\"):\n",
    "        return \"+\"\n",
    "    if(inp == \"minus\"):\n",
    "        return \"-\"\n",
    "    raise Exception('Error, sstrand contains illegal word! only \"plus\" and \"minus\" are allowed')\n",
    "df['sign'] = df['sstrand'].apply(lambda x: convert2sign(x))"
   ]
  },
  {
   "cell_type": "code",
   "execution_count": 54,
   "metadata": {
    "ExecuteTime": {
     "end_time": "2022-04-23T17:27:16.317573Z",
     "start_time": "2022-04-23T17:27:13.026679Z"
    },
    "hidden": true
   },
   "outputs": [],
   "source": [
    "df['hit_length'] = df.apply(lambda row: abs(row['send'] - row['sstart']) + 1 ,axis=1)"
   ]
  },
  {
   "cell_type": "markdown",
   "metadata": {
    "hidden": true
   },
   "source": [
    "## convert sstart and send from location to index (range)"
   ]
  },
  {
   "cell_type": "code",
   "execution_count": 55,
   "metadata": {
    "ExecuteTime": {
     "end_time": "2022-04-23T17:27:16.382937Z",
     "start_time": "2022-04-23T17:27:16.320688Z"
    },
    "hidden": true
   },
   "outputs": [],
   "source": [
    "df['sstart'] = df['sstart'].apply(lambda x: x - 1)"
   ]
  },
  {
   "cell_type": "code",
   "execution_count": 56,
   "metadata": {
    "ExecuteTime": {
     "end_time": "2022-04-23T17:27:16.451422Z",
     "start_time": "2022-04-23T17:27:16.386292Z"
    },
    "hidden": true
   },
   "outputs": [],
   "source": [
    "df['downstream_flanking'] = df['sstart'].apply(lambda x:  flanking_value if x > flanking_value else x)"
   ]
  },
  {
   "cell_type": "code",
   "execution_count": 57,
   "metadata": {
    "ExecuteTime": {
     "end_time": "2022-04-23T17:27:19.778294Z",
     "start_time": "2022-04-23T17:27:16.454226Z"
    },
    "hidden": true
   },
   "outputs": [],
   "source": [
    "df['upstream_flanking'] = df.apply(lambda row:  flanking_value if (row['send']+flanking_value) <= row['slen'] else row['slen'] - row['send'],axis=1)"
   ]
  },
  {
   "cell_type": "code",
   "execution_count": 58,
   "metadata": {
    "ExecuteTime": {
     "end_time": "2022-04-23T17:27:22.996332Z",
     "start_time": "2022-04-23T17:27:19.781072Z"
    },
    "hidden": true
   },
   "outputs": [],
   "source": [
    "df['hit_start'] = df.apply(lambda row: row['downstream_flanking'] if row['sign'] == \"+\" else row['upstream_flanking'],axis=1)"
   ]
  },
  {
   "cell_type": "code",
   "execution_count": 59,
   "metadata": {
    "ExecuteTime": {
     "end_time": "2022-04-23T17:27:26.867765Z",
     "start_time": "2022-04-23T17:27:22.999230Z"
    },
    "hidden": true
   },
   "outputs": [],
   "source": [
    "df['hit_end'] = df.apply(lambda row: row['downstream_flanking'] + row['hit_length'] if row['sign'] == \"+\" else row['upstream_flanking'] + row['hit_length'],axis=1)"
   ]
  },
  {
   "cell_type": "code",
   "execution_count": 60,
   "metadata": {
    "ExecuteTime": {
     "end_time": "2022-04-23T17:27:30.286843Z",
     "start_time": "2022-04-23T17:27:26.870601Z"
    },
    "hidden": true
   },
   "outputs": [],
   "source": [
    "df['sstart'] = df['sstart'].apply(lambda x: max(x - flanking_value, 0))\n",
    "df['send'] = df.apply(lambda row: min(row['send'] + flanking_value , row['slen']),axis=1)"
   ]
  },
  {
   "cell_type": "code",
   "execution_count": 61,
   "metadata": {
    "ExecuteTime": {
     "end_time": "2022-04-23T17:27:35.933108Z",
     "start_time": "2022-04-23T17:27:30.289739Z"
    },
    "hidden": true
   },
   "outputs": [],
   "source": [
    "df['tag'] = df.apply(lambda row: f\">{row['sseqid']}:{row['sstart']}-{row['send']}({row['sign']})\",axis=1)\n",
    "df['reformated_tag'] = df['tag'].apply(lambda t: reformat(t))\n",
    "df[['tag', 'reformated_tag', 'hit_start', 'hit_end']].to_csv('./Temp/hit_index_info.csv')#, index=False)"
   ]
  },
  {
   "cell_type": "code",
   "execution_count": 62,
   "metadata": {
    "ExecuteTime": {
     "end_time": "2022-04-23T17:27:42.744032Z",
     "start_time": "2022-04-23T17:27:35.936595Z"
    },
    "hidden": true
   },
   "outputs": [],
   "source": [
    "df['location_tag'] = df.apply(lambda row: f\">{row['sseqid']}|{row['sign']}|{row['sstart'] + 1}-{row['send']}|{row['hit_start']+1}-{row['hit_end']}\",axis=1)\n",
    "df[['location_tag','qseqid']].to_csv('./Temp/pipe_seprated_location_list.csv',index=False,sep='\\t')"
   ]
  },
  {
   "cell_type": "code",
   "execution_count": 63,
   "metadata": {
    "ExecuteTime": {
     "end_time": "2022-04-23T17:27:43.129530Z",
     "start_time": "2022-04-23T17:27:42.746961Z"
    },
    "hidden": true
   },
   "outputs": [],
   "source": [
    "df[['sseqid','sstart','send','strand','ones', 'sign']].to_csv('./Temp/extension_index.bed', \n",
    "        index=False, header=False, sep=\"\\t\")"
   ]
  },
  {
   "cell_type": "markdown",
   "metadata": {
    "heading_collapsed": true
   },
   "source": [
    "# Extention\n"
   ]
  },
  {
   "cell_type": "code",
   "execution_count": 64,
   "metadata": {
    "ExecuteTime": {
     "end_time": "2022-04-23T17:27:43.135906Z",
     "start_time": "2022-04-23T17:27:43.132635Z"
    },
    "hidden": true
   },
   "outputs": [],
   "source": [
    "# !sudo apt-get install bedtools"
   ]
  },
  {
   "cell_type": "code",
   "execution_count": 70,
   "metadata": {
    "ExecuteTime": {
     "end_time": "2022-04-23T17:28:46.811918Z",
     "start_time": "2022-04-23T17:28:29.348881Z"
    },
    "hidden": true
   },
   "outputs": [
    {
     "name": "stdout",
     "output_type": "stream",
     "text": [
      "rm: cannot remove 'input_genome.fna.fai': No such file or directory\r\n"
     ]
    }
   ],
   "source": [
    "!bedtools getfasta -fi {input_genome_path} -fo ./Temp/extended_original.txt -s -bed ./Temp/extension_index.bed\n",
    "!rm input_genome.fna.fai"
   ]
  },
  {
   "cell_type": "code",
   "execution_count": 66,
   "metadata": {
    "ExecuteTime": {
     "end_time": "2022-04-23T17:27:43.417838Z",
     "start_time": "2022-04-23T17:27:43.413684Z"
    },
    "code_folding": [],
    "hidden": true
   },
   "outputs": [],
   "source": [
    "# todo: remove duplicated\n",
    "'''\n",
    "df = fasta_to_df(\"./Temp/extended.txt\")\n",
    "df = df.drop_duplicates(subset=['tag'], keep='first')\n",
    "df_to_fasta(df,\"./Temp/extended.txt\")\n",
    "len(df['tag'].unique())\n",
    "''';"
   ]
  },
  {
   "cell_type": "markdown",
   "metadata": {
    "heading_collapsed": true
   },
   "source": [
    "# Convert hit region to upper case and other region to lower case"
   ]
  },
  {
   "cell_type": "code",
   "execution_count": 71,
   "metadata": {
    "ExecuteTime": {
     "end_time": "2022-04-23T17:28:51.334594Z",
     "start_time": "2022-04-23T17:28:50.733437Z"
    },
    "hidden": true
   },
   "outputs": [
    {
     "name": "stdout",
     "output_type": "stream",
     "text": [
      "(120751, 5)\n"
     ]
    },
    {
     "data": {
      "text/html": [
       "<div>\n",
       "<style scoped>\n",
       "    .dataframe tbody tr th:only-of-type {\n",
       "        vertical-align: middle;\n",
       "    }\n",
       "\n",
       "    .dataframe tbody tr th {\n",
       "        vertical-align: top;\n",
       "    }\n",
       "\n",
       "    .dataframe thead th {\n",
       "        text-align: right;\n",
       "    }\n",
       "</style>\n",
       "<table border=\"1\" class=\"dataframe\">\n",
       "  <thead>\n",
       "    <tr style=\"text-align: right;\">\n",
       "      <th></th>\n",
       "      <th>Unnamed: 0</th>\n",
       "      <th>tag</th>\n",
       "      <th>reformated_tag</th>\n",
       "      <th>hit_start</th>\n",
       "      <th>hit_end</th>\n",
       "    </tr>\n",
       "  </thead>\n",
       "  <tbody>\n",
       "    <tr>\n",
       "      <th>0</th>\n",
       "      <td>213130</td>\n",
       "      <td>CM040440.1:7209019-7209443(-)</td>\n",
       "      <td>&gt;CM0404401_7209019-7209443_-_</td>\n",
       "      <td>200</td>\n",
       "      <td>224</td>\n",
       "    </tr>\n",
       "    <tr>\n",
       "      <th>1</th>\n",
       "      <td>465602</td>\n",
       "      <td>CM040440.1:20398572-20398996(-)</td>\n",
       "      <td>&gt;CM0404401_20398572-20398996_-_</td>\n",
       "      <td>200</td>\n",
       "      <td>224</td>\n",
       "    </tr>\n",
       "  </tbody>\n",
       "</table>\n",
       "</div>"
      ],
      "text/plain": [
       "   Unnamed: 0                              tag  \\\n",
       "0      213130    CM040440.1:7209019-7209443(-)   \n",
       "1      465602  CM040440.1:20398572-20398996(-)   \n",
       "\n",
       "                    reformated_tag  hit_start  hit_end  \n",
       "0    >CM0404401_7209019-7209443_-_        200      224  \n",
       "1  >CM0404401_20398572-20398996_-_        200      224  "
      ]
     },
     "execution_count": 71,
     "metadata": {},
     "output_type": "execute_result"
    }
   ],
   "source": [
    "ext = fasta_to_df('./Temp/extended_original.txt')\n",
    "info = pd.read_csv('./Temp/hit_index_info.csv')\n",
    "info['tag'] = info['tag'].apply(lambda x: x[1:])\n",
    "print(info.shape)\n",
    "info.head(2)"
   ]
  },
  {
   "cell_type": "code",
   "execution_count": 72,
   "metadata": {
    "ExecuteTime": {
     "end_time": "2022-04-23T17:29:14.369133Z",
     "start_time": "2022-04-23T17:28:53.714887Z"
    },
    "hidden": true
   },
   "outputs": [],
   "source": [
    "ext = ext.sort_values(by=['tag']).reset_index()\n",
    "ext['help_tag'] = ext.apply(lambda r: r['tag'] + str(r.name),axis=1)\n",
    "del ext['tag']\n",
    "\n",
    "info = info.sort_values(by=['tag']).reset_index()\n",
    "info['help_tag'] = info.apply(lambda row: row['tag']+ str(row.name),axis=1)\n",
    "def redefined_tag(row):\n",
    "    tag = row['tag']\n",
    "    [sstart, send] = tag.split(':')[-1].split('(')[0].split('-')\n",
    "    sstart = int(sstart) + 1\n",
    "    sign = tag.split('(')[-1].split(')')[0]    \n",
    "    return f\"{tag.split(':')[0]}|{sign}|{sstart}-{send}|{row['hit_start']+1}-{row['hit_end']}\"\n",
    "info['tag'] = info.apply(lambda row: redefined_tag(row),axis=1)\n",
    "ext = pd.merge(ext,info,how='inner', on='help_tag')\n",
    "\n",
    "def emphasis_hit(row):\n",
    "    seq = list(row['data'].lower())            \n",
    "    s = row['hit_start']\n",
    "    e = row['hit_end']\n",
    "    seq[s:e] = list(''.join(seq[s:e]).upper())    \n",
    "    return ''.join(seq)\n",
    "    \n",
    "ext['data'] = ext.apply(lambda row: emphasis_hit(row),axis=1)\n",
    "df_to_fasta(ext[['tag','data']],\"./Temp/extended_modified.txt\")"
   ]
  },
  {
   "cell_type": "markdown",
   "metadata": {
    "heading_collapsed": true
   },
   "source": [
    "# Protein coding elimination [Download nr]"
   ]
  },
  {
   "cell_type": "code",
   "execution_count": null,
   "metadata": {
    "hidden": true
   },
   "outputs": [],
   "source": [
    "!wget https://ftp.ncbi.nlm.nih.gov/blast/db/FASTA/nr.gz"
   ]
  },
  {
   "cell_type": "markdown",
   "metadata": {
    "heading_collapsed": true
   },
   "source": [
    "# Protein coding elimination [Diamond]"
   ]
  },
  {
   "cell_type": "code",
   "execution_count": null,
   "metadata": {
    "hidden": true
   },
   "outputs": [],
   "source": [
    "#!wget http://github.com/bbuchfink/diamond/releases/download/v2.0.13/diamond-linux64.tar.gz\n",
    "#!tar xzf diamond-linux64.tar.gz"
   ]
  },
  {
   "cell_type": "code",
   "execution_count": null,
   "metadata": {
    "hidden": true
   },
   "outputs": [],
   "source": [
    "!./diamond makedb --in ./NR/nr -d ./Temp/diamond_output"
   ]
  },
  {
   "cell_type": "code",
   "execution_count": null,
   "metadata": {
    "hidden": true
   },
   "outputs": [],
   "source": [
    "!./diamond blastx -d ./Temp/diamond_output.dmnd\\\n",
    "                  -q ./Temp/extended_modified.txt\n",
    "                  -o ./Temp/diamond_matches.tsv"
   ]
  },
  {
   "cell_type": "code",
   "execution_count": 73,
   "metadata": {
    "ExecuteTime": {
     "end_time": "2022-04-23T17:29:44.416327Z",
     "start_time": "2022-04-23T17:29:43.064943Z"
    },
    "hidden": true
   },
   "outputs": [],
   "source": [
    "dmn = pd.read_csv(\"./Temp/diamond_matches.tsv\", sep='\\t', header=None)\n",
    "dmn.columns = 'qseqid sseqid pident length mismatch gapopen qstart qend sstart send evalue bitscore'.split(' ')\n",
    "coding_seq = dmn['qseqid'].unique()"
   ]
  },
  {
   "cell_type": "code",
   "execution_count": 74,
   "metadata": {
    "ExecuteTime": {
     "end_time": "2022-04-23T17:29:50.308713Z",
     "start_time": "2022-04-23T17:29:46.868901Z"
    },
    "hidden": true
   },
   "outputs": [
    {
     "name": "stdout",
     "output_type": "stream",
     "text": [
      "(120751, 2)\n",
      "(104385, 2)\n"
     ]
    }
   ],
   "source": [
    "def clear(inp):\n",
    "    if(inp[:9] == \"reverse::\"):\n",
    "        return inp[9:]\n",
    "    if(inp[:9] == \"forward::\"):\n",
    "        return inp[9:]\n",
    "    return inp\n",
    "coding_seq = pd.Series(coding_seq).apply(lambda x : clear(x))\n",
    "\n",
    "ext = fasta_to_df('./Temp/extended_modified.txt')\n",
    "print(ext.shape)\n",
    "ext = ext[~ext['tag'].isin(coding_seq)]\n",
    "print(ext.shape)\n",
    "df_to_fasta(ext,'./Temp/extended_modified_non_coding.txt')"
   ]
  },
  {
   "cell_type": "markdown",
   "metadata": {
    "heading_collapsed": true
   },
   "source": [
    "# RNA 2d prediction"
   ]
  },
  {
   "cell_type": "markdown",
   "metadata": {
    "hidden": true
   },
   "source": [
    "## Mfold"
   ]
  },
  {
   "cell_type": "code",
   "execution_count": 78,
   "metadata": {
    "ExecuteTime": {
     "end_time": "2022-04-16T20:46:07.673959Z",
     "start_time": "2022-04-16T20:46:07.670398Z"
    },
    "hidden": true
   },
   "outputs": [],
   "source": [
    "'''\n",
    "# installation\n",
    "!wget http://www.unafold.org/download/mfold-3.6.tar.gz\n",
    "!tar -xvf ./mfold-3.6.tar.gz; rm ./mfold-3.6.tar.gz\n",
    "%cd ./mfold-3.6\n",
    "!./configure\n",
    "!make\n",
    "!make install\n",
    "%cd ..\n",
    "!sudo apt install texlive-font-utils\n",
    "''';"
   ]
  },
  {
   "cell_type": "code",
   "execution_count": 79,
   "metadata": {
    "ExecuteTime": {
     "end_time": "2022-04-16T20:46:08.678906Z",
     "start_time": "2022-04-16T20:46:08.675542Z"
    },
    "hidden": true
   },
   "outputs": [],
   "source": [
    "#todo : add all hyperparameter(options) to GUI"
   ]
  },
  {
   "cell_type": "code",
   "execution_count": 80,
   "metadata": {
    "ExecuteTime": {
     "end_time": "2022-04-16T20:46:57.449493Z",
     "start_time": "2022-04-16T20:46:12.178566Z"
    },
    "hidden": true
   },
   "outputs": [
    {
     "name": "stdout",
     "output_type": "stream",
     "text": [
      "rm: cannot remove './Result/secondary_structure/mfold/': No such file or directory\r\n"
     ]
    }
   ],
   "source": [
    "counter = 0\n",
    "base = \"./Result/secondary_structure/mfold/\"\n",
    "!rm -r {base}\n",
    "!mkdir -p {base}\n",
    "df = fasta_to_df('./Temp/extended_modified_non_coding.txt')\n",
    "\n",
    "for index, row in df.iterrows():    \n",
    "    tag = reformat(row['tag'])\n",
    "    if(not os.path.exists(base + tag)):\n",
    "        os.makedirs(base + tag)            \n",
    "    with open(base + f\"{tag}/SEQ.FASTA\",'w') as file:\n",
    "        file.write(f\">{row['tag']}\\n{row['data']}\")\n",
    "    counter += 1    \n",
    "    #if(counter >= 100):\n",
    "      #  break"
   ]
  },
  {
   "cell_type": "code",
   "execution_count": 81,
   "metadata": {
    "ExecuteTime": {
     "end_time": "2022-04-16T20:46:57.457608Z",
     "start_time": "2022-04-16T20:46:57.453691Z"
    },
    "hidden": true
   },
   "outputs": [],
   "source": [
    "#!mfold  SEQ=\"SEQ.FASTA\" T=22 MAX=2"
   ]
  },
  {
   "cell_type": "code",
   "execution_count": null,
   "metadata": {
    "ExecuteTime": {
     "start_time": "2022-04-16T20:46:19.270Z"
    },
    "hidden": true
   },
   "outputs": [],
   "source": [
    "%%capture\n",
    "remove_lock = False\n",
    "def run_mfold(tag):\n",
    "    tag = reformat(tag)\n",
    "    %cd {base + tag}\n",
    "    !mfold  SEQ=\"SEQ.FASTA\" T=22   \n",
    "    if(not remove_lock):\n",
    "        !find . -name \"SEQ*\" -not -name \"*.ct\" -not -name \"*.pdf\" -not -name \"*SEQ.FASTA\" -not -type d -delete\n",
    "    %cd {current_path}\n",
    "\n",
    "if __name__ == '__main__':        \n",
    "    pool = mp.Pool(mp.cpu_count() - 5)  \n",
    "    #pool.map(run_mfold, df['tag'].iloc[:100])\n",
    "    pool.map(run_mfold, df['tag'])"
   ]
  },
  {
   "cell_type": "code",
   "execution_count": null,
   "metadata": {
    "ExecuteTime": {
     "start_time": "2022-04-16T20:46:20.554Z"
    },
    "hidden": true
   },
   "outputs": [],
   "source": [
    "'''\n",
    "base = \"secondary_structure/mfold/\"\n",
    "for directory in glob.glob(f\"{base}*\"):    \n",
    "    tag = directory[len(base):]\n",
    "    ct_files = glob.glob(f'{directory}/*.ct')        \n",
    "    try:\n",
    "        ct_files.remove(f'{base}{tag}/SEQ.ct')\n",
    "    except:\n",
    "        print(directory)\n",
    "        print(ct_files)\n",
    "        print(\"*****************\")\n",
    "    for file in ct_files:        \n",
    "        shutil.copy(file, './1.ct')\n",
    "        #dot = ct2dot_bracket('./1.ct')\n",
    "        #dot = dot.split('\\n')\n",
    "        #with open('./2.ct', 'w') as stream:\n",
    "            #stream.write(bracket_to_ct(tag, dot[0] , dot[1] , \"(0)\"))        \n",
    "        #ct1 = '\\n'.join(reformatCT('./1.ct').split('\\n')[1:])\n",
    "        #ct2 = '\\n'.join(reformatCT('./2.ct').split('\\n')[1:])\n",
    "        #if(ct1 != ct2):\n",
    "            #print(file)\n",
    "        ct = reformatCT('./1.ct')\n",
    "        [nucleotide, index, values] = get_ct_data(ct)        \n",
    "        #print(is_nested( index,  values))\n",
    "        if(not is_nested( index,  values)):\n",
    "            print(\"************\")             \n",
    "'''"
   ]
  },
  {
   "cell_type": "code",
   "execution_count": 84,
   "metadata": {
    "ExecuteTime": {
     "end_time": "2022-04-17T21:59:46.741582Z",
     "start_time": "2022-04-17T21:59:46.718230Z"
    },
    "hidden": true
   },
   "outputs": [
    {
     "name": "stdout",
     "output_type": "stream",
     "text": [
      "done\n"
     ]
    }
   ],
   "source": [
    "print('done')"
   ]
  },
  {
   "cell_type": "markdown",
   "metadata": {
    "hidden": true
   },
   "source": [
    "## Mxfold2"
   ]
  },
  {
   "cell_type": "code",
   "execution_count": null,
   "metadata": {
    "ExecuteTime": {
     "end_time": "2021-11-06T16:20:40.729087Z",
     "start_time": "2021-11-06T16:20:40.725251Z"
    },
    "hidden": true
   },
   "outputs": [],
   "source": [
    "#!wget https://github.com/keio-bioinformatics/mxfold2/releases/download/v0.1.1/mxfold2-0.1.1.tar.gz\n",
    "#!pip3 install mxfold2-0.1.1.tar.gz\n",
    "#!rm mxfold2-0.1.1.tar.gz"
   ]
  },
  {
   "cell_type": "code",
   "execution_count": null,
   "metadata": {
    "ExecuteTime": {
     "end_time": "2021-11-06T16:22:35.682900Z",
     "start_time": "2021-11-06T16:20:48.694439Z"
    },
    "hidden": true
   },
   "outputs": [],
   "source": [
    "!mxfold2 predict ./extended.txt > Result/secondary_structure/mxfold2_result.txt"
   ]
  },
  {
   "cell_type": "code",
   "execution_count": null,
   "metadata": {
    "ExecuteTime": {
     "end_time": "2021-10-31T17:46:46.009981Z",
     "start_time": "2021-10-31T17:46:45.980600Z"
    },
    "hidden": true
   },
   "outputs": [],
   "source": [
    "df = fasta_to_df('./Result/secondary_structure/mxfold2_result.txt')\n",
    "df = df.apply(lambda row: bracket_row(row) , axis=1)\n",
    "df.head(2)"
   ]
  },
  {
   "cell_type": "code",
   "execution_count": null,
   "metadata": {
    "ExecuteTime": {
     "end_time": "2021-10-31T17:48:37.583164Z",
     "start_time": "2021-10-31T17:48:37.308743Z"
    },
    "hidden": true
   },
   "outputs": [],
   "source": [
    "base = \"./Result/secondary_structure/mxfold2/\"\n",
    "!rm -r {base}\n",
    "!mkdir -p {base}\n",
    "for index, row in df.iterrows():    \n",
    "    if(not os.path.exists(base + reformat(row['tag']))):\n",
    "        os.makedirs(base + reformat(row['tag']))        \n",
    "    tag = reformat(row['tag'])\n",
    "    with open(base + f\"{tag}/{tag}.ct\",'w') as file:\n",
    "        bracket = row['bracket'].split(' ')[0]\n",
    "        deltaG = row['bracket'].split(' ')[1]\n",
    "        ct = bracket_to_ct(row['tag'], row['data'], bracket, deltaG)\n",
    "        file.write(ct)    "
   ]
  },
  {
   "cell_type": "markdown",
   "metadata": {
    "hidden": true
   },
   "source": [
    "## Vienna package"
   ]
  },
  {
   "cell_type": "code",
   "execution_count": null,
   "metadata": {
    "ExecuteTime": {
     "end_time": "2021-11-14T16:28:14.874416Z",
     "start_time": "2021-11-14T16:28:14.870733Z"
    },
    "hidden": true
   },
   "outputs": [],
   "source": [
    "#!wget https://www.tbi.univie.ac.at/RNA/download/ubuntu/ubuntu_20_04/viennarna_2.4.18-1_amd64.deb -O viennarna.deb\n",
    "#!sudo dpkg -i ./viennarna.deb\n",
    "#!sudo apt-get -f install\n",
    "#!rm viennarna.deb"
   ]
  },
  {
   "cell_type": "code",
   "execution_count": null,
   "metadata": {
    "ExecuteTime": {
     "end_time": "2021-11-14T19:35:57.889695Z",
     "start_time": "2021-11-14T19:35:57.480149Z"
    },
    "hidden": true
   },
   "outputs": [],
   "source": [
    "base = \"./Result/secondary_structure/viennarna/\"\n",
    "!rm -r {base}\n",
    "!rm ./Result/secondary_structure/viennarna_result.txt\n",
    "!mkdir -p {base}"
   ]
  },
  {
   "cell_type": "code",
   "execution_count": null,
   "metadata": {
    "ExecuteTime": {
     "end_time": "2021-11-14T19:52:09.128413Z",
     "start_time": "2021-11-14T19:36:03.739898Z"
    },
    "hidden": true
   },
   "outputs": [],
   "source": [
    "%cd {base}\n",
    "!RNAfold --jobs=0 --infile ../../Temp/extended_modified.txt  --noPS -T 22 > ../viennarna_result.txt\n",
    "%cd {current_path}"
   ]
  },
  {
   "cell_type": "code",
   "execution_count": null,
   "metadata": {
    "ExecuteTime": {
     "end_time": "2021-11-14T17:36:50.680457Z",
     "start_time": "2021-11-14T17:36:28.498386Z"
    },
    "hidden": true
   },
   "outputs": [],
   "source": [
    "df = fasta_to_df('./Result/secondary_structure/viennarna_result.txt')\n",
    "df = df.apply(lambda row: bracket_row(row) , axis=1)\n",
    "print(df.shape)\n",
    "df.head(2)"
   ]
  },
  {
   "cell_type": "code",
   "execution_count": null,
   "metadata": {
    "ExecuteTime": {
     "end_time": "2021-11-04T13:12:19.517498Z",
     "start_time": "2021-11-04T13:12:19.487872Z"
    },
    "hidden": true
   },
   "outputs": [],
   "source": [
    "for index, row in df.iterrows():    \n",
    "    tag = reformat(row['tag'])\n",
    "    if(not os.path.exists(base + tag)):\n",
    "        os.makedirs(base + tag)      \n",
    "    with open(base + f\"{tag}/{tag}.ct\",'w') as file:\n",
    "        bracket = row['bracket'].split(' ')[0]\n",
    "        deltaG = row['bracket'].split(' ')[1]\n",
    "        ct = bracket_to_ct(row['tag'], row['data'], bracket, deltaG, False)\n",
    "        file.write(ct)    "
   ]
  },
  {
   "cell_type": "code",
   "execution_count": null,
   "metadata": {
    "ExecuteTime": {
     "end_time": "2021-11-04T13:12:20.455326Z",
     "start_time": "2021-11-04T13:12:20.449583Z"
    },
    "hidden": true
   },
   "outputs": [],
   "source": [
    "import glob\n",
    "for file in glob.glob(f\"{base}*.ps\"):    \n",
    "    f = file[len(base):-6] # _ss.ps \n",
    "    f = reformat(f)        \n",
    "    shutil.move(file, f\"{base}{f}/{f}.ps\")    "
   ]
  },
  {
   "cell_type": "markdown",
   "metadata": {
    "hidden": true
   },
   "source": [
    "## ContraFold"
   ]
  },
  {
   "cell_type": "code",
   "execution_count": null,
   "metadata": {
    "ExecuteTime": {
     "end_time": "2021-11-06T15:47:08.282696Z",
     "start_time": "2021-11-06T15:47:08.278027Z"
    },
    "hidden": true
   },
   "outputs": [],
   "source": [
    "#!wget http://contra.stanford.edu/contrafold/contrafold_v2_02.tar.gz\n",
    "#!tar -xvzf contrafold_v2_02.tar.gz && rm contrafold_v2_02.tar.gz\n",
    "#%cd contrafold/src\n",
    "#!make clean\n",
    "#!make \n",
    "# to file must changed to be complieable # utility.hpp and optimization.c++ files"
   ]
  },
  {
   "cell_type": "code",
   "execution_count": null,
   "metadata": {
    "ExecuteTime": {
     "end_time": "2021-11-06T15:52:08.807315Z",
     "start_time": "2021-11-06T15:52:08.274966Z"
    },
    "hidden": true
   },
   "outputs": [],
   "source": [
    "counter = 0\n",
    "base = \"./Result/secondary_structure/contrafold/\"\n",
    "!rm -r {base}\n",
    "!mkdir -p {base}\n",
    "df = fasta_to_df('./Temp/extended.txt')\n",
    "\n",
    "for index, row in df.iterrows():    \n",
    "    tag = reformat(row['tag'])\n",
    "    if(not os.path.exists(base + tag)):\n",
    "        os.makedirs(base + tag)            \n",
    "    with open(base + f\"{tag}/{tag}.FASTA\",'w') as file:\n",
    "        file.write(f\">{row['tag']}\\n{row['data']}\")\n",
    "    counter += 1    \n",
    "    if(counter >= 10):\n",
    "        break"
   ]
  },
  {
   "cell_type": "code",
   "execution_count": null,
   "metadata": {
    "ExecuteTime": {
     "end_time": "2021-11-06T15:52:20.318477Z",
     "start_time": "2021-11-06T15:52:18.362143Z"
    },
    "hidden": true
   },
   "outputs": [],
   "source": [
    "def run_contrafold(tag):\n",
    "    tag = reformat(tag)    \n",
    "    %cd Software/contrafold/src\n",
    "    !./contrafold predict ../..{base[1:]}{tag}/{tag}.FASTA > ../..{base[1:]}{tag}/{tag}.dot\n",
    "    with open(f\"../..{base[1:]}{tag}/{tag}.dot\", 'r') as file:\n",
    "        text = file.read()\n",
    "    text = [l for l in text.split(\"\\n\") if l[:len(\">structure\")] != \">structure\"]    \n",
    "    header = text[0]\n",
    "    with open(f\"../..{base[1:]}{tag}/{tag}.dot\", 'w') as file:\n",
    "        file.write('\\n'.join(text[1:]))    \n",
    "    !RNAeval  ../..{base[1:]}{tag}/{tag}.dot -T 20 > ../..{base[1:]}{tag}/{tag}.dotdg    \n",
    "    with open(f\"../..{base[1:]}{tag}/{tag}.dotdg\", 'r') as file:\n",
    "        text = file.read()\n",
    "    with open(f\"../..{base[1:]}{tag}/{tag}.dot\", 'w') as file:\n",
    "        file.write(header + \"\\n\" + text)    \n",
    "    \n",
    "    df = fasta_to_df(f'../..{base[1:]}{tag}/{tag}.dot')\n",
    "    df = df.apply(lambda row: bracket_row(row) , axis=1)        \n",
    "    tag = reformat(df['tag'][0])\n",
    "    with open(f'../..{base[1:]}{tag}/{tag}.ct','w') as file:\n",
    "        bracket = df['bracket'][0].split(' ')[0]        \n",
    "        deltaG = df['bracket'][0].split(' ')[1]\n",
    "        ct = bracket_to_ct(df['tag'][0], df['data'][0], bracket, deltaG, False)\n",
    "        file.write(ct)    \n",
    "    #!rm ../..{base[1:]}{tag}/{tag}.dot\n",
    "    #!rm ../..{base[1:]}{tag}/{tag}.dotdg\n",
    "    !rm ../..{base[1:]}{tag}/{tag}.FASTA\n",
    "    %cd {current_path}        \n",
    "\n",
    "if __name__ == '__main__':        \n",
    "    pool = mp.Pool(mp.cpu_count() - 1)  \n",
    "    pool.map(run_contrafold, df['tag'].iloc[:10])"
   ]
  },
  {
   "cell_type": "code",
   "execution_count": null,
   "metadata": {
    "ExecuteTime": {
     "end_time": "2021-11-06T16:04:27.288085Z",
     "start_time": "2021-11-06T16:04:27.151101Z"
    },
    "hidden": true
   },
   "outputs": [],
   "source": [
    "'''path = 'secondary_structure/contrafold/AMWY020333941_469-893_-_/AMWY020333941_469-893_-_.dot'\n",
    "!RNAeval  {path} -T 20 -v'''; "
   ]
  },
  {
   "cell_type": "markdown",
   "metadata": {},
   "source": [
    "# CTAnalizer"
   ]
  },
  {
   "cell_type": "code",
   "execution_count": 16,
   "metadata": {
    "ExecuteTime": {
     "end_time": "2022-05-18T14:40:24.116342Z",
     "start_time": "2022-05-18T14:40:21.181372Z"
    }
   },
   "outputs": [
    {
     "name": "stdout",
     "output_type": "stream",
     "text": [
      "(8916, 2)\n"
     ]
    }
   ],
   "source": [
    "# only select those not ran before\n",
    "base = \"./Result/secondary_structure/mfold/\"\n",
    "df = fasta_to_df('./Temp/extended_modified.txt')\n",
    "index_list =[]\n",
    "for index, row in df.iterrows():    \n",
    "    tag = reformat(row['tag'])    \n",
    "    if(len(glob.glob(f'{base + tag}/*.ct')) != 0):\n",
    "        index_list.append(index)\n",
    "df = df.iloc[index_list,:]\n",
    "print(df.shape)"
   ]
  },
  {
   "cell_type": "code",
   "execution_count": 17,
   "metadata": {
    "ExecuteTime": {
     "end_time": "2022-05-18T14:40:24.145655Z",
     "start_time": "2022-05-18T14:40:24.124509Z"
    }
   },
   "outputs": [],
   "source": [
    "from ct_analizer import get_row"
   ]
  },
  {
   "cell_type": "code",
   "execution_count": 18,
   "metadata": {
    "ExecuteTime": {
     "end_time": "2022-05-18T14:40:24.938823Z",
     "start_time": "2022-05-18T14:40:24.932597Z"
    }
   },
   "outputs": [],
   "source": [
    "def run(tag, path, extra):        \n",
    "    #return get_row(tag, path, extra)\n",
    "    try:\n",
    "        return get_row(tag, path,extra)\n",
    "    except Exception as e:\n",
    "        print(str(e), tag)        \n",
    "        return pd.Series()\n",
    "        \n",
    "def get_df_by_tag(tag , extra=0):           \n",
    "    ct_files = glob.glob(f'{base}{reformat(tag)}/SEQ_*.ct')    \n",
    "    return pd.Series(ct_files).apply(lambda path: run(tag, path,extra))    "
   ]
  },
  {
   "cell_type": "code",
   "execution_count": 19,
   "metadata": {
    "ExecuteTime": {
     "end_time": "2022-05-18T14:40:27.740520Z",
     "start_time": "2022-05-18T14:40:26.220488Z"
    }
   },
   "outputs": [],
   "source": [
    "d = get_df_by_tag(\"CM040442.1|-|21265562-21265985|201-224\", extra=0)\n",
    "#d.to_csv('Result/d.csv')#.iloc[0,:]['full seq visualization']"
   ]
  },
  {
   "cell_type": "code",
   "execution_count": 20,
   "metadata": {
    "ExecuteTime": {
     "end_time": "2022-05-18T14:40:30.207871Z",
     "start_time": "2022-05-18T14:40:27.744348Z"
    }
   },
   "outputs": [],
   "source": [
    "seq2cluster = pd.read_csv(\"Temp/seq2cluster.csv\")\n",
    "seq2cluster['tag'] = seq2cluster.groupby(['cluster'])['tag'].transform(lambda x: ','.join(x))\n",
    "seq2cluster['seqid'] = seq2cluster.groupby(['cluster'])['seqid'].transform(lambda x: ','.join(x))\n",
    "seq2cluster = seq2cluster.drop_duplicates()\n",
    "tag2cluster = pd.read_csv('./Temp/pipe_seprated_location_list.csv',sep='\\t')\n",
    "tag2cluster['location_tag'] = tag2cluster['location_tag'].apply(lambda x : x[1:])\n",
    "data = pd.merge(seq2cluster,tag2cluster,how='inner', left_on='cluster', right_on='qseqid')\n",
    "data['Reference miRNA cluster'] = data['cluster']\n",
    "data['Reference miRNA IDs'] = data['seqid']\n",
    "data['Reference miRNA IDs and species'] = data['tag']\n",
    "data = data[['location_tag','Reference miRNA cluster', 'Reference miRNA IDs', 'Reference miRNA IDs and species','confidence']]"
   ]
  },
  {
   "cell_type": "markdown",
   "metadata": {},
   "source": [
    "# Apply on current data"
   ]
  },
  {
   "cell_type": "code",
   "execution_count": 21,
   "metadata": {
    "ExecuteTime": {
     "end_time": "2022-05-18T14:40:30.229244Z",
     "start_time": "2022-05-18T14:40:30.211573Z"
    },
    "code_folding": [
     18,
     26,
     49,
     66
    ]
   },
   "outputs": [],
   "source": [
    "rcols_boi = ['boi seq',\n",
    "             'boi name',\n",
    "             'boi dotbracket']\n",
    "\n",
    "rcols_pre = ['precursor seq',\n",
    "             'precursor name',\n",
    "             'precursor dotbracket']\n",
    "\n",
    "rcols_ref = ['Reference miRNA cluster',\n",
    "             'Reference miRNA IDs',\n",
    "             'Reference miRNA IDs and species']\n",
    "\n",
    "rcols_hit = ['chromosome',\n",
    "            'sign',\n",
    "            'hit position on chromosome']\n",
    "rcols = [*rcols_ref,\n",
    "         *rcols_boi]\n",
    "\n",
    "rcols_dg = [*rcols, 'delta G']\n",
    "\n",
    "def selection(row):        \n",
    "    global repeted\n",
    "    tuple_row = tuple(row)            \n",
    "    if(tuple_row not in repeted):\n",
    "        repeted[tuple_row] = row.name\n",
    "        return True\n",
    "    return False\n",
    "\n",
    "def boi_selection(row):    \n",
    "    global repeted_boi        \n",
    "    tuple_row_boi = tuple(row[rcols_boi])\n",
    "    dg = row['delta G']\n",
    "    if(tuple_row_boi not in repeted_boi):\n",
    "        repeted_boi[tuple_row_boi] = { \n",
    "            \"counter\": 1,\n",
    "            \"dg\": dg,\n",
    "            \"ref clusters\": row['Reference miRNA cluster'],\n",
    "            \"ref ids\": row['Reference miRNA IDs'],\n",
    "            \"ref species\": row['Reference miRNA IDs and species'],\n",
    "            \"lock\": False\n",
    "        }\n",
    "    else:            \n",
    "        value =  repeted_boi[tuple_row_boi]\n",
    "        value['counter'] += 1\n",
    "        value['dg'] = min(value['dg'] , dg)\n",
    "        value['ref clusters'] += \",\" + row['Reference miRNA cluster']\n",
    "        value['ref ids'] += \",\" + row['Reference miRNA IDs']\n",
    "        value['ref species'] += \",\" +  row['Reference miRNA IDs and species']                \n",
    "        repeted_boi[tuple_row_boi] = value\n",
    "        \n",
    "            \n",
    "def boi_JSC_cluster(row):    \n",
    "    global repeted_boi_JSC    \n",
    "    seq = row['boi seq']\n",
    "    name = row['boi name']\n",
    "    dotbracket = row['boi dotbracket']\n",
    "    if(pd.isna(name) or name == \"-\"):\n",
    "        return \n",
    "    name = name.split('|')    \n",
    "    loction = name[0] + name[1] + name[2]\n",
    "    hit = name[3]\n",
    "    key = f'{seq}{dotbracket}{loction}'\n",
    "    if(key in repeted_boi_JSC):        \n",
    "        repeted_boi_JSC[key].append(hit)\n",
    "    else:\n",
    "        repeted_boi_JSC[key] = [hit]\n",
    "        \n",
    "\n",
    "def pre_JSC_cluster(row):    \n",
    "    global repeted_pre_JSC    \n",
    "    seq = row['precursor seq']\n",
    "    name = row['precursor name']\n",
    "    dotbracket = row['precursor dotbracket']\n",
    "    if(pd.isna(name) or name == \"-\"):\n",
    "        return \n",
    "    name = name.split('|')    \n",
    "    loction = name[0] + name[1] + name[2]\n",
    "    hit = name[3]\n",
    "    key = f'{seq}{dotbracket}{loction}'\n",
    "    if(key in repeted_pre_JSC):        \n",
    "        repeted_pre_JSC[key].append(hit)\n",
    "    else:\n",
    "        repeted_pre_JSC[key] = [hit]\n",
    "        \n",
    "        \n",
    "def hit_JSC_cluster(row):    \n",
    "    global repeted_hit_JSC\n",
    "    chrom = row['chromosome']\n",
    "    sign = row['sign']\n",
    "    hit = row['hit position on chromosome']                \n",
    "    key = f'{chrom}{sign}'\n",
    "    if(key in repeted_hit_JSC):        \n",
    "        repeted_hit_JSC[key].append(hit)\n",
    "    else:\n",
    "        repeted_hit_JSC[key] = [hit]"
   ]
  },
  {
   "cell_type": "code",
   "execution_count": 22,
   "metadata": {
    "ExecuteTime": {
     "end_time": "2022-05-18T15:01:48.809925Z",
     "start_time": "2022-05-18T14:40:32.641671Z"
    },
    "scrolled": false
   },
   "outputs": [
    {
     "data": {
      "application/vnd.jupyter.widget-view+json": {
       "model_id": "f9a199c7b5434569818a1a119e4a7463",
       "version_major": 2,
       "version_minor": 0
      },
      "text/plain": [
       "  0%|          | 0/8 [00:00<?, ?it/s]"
      ]
     },
     "metadata": {},
     "output_type": "display_data"
    },
    {
     "data": {
      "application/vnd.jupyter.widget-view+json": {
       "model_id": "beb3eaaef1404203a52675423890d0ae",
       "version_major": 2,
       "version_minor": 0
      },
      "text/plain": [
       "  0%|          | 0/1115 [00:00<?, ?it/s]"
      ]
     },
     "metadata": {},
     "output_type": "display_data"
    },
    {
     "data": {
      "application/vnd.jupyter.widget-view+json": {
       "model_id": "47300b18ece847e39cbda6d24fbe628e",
       "version_major": 2,
       "version_minor": 0
      },
      "text/plain": [
       "  0%|          | 0/1115 [00:00<?, ?it/s]"
      ]
     },
     "metadata": {},
     "output_type": "display_data"
    },
    {
     "data": {
      "application/vnd.jupyter.widget-view+json": {
       "model_id": "22dfffc2386c4a288e95da65eecbd9e0",
       "version_major": 2,
       "version_minor": 0
      },
      "text/plain": [
       "  0%|          | 0/1115 [00:00<?, ?it/s]"
      ]
     },
     "metadata": {},
     "output_type": "display_data"
    },
    {
     "data": {
      "application/vnd.jupyter.widget-view+json": {
       "model_id": "cb83a0446e0c42e8ab4f185abcb6ea5f",
       "version_major": 2,
       "version_minor": 0
      },
      "text/plain": [
       "  0%|          | 0/1115 [00:00<?, ?it/s]"
      ]
     },
     "metadata": {},
     "output_type": "display_data"
    },
    {
     "data": {
      "application/vnd.jupyter.widget-view+json": {
       "model_id": "dee5d4991c1a4b8daf9b0d509f74807b",
       "version_major": 2,
       "version_minor": 0
      },
      "text/plain": [
       "  0%|          | 0/1114 [00:00<?, ?it/s]"
      ]
     },
     "metadata": {},
     "output_type": "display_data"
    },
    {
     "data": {
      "application/vnd.jupyter.widget-view+json": {
       "model_id": "180d1a45c7cd4649a3af9d31e9acfa1e",
       "version_major": 2,
       "version_minor": 0
      },
      "text/plain": [
       "  0%|          | 0/1114 [00:00<?, ?it/s]"
      ]
     },
     "metadata": {},
     "output_type": "display_data"
    },
    {
     "data": {
      "application/vnd.jupyter.widget-view+json": {
       "model_id": "1ad9bd1b8335491e9868c6ec57aeaf3b",
       "version_major": 2,
       "version_minor": 0
      },
      "text/plain": [
       "  0%|          | 0/1114 [00:00<?, ?it/s]"
      ]
     },
     "metadata": {},
     "output_type": "display_data"
    },
    {
     "data": {
      "application/vnd.jupyter.widget-view+json": {
       "model_id": "3998aa7f45ec4022a76958ece26bd369",
       "version_major": 2,
       "version_minor": 0
      },
      "text/plain": [
       "  0%|          | 0/1114 [00:00<?, ?it/s]"
      ]
     },
     "metadata": {},
     "output_type": "display_data"
    }
   ],
   "source": [
    "chunksize = 1 * (10 ** 3)\n",
    "max_workers = mp.cpu_count() - 4\n",
    "num_terminal = 5 # acceptable_terminal_structures\n",
    "\n",
    "repeted = {}\n",
    "repeted_boi = {}\n",
    "repeted_hit_JSC = {}\n",
    "repeted_boi_JSC = {}\n",
    "repeted_pre_JSC = {}\n",
    "header = True\n",
    "orders = None\n",
    "arr = np.array_split(df['tag'], max(df['tag'].shape[0]//chunksize , 1))\n",
    "for chunk in tqdm(arr):\n",
    "    dfs = []\n",
    "    for row in process_map(get_df_by_tag , chunk, tqdm_class=tqdm, max_workers=max_workers, chunksize=5):        \n",
    "        dfs.append(row)\n",
    "    chunk = pd.concat(dfs,axis=0)\n",
    "    chunk = pd.merge(data, chunk, how='right', left_on = 'location_tag', right_on ='seq name')\n",
    "    del chunk['location_tag']\n",
    "    if(header):\n",
    "        orders = chunk.columns\n",
    "    for col in orders:\n",
    "        if(col not in chunk.columns):\n",
    "            chunk[col] = np.nan            \n",
    "        \n",
    "    for col in chunk.columns:\n",
    "        if(col not in orders ):\n",
    "            print(f\"Error in {col}\")        \n",
    "    chunk = chunk.reindex(columns=orders)\n",
    "    chunk = chunk.replace(np.nan, '-').replace('', '-')                    \n",
    "    # delete repeated\n",
    "    selected = chunk[rcols].apply(lambda row: selection(row), axis=1)\n",
    "    chunk = chunk[selected]\n",
    "    \n",
    "    # cluster refs\n",
    "    chunk[rcols_dg].apply(lambda row: boi_selection(row), axis=1)\n",
    "    # boi JSC\n",
    "    chunk[rcols_boi].apply(lambda row: boi_JSC_cluster(row), axis=1)\n",
    "    # pre JSC\n",
    "    chunk[rcols_pre].apply(lambda row: pre_JSC_cluster(row), axis=1)\n",
    "    # hit JSC\n",
    "    chunk[rcols_hit].apply(lambda row: hit_JSC_cluster(row), axis=1)\n",
    "    \n",
    "    chunk.to_csv(\"./Result/ct_analizer.csv\", header=header, mode='a', index=False)    \n",
    "    header = False"
   ]
  },
  {
   "cell_type": "code",
   "execution_count": 29,
   "metadata": {
    "ExecuteTime": {
     "end_time": "2022-05-18T15:02:47.354822Z",
     "start_time": "2022-05-18T15:02:47.104099Z"
    },
    "scrolled": true
   },
   "outputs": [
    {
     "name": "stdout",
     "output_type": "stream",
     "text": [
      "['63-83', '63-83']\n",
      "['64-84', '64-84']\n",
      "['96-116', '96-116']\n",
      "['103-123', '103-123']\n",
      "['62-82', '62-82']\n",
      "['63-83', '63-83']\n",
      "['93-112', '93-112']\n",
      "['50-69', '50-69']\n",
      "['30-49', '30-49']\n",
      "['8-27', '8-27']\n",
      "['13-32', '13-32']\n",
      "['29-48', '29-48']\n",
      "['18-37', '18-37']\n",
      "['167-187', '167-187']\n",
      "['15-35', '15-35']\n",
      "['7-27', '7-27']\n",
      "['192-212', '192-212']\n",
      "['19-39', '19-39']\n",
      "['201-221', '201-221']\n",
      "['167-187', '167-187']\n",
      "['2-22', '2-22']\n",
      "['7-27', '7-27']\n",
      "['167-187', '167-187']\n",
      "['1-21', '1-21']\n",
      "['195-215', '195-215']\n",
      "['166-186', '166-186']\n",
      "['16-36', '16-36']\n",
      "['16-36', '16-36']\n",
      "['16-36', '16-36']\n",
      "['6-26', '6-26']\n",
      "['16-36', '16-36']\n",
      "['21-42', '21-42']\n",
      "['24-45', '24-45']\n",
      "['24-45', '24-45']\n",
      "['21-42', '21-42']\n",
      "['120-140', '120-140']\n",
      "['187-207', '187-207']\n",
      "['174-194', '174-194']\n",
      "['174-194', '174-194']\n",
      "['25-45', '25-45']\n",
      "['175-195', '175-195']\n",
      "['21-41', '21-41']\n",
      "['194-214', '194-214']\n",
      "['18-38', '18-38']\n",
      "['3-23', '3-23']\n",
      "['37-57', '37-57']\n",
      "['50-70', '50-70']\n",
      "['41-61', '41-61']\n",
      "['5-25', '5-25', '5-25', '5-25']\n",
      "['23-43', '23-43', '23-43', '23-43']\n",
      "['201-221', '201-221', '201-221', '201-221']\n",
      "['102-122', '102-122', '102-122', '102-122']\n",
      "['201-221', '201-221', '201-221', '201-221']\n",
      "['201-221', '201-221', '201-221', '201-221']\n",
      "['201-221', '201-221', '201-221', '201-221']\n",
      "['201-221', '201-221', '201-221', '201-221']\n",
      "['103-123', '103-123', '103-123', '103-123']\n",
      "['1-21', '1-21', '1-21', '1-21']\n",
      "['201-221', '201-221', '201-221', '201-221']\n",
      "['15-36', '15-36']\n",
      "['4-25', '4-25']\n",
      "['9-29', '9-29']\n",
      "['10-30', '10-30']\n",
      "['5-25', '5-25']\n",
      "['44-64', '44-64']\n",
      "['10-29', '10-29']\n",
      "['44-63', '44-63']\n",
      "['9-28', '9-28']\n",
      "['5-24', '5-24']\n",
      "['4-25', '4-25']\n",
      "['15-36', '15-36']\n",
      "['12-33', '12-33']\n",
      "['11-32', '11-32']\n",
      "['15-36', '15-36']\n",
      "['24-45', '24-45']\n",
      "['14-35', '14-35']\n",
      "['6-27', '6-27']\n",
      "['8-29', '8-29']\n",
      "['120-141', '120-141']\n",
      "['120-141', '120-141']\n",
      "['8-26', '8-26']\n",
      "['118-136', '118-136']\n",
      "['8-26', '8-26']\n",
      "['3-21', '3-21']\n",
      "['8-26', '8-26']\n",
      "['115-133', '115-133']\n",
      "['16-34', '16-34']\n",
      "['20-38', '20-38']\n",
      "['91-109', '91-109']\n",
      "['96-114', '96-114']\n",
      "['8-26', '8-26']\n",
      "['93-111', '93-111']\n",
      "['2-20', '2-20']\n",
      "['16-34', '16-34']\n",
      "['147-168', '147-168']\n",
      "['145-166', '145-166']\n",
      "['8-29', '8-29']\n",
      "['9-30', '9-30']\n",
      "['5-26', '5-26']\n",
      "['148-169', '148-169']\n",
      "['75-96', '75-96']\n",
      "['8-29', '8-29']\n",
      "['109-129', '109-129']\n",
      "['109-129', '109-129']\n",
      "['22-42', '22-42']\n",
      "['199-218', '199-218', '199-218', '199-218', '199-218']\n",
      "['190-209', '190-209', '190-209', '190-209', '190-209']\n",
      "['164-183', '164-183', '164-183', '164-183', '164-183']\n",
      "['176-195', '176-195', '176-195', '176-195', '176-195']\n",
      "['199-218', '199-218', '199-218', '199-218', '199-218']\n",
      "['199-219', '199-219', '199-219', '199-219', '199-219', '199-219', '199-219', '199-219', '199-219', '199-219', '199-219', '199-219', '199-219', '199-219', '199-219', '199-219', '199-219', '199-219', '199-219']\n",
      "['190-210', '190-210', '190-210', '190-210', '190-210', '190-210', '190-210', '190-210', '190-210', '190-210', '190-210', '190-210', '190-210', '190-210', '190-210', '190-210', '190-210', '190-210', '190-210']\n",
      "['199-219', '199-219', '199-219', '199-219', '199-219', '199-219', '199-219', '199-219', '199-219', '199-219', '199-219', '199-219', '199-219', '199-219', '199-219', '199-219', '199-219', '199-219', '199-219']\n",
      "['164-184', '164-184', '164-184', '164-184', '164-184', '164-184', '164-184', '164-184', '164-184', '164-184', '164-184', '164-184', '164-184', '164-184', '164-184', '164-184', '164-184', '164-184', '164-184']\n",
      "['176-196', '176-196', '176-196', '176-196', '176-196', '176-196', '176-196', '176-196', '176-196', '176-196', '176-196', '176-196', '176-196', '176-196', '176-196', '176-196', '176-196', '176-196', '176-196']\n",
      "['165-184', '165-184', '165-184', '165-184', '165-184', '165-184', '165-184', '165-184']\n",
      "['191-210', '191-210', '191-210', '191-210', '191-210', '191-210', '191-210', '191-210']\n",
      "['200-219', '200-219', '200-219', '200-219', '200-219', '200-219', '200-219', '200-219']\n",
      "['200-219', '200-219', '200-219', '200-219', '200-219', '200-219', '200-219', '200-219']\n",
      "['179-198', '179-198', '179-198', '179-198', '179-198', '179-198', '179-198', '179-198']\n",
      "['179-199', '179-199', '179-199']\n",
      "['191-211', '191-211', '191-211']\n",
      "['200-220', '200-220', '200-220']\n",
      "['200-220', '200-220', '200-220']\n",
      "['165-185', '165-185', '165-185']\n",
      "['155-175', '155-175']\n",
      "['21-41', '21-41']\n",
      "['152-172', '152-172']\n",
      "['29-49', '29-49']\n",
      "['1-21', '1-21']\n",
      "['155-175', '155-175']\n",
      "['34-54', '34-54', '34-54', '34-54', '34-54']\n",
      "['1-21', '1-21', '1-21', '1-21', '1-21']\n",
      "['22-42', '22-42', '22-42', '22-42', '22-42']\n",
      "['15-35', '15-35', '15-35', '15-35', '15-35']\n",
      "['16-36', '16-36', '16-36', '16-36', '16-36']\n",
      "['18-38', '18-38', '18-38', '18-38', '18-38']\n",
      "['35-54', '35-54', '35-54', '35-54', '35-54']\n",
      "['2-21', '2-21', '2-21', '2-21', '2-21']\n",
      "['23-42', '23-42', '23-42', '23-42', '23-42']\n",
      "['16-35', '16-35', '16-35', '16-35', '16-35']\n",
      "['17-36', '17-36', '17-36', '17-36', '17-36']\n",
      "['19-38', '19-38', '19-38', '19-38', '19-38']\n",
      "['201-222', '201-222', '201-222']\n",
      "['201-222', '201-222', '201-222']\n",
      "['10-31', '10-31', '10-31']\n",
      "['11-32', '11-32', '11-32']\n",
      "['1-22', '1-22', '1-22']\n",
      "['10-31', '10-31', '10-31']\n",
      "['1-22', '1-22']\n",
      "['1-22', '1-22']\n",
      "['1-22', '1-22']\n",
      "['9-30', '9-30']\n",
      "['162-181', '162-181']\n",
      "['3-22', '3-22']\n",
      "['22-41', '22-41']\n",
      "['3-22', '3-22']\n",
      "['3-23', '3-23', '3-23', '3-23', '3-23', '3-23', '3-23', '3-23', '3-23', '3-23', '3-23', '3-23', '3-23', '3-23', '3-23', '3-23']\n",
      "['22-42', '22-42', '22-42', '22-42', '22-42', '22-42', '22-42', '22-42', '22-42', '22-42', '22-42', '22-42', '22-42', '22-42', '22-42', '22-42']\n",
      "['3-23', '3-23', '3-23', '3-23', '3-23', '3-23', '3-23', '3-23', '3-23', '3-23', '3-23', '3-23', '3-23', '3-23', '3-23', '3-23']\n",
      "['4-23', '4-23']\n",
      "['23-42', '23-42']\n",
      "['4-23', '4-23']\n",
      "['129-149', '129-149']\n",
      "['110-130', '110-130']\n",
      "['201-221', '201-221']\n",
      "['151-171', '151-171']\n",
      "['142-162', '142-162']\n",
      "['110-130', '110-130']\n",
      "['130-150', '130-150']\n",
      "['111-131', '111-131']\n",
      "['152-172', '152-172']\n",
      "['143-163', '143-163']\n",
      "['111-131', '111-131']\n",
      "['131-150', '131-150', '131-150', '131-150']\n",
      "['112-131', '112-131', '112-131', '112-131']\n",
      "['144-163', '144-163', '144-163', '144-163']\n",
      "['153-172', '153-172', '153-172', '153-172']\n",
      "['112-131', '112-131', '112-131', '112-131']\n",
      "['112-132', '112-132', '112-132', '112-132', '112-132', '112-132', '112-132', '112-132', '112-132', '112-132', '112-132', '112-132', '112-132', '112-132', '112-132', '112-132']\n",
      "['153-173', '153-173', '153-173', '153-173', '153-173', '153-173', '153-173', '153-173', '153-173', '153-173', '153-173', '153-173', '153-173', '153-173', '153-173', '153-173']\n",
      "['144-164', '144-164', '144-164', '144-164', '144-164', '144-164', '144-164', '144-164', '144-164', '144-164', '144-164', '144-164', '144-164', '144-164', '144-164', '144-164']\n",
      "['131-151', '131-151', '131-151', '131-151', '131-151', '131-151', '131-151', '131-151', '131-151', '131-151', '131-151', '131-151', '131-151', '131-151', '131-151', '131-151']\n",
      "['112-132', '112-132', '112-132', '112-132', '112-132', '112-132', '112-132', '112-132', '112-132', '112-132', '112-132', '112-132', '112-132', '112-132', '112-132', '112-132']\n",
      "['199-220', '199-220', '199-220', '199-220']\n",
      "['151-172', '151-172', '151-172', '151-172']\n",
      "['153-174', '153-174', '153-174', '153-174']\n",
      "['144-165', '144-165', '144-165', '144-165']\n",
      "['131-152', '131-152', '131-152', '131-152']\n",
      "['151-172', '151-172', '151-172', '151-172']\n",
      "['22-42', '22-42']\n",
      "['9-29', '9-29']\n",
      "['11-31', '11-31']\n",
      "['12-32', '12-32']\n",
      "['30-50', '30-50', '30-50', '30-50', '30-50']\n",
      "['55-75', '55-75', '55-75', '55-75', '55-75']\n",
      "['36-56', '36-56', '36-56', '36-56', '36-56']\n",
      "['96-116', '96-116', '96-116', '96-116', '96-116']\n",
      "['36-56', '36-56', '36-56', '36-56', '36-56']\n",
      "['54-74', '54-74', '54-74', '54-74', '54-74']\n",
      "['21-41', '21-41', '21-41', '21-41', '21-41']\n",
      "['88-108', '88-108', '88-108', '88-108', '88-108']\n",
      "['78-98', '78-98', '78-98', '78-98', '78-98']\n",
      "['91-111', '91-111', '91-111']\n",
      "['149-169', '149-169', '149-169']\n",
      "['92-111', '92-111']\n",
      "['150-169', '150-169']\n",
      "['92-112', '92-112']\n",
      "['151-171', '151-171']\n",
      "['201-221', '201-221']\n",
      "['133-153', '133-153']\n",
      "['24-44', '24-44']\n",
      "['174-194', '174-194']\n",
      "['174-194', '174-194']\n",
      "['9-29', '9-29']\n",
      "['174-194', '174-194']\n",
      "['174-194', '174-194']\n",
      "['174-194', '174-194']\n",
      "['174-194', '174-194']\n",
      "['28-48', '28-48']\n",
      "['84-104', '84-104', '84-104']\n",
      "['139-159', '139-159', '139-159']\n",
      "['107-127', '107-127', '107-127']\n",
      "['85-105', '85-105', '85-105']\n",
      "['132-152', '132-152', '132-152']\n",
      "['92-112', '92-112', '92-112']\n",
      "['96-116', '96-116', '96-116']\n",
      "['25-45', '25-45']\n",
      "['2-22', '2-22']\n",
      "['76-96', '76-96', '76-96']\n",
      "['99-119', '99-119', '99-119']\n",
      "['47-67', '47-67', '47-67']\n",
      "['87-107', '87-107', '87-107']\n",
      "['87-107', '87-107', '87-107']\n",
      "['18-38', '18-38', '18-38', '18-38', '18-38', '18-38', '18-38', '18-38', '18-38', '18-38', '18-38', '18-38', '18-38']\n",
      "['19-39', '19-39', '19-39', '19-39', '19-39', '19-39', '19-39', '19-39', '19-39', '19-39', '19-39', '19-39', '19-39']\n",
      "['8-28', '8-28', '8-28', '8-28', '8-28', '8-28', '8-28', '8-28', '8-28', '8-28', '8-28', '8-28', '8-28']\n",
      "['3-23', '3-23', '3-23', '3-23', '3-23', '3-23', '3-23', '3-23', '3-23', '3-23', '3-23', '3-23', '3-23']\n",
      "['19-39', '19-39', '19-39', '19-39', '19-39', '19-39', '19-39', '19-39', '19-39', '19-39', '19-39', '19-39', '19-39']\n",
      "['44-64', '44-64', '44-64', '44-64', '44-64', '44-64', '44-64', '44-64', '44-64', '44-64', '44-64', '44-64', '44-64']\n",
      "['79-99', '79-99', '79-99', '79-99', '79-99', '79-99', '79-99']\n",
      "['89-109', '89-109', '89-109', '89-109', '89-109', '89-109', '89-109']\n",
      "['90-110', '90-110', '90-110', '90-110', '90-110', '90-110', '90-110']\n",
      "['115-135', '115-135', '115-135', '115-135', '115-135', '115-135', '115-135']\n",
      "['90-110', '90-110', '90-110', '90-110', '90-110', '90-110', '90-110']\n",
      "['92-112', '92-112']\n",
      "['91-111', '91-111']\n",
      "['7-27', '7-27']\n",
      "['195-214', '195-214']\n",
      "['36-55', '36-55']\n",
      "['194-214', '194-214']\n",
      "['35-55', '35-55']\n",
      "['2-22', '2-22', '2-22', '2-22', '2-22', '2-22', '2-22', '2-22', '2-22', '2-22', '2-22', '2-22']\n",
      "['10-30', '10-30', '10-30', '10-30', '10-30', '10-30', '10-30', '10-30', '10-30', '10-30', '10-30', '10-30']\n",
      "['11-31', '11-31', '11-31', '11-31', '11-31', '11-31', '11-31', '11-31', '11-31', '11-31', '11-31', '11-31']\n",
      "['6-26', '6-26', '6-26', '6-26', '6-26', '6-26', '6-26', '6-26', '6-26', '6-26', '6-26', '6-26']\n",
      "['22-42', '22-42', '22-42', '22-42', '22-42', '22-42', '22-42', '22-42', '22-42', '22-42', '22-42', '22-42']\n",
      "['10-30', '10-30', '10-30', '10-30', '10-30', '10-30', '10-30', '10-30', '10-30', '10-30', '10-30', '10-30']\n",
      "['200-220', '200-220', '200-220', '200-220', '200-220', '200-220', '200-220', '200-220', '200-220', '200-220', '200-220', '200-220']\n",
      "['9-29', '9-29', '9-29', '9-29', '9-29', '9-29', '9-29', '9-29', '9-29', '9-29', '9-29', '9-29']\n",
      "['2-24', '2-24', '2-24']\n",
      "['9-31', '9-31', '9-31']\n",
      "['11-33', '11-33', '11-33']\n",
      "['10-32', '10-32', '10-32']\n",
      "['22-44', '22-44', '22-44']\n",
      "['10-32', '10-32', '10-32']\n",
      "['200-222', '200-222', '200-222']\n",
      "['102-122', '102-122']\n",
      "['8-28', '8-28']\n",
      "['32-52', '32-52']\n",
      "['201-221', '201-221']\n",
      "['201-221', '201-221']\n",
      "['10-30', '10-30', '10-30', '10-30', '10-30', '10-30', '10-30', '10-30']\n",
      "['138-158', '138-158', '138-158', '138-158', '138-158', '138-158', '138-158', '138-158']\n",
      "['18-38', '18-38', '18-38', '18-38', '18-38', '18-38', '18-38', '18-38']\n",
      "['10-31', '10-31', '10-31', '10-31', '10-31', '10-31', '10-31', '10-31']\n",
      "['138-159', '138-159', '138-159', '138-159', '138-159', '138-159', '138-159', '138-159']\n",
      "['18-39', '18-39', '18-39', '18-39', '18-39', '18-39', '18-39', '18-39']\n",
      "['96-118', '96-118', '96-118', '96-118']\n",
      "['104-126', '104-126', '104-126', '104-126']\n",
      "['6-26', '6-26']\n",
      "['1-21', '1-21']\n",
      "['6-26', '6-26']\n",
      "['2-22', '2-22']\n",
      "['77-97', '77-97']\n",
      "['113-133', '113-133']\n",
      "['118-138', '118-138']\n",
      "['82-102', '82-102']\n",
      "['112-132', '112-132', '112-132', '112-132', '112-132', '112-132', '112-132']\n",
      "['81-101', '81-101', '81-101', '81-101', '81-101', '81-101', '81-101']\n",
      "['76-96', '76-96', '76-96', '76-96', '76-96', '76-96', '76-96']\n",
      "['117-137', '117-137', '117-137', '117-137', '117-137', '117-137', '117-137']\n",
      "['112-131', '112-131', '112-131']\n",
      "['81-100', '81-100', '81-100']\n",
      "['76-95', '76-95', '76-95']\n",
      "['117-136', '117-136', '117-136']\n",
      "['111-131', '111-131', '111-131', '111-131']\n",
      "['80-100', '80-100', '80-100', '80-100']\n",
      "['75-95', '75-95', '75-95', '75-95']\n",
      "['116-136', '116-136', '116-136', '116-136']\n",
      "['110-131', '110-131']\n",
      "['79-100', '79-100']\n",
      "['74-95', '74-95']\n",
      "['115-136', '115-136']\n",
      "['110-130', '110-130', '110-130', '110-130', '110-130', '110-130']\n",
      "['79-99', '79-99', '79-99', '79-99', '79-99', '79-99']\n",
      "['74-94', '74-94', '74-94', '74-94', '74-94', '74-94']\n",
      "['115-135', '115-135', '115-135', '115-135', '115-135', '115-135']\n",
      "['14-34', '14-34']\n",
      "['9-29', '9-29']\n",
      "['17-37', '17-37']\n",
      "['45-65', '45-65']\n",
      "['14-33', '14-33', '14-33', '14-33']\n",
      "['9-28', '9-28', '9-28', '9-28']\n",
      "['17-36', '17-36', '17-36', '17-36']\n",
      "['45-64', '45-64', '45-64', '45-64']\n",
      "['13-33', '13-33', '13-33', '13-33', '13-33', '13-33', '13-33', '13-33', '13-33', '13-33']\n",
      "['8-28', '8-28', '8-28', '8-28', '8-28', '8-28', '8-28', '8-28', '8-28', '8-28']\n",
      "['16-36', '16-36', '16-36', '16-36', '16-36', '16-36', '16-36', '16-36', '16-36', '16-36']\n",
      "['44-64', '44-64', '44-64', '44-64', '44-64', '44-64', '44-64', '44-64', '44-64', '44-64']\n",
      "['6-26', '6-26']\n",
      "['200-220', '200-220']\n",
      "['200-220', '200-220']\n",
      "['200-220', '200-220']\n",
      "['200-220', '200-220']\n",
      "['201-221', '201-221']\n",
      "['179-199', '179-199']\n",
      "['38-58', '38-58']\n",
      "['56-76', '56-76']\n",
      "['11-31', '11-31']\n",
      "['12-32', '12-32']\n",
      "['25-45', '25-45']\n",
      "['59-79', '59-79']\n",
      "['41-61', '41-61']\n",
      "['14-34', '14-34']\n",
      "['1-21', '1-21']\n",
      "['44-64', '44-64']\n",
      "['17-37', '17-37']\n",
      "['62-82', '62-82']\n",
      "['4-24', '4-24']\n",
      "['47-67', '47-67']\n",
      "['1-21', '1-21']\n",
      "['20-40', '20-40']\n",
      "['65-85', '65-85']\n",
      "['4-24', '4-24']\n",
      "['68-88', '68-88']\n",
      "['7-27', '7-27']\n",
      "['50-70', '50-70']\n",
      "['23-43', '23-43']\n",
      "['7-27', '7-27']\n",
      "['71-91', '71-91']\n",
      "['10-30', '10-30']\n",
      "['53-73', '53-73']\n",
      "['26-46', '26-46']\n",
      "['10-30', '10-30']\n",
      "['74-94', '74-94']\n",
      "['13-33', '13-33']\n",
      "['56-76', '56-76']\n",
      "['29-49', '29-49']\n",
      "['36-55', '36-55']\n",
      "['48-67', '48-67']\n",
      "['42-61', '42-61']\n",
      "['30-49', '30-49']\n",
      "['20-39', '20-39']\n",
      "['11-31', '11-31']\n",
      "['8-28', '8-28']\n",
      "['6-26', '6-26']\n",
      "['131-151', '131-151']\n",
      "['131-151', '131-151']\n",
      "['131-151', '131-151']\n",
      "['131-151', '131-151']\n",
      "['133-153', '133-153']\n",
      "['131-151', '131-151']\n",
      "['196-216', '196-216']\n",
      "['199-219', '199-219']\n",
      "['199-219', '199-219']\n",
      "['199-219', '199-219']\n",
      "['197-217', '197-217']\n",
      "['3-22', '3-22']\n",
      "['155-174', '155-174']\n",
      "['165-184', '165-184']\n",
      "['3-21', '3-21']\n",
      "['155-173', '155-173']\n",
      "['51-69', '51-69']\n",
      "['165-183', '165-183']\n",
      "['51-69', '51-69']\n",
      "['2-21', '2-21', '2-21', '2-21', '2-21', '2-21', '2-21', '2-21', '2-21']\n",
      "['154-173', '154-173', '154-173', '154-173', '154-173', '154-173', '154-173', '154-173', '154-173']\n",
      "['50-69', '50-69', '50-69', '50-69', '50-69', '50-69', '50-69', '50-69', '50-69']\n",
      "['164-183', '164-183', '164-183', '164-183', '164-183', '164-183', '164-183', '164-183', '164-183']\n",
      "['50-69', '50-69', '50-69', '50-69', '50-69', '50-69', '50-69', '50-69', '50-69']\n",
      "['1-21', '1-21']\n",
      "['49-69', '49-69']\n",
      "['49-69', '49-69']\n",
      "['163-183', '163-183']\n",
      "['153-173', '153-173']\n",
      "['180-200', '180-200']\n",
      "['158-178', '158-178']\n",
      "['44-64', '44-64']\n",
      "['18-38', '18-38']\n",
      "['12-32', '12-32']\n",
      "['36-56', '36-56']\n",
      "['41-61', '41-61']\n",
      "['38-58', '38-58']\n",
      "['18-38', '18-38']\n",
      "['41-61', '41-61']\n",
      "['18-38', '18-38']\n",
      "['5-25', '5-25']\n",
      "['40-60', '40-60']\n",
      "['26-46', '26-46']\n",
      "['34-54', '34-54']\n",
      "['8-28', '8-28']\n",
      "['62-82', '62-82', '62-82', '62-82', '62-82', '62-82']\n",
      "['97-117', '97-117', '97-117', '97-117', '97-117', '97-117']\n",
      "['100-120', '100-120', '100-120', '100-120', '100-120']\n",
      "['95-115', '95-115', '95-115', '95-115', '95-115']\n",
      "['95-115', '95-115', '95-115', '95-115', '95-115']\n",
      "['124-144', '124-144']\n",
      "['198-218', '198-218']\n",
      "['57-77', '57-77']\n",
      "['3-23', '3-23']\n",
      "['10-29', '10-29']\n",
      "['26-45', '26-45']\n",
      "['1-21', '1-21']\n",
      "['53-73', '53-73']\n",
      "['142-162', '142-162', '142-162']\n",
      "['198-218', '198-218', '198-218']\n",
      "['198-218', '198-218', '198-218']\n",
      "['198-218', '198-218', '198-218']\n",
      "['198-218', '198-218', '198-218']\n",
      "['193-213', '193-213', '193-213']\n",
      "['34-54', '34-54', '34-54']\n",
      "['198-218', '198-218', '198-218']\n",
      "['2-25', '2-25']\n",
      "['2-25', '2-25']\n",
      "['2-25', '2-25']\n",
      "['1-24', '1-24']\n",
      "['48-71', '48-71']\n",
      "['3-26', '3-26']\n",
      "['2-25', '2-25']\n",
      "['194-214', '194-214']\n",
      "['2-22', '2-22']\n",
      "['111-128', '111-128', '111-128']\n",
      "['84-101', '84-101', '84-101']\n",
      "['98-115', '98-115', '98-115']\n",
      "['107-124', '107-124', '107-124']\n",
      "['129-146', '129-146', '129-146']\n",
      "['97-114', '97-114', '97-114']\n",
      "['113-130', '113-130', '113-130']\n",
      "['133-150', '133-150', '133-150']\n",
      "['109-126', '109-126', '109-126']\n",
      "['110-128', '110-128', '110-128', '110-128', '110-128', '110-128', '110-128']\n",
      "['83-101', '83-101', '83-101', '83-101', '83-101', '83-101', '83-101']\n",
      "['97-115', '97-115', '97-115', '97-115', '97-115', '97-115', '97-115']\n",
      "['106-124', '106-124', '106-124', '106-124', '106-124', '106-124', '106-124']\n",
      "['128-146', '128-146', '128-146', '128-146', '128-146', '128-146', '128-146']\n",
      "['96-114', '96-114', '96-114', '96-114', '96-114', '96-114', '96-114']\n",
      "['112-130', '112-130', '112-130', '112-130', '112-130', '112-130', '112-130']\n",
      "['132-150', '132-150', '132-150', '132-150', '132-150', '132-150', '132-150']\n",
      "['108-126', '108-126', '108-126', '108-126', '108-126', '108-126', '108-126']\n",
      "['1-21', '1-21']\n",
      "['31-51', '31-51']\n",
      "['28-48', '28-48']\n",
      "['28-48', '28-48']\n",
      "['9-29', '9-29']\n",
      "['16-36', '16-36', '16-36', '16-36', '16-36']\n",
      "['47-67', '47-67', '47-67', '47-67', '47-67']\n",
      "['29-49', '29-49', '29-49', '29-49', '29-49']\n",
      "['11-31', '11-31', '11-31', '11-31', '11-31']\n",
      "['2-22', '2-22', '2-22', '2-22', '2-22']\n",
      "['27-47', '27-47', '27-47', '27-47', '27-47']\n",
      "['47-67', '47-67', '47-67', '47-67', '47-67']\n",
      "['15-35', '15-35', '15-35', '15-35', '15-35']\n",
      "['15-36', '15-36', '15-36']\n",
      "['46-67', '46-67', '46-67']\n",
      "['28-49', '28-49', '28-49']\n",
      "['10-31', '10-31', '10-31']\n",
      "['1-22', '1-22', '1-22']\n",
      "['26-47', '26-47', '26-47']\n",
      "['46-67', '46-67', '46-67']\n",
      "['14-35', '14-35', '14-35']\n",
      "['28-48', '28-48', '28-48', '28-48', '28-48', '28-48', '28-48', '28-48', '28-48']\n",
      "['46-66', '46-66', '46-66', '46-66', '46-66', '46-66', '46-66', '46-66', '46-66']\n",
      "['1-21', '1-21', '1-21', '1-21', '1-21', '1-21', '1-21', '1-21', '1-21']\n",
      "['46-66', '46-66', '46-66', '46-66', '46-66', '46-66', '46-66', '46-66', '46-66']\n",
      "['14-34', '14-34', '14-34', '14-34', '14-34', '14-34', '14-34', '14-34', '14-34']\n",
      "['15-35', '15-35', '15-35', '15-35', '15-35', '15-35', '15-35', '15-35', '15-35']\n",
      "['26-46', '26-46', '26-46', '26-46', '26-46', '26-46', '26-46', '26-46', '26-46']\n",
      "['45-65', '45-65', '45-65', '45-65', '45-65', '45-65']\n",
      "['27-47', '27-47', '27-47', '27-47', '27-47', '27-47']\n",
      "['13-33', '13-33', '13-33', '13-33', '13-33', '13-33']\n",
      "['45-65', '45-65', '45-65', '45-65', '45-65', '45-65']\n",
      "['28-48', '28-48', '28-48', '28-48', '28-48', '28-48']\n",
      "['14-34', '14-34', '14-34', '14-34', '14-34', '14-34']\n",
      "['45-64', '45-64']\n",
      "['45-64', '45-64']\n",
      "['13-32', '13-32']\n",
      "['28-47', '28-47']\n",
      "['27-46', '27-46']\n",
      "['14-33', '14-33']\n",
      "['44-64', '44-64', '44-64', '44-64']\n",
      "['44-64', '44-64', '44-64', '44-64']\n",
      "['12-32', '12-32', '12-32', '12-32']\n",
      "['8-28', '8-28', '8-28', '8-28']\n",
      "['27-47', '27-47', '27-47', '27-47']\n",
      "['26-46', '26-46', '26-46', '26-46']\n",
      "['13-33', '13-33', '13-33', '13-33']\n",
      "['3-21', '3-21', '3-21']\n",
      "['79-97', '79-97', '79-97']\n",
      "['117-135', '117-135', '117-135']\n",
      "['88-106', '88-106', '88-106']\n",
      "['116-134', '116-134', '116-134']\n",
      "['128-146', '128-146', '128-146']\n",
      "['106-124', '106-124', '106-124']\n",
      "['43-63', '43-63', '43-63', '43-63', '43-63', '43-63']\n",
      "['35-55', '35-55', '35-55', '35-55', '35-55', '35-55']\n",
      "['46-66', '46-66', '46-66', '46-66', '46-66', '46-66']\n",
      "['8-28', '8-28', '8-28', '8-28', '8-28', '8-28']\n",
      "['2-22', '2-22', '2-22', '2-22', '2-22', '2-22']\n",
      "['34-55', '34-55', '34-55', '34-55']\n",
      "['42-63', '42-63', '42-63', '42-63']\n",
      "['45-66', '45-66', '45-66', '45-66']\n",
      "['7-28', '7-28', '7-28', '7-28']\n",
      "['1-22', '1-22', '1-22', '1-22']\n",
      "['34-54', '34-54', '34-54', '34-54', '34-54', '34-54', '34-54', '34-54', '34-54', '34-54', '34-54', '34-54', '34-54']\n",
      "['42-62', '42-62', '42-62', '42-62', '42-62', '42-62', '42-62', '42-62', '42-62', '42-62', '42-62', '42-62', '42-62']\n",
      "['45-65', '45-65', '45-65', '45-65', '45-65', '45-65', '45-65', '45-65', '45-65', '45-65', '45-65', '45-65', '45-65']\n",
      "['7-27', '7-27', '7-27', '7-27', '7-27', '7-27', '7-27', '7-27', '7-27', '7-27', '7-27', '7-27', '7-27']\n",
      "['1-21', '1-21', '1-21', '1-21', '1-21', '1-21', '1-21', '1-21', '1-21', '1-21', '1-21', '1-21', '1-21']\n",
      "['34-53', '34-53', '34-53', '34-53']\n",
      "['42-61', '42-61', '42-61', '42-61']\n",
      "['45-64', '45-64', '45-64', '45-64']\n",
      "['7-26', '7-26', '7-26', '7-26']\n",
      "['1-20', '1-20', '1-20', '1-20']\n",
      "['33-53', '33-53', '33-53', '33-53', '33-53', '33-53', '33-53', '33-53', '33-53', '33-53', '33-53', '33-53', '33-53', '33-53', '33-53', '33-53']\n",
      "['41-61', '41-61', '41-61', '41-61', '41-61', '41-61', '41-61', '41-61', '41-61', '41-61', '41-61', '41-61', '41-61', '41-61', '41-61', '41-61']\n",
      "['44-64', '44-64', '44-64', '44-64', '44-64', '44-64', '44-64', '44-64', '44-64', '44-64', '44-64', '44-64', '44-64', '44-64', '44-64', '44-64']\n",
      "['6-26', '6-26', '6-26', '6-26', '6-26', '6-26', '6-26', '6-26', '6-26', '6-26', '6-26', '6-26', '6-26', '6-26', '6-26', '6-26']\n",
      "['15-35', '15-35', '15-35', '15-35', '15-35', '15-35', '15-35', '15-35', '15-35', '15-35', '15-35', '15-35', '15-35', '15-35', '15-35', '15-35']\n",
      "['33-52', '33-52']\n",
      "['41-60', '41-60']\n",
      "['44-63', '44-63']\n",
      "['6-25', '6-25']\n",
      "['15-34', '15-34']\n",
      "['104-124', '104-124']\n",
      "['91-111', '91-111']\n",
      "['93-113', '93-113']\n",
      "['78-98', '78-98']\n",
      "['115-135', '115-135']\n",
      "['141-161', '141-161']\n",
      "['115-135', '115-135']\n",
      "['109-129', '109-129']\n",
      "['103-123', '103-123']\n",
      "['179-199', '179-199']\n",
      "['153-173', '153-173']\n",
      "['18-38', '18-38']\n",
      "['172-192', '172-192']\n",
      "['161-181', '161-181']\n",
      "['32-52', '32-52', '32-52', '32-52', '32-52', '32-52']\n",
      "['40-60', '40-60', '40-60', '40-60', '40-60', '40-60']\n",
      "['43-63', '43-63', '43-63', '43-63', '43-63', '43-63']\n",
      "['5-25', '5-25', '5-25', '5-25', '5-25', '5-25']\n",
      "['14-34', '14-34', '14-34', '14-34', '14-34', '14-34']\n",
      "['31-51', '31-51']\n",
      "['39-59', '39-59']\n",
      "['42-62', '42-62']\n",
      "['4-24', '4-24']\n",
      "['13-33', '13-33']\n",
      "['122-140', '122-140', '122-140']\n",
      "['122-140', '122-140', '122-140']\n",
      "['48-68', '48-68', '48-68', '48-68', '48-68', '48-68']\n",
      "['9-29', '9-29', '9-29', '9-29', '9-29', '9-29']\n",
      "['57-77', '57-77', '57-77', '57-77', '57-77', '57-77']\n",
      "['27-47', '27-47', '27-47', '27-47', '27-47', '27-47']\n",
      "['28-48', '28-48', '28-48', '28-48', '28-48', '28-48']\n",
      "['57-77', '57-77', '57-77', '57-77', '57-77', '57-77']\n",
      "['47-68', '47-68', '47-68', '47-68']\n",
      "['27-48', '27-48', '27-48', '27-48']\n",
      "['56-77', '56-77', '56-77', '56-77']\n",
      "['8-29', '8-29', '8-29', '8-29']\n",
      "['56-77', '56-77', '56-77', '56-77']\n",
      "['26-47', '26-47', '26-47', '26-47']\n",
      "['47-67', '47-67', '47-67', '47-67', '47-67', '47-67', '47-67', '47-67', '47-67', '47-67', '47-67', '47-67', '47-67']\n",
      "['3-23', '3-23', '3-23', '3-23', '3-23', '3-23', '3-23', '3-23', '3-23', '3-23', '3-23', '3-23', '3-23']\n",
      "['56-76', '56-76', '56-76', '56-76', '56-76', '56-76', '56-76', '56-76', '56-76', '56-76', '56-76', '56-76', '56-76']\n",
      "['8-28', '8-28', '8-28', '8-28', '8-28', '8-28', '8-28', '8-28', '8-28', '8-28', '8-28', '8-28', '8-28']\n",
      "['26-46', '26-46', '26-46', '26-46', '26-46', '26-46', '26-46', '26-46', '26-46', '26-46', '26-46', '26-46', '26-46']\n",
      "['56-76', '56-76', '56-76', '56-76', '56-76', '56-76', '56-76', '56-76', '56-76', '56-76', '56-76', '56-76', '56-76']\n",
      "['26-45', '26-45', '26-45', '26-45']\n",
      "['47-66', '47-66', '47-66', '47-66']\n",
      "['3-22', '3-22', '3-22', '3-22']\n",
      "['8-27', '8-27', '8-27', '8-27']\n",
      "['47-66', '47-66', '47-66', '47-66']\n",
      "['27-46', '27-46', '27-46', '27-46']\n",
      "['46-66', '46-66', '46-66', '46-66', '46-66', '46-66', '46-66', '46-66', '46-66', '46-66', '46-66', '46-66', '46-66', '46-66', '46-66', '46-66']\n",
      "['7-27', '7-27', '7-27', '7-27', '7-27', '7-27', '7-27', '7-27', '7-27', '7-27', '7-27', '7-27', '7-27', '7-27', '7-27', '7-27']\n",
      "['25-45', '25-45', '25-45', '25-45', '25-45', '25-45', '25-45', '25-45', '25-45', '25-45', '25-45', '25-45', '25-45', '25-45', '25-45', '25-45']\n",
      "['46-66', '46-66', '46-66', '46-66', '46-66', '46-66', '46-66', '46-66', '46-66', '46-66', '46-66', '46-66', '46-66', '46-66', '46-66', '46-66']\n",
      "['2-22', '2-22', '2-22', '2-22', '2-22', '2-22', '2-22', '2-22', '2-22', '2-22', '2-22', '2-22', '2-22', '2-22', '2-22', '2-22']\n",
      "['26-46', '26-46', '26-46', '26-46', '26-46', '26-46', '26-46', '26-46', '26-46', '26-46', '26-46', '26-46', '26-46', '26-46', '26-46', '26-46']\n",
      "['46-65', '46-65']\n",
      "['25-44', '25-44']\n",
      "['26-45', '26-45']\n",
      "['46-65', '46-65']\n",
      "['2-21', '2-21']\n",
      "['7-26', '7-26']\n",
      "['117-137', '117-137']\n",
      "['133-153', '133-153']\n",
      "['127-147', '127-147']\n",
      "['119-139', '119-139']\n",
      "['84-104', '84-104']\n",
      "['122-142', '122-142']\n",
      "['127-147', '127-147']\n",
      "['45-65', '45-65', '45-65', '45-65', '45-65', '45-65']\n",
      "['45-65', '45-65', '45-65', '45-65', '45-65', '45-65']\n",
      "['24-44', '24-44', '24-44', '24-44', '24-44', '24-44']\n",
      "['6-26', '6-26', '6-26', '6-26', '6-26', '6-26']\n",
      "['59-79', '59-79']\n",
      "['23-43', '23-43']\n",
      "['44-64', '44-64']\n",
      "['44-64', '44-64']\n",
      "['62-82', '62-82']\n",
      "['41-61', '41-61']\n",
      "['41-61', '41-61']\n",
      "['59-79', '59-79']\n",
      "['40-60', '40-60', '40-60', '40-60', '40-60']\n",
      "['58-78', '58-78', '58-78', '58-78', '58-78']\n",
      "['61-81', '61-81', '61-81', '61-81', '61-81']\n",
      "['40-60', '40-60', '40-60', '40-60', '40-60']\n",
      "['40-59', '40-59', '40-59']\n",
      "['61-80', '61-80', '61-80']\n",
      "['58-77', '58-77', '58-77']\n",
      "['40-59', '40-59', '40-59']\n",
      "['39-59', '39-59', '39-59', '39-59', '39-59', '39-59', '39-59', '39-59', '39-59', '39-59', '39-59', '39-59', '39-59', '39-59', '39-59', '39-59', '39-59', '39-59']\n",
      "['60-80', '60-80', '60-80', '60-80', '60-80', '60-80', '60-80', '60-80', '60-80', '60-80', '60-80', '60-80', '60-80', '60-80', '60-80', '60-80', '60-80', '60-80']\n",
      "['57-77', '57-77', '57-77', '57-77', '57-77', '57-77', '57-77', '57-77', '57-77', '57-77', '57-77', '57-77', '57-77', '57-77', '57-77', '57-77', '57-77', '57-77']\n",
      "['39-59', '39-59', '39-59', '39-59', '39-59', '39-59', '39-59', '39-59', '39-59', '39-59', '39-59', '39-59', '39-59', '39-59', '39-59', '39-59', '39-59', '39-59']\n",
      "['38-59', '38-59', '38-59']\n",
      "['59-80', '59-80', '59-80']\n",
      "['56-77', '56-77', '56-77']\n",
      "['38-59', '38-59', '38-59']\n",
      "['39-58', '39-58']\n",
      "['60-79', '60-79']\n",
      "['57-76', '57-76']\n",
      "['39-58', '39-58']\n",
      "['38-58', '38-58', '38-58', '38-58']\n",
      "['59-79', '59-79', '59-79', '59-79']\n",
      "['56-76', '56-76', '56-76', '56-76']\n",
      "['38-58', '38-58', '38-58', '38-58']\n",
      "['108-125', '108-125', '108-125']\n",
      "['105-122', '105-122', '105-122']\n",
      "['123-140', '123-140', '123-140']\n",
      "['175-192', '175-192', '175-192']\n",
      "['123-140', '123-140', '123-140']\n",
      "['146-163', '146-163', '146-163']\n",
      "['138-155', '138-155', '138-155']\n",
      "['140-157', '140-157', '140-157']\n",
      "['107-125', '107-125', '107-125', '107-125', '107-125', '107-125', '107-125']\n",
      "['104-122', '104-122', '104-122', '104-122', '104-122', '104-122', '104-122']\n",
      "['137-155', '137-155', '137-155', '137-155', '137-155', '137-155', '137-155']\n",
      "['122-140', '122-140', '122-140', '122-140', '122-140', '122-140', '122-140']\n",
      "['174-192', '174-192', '174-192', '174-192', '174-192', '174-192', '174-192']\n",
      "['122-140', '122-140', '122-140', '122-140', '122-140', '122-140', '122-140']\n",
      "['142-160', '142-160', '142-160', '142-160', '142-160', '142-160', '142-160']\n",
      "['145-163', '145-163', '145-163', '145-163', '145-163', '145-163', '145-163']\n",
      "['139-157', '139-157', '139-157', '139-157', '139-157', '139-157', '139-157']\n",
      "['1-21', '1-21']\n",
      "['46-66', '46-66']\n",
      "['40-60', '40-60']\n",
      "['50-70', '50-70']\n",
      "['36-56', '36-56']\n",
      "['50-70', '50-70', '50-70', '50-70', '50-70', '50-70']\n",
      "['26-46', '26-46', '26-46', '26-46', '26-46', '26-46']\n",
      "['32-52', '32-52', '32-52', '32-52', '32-52', '32-52']\n",
      "['52-72', '52-72', '52-72', '52-72', '52-72', '52-72']\n",
      "['45-65', '45-65', '45-65', '45-65', '45-65', '45-65']\n",
      "['35-55', '35-55', '35-55', '35-55', '35-55', '35-55']\n",
      "['52-72', '52-72', '52-72', '52-72', '52-72', '52-72']\n",
      "['27-47', '27-47', '27-47', '27-47', '27-47', '27-47']\n",
      "['51-71', '51-71', '51-71', '51-71', '51-71', '51-71']\n",
      "['49-70', '49-70', '49-70', '49-70']\n",
      "['25-46', '25-46', '25-46', '25-46']\n",
      "['31-52', '31-52', '31-52', '31-52']\n",
      "['51-72', '51-72', '51-72', '51-72']\n",
      "['61-82', '61-82', '61-82', '61-82']\n",
      "['50-71', '50-71', '50-71', '50-71']\n",
      "['51-72', '51-72', '51-72', '51-72']\n",
      "['26-47', '26-47', '26-47', '26-47']\n",
      "['44-65', '44-65', '44-65', '44-65']\n",
      "['34-55', '34-55', '34-55', '34-55']\n",
      "['25-45', '25-45', '25-45', '25-45', '25-45', '25-45', '25-45', '25-45', '25-45', '25-45', '25-45', '25-45', '25-45']\n",
      "['51-71', '51-71', '51-71', '51-71', '51-71', '51-71', '51-71', '51-71', '51-71', '51-71', '51-71', '51-71', '51-71']\n",
      "['61-81', '61-81', '61-81', '61-81', '61-81', '61-81', '61-81', '61-81', '61-81', '61-81', '61-81', '61-81', '61-81']\n",
      "['51-71', '51-71', '51-71', '51-71', '51-71', '51-71', '51-71', '51-71', '51-71', '51-71', '51-71', '51-71', '51-71']\n",
      "['49-69', '49-69', '49-69', '49-69', '49-69', '49-69', '49-69', '49-69', '49-69', '49-69', '49-69', '49-69', '49-69']\n",
      "['44-64', '44-64', '44-64', '44-64', '44-64', '44-64', '44-64', '44-64', '44-64', '44-64', '44-64', '44-64', '44-64']\n",
      "['26-46', '26-46', '26-46', '26-46', '26-46', '26-46', '26-46', '26-46', '26-46', '26-46', '26-46', '26-46', '26-46']\n",
      "['34-54', '34-54', '34-54', '34-54', '34-54', '34-54', '34-54', '34-54', '34-54', '34-54', '34-54', '34-54', '34-54']\n",
      "['50-70', '50-70', '50-70', '50-70', '50-70', '50-70', '50-70', '50-70', '50-70', '50-70', '50-70', '50-70', '50-70']\n",
      "['50-69', '50-69', '50-69', '50-69']\n",
      "['26-45', '26-45', '26-45', '26-45']\n",
      "['61-80', '61-80', '61-80', '61-80']\n",
      "['51-70', '51-70', '51-70', '51-70']\n",
      "['44-63', '44-63', '44-63', '44-63']\n",
      "['49-68', '49-68', '49-68', '49-68']\n",
      "['25-44', '25-44', '25-44', '25-44']\n",
      "['51-70', '51-70', '51-70', '51-70']\n",
      "['34-53', '34-53', '34-53', '34-53']\n",
      "['24-44', '24-44', '24-44', '24-44', '24-44', '24-44', '24-44', '24-44', '24-44', '24-44', '24-44', '24-44', '24-44', '24-44', '24-44', '24-44']\n",
      "['25-45', '25-45', '25-45', '25-45', '25-45', '25-45', '25-45', '25-45', '25-45', '25-45', '25-45', '25-45', '25-45', '25-45', '25-45', '25-45']\n",
      "['60-80', '60-80', '60-80', '60-80', '60-80', '60-80', '60-80', '60-80', '60-80', '60-80', '60-80', '60-80', '60-80', '60-80', '60-80', '60-80']\n",
      "['50-70', '50-70', '50-70', '50-70', '50-70', '50-70', '50-70', '50-70', '50-70', '50-70', '50-70', '50-70', '50-70', '50-70', '50-70', '50-70']\n",
      "['43-63', '43-63', '43-63', '43-63', '43-63', '43-63', '43-63', '43-63', '43-63', '43-63', '43-63', '43-63', '43-63', '43-63', '43-63', '43-63']\n",
      "['48-68', '48-68', '48-68', '48-68', '48-68', '48-68', '48-68', '48-68', '48-68', '48-68', '48-68', '48-68', '48-68', '48-68', '48-68', '48-68']\n",
      "['50-70', '50-70', '50-70', '50-70', '50-70', '50-70', '50-70', '50-70', '50-70', '50-70', '50-70', '50-70', '50-70', '50-70', '50-70', '50-70']\n",
      "['33-53', '33-53', '33-53', '33-53', '33-53', '33-53', '33-53', '33-53', '33-53', '33-53', '33-53', '33-53', '33-53', '33-53', '33-53', '33-53']\n",
      "['49-69', '49-69', '49-69', '49-69', '49-69', '49-69', '49-69', '49-69', '49-69', '49-69', '49-69', '49-69', '49-69', '49-69', '49-69', '49-69']\n",
      "['50-69', '50-69']\n",
      "['25-44', '25-44']\n",
      "['24-43', '24-43']\n",
      "['48-67', '48-67']\n",
      "['50-69', '50-69']\n",
      "['60-79', '60-79']\n",
      "['49-68', '49-68']\n",
      "['33-52', '33-52']\n",
      "['43-62', '43-62']\n",
      "['128-148', '128-148']\n",
      "['105-125', '105-125']\n",
      "['128-148', '128-148']\n",
      "['49-69', '49-69', '49-69', '49-69', '49-69', '49-69']\n",
      "['24-44', '24-44', '24-44', '24-44', '24-44', '24-44']\n",
      "['23-43', '23-43', '23-43', '23-43', '23-43', '23-43']\n",
      "['49-69', '49-69', '49-69', '49-69', '49-69', '49-69']\n",
      "['47-67', '47-67', '47-67', '47-67', '47-67', '47-67']\n",
      "['59-79', '59-79', '59-79', '59-79', '59-79', '59-79']\n",
      "['42-62', '42-62', '42-62', '42-62', '42-62', '42-62']\n",
      "['48-68', '48-68', '48-68', '48-68', '48-68', '48-68']\n",
      "['32-52', '32-52', '32-52', '32-52', '32-52', '32-52']\n",
      "['23-43', '23-43']\n",
      "['41-61', '41-61']\n",
      "['41-61', '41-61']\n",
      "['46-66', '46-66']\n",
      "['28-48', '28-48']\n",
      "['48-68', '48-68']\n",
      "['22-42', '22-42']\n",
      "['31-51', '31-51']\n",
      "['58-78', '58-78']\n",
      "['43-63', '43-63', '43-63']\n",
      "['75-95', '75-95', '75-95']\n",
      "['42-62', '42-62', '42-62', '42-62', '42-62']\n",
      "['70-90', '70-90', '70-90', '70-90', '70-90']\n",
      "['74-94', '74-94', '74-94', '74-94', '74-94']\n",
      "['41-62', '41-62', '41-62', '41-62']\n",
      "['69-90', '69-90', '69-90', '69-90']\n",
      "['73-94', '73-94', '73-94', '73-94']\n",
      "['70-89', '70-89']\n",
      "['42-61', '42-61']\n",
      "['77-97', '77-97', '77-97', '77-97', '77-97']\n",
      "['41-61', '41-61', '41-61', '41-61', '41-61']\n",
      "['69-89', '69-89', '69-89', '69-89', '69-89']\n",
      "['40-60', '40-60']\n",
      "['68-88', '68-88']\n",
      "['15-34', '15-34']\n",
      "['15-34', '15-34']\n",
      "['41-60', '41-60']\n",
      "['9-28', '9-28']\n",
      "['198-217', '198-217']\n",
      "['104-122', '104-122']\n",
      "['104-122', '104-122']\n",
      "['109-127', '109-127']\n",
      "['114-132', '114-132']\n",
      "['136-154', '136-154']\n",
      "['47-67', '47-67', '47-67', '47-67', '47-67', '47-67', '47-67']\n",
      "['42-62', '42-62', '42-62', '42-62', '42-62', '42-62', '42-62']\n",
      "['40-60', '40-60', '40-60', '40-60', '40-60', '40-60', '40-60']\n",
      "['47-67', '47-67', '47-67', '47-67', '47-67', '47-67', '47-67']\n",
      "['69-89', '69-89', '69-89', '69-89', '69-89', '69-89', '69-89']\n",
      "['46-66', '46-66', '46-66', '46-66', '46-66', '46-66', '46-66', '46-66', '46-66', '46-66', '46-66', '46-66', '46-66']\n",
      "['41-61', '41-61', '41-61', '41-61', '41-61', '41-61', '41-61', '41-61', '41-61', '41-61', '41-61', '41-61', '41-61']\n",
      "['39-59', '39-59', '39-59', '39-59', '39-59', '39-59', '39-59', '39-59', '39-59', '39-59', '39-59', '39-59', '39-59']\n",
      "['46-66', '46-66', '46-66', '46-66', '46-66', '46-66', '46-66', '46-66', '46-66', '46-66', '46-66', '46-66', '46-66']\n",
      "['68-88', '68-88', '68-88', '68-88', '68-88', '68-88', '68-88', '68-88', '68-88', '68-88', '68-88', '68-88', '68-88']\n",
      "['46-65', '46-65', '46-65', '46-65']\n",
      "['41-60', '41-60', '41-60', '41-60']\n",
      "['39-58', '39-58', '39-58', '39-58']\n",
      "['46-65', '46-65', '46-65', '46-65']\n",
      "['68-87', '68-87', '68-87', '68-87']\n",
      "['110-130', '110-130']\n",
      "['121-141', '121-141']\n",
      "['45-65', '45-65', '45-65', '45-65', '45-65', '45-65', '45-65', '45-65', '45-65', '45-65', '45-65', '45-65', '45-65', '45-65', '45-65']\n",
      "['40-60', '40-60', '40-60', '40-60', '40-60', '40-60', '40-60', '40-60', '40-60', '40-60', '40-60', '40-60', '40-60', '40-60', '40-60']\n",
      "['38-58', '38-58', '38-58', '38-58', '38-58', '38-58', '38-58', '38-58', '38-58', '38-58', '38-58', '38-58', '38-58', '38-58', '38-58']\n",
      "['45-65', '45-65', '45-65', '45-65', '45-65', '45-65', '45-65', '45-65', '45-65', '45-65', '45-65', '45-65', '45-65', '45-65', '45-65']\n",
      "['67-87', '67-87', '67-87', '67-87', '67-87', '67-87', '67-87', '67-87', '67-87', '67-87', '67-87', '67-87', '67-87', '67-87', '67-87']\n"
     ]
    }
   ],
   "source": [
    "for v in repeted_boi_JSC.values():\n",
    "    if(len(v) > 1):\n",
    "        print(v)   "
   ]
  },
  {
   "cell_type": "code",
   "execution_count": null,
   "metadata": {},
   "outputs": [],
   "source": [
    "hit_JSC = 0.8\n",
    "boi_JSC = 0.8\n",
    "pre_JSC = 0.8"
   ]
  },
  {
   "cell_type": "code",
   "execution_count": null,
   "metadata": {},
   "outputs": [],
   "source": []
  },
  {
   "cell_type": "code",
   "execution_count": null,
   "metadata": {
    "ExecuteTime": {
     "end_time": "2022-05-18T14:09:03.666595Z",
     "start_time": "2022-05-18T14:08:14.567Z"
    }
   },
   "outputs": [],
   "source": [
    "for key in repeted_boi:\n",
    "    value = repeted_boi[key]\n",
    "    value['lock'] = False\n",
    "    repeted_boi[key] = value    "
   ]
  },
  {
   "cell_type": "code",
   "execution_count": null,
   "metadata": {
    "ExecuteTime": {
     "end_time": "2022-05-18T14:09:03.668750Z",
     "start_time": "2022-05-18T14:08:16.484Z"
    },
    "scrolled": true
   },
   "outputs": [],
   "source": [
    "def isKeepCluster(row):\n",
    "    global repeted_boi    \n",
    "    dg = row['delta G']    \n",
    "    if(row[\"boi name\"] == \"-\"):\n",
    "        return False\n",
    "    tuple_row_boi = tuple(row[rcols_boi])    \n",
    "    value = repeted_boi[tuple_row_boi]\n",
    "    if(value['counter'] == 1):\n",
    "        return True\n",
    "    if(value['dg'] != dg):        \n",
    "        return False\n",
    "    if(value['lock']):\n",
    "        return False\n",
    "    value['lock'] = True\n",
    "    repeted_boi[tuple_row_boi] = value\n",
    "    return True\n",
    "\n",
    "\n",
    "def makeCluster(row):            \n",
    "    tuple_row_boi = tuple(row[rcols_boi])    \n",
    "    value = repeted_boi[tuple_row_boi]\n",
    "    if(value['counter'] != 1):\n",
    "        for ref_c in ['ref clusters', 'ref ids', 'ref species']:\n",
    "            value[ref_c] = value[ref_c].replace(' ,', ',').replace(', ', ',')                        \n",
    "            value[ref_c] = value[ref_c].split(',')\n",
    "            value[ref_c] = set(value[ref_c])\n",
    "            value[ref_c] = \", \".join(value[ref_c])                    \n",
    "        row['Reference miRNA cluster'] = value[\"ref clusters\"]\n",
    "        row['Reference miRNA IDs'] = value[\"ref ids\"]\n",
    "        row['Reference miRNA IDs and species'] = value[\"ref species\"]\n",
    "    return row\n",
    "\n",
    "\n",
    "header = True\n",
    "for chunk in tqdm(pd.read_csv(\"./Result/ct_analizer.csv\", chunksize=10 ** 5)):\n",
    "    chunk = chunk[chunk[rcols_dg].apply(lambda row:  isKeepCluster(row), axis=1)]\n",
    "    chunk = chunk.apply(lambda row : makeCluster(row), axis=1)\n",
    "    chunk.to_csv(\"./Result/ct_analizer_clustered.csv\", mode='a', index=False)\n",
    "    header = False"
   ]
  },
  {
   "cell_type": "markdown",
   "metadata": {
    "heading_collapsed": true
   },
   "source": [
    "# Filters"
   ]
  },
  {
   "cell_type": "code",
   "execution_count": null,
   "metadata": {
    "hidden": true
   },
   "outputs": [],
   "source": []
  },
  {
   "cell_type": "markdown",
   "metadata": {
    "heading_collapsed": true
   },
   "source": [
    "# BlastX"
   ]
  },
  {
   "cell_type": "code",
   "execution_count": null,
   "metadata": {
    "hidden": true
   },
   "outputs": [],
   "source": [
    "!makeblastdb -in ./NR/nr -dbtype prot -out ./NR/nr_database\n",
    "\n",
    "#!head -n 100 ./Temp/extended_modified.txt > ./input_blastx.txt\n",
    "\n",
    "!blastx -query ./input_blastx.txt \\\n",
    "        -db ./NR/nr_database \\\n",
    "        -out ./Temp/BlastX/blastx \\\n",
    "        -num_threads 20 \\\n",
    "        -evalue 1e-3 \\\n",
    "        -outfmt \"6 qseqid sseqid qstart qend evalue bitscore score length frames qframe qcovs qcovhsp staxids\"\n",
    "\n",
    "blx = pd.read_csv('./Temp/BlastX/blastx', sep='\\t', header=None)\n",
    "blx.columns = 'qseqid sseqid qstart qend evalue bitscore score length frames qframe qcovs qcovhsp staxids'.split(' ')\n",
    "coding_seq = blx['qseqid'].unique()"
   ]
  },
  {
   "cell_type": "markdown",
   "metadata": {
    "heading_collapsed": true
   },
   "source": [
    "# psRNATarget"
   ]
  },
  {
   "cell_type": "code",
   "execution_count": 153,
   "metadata": {
    "ExecuteTime": {
     "end_time": "2022-02-26T13:09:55.492501Z",
     "start_time": "2022-02-26T13:09:53.451866Z"
    },
    "code_folding": [
     4
    ],
    "hidden": true
   },
   "outputs": [
    {
     "data": {
      "text/plain": [
       "requests.models.Response"
      ]
     },
     "execution_count": 153,
     "metadata": {},
     "output_type": "execute_result"
    }
   ],
   "source": [
    "url = \"https://www.zhaolab.org/psRNATarget/analysis\"\n",
    "\n",
    "payload='allowbulge=yes&curschema=s2&cutpos1=10&cutpos2=11&expect=5&function=3&gapextp=0.5&gapstartp=2&gup=0.5&hspsize=19&maxnummismatchinseed=2&misp=1&seedfactor=1.5&seedpos1=2&seedpos2=13&srna=&srna_content=%3Eath-miR156a%0D%0AUGACAGAAGAGAGUGAGCAC%0D%0A%3Eath-miR157a%0D%0AUUGACAGAAGAUAGAGAGCAC%0D%0A%3Eath-miR158a%0D%0AUCCCAAAUGUAGACAAAGCA%0D%0A%3Eath-miR398a%0D%0AUGUGUUCUCAGGUCACCCCUU%0D%0A%3Eath-miR398b%0D%0AUGUGUUCUCAGGUCACCCCUG%0D%0A%3Eath-miR398c%0D%0AUGUGUUCUCAGGUCACCCCUG%0D%0A%3Eath-miR834%0D%0AUGGUAGCAGUAGCGGUGGUAA%0D%0A%3Eath-miR390a%0D%0AAAGCUCAGGAGGGAUAGCGCC%0D%0A%3Eath-miR390b%0D%0AAAGCUCAGGAGGGAUAGCGCC&srna_uploaded=&target=&target_content=%3EAT1G27360.1%0D%0AAAGGTATCTATTTGCCTAGCCAGAGTTATATATAGGATTGATTGTCTAGTCTTTTCTTATATGATTTTTGTTCTCATTTACTAATCAAAGTTCTGCAAACTTGTAGTTGTTGTAGGATTTGTTGCTCTGGCTCTGGTGGTAGGTCTATGAAATCAACCCATATCGTGAATGGACTGCAACATGGTATCTTCGTCCCAGTGGGATTGGGAGCATTTGATCATGTCCAATCCGTCAAGGACTGAAGATGACAGCAAACAGCTACCTACTGAGTGGGAAATTGAAAAAGGTGAAGGAATTGAATCTATAGTTCCACATTTCTCAGGCCTTGAGAGAGTCAGTAGTGGCTCTGCCACCAGCTTCTGGCACACTGCTGTATCGAAAAGCTCACAGTCGACCTCTATCAACTCATCATCTCCCGAAGCCAAACGATGCAAGCTTGCATCAGAAAGTTCCCCTGGAGATTCTTGCAGCAACATAGACTTTGTCCAGGTGAAGGCTCCCACAGCTCTCGAGGTATCCGTTGCCTCAGCTGAATCAGATCTTTGTTTAAAACTAGGAAAGCGGACATACTCTGAAGAATACTGGGGTAGAAACAATAATGAAATTTCAGCGGTTTCTATGAAGTTGTTAACTCCATCTGTTGTCGCTGGGAAATCCAAATTGTGTGGTCAGAGCATGCCAGTCCCGCGTTGCCAAATTGATGGCTGTGAACTGGATCTCTCATCTGCTAAGGGTTATCATCGTAAGCACAAAGTCTGCGAAAAGCATTCAAAGTGCCCAAAAGTTAGCGTGAGTGGCCTGGAACGTCGGTTCTGCCAACAGTGTAGCAGGTTCCATGCTGTCTCTGAATTTGATGAGAAGAAACGAAGCTGCCGAAAACGTCTTTCTCATCATAATGCGAGGCGTCGTAAGCCACAAGGAGTATTTTCAATGAATCCCGAGAGGGTGTATGATCGAAGACAGCATACAAATATGTTGTGGAATGGGGTGTCCCTTAACGCGAGATCTGAAGAAATGTATGAATGGGGTAATAACACTTATGATACAAAGCCTAGACAAACGGAAAAAAGCTTTACTCTGAGCTTCCAGAGAGGTAATGGCTCTGAGGACCAGCTGGTTGCTAGTAGCAGCCGTATGTTCTCTACATCTCAAACCTCAGGTGGGTTCCCAGCAGGAAAGTCCAAGTTTCAACTTCATGGCGAAGATGTGGGAGAATACTCAGGAGTCCTCCATGAATCTCAAGATATCCACCGTGCTCTCTCTCTTCTGTCAACCTCTTCGGATCCCCTGGCCCAACCACATGTGCAGCCATTTTCTCTACTCTGTTCATATGATGTTGTACCAAAATAGATGAGTAAGTAATGTGTAATTTGTAAACCTGTTACTCAGTTGGTGGATACTTTTCCAAACCTATGATAAAAACCTCGTCCTAGATCCCGTTAAATGCCAAACTTTCGGCTACTATAACTATGTTATCGTTATCATTATCATTGTTTAACACCCT%0D%0A%3EAT1G27360.4%20%7C%20Symbols%3A%20%20%7C%20squamosa%20promoter-binding%20protein-like%2011%20(SPL11)%20%7C%20chr1%3A9501808-9503856%20FORWARD%0D%0ACTGGGTGAAACATAGAAAAGTTTCTCTTGCTCAAGTTAATGATAAAAGGGTGAGAGCAATAAACGCTGATAAGCCTTGTCTGGTCCTTGGAATTTTGAATTTTCTTTTTCTATCTTACTTATAGTATTGGTAGTTGAGGGTGTCGTCGATAAGTTGTTGTAGGATTTGTTGCTCTGGCTCTGGTGGTAGGTCTATGAAATCAACCCATATCGTGAATGGACTGCAACATGGTATCTTCGTCCCAGTGGGATTGGGAGCATTTGATCATGTCCAATCCGTCAAGGACTGAAGATGACAGCAAACAGCTACCTACTGAGTGGGAAATTGAAAAAGGTGAAGGAATTGAATCTATAGTTCCACATTTCTCAGGCCTTGAGAGAGTCAGTAGTGGCTCTGCCACCAGCTTCTGGCACACTGCTGTATCGAAAAGCTCACAGTCGACCTCTATCAACTCATCATCTCCCGAAGCCAAACGATGCAAGCTTGCATCAGAAAGTTCCCCTGGAGATTCTTGCAGCAACATAGACTTTGTCCAGGTGAAGGCTCCCACAGCTCTCGAGGTATCCGTTGCCTCAGCTGAATCAGATCTTTGTTTAAAACTAGGAAAGCGGACATACTCTGAAGAATACTGGGGTAGAAACAATAATGAAATTTCAGCGGTTTCTATGAAGTTGTTAACTCCATCTGTTGTCGCTGGGAAATCCAAATTGTGTGGTCAGAGCATGCCAGTCCCGCGTTGCCAAATTGATGGCTGTGAACTGGATCTCTCATCTGCTAAGGGTTATCATCGTAAGCACAAAGTCTGCGAAAAGCATTCAAAGTGCCCAAAAGTTAGCGTGAGTGGCCTGGAACGTCGGTTCTGCCAACAGTGTAGCAGGTTCCATGCTGTCTCTGAATTTGATGAGAAGAAACGAAGCTGCCGAAAACGTCTTTCTCATCATAATGCGAGGCGTCGTAAGCCACAAGGAGTATTTTCAATGAATCCCGAGAGGGTGTATGATCGAAGACAGCATACAAATATGTTGTGGAATGGGGTGTCCCTTAACGCGAGATCTGAAGAAATGTATGAATGGGGTAATAACACTTATGATACAAAGCCTAGACAAACGGAAAAAAGCTTTACTCTGAGCTTCCAGAGAGGTAATGGCTCTGAGGACCAGCTGGTTGCTAGTAGCAGCCGTATGTTCTCTACATCTCAAACCTCAGGTGGGTTCCCAGCAGGAAAGTCCAAGTTTCAACTTCATGGCGAAGATGTGGGAGAATACTCAGGAGTCCTCCATGAATCTCAAGATATCCACCGTGCTCTCTCTCTTCTGTCAACCTCTTCGGATCCCCTGGCCCAACCACATGTGCAGCCATTTTCTCTACTCTGTTCATATGATGTTGTACCAAAATAGATGAGTAAGTAATGTGTAATTTGTAAACCTGTTACTCAGTTGGTGGATACTTTTCCAAACCTATGATAAAAACCTCGTCCTAGATCCCGTTAAATGCCAAACTTTCGGCTACTATAACTATGTTATCGTTATCATTATCATTGTTTAACACCCT%0D%0A%3EAT1G32140.1%20%7C%20Symbols%3A%20%20%7C%20F-box%20family%20protein%20%7C%20chr1%3A11562722-11564813%20REVERSE%0D%0AATGACGATGATGTCCGACCTTTCACTTGATTTAGTCGAAGAGATATTGTGTAGGGTTCCGATAACTTCTCTTAAAGCAGTGAGATCTAGTTGCAAACTATGGAACGTTCTTTCCAAGAACCGGATTTTATGTAAAACAGAAGCTAGAAATCAGTTTTTAGGGTTCACGATAATGAATCATAGGCTTTATTCCATGAGATTCAATCTCCATGGAATCGGCCTCAATGAAAACAGTGAAGAGTTCATTGATCCATCTATAAAGCCAATAGGTAATTTACTTAATCAAGTCGAGATATCTAAAGTGTTTTATTGCGAAGGTTTATTGTTATGCGTCACAAGGAACCACTCAAGCAAGCTCGTAGTTTGGAACCCGTATTTGGGAGAAATTCGTTGGATCAAAACTAGGAATGATTACCACATAGGCGTTACATATGCTCTCGGGTACGACAACAACAAGAACCACATGATCTTGAGGTTTTTTTCTGAACAAGGCTACTACGAGATTTACGACATGAACTCTTCTGACTCATGGGATTGTTTTTATGGCATTCCCAACAAGGGGTTAAAATGTTATCAGCCCGGCGCGTCGTTAAATGGAAATGCTTATTTTTTGACTGAGGGAAGAGAAGTAATGGAAGGGTATGATTGCTTACTCGGTTTTGATTTTACAACAAAGAAATTTGGACCACTTCTTTCTTTGTCGTTTTCGCATGATTTTATAGAGACTGGGAGACTATCTTGTGTTAAAGGAGAGAAACTTGCGGTCTTATATCAGCGCTGCTATACCTATGAGATGGAGGTATGGGTGACAACTAAGATAGAGCCGAATGCGGTGTCATGGAGCAAATTCTTAGCAGTTGAAATGGAACCACTCACTAGTCTAAAGTTTAACGATGATTCTGGCAGTTTCTTCATTGACGAAGAGAAGAAAATCGTCGTGGTTTTTGATATAGACGAATCTGAACGCAACAATACGGCTTACATCATTGGAGATTATGGATGCTTGAAAGAAGTTGATCTTGATGAAGTTGTGAACCCACAAGAATCTGTGGAGGTCGGAGACCGCATTTATTCTTTTTCACCATTTGTGTGCTCTTGCTCTTATGTTCCAAGTTTAGTGAAATTTAAAGAAGATGCAGAACATGAAAGGAAAGATAAGAAGAGGAAGAGTAAGAGGAAGCGAACCAACAAGGATGGATATGATTTTATACTGTGTTTTGATTTTACAACCGAGAGATTTGGACAGATTCTTCCTCTGCCGTTTAAACATTCTTTTAGGGATACTTGGACTCTATCTTCTGTTAAAGAAGAGAAACTTGCAGTCGCAGTGTTATACTGGAAAAATACATGTGTGATGATAGAGATATGGATGACAATTAAGATTGATCCTAATGTCGAGTCGTGGAGCAAATTCTTAAGAGTTGATAGGAAACCATGCATTGATCTTCGCTTTGATGATCGTAATGACAGTTTTTTCATTGACGAAGAGAAGAAAGTTGTCGTGTTTTTTAGTTCAGACAAAGTTAAAACCTCTACGGCTTACGTCATTGGAGATAATAGATATTTGAGAACAGTGGATCTTGAAAAAGCTGCAAACTCCCAAGAATCTGTGGAGGTCGGAGAACGCGTGTATTGTTTTTCGCCGCTTGTGTGCTCTTGCTCTTATTATGTTCCAAGTTTGGTGAAAATCAACCACAATGCAGGACGCAAAAGGAAAGAGAAGAAGACGAAGCGCAAAAGTAAAGACAAGCAGATGAAACTAAGCAACAAGGTGTAA%0D%0A%3EAT2G42200.1%20%7C%20Symbols%3A%20%20%7C%20squamosa%20promoter-binding%20protein-like%209%20(SPL9)%20%7C%20chr2%3A17594485-17596708%20FORWARD%0D%0AACCACTCTCGTCTCTTTCTTTTTTCCTTCTGTTCTGTTTCTCTCTCTAAACCCAAAACAGTCAAAATCAGGGAAGCCGAAATTTTCTTTGCTTTCTTCTCCTTTGGTCCTTTCTTTAAACCCGAGACAGTTAGGTTTGTGTGAGAGAGAGAATGATGAGTAAAACCCTTTCTGTCTGAGTAAGAGGAAACCAACATGGAGATGGGTTCCAACTCGGGTCCGGGTCATGGTCCGGGTCAGGCAGAGTCGGGTGGTTCCTCCACTGAGTCATCCTCTTTCAGTGGAGGGCTCATGTTTGGCCAGAAGATCTACTTCGAGGACGGTGGTGGTGGATCCGGGTCTTCTTCCTCAGGTGGTCGTTCAAACAGACGTGTCCGTGGAGGCGGGTCGGGTCAGTCGGGTCAGATACCAAGGTGCCAAGTGGAAGGTTGTGGGATGGATCTAACCAATGCAAAAGGTTATTACTCGAGACACCGAGTTTGTGGAGTGCACTCTAAAACACCTAAAGTCACTGTGGCTGGTATCGAACAGAGGTTTTGTCAACAGTGCAGCAGGTTTCATCAGCTTCCGGAATTTGACCTAGAGAAAAGGAGTTGCCGCAGGAGACTCGCTGGTCATAATGAGCGACGAAGGAAGCCACAGCCTGCGTCTCTCTCTGTGTTAGCTTCTCGTTACGGGAGGATCGCACCTTCGCTTTACGAAAATGGTGATGCTGGAATGAATGGAAGCTTTCTTGGGAACCAAGAGATAGGATGGCCAAGTTCAAGAACATTGGATACAAGAGTGATGAGGCGGCCAGTGTCGTCACCGTCATGGCAGATCAATCCAATGAATGTATTTAGTCAAGGTTCAGTTGGTGGAGGAGGGACAAGCTTCTCATCTCCAGAGATTATGGACACTAAACTAGAGAGCTACAAGGGAATTGGCGACTCAAACTGTGCTCTCTCTCTTCTGTCAAATCCACATCAACCACATGACAACAACAACAACAACAACAACAACAACAACAACAACAACAATACATGGCGAGCTTCTTCAGGTTTTGGCCCGATGACGGTTACAATGGCTCAACCACCACCTGCACCTAGCCAGCATCAGTATCTGAACCCGCCTTGGGTATTCAAGGACAATGATAATGATATGTCTCCTGTTTTGAATTTAGGTCGATACACCGAGCCAGATAATTGTCAGATAAGTAGTGGCACGGCAATGGGTGAGTTCGAGTTATCTGATCACCATCATCAAAGTAGGAGACAGTACATGGAAGATGAGAACACAAGGGCTTATGACTCTTCTTCTCACCATACCAACTGGTCTCTCTGACTTGTCTTTGCATCAGAGAATCTTCTTACAATGAACGATTCTGCAATATCTTATCTTTTTGCTTCTTTGTTTATTCTGTTATCTGCTATCAATAAACCAGACAATTGTTGCCAGATAATGGCTTTTGATTTTGATTTGTTGTTTTATCTCCATGAAAATCCAAGTTATGAGATCAGATT%0D%0A%3EAT1G49910.1%20%7C%20Symbols%3A%20%20%7C%20WD-40%20repeat%20family%20protein%20%2F%20mitotic%20checkpoint%20protein%2C%20putative%20%7C%20chr1%3A18482693-18485143%20FORWARD%0D%0AATGACTTTGGTGCCGGCCATTGGTCGCGAGCTCTCGAATCCACCGTCCGATGGGATTTCTAATCTTCGATTTTCTAATAACAGCGATCATTTACTAGTCTCTTCATGGGATAAGAGTGTAAGATTGTATGATGCGAACGGCGATTTGATGAGAGGGGAGTTTAAACATGGTGGAGCGGTACTCGATTGCTGCTTCCATGATGATTCTTCTGGATTCAGTGTTTGCGCCGATACTAAAGTTAGAAGAATTGACTTCAATGCTGGCAAAGAAGACGTTTTGGGTACGCATGAGAAGCCAGTTCGATGTGTTGAGTATTCTTATGCTGCAGGGCAAGTGATCACTGGAAGTTGGGATAAAACGATTAAATGTTGGGATCCAAGAGGTGCAAGTGGGACTGAGCGCACACAGATTGGAACTTATATGCAACCTGAGCGTGTTAACTCTCTTTCTCTTGTTGGAAATCGTTTGGTAGTGGCAACAGCAGGAAGGCATGTCAACATTTATGATCTTAGAAATATGTCCCAGCCTGAGCAAAGAAGAGAGTCCTCACTTAAATACCAGACAAGATGTGTACGTTGTTATCCCAACGGAACAGGATATGCCCTTAGCTCTGTTGAAGGGAGGGTTTCAATGGAGTTTTTTGATCTATCAGAAGCTGCTCAGGCTAAAAAATATGCTTTCAAATGTCACCGGAAATCAGAGGATGGAAGGGACATTGTCTACCCTGTAAATGCAATTGCTTTCCATCCGATTTATGGCACTTTTGCTTCCGGAGGCTGTGATGGTTTTGTCAACATTTGGGACGGTAACAATAAGAAGAGGCTTTATCAGTACTCTAAGTATCCAACAAGTATTGCGGCGCTGTCATTCAGCCGAGATGGTGGATTACTGGCTGTTGCTTCTAGTTACACGTTTGAAGAGGGAGACAAACCGCATGAACCGGACGCCATCTTTGTTAGAAGTGTTAATGAAATTGAAGTGAAACCGAAACCCAAAGTATACCCAAATCCCCCGGTATAGTCAAGAAATAATGGAATGAGCAGAGTCAAATTCGACTTGTGTGTTGTTGTATTGTAGCACTTGAAAGTGAGTTATAAAATCTTATTTTGGCTGTAAAGTGAAATGTGAACGTTATAATGGCTTTCGAATCTGAGATGGTGTTCCATTTACTCTCTGGGTTGCCTCCAATTTTTCTTTTAGGACCAACTATCTTATTTTTACCTT%0D%0A%3EAT1G48460.1%20%7C%20Symbols%3A%20%20%7C%20similar%20to%20unknown%20protein%20%5BArabidopsis%20thaliana%5D%20(TAIR%3AAT5G63040.2)%3B%20similar%20to%20Os01g0704200%20%5BOryza%20sativa%20(japonica%20cultivar-group)%5D%20(GB%3ANP_001044004.1)%3B%20similar%20to%20hypothetical%20protein%20MtrDRAFT_AC124952g33v1%20%5BMedicago%20truncatula%5D%20(GB%3AABE93586.1)%3B%20contains%20domain%20Multidrug%20resistance%20ABC%20transporter%20MsbA%2C%20N-terminal%20domain%20(SSF90123)%20%7C%20chr1%3A17915014-17916968%20FORWARD%0D%0AAGAAAACAATTCCAAAAAATAAAATGTCAGAAAAGAATTTTCTTTTAGAATAAAGACAGTGAAGAGATTTATTTCAAAGCCTGGGTTTAAGCTGCTGAGAGAACACAAAAAACCCTAACAAAAATGGAATCGAAAGCAATTTGCTTAGGGTTTCTTCCTCCAAGACTTCGATTTTCATCTCCACGTTTACTCTCTCTTCCTCCTTCTCCTCCTGCTTCTTCCACATTTGCGACGCGTCACAAACTTGATTCCAGACAAACCCTCCTTTGGAACAAACCGCAATTGAGCCGAGTTCGTGTAGCGTGTTCTTCTTCTCAATCTGACTCAAGACCTGAGAAGAAGCAATCGGATAAGAGTAACTATGCTCGAGCTGAGCTGTTCCGTGGGAAATCAGGTTCTGTTTCTTTCAATGGTCTGACTCATCAGCTGGTTGAAGAAAGTAAACTGGTTTCAGCTCCGTTTCAAGAAGAGAAAGGTTCTTTCTTGTGGGTTTTGGCTCCTGTTGTTTTGATTTCTTCGTTGATTCTTCCTCAGTTCTTTCTAAGTGGTATCATTGAAGCTACCTTCAAAAACGACACTGTTGCTGAAATTGTTACTTCTTTTTGCTTTGAGACGGTGTTTTATGCTGGTCTTGCGATATTCCTGTCTGTGACTGACCGAGTGCAGAGGCCGTACTTAGACTTCAGCTCCAAGAGATGGGGTCTGATCACTGGACTGAGGGGATACCTTACGTCTGCATTCCTCACGATGGGTTTAAAAGTTGTAGTTCCCGTATTTGCTGTTTACATGACTTGGCCAGCTCTTGGAATAGATGCTTTGATTGCAGTGCTTCCTTTCTTGGTTGGCTGTGCAGTTCAAAGAGTTTTCGAGGCTCGGCTTGAAAGACGTGGCTCATCCTGTTGGCCCATTGTTCCAATAGTCTTTGAGGTGTATAGGCTGTATCAGGTGACAAGAGCAGCGACTTTTGTTCAGAGGCTGATGTTTATGATGAAAGATGCGGCAACGACTGCTGAAATAACAGAGCGAGGAGTTGCACTAGTTGGTTTGGTTGTGACTTTGCAGTTTCTAGCTGTTATGTGTCTCTGGTCGTTTATCACTTTTCTTATGCGCCTCTTTCCTTCTAGACCTGTAGGTGAAAACTACTAGATCTCAGTGTTTAGTGATTGTTAGATGTAGCCAAATCCCATCGGTTTTGTTTTGTTTCTGTGTTCATTTCAGTAGTAATGAATTGTATTAAGTCACTTTAAGAATTGGTTGATCATGTGAAATGAGAATTGGCTGGAAATGTTATAGAACG%0D%0A%3EAT5G50570.2%20%7C%20Symbols%3A%20%20%7C%20squamosa%20promoter-binding%20protein%2C%20putative%20%7C%20chr5%3A20599309-20601106%20REVERSE%0D%0AAAAAAGGACAAATCTTGATATTGCTTTGATTGCTGTTGTGTATGTATGTGTTTTTATAGTGAGAGAAGAAAAAAAAGCACAATCTTTGAATGGACTGGAATTTCAAACTTAGCTCTGGTTATTTATCTGGATTCGATCAAGAACCAGATTTATCACCAATGGATGGTTCGATCTCGTTTGGTGGGTCGTCACAGTCAAAAGCGGATTTTTCATTTGATCTAAAACTTGGAAGAAACATTGGAAACTCTTCCTCTGTTTTTGGTGATACAGAGCAAGTGATTAGTCTTAGTAAGTGGAAAGATAGTGCTTTAGCTAAACCAGAAGGTTCAAGAAGCTCGAGTTCAAAGAGAACAAGAGGGAATGGTGTTGGAACCAACCAGATGCCGATTTGTCTTGTTGATGGATGTGATTCTGATTTTAGTAATTGTAGAGAGTATCATAAGAGACATAAAGTTTGTGATGTTCATTCAAAAACTCCTGTGGTTACTATTAATGGTCATAAACAGAGGTTTTGTCAACAATGCAGCAGGTTTCATGCTTTGGAGGAGTTTGATGAAGGGAAGAGAAGTTGTAGGAAACGTCTTGATGGACATAATCGAAGACGACGGAAGCCGCAGCCTGAACATATCGGTCGTCCTGCCAACTTCTTTACGGGTTTTCAAGGTAGCAAATTGCTAGAGTTTTCTGGTGGTTCACATGTGTTTCCAACTACATCTGTGTTGAACCCGAGCTGGGGAAATAGTCTTGTAAGCGTTGCTGTAGCCGCCAATGGTTCGAGTTATGGGCAGAGCCAGAGCTATGTTGTTGGTTCTTCTCCTGCAAAGACAGGGATAATGTTTCCAATCTCTTCTTCTCCAAACAGTACCAGAAGCATAGCAAAACAATTCCCTTTCTTGCAAGAAGAAGAAAGCTCGAGAACCGCATCGTTGTGTGAGAGAATGACGAGTTGCATCCATGACTCTGATTGTGCTCTCTCTCTTCTGTCATCCTCCTCGTCGTCAGTCCCTCATTTGCTTCAACCACCACTTTCTTTGTCCCAAGAAGCAGTTGAGACAGTTTTTTACGGGTCGGGATTGTTTGAGAATGCGAGTGCAGTCTCTGATGGATCGGTTATATCCGGTAACGAGGCTGTCCGTCTTCCGCAGACATTCCCGTTTCATTGGGAGTAGTAGAAGAAGAAGTAGGTAGATAGATAGAATCAGAAAGATCTATTTGTGTCTCTTCTCTTCTCCCTCATTTTTCAATGTTCTTTATCATCATCATTGTTCTTGTTAACACTACAAGAAATATGGACATTCTTAACACACCGAAAACGCTATAATAACGTTTACATAGCGGATTCATAAACGCTGTGTTTGCCGGAGCTATCTTAGAGTGGTCACATACAATAGCGTTTCTTGCTATGCTATTAAATGTTCACATATTATGGCGTAAAAGAAATGCTTTGATTTCCTTTGTTATTGCACAATTTTGATGTTATACTTTTGTAACTCTTTTTAAGGGCTATAAACTATTATTTTGTAGCTATATTTTATAGGCTATGATCTGATATGTTGTAGCTTTATTTTTTTGGCTATAAATCTATAAACAGCCTATAAGTTTGGGACATTTTGTTACACATTTGCAAGAAACCTCTTTTTG%0D%0A&target_uploaded=&top=200'\n",
    "headers = {\n",
    "  'sec-ch-ua': '\" Not A;Brand\";v=\"99\", \"Chromium\";v=\"98\", \"Google Chrome\";v=\"98\"',\n",
    "  'sec-ch-ua-mobile': '?0',\n",
    "  'sec-ch-ua-platform': '\"Windows\"',\n",
    "  'Upgrade-Insecure-Requests': '1',\n",
    "  'Content-Type': 'application/x-www-form-urlencoded',\n",
    "  'User-Agent': 'Mozilla/5.0 (Windows NT 10.0; Win64; x64) AppleWebKit/537.36 (KHTML, like Gecko) Chrome/98.0.4758.102 Safari/537.36',\n",
    "  'Accept': 'text/html,application/xhtml+xml,application/xml;q=0.9,image/avif,image/webp,image/apng,*/*;q=0.8,application/signed-exchange;v=b3;q=0.9',\n",
    "  'Sec-Fetch-Site': 'same-origin',\n",
    "  'Sec-Fetch-Mode': 'navigate',\n",
    "  'Sec-Fetch-User': '?1',\n",
    "  'Sec-Fetch-Dest': 'document',\n",
    "  'Cookie': 'session=eyJzaW1wbGVwYWdlIjpmYWxzZX0.YhEQeA.N4sPemlWsAA1q7EwbfdkVXJbqs8'\n",
    "}\n",
    "\n",
    "response = requests.request(\"POST\", url, headers=headers, data=payload)\n",
    "type(response)"
   ]
  },
  {
   "cell_type": "code",
   "execution_count": null,
   "metadata": {
    "hidden": true
   },
   "outputs": [],
   "source": []
  }
 ],
 "metadata": {
  "hide_input": false,
  "kernelspec": {
   "display_name": "Python 3",
   "language": "python",
   "name": "python3"
  },
  "language_info": {
   "codemirror_mode": {
    "name": "ipython",
    "version": 3
   },
   "file_extension": ".py",
   "mimetype": "text/x-python",
   "name": "python",
   "nbconvert_exporter": "python",
   "pygments_lexer": "ipython3",
   "version": "3.8.10"
  },
  "varInspector": {
   "cols": {
    "lenName": 16,
    "lenType": 16,
    "lenVar": 40
   },
   "kernels_config": {
    "python": {
     "delete_cmd_postfix": "",
     "delete_cmd_prefix": "del ",
     "library": "var_list.py",
     "varRefreshCmd": "print(var_dic_list())"
    },
    "r": {
     "delete_cmd_postfix": ") ",
     "delete_cmd_prefix": "rm(",
     "library": "var_list.r",
     "varRefreshCmd": "cat(var_dic_list()) "
    }
   },
   "types_to_exclude": [
    "module",
    "function",
    "builtin_function_or_method",
    "instance",
    "_Feature"
   ],
   "window_display": false
  }
 },
 "nbformat": 4,
 "nbformat_minor": 4
}
