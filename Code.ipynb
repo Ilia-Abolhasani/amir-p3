{
 "cells": [
  {
   "cell_type": "markdown",
   "metadata": {},
   "source": [
    "# Common"
   ]
  },
  {
   "cell_type": "code",
   "execution_count": 1,
   "metadata": {
    "ExecuteTime": {
     "end_time": "2022-04-16T12:31:59.633359Z",
     "start_time": "2022-04-16T12:31:59.629248Z"
    }
   },
   "outputs": [],
   "source": [
    "#!pip install tqdm"
   ]
  },
  {
   "cell_type": "code",
   "execution_count": 152,
   "metadata": {
    "ExecuteTime": {
     "end_time": "2022-04-16T13:58:38.223733Z",
     "start_time": "2022-04-16T13:58:38.215692Z"
    }
   },
   "outputs": [],
   "source": [
    "import math\n",
    "import numpy as np\n",
    "import pandas as pd\n",
    "import hashlib\n",
    "import requests\n",
    "import os, sys, subprocess\n",
    "from tqdm.contrib.concurrent import process_map\n",
    "from tqdm.notebook import tqdm\n",
    "tqdm.pandas()\n",
    "import multiprocessing as mp\n",
    "import shutil\n",
    "import urllib.parse\n",
    "import glob\n",
    "import os\n",
    "import sys\n",
    "from ast import literal_eval\n",
    "if sys.version_info[0] < 3: \n",
    "    from StringIO import StringIO\n",
    "else:\n",
    "    from io import StringIO"
   ]
  },
  {
   "cell_type": "code",
   "execution_count": 3,
   "metadata": {
    "ExecuteTime": {
     "end_time": "2022-04-16T12:32:01.334062Z",
     "start_time": "2022-04-16T12:32:01.088683Z"
    }
   },
   "outputs": [],
   "source": [
    "!mkdir -p Temp\n",
    "!mkdir -p Result"
   ]
  },
  {
   "cell_type": "code",
   "execution_count": 4,
   "metadata": {
    "ExecuteTime": {
     "end_time": "2022-04-16T12:32:01.342305Z",
     "start_time": "2022-04-16T12:32:01.338039Z"
    }
   },
   "outputs": [],
   "source": [
    "current_path = os.getcwd()"
   ]
  },
  {
   "cell_type": "code",
   "execution_count": 5,
   "metadata": {
    "ExecuteTime": {
     "end_time": "2022-04-16T12:32:01.940915Z",
     "start_time": "2022-04-16T12:32:01.935564Z"
    }
   },
   "outputs": [],
   "source": [
    "def bracket_row(row):    \n",
    "    s = row['data']\n",
    "    index = min(s.find('.'), s.find('('))\n",
    "    data = row['data']\n",
    "    row['data'] = data[0:index]\n",
    "    row['bracket'] = data[index:]\n",
    "    return row"
   ]
  },
  {
   "cell_type": "code",
   "execution_count": 6,
   "metadata": {
    "ExecuteTime": {
     "end_time": "2022-04-16T12:32:02.792693Z",
     "start_time": "2022-04-16T12:32:02.788155Z"
    }
   },
   "outputs": [],
   "source": [
    "def adjust(text,n=7):\n",
    "    text = str(text)    \n",
    "    return \" \" * (n - len(text)) + text"
   ]
  },
  {
   "cell_type": "code",
   "execution_count": 7,
   "metadata": {
    "ExecuteTime": {
     "end_time": "2022-04-16T12:32:02.807055Z",
     "start_time": "2022-04-16T12:32:02.796054Z"
    }
   },
   "outputs": [],
   "source": [
    "def bracket_to_ct(tag, data, bracket, deltaG, negative_deltaG=True):    \n",
    "    deltaG = deltaG.replace('(','').replace(')','')\n",
    "    deltaG = float(deltaG)\n",
    "    if(deltaG > 0 and negative_deltaG ): # negetive?!\n",
    "        deltaG = -1 * deltaG\n",
    "    stack = []\n",
    "    index = np.zeros((len(bracket)), dtype = int)\n",
    "    values = np.zeros((len(bracket)), dtype = int)\n",
    "    for i in range(len(bracket)):\n",
    "        index[i] = i + 1\n",
    "        if(bracket[i] == '.'):\n",
    "            values[i] = 0\n",
    "        elif(bracket[i] == '('):\n",
    "            stack.append(i)\n",
    "        elif(bracket[i] == ')'):\n",
    "            if(len(stack) == 0 ):\n",
    "                print('structure error!')\n",
    "            values[stack[-1]] = i + 1\n",
    "            values[i]  = stack[-1] + 1\n",
    "            stack.pop()\n",
    "        else:\n",
    "            print('structure error!')\n",
    "    if(len(stack) != 0 ):\n",
    "        print('structure error!')\n",
    "    # body    \n",
    "    ct = f\"{adjust(len(data),6)} dG ={adjust(deltaG,10)} {tag}\\n\"   \n",
    "    for i in range(len(bracket)):\n",
    "        ct += f\"{adjust(index[i],6)} {data[i]} {adjust(i,6)} {adjust((i+2)%(len(data)+1),6)} {adjust(values[i],6)} {adjust(index[i],7)}\\n\"\n",
    "    return ct"
   ]
  },
  {
   "cell_type": "code",
   "execution_count": 8,
   "metadata": {
    "ExecuteTime": {
     "end_time": "2022-04-16T12:32:02.823981Z",
     "start_time": "2022-04-16T12:32:02.812241Z"
    }
   },
   "outputs": [],
   "source": [
    "def fasta_to_df(path):\n",
    "    with open(path, 'r') as file:\n",
    "        text = file.read()\n",
    "    lines = [line for line in text.split('\\n') if len(line) > 0]\n",
    "    s = ''\n",
    "    tags = []\n",
    "    data = []\n",
    "    for l in lines:\n",
    "        if(l[0]=='>'):\n",
    "            tags.append(l)        \n",
    "            data.append(s)\n",
    "            s = ''\n",
    "        else:\n",
    "            s += l    \n",
    "    data.append(s)\n",
    "    df = pd.DataFrame(\n",
    "            {\n",
    "                'tag': tags,\n",
    "                'data': data[1:]\n",
    "            })\n",
    "    df['tag'] = df['tag'].apply(lambda x: x[1:])    \n",
    "    return df"
   ]
  },
  {
   "cell_type": "code",
   "execution_count": 9,
   "metadata": {
    "ExecuteTime": {
     "end_time": "2022-04-16T12:32:02.933799Z",
     "start_time": "2022-04-16T12:32:02.928564Z"
    }
   },
   "outputs": [],
   "source": [
    "def df_to_fasta(df, path):\n",
    "    lines = []\n",
    "    df.apply(lambda row: lines.append(f\">{row['tag']}\\n{row['data']}\\n\"),axis=1)\n",
    "    with open(path,'w') as file:\n",
    "        file.write(''.join(lines))"
   ]
  },
  {
   "cell_type": "code",
   "execution_count": 10,
   "metadata": {
    "ExecuteTime": {
     "end_time": "2022-04-16T12:32:03.066905Z",
     "start_time": "2022-04-16T12:32:03.062342Z"
    }
   },
   "outputs": [],
   "source": [
    "def reformat(path):\n",
    "    return path.replace('(','_').replace(')','_').replace('.','').replace(':','_')"
   ]
  },
  {
   "cell_type": "code",
   "execution_count": 11,
   "metadata": {
    "ExecuteTime": {
     "end_time": "2022-04-16T12:32:03.540832Z",
     "start_time": "2022-04-16T12:32:03.533130Z"
    }
   },
   "outputs": [],
   "source": [
    "def reformatCT(path):\n",
    "    with open(path, 'r') as file:\n",
    "        text = file.read()\n",
    "    text = [l for l in text.split('\\n') if len(l) > 0 ] # remove blank lines\n",
    "    text = '\\n'.join(text)\n",
    "    text = text.replace(\"\\t\",\" \")\n",
    "    while(\"  \" in text):\n",
    "        text = text.replace(\"  \", \" \")\n",
    "    lines = [l for l in text.split('\\n')]\n",
    "    for i in range(len(lines)):\n",
    "        if(lines[i][0] == \" \"):\n",
    "            lines[i] = lines[i][1:]\n",
    "        if(lines[i][-1] == \" \"):\n",
    "            lines[i] = lines[i][:-1]\n",
    "    text = '\\n'.join(lines)\n",
    "    return text"
   ]
  },
  {
   "cell_type": "code",
   "execution_count": 12,
   "metadata": {
    "ExecuteTime": {
     "end_time": "2022-04-16T12:32:03.842640Z",
     "start_time": "2022-04-16T12:32:03.834300Z"
    }
   },
   "outputs": [],
   "source": [
    "def get_ct_data(ct):\n",
    "    ct = \"\\n\".join(ct.split('\\n')[1:])\n",
    "    df = pd.read_csv(StringIO(ct), sep=\" \", header=None)               \n",
    "    nucleotide = df.iloc[:,1]\n",
    "    index = df.iloc[:,5]\n",
    "    values = df.iloc[:,4]\n",
    "    return [nucleotide, index, values]"
   ]
  },
  {
   "cell_type": "code",
   "execution_count": 13,
   "metadata": {
    "ExecuteTime": {
     "end_time": "2022-04-16T12:32:03.960217Z",
     "start_time": "2022-04-16T12:32:03.953735Z"
    }
   },
   "outputs": [],
   "source": [
    "def ct2dot_bracket(path):\n",
    "    [nucleotide, index, values] = get_ct_data(reformatCT(path))\n",
    "    text = ''.join(nucleotide) + \"\\n\"\n",
    "    watch = []\n",
    "    for i, v in zip(index,values):\n",
    "        if(v == 0):\n",
    "            text += '.'\n",
    "        else:\n",
    "            if( v not in watch):\n",
    "                text += '('\n",
    "                watch.append(i)\n",
    "            if( v in watch):\n",
    "                text += ')'\n",
    "    return text"
   ]
  },
  {
   "cell_type": "code",
   "execution_count": 14,
   "metadata": {
    "ExecuteTime": {
     "end_time": "2022-04-16T12:32:04.258471Z",
     "start_time": "2022-04-16T12:32:04.252664Z"
    }
   },
   "outputs": [],
   "source": [
    "def is_nested(index, values):\n",
    "    max_value = max(index) + 10 # inf\n",
    "    for i, v in zip(index, values):\n",
    "        if(v < max_value and v != 0):\n",
    "            max_value  = v\n",
    "        if(i >= max_value):\n",
    "            max_value = max(index) + 10 # inf\n",
    "        if(v > max_value):\n",
    "            return False               \n",
    "    return True"
   ]
  },
  {
   "cell_type": "markdown",
   "metadata": {
    "heading_collapsed": true
   },
   "source": [
    "# Download dataset"
   ]
  },
  {
   "cell_type": "code",
   "execution_count": null,
   "metadata": {
    "ExecuteTime": {
     "end_time": "2022-03-09T14:36:03.193928Z",
     "start_time": "2022-03-09T14:36:02.855151Z"
    },
    "hidden": true
   },
   "outputs": [],
   "source": []
  },
  {
   "cell_type": "markdown",
   "metadata": {
    "heading_collapsed": true
   },
   "source": [
    "# Download data from Mirbase"
   ]
  },
  {
   "cell_type": "code",
   "execution_count": 15,
   "metadata": {
    "ExecuteTime": {
     "end_time": "2022-04-09T14:41:20.783863Z",
     "start_time": "2022-04-09T14:41:20.541318Z"
    },
    "hidden": true
   },
   "outputs": [
    {
     "name": "stdout",
     "output_type": "stream",
     "text": [
      "rm: cannot remove './Temp/miRBase_driven_data': No such file or directory\r\n"
     ]
    }
   ],
   "source": [
    "directory = './Temp/miRBase_driven_data'\n",
    "base = \"https://www.mirbase.org/ftp/CURRENT\"        \n",
    "!rm -r {directory}\n",
    "!mkdir -p {directory}"
   ]
  },
  {
   "cell_type": "code",
   "execution_count": 16,
   "metadata": {
    "ExecuteTime": {
     "end_time": "2022-04-09T14:41:40.572121Z",
     "start_time": "2022-04-09T14:41:21.304794Z"
    },
    "hidden": true,
    "scrolled": true
   },
   "outputs": [
    {
     "name": "stdout",
     "output_type": "stream",
     "text": [
      "--2022-04-09 19:11:21--  https://www.mirbase.org/ftp/CURRENT/aliases.txt.gz\n",
      "Resolving www.mirbase.org (www.mirbase.org)... 130.88.97.249\n",
      "Connecting to www.mirbase.org (www.mirbase.org)|130.88.97.249|:443... connected.\n",
      "HTTP request sent, awaiting response... 200 OK\n",
      "Length: 480536 (469K) [application/x-gzip]\n",
      "Saving to: ‘././Temp/miRBase_driven_data/aliases.txt.gz’\n",
      "\n",
      "aliases.txt.gz      100%[===================>] 469.27K   379KB/s    in 1.2s    \n",
      "\n",
      "2022-04-09 19:11:23 (379 KB/s) - ‘././Temp/miRBase_driven_data/aliases.txt.gz’ saved [480536/480536]\n",
      "\n",
      "--2022-04-09 19:11:23--  https://www.mirbase.org/ftp/CURRENT/hairpin.fa.gz\n",
      "Resolving www.mirbase.org (www.mirbase.org)... 130.88.97.249\n",
      "Connecting to www.mirbase.org (www.mirbase.org)|130.88.97.249|:443... connected.\n",
      "HTTP request sent, awaiting response... 200 OK\n",
      "Length: 1547350 (1.5M) [application/x-gzip]\n",
      "Saving to: ‘././Temp/miRBase_driven_data/hairpin.fa.gz’\n",
      "\n",
      "hairpin.fa.gz       100%[===================>]   1.48M  1.06MB/s    in 1.4s    \n",
      "\n",
      "2022-04-09 19:11:25 (1.06 MB/s) - ‘././Temp/miRBase_driven_data/hairpin.fa.gz’ saved [1547350/1547350]\n",
      "\n",
      "--2022-04-09 19:11:25--  https://www.mirbase.org/ftp/CURRENT/hairpin_high_conf.fa.gz\n",
      "Resolving www.mirbase.org (www.mirbase.org)... 130.88.97.249\n",
      "Connecting to www.mirbase.org (www.mirbase.org)|130.88.97.249|:443... connected.\n",
      "HTTP request sent, awaiting response... 200 OK\n",
      "Length: 129596 (127K) [application/x-gzip]\n",
      "Saving to: ‘././Temp/miRBase_driven_data/hairpin_high_conf.fa.gz’\n",
      "\n",
      "hairpin_high_conf.f 100%[===================>] 126.56K   245KB/s    in 0.5s    \n",
      "\n",
      "2022-04-09 19:11:26 (245 KB/s) - ‘././Temp/miRBase_driven_data/hairpin_high_conf.fa.gz’ saved [129596/129596]\n",
      "\n",
      "--2022-04-09 19:11:26--  https://www.mirbase.org/ftp/CURRENT/mature.fa.gz\n",
      "Resolving www.mirbase.org (www.mirbase.org)... 130.88.97.249\n",
      "Connecting to www.mirbase.org (www.mirbase.org)|130.88.97.249|:443... connected.\n",
      "HTTP request sent, awaiting response... 200 OK\n",
      "Length: 803746 (785K) [application/x-gzip]\n",
      "Saving to: ‘././Temp/miRBase_driven_data/mature.fa.gz’\n",
      "\n",
      "mature.fa.gz        100%[===================>] 784.91K   528KB/s    in 1.5s    \n",
      "\n",
      "2022-04-09 19:11:28 (528 KB/s) - ‘././Temp/miRBase_driven_data/mature.fa.gz’ saved [803746/803746]\n",
      "\n",
      "--2022-04-09 19:11:28--  https://www.mirbase.org/ftp/CURRENT/mature_high_conf.fa.gz\n",
      "Resolving www.mirbase.org (www.mirbase.org)... 130.88.97.249\n",
      "Connecting to www.mirbase.org (www.mirbase.org)|130.88.97.249|:443... connected.\n",
      "HTTP request sent, awaiting response... 200 OK\n",
      "Length: 69381 (68K) [application/x-gzip]\n",
      "Saving to: ‘././Temp/miRBase_driven_data/mature_high_conf.fa.gz’\n",
      "\n",
      "mature_high_conf.fa 100%[===================>]  67.75K   227KB/s    in 0.3s    \n",
      "\n",
      "2022-04-09 19:11:29 (227 KB/s) - ‘././Temp/miRBase_driven_data/mature_high_conf.fa.gz’ saved [69381/69381]\n",
      "\n",
      "--2022-04-09 19:11:29--  https://www.mirbase.org/ftp/CURRENT/miRNA.str.gz\n",
      "Resolving www.mirbase.org (www.mirbase.org)... 130.88.97.249\n",
      "Connecting to www.mirbase.org (www.mirbase.org)|130.88.97.249|:443... connected.\n",
      "HTTP request sent, awaiting response... 200 OK\n",
      "Length: 3373763 (3.2M) [application/x-gzip]\n",
      "Saving to: ‘././Temp/miRBase_driven_data/miRNA.str.gz’\n",
      "\n",
      "miRNA.str.gz        100%[===================>]   3.22M  1.70MB/s    in 1.9s    \n",
      "\n",
      "2022-04-09 19:11:31 (1.70 MB/s) - ‘././Temp/miRBase_driven_data/miRNA.str.gz’ saved [3373763/3373763]\n",
      "\n",
      "--2022-04-09 19:11:32--  https://www.mirbase.org/ftp/CURRENT/miRNA.xls.gz\n",
      "Resolving www.mirbase.org (www.mirbase.org)... 130.88.97.249\n",
      "Connecting to www.mirbase.org (www.mirbase.org)|130.88.97.249|:443... connected.\n",
      "HTTP request sent, awaiting response... 200 OK\n",
      "Length: 2963404 (2.8M) [application/x-gzip]\n",
      "Saving to: ‘././Temp/miRBase_driven_data/miRNA.xls.gz’\n",
      "\n",
      "miRNA.xls.gz        100%[===================>]   2.83M  1.43MB/s    in 2.0s    \n",
      "\n",
      "2022-04-09 19:11:39 (1.43 MB/s) - ‘././Temp/miRBase_driven_data/miRNA.xls.gz’ saved [2963404/2963404]\n",
      "\n",
      "--2022-04-09 19:11:39--  https://www.mirbase.org/ftp/CURRENT/organisms.txt.gz\n",
      "Resolving www.mirbase.org (www.mirbase.org)... 130.88.97.249\n",
      "Connecting to www.mirbase.org (www.mirbase.org)|130.88.97.249|:443... connected.\n",
      "HTTP request sent, awaiting response... 200 OK\n",
      "Length: 6842 (6.7K) [application/x-gzip]\n",
      "Saving to: ‘././Temp/miRBase_driven_data/organisms.txt.gz’\n",
      "\n",
      "organisms.txt.gz    100%[===================>]   6.68K  --.-KB/s    in 0s      \n",
      "\n",
      "2022-04-09 19:11:40 (190 MB/s) - ‘././Temp/miRBase_driven_data/organisms.txt.gz’ saved [6842/6842]\n",
      "\n"
     ]
    }
   ],
   "source": [
    "!wget {base}/aliases.txt.gz -P ./{directory}/       ; gzip -d ./{directory}/aliases.txt.gz \n",
    "!wget {base}/hairpin.fa.gz -P ./{directory}/           ; gzip -d ./{directory}/hairpin.fa.gz \n",
    "!wget {base}/hairpin_high_conf.fa.gz -P ./{directory}/ ; gzip -d ./{directory}/hairpin_high_conf.fa.gz \n",
    "!wget {base}/mature.fa.gz -P ./{directory}/            ; gzip -d ./{directory}/mature.fa.gz \n",
    "!wget {base}/mature_high_conf.fa.gz -P ./{directory}/  ; gzip -d ./{directory}/mature_high_conf.fa.gz\n",
    "!wget {base}/miRNA.str.gz -P ./{directory}/            ; gzip -d ./{directory}/miRNA.str.gz \n",
    "!wget {base}/miRNA.xls.gz -P ./{directory}/            ; gzip -d ./{directory}/miRNA.xls.gz \n",
    "!wget {base}/organisms.txt.gz -P ./{directory}/        ; gzip -d ./{directory}/organisms.txt.gz"
   ]
  },
  {
   "cell_type": "code",
   "execution_count": 17,
   "metadata": {
    "ExecuteTime": {
     "end_time": "2022-04-09T14:41:40.721263Z",
     "start_time": "2022-04-09T14:41:40.575756Z"
    },
    "hidden": true
   },
   "outputs": [],
   "source": [
    "mature = fasta_to_df(f'./{directory}/mature.fa')\n",
    "mature_high_conf = fasta_to_df(f'./{directory}/mature_high_conf.fa')\n",
    "mature['trim tag'] = mature['tag'].apply(lambda line: ' '.join(line.split(' ')[:2]))\n",
    "mature['confidence'] = mature['trim tag'].isin(mature_high_conf['tag'])"
   ]
  },
  {
   "cell_type": "code",
   "execution_count": 18,
   "metadata": {
    "ExecuteTime": {
     "end_time": "2022-04-09T14:41:40.768031Z",
     "start_time": "2022-04-09T14:41:40.724980Z"
    },
    "hidden": true
   },
   "outputs": [
    {
     "name": "stdout",
     "output_type": "stream",
     "text": [
      "(48885, 5)\n"
     ]
    },
    {
     "data": {
      "text/html": [
       "<div>\n",
       "<style scoped>\n",
       "    .dataframe tbody tr th:only-of-type {\n",
       "        vertical-align: middle;\n",
       "    }\n",
       "\n",
       "    .dataframe tbody tr th {\n",
       "        vertical-align: top;\n",
       "    }\n",
       "\n",
       "    .dataframe thead th {\n",
       "        text-align: right;\n",
       "    }\n",
       "</style>\n",
       "<table border=\"1\" class=\"dataframe\">\n",
       "  <thead>\n",
       "    <tr style=\"text-align: right;\">\n",
       "      <th></th>\n",
       "      <th>tag</th>\n",
       "      <th>data</th>\n",
       "      <th>trim tag</th>\n",
       "      <th>confidence</th>\n",
       "      <th>organism</th>\n",
       "    </tr>\n",
       "  </thead>\n",
       "  <tbody>\n",
       "    <tr>\n",
       "      <th>0</th>\n",
       "      <td>cel-let-7-5p MIMAT0000001 Caenorhabditis elega...</td>\n",
       "      <td>UGAGGUAGUAGGUUGUAUAGUU</td>\n",
       "      <td>cel-let-7-5p MIMAT0000001</td>\n",
       "      <td>True</td>\n",
       "      <td>cel</td>\n",
       "    </tr>\n",
       "    <tr>\n",
       "      <th>1</th>\n",
       "      <td>cel-let-7-3p MIMAT0015091 Caenorhabditis elega...</td>\n",
       "      <td>CUAUGCAAUUUUCUACCUUACC</td>\n",
       "      <td>cel-let-7-3p MIMAT0015091</td>\n",
       "      <td>True</td>\n",
       "      <td>cel</td>\n",
       "    </tr>\n",
       "  </tbody>\n",
       "</table>\n",
       "</div>"
      ],
      "text/plain": [
       "                                                 tag                    data  \\\n",
       "0  cel-let-7-5p MIMAT0000001 Caenorhabditis elega...  UGAGGUAGUAGGUUGUAUAGUU   \n",
       "1  cel-let-7-3p MIMAT0015091 Caenorhabditis elega...  CUAUGCAAUUUUCUACCUUACC   \n",
       "\n",
       "                    trim tag  confidence organism  \n",
       "0  cel-let-7-5p MIMAT0000001        True      cel  \n",
       "1  cel-let-7-3p MIMAT0015091        True      cel  "
      ]
     },
     "execution_count": 18,
     "metadata": {},
     "output_type": "execute_result"
    }
   ],
   "source": [
    "mature['organism'] = mature['tag'].apply(lambda x: x[:3])\n",
    "print(mature.shape)\n",
    "mature.head(2)"
   ]
  },
  {
   "cell_type": "code",
   "execution_count": 19,
   "metadata": {
    "ExecuteTime": {
     "end_time": "2022-04-09T14:41:40.793985Z",
     "start_time": "2022-04-09T14:41:40.771382Z"
    },
    "hidden": true
   },
   "outputs": [
    {
     "name": "stdout",
     "output_type": "stream",
     "text": [
      "(285, 5)\n"
     ]
    },
    {
     "data": {
      "text/html": [
       "<div>\n",
       "<style scoped>\n",
       "    .dataframe tbody tr th:only-of-type {\n",
       "        vertical-align: middle;\n",
       "    }\n",
       "\n",
       "    .dataframe tbody tr th {\n",
       "        vertical-align: top;\n",
       "    }\n",
       "\n",
       "    .dataframe thead th {\n",
       "        text-align: right;\n",
       "    }\n",
       "</style>\n",
       "<table border=\"1\" class=\"dataframe\">\n",
       "  <thead>\n",
       "    <tr style=\"text-align: right;\">\n",
       "      <th></th>\n",
       "      <th>organism</th>\n",
       "      <th>division</th>\n",
       "      <th>name</th>\n",
       "      <th>tree</th>\n",
       "      <th>NCBI-taxid</th>\n",
       "    </tr>\n",
       "  </thead>\n",
       "  <tbody>\n",
       "    <tr>\n",
       "      <th>0</th>\n",
       "      <td>aqu</td>\n",
       "      <td>AQU</td>\n",
       "      <td>Amphimedon queenslandica</td>\n",
       "      <td>Metazoa;Porifera;</td>\n",
       "      <td>400682</td>\n",
       "    </tr>\n",
       "    <tr>\n",
       "      <th>1</th>\n",
       "      <td>nve</td>\n",
       "      <td>NVE</td>\n",
       "      <td>Nematostella vectensis</td>\n",
       "      <td>Metazoa;Cnidaria;</td>\n",
       "      <td>45351</td>\n",
       "    </tr>\n",
       "  </tbody>\n",
       "</table>\n",
       "</div>"
      ],
      "text/plain": [
       "  organism division                      name               tree  NCBI-taxid\n",
       "0      aqu      AQU  Amphimedon queenslandica  Metazoa;Porifera;      400682\n",
       "1      nve      NVE    Nematostella vectensis  Metazoa;Cnidaria;       45351"
      ]
     },
     "execution_count": 19,
     "metadata": {},
     "output_type": "execute_result"
    }
   ],
   "source": [
    "organism = pd.read_csv(f'./{directory}/organisms.txt',sep='\\t')\n",
    "organism.columns = [c.replace('#','') for c in organism.columns] # remove sharp from columns\n",
    "print(organism.shape)\n",
    "organism.head(2)"
   ]
  },
  {
   "cell_type": "code",
   "execution_count": 20,
   "metadata": {
    "ExecuteTime": {
     "end_time": "2022-04-09T14:41:40.805331Z",
     "start_time": "2022-04-09T14:41:40.796762Z"
    },
    "hidden": true
   },
   "outputs": [
    {
     "data": {
      "text/plain": [
       "['Viruses;',\n",
       " 'Mycetozoa;',\n",
       " 'Alveolata;',\n",
       " 'Metazoa;Porifera;',\n",
       " 'Metazoa;Cnidaria;',\n",
       " 'Viridiplantae;Chlorophyta;',\n",
       " 'Viridiplantae;Embryophyta;',\n",
       " 'Viridiplantae;Coniferophyta;',\n",
       " 'Viridiplantae;Magnoliophyta;',\n",
       " 'Metazoa;Bilateria;Deuterostoma;',\n",
       " 'Chromalveolata;Heterokontophyta;',\n",
       " 'Metazoa;Bilateria;Ecdysozoa;Nematoda;',\n",
       " 'Metazoa;Bilateria;Lophotrochozoa;Annelida;',\n",
       " 'Metazoa;Bilateria;Lophotrochozoa;Nemertea;',\n",
       " 'Metazoa;Bilateria;Lophotrochozoa;Mollusca;',\n",
       " 'Viridiplantae;Magnoliophyta;monocotyledons;',\n",
       " 'Metazoa;Bilateria;Deuterostoma;Hemichordata;',\n",
       " 'Metazoa;Bilateria;Deuterostoma;Echinodermata;',\n",
       " 'Metazoa;Bilateria;Lophotrochozoa;Brachiopoda;',\n",
       " 'Metazoa;Bilateria;Ecdysozoa;Arthropoda;Hexapoda;',\n",
       " 'Metazoa;Bilateria;Ecdysozoa;Arthropoda;Crustacea;',\n",
       " 'Metazoa;Bilateria;Lophotrochozoa;Platyhelminthes;',\n",
       " 'Metazoa;Bilateria;Ecdysozoa;Arthropoda;Chelicerata;',\n",
       " 'Metazoa;Bilateria;Ecdysozoa;Arthropoda;Mandibulata;',\n",
       " 'Viridiplantae;Magnoliophyta;eudicotyledons;Poaceae;',\n",
       " 'Metazoa;Bilateria;Deuterostoma;Chordata;Urochordata;',\n",
       " 'Viridiplantae;Magnoliophyta;eudicotyledons;Fabaceae;',\n",
       " 'Viridiplantae;Magnoliophyta;eudicotyledons;Vitaceae;',\n",
       " 'Viridiplantae;Magnoliophyta;eudicotyledons;Rosaceae;',\n",
       " 'Viridiplantae;Magnoliophyta;eudicotyledons;Rutaceae;',\n",
       " 'Viridiplantae;Magnoliophyta;eudicotyledons;Lamiales;',\n",
       " 'Viridiplantae;Magnoliophyta;eudicotyledons;Linaceae;',\n",
       " 'Viridiplantae;Magnoliophyta;eudicotyledons;Malvaceae;',\n",
       " 'Viridiplantae;Magnoliophyta;eudicotyledons;Myrtaceae;',\n",
       " 'Viridiplantae;Magnoliophyta;eudicotyledons;Caricaceae;',\n",
       " 'Viridiplantae;Magnoliophyta;eudicotyledons;Salicaceae;',\n",
       " 'Viridiplantae;Magnoliophyta;eudicotyledons;Solanaceae;',\n",
       " 'Viridiplantae;Magnoliophyta;eudicotyledons;Asteraceae;',\n",
       " 'Viridiplantae;Magnoliophyta;eudicotyledons;Araliaceae;',\n",
       " 'Viridiplantae;Magnoliophyta;eudicotyledons;Paeoniaceae;',\n",
       " 'Metazoa;Bilateria;Deuterostoma;Chordata;Cephalochordata;',\n",
       " 'Metazoa;Bilateria;Deuterostoma;Chordata;Vertebrata;Aves;',\n",
       " 'Viridiplantae;Magnoliophyta;eudicotyledons;Brassicaceae;',\n",
       " 'Viridiplantae;Magnoliophyta;eudicotyledons;Papaveraceae;',\n",
       " 'Viridiplantae;Magnoliophyta;eudicotyledons;Ranunculaceae;',\n",
       " 'Viridiplantae;Magnoliophyta;eudicotyledons;Euphorbiaceae;',\n",
       " 'Viridiplantae;Magnoliophyta;eudicotyledons;Cucurbitaceae;',\n",
       " 'Viridiplantae;Magnoliophyta;eudicotyledons;Amaranthaceae;',\n",
       " 'Viridiplantae;Magnoliophyta;eudicotyledons;Rhizophoraceae;',\n",
       " 'Metazoa;Bilateria;Deuterostoma;Chordata;Vertebrata;Sauria;',\n",
       " 'Metazoa;Bilateria;Deuterostoma;Chordata;Vertebrata;Amphibia;',\n",
       " 'Metazoa;Bilateria;Deuterostoma;Chordata;Vertebrata;Teleostei;',\n",
       " 'Metazoa;Bilateria;Deuterostoma;Chordata;Vertebrata;Gnathostomata;',\n",
       " 'Metazoa;Bilateria;Deuterostoma;Chordata;Vertebrata;Mammalia;Suina;',\n",
       " 'Metazoa;Bilateria;Deuterostoma;Chordata;Vertebrata;Agnathostomata;',\n",
       " 'Metazoa;Bilateria;Deuterostoma;Chordata;Vertebrata;Mammalia;Rodentia;',\n",
       " 'Metazoa;Bilateria;Deuterostoma;Chordata;Vertebrata;Mammalia;Carnivora;',\n",
       " 'Metazoa;Bilateria;Deuterostoma;Chordata;Vertebrata;Mammalia;Cingulata;',\n",
       " 'Metazoa;Bilateria;Deuterostoma;Chordata;Vertebrata;Mammalia;Metatheria;',\n",
       " 'Metazoa;Bilateria;Deuterostoma;Chordata;Vertebrata;Mammalia;Ruminantia;',\n",
       " 'Metazoa;Bilateria;Deuterostoma;Chordata;Vertebrata;Mammalia;Lagomorpha;',\n",
       " 'Metazoa;Bilateria;Deuterostoma;Chordata;Vertebrata;Mammalia;Scandentia;',\n",
       " 'Metazoa;Bilateria;Deuterostoma;Chordata;Vertebrata;Mammalia;Afrotheria;',\n",
       " 'Metazoa;Bilateria;Deuterostoma;Chordata;Vertebrata;Mammalia;Prototheria;',\n",
       " 'Metazoa;Bilateria;Deuterostoma;Chordata;Vertebrata;Mammalia;Laurasiatheria;',\n",
       " 'Metazoa;Bilateria;Deuterostoma;Chordata;Vertebrata;Mammalia;Primates;Cebidae;',\n",
       " 'Metazoa;Bilateria;Deuterostoma;Chordata;Vertebrata;Mammalia;Primates;Atelidae;',\n",
       " 'Metazoa;Bilateria;Deuterostoma;Chordata;Vertebrata;Mammalia;Primates;Hominidae;',\n",
       " 'Metazoa;Bilateria;Deuterostoma;Chordata;Vertebrata;Mammalia;Primates;Lemuridae;',\n",
       " 'Metazoa;Bilateria;Deuterostoma;Chordata;Vertebrata;Mammalia;Primates;Galagidae;',\n",
       " 'Metazoa;Bilateria;Deuterostoma;Chordata;Vertebrata;Mammalia;Primates;Hylobatidae;',\n",
       " 'Metazoa;Bilateria;Deuterostoma;Chordata;Vertebrata;Mammalia;Primates;Cheirogaleidae;',\n",
       " 'Metazoa;Bilateria;Deuterostoma;Chordata;Vertebrata;Mammalia;Primates;Daubentoniidae;',\n",
       " 'Metazoa;Bilateria;Deuterostoma;Chordata;Vertebrata;Mammalia;Primates;Cercopithecidae;']"
      ]
     },
     "execution_count": 20,
     "metadata": {},
     "output_type": "execute_result"
    }
   ],
   "source": [
    "items = list(organism['tree'].unique())\n",
    "items.sort(key=len)\n",
    "items"
   ]
  },
  {
   "cell_type": "code",
   "execution_count": 21,
   "metadata": {
    "ExecuteTime": {
     "end_time": "2022-04-09T14:41:40.824809Z",
     "start_time": "2022-04-09T14:41:40.808122Z"
    },
    "hidden": true
   },
   "outputs": [
    {
     "name": "stdout",
     "output_type": "stream",
     "text": [
      "(86, 5)\n"
     ]
    },
    {
     "data": {
      "text/html": [
       "<div>\n",
       "<style scoped>\n",
       "    .dataframe tbody tr th:only-of-type {\n",
       "        vertical-align: middle;\n",
       "    }\n",
       "\n",
       "    .dataframe tbody tr th {\n",
       "        vertical-align: top;\n",
       "    }\n",
       "\n",
       "    .dataframe thead th {\n",
       "        text-align: right;\n",
       "    }\n",
       "</style>\n",
       "<table border=\"1\" class=\"dataframe\">\n",
       "  <thead>\n",
       "    <tr style=\"text-align: right;\">\n",
       "      <th></th>\n",
       "      <th>organism</th>\n",
       "      <th>division</th>\n",
       "      <th>name</th>\n",
       "      <th>tree</th>\n",
       "      <th>NCBI-taxid</th>\n",
       "    </tr>\n",
       "  </thead>\n",
       "  <tbody>\n",
       "    <tr>\n",
       "      <th>66</th>\n",
       "      <td>cre</td>\n",
       "      <td>CRE</td>\n",
       "      <td>Chlamydomonas reinhardtii</td>\n",
       "      <td>Viridiplantae;Chlorophyta;</td>\n",
       "      <td>3055</td>\n",
       "    </tr>\n",
       "    <tr>\n",
       "      <th>67</th>\n",
       "      <td>pta</td>\n",
       "      <td>PTA</td>\n",
       "      <td>Pinus taeda</td>\n",
       "      <td>Viridiplantae;Coniferophyta;</td>\n",
       "      <td>3352</td>\n",
       "    </tr>\n",
       "    <tr>\n",
       "      <th>68</th>\n",
       "      <td>ppt</td>\n",
       "      <td>PPT</td>\n",
       "      <td>Physcomitrella patens</td>\n",
       "      <td>Viridiplantae;Embryophyta;</td>\n",
       "      <td>3218</td>\n",
       "    </tr>\n",
       "    <tr>\n",
       "      <th>69</th>\n",
       "      <td>smo</td>\n",
       "      <td>SMO</td>\n",
       "      <td>Selaginella moellendorffii</td>\n",
       "      <td>Viridiplantae;Embryophyta;</td>\n",
       "      <td>88036</td>\n",
       "    </tr>\n",
       "    <tr>\n",
       "      <th>70</th>\n",
       "      <td>ath</td>\n",
       "      <td>ATH</td>\n",
       "      <td>Arabidopsis thaliana</td>\n",
       "      <td>Viridiplantae;Magnoliophyta;eudicotyledons;Bra...</td>\n",
       "      <td>3702</td>\n",
       "    </tr>\n",
       "  </tbody>\n",
       "</table>\n",
       "</div>"
      ],
      "text/plain": [
       "   organism division                        name  \\\n",
       "66      cre      CRE   Chlamydomonas reinhardtii   \n",
       "67      pta      PTA                 Pinus taeda   \n",
       "68      ppt      PPT       Physcomitrella patens   \n",
       "69      smo      SMO  Selaginella moellendorffii   \n",
       "70      ath      ATH        Arabidopsis thaliana   \n",
       "\n",
       "                                                 tree  NCBI-taxid  \n",
       "66                         Viridiplantae;Chlorophyta;        3055  \n",
       "67                       Viridiplantae;Coniferophyta;        3352  \n",
       "68                         Viridiplantae;Embryophyta;        3218  \n",
       "69                         Viridiplantae;Embryophyta;       88036  \n",
       "70  Viridiplantae;Magnoliophyta;eudicotyledons;Bra...        3702  "
      ]
     },
     "execution_count": 21,
     "metadata": {},
     "output_type": "execute_result"
    }
   ],
   "source": [
    "selectedTree = organism[organism['tree'].apply(lambda x: \"Viridiplantae;\" in x)]\n",
    "print(selectedTree.shape)\n",
    "selectedTree.head(5)"
   ]
  },
  {
   "cell_type": "code",
   "execution_count": 22,
   "metadata": {
    "ExecuteTime": {
     "end_time": "2022-04-09T14:41:40.859009Z",
     "start_time": "2022-04-09T14:41:40.827622Z"
    },
    "hidden": true,
    "scrolled": false
   },
   "outputs": [
    {
     "name": "stdout",
     "output_type": "stream",
     "text": [
      "(10414, 5)\n"
     ]
    },
    {
     "data": {
      "text/html": [
       "<div>\n",
       "<style scoped>\n",
       "    .dataframe tbody tr th:only-of-type {\n",
       "        vertical-align: middle;\n",
       "    }\n",
       "\n",
       "    .dataframe tbody tr th {\n",
       "        vertical-align: top;\n",
       "    }\n",
       "\n",
       "    .dataframe thead th {\n",
       "        text-align: right;\n",
       "    }\n",
       "</style>\n",
       "<table border=\"1\" class=\"dataframe\">\n",
       "  <thead>\n",
       "    <tr style=\"text-align: right;\">\n",
       "      <th></th>\n",
       "      <th>tag</th>\n",
       "      <th>data</th>\n",
       "      <th>trim tag</th>\n",
       "      <th>confidence</th>\n",
       "      <th>organism</th>\n",
       "    </tr>\n",
       "  </thead>\n",
       "  <tbody>\n",
       "    <tr>\n",
       "      <th>316</th>\n",
       "      <td>ath-miR156a-5p MIMAT0000166 Arabidopsis thalia...</td>\n",
       "      <td>UGACAGAAGAGAGUGAGCAC</td>\n",
       "      <td>ath-miR156a-5p MIMAT0000166</td>\n",
       "      <td>False</td>\n",
       "      <td>ath</td>\n",
       "    </tr>\n",
       "  </tbody>\n",
       "</table>\n",
       "</div>"
      ],
      "text/plain": [
       "                                                   tag                  data  \\\n",
       "316  ath-miR156a-5p MIMAT0000166 Arabidopsis thalia...  UGACAGAAGAGAGUGAGCAC   \n",
       "\n",
       "                        trim tag  confidence organism  \n",
       "316  ath-miR156a-5p MIMAT0000166       False      ath  "
      ]
     },
     "execution_count": 22,
     "metadata": {},
     "output_type": "execute_result"
    }
   ],
   "source": [
    "selected = mature[mature['organism'].isin(selectedTree['organism'])]\n",
    "print(selected.shape)\n",
    "selected.head(1)"
   ]
  },
  {
   "cell_type": "code",
   "execution_count": 23,
   "metadata": {
    "ExecuteTime": {
     "end_time": "2022-04-09T14:41:41.189142Z",
     "start_time": "2022-04-09T14:41:40.862949Z"
    },
    "hidden": true
   },
   "outputs": [],
   "source": [
    "df_to_fasta(selected,'./Temp/mature_microRNA_queries.fasta')"
   ]
  },
  {
   "cell_type": "code",
   "execution_count": 24,
   "metadata": {
    "ExecuteTime": {
     "end_time": "2022-04-09T14:41:41.197816Z",
     "start_time": "2022-04-09T14:41:41.192670Z"
    },
    "hidden": true
   },
   "outputs": [],
   "source": [
    "# use this cell for extracting str files for hairpin.fa\n",
    "'''\n",
    "tags = list(selected['tag'].apply(lambda x : x.split(' ')[0]))\n",
    "with open(f'./{directory}/miRNA.str', 'r') as file:\n",
    "    text = file.read()\n",
    "text = text.split('\\n')\n",
    "\n",
    "result = ''\n",
    "for i in range(0,len(text),8):\n",
    "    if(text[i].split(' ')[0][1:] in tags):\n",
    "        result += '\\n'.join(text[i:i+8]) + \"\\n\"        \n",
    "with open(f'./high_conf_hairpin.str', 'w') as file:\n",
    "    file.write(result)\n",
    "''';"
   ]
  },
  {
   "cell_type": "markdown",
   "metadata": {
    "heading_collapsed": true
   },
   "source": [
    "# Remove redundant"
   ]
  },
  {
   "cell_type": "markdown",
   "metadata": {
    "hidden": true
   },
   "source": [
    "## cdhit-est"
   ]
  },
  {
   "cell_type": "code",
   "execution_count": 25,
   "metadata": {
    "ExecuteTime": {
     "end_time": "2022-04-09T14:41:56.198481Z",
     "start_time": "2022-04-09T14:41:55.952897Z"
    },
    "code_folding": [],
    "hidden": true
   },
   "outputs": [
    {
     "name": "stdout",
     "output_type": "stream",
     "text": [
      "================================================================\n",
      "Program: CD-HIT, V4.8.1 (+OpenMP), Oct 23 2021, 21:45:39\n",
      "Command: ./Software/cdhit/cd-hit-est -i\n",
      "         ./Temp/mature_microRNA_queries.fasta -o\n",
      "         ./Temp/NR_mature_microRNA_queries.fasta -c 1 -r 0 -G 1\n",
      "         -g 1 -b 30 -l 10 -aL 0 -AL 99999999 -aS 0 -AS 99999999\n",
      "         -s 0 -S 0\n",
      "\n",
      "Started: Sat Apr  9 19:11:55 2022\n",
      "================================================================\n",
      "                            Output                              \n",
      "----------------------------------------------------------------\n",
      "total seq: 10414\n",
      "longest and shortest : 28 and 17\n",
      "Total letters: 222978\n",
      "Sequences have been sorted\n",
      "\n",
      "Approximated minimal memory consumption:\n",
      "Sequence        : 1M\n",
      "Buffer          : 1 X 12M = 12M\n",
      "Table           : 1 X 16M = 16M\n",
      "Miscellaneous   : 0M\n",
      "Total           : 30M\n",
      "\n",
      "Table limit with the given memory limit:\n",
      "Max number of representatives: 4000000\n",
      "Max number of word counting entries: 96149440\n",
      "\n",
      "comparing sequences from          0  to      10414\n",
      "..........    10000  finished       5817  clusters\n",
      "\n",
      "    10414  finished       6028  clusters\n",
      "\n",
      "Approximated maximum memory consumption: 31M\n",
      "writing new database\n",
      "writing clustering information\n",
      "program completed !\n",
      "\n",
      "Total CPU time 0.12\n"
     ]
    }
   ],
   "source": [
    "!./Software/cdhit/cd-hit-est -i ./Temp/mature_microRNA_queries.fasta  -o ./Temp/NR_mature_microRNA_queries.fasta \\\n",
    "    -c 1 -r 0 -G 1 -g 1 -b 30 -l 10 -aL 0 -AL 99999999 -aS 0 \\\n",
    "    -AS 99999999 -s 0 -S 0"
   ]
  },
  {
   "cell_type": "markdown",
   "metadata": {
    "hidden": true
   },
   "source": [
    "## reformat"
   ]
  },
  {
   "cell_type": "code",
   "execution_count": 26,
   "metadata": {
    "ExecuteTime": {
     "end_time": "2022-04-09T14:42:14.872483Z",
     "start_time": "2022-04-09T14:42:14.833330Z"
    },
    "hidden": true
   },
   "outputs": [
    {
     "name": "stdout",
     "output_type": "stream",
     "text": [
      "(10414, 2)\n"
     ]
    },
    {
     "data": {
      "text/html": [
       "<div>\n",
       "<style scoped>\n",
       "    .dataframe tbody tr th:only-of-type {\n",
       "        vertical-align: middle;\n",
       "    }\n",
       "\n",
       "    .dataframe tbody tr th {\n",
       "        vertical-align: top;\n",
       "    }\n",
       "\n",
       "    .dataframe thead th {\n",
       "        text-align: right;\n",
       "    }\n",
       "</style>\n",
       "<table border=\"1\" class=\"dataframe\">\n",
       "  <thead>\n",
       "    <tr style=\"text-align: right;\">\n",
       "      <th></th>\n",
       "      <th>seqid</th>\n",
       "      <th>cluster</th>\n",
       "    </tr>\n",
       "  </thead>\n",
       "  <tbody>\n",
       "    <tr>\n",
       "      <th>0</th>\n",
       "      <td>cst-miR11332</td>\n",
       "      <td>C0</td>\n",
       "    </tr>\n",
       "    <tr>\n",
       "      <th>1</th>\n",
       "      <td>stu-miR7994b-5p</td>\n",
       "      <td>C1</td>\n",
       "    </tr>\n",
       "  </tbody>\n",
       "</table>\n",
       "</div>"
      ],
      "text/plain": [
       "             seqid cluster\n",
       "0     cst-miR11332      C0\n",
       "1  stu-miR7994b-5p      C1"
      ]
     },
     "execution_count": 26,
     "metadata": {},
     "output_type": "execute_result"
    }
   ],
   "source": [
    "with open('./Temp/NR_mature_microRNA_queries.fasta.clstr','r') as file:\n",
    "    text = file.read()\n",
    "lines = [line for line in text.split('\\n') if len(line) > 0]\n",
    "cluster = []\n",
    "seqid = []\n",
    "last_cluster = \"\"\n",
    "for l in lines:\n",
    "    if(l[0]=='>'):        \n",
    "        last_cluster = l.replace('>Cluster ',\"C\")\n",
    "    else:        \n",
    "        cluster.append(last_cluster)\n",
    "        seqid.append(l.split(', >')[1].split('...')[0])                \n",
    "seq2cluster = pd.DataFrame({'seqid': seqid,'cluster': cluster})\n",
    "print(seq2cluster.shape)\n",
    "seq2cluster.head(2)    "
   ]
  },
  {
   "cell_type": "code",
   "execution_count": 27,
   "metadata": {
    "ExecuteTime": {
     "end_time": "2022-04-09T14:42:26.773249Z",
     "start_time": "2022-04-09T14:42:26.626136Z"
    },
    "hidden": true
   },
   "outputs": [
    {
     "name": "stdout",
     "output_type": "stream",
     "text": [
      "(10414, 4)\n"
     ]
    },
    {
     "data": {
      "text/html": [
       "<div>\n",
       "<style scoped>\n",
       "    .dataframe tbody tr th:only-of-type {\n",
       "        vertical-align: middle;\n",
       "    }\n",
       "\n",
       "    .dataframe tbody tr th {\n",
       "        vertical-align: top;\n",
       "    }\n",
       "\n",
       "    .dataframe thead th {\n",
       "        text-align: right;\n",
       "    }\n",
       "</style>\n",
       "<table border=\"1\" class=\"dataframe\">\n",
       "  <thead>\n",
       "    <tr style=\"text-align: right;\">\n",
       "      <th></th>\n",
       "      <th>cluster</th>\n",
       "      <th>seqid</th>\n",
       "      <th>tag</th>\n",
       "      <th>confidence</th>\n",
       "    </tr>\n",
       "  </thead>\n",
       "  <tbody>\n",
       "    <tr>\n",
       "      <th>0</th>\n",
       "      <td>C5495</td>\n",
       "      <td>ath-miR156a-5p</td>\n",
       "      <td>ath-miR156a-5p MIMAT0000166 Arabidopsis thalia...</td>\n",
       "      <td>False</td>\n",
       "    </tr>\n",
       "    <tr>\n",
       "      <th>1</th>\n",
       "      <td>C1199</td>\n",
       "      <td>ath-miR156a-3p</td>\n",
       "      <td>ath-miR156a-3p MIMAT0031865 Arabidopsis thalia...</td>\n",
       "      <td>False</td>\n",
       "    </tr>\n",
       "  </tbody>\n",
       "</table>\n",
       "</div>"
      ],
      "text/plain": [
       "  cluster           seqid                                                tag  \\\n",
       "0   C5495  ath-miR156a-5p  ath-miR156a-5p MIMAT0000166 Arabidopsis thalia...   \n",
       "1   C1199  ath-miR156a-3p  ath-miR156a-3p MIMAT0031865 Arabidopsis thalia...   \n",
       "\n",
       "   confidence  \n",
       "0       False  \n",
       "1       False  "
      ]
     },
     "metadata": {},
     "output_type": "display_data"
    }
   ],
   "source": [
    "df = fasta_to_df(\"./Temp/mature_microRNA_queries.fasta\")\n",
    "df['accession'] = df['tag'].apply(lambda x : x.split(' ')[0])\n",
    "seq2cluster = pd.merge(df,seq2cluster,how=\"inner\",left_on='accession',right_on=\"seqid\")\n",
    "seq2cluster = pd.merge(seq2cluster, mature,how=\"inner\",left_on='tag',right_on=\"tag\")[['cluster','seqid','tag', 'confidence']]\n",
    "print(seq2cluster.shape)\n",
    "display(seq2cluster.head(2))\n",
    "seq2cluster.to_csv('./Temp/seq2cluster.csv',index=False)"
   ]
  },
  {
   "cell_type": "code",
   "execution_count": 28,
   "metadata": {
    "ExecuteTime": {
     "end_time": "2022-04-09T14:42:28.394843Z",
     "start_time": "2022-04-09T14:42:28.372145Z"
    },
    "hidden": true
   },
   "outputs": [
    {
     "data": {
      "text/html": [
       "<div>\n",
       "<style scoped>\n",
       "    .dataframe tbody tr th:only-of-type {\n",
       "        vertical-align: middle;\n",
       "    }\n",
       "\n",
       "    .dataframe tbody tr th {\n",
       "        vertical-align: top;\n",
       "    }\n",
       "\n",
       "    .dataframe thead th {\n",
       "        text-align: right;\n",
       "    }\n",
       "</style>\n",
       "<table border=\"1\" class=\"dataframe\">\n",
       "  <thead>\n",
       "    <tr style=\"text-align: right;\">\n",
       "      <th></th>\n",
       "      <th>cluster</th>\n",
       "      <th>seqid</th>\n",
       "      <th>tag</th>\n",
       "      <th>confidence</th>\n",
       "    </tr>\n",
       "  </thead>\n",
       "  <tbody>\n",
       "    <tr>\n",
       "      <th>9422</th>\n",
       "      <td>C0</td>\n",
       "      <td>cst-miR11332</td>\n",
       "      <td>cst-miR11332 MIMAT0044622 Cucumis sativus miR1...</td>\n",
       "      <td>False</td>\n",
       "    </tr>\n",
       "    <tr>\n",
       "      <th>7002</th>\n",
       "      <td>C1</td>\n",
       "      <td>stu-miR7994b-5p</td>\n",
       "      <td>stu-miR7994b-5p MIMAT0031188 Solanum tuberosum...</td>\n",
       "      <td>False</td>\n",
       "    </tr>\n",
       "  </tbody>\n",
       "</table>\n",
       "</div>"
      ],
      "text/plain": [
       "     cluster            seqid  \\\n",
       "9422      C0     cst-miR11332   \n",
       "7002      C1  stu-miR7994b-5p   \n",
       "\n",
       "                                                    tag  confidence  \n",
       "9422  cst-miR11332 MIMAT0044622 Cucumis sativus miR1...       False  \n",
       "7002  stu-miR7994b-5p MIMAT0031188 Solanum tuberosum...       False  "
      ]
     },
     "execution_count": 28,
     "metadata": {},
     "output_type": "execute_result"
    }
   ],
   "source": [
    "# todo: sorted first by cluster then by seqid\n",
    "seq2cluster.sort_values(\"cluster\").head(2)"
   ]
  },
  {
   "cell_type": "code",
   "execution_count": 29,
   "metadata": {
    "ExecuteTime": {
     "end_time": "2022-04-09T14:42:29.821317Z",
     "start_time": "2022-04-09T14:42:29.618804Z"
    },
    "hidden": true
   },
   "outputs": [
    {
     "name": "stdout",
     "output_type": "stream",
     "text": [
      "(6028, 2)\n"
     ]
    }
   ],
   "source": [
    "df = fasta_to_df(\"./Temp/NR_mature_microRNA_queries.fasta\")\n",
    "df['tag'] = df['tag'].apply(lambda x : x.split(' ')[0])\n",
    "df = pd.merge(df,seq2cluster,how=\"inner\",left_on='tag',right_on=\"seqid\")[['cluster','data']]\n",
    "\n",
    "lines = []\n",
    "df.apply(lambda row: lines.append(f\">{row['cluster']}\\n{row['data']}\\n\"),axis=1)\n",
    "print(df.shape)\n",
    "with open('./Temp/BLASTn_queries.fasta','w') as file:\n",
    "    file.write(''.join(lines))"
   ]
  },
  {
   "cell_type": "markdown",
   "metadata": {
    "heading_collapsed": true
   },
   "source": [
    "# BlastN"
   ]
  },
  {
   "cell_type": "markdown",
   "metadata": {
    "hidden": true
   },
   "source": [
    "!sudo apt-get install ncbi-blast+\n"
   ]
  },
  {
   "cell_type": "code",
   "execution_count": 30,
   "metadata": {
    "ExecuteTime": {
     "end_time": "2022-04-09T14:42:56.215914Z",
     "start_time": "2022-04-09T14:42:41.944011Z"
    },
    "hidden": true
   },
   "outputs": [
    {
     "name": "stdout",
     "output_type": "stream",
     "text": [
      "\n",
      "\n",
      "Building a new DB, current time: 04/09/2022 19:12:42\n",
      "New DB name:   /home/jupyter/plant_microRNA_prediction/Temp/blastn_database\n",
      "New DB title:  input_genome.fna\n",
      "Sequence type: Nucleotide\n",
      "Keep MBits: T\n",
      "Maximum file size: 1000000000B\n",
      "Adding sequences from FASTA; added 126142 sequences in 13.1968 seconds.\n"
     ]
    }
   ],
   "source": [
    "!makeblastdb -in input_genome.fna \\\n",
    "             -dbtype nucl \\\n",
    "             -out ./Temp/blastn_database"
   ]
  },
  {
   "cell_type": "code",
   "execution_count": 31,
   "metadata": {
    "ExecuteTime": {
     "end_time": "2022-04-09T14:42:56.226827Z",
     "start_time": "2022-04-09T14:42:56.220443Z"
    },
    "hidden": true
   },
   "outputs": [],
   "source": [
    "header = 'qseqid sseqid qstart qend sstart send qseq sseq evalue bitscore score length pident nident mismatch positive gapopen gaps ppos frames qframe sframe sstrand qcovs qcovhsp qlen slen'"
   ]
  },
  {
   "cell_type": "code",
   "execution_count": 32,
   "metadata": {
    "ExecuteTime": {
     "end_time": "2022-04-09T14:45:09.918670Z",
     "start_time": "2022-04-09T14:42:56.230579Z"
    },
    "hidden": true
   },
   "outputs": [],
   "source": [
    "!blastn -query ./Temp/BLASTn_queries.fasta \\\n",
    "        -out ./Temp/BLASTn_result \\\n",
    "        -num_threads {mp.cpu_count()} \\\n",
    "        -db ./Temp/blastn_database \\\n",
    "        -word_size 7 \\\n",
    "        -penalty -3 \\\n",
    "        -reward 2 \\\n",
    "        -gapopen 5 \\\n",
    "        -gapextend 2 \\\n",
    "        -outfmt '6 qseqid sseqid qstart qend sstart send qseq sseq evalue bitscore score length pident nident mismatch positive gapopen gaps ppos frames qframe sframe sstrand qcovs qcovhsp qlen slen'       "
   ]
  },
  {
   "cell_type": "code",
   "execution_count": 38,
   "metadata": {
    "ExecuteTime": {
     "end_time": "2022-04-09T14:46:51.824623Z",
     "start_time": "2022-04-09T14:46:50.666731Z"
    },
    "hidden": true,
    "scrolled": false
   },
   "outputs": [
    {
     "name": "stdout",
     "output_type": "stream",
     "text": [
      "(326849, 27)\n"
     ]
    },
    {
     "data": {
      "text/html": [
       "<div>\n",
       "<style scoped>\n",
       "    .dataframe tbody tr th:only-of-type {\n",
       "        vertical-align: middle;\n",
       "    }\n",
       "\n",
       "    .dataframe tbody tr th {\n",
       "        vertical-align: top;\n",
       "    }\n",
       "\n",
       "    .dataframe thead th {\n",
       "        text-align: right;\n",
       "    }\n",
       "</style>\n",
       "<table border=\"1\" class=\"dataframe\">\n",
       "  <thead>\n",
       "    <tr style=\"text-align: right;\">\n",
       "      <th></th>\n",
       "      <th>qseqid</th>\n",
       "      <th>sseqid</th>\n",
       "      <th>qstart</th>\n",
       "      <th>qend</th>\n",
       "      <th>sstart</th>\n",
       "      <th>send</th>\n",
       "      <th>qseq</th>\n",
       "      <th>sseq</th>\n",
       "      <th>evalue</th>\n",
       "      <th>bitscore</th>\n",
       "      <th>...</th>\n",
       "      <th>gaps</th>\n",
       "      <th>ppos</th>\n",
       "      <th>frames</th>\n",
       "      <th>qframe</th>\n",
       "      <th>sframe</th>\n",
       "      <th>sstrand</th>\n",
       "      <th>qcovs</th>\n",
       "      <th>qcovhsp</th>\n",
       "      <th>qlen</th>\n",
       "      <th>slen</th>\n",
       "    </tr>\n",
       "  </thead>\n",
       "  <tbody>\n",
       "    <tr>\n",
       "      <th>0</th>\n",
       "      <td>C5495</td>\n",
       "      <td>AMWY02099822.1</td>\n",
       "      <td>1</td>\n",
       "      <td>20</td>\n",
       "      <td>1769</td>\n",
       "      <td>1750</td>\n",
       "      <td>TGACAGAAGAGAGTGAGCAC</td>\n",
       "      <td>TGACAGAAGAGAGTGAGCAC</td>\n",
       "      <td>0.004</td>\n",
       "      <td>37.4</td>\n",
       "      <td>...</td>\n",
       "      <td>0</td>\n",
       "      <td>100.0</td>\n",
       "      <td>1/-1</td>\n",
       "      <td>1</td>\n",
       "      <td>-1</td>\n",
       "      <td>minus</td>\n",
       "      <td>100</td>\n",
       "      <td>100</td>\n",
       "      <td>20</td>\n",
       "      <td>3308</td>\n",
       "    </tr>\n",
       "    <tr>\n",
       "      <th>1</th>\n",
       "      <td>C5495</td>\n",
       "      <td>AMWY02082313.1</td>\n",
       "      <td>1</td>\n",
       "      <td>20</td>\n",
       "      <td>5954</td>\n",
       "      <td>5973</td>\n",
       "      <td>TGACAGAAGAGAGTGAGCAC</td>\n",
       "      <td>TGACAGAAGAGAGTGAGCAC</td>\n",
       "      <td>0.004</td>\n",
       "      <td>37.4</td>\n",
       "      <td>...</td>\n",
       "      <td>0</td>\n",
       "      <td>100.0</td>\n",
       "      <td>1/1</td>\n",
       "      <td>1</td>\n",
       "      <td>1</td>\n",
       "      <td>plus</td>\n",
       "      <td>100</td>\n",
       "      <td>100</td>\n",
       "      <td>20</td>\n",
       "      <td>8471</td>\n",
       "    </tr>\n",
       "  </tbody>\n",
       "</table>\n",
       "<p>2 rows × 27 columns</p>\n",
       "</div>"
      ],
      "text/plain": [
       "  qseqid          sseqid  qstart  qend  sstart  send                  qseq  \\\n",
       "0  C5495  AMWY02099822.1       1    20    1769  1750  TGACAGAAGAGAGTGAGCAC   \n",
       "1  C5495  AMWY02082313.1       1    20    5954  5973  TGACAGAAGAGAGTGAGCAC   \n",
       "\n",
       "                   sseq  evalue  bitscore  ...  gaps   ppos  frames  qframe  \\\n",
       "0  TGACAGAAGAGAGTGAGCAC   0.004      37.4  ...     0  100.0    1/-1       1   \n",
       "1  TGACAGAAGAGAGTGAGCAC   0.004      37.4  ...     0  100.0     1/1       1   \n",
       "\n",
       "   sframe  sstrand  qcovs  qcovhsp  qlen  slen  \n",
       "0      -1    minus    100      100    20  3308  \n",
       "1       1     plus    100      100    20  8471  \n",
       "\n",
       "[2 rows x 27 columns]"
      ]
     },
     "execution_count": 38,
     "metadata": {},
     "output_type": "execute_result"
    }
   ],
   "source": [
    "df_blastn = pd.read_csv('./Temp/BLASTn_result', sep='\\t',header=None)\n",
    "df_blastn.columns = header.replace(\"  \",\" \").split(\" \")\n",
    "print(df_blastn.shape)\n",
    "df_blastn.head(2)"
   ]
  },
  {
   "cell_type": "code",
   "execution_count": 39,
   "metadata": {
    "ExecuteTime": {
     "end_time": "2022-04-09T14:48:07.785219Z",
     "start_time": "2022-04-09T14:46:51.827802Z"
    },
    "hidden": true
   },
   "outputs": [],
   "source": [
    "# alignment length adjustment\n",
    "def blastn_adjust(row):\n",
    "    if(row['sstrand'] == \"plus\"):        \n",
    "        row['sstart'] = max(1, row['sstart'] - (row['qstart'] - 1))\n",
    "        row['send'] = min(row['slen'], row['send'] + (row['qlen'] - row['qend']))\n",
    "    if(row['sstrand'] == \"minus\"):        \n",
    "        row['send'] = max(1, row['send'] - (row['qstart'] - 1 ))\n",
    "        row['sstart'] = min(row['slen'], row['sstart'] + (row['qlen'] - row['qend'] ))\n",
    "    return row\n",
    "    \n",
    "df_blastn = df_blastn.apply(lambda row: blastn_adjust(row), axis=1)"
   ]
  },
  {
   "cell_type": "code",
   "execution_count": 40,
   "metadata": {
    "ExecuteTime": {
     "end_time": "2022-04-09T14:48:08.026636Z",
     "start_time": "2022-04-09T14:48:07.789040Z"
    },
    "hidden": true
   },
   "outputs": [
    {
     "name": "stdout",
     "output_type": "stream",
     "text": [
      "(80217, 28)\n"
     ]
    },
    {
     "data": {
      "text/html": [
       "<div>\n",
       "<style scoped>\n",
       "    .dataframe tbody tr th:only-of-type {\n",
       "        vertical-align: middle;\n",
       "    }\n",
       "\n",
       "    .dataframe tbody tr th {\n",
       "        vertical-align: top;\n",
       "    }\n",
       "\n",
       "    .dataframe thead th {\n",
       "        text-align: right;\n",
       "    }\n",
       "</style>\n",
       "<table border=\"1\" class=\"dataframe\">\n",
       "  <thead>\n",
       "    <tr style=\"text-align: right;\">\n",
       "      <th></th>\n",
       "      <th>qseqid</th>\n",
       "      <th>sseqid</th>\n",
       "      <th>qstart</th>\n",
       "      <th>qend</th>\n",
       "      <th>sstart</th>\n",
       "      <th>send</th>\n",
       "      <th>qseq</th>\n",
       "      <th>sseq</th>\n",
       "      <th>evalue</th>\n",
       "      <th>bitscore</th>\n",
       "      <th>...</th>\n",
       "      <th>ppos</th>\n",
       "      <th>frames</th>\n",
       "      <th>qframe</th>\n",
       "      <th>sframe</th>\n",
       "      <th>sstrand</th>\n",
       "      <th>qcovs</th>\n",
       "      <th>qcovhsp</th>\n",
       "      <th>qlen</th>\n",
       "      <th>slen</th>\n",
       "      <th>Nonconformity</th>\n",
       "    </tr>\n",
       "  </thead>\n",
       "  <tbody>\n",
       "    <tr>\n",
       "      <th>0</th>\n",
       "      <td>C5495</td>\n",
       "      <td>AMWY02099822.1</td>\n",
       "      <td>1</td>\n",
       "      <td>20</td>\n",
       "      <td>1769</td>\n",
       "      <td>1750</td>\n",
       "      <td>TGACAGAAGAGAGTGAGCAC</td>\n",
       "      <td>TGACAGAAGAGAGTGAGCAC</td>\n",
       "      <td>0.004</td>\n",
       "      <td>37.4</td>\n",
       "      <td>...</td>\n",
       "      <td>100.0</td>\n",
       "      <td>1/-1</td>\n",
       "      <td>1</td>\n",
       "      <td>-1</td>\n",
       "      <td>minus</td>\n",
       "      <td>100</td>\n",
       "      <td>100</td>\n",
       "      <td>20</td>\n",
       "      <td>3308</td>\n",
       "      <td>0</td>\n",
       "    </tr>\n",
       "    <tr>\n",
       "      <th>1</th>\n",
       "      <td>C5495</td>\n",
       "      <td>AMWY02082313.1</td>\n",
       "      <td>1</td>\n",
       "      <td>20</td>\n",
       "      <td>5954</td>\n",
       "      <td>5973</td>\n",
       "      <td>TGACAGAAGAGAGTGAGCAC</td>\n",
       "      <td>TGACAGAAGAGAGTGAGCAC</td>\n",
       "      <td>0.004</td>\n",
       "      <td>37.4</td>\n",
       "      <td>...</td>\n",
       "      <td>100.0</td>\n",
       "      <td>1/1</td>\n",
       "      <td>1</td>\n",
       "      <td>1</td>\n",
       "      <td>plus</td>\n",
       "      <td>100</td>\n",
       "      <td>100</td>\n",
       "      <td>20</td>\n",
       "      <td>8471</td>\n",
       "      <td>0</td>\n",
       "    </tr>\n",
       "  </tbody>\n",
       "</table>\n",
       "<p>2 rows × 28 columns</p>\n",
       "</div>"
      ],
      "text/plain": [
       "  qseqid          sseqid  qstart  qend  sstart  send                  qseq  \\\n",
       "0  C5495  AMWY02099822.1       1    20    1769  1750  TGACAGAAGAGAGTGAGCAC   \n",
       "1  C5495  AMWY02082313.1       1    20    5954  5973  TGACAGAAGAGAGTGAGCAC   \n",
       "\n",
       "                   sseq  evalue  bitscore  ...   ppos  frames  qframe  sframe  \\\n",
       "0  TGACAGAAGAGAGTGAGCAC   0.004      37.4  ...  100.0    1/-1       1      -1   \n",
       "1  TGACAGAAGAGAGTGAGCAC   0.004      37.4  ...  100.0     1/1       1       1   \n",
       "\n",
       "   sstrand  qcovs  qcovhsp  qlen  slen Nonconformity  \n",
       "0    minus    100      100    20  3308             0  \n",
       "1     plus    100      100    20  8471             0  \n",
       "\n",
       "[2 rows x 28 columns]"
      ]
     },
     "execution_count": 40,
     "metadata": {},
     "output_type": "execute_result"
    }
   ],
   "source": [
    "threshold = 4\n",
    "df_blastn['Nonconformity'] = df_blastn['qlen'] - (abs(df_blastn['qend'] - df_blastn['qstart']) + 1) + df_blastn['gaps'] + df_blastn['mismatch']\n",
    "df_blastn = df_blastn[df_blastn['Nonconformity'] <= threshold]\n",
    "print(df_blastn.shape)\n",
    "df_blastn.head(2)"
   ]
  },
  {
   "cell_type": "code",
   "execution_count": 41,
   "metadata": {
    "ExecuteTime": {
     "end_time": "2022-04-09T14:48:08.912099Z",
     "start_time": "2022-04-09T14:48:08.029912Z"
    },
    "hidden": true,
    "scrolled": false
   },
   "outputs": [
    {
     "name": "stdout",
     "output_type": "stream",
     "text": [
      "(66494, 28)\n"
     ]
    }
   ],
   "source": [
    "# remore redundancy and hold best one base of Nonconformity value\n",
    "df_blastn = df_blastn.sort_values([\"Nonconformity\", \"evalue\"], ascending = (True, True))\n",
    "df_blastn = df_blastn.drop_duplicates(subset=['sseqid','sstart', 'send','sstrand'], keep='first')\n",
    "df_blastn.to_csv('./Temp/filtered_out_blastn.csv')\n",
    "print(df_blastn.shape)"
   ]
  },
  {
   "cell_type": "markdown",
   "metadata": {
    "heading_collapsed": true
   },
   "source": [
    "# Result of the blastn to bed file"
   ]
  },
  {
   "cell_type": "code",
   "execution_count": 42,
   "metadata": {
    "ExecuteTime": {
     "end_time": "2022-04-09T14:48:08.934706Z",
     "start_time": "2022-04-09T14:48:08.915326Z"
    },
    "hidden": true
   },
   "outputs": [
    {
     "name": "stderr",
     "output_type": "stream",
     "text": [
      "<ipython-input-42-cccdc8b60626>:3: SettingWithCopyWarning: \n",
      "A value is trying to be set on a copy of a slice from a DataFrame.\n",
      "Try using .loc[row_indexer,col_indexer] = value instead\n",
      "\n",
      "See the caveats in the documentation: https://pandas.pydata.org/pandas-docs/stable/user_guide/indexing.html#returning-a-view-versus-a-copy\n",
      "  df['ones'] = 1\n"
     ]
    }
   ],
   "source": [
    "flanking_value = 200\n",
    "df = df_blastn[['qseqid', 'sseqid', 'sstart', 'send', 'sstrand','slen']]\n",
    "df['ones'] = 1"
   ]
  },
  {
   "cell_type": "code",
   "execution_count": 43,
   "metadata": {
    "ExecuteTime": {
     "end_time": "2022-04-09T14:48:18.835170Z",
     "start_time": "2022-04-09T14:48:08.937738Z"
    },
    "hidden": true
   },
   "outputs": [],
   "source": [
    "def switch(row):\n",
    "    if(row['sstart'] > row['send']):        \n",
    "        temp = row['sstart']\n",
    "        row['sstart'] = row['send']\n",
    "        row['send'] = temp\n",
    "    return row\n",
    "df = df.apply(lambda row: switch(row), axis=1)"
   ]
  },
  {
   "cell_type": "code",
   "execution_count": 44,
   "metadata": {
    "ExecuteTime": {
     "end_time": "2022-04-09T14:48:18.863748Z",
     "start_time": "2022-04-09T14:48:18.838130Z"
    },
    "hidden": true
   },
   "outputs": [],
   "source": [
    "def convert(inp):\n",
    "    if(inp == \"plus\"):\n",
    "        return \"forward\"\n",
    "    if(inp == \"minus\"):\n",
    "        return \"reverse\"\n",
    "    raise Exception('Error, sstrand contains illegal word! only \"plus\" and \"minus\" are allowed')\n",
    "df['strand'] = df['sstrand'].apply(lambda x: convert(x))"
   ]
  },
  {
   "cell_type": "code",
   "execution_count": 45,
   "metadata": {
    "ExecuteTime": {
     "end_time": "2022-04-09T14:48:18.893364Z",
     "start_time": "2022-04-09T14:48:18.868408Z"
    },
    "hidden": true
   },
   "outputs": [],
   "source": [
    "def convert2sign(inp):\n",
    "    if(inp == \"plus\"):\n",
    "        return \"+\"\n",
    "    if(inp == \"minus\"):\n",
    "        return \"-\"\n",
    "    raise Exception('Error, sstrand contains illegal word! only \"plus\" and \"minus\" are allowed')\n",
    "df['sign'] = df['sstrand'].apply(lambda x: convert2sign(x))"
   ]
  },
  {
   "cell_type": "code",
   "execution_count": 46,
   "metadata": {
    "ExecuteTime": {
     "end_time": "2022-04-09T14:48:20.745036Z",
     "start_time": "2022-04-09T14:48:18.896865Z"
    },
    "hidden": true
   },
   "outputs": [],
   "source": [
    "df['hit_length'] = df.apply(lambda row: abs(row['send'] - row['sstart']) + 1 ,axis=1)"
   ]
  },
  {
   "cell_type": "markdown",
   "metadata": {
    "hidden": true
   },
   "source": [
    "## convert sstart and send from location to index (range)"
   ]
  },
  {
   "cell_type": "code",
   "execution_count": 47,
   "metadata": {
    "ExecuteTime": {
     "end_time": "2022-04-09T14:48:20.785784Z",
     "start_time": "2022-04-09T14:48:20.748499Z"
    },
    "hidden": true
   },
   "outputs": [],
   "source": [
    "df['sstart'] = df['sstart'].apply(lambda x: x - 1)"
   ]
  },
  {
   "cell_type": "code",
   "execution_count": 48,
   "metadata": {
    "ExecuteTime": {
     "end_time": "2022-04-09T14:48:20.824975Z",
     "start_time": "2022-04-09T14:48:20.788547Z"
    },
    "hidden": true
   },
   "outputs": [],
   "source": [
    "df['downstream_flanking'] = df['sstart'].apply(lambda x:  flanking_value if x > flanking_value else x)"
   ]
  },
  {
   "cell_type": "code",
   "execution_count": 49,
   "metadata": {
    "ExecuteTime": {
     "end_time": "2022-04-09T14:48:22.693820Z",
     "start_time": "2022-04-09T14:48:20.827712Z"
    },
    "hidden": true
   },
   "outputs": [],
   "source": [
    "df['upstream_flanking'] = df.apply(lambda row:  flanking_value if (row['send']+flanking_value) <= row['slen'] else row['slen'] - row['send'],axis=1)"
   ]
  },
  {
   "cell_type": "code",
   "execution_count": 50,
   "metadata": {
    "ExecuteTime": {
     "end_time": "2022-04-09T14:48:24.448888Z",
     "start_time": "2022-04-09T14:48:22.696791Z"
    },
    "hidden": true
   },
   "outputs": [],
   "source": [
    "df['hit_start'] = df.apply(lambda row: row['downstream_flanking'] if row['sign'] == \"+\" else row['upstream_flanking'],axis=1)"
   ]
  },
  {
   "cell_type": "code",
   "execution_count": 51,
   "metadata": {
    "ExecuteTime": {
     "end_time": "2022-04-09T14:48:26.561830Z",
     "start_time": "2022-04-09T14:48:24.451811Z"
    },
    "hidden": true
   },
   "outputs": [],
   "source": [
    "df['hit_end'] = df.apply(lambda row: row['downstream_flanking'] + row['hit_length'] if row['sign'] == \"+\" else row['upstream_flanking'] + row['hit_length'],axis=1)"
   ]
  },
  {
   "cell_type": "code",
   "execution_count": 52,
   "metadata": {
    "ExecuteTime": {
     "end_time": "2022-04-09T14:48:28.463424Z",
     "start_time": "2022-04-09T14:48:26.564755Z"
    },
    "hidden": true
   },
   "outputs": [],
   "source": [
    "df['sstart'] = df['sstart'].apply(lambda x: max(x - flanking_value, 0))\n",
    "df['send'] = df.apply(lambda row: min(row['send'] + flanking_value , row['slen']),axis=1)"
   ]
  },
  {
   "cell_type": "code",
   "execution_count": 53,
   "metadata": {
    "ExecuteTime": {
     "end_time": "2022-04-09T14:48:31.520848Z",
     "start_time": "2022-04-09T14:48:28.466488Z"
    },
    "hidden": true
   },
   "outputs": [],
   "source": [
    "df['tag'] = df.apply(lambda row: f\">{row['sseqid']}:{row['sstart']}-{row['send']}({row['sign']})\",axis=1)\n",
    "df['reformated_tag'] = df['tag'].apply(lambda t: reformat(t))\n",
    "df[['tag', 'reformated_tag', 'hit_start', 'hit_end']].to_csv('./Temp/hit_index_info.csv')#, index=False)"
   ]
  },
  {
   "cell_type": "code",
   "execution_count": 54,
   "metadata": {
    "ExecuteTime": {
     "end_time": "2022-04-09T14:48:35.273248Z",
     "start_time": "2022-04-09T14:48:31.523720Z"
    },
    "hidden": true
   },
   "outputs": [],
   "source": [
    "df['location_tag'] = df.apply(lambda row: f\">{row['sseqid']}|{row['sign']}|{row['sstart'] + 1}-{row['send']}|{row['hit_start']+1}-{row['hit_end']}\",axis=1)\n",
    "df[['location_tag','qseqid']].to_csv('./Temp/pipe_seprated_location_list.csv',index=False,sep='\\t')"
   ]
  },
  {
   "cell_type": "code",
   "execution_count": 55,
   "metadata": {
    "ExecuteTime": {
     "end_time": "2022-04-09T14:48:35.485098Z",
     "start_time": "2022-04-09T14:48:35.276162Z"
    },
    "hidden": true
   },
   "outputs": [],
   "source": [
    "df[['sseqid','sstart','send','strand','ones', 'sign']].to_csv('./Temp/extension_index.bed', \n",
    "        index=False, header=False, sep=\"\\t\")"
   ]
  },
  {
   "cell_type": "markdown",
   "metadata": {
    "heading_collapsed": true
   },
   "source": [
    "# Extention\n"
   ]
  },
  {
   "cell_type": "code",
   "execution_count": 56,
   "metadata": {
    "ExecuteTime": {
     "end_time": "2022-04-09T14:48:35.491132Z",
     "start_time": "2022-04-09T14:48:35.488007Z"
    },
    "hidden": true
   },
   "outputs": [],
   "source": [
    "# !sudo apt-get install bedtools"
   ]
  },
  {
   "cell_type": "code",
   "execution_count": 57,
   "metadata": {
    "ExecuteTime": {
     "end_time": "2022-04-09T14:48:38.907545Z",
     "start_time": "2022-04-09T14:48:35.494134Z"
    },
    "hidden": true
   },
   "outputs": [
    {
     "name": "stdout",
     "output_type": "stream",
     "text": [
      "index file ./input_genome.fna.fai not found, generating...\r\n"
     ]
    }
   ],
   "source": [
    "!bedtools getfasta -fi ./input_genome.fna -fo ./Temp/extended_original.txt -s -bed ./Temp/extension_index.bed\n",
    "!rm input_genome.fna.fai"
   ]
  },
  {
   "cell_type": "code",
   "execution_count": 58,
   "metadata": {
    "ExecuteTime": {
     "end_time": "2022-04-09T14:48:38.915491Z",
     "start_time": "2022-04-09T14:48:38.911325Z"
    },
    "code_folding": [],
    "hidden": true
   },
   "outputs": [],
   "source": [
    "# todo: remove duplicated\n",
    "'''\n",
    "df = fasta_to_df(\"./Temp/extended.txt\")\n",
    "df = df.drop_duplicates(subset=['tag'], keep='first')\n",
    "df_to_fasta(df,\"./Temp/extended.txt\")\n",
    "len(df['tag'].unique())\n",
    "''';"
   ]
  },
  {
   "cell_type": "markdown",
   "metadata": {
    "heading_collapsed": true
   },
   "source": [
    "# Convert hit region to upper case and other region to lower case"
   ]
  },
  {
   "cell_type": "code",
   "execution_count": 59,
   "metadata": {
    "ExecuteTime": {
     "end_time": "2022-04-09T14:48:39.266001Z",
     "start_time": "2022-04-09T14:48:38.918338Z"
    },
    "hidden": true
   },
   "outputs": [
    {
     "name": "stdout",
     "output_type": "stream",
     "text": [
      "(66494, 5)\n"
     ]
    },
    {
     "data": {
      "text/html": [
       "<div>\n",
       "<style scoped>\n",
       "    .dataframe tbody tr th:only-of-type {\n",
       "        vertical-align: middle;\n",
       "    }\n",
       "\n",
       "    .dataframe tbody tr th {\n",
       "        vertical-align: top;\n",
       "    }\n",
       "\n",
       "    .dataframe thead th {\n",
       "        text-align: right;\n",
       "    }\n",
       "</style>\n",
       "<table border=\"1\" class=\"dataframe\">\n",
       "  <thead>\n",
       "    <tr style=\"text-align: right;\">\n",
       "      <th></th>\n",
       "      <th>Unnamed: 0</th>\n",
       "      <th>tag</th>\n",
       "      <th>reformated_tag</th>\n",
       "      <th>hit_start</th>\n",
       "      <th>hit_end</th>\n",
       "    </tr>\n",
       "  </thead>\n",
       "  <tbody>\n",
       "    <tr>\n",
       "      <th>0</th>\n",
       "      <td>132836</td>\n",
       "      <td>AMWY02059828.1:2832-3256(+)</td>\n",
       "      <td>&gt;AMWY020598281_2832-3256_+_</td>\n",
       "      <td>200</td>\n",
       "      <td>224</td>\n",
       "    </tr>\n",
       "    <tr>\n",
       "      <th>1</th>\n",
       "      <td>300170</td>\n",
       "      <td>AMWY02004761.1:1853-2277(+)</td>\n",
       "      <td>&gt;AMWY020047611_1853-2277_+_</td>\n",
       "      <td>200</td>\n",
       "      <td>224</td>\n",
       "    </tr>\n",
       "  </tbody>\n",
       "</table>\n",
       "</div>"
      ],
      "text/plain": [
       "   Unnamed: 0                          tag               reformated_tag  \\\n",
       "0      132836  AMWY02059828.1:2832-3256(+)  >AMWY020598281_2832-3256_+_   \n",
       "1      300170  AMWY02004761.1:1853-2277(+)  >AMWY020047611_1853-2277_+_   \n",
       "\n",
       "   hit_start  hit_end  \n",
       "0        200      224  \n",
       "1        200      224  "
      ]
     },
     "execution_count": 59,
     "metadata": {},
     "output_type": "execute_result"
    }
   ],
   "source": [
    "ext = fasta_to_df('./Temp/extended_original.txt')\n",
    "info = pd.read_csv('./Temp/hit_index_info.csv')\n",
    "info['tag'] = info['tag'].apply(lambda x: x[1:])\n",
    "print(info.shape)\n",
    "info.head(2)"
   ]
  },
  {
   "cell_type": "code",
   "execution_count": 60,
   "metadata": {
    "ExecuteTime": {
     "end_time": "2022-04-09T14:48:50.666386Z",
     "start_time": "2022-04-09T14:48:39.271137Z"
    },
    "hidden": true
   },
   "outputs": [],
   "source": [
    "ext = ext.sort_values(by=['tag']).reset_index()\n",
    "ext['help_tag'] = ext.apply(lambda r: r['tag']+ str(r.name),axis=1)\n",
    "del ext['tag']\n",
    "\n",
    "info = info.sort_values(by=['tag']).reset_index()\n",
    "info['help_tag'] = info.apply(lambda row: row['tag']+ str(row.name),axis=1)\n",
    "def redefined_tag(row):\n",
    "    tag = row['tag']\n",
    "    [sstart, send] = tag.split(':')[-1].split('(')[0].split('-')\n",
    "    sstart = int(sstart) + 1\n",
    "    sign = tag.split('(')[-1].split(')')[0]    \n",
    "    return f\"{tag.split(':')[0]}|{sign}|{sstart}-{send}|{row['hit_start']+1}-{row['hit_end']}\"\n",
    "info['tag'] = info.apply(lambda row: redefined_tag(row),axis=1)\n",
    "ext = pd.merge(ext,info,how='inner', on='help_tag')\n",
    "\n",
    "def emphasis_hit(row):\n",
    "    seq = list(row['data'].lower())            \n",
    "    s = row['hit_start']\n",
    "    e = row['hit_end']\n",
    "    seq[s:e] = list(''.join(seq[s:e]).upper())    \n",
    "    return ''.join(seq)\n",
    "    \n",
    "ext['data'] = ext.apply(lambda row: emphasis_hit(row),axis=1)\n",
    "df_to_fasta(ext[['tag','data']],\"./Temp/extended_modified.txt\")"
   ]
  },
  {
   "cell_type": "markdown",
   "metadata": {
    "heading_collapsed": true
   },
   "source": [
    "# Protein coding elimination [Download nr]"
   ]
  },
  {
   "cell_type": "code",
   "execution_count": null,
   "metadata": {
    "hidden": true
   },
   "outputs": [],
   "source": [
    "!wget https://ftp.ncbi.nlm.nih.gov/blast/db/FASTA/nr.gz"
   ]
  },
  {
   "cell_type": "markdown",
   "metadata": {
    "heading_collapsed": true
   },
   "source": [
    "# Protein coding elimination [Diamond]"
   ]
  },
  {
   "cell_type": "code",
   "execution_count": null,
   "metadata": {
    "hidden": true
   },
   "outputs": [],
   "source": [
    "#!wget http://github.com/bbuchfink/diamond/releases/download/v2.0.13/diamond-linux64.tar.gz\n",
    "#!tar xzf diamond-linux64.tar.gz"
   ]
  },
  {
   "cell_type": "code",
   "execution_count": null,
   "metadata": {
    "hidden": true
   },
   "outputs": [],
   "source": [
    "!./diamond makedb --in ./NR/nr -d ./Temp/diamond_output"
   ]
  },
  {
   "cell_type": "code",
   "execution_count": null,
   "metadata": {
    "hidden": true
   },
   "outputs": [],
   "source": [
    "!./diamond blastx -d ./Temp/diamond_output.dmnd\\\n",
    "                  -q ./Temp/extended_modified.txt\n",
    "                  -o ./Temp/diamond_matches.tsv"
   ]
  },
  {
   "cell_type": "code",
   "execution_count": 69,
   "metadata": {
    "ExecuteTime": {
     "end_time": "2022-04-09T14:57:03.791276Z",
     "start_time": "2022-04-09T14:57:02.947739Z"
    },
    "hidden": true
   },
   "outputs": [],
   "source": [
    "dmn = pd.read_csv(\"./Temp/diamond_matches.tsv\", sep='\\t', header=None)\n",
    "dmn.columns = 'qseqid sseqid pident length mismatch gapopen qstart qend sstart send evalue bitscore'.split(' ')\n",
    "coding_seq = dmn['qseqid'].unique()"
   ]
  },
  {
   "cell_type": "code",
   "execution_count": 70,
   "metadata": {
    "ExecuteTime": {
     "end_time": "2022-04-09T14:57:07.083715Z",
     "start_time": "2022-04-09T14:57:05.561889Z"
    },
    "hidden": true
   },
   "outputs": [
    {
     "name": "stdout",
     "output_type": "stream",
     "text": [
      "(66494, 2)\n",
      "(43977, 2)\n"
     ]
    }
   ],
   "source": [
    "def clear(inp):\n",
    "    if(inp[:9] == \"reverse::\"):\n",
    "        return inp[9:]\n",
    "    if(inp[:9] == \"forward::\"):\n",
    "        return inp[9:]\n",
    "    return inp\n",
    "coding_seq = pd.Series(coding_seq).apply(lambda x : clear(x))\n",
    "\n",
    "ext = fasta_to_df('./Temp/extended_modified.txt')\n",
    "print(ext.shape)\n",
    "ext = ext[~ext['tag'].isin(coding_seq)]\n",
    "print(ext.shape)\n",
    "df_to_fasta(ext,'./Temp/extended_modified_non_coding.txt')"
   ]
  },
  {
   "cell_type": "markdown",
   "metadata": {
    "heading_collapsed": true
   },
   "source": [
    "# RNA 2d prediction"
   ]
  },
  {
   "cell_type": "markdown",
   "metadata": {
    "heading_collapsed": true,
    "hidden": true
   },
   "source": [
    "## Mfold"
   ]
  },
  {
   "cell_type": "code",
   "execution_count": 71,
   "metadata": {
    "ExecuteTime": {
     "end_time": "2022-04-09T14:58:11.385864Z",
     "start_time": "2022-04-09T14:58:11.381999Z"
    },
    "hidden": true
   },
   "outputs": [],
   "source": [
    "'''\n",
    "# installation\n",
    "!wget http://www.unafold.org/download/mfold-3.6.tar.gz\n",
    "!tar -xvf ./mfold-3.6.tar.gz; rm ./mfold-3.6.tar.gz\n",
    "%cd ./mfold-3.6\n",
    "!./configure\n",
    "!make\n",
    "!make install\n",
    "%cd ..\n",
    "!sudo apt install texlive-font-utils\n",
    "''';"
   ]
  },
  {
   "cell_type": "code",
   "execution_count": 72,
   "metadata": {
    "ExecuteTime": {
     "end_time": "2022-04-09T14:58:11.914554Z",
     "start_time": "2022-04-09T14:58:11.910900Z"
    },
    "hidden": true
   },
   "outputs": [],
   "source": [
    "#todo : add all hyperparameter(options) to GUI"
   ]
  },
  {
   "cell_type": "code",
   "execution_count": 76,
   "metadata": {
    "ExecuteTime": {
     "end_time": "2022-04-09T20:02:55.108827Z",
     "start_time": "2022-04-09T20:02:39.075945Z"
    },
    "hidden": true
   },
   "outputs": [
    {
     "name": "stdout",
     "output_type": "stream",
     "text": [
      "rm: cannot remove './Result/secondary_structure/mfold/': No such file or directory\r\n"
     ]
    }
   ],
   "source": [
    "counter = 0\n",
    "base = \"./Result/secondary_structure/mfold/\"\n",
    "!rm -r {base}\n",
    "!mkdir -p {base}\n",
    "df = fasta_to_df('./Temp/extended_modified_non_coding.txt')\n",
    "\n",
    "for index, row in df.iterrows():    \n",
    "    tag = reformat(row['tag'])\n",
    "    if(not os.path.exists(base + tag)):\n",
    "        os.makedirs(base + tag)            \n",
    "    with open(base + f\"{tag}/SEQ.FASTA\",'w') as file:\n",
    "        file.write(f\">{row['tag']}\\n{row['data']}\")\n",
    "    counter += 1    \n",
    "    #if(counter >= 100):\n",
    "      #  break"
   ]
  },
  {
   "cell_type": "code",
   "execution_count": 77,
   "metadata": {
    "ExecuteTime": {
     "end_time": "2022-04-09T20:02:55.116219Z",
     "start_time": "2022-04-09T20:02:55.112589Z"
    },
    "hidden": true
   },
   "outputs": [],
   "source": [
    "#!mfold  SEQ=\"SEQ.FASTA\" T=22 MAX=2"
   ]
  },
  {
   "cell_type": "code",
   "execution_count": 78,
   "metadata": {
    "ExecuteTime": {
     "end_time": "2022-04-10T03:10:44.409077Z",
     "start_time": "2022-04-09T20:02:55.120504Z"
    },
    "hidden": true
   },
   "outputs": [],
   "source": [
    "%%capture\n",
    "remove_lock = False\n",
    "def run_mfold(tag):\n",
    "    tag = reformat(tag)\n",
    "    %cd {base + tag}\n",
    "    !mfold  SEQ=\"SEQ.FASTA\" T=22   \n",
    "    if(not remove_lock):\n",
    "        !find . -name \"SEQ*\" -not -name \"*.ct\" -not -name \"*.pdf\" -not -name \"*SEQ.FASTA\" -not -type d -delete\n",
    "    %cd {current_path}\n",
    "\n",
    "if __name__ == '__main__':        \n",
    "    pool = mp.Pool(mp.cpu_count() - 5)  \n",
    "    #pool.map(run_mfold, df['tag'].iloc[:100])\n",
    "    pool.map(run_mfold, df['tag'])"
   ]
  },
  {
   "cell_type": "code",
   "execution_count": 79,
   "metadata": {
    "ExecuteTime": {
     "end_time": "2022-04-10T03:10:44.464539Z",
     "start_time": "2022-04-10T03:10:44.448269Z"
    },
    "hidden": true
   },
   "outputs": [
    {
     "data": {
      "text/plain": [
       "'\\nbase = \"secondary_structure/mfold/\"\\nfor directory in glob.glob(f\"{base}*\"):    \\n    tag = directory[len(base):]\\n    ct_files = glob.glob(f\\'{directory}/*.ct\\')        \\n    try:\\n        ct_files.remove(f\\'{base}{tag}/SEQ.ct\\')\\n    except:\\n        print(directory)\\n        print(ct_files)\\n        print(\"*****************\")\\n    for file in ct_files:        \\n        shutil.copy(file, \\'./1.ct\\')\\n        #dot = ct2dot_bracket(\\'./1.ct\\')\\n        #dot = dot.split(\\'\\n\\')\\n        #with open(\\'./2.ct\\', \\'w\\') as stream:\\n            #stream.write(bracket_to_ct(tag, dot[0] , dot[1] , \"(0)\"))        \\n        #ct1 = \\'\\n\\'.join(reformatCT(\\'./1.ct\\').split(\\'\\n\\')[1:])\\n        #ct2 = \\'\\n\\'.join(reformatCT(\\'./2.ct\\').split(\\'\\n\\')[1:])\\n        #if(ct1 != ct2):\\n            #print(file)\\n        ct = reformatCT(\\'./1.ct\\')\\n        [nucleotide, index, values] = get_ct_data(ct)        \\n        #print(is_nested( index,  values))\\n        if(not is_nested( index,  values)):\\n            print(\"************\")             \\n'"
      ]
     },
     "execution_count": 79,
     "metadata": {},
     "output_type": "execute_result"
    }
   ],
   "source": [
    "'''\n",
    "base = \"secondary_structure/mfold/\"\n",
    "for directory in glob.glob(f\"{base}*\"):    \n",
    "    tag = directory[len(base):]\n",
    "    ct_files = glob.glob(f'{directory}/*.ct')        \n",
    "    try:\n",
    "        ct_files.remove(f'{base}{tag}/SEQ.ct')\n",
    "    except:\n",
    "        print(directory)\n",
    "        print(ct_files)\n",
    "        print(\"*****************\")\n",
    "    for file in ct_files:        \n",
    "        shutil.copy(file, './1.ct')\n",
    "        #dot = ct2dot_bracket('./1.ct')\n",
    "        #dot = dot.split('\\n')\n",
    "        #with open('./2.ct', 'w') as stream:\n",
    "            #stream.write(bracket_to_ct(tag, dot[0] , dot[1] , \"(0)\"))        \n",
    "        #ct1 = '\\n'.join(reformatCT('./1.ct').split('\\n')[1:])\n",
    "        #ct2 = '\\n'.join(reformatCT('./2.ct').split('\\n')[1:])\n",
    "        #if(ct1 != ct2):\n",
    "            #print(file)\n",
    "        ct = reformatCT('./1.ct')\n",
    "        [nucleotide, index, values] = get_ct_data(ct)        \n",
    "        #print(is_nested( index,  values))\n",
    "        if(not is_nested( index,  values)):\n",
    "            print(\"************\")             \n",
    "'''"
   ]
  },
  {
   "cell_type": "markdown",
   "metadata": {
    "heading_collapsed": true,
    "hidden": true
   },
   "source": [
    "## Mxfold2"
   ]
  },
  {
   "cell_type": "code",
   "execution_count": null,
   "metadata": {
    "ExecuteTime": {
     "end_time": "2021-11-06T16:20:40.729087Z",
     "start_time": "2021-11-06T16:20:40.725251Z"
    },
    "hidden": true
   },
   "outputs": [],
   "source": [
    "#!wget https://github.com/keio-bioinformatics/mxfold2/releases/download/v0.1.1/mxfold2-0.1.1.tar.gz\n",
    "#!pip3 install mxfold2-0.1.1.tar.gz\n",
    "#!rm mxfold2-0.1.1.tar.gz"
   ]
  },
  {
   "cell_type": "code",
   "execution_count": null,
   "metadata": {
    "ExecuteTime": {
     "end_time": "2021-11-06T16:22:35.682900Z",
     "start_time": "2021-11-06T16:20:48.694439Z"
    },
    "hidden": true
   },
   "outputs": [],
   "source": [
    "!mxfold2 predict ./extended.txt > Result/secondary_structure/mxfold2_result.txt"
   ]
  },
  {
   "cell_type": "code",
   "execution_count": null,
   "metadata": {
    "ExecuteTime": {
     "end_time": "2021-10-31T17:46:46.009981Z",
     "start_time": "2021-10-31T17:46:45.980600Z"
    },
    "hidden": true
   },
   "outputs": [],
   "source": [
    "df = fasta_to_df('./Result/secondary_structure/mxfold2_result.txt')\n",
    "df = df.apply(lambda row: bracket_row(row) , axis=1)\n",
    "df.head(2)"
   ]
  },
  {
   "cell_type": "code",
   "execution_count": null,
   "metadata": {
    "ExecuteTime": {
     "end_time": "2021-10-31T17:48:37.583164Z",
     "start_time": "2021-10-31T17:48:37.308743Z"
    },
    "hidden": true
   },
   "outputs": [],
   "source": [
    "base = \"./Result/secondary_structure/mxfold2/\"\n",
    "!rm -r {base}\n",
    "!mkdir -p {base}\n",
    "for index, row in df.iterrows():    \n",
    "    if(not os.path.exists(base + reformat(row['tag']))):\n",
    "        os.makedirs(base + reformat(row['tag']))        \n",
    "    tag = reformat(row['tag'])\n",
    "    with open(base + f\"{tag}/{tag}.ct\",'w') as file:\n",
    "        bracket = row['bracket'].split(' ')[0]\n",
    "        deltaG = row['bracket'].split(' ')[1]\n",
    "        ct = bracket_to_ct(row['tag'], row['data'], bracket, deltaG)\n",
    "        file.write(ct)    "
   ]
  },
  {
   "cell_type": "markdown",
   "metadata": {
    "heading_collapsed": true,
    "hidden": true
   },
   "source": [
    "## Vienna package"
   ]
  },
  {
   "cell_type": "code",
   "execution_count": null,
   "metadata": {
    "ExecuteTime": {
     "end_time": "2021-11-14T16:28:14.874416Z",
     "start_time": "2021-11-14T16:28:14.870733Z"
    },
    "hidden": true
   },
   "outputs": [],
   "source": [
    "#!wget https://www.tbi.univie.ac.at/RNA/download/ubuntu/ubuntu_20_04/viennarna_2.4.18-1_amd64.deb -O viennarna.deb\n",
    "#!sudo dpkg -i ./viennarna.deb\n",
    "#!sudo apt-get -f install\n",
    "#!rm viennarna.deb"
   ]
  },
  {
   "cell_type": "code",
   "execution_count": null,
   "metadata": {
    "ExecuteTime": {
     "end_time": "2021-11-14T19:35:57.889695Z",
     "start_time": "2021-11-14T19:35:57.480149Z"
    },
    "hidden": true
   },
   "outputs": [],
   "source": [
    "base = \"./Result/secondary_structure/viennarna/\"\n",
    "!rm -r {base}\n",
    "!rm ./Result/secondary_structure/viennarna_result.txt\n",
    "!mkdir -p {base}"
   ]
  },
  {
   "cell_type": "code",
   "execution_count": null,
   "metadata": {
    "ExecuteTime": {
     "end_time": "2021-11-14T19:52:09.128413Z",
     "start_time": "2021-11-14T19:36:03.739898Z"
    },
    "hidden": true
   },
   "outputs": [],
   "source": [
    "%cd {base}\n",
    "!RNAfold --jobs=0 --infile ../../Temp/extended_modified.txt  --noPS -T 22 > ../viennarna_result.txt\n",
    "%cd {current_path}"
   ]
  },
  {
   "cell_type": "code",
   "execution_count": null,
   "metadata": {
    "ExecuteTime": {
     "end_time": "2021-11-14T17:36:50.680457Z",
     "start_time": "2021-11-14T17:36:28.498386Z"
    },
    "hidden": true
   },
   "outputs": [],
   "source": [
    "df = fasta_to_df('./Result/secondary_structure/viennarna_result.txt')\n",
    "df = df.apply(lambda row: bracket_row(row) , axis=1)\n",
    "print(df.shape)\n",
    "df.head(2)"
   ]
  },
  {
   "cell_type": "code",
   "execution_count": null,
   "metadata": {
    "ExecuteTime": {
     "end_time": "2021-11-04T13:12:19.517498Z",
     "start_time": "2021-11-04T13:12:19.487872Z"
    },
    "hidden": true
   },
   "outputs": [],
   "source": [
    "for index, row in df.iterrows():    \n",
    "    tag = reformat(row['tag'])\n",
    "    if(not os.path.exists(base + tag)):\n",
    "        os.makedirs(base + tag)      \n",
    "    with open(base + f\"{tag}/{tag}.ct\",'w') as file:\n",
    "        bracket = row['bracket'].split(' ')[0]\n",
    "        deltaG = row['bracket'].split(' ')[1]\n",
    "        ct = bracket_to_ct(row['tag'], row['data'], bracket, deltaG, False)\n",
    "        file.write(ct)    "
   ]
  },
  {
   "cell_type": "code",
   "execution_count": null,
   "metadata": {
    "ExecuteTime": {
     "end_time": "2021-11-04T13:12:20.455326Z",
     "start_time": "2021-11-04T13:12:20.449583Z"
    },
    "hidden": true
   },
   "outputs": [],
   "source": [
    "import glob\n",
    "for file in glob.glob(f\"{base}*.ps\"):    \n",
    "    f = file[len(base):-6] # _ss.ps \n",
    "    f = reformat(f)        \n",
    "    shutil.move(file, f\"{base}{f}/{f}.ps\")    "
   ]
  },
  {
   "cell_type": "markdown",
   "metadata": {
    "heading_collapsed": true,
    "hidden": true
   },
   "source": [
    "## ContraFold"
   ]
  },
  {
   "cell_type": "code",
   "execution_count": null,
   "metadata": {
    "ExecuteTime": {
     "end_time": "2021-11-06T15:47:08.282696Z",
     "start_time": "2021-11-06T15:47:08.278027Z"
    },
    "hidden": true
   },
   "outputs": [],
   "source": [
    "#!wget http://contra.stanford.edu/contrafold/contrafold_v2_02.tar.gz\n",
    "#!tar -xvzf contrafold_v2_02.tar.gz && rm contrafold_v2_02.tar.gz\n",
    "#%cd contrafold/src\n",
    "#!make clean\n",
    "#!make \n",
    "# to file must changed to be complieable # utility.hpp and optimization.c++ files"
   ]
  },
  {
   "cell_type": "code",
   "execution_count": null,
   "metadata": {
    "ExecuteTime": {
     "end_time": "2021-11-06T15:52:08.807315Z",
     "start_time": "2021-11-06T15:52:08.274966Z"
    },
    "hidden": true
   },
   "outputs": [],
   "source": [
    "counter = 0\n",
    "base = \"./Result/secondary_structure/contrafold/\"\n",
    "!rm -r {base}\n",
    "!mkdir -p {base}\n",
    "df = fasta_to_df('./Temp/extended.txt')\n",
    "\n",
    "for index, row in df.iterrows():    \n",
    "    tag = reformat(row['tag'])\n",
    "    if(not os.path.exists(base + tag)):\n",
    "        os.makedirs(base + tag)            \n",
    "    with open(base + f\"{tag}/{tag}.FASTA\",'w') as file:\n",
    "        file.write(f\">{row['tag']}\\n{row['data']}\")\n",
    "    counter += 1    \n",
    "    if(counter >= 10):\n",
    "        break"
   ]
  },
  {
   "cell_type": "code",
   "execution_count": null,
   "metadata": {
    "ExecuteTime": {
     "end_time": "2021-11-06T15:52:20.318477Z",
     "start_time": "2021-11-06T15:52:18.362143Z"
    },
    "hidden": true
   },
   "outputs": [],
   "source": [
    "def run_contrafold(tag):\n",
    "    tag = reformat(tag)    \n",
    "    %cd Software/contrafold/src\n",
    "    !./contrafold predict ../..{base[1:]}{tag}/{tag}.FASTA > ../..{base[1:]}{tag}/{tag}.dot\n",
    "    with open(f\"../..{base[1:]}{tag}/{tag}.dot\", 'r') as file:\n",
    "        text = file.read()\n",
    "    text = [l for l in text.split(\"\\n\") if l[:len(\">structure\")] != \">structure\"]    \n",
    "    header = text[0]\n",
    "    with open(f\"../..{base[1:]}{tag}/{tag}.dot\", 'w') as file:\n",
    "        file.write('\\n'.join(text[1:]))    \n",
    "    !RNAeval  ../..{base[1:]}{tag}/{tag}.dot -T 20 > ../..{base[1:]}{tag}/{tag}.dotdg    \n",
    "    with open(f\"../..{base[1:]}{tag}/{tag}.dotdg\", 'r') as file:\n",
    "        text = file.read()\n",
    "    with open(f\"../..{base[1:]}{tag}/{tag}.dot\", 'w') as file:\n",
    "        file.write(header + \"\\n\" + text)    \n",
    "    \n",
    "    df = fasta_to_df(f'../..{base[1:]}{tag}/{tag}.dot')\n",
    "    df = df.apply(lambda row: bracket_row(row) , axis=1)        \n",
    "    tag = reformat(df['tag'][0])\n",
    "    with open(f'../..{base[1:]}{tag}/{tag}.ct','w') as file:\n",
    "        bracket = df['bracket'][0].split(' ')[0]        \n",
    "        deltaG = df['bracket'][0].split(' ')[1]\n",
    "        ct = bracket_to_ct(df['tag'][0], df['data'][0], bracket, deltaG, False)\n",
    "        file.write(ct)    \n",
    "    #!rm ../..{base[1:]}{tag}/{tag}.dot\n",
    "    #!rm ../..{base[1:]}{tag}/{tag}.dotdg\n",
    "    !rm ../..{base[1:]}{tag}/{tag}.FASTA\n",
    "    %cd {current_path}        \n",
    "\n",
    "if __name__ == '__main__':        \n",
    "    pool = mp.Pool(mp.cpu_count() - 1)  \n",
    "    pool.map(run_contrafold, df['tag'].iloc[:10])"
   ]
  },
  {
   "cell_type": "code",
   "execution_count": null,
   "metadata": {
    "ExecuteTime": {
     "end_time": "2021-11-06T16:04:27.288085Z",
     "start_time": "2021-11-06T16:04:27.151101Z"
    },
    "hidden": true
   },
   "outputs": [],
   "source": [
    "'''path = 'secondary_structure/contrafold/AMWY020333941_469-893_-_/AMWY020333941_469-893_-_.dot'\n",
    "!RNAeval  {path} -T 20 -v'''; "
   ]
  },
  {
   "cell_type": "markdown",
   "metadata": {
    "heading_collapsed": true
   },
   "source": [
    "# CTAnalizer"
   ]
  },
  {
   "cell_type": "code",
   "execution_count": 15,
   "metadata": {
    "ExecuteTime": {
     "end_time": "2022-04-16T12:32:27.690145Z",
     "start_time": "2022-04-16T12:32:12.535479Z"
    },
    "hidden": true
   },
   "outputs": [
    {
     "name": "stdout",
     "output_type": "stream",
     "text": [
      "(43977, 2)\n"
     ]
    }
   ],
   "source": [
    "# only select those not ran before\n",
    "base = \"./Result/secondary_structure/mfold/\"\n",
    "df = fasta_to_df('./Temp/extended_modified.txt')\n",
    "\n",
    "index_list =[]\n",
    "for index, row in df.iterrows():    \n",
    "    tag = reformat(row['tag'])    \n",
    "    if(len(glob.glob(f'{base + tag}/*.ct')) != 0):\n",
    "        index_list.append(index)\n",
    "df = df.iloc[index_list,:]\n",
    "print(df.shape)"
   ]
  },
  {
   "cell_type": "code",
   "execution_count": 16,
   "metadata": {
    "ExecuteTime": {
     "end_time": "2022-04-16T12:32:27.700457Z",
     "start_time": "2022-04-16T12:32:27.693917Z"
    },
    "hidden": true
   },
   "outputs": [],
   "source": [
    "def get_tag_info(tag):    \n",
    "    data = tag.split('|')\n",
    "    chromosome = data[0] \n",
    "    sign = data[1]\n",
    "    start = int(data[2].split('-')[0]) - 1 \n",
    "    end = int(data[2].split('-')[1])\n",
    "    hit_start = int(data[3].split('-')[0]) - 1 \n",
    "    hit_end = int(data[3].split('-')[1])    \n",
    "    return [chromosome, start, end, hit_start, hit_end, sign]"
   ]
  },
  {
   "cell_type": "code",
   "execution_count": 17,
   "metadata": {
    "ExecuteTime": {
     "end_time": "2022-04-16T12:32:27.709527Z",
     "start_time": "2022-04-16T12:32:27.704110Z"
    },
    "hidden": true
   },
   "outputs": [],
   "source": [
    "def get_deltaG(ct):\n",
    "    ct_head = ct.split('\\n')[0]\n",
    "    if(\"dG = \" in ct_head):    \n",
    "        dG_patter = \"dG = \" \n",
    "    elif(\"dG= \" in ct_head):    \n",
    "        dG_patter = \"dG= \"\n",
    "    elif(\"dG=\" in ct_head):    \n",
    "        dG_patter = \"dG=\"\n",
    "    elif(\"dG =\" in ct_head):    \n",
    "        dG_patter = \"dG =\"\n",
    "    else:\n",
    "        print('there is no dG')\n",
    "    return float(ct_head.split(dG_patter)[-1].split(' ')[0])"
   ]
  },
  {
   "cell_type": "code",
   "execution_count": 18,
   "metadata": {
    "ExecuteTime": {
     "end_time": "2022-04-16T12:32:27.717565Z",
     "start_time": "2022-04-16T12:32:27.712747Z"
    },
    "hidden": true
   },
   "outputs": [],
   "source": [
    "def get_complementarity_in_hit_region(inc_srange, hit_len):    \n",
    "    if(sum(inc_srange == 0) == hit_len):\n",
    "        return [\"no\" , 0]\n",
    "    elif(sum(inc_srange != 0) == hit_len):\n",
    "        return [\"fully_connected\" , 1]\n",
    "    else:    \n",
    "        return [\"yes\",  round(sum(inc_srange != 0) / hit_len,2)]"
   ]
  },
  {
   "cell_type": "code",
   "execution_count": 19,
   "metadata": {
    "ExecuteTime": {
     "end_time": "2022-04-16T12:32:27.724481Z",
     "start_time": "2022-04-16T12:32:27.720525Z"
    },
    "hidden": true
   },
   "outputs": [],
   "source": [
    "def get_hit_self_complementarity(hit_start, hit_end, inc_srange):    \n",
    "    if(((inc_srange <= hit_start) | (inc_srange > hit_end)).all()):\n",
    "        return \"no\"\n",
    "    return \"yes\""
   ]
  },
  {
   "cell_type": "code",
   "execution_count": 20,
   "metadata": {
    "ExecuteTime": {
     "end_time": "2022-04-16T12:32:27.731732Z",
     "start_time": "2022-04-16T12:32:27.727393Z"
    },
    "hidden": true
   },
   "outputs": [],
   "source": [
    "def get_istar_min_max(inc_srange, hit_self_complementarity):\n",
    "    nonzero_data_srange  = inc_srange[inc_srange!=0]\n",
    "    if(hit_self_complementarity == 'yes'):\n",
    "        return [np.nan, np.nan]\n",
    "    return [nonzero_data_srange.min(), nonzero_data_srange.max()]"
   ]
  },
  {
   "cell_type": "code",
   "execution_count": 21,
   "metadata": {
    "ExecuteTime": {
     "end_time": "2022-04-16T12:32:27.739901Z",
     "start_time": "2022-04-16T12:32:27.734919Z"
    },
    "hidden": true
   },
   "outputs": [],
   "source": [
    "def get_continuous_pairing(hit_start, hit_end, istar_min, istar_max, hit_self_complementarity):    \n",
    "    if(hit_self_complementarity == 'yes'):\n",
    "        return \"undifined\"\n",
    "    if(hit_end < istar_max and (hit_start+1) > istar_min):\n",
    "        return \"no\"    \n",
    "    return  \"yes\""
   ]
  },
  {
   "cell_type": "code",
   "execution_count": 22,
   "metadata": {
    "ExecuteTime": {
     "end_time": "2022-04-16T12:32:27.751490Z",
     "start_time": "2022-04-16T12:32:27.744844Z"
    },
    "hidden": true
   },
   "outputs": [],
   "source": [
    "def get_mir_type(hit_start, hit_end, istar_min, istar_max, continuous_pairing, complementarity_in_hit_region, hit_self_complementarity):        \n",
    "    if(continuous_pairing == \"yes\" and complementarity_in_hit_region != \"no\" and hit_self_complementarity == \"no\"):\n",
    "        if( hit_end < istar_min):\n",
    "            return \"5p\" \n",
    "        if( (hit_start+1) > istar_max):\n",
    "            return \"3p\"     \n",
    "    else:\n",
    "        if(continuous_pairing == \"no\" and hit_self_complementarity == \"yes\"):\n",
    "            return \"discontinuous star strand and hit self complementarity\"\n",
    "        elif(continuous_pairing == \"no\"):\n",
    "            return \"discontinuous star strand\"\n",
    "        elif(hit_self_complementarity == \"yes\"):\n",
    "            return \"hit self complementarity\"\n",
    "\n",
    "    if(complementarity_in_hit_region == \"no\"):\n",
    "        return \"no complementarity in hit region\"  \n",
    "    print(hit_start, hit_end, istar_min, istar_max, continuous_pairing, complementarity_in_hit_region, hit_self_complementarity)"
   ]
  },
  {
   "cell_type": "code",
   "execution_count": 23,
   "metadata": {
    "ExecuteTime": {
     "end_time": "2022-04-16T12:32:27.761711Z",
     "start_time": "2022-04-16T12:32:27.755274Z"
    },
    "hidden": true
   },
   "outputs": [],
   "source": [
    "'''\n",
    "def get_star_start(hit_start, hit_end, values):\n",
    "    c = 0\n",
    "    i = hit_end - 3 - c\n",
    "    while(values[i] == 0 and i >= 0):\n",
    "        c += 1\n",
    "        i = hit_end - 3 - c        \n",
    "    if(values[i] - c < 1):                    \n",
    "        return [max(values[i] - c,1), \"negative value\"]\n",
    "    if(i < hit_start):\n",
    "        return [values[i] - c, 'less than hit start']\n",
    "    return [values[i] - c, '']\n",
    "'''\n",
    "def get_star_start(hit_start, hit_end, values):        \n",
    "    a = 0\n",
    "    i = hit_end - 1\n",
    "    while(values[i] == 0 and i >= hit_start):\n",
    "        a += 1\n",
    "        i = hit_end - 1 - a        \n",
    "    if((values[i] - a + 2) < 1):                    \n",
    "        return [max(values[i] - a + 2, 1), \"negative value\"]\n",
    "    if(i < hit_start):\n",
    "        return [values[i] - a + 2, 'less than hit start']\n",
    "    return [values[i] - a + 2, '']"
   ]
  },
  {
   "cell_type": "code",
   "execution_count": 24,
   "metadata": {
    "ExecuteTime": {
     "end_time": "2022-04-16T12:32:27.770419Z",
     "start_time": "2022-04-16T12:32:27.764650Z"
    },
    "hidden": true
   },
   "outputs": [],
   "source": [
    "'''\n",
    "def get_star_end(hit_start, hit_end, values):\n",
    "    if(hit_start - 2 >= 0 ):\n",
    "        a = 0    \n",
    "    else:\n",
    "        a = abs(hit_start - 2)\n",
    "    \n",
    "    i = hit_start - 2 + a\n",
    "    while(values[i] == 0 and i <= hit_end):\n",
    "        a += 1\n",
    "        i = hit_start - 2 + a\n",
    "    \n",
    "    if(i <= hit_end):        \n",
    "        if((values[i] + a) > len(values)):\n",
    "            return [len(values), \"out of sequance range\"]        \n",
    "        return [values[i] + a, \"\"]\n",
    "    return [np.nan, \"some error happened\"]\n",
    "'''\n",
    "\n",
    "def get_star_end(hit_start, hit_end, values):    \n",
    "    a = 0\n",
    "    i = hit_start \n",
    "    while(values[i] == 0 and i <= hit_end):\n",
    "        a += 1\n",
    "        i = hit_start + a\n",
    "    \n",
    "    if(i <= hit_end):        \n",
    "        if((values[i] + a + 2) > len(values)):\n",
    "            return [len(values), \"out of sequance range\"]        \n",
    "        return [values[i] + a + 2, \"\"]\n",
    "    return [np.nan, \"some error happened\"]\n"
   ]
  },
  {
   "cell_type": "code",
   "execution_count": 25,
   "metadata": {
    "ExecuteTime": {
     "end_time": "2022-04-16T12:32:27.778588Z",
     "start_time": "2022-04-16T12:32:27.773868Z"
    },
    "hidden": true
   },
   "outputs": [],
   "source": [
    "def get_num_of_linking_residues(hit_start, hit_end, star_start, star_end, mir_type):\n",
    "    if(mir_type == '5p'):\n",
    "        return str(star_start - hit_end - 1)\n",
    "    elif(mir_type == '3p'):\n",
    "        return str(hit_start - star_end)    "
   ]
  },
  {
   "cell_type": "code",
   "execution_count": 26,
   "metadata": {
    "ExecuteTime": {
     "end_time": "2022-04-16T12:32:27.785992Z",
     "start_time": "2022-04-16T12:32:27.781767Z"
    },
    "hidden": true
   },
   "outputs": [],
   "source": [
    "def get_star_branching(star_start, star_end, star_range, values):\n",
    "    return not ((values[star_range-1] < star_start) | (values[star_range-1] > star_end)).all()"
   ]
  },
  {
   "cell_type": "code",
   "execution_count": 27,
   "metadata": {
    "ExecuteTime": {
     "end_time": "2022-04-16T12:32:27.812313Z",
     "start_time": "2022-04-16T12:32:27.789564Z"
    },
    "hidden": true
   },
   "outputs": [],
   "source": [
    "def getBOI_5p(hit_start, hit_end, values):\n",
    "    # first calc latest non zero value\n",
    "    for i in range(hit_end-1, 0, -1):\n",
    "        if(values[i] != 0):\n",
    "            last_v = values[i]\n",
    "            last_i = i\n",
    "            place = i\n",
    "            break            \n",
    "            \n",
    "    for i in range(place-1, 0, -1):\n",
    "        v = values[i]\n",
    "        if(v == 0):\n",
    "            continue\n",
    "        if(v < last_v):\n",
    "            if(last_i <= hit_start and last_i <= hit_end and last_v > hit_start and last_v >= hit_end):                \n",
    "                return [last_i + 1, last_v]            \n",
    "        \n",
    "        if((v - last_v) >= 3):            \n",
    "            s1 = set(range(last_v+1, v))\n",
    "            s2 = set([values[ii-1] for ii in range(last_v+1, v)])                        \n",
    "            if(len(s1.intersection(s2)) > 0):                                                \n",
    "                if(last_i <= hit_start and last_i < hit_end and last_v > hit_start and last_v >= hit_end): #?????                     \n",
    "                    return [last_i + 1, last_v]    \n",
    "        last_v = v            \n",
    "        last_i = i            \n",
    "    for i in range(0,hit_start):\n",
    "        if(values[i] != 0 ):\n",
    "            if(last_i <= hit_start and last_i <= hit_end and last_v > hit_start and last_v >= hit_end):                    \n",
    "                return [i + 1, values[i]]          \n",
    "    return [np.nan, np.nan]    \n",
    "    \n",
    "                \n",
    "def getBOI_3p(hit_start, hit_end, values):\n",
    "    # first calc latest non zero value\n",
    "    for i in range(hit_start, len(values)):    \n",
    "        if(values[i] != 0):\n",
    "            last_v = values[i]\n",
    "            last_i = i\n",
    "            place = i\n",
    "            break            \n",
    "            \n",
    "    for i in range(place + 1, len(values)):\n",
    "        v = values[i]\n",
    "        if(v == 0):\n",
    "            continue\n",
    "        if(v > last_v):\n",
    "            if((last_v-1) <= hit_start and (last_v-1) <= hit_end and (last_i+1)  > hit_start and (last_i+1)  >= hit_end):    \n",
    "                return [last_v, last_i + 1]                                                                                    \n",
    "        if((last_v - v) >= 3):\n",
    "            s1 = set(range(v+1, last_v))\n",
    "            s2 = set([values[ii-1] for ii in range(v+1, last_v)])\n",
    "            if(len(s1.intersection(s2)) > 0):\n",
    "                if((last_v-1) <= hit_start and (last_v-1) < hit_end and (last_i+1)  > hit_start and (last_i+1)  >= hit_end):\n",
    "                    return [last_v, last_i + 1]    \n",
    "        last_v = v            \n",
    "        last_i = i            \n",
    "    for i in range(len(values)-1, hit_end-2, -1):  # changed!        \n",
    "        if(values[i] != 0 ):\n",
    "            if((last_v-1) <= hit_start and (last_v-1) <= hit_end and (last_i+1)  > hit_start and (last_i+1)  >= hit_end):                    \n",
    "                return [values[i], i + 1]    \n",
    "    return [np.nan, np.nan]\n",
    "    \n",
    "    \n",
    "def get_boi(hit_start, hit_end, values, mir_type):    \n",
    "    if(mir_type == '5p'):\n",
    "        return getBOI_5p(hit_start, hit_end, values)\n",
    "    if(mir_type == '3p'):\n",
    "        return getBOI_3p(hit_start, hit_end, values)"
   ]
  },
  {
   "cell_type": "code",
   "execution_count": 28,
   "metadata": {
    "ExecuteTime": {
     "end_time": "2022-04-16T12:32:27.820626Z",
     "start_time": "2022-04-16T12:32:27.815438Z"
    },
    "hidden": true
   },
   "outputs": [],
   "source": [
    "def get_terminal_structure_range(hit_start, hit_end, istar_min, istar_max, mir_type):\n",
    "    if(mir_type == '5p'):\n",
    "        return [i for i in range(hit_end, istar_min-1)]\n",
    "    if(mir_type == '3p'):\n",
    "        return [i for i in range(istar_max, hit_start)]\n",
    "    print(\"Error in get_terminal_structure_range function\")        "
   ]
  },
  {
   "cell_type": "code",
   "execution_count": 29,
   "metadata": {
    "ExecuteTime": {
     "end_time": "2022-04-16T12:32:27.829434Z",
     "start_time": "2022-04-16T12:32:27.823375Z"
    },
    "hidden": true
   },
   "outputs": [],
   "source": [
    "def get_number_of_terminal_structure(values, terminal_structure_range):    \n",
    "    data = values[terminal_structure_range]\n",
    "    data = data[data != 0].to_numpy()\n",
    "    if(len(data) == 0):\n",
    "        return 0           \n",
    "    counter = 1            \n",
    "    last = data[0]         \n",
    "    for i in range(1,len(data)): \n",
    "        if(data[i] > last):\n",
    "            counter += 1\n",
    "        last = data[i]        \n",
    "    return counter "
   ]
  },
  {
   "cell_type": "code",
   "execution_count": 30,
   "metadata": {
    "ExecuteTime": {
     "end_time": "2022-04-16T12:32:27.842290Z",
     "start_time": "2022-04-16T12:32:27.832678Z"
    },
    "hidden": true
   },
   "outputs": [],
   "source": [
    "def get_branch_star_end_point(values, terminal_structure_range):        \n",
    "    data = values[terminal_structure_range]    \n",
    "    index = np.array(terminal_structure_range)[data != 0]    \n",
    "    data = data[data != 0].to_numpy()                        \n",
    "    branch_start_index = []\n",
    "    branch_end_index = []\n",
    "    branch_start_index.append(index[0])\n",
    "    last = data[0]            \n",
    "    for i in range(1,len(data)): \n",
    "        if(data[i] > last):\n",
    "            branch_end_index.append(index[i-1])\n",
    "            branch_start_index.append(index[i])\n",
    "        last = data[i]        \n",
    "    branch_end_index.append(index[-1])\n",
    "    #\n",
    "    branch_start_point = []\n",
    "    branch_end_point = []\n",
    "    for i in range(0, len(branch_start_index)):         \n",
    "        i_s = branch_start_index[i]\n",
    "        i_e = branch_end_index[i]\n",
    "        v_s = values[i_s]\n",
    "        v_e = values[i_e]\n",
    "        if(v_s > i_s and v_s <= (i_e + 1)):\n",
    "            branch_start_point.append(i_s + 1)\n",
    "            branch_end_point.append(v_s)\n",
    "        elif(v_e > i_s and v_e <= (i_e + 1)):\n",
    "            branch_start_point.append(v_e)\n",
    "            branch_end_point.append(i_e + 1)        \n",
    "    return [branch_start_point, branch_end_point]"
   ]
  },
  {
   "cell_type": "code",
   "execution_count": 31,
   "metadata": {
    "ExecuteTime": {
     "end_time": "2022-04-16T12:32:27.852733Z",
     "start_time": "2022-04-16T12:32:27.845445Z"
    },
    "hidden": true
   },
   "outputs": [],
   "source": [
    "def get_branch_apical_loop_size(branch_start_point, branch_end_point, values):        \n",
    "    branch_apical_loop_start = []\n",
    "    branch_apical_loop_end = []\n",
    "    branch_apical_loop_size = []\n",
    "    for s,e in zip(branch_start_point, branch_end_point):\n",
    "        data = values[s-1: e]\n",
    "        index = np.array([i for i in range(s-1, e)])[data != 0]                    \n",
    "        for i in range(len(index)-1):\n",
    "            if(values[index[i+1]] == index[i]+1 and values[index[i]] == index[i+1]+1):\n",
    "                branch_apical_loop_start.append(index[i]+1)\n",
    "                branch_apical_loop_end.append(index[i+1]+1)\n",
    "                branch_apical_loop_size.append(index[i+1] - index[i] - 1)                                                \n",
    "    return [branch_apical_loop_start, branch_apical_loop_end, branch_apical_loop_size]"
   ]
  },
  {
   "cell_type": "code",
   "execution_count": 32,
   "metadata": {
    "ExecuteTime": {
     "end_time": "2022-04-16T12:32:27.860962Z",
     "start_time": "2022-04-16T12:32:27.855650Z"
    },
    "hidden": true
   },
   "outputs": [],
   "source": [
    "def get_stem_last_residue(branch_apical_loop_start,branch_apical_loop_end, mir_type):\n",
    "    out = []\n",
    "    for i in range(len(branch_apical_loop_start)):\n",
    "        if(mir_type == '5p'):\n",
    "            out.append(min(branch_apical_loop_start[i], branch_apical_loop_end[i]))\n",
    "        if(mir_type == '3p'):\n",
    "            out.append(max(branch_apical_loop_start[i], branch_apical_loop_end[i]))\n",
    "    return out"
   ]
  },
  {
   "cell_type": "code",
   "execution_count": 33,
   "metadata": {
    "ExecuteTime": {
     "end_time": "2022-04-16T12:32:27.868384Z",
     "start_time": "2022-04-16T12:32:27.864132Z"
    },
    "hidden": true
   },
   "outputs": [],
   "source": [
    "def get_branch_stem_length(branch_start_point, branch_apical_loop_start):\n",
    "    out = []\n",
    "    for i in range(len(branch_start_point)):\n",
    "        out.append(branch_apical_loop_start[i] - branch_start_point[i] + 1)\n",
    "    return out"
   ]
  },
  {
   "cell_type": "code",
   "execution_count": 34,
   "metadata": {
    "ExecuteTime": {
     "end_time": "2022-04-16T12:32:27.883472Z",
     "start_time": "2022-04-16T12:32:27.871327Z"
    },
    "hidden": true
   },
   "outputs": [],
   "source": [
    "def get_primary_stem_end_point(branch_start_point, branch_end_point, stem_last_residue, hit_start, hit_end, istar_min, istar_max, values, number_of_terminal_structure, mir_type):    \n",
    "    if(number_of_terminal_structure == 1):\n",
    "        return stem_last_residue[0]\n",
    "    if(mir_type == '5p'):\n",
    "        if(number_of_terminal_structure == 0):                            \n",
    "            for i in range(hit_end-1, hit_start-1,-1):\n",
    "                if(values[i] != 0):\n",
    "                    return i + 1\n",
    "        else:\n",
    "            a = -1                        \n",
    "            for i in range(branch_start_point[0]-2, hit_end-1, -1):                \n",
    "                if(values[i] != 0):\n",
    "                    a = i + 1\n",
    "                    break            \n",
    "            b = -1            \n",
    "            for i in range(branch_end_point[-1], istar_min - 1):\n",
    "                if(values[i] != 0):\n",
    "                    b = values[i]\n",
    "                    break                   \n",
    "            if(a == -1 or b == -1):\n",
    "                return np.nan\n",
    "            return min(a,b)\n",
    "            \n",
    "    if(mir_type == '3p'):\n",
    "        if(number_of_terminal_structure == 0):                \n",
    "            for i in range(hit_start, hit_end):\n",
    "                if(values[i] != 0):\n",
    "                    return i + 1 \n",
    "        else:\n",
    "            a = -1\n",
    "            for i in range(branch_end_point[-1], hit_start):\n",
    "                if(values[i] != 0):\n",
    "                    a = i + 1\n",
    "                    break            \n",
    "            \n",
    "            b = -1            \n",
    "            for i in range(branch_start_point[0]-2, istar_max-1, -1):                \n",
    "                if(values[i] != 0):\n",
    "                    b = values[i]\n",
    "                    break                    \n",
    "            \n",
    "            if(a == -1 or b == -1):\n",
    "                return np.nan\n",
    "            return max(a,b)"
   ]
  },
  {
   "cell_type": "code",
   "execution_count": 35,
   "metadata": {
    "ExecuteTime": {
     "end_time": "2022-04-16T12:32:27.892132Z",
     "start_time": "2022-04-16T12:32:27.886479Z"
    },
    "hidden": true
   },
   "outputs": [],
   "source": [
    "def get_primary_stem_length(primary_stem_end_point, branch_start_point, branch_end_point, stem_last_residue, hit_start, hit_end, values, number_of_terminal_structure ,mir_type):    \n",
    "    if(number_of_terminal_structure == 0):\n",
    "        return 0\n",
    "    if(mir_type == '5p'):\n",
    "        if(number_of_terminal_structure == 1):                \n",
    "            return stem_last_residue[0] - branch_start_point[0] + 1\n",
    "        else:                        \n",
    "            return primary_stem_end_point - hit_end\n",
    "            \n",
    "    if(mir_type == '3p'):\n",
    "        if(number_of_terminal_structure == 1):                \n",
    "            return branch_end_point[0] - stem_last_residue[0] + 1\n",
    "        else:                        \n",
    "            return (hit_start+1) - primary_stem_end_point"
   ]
  },
  {
   "cell_type": "code",
   "execution_count": 36,
   "metadata": {
    "ExecuteTime": {
     "end_time": "2022-04-16T12:32:27.899399Z",
     "start_time": "2022-04-16T12:32:27.895120Z"
    },
    "code_folding": [],
    "hidden": true
   },
   "outputs": [],
   "source": [
    "def get_domain(primary_stem_end_point, boi_start, boi_end, stem_last_residue, hit_start, hit_end, mir_type):    \n",
    "    if(mir_type == '5p'):        \n",
    "        return range(boi_start-1, primary_stem_end_point)                                        \n",
    "    if(mir_type == '3p'):        \n",
    "        return range(primary_stem_end_point-1, boi_end)"
   ]
  },
  {
   "cell_type": "code",
   "execution_count": 37,
   "metadata": {
    "ExecuteTime": {
     "end_time": "2022-04-16T12:32:27.911154Z",
     "start_time": "2022-04-16T12:32:27.906079Z"
    },
    "hidden": true
   },
   "outputs": [],
   "source": [
    "def get_domain_star(primary_stem_end_point_star, boi_start, boi_end, stem_last_residue, hit_start, hit_end, mir_type):    \n",
    "    if(mir_type == '5p'):        \n",
    "        return range(primary_stem_end_point_star - 1, boi_end)                                        \n",
    "    if(mir_type == '3p'):        \n",
    "        return range(boi_start-1 , primary_stem_end_point_star)"
   ]
  },
  {
   "cell_type": "code",
   "execution_count": 38,
   "metadata": {
    "ExecuteTime": {
     "end_time": "2022-04-16T12:32:27.919474Z",
     "start_time": "2022-04-16T12:32:27.914740Z"
    },
    "hidden": true
   },
   "outputs": [],
   "source": [
    "def get_interfering_structures(domain, values):\n",
    "    [c, d] = [min(domain[0], domain[-1]) + 1, max(domain[0], domain[-1]) + 1]            \n",
    "    v = values[c-1:d]        \n",
    "    return not ((v < c) | (v > d)).all()"
   ]
  },
  {
   "cell_type": "code",
   "execution_count": 39,
   "metadata": {
    "ExecuteTime": {
     "end_time": "2022-04-16T12:32:27.932344Z",
     "start_time": "2022-04-16T12:32:27.922335Z"
    },
    "hidden": true
   },
   "outputs": [],
   "source": [
    "def getLocation(start, end, hit_start, hit_end, mir_type):            \n",
    "    def _location(point): # base location              \n",
    "        if(mir_type == \"5p\"):                        \n",
    "            if(point < (hit_start+1)):\n",
    "                return [\"loop distal\", (hit_start+1) - point]\n",
    "            if(point <= hit_end):\n",
    "                return [\"hit region\", point - (hit_start+1) + 1]\n",
    "            return [\"loop proximal\" , point - hit_end]\n",
    "        \n",
    "        if(mir_type == \"3p\"):    \n",
    "            if(point > hit_end):\n",
    "                return [\"loop distal\" , point - hit_end]\n",
    "            if(point >= (hit_start+1)):\n",
    "                return [\"hit region\", point - (hit_start+1) + 1]\n",
    "            return [\"loop proximal\", (hit_start+1) - point]                                        \n",
    "            \n",
    "    [type1, loc1] = _location(start)\n",
    "    [type2, loc2] = _location(end)    \n",
    "    if(type1 == type2):                \n",
    "        return [type1, min(loc1, loc2), max(loc1, loc2)]\n",
    "    \n",
    "    if((type1 == \"loop distal\" and type2 == \"hit region\") or\n",
    "       (type2 == \"loop distal\" and type1 == \"hit region\")):                \n",
    "        return [\"distal border line\", loc1, loc2]\n",
    "        \n",
    "    if((type1 == \"loop proximal\" and type2 == \"hit region\") or\n",
    "       (type2 == \"loop proximal\" and type1 == \"hit region\")):        \n",
    "        return [\"proximal border line\", loc1, loc2]\n",
    "    \n",
    "    raise exception(\"loop proximal and loop distal\")"
   ]
  },
  {
   "cell_type": "code",
   "execution_count": 40,
   "metadata": {
    "ExecuteTime": {
     "end_time": "2022-04-16T12:32:27.949227Z",
     "start_time": "2022-04-16T12:32:27.936450Z"
    },
    "code_folding": [],
    "hidden": true
   },
   "outputs": [],
   "source": [
    "def get_mismatch(domain, values, MCMA, hit_start, hit_end, mir_type): #MCMA: maximum consecutive mismatch allowance    \n",
    "    size = []\n",
    "    location_type = []\n",
    "    location_start = []\n",
    "    location_end = []\n",
    "    if(values[domain[0]] == 0 or values[domain[-1]] == 0):\n",
    "        raise Exception(\"Domain start or end = 0\")        \n",
    "        return \"Domain start or end = 0\"\n",
    "    mismatch_counter = 0 \n",
    "    zero_counter = 0\n",
    "    last = values[domain[0]]    \n",
    "    lastI = domain[0]\n",
    "    for d in domain[1:]:\n",
    "        if(values[d] == 0):\n",
    "            zero_counter += 1\n",
    "        else:            \n",
    "            current = values[d]\n",
    "            if(current > last):\n",
    "                return [\"Increment series error\", None, None, None, None]\n",
    "            elif(current < last and zero_counter > 0):                \n",
    "                if(last - current - 1 == zero_counter and zero_counter <= MCMA):\n",
    "                    mismatch_counter += 1\n",
    "                    size.append(zero_counter)                    \n",
    "                    [loc_type, loc_start, loc_end ] = getLocation(lastI+2, d, hit_start, hit_end, mir_type)\n",
    "                    location_type.append(loc_type)\n",
    "                    location_start.append(loc_start)\n",
    "                    location_end.append(loc_end)                    \n",
    "                zero_counter = 0                                    \n",
    "            last = current\n",
    "            lastI = d\n",
    "    if(mir_type == \"3p\"):\n",
    "        size = size[::-1]\n",
    "        location_type = location_type[::-1]\n",
    "        location_start = location_start[::-1]\n",
    "        location_end = location_end[::-1]\n",
    "    return [mismatch_counter, size, location_type, location_start, location_end]"
   ]
  },
  {
   "cell_type": "code",
   "execution_count": 41,
   "metadata": {
    "ExecuteTime": {
     "end_time": "2022-04-16T12:32:27.964811Z",
     "start_time": "2022-04-16T12:32:27.952448Z"
    },
    "hidden": true
   },
   "outputs": [],
   "source": [
    "def get_bulge(domain, values, hit_start, hit_end, mir_type): \n",
    "    size = []  \n",
    "    bulge_type = []\n",
    "    location_type = []\n",
    "    location_start = []\n",
    "    location_end = []\n",
    "    zero_counter = 0\n",
    "    last = values[domain[0]]  \n",
    "    lastI = domain[0]\n",
    "    for d in domain[1:]:\n",
    "        if(values[d] == 0):\n",
    "            zero_counter += 1\n",
    "        else:\n",
    "            current = values[d]\n",
    "            if(current > last):\n",
    "                return [\"Increment series error\", None, None, None, None,None]\n",
    "            \n",
    "            if(last - current == 1 and zero_counter > 0):                \n",
    "                size.append(zero_counter)                            \n",
    "                [loc_type, loc_start, loc_end ] = getLocation(lastI+1, d+1, hit_start, hit_end, mir_type)\n",
    "                bulge_type.append(\"zero\")                                \n",
    "                location_start.append(loc_start)\n",
    "                location_end.append(loc_end)           \n",
    "                [loc_type,_,_ ] = getLocation(lastI+2, d, hit_start, hit_end, mir_type)\n",
    "                location_type.append(loc_type)\n",
    "                \n",
    "            if(last - current > 1 and zero_counter == 0):                \n",
    "                size.append(last - current - 1)                \n",
    "                [loc_type, loc_start, loc_end ] = getLocation(lastI+2, d, hit_start, hit_end, mir_type)\n",
    "                if(loc_type == \"distal border line\"):\n",
    "                    loc_type = \"loop distal\"\n",
    "                if(loc_type == \"proximal border line\"):\n",
    "                    loc_type = \"loop proximal\"\n",
    "                bulge_type.append(\"jump\")\n",
    "                location_type.append(loc_type)\n",
    "                location_start.append(loc_start)\n",
    "                location_end.append(loc_end)                    \n",
    "                                            \n",
    "            zero_counter = 0                                                    \n",
    "            last = current\n",
    "            lastI = d\n",
    "    if(mir_type == \"3p\"):\n",
    "        size = size[::-1]\n",
    "        bulge_type = bulge_type[::-1]\n",
    "        location_type = location_type[::-1]\n",
    "        location_start = location_start[::-1]\n",
    "        location_end = location_end[::-1]\n",
    "    return [len(size), size, location_type, location_start, location_end, bulge_type]"
   ]
  },
  {
   "cell_type": "code",
   "execution_count": 42,
   "metadata": {
    "ExecuteTime": {
     "end_time": "2022-04-16T12:32:27.979205Z",
     "start_time": "2022-04-16T12:32:27.967736Z"
    },
    "hidden": true
   },
   "outputs": [],
   "source": [
    "def get_internal_loop(domain, values, MCMA, hit_start, hit_end, mir_type): #MCMA: maximum consecutive mismatch allowance\n",
    "    size_HSBL = []  # number of         \n",
    "    size_SSBL = []     \n",
    "    location_type = []\n",
    "    location_start = []\n",
    "    location_end = []\n",
    "    zero_counter = 0\n",
    "    last = values[domain[0]]    \n",
    "    lastI = domain[0]\n",
    "    for d in domain[1:]:\n",
    "        if(values[d] == 0):\n",
    "            zero_counter += 1\n",
    "        else:\n",
    "            current = values[d]            \n",
    "            if(current > last):\n",
    "                return [\"Increment series error\", None, None, None, None, None]        \n",
    "            if(current < last and zero_counter > 0):                \n",
    "                jump = last - current - 1\n",
    "                if(jump == 0):\n",
    "                    zero_counter = 0                                    \n",
    "                elif(jump != zero_counter):                                        \n",
    "                    size_HSBL.append(zero_counter)\n",
    "                    size_SSBL.append(jump)\n",
    "                    [loc_type, loc_start, loc_end ] = getLocation(lastI+2, d, hit_start, hit_end, mir_type)\n",
    "                    location_type.append(loc_type)\n",
    "                    location_start.append(loc_start)\n",
    "                    location_end.append(loc_end)                    \n",
    "                elif(zero_counter > MCMA):\n",
    "                    size_HSBL.append(zero_counter)\n",
    "                    size_SSBL.append(jump)\n",
    "                    [loc_type, loc_start, loc_end ] = getLocation(lastI+2, d, hit_start, hit_end, mir_type)\n",
    "                    location_type.append(loc_type)\n",
    "                    location_start.append(loc_start)\n",
    "                    location_end.append(loc_end)                    \n",
    "                    \n",
    "            zero_counter = 0                                    \n",
    "            last = current\n",
    "            lastI = d\n",
    "    if(mir_type == \"3p\"):        \n",
    "        size_SSBL = size_SSBL[::-1]\n",
    "        size_HSBL = size_HSBL[::-1]\n",
    "        location_type = location_type[::-1]\n",
    "        location_start = location_start[::-1]\n",
    "        location_end = location_end[::-1]\n",
    "    return [len(size_HSBL), size_HSBL, size_SSBL, location_type, location_start, location_end]"
   ]
  },
  {
   "cell_type": "code",
   "execution_count": 90,
   "metadata": {
    "ExecuteTime": {
     "end_time": "2022-04-16T12:40:04.730873Z",
     "start_time": "2022-04-16T12:40:04.709222Z"
    },
    "hidden": true
   },
   "outputs": [],
   "source": [
    "def get_distance_info(inp_type, inp_bord_type, mis_loc_type, mismatch_size, mis_start, bulge_size, bulge_loc_type, bulge_start,bulge_end, bulge_type,internal_loop,size_HSBL,size_SSBL,intr_loc_type,intr_start,intr_end, mir_type):\n",
    "    counter = 0 \n",
    "    data = []\n",
    "    # mismatch\n",
    "    if(mis_loc_type != None):\n",
    "        for i in range(0, len(mis_loc_type)):\n",
    "            if(mis_loc_type[i] == inp_type):\n",
    "                data.append({'start':mis_start[i],\n",
    "                             'size': mismatch_size[i],\n",
    "                             'type':\"mismatch\"})\n",
    "    # bulge\n",
    "    if(bulge_loc_type != None):\n",
    "        for i in range(0, len(bulge_loc_type)):\n",
    "            if(bulge_loc_type[i] == inp_type):\n",
    "                data.append({'start':bulge_start[i],\n",
    "                              'size': bulge_size[i],\n",
    "                              'end': bulge_end[i],\n",
    "                              'bulge_type': bulge_type[i],\n",
    "                              'type':\"bulge\"})\n",
    "            if(bulge_loc_type[i] == inp_bord_type and\n",
    "                bulge_type[i] == \"zero\"):\n",
    "                if(inp_bord_type == \"distal border line\"):\n",
    "                    if(mir_type == \"5p\"):\n",
    "                        counter = bulge_start[i] - 1 \n",
    "                    if(mir_type == \"3p\"):\n",
    "                        counter = bulge_end[i] - 1 \n",
    "                if(inp_bord_type == \"proximal border line\"):\n",
    "                    if(mir_type == \"5p\"):\n",
    "                        counter = bulge_end[i] - 1 \n",
    "                    if(mir_type == \"3p\"):\n",
    "                        counter = bulge_start[i] - 1 \n",
    "    # loop\n",
    "    if(intr_loc_type != None):\n",
    "        for i in range(0, len(intr_loc_type)):\n",
    "            if(intr_loc_type[i] == inp_type):\n",
    "                data.append({'start': intr_start[i],\n",
    "                         'HSBL' : size_HSBL[i],\n",
    "                         'SSBL' : size_SSBL[i],\n",
    "                         'end'  : intr_end[i],\n",
    "                         'type' : \"loop\"})\n",
    "            if(intr_loc_type[i] == inp_bord_type and\n",
    "               size_HSBL[i] > size_SSBL[i] and\n",
    "               intr_end[i] > size_SSBL[i]):\n",
    "                counter = intr_end[i] - size_SSBL[i]    \n",
    "    if(len(data) == 0):\n",
    "        return [[], [], counter]\n",
    "    data.sort(key=lambda x: x['start'], reverse=False)\n",
    "    #\n",
    "    output = []\n",
    "    outputhr = []\n",
    "    for d in data:\n",
    "        # todo\n",
    "        dist = d['start'] - counter - 1\n",
    "        if(d['type']== \"mismatch\"):\n",
    "            output.append({'type':\"mismatch\",\n",
    "                           'dist': dist,\n",
    "                           'size': d['size']})\n",
    "            outputhr.append(f\"mismatch=dist:{dist}, size:{d['size']}\")\n",
    "        if(d['type']== \"bulge\"):\n",
    "            dist = d['start'] - counter\n",
    "            output.append({'type':\"bulge\",\n",
    "                           'dist': dist,\n",
    "                           'size': d['size']})\n",
    "            outputhr.append(f\"bulge=dist:{dist}, size:{d['size']}\")\n",
    "            if(d['bulge_type'] == \"zero\"):\n",
    "                counter +=  d['size']\n",
    "        if(d['type']== \"loop\"):\n",
    "            dist = d['start'] - counter - 1\n",
    "            _size = str(d['HSBL'])+ \" + \" + str(d['SSBL'])\n",
    "            output.append({'type':\"loop\",\n",
    "                           'dist': dist,\n",
    "                           'size': _size})\n",
    "            outputhr.append(f\"loop=dist:{dist}, size:{_size}\")\n",
    "            if(d['HSBL'] > d['SSBL']):\n",
    "                counter += d['HSBL'] - d['SSBL']\n",
    "    return [output,outputhr, counter]"
   ]
  },
  {
   "cell_type": "code",
   "execution_count": 91,
   "metadata": {
    "ExecuteTime": {
     "end_time": "2022-04-16T12:40:04.740757Z",
     "start_time": "2022-04-16T12:40:04.734195Z"
    },
    "hidden": true
   },
   "outputs": [],
   "source": [
    "def closestto(data, datahr,number=15):\n",
    "    for d in data:\n",
    "        if(d['type'] == \"mismatch\"):\n",
    "            data.remove(d)\n",
    "    dist = []\n",
    "    if(len(data)==0):\n",
    "        return \"\"\n",
    "    for d in data:\n",
    "        dist.append(abs(d['dist'] - number))\n",
    "    min_dist = min(dist)\n",
    "    out = []\n",
    "    for i in range(0,len(dist)):\n",
    "        if(dist[i] == min_dist):\n",
    "            out.append(data[i])\n",
    "            \n",
    "    output = []\n",
    "    for o in out:\n",
    "        output.append(f\"{o['type']}=dist:{o['dist']}, size:{o['size']}\")                \n",
    "    return output"
   ]
  },
  {
   "cell_type": "code",
   "execution_count": 92,
   "metadata": {
    "ExecuteTime": {
     "end_time": "2022-04-16T12:40:04.749220Z",
     "start_time": "2022-04-16T12:40:04.744215Z"
    },
    "hidden": true
   },
   "outputs": [],
   "source": [
    "def get_gc_content(seq):\n",
    "    freq = pd.Series([c.lower() for c in seq]).value_counts()\n",
    "    for i in ['c','g', 's']:\n",
    "        if i not in freq:\n",
    "            freq[i] = 0    \n",
    "    return round((freq['c'] + freq['g'] + freq['s']) / len(seq),2)"
   ]
  },
  {
   "cell_type": "code",
   "execution_count": 93,
   "metadata": {
    "ExecuteTime": {
     "end_time": "2022-04-16T12:40:04.757596Z",
     "start_time": "2022-04-16T12:40:04.752201Z"
    },
    "hidden": true
   },
   "outputs": [],
   "source": [
    "def get_boi_dist(boi_start, boi_end, hit_start, hit_end, mir_type, counter):    \n",
    "    if(mir_type == '5p'):        \n",
    "        return (hit_start + 1) - boi_start  - counter \n",
    "    if(mir_type == '3p'):\n",
    "        return  boi_end - hit_end - counter \n",
    "\n",
    "def get_psep_dist(psep, mir_type, hit_start, hit_end, counter):\n",
    "    if(mir_type == '5p'):\n",
    "        return abs(psep - hit_end) - counter\n",
    "    if(mir_type == '3p'):\n",
    "        return  abs((hit_start + 1) - psep)  - counter"
   ]
  },
  {
   "cell_type": "code",
   "execution_count": 94,
   "metadata": {
    "ExecuteTime": {
     "end_time": "2022-04-16T12:40:04.766421Z",
     "start_time": "2022-04-16T12:40:04.760787Z"
    },
    "hidden": true
   },
   "outputs": [],
   "source": [
    "def get_junction_distance(data, dist, thresh_bulge, thresh_loop):\n",
    "    distance = []\n",
    "    for d in data:\n",
    "        if(d['type'] == 'loop'):\n",
    "            size = eval(d['size'])\n",
    "            if(size >= thresh_loop):                \n",
    "                distance.append(d['dist'])\n",
    "        if(d['type'] == 'bulge'):\n",
    "            if(d['size'] >= thresh_bulge):\n",
    "                distance.append(d['dist'])\n",
    "    distance.append(dist)\n",
    "    return min(distance)"
   ]
  },
  {
   "cell_type": "code",
   "execution_count": 95,
   "metadata": {
    "ExecuteTime": {
     "end_time": "2022-04-16T12:40:05.453815Z",
     "start_time": "2022-04-16T12:40:05.448273Z"
    },
    "hidden": true
   },
   "outputs": [],
   "source": [
    "def get_ct2dot_bracket(nucleotide, index, values):\n",
    "    text = ''.join(nucleotide) + \"%5Cn\"\n",
    "    watch = []\n",
    "    for i, v in zip(index,values):\n",
    "        if(v == 0):\n",
    "            text += '.'\n",
    "        else:\n",
    "            if( v not in watch):\n",
    "                text += '('\n",
    "                watch.append(i)\n",
    "            if( v in watch):\n",
    "                text += ')'\n",
    "    return text"
   ]
  },
  {
   "cell_type": "code",
   "execution_count": 96,
   "metadata": {
    "ExecuteTime": {
     "end_time": "2022-04-16T12:40:05.460559Z",
     "start_time": "2022-04-16T12:40:05.457042Z"
    },
    "hidden": true
   },
   "outputs": [],
   "source": [
    "def get_visualization_link(dotbracket, color):\n",
    "    base =\"http://nibiru.tbi.univie.ac.at/forna/forna.html\"        \n",
    "    return f\"{base}?id=fasta&file=%3Eheader%5Cn{dotbracket}&colors=%3Eheader%5Cnrange%5C%3Dwhite:blue{color}\""
   ]
  },
  {
   "cell_type": "code",
   "execution_count": 97,
   "metadata": {
    "ExecuteTime": {
     "end_time": "2022-04-16T12:40:05.470435Z",
     "start_time": "2022-04-16T12:40:05.463758Z"
    },
    "hidden": true
   },
   "outputs": [],
   "source": [
    "def visualization(nucleotide, index, values, hit_start, hit_end, boi_start, boi_end, star_start_real, start_end_real ):    \n",
    "    dotbracket = get_ct2dot_bracket(nucleotide, index, values)\n",
    "    colors = \"\"\n",
    "    for i in range(0,len(index)):\n",
    "        v = i + 1 \n",
    "        if( (hit_start+1) <= v and v  <= hit_end):\n",
    "            colors += \"%5Cn1.2\"\n",
    "            continue\n",
    "        if(star_start_real != None and start_end_real != None):\n",
    "            if( star_start_real <= v and v <= start_end_real):\n",
    "                colors += \"%5Cn0.8\"\n",
    "                continue\n",
    "        if(boi_start != None and boi_end != None):\n",
    "            if( boi_start <= v and v <= boi_end):\n",
    "                colors += \"%5Cn0.2\"\n",
    "                continue        \n",
    "        colors += \"%5Cn0\"\n",
    "    path = get_visualization_link(dotbracket, colors)    \n",
    "    return path\n",
    "    #return f'=HYPERLINK(\"{path}\",\"url\")'"
   ]
  },
  {
   "cell_type": "code",
   "execution_count": 98,
   "metadata": {
    "ExecuteTime": {
     "end_time": "2022-04-16T12:40:05.478860Z",
     "start_time": "2022-04-16T12:40:05.473295Z"
    },
    "hidden": true
   },
   "outputs": [],
   "source": [
    "def get_trim_data(nucleotide, index, values, start, end):\n",
    "    _n = nucleotide.copy()[start-1:end].reset_index(drop=True)\n",
    "    _i = (index.copy()[start-1:end] - (start - 1)).reset_index(drop=True)\n",
    "    _v = values.copy()[start-1:end].apply(lambda x: 0 if x==0 else  max(x - (start - 1),0)).reset_index(drop=True)   \n",
    "    return [_n, _i, _v]"
   ]
  },
  {
   "cell_type": "code",
   "execution_count": 99,
   "metadata": {
    "ExecuteTime": {
     "end_time": "2022-04-16T12:40:44.954617Z",
     "start_time": "2022-04-16T12:40:44.949288Z"
    },
    "code_folding": [],
    "hidden": true
   },
   "outputs": [],
   "source": [
    "def get_precursor_seq(hit_start, hit_end,istar_min, istar_max, star_start_real, star_end_real, mir_type):\n",
    "    if(mir_type == \"3p\"):\n",
    "        return [star_start_real, hit_end, [hit_end-1, hit_end]]\n",
    "    if(mir_type == \"5p\"):\n",
    "        return [hit_start+1, star_end_real,[i+1 for i in range(istar_max, star_end_real)]]"
   ]
  },
  {
   "cell_type": "code",
   "execution_count": 100,
   "metadata": {
    "ExecuteTime": {
     "end_time": "2022-04-16T12:40:46.008980Z",
     "start_time": "2022-04-16T12:40:46.004684Z"
    },
    "hidden": true
   },
   "outputs": [],
   "source": [
    "def get_MFEI(dg, gc, nuc):\n",
    "    out = ((dg / len(nuc)) * 100) / ( gc * 100) \n",
    "    return abs(out)"
   ]
  },
  {
   "cell_type": "code",
   "execution_count": 107,
   "metadata": {
    "ExecuteTime": {
     "end_time": "2022-04-16T12:43:55.575582Z",
     "start_time": "2022-04-16T12:43:55.559771Z"
    },
    "hidden": true
   },
   "outputs": [],
   "source": [
    "def get_dg_by_vienna(dotbracket, write_path):\n",
    "    dotbracket = dotbracket.replace(\"%5Cn\", \"\\n\")    \n",
    "    if(dotbracket == \"\\n\"):\n",
    "        print('dotbracket')\n",
    "    with open(f\"{write_path}.dot\",'w') as file:\n",
    "        file.write(dotbracket)\n",
    "    !RNAeval  {write_path}.dot -T 22 > ./{write_path}.dotdg   \n",
    "    !rm {write_path}.dot\n",
    "    with open(f\"{write_path}.dotdg\",'r') as file:\n",
    "        text = file.read()\n",
    "    try:\n",
    "        dg = float(text[(len(dotbracket)+2):-2])\n",
    "    except:\n",
    "        dg = None\n",
    "    !rm {write_path}.dotdg\n",
    "    return dg"
   ]
  },
  {
   "cell_type": "code",
   "execution_count": 114,
   "metadata": {
    "ExecuteTime": {
     "end_time": "2022-04-16T12:52:04.893650Z",
     "start_time": "2022-04-16T12:52:04.883939Z"
    },
    "hidden": true
   },
   "outputs": [],
   "source": [
    "def get_dg_by_unafold(nucleotide, index, values, write_path):\n",
    "    with open(f\"{write_path}.ct\",'w') as file:\n",
    "        file.write(f'{len(nucleotide)}\\n')\n",
    "        for i in range(0, len(nucleotide)):\n",
    "            file.write(f'     {i+1} {nucleotide[i]}      {i}      {i+2}      {values[i]}       {index[i]}\\n')    \n",
    "    !ct-energy ./{write_path}.ct -t 22 > ./{write_path}.dotdg       \n",
    "    !rm {write_path}.ct\n",
    "    with open(f\"{write_path}.dotdg\",'r') as file:\n",
    "        text = file.read()\n",
    "    try:\n",
    "        dg = float(text)\n",
    "    except:\n",
    "        dg = None\n",
    "    !rm {write_path}.dotdg\n",
    "    return dg"
   ]
  },
  {
   "cell_type": "code",
   "execution_count": 116,
   "metadata": {
    "ExecuteTime": {
     "end_time": "2022-04-16T12:57:55.297390Z",
     "start_time": "2022-04-16T12:57:55.226443Z"
    },
    "code_folding": [],
    "hidden": true
   },
   "outputs": [],
   "source": [
    "server_url = \"http://jupyter.sysmanager.ir/tree/plant_microRNA_prediction\"\n",
    "#MCMA: maximum consecutive mismatch allowance\n",
    "def get_row(tag, path, extra, acceptable_terminal_structures = 5, MCMA=2, effective_bulge_size_in_Hit_vicinity_regions=4,            \n",
    "effective_internal_loop_size_in_Hit_vicinity_regions=5, energy_calc_method=\"UNAFold\"):    \n",
    "    write_path = hashlib.md5((tag+path).encode('utf-8')).hexdigest()    \n",
    "    result = {}    \n",
    "    ct = reformatCT(path)\n",
    "    result['seq name'] = tag\n",
    "    fold_number = path[-20:].split('SEQ_')[1].split('.ct')[0]    \n",
    "    result['ct name'] = \"Fold \" + fold_number.zfill(2)\n",
    "    #print(result['ct name'] )\n",
    "    result['ct'] = f'=HYPERLINK(\"{server_url + path[1:]}\",\"ct\")'\n",
    "    result['pdf'] = f'=HYPERLINK(\"{server_url + path[1:-3] + \".pdf\"}\",\"pdf\")'     \n",
    "    [chromosome, start, end, hit_start, hit_end, sign] = get_tag_info(tag)    \n",
    "    result['hit start'] = hit_start + 1\n",
    "    result['hit end'] =  hit_end\n",
    "    result['sign'] = sign\n",
    "    result['chromosome'] = chromosome \n",
    "    result['hit position on chromosome'] = f'{start + hit_start-1} {start + hit_end}' \n",
    "    dg = get_deltaG(ct)\n",
    "    result['delta G'] = dg\n",
    "    [nucleotide, index, values] = get_ct_data(ct)\n",
    "    result['full seq'] = ''.join(nucleotide)    \n",
    "    hit_seq = ''.join(nucleotide[hit_start:hit_end])\n",
    "    result['full seq visualization'] = visualization(nucleotide, index, values, hit_start, hit_end, None, None,None, None)\n",
    "    result['hit seq'] = hit_seq\n",
    "    hit_range = index[hit_start:hit_end]\n",
    "    hit_len = len(hit_range)\n",
    "    result['hit len'] = hit_len\n",
    "    flanking_gc_content = get_gc_content(nucleotide)\n",
    "    result['flanking GC content'] = flanking_gc_content\n",
    "    result['flanking MFEI'] = get_MFEI(dg, flanking_gc_content, nucleotide)\n",
    "    result['hit GC content'] =  get_gc_content(hit_seq)\n",
    "    inc_srange = values[hit_start:hit_end] # Incomplete_Star_range    \n",
    "    [complementarity_in_hit_region, complementarity_in_hit_region_percentage] = get_complementarity_in_hit_region(inc_srange, hit_len)    \n",
    "    result['complementarity in hit region'] = complementarity_in_hit_region \n",
    "    result['hit complementarity percentage']  = complementarity_in_hit_region_percentage\n",
    "    if(complementarity_in_hit_region == \"no\"):        \n",
    "        result['message'] = \"no complementarity in hit region\"        \n",
    "        return pd.Series(result) \n",
    "    \n",
    "    hit_self_complementarity = get_hit_self_complementarity(hit_start, hit_end, inc_srange)    \n",
    "    result['hit self complementarity'] = hit_self_complementarity       \n",
    "    if(hit_self_complementarity == \"yes\"):        \n",
    "        result['message'] = \"hit self complementarity\"\n",
    "        return pd.Series(result)     \n",
    "    if(hit_start - extra < 0 or (len(values) - hit_end) < extra):        \n",
    "        result['message'] = \"Not enough flanking for hit region\"                \n",
    "        return pd.Series(result) \n",
    "    \n",
    "    [flanking_istar_min, flanking_istar_max] = get_istar_min_max(values[(hit_start-extra):(hit_end+extra)], hit_self_complementarity)  \n",
    "    #result['flanking istar min']  = flanking_istar_min\n",
    "    #result['flanking istar max']  = flanking_istar_max    \n",
    "    \n",
    "    continuous_pairing = get_continuous_pairing(hit_start, hit_end, flanking_istar_min, flanking_istar_max, hit_self_complementarity)\n",
    "    result['continuous pairing'] = continuous_pairing    \n",
    "    if(continuous_pairing == \"no\"):\n",
    "        result['message'] = \"discontinuous star strand\"\n",
    "        return pd.Series(result) \n",
    "    \n",
    "    [istar_min, istar_max] = get_istar_min_max(inc_srange, hit_self_complementarity)  \n",
    "    result['istar min']  = istar_min\n",
    "    result['istar max']  = istar_max\n",
    "    \n",
    "    mir_type = get_mir_type(hit_start, hit_end, istar_min, istar_max, continuous_pairing, complementarity_in_hit_region, hit_self_complementarity)\n",
    "    result['mir type'] = mir_type    \n",
    "    if(mir_type not in ['3p', '5p']):        \n",
    "        result['message'] = mir_type\n",
    "        return pd.Series(result) \n",
    "    try: \n",
    "        [star_start, star_start_msg] = get_star_start(hit_start, hit_end, values)\n",
    "        [star_end, star_end_msg] = get_star_end(hit_start, hit_end, values)\n",
    "        result['star start'] = star_start \n",
    "        result['star start msg'] = star_start_msg     \n",
    "        result['star end'] = star_end    \n",
    "        result['star end msg'] =  star_end_msg\n",
    "    except:\n",
    "        result['message'] = 'Error in calculation of star start and end'        \n",
    "        return pd.Series(result) \n",
    "    \n",
    "    star_start_real = star_start\n",
    "    star_end_real = star_end\n",
    "    star_start = istar_min ############################################\n",
    "    star_end = istar_max   ############################################\n",
    "    #set1 = set(range(star_start-1 , star_end))\n",
    "    set1 = set(range(star_start-2 , star_end+1)) ######################\n",
    "    set2 = set(range(hit_start, hit_end))            \n",
    "    if(len(set1.intersection(set2)) > 0):        \n",
    "        result['message'] = 'overlap between miRNA and miRNA*'        \n",
    "        return pd.Series(result) \n",
    "    \n",
    "    star_range = index[star_start - 1:star_end]\n",
    "    star_seq = ''.join(nucleotide[star_start - 1:star_end])\n",
    "    result['star seq'] = star_seq\n",
    "    num_of_linking_residues = get_num_of_linking_residues(hit_start, hit_end, star_start_real, star_end_real, mir_type)\n",
    "    result['num of linking residues'] = num_of_linking_residues\n",
    "    #print(result)\n",
    "    star_branching = get_star_branching(star_start, star_end, star_range, values)\n",
    "    #star_branching = get_star_branching(istar_min, istar_max, inc_srange, values)\n",
    "    result['star branching'] = \"yes\" if star_branching else \"no\"    \n",
    "    [boi_start, boi_end] = get_boi(hit_start, hit_end, values, mir_type)                \n",
    "    if(math.isnan(boi_start) or math.isnan(boi_end)):        \n",
    "        result['message'] = 'unfit BOI structure'\n",
    "        return pd.Series(result)    \n",
    "    boi_seq = ''.join(nucleotide[boi_start-1: boi_end].tolist())\n",
    "    result['boi start'] = boi_start\n",
    "    result['boi end'] =  boi_end\n",
    "    result['boi seq'] =  boi_seq    \n",
    "    result['boi name'] =  f'{chromosome}|{sign}|{start + boi_start}-{start + boi_end}|{hit_start - boi_start + 2}-{hit_end - boi_start + 1}'\n",
    "    boi_gc = get_gc_content(boi_seq)\n",
    "    result['boi GC content'] =  boi_gc\n",
    "    result['full seq visualization'] = visualization(nucleotide, index, values, hit_start, hit_end, boi_start,  boi_end, star_start_real, star_end_real)\n",
    "    terminal_structure_range = get_terminal_structure_range(hit_start, hit_end, istar_min, istar_max, mir_type)\n",
    "    [_n, _i, _v] = get_trim_data(nucleotide, index, values, boi_start, boi_end)\n",
    "    boi_dotbracket = get_ct2dot_bracket(_n, _i, _v)    \n",
    "    result['boi dotbracket'] = boi_dotbracket.split(\"%5Cn\")[1]\n",
    "    if(energy_calc_method == \"Vienna\"):\n",
    "        boi_dg = get_dg_by_vienna(boi_dotbracket, write_path)\n",
    "        result['boi delta G'] = boi_dg\n",
    "    if(energy_calc_method ==\"UNAFold\"):\n",
    "        boi_dg = get_dg_by_unafold(_n, _i, _v, write_path)\n",
    "        result['boi delta G'] = boi_dg\n",
    "    result['boi MFEI'] = get_MFEI(boi_dg, boi_gc, boi_seq)\n",
    "    result['boi visualization'] = visualization(_n, _i, _v, hit_start - (boi_start - 1), hit_end - (boi_start - 1), 1,  boi_end - (boi_start - 1), star_start_real- (boi_start - 1), star_end_real- (boi_start - 1))\n",
    "    [s, e, zero] = get_precursor_seq(hit_start, hit_end,istar_min, istar_max, star_start_real, star_end_real, mir_type)\n",
    "    \n",
    "    [_n, _i, _v] = get_trim_data(nucleotide, index, values, s, e)      \n",
    "    _v[_v > (e - s + 1)] = 0    \n",
    "    precursor_dotbracket = get_ct2dot_bracket(_n, _i, _v)    \n",
    "    precursor_gc = get_gc_content(\"\".join(_n))\n",
    "    result['precursor gc content'] = precursor_gc\n",
    "    result['precursor dotbracket'] = precursor_dotbracket.split(\"%5Cn\")[1]\n",
    "    \n",
    "    if(energy_calc_method == \"Vienna\"):\n",
    "        precursor_dg = get_dg_by_vienna(precursor_dotbracket, write_path)\n",
    "        result['precursor delta G'] = precursor_dg\n",
    "    if(energy_calc_method == \"UNAFold\"):\n",
    "        precursor_dg = get_dg_by_unafold(_n, _i, _v, write_path)\n",
    "        result['precursor delta G'] = precursor_dg\n",
    "    if(precursor_dg != None or True):\n",
    "        result['precursor MFEI'] = get_MFEI(precursor_dg, precursor_gc, _n)\n",
    "    else:\n",
    "        result['precursor MFEI'] = \"\"            \n",
    "    precursor_array = [hit_start+1,hit_end, star_start_real, star_end_real]\n",
    "    precursor_start = min(precursor_array)\n",
    "    precursor_end = max(precursor_array)\n",
    "    result['precursor name'] =  f'{chromosome}|{sign}|{start + precursor_start}-{start + precursor_end}|{hit_start - precursor_start + 2}-{hit_end - precursor_start + 1}'\n",
    "    result['precursor seq'] = ''.join(_n)\n",
    "    result['precursor seq visualization'] = visualization(_n, _i, _v, hit_start - (s - 1), hit_end - (s - 1), 1,  e - (s - 1), star_start_real- (s - 1), star_end_real- (s - 1))\n",
    "    result['terminal structure range'] = [i+1 for i in [terminal_structure_range[0], terminal_structure_range[-1]]]                            \n",
    "    if(len(terminal_structure_range) == 0):        \n",
    "        result['number of terminal structures'] = \"no residues between miR and miR*\"         \n",
    "    else:                \n",
    "        number_of_terminal_structure = get_number_of_terminal_structure(values, terminal_structure_range)        \n",
    "        if(number_of_terminal_structure == 0):\n",
    "            result['number of terminal structures'] = 1                    \n",
    "            #[branch_start_point, branch_end_point] = [[terminal_structure_range[0]+1], [terminal_structure_range[-1]+1]]\n",
    "            [branch_start_point, branch_end_point] = [[], []]   \n",
    "            stem_last_residue = []\n",
    "        elif(number_of_terminal_structure == 1):\n",
    "            result['number of terminal structures'] = 1        \n",
    "            [branch_start_point, branch_end_point] = [[terminal_structure_range[0]+1], [terminal_structure_range[-1]+1]]            \n",
    "            stem_last_residue = []\n",
    "        else:\n",
    "            result['number of terminal structures'] = number_of_terminal_structure\n",
    "            [branch_start_point, branch_end_point]  = get_branch_star_end_point(values, terminal_structure_range)         \n",
    "        if(number_of_terminal_structure != 0):\n",
    "            #[branch_apical_loop_start, branch_apical_loop_end, branch_apical_loop_size] = [[branch_start_point[0]], [branch_end_point[0]], [abs(branch_end_point[0] - branch_start_point[0]) + 1]]                    \n",
    "            [branch_apical_loop_start, branch_apical_loop_end, branch_apical_loop_size] = get_branch_apical_loop_size(branch_start_point, branch_end_point, values)\n",
    "            stem_last_residue = get_stem_last_residue(branch_apical_loop_start,branch_apical_loop_end, mir_type)\n",
    "            branch_stem_length = get_branch_stem_length(branch_start_point, branch_apical_loop_start)                        \n",
    "        for i in range(acceptable_terminal_structures):\n",
    "            if(i < len(branch_start_point)):\n",
    "                result[f'branch#{i + 1} start point'] = branch_start_point[i]\n",
    "                result[f'branch#{i + 1} end point'] = branch_end_point[i]\n",
    "                result[f'branch#{i + 1} total length'] = abs(branch_end_point[i] - branch_start_point[i]) + 1                                                \n",
    "                result[f'branch#{i + 1} apical loop start'] = branch_apical_loop_start[i]\n",
    "                result[f'branch#{i + 1} apical loop end'] = branch_apical_loop_end[i]\n",
    "                result[f'branch#{i + 1} apical loop size'] = branch_apical_loop_size[i]                    \n",
    "                if(number_of_terminal_structure == 1):\n",
    "                    result[f'branch#{i + 1} stem last residue'] = stem_last_residue[i]\n",
    "                else:\n",
    "                    result[f'branch#{i + 1} stem last residue'] = \"\"\n",
    "                result[f'branch#{i + 1} stem length'] = branch_stem_length[i]                \n",
    "            else:\n",
    "                result[f'branch#{i + 1} start point'] = \"\"\n",
    "                result[f'branch#{i + 1} end point'] = \"\"            \n",
    "                result[f'branch#{i + 1} total length'] = \"\"\n",
    "                result[f'branch#{i + 1} apical loop start'] = \"\"\n",
    "                result[f'branch#{i + 1} apical loop end'] = \"\"\n",
    "                result[f'branch#{i + 1} apical loop size'] = \"\"\n",
    "                result[f'branch#{i + 1} stem last residue'] = \"\"\n",
    "                result[f'branch#{i + 1} stem length']  = \"\"           \n",
    "        \n",
    "        \n",
    "        primary_stem_end_point = get_primary_stem_end_point(branch_start_point, branch_end_point, stem_last_residue, hit_start, hit_end, istar_min, istar_max, values, number_of_terminal_structure, mir_type)                \n",
    "        if(not np.isnan(primary_stem_end_point)):\n",
    "            primary_stem_end_point_star = values[primary_stem_end_point-1]\n",
    "            result['psep'] = primary_stem_end_point\n",
    "            result['psep*'] = primary_stem_end_point_star\n",
    "            if(number_of_terminal_structure == 0):\n",
    "                result[f'branch#{1} apical loop start'] = primary_stem_end_point\n",
    "                result[f'branch#{1} apical loop end'] = primary_stem_end_point_star\n",
    "                result[f'branch#{1} apical loop size'] = primary_stem_end_point_star - primary_stem_end_point - 1 \n",
    "                result[f'branch#{1} stem length']  = 0       \n",
    "            primary_stem_length = get_primary_stem_length(primary_stem_end_point, branch_start_point, branch_end_point, stem_last_residue, hit_start, hit_end, values, number_of_terminal_structure, mir_type)\n",
    "            result['primary stem length'] = primary_stem_length                            \n",
    "            \n",
    "            domain = get_domain(primary_stem_end_point, boi_start, boi_end, stem_last_residue, hit_start, hit_end, mir_type)\n",
    "            result['domain'] = [domain[0]+1, domain[-1]+1]\n",
    "            domain_star = get_domain_star(primary_stem_end_point_star, boi_start, boi_end, stem_last_residue, hit_start, hit_end, mir_type)\n",
    "            result['domain*'] = [domain_star[0] + 1, domain_star[-1] + 1]\n",
    "            interfering_structures_domain = get_interfering_structures(domain, values)\n",
    "            result['domain interfering structures'] = \"yes\" if interfering_structures_domain else \"no\"\n",
    "            \n",
    "            interfering_structures_domain_star = get_interfering_structures(domain_star, values)\n",
    "            result['domain* interfering structures'] = \"yes\" if interfering_structures_domain_star else \"no\"\n",
    "                        \n",
    "            [mismatch, mismatch_size, mis_loc_type, mis_start, mis_end] = get_mismatch(domain, values,MCMA, hit_start, hit_end, mir_type)            \n",
    "            result['mismatch'] = mismatch\n",
    "            result['mismatch size'] = mismatch_size\n",
    "            result['mismatch type'] = mis_loc_type\n",
    "            result['mismatch start'] = mis_start\n",
    "            result['mismatch end'] = mis_end\n",
    "            [bulge, bulge_size, bulge_loc_type, bulge_start, bulge_end,bulge_type] = get_bulge(domain, values, hit_start, hit_end, mir_type)\n",
    "            result['bulge'] = bulge\n",
    "            result['bulge size'] = bulge_size\n",
    "            result['bulge type'] = bulge_loc_type\n",
    "            result['bulge start'] = bulge_start\n",
    "            result['bulge end'] = bulge_end\n",
    "            [internal_loop, size_HSBL, size_SSBL, intr_loc_type, intr_start, intr_end] = get_internal_loop(domain, values, MCMA, hit_start, hit_end, mir_type)\n",
    "            result['internal loop'] = internal_loop\n",
    "            result['internal loop HSBL'] = size_HSBL\n",
    "            result['internal loop SSBL'] = size_SSBL\n",
    "            if(size_SSBL != None):\n",
    "                result['internal loop total size'] = [size_SSBL[i] + size_HSBL[i] for i in range(len(size_SSBL))]\n",
    "            else:\n",
    "                result['internal loop total size'] = '-'\n",
    "            result['internal type'] = intr_loc_type\n",
    "            result['internal start'] = intr_start\n",
    "            result['internal end'] = intr_end\n",
    "            [proximal, proximal_hr, proximal_counter] = get_distance_info(\"loop proximal\",\"proximal border line\", mis_loc_type,mismatch_size, mis_start, bulge_size, bulge_loc_type, bulge_start,bulge_end, bulge_type,internal_loop,size_HSBL,size_SSBL,intr_loc_type,intr_start,intr_end,mir_type)\n",
    "            result['proximal distance'] = proximal_hr\n",
    "            [distal, distal_hr, distal_counter] = get_distance_info(\"loop distal\",\"distal border line\", mis_loc_type,mismatch_size, mis_start, bulge_size, bulge_loc_type, bulge_start,bulge_end, bulge_type,internal_loop,size_HSBL,size_SSBL,intr_loc_type,intr_start,intr_end, mir_type)\n",
    "            result['distal distance'] = distal_hr\n",
    "            boi_dist = get_boi_dist(boi_start, boi_end, hit_start, hit_end, mir_type, distal_counter)\n",
    "            result['base structure corrected length'] = boi_dist\n",
    "            psep_dist = get_psep_dist(primary_stem_end_point, mir_type, hit_start, hit_end, proximal_counter)\n",
    "            result['primary stem corrected length'] = psep_dist  \n",
    "            result['proximal closest to 15'] = closestto(proximal,15) \n",
    "            result['proximal closest to 21'] = closestto(proximal,21) \n",
    "            result['proximal closest to 36'] = closestto(proximal,36)\n",
    "            result['distal closest to 15'] = closestto(distal,15)\n",
    "            result['distal closest to 21'] = closestto(distal,21)\n",
    "            result['distal closest to 36'] = closestto(distal,36)\n",
    "            result['Loop distal junction distance'] = get_junction_distance(distal, boi_dist, effective_bulge_size_in_Hit_vicinity_regions, effective_internal_loop_size_in_Hit_vicinity_regions)            \n",
    "            result['Loop proximal junction distance'] = get_junction_distance(proximal, psep_dist, effective_bulge_size_in_Hit_vicinity_regions, effective_internal_loop_size_in_Hit_vicinity_regions)            \n",
    "        else:\n",
    "            result['message'] = \"immediate branching\"                        \n",
    "    return pd.Series(result)"
   ]
  },
  {
   "cell_type": "code",
   "execution_count": 117,
   "metadata": {
    "ExecuteTime": {
     "end_time": "2022-04-16T12:57:55.569312Z",
     "start_time": "2022-04-16T12:57:55.563468Z"
    },
    "hidden": true
   },
   "outputs": [],
   "source": [
    "def run(tag, path, extra):        \n",
    "    #return get_row(tag, path, extra)\n",
    "    try:\n",
    "        return get_row(tag, path,extra)\n",
    "    except Exception as e:\n",
    "        print(str(e), tag)        \n",
    "        return pd.Series()\n",
    "        \n",
    "def get_df_by_tag(tag , extra=0):           \n",
    "    ct_files = glob.glob(f'{base}{reformat(tag)}/SEQ_*.ct')    \n",
    "    return pd.Series(ct_files).apply(lambda path: run(tag, path,extra))    "
   ]
  },
  {
   "cell_type": "markdown",
   "metadata": {
    "hidden": true
   },
   "source": [
    "## apply on current data"
   ]
  },
  {
   "cell_type": "code",
   "execution_count": 118,
   "metadata": {
    "ExecuteTime": {
     "end_time": "2022-04-16T12:57:57.014514Z",
     "start_time": "2022-04-16T12:57:57.011254Z"
    },
    "hidden": true,
    "scrolled": false
   },
   "outputs": [],
   "source": [
    "#get_df_by_tag(df['tag'].iloc[8])#['ct'][1]\n",
    "#get_df_by_tag(\"AMWY02000161.1|-|1642-2061|201-220\", extra=0).to_csv('Result/d.csv')"
   ]
  },
  {
   "cell_type": "code",
   "execution_count": 112,
   "metadata": {
    "ExecuteTime": {
     "end_time": "2022-04-16T12:44:37.852284Z",
     "start_time": "2022-04-16T12:44:15.533403Z"
    },
    "hidden": true
   },
   "outputs": [
    {
     "data": {
      "text/html": [
       "<div>\n",
       "<style scoped>\n",
       "    .dataframe tbody tr th:only-of-type {\n",
       "        vertical-align: middle;\n",
       "    }\n",
       "\n",
       "    .dataframe tbody tr th {\n",
       "        vertical-align: top;\n",
       "    }\n",
       "\n",
       "    .dataframe thead th {\n",
       "        text-align: right;\n",
       "    }\n",
       "</style>\n",
       "<table border=\"1\" class=\"dataframe\">\n",
       "  <thead>\n",
       "    <tr style=\"text-align: right;\">\n",
       "      <th></th>\n",
       "      <th>seq name</th>\n",
       "      <th>ct name</th>\n",
       "      <th>ct</th>\n",
       "      <th>pdf</th>\n",
       "      <th>hit start</th>\n",
       "      <th>hit end</th>\n",
       "      <th>sign</th>\n",
       "      <th>delta G</th>\n",
       "      <th>full seq</th>\n",
       "      <th>full seq visualization</th>\n",
       "      <th>...</th>\n",
       "      <th>primary stem corrected length</th>\n",
       "      <th>proximal closest to 15</th>\n",
       "      <th>proximal closest to 21</th>\n",
       "      <th>proximal closest to 36</th>\n",
       "      <th>distal closest to 15</th>\n",
       "      <th>distal closest to 21</th>\n",
       "      <th>distal closest to 36</th>\n",
       "      <th>Loop distal junction distance</th>\n",
       "      <th>Loop proximal junction distance</th>\n",
       "      <th>message</th>\n",
       "    </tr>\n",
       "  </thead>\n",
       "  <tbody>\n",
       "    <tr>\n",
       "      <th>0</th>\n",
       "      <td>AMWY02021457.1|-|1184-1604|201-221</td>\n",
       "      <td>Fold 31</td>\n",
       "      <td>=HYPERLINK(\"http://jupyter.sysmanager.ir/tree/...</td>\n",
       "      <td>=HYPERLINK(\"http://jupyter.sysmanager.ir/tree/...</td>\n",
       "      <td>201</td>\n",
       "      <td>221</td>\n",
       "      <td>-</td>\n",
       "      <td>-120.53</td>\n",
       "      <td>caggcatttgtcttcaagtgaacaggttagtgaatcgattgtactt...</td>\n",
       "      <td>http://nibiru.tbi.univie.ac.at/forna/forna.htm...</td>\n",
       "      <td>...</td>\n",
       "      <td>4.0</td>\n",
       "      <td></td>\n",
       "      <td></td>\n",
       "      <td></td>\n",
       "      <td>[bulge=dist:4, size:1]</td>\n",
       "      <td>[bulge=dist:4, size:1]</td>\n",
       "      <td>[bulge=dist:4, size:1]</td>\n",
       "      <td>10.0</td>\n",
       "      <td>4.0</td>\n",
       "      <td>NaN</td>\n",
       "    </tr>\n",
       "    <tr>\n",
       "      <th>1</th>\n",
       "      <td>AMWY02021457.1|-|1184-1604|201-221</td>\n",
       "      <td>Fold 08</td>\n",
       "      <td>=HYPERLINK(\"http://jupyter.sysmanager.ir/tree/...</td>\n",
       "      <td>=HYPERLINK(\"http://jupyter.sysmanager.ir/tree/...</td>\n",
       "      <td>201</td>\n",
       "      <td>221</td>\n",
       "      <td>-</td>\n",
       "      <td>-123.48</td>\n",
       "      <td>caggcatttgtcttcaagtgaacaggttagtgaatcgattgtactt...</td>\n",
       "      <td>http://nibiru.tbi.univie.ac.at/forna/forna.htm...</td>\n",
       "      <td>...</td>\n",
       "      <td>NaN</td>\n",
       "      <td>NaN</td>\n",
       "      <td>NaN</td>\n",
       "      <td>NaN</td>\n",
       "      <td>NaN</td>\n",
       "      <td>NaN</td>\n",
       "      <td>NaN</td>\n",
       "      <td>NaN</td>\n",
       "      <td>NaN</td>\n",
       "      <td>hit self complementarity</td>\n",
       "    </tr>\n",
       "    <tr>\n",
       "      <th>2</th>\n",
       "      <td>AMWY02021457.1|-|1184-1604|201-221</td>\n",
       "      <td>Fold 11</td>\n",
       "      <td>=HYPERLINK(\"http://jupyter.sysmanager.ir/tree/...</td>\n",
       "      <td>=HYPERLINK(\"http://jupyter.sysmanager.ir/tree/...</td>\n",
       "      <td>201</td>\n",
       "      <td>221</td>\n",
       "      <td>-</td>\n",
       "      <td>-123.20</td>\n",
       "      <td>caggcatttgtcttcaagtgaacaggttagtgaatcgattgtactt...</td>\n",
       "      <td>http://nibiru.tbi.univie.ac.at/forna/forna.htm...</td>\n",
       "      <td>...</td>\n",
       "      <td>6.0</td>\n",
       "      <td></td>\n",
       "      <td></td>\n",
       "      <td></td>\n",
       "      <td>[bulge=dist:2, size:3]</td>\n",
       "      <td>[bulge=dist:2, size:3]</td>\n",
       "      <td>[bulge=dist:2, size:3]</td>\n",
       "      <td>4.0</td>\n",
       "      <td>6.0</td>\n",
       "      <td>NaN</td>\n",
       "    </tr>\n",
       "    <tr>\n",
       "      <th>3</th>\n",
       "      <td>AMWY02021457.1|-|1184-1604|201-221</td>\n",
       "      <td>Fold 09</td>\n",
       "      <td>=HYPERLINK(\"http://jupyter.sysmanager.ir/tree/...</td>\n",
       "      <td>=HYPERLINK(\"http://jupyter.sysmanager.ir/tree/...</td>\n",
       "      <td>201</td>\n",
       "      <td>221</td>\n",
       "      <td>-</td>\n",
       "      <td>-123.37</td>\n",
       "      <td>caggcatttgtcttcaagtgaacaggttagtgaatcgattgtactt...</td>\n",
       "      <td>http://nibiru.tbi.univie.ac.at/forna/forna.htm...</td>\n",
       "      <td>...</td>\n",
       "      <td>4.0</td>\n",
       "      <td></td>\n",
       "      <td></td>\n",
       "      <td></td>\n",
       "      <td>[bulge=dist:4, size:1]</td>\n",
       "      <td>[bulge=dist:4, size:1]</td>\n",
       "      <td>[bulge=dist:4, size:1]</td>\n",
       "      <td>10.0</td>\n",
       "      <td>4.0</td>\n",
       "      <td>NaN</td>\n",
       "    </tr>\n",
       "    <tr>\n",
       "      <th>4</th>\n",
       "      <td>AMWY02021457.1|-|1184-1604|201-221</td>\n",
       "      <td>Fold 17</td>\n",
       "      <td>=HYPERLINK(\"http://jupyter.sysmanager.ir/tree/...</td>\n",
       "      <td>=HYPERLINK(\"http://jupyter.sysmanager.ir/tree/...</td>\n",
       "      <td>201</td>\n",
       "      <td>221</td>\n",
       "      <td>-</td>\n",
       "      <td>-122.57</td>\n",
       "      <td>caggcatttgtcttcaagtgaacaggttagtgaatcgattgtactt...</td>\n",
       "      <td>http://nibiru.tbi.univie.ac.at/forna/forna.htm...</td>\n",
       "      <td>...</td>\n",
       "      <td>1.0</td>\n",
       "      <td></td>\n",
       "      <td></td>\n",
       "      <td></td>\n",
       "      <td>[bulge=dist:10, size:3]</td>\n",
       "      <td>[bulge=dist:10, size:3]</td>\n",
       "      <td>[bulge=dist:10, size:3]</td>\n",
       "      <td>14.0</td>\n",
       "      <td>1.0</td>\n",
       "      <td>NaN</td>\n",
       "    </tr>\n",
       "    <tr>\n",
       "      <th>5</th>\n",
       "      <td>AMWY02021457.1|-|1184-1604|201-221</td>\n",
       "      <td>Fold 01</td>\n",
       "      <td>=HYPERLINK(\"http://jupyter.sysmanager.ir/tree/...</td>\n",
       "      <td>=HYPERLINK(\"http://jupyter.sysmanager.ir/tree/...</td>\n",
       "      <td>201</td>\n",
       "      <td>221</td>\n",
       "      <td>-</td>\n",
       "      <td>-125.27</td>\n",
       "      <td>caggcatttgtcttcaagtgaacaggttagtgaatcgattgtactt...</td>\n",
       "      <td>http://nibiru.tbi.univie.ac.at/forna/forna.htm...</td>\n",
       "      <td>...</td>\n",
       "      <td>1.0</td>\n",
       "      <td></td>\n",
       "      <td></td>\n",
       "      <td></td>\n",
       "      <td></td>\n",
       "      <td></td>\n",
       "      <td></td>\n",
       "      <td>0.0</td>\n",
       "      <td>1.0</td>\n",
       "      <td>NaN</td>\n",
       "    </tr>\n",
       "    <tr>\n",
       "      <th>6</th>\n",
       "      <td>AMWY02021457.1|-|1184-1604|201-221</td>\n",
       "      <td>Fold 13</td>\n",
       "      <td>=HYPERLINK(\"http://jupyter.sysmanager.ir/tree/...</td>\n",
       "      <td>=HYPERLINK(\"http://jupyter.sysmanager.ir/tree/...</td>\n",
       "      <td>201</td>\n",
       "      <td>221</td>\n",
       "      <td>-</td>\n",
       "      <td>-122.98</td>\n",
       "      <td>caggcatttgtcttcaagtgaacaggttagtgaatcgattgtactt...</td>\n",
       "      <td>http://nibiru.tbi.univie.ac.at/forna/forna.htm...</td>\n",
       "      <td>...</td>\n",
       "      <td>1.0</td>\n",
       "      <td></td>\n",
       "      <td></td>\n",
       "      <td></td>\n",
       "      <td>[mismatch=dist:3, size:1]</td>\n",
       "      <td></td>\n",
       "      <td></td>\n",
       "      <td>8.0</td>\n",
       "      <td>1.0</td>\n",
       "      <td>NaN</td>\n",
       "    </tr>\n",
       "    <tr>\n",
       "      <th>7</th>\n",
       "      <td>AMWY02021457.1|-|1184-1604|201-221</td>\n",
       "      <td>Fold 38</td>\n",
       "      <td>=HYPERLINK(\"http://jupyter.sysmanager.ir/tree/...</td>\n",
       "      <td>=HYPERLINK(\"http://jupyter.sysmanager.ir/tree/...</td>\n",
       "      <td>201</td>\n",
       "      <td>221</td>\n",
       "      <td>-</td>\n",
       "      <td>-119.07</td>\n",
       "      <td>caggcatttgtcttcaagtgaacaggttagtgaatcgattgtactt...</td>\n",
       "      <td>http://nibiru.tbi.univie.ac.at/forna/forna.htm...</td>\n",
       "      <td>...</td>\n",
       "      <td>4.0</td>\n",
       "      <td></td>\n",
       "      <td></td>\n",
       "      <td></td>\n",
       "      <td>[loop=dist:8, size:1 + 3]</td>\n",
       "      <td>[loop=dist:8, size:1 + 3]</td>\n",
       "      <td>[loop=dist:8, size:1 + 3]</td>\n",
       "      <td>14.0</td>\n",
       "      <td>4.0</td>\n",
       "      <td>NaN</td>\n",
       "    </tr>\n",
       "    <tr>\n",
       "      <th>8</th>\n",
       "      <td>AMWY02021457.1|-|1184-1604|201-221</td>\n",
       "      <td>Fold 03</td>\n",
       "      <td>=HYPERLINK(\"http://jupyter.sysmanager.ir/tree/...</td>\n",
       "      <td>=HYPERLINK(\"http://jupyter.sysmanager.ir/tree/...</td>\n",
       "      <td>201</td>\n",
       "      <td>221</td>\n",
       "      <td>-</td>\n",
       "      <td>-124.01</td>\n",
       "      <td>caggcatttgtcttcaagtgaacaggttagtgaatcgattgtactt...</td>\n",
       "      <td>http://nibiru.tbi.univie.ac.at/forna/forna.htm...</td>\n",
       "      <td>...</td>\n",
       "      <td>NaN</td>\n",
       "      <td>NaN</td>\n",
       "      <td>NaN</td>\n",
       "      <td>NaN</td>\n",
       "      <td>NaN</td>\n",
       "      <td>NaN</td>\n",
       "      <td>NaN</td>\n",
       "      <td>NaN</td>\n",
       "      <td>NaN</td>\n",
       "      <td>unfit BOI structure</td>\n",
       "    </tr>\n",
       "    <tr>\n",
       "      <th>9</th>\n",
       "      <td>AMWY02021457.1|-|1184-1604|201-221</td>\n",
       "      <td>Fold 30</td>\n",
       "      <td>=HYPERLINK(\"http://jupyter.sysmanager.ir/tree/...</td>\n",
       "      <td>=HYPERLINK(\"http://jupyter.sysmanager.ir/tree/...</td>\n",
       "      <td>201</td>\n",
       "      <td>221</td>\n",
       "      <td>-</td>\n",
       "      <td>-120.65</td>\n",
       "      <td>caggcatttgtcttcaagtgaacaggttagtgaatcgattgtactt...</td>\n",
       "      <td>http://nibiru.tbi.univie.ac.at/forna/forna.htm...</td>\n",
       "      <td>...</td>\n",
       "      <td>1.0</td>\n",
       "      <td></td>\n",
       "      <td></td>\n",
       "      <td></td>\n",
       "      <td></td>\n",
       "      <td></td>\n",
       "      <td></td>\n",
       "      <td>0.0</td>\n",
       "      <td>1.0</td>\n",
       "      <td>NaN</td>\n",
       "    </tr>\n",
       "    <tr>\n",
       "      <th>10</th>\n",
       "      <td>AMWY02021457.1|-|1184-1604|201-221</td>\n",
       "      <td>Fold 14</td>\n",
       "      <td>=HYPERLINK(\"http://jupyter.sysmanager.ir/tree/...</td>\n",
       "      <td>=HYPERLINK(\"http://jupyter.sysmanager.ir/tree/...</td>\n",
       "      <td>201</td>\n",
       "      <td>221</td>\n",
       "      <td>-</td>\n",
       "      <td>-122.82</td>\n",
       "      <td>caggcatttgtcttcaagtgaacaggttagtgaatcgattgtactt...</td>\n",
       "      <td>http://nibiru.tbi.univie.ac.at/forna/forna.htm...</td>\n",
       "      <td>...</td>\n",
       "      <td>1.0</td>\n",
       "      <td></td>\n",
       "      <td></td>\n",
       "      <td></td>\n",
       "      <td>[bulge=dist:10, size:3]</td>\n",
       "      <td>[bulge=dist:10, size:3]</td>\n",
       "      <td>[bulge=dist:10, size:3]</td>\n",
       "      <td>14.0</td>\n",
       "      <td>1.0</td>\n",
       "      <td>NaN</td>\n",
       "    </tr>\n",
       "    <tr>\n",
       "      <th>11</th>\n",
       "      <td>AMWY02021457.1|-|1184-1604|201-221</td>\n",
       "      <td>Fold 27</td>\n",
       "      <td>=HYPERLINK(\"http://jupyter.sysmanager.ir/tree/...</td>\n",
       "      <td>=HYPERLINK(\"http://jupyter.sysmanager.ir/tree/...</td>\n",
       "      <td>201</td>\n",
       "      <td>221</td>\n",
       "      <td>-</td>\n",
       "      <td>-120.98</td>\n",
       "      <td>caggcatttgtcttcaagtgaacaggttagtgaatcgattgtactt...</td>\n",
       "      <td>http://nibiru.tbi.univie.ac.at/forna/forna.htm...</td>\n",
       "      <td>...</td>\n",
       "      <td>NaN</td>\n",
       "      <td>NaN</td>\n",
       "      <td>NaN</td>\n",
       "      <td>NaN</td>\n",
       "      <td>NaN</td>\n",
       "      <td>NaN</td>\n",
       "      <td>NaN</td>\n",
       "      <td>NaN</td>\n",
       "      <td>NaN</td>\n",
       "      <td>hit self complementarity</td>\n",
       "    </tr>\n",
       "    <tr>\n",
       "      <th>12</th>\n",
       "      <td>AMWY02021457.1|-|1184-1604|201-221</td>\n",
       "      <td>Fold 23</td>\n",
       "      <td>=HYPERLINK(\"http://jupyter.sysmanager.ir/tree/...</td>\n",
       "      <td>=HYPERLINK(\"http://jupyter.sysmanager.ir/tree/...</td>\n",
       "      <td>201</td>\n",
       "      <td>221</td>\n",
       "      <td>-</td>\n",
       "      <td>-121.61</td>\n",
       "      <td>caggcatttgtcttcaagtgaacaggttagtgaatcgattgtactt...</td>\n",
       "      <td>http://nibiru.tbi.univie.ac.at/forna/forna.htm...</td>\n",
       "      <td>...</td>\n",
       "      <td>3.0</td>\n",
       "      <td></td>\n",
       "      <td></td>\n",
       "      <td></td>\n",
       "      <td>[loop=dist:12, size:4 + 1]</td>\n",
       "      <td>[loop=dist:12, size:4 + 1]</td>\n",
       "      <td>[loop=dist:12, size:4 + 1]</td>\n",
       "      <td>12.0</td>\n",
       "      <td>3.0</td>\n",
       "      <td>NaN</td>\n",
       "    </tr>\n",
       "    <tr>\n",
       "      <th>13</th>\n",
       "      <td>AMWY02021457.1|-|1184-1604|201-221</td>\n",
       "      <td>Fold 33</td>\n",
       "      <td>=HYPERLINK(\"http://jupyter.sysmanager.ir/tree/...</td>\n",
       "      <td>=HYPERLINK(\"http://jupyter.sysmanager.ir/tree/...</td>\n",
       "      <td>201</td>\n",
       "      <td>221</td>\n",
       "      <td>-</td>\n",
       "      <td>-120.07</td>\n",
       "      <td>caggcatttgtcttcaagtgaacaggttagtgaatcgattgtactt...</td>\n",
       "      <td>http://nibiru.tbi.univie.ac.at/forna/forna.htm...</td>\n",
       "      <td>...</td>\n",
       "      <td>NaN</td>\n",
       "      <td>NaN</td>\n",
       "      <td>NaN</td>\n",
       "      <td>NaN</td>\n",
       "      <td>NaN</td>\n",
       "      <td>NaN</td>\n",
       "      <td>NaN</td>\n",
       "      <td>NaN</td>\n",
       "      <td>NaN</td>\n",
       "      <td>hit self complementarity</td>\n",
       "    </tr>\n",
       "    <tr>\n",
       "      <th>14</th>\n",
       "      <td>AMWY02021457.1|-|1184-1604|201-221</td>\n",
       "      <td>Fold 10</td>\n",
       "      <td>=HYPERLINK(\"http://jupyter.sysmanager.ir/tree/...</td>\n",
       "      <td>=HYPERLINK(\"http://jupyter.sysmanager.ir/tree/...</td>\n",
       "      <td>201</td>\n",
       "      <td>221</td>\n",
       "      <td>-</td>\n",
       "      <td>-123.30</td>\n",
       "      <td>caggcatttgtcttcaagtgaacaggttagtgaatcgattgtactt...</td>\n",
       "      <td>http://nibiru.tbi.univie.ac.at/forna/forna.htm...</td>\n",
       "      <td>...</td>\n",
       "      <td>1.0</td>\n",
       "      <td></td>\n",
       "      <td></td>\n",
       "      <td></td>\n",
       "      <td>[loop=dist:13, size:1 + 3]</td>\n",
       "      <td>[loop=dist:13, size:1 + 3]</td>\n",
       "      <td>[loop=dist:13, size:1 + 3]</td>\n",
       "      <td>23.0</td>\n",
       "      <td>1.0</td>\n",
       "      <td>NaN</td>\n",
       "    </tr>\n",
       "    <tr>\n",
       "      <th>15</th>\n",
       "      <td>AMWY02021457.1|-|1184-1604|201-221</td>\n",
       "      <td>Fold 18</td>\n",
       "      <td>=HYPERLINK(\"http://jupyter.sysmanager.ir/tree/...</td>\n",
       "      <td>=HYPERLINK(\"http://jupyter.sysmanager.ir/tree/...</td>\n",
       "      <td>201</td>\n",
       "      <td>221</td>\n",
       "      <td>-</td>\n",
       "      <td>-122.38</td>\n",
       "      <td>caggcatttgtcttcaagtgaacaggttagtgaatcgattgtactt...</td>\n",
       "      <td>http://nibiru.tbi.univie.ac.at/forna/forna.htm...</td>\n",
       "      <td>...</td>\n",
       "      <td>3.0</td>\n",
       "      <td></td>\n",
       "      <td></td>\n",
       "      <td></td>\n",
       "      <td>[bulge=dist:5, size:1]</td>\n",
       "      <td>[bulge=dist:5, size:1]</td>\n",
       "      <td>[bulge=dist:5, size:1]</td>\n",
       "      <td>10.0</td>\n",
       "      <td>3.0</td>\n",
       "      <td>NaN</td>\n",
       "    </tr>\n",
       "    <tr>\n",
       "      <th>16</th>\n",
       "      <td>AMWY02021457.1|-|1184-1604|201-221</td>\n",
       "      <td>Fold 21</td>\n",
       "      <td>=HYPERLINK(\"http://jupyter.sysmanager.ir/tree/...</td>\n",
       "      <td>=HYPERLINK(\"http://jupyter.sysmanager.ir/tree/...</td>\n",
       "      <td>201</td>\n",
       "      <td>221</td>\n",
       "      <td>-</td>\n",
       "      <td>-121.92</td>\n",
       "      <td>caggcatttgtcttcaagtgaacaggttagtgaatcgattgtactt...</td>\n",
       "      <td>http://nibiru.tbi.univie.ac.at/forna/forna.htm...</td>\n",
       "      <td>...</td>\n",
       "      <td>1.0</td>\n",
       "      <td></td>\n",
       "      <td></td>\n",
       "      <td></td>\n",
       "      <td>[mismatch=dist:3, size:1]</td>\n",
       "      <td></td>\n",
       "      <td></td>\n",
       "      <td>9.0</td>\n",
       "      <td>1.0</td>\n",
       "      <td>NaN</td>\n",
       "    </tr>\n",
       "    <tr>\n",
       "      <th>17</th>\n",
       "      <td>AMWY02021457.1|-|1184-1604|201-221</td>\n",
       "      <td>Fold 29</td>\n",
       "      <td>=HYPERLINK(\"http://jupyter.sysmanager.ir/tree/...</td>\n",
       "      <td>=HYPERLINK(\"http://jupyter.sysmanager.ir/tree/...</td>\n",
       "      <td>201</td>\n",
       "      <td>221</td>\n",
       "      <td>-</td>\n",
       "      <td>-120.74</td>\n",
       "      <td>caggcatttgtcttcaagtgaacaggttagtgaatcgattgtactt...</td>\n",
       "      <td>http://nibiru.tbi.univie.ac.at/forna/forna.htm...</td>\n",
       "      <td>...</td>\n",
       "      <td>NaN</td>\n",
       "      <td>NaN</td>\n",
       "      <td>NaN</td>\n",
       "      <td>NaN</td>\n",
       "      <td>NaN</td>\n",
       "      <td>NaN</td>\n",
       "      <td>NaN</td>\n",
       "      <td>NaN</td>\n",
       "      <td>NaN</td>\n",
       "      <td>discontinuous star strand</td>\n",
       "    </tr>\n",
       "    <tr>\n",
       "      <th>18</th>\n",
       "      <td>AMWY02021457.1|-|1184-1604|201-221</td>\n",
       "      <td>Fold 07</td>\n",
       "      <td>=HYPERLINK(\"http://jupyter.sysmanager.ir/tree/...</td>\n",
       "      <td>=HYPERLINK(\"http://jupyter.sysmanager.ir/tree/...</td>\n",
       "      <td>201</td>\n",
       "      <td>221</td>\n",
       "      <td>-</td>\n",
       "      <td>-123.52</td>\n",
       "      <td>caggcatttgtcttcaagtgaacaggttagtgaatcgattgtactt...</td>\n",
       "      <td>http://nibiru.tbi.univie.ac.at/forna/forna.htm...</td>\n",
       "      <td>...</td>\n",
       "      <td>4.0</td>\n",
       "      <td></td>\n",
       "      <td></td>\n",
       "      <td></td>\n",
       "      <td>[bulge=dist:5, size:1]</td>\n",
       "      <td>[bulge=dist:5, size:1]</td>\n",
       "      <td>[bulge=dist:5, size:1]</td>\n",
       "      <td>10.0</td>\n",
       "      <td>4.0</td>\n",
       "      <td>NaN</td>\n",
       "    </tr>\n",
       "    <tr>\n",
       "      <th>19</th>\n",
       "      <td>AMWY02021457.1|-|1184-1604|201-221</td>\n",
       "      <td>Fold 28</td>\n",
       "      <td>=HYPERLINK(\"http://jupyter.sysmanager.ir/tree/...</td>\n",
       "      <td>=HYPERLINK(\"http://jupyter.sysmanager.ir/tree/...</td>\n",
       "      <td>201</td>\n",
       "      <td>221</td>\n",
       "      <td>-</td>\n",
       "      <td>-120.87</td>\n",
       "      <td>caggcatttgtcttcaagtgaacaggttagtgaatcgattgtactt...</td>\n",
       "      <td>http://nibiru.tbi.univie.ac.at/forna/forna.htm...</td>\n",
       "      <td>...</td>\n",
       "      <td>NaN</td>\n",
       "      <td>NaN</td>\n",
       "      <td>NaN</td>\n",
       "      <td>NaN</td>\n",
       "      <td>NaN</td>\n",
       "      <td>NaN</td>\n",
       "      <td>NaN</td>\n",
       "      <td>NaN</td>\n",
       "      <td>NaN</td>\n",
       "      <td>unfit BOI structure</td>\n",
       "    </tr>\n",
       "    <tr>\n",
       "      <th>20</th>\n",
       "      <td>AMWY02021457.1|-|1184-1604|201-221</td>\n",
       "      <td>Fold 20</td>\n",
       "      <td>=HYPERLINK(\"http://jupyter.sysmanager.ir/tree/...</td>\n",
       "      <td>=HYPERLINK(\"http://jupyter.sysmanager.ir/tree/...</td>\n",
       "      <td>201</td>\n",
       "      <td>221</td>\n",
       "      <td>-</td>\n",
       "      <td>-122.05</td>\n",
       "      <td>caggcatttgtcttcaagtgaacaggttagtgaatcgattgtactt...</td>\n",
       "      <td>http://nibiru.tbi.univie.ac.at/forna/forna.htm...</td>\n",
       "      <td>...</td>\n",
       "      <td>NaN</td>\n",
       "      <td>NaN</td>\n",
       "      <td>NaN</td>\n",
       "      <td>NaN</td>\n",
       "      <td>NaN</td>\n",
       "      <td>NaN</td>\n",
       "      <td>NaN</td>\n",
       "      <td>NaN</td>\n",
       "      <td>NaN</td>\n",
       "      <td>hit self complementarity</td>\n",
       "    </tr>\n",
       "    <tr>\n",
       "      <th>21</th>\n",
       "      <td>AMWY02021457.1|-|1184-1604|201-221</td>\n",
       "      <td>Fold 32</td>\n",
       "      <td>=HYPERLINK(\"http://jupyter.sysmanager.ir/tree/...</td>\n",
       "      <td>=HYPERLINK(\"http://jupyter.sysmanager.ir/tree/...</td>\n",
       "      <td>201</td>\n",
       "      <td>221</td>\n",
       "      <td>-</td>\n",
       "      <td>-120.14</td>\n",
       "      <td>caggcatttgtcttcaagtgaacaggttagtgaatcgattgtactt...</td>\n",
       "      <td>http://nibiru.tbi.univie.ac.at/forna/forna.htm...</td>\n",
       "      <td>...</td>\n",
       "      <td>1.0</td>\n",
       "      <td></td>\n",
       "      <td></td>\n",
       "      <td></td>\n",
       "      <td>[mismatch=dist:3, size:1]</td>\n",
       "      <td></td>\n",
       "      <td></td>\n",
       "      <td>7.0</td>\n",
       "      <td>1.0</td>\n",
       "      <td>NaN</td>\n",
       "    </tr>\n",
       "    <tr>\n",
       "      <th>22</th>\n",
       "      <td>AMWY02021457.1|-|1184-1604|201-221</td>\n",
       "      <td>Fold 12</td>\n",
       "      <td>=HYPERLINK(\"http://jupyter.sysmanager.ir/tree/...</td>\n",
       "      <td>=HYPERLINK(\"http://jupyter.sysmanager.ir/tree/...</td>\n",
       "      <td>201</td>\n",
       "      <td>221</td>\n",
       "      <td>-</td>\n",
       "      <td>-123.17</td>\n",
       "      <td>caggcatttgtcttcaagtgaacaggttagtgaatcgattgtactt...</td>\n",
       "      <td>http://nibiru.tbi.univie.ac.at/forna/forna.htm...</td>\n",
       "      <td>...</td>\n",
       "      <td>NaN</td>\n",
       "      <td>NaN</td>\n",
       "      <td>NaN</td>\n",
       "      <td>NaN</td>\n",
       "      <td>NaN</td>\n",
       "      <td>NaN</td>\n",
       "      <td>NaN</td>\n",
       "      <td>NaN</td>\n",
       "      <td>NaN</td>\n",
       "      <td>unfit BOI structure</td>\n",
       "    </tr>\n",
       "    <tr>\n",
       "      <th>23</th>\n",
       "      <td>AMWY02021457.1|-|1184-1604|201-221</td>\n",
       "      <td>Fold 04</td>\n",
       "      <td>=HYPERLINK(\"http://jupyter.sysmanager.ir/tree/...</td>\n",
       "      <td>=HYPERLINK(\"http://jupyter.sysmanager.ir/tree/...</td>\n",
       "      <td>201</td>\n",
       "      <td>221</td>\n",
       "      <td>-</td>\n",
       "      <td>-123.99</td>\n",
       "      <td>caggcatttgtcttcaagtgaacaggttagtgaatcgattgtactt...</td>\n",
       "      <td>http://nibiru.tbi.univie.ac.at/forna/forna.htm...</td>\n",
       "      <td>...</td>\n",
       "      <td>1.0</td>\n",
       "      <td></td>\n",
       "      <td></td>\n",
       "      <td></td>\n",
       "      <td></td>\n",
       "      <td></td>\n",
       "      <td></td>\n",
       "      <td>0.0</td>\n",
       "      <td>1.0</td>\n",
       "      <td>NaN</td>\n",
       "    </tr>\n",
       "    <tr>\n",
       "      <th>24</th>\n",
       "      <td>AMWY02021457.1|-|1184-1604|201-221</td>\n",
       "      <td>Fold 34</td>\n",
       "      <td>=HYPERLINK(\"http://jupyter.sysmanager.ir/tree/...</td>\n",
       "      <td>=HYPERLINK(\"http://jupyter.sysmanager.ir/tree/...</td>\n",
       "      <td>201</td>\n",
       "      <td>221</td>\n",
       "      <td>-</td>\n",
       "      <td>-119.68</td>\n",
       "      <td>caggcatttgtcttcaagtgaacaggttagtgaatcgattgtactt...</td>\n",
       "      <td>http://nibiru.tbi.univie.ac.at/forna/forna.htm...</td>\n",
       "      <td>...</td>\n",
       "      <td>1.0</td>\n",
       "      <td></td>\n",
       "      <td></td>\n",
       "      <td></td>\n",
       "      <td></td>\n",
       "      <td></td>\n",
       "      <td></td>\n",
       "      <td>0.0</td>\n",
       "      <td>1.0</td>\n",
       "      <td>NaN</td>\n",
       "    </tr>\n",
       "    <tr>\n",
       "      <th>25</th>\n",
       "      <td>AMWY02021457.1|-|1184-1604|201-221</td>\n",
       "      <td>Fold 05</td>\n",
       "      <td>=HYPERLINK(\"http://jupyter.sysmanager.ir/tree/...</td>\n",
       "      <td>=HYPERLINK(\"http://jupyter.sysmanager.ir/tree/...</td>\n",
       "      <td>201</td>\n",
       "      <td>221</td>\n",
       "      <td>-</td>\n",
       "      <td>-123.89</td>\n",
       "      <td>caggcatttgtcttcaagtgaacaggttagtgaatcgattgtactt...</td>\n",
       "      <td>http://nibiru.tbi.univie.ac.at/forna/forna.htm...</td>\n",
       "      <td>...</td>\n",
       "      <td>1.0</td>\n",
       "      <td></td>\n",
       "      <td></td>\n",
       "      <td></td>\n",
       "      <td>[bulge=dist:10, size:3]</td>\n",
       "      <td>[bulge=dist:10, size:3]</td>\n",
       "      <td>[bulge=dist:10, size:3]</td>\n",
       "      <td>14.0</td>\n",
       "      <td>1.0</td>\n",
       "      <td>NaN</td>\n",
       "    </tr>\n",
       "    <tr>\n",
       "      <th>26</th>\n",
       "      <td>AMWY02021457.1|-|1184-1604|201-221</td>\n",
       "      <td>Fold 06</td>\n",
       "      <td>=HYPERLINK(\"http://jupyter.sysmanager.ir/tree/...</td>\n",
       "      <td>=HYPERLINK(\"http://jupyter.sysmanager.ir/tree/...</td>\n",
       "      <td>201</td>\n",
       "      <td>221</td>\n",
       "      <td>-</td>\n",
       "      <td>-123.53</td>\n",
       "      <td>caggcatttgtcttcaagtgaacaggttagtgaatcgattgtactt...</td>\n",
       "      <td>http://nibiru.tbi.univie.ac.at/forna/forna.htm...</td>\n",
       "      <td>...</td>\n",
       "      <td>1.0</td>\n",
       "      <td></td>\n",
       "      <td></td>\n",
       "      <td></td>\n",
       "      <td>[bulge=dist:10, size:3]</td>\n",
       "      <td>[bulge=dist:10, size:3]</td>\n",
       "      <td>[bulge=dist:10, size:3]</td>\n",
       "      <td>14.0</td>\n",
       "      <td>1.0</td>\n",
       "      <td>NaN</td>\n",
       "    </tr>\n",
       "    <tr>\n",
       "      <th>27</th>\n",
       "      <td>AMWY02021457.1|-|1184-1604|201-221</td>\n",
       "      <td>Fold 35</td>\n",
       "      <td>=HYPERLINK(\"http://jupyter.sysmanager.ir/tree/...</td>\n",
       "      <td>=HYPERLINK(\"http://jupyter.sysmanager.ir/tree/...</td>\n",
       "      <td>201</td>\n",
       "      <td>221</td>\n",
       "      <td>-</td>\n",
       "      <td>-119.54</td>\n",
       "      <td>caggcatttgtcttcaagtgaacaggttagtgaatcgattgtactt...</td>\n",
       "      <td>http://nibiru.tbi.univie.ac.at/forna/forna.htm...</td>\n",
       "      <td>...</td>\n",
       "      <td>NaN</td>\n",
       "      <td>NaN</td>\n",
       "      <td>NaN</td>\n",
       "      <td>NaN</td>\n",
       "      <td>NaN</td>\n",
       "      <td>NaN</td>\n",
       "      <td>NaN</td>\n",
       "      <td>NaN</td>\n",
       "      <td>NaN</td>\n",
       "      <td>discontinuous star strand</td>\n",
       "    </tr>\n",
       "    <tr>\n",
       "      <th>28</th>\n",
       "      <td>AMWY02021457.1|-|1184-1604|201-221</td>\n",
       "      <td>Fold 39</td>\n",
       "      <td>=HYPERLINK(\"http://jupyter.sysmanager.ir/tree/...</td>\n",
       "      <td>=HYPERLINK(\"http://jupyter.sysmanager.ir/tree/...</td>\n",
       "      <td>201</td>\n",
       "      <td>221</td>\n",
       "      <td>-</td>\n",
       "      <td>-119.03</td>\n",
       "      <td>caggcatttgtcttcaagtgaacaggttagtgaatcgattgtactt...</td>\n",
       "      <td>http://nibiru.tbi.univie.ac.at/forna/forna.htm...</td>\n",
       "      <td>...</td>\n",
       "      <td>1.0</td>\n",
       "      <td></td>\n",
       "      <td></td>\n",
       "      <td></td>\n",
       "      <td>[bulge=dist:10, size:3]</td>\n",
       "      <td>[bulge=dist:10, size:3]</td>\n",
       "      <td>[bulge=dist:10, size:3]</td>\n",
       "      <td>14.0</td>\n",
       "      <td>1.0</td>\n",
       "      <td>NaN</td>\n",
       "    </tr>\n",
       "    <tr>\n",
       "      <th>29</th>\n",
       "      <td>AMWY02021457.1|-|1184-1604|201-221</td>\n",
       "      <td>Fold 19</td>\n",
       "      <td>=HYPERLINK(\"http://jupyter.sysmanager.ir/tree/...</td>\n",
       "      <td>=HYPERLINK(\"http://jupyter.sysmanager.ir/tree/...</td>\n",
       "      <td>201</td>\n",
       "      <td>221</td>\n",
       "      <td>-</td>\n",
       "      <td>-122.15</td>\n",
       "      <td>caggcatttgtcttcaagtgaacaggttagtgaatcgattgtactt...</td>\n",
       "      <td>http://nibiru.tbi.univie.ac.at/forna/forna.htm...</td>\n",
       "      <td>...</td>\n",
       "      <td>1.0</td>\n",
       "      <td></td>\n",
       "      <td></td>\n",
       "      <td></td>\n",
       "      <td>[mismatch=dist:3, size:1]</td>\n",
       "      <td></td>\n",
       "      <td></td>\n",
       "      <td>10.0</td>\n",
       "      <td>1.0</td>\n",
       "      <td>NaN</td>\n",
       "    </tr>\n",
       "    <tr>\n",
       "      <th>30</th>\n",
       "      <td>AMWY02021457.1|-|1184-1604|201-221</td>\n",
       "      <td>Fold 26</td>\n",
       "      <td>=HYPERLINK(\"http://jupyter.sysmanager.ir/tree/...</td>\n",
       "      <td>=HYPERLINK(\"http://jupyter.sysmanager.ir/tree/...</td>\n",
       "      <td>201</td>\n",
       "      <td>221</td>\n",
       "      <td>-</td>\n",
       "      <td>-121.07</td>\n",
       "      <td>caggcatttgtcttcaagtgaacaggttagtgaatcgattgtactt...</td>\n",
       "      <td>http://nibiru.tbi.univie.ac.at/forna/forna.htm...</td>\n",
       "      <td>...</td>\n",
       "      <td>1.0</td>\n",
       "      <td></td>\n",
       "      <td></td>\n",
       "      <td></td>\n",
       "      <td>[mismatch=dist:3, size:1]</td>\n",
       "      <td></td>\n",
       "      <td></td>\n",
       "      <td>7.0</td>\n",
       "      <td>1.0</td>\n",
       "      <td>NaN</td>\n",
       "    </tr>\n",
       "    <tr>\n",
       "      <th>31</th>\n",
       "      <td>AMWY02021457.1|-|1184-1604|201-221</td>\n",
       "      <td>Fold 02</td>\n",
       "      <td>=HYPERLINK(\"http://jupyter.sysmanager.ir/tree/...</td>\n",
       "      <td>=HYPERLINK(\"http://jupyter.sysmanager.ir/tree/...</td>\n",
       "      <td>201</td>\n",
       "      <td>221</td>\n",
       "      <td>-</td>\n",
       "      <td>-124.89</td>\n",
       "      <td>caggcatttgtcttcaagtgaacaggttagtgaatcgattgtactt...</td>\n",
       "      <td>http://nibiru.tbi.univie.ac.at/forna/forna.htm...</td>\n",
       "      <td>...</td>\n",
       "      <td>1.0</td>\n",
       "      <td></td>\n",
       "      <td></td>\n",
       "      <td></td>\n",
       "      <td></td>\n",
       "      <td></td>\n",
       "      <td></td>\n",
       "      <td>0.0</td>\n",
       "      <td>1.0</td>\n",
       "      <td>NaN</td>\n",
       "    </tr>\n",
       "    <tr>\n",
       "      <th>32</th>\n",
       "      <td>AMWY02021457.1|-|1184-1604|201-221</td>\n",
       "      <td>Fold 15</td>\n",
       "      <td>=HYPERLINK(\"http://jupyter.sysmanager.ir/tree/...</td>\n",
       "      <td>=HYPERLINK(\"http://jupyter.sysmanager.ir/tree/...</td>\n",
       "      <td>201</td>\n",
       "      <td>221</td>\n",
       "      <td>-</td>\n",
       "      <td>-122.76</td>\n",
       "      <td>caggcatttgtcttcaagtgaacaggttagtgaatcgattgtactt...</td>\n",
       "      <td>http://nibiru.tbi.univie.ac.at/forna/forna.htm...</td>\n",
       "      <td>...</td>\n",
       "      <td>8.0</td>\n",
       "      <td></td>\n",
       "      <td></td>\n",
       "      <td></td>\n",
       "      <td>[loop=dist:15, size:3 + 3]</td>\n",
       "      <td>[loop=dist:15, size:3 + 3]</td>\n",
       "      <td>[loop=dist:15, size:3 + 3]</td>\n",
       "      <td>15.0</td>\n",
       "      <td>8.0</td>\n",
       "      <td>NaN</td>\n",
       "    </tr>\n",
       "    <tr>\n",
       "      <th>33</th>\n",
       "      <td>AMWY02021457.1|-|1184-1604|201-221</td>\n",
       "      <td>Fold 24</td>\n",
       "      <td>=HYPERLINK(\"http://jupyter.sysmanager.ir/tree/...</td>\n",
       "      <td>=HYPERLINK(\"http://jupyter.sysmanager.ir/tree/...</td>\n",
       "      <td>201</td>\n",
       "      <td>221</td>\n",
       "      <td>-</td>\n",
       "      <td>-121.51</td>\n",
       "      <td>caggcatttgtcttcaagtgaacaggttagtgaatcgattgtactt...</td>\n",
       "      <td>http://nibiru.tbi.univie.ac.at/forna/forna.htm...</td>\n",
       "      <td>...</td>\n",
       "      <td>1.0</td>\n",
       "      <td></td>\n",
       "      <td></td>\n",
       "      <td></td>\n",
       "      <td>[bulge=dist:10, size:3]</td>\n",
       "      <td>[bulge=dist:10, size:3]</td>\n",
       "      <td>[bulge=dist:10, size:3]</td>\n",
       "      <td>14.0</td>\n",
       "      <td>1.0</td>\n",
       "      <td>NaN</td>\n",
       "    </tr>\n",
       "    <tr>\n",
       "      <th>34</th>\n",
       "      <td>AMWY02021457.1|-|1184-1604|201-221</td>\n",
       "      <td>Fold 16</td>\n",
       "      <td>=HYPERLINK(\"http://jupyter.sysmanager.ir/tree/...</td>\n",
       "      <td>=HYPERLINK(\"http://jupyter.sysmanager.ir/tree/...</td>\n",
       "      <td>201</td>\n",
       "      <td>221</td>\n",
       "      <td>-</td>\n",
       "      <td>-122.75</td>\n",
       "      <td>caggcatttgtcttcaagtgaacaggttagtgaatcgattgtactt...</td>\n",
       "      <td>http://nibiru.tbi.univie.ac.at/forna/forna.htm...</td>\n",
       "      <td>...</td>\n",
       "      <td>12.0</td>\n",
       "      <td>[loop=dist:7, size:1 + 2]</td>\n",
       "      <td>[loop=dist:7, size:1 + 2]</td>\n",
       "      <td>[loop=dist:7, size:1 + 2]</td>\n",
       "      <td></td>\n",
       "      <td></td>\n",
       "      <td></td>\n",
       "      <td>0.0</td>\n",
       "      <td>12.0</td>\n",
       "      <td>NaN</td>\n",
       "    </tr>\n",
       "    <tr>\n",
       "      <th>35</th>\n",
       "      <td>AMWY02021457.1|-|1184-1604|201-221</td>\n",
       "      <td>Fold 25</td>\n",
       "      <td>=HYPERLINK(\"http://jupyter.sysmanager.ir/tree/...</td>\n",
       "      <td>=HYPERLINK(\"http://jupyter.sysmanager.ir/tree/...</td>\n",
       "      <td>201</td>\n",
       "      <td>221</td>\n",
       "      <td>-</td>\n",
       "      <td>-121.23</td>\n",
       "      <td>caggcatttgtcttcaagtgaacaggttagtgaatcgattgtactt...</td>\n",
       "      <td>http://nibiru.tbi.univie.ac.at/forna/forna.htm...</td>\n",
       "      <td>...</td>\n",
       "      <td>1.0</td>\n",
       "      <td></td>\n",
       "      <td></td>\n",
       "      <td></td>\n",
       "      <td>[bulge=dist:10, size:3]</td>\n",
       "      <td>[bulge=dist:10, size:3]</td>\n",
       "      <td>[bulge=dist:10, size:3]</td>\n",
       "      <td>14.0</td>\n",
       "      <td>1.0</td>\n",
       "      <td>NaN</td>\n",
       "    </tr>\n",
       "    <tr>\n",
       "      <th>36</th>\n",
       "      <td>AMWY02021457.1|-|1184-1604|201-221</td>\n",
       "      <td>Fold 37</td>\n",
       "      <td>=HYPERLINK(\"http://jupyter.sysmanager.ir/tree/...</td>\n",
       "      <td>=HYPERLINK(\"http://jupyter.sysmanager.ir/tree/...</td>\n",
       "      <td>201</td>\n",
       "      <td>221</td>\n",
       "      <td>-</td>\n",
       "      <td>-119.08</td>\n",
       "      <td>caggcatttgtcttcaagtgaacaggttagtgaatcgattgtactt...</td>\n",
       "      <td>http://nibiru.tbi.univie.ac.at/forna/forna.htm...</td>\n",
       "      <td>...</td>\n",
       "      <td>1.0</td>\n",
       "      <td></td>\n",
       "      <td></td>\n",
       "      <td></td>\n",
       "      <td>[bulge=dist:10, size:3]</td>\n",
       "      <td>[bulge=dist:10, size:3]</td>\n",
       "      <td>[bulge=dist:10, size:3]</td>\n",
       "      <td>14.0</td>\n",
       "      <td>1.0</td>\n",
       "      <td>NaN</td>\n",
       "    </tr>\n",
       "    <tr>\n",
       "      <th>37</th>\n",
       "      <td>AMWY02021457.1|-|1184-1604|201-221</td>\n",
       "      <td>Fold 22</td>\n",
       "      <td>=HYPERLINK(\"http://jupyter.sysmanager.ir/tree/...</td>\n",
       "      <td>=HYPERLINK(\"http://jupyter.sysmanager.ir/tree/...</td>\n",
       "      <td>201</td>\n",
       "      <td>221</td>\n",
       "      <td>-</td>\n",
       "      <td>-121.63</td>\n",
       "      <td>caggcatttgtcttcaagtgaacaggttagtgaatcgattgtactt...</td>\n",
       "      <td>http://nibiru.tbi.univie.ac.at/forna/forna.htm...</td>\n",
       "      <td>...</td>\n",
       "      <td>NaN</td>\n",
       "      <td>NaN</td>\n",
       "      <td>NaN</td>\n",
       "      <td>NaN</td>\n",
       "      <td>NaN</td>\n",
       "      <td>NaN</td>\n",
       "      <td>NaN</td>\n",
       "      <td>NaN</td>\n",
       "      <td>NaN</td>\n",
       "      <td>hit self complementarity</td>\n",
       "    </tr>\n",
       "    <tr>\n",
       "      <th>38</th>\n",
       "      <td>AMWY02021457.1|-|1184-1604|201-221</td>\n",
       "      <td>Fold 36</td>\n",
       "      <td>=HYPERLINK(\"http://jupyter.sysmanager.ir/tree/...</td>\n",
       "      <td>=HYPERLINK(\"http://jupyter.sysmanager.ir/tree/...</td>\n",
       "      <td>201</td>\n",
       "      <td>221</td>\n",
       "      <td>-</td>\n",
       "      <td>-119.44</td>\n",
       "      <td>caggcatttgtcttcaagtgaacaggttagtgaatcgattgtactt...</td>\n",
       "      <td>http://nibiru.tbi.univie.ac.at/forna/forna.htm...</td>\n",
       "      <td>...</td>\n",
       "      <td>1.0</td>\n",
       "      <td></td>\n",
       "      <td></td>\n",
       "      <td></td>\n",
       "      <td></td>\n",
       "      <td></td>\n",
       "      <td></td>\n",
       "      <td>0.0</td>\n",
       "      <td>1.0</td>\n",
       "      <td>NaN</td>\n",
       "    </tr>\n",
       "  </tbody>\n",
       "</table>\n",
       "<p>39 rows × 124 columns</p>\n",
       "</div>"
      ],
      "text/plain": [
       "                              seq name  ct name  \\\n",
       "0   AMWY02021457.1|-|1184-1604|201-221  Fold 31   \n",
       "1   AMWY02021457.1|-|1184-1604|201-221  Fold 08   \n",
       "2   AMWY02021457.1|-|1184-1604|201-221  Fold 11   \n",
       "3   AMWY02021457.1|-|1184-1604|201-221  Fold 09   \n",
       "4   AMWY02021457.1|-|1184-1604|201-221  Fold 17   \n",
       "5   AMWY02021457.1|-|1184-1604|201-221  Fold 01   \n",
       "6   AMWY02021457.1|-|1184-1604|201-221  Fold 13   \n",
       "7   AMWY02021457.1|-|1184-1604|201-221  Fold 38   \n",
       "8   AMWY02021457.1|-|1184-1604|201-221  Fold 03   \n",
       "9   AMWY02021457.1|-|1184-1604|201-221  Fold 30   \n",
       "10  AMWY02021457.1|-|1184-1604|201-221  Fold 14   \n",
       "11  AMWY02021457.1|-|1184-1604|201-221  Fold 27   \n",
       "12  AMWY02021457.1|-|1184-1604|201-221  Fold 23   \n",
       "13  AMWY02021457.1|-|1184-1604|201-221  Fold 33   \n",
       "14  AMWY02021457.1|-|1184-1604|201-221  Fold 10   \n",
       "15  AMWY02021457.1|-|1184-1604|201-221  Fold 18   \n",
       "16  AMWY02021457.1|-|1184-1604|201-221  Fold 21   \n",
       "17  AMWY02021457.1|-|1184-1604|201-221  Fold 29   \n",
       "18  AMWY02021457.1|-|1184-1604|201-221  Fold 07   \n",
       "19  AMWY02021457.1|-|1184-1604|201-221  Fold 28   \n",
       "20  AMWY02021457.1|-|1184-1604|201-221  Fold 20   \n",
       "21  AMWY02021457.1|-|1184-1604|201-221  Fold 32   \n",
       "22  AMWY02021457.1|-|1184-1604|201-221  Fold 12   \n",
       "23  AMWY02021457.1|-|1184-1604|201-221  Fold 04   \n",
       "24  AMWY02021457.1|-|1184-1604|201-221  Fold 34   \n",
       "25  AMWY02021457.1|-|1184-1604|201-221  Fold 05   \n",
       "26  AMWY02021457.1|-|1184-1604|201-221  Fold 06   \n",
       "27  AMWY02021457.1|-|1184-1604|201-221  Fold 35   \n",
       "28  AMWY02021457.1|-|1184-1604|201-221  Fold 39   \n",
       "29  AMWY02021457.1|-|1184-1604|201-221  Fold 19   \n",
       "30  AMWY02021457.1|-|1184-1604|201-221  Fold 26   \n",
       "31  AMWY02021457.1|-|1184-1604|201-221  Fold 02   \n",
       "32  AMWY02021457.1|-|1184-1604|201-221  Fold 15   \n",
       "33  AMWY02021457.1|-|1184-1604|201-221  Fold 24   \n",
       "34  AMWY02021457.1|-|1184-1604|201-221  Fold 16   \n",
       "35  AMWY02021457.1|-|1184-1604|201-221  Fold 25   \n",
       "36  AMWY02021457.1|-|1184-1604|201-221  Fold 37   \n",
       "37  AMWY02021457.1|-|1184-1604|201-221  Fold 22   \n",
       "38  AMWY02021457.1|-|1184-1604|201-221  Fold 36   \n",
       "\n",
       "                                                   ct  \\\n",
       "0   =HYPERLINK(\"http://jupyter.sysmanager.ir/tree/...   \n",
       "1   =HYPERLINK(\"http://jupyter.sysmanager.ir/tree/...   \n",
       "2   =HYPERLINK(\"http://jupyter.sysmanager.ir/tree/...   \n",
       "3   =HYPERLINK(\"http://jupyter.sysmanager.ir/tree/...   \n",
       "4   =HYPERLINK(\"http://jupyter.sysmanager.ir/tree/...   \n",
       "5   =HYPERLINK(\"http://jupyter.sysmanager.ir/tree/...   \n",
       "6   =HYPERLINK(\"http://jupyter.sysmanager.ir/tree/...   \n",
       "7   =HYPERLINK(\"http://jupyter.sysmanager.ir/tree/...   \n",
       "8   =HYPERLINK(\"http://jupyter.sysmanager.ir/tree/...   \n",
       "9   =HYPERLINK(\"http://jupyter.sysmanager.ir/tree/...   \n",
       "10  =HYPERLINK(\"http://jupyter.sysmanager.ir/tree/...   \n",
       "11  =HYPERLINK(\"http://jupyter.sysmanager.ir/tree/...   \n",
       "12  =HYPERLINK(\"http://jupyter.sysmanager.ir/tree/...   \n",
       "13  =HYPERLINK(\"http://jupyter.sysmanager.ir/tree/...   \n",
       "14  =HYPERLINK(\"http://jupyter.sysmanager.ir/tree/...   \n",
       "15  =HYPERLINK(\"http://jupyter.sysmanager.ir/tree/...   \n",
       "16  =HYPERLINK(\"http://jupyter.sysmanager.ir/tree/...   \n",
       "17  =HYPERLINK(\"http://jupyter.sysmanager.ir/tree/...   \n",
       "18  =HYPERLINK(\"http://jupyter.sysmanager.ir/tree/...   \n",
       "19  =HYPERLINK(\"http://jupyter.sysmanager.ir/tree/...   \n",
       "20  =HYPERLINK(\"http://jupyter.sysmanager.ir/tree/...   \n",
       "21  =HYPERLINK(\"http://jupyter.sysmanager.ir/tree/...   \n",
       "22  =HYPERLINK(\"http://jupyter.sysmanager.ir/tree/...   \n",
       "23  =HYPERLINK(\"http://jupyter.sysmanager.ir/tree/...   \n",
       "24  =HYPERLINK(\"http://jupyter.sysmanager.ir/tree/...   \n",
       "25  =HYPERLINK(\"http://jupyter.sysmanager.ir/tree/...   \n",
       "26  =HYPERLINK(\"http://jupyter.sysmanager.ir/tree/...   \n",
       "27  =HYPERLINK(\"http://jupyter.sysmanager.ir/tree/...   \n",
       "28  =HYPERLINK(\"http://jupyter.sysmanager.ir/tree/...   \n",
       "29  =HYPERLINK(\"http://jupyter.sysmanager.ir/tree/...   \n",
       "30  =HYPERLINK(\"http://jupyter.sysmanager.ir/tree/...   \n",
       "31  =HYPERLINK(\"http://jupyter.sysmanager.ir/tree/...   \n",
       "32  =HYPERLINK(\"http://jupyter.sysmanager.ir/tree/...   \n",
       "33  =HYPERLINK(\"http://jupyter.sysmanager.ir/tree/...   \n",
       "34  =HYPERLINK(\"http://jupyter.sysmanager.ir/tree/...   \n",
       "35  =HYPERLINK(\"http://jupyter.sysmanager.ir/tree/...   \n",
       "36  =HYPERLINK(\"http://jupyter.sysmanager.ir/tree/...   \n",
       "37  =HYPERLINK(\"http://jupyter.sysmanager.ir/tree/...   \n",
       "38  =HYPERLINK(\"http://jupyter.sysmanager.ir/tree/...   \n",
       "\n",
       "                                                  pdf  hit start  hit end  \\\n",
       "0   =HYPERLINK(\"http://jupyter.sysmanager.ir/tree/...        201      221   \n",
       "1   =HYPERLINK(\"http://jupyter.sysmanager.ir/tree/...        201      221   \n",
       "2   =HYPERLINK(\"http://jupyter.sysmanager.ir/tree/...        201      221   \n",
       "3   =HYPERLINK(\"http://jupyter.sysmanager.ir/tree/...        201      221   \n",
       "4   =HYPERLINK(\"http://jupyter.sysmanager.ir/tree/...        201      221   \n",
       "5   =HYPERLINK(\"http://jupyter.sysmanager.ir/tree/...        201      221   \n",
       "6   =HYPERLINK(\"http://jupyter.sysmanager.ir/tree/...        201      221   \n",
       "7   =HYPERLINK(\"http://jupyter.sysmanager.ir/tree/...        201      221   \n",
       "8   =HYPERLINK(\"http://jupyter.sysmanager.ir/tree/...        201      221   \n",
       "9   =HYPERLINK(\"http://jupyter.sysmanager.ir/tree/...        201      221   \n",
       "10  =HYPERLINK(\"http://jupyter.sysmanager.ir/tree/...        201      221   \n",
       "11  =HYPERLINK(\"http://jupyter.sysmanager.ir/tree/...        201      221   \n",
       "12  =HYPERLINK(\"http://jupyter.sysmanager.ir/tree/...        201      221   \n",
       "13  =HYPERLINK(\"http://jupyter.sysmanager.ir/tree/...        201      221   \n",
       "14  =HYPERLINK(\"http://jupyter.sysmanager.ir/tree/...        201      221   \n",
       "15  =HYPERLINK(\"http://jupyter.sysmanager.ir/tree/...        201      221   \n",
       "16  =HYPERLINK(\"http://jupyter.sysmanager.ir/tree/...        201      221   \n",
       "17  =HYPERLINK(\"http://jupyter.sysmanager.ir/tree/...        201      221   \n",
       "18  =HYPERLINK(\"http://jupyter.sysmanager.ir/tree/...        201      221   \n",
       "19  =HYPERLINK(\"http://jupyter.sysmanager.ir/tree/...        201      221   \n",
       "20  =HYPERLINK(\"http://jupyter.sysmanager.ir/tree/...        201      221   \n",
       "21  =HYPERLINK(\"http://jupyter.sysmanager.ir/tree/...        201      221   \n",
       "22  =HYPERLINK(\"http://jupyter.sysmanager.ir/tree/...        201      221   \n",
       "23  =HYPERLINK(\"http://jupyter.sysmanager.ir/tree/...        201      221   \n",
       "24  =HYPERLINK(\"http://jupyter.sysmanager.ir/tree/...        201      221   \n",
       "25  =HYPERLINK(\"http://jupyter.sysmanager.ir/tree/...        201      221   \n",
       "26  =HYPERLINK(\"http://jupyter.sysmanager.ir/tree/...        201      221   \n",
       "27  =HYPERLINK(\"http://jupyter.sysmanager.ir/tree/...        201      221   \n",
       "28  =HYPERLINK(\"http://jupyter.sysmanager.ir/tree/...        201      221   \n",
       "29  =HYPERLINK(\"http://jupyter.sysmanager.ir/tree/...        201      221   \n",
       "30  =HYPERLINK(\"http://jupyter.sysmanager.ir/tree/...        201      221   \n",
       "31  =HYPERLINK(\"http://jupyter.sysmanager.ir/tree/...        201      221   \n",
       "32  =HYPERLINK(\"http://jupyter.sysmanager.ir/tree/...        201      221   \n",
       "33  =HYPERLINK(\"http://jupyter.sysmanager.ir/tree/...        201      221   \n",
       "34  =HYPERLINK(\"http://jupyter.sysmanager.ir/tree/...        201      221   \n",
       "35  =HYPERLINK(\"http://jupyter.sysmanager.ir/tree/...        201      221   \n",
       "36  =HYPERLINK(\"http://jupyter.sysmanager.ir/tree/...        201      221   \n",
       "37  =HYPERLINK(\"http://jupyter.sysmanager.ir/tree/...        201      221   \n",
       "38  =HYPERLINK(\"http://jupyter.sysmanager.ir/tree/...        201      221   \n",
       "\n",
       "   sign  delta G                                           full seq  \\\n",
       "0     -  -120.53  caggcatttgtcttcaagtgaacaggttagtgaatcgattgtactt...   \n",
       "1     -  -123.48  caggcatttgtcttcaagtgaacaggttagtgaatcgattgtactt...   \n",
       "2     -  -123.20  caggcatttgtcttcaagtgaacaggttagtgaatcgattgtactt...   \n",
       "3     -  -123.37  caggcatttgtcttcaagtgaacaggttagtgaatcgattgtactt...   \n",
       "4     -  -122.57  caggcatttgtcttcaagtgaacaggttagtgaatcgattgtactt...   \n",
       "5     -  -125.27  caggcatttgtcttcaagtgaacaggttagtgaatcgattgtactt...   \n",
       "6     -  -122.98  caggcatttgtcttcaagtgaacaggttagtgaatcgattgtactt...   \n",
       "7     -  -119.07  caggcatttgtcttcaagtgaacaggttagtgaatcgattgtactt...   \n",
       "8     -  -124.01  caggcatttgtcttcaagtgaacaggttagtgaatcgattgtactt...   \n",
       "9     -  -120.65  caggcatttgtcttcaagtgaacaggttagtgaatcgattgtactt...   \n",
       "10    -  -122.82  caggcatttgtcttcaagtgaacaggttagtgaatcgattgtactt...   \n",
       "11    -  -120.98  caggcatttgtcttcaagtgaacaggttagtgaatcgattgtactt...   \n",
       "12    -  -121.61  caggcatttgtcttcaagtgaacaggttagtgaatcgattgtactt...   \n",
       "13    -  -120.07  caggcatttgtcttcaagtgaacaggttagtgaatcgattgtactt...   \n",
       "14    -  -123.30  caggcatttgtcttcaagtgaacaggttagtgaatcgattgtactt...   \n",
       "15    -  -122.38  caggcatttgtcttcaagtgaacaggttagtgaatcgattgtactt...   \n",
       "16    -  -121.92  caggcatttgtcttcaagtgaacaggttagtgaatcgattgtactt...   \n",
       "17    -  -120.74  caggcatttgtcttcaagtgaacaggttagtgaatcgattgtactt...   \n",
       "18    -  -123.52  caggcatttgtcttcaagtgaacaggttagtgaatcgattgtactt...   \n",
       "19    -  -120.87  caggcatttgtcttcaagtgaacaggttagtgaatcgattgtactt...   \n",
       "20    -  -122.05  caggcatttgtcttcaagtgaacaggttagtgaatcgattgtactt...   \n",
       "21    -  -120.14  caggcatttgtcttcaagtgaacaggttagtgaatcgattgtactt...   \n",
       "22    -  -123.17  caggcatttgtcttcaagtgaacaggttagtgaatcgattgtactt...   \n",
       "23    -  -123.99  caggcatttgtcttcaagtgaacaggttagtgaatcgattgtactt...   \n",
       "24    -  -119.68  caggcatttgtcttcaagtgaacaggttagtgaatcgattgtactt...   \n",
       "25    -  -123.89  caggcatttgtcttcaagtgaacaggttagtgaatcgattgtactt...   \n",
       "26    -  -123.53  caggcatttgtcttcaagtgaacaggttagtgaatcgattgtactt...   \n",
       "27    -  -119.54  caggcatttgtcttcaagtgaacaggttagtgaatcgattgtactt...   \n",
       "28    -  -119.03  caggcatttgtcttcaagtgaacaggttagtgaatcgattgtactt...   \n",
       "29    -  -122.15  caggcatttgtcttcaagtgaacaggttagtgaatcgattgtactt...   \n",
       "30    -  -121.07  caggcatttgtcttcaagtgaacaggttagtgaatcgattgtactt...   \n",
       "31    -  -124.89  caggcatttgtcttcaagtgaacaggttagtgaatcgattgtactt...   \n",
       "32    -  -122.76  caggcatttgtcttcaagtgaacaggttagtgaatcgattgtactt...   \n",
       "33    -  -121.51  caggcatttgtcttcaagtgaacaggttagtgaatcgattgtactt...   \n",
       "34    -  -122.75  caggcatttgtcttcaagtgaacaggttagtgaatcgattgtactt...   \n",
       "35    -  -121.23  caggcatttgtcttcaagtgaacaggttagtgaatcgattgtactt...   \n",
       "36    -  -119.08  caggcatttgtcttcaagtgaacaggttagtgaatcgattgtactt...   \n",
       "37    -  -121.63  caggcatttgtcttcaagtgaacaggttagtgaatcgattgtactt...   \n",
       "38    -  -119.44  caggcatttgtcttcaagtgaacaggttagtgaatcgattgtactt...   \n",
       "\n",
       "                               full seq visualization  ...  \\\n",
       "0   http://nibiru.tbi.univie.ac.at/forna/forna.htm...  ...   \n",
       "1   http://nibiru.tbi.univie.ac.at/forna/forna.htm...  ...   \n",
       "2   http://nibiru.tbi.univie.ac.at/forna/forna.htm...  ...   \n",
       "3   http://nibiru.tbi.univie.ac.at/forna/forna.htm...  ...   \n",
       "4   http://nibiru.tbi.univie.ac.at/forna/forna.htm...  ...   \n",
       "5   http://nibiru.tbi.univie.ac.at/forna/forna.htm...  ...   \n",
       "6   http://nibiru.tbi.univie.ac.at/forna/forna.htm...  ...   \n",
       "7   http://nibiru.tbi.univie.ac.at/forna/forna.htm...  ...   \n",
       "8   http://nibiru.tbi.univie.ac.at/forna/forna.htm...  ...   \n",
       "9   http://nibiru.tbi.univie.ac.at/forna/forna.htm...  ...   \n",
       "10  http://nibiru.tbi.univie.ac.at/forna/forna.htm...  ...   \n",
       "11  http://nibiru.tbi.univie.ac.at/forna/forna.htm...  ...   \n",
       "12  http://nibiru.tbi.univie.ac.at/forna/forna.htm...  ...   \n",
       "13  http://nibiru.tbi.univie.ac.at/forna/forna.htm...  ...   \n",
       "14  http://nibiru.tbi.univie.ac.at/forna/forna.htm...  ...   \n",
       "15  http://nibiru.tbi.univie.ac.at/forna/forna.htm...  ...   \n",
       "16  http://nibiru.tbi.univie.ac.at/forna/forna.htm...  ...   \n",
       "17  http://nibiru.tbi.univie.ac.at/forna/forna.htm...  ...   \n",
       "18  http://nibiru.tbi.univie.ac.at/forna/forna.htm...  ...   \n",
       "19  http://nibiru.tbi.univie.ac.at/forna/forna.htm...  ...   \n",
       "20  http://nibiru.tbi.univie.ac.at/forna/forna.htm...  ...   \n",
       "21  http://nibiru.tbi.univie.ac.at/forna/forna.htm...  ...   \n",
       "22  http://nibiru.tbi.univie.ac.at/forna/forna.htm...  ...   \n",
       "23  http://nibiru.tbi.univie.ac.at/forna/forna.htm...  ...   \n",
       "24  http://nibiru.tbi.univie.ac.at/forna/forna.htm...  ...   \n",
       "25  http://nibiru.tbi.univie.ac.at/forna/forna.htm...  ...   \n",
       "26  http://nibiru.tbi.univie.ac.at/forna/forna.htm...  ...   \n",
       "27  http://nibiru.tbi.univie.ac.at/forna/forna.htm...  ...   \n",
       "28  http://nibiru.tbi.univie.ac.at/forna/forna.htm...  ...   \n",
       "29  http://nibiru.tbi.univie.ac.at/forna/forna.htm...  ...   \n",
       "30  http://nibiru.tbi.univie.ac.at/forna/forna.htm...  ...   \n",
       "31  http://nibiru.tbi.univie.ac.at/forna/forna.htm...  ...   \n",
       "32  http://nibiru.tbi.univie.ac.at/forna/forna.htm...  ...   \n",
       "33  http://nibiru.tbi.univie.ac.at/forna/forna.htm...  ...   \n",
       "34  http://nibiru.tbi.univie.ac.at/forna/forna.htm...  ...   \n",
       "35  http://nibiru.tbi.univie.ac.at/forna/forna.htm...  ...   \n",
       "36  http://nibiru.tbi.univie.ac.at/forna/forna.htm...  ...   \n",
       "37  http://nibiru.tbi.univie.ac.at/forna/forna.htm...  ...   \n",
       "38  http://nibiru.tbi.univie.ac.at/forna/forna.htm...  ...   \n",
       "\n",
       "   primary stem corrected length     proximal closest to 15  \\\n",
       "0                            4.0                              \n",
       "1                            NaN                        NaN   \n",
       "2                            6.0                              \n",
       "3                            4.0                              \n",
       "4                            1.0                              \n",
       "5                            1.0                              \n",
       "6                            1.0                              \n",
       "7                            4.0                              \n",
       "8                            NaN                        NaN   \n",
       "9                            1.0                              \n",
       "10                           1.0                              \n",
       "11                           NaN                        NaN   \n",
       "12                           3.0                              \n",
       "13                           NaN                        NaN   \n",
       "14                           1.0                              \n",
       "15                           3.0                              \n",
       "16                           1.0                              \n",
       "17                           NaN                        NaN   \n",
       "18                           4.0                              \n",
       "19                           NaN                        NaN   \n",
       "20                           NaN                        NaN   \n",
       "21                           1.0                              \n",
       "22                           NaN                        NaN   \n",
       "23                           1.0                              \n",
       "24                           1.0                              \n",
       "25                           1.0                              \n",
       "26                           1.0                              \n",
       "27                           NaN                        NaN   \n",
       "28                           1.0                              \n",
       "29                           1.0                              \n",
       "30                           1.0                              \n",
       "31                           1.0                              \n",
       "32                           8.0                              \n",
       "33                           1.0                              \n",
       "34                          12.0  [loop=dist:7, size:1 + 2]   \n",
       "35                           1.0                              \n",
       "36                           1.0                              \n",
       "37                           NaN                        NaN   \n",
       "38                           1.0                              \n",
       "\n",
       "       proximal closest to 21     proximal closest to 36  \\\n",
       "0                                                          \n",
       "1                         NaN                        NaN   \n",
       "2                                                          \n",
       "3                                                          \n",
       "4                                                          \n",
       "5                                                          \n",
       "6                                                          \n",
       "7                                                          \n",
       "8                         NaN                        NaN   \n",
       "9                                                          \n",
       "10                                                         \n",
       "11                        NaN                        NaN   \n",
       "12                                                         \n",
       "13                        NaN                        NaN   \n",
       "14                                                         \n",
       "15                                                         \n",
       "16                                                         \n",
       "17                        NaN                        NaN   \n",
       "18                                                         \n",
       "19                        NaN                        NaN   \n",
       "20                        NaN                        NaN   \n",
       "21                                                         \n",
       "22                        NaN                        NaN   \n",
       "23                                                         \n",
       "24                                                         \n",
       "25                                                         \n",
       "26                                                         \n",
       "27                        NaN                        NaN   \n",
       "28                                                         \n",
       "29                                                         \n",
       "30                                                         \n",
       "31                                                         \n",
       "32                                                         \n",
       "33                                                         \n",
       "34  [loop=dist:7, size:1 + 2]  [loop=dist:7, size:1 + 2]   \n",
       "35                                                         \n",
       "36                                                         \n",
       "37                        NaN                        NaN   \n",
       "38                                                         \n",
       "\n",
       "          distal closest to 15        distal closest to 21  \\\n",
       "0       [bulge=dist:4, size:1]      [bulge=dist:4, size:1]   \n",
       "1                          NaN                         NaN   \n",
       "2       [bulge=dist:2, size:3]      [bulge=dist:2, size:3]   \n",
       "3       [bulge=dist:4, size:1]      [bulge=dist:4, size:1]   \n",
       "4      [bulge=dist:10, size:3]     [bulge=dist:10, size:3]   \n",
       "5                                                            \n",
       "6    [mismatch=dist:3, size:1]                               \n",
       "7    [loop=dist:8, size:1 + 3]   [loop=dist:8, size:1 + 3]   \n",
       "8                          NaN                         NaN   \n",
       "9                                                            \n",
       "10     [bulge=dist:10, size:3]     [bulge=dist:10, size:3]   \n",
       "11                         NaN                         NaN   \n",
       "12  [loop=dist:12, size:4 + 1]  [loop=dist:12, size:4 + 1]   \n",
       "13                         NaN                         NaN   \n",
       "14  [loop=dist:13, size:1 + 3]  [loop=dist:13, size:1 + 3]   \n",
       "15      [bulge=dist:5, size:1]      [bulge=dist:5, size:1]   \n",
       "16   [mismatch=dist:3, size:1]                               \n",
       "17                         NaN                         NaN   \n",
       "18      [bulge=dist:5, size:1]      [bulge=dist:5, size:1]   \n",
       "19                         NaN                         NaN   \n",
       "20                         NaN                         NaN   \n",
       "21   [mismatch=dist:3, size:1]                               \n",
       "22                         NaN                         NaN   \n",
       "23                                                           \n",
       "24                                                           \n",
       "25     [bulge=dist:10, size:3]     [bulge=dist:10, size:3]   \n",
       "26     [bulge=dist:10, size:3]     [bulge=dist:10, size:3]   \n",
       "27                         NaN                         NaN   \n",
       "28     [bulge=dist:10, size:3]     [bulge=dist:10, size:3]   \n",
       "29   [mismatch=dist:3, size:1]                               \n",
       "30   [mismatch=dist:3, size:1]                               \n",
       "31                                                           \n",
       "32  [loop=dist:15, size:3 + 3]  [loop=dist:15, size:3 + 3]   \n",
       "33     [bulge=dist:10, size:3]     [bulge=dist:10, size:3]   \n",
       "34                                                           \n",
       "35     [bulge=dist:10, size:3]     [bulge=dist:10, size:3]   \n",
       "36     [bulge=dist:10, size:3]     [bulge=dist:10, size:3]   \n",
       "37                         NaN                         NaN   \n",
       "38                                                           \n",
       "\n",
       "          distal closest to 36 Loop distal junction distance  \\\n",
       "0       [bulge=dist:4, size:1]                          10.0   \n",
       "1                          NaN                           NaN   \n",
       "2       [bulge=dist:2, size:3]                           4.0   \n",
       "3       [bulge=dist:4, size:1]                          10.0   \n",
       "4      [bulge=dist:10, size:3]                          14.0   \n",
       "5                                                        0.0   \n",
       "6                                                        8.0   \n",
       "7    [loop=dist:8, size:1 + 3]                          14.0   \n",
       "8                          NaN                           NaN   \n",
       "9                                                        0.0   \n",
       "10     [bulge=dist:10, size:3]                          14.0   \n",
       "11                         NaN                           NaN   \n",
       "12  [loop=dist:12, size:4 + 1]                          12.0   \n",
       "13                         NaN                           NaN   \n",
       "14  [loop=dist:13, size:1 + 3]                          23.0   \n",
       "15      [bulge=dist:5, size:1]                          10.0   \n",
       "16                                                       9.0   \n",
       "17                         NaN                           NaN   \n",
       "18      [bulge=dist:5, size:1]                          10.0   \n",
       "19                         NaN                           NaN   \n",
       "20                         NaN                           NaN   \n",
       "21                                                       7.0   \n",
       "22                         NaN                           NaN   \n",
       "23                                                       0.0   \n",
       "24                                                       0.0   \n",
       "25     [bulge=dist:10, size:3]                          14.0   \n",
       "26     [bulge=dist:10, size:3]                          14.0   \n",
       "27                         NaN                           NaN   \n",
       "28     [bulge=dist:10, size:3]                          14.0   \n",
       "29                                                      10.0   \n",
       "30                                                       7.0   \n",
       "31                                                       0.0   \n",
       "32  [loop=dist:15, size:3 + 3]                          15.0   \n",
       "33     [bulge=dist:10, size:3]                          14.0   \n",
       "34                                                       0.0   \n",
       "35     [bulge=dist:10, size:3]                          14.0   \n",
       "36     [bulge=dist:10, size:3]                          14.0   \n",
       "37                         NaN                           NaN   \n",
       "38                                                       0.0   \n",
       "\n",
       "   Loop proximal junction distance                    message  \n",
       "0                              4.0                        NaN  \n",
       "1                              NaN   hit self complementarity  \n",
       "2                              6.0                        NaN  \n",
       "3                              4.0                        NaN  \n",
       "4                              1.0                        NaN  \n",
       "5                              1.0                        NaN  \n",
       "6                              1.0                        NaN  \n",
       "7                              4.0                        NaN  \n",
       "8                              NaN        unfit BOI structure  \n",
       "9                              1.0                        NaN  \n",
       "10                             1.0                        NaN  \n",
       "11                             NaN   hit self complementarity  \n",
       "12                             3.0                        NaN  \n",
       "13                             NaN   hit self complementarity  \n",
       "14                             1.0                        NaN  \n",
       "15                             3.0                        NaN  \n",
       "16                             1.0                        NaN  \n",
       "17                             NaN  discontinuous star strand  \n",
       "18                             4.0                        NaN  \n",
       "19                             NaN        unfit BOI structure  \n",
       "20                             NaN   hit self complementarity  \n",
       "21                             1.0                        NaN  \n",
       "22                             NaN        unfit BOI structure  \n",
       "23                             1.0                        NaN  \n",
       "24                             1.0                        NaN  \n",
       "25                             1.0                        NaN  \n",
       "26                             1.0                        NaN  \n",
       "27                             NaN  discontinuous star strand  \n",
       "28                             1.0                        NaN  \n",
       "29                             1.0                        NaN  \n",
       "30                             1.0                        NaN  \n",
       "31                             1.0                        NaN  \n",
       "32                             8.0                        NaN  \n",
       "33                             1.0                        NaN  \n",
       "34                            12.0                        NaN  \n",
       "35                             1.0                        NaN  \n",
       "36                             1.0                        NaN  \n",
       "37                             NaN   hit self complementarity  \n",
       "38                             1.0                        NaN  \n",
       "\n",
       "[39 rows x 124 columns]"
      ]
     },
     "execution_count": 112,
     "metadata": {},
     "output_type": "execute_result"
    }
   ],
   "source": [
    "d = get_df_by_tag(\"AMWY02021457.1|-|1184-1604|201-221\", extra=0)\n",
    "d.to_csv('Result/d.csv')#.iloc[0,:]['full seq visualization']\n",
    "d"
   ]
  },
  {
   "cell_type": "code",
   "execution_count": null,
   "metadata": {
    "ExecuteTime": {
     "start_time": "2022-04-10T14:04:10.350Z"
    },
    "hidden": true
   },
   "outputs": [
    {
     "data": {
      "application/vnd.jupyter.widget-view+json": {
       "model_id": "c63cca4d273648d0b2cd20c0931d0e0e",
       "version_major": 2,
       "version_minor": 0
      },
      "text/plain": [
       "  0%|          | 0/43977 [00:00<?, ?it/s]"
      ]
     },
     "metadata": {},
     "output_type": "display_data"
    }
   ],
   "source": [
    "dfs = []\n",
    "max_workers = mp.cpu_count() - 5\n",
    "#max_workers = 1\n",
    "for d in process_map(get_df_by_tag , df['tag'].iloc[:], tqdm_class=tqdm, max_workers=max_workers, chunksize=5):\n",
    "    dfs.append(d)\n",
    "df_result = pd.concat(dfs,axis=0)\n",
    "#!zip -r Result/ct_analizer_result.csv.zip ./Result/ct_analizer_result.csv"
   ]
  },
  {
   "cell_type": "code",
   "execution_count": 173,
   "metadata": {
    "ExecuteTime": {
     "end_time": "2022-04-11T12:21:37.532623Z",
     "start_time": "2022-04-11T12:21:34.753148Z"
    },
    "hidden": true,
    "scrolled": true
   },
   "outputs": [],
   "source": [
    "# clustr to cluster members cdhits\n",
    "seq2cluster = pd.read_csv(\"Temp/seq2cluster.csv\")\n",
    "seq2cluster['tag'] = seq2cluster.groupby(['cluster'])['tag'].transform(lambda x: ','.join(x))\n",
    "seq2cluster['seqid'] = seq2cluster.groupby(['cluster'])['seqid'].transform(lambda x: ','.join(x))\n",
    "seq2cluster = seq2cluster.drop_duplicates()\n",
    "\n",
    "tag2cluster = pd.read_csv('./Temp/pipe_seprated_location_list.csv',sep='\\t')\n",
    "tag2cluster['location_tag'] = tag2cluster['location_tag'].apply(lambda x : x[1:])\n",
    "\n",
    "data = pd.merge(seq2cluster,tag2cluster,how='inner', left_on='cluster', right_on='qseqid')\n",
    "data['Reference miRNA cluster'] = data['cluster']\n",
    "data['Reference miRNA IDs'] = data['seqid']\n",
    "data['Reference miRNA IDs and species'] = data['tag']\n",
    "data = data[['location_tag','Reference miRNA cluster', 'Reference miRNA IDs', 'Reference miRNA IDs and species','confidence']]"
   ]
  },
  {
   "cell_type": "code",
   "execution_count": 174,
   "metadata": {
    "ExecuteTime": {
     "end_time": "2022-04-11T12:21:49.507441Z",
     "start_time": "2022-04-11T12:21:43.818640Z"
    },
    "hidden": true
   },
   "outputs": [],
   "source": [
    "df_result = pd.merge(data, df_result, how='right', left_on = 'location_tag', right_on ='seq name')\n",
    "del df_result['location_tag']"
   ]
  },
  {
   "cell_type": "code",
   "execution_count": null,
   "metadata": {
    "ExecuteTime": {
     "start_time": "2022-04-04T14:40:12.703Z"
    },
    "hidden": true
   },
   "outputs": [],
   "source": [
    "orders = [\"seq name\", \"ct name\", \"ct\", \"pdf\", \"Reference miRNA cluster\", 'Reference miRNA IDs','Reference miRNA IDs and species', 'confidence']\n",
    "columns_titles = [*orders, *[c for c in df_result.columns if c not in orders]]\n",
    "df_result = df_result.reindex(columns=columns_titles)"
   ]
  },
  {
   "cell_type": "code",
   "execution_count": null,
   "metadata": {
    "ExecuteTime": {
     "start_time": "2022-04-04T14:40:12.910Z"
    },
    "hidden": true
   },
   "outputs": [],
   "source": [
    "df_result = df_result.replace(np.nan, '-').replace('', '-')\n",
    "df_result.to_csv(\"Result/ct_analizer_result.csv\", index=False)\n",
    "!zip Result/ct_analizer_result.zip Result/ct_analizer_result.csv\n",
    "!rm Result/ct_analizer_result.csv"
   ]
  },
  {
   "cell_type": "markdown",
   "metadata": {
    "heading_collapsed": true
   },
   "source": [
    "# Filters"
   ]
  },
  {
   "cell_type": "code",
   "execution_count": 154,
   "metadata": {
    "ExecuteTime": {
     "end_time": "2022-04-16T13:59:42.638511Z",
     "start_time": "2022-04-16T13:59:29.922091Z"
    },
    "hidden": true
   },
   "outputs": [
    {
     "data": {
      "application/vnd.jupyter.widget-view+json": {
       "model_id": "e88eb760a02743e49667b65e23aa63fa",
       "version_major": 2,
       "version_minor": 0
      },
      "text/plain": [
       "  0%|          | 0/16 [00:00<?, ?it/s]"
      ]
     },
     "metadata": {},
     "output_type": "display_data"
    }
   ],
   "source": [
    "'''\n",
    "converters = [\"mismatch size\",\n",
    "              \"mismatch type\",\n",
    "              \"mismatch start\",\n",
    "              \"mismatch end\",\n",
    "              \"bulge\",\n",
    "              \"bulge size\",\n",
    "              \"bulge type\", \n",
    "              \"bulge start\",\n",
    "              \"bulge end\",\n",
    "              \"internal loop\", \n",
    "              \"internal loop HSBL\",\n",
    "              \"internal loop SSBL\",\n",
    "              \"internal loop total size\",\n",
    "              \"internal type\", \n",
    "              \"internal start\",\n",
    "              \"internal end\",\n",
    "             ]\n",
    "\n",
    "for c in tqdm(converters):\n",
    "    df_result[c] = df_result[c].apply(lambda x: x.strip(\"[]\").split(\", \"))\n",
    "    \n",
    "'''"
   ]
  },
  {
   "cell_type": "markdown",
   "metadata": {
    "ExecuteTime": {
     "end_time": "2022-02-20T11:29:51.854956Z",
     "start_time": "2022-02-20T11:29:51.851516Z"
    },
    "heading_collapsed": true,
    "hidden": true
   },
   "source": [
    "## Level 1"
   ]
  },
  {
   "cell_type": "code",
   "execution_count": 155,
   "metadata": {
    "ExecuteTime": {
     "end_time": "2022-04-16T14:00:46.777681Z",
     "start_time": "2022-04-16T13:59:47.402311Z"
    },
    "hidden": true
   },
   "outputs": [],
   "source": [
    "level1 = df_result[df_result['message'] == '-']\n",
    "level1 = level1[level1['star branching'] != 'yes']\n",
    "level1 = level1[level1['domain interfering structures'] != 'yes']\n",
    "level1 = level1[level1['domain* interfering structures'] != 'yes']\n",
    "level1 = level1[level1['number of terminal structures'] != \"no residues between miR and miR*\"]                                                         \n",
    "\n",
    "level1['num of linking residues'] = level1['num of linking residues'].apply(lambda x: int(x))\n",
    "level1 = level1[level1['num of linking residues'] >= 0]                                                \n",
    "\n",
    "level1.to_csv(\"Result/result_level1_filter.csv\", index=False)"
   ]
  },
  {
   "cell_type": "code",
   "execution_count": 70,
   "metadata": {
    "ExecuteTime": {
     "end_time": "2022-04-11T21:19:16.255230Z",
     "start_time": "2022-04-11T21:18:48.385764Z"
    },
    "hidden": true
   },
   "outputs": [
    {
     "name": "stdout",
     "output_type": "stream",
     "text": [
      "  adding: Result/result_level1_filter.csv (deflated 96%)\n"
     ]
    }
   ],
   "source": [
    "!zip Result/result_level1_filter.zip Result/result_level1_filter.csv"
   ]
  },
  {
   "cell_type": "markdown",
   "metadata": {
    "ExecuteTime": {
     "end_time": "2022-02-20T11:30:15.465032Z",
     "start_time": "2022-02-20T11:30:15.461173Z"
    },
    "heading_collapsed": true,
    "hidden": true
   },
   "source": [
    "## Level 2"
   ]
  },
  {
   "cell_type": "code",
   "execution_count": 156,
   "metadata": {
    "ExecuteTime": {
     "end_time": "2022-04-16T14:01:05.666837Z",
     "start_time": "2022-04-16T14:01:05.658766Z"
    },
    "hidden": true
   },
   "outputs": [],
   "source": [
    "DELTA_G_MIN = -1000\n",
    "DELTA_G_MAX = 0\n",
    "HIT_LEN_MIN = 16\n",
    "HIT_LEN_MAX = 25\n",
    "HIT_COMPLEMENTARITY_PERCENTAGE_MIN = 0.3 \n",
    "HIT_COMPLEMENTARITY_PERCENTAGE_MAX = 1\n",
    "NUMBER_OF_TERMINAL_STRUCTURE_MIN = 1\n",
    "NUMBER_OF_TERMINAL_STRUCTURE_MAX = 5\n",
    "BOI_GC_CONTENT_MIN = 0.01 \n",
    "BOI_GC_CONTENT_MAX = 1\n",
    "# PRECURSOR_GC_CONTENT_MIN\n",
    "# PRECURSOR_GC_CONTENT_MAX\n",
    "BORDER_LINE_MISMATCH_MAX = 3\n",
    "BORDER_LINE_BULGE_MAX = 3\n",
    "BORDER_LINE_INTERNAL_MAX = 3\n",
    "TOTAL_NUM_OF_NONMATCHING_POSITIONS = 5\n",
    "TOTAL_NUM_OF_MISMACHED_POSITIONS = 4\n",
    "TOTAL_NUM_OF_POSITIONS_IN_BULGES_AND_LOOPS = 3\n",
    "MAX_ALLOWED_BULGE_SIZE_IN_HIT_REGION = 2\n",
    "MAX_ALLOWED_INTERNAL_LOOP_SIZE_IN_HIT_REGION = 3\n",
    "MINIMUM_REQUIRED_CLEAR_REGION = 8\n",
    "ACCEPTABLE_NUM_FOR_UNMATCHED_LOCATIONS_IN_HIT_REGION = 5\n",
    "ACCEPTABLE_NUM_FOR_HIT_LOCATIONS_IN_BULGES_OR_LOOPS = 3\n",
    "\n",
    "MIN_NUM_OF_LINKING_RESIDUES = 0\n",
    "MAX_NUM_OF_LINKING_RESIDUES = 1000"
   ]
  },
  {
   "cell_type": "code",
   "execution_count": 157,
   "metadata": {
    "ExecuteTime": {
     "end_time": "2022-04-16T14:01:19.307583Z",
     "start_time": "2022-04-16T14:01:12.335031Z"
    },
    "hidden": true
   },
   "outputs": [
    {
     "name": "stdout",
     "output_type": "stream",
     "text": [
      "(179932, 128)\n",
      "(179932, 128)\n",
      "(179932, 128)\n",
      "(179932, 128)\n",
      "(179854, 128)\n",
      "(176391, 128)\n",
      "(176391, 128)\n",
      "(176391, 128)\n",
      "(176188, 128)\n",
      "(176023, 128)\n",
      "(176023, 128)\n",
      "(176023, 128)\n",
      "(176023, 128)\n"
     ]
    }
   ],
   "source": [
    "print(level1.shape)\n",
    "level1['delta G'] = level1['delta G'].apply(lambda x : float(x))\n",
    "level2 = level1[level1['delta G'] >= DELTA_G_MIN]\n",
    "print(level2.shape)\n",
    "level2 = level2[level2['delta G'] <= DELTA_G_MAX]\n",
    "print(level2.shape)\n",
    "level2 = level2[level2['hit len'] >= HIT_LEN_MIN]\n",
    "print(level2.shape)\n",
    "level2 = level2[level2['hit len'] <= HIT_LEN_MAX]\n",
    "print(level2.shape)\n",
    "level2 = level2[level2['hit complementarity percentage'] >= HIT_COMPLEMENTARITY_PERCENTAGE_MIN]\n",
    "print(level2.shape)\n",
    "level2 = level2[level2['hit complementarity percentage'] <= HIT_COMPLEMENTARITY_PERCENTAGE_MAX]\n",
    "print(level2.shape)\n",
    "level2['number of terminal structures'] = level2['number of terminal structures'].apply(lambda x : float(x))##########\n",
    "level2 = level2[level2['number of terminal structures'] >= NUMBER_OF_TERMINAL_STRUCTURE_MIN]\n",
    "print(level2.shape)\n",
    "level2 = level2[level2['number of terminal structures'] <= NUMBER_OF_TERMINAL_STRUCTURE_MAX]\n",
    "print(level2.shape)\n",
    "level2['boi GC content'] = level2['boi GC content'].apply(lambda x : float(x))##########\n",
    "level2 = level2[level2['boi GC content'] >= BOI_GC_CONTENT_MIN]\n",
    "print(level2.shape)\n",
    "level2 = level2[level2['boi GC content'] <= BOI_GC_CONTENT_MAX]\n",
    "print(level2.shape)\n",
    "level2['num of linking residues'] = level2['num of linking residues'].apply(lambda x : float(x))##########\n",
    "level2 = level2[level2['num of linking residues'] >= MIN_NUM_OF_LINKING_RESIDUES]\n",
    "print(level2.shape)\n",
    "level2 = level2[level2['num of linking residues'] <= MAX_NUM_OF_LINKING_RESIDUES]\n",
    "print(level2.shape)"
   ]
  },
  {
   "cell_type": "code",
   "execution_count": 160,
   "metadata": {
    "ExecuteTime": {
     "end_time": "2022-04-16T14:02:18.448053Z",
     "start_time": "2022-04-16T14:02:18.442553Z"
    },
    "hidden": true
   },
   "outputs": [],
   "source": [
    "def is_allowed(row, type_str, size_str, limmit):\n",
    "    mismatch_type = row[type_str]\n",
    "    for i in range(len(mismatch_type)):        \n",
    "        if(mismatch_type[i] == \"hit region\" ):            \n",
    "            if(row[size_str][i] > limmit):\n",
    "                return False\n",
    "    return True"
   ]
  },
  {
   "cell_type": "code",
   "execution_count": 161,
   "metadata": {
    "ExecuteTime": {
     "end_time": "2022-04-16T14:02:24.556263Z",
     "start_time": "2022-04-16T14:02:18.805091Z"
    },
    "hidden": true
   },
   "outputs": [
    {
     "name": "stdout",
     "output_type": "stream",
     "text": [
      "(176023, 128)\n"
     ]
    }
   ],
   "source": [
    "level2 = level2[level2.apply(lambda row: is_allowed(row,\\\n",
    "                                                       \"bulge type\",\\\n",
    "                                                       \"bulge size\",\\\n",
    "                                                       MAX_ALLOWED_BULGE_SIZE_IN_HIT_REGION),axis=1)]\n",
    "print(level2.shape)"
   ]
  },
  {
   "cell_type": "code",
   "execution_count": 85,
   "metadata": {
    "ExecuteTime": {
     "end_time": "2022-04-11T21:25:43.779901Z",
     "start_time": "2022-04-11T21:25:37.337429Z"
    },
    "hidden": true
   },
   "outputs": [
    {
     "name": "stdout",
     "output_type": "stream",
     "text": [
      "(176023, 128)\n"
     ]
    }
   ],
   "source": [
    "level2 = level2[level2.apply(lambda row: is_allowed(row,\\\n",
    "                                                       \"internal type\",\\\n",
    "                                                       \"internal loop total size\",\\\n",
    "                                                       MAX_ALLOWED_BULGE_SIZE_IN_HIT_REGION),axis=1)]\n",
    "print(level2.shape)"
   ]
  },
  {
   "cell_type": "code",
   "execution_count": 87,
   "metadata": {
    "ExecuteTime": {
     "end_time": "2022-04-11T21:27:13.577874Z",
     "start_time": "2022-04-11T21:26:52.296994Z"
    },
    "hidden": true
   },
   "outputs": [
    {
     "name": "stdout",
     "output_type": "stream",
     "text": [
      "(96816, 128)\n"
     ]
    }
   ],
   "source": [
    "def is_allowed_clear(row):\n",
    "    row['Loop distal junction distance'] = float(row['Loop distal junction distance'])##########\n",
    "    row['Loop proximal junction distance'] = float(row['Loop proximal junction distance'])##########\n",
    "    if(row['Loop distal junction distance'] >=  MINIMUM_REQUIRED_CLEAR_REGION or \n",
    "      row['Loop proximal junction distance'] >=  MINIMUM_REQUIRED_CLEAR_REGION):\n",
    "        return True\n",
    "    return False\n",
    "    \n",
    "level2 = level2[level2.apply(lambda row: is_allowed_clear(row),axis=1)]\n",
    "print(level2.shape)"
   ]
  },
  {
   "cell_type": "code",
   "execution_count": 88,
   "metadata": {
    "ExecuteTime": {
     "end_time": "2022-04-11T21:27:13.586902Z",
     "start_time": "2022-04-11T21:27:13.581382Z"
    },
    "hidden": true
   },
   "outputs": [],
   "source": [
    "def check_border_line(row,type_str, size_str, limmit):\n",
    "    valid = True\n",
    "    mismatch_type = row[type_str]\n",
    "    for i in range(len(mismatch_type)):\n",
    "        if(mismatch_type[i] == \"distal border line\" or mismatch_type == \"proximal border line\"):            \n",
    "            if(row[size_str][i] > limmit):               \n",
    "                valid = False\n",
    "    return valid"
   ]
  },
  {
   "cell_type": "code",
   "execution_count": 89,
   "metadata": {
    "ExecuteTime": {
     "end_time": "2022-04-11T21:27:33.730679Z",
     "start_time": "2022-04-11T21:27:22.741267Z"
    },
    "hidden": true
   },
   "outputs": [
    {
     "name": "stdout",
     "output_type": "stream",
     "text": [
      "(96816, 128)\n",
      "(96816, 128)\n",
      "(96816, 128)\n"
     ]
    }
   ],
   "source": [
    "level2 = level2[level2.apply(lambda row: check_border_line(row,\\\n",
    "                                                       \"mismatch type\",\\\n",
    "                                                       \"mismatch size\",\\\n",
    "                                                       BORDER_LINE_MISMATCH_MAX),axis=1)]\n",
    "print(level2.shape)\n",
    "level2 = level2[level2.apply(lambda row: check_border_line(row,\\\n",
    "                                                       \"bulge type\",\\\n",
    "                                                       \"bulge size\",\\\n",
    "                                                       BORDER_LINE_BULGE_MAX),axis=1)]\n",
    "print(level2.shape)\n",
    "level2 = level2[level2.apply(lambda row: check_border_line(row,\\\n",
    "                                                           \"internal type\",\\\n",
    "                                                           \"internal loop total size\",\\\n",
    "                                                           BORDER_LINE_INTERNAL_MAX),axis=1)]\n",
    "print(level2.shape)"
   ]
  },
  {
   "cell_type": "code",
   "execution_count": 90,
   "metadata": {
    "ExecuteTime": {
     "end_time": "2022-04-11T21:27:44.291687Z",
     "start_time": "2022-04-11T21:27:34.474891Z"
    },
    "hidden": true
   },
   "outputs": [],
   "source": [
    "def sum_of_size_in_hit(row, type_str, size_str):\n",
    "    _sum = 0\n",
    "    mismatch_type = row[type_str]\n",
    "    for i in range(len(mismatch_type)):\n",
    "        if(mismatch_type[i] == \"hit region\" ):\n",
    "            _sum += row[size_str][i]\n",
    "    return _sum \n",
    "\n",
    "sum_missmatch = level2.apply(lambda row: sum_of_size_in_hit(row, 'mismatch type', 'mismatch size'), axis=1)\n",
    "sum_bulge = level2.apply(lambda row: sum_of_size_in_hit(row, 'bulge type', 'bulge size'), axis=1)\n",
    "sum_internal = level2.apply(lambda row: sum_of_size_in_hit(row, 'internal type', 'internal loop total size'), axis=1)"
   ]
  },
  {
   "cell_type": "code",
   "execution_count": 91,
   "metadata": {
    "ExecuteTime": {
     "end_time": "2022-04-11T21:28:19.254400Z",
     "start_time": "2022-04-11T21:27:45.630645Z"
    },
    "hidden": true
   },
   "outputs": [],
   "source": [
    "def sum_of_size_in_border_line(row, border_type, type_str, size_str, start, end):\n",
    "    _sum = 0\n",
    "    _size = row[size_str]\n",
    "    _start = row[start]\n",
    "    _end = row[end]\n",
    "    mir_type = row['mir type']\n",
    "    mismatch_type = row[type_str]\n",
    "    for i in range(len(mismatch_type)):\n",
    "        if(mismatch_type[i] == border_type):\n",
    "            if(border_type == \"distal border line\"):\n",
    "                if(mir_type  == '5p'):\n",
    "                    _sum += _size[i] - _start[i]\n",
    "                if(mir_type  == '3p'):\n",
    "                    _sum += _size[i] - _end[i]\n",
    "            if(border_type == \"proximal border line\"):\n",
    "                if(mir_type  == '5p'):\n",
    "                    _sum += _size[i] - _end[i]\n",
    "                if(mir_type  == '3p'):\n",
    "                    _sum += _size[i] - _start[i]\n",
    "    return _sum \n",
    "\n",
    "sum_missmatch_border_proximal = level2.apply(lambda row: sum_of_size_in_border_line(row,\\\n",
    "                                                                                    'proximal border line',\\\n",
    "                                                                                    'mismatch type',\\\n",
    "                                                                                    'mismatch size',\\\n",
    "                                                                                    'mismatch start',\\\n",
    "                                                                                    'mismatch end'), axis=1)\n",
    "sum_missmatch_border_distal = level2.apply(lambda row: sum_of_size_in_border_line(row,\\\n",
    "                                                                                  'distal border line',\\\n",
    "                                                                                  'mismatch type',\\\n",
    "                                                                                  'mismatch size',\\\n",
    "                                                                                    'mismatch start',\\\n",
    "                                                                                    'mismatch end'), axis=1)\n",
    "sum_bulge_border_proximal = level2.apply(lambda row: sum_of_size_in_border_line(row,\\\n",
    "                                                                                'proximal border line',\\\n",
    "                                                                                'bulge type',\\\n",
    "                                                                                'bulge size',\\\n",
    "                                                                                    'bulge start',\\\n",
    "                                                                                    'bulge end'), axis=1)\n",
    "sum_bulge_border_distal = level2.apply(lambda row: sum_of_size_in_border_line(row,\\\n",
    "                                                                              'distal border line',\\\n",
    "                                                                              'bulge type',\\\n",
    "                                                                              'bulge size',\\\n",
    "                                                                                    'bulge start',\\\n",
    "                                                                                    'bulge end'), axis=1)\n",
    "sum_internal_border_proximal = level2.apply(lambda row: sum_of_size_in_border_line(row,\\\n",
    "                                                                                   'proximal border line',\\\n",
    "                                                                                   'internal type',\\\n",
    "                                                                                   'internal loop total size',\\\n",
    "                                                                                    'internal start',\\\n",
    "                                                                                    'internal end'), axis=1)\n",
    "sum_internal_border_distal = level2.apply(lambda row: sum_of_size_in_border_line(row,\\\n",
    "                                                                                 'distal border line',\\\n",
    "                                                                                 'internal type',\\\n",
    "                                                                                 'internal loop total size',\\\n",
    "                                                                                    'internal start',\\\n",
    "                                                                                    'internal end'), axis=1)"
   ]
  },
  {
   "cell_type": "code",
   "execution_count": 93,
   "metadata": {
    "ExecuteTime": {
     "end_time": "2022-04-11T21:29:10.684801Z",
     "start_time": "2022-04-11T21:29:05.819122Z"
    },
    "hidden": true
   },
   "outputs": [],
   "source": [
    "def number_of_residue(row):\n",
    "    hit_end = row['hit end']\n",
    "    hit_end = float(hit_end)##############\n",
    "    hit_start = row['hit start']\n",
    "    psep = row['psep']    \n",
    "    psep = float(psep) ##############\n",
    "    mir_type = row['mir type']\n",
    "    if( mir_type == '5p'):\n",
    "        if(psep < hit_end):\n",
    "            return hit_end - psep        \n",
    "    if(mir_type == '3p'):\n",
    "        if(psep > hit_start ):\n",
    "            return psep - hit_start\n",
    "    return 0\n",
    "\n",
    "\n",
    "sum_of_residue = level2.apply(lambda row: number_of_residue(row), axis=1)"
   ]
  },
  {
   "cell_type": "code",
   "execution_count": 94,
   "metadata": {
    "ExecuteTime": {
     "end_time": "2022-04-11T21:29:12.364976Z",
     "start_time": "2022-04-11T21:29:11.821939Z"
    },
    "hidden": true
   },
   "outputs": [
    {
     "name": "stdout",
     "output_type": "stream",
     "text": [
      "(94552, 128)\n"
     ]
    },
    {
     "name": "stderr",
     "output_type": "stream",
     "text": [
      "<ipython-input-94-de279586eba5>:5: UserWarning: Boolean Series key will be reindexed to match DataFrame index.\n",
      "  level2 = level2[_sum <= ACCEPTABLE_NUM_FOR_UNMATCHED_LOCATIONS_IN_HIT_REGION]\n"
     ]
    },
    {
     "name": "stdout",
     "output_type": "stream",
     "text": [
      "(94552, 128)\n"
     ]
    }
   ],
   "source": [
    "_sum = sum_bulge + sum_internal + sum_missmatch_border_distal * 2 + sum_bulge_border_proximal  + sum_bulge_border_distal + sum_internal_border_proximal + sum_internal_border_distal + sum_of_residue \n",
    "level2 = level2[_sum <= ACCEPTABLE_NUM_FOR_HIT_LOCATIONS_IN_BULGES_OR_LOOPS]\n",
    "print(level2.shape)\n",
    "_sum += sum_missmatch * 2 + sum_missmatch_border_proximal * 2\n",
    "level2 = level2[_sum <= ACCEPTABLE_NUM_FOR_UNMATCHED_LOCATIONS_IN_HIT_REGION]\n",
    "print(level2.shape)"
   ]
  },
  {
   "cell_type": "code",
   "execution_count": 95,
   "metadata": {
    "ExecuteTime": {
     "end_time": "2022-04-11T21:29:15.076871Z",
     "start_time": "2022-04-11T21:29:14.176981Z"
    },
    "hidden": true
   },
   "outputs": [
    {
     "name": "stderr",
     "output_type": "stream",
     "text": [
      "<ipython-input-95-c1b8633faa57>:1: UserWarning: Boolean Series key will be reindexed to match DataFrame index.\n",
      "  level2 = level2[(sum_missmatch + sum_bulge + sum_internal) <= TOTAL_NUM_OF_NONMATCHING_POSITIONS]\n"
     ]
    },
    {
     "name": "stdout",
     "output_type": "stream",
     "text": [
      "(94552, 128)\n"
     ]
    },
    {
     "name": "stderr",
     "output_type": "stream",
     "text": [
      "<ipython-input-95-c1b8633faa57>:3: UserWarning: Boolean Series key will be reindexed to match DataFrame index.\n",
      "  level2 = level2[sum_missmatch <= TOTAL_NUM_OF_MISMACHED_POSITIONS]\n"
     ]
    },
    {
     "name": "stdout",
     "output_type": "stream",
     "text": [
      "(94552, 128)\n"
     ]
    },
    {
     "name": "stderr",
     "output_type": "stream",
     "text": [
      "<ipython-input-95-c1b8633faa57>:5: UserWarning: Boolean Series key will be reindexed to match DataFrame index.\n",
      "  level2 = level2[(sum_bulge + sum_internal) <= TOTAL_NUM_OF_POSITIONS_IN_BULGES_AND_LOOPS]\n"
     ]
    },
    {
     "name": "stdout",
     "output_type": "stream",
     "text": [
      "(94552, 128)\n"
     ]
    }
   ],
   "source": [
    "level2 = level2[(sum_missmatch + sum_bulge + sum_internal) <= TOTAL_NUM_OF_NONMATCHING_POSITIONS]\n",
    "print(level2.shape)\n",
    "level2 = level2[sum_missmatch <= TOTAL_NUM_OF_MISMACHED_POSITIONS]\n",
    "print(level2.shape)\n",
    "level2 = level2[(sum_bulge + sum_internal) <= TOTAL_NUM_OF_POSITIONS_IN_BULGES_AND_LOOPS]\n",
    "print(level2.shape)"
   ]
  },
  {
   "cell_type": "code",
   "execution_count": 96,
   "metadata": {
    "ExecuteTime": {
     "end_time": "2022-04-11T21:30:10.759752Z",
     "start_time": "2022-04-11T21:29:21.664882Z"
    },
    "hidden": true
   },
   "outputs": [],
   "source": [
    "level2.to_csv(\"Result/result_level2_filter.csv\", index=False)\n",
    "level1[~level1.index.isin(level2.index)].to_csv(\"Result/result_level2_filter_deleted.csv\", index=False)"
   ]
  },
  {
   "cell_type": "code",
   "execution_count": null,
   "metadata": {
    "ExecuteTime": {
     "start_time": "2022-04-11T21:29:26.665Z"
    },
    "hidden": true
   },
   "outputs": [
    {
     "name": "stdout",
     "output_type": "stream",
     "text": [
      "  adding: Result/result_level2_filter_deleted.csv"
     ]
    }
   ],
   "source": [
    "!zip Result/result_level2_filter_deleted.zip Result/result_level2_filter_deleted.csv"
   ]
  },
  {
   "cell_type": "code",
   "execution_count": null,
   "metadata": {
    "ExecuteTime": {
     "start_time": "2022-04-11T21:29:26.929Z"
    },
    "hidden": true
   },
   "outputs": [],
   "source": [
    "!zip  Result/result_level2_filter.zip Result/result_level2_filter.csv"
   ]
  },
  {
   "cell_type": "markdown",
   "metadata": {
    "heading_collapsed": true
   },
   "source": [
    "# BlastX"
   ]
  },
  {
   "cell_type": "code",
   "execution_count": null,
   "metadata": {
    "hidden": true
   },
   "outputs": [],
   "source": [
    "!makeblastdb -in ./NR/nr -dbtype prot -out ./NR/nr_database\n",
    "\n",
    "#!head -n 100 ./Temp/extended_modified.txt > ./input_blastx.txt\n",
    "\n",
    "!blastx -query ./input_blastx.txt \\\n",
    "        -db ./NR/nr_database \\\n",
    "        -out ./Temp/BlastX/blastx \\\n",
    "        -num_threads 20 \\\n",
    "        -evalue 1e-3 \\\n",
    "        -outfmt \"6 qseqid sseqid qstart qend evalue bitscore score length frames qframe qcovs qcovhsp staxids\"\n",
    "\n",
    "blx = pd.read_csv('./Temp/BlastX/blastx', sep='\\t', header=None)\n",
    "blx.columns = 'qseqid sseqid qstart qend evalue bitscore score length frames qframe qcovs qcovhsp staxids'.split(' ')\n",
    "coding_seq = blx['qseqid'].unique()"
   ]
  },
  {
   "cell_type": "markdown",
   "metadata": {
    "heading_collapsed": true
   },
   "source": [
    "# psRNATarget"
   ]
  },
  {
   "cell_type": "code",
   "execution_count": 153,
   "metadata": {
    "ExecuteTime": {
     "end_time": "2022-02-26T13:09:55.492501Z",
     "start_time": "2022-02-26T13:09:53.451866Z"
    },
    "code_folding": [
     4
    ],
    "hidden": true
   },
   "outputs": [
    {
     "data": {
      "text/plain": [
       "requests.models.Response"
      ]
     },
     "execution_count": 153,
     "metadata": {},
     "output_type": "execute_result"
    }
   ],
   "source": [
    "url = \"https://www.zhaolab.org/psRNATarget/analysis\"\n",
    "\n",
    "payload='allowbulge=yes&curschema=s2&cutpos1=10&cutpos2=11&expect=5&function=3&gapextp=0.5&gapstartp=2&gup=0.5&hspsize=19&maxnummismatchinseed=2&misp=1&seedfactor=1.5&seedpos1=2&seedpos2=13&srna=&srna_content=%3Eath-miR156a%0D%0AUGACAGAAGAGAGUGAGCAC%0D%0A%3Eath-miR157a%0D%0AUUGACAGAAGAUAGAGAGCAC%0D%0A%3Eath-miR158a%0D%0AUCCCAAAUGUAGACAAAGCA%0D%0A%3Eath-miR398a%0D%0AUGUGUUCUCAGGUCACCCCUU%0D%0A%3Eath-miR398b%0D%0AUGUGUUCUCAGGUCACCCCUG%0D%0A%3Eath-miR398c%0D%0AUGUGUUCUCAGGUCACCCCUG%0D%0A%3Eath-miR834%0D%0AUGGUAGCAGUAGCGGUGGUAA%0D%0A%3Eath-miR390a%0D%0AAAGCUCAGGAGGGAUAGCGCC%0D%0A%3Eath-miR390b%0D%0AAAGCUCAGGAGGGAUAGCGCC&srna_uploaded=&target=&target_content=%3EAT1G27360.1%0D%0AAAGGTATCTATTTGCCTAGCCAGAGTTATATATAGGATTGATTGTCTAGTCTTTTCTTATATGATTTTTGTTCTCATTTACTAATCAAAGTTCTGCAAACTTGTAGTTGTTGTAGGATTTGTTGCTCTGGCTCTGGTGGTAGGTCTATGAAATCAACCCATATCGTGAATGGACTGCAACATGGTATCTTCGTCCCAGTGGGATTGGGAGCATTTGATCATGTCCAATCCGTCAAGGACTGAAGATGACAGCAAACAGCTACCTACTGAGTGGGAAATTGAAAAAGGTGAAGGAATTGAATCTATAGTTCCACATTTCTCAGGCCTTGAGAGAGTCAGTAGTGGCTCTGCCACCAGCTTCTGGCACACTGCTGTATCGAAAAGCTCACAGTCGACCTCTATCAACTCATCATCTCCCGAAGCCAAACGATGCAAGCTTGCATCAGAAAGTTCCCCTGGAGATTCTTGCAGCAACATAGACTTTGTCCAGGTGAAGGCTCCCACAGCTCTCGAGGTATCCGTTGCCTCAGCTGAATCAGATCTTTGTTTAAAACTAGGAAAGCGGACATACTCTGAAGAATACTGGGGTAGAAACAATAATGAAATTTCAGCGGTTTCTATGAAGTTGTTAACTCCATCTGTTGTCGCTGGGAAATCCAAATTGTGTGGTCAGAGCATGCCAGTCCCGCGTTGCCAAATTGATGGCTGTGAACTGGATCTCTCATCTGCTAAGGGTTATCATCGTAAGCACAAAGTCTGCGAAAAGCATTCAAAGTGCCCAAAAGTTAGCGTGAGTGGCCTGGAACGTCGGTTCTGCCAACAGTGTAGCAGGTTCCATGCTGTCTCTGAATTTGATGAGAAGAAACGAAGCTGCCGAAAACGTCTTTCTCATCATAATGCGAGGCGTCGTAAGCCACAAGGAGTATTTTCAATGAATCCCGAGAGGGTGTATGATCGAAGACAGCATACAAATATGTTGTGGAATGGGGTGTCCCTTAACGCGAGATCTGAAGAAATGTATGAATGGGGTAATAACACTTATGATACAAAGCCTAGACAAACGGAAAAAAGCTTTACTCTGAGCTTCCAGAGAGGTAATGGCTCTGAGGACCAGCTGGTTGCTAGTAGCAGCCGTATGTTCTCTACATCTCAAACCTCAGGTGGGTTCCCAGCAGGAAAGTCCAAGTTTCAACTTCATGGCGAAGATGTGGGAGAATACTCAGGAGTCCTCCATGAATCTCAAGATATCCACCGTGCTCTCTCTCTTCTGTCAACCTCTTCGGATCCCCTGGCCCAACCACATGTGCAGCCATTTTCTCTACTCTGTTCATATGATGTTGTACCAAAATAGATGAGTAAGTAATGTGTAATTTGTAAACCTGTTACTCAGTTGGTGGATACTTTTCCAAACCTATGATAAAAACCTCGTCCTAGATCCCGTTAAATGCCAAACTTTCGGCTACTATAACTATGTTATCGTTATCATTATCATTGTTTAACACCCT%0D%0A%3EAT1G27360.4%20%7C%20Symbols%3A%20%20%7C%20squamosa%20promoter-binding%20protein-like%2011%20(SPL11)%20%7C%20chr1%3A9501808-9503856%20FORWARD%0D%0ACTGGGTGAAACATAGAAAAGTTTCTCTTGCTCAAGTTAATGATAAAAGGGTGAGAGCAATAAACGCTGATAAGCCTTGTCTGGTCCTTGGAATTTTGAATTTTCTTTTTCTATCTTACTTATAGTATTGGTAGTTGAGGGTGTCGTCGATAAGTTGTTGTAGGATTTGTTGCTCTGGCTCTGGTGGTAGGTCTATGAAATCAACCCATATCGTGAATGGACTGCAACATGGTATCTTCGTCCCAGTGGGATTGGGAGCATTTGATCATGTCCAATCCGTCAAGGACTGAAGATGACAGCAAACAGCTACCTACTGAGTGGGAAATTGAAAAAGGTGAAGGAATTGAATCTATAGTTCCACATTTCTCAGGCCTTGAGAGAGTCAGTAGTGGCTCTGCCACCAGCTTCTGGCACACTGCTGTATCGAAAAGCTCACAGTCGACCTCTATCAACTCATCATCTCCCGAAGCCAAACGATGCAAGCTTGCATCAGAAAGTTCCCCTGGAGATTCTTGCAGCAACATAGACTTTGTCCAGGTGAAGGCTCCCACAGCTCTCGAGGTATCCGTTGCCTCAGCTGAATCAGATCTTTGTTTAAAACTAGGAAAGCGGACATACTCTGAAGAATACTGGGGTAGAAACAATAATGAAATTTCAGCGGTTTCTATGAAGTTGTTAACTCCATCTGTTGTCGCTGGGAAATCCAAATTGTGTGGTCAGAGCATGCCAGTCCCGCGTTGCCAAATTGATGGCTGTGAACTGGATCTCTCATCTGCTAAGGGTTATCATCGTAAGCACAAAGTCTGCGAAAAGCATTCAAAGTGCCCAAAAGTTAGCGTGAGTGGCCTGGAACGTCGGTTCTGCCAACAGTGTAGCAGGTTCCATGCTGTCTCTGAATTTGATGAGAAGAAACGAAGCTGCCGAAAACGTCTTTCTCATCATAATGCGAGGCGTCGTAAGCCACAAGGAGTATTTTCAATGAATCCCGAGAGGGTGTATGATCGAAGACAGCATACAAATATGTTGTGGAATGGGGTGTCCCTTAACGCGAGATCTGAAGAAATGTATGAATGGGGTAATAACACTTATGATACAAAGCCTAGACAAACGGAAAAAAGCTTTACTCTGAGCTTCCAGAGAGGTAATGGCTCTGAGGACCAGCTGGTTGCTAGTAGCAGCCGTATGTTCTCTACATCTCAAACCTCAGGTGGGTTCCCAGCAGGAAAGTCCAAGTTTCAACTTCATGGCGAAGATGTGGGAGAATACTCAGGAGTCCTCCATGAATCTCAAGATATCCACCGTGCTCTCTCTCTTCTGTCAACCTCTTCGGATCCCCTGGCCCAACCACATGTGCAGCCATTTTCTCTACTCTGTTCATATGATGTTGTACCAAAATAGATGAGTAAGTAATGTGTAATTTGTAAACCTGTTACTCAGTTGGTGGATACTTTTCCAAACCTATGATAAAAACCTCGTCCTAGATCCCGTTAAATGCCAAACTTTCGGCTACTATAACTATGTTATCGTTATCATTATCATTGTTTAACACCCT%0D%0A%3EAT1G32140.1%20%7C%20Symbols%3A%20%20%7C%20F-box%20family%20protein%20%7C%20chr1%3A11562722-11564813%20REVERSE%0D%0AATGACGATGATGTCCGACCTTTCACTTGATTTAGTCGAAGAGATATTGTGTAGGGTTCCGATAACTTCTCTTAAAGCAGTGAGATCTAGTTGCAAACTATGGAACGTTCTTTCCAAGAACCGGATTTTATGTAAAACAGAAGCTAGAAATCAGTTTTTAGGGTTCACGATAATGAATCATAGGCTTTATTCCATGAGATTCAATCTCCATGGAATCGGCCTCAATGAAAACAGTGAAGAGTTCATTGATCCATCTATAAAGCCAATAGGTAATTTACTTAATCAAGTCGAGATATCTAAAGTGTTTTATTGCGAAGGTTTATTGTTATGCGTCACAAGGAACCACTCAAGCAAGCTCGTAGTTTGGAACCCGTATTTGGGAGAAATTCGTTGGATCAAAACTAGGAATGATTACCACATAGGCGTTACATATGCTCTCGGGTACGACAACAACAAGAACCACATGATCTTGAGGTTTTTTTCTGAACAAGGCTACTACGAGATTTACGACATGAACTCTTCTGACTCATGGGATTGTTTTTATGGCATTCCCAACAAGGGGTTAAAATGTTATCAGCCCGGCGCGTCGTTAAATGGAAATGCTTATTTTTTGACTGAGGGAAGAGAAGTAATGGAAGGGTATGATTGCTTACTCGGTTTTGATTTTACAACAAAGAAATTTGGACCACTTCTTTCTTTGTCGTTTTCGCATGATTTTATAGAGACTGGGAGACTATCTTGTGTTAAAGGAGAGAAACTTGCGGTCTTATATCAGCGCTGCTATACCTATGAGATGGAGGTATGGGTGACAACTAAGATAGAGCCGAATGCGGTGTCATGGAGCAAATTCTTAGCAGTTGAAATGGAACCACTCACTAGTCTAAAGTTTAACGATGATTCTGGCAGTTTCTTCATTGACGAAGAGAAGAAAATCGTCGTGGTTTTTGATATAGACGAATCTGAACGCAACAATACGGCTTACATCATTGGAGATTATGGATGCTTGAAAGAAGTTGATCTTGATGAAGTTGTGAACCCACAAGAATCTGTGGAGGTCGGAGACCGCATTTATTCTTTTTCACCATTTGTGTGCTCTTGCTCTTATGTTCCAAGTTTAGTGAAATTTAAAGAAGATGCAGAACATGAAAGGAAAGATAAGAAGAGGAAGAGTAAGAGGAAGCGAACCAACAAGGATGGATATGATTTTATACTGTGTTTTGATTTTACAACCGAGAGATTTGGACAGATTCTTCCTCTGCCGTTTAAACATTCTTTTAGGGATACTTGGACTCTATCTTCTGTTAAAGAAGAGAAACTTGCAGTCGCAGTGTTATACTGGAAAAATACATGTGTGATGATAGAGATATGGATGACAATTAAGATTGATCCTAATGTCGAGTCGTGGAGCAAATTCTTAAGAGTTGATAGGAAACCATGCATTGATCTTCGCTTTGATGATCGTAATGACAGTTTTTTCATTGACGAAGAGAAGAAAGTTGTCGTGTTTTTTAGTTCAGACAAAGTTAAAACCTCTACGGCTTACGTCATTGGAGATAATAGATATTTGAGAACAGTGGATCTTGAAAAAGCTGCAAACTCCCAAGAATCTGTGGAGGTCGGAGAACGCGTGTATTGTTTTTCGCCGCTTGTGTGCTCTTGCTCTTATTATGTTCCAAGTTTGGTGAAAATCAACCACAATGCAGGACGCAAAAGGAAAGAGAAGAAGACGAAGCGCAAAAGTAAAGACAAGCAGATGAAACTAAGCAACAAGGTGTAA%0D%0A%3EAT2G42200.1%20%7C%20Symbols%3A%20%20%7C%20squamosa%20promoter-binding%20protein-like%209%20(SPL9)%20%7C%20chr2%3A17594485-17596708%20FORWARD%0D%0AACCACTCTCGTCTCTTTCTTTTTTCCTTCTGTTCTGTTTCTCTCTCTAAACCCAAAACAGTCAAAATCAGGGAAGCCGAAATTTTCTTTGCTTTCTTCTCCTTTGGTCCTTTCTTTAAACCCGAGACAGTTAGGTTTGTGTGAGAGAGAGAATGATGAGTAAAACCCTTTCTGTCTGAGTAAGAGGAAACCAACATGGAGATGGGTTCCAACTCGGGTCCGGGTCATGGTCCGGGTCAGGCAGAGTCGGGTGGTTCCTCCACTGAGTCATCCTCTTTCAGTGGAGGGCTCATGTTTGGCCAGAAGATCTACTTCGAGGACGGTGGTGGTGGATCCGGGTCTTCTTCCTCAGGTGGTCGTTCAAACAGACGTGTCCGTGGAGGCGGGTCGGGTCAGTCGGGTCAGATACCAAGGTGCCAAGTGGAAGGTTGTGGGATGGATCTAACCAATGCAAAAGGTTATTACTCGAGACACCGAGTTTGTGGAGTGCACTCTAAAACACCTAAAGTCACTGTGGCTGGTATCGAACAGAGGTTTTGTCAACAGTGCAGCAGGTTTCATCAGCTTCCGGAATTTGACCTAGAGAAAAGGAGTTGCCGCAGGAGACTCGCTGGTCATAATGAGCGACGAAGGAAGCCACAGCCTGCGTCTCTCTCTGTGTTAGCTTCTCGTTACGGGAGGATCGCACCTTCGCTTTACGAAAATGGTGATGCTGGAATGAATGGAAGCTTTCTTGGGAACCAAGAGATAGGATGGCCAAGTTCAAGAACATTGGATACAAGAGTGATGAGGCGGCCAGTGTCGTCACCGTCATGGCAGATCAATCCAATGAATGTATTTAGTCAAGGTTCAGTTGGTGGAGGAGGGACAAGCTTCTCATCTCCAGAGATTATGGACACTAAACTAGAGAGCTACAAGGGAATTGGCGACTCAAACTGTGCTCTCTCTCTTCTGTCAAATCCACATCAACCACATGACAACAACAACAACAACAACAACAACAACAACAACAACAACAATACATGGCGAGCTTCTTCAGGTTTTGGCCCGATGACGGTTACAATGGCTCAACCACCACCTGCACCTAGCCAGCATCAGTATCTGAACCCGCCTTGGGTATTCAAGGACAATGATAATGATATGTCTCCTGTTTTGAATTTAGGTCGATACACCGAGCCAGATAATTGTCAGATAAGTAGTGGCACGGCAATGGGTGAGTTCGAGTTATCTGATCACCATCATCAAAGTAGGAGACAGTACATGGAAGATGAGAACACAAGGGCTTATGACTCTTCTTCTCACCATACCAACTGGTCTCTCTGACTTGTCTTTGCATCAGAGAATCTTCTTACAATGAACGATTCTGCAATATCTTATCTTTTTGCTTCTTTGTTTATTCTGTTATCTGCTATCAATAAACCAGACAATTGTTGCCAGATAATGGCTTTTGATTTTGATTTGTTGTTTTATCTCCATGAAAATCCAAGTTATGAGATCAGATT%0D%0A%3EAT1G49910.1%20%7C%20Symbols%3A%20%20%7C%20WD-40%20repeat%20family%20protein%20%2F%20mitotic%20checkpoint%20protein%2C%20putative%20%7C%20chr1%3A18482693-18485143%20FORWARD%0D%0AATGACTTTGGTGCCGGCCATTGGTCGCGAGCTCTCGAATCCACCGTCCGATGGGATTTCTAATCTTCGATTTTCTAATAACAGCGATCATTTACTAGTCTCTTCATGGGATAAGAGTGTAAGATTGTATGATGCGAACGGCGATTTGATGAGAGGGGAGTTTAAACATGGTGGAGCGGTACTCGATTGCTGCTTCCATGATGATTCTTCTGGATTCAGTGTTTGCGCCGATACTAAAGTTAGAAGAATTGACTTCAATGCTGGCAAAGAAGACGTTTTGGGTACGCATGAGAAGCCAGTTCGATGTGTTGAGTATTCTTATGCTGCAGGGCAAGTGATCACTGGAAGTTGGGATAAAACGATTAAATGTTGGGATCCAAGAGGTGCAAGTGGGACTGAGCGCACACAGATTGGAACTTATATGCAACCTGAGCGTGTTAACTCTCTTTCTCTTGTTGGAAATCGTTTGGTAGTGGCAACAGCAGGAAGGCATGTCAACATTTATGATCTTAGAAATATGTCCCAGCCTGAGCAAAGAAGAGAGTCCTCACTTAAATACCAGACAAGATGTGTACGTTGTTATCCCAACGGAACAGGATATGCCCTTAGCTCTGTTGAAGGGAGGGTTTCAATGGAGTTTTTTGATCTATCAGAAGCTGCTCAGGCTAAAAAATATGCTTTCAAATGTCACCGGAAATCAGAGGATGGAAGGGACATTGTCTACCCTGTAAATGCAATTGCTTTCCATCCGATTTATGGCACTTTTGCTTCCGGAGGCTGTGATGGTTTTGTCAACATTTGGGACGGTAACAATAAGAAGAGGCTTTATCAGTACTCTAAGTATCCAACAAGTATTGCGGCGCTGTCATTCAGCCGAGATGGTGGATTACTGGCTGTTGCTTCTAGTTACACGTTTGAAGAGGGAGACAAACCGCATGAACCGGACGCCATCTTTGTTAGAAGTGTTAATGAAATTGAAGTGAAACCGAAACCCAAAGTATACCCAAATCCCCCGGTATAGTCAAGAAATAATGGAATGAGCAGAGTCAAATTCGACTTGTGTGTTGTTGTATTGTAGCACTTGAAAGTGAGTTATAAAATCTTATTTTGGCTGTAAAGTGAAATGTGAACGTTATAATGGCTTTCGAATCTGAGATGGTGTTCCATTTACTCTCTGGGTTGCCTCCAATTTTTCTTTTAGGACCAACTATCTTATTTTTACCTT%0D%0A%3EAT1G48460.1%20%7C%20Symbols%3A%20%20%7C%20similar%20to%20unknown%20protein%20%5BArabidopsis%20thaliana%5D%20(TAIR%3AAT5G63040.2)%3B%20similar%20to%20Os01g0704200%20%5BOryza%20sativa%20(japonica%20cultivar-group)%5D%20(GB%3ANP_001044004.1)%3B%20similar%20to%20hypothetical%20protein%20MtrDRAFT_AC124952g33v1%20%5BMedicago%20truncatula%5D%20(GB%3AABE93586.1)%3B%20contains%20domain%20Multidrug%20resistance%20ABC%20transporter%20MsbA%2C%20N-terminal%20domain%20(SSF90123)%20%7C%20chr1%3A17915014-17916968%20FORWARD%0D%0AAGAAAACAATTCCAAAAAATAAAATGTCAGAAAAGAATTTTCTTTTAGAATAAAGACAGTGAAGAGATTTATTTCAAAGCCTGGGTTTAAGCTGCTGAGAGAACACAAAAAACCCTAACAAAAATGGAATCGAAAGCAATTTGCTTAGGGTTTCTTCCTCCAAGACTTCGATTTTCATCTCCACGTTTACTCTCTCTTCCTCCTTCTCCTCCTGCTTCTTCCACATTTGCGACGCGTCACAAACTTGATTCCAGACAAACCCTCCTTTGGAACAAACCGCAATTGAGCCGAGTTCGTGTAGCGTGTTCTTCTTCTCAATCTGACTCAAGACCTGAGAAGAAGCAATCGGATAAGAGTAACTATGCTCGAGCTGAGCTGTTCCGTGGGAAATCAGGTTCTGTTTCTTTCAATGGTCTGACTCATCAGCTGGTTGAAGAAAGTAAACTGGTTTCAGCTCCGTTTCAAGAAGAGAAAGGTTCTTTCTTGTGGGTTTTGGCTCCTGTTGTTTTGATTTCTTCGTTGATTCTTCCTCAGTTCTTTCTAAGTGGTATCATTGAAGCTACCTTCAAAAACGACACTGTTGCTGAAATTGTTACTTCTTTTTGCTTTGAGACGGTGTTTTATGCTGGTCTTGCGATATTCCTGTCTGTGACTGACCGAGTGCAGAGGCCGTACTTAGACTTCAGCTCCAAGAGATGGGGTCTGATCACTGGACTGAGGGGATACCTTACGTCTGCATTCCTCACGATGGGTTTAAAAGTTGTAGTTCCCGTATTTGCTGTTTACATGACTTGGCCAGCTCTTGGAATAGATGCTTTGATTGCAGTGCTTCCTTTCTTGGTTGGCTGTGCAGTTCAAAGAGTTTTCGAGGCTCGGCTTGAAAGACGTGGCTCATCCTGTTGGCCCATTGTTCCAATAGTCTTTGAGGTGTATAGGCTGTATCAGGTGACAAGAGCAGCGACTTTTGTTCAGAGGCTGATGTTTATGATGAAAGATGCGGCAACGACTGCTGAAATAACAGAGCGAGGAGTTGCACTAGTTGGTTTGGTTGTGACTTTGCAGTTTCTAGCTGTTATGTGTCTCTGGTCGTTTATCACTTTTCTTATGCGCCTCTTTCCTTCTAGACCTGTAGGTGAAAACTACTAGATCTCAGTGTTTAGTGATTGTTAGATGTAGCCAAATCCCATCGGTTTTGTTTTGTTTCTGTGTTCATTTCAGTAGTAATGAATTGTATTAAGTCACTTTAAGAATTGGTTGATCATGTGAAATGAGAATTGGCTGGAAATGTTATAGAACG%0D%0A%3EAT5G50570.2%20%7C%20Symbols%3A%20%20%7C%20squamosa%20promoter-binding%20protein%2C%20putative%20%7C%20chr5%3A20599309-20601106%20REVERSE%0D%0AAAAAAGGACAAATCTTGATATTGCTTTGATTGCTGTTGTGTATGTATGTGTTTTTATAGTGAGAGAAGAAAAAAAAGCACAATCTTTGAATGGACTGGAATTTCAAACTTAGCTCTGGTTATTTATCTGGATTCGATCAAGAACCAGATTTATCACCAATGGATGGTTCGATCTCGTTTGGTGGGTCGTCACAGTCAAAAGCGGATTTTTCATTTGATCTAAAACTTGGAAGAAACATTGGAAACTCTTCCTCTGTTTTTGGTGATACAGAGCAAGTGATTAGTCTTAGTAAGTGGAAAGATAGTGCTTTAGCTAAACCAGAAGGTTCAAGAAGCTCGAGTTCAAAGAGAACAAGAGGGAATGGTGTTGGAACCAACCAGATGCCGATTTGTCTTGTTGATGGATGTGATTCTGATTTTAGTAATTGTAGAGAGTATCATAAGAGACATAAAGTTTGTGATGTTCATTCAAAAACTCCTGTGGTTACTATTAATGGTCATAAACAGAGGTTTTGTCAACAATGCAGCAGGTTTCATGCTTTGGAGGAGTTTGATGAAGGGAAGAGAAGTTGTAGGAAACGTCTTGATGGACATAATCGAAGACGACGGAAGCCGCAGCCTGAACATATCGGTCGTCCTGCCAACTTCTTTACGGGTTTTCAAGGTAGCAAATTGCTAGAGTTTTCTGGTGGTTCACATGTGTTTCCAACTACATCTGTGTTGAACCCGAGCTGGGGAAATAGTCTTGTAAGCGTTGCTGTAGCCGCCAATGGTTCGAGTTATGGGCAGAGCCAGAGCTATGTTGTTGGTTCTTCTCCTGCAAAGACAGGGATAATGTTTCCAATCTCTTCTTCTCCAAACAGTACCAGAAGCATAGCAAAACAATTCCCTTTCTTGCAAGAAGAAGAAAGCTCGAGAACCGCATCGTTGTGTGAGAGAATGACGAGTTGCATCCATGACTCTGATTGTGCTCTCTCTCTTCTGTCATCCTCCTCGTCGTCAGTCCCTCATTTGCTTCAACCACCACTTTCTTTGTCCCAAGAAGCAGTTGAGACAGTTTTTTACGGGTCGGGATTGTTTGAGAATGCGAGTGCAGTCTCTGATGGATCGGTTATATCCGGTAACGAGGCTGTCCGTCTTCCGCAGACATTCCCGTTTCATTGGGAGTAGTAGAAGAAGAAGTAGGTAGATAGATAGAATCAGAAAGATCTATTTGTGTCTCTTCTCTTCTCCCTCATTTTTCAATGTTCTTTATCATCATCATTGTTCTTGTTAACACTACAAGAAATATGGACATTCTTAACACACCGAAAACGCTATAATAACGTTTACATAGCGGATTCATAAACGCTGTGTTTGCCGGAGCTATCTTAGAGTGGTCACATACAATAGCGTTTCTTGCTATGCTATTAAATGTTCACATATTATGGCGTAAAAGAAATGCTTTGATTTCCTTTGTTATTGCACAATTTTGATGTTATACTTTTGTAACTCTTTTTAAGGGCTATAAACTATTATTTTGTAGCTATATTTTATAGGCTATGATCTGATATGTTGTAGCTTTATTTTTTTGGCTATAAATCTATAAACAGCCTATAAGTTTGGGACATTTTGTTACACATTTGCAAGAAACCTCTTTTTG%0D%0A&target_uploaded=&top=200'\n",
    "headers = {\n",
    "  'sec-ch-ua': '\" Not A;Brand\";v=\"99\", \"Chromium\";v=\"98\", \"Google Chrome\";v=\"98\"',\n",
    "  'sec-ch-ua-mobile': '?0',\n",
    "  'sec-ch-ua-platform': '\"Windows\"',\n",
    "  'Upgrade-Insecure-Requests': '1',\n",
    "  'Content-Type': 'application/x-www-form-urlencoded',\n",
    "  'User-Agent': 'Mozilla/5.0 (Windows NT 10.0; Win64; x64) AppleWebKit/537.36 (KHTML, like Gecko) Chrome/98.0.4758.102 Safari/537.36',\n",
    "  'Accept': 'text/html,application/xhtml+xml,application/xml;q=0.9,image/avif,image/webp,image/apng,*/*;q=0.8,application/signed-exchange;v=b3;q=0.9',\n",
    "  'Sec-Fetch-Site': 'same-origin',\n",
    "  'Sec-Fetch-Mode': 'navigate',\n",
    "  'Sec-Fetch-User': '?1',\n",
    "  'Sec-Fetch-Dest': 'document',\n",
    "  'Cookie': 'session=eyJzaW1wbGVwYWdlIjpmYWxzZX0.YhEQeA.N4sPemlWsAA1q7EwbfdkVXJbqs8'\n",
    "}\n",
    "\n",
    "response = requests.request(\"POST\", url, headers=headers, data=payload)\n",
    "type(response)"
   ]
  },
  {
   "cell_type": "code",
   "execution_count": null,
   "metadata": {
    "hidden": true
   },
   "outputs": [],
   "source": []
  }
 ],
 "metadata": {
  "hide_input": false,
  "kernelspec": {
   "display_name": "Python 3",
   "language": "python",
   "name": "python3"
  },
  "language_info": {
   "codemirror_mode": {
    "name": "ipython",
    "version": 3
   },
   "file_extension": ".py",
   "mimetype": "text/x-python",
   "name": "python",
   "nbconvert_exporter": "python",
   "pygments_lexer": "ipython3",
   "version": "3.8.10"
  },
  "varInspector": {
   "cols": {
    "lenName": 16,
    "lenType": 16,
    "lenVar": 40
   },
   "kernels_config": {
    "python": {
     "delete_cmd_postfix": "",
     "delete_cmd_prefix": "del ",
     "library": "var_list.py",
     "varRefreshCmd": "print(var_dic_list())"
    },
    "r": {
     "delete_cmd_postfix": ") ",
     "delete_cmd_prefix": "rm(",
     "library": "var_list.r",
     "varRefreshCmd": "cat(var_dic_list()) "
    }
   },
   "types_to_exclude": [
    "module",
    "function",
    "builtin_function_or_method",
    "instance",
    "_Feature"
   ],
   "window_display": false
  }
 },
 "nbformat": 4,
 "nbformat_minor": 4
}
