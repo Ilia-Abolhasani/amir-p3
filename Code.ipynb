{
 "cells": [
  {
   "cell_type": "markdown",
   "metadata": {
    "heading_collapsed": true
   },
   "source": [
    "# Common"
   ]
  },
  {
   "cell_type": "code",
   "execution_count": 1,
   "metadata": {
    "ExecuteTime": {
     "end_time": "2021-11-23T16:04:08.994385Z",
     "start_time": "2021-11-23T16:04:08.483818Z"
    },
    "hidden": true
   },
   "outputs": [],
   "source": [
    "import numpy as np\n",
    "import pandas as pd\n",
    "from tqdm.contrib.concurrent import process_map\n",
    "#from tqdm import tqdm  # !pip install tqdm\n",
    "from tqdm.notebook import tqdm\n",
    "tqdm.pandas()\n",
    "#from tqdm import trange\n",
    "import multiprocessing as mp\n",
    "import shutil\n",
    "import glob\n",
    "import os\n",
    "import sys\n",
    "if sys.version_info[0] < 3: \n",
    "    from StringIO import StringIO\n",
    "else:\n",
    "    from io import StringIO"
   ]
  },
  {
   "cell_type": "code",
   "execution_count": 2,
   "metadata": {
    "ExecuteTime": {
     "end_time": "2021-11-23T16:04:09.172170Z",
     "start_time": "2021-11-23T16:04:09.048957Z"
    },
    "hidden": true
   },
   "outputs": [],
   "source": [
    "!mkdir -p Temp"
   ]
  },
  {
   "cell_type": "code",
   "execution_count": 3,
   "metadata": {
    "ExecuteTime": {
     "end_time": "2021-11-23T16:04:11.192374Z",
     "start_time": "2021-11-23T16:04:11.186822Z"
    },
    "hidden": true
   },
   "outputs": [],
   "source": [
    "def bracket_row(row):    \n",
    "    s = row['data']\n",
    "    index = min(s.find('.'), s.find('('))\n",
    "    data = row['data']\n",
    "    row['data'] = data[0:index]\n",
    "    row['bracket'] = data[index:]\n",
    "    return row"
   ]
  },
  {
   "cell_type": "code",
   "execution_count": 4,
   "metadata": {
    "ExecuteTime": {
     "end_time": "2021-11-23T16:04:12.997112Z",
     "start_time": "2021-11-23T16:04:12.992544Z"
    },
    "hidden": true
   },
   "outputs": [],
   "source": [
    "def adjust(text,n=7):\n",
    "    text = str(text)    \n",
    "    return \" \" * (n - len(text)) + text"
   ]
  },
  {
   "cell_type": "code",
   "execution_count": 5,
   "metadata": {
    "ExecuteTime": {
     "end_time": "2021-11-23T16:04:13.462417Z",
     "start_time": "2021-11-23T16:04:13.451283Z"
    },
    "hidden": true
   },
   "outputs": [],
   "source": [
    "def bracket_to_ct(tag, data, bracket, deltaG, negative_deltaG=True):    \n",
    "    deltaG = deltaG.replace('(','').replace(')','')\n",
    "    deltaG = float(deltaG)\n",
    "    if(deltaG > 0 and negative_deltaG ): # negetive?!\n",
    "        deltaG = -1 * deltaG\n",
    "    stack = []\n",
    "    index = np.zeros((len(bracket)), dtype = int)\n",
    "    values = np.zeros((len(bracket)), dtype = int)\n",
    "    for i in range(len(bracket)):\n",
    "        index[i] = i + 1\n",
    "        if(bracket[i] == '.'):\n",
    "            values[i] = 0\n",
    "        elif(bracket[i] == '('):\n",
    "            stack.append(i)\n",
    "        elif(bracket[i] == ')'):\n",
    "            if(len(stack) == 0 ):\n",
    "                print('structure error!')\n",
    "            values[stack[-1]] = i + 1\n",
    "            values[i]  = stack[-1] + 1\n",
    "            stack.pop()\n",
    "        else:\n",
    "            print('structure error!')\n",
    "    if(len(stack) != 0 ):\n",
    "        print('structure error!')\n",
    "    # body    \n",
    "    ct = f\"{adjust(len(data),6)} dG ={adjust(deltaG,10)} {tag}\\n\"   \n",
    "    for i in range(len(bracket)):\n",
    "        ct += f\"{adjust(index[i],6)} {data[i]} {adjust(i,6)} {adjust((i+2)%(len(data)+1),6)} {adjust(values[i],6)} {adjust(index[i],7)}\\n\"\n",
    "    return ct"
   ]
  },
  {
   "cell_type": "code",
   "execution_count": 6,
   "metadata": {
    "ExecuteTime": {
     "end_time": "2021-11-23T16:04:14.067874Z",
     "start_time": "2021-11-23T16:04:14.060281Z"
    },
    "hidden": true
   },
   "outputs": [],
   "source": [
    "def fasta_to_df(path):\n",
    "    with open(path, 'r') as file:\n",
    "        text = file.read()\n",
    "    lines = [line for line in text.split('\\n') if len(line) > 0]\n",
    "    s = ''\n",
    "    tags = []\n",
    "    data = []\n",
    "    for l in lines:\n",
    "        if(l[0]=='>'):\n",
    "            tags.append(l)        \n",
    "            data.append(s)\n",
    "            s = ''\n",
    "        else:\n",
    "            s += l    \n",
    "    data.append(s)\n",
    "    df = pd.DataFrame(\n",
    "            {\n",
    "                'tag': tags,\n",
    "                'data': data[1:]\n",
    "            })\n",
    "    df['tag'] = df['tag'].apply(lambda x: x[1:])    \n",
    "    return df"
   ]
  },
  {
   "cell_type": "code",
   "execution_count": 7,
   "metadata": {
    "ExecuteTime": {
     "end_time": "2021-11-23T16:04:14.843399Z",
     "start_time": "2021-11-23T16:04:14.838452Z"
    },
    "hidden": true
   },
   "outputs": [],
   "source": [
    "def df_to_fasta(df, path):\n",
    "    lines = []\n",
    "    df.apply(lambda row: lines.append(f\">{row['tag']}\\n{row['data']}\\n\"),axis=1)\n",
    "    with open(path,'w') as file:\n",
    "        file.write(''.join(lines))"
   ]
  },
  {
   "cell_type": "code",
   "execution_count": 8,
   "metadata": {
    "ExecuteTime": {
     "end_time": "2021-11-23T16:04:15.253488Z",
     "start_time": "2021-11-23T16:04:15.248951Z"
    },
    "hidden": true
   },
   "outputs": [],
   "source": [
    "def reformat(path):\n",
    "    return path.replace('(','_').replace(')','_').replace('.','').replace(':','_')"
   ]
  },
  {
   "cell_type": "code",
   "execution_count": 9,
   "metadata": {
    "ExecuteTime": {
     "end_time": "2021-11-23T16:04:15.785853Z",
     "start_time": "2021-11-23T16:04:15.777597Z"
    },
    "hidden": true
   },
   "outputs": [],
   "source": [
    "def reformatCT(path):\n",
    "    with open(path, 'r') as file:\n",
    "        text = file.read()\n",
    "    text = [l for l in text.split('\\n') if len(l) > 0 ] # remove blank lines\n",
    "    text = '\\n'.join(text)\n",
    "    text = text.replace(\"\\t\",\" \")\n",
    "    while(\"  \" in text):\n",
    "        text = text.replace(\"  \", \" \")\n",
    "    lines = [l for l in text.split('\\n')]\n",
    "    for i in range(len(lines)):\n",
    "        if(lines[i][0] == \" \"):\n",
    "            lines[i] = lines[i][1:]\n",
    "        if(lines[i][-1] == \" \"):\n",
    "            lines[i] = lines[i][:-1]\n",
    "    text = '\\n'.join(lines)\n",
    "    return text"
   ]
  },
  {
   "cell_type": "code",
   "execution_count": 10,
   "metadata": {
    "ExecuteTime": {
     "end_time": "2021-11-23T16:04:16.323514Z",
     "start_time": "2021-11-23T16:04:16.317465Z"
    },
    "hidden": true
   },
   "outputs": [],
   "source": [
    "def get_ct_data(ct):\n",
    "    ct = \"\\n\".join(ct.split('\\n')[1:])\n",
    "    df = pd.read_csv(StringIO(ct), sep=\" \", header=None)               \n",
    "    nucleotide = df.iloc[:,1]\n",
    "    index = df.iloc[:,5]\n",
    "    values = df.iloc[:,4]\n",
    "    return [nucleotide, index, values]"
   ]
  },
  {
   "cell_type": "code",
   "execution_count": 11,
   "metadata": {
    "ExecuteTime": {
     "end_time": "2021-11-23T16:04:16.866215Z",
     "start_time": "2021-11-23T16:04:16.859955Z"
    },
    "hidden": true
   },
   "outputs": [],
   "source": [
    "def ct2dot_bracket(path):\n",
    "    [nucleotide, index, values] = get_ct_data(reformatCT(path))\n",
    "    text = ''.join(nucleotide) + \"\\n\"\n",
    "    watch = []\n",
    "    for i, v in zip(index,values):\n",
    "        if(v == 0):\n",
    "            text += '.'\n",
    "        else:\n",
    "            if( v not in watch):\n",
    "                text += '('\n",
    "                watch.append(i)\n",
    "            if( v in watch):\n",
    "                text += ')'\n",
    "    return text"
   ]
  },
  {
   "cell_type": "code",
   "execution_count": 12,
   "metadata": {
    "ExecuteTime": {
     "end_time": "2021-11-23T16:04:17.330308Z",
     "start_time": "2021-11-23T16:04:17.325068Z"
    },
    "hidden": true
   },
   "outputs": [],
   "source": [
    "def is_nested(index, values):\n",
    "    max_value = max(index) + 10 # inf\n",
    "    for i, v in zip(index, values):\n",
    "        if(v < max_value and v != 0):\n",
    "            max_value  = v\n",
    "        if(i >= max_value):\n",
    "            max_value = max(index) + 10 # inf\n",
    "        if(v > max_value):\n",
    "            return False               \n",
    "    return True"
   ]
  },
  {
   "cell_type": "code",
   "execution_count": 13,
   "metadata": {
    "ExecuteTime": {
     "end_time": "2021-11-23T16:04:17.989962Z",
     "start_time": "2021-11-23T16:04:17.986066Z"
    },
    "hidden": true
   },
   "outputs": [],
   "source": [
    "'''ct = reformatCT('./secondary_structure/spot_rna/AMWY020598281_2832-3256_+_/AMWY020598281_2832-3256_+_.ct')\n",
    "[nucleotide, index, values] = get_ct_data(ct)\n",
    "print(is_nested( index,  values))\n",
    "''';"
   ]
  },
  {
   "cell_type": "markdown",
   "metadata": {
    "heading_collapsed": true,
    "hidden": true
   },
   "source": [
    "### rename tag of input genome to new tag id"
   ]
  },
  {
   "cell_type": "markdown",
   "metadata": {
    "heading_collapsed": true
   },
   "source": [
    "# Download dataset"
   ]
  },
  {
   "cell_type": "code",
   "execution_count": 13,
   "metadata": {
    "ExecuteTime": {
     "end_time": "2021-11-14T15:26:00.765914Z",
     "start_time": "2021-11-14T15:26:00.762196Z"
    },
    "hidden": true
   },
   "outputs": [],
   "source": [
    "'''\n",
    "from Bio import Entrez\n",
    "Entrez.email = \"abolhasani.eliya@gmail.com\"     \n",
    "with Entrez.esearch(db='nucleotide', term=\"Arabidopsis thaliana\") as handle:\n",
    "    result = Entrez.read(handle)\n",
    "\n",
    "print(result)\n",
    "genome_ids = result['IdList']\n",
    "\n",
    "for genome_id in genome_ids:\n",
    "    print(genome_id)\n",
    "    record = Entrez.efetch(db=\"nucleotide\", id=genome_id, rettype=\"fasta\", retmode=\"text\")        \n",
    "    with open(f'{genome_id}.fasta', 'w') as f:\n",
    "        f.write(record.read())\n",
    "    break\n",
    "''';\n",
    "'''\n",
    "from Bio import Entrez\n",
    "Entrez.email = \"abolhasani.eliya@gmail.com\"     \n",
    "record = Entrez.efetch(db=\"nucleotide\", id=\"NC_054143.4\", rettype=\"fasta\", retmode=\"text\")        \n",
    "with open(f'data.fasta', 'w') as f:\n",
    "    f.write(record.read())\n",
    "''';"
   ]
  },
  {
   "cell_type": "code",
   "execution_count": 14,
   "metadata": {
    "ExecuteTime": {
     "end_time": "2021-11-14T14:40:09.505684Z",
     "start_time": "2021-11-14T14:40:04.087813Z"
    },
    "hidden": true
   },
   "outputs": [
    {
     "name": "stdout",
     "output_type": "stream",
     "text": [
      "--2021-11-14 18:10:04--  https://ftp.ncbi.nlm.nih.gov/genomes/all/GCA/000/439/995/GCA_000439995.3_AzaInd2.1/GCA_000439995.3_AzaInd2.1_genomic.fna.gz\n",
      "Resolving ftp.ncbi.nlm.nih.gov (ftp.ncbi.nlm.nih.gov)... 130.14.250.10, 130.14.250.7, 2607:f220:41e:250::11, ...\n",
      "Connecting to ftp.ncbi.nlm.nih.gov (ftp.ncbi.nlm.nih.gov)|130.14.250.10|:443... connected.\n",
      "HTTP request sent, awaiting response... 200 OK\n",
      "Length: 85647577 (82M) [application/x-gzip]\n",
      "Saving to: ‘GCA_000439995.3_AzaInd2.1_genomic.fna.gz’\n",
      "\n",
      "CA_000439995.3_AzaI  27%[====>               ]  22.82M  7.26MB/s    eta 8s     ^C\n"
     ]
    }
   ],
   "source": [
    "!wget https://ftp.ncbi.nlm.nih.gov/genomes/all/GCA/000/439/995/GCA_000439995.3_AzaInd2.1/GCA_000439995.3_AzaInd2.1_genomic.fna.gz"
   ]
  },
  {
   "cell_type": "code",
   "execution_count": 263,
   "metadata": {
    "ExecuteTime": {
     "end_time": "2021-10-24T15:35:44.724088Z",
     "start_time": "2021-10-24T15:35:41.652464Z"
    },
    "hidden": true
   },
   "outputs": [],
   "source": [
    "!gzip -d ./GCA_000439995.3_AzaInd2.1_genomic.fna.gz"
   ]
  },
  {
   "cell_type": "markdown",
   "metadata": {
    "heading_collapsed": true
   },
   "source": [
    "# Download data from Mirbase"
   ]
  },
  {
   "cell_type": "code",
   "execution_count": 28,
   "metadata": {
    "ExecuteTime": {
     "end_time": "2021-11-14T15:43:46.403811Z",
     "start_time": "2021-11-14T15:43:46.398998Z"
    },
    "hidden": true
   },
   "outputs": [],
   "source": [
    "directory = 'miRBase_driven_data'"
   ]
  },
  {
   "cell_type": "code",
   "execution_count": 18,
   "metadata": {
    "ExecuteTime": {
     "end_time": "2021-11-14T15:38:44.732483Z",
     "start_time": "2021-11-14T15:38:31.128444Z"
    },
    "hidden": true
   },
   "outputs": [
    {
     "name": "stdout",
     "output_type": "stream",
     "text": [
      "--2021-11-14 19:08:31--  https://www.mirbase.org/ftp/CURRENT/aliases.txt.gz\n",
      "Resolving www.mirbase.org (www.mirbase.org)... 130.88.97.249\n",
      "Connecting to www.mirbase.org (www.mirbase.org)|130.88.97.249|:443... connected.\n",
      "HTTP request sent, awaiting response... 200 OK\n",
      "Length: 480536 (469K) [application/x-gzip]\n",
      "Saving to: ‘./miRBase_driven_data/aliases.txt.gz’\n",
      "\n",
      "aliases.txt.gz      100%[===================>] 469.27K   469KB/s    in 1.0s    \n",
      "\n",
      "2021-11-14 19:08:32 (469 KB/s) - ‘./miRBase_driven_data/aliases.txt.gz’ saved [480536/480536]\n",
      "\n",
      "--2021-11-14 19:08:33--  https://www.mirbase.org/ftp/CURRENT/hairpin.fa.gz\n",
      "Resolving www.mirbase.org (www.mirbase.org)... 130.88.97.249\n",
      "Connecting to www.mirbase.org (www.mirbase.org)|130.88.97.249|:443... connected.\n",
      "HTTP request sent, awaiting response... 200 OK\n",
      "Length: 1547350 (1.5M) [application/x-gzip]\n",
      "Saving to: ‘./miRBase_driven_data/hairpin.fa.gz’\n",
      "\n",
      "hairpin.fa.gz       100%[===================>]   1.48M   995KB/s    in 1.5s    \n",
      "\n",
      "2021-11-14 19:08:34 (995 KB/s) - ‘./miRBase_driven_data/hairpin.fa.gz’ saved [1547350/1547350]\n",
      "\n",
      "--2021-11-14 19:08:35--  https://www.mirbase.org/ftp/CURRENT/hairpin_high_conf.fa.gz\n",
      "Resolving www.mirbase.org (www.mirbase.org)... 130.88.97.249\n",
      "Connecting to www.mirbase.org (www.mirbase.org)|130.88.97.249|:443... connected.\n",
      "HTTP request sent, awaiting response... 200 OK\n",
      "Length: 129596 (127K) [application/x-gzip]\n",
      "Saving to: ‘./miRBase_driven_data/hairpin_high_conf.fa.gz’\n",
      "\n",
      "hairpin_high_conf.f 100%[===================>] 126.56K   208KB/s    in 0.6s    \n",
      "\n",
      "2021-11-14 19:08:36 (208 KB/s) - ‘./miRBase_driven_data/hairpin_high_conf.fa.gz’ saved [129596/129596]\n",
      "\n",
      "--2021-11-14 19:08:36--  https://www.mirbase.org/ftp/CURRENT/mature.fa.gz\n",
      "Resolving www.mirbase.org (www.mirbase.org)... 130.88.97.249\n",
      "Connecting to www.mirbase.org (www.mirbase.org)|130.88.97.249|:443... connected.\n",
      "HTTP request sent, awaiting response... 200 OK\n",
      "Length: 803746 (785K) [application/x-gzip]\n",
      "Saving to: ‘./miRBase_driven_data/mature.fa.gz’\n",
      "\n",
      "mature.fa.gz        100%[===================>] 784.91K   595KB/s    in 1.3s    \n",
      "\n",
      "2021-11-14 19:08:38 (595 KB/s) - ‘./miRBase_driven_data/mature.fa.gz’ saved [803746/803746]\n",
      "\n",
      "--2021-11-14 19:08:38--  https://www.mirbase.org/ftp/CURRENT/mature_high_conf.fa.gz\n",
      "Resolving www.mirbase.org (www.mirbase.org)... 130.88.97.249\n",
      "Connecting to www.mirbase.org (www.mirbase.org)|130.88.97.249|:443... connected.\n",
      "HTTP request sent, awaiting response... 200 OK\n",
      "Length: 69381 (68K) [application/x-gzip]\n",
      "Saving to: ‘./miRBase_driven_data/mature_high_conf.fa.gz’\n",
      "\n",
      "mature_high_conf.fa 100%[===================>]  67.75K   134KB/s    in 0.5s    \n",
      "\n",
      "2021-11-14 19:08:39 (134 KB/s) - ‘./miRBase_driven_data/mature_high_conf.fa.gz’ saved [69381/69381]\n",
      "\n",
      "--2021-11-14 19:08:39--  https://www.mirbase.org/ftp/CURRENT/miRNA.str.gz\n",
      "Resolving www.mirbase.org (www.mirbase.org)... 130.88.97.249\n",
      "Connecting to www.mirbase.org (www.mirbase.org)|130.88.97.249|:443... connected.\n",
      "HTTP request sent, awaiting response... 200 OK\n",
      "Length: 3373763 (3.2M) [application/x-gzip]\n",
      "Saving to: ‘./miRBase_driven_data/miRNA.str.gz’\n",
      "\n",
      "miRNA.str.gz        100%[===================>]   3.22M  1.77MB/s    in 1.8s    \n",
      "\n",
      "2021-11-14 19:08:41 (1.77 MB/s) - ‘./miRBase_driven_data/miRNA.str.gz’ saved [3373763/3373763]\n",
      "\n",
      "--2021-11-14 19:08:41--  https://www.mirbase.org/ftp/CURRENT/miRNA.xls.gz\n",
      "Resolving www.mirbase.org (www.mirbase.org)... 130.88.97.249\n",
      "Connecting to www.mirbase.org (www.mirbase.org)|130.88.97.249|:443... connected.\n",
      "HTTP request sent, awaiting response... 200 OK\n",
      "Length: 2963404 (2.8M) [application/x-gzip]\n",
      "Saving to: ‘./miRBase_driven_data/miRNA.xls.gz’\n",
      "\n",
      "miRNA.xls.gz        100%[===================>]   2.83M  1.65MB/s    in 1.7s    \n",
      "\n",
      "2021-11-14 19:08:43 (1.65 MB/s) - ‘./miRBase_driven_data/miRNA.xls.gz’ saved [2963404/2963404]\n",
      "\n",
      "--2021-11-14 19:08:44--  https://www.mirbase.org/ftp/CURRENT/organisms.txt.gz\n",
      "Resolving www.mirbase.org (www.mirbase.org)... 130.88.97.249\n",
      "Connecting to www.mirbase.org (www.mirbase.org)|130.88.97.249|:443... connected.\n",
      "HTTP request sent, awaiting response... 200 OK\n",
      "Length: 6842 (6.7K) [application/x-gzip]\n",
      "Saving to: ‘./miRBase_driven_data/organisms.txt.gz’\n",
      "\n",
      "organisms.txt.gz    100%[===================>]   6.68K  --.-KB/s    in 0s      \n",
      "\n",
      "2021-11-14 19:08:44 (132 MB/s) - ‘./miRBase_driven_data/organisms.txt.gz’ saved [6842/6842]\n",
      "\n"
     ]
    }
   ],
   "source": [
    "base = \"https://www.mirbase.org/ftp/CURRENT\"        \n",
    "!rm -r {directory}\n",
    "!mkdir -p {directory}\n",
    "!wget {base}/aliases.txt.gz -P ./{directory}/       ; gzip -d ./{directory}/aliases.txt.gz \n",
    "!wget {base}/hairpin.fa.gz -P ./{directory}/           ; gzip -d ./{directory}/hairpin.fa.gz \n",
    "!wget {base}/hairpin_high_conf.fa.gz -P ./{directory}/ ; gzip -d ./{directory}/hairpin_high_conf.fa.gz \n",
    "!wget {base}/mature.fa.gz -P ./{directory}/            ; gzip -d ./{directory}/mature.fa.gz \n",
    "!wget {base}/mature_high_conf.fa.gz -P ./{directory}/  ; gzip -d ./{directory}/mature_high_conf.fa.gz\n",
    "!wget {base}/miRNA.str.gz -P ./{directory}/            ; gzip -d ./{directory}/miRNA.str.gz \n",
    "!wget {base}/miRNA.xls.gz -P ./{directory}/            ; gzip -d ./{directory}/miRNA.xls.gz \n",
    "!wget {base}/organisms.txt.gz -P ./{directory}/        ; gzip -d ./{directory}/organisms.txt.gz"
   ]
  },
  {
   "cell_type": "code",
   "execution_count": 29,
   "metadata": {
    "ExecuteTime": {
     "end_time": "2021-11-14T15:44:38.104775Z",
     "start_time": "2021-11-14T15:44:37.963817Z"
    },
    "hidden": true
   },
   "outputs": [
    {
     "name": "stdout",
     "output_type": "stream",
     "text": [
      "(48885, 3)\n"
     ]
    },
    {
     "data": {
      "text/html": [
       "<div>\n",
       "<style scoped>\n",
       "    .dataframe tbody tr th:only-of-type {\n",
       "        vertical-align: middle;\n",
       "    }\n",
       "\n",
       "    .dataframe tbody tr th {\n",
       "        vertical-align: top;\n",
       "    }\n",
       "\n",
       "    .dataframe thead th {\n",
       "        text-align: right;\n",
       "    }\n",
       "</style>\n",
       "<table border=\"1\" class=\"dataframe\">\n",
       "  <thead>\n",
       "    <tr style=\"text-align: right;\">\n",
       "      <th></th>\n",
       "      <th>tag</th>\n",
       "      <th>data</th>\n",
       "      <th>organism</th>\n",
       "    </tr>\n",
       "  </thead>\n",
       "  <tbody>\n",
       "    <tr>\n",
       "      <th>0</th>\n",
       "      <td>cel-let-7-5p MIMAT0000001 Caenorhabditis elega...</td>\n",
       "      <td>UGAGGUAGUAGGUUGUAUAGUU</td>\n",
       "      <td>cel</td>\n",
       "    </tr>\n",
       "    <tr>\n",
       "      <th>1</th>\n",
       "      <td>cel-let-7-3p MIMAT0015091 Caenorhabditis elega...</td>\n",
       "      <td>CUAUGCAAUUUUCUACCUUACC</td>\n",
       "      <td>cel</td>\n",
       "    </tr>\n",
       "  </tbody>\n",
       "</table>\n",
       "</div>"
      ],
      "text/plain": [
       "                                                 tag                    data  \\\n",
       "0  cel-let-7-5p MIMAT0000001 Caenorhabditis elega...  UGAGGUAGUAGGUUGUAUAGUU   \n",
       "1  cel-let-7-3p MIMAT0015091 Caenorhabditis elega...  CUAUGCAAUUUUCUACCUUACC   \n",
       "\n",
       "  organism  \n",
       "0      cel  \n",
       "1      cel  "
      ]
     },
     "execution_count": 29,
     "metadata": {},
     "output_type": "execute_result"
    }
   ],
   "source": [
    "df = fasta_to_df(f'./{directory}/mature.fa')\n",
    "#df = fasta_to_df('./Data/mature_high_conf.fa')\n",
    "df['organism'] = df['tag'].apply(lambda x: x[:3])\n",
    "print(df.shape)\n",
    "df.head(2)"
   ]
  },
  {
   "cell_type": "code",
   "execution_count": 30,
   "metadata": {
    "ExecuteTime": {
     "end_time": "2021-11-14T15:44:38.486126Z",
     "start_time": "2021-11-14T15:44:38.465726Z"
    },
    "hidden": true
   },
   "outputs": [
    {
     "name": "stdout",
     "output_type": "stream",
     "text": [
      "(285, 5)\n"
     ]
    },
    {
     "data": {
      "text/html": [
       "<div>\n",
       "<style scoped>\n",
       "    .dataframe tbody tr th:only-of-type {\n",
       "        vertical-align: middle;\n",
       "    }\n",
       "\n",
       "    .dataframe tbody tr th {\n",
       "        vertical-align: top;\n",
       "    }\n",
       "\n",
       "    .dataframe thead th {\n",
       "        text-align: right;\n",
       "    }\n",
       "</style>\n",
       "<table border=\"1\" class=\"dataframe\">\n",
       "  <thead>\n",
       "    <tr style=\"text-align: right;\">\n",
       "      <th></th>\n",
       "      <th>organism</th>\n",
       "      <th>division</th>\n",
       "      <th>name</th>\n",
       "      <th>tree</th>\n",
       "      <th>NCBI-taxid</th>\n",
       "    </tr>\n",
       "  </thead>\n",
       "  <tbody>\n",
       "    <tr>\n",
       "      <th>0</th>\n",
       "      <td>aqu</td>\n",
       "      <td>AQU</td>\n",
       "      <td>Amphimedon queenslandica</td>\n",
       "      <td>Metazoa;Porifera;</td>\n",
       "      <td>400682</td>\n",
       "    </tr>\n",
       "    <tr>\n",
       "      <th>1</th>\n",
       "      <td>nve</td>\n",
       "      <td>NVE</td>\n",
       "      <td>Nematostella vectensis</td>\n",
       "      <td>Metazoa;Cnidaria;</td>\n",
       "      <td>45351</td>\n",
       "    </tr>\n",
       "  </tbody>\n",
       "</table>\n",
       "</div>"
      ],
      "text/plain": [
       "  organism division                      name               tree  NCBI-taxid\n",
       "0      aqu      AQU  Amphimedon queenslandica  Metazoa;Porifera;      400682\n",
       "1      nve      NVE    Nematostella vectensis  Metazoa;Cnidaria;       45351"
      ]
     },
     "execution_count": 30,
     "metadata": {},
     "output_type": "execute_result"
    }
   ],
   "source": [
    "organism = pd.read_csv(f'./{directory}/organisms.txt',sep='\\t')\n",
    "organism.columns = [c.replace('#','') for c in organism.columns] # remove sharp from columns\n",
    "print(organism.shape)\n",
    "organism.head(2)"
   ]
  },
  {
   "cell_type": "code",
   "execution_count": 31,
   "metadata": {
    "ExecuteTime": {
     "end_time": "2021-11-14T15:44:39.097367Z",
     "start_time": "2021-11-14T15:44:39.085246Z"
    },
    "hidden": true
   },
   "outputs": [
    {
     "data": {
      "text/plain": [
       "['Viruses;',\n",
       " 'Mycetozoa;',\n",
       " 'Alveolata;',\n",
       " 'Metazoa;Porifera;',\n",
       " 'Metazoa;Cnidaria;',\n",
       " 'Viridiplantae;Chlorophyta;',\n",
       " 'Viridiplantae;Embryophyta;',\n",
       " 'Viridiplantae;Coniferophyta;',\n",
       " 'Viridiplantae;Magnoliophyta;',\n",
       " 'Metazoa;Bilateria;Deuterostoma;',\n",
       " 'Chromalveolata;Heterokontophyta;',\n",
       " 'Metazoa;Bilateria;Ecdysozoa;Nematoda;',\n",
       " 'Metazoa;Bilateria;Lophotrochozoa;Annelida;',\n",
       " 'Metazoa;Bilateria;Lophotrochozoa;Nemertea;',\n",
       " 'Metazoa;Bilateria;Lophotrochozoa;Mollusca;',\n",
       " 'Viridiplantae;Magnoliophyta;monocotyledons;',\n",
       " 'Metazoa;Bilateria;Deuterostoma;Hemichordata;',\n",
       " 'Metazoa;Bilateria;Deuterostoma;Echinodermata;',\n",
       " 'Metazoa;Bilateria;Lophotrochozoa;Brachiopoda;',\n",
       " 'Metazoa;Bilateria;Ecdysozoa;Arthropoda;Hexapoda;',\n",
       " 'Metazoa;Bilateria;Ecdysozoa;Arthropoda;Crustacea;',\n",
       " 'Metazoa;Bilateria;Lophotrochozoa;Platyhelminthes;',\n",
       " 'Metazoa;Bilateria;Ecdysozoa;Arthropoda;Chelicerata;',\n",
       " 'Metazoa;Bilateria;Ecdysozoa;Arthropoda;Mandibulata;',\n",
       " 'Viridiplantae;Magnoliophyta;eudicotyledons;Poaceae;',\n",
       " 'Metazoa;Bilateria;Deuterostoma;Chordata;Urochordata;',\n",
       " 'Viridiplantae;Magnoliophyta;eudicotyledons;Fabaceae;',\n",
       " 'Viridiplantae;Magnoliophyta;eudicotyledons;Vitaceae;',\n",
       " 'Viridiplantae;Magnoliophyta;eudicotyledons;Rosaceae;',\n",
       " 'Viridiplantae;Magnoliophyta;eudicotyledons;Rutaceae;',\n",
       " 'Viridiplantae;Magnoliophyta;eudicotyledons;Lamiales;',\n",
       " 'Viridiplantae;Magnoliophyta;eudicotyledons;Linaceae;',\n",
       " 'Viridiplantae;Magnoliophyta;eudicotyledons;Malvaceae;',\n",
       " 'Viridiplantae;Magnoliophyta;eudicotyledons;Myrtaceae;',\n",
       " 'Viridiplantae;Magnoliophyta;eudicotyledons;Caricaceae;',\n",
       " 'Viridiplantae;Magnoliophyta;eudicotyledons;Salicaceae;',\n",
       " 'Viridiplantae;Magnoliophyta;eudicotyledons;Solanaceae;',\n",
       " 'Viridiplantae;Magnoliophyta;eudicotyledons;Asteraceae;',\n",
       " 'Viridiplantae;Magnoliophyta;eudicotyledons;Araliaceae;',\n",
       " 'Viridiplantae;Magnoliophyta;eudicotyledons;Paeoniaceae;',\n",
       " 'Metazoa;Bilateria;Deuterostoma;Chordata;Cephalochordata;',\n",
       " 'Metazoa;Bilateria;Deuterostoma;Chordata;Vertebrata;Aves;',\n",
       " 'Viridiplantae;Magnoliophyta;eudicotyledons;Brassicaceae;',\n",
       " 'Viridiplantae;Magnoliophyta;eudicotyledons;Papaveraceae;',\n",
       " 'Viridiplantae;Magnoliophyta;eudicotyledons;Ranunculaceae;',\n",
       " 'Viridiplantae;Magnoliophyta;eudicotyledons;Euphorbiaceae;',\n",
       " 'Viridiplantae;Magnoliophyta;eudicotyledons;Cucurbitaceae;',\n",
       " 'Viridiplantae;Magnoliophyta;eudicotyledons;Amaranthaceae;',\n",
       " 'Viridiplantae;Magnoliophyta;eudicotyledons;Rhizophoraceae;',\n",
       " 'Metazoa;Bilateria;Deuterostoma;Chordata;Vertebrata;Sauria;',\n",
       " 'Metazoa;Bilateria;Deuterostoma;Chordata;Vertebrata;Amphibia;',\n",
       " 'Metazoa;Bilateria;Deuterostoma;Chordata;Vertebrata;Teleostei;',\n",
       " 'Metazoa;Bilateria;Deuterostoma;Chordata;Vertebrata;Gnathostomata;',\n",
       " 'Metazoa;Bilateria;Deuterostoma;Chordata;Vertebrata;Mammalia;Suina;',\n",
       " 'Metazoa;Bilateria;Deuterostoma;Chordata;Vertebrata;Agnathostomata;',\n",
       " 'Metazoa;Bilateria;Deuterostoma;Chordata;Vertebrata;Mammalia;Rodentia;',\n",
       " 'Metazoa;Bilateria;Deuterostoma;Chordata;Vertebrata;Mammalia;Carnivora;',\n",
       " 'Metazoa;Bilateria;Deuterostoma;Chordata;Vertebrata;Mammalia;Cingulata;',\n",
       " 'Metazoa;Bilateria;Deuterostoma;Chordata;Vertebrata;Mammalia;Metatheria;',\n",
       " 'Metazoa;Bilateria;Deuterostoma;Chordata;Vertebrata;Mammalia;Ruminantia;',\n",
       " 'Metazoa;Bilateria;Deuterostoma;Chordata;Vertebrata;Mammalia;Lagomorpha;',\n",
       " 'Metazoa;Bilateria;Deuterostoma;Chordata;Vertebrata;Mammalia;Scandentia;',\n",
       " 'Metazoa;Bilateria;Deuterostoma;Chordata;Vertebrata;Mammalia;Afrotheria;',\n",
       " 'Metazoa;Bilateria;Deuterostoma;Chordata;Vertebrata;Mammalia;Prototheria;',\n",
       " 'Metazoa;Bilateria;Deuterostoma;Chordata;Vertebrata;Mammalia;Laurasiatheria;',\n",
       " 'Metazoa;Bilateria;Deuterostoma;Chordata;Vertebrata;Mammalia;Primates;Cebidae;',\n",
       " 'Metazoa;Bilateria;Deuterostoma;Chordata;Vertebrata;Mammalia;Primates;Atelidae;',\n",
       " 'Metazoa;Bilateria;Deuterostoma;Chordata;Vertebrata;Mammalia;Primates;Hominidae;',\n",
       " 'Metazoa;Bilateria;Deuterostoma;Chordata;Vertebrata;Mammalia;Primates;Lemuridae;',\n",
       " 'Metazoa;Bilateria;Deuterostoma;Chordata;Vertebrata;Mammalia;Primates;Galagidae;',\n",
       " 'Metazoa;Bilateria;Deuterostoma;Chordata;Vertebrata;Mammalia;Primates;Hylobatidae;',\n",
       " 'Metazoa;Bilateria;Deuterostoma;Chordata;Vertebrata;Mammalia;Primates;Cheirogaleidae;',\n",
       " 'Metazoa;Bilateria;Deuterostoma;Chordata;Vertebrata;Mammalia;Primates;Daubentoniidae;',\n",
       " 'Metazoa;Bilateria;Deuterostoma;Chordata;Vertebrata;Mammalia;Primates;Cercopithecidae;']"
      ]
     },
     "execution_count": 31,
     "metadata": {},
     "output_type": "execute_result"
    }
   ],
   "source": [
    "items = list(organism['tree'].unique())\n",
    "items.sort(key=len)\n",
    "items"
   ]
  },
  {
   "cell_type": "code",
   "execution_count": 32,
   "metadata": {
    "ExecuteTime": {
     "end_time": "2021-11-14T15:44:42.522205Z",
     "start_time": "2021-11-14T15:44:42.505136Z"
    },
    "hidden": true
   },
   "outputs": [
    {
     "name": "stdout",
     "output_type": "stream",
     "text": [
      "(86, 5)\n"
     ]
    },
    {
     "data": {
      "text/html": [
       "<div>\n",
       "<style scoped>\n",
       "    .dataframe tbody tr th:only-of-type {\n",
       "        vertical-align: middle;\n",
       "    }\n",
       "\n",
       "    .dataframe tbody tr th {\n",
       "        vertical-align: top;\n",
       "    }\n",
       "\n",
       "    .dataframe thead th {\n",
       "        text-align: right;\n",
       "    }\n",
       "</style>\n",
       "<table border=\"1\" class=\"dataframe\">\n",
       "  <thead>\n",
       "    <tr style=\"text-align: right;\">\n",
       "      <th></th>\n",
       "      <th>organism</th>\n",
       "      <th>division</th>\n",
       "      <th>name</th>\n",
       "      <th>tree</th>\n",
       "      <th>NCBI-taxid</th>\n",
       "    </tr>\n",
       "  </thead>\n",
       "  <tbody>\n",
       "    <tr>\n",
       "      <th>66</th>\n",
       "      <td>cre</td>\n",
       "      <td>CRE</td>\n",
       "      <td>Chlamydomonas reinhardtii</td>\n",
       "      <td>Viridiplantae;Chlorophyta;</td>\n",
       "      <td>3055</td>\n",
       "    </tr>\n",
       "    <tr>\n",
       "      <th>67</th>\n",
       "      <td>pta</td>\n",
       "      <td>PTA</td>\n",
       "      <td>Pinus taeda</td>\n",
       "      <td>Viridiplantae;Coniferophyta;</td>\n",
       "      <td>3352</td>\n",
       "    </tr>\n",
       "    <tr>\n",
       "      <th>68</th>\n",
       "      <td>ppt</td>\n",
       "      <td>PPT</td>\n",
       "      <td>Physcomitrella patens</td>\n",
       "      <td>Viridiplantae;Embryophyta;</td>\n",
       "      <td>3218</td>\n",
       "    </tr>\n",
       "    <tr>\n",
       "      <th>69</th>\n",
       "      <td>smo</td>\n",
       "      <td>SMO</td>\n",
       "      <td>Selaginella moellendorffii</td>\n",
       "      <td>Viridiplantae;Embryophyta;</td>\n",
       "      <td>88036</td>\n",
       "    </tr>\n",
       "    <tr>\n",
       "      <th>70</th>\n",
       "      <td>ath</td>\n",
       "      <td>ATH</td>\n",
       "      <td>Arabidopsis thaliana</td>\n",
       "      <td>Viridiplantae;Magnoliophyta;eudicotyledons;Bra...</td>\n",
       "      <td>3702</td>\n",
       "    </tr>\n",
       "  </tbody>\n",
       "</table>\n",
       "</div>"
      ],
      "text/plain": [
       "   organism division                        name  \\\n",
       "66      cre      CRE   Chlamydomonas reinhardtii   \n",
       "67      pta      PTA                 Pinus taeda   \n",
       "68      ppt      PPT       Physcomitrella patens   \n",
       "69      smo      SMO  Selaginella moellendorffii   \n",
       "70      ath      ATH        Arabidopsis thaliana   \n",
       "\n",
       "                                                 tree  NCBI-taxid  \n",
       "66                         Viridiplantae;Chlorophyta;        3055  \n",
       "67                       Viridiplantae;Coniferophyta;        3352  \n",
       "68                         Viridiplantae;Embryophyta;        3218  \n",
       "69                         Viridiplantae;Embryophyta;       88036  \n",
       "70  Viridiplantae;Magnoliophyta;eudicotyledons;Bra...        3702  "
      ]
     },
     "execution_count": 32,
     "metadata": {},
     "output_type": "execute_result"
    }
   ],
   "source": [
    "selectedTree = organism[organism['tree'].apply(lambda x: \"Viridiplantae;\" in x)]\n",
    "print(selectedTree.shape)\n",
    "selectedTree.head(5)"
   ]
  },
  {
   "cell_type": "code",
   "execution_count": 33,
   "metadata": {
    "ExecuteTime": {
     "end_time": "2021-11-14T15:44:45.986622Z",
     "start_time": "2021-11-14T15:44:45.960318Z"
    },
    "hidden": true
   },
   "outputs": [
    {
     "name": "stdout",
     "output_type": "stream",
     "text": [
      "(10414, 3)\n"
     ]
    },
    {
     "data": {
      "text/html": [
       "<div>\n",
       "<style scoped>\n",
       "    .dataframe tbody tr th:only-of-type {\n",
       "        vertical-align: middle;\n",
       "    }\n",
       "\n",
       "    .dataframe tbody tr th {\n",
       "        vertical-align: top;\n",
       "    }\n",
       "\n",
       "    .dataframe thead th {\n",
       "        text-align: right;\n",
       "    }\n",
       "</style>\n",
       "<table border=\"1\" class=\"dataframe\">\n",
       "  <thead>\n",
       "    <tr style=\"text-align: right;\">\n",
       "      <th></th>\n",
       "      <th>tag</th>\n",
       "      <th>data</th>\n",
       "      <th>organism</th>\n",
       "    </tr>\n",
       "  </thead>\n",
       "  <tbody>\n",
       "    <tr>\n",
       "      <th>316</th>\n",
       "      <td>ath-miR156a-5p MIMAT0000166 Arabidopsis thalia...</td>\n",
       "      <td>UGACAGAAGAGAGUGAGCAC</td>\n",
       "      <td>ath</td>\n",
       "    </tr>\n",
       "    <tr>\n",
       "      <th>317</th>\n",
       "      <td>ath-miR156a-3p MIMAT0031865 Arabidopsis thalia...</td>\n",
       "      <td>GCUCACUGCUCUUUCUGUCAGA</td>\n",
       "      <td>ath</td>\n",
       "    </tr>\n",
       "    <tr>\n",
       "      <th>318</th>\n",
       "      <td>ath-miR156b-5p MIMAT0000167 Arabidopsis thalia...</td>\n",
       "      <td>UGACAGAAGAGAGUGAGCAC</td>\n",
       "      <td>ath</td>\n",
       "    </tr>\n",
       "    <tr>\n",
       "      <th>319</th>\n",
       "      <td>ath-miR156b-3p MIMAT0031866 Arabidopsis thalia...</td>\n",
       "      <td>UGCUCACCUCUCUUUCUGUCAGU</td>\n",
       "      <td>ath</td>\n",
       "    </tr>\n",
       "    <tr>\n",
       "      <th>320</th>\n",
       "      <td>ath-miR156c-5p MIMAT0000168 Arabidopsis thalia...</td>\n",
       "      <td>UGACAGAAGAGAGUGAGCAC</td>\n",
       "      <td>ath</td>\n",
       "    </tr>\n",
       "  </tbody>\n",
       "</table>\n",
       "</div>"
      ],
      "text/plain": [
       "                                                   tag  \\\n",
       "316  ath-miR156a-5p MIMAT0000166 Arabidopsis thalia...   \n",
       "317  ath-miR156a-3p MIMAT0031865 Arabidopsis thalia...   \n",
       "318  ath-miR156b-5p MIMAT0000167 Arabidopsis thalia...   \n",
       "319  ath-miR156b-3p MIMAT0031866 Arabidopsis thalia...   \n",
       "320  ath-miR156c-5p MIMAT0000168 Arabidopsis thalia...   \n",
       "\n",
       "                        data organism  \n",
       "316     UGACAGAAGAGAGUGAGCAC      ath  \n",
       "317   GCUCACUGCUCUUUCUGUCAGA      ath  \n",
       "318     UGACAGAAGAGAGUGAGCAC      ath  \n",
       "319  UGCUCACCUCUCUUUCUGUCAGU      ath  \n",
       "320     UGACAGAAGAGAGUGAGCAC      ath  "
      ]
     },
     "execution_count": 33,
     "metadata": {},
     "output_type": "execute_result"
    }
   ],
   "source": [
    "selected = df[df['organism'].isin(selectedTree['organism'])]\n",
    "print(selected.shape)\n",
    "selected.head()"
   ]
  },
  {
   "cell_type": "code",
   "execution_count": 34,
   "metadata": {
    "ExecuteTime": {
     "end_time": "2021-11-14T15:45:02.006479Z",
     "start_time": "2021-11-14T15:45:01.685273Z"
    },
    "hidden": true
   },
   "outputs": [],
   "source": [
    "df_to_fasta(selected,'./Temp/mature_microRNA_queries.fasta')"
   ]
  },
  {
   "cell_type": "markdown",
   "metadata": {
    "heading_collapsed": true
   },
   "source": [
    "# Remove redundant"
   ]
  },
  {
   "cell_type": "markdown",
   "metadata": {
    "heading_collapsed": true,
    "hidden": true
   },
   "source": [
    "## cdhit-est"
   ]
  },
  {
   "cell_type": "code",
   "execution_count": 41,
   "metadata": {
    "ExecuteTime": {
     "end_time": "2021-11-14T15:53:14.610830Z",
     "start_time": "2021-11-14T15:53:14.359020Z"
    },
    "hidden": true
   },
   "outputs": [
    {
     "name": "stdout",
     "output_type": "stream",
     "text": [
      "================================================================\n",
      "Program: CD-HIT, V4.8.1 (+OpenMP), Oct 23 2021, 21:45:39\n",
      "Command: cdhit/cd-hit-est -i\n",
      "         ./Temp/mature_microRNA_queries.fasta -o\n",
      "         ./Temp/NR_mature_microRNA_queries.fasta -c 1 -r 0 -G 1\n",
      "         -g 1 -b 30 -l 10 -aL 0 -AL 99999999 -aS 0 -AS 99999999\n",
      "         -s 0 -S 0\n",
      "\n",
      "Started: Sun Nov 14 19:23:14 2021\n",
      "================================================================\n",
      "                            Output                              \n",
      "----------------------------------------------------------------\n",
      "total seq: 10414\n",
      "longest and shortest : 28 and 17\n",
      "Total letters: 222978\n",
      "Sequences have been sorted\n",
      "\n",
      "Approximated minimal memory consumption:\n",
      "Sequence        : 1M\n",
      "Buffer          : 1 X 12M = 12M\n",
      "Table           : 1 X 16M = 16M\n",
      "Miscellaneous   : 0M\n",
      "Total           : 30M\n",
      "\n",
      "Table limit with the given memory limit:\n",
      "Max number of representatives: 4000000\n",
      "Max number of word counting entries: 96149440\n",
      "\n",
      "comparing sequences from          0  to      10414\n",
      "..........    10000  finished       5817  clusters\n",
      "\n",
      "    10414  finished       6028  clusters\n",
      "\n",
      "Approximated maximum memory consumption: 31M\n",
      "writing new database\n",
      "writing clustering information\n",
      "program completed !\n",
      "\n",
      "Total CPU time 0.12\n"
     ]
    }
   ],
   "source": [
    "!cdhit/cd-hit-est -i ./Temp/mature_microRNA_queries.fasta  -o ./Temp/NR_mature_microRNA_queries.fasta \\\n",
    "    -c 1 -r 0 -G 1 -g 1 -b 30 -l 10 -aL 0 -AL 99999999 -aS 0 \\\n",
    "    -AS 99999999 -s 0 -S 0 "
   ]
  },
  {
   "cell_type": "markdown",
   "metadata": {
    "heading_collapsed": true,
    "hidden": true
   },
   "source": [
    "## reformat"
   ]
  },
  {
   "cell_type": "code",
   "execution_count": 42,
   "metadata": {
    "ExecuteTime": {
     "end_time": "2021-11-14T15:53:16.096729Z",
     "start_time": "2021-11-14T15:53:16.056661Z"
    },
    "hidden": true
   },
   "outputs": [
    {
     "name": "stdout",
     "output_type": "stream",
     "text": [
      "(10414, 2)\n"
     ]
    },
    {
     "data": {
      "text/html": [
       "<div>\n",
       "<style scoped>\n",
       "    .dataframe tbody tr th:only-of-type {\n",
       "        vertical-align: middle;\n",
       "    }\n",
       "\n",
       "    .dataframe tbody tr th {\n",
       "        vertical-align: top;\n",
       "    }\n",
       "\n",
       "    .dataframe thead th {\n",
       "        text-align: right;\n",
       "    }\n",
       "</style>\n",
       "<table border=\"1\" class=\"dataframe\">\n",
       "  <thead>\n",
       "    <tr style=\"text-align: right;\">\n",
       "      <th></th>\n",
       "      <th>seqid</th>\n",
       "      <th>cluster</th>\n",
       "    </tr>\n",
       "  </thead>\n",
       "  <tbody>\n",
       "    <tr>\n",
       "      <th>0</th>\n",
       "      <td>cst-miR11332</td>\n",
       "      <td>C0</td>\n",
       "    </tr>\n",
       "    <tr>\n",
       "      <th>1</th>\n",
       "      <td>stu-miR7994b-5p</td>\n",
       "      <td>C1</td>\n",
       "    </tr>\n",
       "  </tbody>\n",
       "</table>\n",
       "</div>"
      ],
      "text/plain": [
       "             seqid cluster\n",
       "0     cst-miR11332      C0\n",
       "1  stu-miR7994b-5p      C1"
      ]
     },
     "execution_count": 42,
     "metadata": {},
     "output_type": "execute_result"
    }
   ],
   "source": [
    "with open('./Temp/NR_mature_microRNA_queries.fasta.clstr','r') as file:\n",
    "    text = file.read()\n",
    "lines = [line for line in text.split('\\n') if len(line) > 0]\n",
    "cluster = []\n",
    "seqid = []\n",
    "last_cluster = \"\"\n",
    "for l in lines:\n",
    "    if(l[0]=='>'):        \n",
    "        last_cluster = l.replace('>Cluster ',\"C\")\n",
    "    else:        \n",
    "        cluster.append(last_cluster)\n",
    "        seqid.append(l.split(', >')[1].split('...')[0])                \n",
    "seq2cluster = pd.DataFrame({'seqid': seqid,'cluster': cluster})\n",
    "print(seq2cluster.shape)\n",
    "seq2cluster.head(2)    "
   ]
  },
  {
   "cell_type": "code",
   "execution_count": 43,
   "metadata": {
    "ExecuteTime": {
     "end_time": "2021-11-14T15:53:16.880158Z",
     "start_time": "2021-11-14T15:53:16.769037Z"
    },
    "hidden": true
   },
   "outputs": [
    {
     "name": "stdout",
     "output_type": "stream",
     "text": [
      "(10414, 3)\n"
     ]
    },
    {
     "data": {
      "text/html": [
       "<div>\n",
       "<style scoped>\n",
       "    .dataframe tbody tr th:only-of-type {\n",
       "        vertical-align: middle;\n",
       "    }\n",
       "\n",
       "    .dataframe tbody tr th {\n",
       "        vertical-align: top;\n",
       "    }\n",
       "\n",
       "    .dataframe thead th {\n",
       "        text-align: right;\n",
       "    }\n",
       "</style>\n",
       "<table border=\"1\" class=\"dataframe\">\n",
       "  <thead>\n",
       "    <tr style=\"text-align: right;\">\n",
       "      <th></th>\n",
       "      <th>cluster</th>\n",
       "      <th>seqid</th>\n",
       "      <th>tag</th>\n",
       "    </tr>\n",
       "  </thead>\n",
       "  <tbody>\n",
       "    <tr>\n",
       "      <th>0</th>\n",
       "      <td>C5495</td>\n",
       "      <td>ath-miR156a-5p</td>\n",
       "      <td>ath-miR156a-5p MIMAT0000166 Arabidopsis thalia...</td>\n",
       "    </tr>\n",
       "    <tr>\n",
       "      <th>1</th>\n",
       "      <td>C1199</td>\n",
       "      <td>ath-miR156a-3p</td>\n",
       "      <td>ath-miR156a-3p MIMAT0031865 Arabidopsis thalia...</td>\n",
       "    </tr>\n",
       "  </tbody>\n",
       "</table>\n",
       "</div>"
      ],
      "text/plain": [
       "  cluster           seqid                                                tag\n",
       "0   C5495  ath-miR156a-5p  ath-miR156a-5p MIMAT0000166 Arabidopsis thalia...\n",
       "1   C1199  ath-miR156a-3p  ath-miR156a-3p MIMAT0031865 Arabidopsis thalia..."
      ]
     },
     "metadata": {},
     "output_type": "display_data"
    }
   ],
   "source": [
    "df = fasta_to_df(\"./Temp/mature_microRNA_queries.fasta\")\n",
    "df['accession'] = df['tag'].apply(lambda x : x.split(' ')[0])\n",
    "seq2cluster = pd.merge(df,seq2cluster,how=\"inner\",left_on='accession',right_on=\"seqid\")[['cluster','seqid','tag']]\n",
    "print(seq2cluster.shape)\n",
    "display(seq2cluster.head(2))\n",
    "seq2cluster.to_csv('./Temp/seq2cluster.csv',index=False)"
   ]
  },
  {
   "cell_type": "code",
   "execution_count": 44,
   "metadata": {
    "ExecuteTime": {
     "end_time": "2021-11-14T15:53:17.423563Z",
     "start_time": "2021-11-14T15:53:17.402420Z"
    },
    "hidden": true
   },
   "outputs": [
    {
     "data": {
      "text/html": [
       "<div>\n",
       "<style scoped>\n",
       "    .dataframe tbody tr th:only-of-type {\n",
       "        vertical-align: middle;\n",
       "    }\n",
       "\n",
       "    .dataframe tbody tr th {\n",
       "        vertical-align: top;\n",
       "    }\n",
       "\n",
       "    .dataframe thead th {\n",
       "        text-align: right;\n",
       "    }\n",
       "</style>\n",
       "<table border=\"1\" class=\"dataframe\">\n",
       "  <thead>\n",
       "    <tr style=\"text-align: right;\">\n",
       "      <th></th>\n",
       "      <th>cluster</th>\n",
       "      <th>seqid</th>\n",
       "      <th>tag</th>\n",
       "    </tr>\n",
       "  </thead>\n",
       "  <tbody>\n",
       "    <tr>\n",
       "      <th>9422</th>\n",
       "      <td>C0</td>\n",
       "      <td>cst-miR11332</td>\n",
       "      <td>cst-miR11332 MIMAT0044622 Cucumis sativus miR1...</td>\n",
       "    </tr>\n",
       "    <tr>\n",
       "      <th>7002</th>\n",
       "      <td>C1</td>\n",
       "      <td>stu-miR7994b-5p</td>\n",
       "      <td>stu-miR7994b-5p MIMAT0031188 Solanum tuberosum...</td>\n",
       "    </tr>\n",
       "  </tbody>\n",
       "</table>\n",
       "</div>"
      ],
      "text/plain": [
       "     cluster            seqid  \\\n",
       "9422      C0     cst-miR11332   \n",
       "7002      C1  stu-miR7994b-5p   \n",
       "\n",
       "                                                    tag  \n",
       "9422  cst-miR11332 MIMAT0044622 Cucumis sativus miR1...  \n",
       "7002  stu-miR7994b-5p MIMAT0031188 Solanum tuberosum...  "
      ]
     },
     "execution_count": 44,
     "metadata": {},
     "output_type": "execute_result"
    }
   ],
   "source": [
    "# todo: sorted first by cluster then by seqid\n",
    "seq2cluster.sort_values(\"cluster\").head(2)"
   ]
  },
  {
   "cell_type": "code",
   "execution_count": 45,
   "metadata": {
    "ExecuteTime": {
     "end_time": "2021-11-14T15:53:18.409180Z",
     "start_time": "2021-11-14T15:53:18.205823Z"
    },
    "hidden": true
   },
   "outputs": [
    {
     "name": "stdout",
     "output_type": "stream",
     "text": [
      "(6028, 2)\n"
     ]
    }
   ],
   "source": [
    "df = fasta_to_df(\"./Temp/NR_mature_microRNA_queries.fasta\")\n",
    "df['tag'] = df['tag'].apply(lambda x : x.split(' ')[0])\n",
    "df = pd.merge(df,seq2cluster,how=\"inner\",left_on='tag',right_on=\"seqid\")[['cluster','data']]\n",
    "\n",
    "lines = []\n",
    "df.apply(lambda row: lines.append(f\">{row['cluster']}\\n{row['data']}\\n\"),axis=1)\n",
    "print(df.shape)\n",
    "with open('./Temp/BLASTn_queries.fasta','w') as file:\n",
    "    file.write(''.join(lines))"
   ]
  },
  {
   "cell_type": "markdown",
   "metadata": {
    "heading_collapsed": true
   },
   "source": [
    "# BlastN"
   ]
  },
  {
   "cell_type": "markdown",
   "metadata": {
    "hidden": true
   },
   "source": [
    "!sudo apt-get install ncbi-blast+\n"
   ]
  },
  {
   "cell_type": "code",
   "execution_count": 46,
   "metadata": {
    "ExecuteTime": {
     "end_time": "2021-11-14T15:53:56.806426Z",
     "start_time": "2021-11-14T15:53:45.294463Z"
    },
    "hidden": true
   },
   "outputs": [
    {
     "name": "stdout",
     "output_type": "stream",
     "text": [
      "\n",
      "\n",
      "Building a new DB, current time: 11/14/2021 19:23:46\n",
      "New DB name:   /home/jupyter/plant_microRNA_prediction/Temp/blastn_database\n",
      "New DB title:  input_genome.fna\n",
      "Sequence type: Nucleotide\n",
      "Keep MBits: T\n",
      "Maximum file size: 1000000000B\n",
      "Adding sequences from FASTA; added 126142 sequences in 9.84965 seconds.\n"
     ]
    }
   ],
   "source": [
    "!makeblastdb -in input_genome.fna \\\n",
    "             -dbtype nucl \\\n",
    "             -out ./Temp/blastn_database"
   ]
  },
  {
   "cell_type": "code",
   "execution_count": 17,
   "metadata": {
    "ExecuteTime": {
     "end_time": "2021-11-15T17:35:22.926131Z",
     "start_time": "2021-11-15T17:35:22.922603Z"
    },
    "hidden": true
   },
   "outputs": [],
   "source": [
    "header = 'qseqid sseqid qstart qend sstart send qseq sseq evalue bitscore score length pident nident mismatch positive gapopen gaps ppos frames qframe sframe sstrand qcovs qcovhsp qlen slen'"
   ]
  },
  {
   "cell_type": "code",
   "execution_count": 18,
   "metadata": {
    "ExecuteTime": {
     "end_time": "2021-11-15T17:37:49.644999Z",
     "start_time": "2021-11-15T17:35:24.046004Z"
    },
    "hidden": true
   },
   "outputs": [],
   "source": [
    "!blastn -query ./Temp/BLASTn_queries.fasta \\\n",
    "        -out ./Temp/BLASTn_result \\\n",
    "        -num_threads {mp.cpu_count()} \\\n",
    "        -db ./Temp/blastn_database \\\n",
    "        -word_size 7 \\\n",
    "        -penalty -3 \\\n",
    "        -reward 2 \\\n",
    "        -gapopen 5 \\\n",
    "        -gapextend 2 \\\n",
    "        -outfmt '6 qseqid sseqid qstart qend sstart send qseq sseq evalue bitscore score length pident nident mismatch positive gapopen gaps ppos frames qframe sframe sstrand qcovs qcovhsp qlen slen'       "
   ]
  },
  {
   "cell_type": "code",
   "execution_count": 19,
   "metadata": {
    "ExecuteTime": {
     "end_time": "2021-11-15T17:38:24.524868Z",
     "start_time": "2021-11-15T17:38:23.190352Z"
    },
    "hidden": true
   },
   "outputs": [
    {
     "name": "stdout",
     "output_type": "stream",
     "text": [
      "(326849, 27)\n"
     ]
    },
    {
     "data": {
      "text/html": [
       "<div>\n",
       "<style scoped>\n",
       "    .dataframe tbody tr th:only-of-type {\n",
       "        vertical-align: middle;\n",
       "    }\n",
       "\n",
       "    .dataframe tbody tr th {\n",
       "        vertical-align: top;\n",
       "    }\n",
       "\n",
       "    .dataframe thead th {\n",
       "        text-align: right;\n",
       "    }\n",
       "</style>\n",
       "<table border=\"1\" class=\"dataframe\">\n",
       "  <thead>\n",
       "    <tr style=\"text-align: right;\">\n",
       "      <th></th>\n",
       "      <th>qseqid</th>\n",
       "      <th>sseqid</th>\n",
       "      <th>qstart</th>\n",
       "      <th>qend</th>\n",
       "      <th>sstart</th>\n",
       "      <th>send</th>\n",
       "      <th>qseq</th>\n",
       "      <th>sseq</th>\n",
       "      <th>evalue</th>\n",
       "      <th>bitscore</th>\n",
       "      <th>...</th>\n",
       "      <th>gaps</th>\n",
       "      <th>ppos</th>\n",
       "      <th>frames</th>\n",
       "      <th>qframe</th>\n",
       "      <th>sframe</th>\n",
       "      <th>sstrand</th>\n",
       "      <th>qcovs</th>\n",
       "      <th>qcovhsp</th>\n",
       "      <th>qlen</th>\n",
       "      <th>slen</th>\n",
       "    </tr>\n",
       "  </thead>\n",
       "  <tbody>\n",
       "    <tr>\n",
       "      <th>0</th>\n",
       "      <td>C5495</td>\n",
       "      <td>AMWY02099822.1</td>\n",
       "      <td>1</td>\n",
       "      <td>20</td>\n",
       "      <td>1769</td>\n",
       "      <td>1750</td>\n",
       "      <td>TGACAGAAGAGAGTGAGCAC</td>\n",
       "      <td>TGACAGAAGAGAGTGAGCAC</td>\n",
       "      <td>0.004</td>\n",
       "      <td>37.4</td>\n",
       "      <td>...</td>\n",
       "      <td>0</td>\n",
       "      <td>100.0</td>\n",
       "      <td>1/-1</td>\n",
       "      <td>1</td>\n",
       "      <td>-1</td>\n",
       "      <td>minus</td>\n",
       "      <td>100</td>\n",
       "      <td>100</td>\n",
       "      <td>20</td>\n",
       "      <td>3308</td>\n",
       "    </tr>\n",
       "    <tr>\n",
       "      <th>1</th>\n",
       "      <td>C5495</td>\n",
       "      <td>AMWY02082313.1</td>\n",
       "      <td>1</td>\n",
       "      <td>20</td>\n",
       "      <td>5954</td>\n",
       "      <td>5973</td>\n",
       "      <td>TGACAGAAGAGAGTGAGCAC</td>\n",
       "      <td>TGACAGAAGAGAGTGAGCAC</td>\n",
       "      <td>0.004</td>\n",
       "      <td>37.4</td>\n",
       "      <td>...</td>\n",
       "      <td>0</td>\n",
       "      <td>100.0</td>\n",
       "      <td>1/1</td>\n",
       "      <td>1</td>\n",
       "      <td>1</td>\n",
       "      <td>plus</td>\n",
       "      <td>100</td>\n",
       "      <td>100</td>\n",
       "      <td>20</td>\n",
       "      <td>8471</td>\n",
       "    </tr>\n",
       "  </tbody>\n",
       "</table>\n",
       "<p>2 rows × 27 columns</p>\n",
       "</div>"
      ],
      "text/plain": [
       "  qseqid          sseqid  qstart  qend  sstart  send                  qseq  \\\n",
       "0  C5495  AMWY02099822.1       1    20    1769  1750  TGACAGAAGAGAGTGAGCAC   \n",
       "1  C5495  AMWY02082313.1       1    20    5954  5973  TGACAGAAGAGAGTGAGCAC   \n",
       "\n",
       "                   sseq  evalue  bitscore  ...  gaps   ppos  frames  qframe  \\\n",
       "0  TGACAGAAGAGAGTGAGCAC   0.004      37.4  ...     0  100.0    1/-1       1   \n",
       "1  TGACAGAAGAGAGTGAGCAC   0.004      37.4  ...     0  100.0     1/1       1   \n",
       "\n",
       "   sframe  sstrand  qcovs  qcovhsp  qlen  slen  \n",
       "0      -1    minus    100      100    20  3308  \n",
       "1       1     plus    100      100    20  8471  \n",
       "\n",
       "[2 rows x 27 columns]"
      ]
     },
     "execution_count": 19,
     "metadata": {},
     "output_type": "execute_result"
    }
   ],
   "source": [
    "df_blastn = pd.read_csv('./Temp/BLASTn_result', sep='\\t',header=None)\n",
    "df_blastn.columns = header.replace(\"  \",\" \").split(\" \")\n",
    "print(df_blastn.shape)\n",
    "df_blastn.head(2)"
   ]
  },
  {
   "cell_type": "code",
   "execution_count": 20,
   "metadata": {
    "ExecuteTime": {
     "end_time": "2021-11-15T17:38:25.602420Z",
     "start_time": "2021-11-15T17:38:25.482593Z"
    },
    "hidden": true
   },
   "outputs": [
    {
     "name": "stdout",
     "output_type": "stream",
     "text": [
      "(80217, 28)\n"
     ]
    },
    {
     "data": {
      "text/html": [
       "<div>\n",
       "<style scoped>\n",
       "    .dataframe tbody tr th:only-of-type {\n",
       "        vertical-align: middle;\n",
       "    }\n",
       "\n",
       "    .dataframe tbody tr th {\n",
       "        vertical-align: top;\n",
       "    }\n",
       "\n",
       "    .dataframe thead th {\n",
       "        text-align: right;\n",
       "    }\n",
       "</style>\n",
       "<table border=\"1\" class=\"dataframe\">\n",
       "  <thead>\n",
       "    <tr style=\"text-align: right;\">\n",
       "      <th></th>\n",
       "      <th>qseqid</th>\n",
       "      <th>sseqid</th>\n",
       "      <th>qstart</th>\n",
       "      <th>qend</th>\n",
       "      <th>sstart</th>\n",
       "      <th>send</th>\n",
       "      <th>qseq</th>\n",
       "      <th>sseq</th>\n",
       "      <th>evalue</th>\n",
       "      <th>bitscore</th>\n",
       "      <th>...</th>\n",
       "      <th>ppos</th>\n",
       "      <th>frames</th>\n",
       "      <th>qframe</th>\n",
       "      <th>sframe</th>\n",
       "      <th>sstrand</th>\n",
       "      <th>qcovs</th>\n",
       "      <th>qcovhsp</th>\n",
       "      <th>qlen</th>\n",
       "      <th>slen</th>\n",
       "      <th>Nonconformity</th>\n",
       "    </tr>\n",
       "  </thead>\n",
       "  <tbody>\n",
       "    <tr>\n",
       "      <th>0</th>\n",
       "      <td>C5495</td>\n",
       "      <td>AMWY02099822.1</td>\n",
       "      <td>1</td>\n",
       "      <td>20</td>\n",
       "      <td>1769</td>\n",
       "      <td>1750</td>\n",
       "      <td>TGACAGAAGAGAGTGAGCAC</td>\n",
       "      <td>TGACAGAAGAGAGTGAGCAC</td>\n",
       "      <td>0.004</td>\n",
       "      <td>37.4</td>\n",
       "      <td>...</td>\n",
       "      <td>100.0</td>\n",
       "      <td>1/-1</td>\n",
       "      <td>1</td>\n",
       "      <td>-1</td>\n",
       "      <td>minus</td>\n",
       "      <td>100</td>\n",
       "      <td>100</td>\n",
       "      <td>20</td>\n",
       "      <td>3308</td>\n",
       "      <td>0</td>\n",
       "    </tr>\n",
       "    <tr>\n",
       "      <th>1</th>\n",
       "      <td>C5495</td>\n",
       "      <td>AMWY02082313.1</td>\n",
       "      <td>1</td>\n",
       "      <td>20</td>\n",
       "      <td>5954</td>\n",
       "      <td>5973</td>\n",
       "      <td>TGACAGAAGAGAGTGAGCAC</td>\n",
       "      <td>TGACAGAAGAGAGTGAGCAC</td>\n",
       "      <td>0.004</td>\n",
       "      <td>37.4</td>\n",
       "      <td>...</td>\n",
       "      <td>100.0</td>\n",
       "      <td>1/1</td>\n",
       "      <td>1</td>\n",
       "      <td>1</td>\n",
       "      <td>plus</td>\n",
       "      <td>100</td>\n",
       "      <td>100</td>\n",
       "      <td>20</td>\n",
       "      <td>8471</td>\n",
       "      <td>0</td>\n",
       "    </tr>\n",
       "  </tbody>\n",
       "</table>\n",
       "<p>2 rows × 28 columns</p>\n",
       "</div>"
      ],
      "text/plain": [
       "  qseqid          sseqid  qstart  qend  sstart  send                  qseq  \\\n",
       "0  C5495  AMWY02099822.1       1    20    1769  1750  TGACAGAAGAGAGTGAGCAC   \n",
       "1  C5495  AMWY02082313.1       1    20    5954  5973  TGACAGAAGAGAGTGAGCAC   \n",
       "\n",
       "                   sseq  evalue  bitscore  ...   ppos  frames  qframe  sframe  \\\n",
       "0  TGACAGAAGAGAGTGAGCAC   0.004      37.4  ...  100.0    1/-1       1      -1   \n",
       "1  TGACAGAAGAGAGTGAGCAC   0.004      37.4  ...  100.0     1/1       1       1   \n",
       "\n",
       "   sstrand  qcovs  qcovhsp  qlen  slen Nonconformity  \n",
       "0    minus    100      100    20  3308             0  \n",
       "1     plus    100      100    20  8471             0  \n",
       "\n",
       "[2 rows x 28 columns]"
      ]
     },
     "execution_count": 20,
     "metadata": {},
     "output_type": "execute_result"
    }
   ],
   "source": [
    "threshold = 4\n",
    "df_blastn['Nonconformity'] = df_blastn['qlen'] - (abs(df_blastn['qend'] - df_blastn['qstart']) + 1) + df_blastn['gaps'] + df_blastn['mismatch']\n",
    "df_blastn = df_blastn[df_blastn['Nonconformity'] <= threshold]\n",
    "print(df_blastn.shape)\n",
    "df_blastn.head(2)"
   ]
  },
  {
   "cell_type": "code",
   "execution_count": 21,
   "metadata": {
    "ExecuteTime": {
     "end_time": "2021-11-15T17:38:27.384345Z",
     "start_time": "2021-11-15T17:38:26.466806Z"
    },
    "hidden": true,
    "scrolled": true
   },
   "outputs": [
    {
     "name": "stdout",
     "output_type": "stream",
     "text": [
      "(66445, 28)\n"
     ]
    }
   ],
   "source": [
    "# remore redundancy and hold best one base of Nonconformity value\n",
    "df_blastn = df_blastn.sort_values([\"Nonconformity\", \"evalue\"], ascending = (True, True))\n",
    "df_blastn = df_blastn.drop_duplicates(subset=['sseqid','sstart', 'send','sstrand'], keep='first')\n",
    "df_blastn.to_csv('./Temp/filtered_out_blastn.csv')\n",
    "print(df_blastn.shape)"
   ]
  },
  {
   "cell_type": "markdown",
   "metadata": {
    "heading_collapsed": true
   },
   "source": [
    "# Result of the blastn to bed file"
   ]
  },
  {
   "cell_type": "code",
   "execution_count": 22,
   "metadata": {
    "ExecuteTime": {
     "end_time": "2021-11-15T17:38:28.652838Z",
     "start_time": "2021-11-15T17:38:28.636993Z"
    },
    "hidden": true
   },
   "outputs": [
    {
     "name": "stderr",
     "output_type": "stream",
     "text": [
      "<ipython-input-22-d52c72306552>:3: SettingWithCopyWarning: \n",
      "A value is trying to be set on a copy of a slice from a DataFrame.\n",
      "Try using .loc[row_indexer,col_indexer] = value instead\n",
      "\n",
      "See the caveats in the documentation: https://pandas.pydata.org/pandas-docs/stable/user_guide/indexing.html#returning-a-view-versus-a-copy\n",
      "  df['ones'] = 1\n"
     ]
    }
   ],
   "source": [
    "flanking_value = 200\n",
    "df = df_blastn[['sseqid', 'sstart', 'send', 'sstrand','slen']]\n",
    "df['ones'] = 1"
   ]
  },
  {
   "cell_type": "code",
   "execution_count": 23,
   "metadata": {
    "ExecuteTime": {
     "end_time": "2021-11-15T17:38:39.483787Z",
     "start_time": "2021-11-15T17:38:28.981816Z"
    },
    "hidden": true
   },
   "outputs": [],
   "source": [
    "def switch(row):\n",
    "    if(row['sstart'] > row['send']):        \n",
    "        temp = row['sstart']\n",
    "        row['sstart'] = row['send']\n",
    "        row['send'] = temp\n",
    "    return row\n",
    "df = df.apply(lambda row: switch(row), axis=1)"
   ]
  },
  {
   "cell_type": "code",
   "execution_count": 24,
   "metadata": {
    "ExecuteTime": {
     "end_time": "2021-11-15T17:38:39.513215Z",
     "start_time": "2021-11-15T17:38:39.487160Z"
    },
    "hidden": true
   },
   "outputs": [],
   "source": [
    "def convert(inp):\n",
    "    if(inp == \"plus\"):\n",
    "        return \"forward\"\n",
    "    if(inp == \"minus\"):\n",
    "        return \"reverse\"\n",
    "    raise Exception('Error, sstrand contains illegal word! only \"plus\" and \"minus\" are allowed')\n",
    "df['strand'] = df['sstrand'].apply(lambda x: convert(x))"
   ]
  },
  {
   "cell_type": "code",
   "execution_count": 25,
   "metadata": {
    "ExecuteTime": {
     "end_time": "2021-11-15T17:38:39.541625Z",
     "start_time": "2021-11-15T17:38:39.516766Z"
    },
    "hidden": true
   },
   "outputs": [],
   "source": [
    "def convert2sign(inp):\n",
    "    if(inp == \"plus\"):\n",
    "        return \"+\"\n",
    "    if(inp == \"minus\"):\n",
    "        return \"-\"\n",
    "    raise Exception('Error, sstrand contains illegal word! only \"plus\" and \"minus\" are allowed')\n",
    "df['sign'] = df['sstrand'].apply(lambda x: convert2sign(x))"
   ]
  },
  {
   "cell_type": "code",
   "execution_count": 26,
   "metadata": {
    "ExecuteTime": {
     "end_time": "2021-11-15T17:38:41.509655Z",
     "start_time": "2021-11-15T17:38:39.544832Z"
    },
    "hidden": true
   },
   "outputs": [],
   "source": [
    "df['hit_length'] = df.apply(lambda row: abs(row['send'] - row['sstart']) + 1 ,axis=1)"
   ]
  },
  {
   "cell_type": "markdown",
   "metadata": {
    "heading_collapsed": true,
    "hidden": true
   },
   "source": [
    "## convert sstart and send from location to index (range)"
   ]
  },
  {
   "cell_type": "code",
   "execution_count": 27,
   "metadata": {
    "ExecuteTime": {
     "end_time": "2021-11-15T17:38:41.549426Z",
     "start_time": "2021-11-15T17:38:41.512935Z"
    },
    "hidden": true
   },
   "outputs": [],
   "source": [
    "df['sstart'] = df['sstart'].apply(lambda x: x - 1)"
   ]
  },
  {
   "cell_type": "code",
   "execution_count": 28,
   "metadata": {
    "ExecuteTime": {
     "end_time": "2021-11-15T17:38:41.588656Z",
     "start_time": "2021-11-15T17:38:41.552256Z"
    },
    "hidden": true
   },
   "outputs": [],
   "source": [
    "df['downstream_flanking'] = df['sstart'].apply(lambda x:  flanking_value if x > flanking_value else x)"
   ]
  },
  {
   "cell_type": "code",
   "execution_count": 29,
   "metadata": {
    "ExecuteTime": {
     "end_time": "2021-11-15T17:38:43.613893Z",
     "start_time": "2021-11-15T17:38:41.591319Z"
    },
    "hidden": true
   },
   "outputs": [],
   "source": [
    "df['upstream_flanking'] = df.apply(lambda row:  flanking_value if (row['send']+flanking_value) <= row['slen'] else row['slen'] - row['send'],axis=1)"
   ]
  },
  {
   "cell_type": "code",
   "execution_count": 30,
   "metadata": {
    "ExecuteTime": {
     "end_time": "2021-11-15T17:38:45.487406Z",
     "start_time": "2021-11-15T17:38:43.619391Z"
    },
    "hidden": true
   },
   "outputs": [],
   "source": [
    "df['hit_start'] = df.apply(lambda row: row['downstream_flanking'] if row['sign'] == \"+\" else row['upstream_flanking'],axis=1)"
   ]
  },
  {
   "cell_type": "code",
   "execution_count": 31,
   "metadata": {
    "ExecuteTime": {
     "end_time": "2021-11-15T17:38:47.794296Z",
     "start_time": "2021-11-15T17:38:45.490590Z"
    },
    "hidden": true
   },
   "outputs": [],
   "source": [
    "df['hit_end'] = df.apply(lambda row: row['downstream_flanking'] + row['hit_length'] if row['sign'] == \"+\" else row['upstream_flanking'] + row['hit_length'],axis=1)"
   ]
  },
  {
   "cell_type": "code",
   "execution_count": 32,
   "metadata": {
    "ExecuteTime": {
     "end_time": "2021-11-15T17:38:49.856166Z",
     "start_time": "2021-11-15T17:38:47.797824Z"
    },
    "hidden": true
   },
   "outputs": [],
   "source": [
    "df['sstart'] = df['sstart'].apply(lambda x: max(x - flanking_value, 0))\n",
    "df['send'] = df.apply(lambda row: min(row['send'] + flanking_value , row['slen']),axis=1)"
   ]
  },
  {
   "cell_type": "code",
   "execution_count": 33,
   "metadata": {
    "ExecuteTime": {
     "end_time": "2021-11-15T17:38:53.067352Z",
     "start_time": "2021-11-15T17:38:49.859005Z"
    },
    "hidden": true
   },
   "outputs": [],
   "source": [
    "df['tag'] = df.apply(lambda row: f\">{row['sseqid']}:{row['sstart']}-{row['send']}({row['sign']})\",axis=1)\n",
    "df['reformated_tag'] = df['tag'].apply(lambda t: reformat(t))\n",
    "df[['tag', 'reformated_tag', 'hit_start', 'hit_end']].to_csv('./Temp/hit_index_info.csv')#, index=False)"
   ]
  },
  {
   "cell_type": "code",
   "execution_count": 34,
   "metadata": {
    "ExecuteTime": {
     "end_time": "2021-11-15T17:38:56.908475Z",
     "start_time": "2021-11-15T17:38:53.071253Z"
    },
    "hidden": true
   },
   "outputs": [],
   "source": [
    "df['location_tag'] = df.apply(lambda row: f\">{row['sseqid']}|{row['sign']}|{row['sstart'] + 1}-{row['send']}|{row['hit_start']+1}-{row['hit_end']}\",axis=1)\n",
    "df[['location_tag']].to_csv('./Temp/pipe_seprated_location_list.csv',index=False)"
   ]
  },
  {
   "cell_type": "code",
   "execution_count": 35,
   "metadata": {
    "ExecuteTime": {
     "end_time": "2021-11-15T17:38:57.133643Z",
     "start_time": "2021-11-15T17:38:56.911402Z"
    },
    "hidden": true
   },
   "outputs": [],
   "source": [
    "df[['sseqid','sstart','send','strand','ones', 'sign']].to_csv('./Temp/extension_index.bed', \n",
    "        index=False, header=False, sep=\"\\t\")"
   ]
  },
  {
   "cell_type": "markdown",
   "metadata": {
    "heading_collapsed": true
   },
   "source": [
    "# Extention\n"
   ]
  },
  {
   "cell_type": "code",
   "execution_count": 36,
   "metadata": {
    "ExecuteTime": {
     "end_time": "2021-11-15T17:38:57.139683Z",
     "start_time": "2021-11-15T17:38:57.136568Z"
    },
    "hidden": true
   },
   "outputs": [],
   "source": [
    "# !sudo apt-get install bedtools"
   ]
  },
  {
   "cell_type": "code",
   "execution_count": 37,
   "metadata": {
    "ExecuteTime": {
     "end_time": "2021-11-15T17:39:00.272370Z",
     "start_time": "2021-11-15T17:38:57.142577Z"
    },
    "hidden": true
   },
   "outputs": [
    {
     "name": "stdout",
     "output_type": "stream",
     "text": [
      "index file ./input_genome.fna.fai not found, generating...\r\n"
     ]
    }
   ],
   "source": [
    "!bedtools getfasta -fi ./input_genome.fna -fo ./Temp/extended_original.txt -s -bed ./Temp/extension_index.bed\n",
    "!rm input_genome.fna.fai"
   ]
  },
  {
   "cell_type": "code",
   "execution_count": 34,
   "metadata": {
    "ExecuteTime": {
     "end_time": "2021-11-15T14:45:18.658125Z",
     "start_time": "2021-11-15T14:45:18.653842Z"
    },
    "code_folding": [],
    "hidden": true
   },
   "outputs": [],
   "source": [
    "# todo: remove duplicated\n",
    "'''\n",
    "df = fasta_to_df(\"./Temp/extended.txt\")\n",
    "df = df.drop_duplicates(subset=['tag'], keep='first')\n",
    "df_to_fasta(df,\"./Temp/extended.txt\")\n",
    "len(df['tag'].unique())\n",
    "''';"
   ]
  },
  {
   "cell_type": "markdown",
   "metadata": {
    "heading_collapsed": true
   },
   "source": [
    "# Convert hit region to upper case and other region to lower case"
   ]
  },
  {
   "cell_type": "code",
   "execution_count": 38,
   "metadata": {
    "ExecuteTime": {
     "end_time": "2021-11-15T17:39:00.649102Z",
     "start_time": "2021-11-15T17:39:00.276411Z"
    },
    "hidden": true
   },
   "outputs": [
    {
     "name": "stdout",
     "output_type": "stream",
     "text": [
      "(66445, 5)\n"
     ]
    },
    {
     "data": {
      "text/html": [
       "<div>\n",
       "<style scoped>\n",
       "    .dataframe tbody tr th:only-of-type {\n",
       "        vertical-align: middle;\n",
       "    }\n",
       "\n",
       "    .dataframe tbody tr th {\n",
       "        vertical-align: top;\n",
       "    }\n",
       "\n",
       "    .dataframe thead th {\n",
       "        text-align: right;\n",
       "    }\n",
       "</style>\n",
       "<table border=\"1\" class=\"dataframe\">\n",
       "  <thead>\n",
       "    <tr style=\"text-align: right;\">\n",
       "      <th></th>\n",
       "      <th>Unnamed: 0</th>\n",
       "      <th>tag</th>\n",
       "      <th>reformated_tag</th>\n",
       "      <th>hit_start</th>\n",
       "      <th>hit_end</th>\n",
       "    </tr>\n",
       "  </thead>\n",
       "  <tbody>\n",
       "    <tr>\n",
       "      <th>0</th>\n",
       "      <td>132836</td>\n",
       "      <td>AMWY02059828.1:2832-3256(+)</td>\n",
       "      <td>&gt;AMWY020598281_2832-3256_+_</td>\n",
       "      <td>200</td>\n",
       "      <td>224</td>\n",
       "    </tr>\n",
       "    <tr>\n",
       "      <th>1</th>\n",
       "      <td>300170</td>\n",
       "      <td>AMWY02004761.1:1853-2277(+)</td>\n",
       "      <td>&gt;AMWY020047611_1853-2277_+_</td>\n",
       "      <td>200</td>\n",
       "      <td>224</td>\n",
       "    </tr>\n",
       "  </tbody>\n",
       "</table>\n",
       "</div>"
      ],
      "text/plain": [
       "   Unnamed: 0                          tag               reformated_tag  \\\n",
       "0      132836  AMWY02059828.1:2832-3256(+)  >AMWY020598281_2832-3256_+_   \n",
       "1      300170  AMWY02004761.1:1853-2277(+)  >AMWY020047611_1853-2277_+_   \n",
       "\n",
       "   hit_start  hit_end  \n",
       "0        200      224  \n",
       "1        200      224  "
      ]
     },
     "execution_count": 38,
     "metadata": {},
     "output_type": "execute_result"
    }
   ],
   "source": [
    "ext = fasta_to_df('./Temp/extended_original.txt')\n",
    "info = pd.read_csv('./Temp/hit_index_info.csv')\n",
    "info['tag'] = info['tag'].apply(lambda x: x[1:])\n",
    "print(info.shape)\n",
    "info.head(2)"
   ]
  },
  {
   "cell_type": "code",
   "execution_count": 39,
   "metadata": {
    "ExecuteTime": {
     "end_time": "2021-11-15T17:39:12.591397Z",
     "start_time": "2021-11-15T17:39:00.652410Z"
    },
    "hidden": true
   },
   "outputs": [],
   "source": [
    "ext = ext.sort_values(by=['tag']).reset_index()\n",
    "ext['help_tag'] = ext.apply(lambda r: r['tag']+ str(r.name),axis=1)\n",
    "del ext['tag']\n",
    "\n",
    "info = info.sort_values(by=['tag']).reset_index()\n",
    "info['help_tag'] = info.apply(lambda row: row['tag']+ str(row.name),axis=1)\n",
    "def redefined_tag(row):\n",
    "    tag = row['tag']\n",
    "    [sstart, send] = tag.split(':')[-1].split('(')[0].split('-')\n",
    "    sstart = int(sstart) + 1\n",
    "    sign = tag.split('(')[-1].split(')')[0]    \n",
    "    return f\"{tag.split(':')[0]}|{sstart}-{send}|{row['hit_start']+1}-{row['hit_end']}|{sign}\"\n",
    "info['tag'] = info.apply(lambda row: redefined_tag(row),axis=1)\n",
    "ext = pd.merge(ext,info,how='inner', on='help_tag')\n",
    "\n",
    "def emphasis_hit(row):\n",
    "    seq = list(row['data'].lower())            \n",
    "    s = row['hit_start']\n",
    "    e = row['hit_end']\n",
    "    seq[s:e] = list(''.join(seq[s:e]).upper())    \n",
    "    return ''.join(seq)\n",
    "    \n",
    "ext['data'] = ext.apply(lambda row: emphasis_hit(row),axis=1)\n",
    "df_to_fasta(ext[['tag','data']],\"./Temp/extended_modified.txt\")"
   ]
  },
  {
   "cell_type": "markdown",
   "metadata": {
    "heading_collapsed": true
   },
   "source": [
    "# Extended validation"
   ]
  },
  {
   "cell_type": "code",
   "execution_count": null,
   "metadata": {
    "hidden": true
   },
   "outputs": [],
   "source": [
    "df_blastn['hit'] = df_blastn['sseq'].apply(lambda x: x.replace('-', ''))\n",
    "info = pd.read_csv('./Temp/hit_index_info.csv')\n",
    "ext = fasta_to_df('./Temp/extended2.txt')\n",
    "\n",
    "counter = 0\n",
    "for index in df_blastn.index:\n",
    "    hit = df_blastn['hit'][index]\n",
    "    row = info[info['Unnamed: 0']== index].reset_index()\n",
    "    tag = row['tag'][0][1:]\n",
    "    hs = row['hit_start'][0]\n",
    "    he = row['hit_end'][0]        \n",
    "    tag = tag.replace('(+)',f\"|{hs}-{he}(+)\")\n",
    "    tag = tag.replace('(-)',f\"|{hs}-{he}(-)\")            \n",
    "    seq = ext[ext['tag']==tag]['data'].iloc[0]\n",
    "    seq = ext[ext['tag']==tag]['data'].iloc[0]    \n",
    "    if(seq[hs:he] != hit):\n",
    "        print(tag, df_blastn['slen'][index])\n",
    "        print(seq[hs:he])\n",
    "        print(hit)\n",
    "        print('\\n\\n')\n",
    "        counter += 1                "
   ]
  },
  {
   "cell_type": "code",
   "execution_count": 178,
   "metadata": {
    "ExecuteTime": {
     "end_time": "2021-11-12T16:55:04.208851Z",
     "start_time": "2021-11-12T16:55:03.831213Z"
    },
    "hidden": true
   },
   "outputs": [
    {
     "data": {
      "text/html": [
       "<div>\n",
       "<style scoped>\n",
       "    .dataframe tbody tr th:only-of-type {\n",
       "        vertical-align: middle;\n",
       "    }\n",
       "\n",
       "    .dataframe tbody tr th {\n",
       "        vertical-align: top;\n",
       "    }\n",
       "\n",
       "    .dataframe thead th {\n",
       "        text-align: right;\n",
       "    }\n",
       "</style>\n",
       "<table border=\"1\" class=\"dataframe\">\n",
       "  <thead>\n",
       "    <tr style=\"text-align: right;\">\n",
       "      <th></th>\n",
       "      <th>tag</th>\n",
       "      <th>data</th>\n",
       "    </tr>\n",
       "  </thead>\n",
       "  <tbody>\n",
       "    <tr>\n",
       "      <th>0</th>\n",
       "      <td>AMWY02000003.1:4084-4506(+)</td>\n",
       "      <td>ATACAATTGTCACATagtttacattattaatttccgcttaatttat...</td>\n",
       "    </tr>\n",
       "    <tr>\n",
       "      <th>1</th>\n",
       "      <td>AMWY02000003.1:4391-4810(+)</td>\n",
       "      <td>ttctaattgcaaatttatgttatatttttaaatagaaaggGAGATT...</td>\n",
       "    </tr>\n",
       "  </tbody>\n",
       "</table>\n",
       "</div>"
      ],
      "text/plain": [
       "                           tag  \\\n",
       "0  AMWY02000003.1:4084-4506(+)   \n",
       "1  AMWY02000003.1:4391-4810(+)   \n",
       "\n",
       "                                                data  \n",
       "0  ATACAATTGTCACATagtttacattattaatttccgcttaatttat...  \n",
       "1  ttctaattgcaaatttatgttatatttttaaatagaaaggGAGATT...  "
      ]
     },
     "execution_count": 178,
     "metadata": {},
     "output_type": "execute_result"
    }
   ],
   "source": [
    "df = pd.read_csv('check1.csv')\n",
    "df.columns = ['tag', 'data']\n",
    "def do(x):\n",
    "    x = x[1:]\n",
    "    x = x.split('|')\n",
    "    s = int(x[2].split('-')[0]) - 1\n",
    "    e = x[2].split('-')[1]\n",
    "    return f\"{x[0]}:{s}-{e}({x[1]})\"\n",
    "df['tag'] = df['tag'].apply(lambda x: do(x))\n",
    "df.head(2)"
   ]
  },
  {
   "cell_type": "code",
   "execution_count": 176,
   "metadata": {
    "ExecuteTime": {
     "end_time": "2021-11-12T16:54:03.716073Z",
     "start_time": "2021-11-12T16:47:01.709169Z"
    },
    "hidden": true
   },
   "outputs": [],
   "source": [
    "for t in df['tag']:\n",
    "    check_seq = df[df['tag']==t]['data'].iloc[0]\n",
    "    ext_seq = ext[ext['tag']==t]['data'].iloc[0]\n",
    "    if(check_seq != ext_seq):\n",
    "        print('error')        "
   ]
  },
  {
   "cell_type": "code",
   "execution_count": 167,
   "metadata": {
    "ExecuteTime": {
     "end_time": "2021-11-12T16:38:20.621448Z",
     "start_time": "2021-11-12T16:38:20.428902Z"
    },
    "hidden": true
   },
   "outputs": [
    {
     "data": {
      "text/html": [
       "<div>\n",
       "<style scoped>\n",
       "    .dataframe tbody tr th:only-of-type {\n",
       "        vertical-align: middle;\n",
       "    }\n",
       "\n",
       "    .dataframe tbody tr th {\n",
       "        vertical-align: top;\n",
       "    }\n",
       "\n",
       "    .dataframe thead th {\n",
       "        text-align: right;\n",
       "    }\n",
       "</style>\n",
       "<table border=\"1\" class=\"dataframe\">\n",
       "  <thead>\n",
       "    <tr style=\"text-align: right;\">\n",
       "      <th></th>\n",
       "      <th>tag</th>\n",
       "      <th>data</th>\n",
       "    </tr>\n",
       "  </thead>\n",
       "  <tbody>\n",
       "    <tr>\n",
       "      <th>0</th>\n",
       "      <td>AMWY02059828.1:2832-3256(+)</td>\n",
       "      <td>AAAGAATCAGCAATGGAAAAATAACCGGTTCTTAATTCAGcataac...</td>\n",
       "    </tr>\n",
       "    <tr>\n",
       "      <th>1</th>\n",
       "      <td>AMWY02004761.1:1853-2277(+)</td>\n",
       "      <td>actaataatgCATGGCCATATATATCAAATCTACCATATgccattt...</td>\n",
       "    </tr>\n",
       "  </tbody>\n",
       "</table>\n",
       "</div>"
      ],
      "text/plain": [
       "                           tag  \\\n",
       "0  AMWY02059828.1:2832-3256(+)   \n",
       "1  AMWY02004761.1:1853-2277(+)   \n",
       "\n",
       "                                                data  \n",
       "0  AAAGAATCAGCAATGGAAAAATAACCGGTTCTTAATTCAGcataac...  \n",
       "1  actaataatgCATGGCCATATATATCAAATCTACCATATgccattt...  "
      ]
     },
     "execution_count": 167,
     "metadata": {},
     "output_type": "execute_result"
    }
   ],
   "source": [
    "ext = fasta_to_df('./Temp/extended.txt')\n",
    "ext.head(2)"
   ]
  },
  {
   "cell_type": "markdown",
   "metadata": {
    "heading_collapsed": true
   },
   "source": [
    "# RNA 2d prediction"
   ]
  },
  {
   "cell_type": "markdown",
   "metadata": {
    "heading_collapsed": true,
    "hidden": true
   },
   "source": [
    "## Mfold"
   ]
  },
  {
   "cell_type": "code",
   "execution_count": 14,
   "metadata": {
    "ExecuteTime": {
     "end_time": "2021-11-18T16:23:27.830630Z",
     "start_time": "2021-11-18T16:23:27.826922Z"
    },
    "hidden": true
   },
   "outputs": [],
   "source": [
    "'''\n",
    "# installation\n",
    "!wget http://www.unafold.org/download/mfold-3.6.tar.gz\n",
    "!tar -xvf ./mfold-3.6.tar.gz; rm ./mfold-3.6.tar.gz\n",
    "%cd ./mfold-3.6\n",
    "!./configure\n",
    "!make\n",
    "!make install\n",
    "%cd ..\n",
    "!sudo apt install texlive-font-utils\n",
    "''';"
   ]
  },
  {
   "cell_type": "code",
   "execution_count": 15,
   "metadata": {
    "ExecuteTime": {
     "end_time": "2021-11-18T16:23:28.114502Z",
     "start_time": "2021-11-18T16:23:28.111002Z"
    },
    "hidden": true
   },
   "outputs": [],
   "source": [
    "#todo : add all hyperparameter(options) to GUI"
   ]
  },
  {
   "cell_type": "code",
   "execution_count": 59,
   "metadata": {
    "ExecuteTime": {
     "end_time": "2021-11-20T16:11:10.003608Z",
     "start_time": "2021-11-20T16:11:08.561619Z"
    },
    "hidden": true
   },
   "outputs": [],
   "source": [
    "counter = 0\n",
    "base = \"./secondary_structure/mfold/\"\n",
    "!rm -r {base}\n",
    "!mkdir -p {base}\n",
    "df = fasta_to_df('./Temp/extended_modified.txt')\n",
    "\n",
    "for index, row in df.iterrows():    \n",
    "    tag = reformat(row['tag'])\n",
    "    if(not os.path.exists(base + tag)):\n",
    "        os.makedirs(base + tag)            \n",
    "    with open(base + f\"{tag}/SEQ.FASTA\",'w') as file:\n",
    "        file.write(f\">{row['tag']}\\n{row['data']}\")\n",
    "    counter += 1    \n",
    "    if(counter >= 2000):\n",
    "        break"
   ]
  },
  {
   "cell_type": "code",
   "execution_count": 60,
   "metadata": {
    "ExecuteTime": {
     "end_time": "2021-11-20T16:15:48.902796Z",
     "start_time": "2021-11-20T16:11:17.392200Z"
    },
    "hidden": true
   },
   "outputs": [],
   "source": [
    "%%capture\n",
    "remove_lock = False\n",
    "def run_mfold(tag):\n",
    "    tag = reformat(tag)\n",
    "    %cd {base + tag}\n",
    "    !mfold  SEQ=\"SEQ.FASTA\" T=20 MAX=2    \n",
    "    if(not remove_lock):\n",
    "        !find . -not -name \"*.ct\" -not -name \"*.pdf\" -not -name \"*SEQ.FASTA\" -not -type d -delete\n",
    "    %cd ../../..\n",
    "\n",
    "if __name__ == '__main__':        \n",
    "    pool = mp.Pool(mp.cpu_count())  \n",
    "    pool.map(run_mfold, df['tag'].iloc[:2000])"
   ]
  },
  {
   "cell_type": "code",
   "execution_count": 61,
   "metadata": {
    "ExecuteTime": {
     "end_time": "2021-11-06T15:12:52.776002Z",
     "start_time": "2021-11-06T15:10:32.633727Z"
    },
    "hidden": true
   },
   "outputs": [],
   "source": [
    "'''\n",
    "base = \"secondary_structure/mfold/\"\n",
    "for directory in glob.glob(f\"{base}*\"):    \n",
    "    tag = directory[len(base):]\n",
    "    ct_files = glob.glob(f'{directory}/*.ct')        \n",
    "    try:\n",
    "        ct_files.remove(f'{base}{tag}/SEQ.ct')\n",
    "    except:\n",
    "        print(directory)\n",
    "        print(ct_files)\n",
    "        print(\"*****************\")\n",
    "    for file in ct_files:        \n",
    "        shutil.copy(file, './1.ct')\n",
    "        #dot = ct2dot_bracket('./1.ct')\n",
    "        #dot = dot.split('\\n')\n",
    "        #with open('./2.ct', 'w') as stream:\n",
    "            #stream.write(bracket_to_ct(tag, dot[0] , dot[1] , \"(0)\"))        \n",
    "        #ct1 = '\\n'.join(reformatCT('./1.ct').split('\\n')[1:])\n",
    "        #ct2 = '\\n'.join(reformatCT('./2.ct').split('\\n')[1:])\n",
    "        #if(ct1 != ct2):\n",
    "            #print(file)\n",
    "        ct = reformatCT('./1.ct')\n",
    "        [nucleotide, index, values] = get_ct_data(ct)        \n",
    "        #print(is_nested( index,  values))\n",
    "        if(not is_nested( index,  values)):\n",
    "            print(\"************\")             \n",
    "'''"
   ]
  },
  {
   "cell_type": "code",
   "execution_count": 60,
   "metadata": {
    "ExecuteTime": {
     "end_time": "2021-11-06T15:10:27.456082Z",
     "start_time": "2021-11-06T15:10:27.450725Z"
    },
    "hidden": true
   },
   "outputs": [],
   "source": []
  },
  {
   "cell_type": "markdown",
   "metadata": {
    "heading_collapsed": true,
    "hidden": true
   },
   "source": [
    "## Mxfold2"
   ]
  },
  {
   "cell_type": "code",
   "execution_count": 57,
   "metadata": {
    "ExecuteTime": {
     "end_time": "2021-11-06T16:20:40.729087Z",
     "start_time": "2021-11-06T16:20:40.725251Z"
    },
    "hidden": true
   },
   "outputs": [],
   "source": [
    "#!wget https://github.com/keio-bioinformatics/mxfold2/releases/download/v0.1.1/mxfold2-0.1.1.tar.gz\n",
    "#!pip3 install mxfold2-0.1.1.tar.gz\n",
    "#!rm mxfold2-0.1.1.tar.gz"
   ]
  },
  {
   "cell_type": "code",
   "execution_count": 58,
   "metadata": {
    "ExecuteTime": {
     "end_time": "2021-11-06T16:22:35.682900Z",
     "start_time": "2021-11-06T16:20:48.694439Z"
    },
    "hidden": true
   },
   "outputs": [
    {
     "name": "stdout",
     "output_type": "stream",
     "text": [
      ">AMWY02059828.1:2832-3256(+)\n",
      "AAAGAATCAGCAATGGAAAAATAACCGGTTCTTAATTCAGcataacaaattattcaattataatatagcTGTAAAAGAAATCTAAGTCTATTTGATATAGATCGGAATTTacgcaaattaaaaatttccaaataaGCAGTTCCGACCTGAGATCTGAACCGAAAACGCAAGATCCATCTAAACTCTCACCTCGGTCTCCGATTCAGTTGATGCAAGGCGGGATCCAATTCGCCTTTTCATTCAATTACATTCACCAATAACAGCTCGCCATCtggcttttaataaaaagttgcCAATCGGTTCCCGACCTGCACCAAGCGAATTAGAGACCGCCGGTAACTGAATCATTCTACATTAATCCCCGACTCCTCCTTTTACACATAGCAACTTCGCCCAAGAagactaaaaagaaaaggaagctAAC\n",
      "........................((((...........((..........................))..........................................................................................................................(((...(((...............((((..........)))).................................(((....))).....................)))...)))..........................))))........................................................................................ (35.0)\n",
      ">AMWY02004761.1:1853-2277(+)\n",
      "actaataatgCATGGCCATATATATCAAATCTACCATATgccatttaataattttccttttttcttcttctttctttttctctctaaataCCATATATAtgcccttcttcttcttctcataCATGAACAGTTGAGGGGAATGTTGTCTGGTTCGAGATCATTCTTCGGCGATCTCAAGTTTAATTCTCTTCTTCAGAATGATTTCGGACCAGGCTTCATTCCCCCCAACTtggtttaattgttaatatatattctcgaTCGATTCGATGATGTTATATTTATGCATGCAACGGCCTATAGCATTATGTGTTTTTTGGTTAGTTCTTCCTAATAATCTGCTGCTTGATCGAGTATTCAGGTTGATTTTCTCGACGTTTGTTGAATCATTTGATCCAAAAGGGGGAGGCAGAAAATGAGCCGCCGG\n",
      ".....................................................................................................................................................................(((((....)..............................................(((((.............................((.......))..........................((.....)).................................................................................................))))).(((.........))))))). (40.1)\n",
      ">AMWY02033394.1:469-893(-)\n",
      "CTCCCCTTGTCTACCATCCCCAACTAGCGAGAGAGACATTACCTACCTGAATAGAAGATCTCTCTCGAGCTCTCGagctctctctttttctataTCTCTGTCTCTTTGTGTCTCTGGAGCTTGTACTAACATTAATATCGTGCACCAGCAGCAGTTGAAGCTGCCAGCATGATCTAAACTTCCTTCTCTGTAAAGGATAGATCGGATCATGTGGTAGCTTCACCTGTTGATGGGATCACGAAAGCGCCCCTCTTACTACTCTACATTAATTCTTTCTCGTTATACAACCTCCCAGTAAGCATGCTTTCAAAACCAACTTGAGtaagttaatttgtttagcttttgtttttggctcttcctttactttaaattttctcatctgggtttttgttatatatatgtactgttttatatatgtattcct\n",
      "..................(((......(....)..................................................................................................................((.((.......)).))...................................................................(((....(....)...)))...................................................................................................................................)))........................................ (36.4)\n",
      ">AMWY02098706.1:0-407(-)\n",
      "TGGGGGCCAACGGCATTGGCGGCGGGTTTTTGGGCCGTCGTGGTTCGATTTGAGTGGAGGGAGGTCaagttaaaattgatatttgtgGTTAAAAGGGGTCAATTTATAGACGACTTGTGCAAGTATAACAACTCCACATGTAACTTGTAATATgccctttttttattctcttaccAAACTCGCTTTAAATATCGGCCGAGTGGAGTGGAGTGGAGTGGAGTGGAGCAtcttttctgatttttctATCTCATCTAATCTCATCACCTCCTTTTAAAAGACATCGTATTAaacacttcttttttttttttttgtttttaaatttttagaaaggCCAACTAAACACTTCTTTACCTTTACGTTATGTGACCAGCAAGCAAGCACATAATCCATACACTTCAAAATACTCT\n",
      ".(..((((..((((.....((((..........)))).((.....))...................................................................................................................................................))))..............................(......).............................................................................................))))..)....................................................................... (33.7)\n",
      ">AMWY02003241.1:1997-2420(+)\n",
      "AAAACAGATCCAACACAGGAACaagacaaaattatcaagtaaACAAGAGAAATGTTTTCCAAAACGGTGCGTACCGTGGGATCGAAAGGAGAATGCGAGGGAGTTCCGTTGTACGGATGAAACGAGCGCCTGCCCGCGTTTTGGACGCGAATTAGTATAGgctgagagagagagagagaaagaacgTGCGTTGGTCAAAGTGGAGTGGAGTGGAGTGGAGTGGAGTCGAGTTGATTTCGTTATTGGTATTATTTCAGTTTTCTTTACGAtttggagagagagagagagagagagatcgtTAATATAATTTCGGTTCAGTTCAGAAACGAAGGGCTGGCTCGCGGAAACTGGAAGGCAACTTCAGCCAGCAAATTACAACGCTGACGTTAACATATTGGTATTTTGCTTGCATTTTTCGcttct\n",
      ".........((......)).............................................((..(((...(....)..(....)......((..(......(((.....)))......)..))(((.(((((((.......)))..................................................................................................................................................................((..............))..)))).)))....(....).....(((.......)))............)))...))..................................... (42.1)\n",
      ">AMWY02103996.1:37-460(-)\n",
      "tattattcttatCTTCTTTTNCATATTTTTNGAANTCAGTATTggatttttcttcatataaatCTTTGTGTTCGATCAGTTAAAGCTTAATTCGTTGCATGGATAGATTGACAGTCGTTGTTTGCGGGTGTAGCATCATCAAGATTCACATGCAAATGCACGGTAGGGATGCGATAATCTCCGCCAAGGTAGTTTGAAAGTGAGAATCTTGATGATGCTGCATCAGCAATAAACGACTATAATAAGagtatatattcaaaatcaagCCTCGCCAGTGCCACTTTGCACTTAAGCATTCAGCAGTACTCTAAACAAGAAATGTGGTTCTTTTACTTNCCTTTCTGTTGCTGTCAGGTGGGTatatttccttattttcttgGCNAGTtctataaactatatatatatatatattattggaatTGG\n",
      "...........................................................................................................................(((((....((..(.....)........((....))...........))......).))))...................................((....))...........................................(((...((......))......((.....))........................................................((.......))..........))).......................................... (29.3)\n",
      ">AMWY02089009.1:1704-2127(+)\n",
      "TTCCTCAGTTCTATTTGTTCCTTTTTGAAGGTTTTGTCTCGGGAACAATACGTCATATTATGTTTGTTATGGAGGACGCAATATTTTAACAGTCGTTGTTCGCTGATGCAGTGTCATCAAGATTCACATTCAAGCTAAAGGCAGAATTAAGCAGATGCAGtgatatctatatatttctgCTTGCCTTTGGTTTTTGGAAGTGAGAATCTTGATGATGCTGCATCGGCGATAAACGACTATAACAAGGTATCGCAGCATAATCTCCCGGAACAGACGGATCTTGATTTTTCTGCCGTCGAATCTGTTAATTAAAGGTCNAAAGTGAGTGNATCCCagatcaatattatttttttaagaaaaaaaaaaaNNGNAATTATTTCAGCCTGTGCTTTTCatgtttttggtttctttttgaaaatatct\n",
      "........................................(((..(.....).................................................((....))........................((.....((........))....)).........................((..........))..........................((((......(...........)..................(((.......)))..............))))....................................)))......................................................................................... (32.9)\n",
      ">AMWY02083127.1:3090-3455(+)\n",
      "TTCCTCAGTTCTATTTGTTCCTTTTTGAAGGTTTTGTCTCGGGAACAATACGTCATATTATGTTTGTTATGGAGGACGCAATATTTTAACAGTCGTTGTTCGCTGATGCAGTGTCATCAAGATTCACATTCAAGCTAAAGGCAGAATTAAGCAGATGCAGtgatatctatatatttctgCTTGCCTTTGGTTTTTGGAAGTGAGAATCTTGATGATGCTGCATCGGCGATAAACGACTATAACAAGGTATCGCAGCATAATCTCCCGGAACAGACGGATCTTGATTTTTCTGCCGTCGAATCTGTTAATTAAAGGTCAAAGTGAGTGCATCCcagatcaatatatttttttaagaaaaaaaaaaa\n",
      "........................................(((..(.....).................................................((....))........................((.....((........))....)).........................((..........))..........................((((......(...........)..................(((.......)))..............))))...................................)))................................ (27.2)\n",
      ">AMWY02043062.1:414-837(-)\n",
      "tcttattattcttatcttcttttcatatttttgaatcAGTATTggatttttcttcatataaatCTTTGTGTTCGATCAGTTAAAGCTTAATTCGTTGCATGGATAGATTGACAGTCGTTGTTTGCGGGTGTAGCATCATCAAGATTCACATGCAAATGCACGGTAGGGATGCGATAATCTCCGCCAAGGTAGTTTGAAAGTGAGAATCTTGATGATGCTGCATCAGCAATAAACGACTATAATAAGagtatatattcaaaatcaagCCTCGCCAGTGCCACTTTGCACTTAAGCATTCAGCAGTACTCTAAACAAGAAATGTGGttcttttactttcctttCTGTTGCTGTCAGGTGGGTatatttccttattttcttgGCAGTtctataaactatatatatatatatattattggaatGGAT\n",
      "...........................................................................................................................(((((....((..(.....)........((....))...........))......).))))...................................((....))...........................................(((...((......))......((.....))........................................................((.......))..........))).......................................... (28.7)\n",
      ">AMWY02038760.1:1824-2247(+)\n",
      "tcttccttcaccTTCTAACCAGTTTCAACCTCcaagtaaataaaagttattgaaatgatttctttaatcttatttttgtaaatatatatattgattgattCCTGCAGAATCGAATCGATGAACAACAGTCCATCAATCAGTCATTGTTTGCTGATGCAGCATCATTAAGATTCACATGCGAATGGTTAGAAGCAAAGCAGTGAGAATCTTGATGATGCTGCATCGGCCATAAATGACTATATAACATCATCAGGATTTACGGATCTAGATCAATTTTGCTACCTTTGCTTCTGATACaggtgaaattatttttaatttgtcccCATCttgttctcttttatttgttagcCGACAGTAATTGAAAGTAGTATCTGGGgtctcttttattttccatgTTCATACTATTTCTCTTGCAGGTAGAGA\n",
      "....................................................................................................((.((.....((...))................................((....))....................((............))..........................((....))..................................................((.......))..............................(.((((.................................................)))).).................................)).))...... (28.5)\n"
     ]
    },
    {
     "name": "stdout",
     "output_type": "stream",
     "text": [
      ">AMWY02002487.1:2516-2939(+)\n",
      "tctctcttctttttcttccttaacTTTTCATCCAGCTTCAACCTCCATTTAGATCaaagttattgaatttttttttcatcttatttatgtaaatatatattgtttccTGCGGAAACGAATCCATGAACAACAGTCAATCAGTCATTGTTTGCTGATGCAGCGTCATCAAGATTCGCATGCTGATGGGTCGAGCAAAGCAGTGAGAATCTTGATGATGCTGCATCGGCCATAATTGACTATAtctcgtcatcatcatcatcatcatccagtTTCAACCTCCATGTAAATCaagttattgaattatttggtAAATAGATACTGATTCCCGCAGAATTGAATCAATGAACAACAGTCAATCAGTCATTGTTTGCTGATGCAGCATCATCAAGATTCACATGCGAATGGGTCGAACCAAAGCAGTGA\n",
      "............................................................................................................((((....(....)............................((....)).(((...........))).........((.((.((...((..................)).))..)).)).................................................................................................))))........................................((....))....................((....((......))...))..... (30.2)\n",
      ">AMWY02089812.1:0-419(-)\n",
      "TCtgtctatatttattttcttctcattcACTGTAGTAATTTAAGCCTATACAGTTCTGAGTTGACCNatttctttatataaagtTNATTTCGAGAAGTCTACNAAGGGAAAAAGTGAAGCTGCCAGCATGATCTAGCTTCGGTTAGGAAATAAGTTAAAGCTAAGGAAGAATGAATGAACCGGTGGACTAACCCTAACTAGGTCATGCTCTGACAGCCTCACTCCTTCCTATTTGGAGACCCAACAAATTCCAGATTATCCCTCAAATCTTTAAcaagataaagcaaaaaacAAAGGTATAAGATCTCTCTGTAagtatattcttttactttgtttttgaaatctCACGCATGCGTTCTCTTCTGATCTgatcacttttttcttttcccctttCTCTTCTATGTTGCTCGTTGATTTCC\n",
      ".........................................................................................................(((..............((.((........))...)).......................................((.(......))).................................((.....)).......................)))............................................................................................................................................................. (31.7)\n",
      ">AMWY02033396.1:16-439(-)\n",
      "TTCATCTgtctatattattttcttctcattcACTGTAGTAATTTAAGCCTATACAGTTCTGAGTTGAccatttctttatataaagttatttcGAGAAGTCTACAAGGGAAAAAGTGAAGCTGCCAGCATGATCTAGCTTCGGTTAGGAAATAAGTTAAAGCTAAGGAAGAATGAATGAACCGGTGGACTAACCCTAACTAGGTCATGCTCTGACAGCCTCACTCCTTCCTATTTGGAGACCCAACAAATTCCAGATTATCCCTCAAATCTTTAAcaagataaagcaaaaaacAAAGGTATAAGATCTCTCTGTAagtatattcttttactttgtttttgaaatctCACGCATGCGTTCTCTTCTGATCTgatcacttttttcttttcccctttCTCTTCTATGTTGCTCGTTGATTTCCTACT\n",
      ".........................................................................................................(((..............((.((........))...)).......................................((.(......))).................................((.....)).......................)))................................................................................................................................................................. (30.5)\n",
      "[W NNPACK.cpp:79] Could not initialize NNPACK! Reason: Unsupported hardware.\n",
      ">AMWY02048808.1:0-283(-)\n",
      "tatatatatatatatacacatatattattcatatgtctttgcttgtatatatataaatttggaaGCATTGCTAGCTATACGACGTTCTCAAGTGTaagagtaaataaatattaatgcattGTCTTGTATGGAAGAGAAAGAGGGTGGGTTTGAGCCAAGGATGACTTGCCGGTGTGTATAtgtacataatattaatatacatgtttTATTTGTGATCTGGGAAGTCTATCCTTGGCTCTTGTTCGTCCTCTTTCATCCCACATAAGACCTTGGAGATAAATTC\n",
      ".............................................................................................................................................(((.((.......))............................................................(..((........))..)......................)))........................ (15.1)\n",
      ">AMWY02067626.1:7483-7906(+)\n",
      "TTTATTTCCTATGCTTTAATGCGTCTGCTAACTTTCTTGCTTCAGGTTCTTTAAGGTTACCAGCATCAACCAATTGTATGATGTTTCCCTTTTGTGGGTTAAAAGCGTTAGGAAAATATATACGGACGTTTTGATACACAAGTGATCATTtgcatatgtttatttataaaaacgtGTATGCATGGAAGTATTAGATAGTATGCCTGGCTCCCTGTATGCCATTTGCTAAGCCCATCAGAAGATTGGTGGTCTTCGTGGATAGCGTGCGAGGAGCCATGCATGCCAATTTACTGTCATTTGCAGGTGtgtttttgattcttttgttttcattccTGGAAAATAAACTTAAGCATTTTCATCAAACTGCTGTGGACGAGGCCTGAGTTATCCCTCTCAACTTCAAAGAGTTCCTTGGTGATGAGG\n",
      ".......((...((......((....))..........................................................(((......)))...........................................................................................................(((.........)))....((...((((..(....).........(.....)............)).))...))......................................................................................))...))................................................... (36.1)\n",
      ">AMWY02064143.1:2949-3372(+)\n",
      "CATGAAGAATTTTGTTctggataaaaatttatctaagtTACTCATTCATTTTCAGGCATTTCTGGTTCACATATATCCATTTGTATACATTCAGTATCTTGTTCAATGACGCCGAACTTCATATATAAACGCTTGGATATATGCTATTAGATGTATTTACATGTGTTTATTACAAGATcatgcatatttatataagtatgTGCCTGGCTCCCTGTATGCCATTTGCAGAGCACATCGAATATCGATGGCCTCCGTGAATGGCGTATGAGGAGCCATGCATATGTCATGTATTATATCCATGCTTTTTGCAGGGGGTGTTTTCCTGTTTTTTCCAAAGACTAAGAACACAAAGGGCAGCATTGTAATTTTGTAAGATGCAGGTTCAGCCTTGTATTTAAGGTACAGTTAATCTCATCTTCGTCT\n",
      "......................................................(((......((...........))....................................................((..........)).........................................................(((.(((.........))).......................................(((.........)))......................((..((.....))..))((......)).............................)))..............................)))................................... (35.5)\n",
      ">AMWY02022832.1:1734-2156(-)\n",
      "tgcatgtaatattattatgcagTAAGTATAATTTGTTAGCGTTTGGTTTGTTAGATCTGTGTTGTATGAAATGTTTACGCCGATCTGTGTGGTGTAGAGTTGAAGATTTTGCTGCTAGAAGAATCGTAGATCTTGATTaacttgttttttgtttttggttttttctatttgaaaaagtaaaacgAGAAGGGTGAAGTCACTGGAGGCAGCGGTTCATCGATCTCTTCCTGGCAATTTTGTTGtgaaaataacacaaatacaCGAATCGATCGATAAACCTCTGCATCCAGCGCTTACTCTCCCtttcttctcaaatatttcgcctcttttgcttattttcttttattttttattttttatgttgtgttTGTGTGCTAAGAAATATTAGATTTGAAGTTTCTGTAATTAAGAGGAGaaatatt\n",
      "..........................................................................................................................................................................................................................................................................................((.....))................................................................................................................................... (26.7)\n",
      ">AMWY02099822.1:1487-1909(-)\n",
      "tttttttttttttcttctcttggtAAATTTTTGCGTGGTGTGNTTTTTTCCTATATATGGAAAGCATTATCTTCTGCTTTTTATNcattattcattatattttcttcttctttcttctctcattCTTGGAACATAGAAATTGACAGAAGAGAGTGAGCACACAAAGGGCACTTGTATGACTATACTTTTNGCCTTTGCGTGCTCACTTCTCTTTCTGTCAGCTTCCAGTGCCGGAATCTGGTCTTTCTCCGACCAGTTCTCCGCCTGTGTTTTGTTCCAAATTCATCTCTCAATACTTTCCCTTTTCCCTCCCTCTCTTTATCGCCTTCGTCGGAGTTGAAGAAGGAAGACAACACAACACACAGTTGACAACTACTCTAAGTTTGTGTGTAttctattttcctttctttctgtCTTTACtc\n",
      ".................................................((.......))..........................................................................................................(((.(......)............((....))......................((.......))(((...(.((.(.......).)).)....)))............................................................)))................................................................................................ (34.6)\n",
      ">AMWY02082313.1:5813-6235(+)\n",
      "GggtgtttttttttagtttcagaTCTGGGTAATTAGCTAGTCTTAATGACAGGAAATTAGTGTGAGTTAATGGCTAATAATAACATGTAATCatcaaagaaatttagaaaaaatatgaagaggAAAAACAAGAGAGCTACTGACAGAAGAGAGTGAGCACACGCAGGCAATTGTATGAGGAAATATCTTTGCGGGTGCGTGCTCACTTCTCTTTCTGTCAGCTTCATTTTCGTAAGTGTTTCCTCACaacagcaaaaacaaaaatacttcCAGAAAAAAGCTTACAGTAATTTCCTCTgatatctctctttctctagtACTTTCTTCCTTCCAGATGTCTCTTTACATCTCCCAGAAACAGCAGGCAGTACATAACATGATCATCAAAATCTCTTGgttattctcttttcttccaaaaccCT\n",
      "(((.......................(((............(.....)............................................................................................................((....))..........................((....))........................................................................................................................................................))).....................................(....)......................))). (27.2)\n",
      ">AMWY02072689.1:0-378(+)\n",
      "GTTTTTTCCTATATATGGAAAGCATTATCTTCTgctttttatcattattcattatattttcttcttctttcttctctcattCTTGGAACATAGAAATTGACAGAAGAGAGTGAGCACACAAAGGGCACTTGTATGACTATACTTTTGCCTTTGCGTGCTCACTTCTCTTTCTGTCAGCTTCCAGTGCCGGAATCTGGTCTTTCTCCGACCAGTTCTCCGCCTGTGTTTTGTTCCAAATTCATCTCTCAATACTTTCCCTTTTCCCTCCCTCTCTTTATCGCCTTCGTCGGAGTTGAAGAAGGAAGACAACACAACACACAGTTGACAACTACTCTAAGTTTGTGTGTAttctattttcctttctttctgtCTTTACtc\n",
      ".......((.......)).........................................................................................................(((.(......)...........((....))......................((.......))(((...(.((.(.......).)).)....)))............................................................)))................................................................................................ (30.3)\n"
     ]
    },
    {
     "name": "stdout",
     "output_type": "stream",
     "text": [
      ">AMWY02001968.1:1243-1665(+)\n",
      "CTACCTAAACTCCATGCATGGCTCGTGCTAGCTTTctggtttcttcttttttctttaagggcttattataaatttgcaGCAAGCCTAAACCCTTCTTAATTTCAAGATCTCTCTTcatttgattctttctttctttttctagggattcttcttcttcttcttcttcttgtttgctGCTGGTGTATGTTGGTTTGAGAGATTGAAGCTGCCAGCATGATCTGGTAATATGGAAcctaatattatacatatacatatctatatctatatatatagatagatagttttagatttactctttaattatattaattcctCCACCTATAGTTTTAGAGttactctttaattatattaattcttccACCTCTTTGTATAGATAGATAGAAACATATAGAAGGTCTTAGATTTCCTTTGCTTTTAGATCC\n",
      "...((....(.((..((...((....))...............................(((....................)))..........................................................................................)).)).)......))........................................................................................................................................................................................................................................ (27.0)\n",
      ">AMWY02039981.1:1214-1636(-)\n",
      "atttatgttttctattttataattaaaaaataaaaaaaaaataataaggtaatctctctctctttttcttttatattcatatgaGGTCTCCCTTAAACCACCCACTTTCCTCTATAATAGAGAGAAAacgaagagagaaagaaagagagaagaaaaagtctCTTTGGGTTTAATTGTTTCTACTGCTAGTAGAGGAAGCATCCAAAGGGATCGCATTGATCCTGAGCAAGCTTAATTTccatacttaaattttttttggatcaTGCTATCCCTTTGGATTCCTCCTTTGCTGGctcataattatgtataattattccAACATATTCATGTCATGATATGCCTGCatactcatcatcatcatcatcatcttcttcttcttcttcataacTCGGCAACAAGTTTCCGATGAGTATTTGCAGCCA\n",
      ".....................................................................................................................................................................................................((..((...(((...((......((...................................)).....))...)))...))...........((.(((............................................))).)).............................................(((..........)))..........))..... (27.5)\n",
      ">AMWY02071394.1:544-966(+)\n",
      "CCGGggaatcaaatgaaaaatgtacCAACAGTACTTCTGTAGTATACCGGCAAGTCATCCTTGGCTGCGTCCAACTCTCTACCTCTTCAGGCAAGACTCTTTTGACTAAGCTGCAGGCAGCCGTTTAATATCGATCGTATCTAGCTAGGTACTGAAAATTTTGCCATTCCAGTCTGACACGAGAAAGAGAGAGCCCCATGTAGCCAAGGACAAACTTGCCGGCAATTAAATAAGGAAACATTCAATGATTCCGGCCGGCAAGTCATCCTCGGCTGCACCCCACTCTCTACCTCATCGTGCAAGGCTCCAATGGCAGTACTACTTCTTTTGTATATATGGATGTTTTCTTGTTATGCTGTTGTAACTTGTATAAGCTACTACATATTATTGTAGTGcgaatcatatatatatatatatgtgtg\n",
      "..((((...(....)................................((((...........((..(.(.......).)..))..........................((.....)).))))...............................................................................(((..((.....(..((((((..............................))))))..)....))..)))....))))............................................................................................................................................. (42.3)\n",
      ">AMWY02097334.1:771-1193(-)\n",
      "CCCTCCGCTTTCTTTCTTGTCTTCTATAAATCAAACCCCCCACCCTCAACCCCCAACCCNAACTCCTCTTCCTGTATTTTCACATTCTCCCTCCATACCCaaacctagctagctagcttgcttgctcttcttcttctttcttcttcatattttaaCTTCCAAGCCGGTCCAAGTTTTCTTGATTAGTGCAGGTGGAGAGTTCCAAAGGGATCGCATTGATCTGATggcataaaattatacatacatatatgctTCTTATTCGATTGATTCAGTTCGATTTTATTGAtcgattttgtttcttattagaTCATGCGATCCCTTAGGAATTTCCCATCAATAGCTCTAAACTTACTCCTGCCGCTGCTGgtaagtaaatataattatatactattattaCAGATATATATTGACtaattattctt\n",
      ".......................................................................................................((..((..((..((......))............................................................................((...(((..(((......(....)................................................((...........))......................)))..)))...))...................................)).)).))....................................................... (35.1)\n"
     ]
    }
   ],
   "source": [
    "!mxfold2 predict ./extended.txt > secondary_structure/mxfold2_result.txt"
   ]
  },
  {
   "cell_type": "code",
   "execution_count": 143,
   "metadata": {
    "ExecuteTime": {
     "end_time": "2021-10-31T17:46:46.009981Z",
     "start_time": "2021-10-31T17:46:45.980600Z"
    },
    "hidden": true
   },
   "outputs": [
    {
     "data": {
      "text/html": [
       "<div>\n",
       "<style scoped>\n",
       "    .dataframe tbody tr th:only-of-type {\n",
       "        vertical-align: middle;\n",
       "    }\n",
       "\n",
       "    .dataframe tbody tr th {\n",
       "        vertical-align: top;\n",
       "    }\n",
       "\n",
       "    .dataframe thead th {\n",
       "        text-align: right;\n",
       "    }\n",
       "</style>\n",
       "<table border=\"1\" class=\"dataframe\">\n",
       "  <thead>\n",
       "    <tr style=\"text-align: right;\">\n",
       "      <th></th>\n",
       "      <th>tag</th>\n",
       "      <th>data</th>\n",
       "      <th>bracket</th>\n",
       "    </tr>\n",
       "  </thead>\n",
       "  <tbody>\n",
       "    <tr>\n",
       "      <th>0</th>\n",
       "      <td>AMWY02059828.1:2832-3256(+)</td>\n",
       "      <td>AAAGAATCAGCAATGGAAAAATAACCGGTTCTTAATTCAGcataac...</td>\n",
       "      <td>........................((((...........((........</td>\n",
       "    </tr>\n",
       "    <tr>\n",
       "      <th>1</th>\n",
       "      <td>AMWY02004761.1:1853-2277(+)</td>\n",
       "      <td>actaataatgCATGGCCATATATATCAAATCTACCATATgccattt...</td>\n",
       "      <td>.................................................</td>\n",
       "    </tr>\n",
       "  </tbody>\n",
       "</table>\n",
       "</div>"
      ],
      "text/plain": [
       "                           tag  \\\n",
       "0  AMWY02059828.1:2832-3256(+)   \n",
       "1  AMWY02004761.1:1853-2277(+)   \n",
       "\n",
       "                                                data  \\\n",
       "0  AAAGAATCAGCAATGGAAAAATAACCGGTTCTTAATTCAGcataac...   \n",
       "1  actaataatgCATGGCCATATATATCAAATCTACCATATgccattt...   \n",
       "\n",
       "                                             bracket  \n",
       "0  ........................((((...........((........  \n",
       "1  .................................................  "
      ]
     },
     "execution_count": 143,
     "metadata": {},
     "output_type": "execute_result"
    }
   ],
   "source": [
    "df = fasta_to_df('secondary_structure/mxfold2_result.txt')\n",
    "df = df.apply(lambda row: bracket_row(row) , axis=1)\n",
    "df.head(2)"
   ]
  },
  {
   "cell_type": "code",
   "execution_count": 145,
   "metadata": {
    "ExecuteTime": {
     "end_time": "2021-10-31T17:48:37.583164Z",
     "start_time": "2021-10-31T17:48:37.308743Z"
    },
    "hidden": true
   },
   "outputs": [],
   "source": [
    "base = \"./secondary_structure/mxfold2/\"\n",
    "!rm -r {base}\n",
    "!mkdir -p {base}\n",
    "for index, row in df.iterrows():    \n",
    "    if(not os.path.exists(base + reformat(row['tag']))):\n",
    "        os.makedirs(base + reformat(row['tag']))        \n",
    "    tag = reformat(row['tag'])\n",
    "    with open(base + f\"{tag}/{tag}.ct\",'w') as file:\n",
    "        bracket = row['bracket'].split(' ')[0]\n",
    "        deltaG = row['bracket'].split(' ')[1]\n",
    "        ct = bracket_to_ct(row['tag'], row['data'], bracket, deltaG)\n",
    "        file.write(ct)    "
   ]
  },
  {
   "cell_type": "markdown",
   "metadata": {
    "heading_collapsed": true,
    "hidden": true
   },
   "source": [
    "## SPOT-RNA"
   ]
  },
  {
   "cell_type": "code",
   "execution_count": 8,
   "metadata": {
    "ExecuteTime": {
     "end_time": "2021-11-02T17:07:56.140509Z",
     "start_time": "2021-11-02T17:07:56.137052Z"
    },
    "hidden": true,
    "scrolled": true
   },
   "outputs": [],
   "source": [
    "#!git clone https://github.com/jaswindersingh2/SPOT-RNA.git\n",
    "#%cd SPOT-RNA\n",
    "#!wget 'https://www.dropbox.com/s/dsrcf460nbjqpxa/SPOT-RNA-models.tar.gz' || wget -O SPOT-RNA-models.tar.gz 'https://app.nihaocloud.com/f/fbf3315a91d542c0bdc2/?dl=1'\n",
    "#!tar -xvzf SPOT-RNA-models.tar.gz && rm SPOT-RNA-models.tar.gz\n",
    "#!sudo apt-get install python3.6\n",
    "#!python3.6 -m pip install tensorflow==1.14.0 # or for gpu: tensorflow-gpu==1.14.0\n",
    "#! python3.6 -m pip install -r requirements.txt"
   ]
  },
  {
   "cell_type": "code",
   "execution_count": 23,
   "metadata": {
    "ExecuteTime": {
     "end_time": "2021-11-04T15:54:27.343924Z",
     "start_time": "2021-11-04T15:54:27.088380Z"
    },
    "hidden": true
   },
   "outputs": [],
   "source": [
    "base = \"./secondary_structure/spot_rna/\"\n",
    "!rm -r {base}\n",
    "!mkdir -p {base}"
   ]
  },
  {
   "cell_type": "code",
   "execution_count": 29,
   "metadata": {
    "ExecuteTime": {
     "end_time": "2021-11-04T16:06:02.696464Z",
     "start_time": "2021-11-04T16:02:34.125112Z"
    },
    "hidden": true,
    "scrolled": true
   },
   "outputs": [
    {
     "name": "stdout",
     "output_type": "stream",
     "text": [
      ">> Opening FASTA file...\n",
      ">> Converting FASTA file from multiline to single line and writing to file.\n",
      ">> Done!\n",
      "\n",
      "Preparing tfr records file for SPOT-RNA:\n",
      "100%|█████████████████████████████████████████████| 1/1 [00:04<00:00,  4.21s/it]\n",
      "\n",
      "Predicting for SPOT-RNA model 0\n",
      "100%|█████████████████████████████████████████████| 1/1 [00:05<00:00,  5.23s/it]\n",
      "\n",
      "Predicting for SPOT-RNA model 1\n",
      "100%|█████████████████████████████████████████████| 1/1 [00:09<00:00,  9.51s/it]\n",
      "\n",
      "Predicting for SPOT-RNA model 2\n",
      "100%|█████████████████████████████████████████████| 1/1 [00:13<00:00, 13.10s/it]\n",
      "\n",
      "Predicting for SPOT-RNA model 3\n",
      "100%|█████████████████████████████████████████████| 1/1 [00:16<00:00, 16.44s/it]\n",
      "\n",
      "Predicting for SPOT-RNA model 4\n",
      "100%|█████████████████████████████████████████████| 1/1 [00:18<00:00, 18.18s/it]\n",
      "\n",
      "Post Processing and Saving Output\n",
      "\n",
      "Finished!\n",
      "\n",
      "Processsing Time 203.32813096046448 seconds\n"
     ]
    }
   ],
   "source": [
    "!python3.6 ./SPOT-RNA/SPOT-RNA.py  --inputs ./extended.txt  --outputs '{base}'  --cpu 32 --plots True"
   ]
  },
  {
   "cell_type": "code",
   "execution_count": 48,
   "metadata": {
    "ExecuteTime": {
     "end_time": "2021-11-04T16:28:01.500658Z",
     "start_time": "2021-11-04T16:28:01.122310Z"
    },
    "hidden": true
   },
   "outputs": [
    {
     "name": "stdout",
     "output_type": "stream",
     "text": [
      "rm: cannot remove './RNA_secondary_structure/spot_rna//*.bpseq': No such file or directory\n",
      "rm: cannot remove './RNA_secondary_structure/spot_rna//*.prob': No such file or directory\n",
      "\u001b[1;35mWARNING: \u001b[0m\u001b[1mbases 193 and 343 (GA) can't pair!\u001b[0m\n",
      "\u001b[1;35mWARNING: \u001b[0m\u001b[1mbases 194 and 342 (GG) can't pair!\u001b[0m\n",
      "\u001b[1;35mWARNING: \u001b[0m\u001b[1mbases 195 and 341 (UU) can't pair!\u001b[0m\n",
      "\u001b[1;35mWARNING: \u001b[0m\u001b[1mbases 196 and 340 (CC) can't pair!\u001b[0m\n",
      "\u001b[1;35mWARNING: \u001b[0m\u001b[1mbases 198 and 334 (CC) can't pair!\u001b[0m\n",
      "\u001b[1;35mWARNING: \u001b[0m\u001b[1mbases 201 and 333 (AC) can't pair!\u001b[0m\n",
      "\u001b[1;35mWARNING: \u001b[0m\u001b[1mbases 203 and 331 (UC) can't pair!\u001b[0m\n",
      "\u001b[1;35mWARNING: \u001b[0m\u001b[1mbases 204 and 330 (CC) can't pair!\u001b[0m\n",
      "\u001b[1;35mWARNING: \u001b[0m\u001b[1mbases 205 and 329 (AA) can't pair!\u001b[0m\n",
      "\u001b[1;35mWARNING: \u001b[0m\u001b[1mbases 206 and 328 (GG) can't pair!\u001b[0m\n",
      "\u001b[1;35mWARNING: \u001b[0m\u001b[1mbases 212 and 316 (GA) can't pair!\u001b[0m\n",
      "\u001b[1;35mWARNING: \u001b[0m\u001b[1mbases 213 and 315 (CC) can't pair!\u001b[0m\n",
      "\u001b[1;35mWARNING: \u001b[0m\u001b[1mbases 214 and 314 (AC) can't pair!\u001b[0m\n",
      "\u001b[1;35mWARNING: \u001b[0m\u001b[1mbases 215 and 313 (AA) can't pair!\u001b[0m\n",
      "\u001b[1;35mWARNING: \u001b[0m\u001b[1mbases 217 and 311 (GG) can't pair!\u001b[0m\n",
      "\u001b[1;35mWARNING: \u001b[0m\u001b[1mbases 218 and 305 (CC) can't pair!\u001b[0m\n",
      "\u001b[36mExternal loop\u001b[0m                           : \u001b[32m -371\u001b[0m\n",
      "\u001b[36mInterior loop\u001b[0m (  3, 32) \u001b[1mAU\u001b[0m; (  4, 31) \u001b[1mGC\u001b[0m: \u001b[32m -256\u001b[0m\n",
      "\u001b[36mInterior loop\u001b[0m (  4, 31) \u001b[1mGC\u001b[0m; (  5, 30) \u001b[1mAU\u001b[0m: \u001b[32m -294\u001b[0m\n",
      "\u001b[36mInterior loop\u001b[0m (  5, 30) \u001b[1mAU\u001b[0m; (  6, 29) \u001b[1mAU\u001b[0m: \u001b[32m -122\u001b[0m\n",
      "\u001b[36mHairpin  loop\u001b[0m (  6, 29) \u001b[1mAU\u001b[0m              : \u001b[32m  716\u001b[0m\n",
      "\u001b[36mInterior loop\u001b[0m ( 38, 71) \u001b[1mCG\u001b[0m; ( 39, 70) \u001b[1mAU\u001b[0m: \u001b[32m -255\u001b[0m\n",
      "\u001b[36mInterior loop\u001b[0m ( 39, 70) \u001b[1mAU\u001b[0m; ( 40, 69) \u001b[1mGC\u001b[0m: \u001b[32m -256\u001b[0m\n",
      "\u001b[36mInterior loop\u001b[0m ( 40, 69) \u001b[1mGC\u001b[0m; ( 41, 68) \u001b[1mCG\u001b[0m: \u001b[32m -403\u001b[0m\n",
      "\u001b[36mInterior loop\u001b[0m ( 41, 68) \u001b[1mCG\u001b[0m; ( 49, 64) \u001b[1mAU\u001b[0m: \u001b[32m  618\u001b[0m\n",
      "\u001b[36mInterior loop\u001b[0m ( 49, 64) \u001b[1mAU\u001b[0m; ( 50, 63) \u001b[1mUA\u001b[0m: \u001b[32m -155\u001b[0m\n",
      "\u001b[36mInterior loop\u001b[0m ( 50, 63) \u001b[1mUA\u001b[0m; ( 51, 62) \u001b[1mUA\u001b[0m: \u001b[32m -122\u001b[0m\n",
      "\u001b[36mInterior loop\u001b[0m ( 51, 62) \u001b[1mUA\u001b[0m; ( 52, 61) \u001b[1mAU\u001b[0m: \u001b[32m -165\u001b[0m\n",
      "\u001b[36mHairpin  loop\u001b[0m ( 52, 61) \u001b[1mAU\u001b[0m              : \u001b[32m  502\u001b[0m\n",
      "\u001b[36mInterior loop\u001b[0m ( 87,101) \u001b[1mUA\u001b[0m; ( 88,100) \u001b[1mCG\u001b[0m: \u001b[32m -294\u001b[0m\n",
      "\u001b[36mInterior loop\u001b[0m ( 88,100) \u001b[1mCG\u001b[0m; ( 89, 99) \u001b[1mUA\u001b[0m: \u001b[32m -256\u001b[0m\n",
      "\u001b[36mInterior loop\u001b[0m ( 89, 99) \u001b[1mUA\u001b[0m; ( 90, 98) \u001b[1mAU\u001b[0m: \u001b[32m -165\u001b[0m\n",
      "\u001b[36mHairpin  loop\u001b[0m ( 90, 98) \u001b[1mAU\u001b[0m              : \u001b[32m  573\u001b[0m\n",
      "\u001b[36mInterior loop\u001b[0m (151,174) \u001b[1mGC\u001b[0m; (152,173) \u001b[1mAU\u001b[0m: \u001b[32m -294\u001b[0m\n",
      "\u001b[36mInterior loop\u001b[0m (152,173) \u001b[1mAU\u001b[0m; (153,172) \u001b[1mUA\u001b[0m: \u001b[32m -155\u001b[0m\n",
      "\u001b[36mInterior loop\u001b[0m (153,172) \u001b[1mUA\u001b[0m; (154,171) \u001b[1mCG\u001b[0m: \u001b[32m -294\u001b[0m\n",
      "\u001b[36mInterior loop\u001b[0m (154,171) \u001b[1mCG\u001b[0m; (155,170) \u001b[1mUA\u001b[0m: \u001b[32m -256\u001b[0m\n",
      "\u001b[36mHairpin  loop\u001b[0m (155,170) \u001b[1mUA\u001b[0m              : \u001b[32m  505\u001b[0m\n",
      "\u001b[36mInterior loop\u001b[0m (193,343) \u001b[1mGA\u001b[0m; (194,342) \u001b[1mGG\u001b[0m: \u001b[32m  105\u001b[0m\n",
      "\u001b[36mInterior loop\u001b[0m (194,342) \u001b[1mGG\u001b[0m; (195,341) \u001b[1mUU\u001b[0m: \u001b[32m  105\u001b[0m\n",
      "\u001b[36mInterior loop\u001b[0m (195,341) \u001b[1mUU\u001b[0m; (196,340) \u001b[1mCC\u001b[0m: \u001b[32m  105\u001b[0m\n",
      "\u001b[36mInterior loop\u001b[0m (196,340) \u001b[1mCC\u001b[0m; (197,339) \u001b[1mUA\u001b[0m: \u001b[32m  -74\u001b[0m\n",
      "\u001b[36mInterior loop\u001b[0m (197,339) \u001b[1mUA\u001b[0m; (198,334) \u001b[1mCC\u001b[0m: \u001b[32m  513\u001b[0m\n",
      "\u001b[36mInterior loop\u001b[0m (198,334) \u001b[1mCC\u001b[0m; (201,333) \u001b[1mAC\u001b[0m: \u001b[32m  437\u001b[0m\n",
      "\u001b[36mInterior loop\u001b[0m (201,333) \u001b[1mAC\u001b[0m; (202,332) \u001b[1mUG\u001b[0m: \u001b[32m   74\u001b[0m\n",
      "\u001b[36mInterior loop\u001b[0m (202,332) \u001b[1mUG\u001b[0m; (203,331) \u001b[1mUC\u001b[0m: \u001b[32m   10\u001b[0m\n",
      "\u001b[36mInterior loop\u001b[0m (203,331) \u001b[1mUC\u001b[0m; (204,330) \u001b[1mCC\u001b[0m: \u001b[32m  105\u001b[0m\n",
      "\u001b[36mInterior loop\u001b[0m (204,330) \u001b[1mCC\u001b[0m; (205,329) \u001b[1mAA\u001b[0m: \u001b[32m  105\u001b[0m\n",
      "\u001b[36mInterior loop\u001b[0m (205,329) \u001b[1mAA\u001b[0m; (206,328) \u001b[1mGG\u001b[0m: \u001b[32m  105\u001b[0m\n",
      "\u001b[36mInterior loop\u001b[0m (206,328) \u001b[1mGG\u001b[0m; (207,327) \u001b[1mUA\u001b[0m: \u001b[32m  -74\u001b[0m\n",
      "\u001b[36mInterior loop\u001b[0m (207,327) \u001b[1mUA\u001b[0m; (208,326) \u001b[1mUG\u001b[0m: \u001b[32m -193\u001b[0m\n",
      "\u001b[36mInterior loop\u001b[0m (208,326) \u001b[1mUG\u001b[0m; (209,324) \u001b[1mGU\u001b[0m: \u001b[32m  395\u001b[0m\n",
      "\u001b[36mInterior loop\u001b[0m (209,324) \u001b[1mGU\u001b[0m; (210,323) \u001b[1mAU\u001b[0m: \u001b[32m -193\u001b[0m\n",
      "\u001b[36mInterior loop\u001b[0m (210,323) \u001b[1mAU\u001b[0m; (211,322) \u001b[1mUA\u001b[0m: \u001b[32m -155\u001b[0m\n",
      "\u001b[36mInterior loop\u001b[0m (211,322) \u001b[1mUA\u001b[0m; (212,316) \u001b[1mGA\u001b[0m: \u001b[32m  550\u001b[0m\n",
      "\u001b[36mInterior loop\u001b[0m (212,316) \u001b[1mGA\u001b[0m; (213,315) \u001b[1mCC\u001b[0m: \u001b[32m  105\u001b[0m\n",
      "\u001b[36mInterior loop\u001b[0m (213,315) \u001b[1mCC\u001b[0m; (214,314) \u001b[1mAC\u001b[0m: \u001b[32m  105\u001b[0m\n",
      "\u001b[36mInterior loop\u001b[0m (214,314) \u001b[1mAC\u001b[0m; (215,313) \u001b[1mAA\u001b[0m: \u001b[32m  105\u001b[0m\n",
      "\u001b[36mInterior loop\u001b[0m (215,313) \u001b[1mAA\u001b[0m; (216,312) \u001b[1mGC\u001b[0m: \u001b[32m -163\u001b[0m\n",
      "\u001b[36mInterior loop\u001b[0m (216,312) \u001b[1mGC\u001b[0m; (217,311) \u001b[1mGG\u001b[0m: \u001b[32m -187\u001b[0m\n",
      "\u001b[36mInterior loop\u001b[0m (217,311) \u001b[1mGG\u001b[0m; (218,305) \u001b[1mCC\u001b[0m: \u001b[32m  550\u001b[0m\n",
      "\u001b[36mInterior loop\u001b[0m (218,305) \u001b[1mCC\u001b[0m; (219,303) \u001b[1mGC\u001b[0m: \u001b[32m  254\u001b[0m\n",
      "\u001b[36mInterior loop\u001b[0m (219,303) \u001b[1mGC\u001b[0m; (221,302) \u001b[1mGU\u001b[0m: \u001b[32m  230\u001b[0m\n",
      "\u001b[36mInterior loop\u001b[0m (222,235) \u001b[1mAU\u001b[0m; (226,234) \u001b[1mAU\u001b[0m: \u001b[32m  475\u001b[0m\n",
      "\u001b[36mHairpin  loop\u001b[0m (226,234) \u001b[1mAU\u001b[0m              : \u001b[32m  558\u001b[0m\n",
      "\u001b[36mInterior loop\u001b[0m (268,275) \u001b[1mCG\u001b[0m; (269,274) \u001b[1mCG\u001b[0m: \u001b[32m -385\u001b[0m\n",
      "\u001b[36mHairpin  loop\u001b[0m (269,274) \u001b[1mCG\u001b[0m              : \u001b[32m  383\u001b[0m\n",
      "\u001b[36mInterior loop\u001b[0m (276,289) \u001b[1mCG\u001b[0m; (277,288) \u001b[1mUA\u001b[0m: \u001b[32m -256\u001b[0m\n",
      "\u001b[36mHairpin  loop\u001b[0m (277,288) \u001b[1mUA\u001b[0m              : \u001b[32m  619\u001b[0m\n",
      "\u001b[36mMulti    loop\u001b[0m (221,302) \u001b[1mGU\u001b[0m              : \u001b[32m  331\u001b[0m\n",
      "\u001b[36mInterior loop\u001b[0m (388,401) \u001b[1mCG\u001b[0m; (389,400) \u001b[1mUA\u001b[0m: \u001b[32m -256\u001b[0m\n",
      "\u001b[36mInterior loop\u001b[0m (389,400) \u001b[1mUA\u001b[0m; (390,399) \u001b[1mUA\u001b[0m: \u001b[32m -122\u001b[0m\n",
      "\u001b[36mInterior loop\u001b[0m (390,399) \u001b[1mUA\u001b[0m; (391,398) \u001b[1mCG\u001b[0m: \u001b[32m -294\u001b[0m\n",
      "\u001b[36mHairpin  loop\u001b[0m (391,398) \u001b[1mCG\u001b[0m              : \u001b[32m  200\u001b[0m\n",
      "AAAGAAUCAGCAAUGGAAAAAUAACCGGUUCUUAAUUCAGCAUAACAAAUUAUUCAAUUAUAAUAUAGCUGUAAAAGAAAUCUAAGUCUAUUUGAUAUAGAUCGGAAUUUACGCAAAUUAAAAAUUUCCAAAUAAGCAGUUCCGACCUGAGAUCUGAACCGAAAACGCAAGAUCCAUCUAAACUCUCACCUCGGUCUCCGAUUCAGUUGAUGCAAGGCGGGAUCCAAUUCGCCUUUUCAUUCAAUUACAUUCACCAAUAACAGCUCGCCAUCUGGCUUUUAAUAAAAAGUUGCCAAUCGGUUCCCGACCUGCACCAAGCGAAUUAGAGACCGCCGGUAACUGAAUCAUUCUACAUUAAUCCCCGACUCCUCCUUUUACACAUAGCAACUUCGCCCAAGAAGACUAAAAAGAAAAGGAAGCUAAC\n",
      "..((((......................)))).....((((.......((((........))))...))))...............((((.......)))).................................................(((((..............)))))..................((((((..(((((((((((((((((((.((...(.......))................................((....))((..........))............)).).....)))))).....))).)))))))))....)))))............................................((((......)))).......................\u001b[32m ( 29.73)\u001b[0m\n"
     ]
    }
   ],
   "source": [
    "!rm {base}/*.bpseq\n",
    "!rm {base}/*.prob\n",
    "for file in glob.glob(f\"{base}*.ct\"):    \n",
    "    f = file[len(base):-3] # .ct        \n",
    "    f = reformat(f)        \n",
    "    if(not os.path.exists(base + f)):\n",
    "        os.makedirs(base + f)  \n",
    "    header = reformatCT(file).split(\"\\n\")[0]    \n",
    "    with open(f\"{base}{f}.dot\", 'w') as stream:        \n",
    "        stream.write(ct2dot_bracket(file))\n",
    "    !RNAeval \"{base}{f}.dot\" -T 20 -v \n",
    "    #shutil.move(file, f\"{base}{f}/{f}.ct\")    "
   ]
  },
  {
   "cell_type": "code",
   "execution_count": 68,
   "metadata": {
    "ExecuteTime": {
     "end_time": "2021-11-04T17:28:02.481342Z",
     "start_time": "2021-11-04T17:28:02.464531Z"
    },
    "hidden": true
   },
   "outputs": [
    {
     "name": "stdout",
     "output_type": "stream",
     "text": [
      "   424 dG =       0.0 AMWY02059828.1:2832-3256(+)\n",
      "     1 A      0      2      0       1\n",
      "     2 A      1      3      0       2\n",
      "     3 A      2      4     32       3\n",
      "     4 G      3      5     31       4\n",
      "     5 A      4      6     30       5\n",
      "     6 A      5      7     29       6\n",
      "     7 U      6      8      0       7\n",
      "     8 C      7      9      0       8\n",
      "     9 A      8     10      0       9\n",
      "    10 G      9     11      0      10\n",
      "    11 C     10     12      0      11\n",
      "    12 A     11     13      0      12\n",
      "    13 A     12     14      0      13\n",
      "    14 U     13     15      0      14\n",
      "    15 G     14     16      0      15\n",
      "    16 G     15     17      0      16\n",
      "    17 A     16     18      0      17\n",
      "    18 A     17     19      0      18\n",
      "    19 A     18     20      0      19\n",
      "    20 A     19     21      0      20\n",
      "    21 A     20     22      0      21\n",
      "    22 U     21     23      0      22\n",
      "    23 A     22     24      0      23\n",
      "    24 A     23     25      0      24\n",
      "    25 C     24     26      0      25\n",
      "    26 C     25     27      0      26\n",
      "    27 G     26     28      0      27\n",
      "    28 G     27     29      0      28\n",
      "    29 U     28     30      6      29\n",
      "    30 U     29     31      5      30\n",
      "    31 C     30     32      4      31\n",
      "    32 U     31     33      3      32\n",
      "    33 U     32     34      0      33\n",
      "    34 A     33     35      0      34\n",
      "    35 A     34     36      0      35\n",
      "    36 U     35     37      0      36\n",
      "    37 U     36     38      0      37\n",
      "    38 C     37     39     71      38\n",
      "    39 A     38     40     70      39\n",
      "    40 G     39     41     69      40\n",
      "    41 C     40     42     68      41\n",
      "    42 A     41     43      0      42\n",
      "    43 U     42     44      0      43\n",
      "    44 A     43     45      0      44\n",
      "    45 A     44     46      0      45\n",
      "    46 C     45     47      0      46\n",
      "    47 A     46     48      0      47\n",
      "    48 A     47     49      0      48\n",
      "    49 A     48     50     64      49\n",
      "    50 U     49     51     63      50\n",
      "    51 U     50     52     62      51\n",
      "    52 A     51     53     61      52\n",
      "    53 U     52     54      0      53\n",
      "    54 U     53     55      0      54\n",
      "    55 C     54     56      0      55\n",
      "    56 A     55     57      0      56\n",
      "    57 A     56     58      0      57\n",
      "    58 U     57     59      0      58\n",
      "    59 U     58     60      0      59\n",
      "    60 A     59     61      0      60\n",
      "    61 U     60     62     52      61\n",
      "    62 A     61     63     51      62\n",
      "    63 A     62     64     50      63\n",
      "    64 U     63     65     49      64\n",
      "    65 A     64     66      0      65\n",
      "    66 U     65     67      0      66\n",
      "    67 A     66     68      0      67\n",
      "    68 G     67     69     41      68\n",
      "    69 C     68     70     40      69\n",
      "    70 U     69     71     39      70\n",
      "    71 G     70     72     38      71\n",
      "    72 U     71     73      0      72\n",
      "    73 A     72     74      0      73\n",
      "    74 A     73     75      0      74\n",
      "    75 A     74     76      0      75\n",
      "    76 A     75     77      0      76\n",
      "    77 G     76     78      0      77\n",
      "    78 A     77     79      0      78\n",
      "    79 A     78     80      0      79\n",
      "    80 A     79     81      0      80\n",
      "    81 U     80     82      0      81\n",
      "    82 C     81     83      0      82\n",
      "    83 U     82     84      0      83\n",
      "    84 A     83     85      0      84\n",
      "    85 A     84     86      0      85\n",
      "    86 G     85     87      0      86\n",
      "    87 U     86     88    101      87\n",
      "    88 C     87     89    100      88\n",
      "    89 U     88     90     99      89\n",
      "    90 A     89     91     98      90\n",
      "    91 U     90     92      0      91\n",
      "    92 U     91     93      0      92\n",
      "    93 U     92     94      0      93\n",
      "    94 G     93     95      0      94\n",
      "    95 A     94     96      0      95\n",
      "    96 U     95     97      0      96\n",
      "    97 A     96     98      0      97\n",
      "    98 U     97     99     90      98\n",
      "    99 A     98    100     89      99\n",
      "   100 G     99    101     88     100\n",
      "   101 A    100    102     87     101\n",
      "   102 U    101    103      0     102\n",
      "   103 C    102    104      0     103\n",
      "   104 G    103    105      0     104\n",
      "   105 G    104    106      0     105\n",
      "   106 A    105    107      0     106\n",
      "   107 A    106    108      0     107\n",
      "   108 U    107    109      0     108\n",
      "   109 U    108    110      0     109\n",
      "   110 U    109    111      0     110\n",
      "   111 A    110    112      0     111\n",
      "   112 C    111    113      0     112\n",
      "   113 G    112    114      0     113\n",
      "   114 C    113    115      0     114\n",
      "   115 A    114    116      0     115\n",
      "   116 A    115    117      0     116\n",
      "   117 A    116    118      0     117\n",
      "   118 U    117    119      0     118\n",
      "   119 U    118    120      0     119\n",
      "   120 A    119    121      0     120\n",
      "   121 A    120    122      0     121\n",
      "   122 A    121    123      0     122\n",
      "   123 A    122    124      0     123\n",
      "   124 A    123    125      0     124\n",
      "   125 U    124    126      0     125\n",
      "   126 U    125    127      0     126\n",
      "   127 U    126    128      0     127\n",
      "   128 C    127    129      0     128\n",
      "   129 C    128    130      0     129\n",
      "   130 A    129    131      0     130\n",
      "   131 A    130    132      0     131\n",
      "   132 A    131    133      0     132\n",
      "   133 U    132    134      0     133\n",
      "   134 A    133    135      0     134\n",
      "   135 A    134    136      0     135\n",
      "   136 G    135    137      0     136\n",
      "   137 C    136    138      0     137\n",
      "   138 A    137    139      0     138\n",
      "   139 G    138    140      0     139\n",
      "   140 U    139    141      0     140\n",
      "   141 U    140    142      0     141\n",
      "   142 C    141    143      0     142\n",
      "   143 C    142    144      0     143\n",
      "   144 G    143    145      0     144\n",
      "   145 A    144    146      0     145\n",
      "   146 C    145    147      0     146\n",
      "   147 C    146    148      0     147\n",
      "   148 U    147    149      0     148\n",
      "   149 G    148    150      0     149\n",
      "   150 A    149    151      0     150\n",
      "   151 G    150    152    174     151\n",
      "   152 A    151    153    173     152\n",
      "   153 U    152    154    172     153\n",
      "   154 C    153    155    171     154\n",
      "   155 U    154    156    170     155\n",
      "   156 G    155    157      0     156\n",
      "   157 A    156    158      0     157\n",
      "   158 A    157    159      0     158\n",
      "   159 C    158    160      0     159\n",
      "   160 C    159    161      0     160\n",
      "   161 G    160    162      0     161\n",
      "   162 A    161    163      0     162\n",
      "   163 A    162    164      0     163\n",
      "   164 A    163    165      0     164\n",
      "   165 A    164    166      0     165\n",
      "   166 C    165    167      0     166\n",
      "   167 G    166    168      0     167\n",
      "   168 C    167    169      0     168\n",
      "   169 A    168    170      0     169\n",
      "   170 A    169    171    155     170\n",
      "   171 G    170    172    154     171\n",
      "   172 A    171    173    153     172\n",
      "   173 U    172    174    152     173\n",
      "   174 C    173    175    151     174\n",
      "   175 C    174    176      0     175\n",
      "   176 A    175    177      0     176\n",
      "   177 U    176    178      0     177\n",
      "   178 C    177    179      0     178\n",
      "   179 U    178    180      0     179\n",
      "   180 A    179    181      0     180\n",
      "   181 A    180    182      0     181\n",
      "   182 A    181    183      0     182\n",
      "   183 C    182    184      0     183\n",
      "   184 U    183    185      0     184\n",
      "   185 C    184    186      0     185\n",
      "   186 U    185    187      0     186\n",
      "   187 C    186    188      0     187\n",
      "   188 A    187    189      0     188\n",
      "   189 C    188    190      0     189\n",
      "   190 C    189    191      0     190\n",
      "   191 U    190    192      0     191\n",
      "   192 C    191    193      0     192\n",
      "   193 G    192    194    343     193\n",
      "   194 G    193    195    342     194\n",
      "   195 U    194    196    341     195\n",
      "   196 C    195    197    340     196\n",
      "   197 U    196    198    339     197\n",
      "   198 C    197    199    334     198\n",
      "   199 C    198    200      0     199\n",
      "   200 G    199    201      0     200\n",
      "   201 A    200    202    333     201\n",
      "   202 U    201    203    332     202\n",
      "   203 U    202    204    331     203\n",
      "   204 C    203    205    330     204\n",
      "   205 A    204    206    329     205\n",
      "   206 G    205    207    328     206\n",
      "   207 U    206    208    327     207\n",
      "   208 U    207    209    326     208\n",
      "   209 G    208    210    324     209\n",
      "   210 A    209    211    323     210\n",
      "   211 U    210    212    322     211\n",
      "   212 G    211    213    316     212\n",
      "   213 C    212    214    315     213\n",
      "   214 A    213    215    314     214\n",
      "   215 A    214    216    313     215\n",
      "   216 G    215    217    312     216\n",
      "   217 G    216    218    311     217\n",
      "   218 C    217    219    305     218\n",
      "   219 G    218    220    303     219\n",
      "   220 G    219    221      0     220\n",
      "   221 G    220    222    302     221\n",
      "   222 A    221    223    235     222\n",
      "   223 U    222    224      0     223\n",
      "   224 C    223    225      0     224\n",
      "   225 C    224    226      0     225\n",
      "   226 A    225    227    234     226\n",
      "   227 A    226    228      0     227\n",
      "   228 U    227    229      0     228\n",
      "   229 U    228    230      0     229\n",
      "   230 C    229    231      0     230\n",
      "   231 G    230    232      0     231\n",
      "   232 C    231    233      0     232\n",
      "   233 C    232    234      0     233\n",
      "   234 U    233    235    226     234\n",
      "   235 U    234    236    222     235\n",
      "   236 U    235    237      0     236\n",
      "   237 U    236    238      0     237\n",
      "   238 C    237    239      0     238\n",
      "   239 A    238    240      0     239\n",
      "   240 U    239    241      0     240\n",
      "   241 U    240    242      0     241\n",
      "   242 C    241    243      0     242\n",
      "   243 A    242    244      0     243\n",
      "   244 A    243    245      0     244\n",
      "   245 U    244    246      0     245\n",
      "   246 U    245    247      0     246\n",
      "   247 A    246    248      0     247\n",
      "   248 C    247    249      0     248\n",
      "   249 A    248    250      0     249\n",
      "   250 U    249    251      0     250\n",
      "   251 U    250    252      0     251\n",
      "   252 C    251    253      0     252\n",
      "   253 A    252    254      0     253\n",
      "   254 C    253    255      0     254\n",
      "   255 C    254    256      0     255\n",
      "   256 A    255    257      0     256\n",
      "   257 A    256    258      0     257\n",
      "   258 U    257    259      0     258\n",
      "   259 A    258    260      0     259\n",
      "   260 A    259    261      0     260\n",
      "   261 C    260    262      0     261\n",
      "   262 A    261    263      0     262\n",
      "   263 G    262    264      0     263\n",
      "   264 C    263    265      0     264\n",
      "   265 U    264    266      0     265\n",
      "   266 C    265    267      0     266\n",
      "   267 G    266    268      0     267\n",
      "   268 C    267    269    275     268\n",
      "   269 C    268    270    274     269\n",
      "   270 A    269    271      0     270\n",
      "   271 U    270    272      0     271\n",
      "   272 C    271    273      0     272\n",
      "   273 U    272    274      0     273\n",
      "   274 G    273    275    269     274\n",
      "   275 G    274    276    268     275\n",
      "   276 C    275    277    289     276\n",
      "   277 U    276    278    288     277\n",
      "   278 U    277    279      0     278\n",
      "   279 U    278    280      0     279\n",
      "   280 U    279    281      0     280\n",
      "   281 A    280    282      0     281\n",
      "   282 A    281    283      0     282\n",
      "   283 U    282    284      0     283\n",
      "   284 A    283    285      0     284\n",
      "   285 A    284    286      0     285\n",
      "   286 A    285    287      0     286\n",
      "   287 A    286    288      0     287\n",
      "   288 A    287    289    277     288\n",
      "   289 G    288    290    276     289\n",
      "   290 U    289    291      0     290\n",
      "   291 U    290    292      0     291\n",
      "   292 G    291    293      0     292\n",
      "   293 C    292    294      0     293\n",
      "   294 C    293    295      0     294\n",
      "   295 A    294    296      0     295\n",
      "   296 A    295    297      0     296\n",
      "   297 U    296    298      0     297\n",
      "   298 C    297    299      0     298\n",
      "   299 G    298    300      0     299\n",
      "   300 G    299    301      0     300\n",
      "   301 U    300    302      0     301\n",
      "   302 U    301    303    221     302\n",
      "   303 C    302    304    219     303\n",
      "   304 C    303    305      0     304\n",
      "   305 C    304    306    218     305\n",
      "   306 G    305    307      0     306\n",
      "   307 A    306    308      0     307\n",
      "   308 C    307    309      0     308\n",
      "   309 C    308    310      0     309\n",
      "   310 U    309    311      0     310\n",
      "   311 G    310    312    217     311\n",
      "   312 C    311    313    216     312\n",
      "   313 A    312    314    215     313\n",
      "   314 C    313    315    214     314\n",
      "   315 C    314    316    213     315\n",
      "   316 A    315    317    212     316\n",
      "   317 A    316    318      0     317\n",
      "   318 G    317    319      0     318\n",
      "   319 C    318    320      0     319\n",
      "   320 G    319    321      0     320\n",
      "   321 A    320    322      0     321\n",
      "   322 A    321    323    211     322\n",
      "   323 U    322    324    210     323\n",
      "   324 U    323    325    209     324\n",
      "   325 A    324    326      0     325\n",
      "   326 G    325    327    208     326\n",
      "   327 A    326    328    207     327\n",
      "   328 G    327    329    206     328\n",
      "   329 A    328    330    205     329\n",
      "   330 C    329    331    204     330\n",
      "   331 C    330    332    203     331\n",
      "   332 G    331    333    202     332\n",
      "   333 C    332    334    201     333\n",
      "   334 C    333    335    198     334\n",
      "   335 G    334    336      0     335\n",
      "   336 G    335    337      0     336\n",
      "   337 U    336    338      0     337\n",
      "   338 A    337    339      0     338\n",
      "   339 A    338    340    197     339\n",
      "   340 C    339    341    196     340\n",
      "   341 U    340    342    195     341\n",
      "   342 G    341    343    194     342\n",
      "   343 A    342    344    193     343\n",
      "   344 A    343    345      0     344\n",
      "   345 U    344    346      0     345\n",
      "   346 C    345    347      0     346\n",
      "   347 A    346    348      0     347\n",
      "   348 U    347    349      0     348\n",
      "   349 U    348    350      0     349\n",
      "   350 C    349    351      0     350\n",
      "   351 U    350    352      0     351\n",
      "   352 A    351    353      0     352\n",
      "   353 C    352    354      0     353\n",
      "   354 A    353    355      0     354\n",
      "   355 U    354    356      0     355\n",
      "   356 U    355    357      0     356\n",
      "   357 A    356    358      0     357\n",
      "   358 A    357    359      0     358\n",
      "   359 U    358    360      0     359\n",
      "   360 C    359    361      0     360\n",
      "   361 C    360    362      0     361\n",
      "   362 C    361    363      0     362\n",
      "   363 C    362    364      0     363\n",
      "   364 G    363    365      0     364\n",
      "   365 A    364    366      0     365\n",
      "   366 C    365    367      0     366\n",
      "   367 U    366    368      0     367\n",
      "   368 C    367    369      0     368\n",
      "   369 C    368    370      0     369\n",
      "   370 U    369    371      0     370\n",
      "   371 C    370    372      0     371\n",
      "   372 C    371    373      0     372\n",
      "   373 U    372    374      0     373\n",
      "   374 U    373    375      0     374\n",
      "   375 U    374    376      0     375\n",
      "   376 U    375    377      0     376\n",
      "   377 A    376    378      0     377\n",
      "   378 C    377    379      0     378\n",
      "   379 A    378    380      0     379\n",
      "   380 C    379    381      0     380\n",
      "   381 A    380    382      0     381\n",
      "   382 U    381    383      0     382\n",
      "   383 A    382    384      0     383\n",
      "   384 G    383    385      0     384\n",
      "   385 C    384    386      0     385\n",
      "   386 A    385    387      0     386\n",
      "   387 A    386    388      0     387\n",
      "   388 C    387    389    401     388\n",
      "   389 U    388    390    400     389\n",
      "   390 U    389    391    399     390\n",
      "   391 C    390    392    398     391\n",
      "   392 G    391    393      0     392\n",
      "   393 C    392    394      0     393\n",
      "   394 C    393    395      0     394\n",
      "   395 C    394    396      0     395\n",
      "   396 A    395    397      0     396\n",
      "   397 A    396    398      0     397\n",
      "   398 G    397    399    391     398\n",
      "   399 A    398    400    390     399\n",
      "   400 A    399    401    389     400\n",
      "   401 G    400    402    388     401\n",
      "   402 A    401    403      0     402\n",
      "   403 C    402    404      0     403\n",
      "   404 U    403    405      0     404\n",
      "   405 A    404    406      0     405\n",
      "   406 A    405    407      0     406\n",
      "   407 A    406    408      0     407\n",
      "   408 A    407    409      0     408\n",
      "   409 A    408    410      0     409\n",
      "   410 G    409    411      0     410\n",
      "   411 A    410    412      0     411\n",
      "   412 A    411    413      0     412\n",
      "   413 A    412    414      0     413\n",
      "   414 A    413    415      0     414\n",
      "   415 G    414    416      0     415\n",
      "   416 G    415    417      0     416\n",
      "   417 A    416    418      0     417\n",
      "   418 A    417    419      0     418\n",
      "   419 G    418    420      0     419\n",
      "   420 C    419    421      0     420\n",
      "   421 U    420    422      0     421\n",
      "   422 A    421    423      0     422\n",
      "   423 A    422    424      0     423\n",
      "   424 C    423      0      0     424\n",
      "\n"
     ]
    }
   ],
   "source": [
    "df = fasta_to_df('./secondary_structure/spot_rna/AMWY02059828.1:2832-3256(+).dot')\n",
    "df = df.apply(lambda row: bracket_row(row) , axis=1)\n",
    "bracket = df['bracket'][0].split(' ')[0]\n",
    "ct = bracket_to_ct(df['tag'][0], df['data'][0], bracket, \"(0)\")\n",
    "print(ct)"
   ]
  },
  {
   "cell_type": "markdown",
   "metadata": {
    "heading_collapsed": true,
    "hidden": true
   },
   "source": [
    "## Vienna package"
   ]
  },
  {
   "cell_type": "code",
   "execution_count": 92,
   "metadata": {
    "ExecuteTime": {
     "end_time": "2021-11-14T16:28:14.874416Z",
     "start_time": "2021-11-14T16:28:14.870733Z"
    },
    "hidden": true
   },
   "outputs": [],
   "source": [
    "#!wget https://www.tbi.univie.ac.at/RNA/download/ubuntu/ubuntu_20_04/viennarna_2.4.18-1_amd64.deb -O viennarna.deb\n",
    "#!sudo dpkg -i ./viennarna.deb\n",
    "#!sudo apt-get -f install\n",
    "#!rm viennarna.deb"
   ]
  },
  {
   "cell_type": "code",
   "execution_count": 131,
   "metadata": {
    "ExecuteTime": {
     "end_time": "2021-11-14T19:35:57.889695Z",
     "start_time": "2021-11-14T19:35:57.480149Z"
    },
    "hidden": true
   },
   "outputs": [
    {
     "name": "stdout",
     "output_type": "stream",
     "text": [
      "rm: cannot remove './secondary_structure/viennarna_result.txt': No such file or directory\r\n"
     ]
    }
   ],
   "source": [
    "base = \"./secondary_structure/viennarna/\"\n",
    "!rm -r {base}\n",
    "!rm ./secondary_structure/viennarna_result.txt\n",
    "!mkdir -p {base}"
   ]
  },
  {
   "cell_type": "code",
   "execution_count": 132,
   "metadata": {
    "ExecuteTime": {
     "end_time": "2021-11-14T19:52:09.128413Z",
     "start_time": "2021-11-14T19:36:03.739898Z"
    },
    "hidden": true
   },
   "outputs": [
    {
     "name": "stdout",
     "output_type": "stream",
     "text": [
      "/home/jupyter/plant_microRNA_prediction/secondary_structure/viennarna\n",
      "/home/jupyter/plant_microRNA_prediction\n"
     ]
    }
   ],
   "source": [
    "%cd {base}\n",
    "!RNAfold --jobs=0 --infile ../../Temp/extended_modified.txt  --noPS -T 20 > ../viennarna_result.txt\n",
    "%cd ../../"
   ]
  },
  {
   "cell_type": "code",
   "execution_count": 95,
   "metadata": {
    "ExecuteTime": {
     "end_time": "2021-11-14T17:36:50.680457Z",
     "start_time": "2021-11-14T17:36:28.498386Z"
    },
    "hidden": true
   },
   "outputs": [
    {
     "name": "stdout",
     "output_type": "stream",
     "text": [
      "(21225, 3)\n"
     ]
    },
    {
     "data": {
      "text/html": [
       "<div>\n",
       "<style scoped>\n",
       "    .dataframe tbody tr th:only-of-type {\n",
       "        vertical-align: middle;\n",
       "    }\n",
       "\n",
       "    .dataframe tbody tr th {\n",
       "        vertical-align: top;\n",
       "    }\n",
       "\n",
       "    .dataframe thead th {\n",
       "        text-align: right;\n",
       "    }\n",
       "</style>\n",
       "<table border=\"1\" class=\"dataframe\">\n",
       "  <thead>\n",
       "    <tr style=\"text-align: right;\">\n",
       "      <th></th>\n",
       "      <th>tag</th>\n",
       "      <th>data</th>\n",
       "      <th>bracket</th>\n",
       "    </tr>\n",
       "  </thead>\n",
       "  <tbody>\n",
       "    <tr>\n",
       "      <th>0</th>\n",
       "      <td>AMWY02000003.1:4084-4506|200-222(+)</td>\n",
       "      <td>auacaauugucacauaguuuacauuauuaauuuccgcuuaauuuau...</td>\n",
       "      <td>....((((((...))))))................((((((...((...</td>\n",
       "    </tr>\n",
       "    <tr>\n",
       "      <th>1</th>\n",
       "      <td>AMWY02000003.1:4391-4810|200-219(+)</td>\n",
       "      <td>uucuaauugcaaauuuauguuauauuuuuaaauagaaagggagauu...</td>\n",
       "      <td>.....((.(((......))).))......(((((((.(((((((.....</td>\n",
       "    </tr>\n",
       "  </tbody>\n",
       "</table>\n",
       "</div>"
      ],
      "text/plain": [
       "                                   tag  \\\n",
       "0  AMWY02000003.1:4084-4506|200-222(+)   \n",
       "1  AMWY02000003.1:4391-4810|200-219(+)   \n",
       "\n",
       "                                                data  \\\n",
       "0  auacaauugucacauaguuuacauuauuaauuuccgcuuaauuuau...   \n",
       "1  uucuaauugcaaauuuauguuauauuuuuaaauagaaagggagauu...   \n",
       "\n",
       "                                             bracket  \n",
       "0  ....((((((...))))))................((((((...((...  \n",
       "1  .....((.(((......))).))......(((((((.(((((((.....  "
      ]
     },
     "execution_count": 95,
     "metadata": {},
     "output_type": "execute_result"
    }
   ],
   "source": [
    "df = fasta_to_df('secondary_structure/viennarna_result.txt')\n",
    "df = df.apply(lambda row: bracket_row(row) , axis=1)\n",
    "print(df.shape)\n",
    "df.head(2)"
   ]
  },
  {
   "cell_type": "code",
   "execution_count": 125,
   "metadata": {
    "ExecuteTime": {
     "end_time": "2021-11-04T13:12:19.517498Z",
     "start_time": "2021-11-04T13:12:19.487872Z"
    },
    "hidden": true
   },
   "outputs": [],
   "source": [
    "for index, row in df.iterrows():    \n",
    "    tag = reformat(row['tag'])\n",
    "    if(not os.path.exists(base + tag)):\n",
    "        os.makedirs(base + tag)      \n",
    "    with open(base + f\"{tag}/{tag}.ct\",'w') as file:\n",
    "        bracket = row['bracket'].split(' ')[0]\n",
    "        deltaG = row['bracket'].split(' ')[1]\n",
    "        ct = bracket_to_ct(row['tag'], row['data'], bracket, deltaG, False)\n",
    "        file.write(ct)    "
   ]
  },
  {
   "cell_type": "code",
   "execution_count": 126,
   "metadata": {
    "ExecuteTime": {
     "end_time": "2021-11-04T13:12:20.455326Z",
     "start_time": "2021-11-04T13:12:20.449583Z"
    },
    "hidden": true
   },
   "outputs": [],
   "source": [
    "import glob\n",
    "for file in glob.glob(f\"{base}*.ps\"):    \n",
    "    f = file[len(base):-6] # _ss.ps \n",
    "    f = reformat(f)        \n",
    "    shutil.move(file, f\"{base}{f}/{f}.ps\")    "
   ]
  },
  {
   "cell_type": "markdown",
   "metadata": {
    "heading_collapsed": true,
    "hidden": true
   },
   "source": [
    "## ContraFold"
   ]
  },
  {
   "cell_type": "code",
   "execution_count": 39,
   "metadata": {
    "ExecuteTime": {
     "end_time": "2021-11-06T15:47:08.282696Z",
     "start_time": "2021-11-06T15:47:08.278027Z"
    },
    "hidden": true
   },
   "outputs": [],
   "source": [
    "#!wget http://contra.stanford.edu/contrafold/contrafold_v2_02.tar.gz\n",
    "#!tar -xvzf contrafold_v2_02.tar.gz && rm contrafold_v2_02.tar.gz\n",
    "#%cd contrafold/src\n",
    "#!make clean\n",
    "#!make \n",
    "# to file must changed to be complieable # utility.hpp and optimization.c++ files"
   ]
  },
  {
   "cell_type": "code",
   "execution_count": 42,
   "metadata": {
    "ExecuteTime": {
     "end_time": "2021-11-06T15:52:08.807315Z",
     "start_time": "2021-11-06T15:52:08.274966Z"
    },
    "hidden": true
   },
   "outputs": [],
   "source": [
    "counter = 0\n",
    "base = \"./secondary_structure/contrafold/\"\n",
    "!rm -r {base}\n",
    "!mkdir -p {base}\n",
    "df = fasta_to_df('./Temp/extended.txt')\n",
    "\n",
    "for index, row in df.iterrows():    \n",
    "    tag = reformat(row['tag'])\n",
    "    if(not os.path.exists(base + tag)):\n",
    "        os.makedirs(base + tag)            \n",
    "    with open(base + f\"{tag}/{tag}.FASTA\",'w') as file:\n",
    "        file.write(f\">{row['tag']}\\n{row['data']}\")\n",
    "    counter += 1    \n",
    "    if(counter >= 10):\n",
    "        break"
   ]
  },
  {
   "cell_type": "code",
   "execution_count": 43,
   "metadata": {
    "ExecuteTime": {
     "end_time": "2021-11-06T15:52:20.318477Z",
     "start_time": "2021-11-06T15:52:18.362143Z"
    },
    "hidden": true
   },
   "outputs": [],
   "source": [
    "def run_contrafold(tag):\n",
    "    tag = reformat(tag)    \n",
    "    %cd contrafold/src\n",
    "    !./contrafold predict ../..{base[1:]}{tag}/{tag}.FASTA > ../..{base[1:]}{tag}/{tag}.dot\n",
    "    with open(f\"../..{base[1:]}{tag}/{tag}.dot\", 'r') as file:\n",
    "        text = file.read()\n",
    "    text = [l for l in text.split(\"\\n\") if l[:len(\">structure\")] != \">structure\"]    \n",
    "    header = text[0]\n",
    "    with open(f\"../..{base[1:]}{tag}/{tag}.dot\", 'w') as file:\n",
    "        file.write('\\n'.join(text[1:]))    \n",
    "    !RNAeval  ../..{base[1:]}{tag}/{tag}.dot -T 20 > ../..{base[1:]}{tag}/{tag}.dotdg    \n",
    "    with open(f\"../..{base[1:]}{tag}/{tag}.dotdg\", 'r') as file:\n",
    "        text = file.read()\n",
    "    with open(f\"../..{base[1:]}{tag}/{tag}.dot\", 'w') as file:\n",
    "        file.write(header + \"\\n\" + text)    \n",
    "    \n",
    "    df = fasta_to_df(f'../..{base[1:]}{tag}/{tag}.dot')\n",
    "    df = df.apply(lambda row: bracket_row(row) , axis=1)        \n",
    "    tag = reformat(df['tag'][0])\n",
    "    with open(f'../..{base[1:]}{tag}/{tag}.ct','w') as file:\n",
    "        bracket = df['bracket'][0].split(' ')[0]        \n",
    "        deltaG = df['bracket'][0].split(' ')[1]\n",
    "        ct = bracket_to_ct(df['tag'][0], df['data'][0], bracket, deltaG, False)\n",
    "        file.write(ct)    \n",
    "    #!rm ../..{base[1:]}{tag}/{tag}.dot\n",
    "    #!rm ../..{base[1:]}{tag}/{tag}.dotdg\n",
    "    !rm ../..{base[1:]}{tag}/{tag}.FASTA\n",
    "    %cd ../../        \n",
    "\n",
    "if __name__ == '__main__':        \n",
    "    pool = mp.Pool(mp.cpu_count() - 1)  \n",
    "    pool.map(run_contrafold, df['tag'].iloc[:10])"
   ]
  },
  {
   "cell_type": "code",
   "execution_count": 56,
   "metadata": {
    "ExecuteTime": {
     "end_time": "2021-11-06T16:04:49.091652Z",
     "start_time": "2021-11-06T16:04:49.084840Z"
    },
    "hidden": true
   },
   "outputs": [
    {
     "name": "stdout",
     "output_type": "stream",
     "text": [
      "A U\n",
      "( )\n"
     ]
    }
   ],
   "source": [
    "s = 'CUCCCCUUGUCUACCAUCCCCAACUAGCGAGAGAGACAUUACCUACCUGAAUAGAAGAUCUCUCUCGAGCUCUCGagcucucucuuuuucuauaUCUCUGUCUCUUUGUGUCUCUGGAGCUUGUACUAACAUUAAUAUCGUGCACCAGCAGCAGUUGAAGCUGCCAGCAUGAUCUAAACUUCCUUCUCUGUAAAGGAUAGAUCGGAUCAUGUGGUAGCUUCACCUGUUGAUGGGAUCACGAAAGCGCCCCUCUUACUACUCUACAUUAAUUCUUUCUCGUUAUACAACCUCCCAGUAAGCAUGCUUUCAAAACCAACUUGAGuaaguuaauuuguuuagcuuuuguuuuuggcucuuccuuuacuuuaaauuuucucaucuggguuuuuguuauauauauguacuguuuuauauauguauuccu'\n",
    "d = '............................((((((((..(...(((......))).)..))))))))(((((....)))))...................................((((.((((...(((.......(((((..(((.((((((.((((((((((.(((((((((.(.(((((((.......))))).)).).))))))))))))))))))).)))))).)))...))))).....................................)))..)))).))))....((((()))))..((((((....((((.(((((((.....)))(((.........)))................)))).))))....))))))....(((((((((((......)))))))))))....'\n",
    "print(s[300],s[301])\n",
    "print(d[300],d[301])"
   ]
  },
  {
   "cell_type": "code",
   "execution_count": 55,
   "metadata": {
    "ExecuteTime": {
     "end_time": "2021-11-06T16:04:27.288085Z",
     "start_time": "2021-11-06T16:04:27.151101Z"
    },
    "hidden": true
   },
   "outputs": [
    {
     "name": "stdout",
     "output_type": "stream",
     "text": [
      "\u001b[36mExternal loop\u001b[0m                           : \u001b[32m -364\u001b[0m\r\n",
      "\u001b[36mInterior loop\u001b[0m ( 29, 66) \u001b[1mGC\u001b[0m; ( 30, 65) \u001b[1mAU\u001b[0m: \u001b[32m -294\u001b[0m\r\n",
      "\u001b[36mInterior loop\u001b[0m ( 30, 65) \u001b[1mAU\u001b[0m; ( 31, 64) \u001b[1mGC\u001b[0m: \u001b[32m -256\u001b[0m\r\n",
      "\u001b[36mInterior loop\u001b[0m ( 31, 64) \u001b[1mGC\u001b[0m; ( 32, 63) \u001b[1mAU\u001b[0m: \u001b[32m -294\u001b[0m\r\n",
      "\u001b[36mInterior loop\u001b[0m ( 32, 63) \u001b[1mAU\u001b[0m; ( 33, 62) \u001b[1mGC\u001b[0m: \u001b[32m -256\u001b[0m\r\n",
      "\u001b[36mInterior loop\u001b[0m ( 33, 62) \u001b[1mGC\u001b[0m; ( 34, 61) \u001b[1mAU\u001b[0m: \u001b[32m -294\u001b[0m\r\n",
      "\u001b[36mInterior loop\u001b[0m ( 34, 61) \u001b[1mAU\u001b[0m; ( 35, 60) \u001b[1mGC\u001b[0m: \u001b[32m -256\u001b[0m\r\n",
      "\u001b[36mInterior loop\u001b[0m ( 35, 60) \u001b[1mGC\u001b[0m; ( 36, 59) \u001b[1mAU\u001b[0m: \u001b[32m -294\u001b[0m\r\n",
      "\u001b[36mInterior loop\u001b[0m ( 36, 59) \u001b[1mAU\u001b[0m; ( 39, 56) \u001b[1mUA\u001b[0m: \u001b[32m  103\u001b[0m\r\n",
      "\u001b[36mInterior loop\u001b[0m ( 39, 56) \u001b[1mUA\u001b[0m; ( 43, 54) \u001b[1mCG\u001b[0m: \u001b[32m  305\u001b[0m\r\n",
      "\u001b[36mInterior loop\u001b[0m ( 43, 54) \u001b[1mCG\u001b[0m; ( 44, 53) \u001b[1mUA\u001b[0m: \u001b[32m -256\u001b[0m\r\n",
      "\u001b[36mInterior loop\u001b[0m ( 44, 53) \u001b[1mUA\u001b[0m; ( 45, 52) \u001b[1mAU\u001b[0m: \u001b[32m -165\u001b[0m\r\n",
      "\u001b[36mHairpin  loop\u001b[0m ( 45, 52) \u001b[1mAU\u001b[0m              : \u001b[32m  493\u001b[0m\r\n",
      "\u001b[36mInterior loop\u001b[0m ( 67, 80) \u001b[1mGC\u001b[0m; ( 68, 79) \u001b[1mAU\u001b[0m: \u001b[32m -294\u001b[0m\r\n",
      "\u001b[36mInterior loop\u001b[0m ( 68, 79) \u001b[1mAU\u001b[0m; ( 69, 78) \u001b[1mGC\u001b[0m: \u001b[32m -256\u001b[0m\r\n",
      "\u001b[36mInterior loop\u001b[0m ( 69, 78) \u001b[1mGC\u001b[0m; ( 70, 77) \u001b[1mCG\u001b[0m: \u001b[32m -403\u001b[0m\r\n",
      "\u001b[36mInterior loop\u001b[0m ( 70, 77) \u001b[1mCG\u001b[0m; ( 71, 76) \u001b[1mUA\u001b[0m: \u001b[32m -256\u001b[0m\r\n",
      "\u001b[36mHairpin  loop\u001b[0m ( 71, 76) \u001b[1mUA\u001b[0m              : \u001b[32m  533\u001b[0m\r\n",
      "\u001b[36mInterior loop\u001b[0m (116,292) \u001b[1mGC\u001b[0m; (117,291) \u001b[1mGC\u001b[0m: \u001b[32m -385\u001b[0m\r\n",
      "\u001b[36mInterior loop\u001b[0m (117,291) \u001b[1mGC\u001b[0m; (118,290) \u001b[1mAU\u001b[0m: \u001b[32m -294\u001b[0m\r\n",
      "\u001b[36mInterior loop\u001b[0m (118,290) \u001b[1mAU\u001b[0m; (119,289) \u001b[1mGC\u001b[0m: \u001b[32m -256\u001b[0m\r\n",
      "\u001b[36mInterior loop\u001b[0m (119,289) \u001b[1mGC\u001b[0m; (121,287) \u001b[1mUA\u001b[0m: \u001b[32m   83\u001b[0m\r\n",
      "\u001b[36mInterior loop\u001b[0m (121,287) \u001b[1mUA\u001b[0m; (122,286) \u001b[1mUA\u001b[0m: \u001b[32m -122\u001b[0m\r\n",
      "\u001b[36mInterior loop\u001b[0m (122,286) \u001b[1mUA\u001b[0m; (123,285) \u001b[1mGC\u001b[0m: \u001b[32m -255\u001b[0m\r\n",
      "\u001b[36mInterior loop\u001b[0m (123,285) \u001b[1mGC\u001b[0m; (124,284) \u001b[1mUA\u001b[0m: \u001b[32m -270\u001b[0m\r\n",
      "\u001b[36mInterior loop\u001b[0m (124,284) \u001b[1mUA\u001b[0m; (128,281) \u001b[1mAU\u001b[0m: \u001b[32m  411\u001b[0m\r\n",
      "\u001b[36mInterior loop\u001b[0m (128,281) \u001b[1mAU\u001b[0m; (129,280) \u001b[1mAU\u001b[0m: \u001b[32m -122\u001b[0m\r\n",
      "\u001b[36mInterior loop\u001b[0m (129,280) \u001b[1mAU\u001b[0m; (130,279) \u001b[1mCG\u001b[0m: \u001b[32m -270\u001b[0m\r\n",
      "\u001b[36mInterior loop\u001b[0m (130,279) \u001b[1mCG\u001b[0m; (138,241) \u001b[1mUA\u001b[0m: \u001b[32m  774\u001b[0m\r\n",
      "\u001b[36mInterior loop\u001b[0m (138,241) \u001b[1mUA\u001b[0m; (139,240) \u001b[1mCG\u001b[0m: \u001b[32m -294\u001b[0m\r\n",
      "\u001b[36mInterior loop\u001b[0m (139,240) \u001b[1mCG\u001b[0m; (140,239) \u001b[1mGC\u001b[0m: \u001b[32m -284\u001b[0m\r\n",
      "\u001b[36mInterior loop\u001b[0m (140,239) \u001b[1mGC\u001b[0m; (141,238) \u001b[1mUA\u001b[0m: \u001b[32m -270\u001b[0m\r\n",
      "\u001b[36mInterior loop\u001b[0m (141,238) \u001b[1mUA\u001b[0m; (142,237) \u001b[1mGC\u001b[0m: \u001b[32m -255\u001b[0m\r\n",
      "\u001b[36mInterior loop\u001b[0m (142,237) \u001b[1mGC\u001b[0m; (145,233) \u001b[1mCG\u001b[0m: \u001b[32m   52\u001b[0m\r\n",
      "\u001b[36mInterior loop\u001b[0m (145,233) \u001b[1mCG\u001b[0m; (146,232) \u001b[1mCG\u001b[0m: \u001b[32m -385\u001b[0m\r\n",
      "\u001b[36mInterior loop\u001b[0m (146,232) \u001b[1mCG\u001b[0m; (147,231) \u001b[1mAU\u001b[0m: \u001b[32m -255\u001b[0m\r\n",
      "\u001b[36mInterior loop\u001b[0m (147,231) \u001b[1mAU\u001b[0m; (149,229) \u001b[1mCG\u001b[0m: \u001b[32m   83\u001b[0m\r\n",
      "\u001b[36mInterior loop\u001b[0m (149,229) \u001b[1mCG\u001b[0m; (150,228) \u001b[1mAU\u001b[0m: \u001b[32m -255\u001b[0m\r\n",
      "\u001b[36mInterior loop\u001b[0m (150,228) \u001b[1mAU\u001b[0m; (151,227) \u001b[1mGU\u001b[0m: \u001b[32m  -74\u001b[0m\r\n",
      "\u001b[36mInterior loop\u001b[0m (151,227) \u001b[1mGU\u001b[0m; (152,226) \u001b[1mCG\u001b[0m: \u001b[32m -305\u001b[0m\r\n",
      "\u001b[36mInterior loop\u001b[0m (152,226) \u001b[1mCG\u001b[0m; (153,225) \u001b[1mAU\u001b[0m: \u001b[32m -255\u001b[0m\r\n",
      "\u001b[36mInterior loop\u001b[0m (153,225) \u001b[1mAU\u001b[0m; (154,224) \u001b[1mGC\u001b[0m: \u001b[32m -256\u001b[0m\r\n",
      "\u001b[36mInterior loop\u001b[0m (154,224) \u001b[1mGC\u001b[0m; (156,222) \u001b[1mUA\u001b[0m: \u001b[32m   83\u001b[0m\r\n",
      "\u001b[36mInterior loop\u001b[0m (156,222) \u001b[1mUA\u001b[0m; (157,221) \u001b[1mGC\u001b[0m: \u001b[32m -255\u001b[0m\r\n",
      "\u001b[36mInterior loop\u001b[0m (157,221) \u001b[1mGC\u001b[0m; (158,220) \u001b[1mAU\u001b[0m: \u001b[32m -294\u001b[0m\r\n",
      "\u001b[36mInterior loop\u001b[0m (158,220) \u001b[1mAU\u001b[0m; (159,219) \u001b[1mAU\u001b[0m: \u001b[32m -122\u001b[0m\r\n",
      "\u001b[36mInterior loop\u001b[0m (159,219) \u001b[1mAU\u001b[0m; (160,218) \u001b[1mGC\u001b[0m: \u001b[32m -256\u001b[0m\r\n",
      "\u001b[36mInterior loop\u001b[0m (160,218) \u001b[1mGC\u001b[0m; (161,217) \u001b[1mCG\u001b[0m: \u001b[32m -403\u001b[0m\r\n",
      "\u001b[36mInterior loop\u001b[0m (161,217) \u001b[1mCG\u001b[0m; (162,216) \u001b[1mUA\u001b[0m: \u001b[32m -256\u001b[0m\r\n",
      "\u001b[36mInterior loop\u001b[0m (162,216) \u001b[1mUA\u001b[0m; (163,215) \u001b[1mGU\u001b[0m: \u001b[32m -132\u001b[0m\r\n",
      "\u001b[36mInterior loop\u001b[0m (163,215) \u001b[1mGU\u001b[0m; (164,214) \u001b[1mCG\u001b[0m: \u001b[32m -305\u001b[0m\r\n",
      "\u001b[36mInterior loop\u001b[0m (164,214) \u001b[1mCG\u001b[0m; (165,213) \u001b[1mCG\u001b[0m: \u001b[32m -385\u001b[0m\r\n",
      "\u001b[36mInterior loop\u001b[0m (165,213) \u001b[1mCG\u001b[0m; (167,212) \u001b[1mGU\u001b[0m: \u001b[32m  254\u001b[0m\r\n",
      "\u001b[36mInterior loop\u001b[0m (167,212) \u001b[1mGU\u001b[0m; (168,211) \u001b[1mCG\u001b[0m: \u001b[32m -305\u001b[0m\r\n",
      "\u001b[36mInterior loop\u001b[0m (168,211) \u001b[1mCG\u001b[0m; (169,210) \u001b[1mAU\u001b[0m: \u001b[32m -255\u001b[0m\r\n",
      "\u001b[36mInterior loop\u001b[0m (169,210) \u001b[1mAU\u001b[0m; (170,209) \u001b[1mUA\u001b[0m: \u001b[32m -155\u001b[0m\r\n",
      "\u001b[36mInterior loop\u001b[0m (170,209) \u001b[1mUA\u001b[0m; (171,208) \u001b[1mGC\u001b[0m: \u001b[32m -255\u001b[0m\r\n",
      "\u001b[36mInterior loop\u001b[0m (171,208) \u001b[1mGC\u001b[0m; (172,207) \u001b[1mAU\u001b[0m: \u001b[32m -294\u001b[0m\r\n",
      "\u001b[36mInterior loop\u001b[0m (172,207) \u001b[1mAU\u001b[0m; (173,206) \u001b[1mUA\u001b[0m: \u001b[32m -155\u001b[0m\r\n",
      "\u001b[36mInterior loop\u001b[0m (173,206) \u001b[1mUA\u001b[0m; (174,205) \u001b[1mCG\u001b[0m: \u001b[32m -294\u001b[0m\r\n",
      "\u001b[36mInterior loop\u001b[0m (174,205) \u001b[1mCG\u001b[0m; (175,204) \u001b[1mUG\u001b[0m: \u001b[32m -264\u001b[0m\r\n",
      "\u001b[36mInterior loop\u001b[0m (175,204) \u001b[1mUG\u001b[0m; (177,202) \u001b[1mAU\u001b[0m: \u001b[32m  176\u001b[0m\r\n",
      "\u001b[36mInterior loop\u001b[0m (177,202) \u001b[1mAU\u001b[0m; (179,200) \u001b[1mCG\u001b[0m: \u001b[32m   83\u001b[0m\r\n",
      "\u001b[36mInterior loop\u001b[0m (179,200) \u001b[1mCG\u001b[0m; (180,199) \u001b[1mUA\u001b[0m: \u001b[32m -256\u001b[0m\r\n",
      "\u001b[36mInterior loop\u001b[0m (180,199) \u001b[1mUA\u001b[0m; (181,197) \u001b[1mUA\u001b[0m: \u001b[32m  295\u001b[0m\r\n",
      "\u001b[36mInterior loop\u001b[0m (181,197) \u001b[1mUA\u001b[0m; (182,196) \u001b[1mCG\u001b[0m: \u001b[32m -294\u001b[0m\r\n",
      "\u001b[36mInterior loop\u001b[0m (182,196) \u001b[1mCG\u001b[0m; (183,195) \u001b[1mCG\u001b[0m: \u001b[32m -385\u001b[0m\r\n",
      "\u001b[36mInterior loop\u001b[0m (183,195) \u001b[1mCG\u001b[0m; (184,194) \u001b[1mUA\u001b[0m: \u001b[32m -256\u001b[0m\r\n",
      "\u001b[36mInterior loop\u001b[0m (184,194) \u001b[1mUA\u001b[0m; (185,193) \u001b[1mUA\u001b[0m: \u001b[32m -122\u001b[0m\r\n",
      "\u001b[36mHairpin  loop\u001b[0m (185,193) \u001b[1mUA\u001b[0m              : \u001b[32m  552\u001b[0m\r\n",
      "\u001b[36mInterior loop\u001b[0m (297,306) \u001b[1mAU\u001b[0m; (298,305) \u001b[1mAU\u001b[0m: \u001b[32m -122\u001b[0m\r\n",
      "\u001b[36mInterior loop\u001b[0m (298,305) \u001b[1mAU\u001b[0m; (299,304) \u001b[1mGC\u001b[0m: \u001b[32m -256\u001b[0m\r\n",
      "\u001b[36mInterior loop\u001b[0m (299,304) \u001b[1mGC\u001b[0m; (300,303) \u001b[1mCG\u001b[0m: \u001b[32m -403\u001b[0m\r\n",
      "\u001b[36mInterior loop\u001b[0m (300,303) \u001b[1mCG\u001b[0m; (301,302) \u001b[1mAU\u001b[0m: \u001b[32m -255\u001b[0m\r\n",
      "\u001b[36mHairpin  loop\u001b[0m (301,302) \u001b[1mAU\u001b[0m              : \u001b[32m10000000\u001b[0m\r\n",
      "\u001b[36mInterior loop\u001b[0m (309,388) \u001b[1mAU\u001b[0m; (310,387) \u001b[1mAU\u001b[0m: \u001b[32m -122\u001b[0m\r\n",
      "\u001b[36mInterior loop\u001b[0m (310,387) \u001b[1mAU\u001b[0m; (311,386) \u001b[1mAU\u001b[0m: \u001b[32m -122\u001b[0m\r\n",
      "\u001b[36mInterior loop\u001b[0m (311,386) \u001b[1mAU\u001b[0m; (312,385) \u001b[1mAU\u001b[0m: \u001b[32m -122\u001b[0m\r\n",
      "\u001b[36mInterior loop\u001b[0m (312,385) \u001b[1mAU\u001b[0m; (313,384) \u001b[1mCG\u001b[0m: \u001b[32m -270\u001b[0m\r\n",
      "\u001b[36mInterior loop\u001b[0m (313,384) \u001b[1mCG\u001b[0m; (314,383) \u001b[1mCG\u001b[0m: \u001b[32m -385\u001b[0m\r\n",
      "\u001b[36mInterior loop\u001b[0m (314,383) \u001b[1mCG\u001b[0m; (319,378) \u001b[1mUA\u001b[0m: \u001b[32m  121\u001b[0m\r\n",
      "\u001b[36mInterior loop\u001b[0m (319,378) \u001b[1mUA\u001b[0m; (320,377) \u001b[1mGC\u001b[0m: \u001b[32m -255\u001b[0m\r\n",
      "\u001b[36mInterior loop\u001b[0m (320,377) \u001b[1mGC\u001b[0m; (321,376) \u001b[1mAU\u001b[0m: \u001b[32m -294\u001b[0m\r\n",
      "\u001b[36mInterior loop\u001b[0m (321,376) \u001b[1mAU\u001b[0m; (322,375) \u001b[1mGC\u001b[0m: \u001b[32m -256\u001b[0m\r\n",
      "\u001b[36mInterior loop\u001b[0m (322,375) \u001b[1mGC\u001b[0m; (324,373) \u001b[1mAU\u001b[0m: \u001b[32m   64\u001b[0m\r\n",
      "\u001b[36mInterior loop\u001b[0m (324,373) \u001b[1mAU\u001b[0m; (325,372) \u001b[1mAU\u001b[0m: \u001b[32m -122\u001b[0m\r\n",
      "\u001b[36mInterior loop\u001b[0m (325,372) \u001b[1mAU\u001b[0m; (326,371) \u001b[1mGU\u001b[0m: \u001b[32m  -74\u001b[0m\r\n",
      "\u001b[36mInterior loop\u001b[0m (326,371) \u001b[1mGU\u001b[0m; (327,370) \u001b[1mUA\u001b[0m: \u001b[32m -180\u001b[0m\r\n",
      "\u001b[36mInterior loop\u001b[0m (328,338) \u001b[1mUA\u001b[0m; (329,337) \u001b[1mAU\u001b[0m: \u001b[32m -165\u001b[0m\r\n",
      "\u001b[36mInterior loop\u001b[0m (329,337) \u001b[1mAU\u001b[0m; (330,336) \u001b[1mAU\u001b[0m: \u001b[32m -122\u001b[0m\r\n",
      "\u001b[36mHairpin  loop\u001b[0m (330,336) \u001b[1mAU\u001b[0m              : \u001b[32m  424\u001b[0m\r\n",
      "\u001b[36mInterior loop\u001b[0m (339,353) \u001b[1mGC\u001b[0m; (340,352) \u001b[1mCG\u001b[0m: \u001b[32m -403\u001b[0m\r\n",
      "\u001b[36mInterior loop\u001b[0m (340,352) \u001b[1mCG\u001b[0m; (341,351) \u001b[1mUG\u001b[0m: \u001b[32m -264\u001b[0m\r\n",
      "\u001b[36mHairpin  loop\u001b[0m (341,351) \u001b[1mUG\u001b[0m              : \u001b[32m  544\u001b[0m\r\n",
      "\u001b[36mMulti    loop\u001b[0m (327,370) \u001b[1mUA\u001b[0m              : \u001b[32m  589\u001b[0m\r\n",
      "\u001b[36mInterior loop\u001b[0m (393,420) \u001b[1mAU\u001b[0m; (394,419) \u001b[1mUA\u001b[0m: \u001b[32m -155\u001b[0m\r\n",
      "\u001b[36mInterior loop\u001b[0m (394,419) \u001b[1mUA\u001b[0m; (395,418) \u001b[1mAU\u001b[0m: \u001b[32m -165\u001b[0m\r\n",
      "\u001b[36mInterior loop\u001b[0m (395,418) \u001b[1mAU\u001b[0m; (396,417) \u001b[1mUG\u001b[0m: \u001b[32m -180\u001b[0m\r\n",
      "\u001b[36mInterior loop\u001b[0m (396,417) \u001b[1mUG\u001b[0m; (397,416) \u001b[1mAU\u001b[0m: \u001b[32m -132\u001b[0m\r\n",
      "\u001b[36mInterior loop\u001b[0m (397,416) \u001b[1mAU\u001b[0m; (398,415) \u001b[1mUA\u001b[0m: \u001b[32m -155\u001b[0m\r\n",
      "\u001b[36mInterior loop\u001b[0m (398,415) \u001b[1mUA\u001b[0m; (399,414) \u001b[1mAU\u001b[0m: \u001b[32m -165\u001b[0m\r\n",
      "\u001b[36mInterior loop\u001b[0m (399,414) \u001b[1mAU\u001b[0m; (400,413) \u001b[1mUA\u001b[0m: \u001b[32m -155\u001b[0m\r\n",
      "\u001b[36mInterior loop\u001b[0m (400,413) \u001b[1mUA\u001b[0m; (401,412) \u001b[1mGU\u001b[0m: \u001b[32m -132\u001b[0m\r\n",
      "\u001b[36mInterior loop\u001b[0m (401,412) \u001b[1mGU\u001b[0m; (402,411) \u001b[1mUA\u001b[0m: \u001b[32m -180\u001b[0m\r\n",
      "\u001b[36mInterior loop\u001b[0m (402,411) \u001b[1mUA\u001b[0m; (403,410) \u001b[1mAU\u001b[0m: \u001b[32m -165\u001b[0m\r\n",
      "\u001b[36mHairpin  loop\u001b[0m (403,410) \u001b[1mAU\u001b[0m              : \u001b[32m  494\u001b[0m\r\n",
      "CUCCCCUUGUCUACCAUCCCCAACUAGCGAGAGAGACAUUACCUACCUGAAUAGAAGAUCUCUCUCGAGCUCUCGagcucucucuuuuucuauaUCUCUGUCUCUUUGUGUCUCUGGAGCUUGUACUAACAUUAAUAUCGUGCACCAGCAGCAGUUGAAGCUGCCAGCAUGAUCUAAACUUCCUUCUCUGUAAAGGAUAGAUCGGAUCAUGUGGUAGCUUCACCUGUUGAUGGGAUCACGAAAGCGCCCCUCUUACUACUCUACAUUAAUUCUUUCUCGUUAUACAACCUCCCAGUAAGCAUGCUUUCAAAACCAACUUGAGuaaguuaauuuguuuagcuuuuguuuuuggcucuuccuuuacuuuaaauuuucucaucuggguuuuuguuauauauauguacuguuuuauauauguauuccu\r\n",
      "............................((((((((..(...(((......))).)..))))))))(((((....)))))...................................((((.((((...(((.......(((((..(((.((((((.((((((((((.(((((((((.(.(((((((.......))))).)).).))))))))))))))))))).)))))).)))...))))).....................................)))..)))).))))....((((()))))..((((((....((((.(((((((.....)))(((.........)))................)))).))))....))))))....(((((((((((......)))))))))))....\u001b[32m (99862.42)\u001b[0m\r\n"
     ]
    }
   ],
   "source": [
    "'''path = 'secondary_structure/contrafold/AMWY020333941_469-893_-_/AMWY020333941_469-893_-_.dot'\n",
    "!RNAeval  {path} -T 20 -v'''; "
   ]
  },
  {
   "cell_type": "markdown",
   "metadata": {
    "heading_collapsed": true
   },
   "source": [
    "# Visualization"
   ]
  },
  {
   "cell_type": "code",
   "execution_count": 25,
   "metadata": {
    "ExecuteTime": {
     "end_time": "2021-11-04T15:58:52.008179Z",
     "start_time": "2021-11-04T15:58:52.003841Z"
    },
    "hidden": true
   },
   "outputs": [],
   "source": [
    "#https://github.com/ViennaRNA/forna\n",
    "#http://varna.lri.fr/"
   ]
  },
  {
   "cell_type": "markdown",
   "metadata": {},
   "source": [
    "# CT Analizer"
   ]
  },
  {
   "cell_type": "code",
   "execution_count": 14,
   "metadata": {
    "ExecuteTime": {
     "end_time": "2021-11-23T16:04:37.380224Z",
     "start_time": "2021-11-23T16:04:26.531249Z"
    }
   },
   "outputs": [
    {
     "name": "stdout",
     "output_type": "stream",
     "text": [
      "(2000, 2)\n"
     ]
    }
   ],
   "source": [
    "# only select those not ran before\n",
    "base = \"./secondary_structure/mfold/\"\n",
    "df = fasta_to_df('./Temp/extended_modified.txt')\n",
    "\n",
    "index_list =[]\n",
    "for index, row in df.iterrows():    \n",
    "    tag = reformat(row['tag'])    \n",
    "    if(len(glob.glob(f'{base + tag}/*.ct')) != 0):\n",
    "        index_list.append(index)\n",
    "df = df.iloc[index_list,:]\n",
    "print(df.shape)"
   ]
  },
  {
   "cell_type": "code",
   "execution_count": 15,
   "metadata": {
    "ExecuteTime": {
     "end_time": "2021-11-23T16:04:37.389068Z",
     "start_time": "2021-11-23T16:04:37.383779Z"
    }
   },
   "outputs": [],
   "source": [
    "def get_tag_info(tag):\n",
    "    data = tag.split('|')\n",
    "    hit_start = int(data[2].split('-')[0]) - 1 \n",
    "    hit_end = int(data[2].split('-')[1])\n",
    "    sign = data[3]\n",
    "    return [hit_start, hit_end, sign]"
   ]
  },
  {
   "cell_type": "code",
   "execution_count": 16,
   "metadata": {
    "ExecuteTime": {
     "end_time": "2021-11-23T16:04:37.398248Z",
     "start_time": "2021-11-23T16:04:37.392645Z"
    }
   },
   "outputs": [],
   "source": [
    "def get_deltaG(ct):\n",
    "    ct_head = ct.split('\\n')[0]\n",
    "    if(\"dG = \" in ct_head):    \n",
    "        dG_patter = \"dG = \" \n",
    "    elif(\"dG= \" in ct_head):    \n",
    "        dG_patter = \"dG= \"\n",
    "    elif(\"dG=\" in ct_head):    \n",
    "        dG_patter = \"dG=\"\n",
    "    elif(\"dG =\" in ct_head):    \n",
    "        dG_patter = \"dG =\"\n",
    "    else:\n",
    "        print('there is no dG')\n",
    "    return float(ct_head.split(dG_patter)[-1].split(' ')[0])"
   ]
  },
  {
   "cell_type": "code",
   "execution_count": 17,
   "metadata": {
    "ExecuteTime": {
     "end_time": "2021-11-23T16:04:37.406030Z",
     "start_time": "2021-11-23T16:04:37.401795Z"
    }
   },
   "outputs": [],
   "source": [
    "def get_complementarity_in_hit_region(inc_srange, hit_len):    \n",
    "    if(sum(inc_srange == 0) == hit_len):\n",
    "        return \"no\"\n",
    "    elif(sum(inc_srange != 0) == hit_len):\n",
    "        return \"fully_connected\"\n",
    "    else:    \n",
    "        return \"yes\"    "
   ]
  },
  {
   "cell_type": "code",
   "execution_count": 18,
   "metadata": {
    "ExecuteTime": {
     "end_time": "2021-11-23T16:04:37.412693Z",
     "start_time": "2021-11-23T16:04:37.408741Z"
    }
   },
   "outputs": [],
   "source": [
    "def get_hit_self_complementarity(hit_start, hit_end, inc_srange):    \n",
    "    if(((inc_srange <= hit_start) | (inc_srange > hit_end)).all()):\n",
    "        return \"no\"\n",
    "    return \"yes\""
   ]
  },
  {
   "cell_type": "code",
   "execution_count": 19,
   "metadata": {
    "ExecuteTime": {
     "end_time": "2021-11-23T16:04:37.419625Z",
     "start_time": "2021-11-23T16:04:37.415356Z"
    }
   },
   "outputs": [],
   "source": [
    "def get_istar_min_max(inc_srange, hit_self_complementarity):\n",
    "    nonzero_data_srange  = inc_srange[inc_srange!=0]\n",
    "    if(hit_self_complementarity == 'yes'):\n",
    "        return [np.nan, np.nan]\n",
    "    return [nonzero_data_srange.min(), nonzero_data_srange.max()]"
   ]
  },
  {
   "cell_type": "code",
   "execution_count": 20,
   "metadata": {
    "ExecuteTime": {
     "end_time": "2021-11-23T16:04:37.426950Z",
     "start_time": "2021-11-23T16:04:37.422329Z"
    }
   },
   "outputs": [],
   "source": [
    "def get_continuous_pairing(hit_start, hit_end, istar_min, istar_max, hit_self_complementarity):    \n",
    "    if(hit_self_complementarity == 'yes'):\n",
    "        return \"undifined\"\n",
    "    if(hit_end < istar_max and (hit_start+1) > istar_min):\n",
    "        return \"no\"    \n",
    "    return  \"yes\""
   ]
  },
  {
   "cell_type": "code",
   "execution_count": 21,
   "metadata": {
    "ExecuteTime": {
     "end_time": "2021-11-23T16:04:37.437755Z",
     "start_time": "2021-11-23T16:04:37.431400Z"
    }
   },
   "outputs": [],
   "source": [
    "def get_mir_type(hit_start, hit_end, istar_min, istar_max, continuous_pairing, complementarity_in_hit_region, hit_self_complementarity):        \n",
    "    if(continuous_pairing == \"yes\" and complementarity_in_hit_region != \"no\" and hit_self_complementarity == \"no\"):\n",
    "        if( hit_end < istar_min):\n",
    "            return \"5p\" \n",
    "        if( (hit_start+1) > istar_max):\n",
    "            return \"3p\"     \n",
    "    else:\n",
    "        if(continuous_pairing == \"no\" and hit_self_complementarity == \"yes\"):\n",
    "            return \"discontinuous star strand and hit self complementarity\"\n",
    "        elif(continuous_pairing == \"no\"):\n",
    "            return \"discontinuous star strand\"\n",
    "        elif(hit_self_complementarity == \"yes\"):\n",
    "            return \"hit self complementarity\"\n",
    "\n",
    "    if(complementarity_in_hit_region == \"no\"):\n",
    "        return \"no complementarity in hit region\"  \n",
    "    print(hit_start, hit_end, istar_min, istar_max, continuous_pairing, complementarity_in_hit_region, hit_self_complementarity)"
   ]
  },
  {
   "cell_type": "code",
   "execution_count": 22,
   "metadata": {
    "ExecuteTime": {
     "end_time": "2021-11-23T16:04:37.446734Z",
     "start_time": "2021-11-23T16:04:37.441055Z"
    }
   },
   "outputs": [],
   "source": [
    "def get_star_start(hit_start, hit_end, values):\n",
    "    c = 0\n",
    "    i = hit_end - 3 - c\n",
    "    while(values[i] == 0 and i >= 0):\n",
    "        c += 1\n",
    "        i = hit_end - 3 - c        \n",
    "    if(values[i] - c < 1):                    \n",
    "        return [max(values[i] - c,1), \"negative value\"]\n",
    "    if(i < hit_start):\n",
    "        return [values[i] - c, 'less than hit start']\n",
    "    return [values[i] - c, '']"
   ]
  },
  {
   "cell_type": "code",
   "execution_count": 33,
   "metadata": {
    "ExecuteTime": {
     "end_time": "2021-11-23T16:22:11.606309Z",
     "start_time": "2021-11-23T16:22:11.599647Z"
    }
   },
   "outputs": [],
   "source": [
    "def get_star_end(hit_start, hit_end, values):\n",
    "    if(hit_start - 2 >= 0 ):\n",
    "        a = 0    \n",
    "    else:\n",
    "        a = abs(hit_start - 2)\n",
    "    \n",
    "    i = hit_start - 2 + a\n",
    "    while(values[i] == 0 and i <= hit_end):\n",
    "        a += 1\n",
    "        i = hit_start - 2 + a\n",
    "    \n",
    "    if(i <= hit_end):        \n",
    "        if((values[i] + a) > len(values)):\n",
    "            return [len(values), \"out of sequance range\"]        \n",
    "        return [values[i] + a, \"\"]\n",
    "    return [np.nan, \"some error happened\"]"
   ]
  },
  {
   "cell_type": "code",
   "execution_count": 34,
   "metadata": {
    "ExecuteTime": {
     "end_time": "2021-11-23T16:22:12.002342Z",
     "start_time": "2021-11-23T16:22:11.997082Z"
    }
   },
   "outputs": [],
   "source": [
    "def get_num_of_linking_residues(hit_start,hit_end, star_start, star_end, mir_type):\n",
    "    if(mir_type == '5p'):\n",
    "        return str(star_start - hit_end - 1)\n",
    "    elif(mir_type == '3p'):\n",
    "        return str(hit_start - star_end)\n",
    "    elif(mir_type == \"discontinuous star strand\"):\n",
    "        return \"discontinuous star strand\"\n",
    "    elif(mir_type == \"no complementarity in hit region\"):\n",
    "        print('error')    "
   ]
  },
  {
   "cell_type": "code",
   "execution_count": 35,
   "metadata": {
    "ExecuteTime": {
     "end_time": "2021-11-23T16:22:12.215963Z",
     "start_time": "2021-11-23T16:22:12.211488Z"
    }
   },
   "outputs": [],
   "source": [
    "def get_star_branching(star_start, star_end, star_range, values):    \n",
    "    return not ((values[star_range-1] < star_start) | (values[star_range-1] > star_end)).all()"
   ]
  },
  {
   "cell_type": "code",
   "execution_count": 36,
   "metadata": {
    "ExecuteTime": {
     "end_time": "2021-11-23T16:22:12.424995Z",
     "start_time": "2021-11-23T16:22:12.407480Z"
    }
   },
   "outputs": [],
   "source": [
    "def getBOI_5p(hit_start, hit_end, values):\n",
    "    # first calc latest non zero value\n",
    "    for i in range(hit_end-1, 0, -1):\n",
    "        if(values[i] != 0):\n",
    "            last_v = values[i]\n",
    "            last_i = i\n",
    "            place = i\n",
    "            break            \n",
    "            \n",
    "    for i in range(place-1, 0, -1):        \n",
    "        v = values[i]\n",
    "        if(v == 0):\n",
    "            continue\n",
    "        if(v < last_v):\n",
    "            return [last_i + 1, last_v]                                                \n",
    "        \n",
    "        if((v - last_v) >= 3):\n",
    "            s1 = set(range(last_v+1, v))\n",
    "            s2 = set([values[i-1] for i in range(last_v+1, v)])\n",
    "            if(len(s1.intersection(s2)) > 0):\n",
    "                return [last_i + 1, last_v]    \n",
    "        last_v = v            \n",
    "        last_i = i            \n",
    "    for i in range(0,hit_end):\n",
    "        if(values[i] != 0 ):\n",
    "            return [i + 1, values[i]]    \n",
    "    print(\"Error\")\n",
    "                \n",
    "def getBOI_3p(hit_start, hit_end, values):\n",
    "    # first calc latest non zero value\n",
    "    for i in range(hit_start, len(values)):    \n",
    "        if(values[i] != 0):\n",
    "            last_v = values[i]\n",
    "            last_i = i\n",
    "            place = i\n",
    "            break            \n",
    "            \n",
    "    for i in range(place + 1, len(values)):\n",
    "        v = values[i]\n",
    "        if(v == 0):\n",
    "            continue\n",
    "        if(v > last_v):\n",
    "            return [last_v, last_i + 1]                                                \n",
    "        \n",
    "        if((last_v - v) >= 3):\n",
    "            s1 = set(range(v+1, last_v))\n",
    "            s2 = set([values[i-1] for i in range(v+1, last_v)])\n",
    "            if(len(s1.intersection(s2)) > 0):\n",
    "                return [last_v, last_i + 1]    \n",
    "        last_v = v            \n",
    "        last_i = i            \n",
    "    for i in range(hit_start, len(values)):\n",
    "        if(values[i] != 0 ):\n",
    "            return [values[i], i + 1]    \n",
    "    print(\"Error\")            \n",
    "    \n",
    "    \n",
    "def get_boi(hit_start, hit_end, values, mir_type):\n",
    "    if(mir_type not in ['3p','5p']):\n",
    "        return [np.nan, np.nan]\n",
    "    if(mir_type == '5p'):\n",
    "        return getBOI_5p(hit_start, hit_end, values)\n",
    "    if(mir_type == '3p'):\n",
    "        return getBOI_3p(hit_start, hit_end, values)"
   ]
  },
  {
   "cell_type": "code",
   "execution_count": 37,
   "metadata": {
    "ExecuteTime": {
     "end_time": "2021-11-23T16:22:13.504365Z",
     "start_time": "2021-11-23T16:22:13.499244Z"
    }
   },
   "outputs": [],
   "source": [
    "def get_terminal_structure_range(hit_start, hit_end, star_start, star_end, mir_type):\n",
    "    if(mir_type == '5p'):\n",
    "        return [i for i in range(hit_end, star_start-1)]\n",
    "    if(mir_type == '3p'):\n",
    "        return [i for i in range(star_end, hit_start)]\n",
    "    print(\"Error in get_terminal_structure_range function\")        "
   ]
  },
  {
   "cell_type": "code",
   "execution_count": 47,
   "metadata": {
    "ExecuteTime": {
     "end_time": "2021-11-23T17:22:44.279331Z",
     "start_time": "2021-11-23T17:22:44.273384Z"
    }
   },
   "outputs": [],
   "source": [
    "def get_number_of_terminal_structure(values, terminal_structure_range):    \n",
    "    data = values[terminal_structure_range]\n",
    "    data = data[data != 0].to_numpy()\n",
    "    if(len(data) == 0):\n",
    "        return 0           \n",
    "    counter = 1            \n",
    "    last = data[0]         \n",
    "    for i in range(1,len(data)): \n",
    "        if(data[i] > last):\n",
    "            counter += 1\n",
    "        last = data[i]        \n",
    "    return counter "
   ]
  },
  {
   "cell_type": "code",
   "execution_count": 133,
   "metadata": {
    "ExecuteTime": {
     "end_time": "2021-11-23T18:33:12.648780Z",
     "start_time": "2021-11-23T18:33:12.638475Z"
    }
   },
   "outputs": [],
   "source": [
    "def get_branch_star_end_point(values, terminal_structure_range, pdf):        \n",
    "    data = values[terminal_structure_range]    \n",
    "    index = np.array(terminal_structure_range)[data != 0]    \n",
    "    data = data[data != 0].to_numpy()                        \n",
    "    branch_start_index = []\n",
    "    branch_end_index = []\n",
    "    branch_start_index.append(index[0])\n",
    "    last = data[0]            \n",
    "    for i in range(1,len(data)): \n",
    "        if(data[i] > last):\n",
    "            branch_end_index.append(index[i-1])\n",
    "            branch_start_index.append(index[i])\n",
    "        last = data[i]        \n",
    "    branch_end_index.append(index[-1])\n",
    "    #\n",
    "    branch_start_point = []\n",
    "    branch_end_point = []\n",
    "    for i in range(0, len(branch_start_index)):         \n",
    "        i_s = branch_start_index[i]\n",
    "        i_e = branch_end_index[i]\n",
    "        v_s = values[i_s]\n",
    "        v_e = values[i_e]\n",
    "        if(v_s > i_s and v_s <= (i_e + 1)):\n",
    "            branch_start_point.append(i_s + 1)\n",
    "            branch_end_point.append(v_s)\n",
    "        elif(v_e > i_s and v_e <= (i_e + 1)):\n",
    "            branch_start_point.append(v_e)\n",
    "            branch_end_point.append(i_e + 1)\n",
    "        else:\n",
    "            print(pdf)\n",
    "    return [branch_start_point, branch_end_point]"
   ]
  },
  {
   "cell_type": "code",
   "execution_count": 134,
   "metadata": {
    "ExecuteTime": {
     "end_time": "2021-11-23T18:33:13.452978Z",
     "start_time": "2021-11-23T18:33:13.419576Z"
    }
   },
   "outputs": [],
   "source": [
    "server_url = \"http://jupyter.sysmanager.ir/tree/plant_microRNA_prediction\"\n",
    "def get_row(tag, path, extra = 15, acceptable_terminal_structures = 5):\n",
    "    #print(path)\n",
    "    result = {}    \n",
    "    ct = reformatCT(path)\n",
    "    result['seq name'] = tag\n",
    "    result['ct name'] = \"\"\n",
    "    result['ct'] = f'=HYPERLINK(\"{server_url + path[1:]},\",\"ct\")'\n",
    "    result['pdf'] = f'=HYPERLINK(\"{server_url + path[1:-3] + \".pdf\"}\",\"pdf\")'        \n",
    "    [hit_start, hit_end, sign] = get_tag_info(tag)\n",
    "    result['hit_start'] = hit_start + 1\n",
    "    result['hit_end'] =  hit_end\n",
    "    result['sign'] = sign\n",
    "    dg = get_deltaG(ct)\n",
    "    result['delta G'] = dg\n",
    "    [nucleotide, index, values] = get_ct_data(ct)\n",
    "    hit_seq = ''.join(nucleotide[hit_start:hit_end])\n",
    "    result['hit_seq'] = hit_seq\n",
    "    hit_range = index[hit_start:hit_end]\n",
    "    hit_len = len(hit_range)\n",
    "    result['hit_len'] = hit_len\n",
    "    inc_srange = values[hit_start:hit_end] # Incomplete_Star_range\n",
    "\n",
    "    complementarity_in_hit_region = get_complementarity_in_hit_region(inc_srange, hit_len)\n",
    "    result['complementarity_in_hit_region'] = complementarity_in_hit_region    \n",
    "    if(complementarity_in_hit_region == \"no\"):\n",
    "        msg = \"no complementarity in hit region\"\n",
    "        result['hit_self_complementarity'] = msg\n",
    "        result['continuous_pairing'] = msg\n",
    "        result['mir_type'] = msg\n",
    "        result['star_start'] = msg\n",
    "        result['star_end'] = msg\n",
    "        result['star_seq'] = msg\n",
    "        result['num_of_linking_residues'] = msg\n",
    "        result['star_branching'] = msg\n",
    "        result['boi_start']  = msg\n",
    "        result['boi_end'] = msg\n",
    "        return pd.Series(result) \n",
    "    \n",
    "    hit_self_complementarity = get_hit_self_complementarity(hit_start, hit_end, inc_srange)    \n",
    "    result['hit_self_complementarity'] = hit_self_complementarity       \n",
    "    if(hit_self_complementarity == \"yes\"):\n",
    "        msg = \"hit self complementarity\"\n",
    "        result['continuous_pairing'] = msg\n",
    "        result['mir_type'] = msg\n",
    "        result['star_start'] = msg\n",
    "        result['star_end'] = msg\n",
    "        result['star_seq'] = msg\n",
    "        result['num_of_linking_residues'] = msg\n",
    "        result['star_branching'] = msg\n",
    "        result['boi_start']  = msg\n",
    "        result['boi_end'] = msg\n",
    "        return pd.Series(result) \n",
    "    # \n",
    "    if(hit_start - extra < 0 or (len(values) - hit_end) < extra):\n",
    "        msg = \"Not enough flanking for hit region\"        \n",
    "        result['mir_type'] = msg\n",
    "        result['star_start'] = msg\n",
    "        result['star_end'] = msg\n",
    "        result['star_seq'] = msg\n",
    "        result['num_of_linking_residues'] = msg\n",
    "        result['star_branching'] = msg\n",
    "        result['boi_start']  = msg\n",
    "        result['boi_end'] = msg\n",
    "        return pd.Series(result) \n",
    "    \n",
    "    [flanking_istar_min, flanking_istar_max] = get_istar_min_max(values[(hit_start-extra):(hit_end+extra)], hit_self_complementarity)  \n",
    "    result['flanking_istar_min']  = flanking_istar_min\n",
    "    result['flanking_istar_max']  = flanking_istar_max    \n",
    "    \n",
    "    continuous_pairing = get_continuous_pairing(hit_start, hit_end, flanking_istar_min, flanking_istar_max, hit_self_complementarity)\n",
    "    result['continuous_pairing'] = continuous_pairing    \n",
    "    if(continuous_pairing == \"no\"):\n",
    "        msg = \"discontinuous star strand\"        \n",
    "        result['mir_type'] = msg\n",
    "        result['star_start'] = msg\n",
    "        result['star_end'] = msg\n",
    "        result['star_seq'] = msg\n",
    "        result['num_of_linking_residues'] = msg\n",
    "        result['star_branching'] = msg\n",
    "        result['boi_start']  = msg\n",
    "        result['boi_end'] = msg\n",
    "        return pd.Series(result) \n",
    "    \n",
    "    [istar_min, istar_max] = get_istar_min_max(inc_srange, hit_self_complementarity)  \n",
    "    result['istar_min']  = istar_min\n",
    "    result['istar_max']  = istar_max\n",
    "    \n",
    "    mir_type = get_mir_type(hit_start, hit_end, istar_min, istar_max, continuous_pairing, complementarity_in_hit_region, hit_self_complementarity)\n",
    "    result['mir_type'] = mir_type    \n",
    "    if(mir_type not in ['3p', '5p']):\n",
    "        msg = mir_type        \n",
    "        result['star_start'] = msg\n",
    "        result['star_end'] = msg\n",
    "        result['star_seq'] = msg\n",
    "        result['num_of_linking_residues'] = msg\n",
    "        result['star_branching'] = msg\n",
    "        result['boi_start']  = msg\n",
    "        result['boi_end'] = msg\n",
    "        return pd.Series(result) \n",
    "    \n",
    "    [star_start, star_start_msg] = get_star_start(hit_start, hit_end, values)\n",
    "    [star_end, star_end_msg] = get_star_end(hit_start, hit_end, values)\n",
    "    result['star_start'] = star_start \n",
    "    result['star_start_msg'] = star_start_msg     \n",
    "    result['star_end'] = star_end    \n",
    "    result['star_end_msg'] =  star_end_msg\n",
    "    \n",
    "    star_range = index[star_start - 1:star_end]\n",
    "    star_seq = ''.join(nucleotide[star_start - 1:star_end])\n",
    "    result['star_seq'] = star_seq\n",
    "    num_of_linking_residues = get_num_of_linking_residues(hit_start,hit_end, star_start, star_end, mir_type)\n",
    "    result['num_of_linking_residues'] = num_of_linking_residues\n",
    "    star_branching = get_star_branching(star_start, star_end, star_range, values)\n",
    "    result['star_branching'] = \"yes\" if star_branching else \"no\"\n",
    "    [boi_start, boi_end] = get_boi(hit_start, hit_end, values, mir_type)\n",
    "    boi_seq = ''.join(nucleotide[boi_start-1: boi_end].tolist())\n",
    "    result['boi_start'] = boi_start\n",
    "    result['boi_end'] =  boi_end\n",
    "    result['boi_seq'] =  boi_seq\n",
    "    result['terminal_structure_range'] = boi_seq\n",
    "    terminal_structure_range = get_terminal_structure_range(hit_start, hit_end, star_start, star_end, mir_type)\n",
    "    result['terminal_structure_range'] = [i+1 for i in terminal_structure_range]    \n",
    "    if(num_of_linking_residues == 0):        \n",
    "        result['number_of_terminal_structure'] = \"no residues between miR and miR*\" \n",
    "    else:\n",
    "        number_of_terminal_structure = get_number_of_terminal_structure(values, terminal_structure_range)\n",
    "        if(number_of_terminal_structure == 0):\n",
    "            result['number_of_terminal_structure'] = \"one loop without stem\"\n",
    "        elif(number_of_terminal_structure == 1):\n",
    "            result['number_of_terminal_structure'] = \"todo: ????????????????????????????????????????\"\n",
    "        else:            \n",
    "            result['number_of_terminal_structure'] = number_of_terminal_structure\n",
    "            [branch_start_point, branch_end_point]  = get_branch_star_end_point(values, terminal_structure_range,result['pdf'])\n",
    "            for i in range(acceptable_terminal_structures):\n",
    "                if(i < len(branch_start_point)):\n",
    "                    result[f'branch#{i + 1}_start_point'] = branch_start_point[i]\n",
    "                    result[f'branch#{i + 1}_end_point'] = branch_end_point[i]\n",
    "                    result[f'branch#{i + 1}_length'] = abs(branch_end_point[i] - branch_start_point[i]) + 1\n",
    "                else:\n",
    "                    result[f'branch#{i + 1}_start_point'] = \"\"\n",
    "                    result[f'branch#{i + 1}_end_point'] = \"\"            \n",
    "                    result[f'branch#{i + 1}_length'] = \"\"\n",
    "    return pd.Series(result)"
   ]
  },
  {
   "cell_type": "code",
   "execution_count": 135,
   "metadata": {
    "ExecuteTime": {
     "end_time": "2021-11-23T18:33:14.373884Z",
     "start_time": "2021-11-23T18:33:14.337536Z"
    },
    "scrolled": true
   },
   "outputs": [
    {
     "data": {
      "text/plain": [
       "[220, 221, 222, 223, 224, 225]"
      ]
     },
     "execution_count": 135,
     "metadata": {},
     "output_type": "execute_result"
    }
   ],
   "source": [
    "def get_df_by_tag(tag):\n",
    "    ct_files = glob.glob(f'{base}{reformat(tag)}/SEQ_*.ct')\n",
    "    return pd.Series(ct_files).apply(lambda path: get_row(tag, path))\n",
    "#get_df_by_tag(df['tag'].iloc[3])\n",
    "get_df_by_tag(\"AMWY02000194.1|1048-1466|201-219|-\")['terminal_structure_range'][0]"
   ]
  },
  {
   "cell_type": "code",
   "execution_count": 136,
   "metadata": {
    "ExecuteTime": {
     "end_time": "2021-11-23T18:33:24.255259Z",
     "start_time": "2021-11-23T18:33:15.429053Z"
    },
    "scrolled": true
   },
   "outputs": [
    {
     "data": {
      "application/vnd.jupyter.widget-view+json": {
       "model_id": "af4a8542368644bd81045b4cc6765f9a",
       "version_major": 2,
       "version_minor": 0
      },
      "text/plain": [
       "  0%|          | 0/2000 [00:00<?, ?it/s]"
      ]
     },
     "metadata": {},
     "output_type": "display_data"
    },
    {
     "name": "stdout",
     "output_type": "stream",
     "text": [
      "updating: ct_analizer_result.csv (deflated 93%)\n"
     ]
    }
   ],
   "source": [
    "def get_df_by_tag(tag):\n",
    "    ct_files = glob.glob(f'{base}{reformat(tag)}/SEQ_*.ct')\n",
    "    return pd.Series(ct_files).apply(lambda path: get_row(tag, path))\n",
    "dfs = []\n",
    "for d in process_map(get_df_by_tag , df['tag'], tqdm_class=tqdm, max_workers=mp.cpu_count()- 1, chunksize=5):\n",
    "    dfs.append(d)\n",
    "df_result = pd.concat(dfs,axis=0)\n",
    "df_result.to_csv(\"ct_analizer_result.csv\", index=False)\n",
    "!zip -r ct_analizer_result.csv.zip ./ct_analizer_result.csv"
   ]
  },
  {
   "cell_type": "markdown",
   "metadata": {
    "heading_collapsed": true
   },
   "source": [
    "# BLASTX or DIMOND"
   ]
  },
  {
   "cell_type": "markdown",
   "metadata": {
    "heading_collapsed": true
   },
   "source": [
    "# DIAMOND"
   ]
  },
  {
   "cell_type": "markdown",
   "metadata": {
    "ExecuteTime": {
     "end_time": "2021-10-17T20:40:11.194148Z",
     "start_time": "2021-10-17T20:40:11.187523Z"
    },
    "hidden": true
   },
   "source": [
    "https://github.com/bbuchfink/diamond"
   ]
  },
  {
   "cell_type": "code",
   "execution_count": null,
   "metadata": {
    "hidden": true
   },
   "outputs": [],
   "source": []
  },
  {
   "cell_type": "code",
   "execution_count": null,
   "metadata": {
    "hidden": true
   },
   "outputs": [],
   "source": []
  },
  {
   "cell_type": "code",
   "execution_count": null,
   "metadata": {
    "hidden": true
   },
   "outputs": [],
   "source": [
    "'''\n",
    "import hashlib\n",
    "import os\n",
    "parallel = [os.path.join(dp, f) for dp, dn, filenames in os.walk(\"./PRNA_secondary_structure\") for f in filenames ]\n",
    "series = [os.path.join(dp, f) for dp, dn, filenames in os.walk(\"./SRNA_secondary_structure\") for f in filenames ]\n",
    "for i in range(len(parallel)):        \n",
    "    md5_hash = hashlib.md5()\n",
    "    with open(parallel[i],\"rb\") as file:        \n",
    "        md5_hash.update(file.read())\n",
    "        digest1 = md5_hash.hexdigest()                \n",
    "    md5_hash = hashlib.md5()\n",
    "    with open(series[i],\"rb\") as file:        \n",
    "        md5_hash.update(file.read())\n",
    "        digest2 = md5_hash.hexdigest()                \n",
    "    if(digest1 != digest2):\n",
    "        print(parallel[i])\n",
    "        print(series[i])\n",
    "        print(\"***********\")     \n",
    "'''"
   ]
  }
 ],
 "metadata": {
  "hide_input": false,
  "kernelspec": {
   "display_name": "Python 3",
   "language": "python",
   "name": "python3"
  },
  "language_info": {
   "codemirror_mode": {
    "name": "ipython",
    "version": 3
   },
   "file_extension": ".py",
   "mimetype": "text/x-python",
   "name": "python",
   "nbconvert_exporter": "python",
   "pygments_lexer": "ipython3",
   "version": "3.8.10"
  },
  "varInspector": {
   "cols": {
    "lenName": 16,
    "lenType": 16,
    "lenVar": 40
   },
   "kernels_config": {
    "python": {
     "delete_cmd_postfix": "",
     "delete_cmd_prefix": "del ",
     "library": "var_list.py",
     "varRefreshCmd": "print(var_dic_list())"
    },
    "r": {
     "delete_cmd_postfix": ") ",
     "delete_cmd_prefix": "rm(",
     "library": "var_list.r",
     "varRefreshCmd": "cat(var_dic_list()) "
    }
   },
   "types_to_exclude": [
    "module",
    "function",
    "builtin_function_or_method",
    "instance",
    "_Feature"
   ],
   "window_display": false
  }
 },
 "nbformat": 4,
 "nbformat_minor": 4
}
