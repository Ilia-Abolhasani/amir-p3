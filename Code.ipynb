{
 "cells": [
  {
   "cell_type": "markdown",
   "metadata": {
    "heading_collapsed": true
   },
   "source": [
    "# Common"
   ]
  },
  {
   "cell_type": "code",
   "execution_count": 1,
   "metadata": {
    "ExecuteTime": {
     "end_time": "2022-02-13T18:52:10.922458Z",
     "start_time": "2022-02-13T18:52:10.918744Z"
    },
    "hidden": true
   },
   "outputs": [],
   "source": [
    "#!pip install tqdm"
   ]
  },
  {
   "cell_type": "code",
   "execution_count": 2,
   "metadata": {
    "ExecuteTime": {
     "end_time": "2022-02-13T18:52:12.013884Z",
     "start_time": "2022-02-13T18:52:11.529743Z"
    },
    "hidden": true
   },
   "outputs": [],
   "source": [
    "import math\n",
    "import numpy as np\n",
    "import pandas as pd\n",
    "from tqdm.contrib.concurrent import process_map\n",
    "from tqdm.notebook import tqdm\n",
    "tqdm.pandas()\n",
    "import multiprocessing as mp\n",
    "import shutil\n",
    "import glob\n",
    "import os\n",
    "import sys\n",
    "if sys.version_info[0] < 3: \n",
    "    from StringIO import StringIO\n",
    "else:\n",
    "    from io import StringIO"
   ]
  },
  {
   "cell_type": "code",
   "execution_count": 3,
   "metadata": {
    "ExecuteTime": {
     "end_time": "2022-02-13T18:52:12.139948Z",
     "start_time": "2022-02-13T18:52:12.017144Z"
    },
    "hidden": true
   },
   "outputs": [],
   "source": [
    "!mkdir -p Temp"
   ]
  },
  {
   "cell_type": "code",
   "execution_count": 4,
   "metadata": {
    "ExecuteTime": {
     "end_time": "2022-02-13T18:52:12.507071Z",
     "start_time": "2022-02-13T18:52:12.501351Z"
    },
    "hidden": true
   },
   "outputs": [],
   "source": [
    "def bracket_row(row):    \n",
    "    s = row['data']\n",
    "    index = min(s.find('.'), s.find('('))\n",
    "    data = row['data']\n",
    "    row['data'] = data[0:index]\n",
    "    row['bracket'] = data[index:]\n",
    "    return row"
   ]
  },
  {
   "cell_type": "code",
   "execution_count": 5,
   "metadata": {
    "ExecuteTime": {
     "end_time": "2022-02-13T18:52:12.938213Z",
     "start_time": "2022-02-13T18:52:12.933441Z"
    },
    "hidden": true
   },
   "outputs": [],
   "source": [
    "def adjust(text,n=7):\n",
    "    text = str(text)    \n",
    "    return \" \" * (n - len(text)) + text"
   ]
  },
  {
   "cell_type": "code",
   "execution_count": 6,
   "metadata": {
    "ExecuteTime": {
     "end_time": "2022-02-13T18:52:13.257982Z",
     "start_time": "2022-02-13T18:52:13.246739Z"
    },
    "hidden": true
   },
   "outputs": [],
   "source": [
    "def bracket_to_ct(tag, data, bracket, deltaG, negative_deltaG=True):    \n",
    "    deltaG = deltaG.replace('(','').replace(')','')\n",
    "    deltaG = float(deltaG)\n",
    "    if(deltaG > 0 and negative_deltaG ): # negetive?!\n",
    "        deltaG = -1 * deltaG\n",
    "    stack = []\n",
    "    index = np.zeros((len(bracket)), dtype = int)\n",
    "    values = np.zeros((len(bracket)), dtype = int)\n",
    "    for i in range(len(bracket)):\n",
    "        index[i] = i + 1\n",
    "        if(bracket[i] == '.'):\n",
    "            values[i] = 0\n",
    "        elif(bracket[i] == '('):\n",
    "            stack.append(i)\n",
    "        elif(bracket[i] == ')'):\n",
    "            if(len(stack) == 0 ):\n",
    "                print('structure error!')\n",
    "            values[stack[-1]] = i + 1\n",
    "            values[i]  = stack[-1] + 1\n",
    "            stack.pop()\n",
    "        else:\n",
    "            print('structure error!')\n",
    "    if(len(stack) != 0 ):\n",
    "        print('structure error!')\n",
    "    # body    \n",
    "    ct = f\"{adjust(len(data),6)} dG ={adjust(deltaG,10)} {tag}\\n\"   \n",
    "    for i in range(len(bracket)):\n",
    "        ct += f\"{adjust(index[i],6)} {data[i]} {adjust(i,6)} {adjust((i+2)%(len(data)+1),6)} {adjust(values[i],6)} {adjust(index[i],7)}\\n\"\n",
    "    return ct"
   ]
  },
  {
   "cell_type": "code",
   "execution_count": 7,
   "metadata": {
    "ExecuteTime": {
     "end_time": "2022-02-13T18:52:13.562225Z",
     "start_time": "2022-02-13T18:52:13.554399Z"
    },
    "hidden": true
   },
   "outputs": [],
   "source": [
    "def fasta_to_df(path):\n",
    "    with open(path, 'r') as file:\n",
    "        text = file.read()\n",
    "    lines = [line for line in text.split('\\n') if len(line) > 0]\n",
    "    s = ''\n",
    "    tags = []\n",
    "    data = []\n",
    "    for l in lines:\n",
    "        if(l[0]=='>'):\n",
    "            tags.append(l)        \n",
    "            data.append(s)\n",
    "            s = ''\n",
    "        else:\n",
    "            s += l    \n",
    "    data.append(s)\n",
    "    df = pd.DataFrame(\n",
    "            {\n",
    "                'tag': tags,\n",
    "                'data': data[1:]\n",
    "            })\n",
    "    df['tag'] = df['tag'].apply(lambda x: x[1:])    \n",
    "    return df"
   ]
  },
  {
   "cell_type": "code",
   "execution_count": 8,
   "metadata": {
    "ExecuteTime": {
     "end_time": "2022-02-13T18:52:13.844948Z",
     "start_time": "2022-02-13T18:52:13.839661Z"
    },
    "hidden": true
   },
   "outputs": [],
   "source": [
    "def df_to_fasta(df, path):\n",
    "    lines = []\n",
    "    df.apply(lambda row: lines.append(f\">{row['tag']}\\n{row['data']}\\n\"),axis=1)\n",
    "    with open(path,'w') as file:\n",
    "        file.write(''.join(lines))"
   ]
  },
  {
   "cell_type": "code",
   "execution_count": 9,
   "metadata": {
    "ExecuteTime": {
     "end_time": "2022-02-13T18:52:14.141913Z",
     "start_time": "2022-02-13T18:52:14.137732Z"
    },
    "hidden": true
   },
   "outputs": [],
   "source": [
    "def reformat(path):\n",
    "    return path.replace('(','_').replace(')','_').replace('.','').replace(':','_')"
   ]
  },
  {
   "cell_type": "code",
   "execution_count": 10,
   "metadata": {
    "ExecuteTime": {
     "end_time": "2022-02-13T18:52:14.478625Z",
     "start_time": "2022-02-13T18:52:14.470784Z"
    },
    "hidden": true
   },
   "outputs": [],
   "source": [
    "def reformatCT(path):\n",
    "    with open(path, 'r') as file:\n",
    "        text = file.read()\n",
    "    text = [l for l in text.split('\\n') if len(l) > 0 ] # remove blank lines\n",
    "    text = '\\n'.join(text)\n",
    "    text = text.replace(\"\\t\",\" \")\n",
    "    while(\"  \" in text):\n",
    "        text = text.replace(\"  \", \" \")\n",
    "    lines = [l for l in text.split('\\n')]\n",
    "    for i in range(len(lines)):\n",
    "        if(lines[i][0] == \" \"):\n",
    "            lines[i] = lines[i][1:]\n",
    "        if(lines[i][-1] == \" \"):\n",
    "            lines[i] = lines[i][:-1]\n",
    "    text = '\\n'.join(lines)\n",
    "    return text"
   ]
  },
  {
   "cell_type": "code",
   "execution_count": 11,
   "metadata": {
    "ExecuteTime": {
     "end_time": "2022-02-13T18:52:14.850265Z",
     "start_time": "2022-02-13T18:52:14.844741Z"
    },
    "hidden": true
   },
   "outputs": [],
   "source": [
    "def get_ct_data(ct):\n",
    "    ct = \"\\n\".join(ct.split('\\n')[1:])\n",
    "    df = pd.read_csv(StringIO(ct), sep=\" \", header=None)               \n",
    "    nucleotide = df.iloc[:,1]\n",
    "    index = df.iloc[:,5]\n",
    "    values = df.iloc[:,4]\n",
    "    return [nucleotide, index, values]"
   ]
  },
  {
   "cell_type": "code",
   "execution_count": 12,
   "metadata": {
    "ExecuteTime": {
     "end_time": "2022-02-13T18:52:15.411065Z",
     "start_time": "2022-02-13T18:52:15.405349Z"
    },
    "hidden": true
   },
   "outputs": [],
   "source": [
    "def ct2dot_bracket(path):\n",
    "    [nucleotide, index, values] = get_ct_data(reformatCT(path))\n",
    "    text = ''.join(nucleotide) + \"\\n\"\n",
    "    watch = []\n",
    "    for i, v in zip(index,values):\n",
    "        if(v == 0):\n",
    "            text += '.'\n",
    "        else:\n",
    "            if( v not in watch):\n",
    "                text += '('\n",
    "                watch.append(i)\n",
    "            if( v in watch):\n",
    "                text += ')'\n",
    "    return text"
   ]
  },
  {
   "cell_type": "code",
   "execution_count": 13,
   "metadata": {
    "ExecuteTime": {
     "end_time": "2022-02-13T18:52:15.460986Z",
     "start_time": "2022-02-13T18:52:15.455283Z"
    },
    "hidden": true
   },
   "outputs": [],
   "source": [
    "def is_nested(index, values):\n",
    "    max_value = max(index) + 10 # inf\n",
    "    for i, v in zip(index, values):\n",
    "        if(v < max_value and v != 0):\n",
    "            max_value  = v\n",
    "        if(i >= max_value):\n",
    "            max_value = max(index) + 10 # inf\n",
    "        if(v > max_value):\n",
    "            return False               \n",
    "    return True"
   ]
  },
  {
   "cell_type": "code",
   "execution_count": 14,
   "metadata": {
    "ExecuteTime": {
     "end_time": "2022-02-13T18:52:15.722914Z",
     "start_time": "2022-02-13T18:52:15.718983Z"
    },
    "hidden": true
   },
   "outputs": [],
   "source": [
    "'''ct = reformatCT('./secondary_structure/spot_rna/AMWY020598281_2832-3256_+_/AMWY020598281_2832-3256_+_.ct')\n",
    "[nucleotide, index, values] = get_ct_data(ct)\n",
    "print(is_nested( index,  values))\n",
    "''';"
   ]
  },
  {
   "cell_type": "markdown",
   "metadata": {
    "hidden": true
   },
   "source": [
    "### rename tag of input genome to new tag id"
   ]
  },
  {
   "cell_type": "markdown",
   "metadata": {
    "heading_collapsed": true
   },
   "source": [
    "# Download dataset"
   ]
  },
  {
   "cell_type": "code",
   "execution_count": null,
   "metadata": {
    "ExecuteTime": {
     "end_time": "2021-11-14T15:26:00.765914Z",
     "start_time": "2021-11-14T15:26:00.762196Z"
    },
    "hidden": true
   },
   "outputs": [],
   "source": [
    "'''\n",
    "from Bio import Entrez\n",
    "Entrez.email = \"abolhasani.eliya@gmail.com\"     \n",
    "with Entrez.esearch(db='nucleotide', term=\"Arabidopsis thaliana\") as handle:\n",
    "    result = Entrez.read(handle)\n",
    "\n",
    "print(result)\n",
    "genome_ids = result['IdList']\n",
    "\n",
    "for genome_id in genome_ids:\n",
    "    print(genome_id)\n",
    "    record = Entrez.efetch(db=\"nucleotide\", id=genome_id, rettype=\"fasta\", retmode=\"text\")        \n",
    "    with open(f'{genome_id}.fasta', 'w') as f:\n",
    "        f.write(record.read())\n",
    "    break\n",
    "''';\n",
    "'''\n",
    "from Bio import Entrez\n",
    "Entrez.email = \"abolhasani.eliya@gmail.com\"     \n",
    "record = Entrez.efetch(db=\"nucleotide\", id=\"NC_054143.4\", rettype=\"fasta\", retmode=\"text\")        \n",
    "with open(f'data.fasta', 'w') as f:\n",
    "    f.write(record.read())\n",
    "''';"
   ]
  },
  {
   "cell_type": "code",
   "execution_count": null,
   "metadata": {
    "ExecuteTime": {
     "end_time": "2021-11-14T14:40:09.505684Z",
     "start_time": "2021-11-14T14:40:04.087813Z"
    },
    "hidden": true
   },
   "outputs": [],
   "source": [
    "!wget https://ftp.ncbi.nlm.nih.gov/genomes/all/GCA/000/439/995/GCA_000439995.3_AzaInd2.1/GCA_000439995.3_AzaInd2.1_genomic.fna.gz"
   ]
  },
  {
   "cell_type": "code",
   "execution_count": null,
   "metadata": {
    "ExecuteTime": {
     "end_time": "2021-10-24T15:35:44.724088Z",
     "start_time": "2021-10-24T15:35:41.652464Z"
    },
    "hidden": true
   },
   "outputs": [],
   "source": [
    "!gzip -d ./GCA_000439995.3_AzaInd2.1_genomic.fna.gz"
   ]
  },
  {
   "cell_type": "markdown",
   "metadata": {
    "heading_collapsed": true
   },
   "source": [
    "# Download data from Mirbase"
   ]
  },
  {
   "cell_type": "code",
   "execution_count": 15,
   "metadata": {
    "ExecuteTime": {
     "end_time": "2022-02-06T18:18:39.883439Z",
     "start_time": "2022-02-06T18:18:39.879755Z"
    },
    "hidden": true
   },
   "outputs": [],
   "source": [
    "directory = 'miRBase_driven_data'"
   ]
  },
  {
   "cell_type": "code",
   "execution_count": null,
   "metadata": {
    "ExecuteTime": {
     "end_time": "2021-11-14T15:38:44.732483Z",
     "start_time": "2021-11-14T15:38:31.128444Z"
    },
    "hidden": true
   },
   "outputs": [],
   "source": [
    "base = \"https://www.mirbase.org/ftp/CURRENT\"        \n",
    "!rm -r {directory}\n",
    "!mkdir -p {directory}\n",
    "!wget {base}/aliases.txt.gz -P ./{directory}/       ; gzip -d ./{directory}/aliases.txt.gz \n",
    "!wget {base}/hairpin.fa.gz -P ./{directory}/           ; gzip -d ./{directory}/hairpin.fa.gz \n",
    "!wget {base}/hairpin_high_conf.fa.gz -P ./{directory}/ ; gzip -d ./{directory}/hairpin_high_conf.fa.gz \n",
    "!wget {base}/mature.fa.gz -P ./{directory}/            ; gzip -d ./{directory}/mature.fa.gz \n",
    "!wget {base}/mature_high_conf.fa.gz -P ./{directory}/  ; gzip -d ./{directory}/mature_high_conf.fa.gz\n",
    "!wget {base}/miRNA.str.gz -P ./{directory}/            ; gzip -d ./{directory}/miRNA.str.gz \n",
    "!wget {base}/miRNA.xls.gz -P ./{directory}/            ; gzip -d ./{directory}/miRNA.xls.gz \n",
    "!wget {base}/organisms.txt.gz -P ./{directory}/        ; gzip -d ./{directory}/organisms.txt.gz"
   ]
  },
  {
   "cell_type": "code",
   "execution_count": 16,
   "metadata": {
    "ExecuteTime": {
     "end_time": "2022-02-06T18:18:44.337557Z",
     "start_time": "2022-02-06T18:18:44.140770Z"
    },
    "hidden": true
   },
   "outputs": [
    {
     "name": "stdout",
     "output_type": "stream",
     "text": [
      "(48885, 3)\n"
     ]
    },
    {
     "data": {
      "text/html": [
       "<div>\n",
       "<style scoped>\n",
       "    .dataframe tbody tr th:only-of-type {\n",
       "        vertical-align: middle;\n",
       "    }\n",
       "\n",
       "    .dataframe tbody tr th {\n",
       "        vertical-align: top;\n",
       "    }\n",
       "\n",
       "    .dataframe thead th {\n",
       "        text-align: right;\n",
       "    }\n",
       "</style>\n",
       "<table border=\"1\" class=\"dataframe\">\n",
       "  <thead>\n",
       "    <tr style=\"text-align: right;\">\n",
       "      <th></th>\n",
       "      <th>tag</th>\n",
       "      <th>data</th>\n",
       "      <th>organism</th>\n",
       "    </tr>\n",
       "  </thead>\n",
       "  <tbody>\n",
       "    <tr>\n",
       "      <th>0</th>\n",
       "      <td>cel-let-7-5p MIMAT0000001 Caenorhabditis elega...</td>\n",
       "      <td>UGAGGUAGUAGGUUGUAUAGUU</td>\n",
       "      <td>cel</td>\n",
       "    </tr>\n",
       "    <tr>\n",
       "      <th>1</th>\n",
       "      <td>cel-let-7-3p MIMAT0015091 Caenorhabditis elega...</td>\n",
       "      <td>CUAUGCAAUUUUCUACCUUACC</td>\n",
       "      <td>cel</td>\n",
       "    </tr>\n",
       "  </tbody>\n",
       "</table>\n",
       "</div>"
      ],
      "text/plain": [
       "                                                 tag                    data  \\\n",
       "0  cel-let-7-5p MIMAT0000001 Caenorhabditis elega...  UGAGGUAGUAGGUUGUAUAGUU   \n",
       "1  cel-let-7-3p MIMAT0015091 Caenorhabditis elega...  CUAUGCAAUUUUCUACCUUACC   \n",
       "\n",
       "  organism  \n",
       "0      cel  \n",
       "1      cel  "
      ]
     },
     "execution_count": 16,
     "metadata": {},
     "output_type": "execute_result"
    }
   ],
   "source": [
    "df = fasta_to_df(f'./{directory}/mature.fa')\n",
    "#df = fasta_to_df(f'./{directory}/hairpin_high_conf.fa')\n",
    "#df = fasta_to_df('./Data/mature_high_conf.fa')\n",
    "df['organism'] = df['tag'].apply(lambda x: x[:3])\n",
    "print(df.shape)\n",
    "df.head(2)"
   ]
  },
  {
   "cell_type": "code",
   "execution_count": 17,
   "metadata": {
    "ExecuteTime": {
     "end_time": "2022-02-06T18:18:44.502018Z",
     "start_time": "2022-02-06T18:18:44.481462Z"
    },
    "hidden": true
   },
   "outputs": [
    {
     "name": "stdout",
     "output_type": "stream",
     "text": [
      "(285, 5)\n"
     ]
    },
    {
     "data": {
      "text/html": [
       "<div>\n",
       "<style scoped>\n",
       "    .dataframe tbody tr th:only-of-type {\n",
       "        vertical-align: middle;\n",
       "    }\n",
       "\n",
       "    .dataframe tbody tr th {\n",
       "        vertical-align: top;\n",
       "    }\n",
       "\n",
       "    .dataframe thead th {\n",
       "        text-align: right;\n",
       "    }\n",
       "</style>\n",
       "<table border=\"1\" class=\"dataframe\">\n",
       "  <thead>\n",
       "    <tr style=\"text-align: right;\">\n",
       "      <th></th>\n",
       "      <th>organism</th>\n",
       "      <th>division</th>\n",
       "      <th>name</th>\n",
       "      <th>tree</th>\n",
       "      <th>NCBI-taxid</th>\n",
       "    </tr>\n",
       "  </thead>\n",
       "  <tbody>\n",
       "    <tr>\n",
       "      <th>0</th>\n",
       "      <td>aqu</td>\n",
       "      <td>AQU</td>\n",
       "      <td>Amphimedon queenslandica</td>\n",
       "      <td>Metazoa;Porifera;</td>\n",
       "      <td>400682</td>\n",
       "    </tr>\n",
       "    <tr>\n",
       "      <th>1</th>\n",
       "      <td>nve</td>\n",
       "      <td>NVE</td>\n",
       "      <td>Nematostella vectensis</td>\n",
       "      <td>Metazoa;Cnidaria;</td>\n",
       "      <td>45351</td>\n",
       "    </tr>\n",
       "  </tbody>\n",
       "</table>\n",
       "</div>"
      ],
      "text/plain": [
       "  organism division                      name               tree  NCBI-taxid\n",
       "0      aqu      AQU  Amphimedon queenslandica  Metazoa;Porifera;      400682\n",
       "1      nve      NVE    Nematostella vectensis  Metazoa;Cnidaria;       45351"
      ]
     },
     "execution_count": 17,
     "metadata": {},
     "output_type": "execute_result"
    }
   ],
   "source": [
    "organism = pd.read_csv(f'./{directory}/organisms.txt',sep='\\t')\n",
    "organism.columns = [c.replace('#','') for c in organism.columns] # remove sharp from columns\n",
    "print(organism.shape)\n",
    "organism.head(2)"
   ]
  },
  {
   "cell_type": "code",
   "execution_count": 18,
   "metadata": {
    "ExecuteTime": {
     "end_time": "2022-02-06T18:18:44.763576Z",
     "start_time": "2022-02-06T18:18:44.754358Z"
    },
    "hidden": true
   },
   "outputs": [
    {
     "data": {
      "text/plain": [
       "['Viruses;',\n",
       " 'Mycetozoa;',\n",
       " 'Alveolata;',\n",
       " 'Metazoa;Porifera;',\n",
       " 'Metazoa;Cnidaria;',\n",
       " 'Viridiplantae;Chlorophyta;',\n",
       " 'Viridiplantae;Embryophyta;',\n",
       " 'Viridiplantae;Coniferophyta;',\n",
       " 'Viridiplantae;Magnoliophyta;',\n",
       " 'Metazoa;Bilateria;Deuterostoma;',\n",
       " 'Chromalveolata;Heterokontophyta;',\n",
       " 'Metazoa;Bilateria;Ecdysozoa;Nematoda;',\n",
       " 'Metazoa;Bilateria;Lophotrochozoa;Annelida;',\n",
       " 'Metazoa;Bilateria;Lophotrochozoa;Nemertea;',\n",
       " 'Metazoa;Bilateria;Lophotrochozoa;Mollusca;',\n",
       " 'Viridiplantae;Magnoliophyta;monocotyledons;',\n",
       " 'Metazoa;Bilateria;Deuterostoma;Hemichordata;',\n",
       " 'Metazoa;Bilateria;Deuterostoma;Echinodermata;',\n",
       " 'Metazoa;Bilateria;Lophotrochozoa;Brachiopoda;',\n",
       " 'Metazoa;Bilateria;Ecdysozoa;Arthropoda;Hexapoda;',\n",
       " 'Metazoa;Bilateria;Ecdysozoa;Arthropoda;Crustacea;',\n",
       " 'Metazoa;Bilateria;Lophotrochozoa;Platyhelminthes;',\n",
       " 'Metazoa;Bilateria;Ecdysozoa;Arthropoda;Chelicerata;',\n",
       " 'Metazoa;Bilateria;Ecdysozoa;Arthropoda;Mandibulata;',\n",
       " 'Viridiplantae;Magnoliophyta;eudicotyledons;Poaceae;',\n",
       " 'Metazoa;Bilateria;Deuterostoma;Chordata;Urochordata;',\n",
       " 'Viridiplantae;Magnoliophyta;eudicotyledons;Fabaceae;',\n",
       " 'Viridiplantae;Magnoliophyta;eudicotyledons;Vitaceae;',\n",
       " 'Viridiplantae;Magnoliophyta;eudicotyledons;Rosaceae;',\n",
       " 'Viridiplantae;Magnoliophyta;eudicotyledons;Rutaceae;',\n",
       " 'Viridiplantae;Magnoliophyta;eudicotyledons;Lamiales;',\n",
       " 'Viridiplantae;Magnoliophyta;eudicotyledons;Linaceae;',\n",
       " 'Viridiplantae;Magnoliophyta;eudicotyledons;Malvaceae;',\n",
       " 'Viridiplantae;Magnoliophyta;eudicotyledons;Myrtaceae;',\n",
       " 'Viridiplantae;Magnoliophyta;eudicotyledons;Caricaceae;',\n",
       " 'Viridiplantae;Magnoliophyta;eudicotyledons;Salicaceae;',\n",
       " 'Viridiplantae;Magnoliophyta;eudicotyledons;Solanaceae;',\n",
       " 'Viridiplantae;Magnoliophyta;eudicotyledons;Asteraceae;',\n",
       " 'Viridiplantae;Magnoliophyta;eudicotyledons;Araliaceae;',\n",
       " 'Viridiplantae;Magnoliophyta;eudicotyledons;Paeoniaceae;',\n",
       " 'Metazoa;Bilateria;Deuterostoma;Chordata;Cephalochordata;',\n",
       " 'Metazoa;Bilateria;Deuterostoma;Chordata;Vertebrata;Aves;',\n",
       " 'Viridiplantae;Magnoliophyta;eudicotyledons;Brassicaceae;',\n",
       " 'Viridiplantae;Magnoliophyta;eudicotyledons;Papaveraceae;',\n",
       " 'Viridiplantae;Magnoliophyta;eudicotyledons;Ranunculaceae;',\n",
       " 'Viridiplantae;Magnoliophyta;eudicotyledons;Euphorbiaceae;',\n",
       " 'Viridiplantae;Magnoliophyta;eudicotyledons;Cucurbitaceae;',\n",
       " 'Viridiplantae;Magnoliophyta;eudicotyledons;Amaranthaceae;',\n",
       " 'Viridiplantae;Magnoliophyta;eudicotyledons;Rhizophoraceae;',\n",
       " 'Metazoa;Bilateria;Deuterostoma;Chordata;Vertebrata;Sauria;',\n",
       " 'Metazoa;Bilateria;Deuterostoma;Chordata;Vertebrata;Amphibia;',\n",
       " 'Metazoa;Bilateria;Deuterostoma;Chordata;Vertebrata;Teleostei;',\n",
       " 'Metazoa;Bilateria;Deuterostoma;Chordata;Vertebrata;Gnathostomata;',\n",
       " 'Metazoa;Bilateria;Deuterostoma;Chordata;Vertebrata;Mammalia;Suina;',\n",
       " 'Metazoa;Bilateria;Deuterostoma;Chordata;Vertebrata;Agnathostomata;',\n",
       " 'Metazoa;Bilateria;Deuterostoma;Chordata;Vertebrata;Mammalia;Rodentia;',\n",
       " 'Metazoa;Bilateria;Deuterostoma;Chordata;Vertebrata;Mammalia;Carnivora;',\n",
       " 'Metazoa;Bilateria;Deuterostoma;Chordata;Vertebrata;Mammalia;Cingulata;',\n",
       " 'Metazoa;Bilateria;Deuterostoma;Chordata;Vertebrata;Mammalia;Metatheria;',\n",
       " 'Metazoa;Bilateria;Deuterostoma;Chordata;Vertebrata;Mammalia;Ruminantia;',\n",
       " 'Metazoa;Bilateria;Deuterostoma;Chordata;Vertebrata;Mammalia;Lagomorpha;',\n",
       " 'Metazoa;Bilateria;Deuterostoma;Chordata;Vertebrata;Mammalia;Scandentia;',\n",
       " 'Metazoa;Bilateria;Deuterostoma;Chordata;Vertebrata;Mammalia;Afrotheria;',\n",
       " 'Metazoa;Bilateria;Deuterostoma;Chordata;Vertebrata;Mammalia;Prototheria;',\n",
       " 'Metazoa;Bilateria;Deuterostoma;Chordata;Vertebrata;Mammalia;Laurasiatheria;',\n",
       " 'Metazoa;Bilateria;Deuterostoma;Chordata;Vertebrata;Mammalia;Primates;Cebidae;',\n",
       " 'Metazoa;Bilateria;Deuterostoma;Chordata;Vertebrata;Mammalia;Primates;Atelidae;',\n",
       " 'Metazoa;Bilateria;Deuterostoma;Chordata;Vertebrata;Mammalia;Primates;Hominidae;',\n",
       " 'Metazoa;Bilateria;Deuterostoma;Chordata;Vertebrata;Mammalia;Primates;Lemuridae;',\n",
       " 'Metazoa;Bilateria;Deuterostoma;Chordata;Vertebrata;Mammalia;Primates;Galagidae;',\n",
       " 'Metazoa;Bilateria;Deuterostoma;Chordata;Vertebrata;Mammalia;Primates;Hylobatidae;',\n",
       " 'Metazoa;Bilateria;Deuterostoma;Chordata;Vertebrata;Mammalia;Primates;Cheirogaleidae;',\n",
       " 'Metazoa;Bilateria;Deuterostoma;Chordata;Vertebrata;Mammalia;Primates;Daubentoniidae;',\n",
       " 'Metazoa;Bilateria;Deuterostoma;Chordata;Vertebrata;Mammalia;Primates;Cercopithecidae;']"
      ]
     },
     "execution_count": 18,
     "metadata": {},
     "output_type": "execute_result"
    }
   ],
   "source": [
    "items = list(organism['tree'].unique())\n",
    "items.sort(key=len)\n",
    "items"
   ]
  },
  {
   "cell_type": "code",
   "execution_count": 19,
   "metadata": {
    "ExecuteTime": {
     "end_time": "2022-02-06T18:18:45.032751Z",
     "start_time": "2022-02-06T18:18:45.014682Z"
    },
    "hidden": true
   },
   "outputs": [
    {
     "name": "stdout",
     "output_type": "stream",
     "text": [
      "(86, 5)\n"
     ]
    },
    {
     "data": {
      "text/html": [
       "<div>\n",
       "<style scoped>\n",
       "    .dataframe tbody tr th:only-of-type {\n",
       "        vertical-align: middle;\n",
       "    }\n",
       "\n",
       "    .dataframe tbody tr th {\n",
       "        vertical-align: top;\n",
       "    }\n",
       "\n",
       "    .dataframe thead th {\n",
       "        text-align: right;\n",
       "    }\n",
       "</style>\n",
       "<table border=\"1\" class=\"dataframe\">\n",
       "  <thead>\n",
       "    <tr style=\"text-align: right;\">\n",
       "      <th></th>\n",
       "      <th>organism</th>\n",
       "      <th>division</th>\n",
       "      <th>name</th>\n",
       "      <th>tree</th>\n",
       "      <th>NCBI-taxid</th>\n",
       "    </tr>\n",
       "  </thead>\n",
       "  <tbody>\n",
       "    <tr>\n",
       "      <th>66</th>\n",
       "      <td>cre</td>\n",
       "      <td>CRE</td>\n",
       "      <td>Chlamydomonas reinhardtii</td>\n",
       "      <td>Viridiplantae;Chlorophyta;</td>\n",
       "      <td>3055</td>\n",
       "    </tr>\n",
       "    <tr>\n",
       "      <th>67</th>\n",
       "      <td>pta</td>\n",
       "      <td>PTA</td>\n",
       "      <td>Pinus taeda</td>\n",
       "      <td>Viridiplantae;Coniferophyta;</td>\n",
       "      <td>3352</td>\n",
       "    </tr>\n",
       "    <tr>\n",
       "      <th>68</th>\n",
       "      <td>ppt</td>\n",
       "      <td>PPT</td>\n",
       "      <td>Physcomitrella patens</td>\n",
       "      <td>Viridiplantae;Embryophyta;</td>\n",
       "      <td>3218</td>\n",
       "    </tr>\n",
       "    <tr>\n",
       "      <th>69</th>\n",
       "      <td>smo</td>\n",
       "      <td>SMO</td>\n",
       "      <td>Selaginella moellendorffii</td>\n",
       "      <td>Viridiplantae;Embryophyta;</td>\n",
       "      <td>88036</td>\n",
       "    </tr>\n",
       "    <tr>\n",
       "      <th>70</th>\n",
       "      <td>ath</td>\n",
       "      <td>ATH</td>\n",
       "      <td>Arabidopsis thaliana</td>\n",
       "      <td>Viridiplantae;Magnoliophyta;eudicotyledons;Bra...</td>\n",
       "      <td>3702</td>\n",
       "    </tr>\n",
       "  </tbody>\n",
       "</table>\n",
       "</div>"
      ],
      "text/plain": [
       "   organism division                        name  \\\n",
       "66      cre      CRE   Chlamydomonas reinhardtii   \n",
       "67      pta      PTA                 Pinus taeda   \n",
       "68      ppt      PPT       Physcomitrella patens   \n",
       "69      smo      SMO  Selaginella moellendorffii   \n",
       "70      ath      ATH        Arabidopsis thaliana   \n",
       "\n",
       "                                                 tree  NCBI-taxid  \n",
       "66                         Viridiplantae;Chlorophyta;        3055  \n",
       "67                       Viridiplantae;Coniferophyta;        3352  \n",
       "68                         Viridiplantae;Embryophyta;        3218  \n",
       "69                         Viridiplantae;Embryophyta;       88036  \n",
       "70  Viridiplantae;Magnoliophyta;eudicotyledons;Bra...        3702  "
      ]
     },
     "execution_count": 19,
     "metadata": {},
     "output_type": "execute_result"
    }
   ],
   "source": [
    "selectedTree = organism[organism['tree'].apply(lambda x: \"Viridiplantae;\" in x)]\n",
    "print(selectedTree.shape)\n",
    "selectedTree.head(5)"
   ]
  },
  {
   "cell_type": "code",
   "execution_count": 20,
   "metadata": {
    "ExecuteTime": {
     "end_time": "2022-02-06T18:18:45.229946Z",
     "start_time": "2022-02-06T18:18:45.204002Z"
    },
    "hidden": true,
    "scrolled": false
   },
   "outputs": [
    {
     "name": "stdout",
     "output_type": "stream",
     "text": [
      "(10414, 3)\n"
     ]
    },
    {
     "data": {
      "text/html": [
       "<div>\n",
       "<style scoped>\n",
       "    .dataframe tbody tr th:only-of-type {\n",
       "        vertical-align: middle;\n",
       "    }\n",
       "\n",
       "    .dataframe tbody tr th {\n",
       "        vertical-align: top;\n",
       "    }\n",
       "\n",
       "    .dataframe thead th {\n",
       "        text-align: right;\n",
       "    }\n",
       "</style>\n",
       "<table border=\"1\" class=\"dataframe\">\n",
       "  <thead>\n",
       "    <tr style=\"text-align: right;\">\n",
       "      <th></th>\n",
       "      <th>tag</th>\n",
       "      <th>data</th>\n",
       "      <th>organism</th>\n",
       "    </tr>\n",
       "  </thead>\n",
       "  <tbody>\n",
       "    <tr>\n",
       "      <th>316</th>\n",
       "      <td>ath-miR156a-5p MIMAT0000166 Arabidopsis thalia...</td>\n",
       "      <td>UGACAGAAGAGAGUGAGCAC</td>\n",
       "      <td>ath</td>\n",
       "    </tr>\n",
       "  </tbody>\n",
       "</table>\n",
       "</div>"
      ],
      "text/plain": [
       "                                                   tag                  data  \\\n",
       "316  ath-miR156a-5p MIMAT0000166 Arabidopsis thalia...  UGACAGAAGAGAGUGAGCAC   \n",
       "\n",
       "    organism  \n",
       "316      ath  "
      ]
     },
     "execution_count": 20,
     "metadata": {},
     "output_type": "execute_result"
    }
   ],
   "source": [
    "selected = df[df['organism'].isin(selectedTree['organism'])]\n",
    "print(selected.shape)\n",
    "selected.head(1)"
   ]
  },
  {
   "cell_type": "code",
   "execution_count": 21,
   "metadata": {
    "ExecuteTime": {
     "end_time": "2022-02-06T18:18:45.674442Z",
     "start_time": "2022-02-06T18:18:45.363727Z"
    },
    "hidden": true
   },
   "outputs": [],
   "source": [
    "df_to_fasta(selected,'./Temp/mature_microRNA_queries.fasta')"
   ]
  },
  {
   "cell_type": "code",
   "execution_count": 22,
   "metadata": {
    "ExecuteTime": {
     "end_time": "2022-02-06T18:18:45.681402Z",
     "start_time": "2022-02-06T18:18:45.677713Z"
    },
    "hidden": true
   },
   "outputs": [],
   "source": [
    "# use this cell for extracting str files for hairpin.fa\n",
    "'''\n",
    "tags = list(selected['tag'].apply(lambda x : x.split(' ')[0]))\n",
    "with open(f'./{directory}/miRNA.str', 'r') as file:\n",
    "    text = file.read()\n",
    "text = text.split('\\n')\n",
    "\n",
    "result = ''\n",
    "for i in range(0,len(text),8):\n",
    "    if(text[i].split(' ')[0][1:] in tags):\n",
    "        result += '\\n'.join(text[i:i+8]) + \"\\n\"        \n",
    "with open(f'./high_conf_hairpin.str', 'w') as file:\n",
    "    file.write(result)\n",
    "''';"
   ]
  },
  {
   "cell_type": "markdown",
   "metadata": {
    "heading_collapsed": true
   },
   "source": [
    "# Remove redundant"
   ]
  },
  {
   "cell_type": "markdown",
   "metadata": {
    "hidden": true
   },
   "source": [
    "## cdhit-est"
   ]
  },
  {
   "cell_type": "code",
   "execution_count": 23,
   "metadata": {
    "ExecuteTime": {
     "end_time": "2022-02-06T18:18:47.540504Z",
     "start_time": "2022-02-06T18:18:47.306578Z"
    },
    "hidden": true
   },
   "outputs": [
    {
     "name": "stdout",
     "output_type": "stream",
     "text": [
      "================================================================\n",
      "Program: CD-HIT, V4.8.1 (+OpenMP), Oct 23 2021, 21:45:39\n",
      "Command: cdhit/cd-hit-est -i\n",
      "         ./Temp/mature_microRNA_queries.fasta -o\n",
      "         ./Temp/NR_mature_microRNA_queries.fasta -c 1 -r 0 -G 1\n",
      "         -g 1 -b 30 -l 10 -aL 0 -AL 99999999 -aS 0 -AS 99999999\n",
      "         -s 0 -S 0\n",
      "\n",
      "Started: Sun Feb  6 21:48:47 2022\n",
      "================================================================\n",
      "                            Output                              \n",
      "----------------------------------------------------------------\n",
      "total seq: 10414\n",
      "longest and shortest : 28 and 17\n",
      "Total letters: 222978\n",
      "Sequences have been sorted\n",
      "\n",
      "Approximated minimal memory consumption:\n",
      "Sequence        : 1M\n",
      "Buffer          : 1 X 12M = 12M\n",
      "Table           : 1 X 16M = 16M\n",
      "Miscellaneous   : 0M\n",
      "Total           : 30M\n",
      "\n",
      "Table limit with the given memory limit:\n",
      "Max number of representatives: 4000000\n",
      "Max number of word counting entries: 96149440\n",
      "\n",
      "comparing sequences from          0  to      10414\n",
      "..........    10000  finished       5817  clusters\n",
      "\n",
      "    10414  finished       6028  clusters\n",
      "\n",
      "Approximated maximum memory consumption: 31M\n",
      "writing new database\n",
      "writing clustering information\n",
      "program completed !\n",
      "\n",
      "Total CPU time 0.11\n"
     ]
    }
   ],
   "source": [
    "!cdhit/cd-hit-est -i ./Temp/mature_microRNA_queries.fasta  -o ./Temp/NR_mature_microRNA_queries.fasta \\\n",
    "    -c 1 -r 0 -G 1 -g 1 -b 30 -l 10 -aL 0 -AL 99999999 -aS 0 \\\n",
    "    -AS 99999999 -s 0 -S 0 "
   ]
  },
  {
   "cell_type": "markdown",
   "metadata": {
    "hidden": true
   },
   "source": [
    "## reformat"
   ]
  },
  {
   "cell_type": "code",
   "execution_count": 24,
   "metadata": {
    "ExecuteTime": {
     "end_time": "2022-02-06T18:18:49.322536Z",
     "start_time": "2022-02-06T18:18:49.284048Z"
    },
    "hidden": true
   },
   "outputs": [
    {
     "name": "stdout",
     "output_type": "stream",
     "text": [
      "(10414, 2)\n"
     ]
    },
    {
     "data": {
      "text/html": [
       "<div>\n",
       "<style scoped>\n",
       "    .dataframe tbody tr th:only-of-type {\n",
       "        vertical-align: middle;\n",
       "    }\n",
       "\n",
       "    .dataframe tbody tr th {\n",
       "        vertical-align: top;\n",
       "    }\n",
       "\n",
       "    .dataframe thead th {\n",
       "        text-align: right;\n",
       "    }\n",
       "</style>\n",
       "<table border=\"1\" class=\"dataframe\">\n",
       "  <thead>\n",
       "    <tr style=\"text-align: right;\">\n",
       "      <th></th>\n",
       "      <th>seqid</th>\n",
       "      <th>cluster</th>\n",
       "    </tr>\n",
       "  </thead>\n",
       "  <tbody>\n",
       "    <tr>\n",
       "      <th>0</th>\n",
       "      <td>cst-miR11332</td>\n",
       "      <td>C0</td>\n",
       "    </tr>\n",
       "    <tr>\n",
       "      <th>1</th>\n",
       "      <td>stu-miR7994b-5p</td>\n",
       "      <td>C1</td>\n",
       "    </tr>\n",
       "  </tbody>\n",
       "</table>\n",
       "</div>"
      ],
      "text/plain": [
       "             seqid cluster\n",
       "0     cst-miR11332      C0\n",
       "1  stu-miR7994b-5p      C1"
      ]
     },
     "execution_count": 24,
     "metadata": {},
     "output_type": "execute_result"
    }
   ],
   "source": [
    "with open('./Temp/NR_mature_microRNA_queries.fasta.clstr','r') as file:\n",
    "    text = file.read()\n",
    "lines = [line for line in text.split('\\n') if len(line) > 0]\n",
    "cluster = []\n",
    "seqid = []\n",
    "last_cluster = \"\"\n",
    "for l in lines:\n",
    "    if(l[0]=='>'):        \n",
    "        last_cluster = l.replace('>Cluster ',\"C\")\n",
    "    else:        \n",
    "        cluster.append(last_cluster)\n",
    "        seqid.append(l.split(', >')[1].split('...')[0])                \n",
    "seq2cluster = pd.DataFrame({'seqid': seqid,'cluster': cluster})\n",
    "print(seq2cluster.shape)\n",
    "seq2cluster.head(2)    "
   ]
  },
  {
   "cell_type": "code",
   "execution_count": 25,
   "metadata": {
    "ExecuteTime": {
     "end_time": "2022-02-06T18:18:49.936596Z",
     "start_time": "2022-02-06T18:18:49.828485Z"
    },
    "hidden": true
   },
   "outputs": [
    {
     "name": "stdout",
     "output_type": "stream",
     "text": [
      "(10414, 3)\n"
     ]
    },
    {
     "data": {
      "text/html": [
       "<div>\n",
       "<style scoped>\n",
       "    .dataframe tbody tr th:only-of-type {\n",
       "        vertical-align: middle;\n",
       "    }\n",
       "\n",
       "    .dataframe tbody tr th {\n",
       "        vertical-align: top;\n",
       "    }\n",
       "\n",
       "    .dataframe thead th {\n",
       "        text-align: right;\n",
       "    }\n",
       "</style>\n",
       "<table border=\"1\" class=\"dataframe\">\n",
       "  <thead>\n",
       "    <tr style=\"text-align: right;\">\n",
       "      <th></th>\n",
       "      <th>cluster</th>\n",
       "      <th>seqid</th>\n",
       "      <th>tag</th>\n",
       "    </tr>\n",
       "  </thead>\n",
       "  <tbody>\n",
       "    <tr>\n",
       "      <th>0</th>\n",
       "      <td>C5495</td>\n",
       "      <td>ath-miR156a-5p</td>\n",
       "      <td>ath-miR156a-5p MIMAT0000166 Arabidopsis thalia...</td>\n",
       "    </tr>\n",
       "    <tr>\n",
       "      <th>1</th>\n",
       "      <td>C1199</td>\n",
       "      <td>ath-miR156a-3p</td>\n",
       "      <td>ath-miR156a-3p MIMAT0031865 Arabidopsis thalia...</td>\n",
       "    </tr>\n",
       "  </tbody>\n",
       "</table>\n",
       "</div>"
      ],
      "text/plain": [
       "  cluster           seqid                                                tag\n",
       "0   C5495  ath-miR156a-5p  ath-miR156a-5p MIMAT0000166 Arabidopsis thalia...\n",
       "1   C1199  ath-miR156a-3p  ath-miR156a-3p MIMAT0031865 Arabidopsis thalia..."
      ]
     },
     "metadata": {},
     "output_type": "display_data"
    }
   ],
   "source": [
    "df = fasta_to_df(\"./Temp/mature_microRNA_queries.fasta\")\n",
    "df['accession'] = df['tag'].apply(lambda x : x.split(' ')[0])\n",
    "seq2cluster = pd.merge(df,seq2cluster,how=\"inner\",left_on='accession',right_on=\"seqid\")[['cluster','seqid','tag']]\n",
    "print(seq2cluster.shape)\n",
    "display(seq2cluster.head(2))\n",
    "seq2cluster.to_csv('./Temp/seq2cluster.csv',index=False)"
   ]
  },
  {
   "cell_type": "code",
   "execution_count": 26,
   "metadata": {
    "ExecuteTime": {
     "end_time": "2022-02-06T18:18:50.353855Z",
     "start_time": "2022-02-06T18:18:50.331891Z"
    },
    "hidden": true
   },
   "outputs": [
    {
     "data": {
      "text/html": [
       "<div>\n",
       "<style scoped>\n",
       "    .dataframe tbody tr th:only-of-type {\n",
       "        vertical-align: middle;\n",
       "    }\n",
       "\n",
       "    .dataframe tbody tr th {\n",
       "        vertical-align: top;\n",
       "    }\n",
       "\n",
       "    .dataframe thead th {\n",
       "        text-align: right;\n",
       "    }\n",
       "</style>\n",
       "<table border=\"1\" class=\"dataframe\">\n",
       "  <thead>\n",
       "    <tr style=\"text-align: right;\">\n",
       "      <th></th>\n",
       "      <th>cluster</th>\n",
       "      <th>seqid</th>\n",
       "      <th>tag</th>\n",
       "    </tr>\n",
       "  </thead>\n",
       "  <tbody>\n",
       "    <tr>\n",
       "      <th>9422</th>\n",
       "      <td>C0</td>\n",
       "      <td>cst-miR11332</td>\n",
       "      <td>cst-miR11332 MIMAT0044622 Cucumis sativus miR1...</td>\n",
       "    </tr>\n",
       "    <tr>\n",
       "      <th>7002</th>\n",
       "      <td>C1</td>\n",
       "      <td>stu-miR7994b-5p</td>\n",
       "      <td>stu-miR7994b-5p MIMAT0031188 Solanum tuberosum...</td>\n",
       "    </tr>\n",
       "  </tbody>\n",
       "</table>\n",
       "</div>"
      ],
      "text/plain": [
       "     cluster            seqid  \\\n",
       "9422      C0     cst-miR11332   \n",
       "7002      C1  stu-miR7994b-5p   \n",
       "\n",
       "                                                    tag  \n",
       "9422  cst-miR11332 MIMAT0044622 Cucumis sativus miR1...  \n",
       "7002  stu-miR7994b-5p MIMAT0031188 Solanum tuberosum...  "
      ]
     },
     "execution_count": 26,
     "metadata": {},
     "output_type": "execute_result"
    }
   ],
   "source": [
    "# todo: sorted first by cluster then by seqid\n",
    "seq2cluster.sort_values(\"cluster\").head(2)"
   ]
  },
  {
   "cell_type": "code",
   "execution_count": 27,
   "metadata": {
    "ExecuteTime": {
     "end_time": "2022-02-06T18:18:51.170977Z",
     "start_time": "2022-02-06T18:18:50.727375Z"
    },
    "hidden": true
   },
   "outputs": [
    {
     "name": "stdout",
     "output_type": "stream",
     "text": [
      "(6028, 2)\n"
     ]
    }
   ],
   "source": [
    "df = fasta_to_df(\"./Temp/NR_mature_microRNA_queries.fasta\")\n",
    "df['tag'] = df['tag'].apply(lambda x : x.split(' ')[0])\n",
    "df = pd.merge(df,seq2cluster,how=\"inner\",left_on='tag',right_on=\"seqid\")[['cluster','data']]\n",
    "\n",
    "lines = []\n",
    "df.apply(lambda row: lines.append(f\">{row['cluster']}\\n{row['data']}\\n\"),axis=1)\n",
    "print(df.shape)\n",
    "with open('./Temp/BLASTn_queries.fasta','w') as file:\n",
    "    file.write(''.join(lines))"
   ]
  },
  {
   "cell_type": "markdown",
   "metadata": {
    "heading_collapsed": true
   },
   "source": [
    "# BlastN"
   ]
  },
  {
   "cell_type": "markdown",
   "metadata": {
    "hidden": true
   },
   "source": [
    "!sudo apt-get install ncbi-blast+\n"
   ]
  },
  {
   "cell_type": "code",
   "execution_count": 28,
   "metadata": {
    "ExecuteTime": {
     "end_time": "2022-02-06T18:19:04.461745Z",
     "start_time": "2022-02-06T18:18:54.650407Z"
    },
    "hidden": true
   },
   "outputs": [
    {
     "name": "stdout",
     "output_type": "stream",
     "text": [
      "\n",
      "\n",
      "Building a new DB, current time: 02/06/2022 21:48:54\n",
      "New DB name:   /home/jupyter/plant_microRNA_prediction/Temp/blastn_database\n",
      "New DB title:  input_genome.fna\n",
      "Sequence type: Nucleotide\n",
      "Keep MBits: T\n",
      "Maximum file size: 1000000000B\n",
      "Adding sequences from FASTA; added 126142 sequences in 9.57086 seconds.\n"
     ]
    }
   ],
   "source": [
    "!makeblastdb -in input_genome.fna \\\n",
    "             -dbtype nucl \\\n",
    "             -out ./Temp/blastn_database"
   ]
  },
  {
   "cell_type": "code",
   "execution_count": 29,
   "metadata": {
    "ExecuteTime": {
     "end_time": "2022-02-06T18:19:04.469900Z",
     "start_time": "2022-02-06T18:19:04.465880Z"
    },
    "hidden": true
   },
   "outputs": [],
   "source": [
    "header = 'qseqid sseqid qstart qend sstart send qseq sseq evalue bitscore score length pident nident mismatch positive gapopen gaps ppos frames qframe sframe sstrand qcovs qcovhsp qlen slen'"
   ]
  },
  {
   "cell_type": "code",
   "execution_count": 30,
   "metadata": {
    "ExecuteTime": {
     "end_time": "2022-02-06T18:21:27.173761Z",
     "start_time": "2022-02-06T18:19:04.474014Z"
    },
    "hidden": true
   },
   "outputs": [],
   "source": [
    "!blastn -query ./Temp/BLASTn_queries.fasta \\\n",
    "        -out ./Temp/BLASTn_result \\\n",
    "        -num_threads {mp.cpu_count()} \\\n",
    "        -db ./Temp/blastn_database \\\n",
    "        -word_size 7 \\\n",
    "        -penalty -3 \\\n",
    "        -reward 2 \\\n",
    "        -gapopen 5 \\\n",
    "        -gapextend 2 \\\n",
    "        -outfmt '6 qseqid sseqid qstart qend sstart send qseq sseq evalue bitscore score length pident nident mismatch positive gapopen gaps ppos frames qframe sframe sstrand qcovs qcovhsp qlen slen'       "
   ]
  },
  {
   "cell_type": "code",
   "execution_count": 31,
   "metadata": {
    "ExecuteTime": {
     "end_time": "2022-02-06T18:21:28.495336Z",
     "start_time": "2022-02-06T18:21:27.178421Z"
    },
    "hidden": true
   },
   "outputs": [
    {
     "name": "stdout",
     "output_type": "stream",
     "text": [
      "(326849, 27)\n"
     ]
    },
    {
     "data": {
      "text/html": [
       "<div>\n",
       "<style scoped>\n",
       "    .dataframe tbody tr th:only-of-type {\n",
       "        vertical-align: middle;\n",
       "    }\n",
       "\n",
       "    .dataframe tbody tr th {\n",
       "        vertical-align: top;\n",
       "    }\n",
       "\n",
       "    .dataframe thead th {\n",
       "        text-align: right;\n",
       "    }\n",
       "</style>\n",
       "<table border=\"1\" class=\"dataframe\">\n",
       "  <thead>\n",
       "    <tr style=\"text-align: right;\">\n",
       "      <th></th>\n",
       "      <th>qseqid</th>\n",
       "      <th>sseqid</th>\n",
       "      <th>qstart</th>\n",
       "      <th>qend</th>\n",
       "      <th>sstart</th>\n",
       "      <th>send</th>\n",
       "      <th>qseq</th>\n",
       "      <th>sseq</th>\n",
       "      <th>evalue</th>\n",
       "      <th>bitscore</th>\n",
       "      <th>...</th>\n",
       "      <th>gaps</th>\n",
       "      <th>ppos</th>\n",
       "      <th>frames</th>\n",
       "      <th>qframe</th>\n",
       "      <th>sframe</th>\n",
       "      <th>sstrand</th>\n",
       "      <th>qcovs</th>\n",
       "      <th>qcovhsp</th>\n",
       "      <th>qlen</th>\n",
       "      <th>slen</th>\n",
       "    </tr>\n",
       "  </thead>\n",
       "  <tbody>\n",
       "    <tr>\n",
       "      <th>0</th>\n",
       "      <td>C5495</td>\n",
       "      <td>AMWY02099822.1</td>\n",
       "      <td>1</td>\n",
       "      <td>20</td>\n",
       "      <td>1769</td>\n",
       "      <td>1750</td>\n",
       "      <td>TGACAGAAGAGAGTGAGCAC</td>\n",
       "      <td>TGACAGAAGAGAGTGAGCAC</td>\n",
       "      <td>0.004</td>\n",
       "      <td>37.4</td>\n",
       "      <td>...</td>\n",
       "      <td>0</td>\n",
       "      <td>100.0</td>\n",
       "      <td>1/-1</td>\n",
       "      <td>1</td>\n",
       "      <td>-1</td>\n",
       "      <td>minus</td>\n",
       "      <td>100</td>\n",
       "      <td>100</td>\n",
       "      <td>20</td>\n",
       "      <td>3308</td>\n",
       "    </tr>\n",
       "    <tr>\n",
       "      <th>1</th>\n",
       "      <td>C5495</td>\n",
       "      <td>AMWY02082313.1</td>\n",
       "      <td>1</td>\n",
       "      <td>20</td>\n",
       "      <td>5954</td>\n",
       "      <td>5973</td>\n",
       "      <td>TGACAGAAGAGAGTGAGCAC</td>\n",
       "      <td>TGACAGAAGAGAGTGAGCAC</td>\n",
       "      <td>0.004</td>\n",
       "      <td>37.4</td>\n",
       "      <td>...</td>\n",
       "      <td>0</td>\n",
       "      <td>100.0</td>\n",
       "      <td>1/1</td>\n",
       "      <td>1</td>\n",
       "      <td>1</td>\n",
       "      <td>plus</td>\n",
       "      <td>100</td>\n",
       "      <td>100</td>\n",
       "      <td>20</td>\n",
       "      <td>8471</td>\n",
       "    </tr>\n",
       "  </tbody>\n",
       "</table>\n",
       "<p>2 rows × 27 columns</p>\n",
       "</div>"
      ],
      "text/plain": [
       "  qseqid          sseqid  qstart  qend  sstart  send                  qseq  \\\n",
       "0  C5495  AMWY02099822.1       1    20    1769  1750  TGACAGAAGAGAGTGAGCAC   \n",
       "1  C5495  AMWY02082313.1       1    20    5954  5973  TGACAGAAGAGAGTGAGCAC   \n",
       "\n",
       "                   sseq  evalue  bitscore  ...  gaps   ppos  frames  qframe  \\\n",
       "0  TGACAGAAGAGAGTGAGCAC   0.004      37.4  ...     0  100.0    1/-1       1   \n",
       "1  TGACAGAAGAGAGTGAGCAC   0.004      37.4  ...     0  100.0     1/1       1   \n",
       "\n",
       "   sframe  sstrand  qcovs  qcovhsp  qlen  slen  \n",
       "0      -1    minus    100      100    20  3308  \n",
       "1       1     plus    100      100    20  8471  \n",
       "\n",
       "[2 rows x 27 columns]"
      ]
     },
     "execution_count": 31,
     "metadata": {},
     "output_type": "execute_result"
    }
   ],
   "source": [
    "df_blastn = pd.read_csv('./Temp/BLASTn_result', sep='\\t',header=None)\n",
    "df_blastn.columns = header.replace(\"  \",\" \").split(\" \")\n",
    "print(df_blastn.shape)\n",
    "df_blastn.head(2)"
   ]
  },
  {
   "cell_type": "code",
   "execution_count": 32,
   "metadata": {
    "ExecuteTime": {
     "end_time": "2022-02-06T18:21:28.603877Z",
     "start_time": "2022-02-06T18:21:28.498468Z"
    },
    "hidden": true
   },
   "outputs": [
    {
     "name": "stdout",
     "output_type": "stream",
     "text": [
      "(80217, 28)\n"
     ]
    },
    {
     "data": {
      "text/html": [
       "<div>\n",
       "<style scoped>\n",
       "    .dataframe tbody tr th:only-of-type {\n",
       "        vertical-align: middle;\n",
       "    }\n",
       "\n",
       "    .dataframe tbody tr th {\n",
       "        vertical-align: top;\n",
       "    }\n",
       "\n",
       "    .dataframe thead th {\n",
       "        text-align: right;\n",
       "    }\n",
       "</style>\n",
       "<table border=\"1\" class=\"dataframe\">\n",
       "  <thead>\n",
       "    <tr style=\"text-align: right;\">\n",
       "      <th></th>\n",
       "      <th>qseqid</th>\n",
       "      <th>sseqid</th>\n",
       "      <th>qstart</th>\n",
       "      <th>qend</th>\n",
       "      <th>sstart</th>\n",
       "      <th>send</th>\n",
       "      <th>qseq</th>\n",
       "      <th>sseq</th>\n",
       "      <th>evalue</th>\n",
       "      <th>bitscore</th>\n",
       "      <th>...</th>\n",
       "      <th>ppos</th>\n",
       "      <th>frames</th>\n",
       "      <th>qframe</th>\n",
       "      <th>sframe</th>\n",
       "      <th>sstrand</th>\n",
       "      <th>qcovs</th>\n",
       "      <th>qcovhsp</th>\n",
       "      <th>qlen</th>\n",
       "      <th>slen</th>\n",
       "      <th>Nonconformity</th>\n",
       "    </tr>\n",
       "  </thead>\n",
       "  <tbody>\n",
       "    <tr>\n",
       "      <th>0</th>\n",
       "      <td>C5495</td>\n",
       "      <td>AMWY02099822.1</td>\n",
       "      <td>1</td>\n",
       "      <td>20</td>\n",
       "      <td>1769</td>\n",
       "      <td>1750</td>\n",
       "      <td>TGACAGAAGAGAGTGAGCAC</td>\n",
       "      <td>TGACAGAAGAGAGTGAGCAC</td>\n",
       "      <td>0.004</td>\n",
       "      <td>37.4</td>\n",
       "      <td>...</td>\n",
       "      <td>100.0</td>\n",
       "      <td>1/-1</td>\n",
       "      <td>1</td>\n",
       "      <td>-1</td>\n",
       "      <td>minus</td>\n",
       "      <td>100</td>\n",
       "      <td>100</td>\n",
       "      <td>20</td>\n",
       "      <td>3308</td>\n",
       "      <td>0</td>\n",
       "    </tr>\n",
       "    <tr>\n",
       "      <th>1</th>\n",
       "      <td>C5495</td>\n",
       "      <td>AMWY02082313.1</td>\n",
       "      <td>1</td>\n",
       "      <td>20</td>\n",
       "      <td>5954</td>\n",
       "      <td>5973</td>\n",
       "      <td>TGACAGAAGAGAGTGAGCAC</td>\n",
       "      <td>TGACAGAAGAGAGTGAGCAC</td>\n",
       "      <td>0.004</td>\n",
       "      <td>37.4</td>\n",
       "      <td>...</td>\n",
       "      <td>100.0</td>\n",
       "      <td>1/1</td>\n",
       "      <td>1</td>\n",
       "      <td>1</td>\n",
       "      <td>plus</td>\n",
       "      <td>100</td>\n",
       "      <td>100</td>\n",
       "      <td>20</td>\n",
       "      <td>8471</td>\n",
       "      <td>0</td>\n",
       "    </tr>\n",
       "  </tbody>\n",
       "</table>\n",
       "<p>2 rows × 28 columns</p>\n",
       "</div>"
      ],
      "text/plain": [
       "  qseqid          sseqid  qstart  qend  sstart  send                  qseq  \\\n",
       "0  C5495  AMWY02099822.1       1    20    1769  1750  TGACAGAAGAGAGTGAGCAC   \n",
       "1  C5495  AMWY02082313.1       1    20    5954  5973  TGACAGAAGAGAGTGAGCAC   \n",
       "\n",
       "                   sseq  evalue  bitscore  ...   ppos  frames  qframe  sframe  \\\n",
       "0  TGACAGAAGAGAGTGAGCAC   0.004      37.4  ...  100.0    1/-1       1      -1   \n",
       "1  TGACAGAAGAGAGTGAGCAC   0.004      37.4  ...  100.0     1/1       1       1   \n",
       "\n",
       "   sstrand  qcovs  qcovhsp  qlen  slen Nonconformity  \n",
       "0    minus    100      100    20  3308             0  \n",
       "1     plus    100      100    20  8471             0  \n",
       "\n",
       "[2 rows x 28 columns]"
      ]
     },
     "execution_count": 32,
     "metadata": {},
     "output_type": "execute_result"
    }
   ],
   "source": [
    "threshold = 4\n",
    "df_blastn['Nonconformity'] = df_blastn['qlen'] - (abs(df_blastn['qend'] - df_blastn['qstart']) + 1) + df_blastn['gaps'] + df_blastn['mismatch']\n",
    "df_blastn = df_blastn[df_blastn['Nonconformity'] <= threshold]\n",
    "print(df_blastn.shape)\n",
    "df_blastn.head(2)"
   ]
  },
  {
   "cell_type": "code",
   "execution_count": 33,
   "metadata": {
    "ExecuteTime": {
     "end_time": "2022-02-06T18:21:29.545226Z",
     "start_time": "2022-02-06T18:21:28.606714Z"
    },
    "hidden": true,
    "scrolled": false
   },
   "outputs": [
    {
     "name": "stdout",
     "output_type": "stream",
     "text": [
      "(66445, 28)\n"
     ]
    }
   ],
   "source": [
    "# remore redundancy and hold best one base of Nonconformity value\n",
    "df_blastn = df_blastn.sort_values([\"Nonconformity\", \"evalue\"], ascending = (True, True))\n",
    "df_blastn = df_blastn.drop_duplicates(subset=['sseqid','sstart', 'send','sstrand'], keep='first')\n",
    "df_blastn.to_csv('./Temp/filtered_out_blastn.csv')\n",
    "print(df_blastn.shape)"
   ]
  },
  {
   "cell_type": "markdown",
   "metadata": {
    "heading_collapsed": true
   },
   "source": [
    "# Result of the blastn to bed file"
   ]
  },
  {
   "cell_type": "code",
   "execution_count": 34,
   "metadata": {
    "ExecuteTime": {
     "end_time": "2022-02-06T18:21:29.563270Z",
     "start_time": "2022-02-06T18:21:29.548507Z"
    },
    "hidden": true
   },
   "outputs": [
    {
     "name": "stderr",
     "output_type": "stream",
     "text": [
      "<ipython-input-34-cccdc8b60626>:3: SettingWithCopyWarning: \n",
      "A value is trying to be set on a copy of a slice from a DataFrame.\n",
      "Try using .loc[row_indexer,col_indexer] = value instead\n",
      "\n",
      "See the caveats in the documentation: https://pandas.pydata.org/pandas-docs/stable/user_guide/indexing.html#returning-a-view-versus-a-copy\n",
      "  df['ones'] = 1\n"
     ]
    }
   ],
   "source": [
    "flanking_value = 200\n",
    "df = df_blastn[['qseqid', 'sseqid', 'sstart', 'send', 'sstrand','slen']]\n",
    "df['ones'] = 1"
   ]
  },
  {
   "cell_type": "code",
   "execution_count": 35,
   "metadata": {
    "ExecuteTime": {
     "end_time": "2022-02-06T18:21:40.390356Z",
     "start_time": "2022-02-06T18:21:29.568357Z"
    },
    "hidden": true
   },
   "outputs": [],
   "source": [
    "def switch(row):\n",
    "    if(row['sstart'] > row['send']):        \n",
    "        temp = row['sstart']\n",
    "        row['sstart'] = row['send']\n",
    "        row['send'] = temp\n",
    "    return row\n",
    "df = df.apply(lambda row: switch(row), axis=1)"
   ]
  },
  {
   "cell_type": "code",
   "execution_count": 36,
   "metadata": {
    "ExecuteTime": {
     "end_time": "2022-02-06T18:21:40.420499Z",
     "start_time": "2022-02-06T18:21:40.394329Z"
    },
    "hidden": true
   },
   "outputs": [],
   "source": [
    "def convert(inp):\n",
    "    if(inp == \"plus\"):\n",
    "        return \"forward\"\n",
    "    if(inp == \"minus\"):\n",
    "        return \"reverse\"\n",
    "    raise Exception('Error, sstrand contains illegal word! only \"plus\" and \"minus\" are allowed')\n",
    "df['strand'] = df['sstrand'].apply(lambda x: convert(x))"
   ]
  },
  {
   "cell_type": "code",
   "execution_count": 37,
   "metadata": {
    "ExecuteTime": {
     "end_time": "2022-02-06T18:21:40.448409Z",
     "start_time": "2022-02-06T18:21:40.423349Z"
    },
    "hidden": true
   },
   "outputs": [],
   "source": [
    "def convert2sign(inp):\n",
    "    if(inp == \"plus\"):\n",
    "        return \"+\"\n",
    "    if(inp == \"minus\"):\n",
    "        return \"-\"\n",
    "    raise Exception('Error, sstrand contains illegal word! only \"plus\" and \"minus\" are allowed')\n",
    "df['sign'] = df['sstrand'].apply(lambda x: convert2sign(x))"
   ]
  },
  {
   "cell_type": "code",
   "execution_count": 38,
   "metadata": {
    "ExecuteTime": {
     "end_time": "2022-02-06T18:21:42.380510Z",
     "start_time": "2022-02-06T18:21:40.451286Z"
    },
    "hidden": true
   },
   "outputs": [],
   "source": [
    "df['hit_length'] = df.apply(lambda row: abs(row['send'] - row['sstart']) + 1 ,axis=1)"
   ]
  },
  {
   "cell_type": "markdown",
   "metadata": {
    "hidden": true
   },
   "source": [
    "## convert sstart and send from location to index (range)"
   ]
  },
  {
   "cell_type": "code",
   "execution_count": 39,
   "metadata": {
    "ExecuteTime": {
     "end_time": "2022-02-06T18:21:42.420656Z",
     "start_time": "2022-02-06T18:21:42.383415Z"
    },
    "hidden": true
   },
   "outputs": [],
   "source": [
    "df['sstart'] = df['sstart'].apply(lambda x: x - 1)"
   ]
  },
  {
   "cell_type": "code",
   "execution_count": 40,
   "metadata": {
    "ExecuteTime": {
     "end_time": "2022-02-06T18:21:42.461253Z",
     "start_time": "2022-02-06T18:21:42.423644Z"
    },
    "hidden": true
   },
   "outputs": [],
   "source": [
    "df['downstream_flanking'] = df['sstart'].apply(lambda x:  flanking_value if x > flanking_value else x)"
   ]
  },
  {
   "cell_type": "code",
   "execution_count": 41,
   "metadata": {
    "ExecuteTime": {
     "end_time": "2022-02-06T18:21:44.444551Z",
     "start_time": "2022-02-06T18:21:42.464164Z"
    },
    "hidden": true
   },
   "outputs": [],
   "source": [
    "df['upstream_flanking'] = df.apply(lambda row:  flanking_value if (row['send']+flanking_value) <= row['slen'] else row['slen'] - row['send'],axis=1)"
   ]
  },
  {
   "cell_type": "code",
   "execution_count": 42,
   "metadata": {
    "ExecuteTime": {
     "end_time": "2022-02-06T18:21:46.260618Z",
     "start_time": "2022-02-06T18:21:44.448020Z"
    },
    "hidden": true
   },
   "outputs": [],
   "source": [
    "df['hit_start'] = df.apply(lambda row: row['downstream_flanking'] if row['sign'] == \"+\" else row['upstream_flanking'],axis=1)"
   ]
  },
  {
   "cell_type": "code",
   "execution_count": 43,
   "metadata": {
    "ExecuteTime": {
     "end_time": "2022-02-06T18:21:48.520773Z",
     "start_time": "2022-02-06T18:21:46.263587Z"
    },
    "hidden": true
   },
   "outputs": [],
   "source": [
    "df['hit_end'] = df.apply(lambda row: row['downstream_flanking'] + row['hit_length'] if row['sign'] == \"+\" else row['upstream_flanking'] + row['hit_length'],axis=1)"
   ]
  },
  {
   "cell_type": "code",
   "execution_count": 44,
   "metadata": {
    "ExecuteTime": {
     "end_time": "2022-02-06T18:21:50.496068Z",
     "start_time": "2022-02-06T18:21:48.524743Z"
    },
    "hidden": true
   },
   "outputs": [],
   "source": [
    "df['sstart'] = df['sstart'].apply(lambda x: max(x - flanking_value, 0))\n",
    "df['send'] = df.apply(lambda row: min(row['send'] + flanking_value , row['slen']),axis=1)"
   ]
  },
  {
   "cell_type": "code",
   "execution_count": 45,
   "metadata": {
    "ExecuteTime": {
     "end_time": "2022-02-06T18:21:53.693379Z",
     "start_time": "2022-02-06T18:21:50.498988Z"
    },
    "hidden": true
   },
   "outputs": [],
   "source": [
    "df['tag'] = df.apply(lambda row: f\">{row['sseqid']}:{row['sstart']}-{row['send']}({row['sign']})\",axis=1)\n",
    "df['reformated_tag'] = df['tag'].apply(lambda t: reformat(t))\n",
    "df[['tag', 'reformated_tag', 'hit_start', 'hit_end']].to_csv('./Temp/hit_index_info.csv')#, index=False)"
   ]
  },
  {
   "cell_type": "code",
   "execution_count": 46,
   "metadata": {
    "ExecuteTime": {
     "end_time": "2022-02-06T18:21:57.505174Z",
     "start_time": "2022-02-06T18:21:53.696977Z"
    },
    "hidden": true
   },
   "outputs": [],
   "source": [
    "df['location_tag'] = df.apply(lambda row: f\">{row['sseqid']}|{row['sign']}|{row['sstart'] + 1}-{row['send']}|{row['hit_start']+1}-{row['hit_end']}\",axis=1)\n",
    "df[['location_tag','qseqid']].to_csv('./Temp/pipe_seprated_location_list.csv',index=False,sep='\\t')"
   ]
  },
  {
   "cell_type": "code",
   "execution_count": 47,
   "metadata": {
    "ExecuteTime": {
     "end_time": "2022-02-06T18:21:57.727198Z",
     "start_time": "2022-02-06T18:21:57.508807Z"
    },
    "hidden": true
   },
   "outputs": [],
   "source": [
    "df[['sseqid','sstart','send','strand','ones', 'sign']].to_csv('./Temp/extension_index.bed', \n",
    "        index=False, header=False, sep=\"\\t\")"
   ]
  },
  {
   "cell_type": "markdown",
   "metadata": {
    "heading_collapsed": true
   },
   "source": [
    "# Extention\n"
   ]
  },
  {
   "cell_type": "code",
   "execution_count": 48,
   "metadata": {
    "ExecuteTime": {
     "end_time": "2022-02-06T18:21:57.733231Z",
     "start_time": "2022-02-06T18:21:57.730122Z"
    },
    "hidden": true
   },
   "outputs": [],
   "source": [
    "# !sudo apt-get install bedtools"
   ]
  },
  {
   "cell_type": "code",
   "execution_count": 49,
   "metadata": {
    "ExecuteTime": {
     "end_time": "2022-02-06T18:22:00.936380Z",
     "start_time": "2022-02-06T18:21:57.736016Z"
    },
    "hidden": true
   },
   "outputs": [
    {
     "name": "stdout",
     "output_type": "stream",
     "text": [
      "index file ./input_genome.fna.fai not found, generating...\r\n"
     ]
    }
   ],
   "source": [
    "!bedtools getfasta -fi ./input_genome.fna -fo ./Temp/extended_original.txt -s -bed ./Temp/extension_index.bed\n",
    "!rm input_genome.fna.fai"
   ]
  },
  {
   "cell_type": "code",
   "execution_count": 50,
   "metadata": {
    "ExecuteTime": {
     "end_time": "2022-02-06T18:22:00.949170Z",
     "start_time": "2022-02-06T18:22:00.944683Z"
    },
    "code_folding": [],
    "hidden": true
   },
   "outputs": [],
   "source": [
    "# todo: remove duplicated\n",
    "'''\n",
    "df = fasta_to_df(\"./Temp/extended.txt\")\n",
    "df = df.drop_duplicates(subset=['tag'], keep='first')\n",
    "df_to_fasta(df,\"./Temp/extended.txt\")\n",
    "len(df['tag'].unique())\n",
    "''';"
   ]
  },
  {
   "cell_type": "markdown",
   "metadata": {
    "heading_collapsed": true
   },
   "source": [
    "# Convert hit region to upper case and other region to lower case"
   ]
  },
  {
   "cell_type": "code",
   "execution_count": 51,
   "metadata": {
    "ExecuteTime": {
     "end_time": "2022-02-06T18:22:15.585677Z",
     "start_time": "2022-02-06T18:22:15.209687Z"
    },
    "hidden": true
   },
   "outputs": [
    {
     "name": "stdout",
     "output_type": "stream",
     "text": [
      "(66445, 5)\n"
     ]
    },
    {
     "data": {
      "text/html": [
       "<div>\n",
       "<style scoped>\n",
       "    .dataframe tbody tr th:only-of-type {\n",
       "        vertical-align: middle;\n",
       "    }\n",
       "\n",
       "    .dataframe tbody tr th {\n",
       "        vertical-align: top;\n",
       "    }\n",
       "\n",
       "    .dataframe thead th {\n",
       "        text-align: right;\n",
       "    }\n",
       "</style>\n",
       "<table border=\"1\" class=\"dataframe\">\n",
       "  <thead>\n",
       "    <tr style=\"text-align: right;\">\n",
       "      <th></th>\n",
       "      <th>Unnamed: 0</th>\n",
       "      <th>tag</th>\n",
       "      <th>reformated_tag</th>\n",
       "      <th>hit_start</th>\n",
       "      <th>hit_end</th>\n",
       "    </tr>\n",
       "  </thead>\n",
       "  <tbody>\n",
       "    <tr>\n",
       "      <th>0</th>\n",
       "      <td>132836</td>\n",
       "      <td>AMWY02059828.1:2832-3256(+)</td>\n",
       "      <td>&gt;AMWY020598281_2832-3256_+_</td>\n",
       "      <td>200</td>\n",
       "      <td>224</td>\n",
       "    </tr>\n",
       "    <tr>\n",
       "      <th>1</th>\n",
       "      <td>300170</td>\n",
       "      <td>AMWY02004761.1:1853-2277(+)</td>\n",
       "      <td>&gt;AMWY020047611_1853-2277_+_</td>\n",
       "      <td>200</td>\n",
       "      <td>224</td>\n",
       "    </tr>\n",
       "  </tbody>\n",
       "</table>\n",
       "</div>"
      ],
      "text/plain": [
       "   Unnamed: 0                          tag               reformated_tag  \\\n",
       "0      132836  AMWY02059828.1:2832-3256(+)  >AMWY020598281_2832-3256_+_   \n",
       "1      300170  AMWY02004761.1:1853-2277(+)  >AMWY020047611_1853-2277_+_   \n",
       "\n",
       "   hit_start  hit_end  \n",
       "0        200      224  \n",
       "1        200      224  "
      ]
     },
     "execution_count": 51,
     "metadata": {},
     "output_type": "execute_result"
    }
   ],
   "source": [
    "ext = fasta_to_df('./Temp/extended_original.txt')\n",
    "info = pd.read_csv('./Temp/hit_index_info.csv')\n",
    "info['tag'] = info['tag'].apply(lambda x: x[1:])\n",
    "print(info.shape)\n",
    "info.head(2)"
   ]
  },
  {
   "cell_type": "code",
   "execution_count": 52,
   "metadata": {
    "ExecuteTime": {
     "end_time": "2022-02-06T18:22:27.520288Z",
     "start_time": "2022-02-06T18:22:15.856399Z"
    },
    "hidden": true
   },
   "outputs": [],
   "source": [
    "ext = ext.sort_values(by=['tag']).reset_index()\n",
    "ext['help_tag'] = ext.apply(lambda r: r['tag']+ str(r.name),axis=1)\n",
    "del ext['tag']\n",
    "\n",
    "info = info.sort_values(by=['tag']).reset_index()\n",
    "info['help_tag'] = info.apply(lambda row: row['tag']+ str(row.name),axis=1)\n",
    "def redefined_tag(row):\n",
    "    tag = row['tag']\n",
    "    [sstart, send] = tag.split(':')[-1].split('(')[0].split('-')\n",
    "    sstart = int(sstart) + 1\n",
    "    sign = tag.split('(')[-1].split(')')[0]    \n",
    "    return f\"{tag.split(':')[0]}|{sign}|{sstart}-{send}|{row['hit_start']+1}-{row['hit_end']}\"\n",
    "info['tag'] = info.apply(lambda row: redefined_tag(row),axis=1)\n",
    "ext = pd.merge(ext,info,how='inner', on='help_tag')\n",
    "\n",
    "def emphasis_hit(row):\n",
    "    seq = list(row['data'].lower())            \n",
    "    s = row['hit_start']\n",
    "    e = row['hit_end']\n",
    "    seq[s:e] = list(''.join(seq[s:e]).upper())    \n",
    "    return ''.join(seq)\n",
    "    \n",
    "ext['data'] = ext.apply(lambda row: emphasis_hit(row),axis=1)\n",
    "df_to_fasta(ext[['tag','data']],\"./Temp/extended_modified.txt\")"
   ]
  },
  {
   "cell_type": "markdown",
   "metadata": {
    "heading_collapsed": true
   },
   "source": [
    "# RNA 2d prediction"
   ]
  },
  {
   "cell_type": "markdown",
   "metadata": {
    "heading_collapsed": true,
    "hidden": true
   },
   "source": [
    "## Mfold"
   ]
  },
  {
   "cell_type": "code",
   "execution_count": 53,
   "metadata": {
    "ExecuteTime": {
     "end_time": "2022-02-06T18:22:27.527756Z",
     "start_time": "2022-02-06T18:22:27.524147Z"
    },
    "hidden": true
   },
   "outputs": [],
   "source": [
    "'''\n",
    "# installation\n",
    "!wget http://www.unafold.org/download/mfold-3.6.tar.gz\n",
    "!tar -xvf ./mfold-3.6.tar.gz; rm ./mfold-3.6.tar.gz\n",
    "%cd ./mfold-3.6\n",
    "!./configure\n",
    "!make\n",
    "!make install\n",
    "%cd ..\n",
    "!sudo apt install texlive-font-utils\n",
    "''';"
   ]
  },
  {
   "cell_type": "code",
   "execution_count": 54,
   "metadata": {
    "ExecuteTime": {
     "end_time": "2022-02-06T18:22:27.534316Z",
     "start_time": "2022-02-06T18:22:27.531158Z"
    },
    "hidden": true
   },
   "outputs": [],
   "source": [
    "#todo : add all hyperparameter(options) to GUI"
   ]
  },
  {
   "cell_type": "code",
   "execution_count": 55,
   "metadata": {
    "ExecuteTime": {
     "end_time": "2022-02-06T18:22:28.693667Z",
     "start_time": "2022-02-06T18:22:27.537276Z"
    },
    "hidden": true
   },
   "outputs": [
    {
     "name": "stdout",
     "output_type": "stream",
     "text": [
      "rm: cannot remove './secondary_structure/mfold/': No such file or directory\r\n"
     ]
    }
   ],
   "source": [
    "counter = 0\n",
    "base = \"./secondary_structure/mfold/\"\n",
    "!rm -r {base}\n",
    "!mkdir -p {base}\n",
    "df = fasta_to_df('./Temp/extended_modified.txt')\n",
    "\n",
    "for index, row in df.iterrows():    \n",
    "    tag = reformat(row['tag'])\n",
    "    if(not os.path.exists(base + tag)):\n",
    "        os.makedirs(base + tag)            \n",
    "    with open(base + f\"{tag}/SEQ.FASTA\",'w') as file:\n",
    "        file.write(f\">{row['tag']}\\n{row['data']}\")\n",
    "    counter += 1    \n",
    "    if(counter >= 2000):\n",
    "        break"
   ]
  },
  {
   "cell_type": "code",
   "execution_count": 56,
   "metadata": {
    "ExecuteTime": {
     "end_time": "2022-02-06T18:27:14.780801Z",
     "start_time": "2022-02-06T18:22:37.765121Z"
    },
    "hidden": true
   },
   "outputs": [],
   "source": [
    "%%capture\n",
    "remove_lock = False\n",
    "def run_mfold(tag):\n",
    "    tag = reformat(tag)\n",
    "    %cd {base + tag}\n",
    "    !mfold  SEQ=\"SEQ.FASTA\" T=20 MAX=2    \n",
    "    if(not remove_lock):\n",
    "        !find . -not -name \"*.ct\" -not -name \"*.pdf\" -not -name \"*SEQ.FASTA\" -not -type d -delete\n",
    "    %cd ../../..\n",
    "\n",
    "if __name__ == '__main__':        \n",
    "    pool = mp.Pool(mp.cpu_count())  \n",
    "    pool.map(run_mfold, df['tag'].iloc[:2000])"
   ]
  },
  {
   "cell_type": "code",
   "execution_count": null,
   "metadata": {
    "ExecuteTime": {
     "end_time": "2021-11-06T15:12:52.776002Z",
     "start_time": "2021-11-06T15:10:32.633727Z"
    },
    "hidden": true
   },
   "outputs": [],
   "source": [
    "'''\n",
    "base = \"secondary_structure/mfold/\"\n",
    "for directory in glob.glob(f\"{base}*\"):    \n",
    "    tag = directory[len(base):]\n",
    "    ct_files = glob.glob(f'{directory}/*.ct')        \n",
    "    try:\n",
    "        ct_files.remove(f'{base}{tag}/SEQ.ct')\n",
    "    except:\n",
    "        print(directory)\n",
    "        print(ct_files)\n",
    "        print(\"*****************\")\n",
    "    for file in ct_files:        \n",
    "        shutil.copy(file, './1.ct')\n",
    "        #dot = ct2dot_bracket('./1.ct')\n",
    "        #dot = dot.split('\\n')\n",
    "        #with open('./2.ct', 'w') as stream:\n",
    "            #stream.write(bracket_to_ct(tag, dot[0] , dot[1] , \"(0)\"))        \n",
    "        #ct1 = '\\n'.join(reformatCT('./1.ct').split('\\n')[1:])\n",
    "        #ct2 = '\\n'.join(reformatCT('./2.ct').split('\\n')[1:])\n",
    "        #if(ct1 != ct2):\n",
    "            #print(file)\n",
    "        ct = reformatCT('./1.ct')\n",
    "        [nucleotide, index, values] = get_ct_data(ct)        \n",
    "        #print(is_nested( index,  values))\n",
    "        if(not is_nested( index,  values)):\n",
    "            print(\"************\")             \n",
    "'''"
   ]
  },
  {
   "cell_type": "markdown",
   "metadata": {
    "heading_collapsed": true,
    "hidden": true
   },
   "source": [
    "## Mxfold2"
   ]
  },
  {
   "cell_type": "code",
   "execution_count": null,
   "metadata": {
    "ExecuteTime": {
     "end_time": "2021-11-06T16:20:40.729087Z",
     "start_time": "2021-11-06T16:20:40.725251Z"
    },
    "hidden": true
   },
   "outputs": [],
   "source": [
    "#!wget https://github.com/keio-bioinformatics/mxfold2/releases/download/v0.1.1/mxfold2-0.1.1.tar.gz\n",
    "#!pip3 install mxfold2-0.1.1.tar.gz\n",
    "#!rm mxfold2-0.1.1.tar.gz"
   ]
  },
  {
   "cell_type": "code",
   "execution_count": null,
   "metadata": {
    "ExecuteTime": {
     "end_time": "2021-11-06T16:22:35.682900Z",
     "start_time": "2021-11-06T16:20:48.694439Z"
    },
    "hidden": true
   },
   "outputs": [],
   "source": [
    "!mxfold2 predict ./extended.txt > secondary_structure/mxfold2_result.txt"
   ]
  },
  {
   "cell_type": "code",
   "execution_count": null,
   "metadata": {
    "ExecuteTime": {
     "end_time": "2021-10-31T17:46:46.009981Z",
     "start_time": "2021-10-31T17:46:45.980600Z"
    },
    "hidden": true
   },
   "outputs": [],
   "source": [
    "df = fasta_to_df('secondary_structure/mxfold2_result.txt')\n",
    "df = df.apply(lambda row: bracket_row(row) , axis=1)\n",
    "df.head(2)"
   ]
  },
  {
   "cell_type": "code",
   "execution_count": null,
   "metadata": {
    "ExecuteTime": {
     "end_time": "2021-10-31T17:48:37.583164Z",
     "start_time": "2021-10-31T17:48:37.308743Z"
    },
    "hidden": true
   },
   "outputs": [],
   "source": [
    "base = \"./secondary_structure/mxfold2/\"\n",
    "!rm -r {base}\n",
    "!mkdir -p {base}\n",
    "for index, row in df.iterrows():    \n",
    "    if(not os.path.exists(base + reformat(row['tag']))):\n",
    "        os.makedirs(base + reformat(row['tag']))        \n",
    "    tag = reformat(row['tag'])\n",
    "    with open(base + f\"{tag}/{tag}.ct\",'w') as file:\n",
    "        bracket = row['bracket'].split(' ')[0]\n",
    "        deltaG = row['bracket'].split(' ')[1]\n",
    "        ct = bracket_to_ct(row['tag'], row['data'], bracket, deltaG)\n",
    "        file.write(ct)    "
   ]
  },
  {
   "cell_type": "markdown",
   "metadata": {
    "heading_collapsed": true,
    "hidden": true
   },
   "source": [
    "## SPOT-RNA"
   ]
  },
  {
   "cell_type": "code",
   "execution_count": null,
   "metadata": {
    "ExecuteTime": {
     "end_time": "2021-11-02T17:07:56.140509Z",
     "start_time": "2021-11-02T17:07:56.137052Z"
    },
    "hidden": true,
    "scrolled": true
   },
   "outputs": [],
   "source": [
    "#!git clone https://github.com/jaswindersingh2/SPOT-RNA.git\n",
    "#%cd SPOT-RNA\n",
    "#!wget 'https://www.dropbox.com/s/dsrcf460nbjqpxa/SPOT-RNA-models.tar.gz' || wget -O SPOT-RNA-models.tar.gz 'https://app.nihaocloud.com/f/fbf3315a91d542c0bdc2/?dl=1'\n",
    "#!tar -xvzf SPOT-RNA-models.tar.gz && rm SPOT-RNA-models.tar.gz\n",
    "#!sudo apt-get install python3.6\n",
    "#!python3.6 -m pip install tensorflow==1.14.0 # or for gpu: tensorflow-gpu==1.14.0\n",
    "#! python3.6 -m pip install -r requirements.txt"
   ]
  },
  {
   "cell_type": "code",
   "execution_count": null,
   "metadata": {
    "ExecuteTime": {
     "end_time": "2021-11-04T15:54:27.343924Z",
     "start_time": "2021-11-04T15:54:27.088380Z"
    },
    "hidden": true
   },
   "outputs": [],
   "source": [
    "base = \"./secondary_structure/spot_rna/\"\n",
    "!rm -r {base}\n",
    "!mkdir -p {base}"
   ]
  },
  {
   "cell_type": "code",
   "execution_count": null,
   "metadata": {
    "ExecuteTime": {
     "end_time": "2021-11-04T16:06:02.696464Z",
     "start_time": "2021-11-04T16:02:34.125112Z"
    },
    "hidden": true,
    "scrolled": true
   },
   "outputs": [],
   "source": [
    "!python3.6 ./SPOT-RNA/SPOT-RNA.py  --inputs ./extended.txt  --outputs '{base}'  --cpu 32 --plots True"
   ]
  },
  {
   "cell_type": "code",
   "execution_count": null,
   "metadata": {
    "ExecuteTime": {
     "end_time": "2021-11-04T16:28:01.500658Z",
     "start_time": "2021-11-04T16:28:01.122310Z"
    },
    "hidden": true
   },
   "outputs": [],
   "source": [
    "!rm {base}/*.bpseq\n",
    "!rm {base}/*.prob\n",
    "for file in glob.glob(f\"{base}*.ct\"):    \n",
    "    f = file[len(base):-3] # .ct        \n",
    "    f = reformat(f)        \n",
    "    if(not os.path.exists(base + f)):\n",
    "        os.makedirs(base + f)  \n",
    "    header = reformatCT(file).split(\"\\n\")[0]    \n",
    "    with open(f\"{base}{f}.dot\", 'w') as stream:        \n",
    "        stream.write(ct2dot_bracket(file))\n",
    "    !RNAeval \"{base}{f}.dot\" -T 20 -v \n",
    "    #shutil.move(file, f\"{base}{f}/{f}.ct\")    "
   ]
  },
  {
   "cell_type": "code",
   "execution_count": null,
   "metadata": {
    "ExecuteTime": {
     "end_time": "2021-11-04T17:28:02.481342Z",
     "start_time": "2021-11-04T17:28:02.464531Z"
    },
    "hidden": true
   },
   "outputs": [],
   "source": [
    "df = fasta_to_df('./secondary_structure/spot_rna/AMWY02059828.1:2832-3256(+).dot')\n",
    "df = df.apply(lambda row: bracket_row(row) , axis=1)\n",
    "bracket = df['bracket'][0].split(' ')[0]\n",
    "ct = bracket_to_ct(df['tag'][0], df['data'][0], bracket, \"(0)\")\n",
    "print(ct)"
   ]
  },
  {
   "cell_type": "markdown",
   "metadata": {
    "heading_collapsed": true,
    "hidden": true
   },
   "source": [
    "## Vienna package"
   ]
  },
  {
   "cell_type": "code",
   "execution_count": null,
   "metadata": {
    "ExecuteTime": {
     "end_time": "2021-11-14T16:28:14.874416Z",
     "start_time": "2021-11-14T16:28:14.870733Z"
    },
    "hidden": true
   },
   "outputs": [],
   "source": [
    "#!wget https://www.tbi.univie.ac.at/RNA/download/ubuntu/ubuntu_20_04/viennarna_2.4.18-1_amd64.deb -O viennarna.deb\n",
    "#!sudo dpkg -i ./viennarna.deb\n",
    "#!sudo apt-get -f install\n",
    "#!rm viennarna.deb"
   ]
  },
  {
   "cell_type": "code",
   "execution_count": null,
   "metadata": {
    "ExecuteTime": {
     "end_time": "2021-11-14T19:35:57.889695Z",
     "start_time": "2021-11-14T19:35:57.480149Z"
    },
    "hidden": true
   },
   "outputs": [],
   "source": [
    "base = \"./secondary_structure/viennarna/\"\n",
    "!rm -r {base}\n",
    "!rm ./secondary_structure/viennarna_result.txt\n",
    "!mkdir -p {base}"
   ]
  },
  {
   "cell_type": "code",
   "execution_count": null,
   "metadata": {
    "ExecuteTime": {
     "end_time": "2021-11-14T19:52:09.128413Z",
     "start_time": "2021-11-14T19:36:03.739898Z"
    },
    "hidden": true
   },
   "outputs": [],
   "source": [
    "%cd {base}\n",
    "!RNAfold --jobs=0 --infile ../../Temp/extended_modified.txt  --noPS -T 20 > ../viennarna_result.txt\n",
    "%cd ../../"
   ]
  },
  {
   "cell_type": "code",
   "execution_count": null,
   "metadata": {
    "ExecuteTime": {
     "end_time": "2021-11-14T17:36:50.680457Z",
     "start_time": "2021-11-14T17:36:28.498386Z"
    },
    "hidden": true
   },
   "outputs": [],
   "source": [
    "df = fasta_to_df('secondary_structure/viennarna_result.txt')\n",
    "df = df.apply(lambda row: bracket_row(row) , axis=1)\n",
    "print(df.shape)\n",
    "df.head(2)"
   ]
  },
  {
   "cell_type": "code",
   "execution_count": null,
   "metadata": {
    "ExecuteTime": {
     "end_time": "2021-11-04T13:12:19.517498Z",
     "start_time": "2021-11-04T13:12:19.487872Z"
    },
    "hidden": true
   },
   "outputs": [],
   "source": [
    "for index, row in df.iterrows():    \n",
    "    tag = reformat(row['tag'])\n",
    "    if(not os.path.exists(base + tag)):\n",
    "        os.makedirs(base + tag)      \n",
    "    with open(base + f\"{tag}/{tag}.ct\",'w') as file:\n",
    "        bracket = row['bracket'].split(' ')[0]\n",
    "        deltaG = row['bracket'].split(' ')[1]\n",
    "        ct = bracket_to_ct(row['tag'], row['data'], bracket, deltaG, False)\n",
    "        file.write(ct)    "
   ]
  },
  {
   "cell_type": "code",
   "execution_count": null,
   "metadata": {
    "ExecuteTime": {
     "end_time": "2021-11-04T13:12:20.455326Z",
     "start_time": "2021-11-04T13:12:20.449583Z"
    },
    "hidden": true
   },
   "outputs": [],
   "source": [
    "import glob\n",
    "for file in glob.glob(f\"{base}*.ps\"):    \n",
    "    f = file[len(base):-6] # _ss.ps \n",
    "    f = reformat(f)        \n",
    "    shutil.move(file, f\"{base}{f}/{f}.ps\")    "
   ]
  },
  {
   "cell_type": "markdown",
   "metadata": {
    "heading_collapsed": true,
    "hidden": true
   },
   "source": [
    "## ContraFold"
   ]
  },
  {
   "cell_type": "code",
   "execution_count": null,
   "metadata": {
    "ExecuteTime": {
     "end_time": "2021-11-06T15:47:08.282696Z",
     "start_time": "2021-11-06T15:47:08.278027Z"
    },
    "hidden": true
   },
   "outputs": [],
   "source": [
    "#!wget http://contra.stanford.edu/contrafold/contrafold_v2_02.tar.gz\n",
    "#!tar -xvzf contrafold_v2_02.tar.gz && rm contrafold_v2_02.tar.gz\n",
    "#%cd contrafold/src\n",
    "#!make clean\n",
    "#!make \n",
    "# to file must changed to be complieable # utility.hpp and optimization.c++ files"
   ]
  },
  {
   "cell_type": "code",
   "execution_count": null,
   "metadata": {
    "ExecuteTime": {
     "end_time": "2021-11-06T15:52:08.807315Z",
     "start_time": "2021-11-06T15:52:08.274966Z"
    },
    "hidden": true
   },
   "outputs": [],
   "source": [
    "counter = 0\n",
    "base = \"./secondary_structure/contrafold/\"\n",
    "!rm -r {base}\n",
    "!mkdir -p {base}\n",
    "df = fasta_to_df('./Temp/extended.txt')\n",
    "\n",
    "for index, row in df.iterrows():    \n",
    "    tag = reformat(row['tag'])\n",
    "    if(not os.path.exists(base + tag)):\n",
    "        os.makedirs(base + tag)            \n",
    "    with open(base + f\"{tag}/{tag}.FASTA\",'w') as file:\n",
    "        file.write(f\">{row['tag']}\\n{row['data']}\")\n",
    "    counter += 1    \n",
    "    if(counter >= 10):\n",
    "        break"
   ]
  },
  {
   "cell_type": "code",
   "execution_count": null,
   "metadata": {
    "ExecuteTime": {
     "end_time": "2021-11-06T15:52:20.318477Z",
     "start_time": "2021-11-06T15:52:18.362143Z"
    },
    "hidden": true
   },
   "outputs": [],
   "source": [
    "def run_contrafold(tag):\n",
    "    tag = reformat(tag)    \n",
    "    %cd contrafold/src\n",
    "    !./contrafold predict ../..{base[1:]}{tag}/{tag}.FASTA > ../..{base[1:]}{tag}/{tag}.dot\n",
    "    with open(f\"../..{base[1:]}{tag}/{tag}.dot\", 'r') as file:\n",
    "        text = file.read()\n",
    "    text = [l for l in text.split(\"\\n\") if l[:len(\">structure\")] != \">structure\"]    \n",
    "    header = text[0]\n",
    "    with open(f\"../..{base[1:]}{tag}/{tag}.dot\", 'w') as file:\n",
    "        file.write('\\n'.join(text[1:]))    \n",
    "    !RNAeval  ../..{base[1:]}{tag}/{tag}.dot -T 20 > ../..{base[1:]}{tag}/{tag}.dotdg    \n",
    "    with open(f\"../..{base[1:]}{tag}/{tag}.dotdg\", 'r') as file:\n",
    "        text = file.read()\n",
    "    with open(f\"../..{base[1:]}{tag}/{tag}.dot\", 'w') as file:\n",
    "        file.write(header + \"\\n\" + text)    \n",
    "    \n",
    "    df = fasta_to_df(f'../..{base[1:]}{tag}/{tag}.dot')\n",
    "    df = df.apply(lambda row: bracket_row(row) , axis=1)        \n",
    "    tag = reformat(df['tag'][0])\n",
    "    with open(f'../..{base[1:]}{tag}/{tag}.ct','w') as file:\n",
    "        bracket = df['bracket'][0].split(' ')[0]        \n",
    "        deltaG = df['bracket'][0].split(' ')[1]\n",
    "        ct = bracket_to_ct(df['tag'][0], df['data'][0], bracket, deltaG, False)\n",
    "        file.write(ct)    \n",
    "    #!rm ../..{base[1:]}{tag}/{tag}.dot\n",
    "    #!rm ../..{base[1:]}{tag}/{tag}.dotdg\n",
    "    !rm ../..{base[1:]}{tag}/{tag}.FASTA\n",
    "    %cd ../../        \n",
    "\n",
    "if __name__ == '__main__':        \n",
    "    pool = mp.Pool(mp.cpu_count() - 1)  \n",
    "    pool.map(run_contrafold, df['tag'].iloc[:10])"
   ]
  },
  {
   "cell_type": "code",
   "execution_count": null,
   "metadata": {
    "ExecuteTime": {
     "end_time": "2021-11-06T16:04:49.091652Z",
     "start_time": "2021-11-06T16:04:49.084840Z"
    },
    "hidden": true
   },
   "outputs": [],
   "source": [
    "s = 'CUCCCCUUGUCUACCAUCCCCAACUAGCGAGAGAGACAUUACCUACCUGAAUAGAAGAUCUCUCUCGAGCUCUCGagcucucucuuuuucuauaUCUCUGUCUCUUUGUGUCUCUGGAGCUUGUACUAACAUUAAUAUCGUGCACCAGCAGCAGUUGAAGCUGCCAGCAUGAUCUAAACUUCCUUCUCUGUAAAGGAUAGAUCGGAUCAUGUGGUAGCUUCACCUGUUGAUGGGAUCACGAAAGCGCCCCUCUUACUACUCUACAUUAAUUCUUUCUCGUUAUACAACCUCCCAGUAAGCAUGCUUUCAAAACCAACUUGAGuaaguuaauuuguuuagcuuuuguuuuuggcucuuccuuuacuuuaaauuuucucaucuggguuuuuguuauauauauguacuguuuuauauauguauuccu'\n",
    "d = '............................((((((((..(...(((......))).)..))))))))(((((....)))))...................................((((.((((...(((.......(((((..(((.((((((.((((((((((.(((((((((.(.(((((((.......))))).)).).))))))))))))))))))).)))))).)))...))))).....................................)))..)))).))))....((((()))))..((((((....((((.(((((((.....)))(((.........)))................)))).))))....))))))....(((((((((((......)))))))))))....'\n",
    "print(s[300],s[301])\n",
    "print(d[300],d[301])"
   ]
  },
  {
   "cell_type": "code",
   "execution_count": null,
   "metadata": {
    "ExecuteTime": {
     "end_time": "2021-11-06T16:04:27.288085Z",
     "start_time": "2021-11-06T16:04:27.151101Z"
    },
    "hidden": true
   },
   "outputs": [],
   "source": [
    "'''path = 'secondary_structure/contrafold/AMWY020333941_469-893_-_/AMWY020333941_469-893_-_.dot'\n",
    "!RNAeval  {path} -T 20 -v'''; "
   ]
  },
  {
   "cell_type": "markdown",
   "metadata": {
    "heading_collapsed": true
   },
   "source": [
    "# Protein coding elimination"
   ]
  },
  {
   "cell_type": "markdown",
   "metadata": {
    "heading_collapsed": true,
    "hidden": true
   },
   "source": [
    "## get nr database"
   ]
  },
  {
   "cell_type": "code",
   "execution_count": null,
   "metadata": {
    "hidden": true
   },
   "outputs": [],
   "source": [
    "!wget https://ftp.ncbi.nlm.nih.gov/blast/db/FASTA/nr.gz"
   ]
  },
  {
   "cell_type": "markdown",
   "metadata": {
    "ExecuteTime": {
     "end_time": "2022-02-05T16:36:55.878069Z",
     "start_time": "2022-02-05T16:36:55.873900Z"
    },
    "heading_collapsed": true,
    "hidden": true
   },
   "source": [
    "## BLASTX "
   ]
  },
  {
   "cell_type": "code",
   "execution_count": null,
   "metadata": {
    "hidden": true
   },
   "outputs": [],
   "source": [
    "!makeblastdb -in ./NR/nr -dbtype prot -out ./NR/nr_database"
   ]
  },
  {
   "cell_type": "code",
   "execution_count": 132,
   "metadata": {
    "ExecuteTime": {
     "end_time": "2022-02-05T17:05:59.691196Z",
     "start_time": "2022-02-05T17:05:59.559242Z"
    },
    "hidden": true
   },
   "outputs": [],
   "source": [
    "!head -n 100 ./Temp/extended_modified.txt > ./input_blastx.txt"
   ]
  },
  {
   "cell_type": "code",
   "execution_count": 133,
   "metadata": {
    "ExecuteTime": {
     "end_time": "2022-02-05T17:11:25.433596Z",
     "start_time": "2022-02-05T17:06:01.347451Z"
    },
    "hidden": true
   },
   "outputs": [],
   "source": [
    "!blastx -query ./input_blastx.txt \\\n",
    "        -db ./NR/nr_database \\\n",
    "        -out ./Temp/BlastX/blastx \\\n",
    "        -num_threads 20 \\\n",
    "        -evalue 1e-3 \\\n",
    "        -outfmt \"6 qseqid sseqid qstart qend evalue bitscore score length frames qframe qcovs qcovhsp staxids\""
   ]
  },
  {
   "cell_type": "code",
   "execution_count": 166,
   "metadata": {
    "ExecuteTime": {
     "end_time": "2022-02-05T17:38:35.458465Z",
     "start_time": "2022-02-05T17:38:35.439838Z"
    },
    "hidden": true
   },
   "outputs": [],
   "source": [
    "blx = pd.read_csv('./Temp/BlastX/blastx', sep='\\t', header=None)\n",
    "blx.columns = 'qseqid sseqid qstart qend evalue bitscore score length frames qframe qcovs qcovhsp staxids'.split(' ')\n",
    "coding_seq = blx['qseqid'].unique()"
   ]
  },
  {
   "cell_type": "markdown",
   "metadata": {
    "ExecuteTime": {
     "end_time": "2022-02-05T16:36:56.238395Z",
     "start_time": "2022-02-05T16:36:56.234811Z"
    },
    "heading_collapsed": true,
    "hidden": true
   },
   "source": [
    "## DIAMOND"
   ]
  },
  {
   "cell_type": "code",
   "execution_count": null,
   "metadata": {
    "hidden": true
   },
   "outputs": [],
   "source": [
    "#!wget http://github.com/bbuchfink/diamond/releases/download/v2.0.13/diamond-linux64.tar.gz\n",
    "#!tar xzf diamond-linux64.tar.gz"
   ]
  },
  {
   "cell_type": "code",
   "execution_count": null,
   "metadata": {
    "hidden": true
   },
   "outputs": [],
   "source": [
    "!./diamond makedb --in ./NR/nr -d ./DIAMOND/diamond_output"
   ]
  },
  {
   "cell_type": "code",
   "execution_count": null,
   "metadata": {
    "hidden": true
   },
   "outputs": [],
   "source": [
    "!./diamond blastx -d ./DIAMOND/diamond_output.dmnd\\\n",
    "                  -q ./blastx_query_13980507.txt\\\n",
    "                  -o ./matches.tsv"
   ]
  },
  {
   "cell_type": "code",
   "execution_count": 149,
   "metadata": {
    "ExecuteTime": {
     "end_time": "2022-02-05T17:25:46.099362Z",
     "start_time": "2022-02-05T17:25:45.244682Z"
    },
    "hidden": true
   },
   "outputs": [
    {
     "data": {
      "text/plain": [
       "array(['reverse::AMWY02100913.1:2598-2831(-)',\n",
       "       'reverse::AMWY02021293.1:2174-2586(-)',\n",
       "       'forward::AMWY02104056.1:317-729(+)', ...,\n",
       "       'reverse::AMWY02028853.1:2318-2740(-)',\n",
       "       'reverse::AMWY02009487.1:1-364(-)',\n",
       "       'forward::AMWY02030457.1:5927-6350(+)'], dtype=object)"
      ]
     },
     "execution_count": 149,
     "metadata": {},
     "output_type": "execute_result"
    }
   ],
   "source": [
    "dmn = pd.read_csv(\"matches.tsv\", sep='\\t', header=None)\n",
    "dmn.columns = 'qseqid sseqid pident length mismatch gapopen qstart qend sstart send evalue bitscore'.split(' ')\n",
    "coding_seq = dmn['qseqid'].unique()"
   ]
  },
  {
   "cell_type": "markdown",
   "metadata": {
    "heading_collapsed": true,
    "hidden": true
   },
   "source": [
    "## filter"
   ]
  },
  {
   "cell_type": "code",
   "execution_count": 169,
   "metadata": {
    "ExecuteTime": {
     "end_time": "2022-02-05T17:40:48.104359Z",
     "start_time": "2022-02-05T17:40:48.097785Z"
    },
    "hidden": true
   },
   "outputs": [],
   "source": [
    "def clear(inp):\n",
    "    if(inp[:9] == \"reverse::\"):\n",
    "        return inp[9:]\n",
    "    if(inp[:9] == \"forward::\"):\n",
    "        return inp[9:]\n",
    "    return inp\n",
    "coding_seq = pd.Series(coding_seq).apply(lambda x : clear(x))"
   ]
  },
  {
   "cell_type": "code",
   "execution_count": 171,
   "metadata": {
    "ExecuteTime": {
     "end_time": "2022-02-05T17:42:26.761659Z",
     "start_time": "2022-02-05T17:42:24.519592Z"
    },
    "hidden": true
   },
   "outputs": [
    {
     "name": "stdout",
     "output_type": "stream",
     "text": [
      "(66445, 2)\n",
      "(66428, 2)\n"
     ]
    }
   ],
   "source": [
    "ext = fasta_to_df('./Temp/extended_modified.txt')\n",
    "print(ext.shape)\n",
    "ext = ext[~ext['tag'].isin(coding_seq)]\n",
    "print(ext.shape)\n",
    "df_to_fasta(ext,'./Temp/extended_modified_non_coding.txt')"
   ]
  },
  {
   "cell_type": "markdown",
   "metadata": {},
   "source": [
    "# CTAnalizer"
   ]
  },
  {
   "cell_type": "code",
   "execution_count": 15,
   "metadata": {
    "ExecuteTime": {
     "end_time": "2022-02-13T18:52:41.671890Z",
     "start_time": "2022-02-13T18:52:30.686235Z"
    }
   },
   "outputs": [
    {
     "name": "stdout",
     "output_type": "stream",
     "text": [
      "(2000, 2)\n"
     ]
    }
   ],
   "source": [
    "# only select those not ran before\n",
    "base = \"./secondary_structure/mfold/\"\n",
    "df = fasta_to_df('./Temp/extended_modified.txt')\n",
    "\n",
    "index_list =[]\n",
    "for index, row in df.iterrows():    \n",
    "    tag = reformat(row['tag'])    \n",
    "    if(len(glob.glob(f'{base + tag}/*.ct')) != 0):\n",
    "        index_list.append(index)\n",
    "df = df.iloc[index_list,:]\n",
    "print(df.shape)"
   ]
  },
  {
   "cell_type": "code",
   "execution_count": 16,
   "metadata": {
    "ExecuteTime": {
     "end_time": "2022-02-13T18:52:41.681380Z",
     "start_time": "2022-02-13T18:52:41.675665Z"
    }
   },
   "outputs": [],
   "source": [
    "def get_tag_info(tag):    \n",
    "    data = tag.split('|')\n",
    "    sign = data[1]\n",
    "    hit_start = int(data[3].split('-')[0]) - 1 \n",
    "    hit_end = int(data[3].split('-')[1])    \n",
    "    return [hit_start, hit_end, sign]"
   ]
  },
  {
   "cell_type": "code",
   "execution_count": 17,
   "metadata": {
    "ExecuteTime": {
     "end_time": "2022-02-13T18:52:41.691388Z",
     "start_time": "2022-02-13T18:52:41.685425Z"
    }
   },
   "outputs": [],
   "source": [
    "def get_deltaG(ct):\n",
    "    ct_head = ct.split('\\n')[0]\n",
    "    if(\"dG = \" in ct_head):    \n",
    "        dG_patter = \"dG = \" \n",
    "    elif(\"dG= \" in ct_head):    \n",
    "        dG_patter = \"dG= \"\n",
    "    elif(\"dG=\" in ct_head):    \n",
    "        dG_patter = \"dG=\"\n",
    "    elif(\"dG =\" in ct_head):    \n",
    "        dG_patter = \"dG =\"\n",
    "    else:\n",
    "        print('there is no dG')\n",
    "    return float(ct_head.split(dG_patter)[-1].split(' ')[0])"
   ]
  },
  {
   "cell_type": "code",
   "execution_count": 18,
   "metadata": {
    "ExecuteTime": {
     "end_time": "2022-02-13T18:52:41.699664Z",
     "start_time": "2022-02-13T18:52:41.694978Z"
    }
   },
   "outputs": [],
   "source": [
    "def get_complementarity_in_hit_region(inc_srange, hit_len):    \n",
    "    if(sum(inc_srange == 0) == hit_len):\n",
    "        return \"no\"\n",
    "    elif(sum(inc_srange != 0) == hit_len):\n",
    "        return \"fully_connected\"\n",
    "    else:    \n",
    "        return \"yes\"    "
   ]
  },
  {
   "cell_type": "code",
   "execution_count": 19,
   "metadata": {
    "ExecuteTime": {
     "end_time": "2022-02-13T18:52:41.707043Z",
     "start_time": "2022-02-13T18:52:41.702467Z"
    }
   },
   "outputs": [],
   "source": [
    "def get_hit_self_complementarity(hit_start, hit_end, inc_srange):    \n",
    "    if(((inc_srange <= hit_start) | (inc_srange > hit_end)).all()):\n",
    "        return \"no\"\n",
    "    return \"yes\""
   ]
  },
  {
   "cell_type": "code",
   "execution_count": 20,
   "metadata": {
    "ExecuteTime": {
     "end_time": "2022-02-13T18:52:41.714762Z",
     "start_time": "2022-02-13T18:52:41.709978Z"
    }
   },
   "outputs": [],
   "source": [
    "def get_istar_min_max(inc_srange, hit_self_complementarity):\n",
    "    nonzero_data_srange  = inc_srange[inc_srange!=0]\n",
    "    if(hit_self_complementarity == 'yes'):\n",
    "        return [np.nan, np.nan]\n",
    "    return [nonzero_data_srange.min(), nonzero_data_srange.max()]"
   ]
  },
  {
   "cell_type": "code",
   "execution_count": 21,
   "metadata": {
    "ExecuteTime": {
     "end_time": "2022-02-13T18:52:41.722361Z",
     "start_time": "2022-02-13T18:52:41.717432Z"
    }
   },
   "outputs": [],
   "source": [
    "def get_continuous_pairing(hit_start, hit_end, istar_min, istar_max, hit_self_complementarity):    \n",
    "    if(hit_self_complementarity == 'yes'):\n",
    "        return \"undifined\"\n",
    "    if(hit_end < istar_max and (hit_start+1) > istar_min):\n",
    "        return \"no\"    \n",
    "    return  \"yes\""
   ]
  },
  {
   "cell_type": "code",
   "execution_count": 22,
   "metadata": {
    "ExecuteTime": {
     "end_time": "2022-02-13T18:52:41.732959Z",
     "start_time": "2022-02-13T18:52:41.726200Z"
    }
   },
   "outputs": [],
   "source": [
    "def get_mir_type(hit_start, hit_end, istar_min, istar_max, continuous_pairing, complementarity_in_hit_region, hit_self_complementarity):        \n",
    "    if(continuous_pairing == \"yes\" and complementarity_in_hit_region != \"no\" and hit_self_complementarity == \"no\"):\n",
    "        if( hit_end < istar_min):\n",
    "            return \"5p\" \n",
    "        if( (hit_start+1) > istar_max):\n",
    "            return \"3p\"     \n",
    "    else:\n",
    "        if(continuous_pairing == \"no\" and hit_self_complementarity == \"yes\"):\n",
    "            return \"discontinuous star strand and hit self complementarity\"\n",
    "        elif(continuous_pairing == \"no\"):\n",
    "            return \"discontinuous star strand\"\n",
    "        elif(hit_self_complementarity == \"yes\"):\n",
    "            return \"hit self complementarity\"\n",
    "\n",
    "    if(complementarity_in_hit_region == \"no\"):\n",
    "        return \"no complementarity in hit region\"  \n",
    "    print(hit_start, hit_end, istar_min, istar_max, continuous_pairing, complementarity_in_hit_region, hit_self_complementarity)"
   ]
  },
  {
   "cell_type": "code",
   "execution_count": 23,
   "metadata": {
    "ExecuteTime": {
     "end_time": "2022-02-13T18:52:42.141476Z",
     "start_time": "2022-02-13T18:52:42.135289Z"
    }
   },
   "outputs": [],
   "source": [
    "def get_star_start(hit_start, hit_end, values):\n",
    "    c = 0\n",
    "    i = hit_end - 3 - c\n",
    "    while(values[i] == 0 and i >= 0):\n",
    "        c += 1\n",
    "        i = hit_end - 3 - c        \n",
    "    if(values[i] - c < 1):                    \n",
    "        return [max(values[i] - c,1), \"negative value\"]\n",
    "    if(i < hit_start):\n",
    "        return [values[i] - c, 'less than hit start']\n",
    "    return [values[i] - c, '']"
   ]
  },
  {
   "cell_type": "code",
   "execution_count": 25,
   "metadata": {
    "ExecuteTime": {
     "end_time": "2022-02-13T18:53:11.343674Z",
     "start_time": "2022-02-13T18:53:11.337095Z"
    }
   },
   "outputs": [],
   "source": [
    "def get_star_end(hit_start, hit_end, values):\n",
    "    if(hit_start - 2 >= 0 ):\n",
    "        a = 0    \n",
    "    else:\n",
    "        a = abs(hit_start - 2)\n",
    "    \n",
    "    i = hit_start - 2 + a\n",
    "    while(values[i] == 0 and i <= hit_end):\n",
    "        a += 1\n",
    "        i = hit_start - 2 + a\n",
    "    \n",
    "    if(i <= hit_end):        \n",
    "        if((values[i] + a) > len(values)):\n",
    "            return [len(values), \"out of sequance range\"]        \n",
    "        return [values[i] + a, \"\"]\n",
    "    return [np.nan, \"some error happened\"]"
   ]
  },
  {
   "cell_type": "code",
   "execution_count": 26,
   "metadata": {
    "ExecuteTime": {
     "end_time": "2022-02-13T18:53:12.154376Z",
     "start_time": "2022-02-13T18:53:12.149161Z"
    }
   },
   "outputs": [],
   "source": [
    "def get_num_of_linking_residues(hit_start,hit_end, star_start, star_end, mir_type):\n",
    "    if(mir_type == '5p'):\n",
    "        return str(star_start - hit_end - 1)\n",
    "    elif(mir_type == '3p'):\n",
    "        return str(hit_start - star_end)\n",
    "    elif(mir_type == \"discontinuous star strand\"):\n",
    "        return \"discontinuous star strand\"\n",
    "    elif(mir_type == \"no complementarity in hit region\"):\n",
    "        print('error')    "
   ]
  },
  {
   "cell_type": "code",
   "execution_count": 27,
   "metadata": {
    "ExecuteTime": {
     "end_time": "2022-02-13T18:53:12.724302Z",
     "start_time": "2022-02-13T18:53:12.719877Z"
    }
   },
   "outputs": [],
   "source": [
    "def get_star_branching(star_start, star_end, star_range, values):\n",
    "    return not ((values[star_range-1] < star_start) | (values[star_range-1] > star_end)).all()"
   ]
  },
  {
   "cell_type": "code",
   "execution_count": 28,
   "metadata": {
    "ExecuteTime": {
     "end_time": "2022-02-13T18:53:13.270717Z",
     "start_time": "2022-02-13T18:53:13.198066Z"
    }
   },
   "outputs": [],
   "source": [
    "def getBOI_5p(hit_start, hit_end, values):\n",
    "    # first calc latest non zero value\n",
    "    for i in range(hit_end-1, 0, -1):\n",
    "        if(values[i] != 0):\n",
    "            last_v = values[i]\n",
    "            last_i = i\n",
    "            place = i\n",
    "            break            \n",
    "            \n",
    "    for i in range(place-1, 0, -1):\n",
    "        v = values[i]\n",
    "        if(v == 0):\n",
    "            continue\n",
    "        if(v < last_v):\n",
    "            if(last_i <= hit_start and last_i <= hit_end and last_v > hit_start and last_v >= hit_end):                \n",
    "                return [last_i + 1, last_v]            \n",
    "        \n",
    "        if((v - last_v) >= 3):            \n",
    "            s1 = set(range(last_v+1, v))\n",
    "            s2 = set([values[ii-1] for ii in range(last_v+1, v)])                        \n",
    "            if(len(s1.intersection(s2)) > 0):                                                \n",
    "                if(last_i <= hit_start and last_i < hit_end and last_v > hit_start and last_v >= hit_end): #?????                     \n",
    "                    return [last_i + 1, last_v]    \n",
    "        last_v = v            \n",
    "        last_i = i            \n",
    "    for i in range(0,hit_start):\n",
    "        if(values[i] != 0 ):\n",
    "            if(last_i <= hit_start and last_i <= hit_end and last_v > hit_start and last_v >= hit_end):                    \n",
    "                return [i + 1, values[i]]          \n",
    "    return [np.nan, np.nan]    \n",
    "    \n",
    "                \n",
    "def getBOI_3p(hit_start, hit_end, values):\n",
    "    # first calc latest non zero value\n",
    "    for i in range(hit_start, len(values)):    \n",
    "        if(values[i] != 0):\n",
    "            last_v = values[i]\n",
    "            last_i = i\n",
    "            place = i\n",
    "            break            \n",
    "            \n",
    "    for i in range(place + 1, len(values)):\n",
    "        v = values[i]\n",
    "        if(v == 0):\n",
    "            continue\n",
    "        if(v > last_v):\n",
    "            if((last_v-1) <= hit_start and (last_v-1) <= hit_end and (last_i+1)  > hit_start and (last_i+1)  >= hit_end):    \n",
    "                return [last_v, last_i + 1]                                                                                    \n",
    "        if((last_v - v) >= 3):\n",
    "            s1 = set(range(v+1, last_v))\n",
    "            s2 = set([values[ii-1] for ii in range(v+1, last_v)])\n",
    "            if(len(s1.intersection(s2)) > 0):\n",
    "                if((last_v-1) <= hit_start and (last_v-1) < hit_end and (last_i+1)  > hit_start and (last_i+1)  >= hit_end):\n",
    "                    return [last_v, last_i + 1]    \n",
    "        last_v = v            \n",
    "        last_i = i            \n",
    "    for i in range(len(values)-1, hit_end-2, -1):  # changed!        \n",
    "        if(values[i] != 0 ):\n",
    "            if((last_v-1) <= hit_start and (last_v-1) <= hit_end and (last_i+1)  > hit_start and (last_i+1)  >= hit_end):                    \n",
    "                return [values[i], i + 1]    \n",
    "    return [np.nan, np.nan]\n",
    "    \n",
    "    \n",
    "def get_boi(hit_start, hit_end, values, mir_type):    \n",
    "    if(mir_type == '5p'):\n",
    "        return getBOI_5p(hit_start, hit_end, values)\n",
    "    if(mir_type == '3p'):\n",
    "        return getBOI_3p(hit_start, hit_end, values)"
   ]
  },
  {
   "cell_type": "code",
   "execution_count": 29,
   "metadata": {
    "ExecuteTime": {
     "end_time": "2022-02-13T18:53:13.639871Z",
     "start_time": "2022-02-13T18:53:13.634843Z"
    }
   },
   "outputs": [],
   "source": [
    "def get_terminal_structure_range(hit_start, hit_end, istar_min, istar_max, mir_type):\n",
    "    if(mir_type == '5p'):\n",
    "        return [i for i in range(hit_end, istar_min-1)]\n",
    "    if(mir_type == '3p'):\n",
    "        return [i for i in range(istar_max, hit_start)]\n",
    "    print(\"Error in get_terminal_structure_range function\")        "
   ]
  },
  {
   "cell_type": "code",
   "execution_count": 30,
   "metadata": {
    "ExecuteTime": {
     "end_time": "2022-02-13T18:53:13.946940Z",
     "start_time": "2022-02-13T18:53:13.941138Z"
    }
   },
   "outputs": [],
   "source": [
    "def get_number_of_terminal_structure(values, terminal_structure_range):    \n",
    "    data = values[terminal_structure_range]\n",
    "    data = data[data != 0].to_numpy()\n",
    "    if(len(data) == 0):\n",
    "        return 0           \n",
    "    counter = 1            \n",
    "    last = data[0]         \n",
    "    for i in range(1,len(data)): \n",
    "        if(data[i] > last):\n",
    "            counter += 1\n",
    "        last = data[i]        \n",
    "    return counter "
   ]
  },
  {
   "cell_type": "code",
   "execution_count": 31,
   "metadata": {
    "ExecuteTime": {
     "end_time": "2022-02-13T18:53:14.303338Z",
     "start_time": "2022-02-13T18:53:14.293686Z"
    }
   },
   "outputs": [],
   "source": [
    "def get_branch_star_end_point(values, terminal_structure_range):        \n",
    "    data = values[terminal_structure_range]    \n",
    "    index = np.array(terminal_structure_range)[data != 0]    \n",
    "    data = data[data != 0].to_numpy()                        \n",
    "    branch_start_index = []\n",
    "    branch_end_index = []\n",
    "    branch_start_index.append(index[0])\n",
    "    last = data[0]            \n",
    "    for i in range(1,len(data)): \n",
    "        if(data[i] > last):\n",
    "            branch_end_index.append(index[i-1])\n",
    "            branch_start_index.append(index[i])\n",
    "        last = data[i]        \n",
    "    branch_end_index.append(index[-1])\n",
    "    #\n",
    "    branch_start_point = []\n",
    "    branch_end_point = []\n",
    "    for i in range(0, len(branch_start_index)):         \n",
    "        i_s = branch_start_index[i]\n",
    "        i_e = branch_end_index[i]\n",
    "        v_s = values[i_s]\n",
    "        v_e = values[i_e]\n",
    "        if(v_s > i_s and v_s <= (i_e + 1)):\n",
    "            branch_start_point.append(i_s + 1)\n",
    "            branch_end_point.append(v_s)\n",
    "        elif(v_e > i_s and v_e <= (i_e + 1)):\n",
    "            branch_start_point.append(v_e)\n",
    "            branch_end_point.append(i_e + 1)        \n",
    "    return [branch_start_point, branch_end_point]"
   ]
  },
  {
   "cell_type": "code",
   "execution_count": 32,
   "metadata": {
    "ExecuteTime": {
     "end_time": "2022-02-13T18:53:14.925610Z",
     "start_time": "2022-02-13T18:53:14.917729Z"
    }
   },
   "outputs": [],
   "source": [
    "def get_branch_apical_loop_size(branch_start_point, branch_end_point, values):        \n",
    "    branch_apical_loop_start = []\n",
    "    branch_apical_loop_end = []\n",
    "    branch_apical_loop_size = []\n",
    "    for s,e in zip(branch_start_point, branch_end_point):\n",
    "        data = values[s-1: e]\n",
    "        index = np.array([i for i in range(s-1, e)])[data != 0]                    \n",
    "        for i in range(len(index)-1):\n",
    "            if(values[index[i+1]] == index[i]+1 and values[index[i]] == index[i+1]+1):\n",
    "                branch_apical_loop_start.append(index[i]+1)\n",
    "                branch_apical_loop_end.append(index[i+1]+1)\n",
    "                branch_apical_loop_size.append(index[i+1] - index[i] - 1)                                                \n",
    "    return [branch_apical_loop_start, branch_apical_loop_end, branch_apical_loop_size]"
   ]
  },
  {
   "cell_type": "code",
   "execution_count": 33,
   "metadata": {
    "ExecuteTime": {
     "end_time": "2022-02-13T18:53:15.402021Z",
     "start_time": "2022-02-13T18:53:15.396454Z"
    }
   },
   "outputs": [],
   "source": [
    "def get_stem_last_residue(branch_apical_loop_start,branch_apical_loop_end, mir_type):\n",
    "    out = []\n",
    "    for i in range(len(branch_apical_loop_start)):\n",
    "        if(mir_type == '5p'):\n",
    "            out.append(min(branch_apical_loop_start[i], branch_apical_loop_end[i]))\n",
    "        if(mir_type == '3p'):\n",
    "            out.append(max(branch_apical_loop_start[i], branch_apical_loop_end[i]))\n",
    "    return out"
   ]
  },
  {
   "cell_type": "code",
   "execution_count": 34,
   "metadata": {
    "ExecuteTime": {
     "end_time": "2022-02-13T18:53:15.798863Z",
     "start_time": "2022-02-13T18:53:15.794124Z"
    }
   },
   "outputs": [],
   "source": [
    "def get_branch_stem_length(branch_start_point, branch_apical_loop_start):\n",
    "    out = []\n",
    "    for i in range(len(branch_start_point)):\n",
    "        out.append(branch_apical_loop_start[i] - branch_start_point[i] + 1)\n",
    "    return out"
   ]
  },
  {
   "cell_type": "code",
   "execution_count": 35,
   "metadata": {
    "ExecuteTime": {
     "end_time": "2022-02-13T18:53:16.160641Z",
     "start_time": "2022-02-13T18:53:16.148129Z"
    }
   },
   "outputs": [],
   "source": [
    "def get_primary_stem_end_point(branch_start_point, branch_end_point, stem_last_residue, hit_start, hit_end, istar_min, istar_max, values, number_of_terminal_structure, mir_type):    \n",
    "    if(number_of_terminal_structure == 1):\n",
    "        return stem_last_residue[0]\n",
    "    if(mir_type == '5p'):\n",
    "        if(number_of_terminal_structure == 0):                            \n",
    "            for i in range(hit_end-1, hit_start-1,-1):\n",
    "                if(values[i] != 0):\n",
    "                    return i + 1\n",
    "        else:\n",
    "            a = -1                        \n",
    "            for i in range(branch_start_point[0]-2, hit_end-1, -1):                \n",
    "                if(values[i] != 0):\n",
    "                    a = i + 1\n",
    "                    break            \n",
    "            b = -1            \n",
    "            for i in range(branch_end_point[-1], istar_min - 1):\n",
    "                if(values[i] != 0):\n",
    "                    b = values[i]\n",
    "                    break                   \n",
    "            if(a == -1 or b == -1):\n",
    "                return np.nan\n",
    "            return min(a,b)\n",
    "            \n",
    "    if(mir_type == '3p'):\n",
    "        if(number_of_terminal_structure == 0):                \n",
    "            for i in range(hit_start, hit_end):\n",
    "                if(values[i] != 0):\n",
    "                    return i + 1 \n",
    "        else:\n",
    "            a = -1\n",
    "            for i in range(branch_end_point[-1], hit_start):\n",
    "                if(values[i] != 0):\n",
    "                    a = i + 1\n",
    "                    break            \n",
    "            \n",
    "            b = -1            \n",
    "            for i in range(branch_start_point[0]-2, istar_max-1, -1):                \n",
    "                if(values[i] != 0):\n",
    "                    b = values[i]\n",
    "                    break                    \n",
    "            \n",
    "            if(a == -1 or b == -1):\n",
    "                return np.nan\n",
    "            return max(a,b)"
   ]
  },
  {
   "cell_type": "code",
   "execution_count": 36,
   "metadata": {
    "ExecuteTime": {
     "end_time": "2022-02-13T18:53:16.570065Z",
     "start_time": "2022-02-13T18:53:16.563931Z"
    }
   },
   "outputs": [],
   "source": [
    "def get_primary_stem_length(primary_stem_end_point, branch_start_point, branch_end_point, stem_last_residue, hit_start, hit_end, values, number_of_terminal_structure ,mir_type):    \n",
    "    if(number_of_terminal_structure == 0):\n",
    "        return 0\n",
    "    if(mir_type == '5p'):\n",
    "        if(number_of_terminal_structure == 1):                \n",
    "            return stem_last_residue[0] - branch_start_point[0] + 1\n",
    "        else:                        \n",
    "            return primary_stem_end_point - hit_end\n",
    "            \n",
    "    if(mir_type == '3p'):\n",
    "        if(number_of_terminal_structure == 1):                \n",
    "            return branch_end_point[0] - stem_last_residue[0] + 1\n",
    "        else:                        \n",
    "            return (hit_start+1) - primary_stem_end_point"
   ]
  },
  {
   "cell_type": "code",
   "execution_count": 37,
   "metadata": {
    "ExecuteTime": {
     "end_time": "2022-02-13T18:53:16.969216Z",
     "start_time": "2022-02-13T18:53:16.964470Z"
    },
    "code_folding": []
   },
   "outputs": [],
   "source": [
    "def get_domain(primary_stem_end_point, boi_start, boi_end, stem_last_residue, hit_start, hit_end, mir_type):    \n",
    "    if(mir_type == '5p'):        \n",
    "        return range(boi_start-1, primary_stem_end_point)                                        \n",
    "    if(mir_type == '3p'):        \n",
    "        return range(primary_stem_end_point-1, boi_end)"
   ]
  },
  {
   "cell_type": "code",
   "execution_count": 38,
   "metadata": {
    "ExecuteTime": {
     "end_time": "2022-02-13T18:53:17.549234Z",
     "start_time": "2022-02-13T18:53:17.544109Z"
    }
   },
   "outputs": [],
   "source": [
    "def get_domain_star(primary_stem_end_point_star, boi_start, boi_end, stem_last_residue, hit_start, hit_end, mir_type):    \n",
    "    if(mir_type == '5p'):        \n",
    "        return range(primary_stem_end_point_star - 1, boi_end)                                        \n",
    "    if(mir_type == '3p'):        \n",
    "        return range(boi_start-1 , primary_stem_end_point_star)"
   ]
  },
  {
   "cell_type": "code",
   "execution_count": 39,
   "metadata": {
    "ExecuteTime": {
     "end_time": "2022-02-13T18:53:18.034170Z",
     "start_time": "2022-02-13T18:53:18.029018Z"
    }
   },
   "outputs": [],
   "source": [
    "def get_interfering_structures(domain, values):\n",
    "    [c, d] = [min(domain[0], domain[-1]), max(domain[0], domain[-1])]    \n",
    "    v = values[c-1:d]    \n",
    "    return not ((v < c) | (v > d)).all()"
   ]
  },
  {
   "cell_type": "code",
   "execution_count": 40,
   "metadata": {
    "ExecuteTime": {
     "end_time": "2022-02-13T18:53:18.661380Z",
     "start_time": "2022-02-13T18:53:18.651378Z"
    }
   },
   "outputs": [],
   "source": [
    "def getLocation(start, end, hit_start, hit_end, mir_type):            \n",
    "    def _location(point): # base location              \n",
    "        if(mir_type == \"5p\"):                        \n",
    "            if(point < (hit_start+1)):\n",
    "                return [\"loop distal\", (hit_start+1) - point]\n",
    "            if(point <= hit_end):\n",
    "                return [\"hit region\", point - (hit_start+1) + 1]\n",
    "            return [\"loop proximal\" , point - hit_end]\n",
    "        \n",
    "        if(mir_type == \"3p\"):    \n",
    "            if(point > hit_end):\n",
    "                return [\"loop distal\" , point - hit_end]\n",
    "            if(point >= (hit_start+1)):\n",
    "                return [\"hit region\", point - (hit_start+1) + 1]\n",
    "            return [\"loop proximal\", (hit_start+1) - point]                                        \n",
    "            \n",
    "    [type1, loc1] = _location(start)\n",
    "    [type2, loc2] = _location(end)    \n",
    "    if(type1 == type2):                \n",
    "        return [type1, min(loc1, loc2), max(loc1, loc2)]\n",
    "    \n",
    "    if((type1 == \"loop distal\" and type2 == \"hit region\") or\n",
    "       (type2 == \"loop distal\" and type1 == \"hit region\")):                \n",
    "        return [\"distal border line\", loc1, loc2]\n",
    "        \n",
    "    if((type1 == \"loop proximal\" and type2 == \"hit region\") or\n",
    "       (type2 == \"loop proximal\" and type1 == \"hit region\")):        \n",
    "        return [\"proximal border line\", loc1, loc2]\n",
    "    \n",
    "    raise exception(\"loop proximal and loop distal\")"
   ]
  },
  {
   "cell_type": "code",
   "execution_count": 41,
   "metadata": {
    "ExecuteTime": {
     "end_time": "2022-02-13T18:53:19.276671Z",
     "start_time": "2022-02-13T18:53:19.265665Z"
    },
    "code_folding": []
   },
   "outputs": [],
   "source": [
    "def get_mismatch(domain, values, MCMA, hit_start, hit_end, mir_type): #MCMA: maximum consecutive mismatch allowance    \n",
    "    size = []\n",
    "    location_type = []\n",
    "    location_start = []\n",
    "    location_end = []\n",
    "    if(values[domain[0]] == 0 or values[domain[-1]] == 0):\n",
    "        raise Exception(\"Domain start or end = 0\")        \n",
    "        return \"Domain start or end = 0\"\n",
    "    mismatch_counter = 0 \n",
    "    zero_counter = 0\n",
    "    last = values[domain[0]]    \n",
    "    lastI = domain[0]\n",
    "    for d in domain[1:]:\n",
    "        if(values[d] == 0):\n",
    "            zero_counter += 1\n",
    "        else:            \n",
    "            current = values[d]\n",
    "            if(current > last):\n",
    "                return [\"Increment series error\", None, None, None, None]\n",
    "            elif(current < last and zero_counter > 0):                \n",
    "                if(last - current - 1 == zero_counter and zero_counter <= MCMA):\n",
    "                    mismatch_counter += 1\n",
    "                    size.append(zero_counter)                    \n",
    "                    [loc_type, loc_start, loc_end ] = getLocation(lastI+2, d, hit_start, hit_end, mir_type)\n",
    "                    location_type.append(loc_type)\n",
    "                    location_start.append(loc_start)\n",
    "                    location_end.append(loc_end)                    \n",
    "                zero_counter = 0                                    \n",
    "            last = current\n",
    "            lastI = d\n",
    "    if(mir_type == \"3p\"):\n",
    "        size = size[::-1]\n",
    "        location_type = location_type[::-1]\n",
    "        location_start = location_start[::-1]\n",
    "        location_end = location_end[::-1]\n",
    "    return [mismatch_counter, size, location_type, location_start, location_end]"
   ]
  },
  {
   "cell_type": "code",
   "execution_count": 42,
   "metadata": {
    "ExecuteTime": {
     "end_time": "2022-02-13T18:53:19.844893Z",
     "start_time": "2022-02-13T18:53:19.833031Z"
    }
   },
   "outputs": [],
   "source": [
    "def get_bulge(domain, values, hit_start, hit_end, mir_type): \n",
    "    size = []  \n",
    "    bulge_type = []\n",
    "    location_type = []\n",
    "    location_start = []\n",
    "    location_end = []\n",
    "    zero_counter = 0\n",
    "    last = values[domain[0]]  \n",
    "    lastI = domain[0]\n",
    "    for d in domain[1:]:\n",
    "        if(values[d] == 0):\n",
    "            zero_counter += 1\n",
    "        else:\n",
    "            current = values[d]\n",
    "            if(current > last):\n",
    "                return [\"Increment series error\", None, None, None, None,None]\n",
    "            \n",
    "            if(last - current == 1 and zero_counter > 0):                \n",
    "                size.append(zero_counter)                            \n",
    "                [loc_type, loc_start, loc_end ] = getLocation(lastI+1, d+1, hit_start, hit_end, mir_type)\n",
    "                bulge_type.append(\"zero\")\n",
    "                location_type.append(loc_type)\n",
    "                location_start.append(loc_start)\n",
    "                location_end.append(loc_end)                    \n",
    "                \n",
    "            if(last - current > 1 and zero_counter == 0):                \n",
    "                size.append(last - current - 1)                \n",
    "                [loc_type, loc_start, loc_end ] = getLocation(lastI+2, d, hit_start, hit_end, mir_type)\n",
    "                bulge_type.append(\"jump\")\n",
    "                location_type.append(loc_type)\n",
    "                location_start.append(loc_start)\n",
    "                location_end.append(loc_end)                    \n",
    "                                            \n",
    "            zero_counter = 0                                                    \n",
    "            last = current\n",
    "            lastI = d\n",
    "    if(mir_type == \"3p\"):\n",
    "        size = size[::-1]\n",
    "        bulge_type = bulge_type[::-1]\n",
    "        location_type = location_type[::-1]\n",
    "        location_start = location_start[::-1]\n",
    "        location_end = location_end[::-1]\n",
    "    return [len(size), size, location_type, location_start, location_end, bulge_type]"
   ]
  },
  {
   "cell_type": "code",
   "execution_count": 43,
   "metadata": {
    "ExecuteTime": {
     "end_time": "2022-02-13T18:53:20.478008Z",
     "start_time": "2022-02-13T18:53:20.465509Z"
    }
   },
   "outputs": [],
   "source": [
    "def get_internal_loop(domain, values, MCMA, hit_start, hit_end, mir_type): #MCMA: maximum consecutive mismatch allowance\n",
    "    size_HSBL = []  # number of         \n",
    "    size_SSBL = []     \n",
    "    location_type = []\n",
    "    location_start = []\n",
    "    location_end = []\n",
    "    zero_counter = 0\n",
    "    last = values[domain[0]]    \n",
    "    lastI = domain[0]\n",
    "    for d in domain[1:]:\n",
    "        if(values[d] == 0):\n",
    "            zero_counter += 1\n",
    "        else:\n",
    "            current = values[d]            \n",
    "            if(current > last):\n",
    "                return [\"Increment series error\", None, None, None, None, None]        \n",
    "            if(current < last and zero_counter > 0):                \n",
    "                jump = last - current - 1\n",
    "                if(jump == 0):\n",
    "                    zero_counter = 0                                    \n",
    "                elif(jump != zero_counter):                                        \n",
    "                    size_HSBL.append(zero_counter)\n",
    "                    size_SSBL.append(jump)\n",
    "                    [loc_type, loc_start, loc_end ] = getLocation(lastI+2, d, hit_start, hit_end, mir_type)\n",
    "                    location_type.append(loc_type)\n",
    "                    location_start.append(loc_start)\n",
    "                    location_end.append(loc_end)                    \n",
    "                elif(zero_counter > MCMA):\n",
    "                    size_HSBL.append(zero_counter)\n",
    "                    size_SSBL.append(jump)\n",
    "                    [loc_type, loc_start, loc_end ] = getLocation(lastI+2, d, hit_start, hit_end, mir_type)\n",
    "                    location_type.append(loc_type)\n",
    "                    location_start.append(loc_start)\n",
    "                    location_end.append(loc_end)                    \n",
    "                    \n",
    "            zero_counter = 0                                    \n",
    "            last = current\n",
    "            lastI = d\n",
    "    if(mir_type == \"3p\"):        \n",
    "        size_SSBL = size_SSBL[::-1]\n",
    "        size_HSBL = size_HSBL[::-1]\n",
    "        location_type = location_type[::-1]\n",
    "        location_start = location_start[::-1]\n",
    "        location_end = location_end[::-1]\n",
    "    return [len(size_HSBL), size_HSBL, size_SSBL, location_type, location_start, location_end]"
   ]
  },
  {
   "cell_type": "code",
   "execution_count": 44,
   "metadata": {
    "ExecuteTime": {
     "end_time": "2022-02-13T18:53:27.269901Z",
     "start_time": "2022-02-13T18:53:27.251071Z"
    }
   },
   "outputs": [],
   "source": [
    "def get_distance_info(inp_type,inp_bord_type, mis_loc_type,mismatch_size, mis_start, bulge_size, bulge_loc_type, bulge_start,bulge_end, bulge_type,internal_loop,size_HSBL,size_SSBL,intr_loc_type,intr_start,intr_end):\n",
    "    counter = 0 \n",
    "    data = []\n",
    "    # mismatch\n",
    "    if(mis_loc_type != None):\n",
    "        for i in range(0, len(mis_loc_type)):\n",
    "            if(mis_loc_type[i] == inp_type):\n",
    "                data.append({'start':mis_start[i],\n",
    "                             'size': mismatch_size[i],\n",
    "                             'type':\"mismatch\"})\n",
    "    # bulge\n",
    "    if(bulge_loc_type != None):\n",
    "        for i in range(0, len(bulge_loc_type)):\n",
    "            if(bulge_loc_type[i] == inp_type):\n",
    "                data.append({'start':bulge_start[i],\n",
    "                              'size': bulge_size[i],\n",
    "                              'end': bulge_end[i],\n",
    "                              'bulge_type': bulge_type[i],\n",
    "                              'type':\"bulge\"})\n",
    "            if(bulge_loc_type[i] == inp_bord_type and\n",
    "                bulge_type[i] == \"zero\"):\n",
    "                counter = bulge_end[i] - 1 \n",
    "    # loop\n",
    "    if(intr_loc_type != None):\n",
    "        for i in range(0, len(intr_loc_type)):\n",
    "            if(intr_loc_type[i] == inp_type):\n",
    "                data.append({'start': intr_start[i],\n",
    "                         'HSBL' : size_HSBL[i],\n",
    "                         'SSBL' : size_SSBL[i],\n",
    "                         'end'  : intr_end[i],\n",
    "                         'type' : \"loop\"})\n",
    "            if(intr_loc_type[i] == inp_bord_type and\n",
    "               size_HSBL[i] > size_SSBL[i] and\n",
    "               intr_end[i] > size_SSBL[i]):\n",
    "                counter = intr_end[i] - size_SSBL[i]\n",
    "    if(len(data) == 0):\n",
    "        return [[], []]\n",
    "    data.sort(key=lambda x: x['start'], reverse=False)\n",
    "    #\n",
    "    output = []\n",
    "    outputhr = []\n",
    "    for d in data:\n",
    "        # todo\n",
    "        dist = d['start'] - counter - 1\n",
    "        if(d['type']== \"mismatch\"):\n",
    "            output.append({'type':\"mismatch\",\n",
    "                           'dist': dist,\n",
    "                           'size': d['size']})\n",
    "            outputhr.append(f\"mismatch=dist:{dist}, size:{d['size']}\")\n",
    "        if(d['type']== \"bulge\"):\n",
    "            dist = d['start'] - counter\n",
    "            output.append({'type':\"bulge\",\n",
    "                           'dist': dist,\n",
    "                           'size': d['size']})\n",
    "            outputhr.append(f\"bulge=dist:{dist}, size:{d['size']}\")\n",
    "            if(d['bulge_type'] == \"zero\"):\n",
    "                counter +=  d['size']\n",
    "        if(d['type']== \"loop\"):\n",
    "            dist = d['start'] - counter - 1\n",
    "            _size = str(d['HSBL'])+ \" + \" + str(d['SSBL'])\n",
    "            output.append({'type':\"loop\",\n",
    "                           'dist': dist,\n",
    "                           'size': _size})\n",
    "            outputhr.append(f\"loop=dist:{dist}, size:{_size}\")\n",
    "            if(d['HSBL'] > d['SSBL']):\n",
    "                counter += d['HSBL'] - d['SSBL']\n",
    "    return [output,outputhr]"
   ]
  },
  {
   "cell_type": "code",
   "execution_count": 45,
   "metadata": {
    "ExecuteTime": {
     "end_time": "2022-02-13T18:53:28.037316Z",
     "start_time": "2022-02-13T18:53:28.030110Z"
    }
   },
   "outputs": [],
   "source": [
    "def closestto(data,number=15):\n",
    "    for d in data:\n",
    "        if(d['type'] == \"mismatch\"):\n",
    "            data.remove(d)\n",
    "    dist = []\n",
    "    if(len(data)==0):\n",
    "        return \"\"\n",
    "    for d in data:\n",
    "        dist.append(abs(d['dist'] - number))\n",
    "    min_dist = min(dist)\n",
    "    out = []\n",
    "    for i in range(0,len(dist)):\n",
    "        if(dist[i] == min_dist):\n",
    "            out.append(data[i])\n",
    "            \n",
    "    output = []\n",
    "    for o in out:\n",
    "        output.append(f\"{o['type']}=dist:{o['dist']}, size:{o['size']}\")                \n",
    "    return output"
   ]
  },
  {
   "cell_type": "code",
   "execution_count": 66,
   "metadata": {
    "ExecuteTime": {
     "end_time": "2022-02-13T19:13:39.244094Z",
     "start_time": "2022-02-13T19:13:39.194458Z"
    },
    "code_folding": []
   },
   "outputs": [],
   "source": [
    "server_url = \"http://jupyter.sysmanager.ir/tree/plant_microRNA_prediction\"\n",
    "#MCMA: maximum consecutive mismatch allowance\n",
    "def get_row(tag, path, extra, acceptable_terminal_structures = 5, MCMA=2):    \n",
    "    result = {}    \n",
    "    ct = reformatCT(path)\n",
    "    result['seq name'] = tag\n",
    "    result['ct name'] = \"Fold \" + path[-20:].split('SEQ_')[1].split('.ct')[0]\n",
    "    result['ct'] = f'=HYPERLINK(\"{server_url + path[1:]}\",\"ct\")'\n",
    "    result['pdf'] = f'=HYPERLINK(\"{server_url + path[1:-3] + \".pdf\"}\",\"pdf\")'            \n",
    "    #print(result['pdf'])\n",
    "    [hit_start, hit_end, sign] = get_tag_info(tag)    \n",
    "    result['hit start'] = hit_start + 1\n",
    "    result['hit end'] =  hit_end\n",
    "    result['sign'] = sign\n",
    "    dg = get_deltaG(ct)\n",
    "    result['delta G'] = dg\n",
    "    [nucleotide, index, values] = get_ct_data(ct)\n",
    "    hit_seq = ''.join(nucleotide[hit_start:hit_end])\n",
    "    result['hit seq'] = hit_seq\n",
    "    hit_range = index[hit_start:hit_end]\n",
    "    hit_len = len(hit_range)\n",
    "    result['hit len'] = hit_len\n",
    "    inc_srange = values[hit_start:hit_end] # Incomplete_Star_range\n",
    "\n",
    "    complementarity_in_hit_region = get_complementarity_in_hit_region(inc_srange, hit_len)\n",
    "    result['complementarity in hit region'] = complementarity_in_hit_region    \n",
    "    if(complementarity_in_hit_region == \"no\"):        \n",
    "        result['message'] = \"no complementarity in hit region\"        \n",
    "        return pd.Series(result) \n",
    "    \n",
    "    hit_self_complementarity = get_hit_self_complementarity(hit_start, hit_end, inc_srange)    \n",
    "    result['hit self complementarity'] = hit_self_complementarity       \n",
    "    if(hit_self_complementarity == \"yes\"):        \n",
    "        result['message'] = \"hit self complementarity\"\n",
    "        return pd.Series(result)     \n",
    "    if(hit_start - extra < 0 or (len(values) - hit_end) < extra):        \n",
    "        result['message'] = \"Not enough flanking for hit region\"                \n",
    "        return pd.Series(result) \n",
    "    \n",
    "    [flanking_istar_min, flanking_istar_max] = get_istar_min_max(values[(hit_start-extra):(hit_end+extra)], hit_self_complementarity)  \n",
    "    result['flanking istar min']  = flanking_istar_min\n",
    "    result['flanking istar max']  = flanking_istar_max    \n",
    "    \n",
    "    continuous_pairing = get_continuous_pairing(hit_start, hit_end, flanking_istar_min, flanking_istar_max, hit_self_complementarity)\n",
    "    result['continuous pairing'] = continuous_pairing    \n",
    "    if(continuous_pairing == \"no\"):\n",
    "        result['message'] = \"discontinuous star strand\"\n",
    "        return pd.Series(result) \n",
    "    \n",
    "    [istar_min, istar_max] = get_istar_min_max(inc_srange, hit_self_complementarity)  \n",
    "    result['istar min']  = istar_min\n",
    "    result['istar max']  = istar_max\n",
    "    \n",
    "    mir_type = get_mir_type(hit_start, hit_end, istar_min, istar_max, continuous_pairing, complementarity_in_hit_region, hit_self_complementarity)\n",
    "    result['mir type'] = mir_type    \n",
    "    if(mir_type not in ['3p', '5p']):        \n",
    "        result['message'] = mir_type\n",
    "        return pd.Series(result) \n",
    "    \n",
    "    [star_start, star_start_msg] = get_star_start(hit_start, hit_end, values)\n",
    "    [star_end, star_end_msg] = get_star_end(hit_start, hit_end, values)\n",
    "    result['star start'] = star_start \n",
    "    result['star start msg'] = star_start_msg     \n",
    "    result['star end'] = star_end    \n",
    "    result['star end msg'] =  star_end_msg        \n",
    "    star_start = istar_min ############################################\n",
    "    star_end = istar_max   ############################################\n",
    "    #set1 = set(range(star_start-1 , star_end))\n",
    "    set1 = set(range(star_start-2 , star_end+1)) ######################\n",
    "    set2 = set(range(hit_start, hit_end))            \n",
    "    if(len(set1.intersection(set2)) > 0):        \n",
    "        result['message'] = 'overlap between miRNA and miRNA*'        \n",
    "        return pd.Series(result) \n",
    "    \n",
    "    star_range = index[star_start - 1:star_end]\n",
    "    star_seq = ''.join(nucleotide[star_start - 1:star_end])\n",
    "    result['star seq'] = star_seq\n",
    "    num_of_linking_residues = get_num_of_linking_residues(hit_start,hit_end, star_start, star_end, mir_type)\n",
    "    result['num of linking residues'] = num_of_linking_residues\n",
    "    #print(result)\n",
    "    star_branching = get_star_branching(star_start, star_end, star_range, values)\n",
    "    #star_branching = get_star_branching(istar_min, istar_max, inc_srange, values)\n",
    "    result['star branching'] = \"yes\" if star_branching else \"no\"    \n",
    "    [boi_start, boi_end] = get_boi(hit_start, hit_end, values, mir_type)                \n",
    "    if(math.isnan(boi_start) or math.isnan(boi_end)):        \n",
    "        result['message'] = 'unfit BOI structure'\n",
    "        return pd.Series(result) \n",
    "    boi_seq = ''.join(nucleotide[boi_start-1: boi_end].tolist())\n",
    "    result['boi start'] = boi_start\n",
    "    result['boi end'] =  boi_end\n",
    "    result['boi seq'] =  boi_seq    \n",
    "    terminal_structure_range = get_terminal_structure_range(hit_start, hit_end, istar_min, istar_max, mir_type)\n",
    "    result['terminal structure range'] = [i+1 for i in [terminal_structure_range[0], terminal_structure_range[-1]]]                            \n",
    "    if(len(terminal_structure_range) == 0):        \n",
    "        result['number of terminal structure'] = \"no residues between miR and miR*\"         \n",
    "    else:                \n",
    "        number_of_terminal_structure = get_number_of_terminal_structure(values, terminal_structure_range)        \n",
    "        if(number_of_terminal_structure == 0):\n",
    "            result['number of terminal structure'] = 1                    \n",
    "            #[branch_start_point, branch_end_point] = [[terminal_structure_range[0]+1], [terminal_structure_range[-1]+1]]\n",
    "            [branch_start_point, branch_end_point] = [[], []]   \n",
    "            stem_last_residue = []\n",
    "        elif(number_of_terminal_structure == 1):\n",
    "            result['number of terminal structure'] = 1        \n",
    "            [branch_start_point, branch_end_point] = [[terminal_structure_range[0]+1], [terminal_structure_range[-1]+1]]            \n",
    "            stem_last_residue = []\n",
    "        else:\n",
    "            result['number of terminal structure'] = number_of_terminal_structure\n",
    "            [branch_start_point, branch_end_point]  = get_branch_star_end_point(values, terminal_structure_range)         \n",
    "        if(number_of_terminal_structure != 0):\n",
    "            #[branch_apical_loop_start, branch_apical_loop_end, branch_apical_loop_size] = [[branch_start_point[0]], [branch_end_point[0]], [abs(branch_end_point[0] - branch_start_point[0]) + 1]]                    \n",
    "            [branch_apical_loop_start, branch_apical_loop_end, branch_apical_loop_size] = get_branch_apical_loop_size(branch_start_point, branch_end_point, values)\n",
    "            stem_last_residue = get_stem_last_residue(branch_apical_loop_start,branch_apical_loop_end, mir_type)\n",
    "            branch_stem_length = get_branch_stem_length(branch_start_point, branch_apical_loop_start)                        \n",
    "        for i in range(acceptable_terminal_structures):\n",
    "            if(i < len(branch_start_point)):\n",
    "                result[f'branch#{i + 1} start point'] = branch_start_point[i]\n",
    "                result[f'branch#{i + 1} end point'] = branch_end_point[i]\n",
    "                result[f'branch#{i + 1} total length'] = abs(branch_end_point[i] - branch_start_point[i]) + 1                                                \n",
    "                result[f'branch#{i + 1} apical loop start'] = branch_apical_loop_start[i]\n",
    "                result[f'branch#{i + 1} apical loop end'] = branch_apical_loop_end[i]\n",
    "                result[f'branch#{i + 1} apical loop size'] = branch_apical_loop_size[i]                    \n",
    "                if(number_of_terminal_structure == 1):\n",
    "                    result[f'branch#{i + 1} stem last residue'] = stem_last_residue[i]\n",
    "                else:\n",
    "                    result[f'branch#{i + 1} stem last residue'] = \"\"\n",
    "                result[f'branch#{i + 1} stem length'] = branch_stem_length[i]                \n",
    "            else:\n",
    "                result[f'branch#{i + 1} start point'] = \"\"\n",
    "                result[f'branch#{i + 1} end point'] = \"\"            \n",
    "                result[f'branch#{i + 1} total length'] = \"\"\n",
    "                result[f'branch#{i + 1} apical loop start'] = \"\"\n",
    "                result[f'branch#{i + 1} apical loop end'] = \"\"\n",
    "                result[f'branch#{i + 1} apical loop size'] = \"\"\n",
    "                result[f'branch#{i + 1} stem last residue'] = \"\"\n",
    "                result[f'branch#{i + 1} stem length']  = \"\"           \n",
    "        \n",
    "        \n",
    "        primary_stem_end_point = get_primary_stem_end_point(branch_start_point, branch_end_point, stem_last_residue, hit_start, hit_end, istar_min, istar_max, values, number_of_terminal_structure, mir_type)                \n",
    "        if(not np.isnan(primary_stem_end_point)):\n",
    "            primary_stem_end_point_star = values[primary_stem_end_point-1]\n",
    "            result['psep'] = primary_stem_end_point\n",
    "            result['psep*'] = primary_stem_end_point_star\n",
    "            \n",
    "            primary_stem_length = get_primary_stem_length(primary_stem_end_point, branch_start_point, branch_end_point, stem_last_residue, hit_start, hit_end, values, number_of_terminal_structure, mir_type)\n",
    "            result['primary stem length'] = primary_stem_length                            \n",
    "            \n",
    "            domain = get_domain(primary_stem_end_point, boi_start, boi_end, stem_last_residue, hit_start, hit_end, mir_type)\n",
    "            result['domain'] = [domain[0]+1, domain[-1]+1]\n",
    "            domain_star = get_domain_star(primary_stem_end_point_star, boi_start, boi_end, stem_last_residue, hit_start, hit_end, mir_type)\n",
    "            result['domain*'] = [domain_star[0] + 1, domain_star[-1] + 1]\n",
    "            interfering_structures_domain = get_interfering_structures(domain, values)\n",
    "            result['domain interfering structures'] = \"yes\" if interfering_structures_domain else \"no\"\n",
    "            \n",
    "            interfering_structures_domain_star = get_interfering_structures(domain_star, values)\n",
    "            result['domain* interfering structures'] = \"yes\" if interfering_structures_domain_star else \"no\"\n",
    "                        \n",
    "            [mismatch, mismatch_size, mis_loc_type, mis_start, mis_end] = get_mismatch(domain, values,MCMA, hit_start, hit_end, mir_type)            \n",
    "            result['mismatch'] = mismatch\n",
    "            result['mismatch size'] = mismatch_size\n",
    "            result['mismatch type'] = mis_loc_type\n",
    "            result['mismatch start'] = mis_start\n",
    "            result['mismatch end'] = mis_end\n",
    "            [bulge, bulge_size, bulge_loc_type, bulge_start, bulge_end,bulge_type] = get_bulge(domain, values, hit_start, hit_end, mir_type)\n",
    "            result['bulge'] = bulge\n",
    "            result['bulge size'] = bulge_size\n",
    "            result['bulge type'] = bulge_loc_type\n",
    "            result['bulge start'] = bulge_start\n",
    "            result['bulge end'] = bulge_end\n",
    "            [internal_loop, size_HSBL, size_SSBL, intr_loc_type, intr_start, intr_end] = get_internal_loop(domain, values, MCMA, hit_start, hit_end, mir_type)\n",
    "            result['internal loop'] = internal_loop\n",
    "            result['internal loop HSBL'] = size_HSBL\n",
    "            result['internal loop SSBL'] = size_SSBL\n",
    "            result['internal type'] = intr_loc_type\n",
    "            result['internal start'] = intr_start\n",
    "            result['internal end'] = intr_end\n",
    "            [proximal,proximal_hr] = get_distance_info(\"loop proximal\",\"proximal border line\", mis_loc_type,mismatch_size, mis_start, bulge_size, bulge_loc_type, bulge_start,bulge_end, bulge_type,internal_loop,size_HSBL,size_SSBL,intr_loc_type,intr_start,intr_end)\n",
    "            result['proximal distance'] = proximal_hr\n",
    "            [distal, distal_hr] = get_distance_info(\"loop distal\",\"distal border line\", mis_loc_type,mismatch_size, mis_start, bulge_size, bulge_loc_type, bulge_start,bulge_end, bulge_type,internal_loop,size_HSBL,size_SSBL,intr_loc_type,intr_start,intr_end)\n",
    "            result['distal distance'] = distal_hr\n",
    "            result['proximal closest to 15'] = closestto(proximal,15) \n",
    "            result['proximal closest to 21'] = closestto(proximal,21) \n",
    "            result['proximal closest to 36'] = closestto(proximal,36)\n",
    "            result['distal closest to 15'] = closestto(distal,15)\n",
    "            result['distal closest to 21'] = closestto(distal,21)\n",
    "            result['distal closest to 36'] = closestto(distal,36)\n",
    "        else:\n",
    "            result['message'] = \"immediate branching\"                        \n",
    "    return pd.Series(result)"
   ]
  },
  {
   "cell_type": "code",
   "execution_count": 67,
   "metadata": {
    "ExecuteTime": {
     "end_time": "2022-02-13T19:13:39.253192Z",
     "start_time": "2022-02-13T19:13:39.247614Z"
    }
   },
   "outputs": [],
   "source": [
    "def run(tag, path, extra):        \n",
    "    #return get_row(tag, path, extra)\n",
    "    try:\n",
    "        return get_row(tag, path,extra)\n",
    "    except Exception as e:\n",
    "        print(str(e), tag)        \n",
    "        return pd.Series()\n",
    "        \n",
    "def get_df_by_tag(tag , extra=0):           \n",
    "    ct_files = glob.glob(f'{base}{reformat(tag)}/SEQ_*.ct')    \n",
    "    return pd.Series(ct_files).apply(lambda path: run(tag, path,extra))    "
   ]
  },
  {
   "cell_type": "markdown",
   "metadata": {},
   "source": [
    "## apply on current data"
   ]
  },
  {
   "cell_type": "code",
   "execution_count": 101,
   "metadata": {
    "ExecuteTime": {
     "end_time": "2022-02-13T19:29:24.564929Z",
     "start_time": "2022-02-13T19:29:24.561804Z"
    },
    "scrolled": false
   },
   "outputs": [],
   "source": [
    "#get_df_by_tag(df['tag'].iloc[8])#['ct'][1]\n",
    "#get_df_by_tag(\"AMWY02000161.1|-|1642-2061|201-220\", extra=0).to_csv('Result/d.csv')"
   ]
  },
  {
   "cell_type": "code",
   "execution_count": 104,
   "metadata": {
    "ExecuteTime": {
     "end_time": "2022-02-13T19:29:41.849039Z",
     "start_time": "2022-02-13T19:29:41.824268Z"
    }
   },
   "outputs": [],
   "source": [
    "get_df_by_tag(\"AMWY02002548.1|-|87-505|201-219\", extra=0).to_csv('./d.csv')"
   ]
  },
  {
   "cell_type": "code",
   "execution_count": 156,
   "metadata": {
    "ExecuteTime": {
     "end_time": "2022-02-13T19:59:32.147776Z",
     "start_time": "2022-02-13T19:59:15.829824Z"
    },
    "scrolled": false
   },
   "outputs": [
    {
     "data": {
      "application/vnd.jupyter.widget-view+json": {
       "model_id": "055a4fbc40ca448c99135b68c37db85e",
       "version_major": 2,
       "version_minor": 0
      },
      "text/plain": [
       "  0%|          | 0/2000 [00:00<?, ?it/s]"
      ]
     },
     "metadata": {},
     "output_type": "display_data"
    },
    {
     "name": "stdout",
     "output_type": "stream",
     "text": [
      "-1 AMWY02001715.1|-|7418-7637|4-20\n"
     ]
    },
    {
     "name": "stderr",
     "output_type": "stream",
     "text": [
      "<ipython-input-67-730172f7edd6>:7: DeprecationWarning: The default dtype for empty Series will be 'object' instead of 'float64' in a future version. Specify a dtype explicitly to silence this warning.\n",
      "  return pd.Series()\n"
     ]
    }
   ],
   "source": [
    "dfs = []\n",
    "max_workers = mp.cpu_count() - 1\n",
    "#max_workers = 1\n",
    "for d in process_map(get_df_by_tag , df['tag'], tqdm_class=tqdm, max_workers=max_workers, chunksize=5):\n",
    "    dfs.append(d)\n",
    "df_result = pd.concat(dfs,axis=0)\n",
    "#!zip -r Result/ct_analizer_result.csv.zip ./Result/ct_analizer_result.csv"
   ]
  },
  {
   "cell_type": "code",
   "execution_count": 158,
   "metadata": {
    "ExecuteTime": {
     "end_time": "2022-02-13T20:00:04.567204Z",
     "start_time": "2022-02-13T20:00:02.072663Z"
    },
    "scrolled": true
   },
   "outputs": [],
   "source": [
    "# clustr to cluster members cdhits\n",
    "seq2cluster = pd.read_csv(\"Temp/seq2cluster.csv\")\n",
    "seq2cluster['tag'] = seq2cluster.groupby(['cluster'])['tag'].transform(lambda x: ','.join(x))\n",
    "seq2cluster['seqid'] = seq2cluster.groupby(['cluster'])['seqid'].transform(lambda x: ','.join(x))\n",
    "seq2cluster = seq2cluster.drop_duplicates()\n",
    "\n",
    "tag2cluster = pd.read_csv('./Temp/pipe_seprated_location_list.csv',sep='\\t')\n",
    "tag2cluster['location_tag'] = tag2cluster['location_tag'].apply(lambda x : x[1:])\n",
    "\n",
    "data = pd.merge(seq2cluster,tag2cluster,how='inner', left_on='cluster', right_on='qseqid')\n",
    "data['Reference miRNA cluster'] = data['cluster']\n",
    "data['Reference miRNA IDs'] = data['seqid']\n",
    "data['Reference miRNA IDs and species'] = data['tag']\n",
    "data = data[['location_tag','Reference miRNA cluster', 'Reference miRNA IDs', 'Reference miRNA IDs and species']]"
   ]
  },
  {
   "cell_type": "code",
   "execution_count": 159,
   "metadata": {
    "ExecuteTime": {
     "end_time": "2022-02-13T20:00:06.653677Z",
     "start_time": "2022-02-13T20:00:06.589597Z"
    }
   },
   "outputs": [],
   "source": [
    "df_result = pd.merge(data, df_result, how='right', left_on = 'location_tag', right_on ='seq name')\n",
    "del df_result['location_tag']"
   ]
  },
  {
   "cell_type": "code",
   "execution_count": 160,
   "metadata": {
    "ExecuteTime": {
     "end_time": "2022-02-13T20:00:07.192765Z",
     "start_time": "2022-02-13T20:00:07.164216Z"
    }
   },
   "outputs": [],
   "source": [
    "orders = [\"seq name\", \"ct name\", \"ct\", \"pdf\", \"Reference miRNA cluster\", 'Reference miRNA IDs','Reference miRNA IDs and species']\n",
    "columns_titles = [*orders, *[c for c in df_result.columns if c not in orders]]\n",
    "df_result = df_result.reindex(columns=columns_titles)"
   ]
  },
  {
   "cell_type": "code",
   "execution_count": 161,
   "metadata": {
    "ExecuteTime": {
     "end_time": "2022-02-13T20:00:08.316676Z",
     "start_time": "2022-02-13T20:00:07.865407Z"
    }
   },
   "outputs": [],
   "source": [
    "df_result = df_result.replace(np.nan, '-').replace('', '-')\n",
    "df_result.to_csv(\"Result/ct_analizer_result_extra=0.csv\", index=False)"
   ]
  },
  {
   "cell_type": "code",
   "execution_count": null,
   "metadata": {
    "ExecuteTime": {
     "end_time": "2022-02-13T19:59:34.698242Z",
     "start_time": "2022-02-13T19:59:19.273Z"
    }
   },
   "outputs": [],
   "source": [
    "# Todo add seq to file"
   ]
  },
  {
   "cell_type": "code",
   "execution_count": null,
   "metadata": {},
   "outputs": [],
   "source": []
  }
 ],
 "metadata": {
  "hide_input": false,
  "kernelspec": {
   "display_name": "Python 3",
   "language": "python",
   "name": "python3"
  },
  "language_info": {
   "codemirror_mode": {
    "name": "ipython",
    "version": 3
   },
   "file_extension": ".py",
   "mimetype": "text/x-python",
   "name": "python",
   "nbconvert_exporter": "python",
   "pygments_lexer": "ipython3",
   "version": "3.8.10"
  },
  "varInspector": {
   "cols": {
    "lenName": 16,
    "lenType": 16,
    "lenVar": 40
   },
   "kernels_config": {
    "python": {
     "delete_cmd_postfix": "",
     "delete_cmd_prefix": "del ",
     "library": "var_list.py",
     "varRefreshCmd": "print(var_dic_list())"
    },
    "r": {
     "delete_cmd_postfix": ") ",
     "delete_cmd_prefix": "rm(",
     "library": "var_list.r",
     "varRefreshCmd": "cat(var_dic_list()) "
    }
   },
   "types_to_exclude": [
    "module",
    "function",
    "builtin_function_or_method",
    "instance",
    "_Feature"
   ],
   "window_display": false
  }
 },
 "nbformat": 4,
 "nbformat_minor": 4
}
