{
 "cells": [
  {
   "cell_type": "code",
   "execution_count": 1,
   "metadata": {
    "ExecuteTime": {
     "end_time": "2022-05-16T16:20:58.592295Z",
     "start_time": "2022-05-16T16:20:58.169572Z"
    }
   },
   "outputs": [],
   "source": [
    "import pandas as pd"
   ]
  },
  {
   "cell_type": "code",
   "execution_count": 2,
   "metadata": {
    "ExecuteTime": {
     "end_time": "2022-05-16T16:20:58.676540Z",
     "start_time": "2022-05-16T16:20:58.668098Z"
    }
   },
   "outputs": [],
   "source": [
    "def fasta_to_df(path):\n",
    "    with open(path, 'r') as file:\n",
    "        text = file.read()\n",
    "    lines = [line for line in text.split('\\n') if len(line) > 0]\n",
    "    s = ''\n",
    "    tags = []\n",
    "    data = []\n",
    "    for l in lines:\n",
    "        if(l[0]=='>'):\n",
    "            tags.append(l)        \n",
    "            data.append(s)\n",
    "            s = ''\n",
    "        else:\n",
    "            s += l    \n",
    "    data.append(s)\n",
    "    df = pd.DataFrame(\n",
    "            {\n",
    "                'tag': tags,\n",
    "                'data': data[1:]\n",
    "            })\n",
    "    df['tag'] = df['tag'].apply(lambda x: x[1:])    \n",
    "    return df\n"
   ]
  },
  {
   "cell_type": "code",
   "execution_count": 3,
   "metadata": {
    "ExecuteTime": {
     "end_time": "2022-05-16T16:21:02.371960Z",
     "start_time": "2022-05-16T16:20:59.221407Z"
    }
   },
   "outputs": [],
   "source": [
    "chrom = fasta_to_df(\"GCA_022749755.1_ASM2274975v1_genomic.fna\")"
   ]
  },
  {
   "cell_type": "code",
   "execution_count": 4,
   "metadata": {
    "ExecuteTime": {
     "end_time": "2022-05-16T16:21:02.380334Z",
     "start_time": "2022-05-16T16:21:02.375534Z"
    }
   },
   "outputs": [],
   "source": [
    "data = chrom.iloc[0,:]['data']"
   ]
  },
  {
   "cell_type": "code",
   "execution_count": 5,
   "metadata": {
    "ExecuteTime": {
     "end_time": "2022-05-16T16:21:02.389552Z",
     "start_time": "2022-05-16T16:21:02.384339Z"
    }
   },
   "outputs": [],
   "source": [
    "def Revers(inp):\n",
    "    inp = inp.upper().replace(\"A\", \"1\").replace(\"C\", \"2\").replace(\"G\", \"3\").replace(\"T\", \"4\")\n",
    "    inp = inp.replace(\"1\", \"T\").replace(\"2\", \"G\").replace(\"3\", \"C\").replace(\"4\", \"A\")\n",
    "    return inp[::-1]            "
   ]
  },
  {
   "cell_type": "markdown",
   "metadata": {},
   "source": [
    "# Test"
   ]
  },
  {
   "cell_type": "code",
   "execution_count": 24,
   "metadata": {
    "ExecuteTime": {
     "end_time": "2022-05-16T16:56:15.695644Z",
     "start_time": "2022-05-16T16:56:15.688815Z"
    }
   },
   "outputs": [
    {
     "data": {
      "text/plain": [
       "'TTATAGTAAAAATAATAAT'"
      ]
     },
     "execution_count": 24,
     "metadata": {},
     "output_type": "execute_result"
    }
   ],
   "source": [
    "Revers(data[10015744-1:10015836])[75-1:93]"
   ]
  },
  {
   "cell_type": "code",
   "execution_count": null,
   "metadata": {},
   "outputs": [],
   "source": [
    "tggtatttatataaataattaggttactgtcaaaagacgactctaaaatttcaaatttttttcttaaaataataTTATAGTAAAAATAATAAT"
   ]
  }
 ],
 "metadata": {
  "kernelspec": {
   "display_name": "Python 3",
   "language": "python",
   "name": "python3"
  },
  "language_info": {
   "codemirror_mode": {
    "name": "ipython",
    "version": 3
   },
   "file_extension": ".py",
   "mimetype": "text/x-python",
   "name": "python",
   "nbconvert_exporter": "python",
   "pygments_lexer": "ipython3",
   "version": "3.8.10"
  }
 },
 "nbformat": 4,
 "nbformat_minor": 4
}
