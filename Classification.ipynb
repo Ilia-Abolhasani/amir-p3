{
 "cells": [
  {
   "cell_type": "markdown",
   "metadata": {},
   "source": [
    "# Imports"
   ]
  },
  {
   "cell_type": "code",
   "execution_count": 13,
   "metadata": {
    "ExecuteTime": {
     "end_time": "2022-06-05T14:00:19.603856Z",
     "start_time": "2022-06-05T14:00:19.596183Z"
    }
   },
   "outputs": [],
   "source": [
    "from __future__ import division\n",
    "import warnings\n",
    "warnings.filterwarnings('ignore')\n",
    "import sys\n",
    "from numpy.random import randint\n",
    "from numpy.random import rand\n",
    "import multiprocessing as mp\n",
    "import random\n",
    "import math\n",
    "import pandas as pd\n",
    "import numpy as np\n",
    "from tqdm.notebook import tqdm\n",
    "import matplotlib.pyplot as plt\n",
    "from tqdm.contrib.concurrent import process_map\n",
    "sys.path.append(\"./src/\")\n",
    "from filter2 import convert, filter2_run\n",
    "import os"
   ]
  },
  {
   "cell_type": "markdown",
   "metadata": {
    "heading_collapsed": true
   },
   "source": [
    "# Configs & paths"
   ]
  },
  {
   "cell_type": "code",
   "execution_count": 8,
   "metadata": {
    "ExecuteTime": {
     "end_time": "2022-06-05T13:53:35.213956Z",
     "start_time": "2022-06-05T13:53:35.209882Z"
    },
    "hidden": true
   },
   "outputs": [],
   "source": [
    "experiment = \"O.sativa_Test\"\n",
    "experiment_dir = \"Experiment\"\n",
    "temp_path = f\"{experiment_dir}/{experiment}/Temp\"\n",
    "result_path = f\"{experiment_dir}/{experiment}/Result\""
   ]
  },
  {
   "cell_type": "markdown",
   "metadata": {
    "heading_collapsed": true
   },
   "source": [
    "# Functions"
   ]
  },
  {
   "cell_type": "code",
   "execution_count": 3,
   "metadata": {
    "ExecuteTime": {
     "end_time": "2022-06-05T13:51:08.111723Z",
     "start_time": "2022-06-05T13:51:08.103946Z"
    },
    "hidden": true
   },
   "outputs": [],
   "source": [
    "def df_to_fasta(df, path):\n",
    "    lines = []\n",
    "    df.apply(lambda row: lines.append(f\">{row['tag']}\\n{row['data']}\\n\"),axis=1)\n",
    "    with open(path,'w') as file:\n",
    "        file.write(''.join(lines))"
   ]
  },
  {
   "cell_type": "code",
   "execution_count": 4,
   "metadata": {
    "ExecuteTime": {
     "end_time": "2022-06-05T13:51:08.594882Z",
     "start_time": "2022-06-05T13:51:08.586787Z"
    },
    "hidden": true
   },
   "outputs": [],
   "source": [
    "def fasta_to_df(path):\n",
    "    with open(path, 'r') as file:\n",
    "        text = file.read()\n",
    "    lines = [line for line in text.split('\\n') if len(line) > 0]\n",
    "    s = ''\n",
    "    tags = []\n",
    "    data = []\n",
    "    for l in lines:\n",
    "        if(l[0]=='>'):\n",
    "            tags.append(l)        \n",
    "            data.append(s)\n",
    "            s = ''\n",
    "        else:\n",
    "            s += l    \n",
    "    data.append(s)\n",
    "    df = pd.DataFrame(\n",
    "            {\n",
    "                'tag': tags,\n",
    "                'data': data[1:]\n",
    "            })\n",
    "    df['tag'] = df['tag'].apply(lambda x: x[1:])    \n",
    "    return df"
   ]
  },
  {
   "cell_type": "code",
   "execution_count": 5,
   "metadata": {
    "ExecuteTime": {
     "end_time": "2022-06-05T13:51:09.465643Z",
     "start_time": "2022-06-05T13:51:09.461532Z"
    },
    "hidden": true
   },
   "outputs": [],
   "source": [
    "class DotDict(dict):\n",
    "    __getattr__ = dict.get\n",
    "    __setattr__ = dict.__setitem__\n",
    "    __delattr__ = dict.__delitem__"
   ]
  },
  {
   "cell_type": "markdown",
   "metadata": {
    "heading_collapsed": true
   },
   "source": [
    "# Load dataset"
   ]
  },
  {
   "cell_type": "code",
   "execution_count": 6,
   "metadata": {
    "ExecuteTime": {
     "end_time": "2022-06-05T13:53:29.158269Z",
     "start_time": "2022-06-05T13:51:22.729910Z"
    },
    "hidden": true
   },
   "outputs": [],
   "source": [
    "level1 = pd.read_csv(f\"{result_path}/result_level1_filter.csv\")\n",
    "level1 = level1.apply(lambda row: convert(row), axis=1)"
   ]
  },
  {
   "cell_type": "code",
   "execution_count": 18,
   "metadata": {
    "ExecuteTime": {
     "end_time": "2022-06-05T14:08:05.699527Z",
     "start_time": "2022-06-05T14:08:05.677558Z"
    },
    "hidden": true,
    "scrolled": true
   },
   "outputs": [
    {
     "name": "stdout",
     "output_type": "stream",
     "text": [
      "(577, 2)\n"
     ]
    },
    {
     "data": {
      "text/html": [
       "<div>\n",
       "<style scoped>\n",
       "    .dataframe tbody tr th:only-of-type {\n",
       "        vertical-align: middle;\n",
       "    }\n",
       "\n",
       "    .dataframe tbody tr th {\n",
       "        vertical-align: top;\n",
       "    }\n",
       "\n",
       "    .dataframe thead th {\n",
       "        text-align: right;\n",
       "    }\n",
       "</style>\n",
       "<table border=\"1\" class=\"dataframe\">\n",
       "  <thead>\n",
       "    <tr style=\"text-align: right;\">\n",
       "      <th></th>\n",
       "      <th>tag</th>\n",
       "      <th>data</th>\n",
       "    </tr>\n",
       "  </thead>\n",
       "  <tbody>\n",
       "    <tr>\n",
       "      <th>0</th>\n",
       "      <td>C533</td>\n",
       "      <td>TGACAGAAGAGAGTGAGCAC</td>\n",
       "    </tr>\n",
       "    <tr>\n",
       "      <th>1</th>\n",
       "      <td>C226</td>\n",
       "      <td>GCTCACTCTCTATCTGTCAGC</td>\n",
       "    </tr>\n",
       "  </tbody>\n",
       "</table>\n",
       "</div>"
      ],
      "text/plain": [
       "    tag                   data\n",
       "0  C533   TGACAGAAGAGAGTGAGCAC\n",
       "1  C226  GCTCACTCTCTATCTGTCAGC"
      ]
     },
     "execution_count": 18,
     "metadata": {},
     "output_type": "execute_result"
    }
   ],
   "source": [
    "o_sativa = fasta_to_df(f\"{temp_path}/BLASTn_O_Sativa\")\n",
    "print(o_sativa.shape)\n",
    "o_sativa['data'] = o_sativa['data'].apply(lambda x: x.replace(\"U\", \"T\"))\n",
    "o_sativa.head(2)"
   ]
  },
  {
   "cell_type": "code",
   "execution_count": 26,
   "metadata": {
    "ExecuteTime": {
     "end_time": "2022-06-05T14:10:39.369513Z",
     "start_time": "2022-06-05T14:10:39.315027Z"
    },
    "hidden": true,
    "scrolled": true
   },
   "outputs": [
    {
     "data": {
      "text/plain": [
       "565"
      ]
     },
     "execution_count": 26,
     "metadata": {},
     "output_type": "execute_result"
    }
   ],
   "source": [
    "Y = level1['hit seq'].isin(o_sativa['data'])\n",
    "Y = Y.apply(lambda x: 1 if x else 0)"
   ]
  },
  {
   "cell_type": "markdown",
   "metadata": {
    "heading_collapsed": true
   },
   "source": [
    "# Preprocess: convert ct-analizer result to feature vector"
   ]
  },
  {
   "cell_type": "code",
   "execution_count": 97,
   "metadata": {
    "ExecuteTime": {
     "end_time": "2022-06-05T14:43:33.524096Z",
     "start_time": "2022-06-05T14:43:33.513975Z"
    },
    "hidden": true
   },
   "outputs": [],
   "source": [
    "cat_cols = ['mir type']"
   ]
  },
  {
   "cell_type": "code",
   "execution_count": 98,
   "metadata": {
    "ExecuteTime": {
     "end_time": "2022-06-05T14:43:33.737464Z",
     "start_time": "2022-06-05T14:43:33.710537Z"
    },
    "hidden": true
   },
   "outputs": [],
   "source": [
    "cols = ['hit len',\n",
    "        'flanking GC content',\n",
    "        'flanking MFEI',\n",
    "        'hit GC content',        \n",
    "        'hit complementarity percentage',        \n",
    "        'num of linking residues',\n",
    "        'boi GC content',\n",
    "        'boi delta G',\n",
    "        'boi AMFE',\n",
    "        'boi MFEI',        \n",
    "        'precursor gc content',\n",
    "        'precursor delta G',\n",
    "        'precursor AMFE',\n",
    "        'precursor MFEI',\n",
    "        'number of terminal structures',\n",
    "        'primary stem length',\n",
    "        'mismatch',\n",
    "        'bulge',\n",
    "        'internal loop',\n",
    "        'base structure corrected length',\n",
    "        'primary stem corrected length',\n",
    "        'Loop distal junction distance',\n",
    "        'Loop proximal junction distance']\n",
    "X = level1[cols]"
   ]
  },
  {
   "cell_type": "code",
   "execution_count": 99,
   "metadata": {
    "ExecuteTime": {
     "end_time": "2022-06-05T14:43:35.881424Z",
     "start_time": "2022-06-05T14:43:35.593187Z"
    },
    "hidden": true
   },
   "outputs": [],
   "source": [
    "# replace inf with max\n",
    "for c in X.columns:\n",
    "    m = X[X[c] != np.inf][c].max()\n",
    "    X[c].replace([np.inf], m, inplace=True)"
   ]
  },
  {
   "cell_type": "code",
   "execution_count": 100,
   "metadata": {
    "ExecuteTime": {
     "end_time": "2022-06-05T14:43:36.231595Z",
     "start_time": "2022-06-05T14:43:36.153819Z"
    },
    "hidden": true
   },
   "outputs": [],
   "source": [
    "# standardization\n",
    "mu = X.mean()\n",
    "std = X.std()\n",
    "X = (X - mu) / std"
   ]
  },
  {
   "cell_type": "markdown",
   "metadata": {},
   "source": [
    "# Deep learning model"
   ]
  }
 ],
 "metadata": {
  "kernelspec": {
   "display_name": "Python 3",
   "language": "python",
   "name": "python3"
  },
  "language_info": {
   "codemirror_mode": {
    "name": "ipython",
    "version": 3
   },
   "file_extension": ".py",
   "mimetype": "text/x-python",
   "name": "python",
   "nbconvert_exporter": "python",
   "pygments_lexer": "ipython3",
   "version": "3.8.10"
  }
 },
 "nbformat": 4,
 "nbformat_minor": 4
}
