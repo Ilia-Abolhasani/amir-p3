{
 "cells": [
  {
   "cell_type": "markdown",
   "metadata": {
    "heading_collapsed": true
   },
   "source": [
    "# Imports"
   ]
  },
  {
   "cell_type": "code",
   "execution_count": 1,
   "metadata": {
    "ExecuteTime": {
     "end_time": "2022-06-04T16:03:49.082413Z",
     "start_time": "2022-06-04T16:03:48.245306Z"
    },
    "hidden": true
   },
   "outputs": [],
   "source": [
    "from __future__ import division\n",
    "import warnings\n",
    "warnings.filterwarnings('ignore')\n",
    "import sys\n",
    "from numpy.random import randint\n",
    "from numpy.random import rand\n",
    "import multiprocessing as mp\n",
    "import random\n",
    "import math\n",
    "import pandas as pd\n",
    "import numpy as np\n",
    "from tqdm.notebook import tqdm\n",
    "import matplotlib.pyplot as plt\n",
    "from tqdm.contrib.concurrent import process_map\n",
    "sys.path.append(\"./src/\")\n",
    "from filter2 import convert, filter2_run\n",
    "import os"
   ]
  },
  {
   "cell_type": "markdown",
   "metadata": {
    "heading_collapsed": true
   },
   "source": [
    "# Configs & paths"
   ]
  },
  {
   "cell_type": "code",
   "execution_count": 2,
   "metadata": {
    "ExecuteTime": {
     "end_time": "2022-06-04T16:03:57.456923Z",
     "start_time": "2022-06-04T16:03:57.452530Z"
    },
    "hidden": true
   },
   "outputs": [],
   "source": [
    "experiment = \"O.sativa_Test\"\n",
    "experiment_dir = \"Experiment\"\n",
    "temp_path = f\"{experiment_dir}/{experiment}/Temp\"\n",
    "result_path = f\"{experiment_dir}/{experiment}/Result\""
   ]
  },
  {
   "cell_type": "markdown",
   "metadata": {
    "heading_collapsed": true
   },
   "source": [
    "# Functions"
   ]
  },
  {
   "cell_type": "code",
   "execution_count": 3,
   "metadata": {
    "ExecuteTime": {
     "end_time": "2022-06-04T16:04:03.075093Z",
     "start_time": "2022-06-04T16:04:03.070074Z"
    },
    "hidden": true
   },
   "outputs": [],
   "source": [
    "def df_to_fasta(df, path):\n",
    "    lines = []\n",
    "    df.apply(lambda row: lines.append(f\">{row['tag']}\\n{row['data']}\\n\"),axis=1)\n",
    "    with open(path,'w') as file:\n",
    "        file.write(''.join(lines))"
   ]
  },
  {
   "cell_type": "code",
   "execution_count": 7,
   "metadata": {
    "ExecuteTime": {
     "end_time": "2022-06-04T16:07:52.808000Z",
     "start_time": "2022-06-04T16:07:52.799917Z"
    },
    "hidden": true
   },
   "outputs": [],
   "source": [
    "def fasta_to_df(path):\n",
    "    with open(path, 'r') as file:\n",
    "        text = file.read()\n",
    "    lines = [line for line in text.split('\\n') if len(line) > 0]\n",
    "    s = ''\n",
    "    tags = []\n",
    "    data = []\n",
    "    for l in lines:\n",
    "        if(l[0]=='>'):\n",
    "            tags.append(l)        \n",
    "            data.append(s)\n",
    "            s = ''\n",
    "        else:\n",
    "            s += l    \n",
    "    data.append(s)\n",
    "    df = pd.DataFrame(\n",
    "            {\n",
    "                'tag': tags,\n",
    "                'data': data[1:]\n",
    "            })\n",
    "    df['tag'] = df['tag'].apply(lambda x: x[1:])    \n",
    "    return df"
   ]
  },
  {
   "cell_type": "code",
   "execution_count": 4,
   "metadata": {
    "ExecuteTime": {
     "end_time": "2022-06-04T16:04:03.273198Z",
     "start_time": "2022-06-04T16:04:03.269085Z"
    },
    "hidden": true
   },
   "outputs": [],
   "source": [
    "class DotDict(dict):\n",
    "    __getattr__ = dict.get\n",
    "    __setattr__ = dict.__setitem__\n",
    "    __delattr__ = dict.__delitem__"
   ]
  },
  {
   "cell_type": "markdown",
   "metadata": {},
   "source": [
    "# Load dataset"
   ]
  },
  {
   "cell_type": "code",
   "execution_count": 5,
   "metadata": {
    "ExecuteTime": {
     "end_time": "2022-06-04T16:06:12.857416Z",
     "start_time": "2022-06-04T16:04:08.263655Z"
    }
   },
   "outputs": [],
   "source": [
    "level1 = pd.read_csv(f\"{result_path}/result_level1_filter.csv\")\n",
    "level1 = level1.apply(lambda row: convert(row), axis=1)"
   ]
  },
  {
   "cell_type": "code",
   "execution_count": 12,
   "metadata": {
    "ExecuteTime": {
     "end_time": "2022-06-04T16:10:10.111285Z",
     "start_time": "2022-06-04T16:10:10.094470Z"
    }
   },
   "outputs": [
    {
     "name": "stdout",
     "output_type": "stream",
     "text": [
      "(577, 2)\n"
     ]
    },
    {
     "data": {
      "text/html": [
       "<div>\n",
       "<style scoped>\n",
       "    .dataframe tbody tr th:only-of-type {\n",
       "        vertical-align: middle;\n",
       "    }\n",
       "\n",
       "    .dataframe tbody tr th {\n",
       "        vertical-align: top;\n",
       "    }\n",
       "\n",
       "    .dataframe thead th {\n",
       "        text-align: right;\n",
       "    }\n",
       "</style>\n",
       "<table border=\"1\" class=\"dataframe\">\n",
       "  <thead>\n",
       "    <tr style=\"text-align: right;\">\n",
       "      <th></th>\n",
       "      <th>tag</th>\n",
       "      <th>data</th>\n",
       "    </tr>\n",
       "  </thead>\n",
       "  <tbody>\n",
       "    <tr>\n",
       "      <th>0</th>\n",
       "      <td>C533</td>\n",
       "      <td>TGACAGAAGAGAGTGAGCAC</td>\n",
       "    </tr>\n",
       "    <tr>\n",
       "      <th>1</th>\n",
       "      <td>C226</td>\n",
       "      <td>GCTCACTCTCTATCTGTCAGC</td>\n",
       "    </tr>\n",
       "  </tbody>\n",
       "</table>\n",
       "</div>"
      ],
      "text/plain": [
       "    tag                   data\n",
       "0  C533   TGACAGAAGAGAGTGAGCAC\n",
       "1  C226  GCTCACTCTCTATCTGTCAGC"
      ]
     },
     "execution_count": 12,
     "metadata": {},
     "output_type": "execute_result"
    }
   ],
   "source": [
    "o_sativa = fasta_to_df(f\"{temp_path}/BLASTn_O_Sativa\")\n",
    "print(o_sativa.shape)\n",
    "o_sativa['data'] = o_sativa['data'].apply(lambda x: x.replace(\"U\", \"T\"))\n",
    "o_sativa.head(2)"
   ]
  },
  {
   "cell_type": "code",
   "execution_count": 18,
   "metadata": {
    "ExecuteTime": {
     "end_time": "2022-06-04T16:11:39.083771Z",
     "start_time": "2022-06-04T16:11:39.064676Z"
    }
   },
   "outputs": [
    {
     "data": {
      "text/plain": [
       "(90,)"
      ]
     },
     "execution_count": 18,
     "metadata": {},
     "output_type": "execute_result"
    }
   ],
   "source": [
    "level1[level1['hit seq'].isin(o_sativa['data'])]['hit seq'].unique().shape"
   ]
  },
  {
   "cell_type": "code",
   "execution_count": 13,
   "metadata": {
    "ExecuteTime": {
     "end_time": "2022-06-03T16:12:45.086222Z",
     "start_time": "2022-06-03T16:12:45.078372Z"
    }
   },
   "outputs": [],
   "source": [
    "confidence = set(['TGACAGAAGAGAGTGAGCAC', 'GCTCACTCTCTATCTGTCAGC', 'GCTCACTTCTCTCTCTGTCAGC', 'GCTCACTTCTCTTTCTGTCAGC', 'GCTCGCTCCTCTTTCTGTCAGC', 'TGCCTGGCTCCCTGTATGCCA', 'GCGTGCAAGGAGCCAAGCATG', 'GCGTGCACGGAGCCAAGCATA', 'GGAATGTTGTCTGGTTCAAGG', 'TCGGACCAGGCTTCATTCCCC', 'GGAATGTTGTCTGGCTCGGGG', 'GGAATGTTGTCTGGTCCGAG', 'GGAATGTTGTCTGGCTCGAGG', 'TGAAGCTGCCAGCATGATCTA', 'ATCATGCATGACAGCCTCATTT', 'TTCCACAGCTTTCTTGAACTT', 'GGTCAAGAAAGCTGTGGGAAG', 'CGACAGAAGAGAGTGAGCATA', 'GGTTTGTTGTCTGGCTCGAGG', 'TCGGACCAGGCTTCAATCCCT', 'GGATTGTTGTCTGGTTCAAGG', 'TGAAGCTGCCAGCATGATCTG', 'AGATCATGTTGCAGCTTCACT', 'TCGCTTGGTGCAGATCGGGAC', 'GATCCCGCCTTGCACCAAGTGAAT', 'TGGTGATAAGGGTGTAGCTCTG', 'TAGCCAAGGATGACTTGCCTG', 'TGAGTCGCTCTTATCACTCATG', 'GGATATTGGTGCGGTTCAATC', 'TGATTGAGCCGTGCCAATATC', 'TGTTGGCCCGGCTCACTCAGA', 'TGTTGGCTCGGCTCACTCAGA', 'GGAATGTTGGCTGGCTCGAGG', 'TCGGACCAGGCTTCATTCCTC', 'TCCAAAGGGATCGCATTGATCT', 'TCAGTGCAATCCCTTTGGAAT', 'CAGGGATGAGGCAGAGCATGG', 'CTGCACTGCCTCTTCCCTGGC', 'GCAGCACCATCAAGATTCAC', 'AGAATCTTGATGATGCTGCAT', 'AGGTATTGGCGTGCCTCAATC', 'GGATTGAGCCGCGTCAATATC', 'AAGCTCAGGAGGGATAGCGCC', 'CGCTATCTATCCTGAGCTCC', 'TCCACAGGCTTTCTTGAACTG', 'ATGGTTCAAGAAAGCCCATGGAAA', 'GCTAGAGGTGGCAACTGCATA', 'TGCAGTTGCTGCCTCAAGCTT', 'TTGCTGCCTCAAGCTTGCTGC', 'TAGGATTCAATCCTTGCTGCT', 'CAGCAAGAACTGGATCTTAAT', 'GTAATATACTAATCCGTGCAT', 'GTTGCACGGGTTTGTATGTTG', 'TAGCCAAGGATGATTTGCCTG', 'TGGCAAGTCTCCTCGGCTACC', 'TCTCCACAGGCTTTCTTGAACT', 'ATAGTTCAAGAAAGTCCTTGGAAA', 'TCTCTCTCTCCCTTGAAGGC', 'CTTCGGGGGAGGAGAGAAGC', 'AATCGACGGCCTCAGTCAGGG', 'CTGGCCGAGGCCGTCGATTCT', 'AGCTTCTGACAGCTGCAGTTTCTC', 'AGAAGCTGCAGCTGTCAGAAGCTC']) "
   ]
  },
  {
   "cell_type": "code",
   "execution_count": 18,
   "metadata": {
    "ExecuteTime": {
     "end_time": "2022-06-03T16:18:14.053034Z",
     "start_time": "2022-06-03T16:18:14.047316Z"
    }
   },
   "outputs": [
    {
     "data": {
      "text/plain": [
       "(82318, 134)"
      ]
     },
     "execution_count": 18,
     "metadata": {},
     "output_type": "execute_result"
    }
   ],
   "source": [
    "level1.shape"
   ]
  },
  {
   "cell_type": "code",
   "execution_count": 16,
   "metadata": {
    "ExecuteTime": {
     "end_time": "2022-06-03T16:13:53.734110Z",
     "start_time": "2022-06-03T16:13:53.703504Z"
    }
   },
   "outputs": [
    {
     "name": "stdout",
     "output_type": "stream",
     "text": [
      "Reference miRNA cluster\n",
      "Reference miRNA IDs\n",
      "Reference miRNA IDs and species\n",
      "confidence\n",
      "seq name\n",
      "ct name\n",
      "ct\n",
      "pdf\n",
      "hit start\n",
      "hit end\n",
      "sign\n",
      "chromosome\n",
      "hit position on chromosome\n",
      "delta G\n",
      "full seq\n",
      "hit seq\n",
      "hit len\n",
      "flanking GC content\n",
      "flanking MFEI\n",
      "hit GC content\n",
      "complementarity in hit region\n",
      "hit complementarity percentage\n",
      "hit self complementarity\n",
      "continuous pairing\n",
      "istar min\n",
      "istar max\n",
      "mir type\n",
      "star start\n",
      "star start msg\n",
      "star end\n",
      "star end msg\n",
      "star seq\n",
      "num of linking residues\n",
      "star branching\n",
      "boi start\n",
      "boi end\n",
      "boi seq\n",
      "boi name\n",
      "boi GC content\n",
      "boi dotbracket\n",
      "boi delta G\n",
      "boi AMFE\n",
      "boi MFEI\n",
      "boi visualization\n",
      "precursor gc content\n",
      "precursor dotbracket\n",
      "precursor delta G\n",
      "precursor AMFE\n",
      "precursor MFEI\n",
      "precursor name\n",
      "precursor seq\n",
      "precursor seq visualization\n",
      "terminal structure range\n",
      "number of terminal structures\n",
      "branch#1 start point\n",
      "branch#1 end point\n",
      "branch#1 total length\n",
      "branch#1 apical loop start\n",
      "branch#1 apical loop end\n",
      "branch#1 apical loop size\n",
      "branch#1 stem last residue\n",
      "branch#1 stem length\n",
      "branch#2 start point\n",
      "branch#2 end point\n",
      "branch#2 total length\n",
      "branch#2 apical loop start\n",
      "branch#2 apical loop end\n",
      "branch#2 apical loop size\n",
      "branch#2 stem last residue\n",
      "branch#2 stem length\n",
      "branch#3 start point\n",
      "branch#3 end point\n",
      "branch#3 total length\n",
      "branch#3 apical loop start\n",
      "branch#3 apical loop end\n",
      "branch#3 apical loop size\n",
      "branch#3 stem last residue\n",
      "branch#3 stem length\n",
      "branch#4 start point\n",
      "branch#4 end point\n",
      "branch#4 total length\n",
      "branch#4 apical loop start\n",
      "branch#4 apical loop end\n",
      "branch#4 apical loop size\n",
      "branch#4 stem last residue\n",
      "branch#4 stem length\n",
      "branch#5 start point\n",
      "branch#5 end point\n",
      "branch#5 total length\n",
      "branch#5 apical loop start\n",
      "branch#5 apical loop end\n",
      "branch#5 apical loop size\n",
      "branch#5 stem last residue\n",
      "branch#5 stem length\n",
      "psep\n",
      "psep*\n",
      "primary stem length\n",
      "domain\n",
      "domain*\n",
      "domain interfering structures\n",
      "domain* interfering structures\n",
      "mismatch\n",
      "mismatch size\n",
      "mismatch type\n",
      "mismatch start\n",
      "mismatch end\n",
      "bulge\n",
      "bulge size\n",
      "bulge type\n",
      "bulge start\n",
      "bulge end\n",
      "bulge strand\n",
      "internal loop\n",
      "internal loop HSBL\n",
      "internal loop SSBL\n",
      "internal loop total size\n",
      "internal type\n",
      "internal start\n",
      "internal end\n",
      "proximal distance\n",
      "distal distance\n",
      "base structure corrected length\n",
      "primary stem corrected length\n",
      "proximal closest to 15\n",
      "proximal closest to 17\n",
      "proximal closest to 21\n",
      "proximal closest to 36\n",
      "distal closest to 15\n",
      "distal closest to 17\n",
      "distal closest to 21\n",
      "distal closest to 36\n",
      "Loop distal junction distance\n",
      "Loop proximal junction distance\n",
      "message\n"
     ]
    }
   ],
   "source": [
    "for c in level1.columns:\n",
    "    print(c)"
   ]
  },
  {
   "cell_type": "code",
   "execution_count": null,
   "metadata": {},
   "outputs": [],
   "source": []
  }
 ],
 "metadata": {
  "kernelspec": {
   "display_name": "Python 3",
   "language": "python",
   "name": "python3"
  },
  "language_info": {
   "codemirror_mode": {
    "name": "ipython",
    "version": 3
   },
   "file_extension": ".py",
   "mimetype": "text/x-python",
   "name": "python",
   "nbconvert_exporter": "python",
   "pygments_lexer": "ipython3",
   "version": "3.8.10"
  }
 },
 "nbformat": 4,
 "nbformat_minor": 4
}
