{
 "cells": [
  {
   "cell_type": "markdown",
   "metadata": {
    "heading_collapsed": true
   },
   "source": [
    "# Common"
   ]
  },
  {
   "cell_type": "code",
   "execution_count": 32,
   "metadata": {
    "ExecuteTime": {
     "end_time": "2022-05-05T14:58:23.962757Z",
     "start_time": "2022-05-05T14:58:23.959233Z"
    },
    "hidden": true
   },
   "outputs": [],
   "source": [
    "#!pip install tqdm"
   ]
  },
  {
   "cell_type": "code",
   "execution_count": 2,
   "metadata": {
    "ExecuteTime": {
     "end_time": "2022-05-05T14:49:54.931247Z",
     "start_time": "2022-05-05T14:49:54.283655Z"
    },
    "hidden": true
   },
   "outputs": [],
   "source": [
    "import json\n",
    "import time\n",
    "from subprocess import Popen, PIPE, STDOUT\n",
    "import math\n",
    "import numpy as np\n",
    "import pandas as pd\n",
    "import hashlib\n",
    "import requests\n",
    "import os, sys, subprocess\n",
    "from tqdm.contrib.concurrent import process_map\n",
    "from tqdm.notebook import tqdm\n",
    "tqdm.pandas()\n",
    "import multiprocessing as mp\n",
    "import shutil\n",
    "import urllib.parse\n",
    "import glob\n",
    "import os\n",
    "import sys\n",
    "from ast import literal_eval\n",
    "if sys.version_info[0] < 3: \n",
    "    from StringIO import StringIO\n",
    "else:\n",
    "    from io import StringIO"
   ]
  },
  {
   "cell_type": "code",
   "execution_count": 3,
   "metadata": {
    "ExecuteTime": {
     "end_time": "2022-05-05T14:49:55.171870Z",
     "start_time": "2022-05-05T14:49:54.934427Z"
    },
    "hidden": true
   },
   "outputs": [],
   "source": [
    "!mkdir -p Temp\n",
    "!mkdir -p Result"
   ]
  },
  {
   "cell_type": "code",
   "execution_count": 4,
   "metadata": {
    "ExecuteTime": {
     "end_time": "2022-05-05T14:49:55.180027Z",
     "start_time": "2022-05-05T14:49:55.175996Z"
    },
    "hidden": true
   },
   "outputs": [],
   "source": [
    "current_path = os.getcwd()"
   ]
  },
  {
   "cell_type": "code",
   "execution_count": 5,
   "metadata": {
    "ExecuteTime": {
     "end_time": "2022-05-05T14:49:55.187807Z",
     "start_time": "2022-05-05T14:49:55.183103Z"
    },
    "hidden": true
   },
   "outputs": [],
   "source": [
    "def bracket_row(row):    \n",
    "    s = row['data']\n",
    "    index = min(s.find('.'), s.find('('))\n",
    "    data = row['data']\n",
    "    row['data'] = data[0:index]\n",
    "    row['bracket'] = data[index:]\n",
    "    return row"
   ]
  },
  {
   "cell_type": "code",
   "execution_count": 6,
   "metadata": {
    "ExecuteTime": {
     "end_time": "2022-05-05T14:49:55.194958Z",
     "start_time": "2022-05-05T14:49:55.190924Z"
    },
    "hidden": true
   },
   "outputs": [],
   "source": [
    "def adjust(text,n=7):\n",
    "    text = str(text)    \n",
    "    return \" \" * (n - len(text)) + text"
   ]
  },
  {
   "cell_type": "code",
   "execution_count": 7,
   "metadata": {
    "ExecuteTime": {
     "end_time": "2022-05-05T14:49:55.209834Z",
     "start_time": "2022-05-05T14:49:55.197737Z"
    },
    "hidden": true
   },
   "outputs": [],
   "source": [
    "def bracket_to_ct(tag, data, bracket, deltaG, negative_deltaG=True):    \n",
    "    deltaG = deltaG.replace('(','').replace(')','')\n",
    "    deltaG = float(deltaG)\n",
    "    if(deltaG > 0 and negative_deltaG ): # negetive?!\n",
    "        deltaG = -1 * deltaG\n",
    "    stack = []\n",
    "    index = np.zeros((len(bracket)), dtype = int)\n",
    "    values = np.zeros((len(bracket)), dtype = int)\n",
    "    for i in range(len(bracket)):\n",
    "        index[i] = i + 1\n",
    "        if(bracket[i] == '.'):\n",
    "            values[i] = 0\n",
    "        elif(bracket[i] == '('):\n",
    "            stack.append(i)\n",
    "        elif(bracket[i] == ')'):\n",
    "            if(len(stack) == 0 ):\n",
    "                print('structure error!')\n",
    "            values[stack[-1]] = i + 1\n",
    "            values[i]  = stack[-1] + 1\n",
    "            stack.pop()\n",
    "        else:\n",
    "            print('structure error!')\n",
    "    if(len(stack) != 0 ):\n",
    "        print('structure error!')\n",
    "    # body    \n",
    "    ct = f\"{adjust(len(data),6)} dG ={adjust(deltaG,10)} {tag}\\n\"   \n",
    "    for i in range(len(bracket)):\n",
    "        ct += f\"{adjust(index[i],6)} {data[i]} {adjust(i,6)} {adjust((i+2)%(len(data)+1),6)} {adjust(values[i],6)} {adjust(index[i],7)}\\n\"\n",
    "    return ct"
   ]
  },
  {
   "cell_type": "code",
   "execution_count": 8,
   "metadata": {
    "ExecuteTime": {
     "end_time": "2022-05-05T14:49:55.341194Z",
     "start_time": "2022-05-05T14:49:55.333936Z"
    },
    "hidden": true
   },
   "outputs": [],
   "source": [
    "def fasta_to_df(path):\n",
    "    with open(path, 'r') as file:\n",
    "        text = file.read()\n",
    "    lines = [line for line in text.split('\\n') if len(line) > 0]\n",
    "    s = ''\n",
    "    tags = []\n",
    "    data = []\n",
    "    for l in lines:\n",
    "        if(l[0]=='>'):\n",
    "            tags.append(l)        \n",
    "            data.append(s)\n",
    "            s = ''\n",
    "        else:\n",
    "            s += l    \n",
    "    data.append(s)\n",
    "    df = pd.DataFrame(\n",
    "            {\n",
    "                'tag': tags,\n",
    "                'data': data[1:]\n",
    "            })\n",
    "    df['tag'] = df['tag'].apply(lambda x: x[1:])    \n",
    "    return df"
   ]
  },
  {
   "cell_type": "code",
   "execution_count": 9,
   "metadata": {
    "ExecuteTime": {
     "end_time": "2022-05-05T14:49:55.488988Z",
     "start_time": "2022-05-05T14:49:55.483875Z"
    },
    "hidden": true
   },
   "outputs": [],
   "source": [
    "def df_to_fasta(df, path):\n",
    "    lines = []\n",
    "    df.apply(lambda row: lines.append(f\">{row['tag']}\\n{row['data']}\\n\"),axis=1)\n",
    "    with open(path,'w') as file:\n",
    "        file.write(''.join(lines))"
   ]
  },
  {
   "cell_type": "code",
   "execution_count": 10,
   "metadata": {
    "ExecuteTime": {
     "end_time": "2022-05-05T14:49:55.663013Z",
     "start_time": "2022-05-05T14:49:55.658578Z"
    },
    "hidden": true
   },
   "outputs": [],
   "source": [
    "def reformat(path):\n",
    "    return path.replace('(','_').replace(')','_').replace('.','').replace(':','_')"
   ]
  },
  {
   "cell_type": "code",
   "execution_count": 11,
   "metadata": {
    "ExecuteTime": {
     "end_time": "2022-05-05T14:49:55.875389Z",
     "start_time": "2022-05-05T14:49:55.863485Z"
    },
    "hidden": true
   },
   "outputs": [],
   "source": [
    "def reformatCT(path):\n",
    "    with open(path, 'r') as file:\n",
    "        text = file.read()\n",
    "    text = [l for l in text.split('\\n') if len(l) > 0 ] # remove blank lines\n",
    "    text = '\\n'.join(text)\n",
    "    text = text.replace(\"\\t\",\" \")\n",
    "    while(\"  \" in text):\n",
    "        text = text.replace(\"  \", \" \")\n",
    "    lines = [l for l in text.split('\\n')]\n",
    "    for i in range(len(lines)):\n",
    "        if(lines[i][0] == \" \"):\n",
    "            lines[i] = lines[i][1:]\n",
    "        if(lines[i][-1] == \" \"):\n",
    "            lines[i] = lines[i][:-1]\n",
    "    text = '\\n'.join(lines)\n",
    "    return text"
   ]
  },
  {
   "cell_type": "code",
   "execution_count": 12,
   "metadata": {
    "ExecuteTime": {
     "end_time": "2022-05-05T14:49:56.082873Z",
     "start_time": "2022-05-05T14:49:56.077124Z"
    },
    "hidden": true
   },
   "outputs": [],
   "source": [
    "def get_ct_data(ct):\n",
    "    ct = \"\\n\".join(ct.split('\\n')[1:])\n",
    "    df = pd.read_csv(StringIO(ct), sep=\" \", header=None)               \n",
    "    nucleotide = df.iloc[:,1]\n",
    "    index = df.iloc[:,5]\n",
    "    values = df.iloc[:,4]\n",
    "    return [nucleotide, index, values]"
   ]
  },
  {
   "cell_type": "code",
   "execution_count": 13,
   "metadata": {
    "ExecuteTime": {
     "end_time": "2022-05-05T14:49:56.278663Z",
     "start_time": "2022-05-05T14:49:56.272525Z"
    },
    "hidden": true
   },
   "outputs": [],
   "source": [
    "def ct2dot_bracket(path):\n",
    "    [nucleotide, index, values] = get_ct_data(reformatCT(path))\n",
    "    text = ''.join(nucleotide) + \"\\n\"\n",
    "    watch = []\n",
    "    for i, v in zip(index,values):\n",
    "        if(v == 0):\n",
    "            text += '.'\n",
    "        else:\n",
    "            if( v not in watch):\n",
    "                text += '('\n",
    "                watch.append(i)\n",
    "            if( v in watch):\n",
    "                text += ')'\n",
    "    return text"
   ]
  },
  {
   "cell_type": "code",
   "execution_count": 14,
   "metadata": {
    "ExecuteTime": {
     "end_time": "2022-05-05T14:49:56.494900Z",
     "start_time": "2022-05-05T14:49:56.489721Z"
    },
    "hidden": true
   },
   "outputs": [],
   "source": [
    "def is_nested(index, values):\n",
    "    max_value = max(index) + 10 # inf\n",
    "    for i, v in zip(index, values):\n",
    "        if(v < max_value and v != 0):\n",
    "            max_value  = v\n",
    "        if(i >= max_value):\n",
    "            max_value = max(index) + 10 # inf\n",
    "        if(v > max_value):\n",
    "            return False               \n",
    "    return True"
   ]
  },
  {
   "cell_type": "markdown",
   "metadata": {
    "heading_collapsed": true
   },
   "source": [
    "# CTAnalizer"
   ]
  },
  {
   "cell_type": "code",
   "execution_count": 15,
   "metadata": {
    "ExecuteTime": {
     "end_time": "2022-05-05T14:49:57.013098Z",
     "start_time": "2022-05-05T14:49:57.005653Z"
    },
    "hidden": true
   },
   "outputs": [],
   "source": [
    "def get_tag_info(tag):    \n",
    "    data = tag.split('|')\n",
    "    chromosome = data[0] \n",
    "    sign = data[1]\n",
    "    start = int(data[2].split('-')[0]) - 1 \n",
    "    end = int(data[2].split('-')[1])\n",
    "    hit_start = int(data[3].split('-')[0]) - 1 \n",
    "    hit_end = int(data[3].split('-')[1])    \n",
    "    return [chromosome, start, end, hit_start, hit_end, sign]"
   ]
  },
  {
   "cell_type": "code",
   "execution_count": 16,
   "metadata": {
    "ExecuteTime": {
     "end_time": "2022-05-05T14:49:57.494096Z",
     "start_time": "2022-05-05T14:49:57.488491Z"
    },
    "hidden": true
   },
   "outputs": [],
   "source": [
    "def get_deltaG(ct):\n",
    "    ct_head = ct.split('\\n')[0]\n",
    "    if(\"dG = \" in ct_head):    \n",
    "        dG_patter = \"dG = \" \n",
    "    elif(\"dG= \" in ct_head):    \n",
    "        dG_patter = \"dG= \"\n",
    "    elif(\"dG=\" in ct_head):    \n",
    "        dG_patter = \"dG=\"\n",
    "    elif(\"dG =\" in ct_head):    \n",
    "        dG_patter = \"dG =\"\n",
    "    else:\n",
    "        print('there is no dG')\n",
    "    return float(ct_head.split(dG_patter)[-1].split(' ')[0])"
   ]
  },
  {
   "cell_type": "code",
   "execution_count": 17,
   "metadata": {
    "ExecuteTime": {
     "end_time": "2022-05-05T14:49:57.834867Z",
     "start_time": "2022-05-05T14:49:57.829280Z"
    },
    "hidden": true
   },
   "outputs": [],
   "source": [
    "def get_complementarity_in_hit_region(inc_srange, hit_len):    \n",
    "    if(sum(inc_srange == 0) == hit_len):\n",
    "        return [\"no\" , 0]\n",
    "    elif(sum(inc_srange != 0) == hit_len):\n",
    "        return [\"fully_connected\" , 1]\n",
    "    else:    \n",
    "        return [\"yes\",  round(sum(inc_srange != 0) / hit_len,2)]"
   ]
  },
  {
   "cell_type": "code",
   "execution_count": 18,
   "metadata": {
    "ExecuteTime": {
     "end_time": "2022-05-05T14:49:58.133038Z",
     "start_time": "2022-05-05T14:49:58.128781Z"
    },
    "hidden": true
   },
   "outputs": [],
   "source": [
    "def get_hit_self_complementarity(hit_start, hit_end, inc_srange):    \n",
    "    if(((inc_srange <= hit_start) | (inc_srange > hit_end)).all()):\n",
    "        return \"no\"\n",
    "    return \"yes\""
   ]
  },
  {
   "cell_type": "code",
   "execution_count": 19,
   "metadata": {
    "ExecuteTime": {
     "end_time": "2022-05-05T14:49:58.310927Z",
     "start_time": "2022-05-05T14:49:58.306440Z"
    },
    "hidden": true
   },
   "outputs": [],
   "source": [
    "def get_istar_min_max(inc_srange, hit_self_complementarity):\n",
    "    nonzero_data_srange  = inc_srange[inc_srange!=0]\n",
    "    if(hit_self_complementarity == 'yes'):\n",
    "        return [np.nan, np.nan]\n",
    "    return [nonzero_data_srange.min(), nonzero_data_srange.max()]"
   ]
  },
  {
   "cell_type": "code",
   "execution_count": 20,
   "metadata": {
    "ExecuteTime": {
     "end_time": "2022-05-05T14:49:58.488877Z",
     "start_time": "2022-05-05T14:49:58.484200Z"
    },
    "hidden": true
   },
   "outputs": [],
   "source": [
    "def get_continuous_pairing(hit_start, hit_end, istar_min, istar_max, hit_self_complementarity):    \n",
    "    if(hit_self_complementarity == 'yes'):\n",
    "        return \"undifined\"\n",
    "    if(hit_end < istar_max and (hit_start+1) > istar_min):\n",
    "        return \"no\"    \n",
    "    return  \"yes\""
   ]
  },
  {
   "cell_type": "code",
   "execution_count": 21,
   "metadata": {
    "ExecuteTime": {
     "end_time": "2022-05-05T14:49:58.657959Z",
     "start_time": "2022-05-05T14:49:58.651567Z"
    },
    "hidden": true
   },
   "outputs": [],
   "source": [
    "def get_mir_type(hit_start, hit_end, istar_min, istar_max, continuous_pairing, complementarity_in_hit_region, hit_self_complementarity):        \n",
    "    if(continuous_pairing == \"yes\" and complementarity_in_hit_region != \"no\" and hit_self_complementarity == \"no\"):\n",
    "        if( hit_end < istar_min):\n",
    "            return \"5p\" \n",
    "        if( (hit_start+1) > istar_max):\n",
    "            return \"3p\"     \n",
    "    else:\n",
    "        if(continuous_pairing == \"no\" and hit_self_complementarity == \"yes\"):\n",
    "            return \"discontinuous star strand and hit self complementarity\"\n",
    "        elif(continuous_pairing == \"no\"):\n",
    "            return \"discontinuous star strand\"\n",
    "        elif(hit_self_complementarity == \"yes\"):\n",
    "            return \"hit self complementarity\"\n",
    "\n",
    "    if(complementarity_in_hit_region == \"no\"):\n",
    "        return \"no complementarity in hit region\"  \n",
    "    print(hit_start, hit_end, istar_min, istar_max, continuous_pairing, complementarity_in_hit_region, hit_self_complementarity)"
   ]
  },
  {
   "cell_type": "code",
   "execution_count": 22,
   "metadata": {
    "ExecuteTime": {
     "end_time": "2022-05-05T14:49:58.835436Z",
     "start_time": "2022-05-05T14:49:58.828804Z"
    },
    "hidden": true
   },
   "outputs": [],
   "source": [
    "'''\n",
    "def get_star_start(hit_start, hit_end, values):\n",
    "    c = 0\n",
    "    i = hit_end - 3 - c\n",
    "    while(values[i] == 0 and i >= 0):\n",
    "        c += 1\n",
    "        i = hit_end - 3 - c        \n",
    "    if(values[i] - c < 1):                    \n",
    "        return [max(values[i] - c,1), \"negative value\"]\n",
    "    if(i < hit_start):\n",
    "        return [values[i] - c, 'less than hit start']\n",
    "    return [values[i] - c, '']\n",
    "'''\n",
    "def get_star_start(hit_start, hit_end, values):        \n",
    "    a = 0\n",
    "    i = hit_end - 1\n",
    "    while(values[i] == 0 and i >= hit_start):\n",
    "        a += 1\n",
    "        i = hit_end - 1 - a        \n",
    "    if((values[i] - a + 2) < 1):                    \n",
    "        return [max(values[i] - a + 2, 1), \"negative value\"]\n",
    "    if(i < hit_start):\n",
    "        return [values[i] - a + 2, 'less than hit start']\n",
    "    return [values[i] - a + 2, '']"
   ]
  },
  {
   "cell_type": "code",
   "execution_count": 23,
   "metadata": {
    "ExecuteTime": {
     "end_time": "2022-05-05T14:49:59.000588Z",
     "start_time": "2022-05-05T14:49:58.993989Z"
    },
    "hidden": true
   },
   "outputs": [],
   "source": [
    "'''\n",
    "def get_star_end(hit_start, hit_end, values):\n",
    "    if(hit_start - 2 >= 0 ):\n",
    "        a = 0    \n",
    "    else:\n",
    "        a = abs(hit_start - 2)\n",
    "    \n",
    "    i = hit_start - 2 + a\n",
    "    while(values[i] == 0 and i <= hit_end):\n",
    "        a += 1\n",
    "        i = hit_start - 2 + a\n",
    "    \n",
    "    if(i <= hit_end):        \n",
    "        if((values[i] + a) > len(values)):\n",
    "            return [len(values), \"out of sequance range\"]        \n",
    "        return [values[i] + a, \"\"]\n",
    "    return [np.nan, \"some error happened\"]\n",
    "'''\n",
    "\n",
    "def get_star_end(hit_start, hit_end, values):    \n",
    "    a = 0\n",
    "    i = hit_start \n",
    "    while(values[i] == 0 and i <= hit_end):\n",
    "        a += 1\n",
    "        i = hit_start + a\n",
    "    \n",
    "    if(i <= hit_end):        \n",
    "        if((values[i] + a + 2) > len(values)):\n",
    "            return [len(values), \"out of sequance range\"]        \n",
    "        return [values[i] + a + 2, \"\"]\n",
    "    return [np.nan, \"some error happened\"]\n"
   ]
  },
  {
   "cell_type": "code",
   "execution_count": 24,
   "metadata": {
    "ExecuteTime": {
     "end_time": "2022-05-05T14:49:59.252591Z",
     "start_time": "2022-05-05T14:49:59.247259Z"
    },
    "hidden": true
   },
   "outputs": [],
   "source": [
    "def get_num_of_linking_residues(hit_start, hit_end, star_start, star_end, mir_type):\n",
    "    if(mir_type == '5p'):\n",
    "        return str(star_start - hit_end - 1)\n",
    "    elif(mir_type == '3p'):\n",
    "        return str(hit_start - star_end)    "
   ]
  },
  {
   "cell_type": "code",
   "execution_count": 25,
   "metadata": {
    "ExecuteTime": {
     "end_time": "2022-05-05T14:49:59.616761Z",
     "start_time": "2022-05-05T14:49:59.612191Z"
    },
    "hidden": true
   },
   "outputs": [],
   "source": [
    "def get_star_branching(star_start, star_end, star_range, values):\n",
    "    return not ((values[star_range-1] < star_start) | (values[star_range-1] > star_end)).all()"
   ]
  },
  {
   "cell_type": "code",
   "execution_count": 26,
   "metadata": {
    "ExecuteTime": {
     "end_time": "2022-05-05T14:49:59.882613Z",
     "start_time": "2022-05-05T14:49:59.860661Z"
    },
    "hidden": true
   },
   "outputs": [],
   "source": [
    "def getBOI_5p(hit_start, hit_end, values):\n",
    "    # first calc latest non zero value\n",
    "    for i in range(hit_end-1, 0, -1):\n",
    "        if(values[i] != 0):\n",
    "            last_v = values[i]\n",
    "            last_i = i\n",
    "            place = i\n",
    "            break            \n",
    "            \n",
    "    for i in range(place-1, 0, -1):\n",
    "        v = values[i]\n",
    "        if(v == 0):\n",
    "            continue\n",
    "        if(v < last_v):\n",
    "            if(last_i <= hit_start and last_i <= hit_end and last_v > hit_start and last_v >= hit_end):                \n",
    "                return [last_i + 1, last_v]            \n",
    "        \n",
    "        if((v - last_v) >= 3):            \n",
    "            s1 = set(range(last_v+1, v))\n",
    "            s2 = set([values[ii-1] for ii in range(last_v+1, v)])                        \n",
    "            if(len(s1.intersection(s2)) > 0):                                                \n",
    "                if(last_i <= hit_start and last_i < hit_end and last_v > hit_start and last_v >= hit_end): #?????                     \n",
    "                    return [last_i + 1, last_v]    \n",
    "        last_v = v            \n",
    "        last_i = i            \n",
    "    for i in range(0,hit_start):\n",
    "        if(values[i] != 0 ):\n",
    "            if(last_i <= hit_start and last_i <= hit_end and last_v > hit_start and last_v >= hit_end):                    \n",
    "                return [i + 1, values[i]]          \n",
    "    return [np.nan, np.nan]    \n",
    "    \n",
    "                \n",
    "def getBOI_3p(hit_start, hit_end, values):\n",
    "    # first calc latest non zero value\n",
    "    for i in range(hit_start, len(values)):    \n",
    "        if(values[i] != 0):\n",
    "            last_v = values[i]\n",
    "            last_i = i\n",
    "            place = i\n",
    "            break            \n",
    "            \n",
    "    for i in range(place + 1, len(values)):\n",
    "        v = values[i]\n",
    "        if(v == 0):\n",
    "            continue\n",
    "        if(v > last_v):\n",
    "            if((last_v-1) <= hit_start and (last_v-1) <= hit_end and (last_i+1)  > hit_start and (last_i+1)  >= hit_end):    \n",
    "                return [last_v, last_i + 1]                                                                                    \n",
    "        if((last_v - v) >= 3):\n",
    "            s1 = set(range(v+1, last_v))\n",
    "            s2 = set([values[ii-1] for ii in range(v+1, last_v)])\n",
    "            if(len(s1.intersection(s2)) > 0):\n",
    "                if((last_v-1) <= hit_start and (last_v-1) < hit_end and (last_i+1)  > hit_start and (last_i+1)  >= hit_end):\n",
    "                    return [last_v, last_i + 1]    \n",
    "        last_v = v            \n",
    "        last_i = i            \n",
    "    for i in range(len(values)-1, hit_end-2, -1):  # changed!        \n",
    "        if(values[i] != 0 ):\n",
    "            if((last_v-1) <= hit_start and (last_v-1) <= hit_end and (last_i+1)  > hit_start and (last_i+1)  >= hit_end):                    \n",
    "                return [values[i], i + 1]    \n",
    "    return [np.nan, np.nan]\n",
    "    \n",
    "    \n",
    "def get_boi(hit_start, hit_end, values, mir_type):    \n",
    "    if(mir_type == '5p'):\n",
    "        return getBOI_5p(hit_start, hit_end, values)\n",
    "    if(mir_type == '3p'):\n",
    "        return getBOI_3p(hit_start, hit_end, values)"
   ]
  },
  {
   "cell_type": "code",
   "execution_count": 27,
   "metadata": {
    "ExecuteTime": {
     "end_time": "2022-05-05T14:50:00.027469Z",
     "start_time": "2022-05-05T14:50:00.022526Z"
    },
    "hidden": true
   },
   "outputs": [],
   "source": [
    "def get_terminal_structure_range(hit_start, hit_end, istar_min, istar_max, mir_type):\n",
    "    if(mir_type == '5p'):\n",
    "        return [i for i in range(hit_end, istar_min-1)]\n",
    "    if(mir_type == '3p'):\n",
    "        return [i for i in range(istar_max, hit_start)]\n",
    "    print(\"Error in get_terminal_structure_range function\")        "
   ]
  },
  {
   "cell_type": "code",
   "execution_count": 28,
   "metadata": {
    "ExecuteTime": {
     "end_time": "2022-05-05T14:50:00.243312Z",
     "start_time": "2022-05-05T14:50:00.237709Z"
    },
    "hidden": true
   },
   "outputs": [],
   "source": [
    "def get_number_of_terminal_structure(values, terminal_structure_range):    \n",
    "    data = values[terminal_structure_range]\n",
    "    data = data[data != 0].to_numpy()\n",
    "    if(len(data) == 0):\n",
    "        return 0           \n",
    "    counter = 1            \n",
    "    last = data[0]         \n",
    "    for i in range(1,len(data)): \n",
    "        if(data[i] > last):\n",
    "            counter += 1\n",
    "        last = data[i]        \n",
    "    return counter "
   ]
  },
  {
   "cell_type": "code",
   "execution_count": 29,
   "metadata": {
    "ExecuteTime": {
     "end_time": "2022-05-05T14:50:00.416092Z",
     "start_time": "2022-05-05T14:50:00.406687Z"
    },
    "hidden": true
   },
   "outputs": [],
   "source": [
    "def get_branch_star_end_point(values, terminal_structure_range):        \n",
    "    data = values[terminal_structure_range]    \n",
    "    index = np.array(terminal_structure_range)[data != 0]    \n",
    "    data = data[data != 0].to_numpy()                        \n",
    "    branch_start_index = []\n",
    "    branch_end_index = []\n",
    "    branch_start_index.append(index[0])\n",
    "    last = data[0]            \n",
    "    for i in range(1,len(data)): \n",
    "        if(data[i] > last):\n",
    "            branch_end_index.append(index[i-1])\n",
    "            branch_start_index.append(index[i])\n",
    "        last = data[i]        \n",
    "    branch_end_index.append(index[-1])\n",
    "    #\n",
    "    branch_start_point = []\n",
    "    branch_end_point = []\n",
    "    for i in range(0, len(branch_start_index)):         \n",
    "        i_s = branch_start_index[i]\n",
    "        i_e = branch_end_index[i]\n",
    "        v_s = values[i_s]\n",
    "        v_e = values[i_e]\n",
    "        if(v_s > i_s and v_s <= (i_e + 1)):\n",
    "            branch_start_point.append(i_s + 1)\n",
    "            branch_end_point.append(v_s)\n",
    "        elif(v_e > i_s and v_e <= (i_e + 1)):\n",
    "            branch_start_point.append(v_e)\n",
    "            branch_end_point.append(i_e + 1)        \n",
    "    return [branch_start_point, branch_end_point]"
   ]
  },
  {
   "cell_type": "code",
   "execution_count": 30,
   "metadata": {
    "ExecuteTime": {
     "end_time": "2022-05-05T14:50:00.604953Z",
     "start_time": "2022-05-05T14:50:00.596915Z"
    },
    "hidden": true
   },
   "outputs": [],
   "source": [
    "def get_branch_apical_loop_size(branch_start_point, branch_end_point, values):        \n",
    "    branch_apical_loop_start = []\n",
    "    branch_apical_loop_end = []\n",
    "    branch_apical_loop_size = []\n",
    "    for s,e in zip(branch_start_point, branch_end_point):\n",
    "        data = values[s-1: e]\n",
    "        index = np.array([i for i in range(s-1, e)])[data != 0]                    \n",
    "        for i in range(len(index)-1):\n",
    "            if(values[index[i+1]] == index[i]+1 and values[index[i]] == index[i+1]+1):\n",
    "                branch_apical_loop_start.append(index[i]+1)\n",
    "                branch_apical_loop_end.append(index[i+1]+1)\n",
    "                branch_apical_loop_size.append(index[i+1] - index[i] - 1)                                                \n",
    "    return [branch_apical_loop_start, branch_apical_loop_end, branch_apical_loop_size]"
   ]
  },
  {
   "cell_type": "code",
   "execution_count": 31,
   "metadata": {
    "ExecuteTime": {
     "end_time": "2022-05-05T14:50:01.035721Z",
     "start_time": "2022-05-05T14:50:01.030167Z"
    },
    "hidden": true
   },
   "outputs": [],
   "source": [
    "def get_stem_last_residue(branch_apical_loop_start,branch_apical_loop_end, mir_type):\n",
    "    out = []\n",
    "    for i in range(len(branch_apical_loop_start)):\n",
    "        if(mir_type == '5p'):\n",
    "            out.append(min(branch_apical_loop_start[i], branch_apical_loop_end[i]))\n",
    "        if(mir_type == '3p'):\n",
    "            out.append(max(branch_apical_loop_start[i], branch_apical_loop_end[i]))\n",
    "    return out"
   ]
  },
  {
   "cell_type": "code",
   "execution_count": 32,
   "metadata": {
    "ExecuteTime": {
     "end_time": "2022-05-05T14:48:40.087571Z",
     "start_time": "2022-05-05T14:48:40.082993Z"
    },
    "hidden": true
   },
   "outputs": [],
   "source": [
    "def get_branch_stem_length(branch_start_point, branch_apical_loop_start):\n",
    "    out = []\n",
    "    for i in range(len(branch_start_point)):\n",
    "        out.append(branch_apical_loop_start[i] - branch_start_point[i] + 1)\n",
    "    return out"
   ]
  },
  {
   "cell_type": "code",
   "execution_count": 33,
   "metadata": {
    "ExecuteTime": {
     "end_time": "2022-05-05T14:48:40.328901Z",
     "start_time": "2022-05-05T14:48:40.316385Z"
    },
    "hidden": true
   },
   "outputs": [],
   "source": [
    "def get_primary_stem_end_point(branch_start_point, branch_end_point, stem_last_residue, hit_start, hit_end, istar_min, istar_max, values, number_of_terminal_structure, mir_type):    \n",
    "    if(number_of_terminal_structure == 1):\n",
    "        return stem_last_residue[0]\n",
    "    if(mir_type == '5p'):\n",
    "        if(number_of_terminal_structure == 0):                            \n",
    "            for i in range(hit_end-1, hit_start-1,-1):\n",
    "                if(values[i] != 0):\n",
    "                    return i + 1\n",
    "        else:\n",
    "            a = -1                        \n",
    "            for i in range(branch_start_point[0]-2, hit_end-1, -1):                \n",
    "                if(values[i] != 0):\n",
    "                    a = i + 1\n",
    "                    break            \n",
    "            b = -1            \n",
    "            for i in range(branch_end_point[-1], istar_min - 1):\n",
    "                if(values[i] != 0):\n",
    "                    b = values[i]\n",
    "                    break                   \n",
    "            if(a == -1 or b == -1):\n",
    "                return np.nan\n",
    "            return min(a,b)\n",
    "            \n",
    "    if(mir_type == '3p'):\n",
    "        if(number_of_terminal_structure == 0):                \n",
    "            for i in range(hit_start, hit_end):\n",
    "                if(values[i] != 0):\n",
    "                    return i + 1 \n",
    "        else:\n",
    "            a = -1\n",
    "            for i in range(branch_end_point[-1], hit_start):\n",
    "                if(values[i] != 0):\n",
    "                    a = i + 1\n",
    "                    break            \n",
    "            \n",
    "            b = -1            \n",
    "            for i in range(branch_start_point[0]-2, istar_max-1, -1):                \n",
    "                if(values[i] != 0):\n",
    "                    b = values[i]\n",
    "                    break                    \n",
    "            \n",
    "            if(a == -1 or b == -1):\n",
    "                return np.nan\n",
    "            return max(a,b)"
   ]
  },
  {
   "cell_type": "code",
   "execution_count": 34,
   "metadata": {
    "ExecuteTime": {
     "end_time": "2022-05-05T14:48:40.523404Z",
     "start_time": "2022-05-05T14:48:40.517353Z"
    },
    "hidden": true
   },
   "outputs": [],
   "source": [
    "def get_primary_stem_length(primary_stem_end_point, branch_start_point, branch_end_point, stem_last_residue, hit_start, hit_end, values, number_of_terminal_structure ,mir_type):    \n",
    "    if(number_of_terminal_structure == 0):\n",
    "        return 0\n",
    "    if(mir_type == '5p'):\n",
    "        if(number_of_terminal_structure == 1):                \n",
    "            return stem_last_residue[0] - branch_start_point[0] + 1\n",
    "        else:                        \n",
    "            return primary_stem_end_point - hit_end\n",
    "            \n",
    "    if(mir_type == '3p'):\n",
    "        if(number_of_terminal_structure == 1):                \n",
    "            return branch_end_point[0] - stem_last_residue[0] + 1\n",
    "        else:                        \n",
    "            return (hit_start+1) - primary_stem_end_point"
   ]
  },
  {
   "cell_type": "code",
   "execution_count": 35,
   "metadata": {
    "ExecuteTime": {
     "end_time": "2022-05-05T14:48:40.778086Z",
     "start_time": "2022-05-05T14:48:40.773276Z"
    },
    "code_folding": [],
    "hidden": true
   },
   "outputs": [],
   "source": [
    "def get_domain(primary_stem_end_point, boi_start, boi_end, stem_last_residue, hit_start, hit_end, mir_type):    \n",
    "    if(mir_type == '5p'):        \n",
    "        return range(boi_start-1, primary_stem_end_point)                                        \n",
    "    if(mir_type == '3p'):        \n",
    "        return range(primary_stem_end_point-1, boi_end)"
   ]
  },
  {
   "cell_type": "code",
   "execution_count": 36,
   "metadata": {
    "ExecuteTime": {
     "end_time": "2022-05-05T14:48:40.999266Z",
     "start_time": "2022-05-05T14:48:40.994304Z"
    },
    "hidden": true
   },
   "outputs": [],
   "source": [
    "def get_domain_star(primary_stem_end_point_star, boi_start, boi_end, stem_last_residue, hit_start, hit_end, mir_type):    \n",
    "    if(mir_type == '5p'):        \n",
    "        return range(primary_stem_end_point_star - 1, boi_end)                                        \n",
    "    if(mir_type == '3p'):        \n",
    "        return range(boi_start-1 , primary_stem_end_point_star)"
   ]
  },
  {
   "cell_type": "code",
   "execution_count": 37,
   "metadata": {
    "ExecuteTime": {
     "end_time": "2022-05-05T14:48:41.210135Z",
     "start_time": "2022-05-05T14:48:41.205071Z"
    },
    "hidden": true
   },
   "outputs": [],
   "source": [
    "def get_interfering_structures(domain, values):\n",
    "    [c, d] = [min(domain[0], domain[-1]) + 1, max(domain[0], domain[-1]) + 1]            \n",
    "    v = values[c-1:d]        \n",
    "    return not ((v < c) | (v > d)).all()"
   ]
  },
  {
   "cell_type": "code",
   "execution_count": 38,
   "metadata": {
    "ExecuteTime": {
     "end_time": "2022-05-05T14:48:41.432166Z",
     "start_time": "2022-05-05T14:48:41.422019Z"
    },
    "hidden": true
   },
   "outputs": [],
   "source": [
    "def getLocation(start, end, hit_start, hit_end, mir_type):            \n",
    "    def _location(point): # base location              \n",
    "        if(mir_type == \"5p\"):                        \n",
    "            if(point < (hit_start+1)):\n",
    "                return [\"loop distal\", (hit_start+1) - point]\n",
    "            if(point <= hit_end):\n",
    "                return [\"hit region\", point - (hit_start+1) + 1]\n",
    "            return [\"loop proximal\" , point - hit_end]\n",
    "        \n",
    "        if(mir_type == \"3p\"):    \n",
    "            if(point > hit_end):\n",
    "                return [\"loop distal\" , point - hit_end]\n",
    "            if(point >= (hit_start+1)):\n",
    "                return [\"hit region\", point - (hit_start+1) + 1]\n",
    "            return [\"loop proximal\", (hit_start+1) - point]                                        \n",
    "            \n",
    "    [type1, loc1] = _location(start)\n",
    "    [type2, loc2] = _location(end)    \n",
    "    if(type1 == type2):                \n",
    "        return [type1, min(loc1, loc2), max(loc1, loc2)]\n",
    "    \n",
    "    if((type1 == \"loop distal\" and type2 == \"hit region\") or\n",
    "       (type2 == \"loop distal\" and type1 == \"hit region\")):                \n",
    "        return [\"distal border line\", loc1, loc2]\n",
    "        \n",
    "    if((type1 == \"loop proximal\" and type2 == \"hit region\") or\n",
    "       (type2 == \"loop proximal\" and type1 == \"hit region\")):        \n",
    "        return [\"proximal border line\", loc1, loc2]\n",
    "    \n",
    "    raise exception(\"loop proximal and loop distal\")"
   ]
  },
  {
   "cell_type": "code",
   "execution_count": 39,
   "metadata": {
    "ExecuteTime": {
     "end_time": "2022-05-05T14:48:41.630542Z",
     "start_time": "2022-05-05T14:48:41.619641Z"
    },
    "code_folding": [],
    "hidden": true
   },
   "outputs": [],
   "source": [
    "def get_mismatch(domain, values, MCMA, hit_start, hit_end, mir_type): #MCMA: maximum consecutive mismatch allowance    \n",
    "    size = []\n",
    "    location_type = []\n",
    "    location_start = []\n",
    "    location_end = []\n",
    "    if(values[domain[0]] == 0 or values[domain[-1]] == 0):\n",
    "        raise Exception(\"Domain start or end = 0\")        \n",
    "        return \"Domain start or end = 0\"\n",
    "    mismatch_counter = 0 \n",
    "    zero_counter = 0\n",
    "    last = values[domain[0]]    \n",
    "    lastI = domain[0]\n",
    "    for d in domain[1:]:\n",
    "        if(values[d] == 0):\n",
    "            zero_counter += 1\n",
    "        else:            \n",
    "            current = values[d]\n",
    "            if(current > last):\n",
    "                return [\"Increment series error\", None, None, None, None]\n",
    "            elif(current < last and zero_counter > 0):                \n",
    "                if(last - current - 1 == zero_counter and zero_counter <= MCMA):\n",
    "                    mismatch_counter += 1\n",
    "                    size.append(zero_counter)                    \n",
    "                    [loc_type, loc_start, loc_end ] = getLocation(lastI+2, d, hit_start, hit_end, mir_type)\n",
    "                    location_type.append(loc_type)\n",
    "                    location_start.append(loc_start)\n",
    "                    location_end.append(loc_end)                    \n",
    "                zero_counter = 0                                    \n",
    "            last = current\n",
    "            lastI = d\n",
    "    if(mir_type == \"3p\"):\n",
    "        size = size[::-1]\n",
    "        location_type = location_type[::-1]\n",
    "        location_start = location_start[::-1]\n",
    "        location_end = location_end[::-1]\n",
    "    return [mismatch_counter, size, location_type, location_start, location_end]"
   ]
  },
  {
   "cell_type": "code",
   "execution_count": 40,
   "metadata": {
    "ExecuteTime": {
     "end_time": "2022-05-05T14:48:41.837472Z",
     "start_time": "2022-05-05T14:48:41.824094Z"
    },
    "hidden": true
   },
   "outputs": [],
   "source": [
    "def get_bulge(domain, values, hit_start, hit_end, mir_type): \n",
    "    size = []  \n",
    "    bulge_type = []\n",
    "    location_type = []\n",
    "    location_start = []\n",
    "    location_end = []\n",
    "    zero_counter = 0\n",
    "    last = values[domain[0]]  \n",
    "    lastI = domain[0]\n",
    "    for d in domain[1:]:\n",
    "        if(values[d] == 0):\n",
    "            zero_counter += 1\n",
    "        else:\n",
    "            current = values[d]\n",
    "            if(current > last):\n",
    "                return [\"Increment series error\", None, None, None, None,None]\n",
    "            \n",
    "            if(last - current == 1 and zero_counter > 0):                \n",
    "                size.append(zero_counter)                            \n",
    "                [loc_type, loc_start, loc_end ] = getLocation(lastI+1, d+1, hit_start, hit_end, mir_type)\n",
    "                bulge_type.append(\"zero\")                                \n",
    "                location_start.append(loc_start)\n",
    "                location_end.append(loc_end)           \n",
    "                [loc_type,_,_ ] = getLocation(lastI+2, d, hit_start, hit_end, mir_type)\n",
    "                location_type.append(loc_type)\n",
    "                \n",
    "            if(last - current > 1 and zero_counter == 0):                \n",
    "                size.append(last - current - 1)                \n",
    "                [loc_type, loc_start, loc_end ] = getLocation(lastI+2, d, hit_start, hit_end, mir_type)\n",
    "                if(loc_type == \"distal border line\"):\n",
    "                    loc_type = \"loop distal\"\n",
    "                if(loc_type == \"proximal border line\"):\n",
    "                    loc_type = \"loop proximal\"\n",
    "                bulge_type.append(\"jump\")\n",
    "                location_type.append(loc_type)\n",
    "                location_start.append(loc_start)\n",
    "                location_end.append(loc_end)                    \n",
    "                                            \n",
    "            zero_counter = 0                                                    \n",
    "            last = current\n",
    "            lastI = d\n",
    "    if(mir_type == \"3p\"):\n",
    "        size = size[::-1]\n",
    "        bulge_type = bulge_type[::-1]\n",
    "        location_type = location_type[::-1]\n",
    "        location_start = location_start[::-1]\n",
    "        location_end = location_end[::-1]\n",
    "    return [len(size), size, location_type, location_start, location_end, bulge_type]"
   ]
  },
  {
   "cell_type": "code",
   "execution_count": 41,
   "metadata": {
    "ExecuteTime": {
     "end_time": "2022-05-05T14:48:42.074351Z",
     "start_time": "2022-05-05T14:48:42.061668Z"
    },
    "hidden": true
   },
   "outputs": [],
   "source": [
    "def get_internal_loop(domain, values, MCMA, hit_start, hit_end, mir_type): #MCMA: maximum consecutive mismatch allowance\n",
    "    size_HSBL = []  # number of         \n",
    "    size_SSBL = []     \n",
    "    location_type = []\n",
    "    location_start = []\n",
    "    location_end = []\n",
    "    zero_counter = 0\n",
    "    last = values[domain[0]]    \n",
    "    lastI = domain[0]\n",
    "    for d in domain[1:]:\n",
    "        if(values[d] == 0):\n",
    "            zero_counter += 1\n",
    "        else:\n",
    "            current = values[d]            \n",
    "            if(current > last):\n",
    "                return [\"Increment series error\", None, None, None, None, None]        \n",
    "            if(current < last and zero_counter > 0):                \n",
    "                jump = last - current - 1\n",
    "                if(jump == 0):\n",
    "                    zero_counter = 0                                    \n",
    "                elif(jump != zero_counter):                                        \n",
    "                    size_HSBL.append(zero_counter)\n",
    "                    size_SSBL.append(jump)\n",
    "                    [loc_type, loc_start, loc_end ] = getLocation(lastI+2, d, hit_start, hit_end, mir_type)\n",
    "                    location_type.append(loc_type)\n",
    "                    location_start.append(loc_start)\n",
    "                    location_end.append(loc_end)                    \n",
    "                elif(zero_counter > MCMA):\n",
    "                    size_HSBL.append(zero_counter)\n",
    "                    size_SSBL.append(jump)\n",
    "                    [loc_type, loc_start, loc_end ] = getLocation(lastI+2, d, hit_start, hit_end, mir_type)\n",
    "                    location_type.append(loc_type)\n",
    "                    location_start.append(loc_start)\n",
    "                    location_end.append(loc_end)                    \n",
    "                    \n",
    "            zero_counter = 0                                    \n",
    "            last = current\n",
    "            lastI = d\n",
    "    if(mir_type == \"3p\"):        \n",
    "        size_SSBL = size_SSBL[::-1]\n",
    "        size_HSBL = size_HSBL[::-1]\n",
    "        location_type = location_type[::-1]\n",
    "        location_start = location_start[::-1]\n",
    "        location_end = location_end[::-1]\n",
    "    return [len(size_HSBL), size_HSBL, size_SSBL, location_type, location_start, location_end]"
   ]
  },
  {
   "cell_type": "code",
   "execution_count": 42,
   "metadata": {
    "ExecuteTime": {
     "end_time": "2022-05-05T14:48:42.282479Z",
     "start_time": "2022-05-05T14:48:42.261988Z"
    },
    "hidden": true
   },
   "outputs": [],
   "source": [
    "def get_distance_info(inp_type, inp_bord_type, mis_loc_type, mismatch_size, mis_start, bulge_size, bulge_loc_type, bulge_start,bulge_end, bulge_type,internal_loop,size_HSBL,size_SSBL,intr_loc_type,intr_start,intr_end, mir_type):\n",
    "    counter = 0 \n",
    "    data = []\n",
    "    # mismatch\n",
    "    if(mis_loc_type != None):\n",
    "        for i in range(0, len(mis_loc_type)):\n",
    "            if(mis_loc_type[i] == inp_type):\n",
    "                data.append({'start':mis_start[i],\n",
    "                             'size': mismatch_size[i],\n",
    "                             'type':\"mismatch\"})\n",
    "    # bulge\n",
    "    if(bulge_loc_type != None):\n",
    "        for i in range(0, len(bulge_loc_type)):\n",
    "            if(bulge_loc_type[i] == inp_type):\n",
    "                data.append({'start':bulge_start[i],\n",
    "                              'size': bulge_size[i],\n",
    "                              'end': bulge_end[i],\n",
    "                              'bulge_type': bulge_type[i],\n",
    "                              'type':\"bulge\"})\n",
    "            if(bulge_loc_type[i] == inp_bord_type and\n",
    "                bulge_type[i] == \"zero\"):\n",
    "                if(inp_bord_type == \"distal border line\"):\n",
    "                    if(mir_type == \"5p\"):\n",
    "                        counter = bulge_start[i] - 1 \n",
    "                    if(mir_type == \"3p\"):\n",
    "                        counter = bulge_end[i] - 1 \n",
    "                if(inp_bord_type == \"proximal border line\"):\n",
    "                    if(mir_type == \"5p\"):\n",
    "                        counter = bulge_end[i] - 1 \n",
    "                    if(mir_type == \"3p\"):\n",
    "                        counter = bulge_start[i] - 1 \n",
    "    # loop\n",
    "    if(intr_loc_type != None):\n",
    "        for i in range(0, len(intr_loc_type)):\n",
    "            if(intr_loc_type[i] == inp_type):\n",
    "                data.append({'start': intr_start[i],\n",
    "                         'HSBL' : size_HSBL[i],\n",
    "                         'SSBL' : size_SSBL[i],\n",
    "                         'end'  : intr_end[i],\n",
    "                         'type' : \"loop\"})\n",
    "            if(intr_loc_type[i] == inp_bord_type and\n",
    "               size_HSBL[i] > size_SSBL[i] and\n",
    "               intr_end[i] > size_SSBL[i]):\n",
    "                counter = intr_end[i] - size_SSBL[i]    \n",
    "    if(len(data) == 0):\n",
    "        return [[], [], counter]\n",
    "    data.sort(key=lambda x: x['start'], reverse=False)\n",
    "    #\n",
    "    output = []\n",
    "    outputhr = []\n",
    "    for d in data:\n",
    "        # todo\n",
    "        dist = d['start'] - counter - 1\n",
    "        if(d['type']== \"mismatch\"):\n",
    "            output.append({'type':\"mismatch\",\n",
    "                           'dist': dist,\n",
    "                           'size': d['size']})\n",
    "            outputhr.append(f\"mismatch=dist:{dist}, size:{d['size']}\")\n",
    "        if(d['type']== \"bulge\"):\n",
    "            dist = d['start'] - counter\n",
    "            output.append({'type':\"bulge\",\n",
    "                           'dist': dist,\n",
    "                           'size': d['size']})\n",
    "            outputhr.append(f\"bulge=dist:{dist}, size:{d['size']}\")\n",
    "            if(d['bulge_type'] == \"zero\"):\n",
    "                counter +=  d['size']\n",
    "        if(d['type']== \"loop\"):\n",
    "            dist = d['start'] - counter - 1\n",
    "            _size = str(d['HSBL'])+ \" + \" + str(d['SSBL'])\n",
    "            output.append({'type':\"loop\",\n",
    "                           'dist': dist,\n",
    "                           'size': _size})\n",
    "            outputhr.append(f\"loop=dist:{dist}, size:{_size}\")\n",
    "            if(d['HSBL'] > d['SSBL']):\n",
    "                counter += d['HSBL'] - d['SSBL']\n",
    "    return [output,outputhr, counter]"
   ]
  },
  {
   "cell_type": "code",
   "execution_count": 43,
   "metadata": {
    "ExecuteTime": {
     "end_time": "2022-05-05T14:48:42.441685Z",
     "start_time": "2022-05-05T14:48:42.434669Z"
    },
    "hidden": true
   },
   "outputs": [],
   "source": [
    "def closestto(data, datahr,number=15):\n",
    "    for d in data:\n",
    "        if(d['type'] == \"mismatch\"):\n",
    "            data.remove(d)\n",
    "    dist = []\n",
    "    if(len(data)==0):\n",
    "        return \"\"\n",
    "    for d in data:\n",
    "        dist.append(abs(d['dist'] - number))\n",
    "    min_dist = min(dist)\n",
    "    out = []\n",
    "    for i in range(0,len(dist)):\n",
    "        if(dist[i] == min_dist):\n",
    "            out.append(data[i])\n",
    "            \n",
    "    output = []\n",
    "    for o in out:\n",
    "        output.append(f\"{o['type']}=dist:{o['dist']}, size:{o['size']}\")                \n",
    "    return output"
   ]
  },
  {
   "cell_type": "code",
   "execution_count": 44,
   "metadata": {
    "ExecuteTime": {
     "end_time": "2022-05-05T14:48:42.636927Z",
     "start_time": "2022-05-05T14:48:42.631537Z"
    },
    "hidden": true
   },
   "outputs": [],
   "source": [
    "def get_gc_content(seq):\n",
    "    freq = pd.Series([c.lower() for c in seq]).value_counts()\n",
    "    for i in ['c','g', 's']:\n",
    "        if i not in freq:\n",
    "            freq[i] = 0    \n",
    "    return round((freq['c'] + freq['g'] + freq['s']) / len(seq),2) * 100"
   ]
  },
  {
   "cell_type": "code",
   "execution_count": 45,
   "metadata": {
    "ExecuteTime": {
     "end_time": "2022-05-05T14:48:42.972970Z",
     "start_time": "2022-05-05T14:48:42.967045Z"
    },
    "hidden": true
   },
   "outputs": [],
   "source": [
    "def get_boi_dist(boi_start, boi_end, hit_start, hit_end, mir_type, counter):    \n",
    "    if(mir_type == '5p'):        \n",
    "        return (hit_start + 1) - boi_start  - counter \n",
    "    if(mir_type == '3p'):\n",
    "        return  boi_end - hit_end - counter \n",
    "\n",
    "def get_psep_dist(psep, mir_type, hit_start, hit_end, counter):\n",
    "    if(mir_type == '5p'):\n",
    "        return abs(psep - hit_end) - counter\n",
    "    if(mir_type == '3p'):\n",
    "        return  abs((hit_start + 1) - psep)  - counter"
   ]
  },
  {
   "cell_type": "code",
   "execution_count": 46,
   "metadata": {
    "ExecuteTime": {
     "end_time": "2022-05-05T14:48:43.266159Z",
     "start_time": "2022-05-05T14:48:43.260326Z"
    },
    "hidden": true
   },
   "outputs": [],
   "source": [
    "def get_junction_distance(data, dist, thresh_bulge, thresh_loop):\n",
    "    distance = []\n",
    "    for d in data:\n",
    "        if(d['type'] == 'loop'):\n",
    "            size = eval(d['size'])\n",
    "            if(size >= thresh_loop):                \n",
    "                distance.append(d['dist'])\n",
    "        if(d['type'] == 'bulge'):\n",
    "            if(d['size'] >= thresh_bulge):\n",
    "                distance.append(d['dist'])\n",
    "    distance.append(dist)\n",
    "    return min(distance)"
   ]
  },
  {
   "cell_type": "code",
   "execution_count": 47,
   "metadata": {
    "ExecuteTime": {
     "end_time": "2022-05-05T14:48:43.561462Z",
     "start_time": "2022-05-05T14:48:43.555952Z"
    },
    "hidden": true
   },
   "outputs": [],
   "source": [
    "def get_ct2dot_bracket(nucleotide, index, values):\n",
    "    text = ''.join(nucleotide) + \"%5Cn\"\n",
    "    watch = []\n",
    "    for i, v in zip(index,values):\n",
    "        if(v == 0):\n",
    "            text += '.'\n",
    "        else:\n",
    "            if( v not in watch):\n",
    "                text += '('\n",
    "                watch.append(i)\n",
    "            if( v in watch):\n",
    "                text += ')'\n",
    "    return text"
   ]
  },
  {
   "cell_type": "code",
   "execution_count": 48,
   "metadata": {
    "ExecuteTime": {
     "end_time": "2022-05-05T14:48:43.858999Z",
     "start_time": "2022-05-05T14:48:43.854849Z"
    },
    "hidden": true
   },
   "outputs": [],
   "source": [
    "def get_visualization_link(dotbracket, color):\n",
    "    base =\"http://nibiru.tbi.univie.ac.at/forna/forna.html\"        \n",
    "    return f\"{base}?id=fasta&file=%3Eheader%5Cn{dotbracket}&colors=%3Eheader%5Cnrange%5C%3Dwhite:blue{color}\""
   ]
  },
  {
   "cell_type": "code",
   "execution_count": 49,
   "metadata": {
    "ExecuteTime": {
     "end_time": "2022-05-05T14:48:44.234407Z",
     "start_time": "2022-05-05T14:48:44.227079Z"
    },
    "hidden": true
   },
   "outputs": [],
   "source": [
    "def visualization(nucleotide, index, values, hit_start, hit_end, boi_start, boi_end, star_start_real, start_end_real ):    \n",
    "    dotbracket = get_ct2dot_bracket(nucleotide, index, values)\n",
    "    colors = \"\"\n",
    "    for i in range(0,len(index)):\n",
    "        v = i + 1 \n",
    "        if( (hit_start+1) <= v and v  <= hit_end):\n",
    "            colors += \"%5Cn1.2\"\n",
    "            continue\n",
    "        if(star_start_real != None and start_end_real != None):\n",
    "            if( star_start_real <= v and v <= start_end_real):\n",
    "                colors += \"%5Cn0.8\"\n",
    "                continue\n",
    "        if(boi_start != None and boi_end != None):\n",
    "            if( boi_start <= v and v <= boi_end):\n",
    "                colors += \"%5Cn0.2\"\n",
    "                continue        \n",
    "        colors += \"%5Cn0\"\n",
    "    path = get_visualization_link(dotbracket, colors)    \n",
    "    return path\n",
    "    #return f'=HYPERLINK(\"{path}\",\"url\")'"
   ]
  },
  {
   "cell_type": "code",
   "execution_count": 50,
   "metadata": {
    "ExecuteTime": {
     "end_time": "2022-05-05T14:48:44.713361Z",
     "start_time": "2022-05-05T14:48:44.707319Z"
    },
    "hidden": true
   },
   "outputs": [],
   "source": [
    "def get_trim_data(nucleotide, index, values, start, end):\n",
    "    _n = nucleotide.copy()[start-1:end].reset_index(drop=True)\n",
    "    _i = (index.copy()[start-1:end] - (start - 1)).reset_index(drop=True)\n",
    "    _v = values.copy()[start-1:end].apply(lambda x: 0 if x==0 else  max(x - (start - 1),0)).reset_index(drop=True)   \n",
    "    return [_n, _i, _v]"
   ]
  },
  {
   "cell_type": "code",
   "execution_count": 51,
   "metadata": {
    "ExecuteTime": {
     "end_time": "2022-05-05T14:48:45.069702Z",
     "start_time": "2022-05-05T14:48:45.064476Z"
    },
    "code_folding": [],
    "hidden": true
   },
   "outputs": [],
   "source": [
    "def get_precursor_seq(hit_start, hit_end,istar_min, istar_max, star_start_real, star_end_real, mir_type):\n",
    "    if(mir_type == \"3p\"):\n",
    "        return [star_start_real, hit_end, [hit_end-1, hit_end]]\n",
    "    if(mir_type == \"5p\"):\n",
    "        return [hit_start+1, star_end_real,[i+1 for i in range(istar_max, star_end_real)]]"
   ]
  },
  {
   "cell_type": "code",
   "execution_count": 52,
   "metadata": {
    "ExecuteTime": {
     "end_time": "2022-05-05T14:48:46.816874Z",
     "start_time": "2022-05-05T14:48:46.811712Z"
    },
    "hidden": true
   },
   "outputs": [],
   "source": [
    "def get_AMFE(dg, nuc):    \n",
    "    return abs((dg / len(nuc)) * 100)\n",
    "\n",
    "def get_MFEI(dg, gc, nuc):    \n",
    "    return abs(((dg / len(nuc)) * 100) / ( gc))"
   ]
  },
  {
   "cell_type": "code",
   "execution_count": 53,
   "metadata": {
    "ExecuteTime": {
     "end_time": "2022-05-04T14:56:31.022103Z",
     "start_time": "2022-05-04T14:56:31.015498Z"
    },
    "hidden": true
   },
   "outputs": [],
   "source": [
    "def get_dg_by_vienna(dotbracket):\n",
    "    dotbracket = dotbracket.replace(\"%5Cn\", \"\\n\")        \n",
    "    process = Popen([\"RNAeval\", \"-T\", \"22\"], stdout=PIPE, stdin=PIPE, stderr=STDOUT)     \n",
    "    (output, err) = process.communicate(input=bytes(dotbracket, 'ascii'))       \n",
    "    exit_code = process.wait()           \n",
    "    if(err):\n",
    "        dg = None        \n",
    "    else:\n",
    "        dg = float(output[(len(dotbracket)+2):-2])   \n",
    "    return dg"
   ]
  },
  {
   "cell_type": "code",
   "execution_count": 54,
   "metadata": {
    "ExecuteTime": {
     "end_time": "2022-05-04T14:56:31.256339Z",
     "start_time": "2022-05-04T14:56:31.250080Z"
    },
    "hidden": true
   },
   "outputs": [],
   "source": [
    "def get_dg_by_unafold(nucleotide, index, values):\n",
    "    st = time.time()\n",
    "    ct_str = f'{len(nucleotide)}\\n'\n",
    "    for i in range(0, len(nucleotide)):\n",
    "        ct_str += f'     {i+1} {nucleotide[i]}      {i}      {i+2}      {values[i]}       {index[i]}\\n'                \n",
    "    process = Popen([\"ct-energy\", \"-t\", \"22\"], stdout=PIPE, stdin=PIPE, stderr=STDOUT)    \n",
    "    (output, err) = process.communicate(input=bytes(ct_str, 'ascii'))        \n",
    "    exit_code = process.wait()             \n",
    "    if(err):\n",
    "        dg = None        \n",
    "    else:\n",
    "        dg = float(output)     \n",
    "    return dg"
   ]
  },
  {
   "cell_type": "code",
   "execution_count": 55,
   "metadata": {
    "ExecuteTime": {
     "end_time": "2022-05-04T14:56:31.707970Z",
     "start_time": "2022-05-04T14:56:31.635254Z"
    },
    "code_folding": [],
    "hidden": true
   },
   "outputs": [],
   "source": [
    "server_url = \"http://jupyter.sysmanager.ir/tree/plant_microRNA_prediction\"\n",
    "#MCMA: maximum consecutive mismatch allowance\n",
    "def get_row(tag, path, extra, acceptable_terminal_structures = 5, MCMA=2, effective_bulge_size_in_Hit_vicinity_regions=4,            \n",
    "effective_internal_loop_size_in_Hit_vicinity_regions=5, energy_calc_method=\"UNAFold\"):            \n",
    "    result = {}    \n",
    "    ct = reformatCT(path)    \n",
    "    result['seq name'] = tag\n",
    "    fold_number = \"1\" #path[-20:].split('SEQ_')[1].split('.ct')[0]    \n",
    "    result['ct name'] = \"Fold \" + fold_number.zfill(2)\n",
    "    #print(result['ct name'] )    \n",
    "    result['ct'] = f'=HYPERLINK(\"{server_url + path[1:]}\",\"ct\")'\n",
    "    result['pdf'] = f'=HYPERLINK(\"{server_url + path[1:-3] + \".pdf\"}\",\"pdf\")'         \n",
    "    [chromosome, start, end, hit_start, hit_end, sign] = get_tag_info(tag)        \n",
    "    result['hit start'] = hit_start + 1\n",
    "    result['hit end'] =  hit_end\n",
    "    result['sign'] = sign\n",
    "    result['chromosome'] = chromosome \n",
    "    result['hit position on chromosome'] = f'{start + hit_start-1}-{start + hit_end}' \n",
    "    dg = get_deltaG(ct)\n",
    "    result['delta G'] = dg\n",
    "    [nucleotide, index, values] = get_ct_data(ct)\n",
    "    result['full seq'] = ''.join(nucleotide)    \n",
    "    hit_seq = ''.join(nucleotide[hit_start:hit_end])    \n",
    "    result['full seq visualization'] = visualization(nucleotide, index, values, hit_start, hit_end, None, None,None, None)\n",
    "    result['hit seq'] = hit_seq\n",
    "    hit_range = index[hit_start:hit_end]\n",
    "    hit_len = len(hit_range)\n",
    "    result['hit len'] = hit_len\n",
    "    flanking_gc_content = get_gc_content(nucleotide)\n",
    "    result['flanking GC content'] = flanking_gc_content\n",
    "    result['flanking MFEI'] = get_MFEI(dg, flanking_gc_content, nucleotide)\n",
    "    result['hit GC content'] =  get_gc_content(hit_seq)\n",
    "    inc_srange = values[hit_start:hit_end] # Incomplete_Star_range    \n",
    "    [complementarity_in_hit_region, complementarity_in_hit_region_percentage] = get_complementarity_in_hit_region(inc_srange, hit_len)    \n",
    "    result['complementarity in hit region'] = complementarity_in_hit_region \n",
    "    result['hit complementarity percentage']  = complementarity_in_hit_region_percentage\n",
    "    if(complementarity_in_hit_region == \"no\"):        \n",
    "        result['message'] = \"no complementarity in hit region\"        \n",
    "        return pd.Series(result) \n",
    "    \n",
    "    hit_self_complementarity = get_hit_self_complementarity(hit_start, hit_end, inc_srange)    \n",
    "    result['hit self complementarity'] = hit_self_complementarity       \n",
    "    if(hit_self_complementarity == \"yes\"):        \n",
    "        result['message'] = \"hit self complementarity\"\n",
    "        return pd.Series(result)     \n",
    "    if(hit_start - extra < 0 or (len(values) - hit_end) < extra):        \n",
    "        result['message'] = \"Not enough flanking for hit region\"                \n",
    "        return pd.Series(result) \n",
    "    \n",
    "    [flanking_istar_min, flanking_istar_max] = get_istar_min_max(values[(hit_start-extra):(hit_end+extra)], hit_self_complementarity)  \n",
    "    #result['flanking istar min']  = flanking_istar_min\n",
    "    #result['flanking istar max']  = flanking_istar_max    \n",
    "    \n",
    "    continuous_pairing = get_continuous_pairing(hit_start, hit_end, flanking_istar_min, flanking_istar_max, hit_self_complementarity)\n",
    "    result['continuous pairing'] = continuous_pairing    \n",
    "    if(continuous_pairing == \"no\"):\n",
    "        result['message'] = \"discontinuous star strand\"\n",
    "        return pd.Series(result) \n",
    "    \n",
    "    [istar_min, istar_max] = get_istar_min_max(inc_srange, hit_self_complementarity)  \n",
    "    result['istar min']  = istar_min\n",
    "    result['istar max']  = istar_max\n",
    "    \n",
    "    mir_type = get_mir_type(hit_start, hit_end, istar_min, istar_max, continuous_pairing, complementarity_in_hit_region, hit_self_complementarity)\n",
    "    result['mir type'] = mir_type    \n",
    "    if(mir_type not in ['3p', '5p']):        \n",
    "        result['message'] = mir_type\n",
    "        return pd.Series(result) \n",
    "    try: \n",
    "        [star_start, star_start_msg] = get_star_start(hit_start, hit_end, values)\n",
    "        [star_end, star_end_msg] = get_star_end(hit_start, hit_end, values)\n",
    "        result['star start'] = star_start \n",
    "        result['star start msg'] = star_start_msg     \n",
    "        result['star end'] = star_end    \n",
    "        result['star end msg'] =  star_end_msg\n",
    "    except:\n",
    "        result['message'] = 'Error in calculation of star start and end'        \n",
    "        return pd.Series(result) \n",
    "    \n",
    "    star_start_real = star_start\n",
    "    star_end_real = star_end\n",
    "    star_start = istar_min ############################################\n",
    "    star_end = istar_max   ############################################\n",
    "    #set1 = set(range(star_start-1 , star_end))\n",
    "    set1 = set(range(star_start-2 , star_end+1)) ######################\n",
    "    set2 = set(range(hit_start, hit_end))            \n",
    "    if(len(set1.intersection(set2)) > 0):        \n",
    "        result['message'] = 'overlap between miRNA and miRNA*'        \n",
    "        return pd.Series(result) \n",
    "    \n",
    "    star_range = index[star_start - 1:star_end]\n",
    "    star_seq = ''.join(nucleotide[star_start - 1:star_end])\n",
    "    result['star seq'] = star_seq\n",
    "    num_of_linking_residues = get_num_of_linking_residues(hit_start, hit_end, star_start_real, star_end_real, mir_type)\n",
    "    result['num of linking residues'] = num_of_linking_residues\n",
    "    #print(result)\n",
    "    star_branching = get_star_branching(star_start, star_end, star_range, values)\n",
    "    #star_branching = get_star_branching(istar_min, istar_max, inc_srange, values)\n",
    "    result['star branching'] = \"yes\" if star_branching else \"no\"    \n",
    "    [boi_start, boi_end] = get_boi(hit_start, hit_end, values, mir_type)                    \n",
    "    if(math.isnan(boi_start) or math.isnan(boi_end)):        \n",
    "        result['message'] = 'unfit BOI structure'\n",
    "        return pd.Series(result)    \n",
    "    boi_seq = ''.join(nucleotide[boi_start-1: boi_end].tolist())\n",
    "    result['boi start'] = boi_start\n",
    "    result['boi end'] =  boi_end\n",
    "    result['boi seq'] =  boi_seq    \n",
    "    result['boi name'] =  f'{chromosome}|{sign}|{start + boi_start}-{start + boi_end}|{hit_start - boi_start + 2}-{hit_end - boi_start + 1}'\n",
    "    boi_gc = get_gc_content(boi_seq)\n",
    "    result['boi GC content'] =  boi_gc\n",
    "    result['full seq visualization'] = visualization(nucleotide, index, values, hit_start, hit_end, boi_start,  boi_end, star_start_real, star_end_real)\n",
    "    terminal_structure_range = get_terminal_structure_range(hit_start, hit_end, istar_min, istar_max, mir_type)\n",
    "    [_n, _i, _v] = get_trim_data(nucleotide, index, values, boi_start, boi_end)\n",
    "    boi_dotbracket = get_ct2dot_bracket(_n, _i, _v)    \n",
    "    result['boi dotbracket'] = boi_dotbracket.split(\"%5Cn\")[1]\n",
    "    if(energy_calc_method == \"Vienna\" or energy_calc_method ==\"UNAFold\"):\n",
    "        if(energy_calc_method == \"Vienna\"):\n",
    "            boi_dg = get_dg_by_vienna(boi_dotbracket)\n",
    "            result['boi delta G'] = boi_dg\n",
    "        if(energy_calc_method ==\"UNAFold\"):\n",
    "            boi_dg = get_dg_by_unafold(_n, _i, _v)\n",
    "            result['boi delta G'] = boi_dg\n",
    "        result['boi AMFE'] = get_AMFE(boi_dg, boi_seq)\n",
    "        result['boi MFEI'] = get_MFEI(boi_dg, boi_gc, boi_seq)\n",
    "        result['boi visualization'] = visualization(_n, _i, _v, hit_start - (boi_start - 1), hit_end - (boi_start - 1), 1,  boi_end - (boi_start - 1), star_start_real- (boi_start - 1), star_end_real- (boi_start - 1))\n",
    "    [s, e, zero] = get_precursor_seq(hit_start, hit_end,istar_min, istar_max, star_start_real, star_end_real, mir_type)    \n",
    "    [_n, _i, _v] = get_trim_data(nucleotide, index, values, s, e)      \n",
    "    _v[_v > (e - s + 1)] = 0    \n",
    "    precursor_dotbracket = get_ct2dot_bracket(_n, _i, _v)    \n",
    "    precursor_gc = get_gc_content(\"\".join(_n))\n",
    "    result['precursor gc content'] = precursor_gc\n",
    "    result['precursor dotbracket'] = precursor_dotbracket.split(\"%5Cn\")[1]\n",
    "    if(energy_calc_method == \"Vienna\" or energy_calc_method ==\"UNAFold\"):        \n",
    "        if(energy_calc_method == \"Vienna\"):\n",
    "            precursor_dg = get_dg_by_vienna(precursor_dotbracket)\n",
    "            result['precursor delta G'] = precursor_dg\n",
    "        if(energy_calc_method == \"UNAFold\"):\n",
    "            precursor_dg = get_dg_by_unafold(_n, _i, _v)\n",
    "            result['precursor delta G'] = precursor_dg\n",
    "        if(precursor_dg != None or True):\n",
    "            result['precursor AMFE'] = get_AMFE(precursor_dg, _n)\n",
    "            result['precursor MFEI'] = get_MFEI(precursor_dg, precursor_gc, _n)\n",
    "        else:\n",
    "            result['precursor AMFE'] = \"\"\n",
    "            result['precursor MFEI'] = \"\"            \n",
    "    precursor_array = [hit_start+1,hit_end, star_start_real, star_end_real]\n",
    "    precursor_start = min(precursor_array)\n",
    "    precursor_end = max(precursor_array)\n",
    "    result['precursor name'] =  f'{chromosome}|{sign}|{start + precursor_start}-{start + precursor_end}|{hit_start - precursor_start + 2}-{hit_end - precursor_start + 1}'\n",
    "    result['precursor seq'] = ''.join(_n)\n",
    "    result['precursor seq visualization'] = visualization(_n, _i, _v, hit_start - (s - 1), hit_end - (s - 1), 1,  e - (s - 1), star_start_real- (s - 1), star_end_real- (s - 1))\n",
    "    result['terminal structure range'] = [i+1 for i in [terminal_structure_range[0], terminal_structure_range[-1]]]                            \n",
    "    if(len(terminal_structure_range) == 0):        \n",
    "        result['number of terminal structures'] = \"no residues between miR and miR*\"         \n",
    "    else:                \n",
    "        number_of_terminal_structure = get_number_of_terminal_structure(values, terminal_structure_range)        \n",
    "        if(number_of_terminal_structure == 0):\n",
    "            result['number of terminal structures'] = 0                    \n",
    "            #[branch_start_point, branch_end_point] = [[terminal_structure_range[0]+1], [terminal_structure_range[-1]+1]]\n",
    "            [branch_start_point, branch_end_point] = [[], []]   \n",
    "            stem_last_residue = []\n",
    "        elif(number_of_terminal_structure == 1):\n",
    "            result['number of terminal structures'] = 1        \n",
    "            [branch_start_point, branch_end_point] = [[terminal_structure_range[0]+1], [terminal_structure_range[-1]+1]]            \n",
    "            stem_last_residue = []\n",
    "        else:\n",
    "            result['number of terminal structures'] = number_of_terminal_structure\n",
    "            [branch_start_point, branch_end_point]  = get_branch_star_end_point(values, terminal_structure_range)         \n",
    "        if(number_of_terminal_structure != 0):\n",
    "            #[branch_apical_loop_start, branch_apical_loop_end, branch_apical_loop_size] = [[branch_start_point[0]], [branch_end_point[0]], [abs(branch_end_point[0] - branch_start_point[0]) + 1]]                    \n",
    "            [branch_apical_loop_start, branch_apical_loop_end, branch_apical_loop_size] = get_branch_apical_loop_size(branch_start_point, branch_end_point, values)\n",
    "            stem_last_residue = get_stem_last_residue(branch_apical_loop_start,branch_apical_loop_end, mir_type)\n",
    "            branch_stem_length = get_branch_stem_length(branch_start_point, branch_apical_loop_start)                        \n",
    "        for i in range(acceptable_terminal_structures):\n",
    "            if(i < len(branch_start_point)):\n",
    "                result[f'branch#{i + 1} start point'] = branch_start_point[i]\n",
    "                result[f'branch#{i + 1} end point'] = branch_end_point[i]\n",
    "                result[f'branch#{i + 1} total length'] = abs(branch_end_point[i] - branch_start_point[i]) + 1                                                \n",
    "                result[f'branch#{i + 1} apical loop start'] = branch_apical_loop_start[i]\n",
    "                result[f'branch#{i + 1} apical loop end'] = branch_apical_loop_end[i]\n",
    "                result[f'branch#{i + 1} apical loop size'] = branch_apical_loop_size[i]                    \n",
    "                if(number_of_terminal_structure == 1):\n",
    "                    result[f'branch#{i + 1} stem last residue'] = stem_last_residue[i]\n",
    "                else:\n",
    "                    result[f'branch#{i + 1} stem last residue'] = \"\"\n",
    "                result[f'branch#{i + 1} stem length'] = branch_stem_length[i]                \n",
    "            else:\n",
    "                result[f'branch#{i + 1} start point'] = \"\"\n",
    "                result[f'branch#{i + 1} end point'] = \"\"            \n",
    "                result[f'branch#{i + 1} total length'] = \"\"\n",
    "                result[f'branch#{i + 1} apical loop start'] = \"\"\n",
    "                result[f'branch#{i + 1} apical loop end'] = \"\"\n",
    "                result[f'branch#{i + 1} apical loop size'] = \"\"\n",
    "                result[f'branch#{i + 1} stem last residue'] = \"\"\n",
    "                result[f'branch#{i + 1} stem length']  = \"\"           \n",
    "        \n",
    "        \n",
    "        primary_stem_end_point = get_primary_stem_end_point(branch_start_point, branch_end_point, stem_last_residue, hit_start, hit_end, istar_min, istar_max, values, number_of_terminal_structure, mir_type)\n",
    "        if(not np.isnan(primary_stem_end_point)):\n",
    "            primary_stem_end_point_star = values[primary_stem_end_point-1]\n",
    "            result['psep'] = primary_stem_end_point\n",
    "            result['psep*'] = primary_stem_end_point_star\n",
    "            if(number_of_terminal_structure == 0):\n",
    "                result[f'branch#{1} apical loop start'] = min(primary_stem_end_point, primary_stem_end_point_star)\n",
    "                result[f'branch#{1} apical loop end'] = max(primary_stem_end_point, primary_stem_end_point_star)\n",
    "                result[f'branch#{1} apical loop size'] = abs(primary_stem_end_point - primary_stem_end_point_star) - 1 \n",
    "                result[f'branch#{1} stem length']  = 0       \n",
    "            primary_stem_length = get_primary_stem_length(primary_stem_end_point, branch_start_point, branch_end_point, stem_last_residue, hit_start, hit_end, values, number_of_terminal_structure, mir_type)\n",
    "            result['primary stem length'] = primary_stem_length                            \n",
    "            \n",
    "            domain = get_domain(primary_stem_end_point, boi_start, boi_end, stem_last_residue, hit_start, hit_end, mir_type)\n",
    "            result['domain'] = [domain[0]+1, domain[-1]+1]\n",
    "            domain_star = get_domain_star(primary_stem_end_point_star, boi_start, boi_end, stem_last_residue, hit_start, hit_end, mir_type)\n",
    "            result['domain*'] = [domain_star[0] + 1, domain_star[-1] + 1]\n",
    "            interfering_structures_domain = get_interfering_structures(domain, values)\n",
    "            result['domain interfering structures'] = \"yes\" if interfering_structures_domain else \"no\"\n",
    "            \n",
    "            interfering_structures_domain_star = get_interfering_structures(domain_star, values)\n",
    "            result['domain* interfering structures'] = \"yes\" if interfering_structures_domain_star else \"no\"\n",
    "                        \n",
    "            [mismatch, mismatch_size, mis_loc_type, mis_start, mis_end] = get_mismatch(domain, values,MCMA, hit_start, hit_end, mir_type)            \n",
    "            result['mismatch'] = mismatch\n",
    "            result['mismatch size'] = mismatch_size\n",
    "            result['mismatch type'] = mis_loc_type\n",
    "            result['mismatch start'] = mis_start\n",
    "            result['mismatch end'] = mis_end\n",
    "            [bulge, bulge_size, bulge_loc_type, bulge_start, bulge_end,bulge_type] = get_bulge(domain, values, hit_start, hit_end, mir_type)\n",
    "            result['bulge'] = bulge\n",
    "            result['bulge size'] = bulge_size\n",
    "            result['bulge type'] = bulge_loc_type\n",
    "            result['bulge start'] = bulge_start\n",
    "            result['bulge end'] = bulge_end\n",
    "            [internal_loop, size_HSBL, size_SSBL, intr_loc_type, intr_start, intr_end] = get_internal_loop(domain, values, MCMA, hit_start, hit_end, mir_type)\n",
    "            result['internal loop'] = internal_loop\n",
    "            result['internal loop HSBL'] = size_HSBL\n",
    "            result['internal loop SSBL'] = size_SSBL\n",
    "            if(size_SSBL != None):\n",
    "                result['internal loop total size'] = [size_SSBL[i] + size_HSBL[i] for i in range(len(size_SSBL))]\n",
    "            else:\n",
    "                result['internal loop total size'] = '-'\n",
    "            result['internal type'] = intr_loc_type\n",
    "            result['internal start'] = intr_start\n",
    "            result['internal end'] = intr_end\n",
    "            [proximal, proximal_hr, proximal_counter] = get_distance_info(\"loop proximal\",\"proximal border line\", mis_loc_type,mismatch_size, mis_start, bulge_size, bulge_loc_type, bulge_start,bulge_end, bulge_type,internal_loop,size_HSBL,size_SSBL,intr_loc_type,intr_start,intr_end,mir_type)\n",
    "            result['proximal distance'] = proximal_hr\n",
    "            [distal, distal_hr, distal_counter] = get_distance_info(\"loop distal\",\"distal border line\", mis_loc_type,mismatch_size, mis_start, bulge_size, bulge_loc_type, bulge_start,bulge_end, bulge_type,internal_loop,size_HSBL,size_SSBL,intr_loc_type,intr_start,intr_end, mir_type)\n",
    "            result['distal distance'] = distal_hr\n",
    "            boi_dist = get_boi_dist(boi_start, boi_end, hit_start, hit_end, mir_type, distal_counter)\n",
    "            result['base structure corrected length'] = boi_dist\n",
    "            psep_dist = get_psep_dist(primary_stem_end_point, mir_type, hit_start, hit_end, proximal_counter)\n",
    "            result['primary stem corrected length'] = psep_dist  \n",
    "            result['proximal closest to 15'] = closestto(proximal,15) \n",
    "            result['proximal closest to 17'] = closestto(proximal,17) \n",
    "            result['proximal closest to 21'] = closestto(proximal,21) \n",
    "            result['proximal closest to 36'] = closestto(proximal,36)\n",
    "            result['distal closest to 15'] = closestto(distal,15)\n",
    "            result['distal closest to 17'] = closestto(distal,17)\n",
    "            result['distal closest to 21'] = closestto(distal,21)\n",
    "            result['distal closest to 36'] = closestto(distal,36)\n",
    "            result['Loop distal junction distance'] = get_junction_distance(distal, boi_dist, effective_bulge_size_in_Hit_vicinity_regions, effective_internal_loop_size_in_Hit_vicinity_regions)            \n",
    "            result['Loop proximal junction distance'] = get_junction_distance(proximal, psep_dist, effective_bulge_size_in_Hit_vicinity_regions, effective_internal_loop_size_in_Hit_vicinity_regions)            \n",
    "        else:\n",
    "            result['message'] = \"immediate branching\"                        \n",
    "    return pd.Series(result)"
   ]
  },
  {
   "cell_type": "code",
   "execution_count": 56,
   "metadata": {
    "ExecuteTime": {
     "end_time": "2022-05-04T14:56:31.957634Z",
     "start_time": "2022-05-04T14:56:31.952959Z"
    },
    "hidden": true
   },
   "outputs": [],
   "source": [
    "def run(tag, path, extra):        \n",
    "    return get_row(tag, path, extra)\n",
    "    try:\n",
    "        return get_row(tag, path,extra)\n",
    "    except Exception as e:\n",
    "        print(str(e), tag)        \n",
    "        return pd.Series()        "
   ]
  },
  {
   "cell_type": "markdown",
   "metadata": {},
   "source": [
    "# Apply on current data"
   ]
  },
  {
   "cell_type": "code",
   "execution_count": 57,
   "metadata": {
    "ExecuteTime": {
     "end_time": "2022-05-04T14:56:33.626749Z",
     "start_time": "2022-05-04T14:56:33.588412Z"
    }
   },
   "outputs": [],
   "source": [
    "base = \"./CT_not_high_viridi\"\n",
    "cts = glob.glob(f'{base}/*.ct')        "
   ]
  },
  {
   "cell_type": "code",
   "execution_count": 58,
   "metadata": {
    "ExecuteTime": {
     "end_time": "2022-05-04T14:56:35.302627Z",
     "start_time": "2022-05-04T14:56:35.298483Z"
    }
   },
   "outputs": [],
   "source": [
    "def get_df_by_path(path , extra=0):           \n",
    "    tag = path[(len(\"./CT_not_high_viridi/\")):-3]    \n",
    "    return run(tag, path, extra)"
   ]
  },
  {
   "cell_type": "code",
   "execution_count": 59,
   "metadata": {
    "ExecuteTime": {
     "end_time": "2022-05-04T14:57:33.527024Z",
     "start_time": "2022-05-04T14:56:35.944059Z"
    }
   },
   "outputs": [
    {
     "name": "stderr",
     "output_type": "stream",
     "text": [
      "<ipython-input-44-e393034aaa3f>:2: DeprecationWarning: The default dtype for empty Series will be 'object' instead of 'float64' in a future version. Specify a dtype explicitly to silence this warning.\n",
      "  freq = pd.Series([c.lower() for c in seq]).value_counts()\n",
      "<ipython-input-44-e393034aaa3f>:6: RuntimeWarning: invalid value encountered in long_scalars\n",
      "  return round((freq['c'] + freq['g'] + freq['s']) / len(seq),2) * 100\n"
     ]
    },
    {
     "data": {
      "application/vnd.jupyter.widget-view+json": {
       "model_id": "3c214916eec043828e5be6e3bfe09183",
       "version_major": 2,
       "version_minor": 0
      },
      "text/plain": [
       "  0%|          | 0/10078 [00:00<?, ?it/s]"
      ]
     },
     "metadata": {},
     "output_type": "display_data"
    },
    {
     "name": "stderr",
     "output_type": "stream",
     "text": [
      "<ipython-input-44-e393034aaa3f>:2: DeprecationWarning: The default dtype for empty Series will be 'object' instead of 'float64' in a future version. Specify a dtype explicitly to silence this warning.\n",
      "  freq = pd.Series([c.lower() for c in seq]).value_counts()\n",
      "<ipython-input-44-e393034aaa3f>:2: DeprecationWarning: The default dtype for empty Series will be 'object' instead of 'float64' in a future version. Specify a dtype explicitly to silence this warning.\n",
      "  freq = pd.Series([c.lower() for c in seq]).value_counts()\n",
      "<ipython-input-44-e393034aaa3f>:6: RuntimeWarning: invalid value encountered in long_scalars\n",
      "  return round((freq['c'] + freq['g'] + freq['s']) / len(seq),2) * 100\n",
      "<ipython-input-44-e393034aaa3f>:6: RuntimeWarning: invalid value encountered in long_scalars\n",
      "  return round((freq['c'] + freq['g'] + freq['s']) / len(seq),2) * 100\n",
      "<ipython-input-44-e393034aaa3f>:2: DeprecationWarning: The default dtype for empty Series will be 'object' instead of 'float64' in a future version. Specify a dtype explicitly to silence this warning.\n",
      "  freq = pd.Series([c.lower() for c in seq]).value_counts()\n",
      "<ipython-input-44-e393034aaa3f>:6: RuntimeWarning: invalid value encountered in long_scalars\n",
      "  return round((freq['c'] + freq['g'] + freq['s']) / len(seq),2) * 100\n",
      "<ipython-input-44-e393034aaa3f>:2: DeprecationWarning: The default dtype for empty Series will be 'object' instead of 'float64' in a future version. Specify a dtype explicitly to silence this warning.\n",
      "  freq = pd.Series([c.lower() for c in seq]).value_counts()\n",
      "<ipython-input-44-e393034aaa3f>:6: RuntimeWarning: invalid value encountered in long_scalars\n",
      "  return round((freq['c'] + freq['g'] + freq['s']) / len(seq),2) * 100\n",
      "<ipython-input-44-e393034aaa3f>:2: DeprecationWarning: The default dtype for empty Series will be 'object' instead of 'float64' in a future version. Specify a dtype explicitly to silence this warning.\n",
      "  freq = pd.Series([c.lower() for c in seq]).value_counts()\n",
      "<ipython-input-44-e393034aaa3f>:6: RuntimeWarning: invalid value encountered in long_scalars\n",
      "  return round((freq['c'] + freq['g'] + freq['s']) / len(seq),2) * 100\n",
      "<ipython-input-44-e393034aaa3f>:2: DeprecationWarning: The default dtype for empty Series will be 'object' instead of 'float64' in a future version. Specify a dtype explicitly to silence this warning.\n",
      "  freq = pd.Series([c.lower() for c in seq]).value_counts()\n",
      "<ipython-input-44-e393034aaa3f>:6: RuntimeWarning: invalid value encountered in long_scalars\n",
      "  return round((freq['c'] + freq['g'] + freq['s']) / len(seq),2) * 100\n",
      "<ipython-input-44-e393034aaa3f>:2: DeprecationWarning: The default dtype for empty Series will be 'object' instead of 'float64' in a future version. Specify a dtype explicitly to silence this warning.\n",
      "  freq = pd.Series([c.lower() for c in seq]).value_counts()\n",
      "<ipython-input-44-e393034aaa3f>:6: RuntimeWarning: invalid value encountered in long_scalars\n",
      "  return round((freq['c'] + freq['g'] + freq['s']) / len(seq),2) * 100\n",
      "<ipython-input-44-e393034aaa3f>:2: DeprecationWarning: The default dtype for empty Series will be 'object' instead of 'float64' in a future version. Specify a dtype explicitly to silence this warning.\n",
      "  freq = pd.Series([c.lower() for c in seq]).value_counts()\n",
      "<ipython-input-44-e393034aaa3f>:6: RuntimeWarning: invalid value encountered in long_scalars\n",
      "  return round((freq['c'] + freq['g'] + freq['s']) / len(seq),2) * 100\n",
      "<ipython-input-44-e393034aaa3f>:2: DeprecationWarning: The default dtype for empty Series will be 'object' instead of 'float64' in a future version. Specify a dtype explicitly to silence this warning.\n",
      "  freq = pd.Series([c.lower() for c in seq]).value_counts()\n",
      "<ipython-input-44-e393034aaa3f>:6: RuntimeWarning: invalid value encountered in long_scalars\n",
      "  return round((freq['c'] + freq['g'] + freq['s']) / len(seq),2) * 100\n",
      "<ipython-input-44-e393034aaa3f>:2: DeprecationWarning: The default dtype for empty Series will be 'object' instead of 'float64' in a future version. Specify a dtype explicitly to silence this warning.\n",
      "  freq = pd.Series([c.lower() for c in seq]).value_counts()\n",
      "<ipython-input-44-e393034aaa3f>:6: RuntimeWarning: invalid value encountered in long_scalars\n",
      "  return round((freq['c'] + freq['g'] + freq['s']) / len(seq),2) * 100\n",
      "<ipython-input-44-e393034aaa3f>:2: DeprecationWarning: The default dtype for empty Series will be 'object' instead of 'float64' in a future version. Specify a dtype explicitly to silence this warning.\n",
      "  freq = pd.Series([c.lower() for c in seq]).value_counts()\n",
      "<ipython-input-44-e393034aaa3f>:6: RuntimeWarning: invalid value encountered in long_scalars\n",
      "  return round((freq['c'] + freq['g'] + freq['s']) / len(seq),2) * 100\n",
      "<ipython-input-44-e393034aaa3f>:2: DeprecationWarning: The default dtype for empty Series will be 'object' instead of 'float64' in a future version. Specify a dtype explicitly to silence this warning.\n",
      "  freq = pd.Series([c.lower() for c in seq]).value_counts()\n",
      "<ipython-input-44-e393034aaa3f>:6: RuntimeWarning: invalid value encountered in long_scalars\n",
      "  return round((freq['c'] + freq['g'] + freq['s']) / len(seq),2) * 100\n",
      "<ipython-input-44-e393034aaa3f>:2: DeprecationWarning: The default dtype for empty Series will be 'object' instead of 'float64' in a future version. Specify a dtype explicitly to silence this warning.\n",
      "  freq = pd.Series([c.lower() for c in seq]).value_counts()\n",
      "<ipython-input-44-e393034aaa3f>:6: RuntimeWarning: invalid value encountered in long_scalars\n",
      "  return round((freq['c'] + freq['g'] + freq['s']) / len(seq),2) * 100\n",
      "<ipython-input-44-e393034aaa3f>:2: DeprecationWarning: The default dtype for empty Series will be 'object' instead of 'float64' in a future version. Specify a dtype explicitly to silence this warning.\n",
      "  freq = pd.Series([c.lower() for c in seq]).value_counts()\n",
      "<ipython-input-44-e393034aaa3f>:6: RuntimeWarning: invalid value encountered in long_scalars\n",
      "  return round((freq['c'] + freq['g'] + freq['s']) / len(seq),2) * 100\n",
      "<ipython-input-44-e393034aaa3f>:2: DeprecationWarning: The default dtype for empty Series will be 'object' instead of 'float64' in a future version. Specify a dtype explicitly to silence this warning.\n",
      "  freq = pd.Series([c.lower() for c in seq]).value_counts()\n",
      "<ipython-input-44-e393034aaa3f>:6: RuntimeWarning: invalid value encountered in long_scalars\n",
      "  return round((freq['c'] + freq['g'] + freq['s']) / len(seq),2) * 100\n",
      "<ipython-input-44-e393034aaa3f>:2: DeprecationWarning: The default dtype for empty Series will be 'object' instead of 'float64' in a future version. Specify a dtype explicitly to silence this warning.\n",
      "  freq = pd.Series([c.lower() for c in seq]).value_counts()\n",
      "<ipython-input-44-e393034aaa3f>:6: RuntimeWarning: invalid value encountered in long_scalars\n",
      "  return round((freq['c'] + freq['g'] + freq['s']) / len(seq),2) * 100\n",
      "<ipython-input-44-e393034aaa3f>:2: DeprecationWarning: The default dtype for empty Series will be 'object' instead of 'float64' in a future version. Specify a dtype explicitly to silence this warning.\n",
      "  freq = pd.Series([c.lower() for c in seq]).value_counts()\n",
      "<ipython-input-44-e393034aaa3f>:6: RuntimeWarning: invalid value encountered in long_scalars\n",
      "  return round((freq['c'] + freq['g'] + freq['s']) / len(seq),2) * 100\n",
      "<ipython-input-44-e393034aaa3f>:2: DeprecationWarning: The default dtype for empty Series will be 'object' instead of 'float64' in a future version. Specify a dtype explicitly to silence this warning.\n",
      "  freq = pd.Series([c.lower() for c in seq]).value_counts()\n",
      "<ipython-input-44-e393034aaa3f>:6: RuntimeWarning: invalid value encountered in long_scalars\n",
      "  return round((freq['c'] + freq['g'] + freq['s']) / len(seq),2) * 100\n",
      "<ipython-input-44-e393034aaa3f>:2: DeprecationWarning: The default dtype for empty Series will be 'object' instead of 'float64' in a future version. Specify a dtype explicitly to silence this warning.\n",
      "  freq = pd.Series([c.lower() for c in seq]).value_counts()\n",
      "<ipython-input-44-e393034aaa3f>:6: RuntimeWarning: invalid value encountered in long_scalars\n",
      "  return round((freq['c'] + freq['g'] + freq['s']) / len(seq),2) * 100\n",
      "<ipython-input-44-e393034aaa3f>:2: DeprecationWarning: The default dtype for empty Series will be 'object' instead of 'float64' in a future version. Specify a dtype explicitly to silence this warning.\n",
      "  freq = pd.Series([c.lower() for c in seq]).value_counts()\n"
     ]
    },
    {
     "name": "stderr",
     "output_type": "stream",
     "text": [
      "<ipython-input-44-e393034aaa3f>:6: RuntimeWarning: invalid value encountered in long_scalars\n",
      "  return round((freq['c'] + freq['g'] + freq['s']) / len(seq),2) * 100\n",
      "<ipython-input-44-e393034aaa3f>:2: DeprecationWarning: The default dtype for empty Series will be 'object' instead of 'float64' in a future version. Specify a dtype explicitly to silence this warning.\n",
      "  freq = pd.Series([c.lower() for c in seq]).value_counts()\n",
      "<ipython-input-44-e393034aaa3f>:6: RuntimeWarning: invalid value encountered in long_scalars\n",
      "  return round((freq['c'] + freq['g'] + freq['s']) / len(seq),2) * 100\n",
      "<ipython-input-44-e393034aaa3f>:2: DeprecationWarning: The default dtype for empty Series will be 'object' instead of 'float64' in a future version. Specify a dtype explicitly to silence this warning.\n",
      "  freq = pd.Series([c.lower() for c in seq]).value_counts()\n",
      "<ipython-input-44-e393034aaa3f>:6: RuntimeWarning: invalid value encountered in long_scalars\n",
      "  return round((freq['c'] + freq['g'] + freq['s']) / len(seq),2) * 100\n",
      "<ipython-input-44-e393034aaa3f>:2: DeprecationWarning: The default dtype for empty Series will be 'object' instead of 'float64' in a future version. Specify a dtype explicitly to silence this warning.\n",
      "  freq = pd.Series([c.lower() for c in seq]).value_counts()\n",
      "<ipython-input-44-e393034aaa3f>:6: RuntimeWarning: invalid value encountered in long_scalars\n",
      "  return round((freq['c'] + freq['g'] + freq['s']) / len(seq),2) * 100\n",
      "<ipython-input-44-e393034aaa3f>:2: DeprecationWarning: The default dtype for empty Series will be 'object' instead of 'float64' in a future version. Specify a dtype explicitly to silence this warning.\n",
      "  freq = pd.Series([c.lower() for c in seq]).value_counts()\n",
      "<ipython-input-44-e393034aaa3f>:6: RuntimeWarning: invalid value encountered in long_scalars\n",
      "  return round((freq['c'] + freq['g'] + freq['s']) / len(seq),2) * 100\n",
      "<ipython-input-44-e393034aaa3f>:2: DeprecationWarning: The default dtype for empty Series will be 'object' instead of 'float64' in a future version. Specify a dtype explicitly to silence this warning.\n",
      "  freq = pd.Series([c.lower() for c in seq]).value_counts()\n",
      "<ipython-input-44-e393034aaa3f>:6: RuntimeWarning: invalid value encountered in long_scalars\n",
      "  return round((freq['c'] + freq['g'] + freq['s']) / len(seq),2) * 100\n",
      "<ipython-input-44-e393034aaa3f>:2: DeprecationWarning: The default dtype for empty Series will be 'object' instead of 'float64' in a future version. Specify a dtype explicitly to silence this warning.\n",
      "  freq = pd.Series([c.lower() for c in seq]).value_counts()\n",
      "<ipython-input-44-e393034aaa3f>:6: RuntimeWarning: invalid value encountered in long_scalars\n",
      "  return round((freq['c'] + freq['g'] + freq['s']) / len(seq),2) * 100\n",
      "<ipython-input-44-e393034aaa3f>:2: DeprecationWarning: The default dtype for empty Series will be 'object' instead of 'float64' in a future version. Specify a dtype explicitly to silence this warning.\n",
      "  freq = pd.Series([c.lower() for c in seq]).value_counts()\n",
      "<ipython-input-44-e393034aaa3f>:6: RuntimeWarning: invalid value encountered in long_scalars\n",
      "  return round((freq['c'] + freq['g'] + freq['s']) / len(seq),2) * 100\n",
      "<ipython-input-44-e393034aaa3f>:2: DeprecationWarning: The default dtype for empty Series will be 'object' instead of 'float64' in a future version. Specify a dtype explicitly to silence this warning.\n",
      "  freq = pd.Series([c.lower() for c in seq]).value_counts()\n",
      "<ipython-input-44-e393034aaa3f>:6: RuntimeWarning: invalid value encountered in long_scalars\n",
      "  return round((freq['c'] + freq['g'] + freq['s']) / len(seq),2) * 100\n",
      "<ipython-input-44-e393034aaa3f>:2: DeprecationWarning: The default dtype for empty Series will be 'object' instead of 'float64' in a future version. Specify a dtype explicitly to silence this warning.\n",
      "  freq = pd.Series([c.lower() for c in seq]).value_counts()\n",
      "<ipython-input-44-e393034aaa3f>:6: RuntimeWarning: invalid value encountered in long_scalars\n",
      "  return round((freq['c'] + freq['g'] + freq['s']) / len(seq),2) * 100\n",
      "<ipython-input-44-e393034aaa3f>:2: DeprecationWarning: The default dtype for empty Series will be 'object' instead of 'float64' in a future version. Specify a dtype explicitly to silence this warning.\n",
      "  freq = pd.Series([c.lower() for c in seq]).value_counts()\n",
      "<ipython-input-44-e393034aaa3f>:6: RuntimeWarning: invalid value encountered in long_scalars\n",
      "  return round((freq['c'] + freq['g'] + freq['s']) / len(seq),2) * 100\n",
      "<ipython-input-44-e393034aaa3f>:2: DeprecationWarning: The default dtype for empty Series will be 'object' instead of 'float64' in a future version. Specify a dtype explicitly to silence this warning.\n",
      "  freq = pd.Series([c.lower() for c in seq]).value_counts()\n",
      "<ipython-input-44-e393034aaa3f>:6: RuntimeWarning: invalid value encountered in long_scalars\n",
      "  return round((freq['c'] + freq['g'] + freq['s']) / len(seq),2) * 100\n",
      "<ipython-input-44-e393034aaa3f>:2: DeprecationWarning: The default dtype for empty Series will be 'object' instead of 'float64' in a future version. Specify a dtype explicitly to silence this warning.\n",
      "  freq = pd.Series([c.lower() for c in seq]).value_counts()\n",
      "<ipython-input-44-e393034aaa3f>:6: RuntimeWarning: invalid value encountered in long_scalars\n",
      "  return round((freq['c'] + freq['g'] + freq['s']) / len(seq),2) * 100\n",
      "<ipython-input-44-e393034aaa3f>:2: DeprecationWarning: The default dtype for empty Series will be 'object' instead of 'float64' in a future version. Specify a dtype explicitly to silence this warning.\n",
      "  freq = pd.Series([c.lower() for c in seq]).value_counts()\n",
      "<ipython-input-44-e393034aaa3f>:6: RuntimeWarning: invalid value encountered in long_scalars\n",
      "  return round((freq['c'] + freq['g'] + freq['s']) / len(seq),2) * 100\n",
      "<ipython-input-44-e393034aaa3f>:2: DeprecationWarning: The default dtype for empty Series will be 'object' instead of 'float64' in a future version. Specify a dtype explicitly to silence this warning.\n",
      "  freq = pd.Series([c.lower() for c in seq]).value_counts()\n",
      "<ipython-input-44-e393034aaa3f>:6: RuntimeWarning: invalid value encountered in long_scalars\n",
      "  return round((freq['c'] + freq['g'] + freq['s']) / len(seq),2) * 100\n",
      "<ipython-input-44-e393034aaa3f>:2: DeprecationWarning: The default dtype for empty Series will be 'object' instead of 'float64' in a future version. Specify a dtype explicitly to silence this warning.\n",
      "  freq = pd.Series([c.lower() for c in seq]).value_counts()\n",
      "<ipython-input-44-e393034aaa3f>:6: RuntimeWarning: invalid value encountered in long_scalars\n",
      "  return round((freq['c'] + freq['g'] + freq['s']) / len(seq),2) * 100\n",
      "<ipython-input-44-e393034aaa3f>:2: DeprecationWarning: The default dtype for empty Series will be 'object' instead of 'float64' in a future version. Specify a dtype explicitly to silence this warning.\n",
      "  freq = pd.Series([c.lower() for c in seq]).value_counts()\n",
      "<ipython-input-44-e393034aaa3f>:6: RuntimeWarning: invalid value encountered in long_scalars\n",
      "  return round((freq['c'] + freq['g'] + freq['s']) / len(seq),2) * 100\n",
      "<ipython-input-44-e393034aaa3f>:2: DeprecationWarning: The default dtype for empty Series will be 'object' instead of 'float64' in a future version. Specify a dtype explicitly to silence this warning.\n",
      "  freq = pd.Series([c.lower() for c in seq]).value_counts()\n",
      "<ipython-input-44-e393034aaa3f>:6: RuntimeWarning: invalid value encountered in long_scalars\n",
      "  return round((freq['c'] + freq['g'] + freq['s']) / len(seq),2) * 100\n",
      "<ipython-input-44-e393034aaa3f>:2: DeprecationWarning: The default dtype for empty Series will be 'object' instead of 'float64' in a future version. Specify a dtype explicitly to silence this warning.\n",
      "  freq = pd.Series([c.lower() for c in seq]).value_counts()\n",
      "<ipython-input-44-e393034aaa3f>:6: RuntimeWarning: invalid value encountered in long_scalars\n",
      "  return round((freq['c'] + freq['g'] + freq['s']) / len(seq),2) * 100\n",
      "<ipython-input-44-e393034aaa3f>:2: DeprecationWarning: The default dtype for empty Series will be 'object' instead of 'float64' in a future version. Specify a dtype explicitly to silence this warning.\n",
      "  freq = pd.Series([c.lower() for c in seq]).value_counts()\n",
      "<ipython-input-44-e393034aaa3f>:6: RuntimeWarning: invalid value encountered in long_scalars\n",
      "  return round((freq['c'] + freq['g'] + freq['s']) / len(seq),2) * 100\n"
     ]
    },
    {
     "name": "stderr",
     "output_type": "stream",
     "text": [
      "<ipython-input-44-e393034aaa3f>:2: DeprecationWarning: The default dtype for empty Series will be 'object' instead of 'float64' in a future version. Specify a dtype explicitly to silence this warning.\n",
      "  freq = pd.Series([c.lower() for c in seq]).value_counts()\n",
      "<ipython-input-44-e393034aaa3f>:6: RuntimeWarning: invalid value encountered in long_scalars\n",
      "  return round((freq['c'] + freq['g'] + freq['s']) / len(seq),2) * 100\n",
      "<ipython-input-44-e393034aaa3f>:2: DeprecationWarning: The default dtype for empty Series will be 'object' instead of 'float64' in a future version. Specify a dtype explicitly to silence this warning.\n",
      "  freq = pd.Series([c.lower() for c in seq]).value_counts()\n",
      "<ipython-input-44-e393034aaa3f>:6: RuntimeWarning: invalid value encountered in long_scalars\n",
      "  return round((freq['c'] + freq['g'] + freq['s']) / len(seq),2) * 100\n",
      "<ipython-input-44-e393034aaa3f>:2: DeprecationWarning: The default dtype for empty Series will be 'object' instead of 'float64' in a future version. Specify a dtype explicitly to silence this warning.\n",
      "  freq = pd.Series([c.lower() for c in seq]).value_counts()\n",
      "<ipython-input-44-e393034aaa3f>:6: RuntimeWarning: invalid value encountered in long_scalars\n",
      "  return round((freq['c'] + freq['g'] + freq['s']) / len(seq),2) * 100\n",
      "<ipython-input-44-e393034aaa3f>:2: DeprecationWarning: The default dtype for empty Series will be 'object' instead of 'float64' in a future version. Specify a dtype explicitly to silence this warning.\n",
      "  freq = pd.Series([c.lower() for c in seq]).value_counts()\n",
      "<ipython-input-44-e393034aaa3f>:6: RuntimeWarning: invalid value encountered in long_scalars\n",
      "  return round((freq['c'] + freq['g'] + freq['s']) / len(seq),2) * 100\n",
      "<ipython-input-44-e393034aaa3f>:2: DeprecationWarning: The default dtype for empty Series will be 'object' instead of 'float64' in a future version. Specify a dtype explicitly to silence this warning.\n",
      "  freq = pd.Series([c.lower() for c in seq]).value_counts()\n",
      "<ipython-input-44-e393034aaa3f>:6: RuntimeWarning: invalid value encountered in long_scalars\n",
      "  return round((freq['c'] + freq['g'] + freq['s']) / len(seq),2) * 100\n",
      "<ipython-input-44-e393034aaa3f>:2: DeprecationWarning: The default dtype for empty Series will be 'object' instead of 'float64' in a future version. Specify a dtype explicitly to silence this warning.\n",
      "  freq = pd.Series([c.lower() for c in seq]).value_counts()\n",
      "<ipython-input-44-e393034aaa3f>:6: RuntimeWarning: invalid value encountered in long_scalars\n",
      "  return round((freq['c'] + freq['g'] + freq['s']) / len(seq),2) * 100\n",
      "<ipython-input-44-e393034aaa3f>:2: DeprecationWarning: The default dtype for empty Series will be 'object' instead of 'float64' in a future version. Specify a dtype explicitly to silence this warning.\n",
      "  freq = pd.Series([c.lower() for c in seq]).value_counts()\n",
      "<ipython-input-44-e393034aaa3f>:6: RuntimeWarning: invalid value encountered in long_scalars\n",
      "  return round((freq['c'] + freq['g'] + freq['s']) / len(seq),2) * 100\n",
      "<ipython-input-44-e393034aaa3f>:2: DeprecationWarning: The default dtype for empty Series will be 'object' instead of 'float64' in a future version. Specify a dtype explicitly to silence this warning.\n",
      "  freq = pd.Series([c.lower() for c in seq]).value_counts()\n",
      "<ipython-input-44-e393034aaa3f>:6: RuntimeWarning: invalid value encountered in long_scalars\n",
      "  return round((freq['c'] + freq['g'] + freq['s']) / len(seq),2) * 100\n",
      "<ipython-input-44-e393034aaa3f>:2: DeprecationWarning: The default dtype for empty Series will be 'object' instead of 'float64' in a future version. Specify a dtype explicitly to silence this warning.\n",
      "  freq = pd.Series([c.lower() for c in seq]).value_counts()\n",
      "<ipython-input-44-e393034aaa3f>:6: RuntimeWarning: invalid value encountered in long_scalars\n",
      "  return round((freq['c'] + freq['g'] + freq['s']) / len(seq),2) * 100\n",
      "<ipython-input-44-e393034aaa3f>:2: DeprecationWarning: The default dtype for empty Series will be 'object' instead of 'float64' in a future version. Specify a dtype explicitly to silence this warning.\n",
      "  freq = pd.Series([c.lower() for c in seq]).value_counts()\n",
      "<ipython-input-44-e393034aaa3f>:6: RuntimeWarning: invalid value encountered in long_scalars\n",
      "  return round((freq['c'] + freq['g'] + freq['s']) / len(seq),2) * 100\n",
      "<ipython-input-44-e393034aaa3f>:2: DeprecationWarning: The default dtype for empty Series will be 'object' instead of 'float64' in a future version. Specify a dtype explicitly to silence this warning.\n",
      "  freq = pd.Series([c.lower() for c in seq]).value_counts()\n",
      "<ipython-input-44-e393034aaa3f>:6: RuntimeWarning: invalid value encountered in long_scalars\n",
      "  return round((freq['c'] + freq['g'] + freq['s']) / len(seq),2) * 100\n",
      "<ipython-input-44-e393034aaa3f>:2: DeprecationWarning: The default dtype for empty Series will be 'object' instead of 'float64' in a future version. Specify a dtype explicitly to silence this warning.\n",
      "  freq = pd.Series([c.lower() for c in seq]).value_counts()\n",
      "<ipython-input-44-e393034aaa3f>:6: RuntimeWarning: invalid value encountered in long_scalars\n",
      "  return round((freq['c'] + freq['g'] + freq['s']) / len(seq),2) * 100\n",
      "<ipython-input-44-e393034aaa3f>:2: DeprecationWarning: The default dtype for empty Series will be 'object' instead of 'float64' in a future version. Specify a dtype explicitly to silence this warning.\n",
      "  freq = pd.Series([c.lower() for c in seq]).value_counts()\n",
      "<ipython-input-44-e393034aaa3f>:6: RuntimeWarning: invalid value encountered in long_scalars\n",
      "  return round((freq['c'] + freq['g'] + freq['s']) / len(seq),2) * 100\n",
      "<ipython-input-44-e393034aaa3f>:2: DeprecationWarning: The default dtype for empty Series will be 'object' instead of 'float64' in a future version. Specify a dtype explicitly to silence this warning.\n",
      "  freq = pd.Series([c.lower() for c in seq]).value_counts()\n",
      "<ipython-input-44-e393034aaa3f>:6: RuntimeWarning: invalid value encountered in long_scalars\n",
      "  return round((freq['c'] + freq['g'] + freq['s']) / len(seq),2) * 100\n",
      "<ipython-input-44-e393034aaa3f>:2: DeprecationWarning: The default dtype for empty Series will be 'object' instead of 'float64' in a future version. Specify a dtype explicitly to silence this warning.\n",
      "  freq = pd.Series([c.lower() for c in seq]).value_counts()\n",
      "<ipython-input-44-e393034aaa3f>:6: RuntimeWarning: invalid value encountered in long_scalars\n",
      "  return round((freq['c'] + freq['g'] + freq['s']) / len(seq),2) * 100\n",
      "<ipython-input-44-e393034aaa3f>:2: DeprecationWarning: The default dtype for empty Series will be 'object' instead of 'float64' in a future version. Specify a dtype explicitly to silence this warning.\n",
      "  freq = pd.Series([c.lower() for c in seq]).value_counts()\n",
      "<ipython-input-44-e393034aaa3f>:6: RuntimeWarning: invalid value encountered in long_scalars\n",
      "  return round((freq['c'] + freq['g'] + freq['s']) / len(seq),2) * 100\n",
      "<ipython-input-44-e393034aaa3f>:2: DeprecationWarning: The default dtype for empty Series will be 'object' instead of 'float64' in a future version. Specify a dtype explicitly to silence this warning.\n",
      "  freq = pd.Series([c.lower() for c in seq]).value_counts()\n",
      "<ipython-input-44-e393034aaa3f>:6: RuntimeWarning: invalid value encountered in long_scalars\n",
      "  return round((freq['c'] + freq['g'] + freq['s']) / len(seq),2) * 100\n"
     ]
    }
   ],
   "source": [
    "max_workers = mp.cpu_count() - 4\n",
    "\n",
    "dfs = []\n",
    "for row in process_map(get_df_by_path , cts, tqdm_class=tqdm, max_workers=max_workers, chunksize=5):\n",
    "    dfs.append(row)\n",
    "result = pd.DataFrame(dfs)\n",
    "result = result.replace(np.nan, '-').replace('', '-')            "
   ]
  },
  {
   "cell_type": "code",
   "execution_count": 60,
   "metadata": {
    "ExecuteTime": {
     "end_time": "2022-05-04T14:58:03.016352Z",
     "start_time": "2022-05-04T14:57:47.133208Z"
    }
   },
   "outputs": [],
   "source": [
    "def get_max_in_region(row, type_str, size_str, region):\n",
    "    out = 0\n",
    "    mismatch_type = row[type_str]    \n",
    "    for i in range(len(mismatch_type)):\n",
    "        if mismatch_type[i] == region:\n",
    "            if row[size_str][i] > out:\n",
    "                out = row[size_str][i]\n",
    "    return out\n",
    "\n",
    "def get_number_in_region(row, type_str, size_str, region):\n",
    "    counter = 0\n",
    "    mismatch_type = row[type_str]    \n",
    "    for i in range(len(mismatch_type)):\n",
    "        if mismatch_type[i] == region:\n",
    "            counter += 1            \n",
    "    return counter\n",
    "\n",
    "def get_sum_in_region(row, type_str, size_str, region):\n",
    "    out = 0\n",
    "    mismatch_type = row[type_str]    \n",
    "    for i in range(len(mismatch_type)):\n",
    "        if mismatch_type[i] == region:\n",
    "            out += row[size_str][i]            \n",
    "    return out\n",
    "\n",
    "for region in [\"loop distal\", \"hit region\", \"distal border line\", \"loop proximal\", \"proximal border line\"]:\n",
    "    result[f'max mismatch in {region}'] = result.apply(lambda row: get_max_in_region(row, \"mismatch type\", \"mismatch size\", region), axis=1)\n",
    "    result[f'number mismatch in {region}'] = result.apply(lambda row: get_number_in_region(row, \"mismatch type\", \"mismatch size\", region), axis=1)\n",
    "    result[f'sum mismatch in {region}'] = result.apply(lambda row: get_sum_in_region(row, \"mismatch type\", \"mismatch size\", region), axis=1)    \n",
    "    result[f'max bulge in {region}'] = result.apply(lambda row: get_max_in_region(row, \"bulge type\", \"bulge size\", region), axis=1)\n",
    "    result[f'number bulge in {region}'] = result.apply(lambda row: get_number_in_region(row, \"bulge type\", \"bulge size\", region), axis=1)\n",
    "    result[f'sum bulge in {region}'] = result.apply(lambda row: get_sum_in_region(row, \"bulge type\", \"bulge size\", region), axis=1)\n",
    "    result[f'max loop in {region}']= result.apply(lambda row: get_max_in_region(row, \"internal type\", \"internal loop total size\", region), axis=1)\n",
    "    result[f'number loop in {region}']= result.apply(lambda row: get_number_in_region(row, \"internal type\", \"internal loop total size\", region), axis=1)\n",
    "    result[f'sum loop in {region}']= result.apply(lambda row: get_sum_in_region(row, \"internal type\", \"internal loop total size\", region), axis=1)"
   ]
  },
  {
   "cell_type": "code",
   "execution_count": 61,
   "metadata": {
    "ExecuteTime": {
     "end_time": "2022-05-04T14:58:08.736388Z",
     "start_time": "2022-05-04T14:58:03.021050Z"
    }
   },
   "outputs": [],
   "source": [
    "def sum_of_size_in_hit(row, type_str, size_str):\n",
    "    _sum = 0\n",
    "    mismatch_type = row[type_str]\n",
    "    for i in range(len(mismatch_type)):\n",
    "        if mismatch_type[i] == \"hit region\":\n",
    "            _sum += row[size_str][i]\n",
    "    return _sum\n",
    "\n",
    "\n",
    "def number_of_residue(row):\n",
    "    hit_end = row['hit end']    \n",
    "    hit_start = row['hit start']\n",
    "    psep = row['psep']\n",
    "    if(psep == '-'):\n",
    "        return 0\n",
    "    mir_type = row['mir type']\n",
    "    if mir_type == '5p':\n",
    "        if psep < hit_end:\n",
    "            return hit_end - psep\n",
    "    if mir_type == '3p':\n",
    "        if psep > hit_start:\n",
    "            return psep - hit_start\n",
    "    return 0\n",
    "\n",
    "\n",
    "def sum_of_size_in_border_line(row, border_type, type_str, size_str, start, end):\n",
    "    _sum = 0\n",
    "    _size = row[size_str]\n",
    "    _start = row[start]\n",
    "    _end = row[end]\n",
    "    mir_type = row['mir type']\n",
    "    mismatch_type = row[type_str]\n",
    "    for i in range(len(mismatch_type)):\n",
    "        if mismatch_type[i] == border_type:\n",
    "            if border_type == \"distal border line\":\n",
    "                if mir_type  == '5p':\n",
    "                    _sum += _size[i] - _start[i]\n",
    "                if mir_type == '3p':\n",
    "                    _sum += _size[i] - _end[i]\n",
    "            if border_type == \"proximal border line\":\n",
    "                if mir_type == '5p':\n",
    "                    _sum += _size[i] - _end[i]\n",
    "                if mir_type == '3p':\n",
    "                    _sum += _size[i] - _start[i]\n",
    "    return _sum\n",
    "\n",
    "\n",
    "def check_involvement(row):\n",
    "    if(row['number of terminal structures'] == \"-\"):\n",
    "        return None\n",
    "    if(row['number of terminal structures'] > 1):\n",
    "        return True\n",
    "    start = row['branch#1 apical loop start']\n",
    "    end = row['branch#1 apical loop end']\n",
    "    for col in ['hit start', 'hit end', 'star start', 'star end']:\n",
    "        if(start < row[col] < end ):\n",
    "            return False                    \n",
    "    return True\n",
    "\n",
    "sum_missmatch = result.apply(lambda row: sum_of_size_in_hit(row, 'mismatch type', 'mismatch size'), axis=1)\n",
    "sum_bulge = result.apply(lambda row: sum_of_size_in_hit(row, 'bulge type', 'bulge size'), axis=1)\n",
    "sum_internal = result.apply(lambda row: sum_of_size_in_hit(row, 'internal type', 'internal loop total size'), axis=1)\n",
    "sum_missmatch_border_proximal = result.apply(lambda row: sum_of_size_in_border_line(row, 'proximal border line', 'mismatch type', 'mismatch size', 'mismatch start', 'mismatch end'), axis=1)\n",
    "sum_missmatch_border_distal = result.apply(lambda row: sum_of_size_in_border_line(row, 'distal border line', 'mismatch type', 'mismatch size', 'mismatch start', 'mismatch end'), axis=1)\n",
    "sum_bulge_border_proximal = result.apply(lambda row: sum_of_size_in_border_line(row, 'proximal border line', 'bulge type', 'bulge size', 'bulge start', 'bulge end'), axis=1)\n",
    "sum_bulge_border_distal = result.apply(lambda row: sum_of_size_in_border_line(row, 'distal border line', 'bulge type', 'bulge size', 'bulge start', 'bulge end'), axis=1)\n",
    "sum_internal_border_proximal = result.apply(lambda row: sum_of_size_in_border_line(row, 'proximal border line', 'internal type', 'internal loop total size', 'internal start', 'internal end'), axis=1)\n",
    "sum_internal_border_distal = result.apply(lambda row: sum_of_size_in_border_line(row, 'distal border line', 'internal type', 'internal loop total size', 'internal start', 'internal end'), axis=1)\n",
    "sum_of_residue = result.apply(lambda row: number_of_residue(row), axis=1)\n",
    "\n",
    "\n",
    "result['sum of residue in terminal loop'] = sum_of_residue\n",
    "\n",
    "\n",
    "_sum = sum_bulge + sum_internal + sum_bulge_border_proximal + sum_bulge_border_distal + sum_internal_border_proximal + sum_internal_border_distal + sum_of_residue\n",
    "result[\"ACCEPTABLE_NUM_FOR_HIT_LOCATIONS_IN_BULGES_OR_LOOPS\"] = _sum\n",
    "\n",
    "result[\"ACCEPTABLE_NUM_FOR_UNMATCHED_LOCATIONS_IN_HIT_REGION\"] = (_sum + (sum_missmatch + sum_missmatch_border_proximal + sum_missmatch_border_distal) * 2)\n",
    "\n",
    "result[\"TOTAL_NUM_OF_MISMACHED_POSITIONS\"] = sum_missmatch\n",
    "\n",
    "result[\"TOTAL_NUM_OF_NONMATCHING_POSITIONS\"] = (sum_missmatch + sum_bulge + sum_internal)\n",
    "\n",
    "result[\"TOTAL_NUM_OF_POSITIONS_IN_BULGES_AND_LOOPS\"] = (sum_bulge + sum_internal)\n",
    "\n",
    "result[\"MATURE_DUPLEX_INVOLVEMENT_IN_APICAL_LOOP\"] = result.apply(lambda row: check_involvement(row), axis=1)"
   ]
  },
  {
   "cell_type": "code",
   "execution_count": 62,
   "metadata": {
    "ExecuteTime": {
     "end_time": "2022-05-04T14:58:11.246427Z",
     "start_time": "2022-05-04T14:58:08.740653Z"
    }
   },
   "outputs": [],
   "source": [
    "result.to_csv(\"./Result/not_confident_viridi_ct_analizer.csv\", index=False)    "
   ]
  },
  {
   "cell_type": "code",
   "execution_count": null,
   "metadata": {},
   "outputs": [],
   "source": []
  }
 ],
 "metadata": {
  "hide_input": false,
  "kernelspec": {
   "display_name": "Python 3",
   "language": "python",
   "name": "python3"
  },
  "language_info": {
   "codemirror_mode": {
    "name": "ipython",
    "version": 3
   },
   "file_extension": ".py",
   "mimetype": "text/x-python",
   "name": "python",
   "nbconvert_exporter": "python",
   "pygments_lexer": "ipython3",
   "version": "3.8.10"
  },
  "varInspector": {
   "cols": {
    "lenName": 16,
    "lenType": 16,
    "lenVar": 40
   },
   "kernels_config": {
    "python": {
     "delete_cmd_postfix": "",
     "delete_cmd_prefix": "del ",
     "library": "var_list.py",
     "varRefreshCmd": "print(var_dic_list())"
    },
    "r": {
     "delete_cmd_postfix": ") ",
     "delete_cmd_prefix": "rm(",
     "library": "var_list.r",
     "varRefreshCmd": "cat(var_dic_list()) "
    }
   },
   "types_to_exclude": [
    "module",
    "function",
    "builtin_function_or_method",
    "instance",
    "_Feature"
   ],
   "window_display": false
  }
 },
 "nbformat": 4,
 "nbformat_minor": 4
}
