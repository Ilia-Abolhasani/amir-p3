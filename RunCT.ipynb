{
 "cells": [
  {
   "cell_type": "markdown",
   "metadata": {},
   "source": [
    "# Common"
   ]
  },
  {
   "cell_type": "code",
   "execution_count": 1,
   "metadata": {
    "ExecuteTime": {
     "end_time": "2022-05-08T16:48:39.748837Z",
     "start_time": "2022-05-08T16:48:39.744967Z"
    }
   },
   "outputs": [],
   "source": [
    "#!pip install tqdm"
   ]
  },
  {
   "cell_type": "code",
   "execution_count": 11,
   "metadata": {
    "ExecuteTime": {
     "end_time": "2022-05-08T17:02:58.746351Z",
     "start_time": "2022-05-08T17:02:58.734783Z"
    }
   },
   "outputs": [],
   "source": [
    "import json\n",
    "import time\n",
    "from subprocess import Popen, PIPE, STDOUT\n",
    "import math\n",
    "import numpy as np\n",
    "import pandas as pd\n",
    "import requests\n",
    "import os, sys, subprocess\n",
    "from tqdm.contrib.concurrent import process_map\n",
    "from tqdm.notebook import tqdm\n",
    "tqdm.pandas()\n",
    "import multiprocessing as mp\n",
    "import shutil\n",
    "import urllib.parse\n",
    "import glob\n",
    "import os\n",
    "import sys\n",
    "if sys.version_info[0] < 3: \n",
    "    from StringIO import StringIO\n",
    "else:\n",
    "    from io import StringIO"
   ]
  },
  {
   "cell_type": "code",
   "execution_count": 12,
   "metadata": {
    "ExecuteTime": {
     "end_time": "2022-05-08T17:03:00.352637Z",
     "start_time": "2022-05-08T17:03:00.348688Z"
    }
   },
   "outputs": [],
   "source": [
    "current_path = os.getcwd()"
   ]
  },
  {
   "cell_type": "code",
   "execution_count": 13,
   "metadata": {
    "ExecuteTime": {
     "end_time": "2022-05-08T17:03:00.611950Z",
     "start_time": "2022-05-08T17:03:00.606933Z"
    }
   },
   "outputs": [],
   "source": [
    "def bracket_row(row):    \n",
    "    s = row['data']\n",
    "    index = min(s.find('.'), s.find('('))\n",
    "    data = row['data']\n",
    "    row['data'] = data[0:index]\n",
    "    row['bracket'] = data[index:]\n",
    "    return row"
   ]
  },
  {
   "cell_type": "code",
   "execution_count": 14,
   "metadata": {
    "ExecuteTime": {
     "end_time": "2022-05-08T17:03:00.722032Z",
     "start_time": "2022-05-08T17:03:00.717821Z"
    }
   },
   "outputs": [],
   "source": [
    "def adjust(text,n=7):\n",
    "    text = str(text)    \n",
    "    return \" \" * (n - len(text)) + text"
   ]
  },
  {
   "cell_type": "code",
   "execution_count": 15,
   "metadata": {
    "ExecuteTime": {
     "end_time": "2022-05-08T17:03:00.897666Z",
     "start_time": "2022-05-08T17:03:00.886812Z"
    }
   },
   "outputs": [],
   "source": [
    "def bracket_to_ct(tag, data, bracket, deltaG, negative_deltaG=True):    \n",
    "    deltaG = deltaG.replace('(','').replace(')','')\n",
    "    deltaG = float(deltaG)\n",
    "    if(deltaG > 0 and negative_deltaG ): # negetive?!\n",
    "        deltaG = -1 * deltaG\n",
    "    stack = []\n",
    "    index = np.zeros((len(bracket)), dtype = int)\n",
    "    values = np.zeros((len(bracket)), dtype = int)\n",
    "    for i in range(len(bracket)):\n",
    "        index[i] = i + 1\n",
    "        if(bracket[i] == '.'):\n",
    "            values[i] = 0\n",
    "        elif(bracket[i] == '('):\n",
    "            stack.append(i)\n",
    "        elif(bracket[i] == ')'):\n",
    "            if(len(stack) == 0 ):\n",
    "                print('structure error!')\n",
    "            values[stack[-1]] = i + 1\n",
    "            values[i]  = stack[-1] + 1\n",
    "            stack.pop()\n",
    "        else:\n",
    "            print('structure error!')\n",
    "    if(len(stack) != 0 ):\n",
    "        print('structure error!')\n",
    "    # body    \n",
    "    ct = f\"{adjust(len(data),6)} dG ={adjust(deltaG,10)} {tag}\\n\"   \n",
    "    for i in range(len(bracket)):\n",
    "        ct += f\"{adjust(index[i],6)} {data[i]} {adjust(i,6)} {adjust((i+2)%(len(data)+1),6)} {adjust(values[i],6)} {adjust(index[i],7)}\\n\"\n",
    "    return ct"
   ]
  },
  {
   "cell_type": "code",
   "execution_count": 16,
   "metadata": {
    "ExecuteTime": {
     "end_time": "2022-05-08T17:03:01.051791Z",
     "start_time": "2022-05-08T17:03:01.044702Z"
    }
   },
   "outputs": [],
   "source": [
    "def fasta_to_df(path):\n",
    "    with open(path, 'r') as file:\n",
    "        text = file.read()\n",
    "    lines = [line for line in text.split('\\n') if len(line) > 0]\n",
    "    s = ''\n",
    "    tags = []\n",
    "    data = []\n",
    "    for l in lines:\n",
    "        if(l[0]=='>'):\n",
    "            tags.append(l)        \n",
    "            data.append(s)\n",
    "            s = ''\n",
    "        else:\n",
    "            s += l    \n",
    "    data.append(s)\n",
    "    df = pd.DataFrame(\n",
    "            {\n",
    "                'tag': tags,\n",
    "                'data': data[1:]\n",
    "            })\n",
    "    df['tag'] = df['tag'].apply(lambda x: x[1:])    \n",
    "    return df"
   ]
  },
  {
   "cell_type": "code",
   "execution_count": 17,
   "metadata": {
    "ExecuteTime": {
     "end_time": "2022-05-08T17:03:01.173133Z",
     "start_time": "2022-05-08T17:03:01.168390Z"
    }
   },
   "outputs": [],
   "source": [
    "def df_to_fasta(df, path):\n",
    "    lines = []\n",
    "    df.apply(lambda row: lines.append(f\">{row['tag']}\\n{row['data']}\\n\"),axis=1)\n",
    "    with open(path,'w') as file:\n",
    "        file.write(''.join(lines))"
   ]
  },
  {
   "cell_type": "code",
   "execution_count": 18,
   "metadata": {
    "ExecuteTime": {
     "end_time": "2022-05-08T17:03:01.278037Z",
     "start_time": "2022-05-08T17:03:01.273719Z"
    }
   },
   "outputs": [],
   "source": [
    "def reformat(path):\n",
    "    return path.replace('(','_').replace(')','_').replace('.','').replace(':','_')"
   ]
  },
  {
   "cell_type": "code",
   "execution_count": 19,
   "metadata": {
    "ExecuteTime": {
     "end_time": "2022-05-08T17:03:01.432977Z",
     "start_time": "2022-05-08T17:03:01.425306Z"
    }
   },
   "outputs": [],
   "source": [
    "def reformatCT(path):\n",
    "    with open(path, 'r') as file:\n",
    "        text = file.read()\n",
    "    text = [l for l in text.split('\\n') if len(l) > 0 ] # remove blank lines\n",
    "    text = '\\n'.join(text)\n",
    "    text = text.replace(\"\\t\",\" \")\n",
    "    while(\"  \" in text):\n",
    "        text = text.replace(\"  \", \" \")\n",
    "    lines = [l for l in text.split('\\n')]\n",
    "    for i in range(len(lines)):\n",
    "        if(lines[i][0] == \" \"):\n",
    "            lines[i] = lines[i][1:]\n",
    "        if(lines[i][-1] == \" \"):\n",
    "            lines[i] = lines[i][:-1]\n",
    "    text = '\\n'.join(lines)\n",
    "    return text"
   ]
  },
  {
   "cell_type": "code",
   "execution_count": 20,
   "metadata": {
    "ExecuteTime": {
     "end_time": "2022-05-08T17:03:01.619947Z",
     "start_time": "2022-05-08T17:03:01.614826Z"
    }
   },
   "outputs": [],
   "source": [
    "def get_ct_data(ct):\n",
    "    ct = \"\\n\".join(ct.split('\\n')[1:])\n",
    "    df = pd.read_csv(StringIO(ct), sep=\" \", header=None)               \n",
    "    nucleotide = df.iloc[:,1]\n",
    "    index = df.iloc[:,5]\n",
    "    values = df.iloc[:,4]\n",
    "    return [nucleotide, index, values]"
   ]
  },
  {
   "cell_type": "code",
   "execution_count": 21,
   "metadata": {
    "ExecuteTime": {
     "end_time": "2022-05-08T17:03:01.819772Z",
     "start_time": "2022-05-08T17:03:01.813477Z"
    }
   },
   "outputs": [],
   "source": [
    "def ct2dot_bracket(path):\n",
    "    [nucleotide, index, values] = get_ct_data(reformatCT(path))\n",
    "    text = ''.join(nucleotide) + \"\\n\"\n",
    "    watch = []\n",
    "    for i, v in zip(index,values):\n",
    "        if(v == 0):\n",
    "            text += '.'\n",
    "        else:\n",
    "            if( v not in watch):\n",
    "                text += '('\n",
    "                watch.append(i)\n",
    "            if( v in watch):\n",
    "                text += ')'\n",
    "    return text"
   ]
  },
  {
   "cell_type": "code",
   "execution_count": 22,
   "metadata": {
    "ExecuteTime": {
     "end_time": "2022-05-08T17:03:01.991359Z",
     "start_time": "2022-05-08T17:03:01.985875Z"
    }
   },
   "outputs": [],
   "source": [
    "def is_nested(index, values):\n",
    "    max_value = max(index) + 10 # inf\n",
    "    for i, v in zip(index, values):\n",
    "        if(v < max_value and v != 0):\n",
    "            max_value  = v\n",
    "        if(i >= max_value):\n",
    "            max_value = max(index) + 10 # inf\n",
    "        if(v > max_value):\n",
    "            return False               \n",
    "    return True"
   ]
  },
  {
   "cell_type": "markdown",
   "metadata": {},
   "source": [
    "# CTAnalizer"
   ]
  },
  {
   "cell_type": "code",
   "execution_count": 23,
   "metadata": {
    "ExecuteTime": {
     "end_time": "2022-05-08T17:03:02.302559Z",
     "start_time": "2022-05-08T17:03:02.298536Z"
    }
   },
   "outputs": [],
   "source": [
    "sys.path.append(\"./src/\")\n",
    "from ct_analizer import get_row"
   ]
  },
  {
   "cell_type": "code",
   "execution_count": 24,
   "metadata": {
    "ExecuteTime": {
     "end_time": "2022-05-08T17:03:02.462093Z",
     "start_time": "2022-05-08T17:03:02.457373Z"
    }
   },
   "outputs": [],
   "source": [
    "def run(tag, path, extra):        \n",
    "    return get_row(tag, path, extra)\n",
    "    try:\n",
    "        return get_row(tag, path,extra)\n",
    "    except Exception as e:\n",
    "        print(str(e), tag)        \n",
    "        return pd.Series()        "
   ]
  },
  {
   "cell_type": "markdown",
   "metadata": {},
   "source": [
    "# Apply on current data"
   ]
  },
  {
   "cell_type": "code",
   "execution_count": 25,
   "metadata": {
    "ExecuteTime": {
     "end_time": "2022-05-08T17:03:03.629796Z",
     "start_time": "2022-05-08T17:03:03.624999Z"
    }
   },
   "outputs": [],
   "source": [
    "base = \"./CT_high_viridi\"\n",
    "cts = glob.glob(f'{base}/*.ct')"
   ]
  },
  {
   "cell_type": "code",
   "execution_count": 26,
   "metadata": {
    "ExecuteTime": {
     "end_time": "2022-05-08T17:03:04.296252Z",
     "start_time": "2022-05-08T17:03:04.291622Z"
    }
   },
   "outputs": [],
   "source": [
    "def get_df_by_path(path , extra=0):           \n",
    "    tag = path[(len(\"./CT_high_viridi/\")):-3]    \n",
    "    return run(tag, path, extra)"
   ]
  },
  {
   "cell_type": "code",
   "execution_count": 27,
   "metadata": {
    "ExecuteTime": {
     "end_time": "2022-05-08T17:03:06.918059Z",
     "start_time": "2022-05-08T17:03:04.952840Z"
    }
   },
   "outputs": [
    {
     "data": {
      "application/vnd.jupyter.widget-view+json": {
       "model_id": "cabbc8c7495c43719601173300c6d085",
       "version_major": 2,
       "version_minor": 0
      },
      "text/plain": [
       "  0%|          | 0/275 [00:00<?, ?it/s]"
      ]
     },
     "metadata": {},
     "output_type": "display_data"
    }
   ],
   "source": [
    "max_workers = mp.cpu_count() - 4\n",
    "\n",
    "dfs = []\n",
    "for row in process_map(get_df_by_path , cts, tqdm_class=tqdm, max_workers=max_workers, chunksize=5):\n",
    "    dfs.append(row)\n",
    "result = pd.DataFrame(dfs)\n",
    "result = result.replace(np.nan, '-').replace('', '-')            "
   ]
  },
  {
   "cell_type": "code",
   "execution_count": 28,
   "metadata": {
    "ExecuteTime": {
     "end_time": "2022-05-08T17:03:10.817219Z",
     "start_time": "2022-05-08T17:03:10.337430Z"
    }
   },
   "outputs": [],
   "source": [
    "def get_max_in_region(row, type_str, size_str, region):\n",
    "    out = 0\n",
    "    mismatch_type = row[type_str]    \n",
    "    for i in range(len(mismatch_type)):\n",
    "        if mismatch_type[i] == region:\n",
    "            if row[size_str][i] > out:\n",
    "                out = row[size_str][i]\n",
    "    return out\n",
    "\n",
    "def get_number_in_region(row, type_str, size_str, region):\n",
    "    counter = 0\n",
    "    mismatch_type = row[type_str]    \n",
    "    for i in range(len(mismatch_type)):\n",
    "        if mismatch_type[i] == region:\n",
    "            counter += 1            \n",
    "    return counter\n",
    "\n",
    "def get_sum_in_region(row, type_str, size_str, region):\n",
    "    out = 0\n",
    "    mismatch_type = row[type_str]    \n",
    "    for i in range(len(mismatch_type)):\n",
    "        if mismatch_type[i] == region:\n",
    "            out += row[size_str][i]            \n",
    "    return out\n",
    "\n",
    "for region in [\"loop distal\", \"hit region\", \"distal border line\", \"loop proximal\", \"proximal border line\"]:\n",
    "    result[f'max mismatch in {region}'] = result.apply(lambda row: get_max_in_region(row, \"mismatch type\", \"mismatch size\", region), axis=1)\n",
    "    result[f'number mismatch in {region}'] = result.apply(lambda row: get_number_in_region(row, \"mismatch type\", \"mismatch size\", region), axis=1)\n",
    "    result[f'sum mismatch in {region}'] = result.apply(lambda row: get_sum_in_region(row, \"mismatch type\", \"mismatch size\", region), axis=1)    \n",
    "    result[f'max bulge in {region}'] = result.apply(lambda row: get_max_in_region(row, \"bulge type\", \"bulge size\", region), axis=1)\n",
    "    result[f'number bulge in {region}'] = result.apply(lambda row: get_number_in_region(row, \"bulge type\", \"bulge size\", region), axis=1)\n",
    "    result[f'sum bulge in {region}'] = result.apply(lambda row: get_sum_in_region(row, \"bulge type\", \"bulge size\", region), axis=1)\n",
    "    result[f'max loop in {region}']= result.apply(lambda row: get_max_in_region(row, \"internal type\", \"internal loop total size\", region), axis=1)\n",
    "    result[f'number loop in {region}']= result.apply(lambda row: get_number_in_region(row, \"internal type\", \"internal loop total size\", region), axis=1)\n",
    "    result[f'sum loop in {region}']= result.apply(lambda row: get_sum_in_region(row, \"internal type\", \"internal loop total size\", region), axis=1)"
   ]
  },
  {
   "cell_type": "code",
   "execution_count": 29,
   "metadata": {
    "ExecuteTime": {
     "end_time": "2022-05-08T17:03:17.658956Z",
     "start_time": "2022-05-08T17:03:17.465233Z"
    },
    "scrolled": false
   },
   "outputs": [],
   "source": [
    "def sum_of_size_in_hit(row, type_str, size_str):\n",
    "    _sum = 0\n",
    "    mismatch_type = row[type_str]\n",
    "    for i in range(len(mismatch_type)):\n",
    "        if mismatch_type[i] == \"hit region\":\n",
    "            _sum += row[size_str][i]\n",
    "    return _sum\n",
    "\n",
    "\n",
    "def number_of_residue(row):\n",
    "    hit_end = row['hit end']    \n",
    "    hit_start = row['hit start']\n",
    "    psep = row['psep']\n",
    "    if(psep == '-'):\n",
    "        return 0\n",
    "    mir_type = row['mir type']\n",
    "    if mir_type == '5p':\n",
    "        if psep < hit_end:\n",
    "            return hit_end - psep\n",
    "    if mir_type == '3p':\n",
    "        if psep > hit_start:\n",
    "            return psep - hit_start\n",
    "    return 0\n",
    "\n",
    "\n",
    "def sum_of_size_in_border_line(row, border_type, type_str, size_str, start, end):\n",
    "    _sum = 0\n",
    "    _size = row[size_str]    \n",
    "    _start = row[start]    \n",
    "    _end = row[end]\n",
    "    mir_type = row['mir type']     \n",
    "    mismatch_type = row[type_str]    \n",
    "    for i in range(len(mismatch_type)):\n",
    "        if mismatch_type[i] == border_type:\n",
    "            if border_type == \"distal border line\":\n",
    "                if mir_type  == '5p':\n",
    "                    _sum += _size[i] - _start[i]\n",
    "                if mir_type == '3p':\n",
    "                    _sum += _size[i] - _end[i]\n",
    "            if border_type == \"proximal border line\":\n",
    "                if mir_type == '5p':\n",
    "                    _sum += _size[i] - _end[i]\n",
    "                if mir_type == '3p':\n",
    "                    _sum += _size[i] - _start[i]\n",
    "    return _sum\n",
    "\n",
    "\n",
    "def check_involvement(row):\n",
    "    if(row['number of terminal structures'] == \"-\"):\n",
    "        return None\n",
    "    if(row['number of terminal structures'] > 1):\n",
    "        return True\n",
    "    start = row['branch#1 apical loop start']\n",
    "    end = row['branch#1 apical loop end']\n",
    "    for col in ['hit start', 'hit end', 'star start', 'star end']:\n",
    "        if(start < row[col] < end ):\n",
    "            return False                    \n",
    "    return True\n",
    "\n",
    "sum_missmatch = result.apply(lambda row: sum_of_size_in_hit(row, 'mismatch type', 'mismatch size'), axis=1)\n",
    "sum_bulge = result.apply(lambda row: sum_of_size_in_hit(row, 'bulge type', 'bulge size'), axis=1)\n",
    "sum_internal = result.apply(lambda row: sum_of_size_in_hit(row, 'internal type', 'internal loop total size'), axis=1)\n",
    "sum_missmatch_border_proximal = result.apply(lambda row: sum_of_size_in_border_line(row, 'proximal border line', 'mismatch type', 'mismatch size', 'mismatch start', 'mismatch end'), axis=1)\n",
    "sum_missmatch_border_distal = result.apply(lambda row: sum_of_size_in_border_line(row, 'distal border line', 'mismatch type', 'mismatch size', 'mismatch start', 'mismatch end'), axis=1)\n",
    "sum_bulge_border_proximal = result.apply(lambda row: sum_of_size_in_border_line(row, 'proximal border line', 'bulge type', 'bulge size', 'bulge start', 'bulge end'), axis=1)\n",
    "sum_bulge_border_distal = result.apply(lambda row: sum_of_size_in_border_line(row, 'distal border line', 'bulge type', 'bulge size', 'bulge start', 'bulge end'), axis=1)\n",
    "sum_internal_border_proximal = result.apply(lambda row: sum_of_size_in_border_line(row, 'proximal border line', 'internal type', 'internal loop HSBL', 'internal start', 'internal end'), axis=1)\n",
    "sum_internal_border_distal = result.apply(lambda row: sum_of_size_in_border_line(row, 'distal border line', 'internal type', 'internal loop HSBL', 'internal start', 'internal end'), axis=1)\n",
    "sum_of_residue = result.apply(lambda row: number_of_residue(row), axis=1)\n",
    "\n",
    "\n",
    "result['sum of residue in terminal loop'] = sum_of_residue\n",
    "\n",
    "\n",
    "_sum = sum_bulge + sum_internal + sum_bulge_border_proximal + sum_bulge_border_distal + sum_internal_border_proximal + sum_internal_border_distal + sum_of_residue\n",
    "result[\"ACCEPTABLE_NUM_FOR_HIT_LOCATIONS_IN_BULGES_OR_LOOPS\"] = _sum\n",
    "\n",
    "result[\"ACCEPTABLE_NUM_FOR_UNMATCHED_LOCATIONS_IN_HIT_REGION * 2\"] = (_sum + (sum_missmatch + sum_missmatch_border_proximal + sum_missmatch_border_distal) * 2)\n",
    "result[\"ACCEPTABLE_NUM_FOR_UNMATCHED_LOCATIONS_IN_HIT_REGION\"] = (_sum + (sum_missmatch + sum_missmatch_border_proximal + sum_missmatch_border_distal))\n",
    "\n",
    "result[\"TOTAL_NUM_OF_MISMACHED_POSITIONS\"] = sum_missmatch\n",
    "\n",
    "result[\"TOTAL_NUM_OF_NONMATCHING_POSITIONS\"] = (sum_missmatch + sum_bulge + sum_internal)\n",
    "\n",
    "result[\"TOTAL_NUM_OF_POSITIONS_IN_BULGES_AND_LOOPS\"] = (sum_bulge + sum_internal)\n",
    "\n",
    "result[\"MATURE_DUPLEX_INVOLVEMENT_IN_APICAL_LOOP\"] = result.apply(lambda row: check_involvement(row), axis=1)"
   ]
  },
  {
   "cell_type": "code",
   "execution_count": 30,
   "metadata": {
    "ExecuteTime": {
     "end_time": "2022-05-08T17:03:18.063216Z",
     "start_time": "2022-05-08T17:03:17.778611Z"
    }
   },
   "outputs": [],
   "source": [
    "import matplotlib.pyplot as plt"
   ]
  },
  {
   "cell_type": "code",
   "execution_count": 31,
   "metadata": {
    "ExecuteTime": {
     "end_time": "2022-05-08T17:03:19.592736Z",
     "start_time": "2022-05-08T17:03:19.261526Z"
    }
   },
   "outputs": [
    {
     "data": {
      "text/plain": [
       "Text(0.5, 1.0, 'ACCEPTABLE_NUM_FOR_UNMATCHED_LOCATIONS_IN_HIT_REGION')"
      ]
     },
     "execution_count": 31,
     "metadata": {},
     "output_type": "execute_result"
    },
    {
     "data": {
      "image/png": "[encoded data removed]",
      "text/plain": [
       "<Figure size 432x288 with 1 Axes>"
      ]
     },
     "metadata": {
      "needs_background": "light"
     },
     "output_type": "display_data"
    }
   ],
   "source": [
    "v = result['ACCEPTABLE_NUM_FOR_UNMATCHED_LOCATIONS_IN_HIT_REGION']\n",
    "plt.hist(v)\n",
    "plt.title(\"ACCEPTABLE_NUM_FOR_UNMATCHED_LOCATIONS_IN_HIT_REGION\")"
   ]
  },
  {
   "cell_type": "code",
   "execution_count": 32,
   "metadata": {
    "ExecuteTime": {
     "end_time": "2022-05-08T17:03:33.996249Z",
     "start_time": "2022-05-08T17:03:33.931781Z"
    }
   },
   "outputs": [],
   "source": [
    "result.to_csv(\"./Result/confident_viridi_ct_analizer.csv\", index=False)    "
   ]
  },
  {
   "cell_type": "code",
   "execution_count": null,
   "metadata": {},
   "outputs": [],
   "source": []
  },
  {
   "cell_type": "code",
   "execution_count": null,
   "metadata": {},
   "outputs": [],
   "source": []
  }
 ],
 "metadata": {
  "hide_input": false,
  "kernelspec": {
   "display_name": "Python 3",
   "language": "python",
   "name": "python3"
  },
  "language_info": {
   "codemirror_mode": {
    "name": "ipython",
    "version": 3
   },
   "file_extension": ".py",
   "mimetype": "text/x-python",
   "name": "python",
   "nbconvert_exporter": "python",
   "pygments_lexer": "ipython3",
   "version": "3.8.10"
  },
  "varInspector": {
   "cols": {
    "lenName": 16,
    "lenType": 16,
    "lenVar": 40
   },
   "kernels_config": {
    "python": {
     "delete_cmd_postfix": "",
     "delete_cmd_prefix": "del ",
     "library": "var_list.py",
     "varRefreshCmd": "print(var_dic_list())"
    },
    "r": {
     "delete_cmd_postfix": ") ",
     "delete_cmd_prefix": "rm(",
     "library": "var_list.r",
     "varRefreshCmd": "cat(var_dic_list()) "
    }
   },
   "types_to_exclude": [
    "module",
    "function",
    "builtin_function_or_method",
    "instance",
    "_Feature"
   ],
   "window_display": false
  }
 },
 "nbformat": 4,
 "nbformat_minor": 4
}
