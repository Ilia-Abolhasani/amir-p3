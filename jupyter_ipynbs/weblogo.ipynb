{
 "cells": [
  {
   "cell_type": "code",
   "execution_count": 1,
   "metadata": {
    "ExecuteTime": {
     "end_time": "2023-08-04T13:50:39.665271Z",
     "start_time": "2023-08-04T13:50:38.815440Z"
    }
   },
   "outputs": [],
   "source": [
    "import numpy as np\n",
    "import pandas as pd\n",
    "import matplotlib.pyplot as plt"
   ]
  },
  {
   "cell_type": "code",
   "execution_count": 2,
   "metadata": {
    "ExecuteTime": {
     "end_time": "2023-08-04T13:50:39.672540Z",
     "start_time": "2023-08-04T13:50:39.668736Z"
    }
   },
   "outputs": [],
   "source": [
    "tag = \"negative\" # \"positive\", \"negative\""
   ]
  },
  {
   "cell_type": "code",
   "execution_count": 3,
   "metadata": {
    "ExecuteTime": {
     "end_time": "2023-08-04T13:50:39.679902Z",
     "start_time": "2023-08-04T13:50:39.676199Z"
    }
   },
   "outputs": [],
   "source": [
    "experiments = [\n",
    "    \"O.sativa\",\n",
    "    \"A.thaliana\",\n",
    "    \"C.sinensis\",\n",
    "    \"Z.mays\",\n",
    "    \"T.aestivum\",\n",
    "    \"G.max\",\n",
    "    \"G.raimondii\",\n",
    "    \"M.truncatula\",\n",
    "    \"S.bicolor\",\n",
    "]"
   ]
  },
  {
   "cell_type": "code",
   "execution_count": 4,
   "metadata": {
    "ExecuteTime": {
     "end_time": "2023-08-04T13:50:53.487205Z",
     "start_time": "2023-08-04T13:50:39.682642Z"
    },
    "scrolled": true
   },
   "outputs": [],
   "source": [
    "down_stream = []\n",
    "up_stream = []\n",
    "for experiment in experiments:\n",
    "    df = pd.read_csv(f\"../experiment/{experiment}/{tag}/Result/result_level1_filter.csv\")    \n",
    "    for index, row in df.iterrows():        \n",
    "        mir_type = row['mir type']\n",
    "        hit_start = int(row['hit start'])\n",
    "        hit_end = int(row['hit end'])\n",
    "        full_seq = row['full seq']\n",
    "        star_start = int(row['star start'])\n",
    "        star_end = int(row['star end'])    \n",
    "        if mir_type == \"5p\":        \n",
    "            down = full_seq[:hit_start-1]\n",
    "            up = full_seq[star_end:]        \n",
    "        elif mir_type == \"3p\":        \n",
    "            down = full_seq[:star_start-1]\n",
    "            up = full_seq[hit_end:]                     \n",
    "        else:\n",
    "            print(\"error\")                        \n",
    "        down_stream.append(down)\n",
    "        up_stream.append(up)        "
   ]
  },
  {
   "cell_type": "code",
   "execution_count": 5,
   "metadata": {
    "ExecuteTime": {
     "end_time": "2023-08-04T13:50:53.524151Z",
     "start_time": "2023-08-04T13:50:53.493220Z"
    }
   },
   "outputs": [],
   "source": [
    "len_down_stream = [len(seq) for seq in down_stream]\n",
    "len_up_stream = [len(seq) for seq in up_stream]"
   ]
  },
  {
   "cell_type": "code",
   "execution_count": 6,
   "metadata": {
    "ExecuteTime": {
     "end_time": "2023-08-04T13:50:53.869201Z",
     "start_time": "2023-08-04T13:50:53.528145Z"
    },
    "scrolled": true
   },
   "outputs": [
    {
     "name": "stdout",
     "output_type": "stream",
     "text": [
      "min: 0, max: 476\n"
     ]
    },
    {
     "data": {
      "image/png": "[encoded data removed]",
      "text/plain": [
       "<Figure size 432x288 with 1 Axes>"
      ]
     },
     "metadata": {
      "needs_background": "light"
     },
     "output_type": "display_data"
    }
   ],
   "source": [
    "plt.plot(sorted(len_down_stream), \".\")\n",
    "plt.title(f\"Down stream length ({tag} datasets)\")\n",
    "print(f'min: {min(len_down_stream)}, max: {max(len_down_stream)}')"
   ]
  },
  {
   "cell_type": "code",
   "execution_count": 7,
   "metadata": {
    "ExecuteTime": {
     "end_time": "2023-08-04T13:50:54.177469Z",
     "start_time": "2023-08-04T13:50:53.872825Z"
    },
    "scrolled": true
   },
   "outputs": [
    {
     "name": "stdout",
     "output_type": "stream",
     "text": [
      "min: 0, max: 476\n"
     ]
    },
    {
     "data": {
      "image/png": "[encoded data removed]",
      "text/plain": [
       "<Figure size 432x288 with 1 Axes>"
      ]
     },
     "metadata": {
      "needs_background": "light"
     },
     "output_type": "display_data"
    }
   ],
   "source": [
    "plt.plot(sorted(len_up_stream), \".\")\n",
    "plt.title(f\"Up stream length ({tag} datasets)\")\n",
    "print(f'min: {min(len_up_stream)}, max: {max(len_up_stream)}')"
   ]
  },
  {
   "cell_type": "markdown",
   "metadata": {},
   "source": [
    "# drop all up steam and downstrim lower than threshold"
   ]
  },
  {
   "cell_type": "code",
   "execution_count": 8,
   "metadata": {
    "ExecuteTime": {
     "end_time": "2023-08-04T13:50:54.185144Z",
     "start_time": "2023-08-04T13:50:54.180413Z"
    }
   },
   "outputs": [],
   "source": [
    "threshold = 20"
   ]
  },
  {
   "cell_type": "code",
   "execution_count": 9,
   "metadata": {
    "ExecuteTime": {
     "end_time": "2023-08-04T13:50:54.232549Z",
     "start_time": "2023-08-04T13:50:54.187935Z"
    }
   },
   "outputs": [],
   "source": [
    "down_stream = [seq[-threshold:] for seq in down_stream if len(seq) >= threshold]\n",
    "up_stream = [seq[:threshold] for seq in up_stream if len(seq) >= threshold]"
   ]
  },
  {
   "cell_type": "markdown",
   "metadata": {},
   "source": [
    "# convert to fasta"
   ]
  },
  {
   "cell_type": "code",
   "execution_count": 10,
   "metadata": {
    "ExecuteTime": {
     "end_time": "2023-08-04T13:50:54.240338Z",
     "start_time": "2023-08-04T13:50:54.235281Z"
    }
   },
   "outputs": [],
   "source": [
    "def convert(seq):\n",
    "    seq = seq.replace(\"t\", \"u\")\n",
    "    seq = seq.replace(\"T\", \"u\")\n",
    "    seq = seq.replace(\"a\", \"A\")\n",
    "    seq = seq.replace(\"c\", \"C\")\n",
    "    seq = seq.replace(\"g\", \"G\")\n",
    "    seq = seq.replace(\"u\", \"U\")\n",
    "    return seq "
   ]
  },
  {
   "cell_type": "code",
   "execution_count": 11,
   "metadata": {
    "ExecuteTime": {
     "end_time": "2023-08-04T13:50:54.343244Z",
     "start_time": "2023-08-04T13:50:54.244577Z"
    }
   },
   "outputs": [],
   "source": [
    "down_stream_fa = \"\"\n",
    "#counter = 1\n",
    "for seq in down_stream:  \n",
    "    seq = convert(seq)\n",
    "    seq = seq[::-1]\n",
    "    #down_stream_fa += f\">{counter}\\n\"\n",
    "    #counter += 1\n",
    "    down_stream_fa += seq + \"\\n\"\n",
    "with open(f\"down_stream_{tag}.txt\", \"w\") as file:\n",
    "    file.write(down_stream_fa)"
   ]
  },
  {
   "cell_type": "code",
   "execution_count": 12,
   "metadata": {
    "ExecuteTime": {
     "end_time": "2023-08-04T13:50:54.431448Z",
     "start_time": "2023-08-04T13:50:54.346299Z"
    }
   },
   "outputs": [],
   "source": [
    "up_stream_fa = \"\"\n",
    "#counter = 1\n",
    "for seq in up_stream:\n",
    "    seq = convert(seq)\n",
    "    #up_stream_fa += f\">{counter}\\n\"\n",
    "    #counter += 1\n",
    "    up_stream_fa += seq + \"\\n\"\n",
    "with open(f\"up_stream_{tag}.txt\", \"w\") as file:\n",
    "    file.write(up_stream_fa)"
   ]
  },
  {
   "cell_type": "markdown",
   "metadata": {},
   "source": [
    "# call weblogo"
   ]
  },
  {
   "cell_type": "code",
   "execution_count": 13,
   "metadata": {
    "ExecuteTime": {
     "end_time": "2023-08-04T13:50:57.728918Z",
     "start_time": "2023-08-04T13:50:54.434396Z"
    }
   },
   "outputs": [],
   "source": [
    "!weblogo --format PNG --sequence-type rna --units probability --color-scheme classic --resolution 600   < down_stream_{tag}.txt > ../results/weblogo_down_stream_{tag}.png"
   ]
  },
  {
   "cell_type": "code",
   "execution_count": 14,
   "metadata": {
    "ExecuteTime": {
     "end_time": "2023-08-04T13:51:00.982581Z",
     "start_time": "2023-08-04T13:50:57.732757Z"
    }
   },
   "outputs": [],
   "source": [
    "!weblogo --format PNG --sequence-type rna --units probability --color-scheme classic --resolution 600   < up_stream_{tag}.txt > ../results/weblogo_up_stream_{tag}.png"
   ]
  },
  {
   "cell_type": "code",
   "execution_count": null,
   "metadata": {},
   "outputs": [],
   "source": []
  }
 ],
 "metadata": {
  "kernelspec": {
   "display_name": "Python 3",
   "language": "python",
   "name": "python3"
  },
  "language_info": {
   "codemirror_mode": {
    "name": "ipython",
    "version": 3
   },
   "file_extension": ".py",
   "mimetype": "text/x-python",
   "name": "python",
   "nbconvert_exporter": "python",
   "pygments_lexer": "ipython3",
   "version": "3.8.10"
  }
 },
 "nbformat": 4,
 "nbformat_minor": 4
}
