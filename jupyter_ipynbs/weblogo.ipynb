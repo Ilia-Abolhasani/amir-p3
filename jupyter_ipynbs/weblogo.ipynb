{
 "cells": [
  {
   "cell_type": "code",
   "execution_count": 66,
   "metadata": {
    "ExecuteTime": {
     "end_time": "2023-07-30T11:35:55.564859Z",
     "start_time": "2023-07-30T11:35:55.561078Z"
    }
   },
   "outputs": [],
   "source": [
    "import numpy as np\n",
    "import pandas as pd\n",
    "import matplotlib.pyplot as plt"
   ]
  },
  {
   "cell_type": "code",
   "execution_count": 80,
   "metadata": {
    "ExecuteTime": {
     "end_time": "2023-07-30T11:39:07.630987Z",
     "start_time": "2023-07-30T11:39:07.626237Z"
    }
   },
   "outputs": [],
   "source": [
    "experiments = [\n",
    "    \"O.sativa\",\n",
    "    \"A.thaliana\",\n",
    "    \"C.sinensis\",\n",
    "    \"Z.mays\",\n",
    "    \"T.aestivum\",\n",
    "    \"G.max\",\n",
    "    \"G.raimondii\",\n",
    "    \"M.truncatula\",\n",
    "    \"S.bicolor\",\n",
    "]"
   ]
  },
  {
   "cell_type": "code",
   "execution_count": 81,
   "metadata": {
    "ExecuteTime": {
     "end_time": "2023-07-30T11:39:10.155387Z",
     "start_time": "2023-07-30T11:39:08.080839Z"
    },
    "scrolled": true
   },
   "outputs": [],
   "source": [
    "down_stream = []\n",
    "up_stream = []\n",
    "for experiment in experiments:\n",
    "    df = pd.read_csv(f\"../experiment/{experiment}/positive/Result/result_level1_filter.csv\")\n",
    "    for index, row in df.iterrows():        \n",
    "        mir_type = row['mir type']\n",
    "        hit_start = int(row['hit start'])\n",
    "        hit_end = int(row['hit end'])\n",
    "        full_seq = row['full seq']\n",
    "        star_start = int(row['star start'])\n",
    "        star_end = int(row['star end'])    \n",
    "        if mir_type == \"5p\":        \n",
    "            down = full_seq[:hit_start-1]\n",
    "            up = full_seq[star_end:]        \n",
    "        elif mir_type == \"3p\":        \n",
    "            down = full_seq[:star_start-1]\n",
    "            up = full_seq[hit_end:]                     \n",
    "        else:\n",
    "            print(\"error\")                        \n",
    "        down_stream.append(down)\n",
    "        up_stream.append(up)        "
   ]
  },
  {
   "cell_type": "code",
   "execution_count": 82,
   "metadata": {
    "ExecuteTime": {
     "end_time": "2023-07-30T11:39:12.564292Z",
     "start_time": "2023-07-30T11:39:12.557683Z"
    }
   },
   "outputs": [],
   "source": [
    "len_down_stream = [len(seq) for seq in down_stream]\n",
    "len_up_stream = [len(seq) for seq in up_stream]"
   ]
  },
  {
   "cell_type": "code",
   "execution_count": 88,
   "metadata": {
    "ExecuteTime": {
     "end_time": "2023-07-30T11:41:43.096849Z",
     "start_time": "2023-07-30T11:41:42.836049Z"
    },
    "scrolled": true
   },
   "outputs": [
    {
     "name": "stdout",
     "output_type": "stream",
     "text": [
      "min: 2, max: 328\n"
     ]
    },
    {
     "data": {
      "image/png": "[encoded data removed]",
      "text/plain": [
       "<Figure size 432x288 with 1 Axes>"
      ]
     },
     "metadata": {
      "needs_background": "light"
     },
     "output_type": "display_data"
    }
   ],
   "source": [
    "plt.plot(sorted(len_down_stream), \".\")\n",
    "plt.title(\"Down stream length\")\n",
    "print(f'min: {min(len_down_stream)}, max: {max(len_down_stream)}')"
   ]
  },
  {
   "cell_type": "code",
   "execution_count": 89,
   "metadata": {
    "ExecuteTime": {
     "end_time": "2023-07-30T11:42:03.438704Z",
     "start_time": "2023-07-30T11:42:03.186430Z"
    },
    "scrolled": true
   },
   "outputs": [
    {
     "name": "stdout",
     "output_type": "stream",
     "text": [
      "min: 0, max: 354\n"
     ]
    },
    {
     "data": {
      "image/png": "[encoded data removed]",
      "text/plain": [
       "<Figure size 432x288 with 1 Axes>"
      ]
     },
     "metadata": {
      "needs_background": "light"
     },
     "output_type": "display_data"
    }
   ],
   "source": [
    "plt.plot(sorted(len_up_stream), \".\")\n",
    "plt.title(\"Up stream length\")\n",
    "print(f'min: {min(len_up_stream)}, max: {max(len_up_stream)}')"
   ]
  },
  {
   "cell_type": "markdown",
   "metadata": {},
   "source": [
    "# drop all up steam and downstrim lower than threshold"
   ]
  },
  {
   "cell_type": "code",
   "execution_count": 91,
   "metadata": {
    "ExecuteTime": {
     "end_time": "2023-07-30T11:42:48.463392Z",
     "start_time": "2023-07-30T11:42:48.459255Z"
    }
   },
   "outputs": [],
   "source": [
    "threshold = 20"
   ]
  },
  {
   "cell_type": "code",
   "execution_count": 95,
   "metadata": {
    "ExecuteTime": {
     "end_time": "2023-07-30T11:46:50.496045Z",
     "start_time": "2023-07-30T11:46:50.485347Z"
    }
   },
   "outputs": [],
   "source": [
    "down_stream = [seq[-threshold:] for seq in down_stream if len(seq) >= threshold]\n",
    "up_stream = [seq[:threshold] for seq in up_stream if len(seq) >= threshold]"
   ]
  },
  {
   "cell_type": "markdown",
   "metadata": {},
   "source": [
    "# convert to fasta"
   ]
  },
  {
   "cell_type": "code",
   "execution_count": 114,
   "metadata": {
    "ExecuteTime": {
     "end_time": "2023-07-30T12:01:55.205266Z",
     "start_time": "2023-07-30T12:01:55.199502Z"
    }
   },
   "outputs": [],
   "source": [
    "def convert(seq):\n",
    "    seq = seq.replace(\"t\", \"u\")\n",
    "    seq = seq.replace(\"T\", \"u\")\n",
    "    seq = seq.replace(\"a\", \"A\")\n",
    "    seq = seq.replace(\"c\", \"C\")\n",
    "    seq = seq.replace(\"g\", \"G\")\n",
    "    seq = seq.replace(\"u\", \"U\")\n",
    "    return seq "
   ]
  },
  {
   "cell_type": "code",
   "execution_count": 139,
   "metadata": {
    "ExecuteTime": {
     "end_time": "2023-07-30T12:31:42.195046Z",
     "start_time": "2023-07-30T12:31:42.172727Z"
    }
   },
   "outputs": [],
   "source": [
    "down_stream_fa = \"\"\n",
    "#counter = 1\n",
    "for seq in down_stream:  \n",
    "    seq = convert(seq)\n",
    "    seq = seq[::-1]\n",
    "    #down_stream_fa += f\">{counter}\\n\"\n",
    "    #counter += 1\n",
    "    down_stream_fa += seq + \"\\n\"\n",
    "with open(\"down_stream.txt\", \"w\") as file:\n",
    "    file.write(down_stream_fa)"
   ]
  },
  {
   "cell_type": "code",
   "execution_count": 140,
   "metadata": {
    "ExecuteTime": {
     "end_time": "2023-07-30T12:31:42.531147Z",
     "start_time": "2023-07-30T12:31:42.512948Z"
    }
   },
   "outputs": [],
   "source": [
    "up_stream_fa = \"\"\n",
    "#counter = 1\n",
    "for seq in up_stream:\n",
    "    seq = convert(seq)\n",
    "    #up_stream_fa += f\">{counter}\\n\"\n",
    "    #counter += 1\n",
    "    up_stream_fa += seq + \"\\n\"\n",
    "with open(\"up_stream.txt\", \"w\") as file:\n",
    "    file.write(up_stream_fa)"
   ]
  },
  {
   "cell_type": "markdown",
   "metadata": {},
   "source": [
    "# call weblogo"
   ]
  },
  {
   "cell_type": "code",
   "execution_count": 141,
   "metadata": {
    "ExecuteTime": {
     "end_time": "2023-07-30T12:31:45.505397Z",
     "start_time": "2023-07-30T12:31:43.524585Z"
    }
   },
   "outputs": [],
   "source": [
    "!weblogo --format PNG --sequence-type rna --units probability --color-scheme classic --resolution 300   < down_stream.txt > ../results/weblogo_down_stream.png"
   ]
  },
  {
   "cell_type": "code",
   "execution_count": 142,
   "metadata": {
    "ExecuteTime": {
     "end_time": "2023-07-30T12:31:50.402037Z",
     "start_time": "2023-07-30T12:31:48.412046Z"
    }
   },
   "outputs": [],
   "source": [
    "!weblogo --format PNG --sequence-type rna --units probability --color-scheme classic --resolution 300   < up_stream.txt > ../results/weblogo_up_stream.png"
   ]
  },
  {
   "cell_type": "code",
   "execution_count": null,
   "metadata": {},
   "outputs": [],
   "source": []
  }
 ],
 "metadata": {
  "kernelspec": {
   "display_name": "Python 3",
   "language": "python",
   "name": "python3"
  },
  "language_info": {
   "codemirror_mode": {
    "name": "ipython",
    "version": 3
   },
   "file_extension": ".py",
   "mimetype": "text/x-python",
   "name": "python",
   "nbconvert_exporter": "python",
   "pygments_lexer": "ipython3",
   "version": "3.8.10"
  }
 },
 "nbformat": 4,
 "nbformat_minor": 4
}
