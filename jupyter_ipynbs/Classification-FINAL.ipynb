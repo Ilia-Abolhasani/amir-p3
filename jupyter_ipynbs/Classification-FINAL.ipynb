{
 "cells": [
  {
   "cell_type": "markdown",
   "metadata": {
    "id": "qyC8IFwrWkag"
   },
   "source": [
    "# Imports"
   ]
  },
  {
   "cell_type": "code",
   "execution_count": 20,
   "metadata": {
    "ExecuteTime": {
     "end_time": "2023-01-06T16:37:13.280082Z",
     "start_time": "2023-01-06T16:37:13.256165Z"
    },
    "id": "16Duf9iWWkat"
   },
   "outputs": [
    {
     "name": "stdout",
     "output_type": "stream",
     "text": [
      "keras version  2.9.0\n"
     ]
    }
   ],
   "source": [
    "import pickle\n",
    "import json\n",
    "from __future__ import division\n",
    "import warnings\n",
    "warnings.filterwarnings('ignore')\n",
    "import sys\n",
    "import numpy as np\n",
    "import pandas as pd\n",
    "import seaborn as sns\n",
    "import matplotlib.pyplot as plt\n",
    "from sklearn import metrics\n",
    "from numpy.random import randint\n",
    "from numpy.random import rand\n",
    "import multiprocessing as mp\n",
    "import random\n",
    "import math\n",
    "import pandas as pd\n",
    "import numpy as np\n",
    "from tqdm.notebook import tqdm\n",
    "import matplotlib.pyplot as plt\n",
    "from tqdm.contrib.concurrent import process_map\n",
    "import os\n",
    "from sklearn.preprocessing import OneHotEncoder\n",
    "from sklearn.model_selection import KFold, StratifiedKFold\n",
    "from sklearn import metrics\n",
    "from sklearn.metrics import classification_report\n",
    "from sklearn.model_selection import train_test_split\n",
    "from sklearn.model_selection import KFold\n",
    "\n",
    "import tensorflow as tf\n",
    "import keras\n",
    "from keras import backend as K\n",
    "from keras.models import Sequential\n",
    "from keras import layers\n",
    "from keras.layers import Input,Dense, Dropout, Flatten, Reshape, GlobalAveragePooling1D, BatchNormalization,LSTM,Bidirectional\n",
    "from keras.layers import Conv2D, MaxPooling2D, Conv1D, MaxPooling1D,UpSampling1D, Conv1DTranspose,GaussianNoise \n",
    "from keras.utils import np_utils\n",
    "from keras import backend as K\n",
    "from keras.callbacks import Callback\n",
    "from keras.regularizers import l2 , l1, l1_l2\n",
    "import tensorflow.keras.backend as kb\n",
    "print('keras version ', keras.__version__)\n",
    "\n",
    "from keras.utils.vis_utils import plot_model"
   ]
  },
  {
   "cell_type": "code",
   "execution_count": 21,
   "metadata": {
    "ExecuteTime": {
     "end_time": "2023-01-06T16:37:14.775758Z",
     "start_time": "2023-01-06T16:37:14.770172Z"
    }
   },
   "outputs": [],
   "source": [
    "sys.path.append(\"../src\")\n",
    "from convertor import convert\n",
    "from preprocessing import get_target, preprocessing"
   ]
  },
  {
   "cell_type": "code",
   "execution_count": 22,
   "metadata": {
    "ExecuteTime": {
     "end_time": "2023-01-06T16:37:15.448235Z",
     "start_time": "2023-01-06T16:37:15.441968Z"
    }
   },
   "outputs": [],
   "source": [
    "from imblearn.under_sampling import RandomUnderSampler"
   ]
  },
  {
   "cell_type": "markdown",
   "metadata": {
    "id": "bdbqIS-UWka4"
   },
   "source": [
    "# Functions"
   ]
  },
  {
   "cell_type": "code",
   "execution_count": 23,
   "metadata": {
    "ExecuteTime": {
     "end_time": "2023-01-06T16:37:18.964051Z",
     "start_time": "2023-01-06T16:37:18.957891Z"
    },
    "id": "Pk2w6ac8Wka5"
   },
   "outputs": [],
   "source": [
    "def df_to_fasta(df, path):\n",
    "    lines = []\n",
    "    df.apply(lambda row: lines.append(f\">{row['tag']}\\n{row['data']}\\n\"),axis=1)\n",
    "    with open(path,'w') as file:\n",
    "        file.write(''.join(lines))"
   ]
  },
  {
   "cell_type": "code",
   "execution_count": 24,
   "metadata": {
    "ExecuteTime": {
     "end_time": "2023-01-06T16:37:20.109424Z",
     "start_time": "2023-01-06T16:37:20.099675Z"
    },
    "id": "yoDSV7bjWka6"
   },
   "outputs": [],
   "source": [
    "def fasta_to_df(path):\n",
    "    with open(path, 'r') as file:\n",
    "        text = file.read()\n",
    "    lines = [line for line in text.split('\\n') if len(line) > 0]\n",
    "    s = ''\n",
    "    tags = []\n",
    "    data = []\n",
    "    for l in lines:\n",
    "        if(l[0]=='>'):\n",
    "            tags.append(l)        \n",
    "            data.append(s)\n",
    "            s = ''\n",
    "        else:\n",
    "            s += l    \n",
    "    data.append(s)\n",
    "    df = pd.DataFrame(\n",
    "            {\n",
    "                'tag': tags,\n",
    "                'data': data[1:]\n",
    "            })\n",
    "    df['tag'] = df['tag'].apply(lambda x: x[1:])    \n",
    "    return df"
   ]
  },
  {
   "cell_type": "code",
   "execution_count": 25,
   "metadata": {
    "ExecuteTime": {
     "end_time": "2023-01-06T16:37:20.825252Z",
     "start_time": "2023-01-06T16:37:20.820328Z"
    },
    "id": "nQOAHaVBWka_"
   },
   "outputs": [],
   "source": [
    "class DotDict(dict):\n",
    "    __getattr__ = dict.get\n",
    "    __setattr__ = dict.__setitem__\n",
    "    __delattr__ = dict.__delitem__"
   ]
  },
  {
   "cell_type": "code",
   "execution_count": 26,
   "metadata": {
    "ExecuteTime": {
     "end_time": "2023-01-06T16:37:21.489429Z",
     "start_time": "2023-01-06T16:37:21.473709Z"
    },
    "id": "pzR6yRp8v_aT"
   },
   "outputs": [],
   "source": [
    "def confusion_matrix(validations, predictions, LABELS):            \n",
    "    freq = metrics.confusion_matrix(validations, predictions)        \n",
    "    sensitivity =  (np.divide(freq.transpose(),\n",
    "                             np.sum(freq, axis=1)).transpose() * 100).round(2)    \n",
    "    annotation = []\n",
    "    for i in range(freq.shape[0]):\n",
    "        row = []\n",
    "        for j in range(freq.shape[1]):\n",
    "            row.append(f'{freq[i][j]}\\n {sensitivity[i][j]}%')            \n",
    "        annotation.append(row)\n",
    "    annotation = np.array(annotation)\n",
    "    sns.heatmap(sensitivity, cmap=\"YlOrBr\",\n",
    "                vmin=0, vmax=100,\n",
    "                linecolor='white',\n",
    "                linewidths=1,\n",
    "                xticklabels=LABELS,\n",
    "                yticklabels=LABELS,\n",
    "                annot=annotation,\n",
    "               fmt=':<')    \n",
    "    plt.title(\"Confusion Matrix\")\n",
    "    plt.ylabel(\"Actually Label\")\n",
    "    plt.xlabel(\"Predicted Label\")\n",
    "    plt.show()            \n",
    "\n",
    "def report(pred, df, ref):\n",
    "    number_of_hit = len(df['hit seq'].unique())\n",
    "    print(f'number of unique hit: {number_of_hit}')\n",
    "    total = len(df[df['hit seq'].isin(ref['data'])]['hit seq'].unique()) \n",
    "    print(f'total mir: {total}')    \n",
    "    selected = df[pd.Series(pred).apply(lambda x: True if x==1 else False)]\n",
    "    found_seq = selected[selected['hit seq'].isin(ref['data'])]['hit seq'].unique()\n",
    "    found = len(found_seq)\n",
    "    print(f'found mir : {found}')\n",
    "    print(f'fount to all : {round(found / total * 100, 2)}%')\n",
    "    fp = len(selected[~selected['hit seq'].isin(ref['data'])]['hit seq'].unique())\n",
    "    print(f'fp: {fp}')"
   ]
  },
  {
   "cell_type": "markdown",
   "metadata": {
    "id": "4qLMRhTLWkbA"
   },
   "source": [
    "# Load all plant dataset"
   ]
  },
  {
   "cell_type": "code",
   "execution_count": 27,
   "metadata": {
    "ExecuteTime": {
     "end_time": "2023-01-06T16:37:23.145325Z",
     "start_time": "2023-01-06T16:37:23.140571Z"
    }
   },
   "outputs": [],
   "source": [
    "all_plant = [\n",
    "    \"O.sativa\",\n",
    "    \"A.thaliana\",\n",
    "    \"C.sinensis\",\n",
    "    \"Z.mays\",\n",
    "    \"T.aestivum\",\n",
    "    \"G.max\",\n",
    "    \"G.raimondii\",\n",
    "    \"M.truncatula\",\n",
    "    \"S.bicolor\",\n",
    "    #\"H.vulgare\"\n",
    "]"
   ]
  },
  {
   "cell_type": "code",
   "execution_count": 28,
   "metadata": {
    "ExecuteTime": {
     "end_time": "2023-01-06T16:37:24.647946Z",
     "start_time": "2023-01-06T16:37:24.336752Z"
    },
    "id": "QSvkewSupdLq"
   },
   "outputs": [],
   "source": [
    "data = {}"
   ]
  },
  {
   "cell_type": "code",
   "execution_count": 29,
   "metadata": {
    "ExecuteTime": {
     "end_time": "2023-01-06T16:37:26.206866Z",
     "start_time": "2023-01-06T16:37:26.192346Z"
    },
    "id": "YREQVEYCQROA"
   },
   "outputs": [],
   "source": [
    "def get_load(plant, mu=None, std=None, under_sampling=False):\n",
    "    posX = pd.read_csv(f\"../Experiment/{plant}/positive/Result/result_level1_filter.csv\")\n",
    "    posX = convert(posX)    \n",
    "    posY = np.ones(posX.shape[0], dtype='float32')\n",
    "    posY = np_utils.to_categorical(posY, 2)\n",
    "    print(f'Print positive shape: {posY.shape[0]}')\n",
    "    \n",
    "    negX = pd.read_csv(f\"../Experiment/{plant}/negative/Result/result_level1_filter.csv\")\n",
    "    negX = convert(negX)    \n",
    "    negY = np.zeros(negX.shape[0], dtype='float32')\n",
    "    negY = np_utils.to_categorical(negY, 2)        \n",
    "    print(f'Print negative shape: {negY.shape[0]}')\n",
    "    Y = np.concatenate([posY, negY])            \n",
    "    X = pd.concat([posX, negX]).reset_index(drop=True)\n",
    "    [feature, mu, std] = preprocessing(X, mu, std)    \n",
    "    data[plant] = {}    \n",
    "    if(under_sampling):\n",
    "        rus = RandomUnderSampler(random_state=0)  \n",
    "        feature.columns = [str(i) for i in feature.columns]\n",
    "        feature, Y = rus.fit_resample(feature , Y)        \n",
    "        display(feature)\n",
    "        Y = np_utils.to_categorical(Y, 2)         \n",
    "    data[plant]['df'] = X\n",
    "    data[plant]['feature'] = feature\n",
    "    data[plant]['target'] = Y\n",
    "    print(f'total data: {feature.shape[0]}')\n",
    "    return [X, feature, Y, mu, std]\n",
    "\n",
    "def load(plant, mu=None, std=None, under_sampling=True):\n",
    "    global data\n",
    "    data[plant] = {}        \n",
    "    [X, feature, Y, mu, std] = get_load(plant, mu, std, under_sampling)\n",
    "    data[plant]['df'] = X\n",
    "    data[plant]['feature'] = feature\n",
    "    data[plant]['target'] = Y\n",
    "    return [mu, std]"
   ]
  },
  {
   "cell_type": "code",
   "execution_count": 30,
   "metadata": {
    "ExecuteTime": {
     "end_time": "2023-01-06T16:37:28.412122Z",
     "start_time": "2023-01-06T16:37:28.408424Z"
    }
   },
   "outputs": [],
   "source": [
    "#with open('data.pickle', 'wb') as handle:\n",
    "#    pickle.dump(data, handle, protocol=pickle.HIGHEST_PROTOCOL)\n",
    "\n",
    "#with open('filename.pickle', 'rb') as handle:\n",
    "    #data = pickle.load(handle)"
   ]
  },
  {
   "cell_type": "code",
   "execution_count": 31,
   "metadata": {
    "ExecuteTime": {
     "end_time": "2023-01-06T16:37:30.966162Z",
     "start_time": "2023-01-06T16:37:30.957456Z"
    }
   },
   "outputs": [],
   "source": [
    "def get_mu_std(list_plant):    \n",
    "    x_list = []\n",
    "    y_list = []\n",
    "    for plant in list_plant:\n",
    "        posX = pd.read_csv(f\"../Experiment/{plant}/positive/Result/result_level1_filter.csv\")\n",
    "        posX = convert(posX) \n",
    "        x_list.append(posX)\n",
    "        posY = np.ones(posX.shape[0], dtype='float32')\n",
    "        posY = np_utils.to_categorical(posY, 2)    \n",
    "        y_list.append(posY)\n",
    "        negX = pd.read_csv(f\"../Experiment/{plant}/negative/Result/result_level1_filter.csv\")\n",
    "        negX = convert(negX)    \n",
    "        x_list.append(negX)\n",
    "        negY = np.zeros(negX.shape[0], dtype='float32')\n",
    "        negY = np_utils.to_categorical(negY, 2)        \n",
    "        y_list.append(negY)\n",
    "    Y = np.concatenate(y_list)        \n",
    "    X = pd.concat(x_list).reset_index(drop=True)\n",
    "    [feature, mu, std] = preprocessing(X, None, None)        \n",
    "    return [mu, std]"
   ]
  },
  {
   "cell_type": "code",
   "execution_count": 13,
   "metadata": {
    "ExecuteTime": {
     "end_time": "2022-12-19T15:40:55.594407Z",
     "start_time": "2022-12-19T15:33:15.016033Z"
    },
    "scrolled": true
   },
   "outputs": [],
   "source": [
    "[mu, std] = get_mu_std(all_plant)\n",
    "# store mu and std\n",
    "with open('../classifier/mu.pickle', 'wb') as handle:\n",
    "    pickle.dump(mu, handle, protocol=pickle.HIGHEST_PROTOCOL)\n",
    "with open('../classifier/std.pickle', 'wb') as handle:\n",
    "    pickle.dump(std, handle, protocol=pickle.HIGHEST_PROTOCOL)"
   ]
  },
  {
   "cell_type": "code",
   "execution_count": 32,
   "metadata": {
    "ExecuteTime": {
     "end_time": "2023-01-06T16:37:34.077549Z",
     "start_time": "2023-01-06T16:37:34.062387Z"
    }
   },
   "outputs": [],
   "source": [
    "with open('../classifier/mu.pickle', 'rb') as handle:\n",
    "    mu = pickle.load(handle)\n",
    "with open('../classifier/std.pickle', 'rb') as handle:\n",
    "    std = pickle.load(handle)"
   ]
  },
  {
   "cell_type": "code",
   "execution_count": 49,
   "metadata": {
    "ExecuteTime": {
     "end_time": "2023-01-06T16:43:15.538964Z",
     "start_time": "2023-01-06T16:43:15.474538Z"
    }
   },
   "outputs": [
    {
     "data": {
      "text/html": [
       "<div>\n",
       "<style scoped>\n",
       "    .dataframe tbody tr th:only-of-type {\n",
       "        vertical-align: middle;\n",
       "    }\n",
       "\n",
       "    .dataframe tbody tr th {\n",
       "        vertical-align: top;\n",
       "    }\n",
       "\n",
       "    .dataframe thead th {\n",
       "        text-align: right;\n",
       "    }\n",
       "</style>\n",
       "<table border=\"1\" class=\"dataframe\">\n",
       "  <thead>\n",
       "    <tr style=\"text-align: right;\">\n",
       "      <th></th>\n",
       "      <th>hit len</th>\n",
       "      <th>flanking GC content</th>\n",
       "      <th>flanking MFEI</th>\n",
       "      <th>hit GC content</th>\n",
       "      <th>hit complementarity percentage</th>\n",
       "      <th>num of linking residues</th>\n",
       "      <th>boi GC content</th>\n",
       "      <th>boi delta G</th>\n",
       "      <th>boi AMFE</th>\n",
       "      <th>boi MFEI</th>\n",
       "      <th>...</th>\n",
       "      <th>connectivity hit start-2</th>\n",
       "      <th>connectivity hit end-2</th>\n",
       "      <th>connectivity hit start-1</th>\n",
       "      <th>connectivity hit end-1</th>\n",
       "      <th>connectivity hit start</th>\n",
       "      <th>connectivity hit end</th>\n",
       "      <th>connectivity hit start+1</th>\n",
       "      <th>connectivity hit end+1</th>\n",
       "      <th>connectivity hit start+2</th>\n",
       "      <th>connectivity hit end+2</th>\n",
       "    </tr>\n",
       "  </thead>\n",
       "  <tbody>\n",
       "    <tr>\n",
       "      <th>1419</th>\n",
       "      <td>1.655712</td>\n",
       "      <td>-1.274630</td>\n",
       "      <td>0.230922</td>\n",
       "      <td>-0.675912</td>\n",
       "      <td>0.765255</td>\n",
       "      <td>-0.692338</td>\n",
       "      <td>-1.385303</td>\n",
       "      <td>0.834896</td>\n",
       "      <td>-0.100968</td>\n",
       "      <td>1.171213</td>\n",
       "      <td>...</td>\n",
       "      <td>0.0</td>\n",
       "      <td>1.0</td>\n",
       "      <td>1.0</td>\n",
       "      <td>1.0</td>\n",
       "      <td>1.0</td>\n",
       "      <td>1.0</td>\n",
       "      <td>1.0</td>\n",
       "      <td>1.0</td>\n",
       "      <td>1.0</td>\n",
       "      <td>1.0</td>\n",
       "    </tr>\n",
       "    <tr>\n",
       "      <th>1420</th>\n",
       "      <td>-0.393586</td>\n",
       "      <td>1.893635</td>\n",
       "      <td>-1.060652</td>\n",
       "      <td>1.739101</td>\n",
       "      <td>-0.885200</td>\n",
       "      <td>-0.692338</td>\n",
       "      <td>1.727768</td>\n",
       "      <td>0.923521</td>\n",
       "      <td>-0.429016</td>\n",
       "      <td>-1.032613</td>\n",
       "      <td>...</td>\n",
       "      <td>0.0</td>\n",
       "      <td>0.0</td>\n",
       "      <td>1.0</td>\n",
       "      <td>0.0</td>\n",
       "      <td>1.0</td>\n",
       "      <td>0.0</td>\n",
       "      <td>0.0</td>\n",
       "      <td>0.0</td>\n",
       "      <td>1.0</td>\n",
       "      <td>1.0</td>\n",
       "    </tr>\n",
       "    <tr>\n",
       "      <th>1421</th>\n",
       "      <td>-0.393586</td>\n",
       "      <td>1.893635</td>\n",
       "      <td>-1.060652</td>\n",
       "      <td>1.739101</td>\n",
       "      <td>-0.885200</td>\n",
       "      <td>-0.884439</td>\n",
       "      <td>1.657016</td>\n",
       "      <td>0.970120</td>\n",
       "      <td>-0.270360</td>\n",
       "      <td>-0.932007</td>\n",
       "      <td>...</td>\n",
       "      <td>0.0</td>\n",
       "      <td>0.0</td>\n",
       "      <td>0.0</td>\n",
       "      <td>0.0</td>\n",
       "      <td>0.0</td>\n",
       "      <td>0.0</td>\n",
       "      <td>0.0</td>\n",
       "      <td>0.0</td>\n",
       "      <td>0.0</td>\n",
       "      <td>0.0</td>\n",
       "    </tr>\n",
       "    <tr>\n",
       "      <th>1422</th>\n",
       "      <td>-0.393586</td>\n",
       "      <td>1.893635</td>\n",
       "      <td>-1.031137</td>\n",
       "      <td>1.739101</td>\n",
       "      <td>-0.885200</td>\n",
       "      <td>-0.548263</td>\n",
       "      <td>1.727768</td>\n",
       "      <td>0.806197</td>\n",
       "      <td>-0.118178</td>\n",
       "      <td>-0.867857</td>\n",
       "      <td>...</td>\n",
       "      <td>0.0</td>\n",
       "      <td>0.0</td>\n",
       "      <td>0.0</td>\n",
       "      <td>1.0</td>\n",
       "      <td>1.0</td>\n",
       "      <td>1.0</td>\n",
       "      <td>1.0</td>\n",
       "      <td>1.0</td>\n",
       "      <td>1.0</td>\n",
       "      <td>0.0</td>\n",
       "    </tr>\n",
       "    <tr>\n",
       "      <th>1423</th>\n",
       "      <td>-0.393586</td>\n",
       "      <td>0.270865</td>\n",
       "      <td>0.081980</td>\n",
       "      <td>1.167124</td>\n",
       "      <td>0.392572</td>\n",
       "      <td>0.700392</td>\n",
       "      <td>0.241984</td>\n",
       "      <td>-1.561994</td>\n",
       "      <td>0.176371</td>\n",
       "      <td>-0.126820</td>\n",
       "      <td>...</td>\n",
       "      <td>1.0</td>\n",
       "      <td>1.0</td>\n",
       "      <td>1.0</td>\n",
       "      <td>0.0</td>\n",
       "      <td>0.0</td>\n",
       "      <td>1.0</td>\n",
       "      <td>1.0</td>\n",
       "      <td>1.0</td>\n",
       "      <td>1.0</td>\n",
       "      <td>1.0</td>\n",
       "    </tr>\n",
       "    <tr>\n",
       "      <th>...</th>\n",
       "      <td>...</td>\n",
       "      <td>...</td>\n",
       "      <td>...</td>\n",
       "      <td>...</td>\n",
       "      <td>...</td>\n",
       "      <td>...</td>\n",
       "      <td>...</td>\n",
       "      <td>...</td>\n",
       "      <td>...</td>\n",
       "      <td>...</td>\n",
       "      <td>...</td>\n",
       "      <td>...</td>\n",
       "      <td>...</td>\n",
       "      <td>...</td>\n",
       "      <td>...</td>\n",
       "      <td>...</td>\n",
       "      <td>...</td>\n",
       "      <td>...</td>\n",
       "      <td>...</td>\n",
       "      <td>...</td>\n",
       "      <td>...</td>\n",
       "    </tr>\n",
       "    <tr>\n",
       "      <th>2833</th>\n",
       "      <td>1.655712</td>\n",
       "      <td>-0.038234</td>\n",
       "      <td>0.152297</td>\n",
       "      <td>0.340936</td>\n",
       "      <td>0.978217</td>\n",
       "      <td>-0.035994</td>\n",
       "      <td>-0.111774</td>\n",
       "      <td>-0.360240</td>\n",
       "      <td>-0.070966</td>\n",
       "      <td>-0.113936</td>\n",
       "      <td>...</td>\n",
       "      <td>1.0</td>\n",
       "      <td>1.0</td>\n",
       "      <td>1.0</td>\n",
       "      <td>1.0</td>\n",
       "      <td>1.0</td>\n",
       "      <td>1.0</td>\n",
       "      <td>1.0</td>\n",
       "      <td>1.0</td>\n",
       "      <td>1.0</td>\n",
       "      <td>1.0</td>\n",
       "    </tr>\n",
       "    <tr>\n",
       "      <th>2834</th>\n",
       "      <td>1.655712</td>\n",
       "      <td>-0.038234</td>\n",
       "      <td>0.080348</td>\n",
       "      <td>0.340936</td>\n",
       "      <td>0.978217</td>\n",
       "      <td>-0.035994</td>\n",
       "      <td>-0.111774</td>\n",
       "      <td>-0.026024</td>\n",
       "      <td>0.268605</td>\n",
       "      <td>0.170043</td>\n",
       "      <td>...</td>\n",
       "      <td>1.0</td>\n",
       "      <td>1.0</td>\n",
       "      <td>1.0</td>\n",
       "      <td>1.0</td>\n",
       "      <td>1.0</td>\n",
       "      <td>1.0</td>\n",
       "      <td>1.0</td>\n",
       "      <td>1.0</td>\n",
       "      <td>1.0</td>\n",
       "      <td>1.0</td>\n",
       "    </tr>\n",
       "    <tr>\n",
       "      <th>2835</th>\n",
       "      <td>1.655712</td>\n",
       "      <td>-0.038234</td>\n",
       "      <td>0.062461</td>\n",
       "      <td>0.340936</td>\n",
       "      <td>0.978217</td>\n",
       "      <td>-0.035994</td>\n",
       "      <td>-0.182525</td>\n",
       "      <td>0.015043</td>\n",
       "      <td>0.242551</td>\n",
       "      <td>0.199451</td>\n",
       "      <td>...</td>\n",
       "      <td>1.0</td>\n",
       "      <td>1.0</td>\n",
       "      <td>1.0</td>\n",
       "      <td>1.0</td>\n",
       "      <td>1.0</td>\n",
       "      <td>1.0</td>\n",
       "      <td>1.0</td>\n",
       "      <td>1.0</td>\n",
       "      <td>1.0</td>\n",
       "      <td>1.0</td>\n",
       "    </tr>\n",
       "    <tr>\n",
       "      <th>2836</th>\n",
       "      <td>1.655712</td>\n",
       "      <td>-0.038234</td>\n",
       "      <td>0.011580</td>\n",
       "      <td>0.340936</td>\n",
       "      <td>0.978217</td>\n",
       "      <td>-0.035994</td>\n",
       "      <td>-0.111774</td>\n",
       "      <td>-0.269806</td>\n",
       "      <td>-0.184245</td>\n",
       "      <td>-0.208669</td>\n",
       "      <td>...</td>\n",
       "      <td>1.0</td>\n",
       "      <td>1.0</td>\n",
       "      <td>1.0</td>\n",
       "      <td>1.0</td>\n",
       "      <td>1.0</td>\n",
       "      <td>1.0</td>\n",
       "      <td>1.0</td>\n",
       "      <td>1.0</td>\n",
       "      <td>1.0</td>\n",
       "      <td>1.0</td>\n",
       "    </tr>\n",
       "    <tr>\n",
       "      <th>2837</th>\n",
       "      <td>-0.393586</td>\n",
       "      <td>-0.888257</td>\n",
       "      <td>-0.337321</td>\n",
       "      <td>-0.358147</td>\n",
       "      <td>-0.885200</td>\n",
       "      <td>-0.372170</td>\n",
       "      <td>-0.890041</td>\n",
       "      <td>0.519073</td>\n",
       "      <td>-0.852732</td>\n",
       "      <td>-0.335264</td>\n",
       "      <td>...</td>\n",
       "      <td>1.0</td>\n",
       "      <td>1.0</td>\n",
       "      <td>1.0</td>\n",
       "      <td>1.0</td>\n",
       "      <td>0.0</td>\n",
       "      <td>1.0</td>\n",
       "      <td>1.0</td>\n",
       "      <td>1.0</td>\n",
       "      <td>1.0</td>\n",
       "      <td>1.0</td>\n",
       "    </tr>\n",
       "  </tbody>\n",
       "</table>\n",
       "<p>1419 rows × 326 columns</p>\n",
       "</div>"
      ],
      "text/plain": [
       "       hit len  flanking GC content  flanking MFEI  hit GC content  \\\n",
       "1419  1.655712            -1.274630       0.230922       -0.675912   \n",
       "1420 -0.393586             1.893635      -1.060652        1.739101   \n",
       "1421 -0.393586             1.893635      -1.060652        1.739101   \n",
       "1422 -0.393586             1.893635      -1.031137        1.739101   \n",
       "1423 -0.393586             0.270865       0.081980        1.167124   \n",
       "...        ...                  ...            ...             ...   \n",
       "2833  1.655712            -0.038234       0.152297        0.340936   \n",
       "2834  1.655712            -0.038234       0.080348        0.340936   \n",
       "2835  1.655712            -0.038234       0.062461        0.340936   \n",
       "2836  1.655712            -0.038234       0.011580        0.340936   \n",
       "2837 -0.393586            -0.888257      -0.337321       -0.358147   \n",
       "\n",
       "      hit complementarity percentage  num of linking residues  boi GC content  \\\n",
       "1419                        0.765255                -0.692338       -1.385303   \n",
       "1420                       -0.885200                -0.692338        1.727768   \n",
       "1421                       -0.885200                -0.884439        1.657016   \n",
       "1422                       -0.885200                -0.548263        1.727768   \n",
       "1423                        0.392572                 0.700392        0.241984   \n",
       "...                              ...                      ...             ...   \n",
       "2833                        0.978217                -0.035994       -0.111774   \n",
       "2834                        0.978217                -0.035994       -0.111774   \n",
       "2835                        0.978217                -0.035994       -0.182525   \n",
       "2836                        0.978217                -0.035994       -0.111774   \n",
       "2837                       -0.885200                -0.372170       -0.890041   \n",
       "\n",
       "      boi delta G  boi AMFE  boi MFEI  ...  connectivity hit start-2  \\\n",
       "1419     0.834896 -0.100968  1.171213  ...                       0.0   \n",
       "1420     0.923521 -0.429016 -1.032613  ...                       0.0   \n",
       "1421     0.970120 -0.270360 -0.932007  ...                       0.0   \n",
       "1422     0.806197 -0.118178 -0.867857  ...                       0.0   \n",
       "1423    -1.561994  0.176371 -0.126820  ...                       1.0   \n",
       "...           ...       ...       ...  ...                       ...   \n",
       "2833    -0.360240 -0.070966 -0.113936  ...                       1.0   \n",
       "2834    -0.026024  0.268605  0.170043  ...                       1.0   \n",
       "2835     0.015043  0.242551  0.199451  ...                       1.0   \n",
       "2836    -0.269806 -0.184245 -0.208669  ...                       1.0   \n",
       "2837     0.519073 -0.852732 -0.335264  ...                       1.0   \n",
       "\n",
       "      connectivity hit end-2  connectivity hit start-1  \\\n",
       "1419                     1.0                       1.0   \n",
       "1420                     0.0                       1.0   \n",
       "1421                     0.0                       0.0   \n",
       "1422                     0.0                       0.0   \n",
       "1423                     1.0                       1.0   \n",
       "...                      ...                       ...   \n",
       "2833                     1.0                       1.0   \n",
       "2834                     1.0                       1.0   \n",
       "2835                     1.0                       1.0   \n",
       "2836                     1.0                       1.0   \n",
       "2837                     1.0                       1.0   \n",
       "\n",
       "      connectivity hit end-1  connectivity hit start  connectivity hit end  \\\n",
       "1419                     1.0                     1.0                   1.0   \n",
       "1420                     0.0                     1.0                   0.0   \n",
       "1421                     0.0                     0.0                   0.0   \n",
       "1422                     1.0                     1.0                   1.0   \n",
       "1423                     0.0                     0.0                   1.0   \n",
       "...                      ...                     ...                   ...   \n",
       "2833                     1.0                     1.0                   1.0   \n",
       "2834                     1.0                     1.0                   1.0   \n",
       "2835                     1.0                     1.0                   1.0   \n",
       "2836                     1.0                     1.0                   1.0   \n",
       "2837                     1.0                     0.0                   1.0   \n",
       "\n",
       "      connectivity hit start+1  connectivity hit end+1  \\\n",
       "1419                       1.0                     1.0   \n",
       "1420                       0.0                     0.0   \n",
       "1421                       0.0                     0.0   \n",
       "1422                       1.0                     1.0   \n",
       "1423                       1.0                     1.0   \n",
       "...                        ...                     ...   \n",
       "2833                       1.0                     1.0   \n",
       "2834                       1.0                     1.0   \n",
       "2835                       1.0                     1.0   \n",
       "2836                       1.0                     1.0   \n",
       "2837                       1.0                     1.0   \n",
       "\n",
       "      connectivity hit start+2  connectivity hit end+2  \n",
       "1419                       1.0                     1.0  \n",
       "1420                       1.0                     1.0  \n",
       "1421                       0.0                     0.0  \n",
       "1422                       1.0                     0.0  \n",
       "1423                       1.0                     1.0  \n",
       "...                        ...                     ...  \n",
       "2833                       1.0                     1.0  \n",
       "2834                       1.0                     1.0  \n",
       "2835                       1.0                     1.0  \n",
       "2836                       1.0                     1.0  \n",
       "2837                       1.0                     1.0  \n",
       "\n",
       "[1419 rows x 326 columns]"
      ]
     },
     "execution_count": 49,
     "metadata": {},
     "output_type": "execute_result"
    }
   ],
   "source": [
    "data['O.sativa']['feature'][data['O.sativa']['target'][:,1]==1]"
   ]
  },
  {
   "cell_type": "markdown",
   "metadata": {
    "id": "5Ueqwrjc5ewu"
   },
   "source": [
    "## O.sativa"
   ]
  },
  {
   "cell_type": "code",
   "execution_count": 33,
   "metadata": {
    "ExecuteTime": {
     "end_time": "2023-01-06T16:39:11.043592Z",
     "start_time": "2023-01-06T16:37:37.606207Z"
    },
    "colab": {
     "base_uri": "https://localhost:8080/"
    },
    "executionInfo": {
     "elapsed": 658144,
     "status": "ok",
     "timestamp": 1655632401689,
     "user": {
      "displayName": "Ilia abolhasani",
      "userId": "05829853781998776186"
     },
     "user_tz": -270
    },
    "id": "RP1AlQ2VPCHz",
    "outputId": "80943c18-970d-4769-f524-4cac30491c6e",
    "scrolled": false
   },
   "outputs": [
    {
     "name": "stdout",
     "output_type": "stream",
     "text": [
      "Print positive shape: 1419\n",
      "Print negative shape: 11556\n"
     ]
    },
    {
     "data": {
      "text/html": [
       "<div>\n",
       "<style scoped>\n",
       "    .dataframe tbody tr th:only-of-type {\n",
       "        vertical-align: middle;\n",
       "    }\n",
       "\n",
       "    .dataframe tbody tr th {\n",
       "        vertical-align: top;\n",
       "    }\n",
       "\n",
       "    .dataframe thead th {\n",
       "        text-align: right;\n",
       "    }\n",
       "</style>\n",
       "<table border=\"1\" class=\"dataframe\">\n",
       "  <thead>\n",
       "    <tr style=\"text-align: right;\">\n",
       "      <th></th>\n",
       "      <th>hit len</th>\n",
       "      <th>flanking GC content</th>\n",
       "      <th>flanking MFEI</th>\n",
       "      <th>hit GC content</th>\n",
       "      <th>hit complementarity percentage</th>\n",
       "      <th>num of linking residues</th>\n",
       "      <th>boi GC content</th>\n",
       "      <th>boi delta G</th>\n",
       "      <th>boi AMFE</th>\n",
       "      <th>boi MFEI</th>\n",
       "      <th>...</th>\n",
       "      <th>connectivity hit start-2</th>\n",
       "      <th>connectivity hit end-2</th>\n",
       "      <th>connectivity hit start-1</th>\n",
       "      <th>connectivity hit end-1</th>\n",
       "      <th>connectivity hit start</th>\n",
       "      <th>connectivity hit end</th>\n",
       "      <th>connectivity hit start+1</th>\n",
       "      <th>connectivity hit end+1</th>\n",
       "      <th>connectivity hit start+2</th>\n",
       "      <th>connectivity hit end+2</th>\n",
       "    </tr>\n",
       "  </thead>\n",
       "  <tbody>\n",
       "    <tr>\n",
       "      <th>0</th>\n",
       "      <td>2.338811</td>\n",
       "      <td>-0.810982</td>\n",
       "      <td>1.423757</td>\n",
       "      <td>-0.548806</td>\n",
       "      <td>1.404141</td>\n",
       "      <td>-0.019986</td>\n",
       "      <td>-0.890041</td>\n",
       "      <td>-2.130301</td>\n",
       "      <td>2.037410</td>\n",
       "      <td>2.863688</td>\n",
       "      <td>...</td>\n",
       "      <td>1.0</td>\n",
       "      <td>1.0</td>\n",
       "      <td>1.0</td>\n",
       "      <td>1.0</td>\n",
       "      <td>1.0</td>\n",
       "      <td>1.0</td>\n",
       "      <td>1.0</td>\n",
       "      <td>1.0</td>\n",
       "      <td>1.0</td>\n",
       "      <td>1.0</td>\n",
       "    </tr>\n",
       "    <tr>\n",
       "      <th>1</th>\n",
       "      <td>2.338811</td>\n",
       "      <td>-1.429180</td>\n",
       "      <td>1.955559</td>\n",
       "      <td>-1.057230</td>\n",
       "      <td>0.552293</td>\n",
       "      <td>-0.180070</td>\n",
       "      <td>-1.314551</td>\n",
       "      <td>-0.754888</td>\n",
       "      <td>0.355337</td>\n",
       "      <td>1.667516</td>\n",
       "      <td>...</td>\n",
       "      <td>1.0</td>\n",
       "      <td>0.0</td>\n",
       "      <td>1.0</td>\n",
       "      <td>1.0</td>\n",
       "      <td>0.0</td>\n",
       "      <td>1.0</td>\n",
       "      <td>1.0</td>\n",
       "      <td>1.0</td>\n",
       "      <td>1.0</td>\n",
       "      <td>1.0</td>\n",
       "    </tr>\n",
       "    <tr>\n",
       "      <th>2</th>\n",
       "      <td>-1.076685</td>\n",
       "      <td>2.975481</td>\n",
       "      <td>-1.682977</td>\n",
       "      <td>2.946608</td>\n",
       "      <td>-0.459276</td>\n",
       "      <td>-0.388179</td>\n",
       "      <td>2.718290</td>\n",
       "      <td>0.932424</td>\n",
       "      <td>-0.991195</td>\n",
       "      <td>-1.458039</td>\n",
       "      <td>...</td>\n",
       "      <td>0.0</td>\n",
       "      <td>0.0</td>\n",
       "      <td>0.0</td>\n",
       "      <td>0.0</td>\n",
       "      <td>1.0</td>\n",
       "      <td>0.0</td>\n",
       "      <td>1.0</td>\n",
       "      <td>0.0</td>\n",
       "      <td>0.0</td>\n",
       "      <td>1.0</td>\n",
       "    </tr>\n",
       "    <tr>\n",
       "      <th>3</th>\n",
       "      <td>-1.076685</td>\n",
       "      <td>2.511833</td>\n",
       "      <td>-1.995267</td>\n",
       "      <td>2.311078</td>\n",
       "      <td>-1.257884</td>\n",
       "      <td>-0.628304</td>\n",
       "      <td>2.435284</td>\n",
       "      <td>0.982164</td>\n",
       "      <td>-0.914149</td>\n",
       "      <td>-1.390325</td>\n",
       "      <td>...</td>\n",
       "      <td>0.0</td>\n",
       "      <td>0.0</td>\n",
       "      <td>0.0</td>\n",
       "      <td>1.0</td>\n",
       "      <td>1.0</td>\n",
       "      <td>1.0</td>\n",
       "      <td>1.0</td>\n",
       "      <td>1.0</td>\n",
       "      <td>0.0</td>\n",
       "      <td>1.0</td>\n",
       "    </tr>\n",
       "    <tr>\n",
       "      <th>4</th>\n",
       "      <td>2.338811</td>\n",
       "      <td>-1.274630</td>\n",
       "      <td>2.621520</td>\n",
       "      <td>-0.548806</td>\n",
       "      <td>1.191179</td>\n",
       "      <td>-0.019986</td>\n",
       "      <td>-1.173048</td>\n",
       "      <td>-1.455618</td>\n",
       "      <td>1.569123</td>\n",
       "      <td>2.938665</td>\n",
       "      <td>...</td>\n",
       "      <td>1.0</td>\n",
       "      <td>1.0</td>\n",
       "      <td>1.0</td>\n",
       "      <td>0.0</td>\n",
       "      <td>1.0</td>\n",
       "      <td>1.0</td>\n",
       "      <td>1.0</td>\n",
       "      <td>1.0</td>\n",
       "      <td>1.0</td>\n",
       "      <td>1.0</td>\n",
       "    </tr>\n",
       "    <tr>\n",
       "      <th>...</th>\n",
       "      <td>...</td>\n",
       "      <td>...</td>\n",
       "      <td>...</td>\n",
       "      <td>...</td>\n",
       "      <td>...</td>\n",
       "      <td>...</td>\n",
       "      <td>...</td>\n",
       "      <td>...</td>\n",
       "      <td>...</td>\n",
       "      <td>...</td>\n",
       "      <td>...</td>\n",
       "      <td>...</td>\n",
       "      <td>...</td>\n",
       "      <td>...</td>\n",
       "      <td>...</td>\n",
       "      <td>...</td>\n",
       "      <td>...</td>\n",
       "      <td>...</td>\n",
       "      <td>...</td>\n",
       "      <td>...</td>\n",
       "      <td>...</td>\n",
       "    </tr>\n",
       "    <tr>\n",
       "      <th>2833</th>\n",
       "      <td>1.655712</td>\n",
       "      <td>-0.038234</td>\n",
       "      <td>0.152297</td>\n",
       "      <td>0.340936</td>\n",
       "      <td>0.978217</td>\n",
       "      <td>-0.035994</td>\n",
       "      <td>-0.111774</td>\n",
       "      <td>-0.360240</td>\n",
       "      <td>-0.070966</td>\n",
       "      <td>-0.113936</td>\n",
       "      <td>...</td>\n",
       "      <td>1.0</td>\n",
       "      <td>1.0</td>\n",
       "      <td>1.0</td>\n",
       "      <td>1.0</td>\n",
       "      <td>1.0</td>\n",
       "      <td>1.0</td>\n",
       "      <td>1.0</td>\n",
       "      <td>1.0</td>\n",
       "      <td>1.0</td>\n",
       "      <td>1.0</td>\n",
       "    </tr>\n",
       "    <tr>\n",
       "      <th>2834</th>\n",
       "      <td>1.655712</td>\n",
       "      <td>-0.038234</td>\n",
       "      <td>0.080348</td>\n",
       "      <td>0.340936</td>\n",
       "      <td>0.978217</td>\n",
       "      <td>-0.035994</td>\n",
       "      <td>-0.111774</td>\n",
       "      <td>-0.026024</td>\n",
       "      <td>0.268605</td>\n",
       "      <td>0.170043</td>\n",
       "      <td>...</td>\n",
       "      <td>1.0</td>\n",
       "      <td>1.0</td>\n",
       "      <td>1.0</td>\n",
       "      <td>1.0</td>\n",
       "      <td>1.0</td>\n",
       "      <td>1.0</td>\n",
       "      <td>1.0</td>\n",
       "      <td>1.0</td>\n",
       "      <td>1.0</td>\n",
       "      <td>1.0</td>\n",
       "    </tr>\n",
       "    <tr>\n",
       "      <th>2835</th>\n",
       "      <td>1.655712</td>\n",
       "      <td>-0.038234</td>\n",
       "      <td>0.062461</td>\n",
       "      <td>0.340936</td>\n",
       "      <td>0.978217</td>\n",
       "      <td>-0.035994</td>\n",
       "      <td>-0.182525</td>\n",
       "      <td>0.015043</td>\n",
       "      <td>0.242551</td>\n",
       "      <td>0.199451</td>\n",
       "      <td>...</td>\n",
       "      <td>1.0</td>\n",
       "      <td>1.0</td>\n",
       "      <td>1.0</td>\n",
       "      <td>1.0</td>\n",
       "      <td>1.0</td>\n",
       "      <td>1.0</td>\n",
       "      <td>1.0</td>\n",
       "      <td>1.0</td>\n",
       "      <td>1.0</td>\n",
       "      <td>1.0</td>\n",
       "    </tr>\n",
       "    <tr>\n",
       "      <th>2836</th>\n",
       "      <td>1.655712</td>\n",
       "      <td>-0.038234</td>\n",
       "      <td>0.011580</td>\n",
       "      <td>0.340936</td>\n",
       "      <td>0.978217</td>\n",
       "      <td>-0.035994</td>\n",
       "      <td>-0.111774</td>\n",
       "      <td>-0.269806</td>\n",
       "      <td>-0.184245</td>\n",
       "      <td>-0.208669</td>\n",
       "      <td>...</td>\n",
       "      <td>1.0</td>\n",
       "      <td>1.0</td>\n",
       "      <td>1.0</td>\n",
       "      <td>1.0</td>\n",
       "      <td>1.0</td>\n",
       "      <td>1.0</td>\n",
       "      <td>1.0</td>\n",
       "      <td>1.0</td>\n",
       "      <td>1.0</td>\n",
       "      <td>1.0</td>\n",
       "    </tr>\n",
       "    <tr>\n",
       "      <th>2837</th>\n",
       "      <td>-0.393586</td>\n",
       "      <td>-0.888257</td>\n",
       "      <td>-0.337321</td>\n",
       "      <td>-0.358147</td>\n",
       "      <td>-0.885200</td>\n",
       "      <td>-0.372170</td>\n",
       "      <td>-0.890041</td>\n",
       "      <td>0.519073</td>\n",
       "      <td>-0.852732</td>\n",
       "      <td>-0.335264</td>\n",
       "      <td>...</td>\n",
       "      <td>1.0</td>\n",
       "      <td>1.0</td>\n",
       "      <td>1.0</td>\n",
       "      <td>1.0</td>\n",
       "      <td>0.0</td>\n",
       "      <td>1.0</td>\n",
       "      <td>1.0</td>\n",
       "      <td>1.0</td>\n",
       "      <td>1.0</td>\n",
       "      <td>1.0</td>\n",
       "    </tr>\n",
       "  </tbody>\n",
       "</table>\n",
       "<p>2838 rows × 326 columns</p>\n",
       "</div>"
      ],
      "text/plain": [
       "       hit len  flanking GC content  flanking MFEI  hit GC content  \\\n",
       "0     2.338811            -0.810982       1.423757       -0.548806   \n",
       "1     2.338811            -1.429180       1.955559       -1.057230   \n",
       "2    -1.076685             2.975481      -1.682977        2.946608   \n",
       "3    -1.076685             2.511833      -1.995267        2.311078   \n",
       "4     2.338811            -1.274630       2.621520       -0.548806   \n",
       "...        ...                  ...            ...             ...   \n",
       "2833  1.655712            -0.038234       0.152297        0.340936   \n",
       "2834  1.655712            -0.038234       0.080348        0.340936   \n",
       "2835  1.655712            -0.038234       0.062461        0.340936   \n",
       "2836  1.655712            -0.038234       0.011580        0.340936   \n",
       "2837 -0.393586            -0.888257      -0.337321       -0.358147   \n",
       "\n",
       "      hit complementarity percentage  num of linking residues  boi GC content  \\\n",
       "0                           1.404141                -0.019986       -0.890041   \n",
       "1                           0.552293                -0.180070       -1.314551   \n",
       "2                          -0.459276                -0.388179        2.718290   \n",
       "3                          -1.257884                -0.628304        2.435284   \n",
       "4                           1.191179                -0.019986       -1.173048   \n",
       "...                              ...                      ...             ...   \n",
       "2833                        0.978217                -0.035994       -0.111774   \n",
       "2834                        0.978217                -0.035994       -0.111774   \n",
       "2835                        0.978217                -0.035994       -0.182525   \n",
       "2836                        0.978217                -0.035994       -0.111774   \n",
       "2837                       -0.885200                -0.372170       -0.890041   \n",
       "\n",
       "      boi delta G  boi AMFE  boi MFEI  ...  connectivity hit start-2  \\\n",
       "0       -2.130301  2.037410  2.863688  ...                       1.0   \n",
       "1       -0.754888  0.355337  1.667516  ...                       1.0   \n",
       "2        0.932424 -0.991195 -1.458039  ...                       0.0   \n",
       "3        0.982164 -0.914149 -1.390325  ...                       0.0   \n",
       "4       -1.455618  1.569123  2.938665  ...                       1.0   \n",
       "...           ...       ...       ...  ...                       ...   \n",
       "2833    -0.360240 -0.070966 -0.113936  ...                       1.0   \n",
       "2834    -0.026024  0.268605  0.170043  ...                       1.0   \n",
       "2835     0.015043  0.242551  0.199451  ...                       1.0   \n",
       "2836    -0.269806 -0.184245 -0.208669  ...                       1.0   \n",
       "2837     0.519073 -0.852732 -0.335264  ...                       1.0   \n",
       "\n",
       "      connectivity hit end-2  connectivity hit start-1  \\\n",
       "0                        1.0                       1.0   \n",
       "1                        0.0                       1.0   \n",
       "2                        0.0                       0.0   \n",
       "3                        0.0                       0.0   \n",
       "4                        1.0                       1.0   \n",
       "...                      ...                       ...   \n",
       "2833                     1.0                       1.0   \n",
       "2834                     1.0                       1.0   \n",
       "2835                     1.0                       1.0   \n",
       "2836                     1.0                       1.0   \n",
       "2837                     1.0                       1.0   \n",
       "\n",
       "      connectivity hit end-1  connectivity hit start  connectivity hit end  \\\n",
       "0                        1.0                     1.0                   1.0   \n",
       "1                        1.0                     0.0                   1.0   \n",
       "2                        0.0                     1.0                   0.0   \n",
       "3                        1.0                     1.0                   1.0   \n",
       "4                        0.0                     1.0                   1.0   \n",
       "...                      ...                     ...                   ...   \n",
       "2833                     1.0                     1.0                   1.0   \n",
       "2834                     1.0                     1.0                   1.0   \n",
       "2835                     1.0                     1.0                   1.0   \n",
       "2836                     1.0                     1.0                   1.0   \n",
       "2837                     1.0                     0.0                   1.0   \n",
       "\n",
       "      connectivity hit start+1  connectivity hit end+1  \\\n",
       "0                          1.0                     1.0   \n",
       "1                          1.0                     1.0   \n",
       "2                          1.0                     0.0   \n",
       "3                          1.0                     1.0   \n",
       "4                          1.0                     1.0   \n",
       "...                        ...                     ...   \n",
       "2833                       1.0                     1.0   \n",
       "2834                       1.0                     1.0   \n",
       "2835                       1.0                     1.0   \n",
       "2836                       1.0                     1.0   \n",
       "2837                       1.0                     1.0   \n",
       "\n",
       "      connectivity hit start+2  connectivity hit end+2  \n",
       "0                          1.0                     1.0  \n",
       "1                          1.0                     1.0  \n",
       "2                          0.0                     1.0  \n",
       "3                          0.0                     1.0  \n",
       "4                          1.0                     1.0  \n",
       "...                        ...                     ...  \n",
       "2833                       1.0                     1.0  \n",
       "2834                       1.0                     1.0  \n",
       "2835                       1.0                     1.0  \n",
       "2836                       1.0                     1.0  \n",
       "2837                       1.0                     1.0  \n",
       "\n",
       "[2838 rows x 326 columns]"
      ]
     },
     "metadata": {},
     "output_type": "display_data"
    },
    {
     "name": "stdout",
     "output_type": "stream",
     "text": [
      "total data: 2838\n"
     ]
    }
   ],
   "source": [
    "load(plant=\"O.sativa\", mu=mu, std=std);"
   ]
  },
  {
   "cell_type": "markdown",
   "metadata": {
    "id": "Yqno44cv5iiY"
   },
   "source": [
    "## A.thaliana"
   ]
  },
  {
   "cell_type": "code",
   "execution_count": 15,
   "metadata": {
    "ExecuteTime": {
     "end_time": "2022-12-19T15:43:19.583897Z",
     "start_time": "2022-12-19T15:42:31.694535Z"
    },
    "colab": {
     "base_uri": "https://localhost:8080/"
    },
    "executionInfo": {
     "elapsed": 74865,
     "status": "ok",
     "timestamp": 1655632476543,
     "user": {
      "displayName": "Ilia abolhasani",
      "userId": "05829853781998776186"
     },
     "user_tz": -270
    },
    "id": "OB3UG8T4QwmB",
    "outputId": "6d21272f-fa48-4092-f466-0ec387fffe14"
   },
   "outputs": [
    {
     "name": "stdout",
     "output_type": "stream",
     "text": [
      "Print positive shape: 847\n",
      "Print negative shape: 5464\n",
      "total data: 1694\n"
     ]
    }
   ],
   "source": [
    "load(plant=\"A.thaliana\", mu=mu, std=std);"
   ]
  },
  {
   "cell_type": "markdown",
   "metadata": {
    "id": "TlT1KSuI5mJX"
   },
   "source": [
    "## C.sinensis"
   ]
  },
  {
   "cell_type": "code",
   "execution_count": 16,
   "metadata": {
    "ExecuteTime": {
     "end_time": "2022-12-19T15:43:30.178337Z",
     "start_time": "2022-12-19T15:43:19.587998Z"
    },
    "colab": {
     "base_uri": "https://localhost:8080/"
    },
    "executionInfo": {
     "elapsed": 354197,
     "status": "ok",
     "timestamp": 1655632830715,
     "user": {
      "displayName": "Ilia abolhasani",
      "userId": "05829853781998776186"
     },
     "user_tz": -270
    },
    "id": "9FPW6VlKs1bK",
    "outputId": "341c2d64-db53-4a45-a698-880088ee52de"
   },
   "outputs": [
    {
     "name": "stdout",
     "output_type": "stream",
     "text": [
      "Print positive shape: 540\n",
      "Print negative shape: 914\n",
      "total data: 1080\n"
     ]
    }
   ],
   "source": [
    "load(plant=\"C.sinensis\", mu=mu, std=std);"
   ]
  },
  {
   "cell_type": "markdown",
   "metadata": {
    "id": "zKOjU6DD5oCk"
   },
   "source": [
    "## Z.mays"
   ]
  },
  {
   "cell_type": "code",
   "execution_count": 17,
   "metadata": {
    "ExecuteTime": {
     "end_time": "2022-12-19T15:43:45.546213Z",
     "start_time": "2022-12-19T15:43:30.181935Z"
    },
    "colab": {
     "base_uri": "https://localhost:8080/"
    },
    "executionInfo": {
     "elapsed": 500447,
     "status": "ok",
     "timestamp": 1655633331146,
     "user": {
      "displayName": "Ilia abolhasani",
      "userId": "05829853781998776186"
     },
     "user_tz": -270
    },
    "id": "46WuwgG0Ud8k",
    "outputId": "eaa997aa-aadf-4cdd-d9c5-34cfdb43fe83",
    "scrolled": true
   },
   "outputs": [
    {
     "name": "stdout",
     "output_type": "stream",
     "text": [
      "Print positive shape: 625\n",
      "Print negative shape: 1384\n",
      "total data: 1250\n"
     ]
    }
   ],
   "source": [
    "load(plant=\"Z.mays\", mu=mu, std=std);"
   ]
  },
  {
   "cell_type": "markdown",
   "metadata": {},
   "source": [
    "## T.aestivum"
   ]
  },
  {
   "cell_type": "code",
   "execution_count": 18,
   "metadata": {
    "ExecuteTime": {
     "end_time": "2022-12-19T15:45:04.991730Z",
     "start_time": "2022-12-19T15:43:45.549738Z"
    }
   },
   "outputs": [
    {
     "name": "stdout",
     "output_type": "stream",
     "text": [
      "Print positive shape: 421\n",
      "Print negative shape: 10363\n",
      "total data: 842\n"
     ]
    }
   ],
   "source": [
    "load(plant=\"T.aestivum\", mu=mu, std=std);"
   ]
  },
  {
   "cell_type": "markdown",
   "metadata": {},
   "source": [
    "## G.max"
   ]
  },
  {
   "cell_type": "code",
   "execution_count": 19,
   "metadata": {
    "ExecuteTime": {
     "end_time": "2022-12-19T15:45:50.247492Z",
     "start_time": "2022-12-19T15:45:04.995327Z"
    }
   },
   "outputs": [
    {
     "name": "stdout",
     "output_type": "stream",
     "text": [
      "Print positive shape: 1115\n",
      "Print negative shape: 5008\n",
      "total data: 2230\n"
     ]
    }
   ],
   "source": [
    "load(plant=\"G.max\", mu=mu, std=std);"
   ]
  },
  {
   "cell_type": "markdown",
   "metadata": {},
   "source": [
    "## G.raimondii"
   ]
  },
  {
   "cell_type": "code",
   "execution_count": 20,
   "metadata": {
    "ExecuteTime": {
     "end_time": "2022-12-19T15:47:15.097409Z",
     "start_time": "2022-12-19T15:45:50.254094Z"
    }
   },
   "outputs": [
    {
     "name": "stdout",
     "output_type": "stream",
     "text": [
      "Print positive shape: 822\n",
      "Print negative shape: 10576\n",
      "total data: 1644\n"
     ]
    }
   ],
   "source": [
    "load(plant=\"G.raimondii\", mu=mu, std=std);"
   ]
  },
  {
   "cell_type": "markdown",
   "metadata": {},
   "source": [
    "## M.truncatula"
   ]
  },
  {
   "cell_type": "code",
   "execution_count": 21,
   "metadata": {
    "ExecuteTime": {
     "end_time": "2022-12-19T15:48:02.716850Z",
     "start_time": "2022-12-19T15:47:15.102141Z"
    }
   },
   "outputs": [
    {
     "name": "stdout",
     "output_type": "stream",
     "text": [
      "Print positive shape: 971\n",
      "Print negative shape: 5613\n",
      "total data: 1942\n"
     ]
    }
   ],
   "source": [
    "load(plant=\"M.truncatula\", mu=mu, std=std);"
   ]
  },
  {
   "cell_type": "markdown",
   "metadata": {},
   "source": [
    "## S.bicolor"
   ]
  },
  {
   "cell_type": "code",
   "execution_count": 22,
   "metadata": {
    "ExecuteTime": {
     "end_time": "2022-12-19T15:48:35.047815Z",
     "start_time": "2022-12-19T15:48:02.720746Z"
    }
   },
   "outputs": [
    {
     "name": "stdout",
     "output_type": "stream",
     "text": [
      "Print positive shape: 528\n",
      "Print negative shape: 3841\n",
      "total data: 1056\n"
     ]
    }
   ],
   "source": [
    "load(plant=\"S.bicolor\", mu=mu, std=std);"
   ]
  },
  {
   "cell_type": "markdown",
   "metadata": {},
   "source": [
    "## H.vulgare"
   ]
  },
  {
   "cell_type": "code",
   "execution_count": 23,
   "metadata": {
    "ExecuteTime": {
     "end_time": "2022-12-19T15:48:35.055217Z",
     "start_time": "2022-12-19T15:48:35.051502Z"
    }
   },
   "outputs": [],
   "source": [
    "#load(plant=\"H.vulgare\", mu=mu, std=std);"
   ]
  },
  {
   "cell_type": "markdown",
   "metadata": {
    "heading_collapsed": true,
    "id": "JNmcvnfJZhok"
   },
   "source": [
    "# Train Test split and class weight"
   ]
  },
  {
   "cell_type": "code",
   "execution_count": 24,
   "metadata": {
    "ExecuteTime": {
     "end_time": "2022-12-19T15:48:35.066754Z",
     "start_time": "2022-12-19T15:48:35.058612Z"
    },
    "hidden": true
   },
   "outputs": [],
   "source": [
    "def get_dataset(plant_list, val_size=0.33, random_state=0):\n",
    "    x_list = []\n",
    "    y_list = []\n",
    "    for plant in plant_list:\n",
    "        x_list.append(data[plant]['feature'])\n",
    "        y_list.append(data[plant]['target'])\n",
    "    X = pd.concat(x_list)\n",
    "    Y = np.concatenate(y_list)\n",
    "    X_train, X_val, y_train, y_val = train_test_split(X, Y, test_size=val_size, random_state=random_state)\n",
    "    class_weight = {\n",
    "        0: 1.,\n",
    "        1: (sum(y_train[:,0]) + sum(y_val[:,0])) / (sum(y_train[:,1]) + sum(y_val[:,1]))\n",
    "    }        \n",
    "    return [X_train, X_val, y_train, y_val, class_weight]    "
   ]
  },
  {
   "cell_type": "markdown",
   "metadata": {
    "heading_collapsed": true,
    "id": "-1L8jIc5WkbW"
   },
   "source": [
    "# Deep learning model"
   ]
  },
  {
   "cell_type": "code",
   "execution_count": 118,
   "metadata": {
    "ExecuteTime": {
     "end_time": "2022-12-26T16:04:00.212778Z",
     "start_time": "2022-12-26T16:04:00.200635Z"
    },
    "colab": {
     "base_uri": "https://localhost:8080/"
    },
    "executionInfo": {
     "elapsed": 950,
     "status": "ok",
     "timestamp": 1655667634792,
     "user": {
      "displayName": "Ilia abolhasani",
      "userId": "05829853781998776186"
     },
     "user_tz": -270
    },
    "hidden": true,
    "id": "PTWcv4craZYB",
    "outputId": "8dbffa2a-b740-44d7-f880-5e2f45900a84"
   },
   "outputs": [],
   "source": [
    "def get_model(input_dimension, show=False):    \n",
    "    model = Sequential()\n",
    "    model.add(Input(shape=(input_dimension,)))            \n",
    "    model.add(Dense(512, activation='selu'))    \n",
    "    model.add(BatchNormalization())\n",
    "    model.add(Dropout(0.85))    \n",
    "    model.add(Dense(256, activation='selu'))\n",
    "    model.add(BatchNormalization())\n",
    "    model.add(Dropout(0.85))    \n",
    "    model.add(Dense(128, activation='selu'))\n",
    "    model.add(BatchNormalization())\n",
    "    model.add(Dropout(0.75))    \n",
    "    model.add(Dense(64, activation='selu'))\n",
    "    model.add(BatchNormalization())\n",
    "    model.add(Dropout(0.5))    \n",
    "    model.add(Dense(32, activation='selu'))\n",
    "    model.add(BatchNormalization())\n",
    "    model.add(Dropout(0.25))    \n",
    "    model.add(Dense(16, activation='selu'))\n",
    "    model.add(BatchNormalization())\n",
    "    model.add(Dropout(0.25))     \n",
    "    model.add(Dense(8, activation='selu'))        \n",
    "    model.add(BatchNormalization())\n",
    "    model.add(Dropout(0.25)) \n",
    "    #model.add(Dense(4, activation='selu'))        \n",
    "    #model.add(BatchNormalization())\n",
    "    #model.add(Dropout(0.25)) \n",
    "    model.add(Dense(2, activation='softmax'))\n",
    "    if(show):\n",
    "        print(model.summary())\n",
    "    return model    "
   ]
  },
  {
   "cell_type": "code",
   "execution_count": 119,
   "metadata": {
    "ExecuteTime": {
     "end_time": "2022-12-26T16:04:00.739663Z",
     "start_time": "2022-12-26T16:04:00.730150Z"
    },
    "colab": {
     "base_uri": "https://localhost:8080/"
    },
    "executionInfo": {
     "elapsed": 447493,
     "status": "ok",
     "timestamp": 1655473082392,
     "user": {
      "displayName": "Ilia abolhasani",
      "userId": "05829853781998776186"
     },
     "user_tz": -270
    },
    "hidden": true,
    "id": "CusrPoF6atqa",
    "outputId": "633aa430-f43e-4965-beb7-f5a6f74378ff",
    "scrolled": false
   },
   "outputs": [],
   "source": [
    "def train(model, x_train, x_val, y_train, y_val, class_weight, batch_size, learning_rate,  epochs = 100, save=False):\n",
    "    callbacks_list = [\n",
    "                      tf.keras.callbacks.EarlyStopping( monitor=\"val_loss\", patience=10, restore_best_weights=True),\n",
    "                     ]    \n",
    "    lr_schedule = tf.keras.optimizers.schedules.ExponentialDecay(\n",
    "        initial_learning_rate=learning_rate,\n",
    "        decay_steps=1000,\n",
    "        decay_rate=0.99)\n",
    "    \n",
    "    optimizer = tf.keras.optimizers.Adam(lr_schedule)    \n",
    "\n",
    "    model.compile(loss = \"categorical_crossentropy\",                \n",
    "                  optimizer=optimizer,\n",
    "                  metrics = [\"acc\"])\n",
    "    epochs = 100    \n",
    "    history = model.fit(x_train,\n",
    "                        y_train,\n",
    "                        class_weight=class_weight,\n",
    "                        batch_size=batch_size,\n",
    "                        validation_data=(x_val, y_val),\n",
    "                        epochs=epochs,\n",
    "                        callbacks=callbacks_list,\n",
    "                        use_multiprocessing=True,\n",
    "                        verbose=0) \n",
    "    if(save):\n",
    "        json.dump(str(history.history), open(f\"./history.pkl\", \"w\"))\n",
    "        model.save(f'./Model.h5')\n",
    "    return [model, history]"
   ]
  },
  {
   "cell_type": "code",
   "execution_count": 120,
   "metadata": {
    "ExecuteTime": {
     "end_time": "2022-12-26T16:04:01.344964Z",
     "start_time": "2022-12-26T16:04:01.336471Z"
    },
    "hidden": true,
    "scrolled": true
   },
   "outputs": [],
   "source": [
    "def plot_history(history):\n",
    "    plt.figure(figsize=(15, 5))\n",
    "    plt.plot(history.history['acc'], linewidth=3)\n",
    "    plt.plot(history.history['val_acc'], linewidth=3)\n",
    "    plt.title('model accuracy')\n",
    "    plt.ylabel('accuracy')\n",
    "    plt.xlabel('epoch')\n",
    "    plt.legend(['train', 'val'], loc='upper left')\n",
    "    plt.show()\n",
    "\n",
    "    plt.figure(figsize=(15, 5))\n",
    "    plt.plot(history.history['loss'], linewidth=3)\n",
    "    plt.plot(history.history['val_loss'], linewidth=3)\n",
    "    plt.title('model loss')\n",
    "    plt.ylabel('loss')\n",
    "    plt.xlabel('epoch')\n",
    "    plt.legend(['train', 'val'])\n",
    "    plt.show()"
   ]
  },
  {
   "cell_type": "markdown",
   "metadata": {},
   "source": [
    "# 10 fold cross validation"
   ]
  },
  {
   "cell_type": "code",
   "execution_count": 121,
   "metadata": {
    "ExecuteTime": {
     "end_time": "2022-12-26T17:02:53.075901Z",
     "start_time": "2022-12-26T16:04:02.665528Z"
    },
    "scrolled": true
   },
   "outputs": [
    {
     "name": "stdout",
     "output_type": "stream",
     "text": [
      "9/9 [==============================] - 1s 4ms/step\n",
      "9/9 [==============================] - 1s 5ms/step\n",
      "9/9 [==============================] - 1s 4ms/step\n",
      "9/9 [==============================] - 1s 5ms/step\n",
      "9/9 [==============================] - 1s 4ms/step\n",
      "9/9 [==============================] - 1s 5ms/step\n",
      "9/9 [==============================] - 1s 5ms/step\n",
      "9/9 [==============================] - 1s 5ms/step\n",
      "9/9 [==============================] - 1s 4ms/step\n",
      "9/9 [==============================] - 1s 4ms/step\n",
      "6/6 [==============================] - 1s 5ms/step\n",
      "6/6 [==============================] - 0s 4ms/step\n",
      "6/6 [==============================] - 0s 4ms/step\n",
      "6/6 [==============================] - 0s 4ms/step\n",
      "6/6 [==============================] - 0s 5ms/step\n",
      "6/6 [==============================] - 0s 5ms/step\n",
      "6/6 [==============================] - 0s 4ms/step\n",
      "6/6 [==============================] - 0s 5ms/step\n",
      "6/6 [==============================] - 1s 4ms/step\n",
      "6/6 [==============================] - 1s 5ms/step\n",
      "4/4 [==============================] - 1s 5ms/step\n",
      "4/4 [==============================] - 0s 5ms/step\n",
      "4/4 [==============================] - 0s 5ms/step\n",
      "4/4 [==============================] - 1s 5ms/step\n",
      "4/4 [==============================] - 0s 5ms/step\n",
      "4/4 [==============================] - 1s 5ms/step\n",
      "4/4 [==============================] - 0s 5ms/step\n",
      "4/4 [==============================] - 0s 5ms/step\n",
      "4/4 [==============================] - 0s 6ms/step\n",
      "4/4 [==============================] - 0s 4ms/step\n",
      "4/4 [==============================] - 1s 5ms/step\n",
      "4/4 [==============================] - 1s 5ms/step\n",
      "4/4 [==============================] - 1s 5ms/step\n",
      "4/4 [==============================] - 1s 5ms/step\n",
      "4/4 [==============================] - 1s 6ms/step\n",
      "4/4 [==============================] - 1s 5ms/step\n",
      "4/4 [==============================] - 0s 5ms/step\n",
      "4/4 [==============================] - 1s 5ms/step\n",
      "4/4 [==============================] - 0s 5ms/step\n",
      "4/4 [==============================] - 0s 5ms/step\n",
      "3/3 [==============================] - 0s 5ms/step\n",
      "3/3 [==============================] - 0s 6ms/step\n",
      "3/3 [==============================] - 0s 6ms/step\n",
      "3/3 [==============================] - 1s 5ms/step\n",
      "3/3 [==============================] - 1s 6ms/step\n",
      "3/3 [==============================] - 1s 5ms/step\n",
      "3/3 [==============================] - 1s 6ms/step\n",
      "3/3 [==============================] - 1s 6ms/step\n",
      "3/3 [==============================] - 1s 8ms/step\n",
      "3/3 [==============================] - 0s 6ms/step\n",
      "7/7 [==============================] - 1s 5ms/step\n",
      "7/7 [==============================] - 1s 5ms/step\n",
      "7/7 [==============================] - 0s 4ms/step\n",
      "7/7 [==============================] - 0s 4ms/step\n",
      "7/7 [==============================] - 0s 5ms/step\n",
      "7/7 [==============================] - 0s 5ms/step\n",
      "7/7 [==============================] - 1s 5ms/step\n",
      "7/7 [==============================] - 1s 5ms/step\n",
      "7/7 [==============================] - 1s 5ms/step\n",
      "7/7 [==============================] - 1s 5ms/step\n",
      "6/6 [==============================] - 1s 4ms/step\n",
      "6/6 [==============================] - 0s 5ms/step\n",
      "6/6 [==============================] - 0s 5ms/step\n",
      "6/6 [==============================] - 1s 5ms/step\n",
      "6/6 [==============================] - 0s 5ms/step\n",
      "6/6 [==============================] - 0s 4ms/step\n",
      "6/6 [==============================] - 0s 5ms/step\n",
      "6/6 [==============================] - 0s 5ms/step\n",
      "6/6 [==============================] - 1s 6ms/step\n",
      "6/6 [==============================] - 0s 4ms/step\n",
      "7/7 [==============================] - 1s 6ms/step\n",
      "7/7 [==============================] - 1s 5ms/step\n",
      "7/7 [==============================] - 1s 4ms/step\n",
      "7/7 [==============================] - 1s 4ms/step\n",
      "7/7 [==============================] - 1s 4ms/step\n",
      "7/7 [==============================] - 1s 4ms/step\n",
      "7/7 [==============================] - 1s 4ms/step\n",
      "7/7 [==============================] - 1s 4ms/step\n",
      "7/7 [==============================] - 1s 4ms/step\n",
      "7/7 [==============================] - 0s 5ms/step\n",
      "4/4 [==============================] - 0s 5ms/step\n",
      "4/4 [==============================] - 0s 6ms/step\n",
      "4/4 [==============================] - 1s 5ms/step\n",
      "4/4 [==============================] - 1s 5ms/step\n",
      "4/4 [==============================] - 1s 5ms/step\n",
      "4/4 [==============================] - 1s 5ms/step\n",
      "4/4 [==============================] - 0s 5ms/step\n",
      "4/4 [==============================] - 1s 5ms/step\n",
      "4/4 [==============================] - 1s 5ms/step\n",
      "4/4 [==============================] - 1s 5ms/step\n"
     ]
    }
   ],
   "source": [
    "result = {}\n",
    "for plant in all_plant:     \n",
    "    X = data[plant]['df'] \n",
    "    feature = data[plant]['feature']\n",
    "    Y = data[plant]['target']        \n",
    "    kf = KFold(n_splits=10, shuffle=True)    \n",
    "    result_list = []\n",
    "    for train_index, test_index in kf.split(feature):    \n",
    "        X_train, X_val, y_train, y_val = train_test_split(feature.iloc[train_index], Y[train_index], test_size=0.2, random_state=0)\n",
    "        class_weight = {\n",
    "            0: 1.,\n",
    "            1: (sum(y_train[:,0]) + sum(y_val[:,0])) / (sum(y_train[:,1]) + sum(y_val[:,1]))\n",
    "        }               \n",
    "        model = get_model(X_train.shape[1])\n",
    "        [model, history] = train(model, X_train, X_val, y_train, y_val, class_weight, batch_size=32, learning_rate = 0.002, epochs=500)\n",
    "        y_true = np.argmax(Y[test_index], axis=1)\n",
    "        pred = model.predict(feature.iloc[test_index])        \n",
    "        fpr, tpr, thresh = metrics.roc_curve(y_true, pd.DataFrame(pred)[1])\n",
    "        roc_auc = metrics.auc(fpr, tpr)    \n",
    "        y_pred = np.argmax(pred, axis=1)\n",
    "        tn, fp, fn, tp = metrics.confusion_matrix(y_true, y_pred, labels=[0, 1]).ravel()        \n",
    "        result_list.append({\n",
    "            \"accuracy\": metrics.accuracy_score(y_true, y_pred),\n",
    "            \"precision\": metrics.precision_score(y_true, y_pred),\n",
    "            \"recall\": metrics.recall_score(y_true, y_pred),\n",
    "            \"specificity\": tn / (tn+fp),\n",
    "            \"f1\": metrics.f1_score(y_true, y_pred),\n",
    "            \"mcc\": metrics.matthews_corrcoef(y_true, y_pred),            \n",
    "            \"auc\": roc_auc\n",
    "        })            \n",
    "        \n",
    "    # mean and std\n",
    "    result[plant] = {}\n",
    "    for metric in [\"accuracy\", \"precision\", \"recall\", \"specificity\", \"f1\", \"mcc\", \"auc\"]:        \n",
    "        temp = pd.Series([item[metric] for item in result_list])        \n",
    "        result[plant][metric] = {}\n",
    "        result[plant][metric]['min'] = temp.min()\n",
    "        result[plant][metric]['max'] = temp.max()\n",
    "        result[plant][metric]['median'] = temp.median()\n",
    "        result[plant][metric]['mean'] = temp.mean()\n",
    "        result[plant][metric]['std'] = temp.std()\n",
    "        result[plant][metric]['var'] = temp.var()        "
   ]
  },
  {
   "cell_type": "code",
   "execution_count": 122,
   "metadata": {
    "ExecuteTime": {
     "end_time": "2022-12-26T17:02:53.108224Z",
     "start_time": "2022-12-26T17:02:53.081935Z"
    }
   },
   "outputs": [
    {
     "name": "stdout",
     "output_type": "stream",
     "text": [
      "accuracy - min\n",
      "accuracy - max\n",
      "accuracy - median\n",
      "accuracy - mean\n",
      "accuracy - std\n",
      "accuracy - var\n",
      "precision - min\n",
      "precision - max\n",
      "precision - median\n",
      "precision - mean\n",
      "precision - std\n",
      "precision - var\n",
      "recall - min\n",
      "recall - max\n",
      "recall - median\n",
      "recall - mean\n",
      "recall - std\n",
      "recall - var\n",
      "specificity - min\n",
      "specificity - max\n",
      "specificity - median\n",
      "specificity - mean\n",
      "specificity - std\n",
      "specificity - var\n",
      "f1 - min\n",
      "f1 - max\n",
      "f1 - median\n",
      "f1 - mean\n",
      "f1 - std\n",
      "f1 - var\n",
      "mcc - min\n",
      "mcc - max\n",
      "mcc - median\n",
      "mcc - mean\n",
      "mcc - std\n",
      "mcc - var\n",
      "auc - min\n",
      "auc - max\n",
      "auc - median\n",
      "auc - mean\n",
      "auc - std\n",
      "auc - var\n"
     ]
    }
   ],
   "source": [
    "for metric in result[plant]:       \n",
    "    for des in result[plant][metric]:           \n",
    "        print(f\"{metric} - {des}\")"
   ]
  },
  {
   "cell_type": "code",
   "execution_count": 123,
   "metadata": {
    "ExecuteTime": {
     "end_time": "2022-12-26T17:02:53.132500Z",
     "start_time": "2022-12-26T17:02:53.113613Z"
    }
   },
   "outputs": [
    {
     "name": "stdout",
     "output_type": "stream",
     "text": [
      "O.sativa 0.9261 0.9507 0.9437 0.9419 0.008 0.0001 0.8968 0.9781 0.9328 0.9368 0.0236 0.0006 0.9034 0.9716 0.9531 0.9486 0.0225 0.0005 0.8857 0.9784 0.9406 0.9352 0.0269 0.0007 0.9298 0.9527 0.9444 0.9422 0.0077 0.0001 0.8545 0.9029 0.888 0.8845 0.0155 0.0002 0.9773 0.993 0.9852 0.9842 0.0053 0.0 \n",
      "A.thaliana 0.9586 0.9941 0.9822 0.9787 0.0119 0.0001 0.931 0.9888 0.9827 0.9759 0.0183 0.0003 0.9512 1.0 0.9874 0.9824 0.0149 0.0002 0.931 0.9894 0.983 0.9747 0.0204 0.0004 0.9586 0.9944 0.9803 0.979 0.0112 0.0001 0.9188 0.9882 0.9642 0.9574 0.0237 0.0006 0.9883 1.0 0.999 0.9966 0.0042 0.0 \n",
      "C.sinensis 0.9537 1.0 0.9815 0.9796 0.015 0.0002 0.9423 1.0 0.974 0.9754 0.0204 0.0004 0.9464 1.0 0.9904 0.9823 0.0212 0.0004 0.9474 1.0 0.975 0.9765 0.0192 0.0004 0.9515 1.0 0.9819 0.9787 0.0166 0.0003 0.9074 1.0 0.9631 0.9592 0.0302 0.0009 0.9654 1.0 0.9945 0.9904 0.0118 0.0001 \n",
      "Z.mays 0.984 1.0 0.992 0.9944 0.0054 0.0 0.9701 1.0 0.9922 0.9906 0.0107 0.0001 0.9828 1.0 1.0 0.9983 0.0055 0.0 0.9667 1.0 0.9925 0.9904 0.0114 0.0001 0.9848 1.0 0.9921 0.9944 0.0053 0.0 0.9684 1.0 0.9841 0.9889 0.0107 0.0001 0.9997 1.0 1.0 0.9999 0.0001 0.0 \n",
      "T.aestivum 0.9167 0.9762 0.9291 0.9407 0.0273 0.0007 0.8696 0.9762 0.9268 0.9301 0.0363 0.0013 0.8889 1.0 0.9663 0.953 0.0351 0.0012 0.8286 0.9778 0.941 0.9239 0.0499 0.0025 0.9014 0.9773 0.9287 0.9409 0.0279 0.0008 0.8295 0.9534 0.8579 0.8807 0.0547 0.003 0.9583 0.9989 0.9825 0.9806 0.0157 0.0002 \n",
      "G.max 0.9013 0.9417 0.935 0.9283 0.0146 0.0002 0.8878 0.9752 0.9096 0.9197 0.0285 0.0008 0.9048 0.9722 0.938 0.9377 0.0223 0.0005 0.8812 0.9684 0.916 0.9199 0.0258 0.0007 0.9048 0.9478 0.9332 0.9283 0.0163 0.0003 0.8024 0.8853 0.8687 0.8563 0.0296 0.0009 0.9691 0.9924 0.9778 0.9799 0.0076 0.0001 \n",
      "G.raimondii 0.9268 0.9576 0.9423 0.9428 0.0101 0.0001 0.9213 0.9861 0.9497 0.9502 0.0185 0.0003 0.9024 0.978 0.9318 0.9346 0.0243 0.0006 0.9103 0.9884 0.9493 0.9495 0.0217 0.0005 0.925 0.9622 0.9397 0.942 0.0114 0.0001 0.8547 0.9145 0.8851 0.8859 0.02 0.0004 0.9709 0.9931 0.9813 0.9816 0.0067 0.0 \n",
      "M.truncatula 0.8814 0.933 0.9124 0.9088 0.0179 0.0003 0.8586 0.963 0.906 0.9019 0.0326 0.0011 0.85 0.9444 0.9251 0.918 0.0283 0.0008 0.8462 0.9506 0.9045 0.9008 0.0339 0.0012 0.8854 0.9412 0.9071 0.9093 0.0182 0.0003 0.7622 0.8646 0.8247 0.8184 0.035 0.0012 0.9233 0.9821 0.9662 0.9606 0.0195 0.0004 \n",
      "S.bicolor 0.8962 0.9623 0.9429 0.9385 0.019 0.0004 0.8305 0.9811 0.9065 0.9124 0.0428 0.0018 0.9123 1.0 0.9802 0.9704 0.0268 0.0007 0.8214 0.9796 0.9098 0.9088 0.0416 0.0017 0.8991 0.9672 0.9402 0.9396 0.0198 0.0004 0.8053 0.9237 0.8889 0.8799 0.0348 0.0012 0.9764 0.9964 0.9878 0.9873 0.0073 0.0001 \n"
     ]
    }
   ],
   "source": [
    "for plant in result:\n",
    "    s = plant + \" \"\n",
    "    for metric in result[plant]:        \n",
    "        for des in result[plant][metric]:            \n",
    "            s += str(round(result[plant][metric][des] , 4)) + \" \"\n",
    "    print(s)"
   ]
  },
  {
   "cell_type": "markdown",
   "metadata": {},
   "source": [
    "# Evaluation"
   ]
  },
  {
   "cell_type": "code",
   "execution_count": 124,
   "metadata": {
    "ExecuteTime": {
     "end_time": "2022-12-26T17:45:21.005675Z",
     "start_time": "2022-12-26T17:45:20.998802Z"
    }
   },
   "outputs": [],
   "source": [
    "def evaluation(plant):\n",
    "    y_true = np.argmax(data[plant]['target'], axis=1)\n",
    "    y_pred =  np.argmax(model.predict(data[plant]['feature']), axis=1)\n",
    "    confusion_matrix(y_true,y_pred,[\"No\",\"YES\"])\n",
    "    print(classification_report(y_true, y_pred))"
   ]
  },
  {
   "cell_type": "code",
   "execution_count": 125,
   "metadata": {
    "ExecuteTime": {
     "end_time": "2022-12-26T17:45:21.278866Z",
     "start_time": "2022-12-26T17:45:21.267464Z"
    }
   },
   "outputs": [],
   "source": [
    "def leave_one_out(plants, batch_size, learning_rate, epochs):\n",
    "    result = {}\n",
    "    for i in range(0, len(plants)):\n",
    "        test_plant = plants[i]\n",
    "        train_plants = plants.copy()\n",
    "        train_plants.remove(test_plant)            \n",
    "        [x_train, x_val, y_train, y_val, class_weight] = get_dataset(train_plants)        \n",
    "        model = get_model(x_train.shape[1])\n",
    "        [model, history] = train(model, x_train, x_val, y_train, y_val, class_weight, batch_size = batch_size , learning_rate = learning_rate, epochs=epochs)        \n",
    "        y_true = np.argmax(data[test_plant]['target'], axis=1)\n",
    "        y_pred =  np.argmax(model.predict(data[test_plant]['feature']), axis=1)\n",
    "        tn, fp, fn, tp = metrics.confusion_matrix(y_true, y_pred).ravel()\n",
    "        result[test_plant] = {\n",
    "            \"accuracy\": metrics.accuracy_score(y_true, y_pred),\n",
    "            \"precision\": metrics.precision_score(y_true, y_pred),\n",
    "            \"recall\": metrics.recall_score(y_true, y_pred),\n",
    "            \"specificity\": tn / (tn+fp),            \n",
    "            \"f1\": metrics.f1_score(y_true, y_pred),\n",
    "            \"mcc\": metrics.matthews_corrcoef(y_true, y_pred),            \n",
    "            \"model\": model,\n",
    "            \"history\": history\n",
    "        }\n",
    "    return result"
   ]
  },
  {
   "cell_type": "code",
   "execution_count": 126,
   "metadata": {
    "ExecuteTime": {
     "end_time": "2022-12-26T17:45:22.075039Z",
     "start_time": "2022-12-26T17:45:22.063251Z"
    }
   },
   "outputs": [],
   "source": [
    "def plot_metrics(result, plants, prefix_name=\"\"):\n",
    "    for metric in ['accuracy', 'precision', 'recall', 'f1', \"specificity\", \"mcc\"]:\n",
    "        fig, ax = plt.subplots(figsize=(12, 3))    \n",
    "        y = [result[plant][metric] for plant in plants]\n",
    "        ax.bar([\"$\\it{\" + p + \"}$\" for p in plants], y)\n",
    "        plt.title(f\"Leave one out - {metric}\")\n",
    "        plt.xlabel(\"plant\")\n",
    "        plt.ylabel(metric)\n",
    "        for i, v in enumerate(y):\n",
    "            ax.text(i - 0.2 , v - 0.1, str(round(v, 2)), color='black', fontweight='bold')\n",
    "        plt.savefig(os.path.join(f'../Result/{prefix_name}_leave_one_out_{metric}.svg'), dpi=300, format='svg', bbox_inches='tight')        \n",
    "        plt.show()"
   ]
  },
  {
   "cell_type": "markdown",
   "metadata": {},
   "source": [
    "#  leave one out"
   ]
  },
  {
   "cell_type": "code",
   "execution_count": 108,
   "metadata": {
    "ExecuteTime": {
     "end_time": "2022-12-25T18:06:44.041959Z",
     "start_time": "2022-12-25T17:09:41.343651Z"
    },
    "scrolled": false
   },
   "outputs": [
    {
     "name": "stdout",
     "output_type": "stream",
     "text": [
      "89/89 [==============================] - 1s 4ms/step\n",
      "53/53 [==============================] - 1s 5ms/step\n",
      "34/34 [==============================] - 1s 5ms/step\n",
      "40/40 [==============================] - 1s 4ms/step\n",
      "27/27 [==============================] - 1s 4ms/step\n",
      "52/52 [==============================] - 1s 4ms/step\n",
      "61/61 [==============================] - 1s 4ms/step\n",
      "33/33 [==============================] - 1s 4ms/step\n"
     ]
    }
   ],
   "source": [
    "all_result = leave_one_out(all_plant, batch_size=32, learning_rate = 0.002, epochs=500)"
   ]
  },
  {
   "cell_type": "code",
   "execution_count": 127,
   "metadata": {
    "ExecuteTime": {
     "end_time": "2022-12-26T17:45:25.438208Z",
     "start_time": "2022-12-26T17:45:25.426944Z"
    }
   },
   "outputs": [
    {
     "name": "stdout",
     "output_type": "stream",
     "text": [
      "f1:  6.851463196010033\n",
      "mcc:  4.963276824870359\n"
     ]
    }
   ],
   "source": [
    "print('f1: ', (pd.Series([all_result[p]['f1'] for p in all_result]) ** 2).sum())\n",
    "print('mcc: ', (pd.Series([all_result[p]['mcc'] for p in all_result]) ** 2).sum())"
   ]
  },
  {
   "cell_type": "code",
   "execution_count": 128,
   "metadata": {
    "ExecuteTime": {
     "end_time": "2022-12-26T17:45:26.355451Z",
     "start_time": "2022-12-26T17:45:26.344856Z"
    }
   },
   "outputs": [
    {
     "name": "stdout",
     "output_type": "stream",
     "text": [
      "f1:  6.851463196010033\n",
      "mcc:  4.963276824870359\n"
     ]
    }
   ],
   "source": [
    "print('f1: ', (pd.Series([all_result[p]['f1'] for p in all_result]) ** 2).sum())\n",
    "print('mcc: ', (pd.Series([all_result[p]['mcc'] for p in all_result]) ** 2).sum())"
   ]
  },
  {
   "cell_type": "code",
   "execution_count": 129,
   "metadata": {
    "ExecuteTime": {
     "end_time": "2022-12-26T17:45:34.013723Z",
     "start_time": "2022-12-26T17:45:27.355825Z"
    }
   },
   "outputs": [
    {
     "data": {
      "image/png": "[encoded data removed]",
      "text/plain": [
       "<Figure size 864x216 with 1 Axes>"
      ]
     },
     "metadata": {
      "needs_background": "light"
     },
     "output_type": "display_data"
    },
    {
     "data": {
      "image/png": "[encoded data removed]",
      "text/plain": [
       "<Figure size 864x216 with 1 Axes>"
      ]
     },
     "metadata": {
      "needs_background": "light"
     },
     "output_type": "display_data"
    },
    {
     "data": {
      "image/png": "[encoded data removed]",
      "text/plain": [
       "<Figure size 864x216 with 1 Axes>"
      ]
     },
     "metadata": {
      "needs_background": "light"
     },
     "output_type": "display_data"
    },
    {
     "data": {
      "image/png": "[encoded data removed]",
      "text/plain": [
       "<Figure size 864x216 with 1 Axes>"
      ]
     },
     "metadata": {
      "needs_background": "light"
     },
     "output_type": "display_data"
    },
    {
     "data": {
      "image/png": "[encoded data removed]",
      "text/plain": [
       "<Figure size 864x216 with 1 Axes>"
      ]
     },
     "metadata": {
      "needs_background": "light"
     },
     "output_type": "display_data"
    },
    {
     "data": {
      "image/png": "[encoded data removed]",
      "text/plain": [
       "<Figure size 864x216 with 1 Axes>"
      ]
     },
     "metadata": {
      "needs_background": "light"
     },
     "output_type": "display_data"
    }
   ],
   "source": [
    "plot_metrics(all_result, ['A.thaliana', 'C.sinensis', 'G.max', 'G.raimondii', 'M.truncatula', 'O.sativa', 'S.bicolor', 'T.aestivum', 'Z.mays'], prefix_name=\"\")"
   ]
  },
  {
   "cell_type": "code",
   "execution_count": 130,
   "metadata": {
    "ExecuteTime": {
     "end_time": "2022-12-26T17:45:38.941211Z",
     "start_time": "2022-12-26T17:45:34.017823Z"
    }
   },
   "outputs": [
    {
     "name": "stdout",
     "output_type": "stream",
     "text": [
      "53/53 [==============================] - 0s 4ms/step\n",
      "34/34 [==============================] - 0s 4ms/step\n",
      "70/70 [==============================] - 0s 4ms/step\n",
      "52/52 [==============================] - 0s 4ms/step\n",
      "61/61 [==============================] - 0s 4ms/step\n",
      "89/89 [==============================] - 0s 4ms/step\n",
      "33/33 [==============================] - 0s 4ms/step\n",
      "27/27 [==============================] - 0s 4ms/step\n",
      "40/40 [==============================] - 0s 4ms/step\n"
     ]
    },
    {
     "data": {
      "image/png": "[encoded data removed]",
      "text/plain": [
       "<Figure size 936x360 with 1 Axes>"
      ]
     },
     "metadata": {
      "needs_background": "light"
     },
     "output_type": "display_data"
    }
   ],
   "source": [
    "plt.figure(figsize=(13,5))\n",
    "for plant in ['A.thaliana', 'C.sinensis', 'G.max', 'G.raimondii', 'M.truncatula', 'O.sativa', 'S.bicolor', 'T.aestivum', 'Z.mays']:\n",
    "    pred = all_result[plant]['model'].predict(data[plant]['feature'])\n",
    "    pred = pd.DataFrame(pred)[1]\n",
    "    y =  data[plant]['target']\n",
    "    y = pd.DataFrame(y)[1]\n",
    "    fpr, tpr, thresh = metrics.roc_curve(y, pred)\n",
    "    roc_auc = metrics.auc(fpr, tpr)    \n",
    "    lw = 2\n",
    "    plt.plot(\n",
    "        fpr,\n",
    "        tpr,        \n",
    "        lw=lw,\n",
    "        label=\"$\\it{\" + plant + \"}$\" + \" (AUC = %0.2f)\" % roc_auc,\n",
    "    )    \n",
    "plt.plot([0, 1], [0, 1], color=\"navy\", lw=lw, linestyle=\"--\")\n",
    "plt.xlim([0.0, 1.0])\n",
    "plt.ylim([0.0, 1.0])\n",
    "plt.xlabel(\"False Positive Rate\")\n",
    "plt.ylabel(\"True Positive Rate\")\n",
    "plt.title(f\"Receiver operating characteristic\")\n",
    "plt.legend(loc=\"lower right\")\n",
    "plt.savefig(os.path.join(f'../Result/ROC.svg'), dpi=300, format='svg', bbox_inches='tight')        \n",
    "plt.show()"
   ]
  },
  {
   "cell_type": "markdown",
   "metadata": {
    "heading_collapsed": true
   },
   "source": [
    "# monocotiledoneas vs dicotiledoneas"
   ]
  },
  {
   "cell_type": "code",
   "execution_count": 245,
   "metadata": {
    "ExecuteTime": {
     "end_time": "2022-08-03T19:43:40.056639Z",
     "start_time": "2022-08-03T19:34:45.564666Z"
    },
    "hidden": true,
    "scrolled": true
   },
   "outputs": [
    {
     "name": "stdout",
     "output_type": "stream",
     "text": [
      "326\n",
      "Epoch 1/100\n",
      "286/286 [==============================] - 4s 7ms/step - loss: 0.6980 - acc: 0.8232 - val_loss: 0.0970 - val_acc: 0.9676\n",
      "Epoch 2/100\n",
      "286/286 [==============================] - 2s 6ms/step - loss: 0.2944 - acc: 0.9490 - val_loss: 0.1079 - val_acc: 0.9665\n",
      "Epoch 3/100\n",
      "286/286 [==============================] - 2s 6ms/step - loss: 0.1710 - acc: 0.9678 - val_loss: 0.0553 - val_acc: 0.9798\n",
      "Epoch 4/100\n",
      "286/286 [==============================] - 2s 6ms/step - loss: 0.1503 - acc: 0.9756 - val_loss: 0.0452 - val_acc: 0.9842\n",
      "Epoch 5/100\n",
      "286/286 [==============================] - 2s 6ms/step - loss: 0.1080 - acc: 0.9836 - val_loss: 0.0728 - val_acc: 0.9758\n",
      "Epoch 6/100\n",
      "286/286 [==============================] - 2s 6ms/step - loss: 0.1143 - acc: 0.9828 - val_loss: 0.0376 - val_acc: 0.9880\n",
      "Epoch 7/100\n",
      "286/286 [==============================] - 2s 6ms/step - loss: 0.0812 - acc: 0.9860 - val_loss: 0.0304 - val_acc: 0.9918\n",
      "Epoch 8/100\n",
      "286/286 [==============================] - 2s 6ms/step - loss: 0.0789 - acc: 0.9880 - val_loss: 0.0369 - val_acc: 0.9893\n",
      "Epoch 9/100\n",
      "286/286 [==============================] - 2s 6ms/step - loss: 0.0607 - acc: 0.9895 - val_loss: 0.0338 - val_acc: 0.9880\n",
      "Epoch 10/100\n",
      "286/286 [==============================] - 2s 6ms/step - loss: 0.0488 - acc: 0.9932 - val_loss: 0.0320 - val_acc: 0.9891\n",
      "Epoch 11/100\n",
      "286/286 [==============================] - 2s 6ms/step - loss: 0.0297 - acc: 0.9949 - val_loss: 0.0315 - val_acc: 0.9942\n",
      "Epoch 12/100\n",
      "286/286 [==============================] - 2s 6ms/step - loss: 0.0547 - acc: 0.9922 - val_loss: 0.0306 - val_acc: 0.9938\n",
      "1010/1010 [==============================] - 2s 2ms/step\n",
      "326\n",
      "Epoch 1/100\n",
      "947/947 [==============================] - 9s 7ms/step - loss: 0.8448 - acc: 0.8309 - val_loss: 0.1770 - val_acc: 0.9267\n",
      "Epoch 2/100\n",
      "947/947 [==============================] - 6s 6ms/step - loss: 0.4671 - acc: 0.9219 - val_loss: 0.1624 - val_acc: 0.9470\n",
      "Epoch 3/100\n",
      "947/947 [==============================] - 6s 6ms/step - loss: 0.3469 - acc: 0.9412 - val_loss: 0.1079 - val_acc: 0.9518\n",
      "Epoch 4/100\n",
      "947/947 [==============================] - 6s 6ms/step - loss: 0.3074 - acc: 0.9485 - val_loss: 0.0983 - val_acc: 0.9642\n",
      "Epoch 5/100\n",
      "947/947 [==============================] - 6s 6ms/step - loss: 0.2581 - acc: 0.9575 - val_loss: 0.0887 - val_acc: 0.9662\n",
      "Epoch 6/100\n",
      "947/947 [==============================] - 6s 6ms/step - loss: 0.2427 - acc: 0.9588 - val_loss: 0.0814 - val_acc: 0.9694\n",
      "Epoch 7/100\n",
      "947/947 [==============================] - 6s 6ms/step - loss: 0.2154 - acc: 0.9634 - val_loss: 0.0627 - val_acc: 0.9768\n",
      "Epoch 8/100\n",
      "947/947 [==============================] - 6s 6ms/step - loss: 0.1843 - acc: 0.9682 - val_loss: 0.0638 - val_acc: 0.9689\n",
      "Epoch 9/100\n",
      "947/947 [==============================] - 6s 6ms/step - loss: 0.1986 - acc: 0.9663 - val_loss: 0.0555 - val_acc: 0.9774\n",
      "Epoch 10/100\n",
      "947/947 [==============================] - 6s 6ms/step - loss: 0.1779 - acc: 0.9662 - val_loss: 0.0509 - val_acc: 0.9818\n",
      "Epoch 11/100\n",
      "947/947 [==============================] - 6s 6ms/step - loss: 0.1631 - acc: 0.9730 - val_loss: 0.0534 - val_acc: 0.9773\n",
      "Epoch 12/100\n",
      "947/947 [==============================] - 6s 6ms/step - loss: 0.1474 - acc: 0.9763 - val_loss: 0.0430 - val_acc: 0.9857\n",
      "Epoch 13/100\n",
      "947/947 [==============================] - 6s 6ms/step - loss: 0.1499 - acc: 0.9767 - val_loss: 0.0431 - val_acc: 0.9849\n",
      "Epoch 14/100\n",
      "947/947 [==============================] - 6s 6ms/step - loss: 0.1219 - acc: 0.9806 - val_loss: 0.0394 - val_acc: 0.9871\n",
      "Epoch 15/100\n",
      "947/947 [==============================] - 6s 6ms/step - loss: 0.1091 - acc: 0.9805 - val_loss: 0.0492 - val_acc: 0.9835\n",
      "Epoch 16/100\n",
      "947/947 [==============================] - 6s 6ms/step - loss: 0.1186 - acc: 0.9815 - val_loss: 0.0412 - val_acc: 0.9845\n",
      "Epoch 17/100\n",
      "947/947 [==============================] - 6s 6ms/step - loss: 0.1237 - acc: 0.9813 - val_loss: 0.0435 - val_acc: 0.9865\n",
      "Epoch 18/100\n",
      "947/947 [==============================] - 6s 6ms/step - loss: 0.1251 - acc: 0.9822 - val_loss: 0.0395 - val_acc: 0.9877\n",
      "Epoch 19/100\n",
      "947/947 [==============================] - 6s 6ms/step - loss: 0.0958 - acc: 0.9886 - val_loss: 0.0286 - val_acc: 0.9905\n",
      "Epoch 20/100\n",
      "947/947 [==============================] - 6s 6ms/step - loss: 0.0866 - acc: 0.9846 - val_loss: 0.0387 - val_acc: 0.9855\n",
      "Epoch 21/100\n",
      "947/947 [==============================] - 5s 6ms/step - loss: 0.0834 - acc: 0.9864 - val_loss: 0.0402 - val_acc: 0.9852\n",
      "Epoch 22/100\n",
      "947/947 [==============================] - 6s 6ms/step - loss: 0.0997 - acc: 0.9858 - val_loss: 0.0478 - val_acc: 0.9862\n",
      "Epoch 23/100\n",
      "947/947 [==============================] - 6s 6ms/step - loss: 0.0807 - acc: 0.9872 - val_loss: 0.0442 - val_acc: 0.9856\n",
      "Epoch 24/100\n",
      "947/947 [==============================] - 6s 6ms/step - loss: 0.1006 - acc: 0.9850 - val_loss: 0.0327 - val_acc: 0.9895\n",
      "23/23 [==============================] - 0s 2ms/step\n",
      "326\n",
      "Epoch 1/100\n",
      "928/928 [==============================] - 7s 6ms/step - loss: 0.7165 - acc: 0.8770 - val_loss: 0.2493 - val_acc: 0.9187\n",
      "Epoch 2/100\n",
      "928/928 [==============================] - 5s 6ms/step - loss: 0.3969 - acc: 0.9374 - val_loss: 0.1684 - val_acc: 0.9346\n",
      "Epoch 3/100\n",
      "928/928 [==============================] - 5s 6ms/step - loss: 0.3485 - acc: 0.9515 - val_loss: 0.0964 - val_acc: 0.9740\n",
      "Epoch 4/100\n",
      "928/928 [==============================] - 5s 6ms/step - loss: 0.2618 - acc: 0.9583 - val_loss: 0.0980 - val_acc: 0.9669\n",
      "Epoch 5/100\n",
      "928/928 [==============================] - 5s 6ms/step - loss: 0.2144 - acc: 0.9620 - val_loss: 0.0824 - val_acc: 0.9692\n",
      "Epoch 6/100\n",
      "928/928 [==============================] - 6s 6ms/step - loss: 0.2134 - acc: 0.9622 - val_loss: 0.0513 - val_acc: 0.9820\n",
      "Epoch 7/100\n",
      "928/928 [==============================] - 5s 6ms/step - loss: 0.1767 - acc: 0.9682 - val_loss: 0.0629 - val_acc: 0.9742\n",
      "Epoch 8/100\n",
      "928/928 [==============================] - 5s 6ms/step - loss: 0.1515 - acc: 0.9695 - val_loss: 0.0915 - val_acc: 0.9622\n",
      "Epoch 9/100\n",
      "928/928 [==============================] - 5s 6ms/step - loss: 0.1390 - acc: 0.9735 - val_loss: 0.0469 - val_acc: 0.9843\n",
      "Epoch 10/100\n",
      "928/928 [==============================] - 5s 6ms/step - loss: 0.1385 - acc: 0.9735 - val_loss: 0.0760 - val_acc: 0.9696\n",
      "Epoch 11/100\n",
      "928/928 [==============================] - 5s 6ms/step - loss: 0.1248 - acc: 0.9751 - val_loss: 0.0524 - val_acc: 0.9816\n",
      "Epoch 12/100\n",
      "928/928 [==============================] - 5s 6ms/step - loss: 0.1147 - acc: 0.9770 - val_loss: 0.0530 - val_acc: 0.9799\n",
      "Epoch 13/100\n",
      "928/928 [==============================] - 5s 6ms/step - loss: 0.1276 - acc: 0.9784 - val_loss: 0.0717 - val_acc: 0.9753\n",
      "Epoch 14/100\n",
      "928/928 [==============================] - 6s 6ms/step - loss: 0.1149 - acc: 0.9792 - val_loss: 0.0405 - val_acc: 0.9862\n",
      "Epoch 15/100\n",
      "928/928 [==============================] - 5s 6ms/step - loss: 0.0997 - acc: 0.9837 - val_loss: 0.0430 - val_acc: 0.9875\n",
      "Epoch 16/100\n",
      "928/928 [==============================] - 5s 6ms/step - loss: 0.0996 - acc: 0.9838 - val_loss: 0.0426 - val_acc: 0.9869\n",
      "Epoch 17/100\n",
      "928/928 [==============================] - 5s 6ms/step - loss: 0.0887 - acc: 0.9830 - val_loss: 0.0415 - val_acc: 0.9893\n",
      "Epoch 18/100\n",
      "928/928 [==============================] - 6s 6ms/step - loss: 0.0821 - acc: 0.9842 - val_loss: 0.0453 - val_acc: 0.9893\n",
      "Epoch 19/100\n",
      "928/928 [==============================] - 5s 6ms/step - loss: 0.0893 - acc: 0.9839 - val_loss: 0.0404 - val_acc: 0.9883\n",
      "Epoch 20/100\n",
      "928/928 [==============================] - 5s 6ms/step - loss: 0.0773 - acc: 0.9844 - val_loss: 0.0427 - val_acc: 0.9880\n",
      "Epoch 21/100\n",
      "928/928 [==============================] - 5s 6ms/step - loss: 0.0777 - acc: 0.9848 - val_loss: 0.0459 - val_acc: 0.9896\n",
      "Epoch 22/100\n",
      "928/928 [==============================] - 5s 6ms/step - loss: 0.0824 - acc: 0.9877 - val_loss: 0.0378 - val_acc: 0.9908\n",
      "Epoch 23/100\n",
      "928/928 [==============================] - 5s 6ms/step - loss: 0.0680 - acc: 0.9902 - val_loss: 0.0422 - val_acc: 0.9897\n",
      "Epoch 24/100\n",
      "928/928 [==============================] - 5s 6ms/step - loss: 0.0556 - acc: 0.9908 - val_loss: 0.0502 - val_acc: 0.9877\n",
      "Epoch 25/100\n",
      "928/928 [==============================] - 5s 6ms/step - loss: 0.0680 - acc: 0.9879 - val_loss: 0.0495 - val_acc: 0.9882\n",
      "Epoch 26/100\n",
      "928/928 [==============================] - 5s 6ms/step - loss: 0.0757 - acc: 0.9886 - val_loss: 0.0417 - val_acc: 0.9912\n",
      "Epoch 27/100\n",
      "928/928 [==============================] - 5s 6ms/step - loss: 0.0625 - acc: 0.9892 - val_loss: 0.0490 - val_acc: 0.9914\n",
      "53/53 [==============================] - 0s 2ms/step\n",
      "326\n",
      "Epoch 1/100\n",
      "733/733 [==============================] - 6s 7ms/step - loss: 0.7279 - acc: 0.8512 - val_loss: 0.1704 - val_acc: 0.9359\n",
      "Epoch 2/100\n",
      "733/733 [==============================] - 4s 6ms/step - loss: 0.4114 - acc: 0.9282 - val_loss: 0.1114 - val_acc: 0.9598\n",
      "Epoch 3/100\n",
      "733/733 [==============================] - 4s 6ms/step - loss: 0.3294 - acc: 0.9478 - val_loss: 0.0970 - val_acc: 0.9674\n",
      "Epoch 4/100\n",
      "733/733 [==============================] - 4s 6ms/step - loss: 0.2548 - acc: 0.9559 - val_loss: 0.0965 - val_acc: 0.9616\n",
      "Epoch 5/100\n",
      "733/733 [==============================] - 4s 6ms/step - loss: 0.2209 - acc: 0.9617 - val_loss: 0.0694 - val_acc: 0.9757\n",
      "Epoch 6/100\n",
      "733/733 [==============================] - 4s 6ms/step - loss: 0.1824 - acc: 0.9669 - val_loss: 0.0558 - val_acc: 0.9814\n",
      "Epoch 7/100\n",
      "733/733 [==============================] - 4s 6ms/step - loss: 0.1530 - acc: 0.9705 - val_loss: 0.0705 - val_acc: 0.9706\n",
      "Epoch 8/100\n",
      "733/733 [==============================] - 4s 6ms/step - loss: 0.1518 - acc: 0.9683 - val_loss: 0.0731 - val_acc: 0.9713\n",
      "Epoch 9/100\n",
      "733/733 [==============================] - 4s 6ms/step - loss: 0.1293 - acc: 0.9716 - val_loss: 0.0577 - val_acc: 0.9752\n",
      "Epoch 10/100\n",
      "733/733 [==============================] - 4s 6ms/step - loss: 0.1257 - acc: 0.9791 - val_loss: 0.0465 - val_acc: 0.9843\n",
      "Epoch 11/100\n",
      "733/733 [==============================] - 4s 6ms/step - loss: 0.1042 - acc: 0.9806 - val_loss: 0.0381 - val_acc: 0.9883\n",
      "Epoch 12/100\n",
      "733/733 [==============================] - 4s 6ms/step - loss: 0.0913 - acc: 0.9813 - val_loss: 0.0499 - val_acc: 0.9827\n",
      "Epoch 13/100\n",
      "733/733 [==============================] - 4s 6ms/step - loss: 0.1224 - acc: 0.9809 - val_loss: 0.0547 - val_acc: 0.9840\n",
      "Epoch 14/100\n",
      "733/733 [==============================] - 4s 6ms/step - loss: 0.0994 - acc: 0.9833 - val_loss: 0.0395 - val_acc: 0.9876\n",
      "Epoch 15/100\n",
      "733/733 [==============================] - 4s 6ms/step - loss: 0.0747 - acc: 0.9846 - val_loss: 0.0382 - val_acc: 0.9871\n",
      "Epoch 16/100\n",
      "733/733 [==============================] - 4s 6ms/step - loss: 0.0782 - acc: 0.9878 - val_loss: 0.0421 - val_acc: 0.9862\n",
      "343/343 [==============================] - 1s 2ms/step\n",
      "326\n",
      "Epoch 1/100\n",
      "957/957 [==============================] - 8s 6ms/step - loss: 0.7300 - acc: 0.8586 - val_loss: 0.1617 - val_acc: 0.9641\n",
      "Epoch 2/100\n",
      "957/957 [==============================] - 6s 6ms/step - loss: 0.4219 - acc: 0.9352 - val_loss: 0.1317 - val_acc: 0.9704\n",
      "Epoch 3/100\n",
      "957/957 [==============================] - 6s 6ms/step - loss: 0.3045 - acc: 0.9534 - val_loss: 0.1373 - val_acc: 0.9592\n",
      "Epoch 4/100\n",
      "957/957 [==============================] - 6s 6ms/step - loss: 0.2501 - acc: 0.9583 - val_loss: 0.0793 - val_acc: 0.9714\n",
      "Epoch 5/100\n",
      "957/957 [==============================] - 6s 6ms/step - loss: 0.2267 - acc: 0.9614 - val_loss: 0.1455 - val_acc: 0.9468\n",
      "Epoch 6/100\n",
      "957/957 [==============================] - 6s 6ms/step - loss: 0.1998 - acc: 0.9663 - val_loss: 0.0702 - val_acc: 0.9824\n",
      "Epoch 7/100\n",
      "957/957 [==============================] - 6s 6ms/step - loss: 0.1634 - acc: 0.9701 - val_loss: 0.0663 - val_acc: 0.9733\n",
      "Epoch 8/100\n",
      "957/957 [==============================] - 6s 6ms/step - loss: 0.1459 - acc: 0.9713 - val_loss: 0.0476 - val_acc: 0.9853\n",
      "Epoch 9/100\n",
      "957/957 [==============================] - 6s 6ms/step - loss: 0.1562 - acc: 0.9734 - val_loss: 0.0472 - val_acc: 0.9838\n",
      "Epoch 10/100\n",
      "957/957 [==============================] - 6s 6ms/step - loss: 0.1334 - acc: 0.9778 - val_loss: 0.0571 - val_acc: 0.9828\n",
      "Epoch 11/100\n",
      "957/957 [==============================] - 6s 6ms/step - loss: 0.1267 - acc: 0.9790 - val_loss: 0.0387 - val_acc: 0.9880\n",
      "Epoch 12/100\n",
      "957/957 [==============================] - 6s 6ms/step - loss: 0.1363 - acc: 0.9790 - val_loss: 0.0485 - val_acc: 0.9851\n",
      "Epoch 13/100\n",
      "957/957 [==============================] - 6s 6ms/step - loss: 0.0965 - acc: 0.9813 - val_loss: 0.0360 - val_acc: 0.9862\n",
      "Epoch 14/100\n",
      "957/957 [==============================] - 6s 6ms/step - loss: 0.1126 - acc: 0.9809 - val_loss: 0.0364 - val_acc: 0.9875\n",
      "Epoch 15/100\n",
      "957/957 [==============================] - 6s 6ms/step - loss: 0.1091 - acc: 0.9788 - val_loss: 0.0645 - val_acc: 0.9710\n",
      "Epoch 16/100\n",
      "957/957 [==============================] - 6s 6ms/step - loss: 0.1073 - acc: 0.9797 - val_loss: 0.0468 - val_acc: 0.9873\n",
      "Epoch 17/100\n",
      "957/957 [==============================] - 6s 6ms/step - loss: 0.0763 - acc: 0.9873 - val_loss: 0.0355 - val_acc: 0.9888\n",
      "Epoch 18/100\n",
      "957/957 [==============================] - 6s 6ms/step - loss: 0.0769 - acc: 0.9877 - val_loss: 0.0515 - val_acc: 0.9863\n",
      "Epoch 19/100\n",
      "957/957 [==============================] - 6s 6ms/step - loss: 0.0833 - acc: 0.9866 - val_loss: 0.0382 - val_acc: 0.9879\n",
      "Epoch 20/100\n",
      "957/957 [==============================] - 6s 6ms/step - loss: 0.0743 - acc: 0.9875 - val_loss: 0.0275 - val_acc: 0.9920\n",
      "Epoch 21/100\n",
      "957/957 [==============================] - 6s 6ms/step - loss: 0.0756 - acc: 0.9861 - val_loss: 0.0318 - val_acc: 0.9910\n",
      "Epoch 22/100\n",
      "957/957 [==============================] - 6s 6ms/step - loss: 0.0700 - acc: 0.9883 - val_loss: 0.0312 - val_acc: 0.9921\n",
      "Epoch 23/100\n",
      "957/957 [==============================] - 6s 6ms/step - loss: 0.0528 - acc: 0.9896 - val_loss: 0.0297 - val_acc: 0.9929\n",
      "Epoch 24/100\n",
      "957/957 [==============================] - 6s 6ms/step - loss: 0.0604 - acc: 0.9903 - val_loss: 0.0284 - val_acc: 0.9940\n",
      "Epoch 25/100\n",
      "957/957 [==============================] - 6s 6ms/step - loss: 0.0690 - acc: 0.9911 - val_loss: 0.0406 - val_acc: 0.9890\n",
      "9/9 [==============================] - 0s 3ms/step\n"
     ]
    }
   ],
   "source": [
    "monocotiledoneas = [\n",
    "    \"O.sativa\",        \n",
    "    \"Z.mays\",\n",
    "    \"T.aestivum\",            \n",
    "    \"S.bicolor\",\n",
    "    \"H.vulgare\"\n",
    "]\n",
    "\n",
    "mono_result = leave_one_out(monocotiledoneas)"
   ]
  },
  {
   "cell_type": "code",
   "execution_count": 246,
   "metadata": {
    "ExecuteTime": {
     "end_time": "2022-08-03T19:43:42.023165Z",
     "start_time": "2022-08-03T19:43:40.061274Z"
    },
    "hidden": true
   },
   "outputs": [
    {
     "data": {
      "image/png": "[encoded data removed]",
      "text/plain": [
       "<Figure size 864x216 with 1 Axes>"
      ]
     },
     "metadata": {
      "needs_background": "light"
     },
     "output_type": "display_data"
    },
    {
     "data": {
      "image/png": "[encoded data removed]",
      "text/plain": [
       "<Figure size 864x216 with 1 Axes>"
      ]
     },
     "metadata": {
      "needs_background": "light"
     },
     "output_type": "display_data"
    },
    {
     "data": {
      "image/png": "[encoded data removed]",
      "text/plain": [
       "<Figure size 864x216 with 1 Axes>"
      ]
     },
     "metadata": {
      "needs_background": "light"
     },
     "output_type": "display_data"
    },
    {
     "data": {
      "image/png": "[encoded data removed]",
      "text/plain": [
       "<Figure size 864x216 with 1 Axes>"
      ]
     },
     "metadata": {
      "needs_background": "light"
     },
     "output_type": "display_data"
    }
   ],
   "source": [
    "plot_metrics(mono_result, monocotiledoneas, prefix_name=\"\")"
   ]
  },
  {
   "cell_type": "code",
   "execution_count": null,
   "metadata": {
    "hidden": true
   },
   "outputs": [],
   "source": [
    "dicotiledoneas = [    \n",
    "    \"A.thaliana\",\n",
    "    \"C.Sinensis\",        \n",
    "    \"G.max\",\n",
    "    \"G.raimondii\",\n",
    "    \"M.truncatula\"    \n",
    "]\n",
    "di_result = leave_one_out(dicotiledoneas)"
   ]
  },
  {
   "cell_type": "markdown",
   "metadata": {
    "heading_collapsed": true,
    "hidden": true,
    "id": "3kmGEcGV9Ivg"
   },
   "source": [
    "## O.sativa"
   ]
  },
  {
   "cell_type": "code",
   "execution_count": 178,
   "metadata": {
    "ExecuteTime": {
     "end_time": "2022-08-02T11:49:53.912672Z",
     "start_time": "2022-08-02T11:49:49.921570Z"
    },
    "colab": {
     "background_save": true
    },
    "hidden": true,
    "id": "me4nwgwQdK2g",
    "outputId": "295d8bb2-485a-4ab7-c8e1-b51b5484acc9"
   },
   "outputs": [
    {
     "name": "stdout",
     "output_type": "stream",
     "text": [
      "1010/1010 [==============================] - 2s 2ms/step\n"
     ]
    },
    {
     "data": {
      "image/png": "[encoded data removed]",
      "text/plain": [
       "<Figure size 432x288 with 2 Axes>"
      ]
     },
     "metadata": {
      "needs_background": "light"
     },
     "output_type": "display_data"
    },
    {
     "name": "stdout",
     "output_type": "stream",
     "text": [
      "              precision    recall  f1-score   support\n",
      "\n",
      "           0       1.00      0.99      1.00     30888\n",
      "           1       0.88      0.97      0.93      1419\n",
      "\n",
      "    accuracy                           0.99     32307\n",
      "   macro avg       0.94      0.98      0.96     32307\n",
      "weighted avg       0.99      0.99      0.99     32307\n",
      "\n"
     ]
    }
   ],
   "source": [
    "evaluation('O.sativa')"
   ]
  },
  {
   "cell_type": "markdown",
   "metadata": {
    "heading_collapsed": true,
    "hidden": true,
    "id": "91OMgy_pThZz"
   },
   "source": [
    "## A.thaliana"
   ]
  },
  {
   "cell_type": "code",
   "execution_count": 179,
   "metadata": {
    "ExecuteTime": {
     "end_time": "2022-08-02T11:49:55.521852Z",
     "start_time": "2022-08-02T11:49:53.916405Z"
    },
    "colab": {
     "base_uri": "https://localhost:8080/",
     "height": 538
    },
    "executionInfo": {
     "elapsed": 31527,
     "status": "ok",
     "timestamp": 1655673353129,
     "user": {
      "displayName": "Ilia abolhasani",
      "userId": "05829853781998776186"
     },
     "user_tz": -270
    },
    "hidden": true,
    "id": "xNA4Gq-8U88p",
    "outputId": "584d531d-e536-45ea-bf61-67f1bae8c43f",
    "scrolled": true
   },
   "outputs": [
    {
     "name": "stdout",
     "output_type": "stream",
     "text": [
      "350/350 [==============================] - 1s 2ms/step\n"
     ]
    },
    {
     "data": {
      "image/png": "[encoded data removed]",
      "text/plain": [
       "<Figure size 432x288 with 2 Axes>"
      ]
     },
     "metadata": {
      "needs_background": "light"
     },
     "output_type": "display_data"
    },
    {
     "name": "stdout",
     "output_type": "stream",
     "text": [
      "              precision    recall  f1-score   support\n",
      "\n",
      "           0       1.00      0.99      1.00     10347\n",
      "           1       0.93      0.99      0.96       847\n",
      "\n",
      "    accuracy                           0.99     11194\n",
      "   macro avg       0.97      0.99      0.98     11194\n",
      "weighted avg       0.99      0.99      0.99     11194\n",
      "\n"
     ]
    }
   ],
   "source": [
    "evaluation('A.thaliana')"
   ]
  },
  {
   "cell_type": "code",
   "execution_count": 180,
   "metadata": {
    "ExecuteTime": {
     "end_time": "2022-08-02T11:49:57.076127Z",
     "start_time": "2022-08-02T11:49:55.525975Z"
    },
    "hidden": true
   },
   "outputs": [
    {
     "name": "stdout",
     "output_type": "stream",
     "text": [
      "350/350 [==============================] - 1s 2ms/step\n"
     ]
    },
    {
     "data": {
      "image/png": "[encoded data removed]",
      "text/plain": [
       "<Figure size 432x288 with 2 Axes>"
      ]
     },
     "metadata": {
      "needs_background": "light"
     },
     "output_type": "display_data"
    },
    {
     "name": "stdout",
     "output_type": "stream",
     "text": [
      "              precision    recall  f1-score   support\n",
      "\n",
      "           0       1.00      0.99      1.00     10347\n",
      "           1       0.93      0.99      0.96       847\n",
      "\n",
      "    accuracy                           0.99     11194\n",
      "   macro avg       0.97      0.99      0.98     11194\n",
      "weighted avg       0.99      0.99      0.99     11194\n",
      "\n"
     ]
    }
   ],
   "source": [
    "plant = 'A.thaliana'\n",
    "y_true = np.argmax(data[plant]['target'], axis=1)\n",
    "y_pred =  np.argmax(model.predict(data[plant]['feature']), axis=1)\n",
    "confusion_matrix(y_true,y_pred,[\"No\",\"YES\"])\n",
    "print(classification_report(y_true, y_pred))"
   ]
  },
  {
   "cell_type": "markdown",
   "metadata": {
    "heading_collapsed": true,
    "hidden": true,
    "id": "jrOyXg2_qjPo"
   },
   "source": [
    "## C.Sinensis"
   ]
  },
  {
   "cell_type": "code",
   "execution_count": 181,
   "metadata": {
    "ExecuteTime": {
     "end_time": "2022-08-02T11:49:57.795549Z",
     "start_time": "2022-08-02T11:49:57.080272Z"
    },
    "colab": {
     "base_uri": "https://localhost:8080/",
     "height": 538
    },
    "executionInfo": {
     "elapsed": 2069,
     "status": "ok",
     "timestamp": 1655637593518,
     "user": {
      "displayName": "Ilia abolhasani",
      "userId": "05829853781998776186"
     },
     "user_tz": -270
    },
    "hidden": true,
    "id": "QaKPNj6Kqk5P",
    "outputId": "7d09cc33-396e-4464-a5cd-72f34fedc74c"
   },
   "outputs": [
    {
     "name": "stdout",
     "output_type": "stream",
     "text": [
      "70/70 [==============================] - 0s 2ms/step\n"
     ]
    },
    {
     "data": {
      "image/png": "[encoded data removed]",
      "text/plain": [
       "<Figure size 432x288 with 2 Axes>"
      ]
     },
     "metadata": {
      "needs_background": "light"
     },
     "output_type": "display_data"
    },
    {
     "name": "stdout",
     "output_type": "stream",
     "text": [
      "              precision    recall  f1-score   support\n",
      "\n",
      "           0       1.00      0.99      0.99      1672\n",
      "           1       0.97      1.00      0.98       540\n",
      "\n",
      "    accuracy                           0.99      2212\n",
      "   macro avg       0.98      0.99      0.99      2212\n",
      "weighted avg       0.99      0.99      0.99      2212\n",
      "\n"
     ]
    }
   ],
   "source": [
    "evaluation('C.Sinensis')"
   ]
  },
  {
   "cell_type": "markdown",
   "metadata": {
    "heading_collapsed": true,
    "hidden": true,
    "id": "z7xpiDQCdqdH"
   },
   "source": [
    "## Z.mays"
   ]
  },
  {
   "cell_type": "code",
   "execution_count": 182,
   "metadata": {
    "ExecuteTime": {
     "end_time": "2022-08-02T11:49:58.358499Z",
     "start_time": "2022-08-02T11:49:57.798878Z"
    },
    "colab": {
     "base_uri": "https://localhost:8080/",
     "height": 538
    },
    "executionInfo": {
     "elapsed": 3017,
     "status": "ok",
     "timestamp": 1655637599771,
     "user": {
      "displayName": "Ilia abolhasani",
      "userId": "05829853781998776186"
     },
     "user_tz": -270
    },
    "hidden": true,
    "id": "VqbZ9DJ1gLqc",
    "outputId": "1a559363-5e23-4e55-c238-35e96ec739b2"
   },
   "outputs": [
    {
     "name": "stdout",
     "output_type": "stream",
     "text": [
      "23/23 [==============================] - 0s 2ms/step\n"
     ]
    },
    {
     "data": {
      "image/png": "[encoded data removed]",
      "text/plain": [
       "<Figure size 432x288 with 2 Axes>"
      ]
     },
     "metadata": {
      "needs_background": "light"
     },
     "output_type": "display_data"
    },
    {
     "name": "stdout",
     "output_type": "stream",
     "text": [
      "              precision    recall  f1-score   support\n",
      "\n",
      "           0       1.00      1.00      1.00       110\n",
      "           1       1.00      1.00      1.00       625\n",
      "\n",
      "    accuracy                           1.00       735\n",
      "   macro avg       1.00      1.00      1.00       735\n",
      "weighted avg       1.00      1.00      1.00       735\n",
      "\n"
     ]
    }
   ],
   "source": [
    "evaluation('Z.mays')"
   ]
  },
  {
   "cell_type": "markdown",
   "metadata": {
    "heading_collapsed": true,
    "hidden": true
   },
   "source": [
    "## T.aestivum"
   ]
  },
  {
   "cell_type": "code",
   "execution_count": 183,
   "metadata": {
    "ExecuteTime": {
     "end_time": "2022-08-02T11:49:59.016460Z",
     "start_time": "2022-08-02T11:49:58.361758Z"
    },
    "hidden": true
   },
   "outputs": [
    {
     "name": "stdout",
     "output_type": "stream",
     "text": [
      "53/53 [==============================] - 0s 2ms/step\n"
     ]
    },
    {
     "data": {
      "image/png": "[encoded data removed]",
      "text/plain": [
       "<Figure size 432x288 with 2 Axes>"
      ]
     },
     "metadata": {
      "needs_background": "light"
     },
     "output_type": "display_data"
    },
    {
     "name": "stdout",
     "output_type": "stream",
     "text": [
      "              precision    recall  f1-score   support\n",
      "\n",
      "           0       1.00      0.99      1.00      1264\n",
      "           1       0.97      1.00      0.99       421\n",
      "\n",
      "    accuracy                           0.99      1685\n",
      "   macro avg       0.99      0.99      0.99      1685\n",
      "weighted avg       0.99      0.99      0.99      1685\n",
      "\n"
     ]
    }
   ],
   "source": [
    "evaluation('T.aestivum')"
   ]
  },
  {
   "cell_type": "markdown",
   "metadata": {
    "heading_collapsed": true,
    "hidden": true,
    "id": "5pASyNqygete"
   },
   "source": [
    "## G.max"
   ]
  },
  {
   "cell_type": "code",
   "execution_count": 184,
   "metadata": {
    "ExecuteTime": {
     "end_time": "2022-08-02T11:50:02.832336Z",
     "start_time": "2022-08-02T11:49:59.019919Z"
    },
    "hidden": true
   },
   "outputs": [
    {
     "name": "stdout",
     "output_type": "stream",
     "text": [
      "993/993 [==============================] - 2s 2ms/step\n"
     ]
    },
    {
     "data": {
      "image/png": "[encoded data removed]",
      "text/plain": [
       "<Figure size 432x288 with 2 Axes>"
      ]
     },
     "metadata": {
      "needs_background": "light"
     },
     "output_type": "display_data"
    },
    {
     "name": "stdout",
     "output_type": "stream",
     "text": [
      "              precision    recall  f1-score   support\n",
      "\n",
      "           0       1.00      0.99      1.00     30635\n",
      "           1       0.80      0.98      0.88      1115\n",
      "\n",
      "    accuracy                           0.99     31750\n",
      "   macro avg       0.90      0.99      0.94     31750\n",
      "weighted avg       0.99      0.99      0.99     31750\n",
      "\n"
     ]
    }
   ],
   "source": [
    "evaluation('G.max')"
   ]
  },
  {
   "cell_type": "markdown",
   "metadata": {
    "heading_collapsed": true,
    "hidden": true
   },
   "source": [
    "## G.raimondii"
   ]
  },
  {
   "cell_type": "code",
   "execution_count": 185,
   "metadata": {
    "ExecuteTime": {
     "end_time": "2022-08-02T11:50:05.530973Z",
     "start_time": "2022-08-02T11:50:02.837731Z"
    },
    "hidden": true
   },
   "outputs": [
    {
     "name": "stdout",
     "output_type": "stream",
     "text": [
      "689/689 [==============================] - 2s 2ms/step\n"
     ]
    },
    {
     "data": {
      "image/png": "[encoded data removed]",
      "text/plain": [
       "<Figure size 432x288 with 2 Axes>"
      ]
     },
     "metadata": {
      "needs_background": "light"
     },
     "output_type": "display_data"
    },
    {
     "name": "stdout",
     "output_type": "stream",
     "text": [
      "              precision    recall  f1-score   support\n",
      "\n",
      "           0       1.00      0.99      1.00     21208\n",
      "           1       0.83      0.99      0.90       822\n",
      "\n",
      "    accuracy                           0.99     22030\n",
      "   macro avg       0.91      0.99      0.95     22030\n",
      "weighted avg       0.99      0.99      0.99     22030\n",
      "\n"
     ]
    }
   ],
   "source": [
    "evaluation('G.raimondii')"
   ]
  },
  {
   "cell_type": "markdown",
   "metadata": {
    "hidden": true
   },
   "source": [
    "## M.truncatula"
   ]
  },
  {
   "cell_type": "code",
   "execution_count": 186,
   "metadata": {
    "ExecuteTime": {
     "end_time": "2022-08-02T11:50:07.372800Z",
     "start_time": "2022-08-02T11:50:05.534431Z"
    },
    "hidden": true
   },
   "outputs": [
    {
     "name": "stdout",
     "output_type": "stream",
     "text": [
      "426/426 [==============================] - 1s 2ms/step\n"
     ]
    },
    {
     "data": {
      "image/png": "[encoded data removed]",
      "text/plain": [
       "<Figure size 432x288 with 2 Axes>"
      ]
     },
     "metadata": {
      "needs_background": "light"
     },
     "output_type": "display_data"
    },
    {
     "name": "stdout",
     "output_type": "stream",
     "text": [
      "              precision    recall  f1-score   support\n",
      "\n",
      "           0       0.99      0.92      0.95     12656\n",
      "           1       0.46      0.83      0.59       971\n",
      "\n",
      "    accuracy                           0.92     13627\n",
      "   macro avg       0.72      0.88      0.77     13627\n",
      "weighted avg       0.95      0.92      0.93     13627\n",
      "\n"
     ]
    }
   ],
   "source": [
    "evaluation('M.truncatula')"
   ]
  },
  {
   "cell_type": "markdown",
   "metadata": {
    "heading_collapsed": true
   },
   "source": [
    "# Confusion matrix"
   ]
  },
  {
   "cell_type": "code",
   "execution_count": 191,
   "metadata": {
    "ExecuteTime": {
     "end_time": "2022-08-03T14:15:15.645837Z",
     "start_time": "2022-08-03T14:15:15.116974Z"
    },
    "hidden": true,
    "scrolled": false
   },
   "outputs": [
    {
     "name": "stdout",
     "output_type": "stream",
     "text": [
      "9/9 [==============================] - 0s 3ms/step\n"
     ]
    },
    {
     "data": {
      "image/png": "[encoded data removed]",
      "text/plain": [
       "<Figure size 432x288 with 2 Axes>"
      ]
     },
     "metadata": {
      "needs_background": "light"
     },
     "output_type": "display_data"
    },
    {
     "name": "stdout",
     "output_type": "stream",
     "text": [
      "              precision    recall  f1-score   support\n",
      "\n",
      "           0       0.95      0.88      0.91       236\n",
      "           1       0.45      0.68      0.54        34\n",
      "\n",
      "    accuracy                           0.86       270\n",
      "   macro avg       0.70      0.78      0.73       270\n",
      "weighted avg       0.89      0.86      0.87       270\n",
      "\n"
     ]
    }
   ],
   "source": [
    "evaluation('H.vulgare')"
   ]
  },
  {
   "cell_type": "code",
   "execution_count": 34,
   "metadata": {
    "ExecuteTime": {
     "end_time": "2022-09-04T09:50:33.592690Z",
     "start_time": "2022-09-04T09:50:32.815934Z"
    },
    "hidden": true
   },
   "outputs": [
    {
     "data": {
      "text/plain": [
       "0.8813559322033898"
      ]
     },
     "execution_count": 34,
     "metadata": {},
     "output_type": "execute_result"
    }
   ],
   "source": [
    "208 / (208 + 28)"
   ]
  },
  {
   "cell_type": "markdown",
   "metadata": {},
   "source": [
    "# final model"
   ]
  },
  {
   "cell_type": "code",
   "execution_count": 112,
   "metadata": {
    "ExecuteTime": {
     "end_time": "2022-12-26T14:12:02.284555Z",
     "start_time": "2022-12-26T14:04:47.636676Z"
    }
   },
   "outputs": [
    {
     "name": "stdout",
     "output_type": "stream",
     "text": [
      "{0: 1.0, 1: 1.0}\n"
     ]
    }
   ],
   "source": [
    "train_plants = all_plant.copy()        \n",
    "[x_train, x_val, y_train, y_val, class_weight] = get_dataset(train_plants)        \n",
    "print(class_weight)\n",
    "model = get_model(x_train.shape[1])\n",
    "[model, history] = train(model, x_train, x_val, y_train, y_val, class_weight,  batch_size=32, learning_rate = 0.002, epochs=500)                "
   ]
  },
  {
   "cell_type": "code",
   "execution_count": 113,
   "metadata": {
    "ExecuteTime": {
     "end_time": "2022-12-26T14:12:02.577825Z",
     "start_time": "2022-12-26T14:12:02.291485Z"
    }
   },
   "outputs": [],
   "source": [
    "model.save('../classifier/model.h5')  "
   ]
  },
  {
   "cell_type": "code",
   "execution_count": null,
   "metadata": {},
   "outputs": [],
   "source": []
  },
  {
   "cell_type": "code",
   "execution_count": null,
   "metadata": {},
   "outputs": [],
   "source": []
  }
 ],
 "metadata": {
  "colab": {
   "collapsed_sections": [
    "qyC8IFwrWkag",
    "bdbqIS-UWka4",
    "5Ueqwrjc5ewu",
    "Yqno44cv5iiY",
    "TlT1KSuI5mJX",
    "zKOjU6DD5oCk",
    "JNmcvnfJZhok",
    "-1L8jIc5WkbW"
   ],
   "name": "Classification.ipynb",
   "provenance": []
  },
  "kernelspec": {
   "display_name": "Python 3",
   "language": "python",
   "name": "python3"
  },
  "language_info": {
   "codemirror_mode": {
    "name": "ipython",
    "version": 3
   },
   "file_extension": ".py",
   "mimetype": "text/x-python",
   "name": "python",
   "nbconvert_exporter": "python",
   "pygments_lexer": "ipython3",
   "version": "3.8.10"
  }
 },
 "nbformat": 4,
 "nbformat_minor": 1
}
