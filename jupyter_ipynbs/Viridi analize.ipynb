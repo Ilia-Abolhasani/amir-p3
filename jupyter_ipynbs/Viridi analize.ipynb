{
 "cells": [
  {
   "cell_type": "markdown",
   "metadata": {
    "ExecuteTime": {
     "end_time": "2022-06-15T21:49:38.290957Z",
     "start_time": "2022-06-15T21:49:38.286712Z"
    }
   },
   "source": [
    "# Config"
   ]
  },
  {
   "cell_type": "code",
   "execution_count": 1,
   "metadata": {
    "ExecuteTime": {
     "end_time": "2022-11-23T16:36:48.773524Z",
     "start_time": "2022-11-23T16:36:48.768680Z"
    }
   },
   "outputs": [],
   "source": [
    "experiment = \"A.indica\"\n",
    "input_genome_name = \"GCA_022749755.1_ASM2274975v1_genomic.fna\"\n",
    "\n",
    "experiment_dir = \"./Experiment\""
   ]
  },
  {
   "cell_type": "code",
   "execution_count": 2,
   "metadata": {
    "ExecuteTime": {
     "end_time": "2022-11-23T16:36:51.226123Z",
     "start_time": "2022-11-23T16:36:51.220670Z"
    }
   },
   "outputs": [],
   "source": [
    "input_genome_path = f'{experiment_dir}/{experiment}/{input_genome_name}'\n",
    "\n",
    "temp_path = f\"{experiment_dir}/{experiment}/Temp\"\n",
    "result_path = f\"{experiment_dir}/{experiment}/Result\"\n",
    "\n",
    "temp_path_f = temp_path.replace(\" \", \"\\ \")\n",
    "result_path_f = result_path.replace(\" \", \"\\ \")"
   ]
  },
  {
   "cell_type": "code",
   "execution_count": 3,
   "metadata": {
    "ExecuteTime": {
     "end_time": "2022-11-23T16:36:52.099172Z",
     "start_time": "2022-11-23T16:36:52.094546Z"
    }
   },
   "outputs": [],
   "source": [
    "classifier_threshold = 0.95"
   ]
  },
  {
   "cell_type": "markdown",
   "metadata": {},
   "source": [
    "# Common"
   ]
  },
  {
   "cell_type": "code",
   "execution_count": 4,
   "metadata": {
    "ExecuteTime": {
     "end_time": "2022-11-23T16:36:53.161168Z",
     "start_time": "2022-11-23T16:36:53.156582Z"
    }
   },
   "outputs": [],
   "source": [
    "#!pip install tqdm"
   ]
  },
  {
   "cell_type": "code",
   "execution_count": 5,
   "metadata": {
    "ExecuteTime": {
     "end_time": "2022-11-23T16:37:05.168476Z",
     "start_time": "2022-11-23T16:36:53.454289Z"
    }
   },
   "outputs": [],
   "source": [
    "import json\n",
    "import time\n",
    "import pickle\n",
    "from subprocess import Popen, PIPE, STDOUT\n",
    "import math\n",
    "import numpy as np\n",
    "import pandas as pd\n",
    "import hashlib\n",
    "import requests\n",
    "import os, sys, subprocess\n",
    "from tqdm.contrib.concurrent import process_map\n",
    "from tqdm.notebook import tqdm\n",
    "tqdm.pandas()\n",
    "import multiprocessing as mp\n",
    "import shutil\n",
    "import urllib.parse\n",
    "import glob\n",
    "import os\n",
    "import sys\n",
    "import networkx\n",
    "from networkx.algorithms.clique import find_cliques as maximal_cliques\n",
    "from ast import literal_eval\n",
    "from keras.models import load_model\n",
    "if sys.version_info[0] < 3: \n",
    "    from StringIO import StringIO\n",
    "else:\n",
    "    from io import StringIO\n",
    "sys.path.append(\"./src/\")\n",
    "from ct_analizer import get_row\n",
    "from filter import filter_run\n",
    "from postprocess import postprocess\n",
    "from convertor import convert\n",
    "from preprocessing import get_target, preprocessing"
   ]
  },
  {
   "cell_type": "code",
   "execution_count": 6,
   "metadata": {
    "ExecuteTime": {
     "end_time": "2022-11-23T16:37:05.178958Z",
     "start_time": "2022-11-23T16:37:05.173269Z"
    }
   },
   "outputs": [],
   "source": [
    "if(not os.path.exists(temp_path)):\n",
    "    os.mkdir(temp_path)\n",
    "    \n",
    "if(not os.path.exists(result_path)):\n",
    "    os.mkdir(result_path)"
   ]
  },
  {
   "cell_type": "code",
   "execution_count": 7,
   "metadata": {
    "ExecuteTime": {
     "end_time": "2022-11-23T16:37:05.187125Z",
     "start_time": "2022-11-23T16:37:05.183243Z"
    }
   },
   "outputs": [],
   "source": [
    "current_path = os.getcwd()"
   ]
  },
  {
   "cell_type": "code",
   "execution_count": 8,
   "metadata": {
    "ExecuteTime": {
     "end_time": "2022-11-23T16:37:05.196490Z",
     "start_time": "2022-11-23T16:37:05.191213Z"
    }
   },
   "outputs": [],
   "source": [
    "def bracket_row(row):    \n",
    "    s = row['data']\n",
    "    index = min(s.find('.'), s.find('('))\n",
    "    data = row['data']\n",
    "    row['data'] = data[0:index]\n",
    "    row['bracket'] = data[index:]\n",
    "    return row"
   ]
  },
  {
   "cell_type": "code",
   "execution_count": 9,
   "metadata": {
    "ExecuteTime": {
     "end_time": "2022-11-23T16:37:05.204174Z",
     "start_time": "2022-11-23T16:37:05.199926Z"
    }
   },
   "outputs": [],
   "source": [
    "def adjust(text,n=7):\n",
    "    text = str(text)    \n",
    "    return \" \" * (n - len(text)) + text"
   ]
  },
  {
   "cell_type": "code",
   "execution_count": 10,
   "metadata": {
    "ExecuteTime": {
     "end_time": "2022-11-23T16:37:05.222806Z",
     "start_time": "2022-11-23T16:37:05.207556Z"
    }
   },
   "outputs": [],
   "source": [
    "def bracket_to_ct(tag, data, bracket, deltaG, negative_deltaG=True):    \n",
    "    deltaG = deltaG.replace('(','').replace(')','')\n",
    "    deltaG = float(deltaG)\n",
    "    if(deltaG > 0 and negative_deltaG ): # negetive?!\n",
    "        deltaG = -1 * deltaG\n",
    "    stack = []\n",
    "    index = np.zeros((len(bracket)), dtype = int)\n",
    "    values = np.zeros((len(bracket)), dtype = int)\n",
    "    for i in range(len(bracket)):\n",
    "        index[i] = i + 1\n",
    "        if(bracket[i] == '.'):\n",
    "            values[i] = 0\n",
    "        elif(bracket[i] == '('):\n",
    "            stack.append(i)\n",
    "        elif(bracket[i] == ')'):\n",
    "            if(len(stack) == 0 ):\n",
    "                print('structure error!')\n",
    "            values[stack[-1]] = i + 1\n",
    "            values[i]  = stack[-1] + 1\n",
    "            stack.pop()\n",
    "        else:\n",
    "            print('structure error!')\n",
    "    if(len(stack) != 0 ):\n",
    "        print('structure error!')\n",
    "    # body    \n",
    "    ct = f\"{adjust(len(data),6)} dG ={adjust(deltaG,10)} {tag}\\n\"   \n",
    "    for i in range(len(bracket)):\n",
    "        ct += f\"{adjust(index[i],6)} {data[i]} {adjust(i,6)} {adjust((i+2)%(len(data)+1),6)} {adjust(values[i],6)} {adjust(index[i],7)}\\n\"\n",
    "    return ct"
   ]
  },
  {
   "cell_type": "code",
   "execution_count": 11,
   "metadata": {
    "ExecuteTime": {
     "end_time": "2022-11-23T16:37:05.233543Z",
     "start_time": "2022-11-23T16:37:05.226160Z"
    }
   },
   "outputs": [],
   "source": [
    "def fasta_to_df(path):\n",
    "    with open(path, 'r') as file:\n",
    "        text = file.read()\n",
    "    lines = [line for line in text.split('\\n') if len(line) > 0]\n",
    "    s = ''\n",
    "    tags = []\n",
    "    data = []\n",
    "    for l in lines:\n",
    "        if(l[0]=='>'):\n",
    "            tags.append(l)        \n",
    "            data.append(s)\n",
    "            s = ''\n",
    "        else:\n",
    "            s += l    \n",
    "    data.append(s)\n",
    "    df = pd.DataFrame(\n",
    "            {\n",
    "                'tag': tags,\n",
    "                'data': data[1:]\n",
    "            })\n",
    "    df['tag'] = df['tag'].apply(lambda x: x[1:])    \n",
    "    return df"
   ]
  },
  {
   "cell_type": "code",
   "execution_count": 12,
   "metadata": {
    "ExecuteTime": {
     "end_time": "2022-11-23T16:37:05.243183Z",
     "start_time": "2022-11-23T16:37:05.238263Z"
    }
   },
   "outputs": [],
   "source": [
    "def df_to_fasta(df, path):\n",
    "    lines = []\n",
    "    df.apply(lambda row: lines.append(f\">{row['tag']}\\n{row['data']}\\n\"),axis=1)\n",
    "    with open(path,'w') as file:\n",
    "        file.write(''.join(lines))"
   ]
  },
  {
   "cell_type": "code",
   "execution_count": 13,
   "metadata": {
    "ExecuteTime": {
     "end_time": "2022-11-23T16:37:05.251572Z",
     "start_time": "2022-11-23T16:37:05.246734Z"
    }
   },
   "outputs": [],
   "source": [
    "def reformat(path):\n",
    "    return path.replace('(','_').replace(')','_').replace('.','').replace(':','_')"
   ]
  },
  {
   "cell_type": "code",
   "execution_count": 14,
   "metadata": {
    "ExecuteTime": {
     "end_time": "2022-11-23T16:37:05.263815Z",
     "start_time": "2022-11-23T16:37:05.255052Z"
    }
   },
   "outputs": [],
   "source": [
    "def reformatCT(path):\n",
    "    with open(path, 'r') as file:\n",
    "        text = file.read()\n",
    "    text = [l for l in text.split('\\n') if len(l) > 0 ] # remove blank lines\n",
    "    text = '\\n'.join(text)\n",
    "    text = text.replace(\"\\t\",\" \")\n",
    "    while(\"  \" in text):\n",
    "        text = text.replace(\"  \", \" \")\n",
    "    lines = [l for l in text.split('\\n')]\n",
    "    for i in range(len(lines)):\n",
    "        if(lines[i][0] == \" \"):\n",
    "            lines[i] = lines[i][1:]\n",
    "        if(lines[i][-1] == \" \"):\n",
    "            lines[i] = lines[i][:-1]\n",
    "    text = '\\n'.join(lines)\n",
    "    return text"
   ]
  },
  {
   "cell_type": "code",
   "execution_count": 15,
   "metadata": {
    "ExecuteTime": {
     "end_time": "2022-11-23T16:37:05.273206Z",
     "start_time": "2022-11-23T16:37:05.267256Z"
    }
   },
   "outputs": [],
   "source": [
    "def get_ct_data(ct):\n",
    "    ct = \"\\n\".join(ct.split('\\n')[1:])\n",
    "    df = pd.read_csv(StringIO(ct), sep=\" \", header=None)               \n",
    "    nucleotide = df.iloc[:,1]\n",
    "    index = df.iloc[:,5]\n",
    "    values = df.iloc[:,4]\n",
    "    return [nucleotide, index, values]"
   ]
  },
  {
   "cell_type": "code",
   "execution_count": 16,
   "metadata": {
    "ExecuteTime": {
     "end_time": "2022-11-23T16:37:05.283196Z",
     "start_time": "2022-11-23T16:37:05.276547Z"
    }
   },
   "outputs": [],
   "source": [
    "def ct2dot_bracket(path):\n",
    "    [nucleotide, index, values] = get_ct_data(reformatCT(path))\n",
    "    text = ''.join(nucleotide) + \"\\n\"\n",
    "    watch = []\n",
    "    for i, v in zip(index,values):\n",
    "        if(v == 0):\n",
    "            text += '.'\n",
    "        else:\n",
    "            if( v not in watch):\n",
    "                text += '('\n",
    "                watch.append(i)\n",
    "            if( v in watch):\n",
    "                text += ')'\n",
    "    return text"
   ]
  },
  {
   "cell_type": "code",
   "execution_count": 17,
   "metadata": {
    "ExecuteTime": {
     "end_time": "2022-11-23T16:37:05.292161Z",
     "start_time": "2022-11-23T16:37:05.286344Z"
    }
   },
   "outputs": [],
   "source": [
    "def is_nested(index, values):\n",
    "    max_value = max(index) + 10 # inf\n",
    "    for i, v in zip(index, values):\n",
    "        if(v < max_value and v != 0):\n",
    "            max_value  = v\n",
    "        if(i >= max_value):\n",
    "            max_value = max(index) + 10 # inf\n",
    "        if(v > max_value):\n",
    "            return False               \n",
    "    return True"
   ]
  },
  {
   "cell_type": "markdown",
   "metadata": {},
   "source": [
    "# Download data from Mirbase"
   ]
  },
  {
   "cell_type": "code",
   "execution_count": 18,
   "metadata": {
    "ExecuteTime": {
     "end_time": "2022-11-23T16:37:15.895340Z",
     "start_time": "2022-11-23T16:37:15.891109Z"
    }
   },
   "outputs": [],
   "source": [
    "directory = './miRBase'\n",
    "base = \"https://www.mirbase.org/ftp/CURRENT\"        "
   ]
  },
  {
   "cell_type": "code",
   "execution_count": 19,
   "metadata": {
    "ExecuteTime": {
     "end_time": "2022-11-23T16:37:21.282891Z",
     "start_time": "2022-11-23T16:37:20.983245Z"
    }
   },
   "outputs": [],
   "source": [
    "mature = fasta_to_df(f'{directory}/mature.fa')\n",
    "mature_high_conf = fasta_to_df(f'{directory}/mature_high_conf.fa')\n",
    "mature['trim tag'] = mature['tag'].apply(lambda line: ' '.join(line.split(' ')[:2]))\n",
    "mature['confidence'] = mature['trim tag'].isin(mature_high_conf['tag'])"
   ]
  },
  {
   "cell_type": "code",
   "execution_count": 20,
   "metadata": {
    "ExecuteTime": {
     "end_time": "2022-11-23T16:37:28.931222Z",
     "start_time": "2022-11-23T16:37:28.877042Z"
    }
   },
   "outputs": [
    {
     "name": "stdout",
     "output_type": "stream",
     "text": [
      "(48885, 5)\n"
     ]
    },
    {
     "data": {
      "text/html": [
       "<div>\n",
       "<style scoped>\n",
       "    .dataframe tbody tr th:only-of-type {\n",
       "        vertical-align: middle;\n",
       "    }\n",
       "\n",
       "    .dataframe tbody tr th {\n",
       "        vertical-align: top;\n",
       "    }\n",
       "\n",
       "    .dataframe thead th {\n",
       "        text-align: right;\n",
       "    }\n",
       "</style>\n",
       "<table border=\"1\" class=\"dataframe\">\n",
       "  <thead>\n",
       "    <tr style=\"text-align: right;\">\n",
       "      <th></th>\n",
       "      <th>tag</th>\n",
       "      <th>data</th>\n",
       "      <th>trim tag</th>\n",
       "      <th>confidence</th>\n",
       "      <th>organism</th>\n",
       "    </tr>\n",
       "  </thead>\n",
       "  <tbody>\n",
       "    <tr>\n",
       "      <th>0</th>\n",
       "      <td>cel-let-7-5p MIMAT0000001 Caenorhabditis elega...</td>\n",
       "      <td>UGAGGUAGUAGGUUGUAUAGUU</td>\n",
       "      <td>cel-let-7-5p MIMAT0000001</td>\n",
       "      <td>True</td>\n",
       "      <td>cel</td>\n",
       "    </tr>\n",
       "    <tr>\n",
       "      <th>1</th>\n",
       "      <td>cel-let-7-3p MIMAT0015091 Caenorhabditis elega...</td>\n",
       "      <td>CUAUGCAAUUUUCUACCUUACC</td>\n",
       "      <td>cel-let-7-3p MIMAT0015091</td>\n",
       "      <td>True</td>\n",
       "      <td>cel</td>\n",
       "    </tr>\n",
       "  </tbody>\n",
       "</table>\n",
       "</div>"
      ],
      "text/plain": [
       "                                                 tag                    data  \\\n",
       "0  cel-let-7-5p MIMAT0000001 Caenorhabditis elega...  UGAGGUAGUAGGUUGUAUAGUU   \n",
       "1  cel-let-7-3p MIMAT0015091 Caenorhabditis elega...  CUAUGCAAUUUUCUACCUUACC   \n",
       "\n",
       "                    trim tag  confidence organism  \n",
       "0  cel-let-7-5p MIMAT0000001        True      cel  \n",
       "1  cel-let-7-3p MIMAT0015091        True      cel  "
      ]
     },
     "execution_count": 20,
     "metadata": {},
     "output_type": "execute_result"
    }
   ],
   "source": [
    "mature['organism'] = mature['tag'].apply(lambda x: x[:3])\n",
    "print(mature.shape)\n",
    "mature.head(2)"
   ]
  },
  {
   "cell_type": "code",
   "execution_count": 21,
   "metadata": {
    "ExecuteTime": {
     "end_time": "2022-11-23T16:37:31.076256Z",
     "start_time": "2022-11-23T16:37:31.051123Z"
    }
   },
   "outputs": [
    {
     "name": "stdout",
     "output_type": "stream",
     "text": [
      "(285, 5)\n"
     ]
    },
    {
     "data": {
      "text/html": [
       "<div>\n",
       "<style scoped>\n",
       "    .dataframe tbody tr th:only-of-type {\n",
       "        vertical-align: middle;\n",
       "    }\n",
       "\n",
       "    .dataframe tbody tr th {\n",
       "        vertical-align: top;\n",
       "    }\n",
       "\n",
       "    .dataframe thead th {\n",
       "        text-align: right;\n",
       "    }\n",
       "</style>\n",
       "<table border=\"1\" class=\"dataframe\">\n",
       "  <thead>\n",
       "    <tr style=\"text-align: right;\">\n",
       "      <th></th>\n",
       "      <th>organism</th>\n",
       "      <th>division</th>\n",
       "      <th>name</th>\n",
       "      <th>tree</th>\n",
       "      <th>NCBI-taxid</th>\n",
       "    </tr>\n",
       "  </thead>\n",
       "  <tbody>\n",
       "    <tr>\n",
       "      <th>0</th>\n",
       "      <td>aqu</td>\n",
       "      <td>AQU</td>\n",
       "      <td>Amphimedon queenslandica</td>\n",
       "      <td>Metazoa;Porifera;</td>\n",
       "      <td>400682</td>\n",
       "    </tr>\n",
       "    <tr>\n",
       "      <th>1</th>\n",
       "      <td>nve</td>\n",
       "      <td>NVE</td>\n",
       "      <td>Nematostella vectensis</td>\n",
       "      <td>Metazoa;Cnidaria;</td>\n",
       "      <td>45351</td>\n",
       "    </tr>\n",
       "  </tbody>\n",
       "</table>\n",
       "</div>"
      ],
      "text/plain": [
       "  organism division                      name               tree  NCBI-taxid\n",
       "0      aqu      AQU  Amphimedon queenslandica  Metazoa;Porifera;      400682\n",
       "1      nve      NVE    Nematostella vectensis  Metazoa;Cnidaria;       45351"
      ]
     },
     "execution_count": 21,
     "metadata": {},
     "output_type": "execute_result"
    }
   ],
   "source": [
    "organism = pd.read_csv(f'./{directory}/organisms.txt',sep='\\t')\n",
    "organism.columns = [c.replace('#','') for c in organism.columns] # remove sharp from columns\n",
    "print(organism.shape)\n",
    "organism.head(2)"
   ]
  },
  {
   "cell_type": "code",
   "execution_count": 22,
   "metadata": {
    "ExecuteTime": {
     "end_time": "2022-11-23T16:37:36.846841Z",
     "start_time": "2022-11-23T16:37:36.836285Z"
    }
   },
   "outputs": [
    {
     "data": {
      "text/plain": [
       "['Viruses;',\n",
       " 'Mycetozoa;',\n",
       " 'Alveolata;',\n",
       " 'Metazoa;Porifera;',\n",
       " 'Metazoa;Cnidaria;',\n",
       " 'Viridiplantae;Chlorophyta;',\n",
       " 'Viridiplantae;Embryophyta;',\n",
       " 'Viridiplantae;Coniferophyta;',\n",
       " 'Viridiplantae;Magnoliophyta;',\n",
       " 'Metazoa;Bilateria;Deuterostoma;',\n",
       " 'Chromalveolata;Heterokontophyta;',\n",
       " 'Metazoa;Bilateria;Ecdysozoa;Nematoda;',\n",
       " 'Metazoa;Bilateria;Lophotrochozoa;Annelida;',\n",
       " 'Metazoa;Bilateria;Lophotrochozoa;Nemertea;',\n",
       " 'Metazoa;Bilateria;Lophotrochozoa;Mollusca;',\n",
       " 'Viridiplantae;Magnoliophyta;monocotyledons;',\n",
       " 'Metazoa;Bilateria;Deuterostoma;Hemichordata;',\n",
       " 'Metazoa;Bilateria;Deuterostoma;Echinodermata;',\n",
       " 'Metazoa;Bilateria;Lophotrochozoa;Brachiopoda;',\n",
       " 'Metazoa;Bilateria;Ecdysozoa;Arthropoda;Hexapoda;',\n",
       " 'Metazoa;Bilateria;Ecdysozoa;Arthropoda;Crustacea;',\n",
       " 'Metazoa;Bilateria;Lophotrochozoa;Platyhelminthes;',\n",
       " 'Metazoa;Bilateria;Ecdysozoa;Arthropoda;Chelicerata;',\n",
       " 'Metazoa;Bilateria;Ecdysozoa;Arthropoda;Mandibulata;',\n",
       " 'Viridiplantae;Magnoliophyta;eudicotyledons;Poaceae;',\n",
       " 'Metazoa;Bilateria;Deuterostoma;Chordata;Urochordata;',\n",
       " 'Viridiplantae;Magnoliophyta;eudicotyledons;Fabaceae;',\n",
       " 'Viridiplantae;Magnoliophyta;eudicotyledons;Vitaceae;',\n",
       " 'Viridiplantae;Magnoliophyta;eudicotyledons;Rosaceae;',\n",
       " 'Viridiplantae;Magnoliophyta;eudicotyledons;Rutaceae;',\n",
       " 'Viridiplantae;Magnoliophyta;eudicotyledons;Lamiales;',\n",
       " 'Viridiplantae;Magnoliophyta;eudicotyledons;Linaceae;',\n",
       " 'Viridiplantae;Magnoliophyta;eudicotyledons;Malvaceae;',\n",
       " 'Viridiplantae;Magnoliophyta;eudicotyledons;Myrtaceae;',\n",
       " 'Viridiplantae;Magnoliophyta;eudicotyledons;Caricaceae;',\n",
       " 'Viridiplantae;Magnoliophyta;eudicotyledons;Salicaceae;',\n",
       " 'Viridiplantae;Magnoliophyta;eudicotyledons;Solanaceae;',\n",
       " 'Viridiplantae;Magnoliophyta;eudicotyledons;Asteraceae;',\n",
       " 'Viridiplantae;Magnoliophyta;eudicotyledons;Araliaceae;',\n",
       " 'Viridiplantae;Magnoliophyta;eudicotyledons;Paeoniaceae;',\n",
       " 'Metazoa;Bilateria;Deuterostoma;Chordata;Cephalochordata;',\n",
       " 'Metazoa;Bilateria;Deuterostoma;Chordata;Vertebrata;Aves;',\n",
       " 'Viridiplantae;Magnoliophyta;eudicotyledons;Brassicaceae;',\n",
       " 'Viridiplantae;Magnoliophyta;eudicotyledons;Papaveraceae;',\n",
       " 'Viridiplantae;Magnoliophyta;eudicotyledons;Ranunculaceae;',\n",
       " 'Viridiplantae;Magnoliophyta;eudicotyledons;Euphorbiaceae;',\n",
       " 'Viridiplantae;Magnoliophyta;eudicotyledons;Cucurbitaceae;',\n",
       " 'Viridiplantae;Magnoliophyta;eudicotyledons;Amaranthaceae;',\n",
       " 'Viridiplantae;Magnoliophyta;eudicotyledons;Rhizophoraceae;',\n",
       " 'Metazoa;Bilateria;Deuterostoma;Chordata;Vertebrata;Sauria;',\n",
       " 'Metazoa;Bilateria;Deuterostoma;Chordata;Vertebrata;Amphibia;',\n",
       " 'Metazoa;Bilateria;Deuterostoma;Chordata;Vertebrata;Teleostei;',\n",
       " 'Metazoa;Bilateria;Deuterostoma;Chordata;Vertebrata;Gnathostomata;',\n",
       " 'Metazoa;Bilateria;Deuterostoma;Chordata;Vertebrata;Mammalia;Suina;',\n",
       " 'Metazoa;Bilateria;Deuterostoma;Chordata;Vertebrata;Agnathostomata;',\n",
       " 'Metazoa;Bilateria;Deuterostoma;Chordata;Vertebrata;Mammalia;Rodentia;',\n",
       " 'Metazoa;Bilateria;Deuterostoma;Chordata;Vertebrata;Mammalia;Carnivora;',\n",
       " 'Metazoa;Bilateria;Deuterostoma;Chordata;Vertebrata;Mammalia;Cingulata;',\n",
       " 'Metazoa;Bilateria;Deuterostoma;Chordata;Vertebrata;Mammalia;Metatheria;',\n",
       " 'Metazoa;Bilateria;Deuterostoma;Chordata;Vertebrata;Mammalia;Ruminantia;',\n",
       " 'Metazoa;Bilateria;Deuterostoma;Chordata;Vertebrata;Mammalia;Lagomorpha;',\n",
       " 'Metazoa;Bilateria;Deuterostoma;Chordata;Vertebrata;Mammalia;Scandentia;',\n",
       " 'Metazoa;Bilateria;Deuterostoma;Chordata;Vertebrata;Mammalia;Afrotheria;',\n",
       " 'Metazoa;Bilateria;Deuterostoma;Chordata;Vertebrata;Mammalia;Prototheria;',\n",
       " 'Metazoa;Bilateria;Deuterostoma;Chordata;Vertebrata;Mammalia;Laurasiatheria;',\n",
       " 'Metazoa;Bilateria;Deuterostoma;Chordata;Vertebrata;Mammalia;Primates;Cebidae;',\n",
       " 'Metazoa;Bilateria;Deuterostoma;Chordata;Vertebrata;Mammalia;Primates;Atelidae;',\n",
       " 'Metazoa;Bilateria;Deuterostoma;Chordata;Vertebrata;Mammalia;Primates;Hominidae;',\n",
       " 'Metazoa;Bilateria;Deuterostoma;Chordata;Vertebrata;Mammalia;Primates;Lemuridae;',\n",
       " 'Metazoa;Bilateria;Deuterostoma;Chordata;Vertebrata;Mammalia;Primates;Galagidae;',\n",
       " 'Metazoa;Bilateria;Deuterostoma;Chordata;Vertebrata;Mammalia;Primates;Hylobatidae;',\n",
       " 'Metazoa;Bilateria;Deuterostoma;Chordata;Vertebrata;Mammalia;Primates;Cheirogaleidae;',\n",
       " 'Metazoa;Bilateria;Deuterostoma;Chordata;Vertebrata;Mammalia;Primates;Daubentoniidae;',\n",
       " 'Metazoa;Bilateria;Deuterostoma;Chordata;Vertebrata;Mammalia;Primates;Cercopithecidae;']"
      ]
     },
     "execution_count": 22,
     "metadata": {},
     "output_type": "execute_result"
    }
   ],
   "source": [
    "items = list(organism['tree'].unique())\n",
    "items.sort(key=len)\n",
    "items"
   ]
  },
  {
   "cell_type": "code",
   "execution_count": 23,
   "metadata": {
    "ExecuteTime": {
     "end_time": "2022-11-23T16:37:40.425547Z",
     "start_time": "2022-11-23T16:37:40.405572Z"
    },
    "scrolled": true
   },
   "outputs": [
    {
     "name": "stdout",
     "output_type": "stream",
     "text": [
      "(86, 5)\n"
     ]
    },
    {
     "data": {
      "text/html": [
       "<div>\n",
       "<style scoped>\n",
       "    .dataframe tbody tr th:only-of-type {\n",
       "        vertical-align: middle;\n",
       "    }\n",
       "\n",
       "    .dataframe tbody tr th {\n",
       "        vertical-align: top;\n",
       "    }\n",
       "\n",
       "    .dataframe thead th {\n",
       "        text-align: right;\n",
       "    }\n",
       "</style>\n",
       "<table border=\"1\" class=\"dataframe\">\n",
       "  <thead>\n",
       "    <tr style=\"text-align: right;\">\n",
       "      <th></th>\n",
       "      <th>organism</th>\n",
       "      <th>division</th>\n",
       "      <th>name</th>\n",
       "      <th>tree</th>\n",
       "      <th>NCBI-taxid</th>\n",
       "    </tr>\n",
       "  </thead>\n",
       "  <tbody>\n",
       "    <tr>\n",
       "      <th>66</th>\n",
       "      <td>cre</td>\n",
       "      <td>CRE</td>\n",
       "      <td>Chlamydomonas reinhardtii</td>\n",
       "      <td>Viridiplantae;Chlorophyta;</td>\n",
       "      <td>3055</td>\n",
       "    </tr>\n",
       "    <tr>\n",
       "      <th>67</th>\n",
       "      <td>pta</td>\n",
       "      <td>PTA</td>\n",
       "      <td>Pinus taeda</td>\n",
       "      <td>Viridiplantae;Coniferophyta;</td>\n",
       "      <td>3352</td>\n",
       "    </tr>\n",
       "    <tr>\n",
       "      <th>68</th>\n",
       "      <td>ppt</td>\n",
       "      <td>PPT</td>\n",
       "      <td>Physcomitrella patens</td>\n",
       "      <td>Viridiplantae;Embryophyta;</td>\n",
       "      <td>3218</td>\n",
       "    </tr>\n",
       "    <tr>\n",
       "      <th>69</th>\n",
       "      <td>smo</td>\n",
       "      <td>SMO</td>\n",
       "      <td>Selaginella moellendorffii</td>\n",
       "      <td>Viridiplantae;Embryophyta;</td>\n",
       "      <td>88036</td>\n",
       "    </tr>\n",
       "    <tr>\n",
       "      <th>70</th>\n",
       "      <td>ath</td>\n",
       "      <td>ATH</td>\n",
       "      <td>Arabidopsis thaliana</td>\n",
       "      <td>Viridiplantae;Magnoliophyta;eudicotyledons;Bra...</td>\n",
       "      <td>3702</td>\n",
       "    </tr>\n",
       "  </tbody>\n",
       "</table>\n",
       "</div>"
      ],
      "text/plain": [
       "   organism division                        name  \\\n",
       "66      cre      CRE   Chlamydomonas reinhardtii   \n",
       "67      pta      PTA                 Pinus taeda   \n",
       "68      ppt      PPT       Physcomitrella patens   \n",
       "69      smo      SMO  Selaginella moellendorffii   \n",
       "70      ath      ATH        Arabidopsis thaliana   \n",
       "\n",
       "                                                 tree  NCBI-taxid  \n",
       "66                         Viridiplantae;Chlorophyta;        3055  \n",
       "67                       Viridiplantae;Coniferophyta;        3352  \n",
       "68                         Viridiplantae;Embryophyta;        3218  \n",
       "69                         Viridiplantae;Embryophyta;       88036  \n",
       "70  Viridiplantae;Magnoliophyta;eudicotyledons;Bra...        3702  "
      ]
     },
     "execution_count": 23,
     "metadata": {},
     "output_type": "execute_result"
    }
   ],
   "source": [
    "selectedTree = organism[organism['tree'].apply(lambda x: \"Viridiplantae;\" in x)]\n",
    "print(selectedTree.shape)\n",
    "selectedTree.head(5)"
   ]
  },
  {
   "cell_type": "code",
   "execution_count": 25,
   "metadata": {
    "ExecuteTime": {
     "end_time": "2022-11-23T16:39:36.669778Z",
     "start_time": "2022-11-23T16:39:36.650052Z"
    },
    "scrolled": true
   },
   "outputs": [
    {
     "data": {
      "text/html": [
       "<div>\n",
       "<style scoped>\n",
       "    .dataframe tbody tr th:only-of-type {\n",
       "        vertical-align: middle;\n",
       "    }\n",
       "\n",
       "    .dataframe tbody tr th {\n",
       "        vertical-align: top;\n",
       "    }\n",
       "\n",
       "    .dataframe thead th {\n",
       "        text-align: right;\n",
       "    }\n",
       "</style>\n",
       "<table border=\"1\" class=\"dataframe\">\n",
       "  <thead>\n",
       "    <tr style=\"text-align: right;\">\n",
       "      <th></th>\n",
       "      <th>organism</th>\n",
       "      <th>division</th>\n",
       "      <th>name</th>\n",
       "      <th>tree</th>\n",
       "      <th>NCBI-taxid</th>\n",
       "    </tr>\n",
       "  </thead>\n",
       "  <tbody>\n",
       "    <tr>\n",
       "      <th>66</th>\n",
       "      <td>cre</td>\n",
       "      <td>CRE</td>\n",
       "      <td>Chlamydomonas reinhardtii</td>\n",
       "      <td>Viridiplantae;Chlorophyta;</td>\n",
       "      <td>3055</td>\n",
       "    </tr>\n",
       "    <tr>\n",
       "      <th>67</th>\n",
       "      <td>pta</td>\n",
       "      <td>PTA</td>\n",
       "      <td>Pinus taeda</td>\n",
       "      <td>Viridiplantae;Coniferophyta;</td>\n",
       "      <td>3352</td>\n",
       "    </tr>\n",
       "    <tr>\n",
       "      <th>68</th>\n",
       "      <td>ppt</td>\n",
       "      <td>PPT</td>\n",
       "      <td>Physcomitrella patens</td>\n",
       "      <td>Viridiplantae;Embryophyta;</td>\n",
       "      <td>3218</td>\n",
       "    </tr>\n",
       "    <tr>\n",
       "      <th>69</th>\n",
       "      <td>smo</td>\n",
       "      <td>SMO</td>\n",
       "      <td>Selaginella moellendorffii</td>\n",
       "      <td>Viridiplantae;Embryophyta;</td>\n",
       "      <td>88036</td>\n",
       "    </tr>\n",
       "    <tr>\n",
       "      <th>70</th>\n",
       "      <td>ath</td>\n",
       "      <td>ATH</td>\n",
       "      <td>Arabidopsis thaliana</td>\n",
       "      <td>Viridiplantae;Magnoliophyta;eudicotyledons;Bra...</td>\n",
       "      <td>3702</td>\n",
       "    </tr>\n",
       "    <tr>\n",
       "      <th>...</th>\n",
       "      <td>...</td>\n",
       "      <td>...</td>\n",
       "      <td>...</td>\n",
       "      <td>...</td>\n",
       "      <td>...</td>\n",
       "    </tr>\n",
       "    <tr>\n",
       "      <th>262</th>\n",
       "      <td>cas</td>\n",
       "      <td>CAS</td>\n",
       "      <td>Camelina sativa</td>\n",
       "      <td>Viridiplantae;Magnoliophyta;eudicotyledons;Bra...</td>\n",
       "      <td>90675</td>\n",
       "    </tr>\n",
       "    <tr>\n",
       "      <th>264</th>\n",
       "      <td>pla</td>\n",
       "      <td>PLA</td>\n",
       "      <td>Paeonia lactiflora</td>\n",
       "      <td>Viridiplantae;Magnoliophyta;eudicotyledons;Pae...</td>\n",
       "      <td>35924</td>\n",
       "    </tr>\n",
       "    <tr>\n",
       "      <th>267</th>\n",
       "      <td>mpo</td>\n",
       "      <td>MPO</td>\n",
       "      <td>Marchantia polymorpha</td>\n",
       "      <td>Viridiplantae;Embryophyta;</td>\n",
       "      <td>3197</td>\n",
       "    </tr>\n",
       "    <tr>\n",
       "      <th>274</th>\n",
       "      <td>smi</td>\n",
       "      <td>SMI</td>\n",
       "      <td>Salvia miltiorrhiza</td>\n",
       "      <td>Viridiplantae;Magnoliophyta;eudicotyledons;Lam...</td>\n",
       "      <td>226208</td>\n",
       "    </tr>\n",
       "    <tr>\n",
       "      <th>282</th>\n",
       "      <td>aof</td>\n",
       "      <td>AOF</td>\n",
       "      <td>Asparagus officinalis</td>\n",
       "      <td>Viridiplantae;Magnoliophyta;monocotyledons;</td>\n",
       "      <td>4686</td>\n",
       "    </tr>\n",
       "  </tbody>\n",
       "</table>\n",
       "<p>86 rows × 5 columns</p>\n",
       "</div>"
      ],
      "text/plain": [
       "    organism division                        name  \\\n",
       "66       cre      CRE   Chlamydomonas reinhardtii   \n",
       "67       pta      PTA                 Pinus taeda   \n",
       "68       ppt      PPT       Physcomitrella patens   \n",
       "69       smo      SMO  Selaginella moellendorffii   \n",
       "70       ath      ATH        Arabidopsis thaliana   \n",
       "..       ...      ...                         ...   \n",
       "262      cas      CAS             Camelina sativa   \n",
       "264      pla      PLA          Paeonia lactiflora   \n",
       "267      mpo      MPO       Marchantia polymorpha   \n",
       "274      smi      SMI         Salvia miltiorrhiza   \n",
       "282      aof      AOF       Asparagus officinalis   \n",
       "\n",
       "                                                  tree  NCBI-taxid  \n",
       "66                          Viridiplantae;Chlorophyta;        3055  \n",
       "67                        Viridiplantae;Coniferophyta;        3352  \n",
       "68                          Viridiplantae;Embryophyta;        3218  \n",
       "69                          Viridiplantae;Embryophyta;       88036  \n",
       "70   Viridiplantae;Magnoliophyta;eudicotyledons;Bra...        3702  \n",
       "..                                                 ...         ...  \n",
       "262  Viridiplantae;Magnoliophyta;eudicotyledons;Bra...       90675  \n",
       "264  Viridiplantae;Magnoliophyta;eudicotyledons;Pae...       35924  \n",
       "267                         Viridiplantae;Embryophyta;        3197  \n",
       "274  Viridiplantae;Magnoliophyta;eudicotyledons;Lam...      226208  \n",
       "282        Viridiplantae;Magnoliophyta;monocotyledons;        4686  \n",
       "\n",
       "[86 rows x 5 columns]"
      ]
     },
     "execution_count": 25,
     "metadata": {},
     "output_type": "execute_result"
    }
   ],
   "source": [
    "selectedTree"
   ]
  },
  {
   "cell_type": "code",
   "execution_count": 35,
   "metadata": {
    "ExecuteTime": {
     "end_time": "2022-11-23T16:44:51.223126Z",
     "start_time": "2022-11-23T16:44:51.174036Z"
    }
   },
   "outputs": [],
   "source": [
    "with open(\"./miRBase/miRNA.str\", \"r\") as file: \n",
    "    text = file.read()"
   ]
  },
  {
   "cell_type": "code",
   "execution_count": 86,
   "metadata": {
    "ExecuteTime": {
     "end_time": "2022-11-23T17:00:49.309782Z",
     "start_time": "2022-11-23T17:00:49.175179Z"
    }
   },
   "outputs": [],
   "source": [
    "lines = text.split(\"\\n\")\n",
    "lines = [l for l in lines if len(l) > 0]\n",
    "lines = [l for l in lines if l[0] == \">\"]\n",
    "lines = [l[1:4] for l in lines]\n",
    "data = pd.Series(lines)\n",
    "#data.value_counts().to_csv(\"./test.csv\")\n",
    "data = data[data.isin(selectedTree[\"organism\"])]\n",
    "data = data.value_counts()\n",
    "data.to_csv(\"./viridi.csv\")"
   ]
  },
  {
   "cell_type": "code",
   "execution_count": 87,
   "metadata": {
    "ExecuteTime": {
     "end_time": "2022-11-23T17:00:49.662531Z",
     "start_time": "2022-11-23T17:00:49.647809Z"
    }
   },
   "outputs": [],
   "source": [
    "df = pd.DataFrame(data, columns=[\"count\"])\n",
    "df['organism'] = df.index\n",
    "df = pd.merge( selectedTree , df, how=\"inner\", on=\"organism\")\n",
    "df.head()\n",
    "df.to_csv('viridi-complete.csv')"
   ]
  },
  {
   "cell_type": "code",
   "execution_count": null,
   "metadata": {},
   "outputs": [],
   "source": []
  }
 ],
 "metadata": {
  "hide_input": false,
  "kernelspec": {
   "display_name": "Python 3",
   "language": "python",
   "name": "python3"
  },
  "language_info": {
   "codemirror_mode": {
    "name": "ipython",
    "version": 3
   },
   "file_extension": ".py",
   "mimetype": "text/x-python",
   "name": "python",
   "nbconvert_exporter": "python",
   "pygments_lexer": "ipython3",
   "version": "3.8.10"
  },
  "varInspector": {
   "cols": {
    "lenName": 16,
    "lenType": 16,
    "lenVar": 40
   },
   "kernels_config": {
    "python": {
     "delete_cmd_postfix": "",
     "delete_cmd_prefix": "del ",
     "library": "var_list.py",
     "varRefreshCmd": "print(var_dic_list())"
    },
    "r": {
     "delete_cmd_postfix": ") ",
     "delete_cmd_prefix": "rm(",
     "library": "var_list.r",
     "varRefreshCmd": "cat(var_dic_list()) "
    }
   },
   "types_to_exclude": [
    "module",
    "function",
    "builtin_function_or_method",
    "instance",
    "_Feature"
   ],
   "window_display": false
  }
 },
 "nbformat": 4,
 "nbformat_minor": 4
}
