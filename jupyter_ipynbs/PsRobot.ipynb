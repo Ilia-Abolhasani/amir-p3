{
 "cells": [
  {
   "cell_type": "code",
   "execution_count": 4,
   "metadata": {
    "ExecuteTime": {
     "end_time": "2022-06-16T17:42:20.558323Z",
     "start_time": "2022-06-16T17:42:20.539553Z"
    }
   },
   "outputs": [
    {
     "name": "stdout",
     "output_type": "stream",
     "text": [
      "/home/jupyter/plant_microRNA_prediction/Software/psRobot_v1.2\n"
     ]
    }
   ],
   "source": [
    "%cd ./Software/psRobot_v1.2"
   ]
  },
  {
   "cell_type": "code",
   "execution_count": 22,
   "metadata": {
    "ExecuteTime": {
     "end_time": "2022-06-16T17:59:53.160761Z",
     "start_time": "2022-06-16T17:59:53.099982Z"
    }
   },
   "outputs": [],
   "source": [
    "import pandas as pd\n",
    "def df_to_fasta(df, path):\n",
    "    lines = []\n",
    "    df.apply(lambda row: lines.append(f\">{row['tag']}\\n{row['data']}\\n\"),axis=1)\n",
    "    with open(path,'w') as file:\n",
    "        file.write(''.join(lines))"
   ]
  },
  {
   "cell_type": "code",
   "execution_count": 24,
   "metadata": {
    "ExecuteTime": {
     "end_time": "2022-06-16T18:00:44.891673Z",
     "start_time": "2022-06-16T18:00:41.301476Z"
    }
   },
   "outputs": [],
   "source": [
    "result = pd.read_csv(\"./Experiment/A.thaliana/Result/result_level1_filter.csv\")\n",
    "result = result.drop_duplicates(['hit seq'], keep=\"first\")\n",
    "result['tag'] = (result['seq name'] + result['ct name'])\n",
    "result['data'] = result['hit seq']\n",
    "df_to_fasta(result[['tag', 'data']], f\"a.th_hits.fasta\")"
   ]
  },
  {
   "cell_type": "code",
   "execution_count": 5,
   "metadata": {
    "ExecuteTime": {
     "end_time": "2022-06-16T17:42:41.454931Z",
     "start_time": "2022-06-16T17:42:37.897796Z"
    },
    "scrolled": true
   },
   "outputs": [
    {
     "name": "stdout",
     "output_type": "stream",
     "text": [
      "\n",
      "\n",
      "It seems like you \u001b[01;31mdo not\u001b[00m have \u001b[01;31mroot\u001b[00m priviledge. \n",
      "\n",
      "I will install binary file to \u001b[01;31m/home/jupyter/plant_microRNA_prediction/Software/psRobot_v1.2/bin\u001b[00m and \n",
      "perl module to \u001b[01;31m/home/jupyter/plant_microRNA_prediction/Software/psRobot_v1.2/perllib\u001b[00m seperately instead of default parameter. \n",
      "\n",
      "If you do not like it, you can rerun like ./configure -p favorite_bin -l favorite_lib   \n",
      "\n",
      "\n",
      "Checking nafold..........................................[SUCCESSED]\n",
      "Checking gcc.............................................[SUCCESSED]\n",
      "Checking perl............................................[SUCCESSED]\n",
      "Please run \u001b[01;31mmake\u001b[00m and \u001b[01;31mmake install\u001b[00m.\n",
      "gcc -fopenmp -c -o main.o main.c -I/home/jupyter/plant_microRNA_prediction/Software/psRobot_v1.2/header\n",
      "gcc -fopenmp -o psR_map_untreated main.o -I/home/jupyter/plant_microRNA_prediction/Software/psRobot_v1.2/header\n",
      "gcc -fopenmp -c -o psRobot_tar.o psRobot_tar.c -I/home/jupyter/plant_microRNA_prediction/Software/psRobot_v1.2/header\n",
      "gcc -fopenmp -o psRobot_tar psRobot_tar.o -I/home/jupyter/plant_microRNA_prediction/Software/psRobot_v1.2/header\n",
      "\n",
      "\n",
      "make \u001b[01;31msuccessed\u001b[00m. Please run \u001b[01;31mmake install\u001b[00m.\n",
      "/bin/mkdir -p /home/jupyter/plant_microRNA_prediction/Software/psRobot_v1.2/bin\n",
      "if [ \"/home/jupyter/plant_microRNA_prediction/Software/psRobot_v1.2/bin\" != \"/home/jupyter/plant_microRNA_prediction/Software/psRobot_v1.2\" ]; then /bin/cp -f psR_map_untreated psRobot_tar psRobot_mir psRobot_map psRobot_deg /home/jupyter/plant_microRNA_prediction/Software/psRobot_v1.2/bin; fi\n",
      "/bin/mkdir -p /home/jupyter/plant_microRNA_prediction/Software/psRobot_v1.2/perllib\n",
      "if [ \"/home/jupyter/plant_microRNA_prediction/Software/psRobot_v1.2/bin\" != \"/home/jupyter/plant_microRNA_prediction/Software/psRobot_v1.2\" ]; then /bin/cp -f module/psRobot_Auto_NaFold.pm module/psRobot_Draw_Map_Reads.pm module/psRobot_Extract_Seq.pm module/psRobot_NaFold_Parser_plus.pm module/psRobot_NaFold_Parser.pm module/psRobot_OLToFa.pm module/psRobot_SmRNA_Cluster.pm module/psRobot_Star_Pos.pm /home/jupyter/plant_microRNA_prediction/Software/psRobot_v1.2/perllib; fi\n",
      "\n",
      "\n",
      " Install finished! \n",
      "\n",
      "Please run the following command to update your environment variable. \n",
      "\n",
      "***********\u001b[01;31msource /home/emadi/.bashrc\u001b[00m***********\n"
     ]
    },
    {
     "name": "stderr",
     "output_type": "stream",
     "text": [
      "In file included from main.c:7:\n",
      "/home/jupyter/plant_microRNA_prediction/Software/psRobot_v1.2/header/Sub.h:6:1: warning: return type defaults to ‘int’ [-Wimplicit-int]\n",
      "    6 | Com_BP (char CBP_ch)\n",
      "      | ^~~~~~\n",
      "/home/jupyter/plant_microRNA_prediction/Software/psRobot_v1.2/header/Sub.h: In function ‘Com_BP’:\n",
      "/home/jupyter/plant_microRNA_prediction/Software/psRobot_v1.2/header/Sub.h:8:10: warning: implicit declaration of function ‘toupper’ [-Wimplicit-function-declaration]\n",
      "    8 |  switch (toupper(CBP_ch))\n",
      "      |          ^~~~~~~\n",
      "/home/jupyter/plant_microRNA_prediction/Software/psRobot_v1.2/header/Sub.h: At top level:\n",
      "/home/jupyter/plant_microRNA_prediction/Software/psRobot_v1.2/header/Sub.h:28:1: warning: return type defaults to ‘int’ [-Wimplicit-int]\n",
      "   28 | Front_Add (char FA_ch, char FA_array[], long FA_array_length)\n",
      "      | ^~~~~~~~~\n",
      "/home/jupyter/plant_microRNA_prediction/Software/psRobot_v1.2/header/Sub.h:38:1: warning: return type defaults to ‘int’ [-Wimplicit-int]\n",
      "   38 | Back_Add (char BA_array[], char BA_ch, long FA_array_length)\n",
      "      | ^~~~~~~~\n",
      "In file included from main.c:10:\n",
      "/home/jupyter/plant_microRNA_prediction/Software/psRobot_v1.2/header/Map.h:8:1: warning: return type defaults to ‘int’ [-Wimplicit-int]\n",
      "    8 | map (FILE * map_fp, sr * map_head, char map_tag[], char map_chr[], long map_m, long map_m_r)\n",
      "      | ^~~\n",
      "main.c:13:1: warning: return type defaults to ‘int’ [-Wimplicit-int]\n",
      "   13 | main (int argc, char *argv[])\n",
      "      | ^~~~\n",
      "psRobot_tar.c:44:1: warning: return type defaults to ‘int’ [-Wimplicit-int]\n",
      "   44 | main(int argc, char *argv[])\n",
      "      | ^~~~\n",
      "psRobot_tar.c: In function ‘BP’:\n",
      "psRobot_tar.c:487:18: warning: implicit declaration of function ‘toupper’ [-Wimplicit-function-declaration]\n",
      "  487 |     int nt_int = toupper(nt1)+toupper(nt2);\n",
      "      |                  ^~~~~~~\n"
     ]
    }
   ],
   "source": [
    "%%bash\n",
    "./configure\n",
    "make\n",
    "make install"
   ]
  },
  {
   "cell_type": "code",
   "execution_count": 7,
   "metadata": {
    "ExecuteTime": {
     "end_time": "2022-06-16T17:45:11.495500Z",
     "start_time": "2022-06-16T17:45:11.332194Z"
    }
   },
   "outputs": [
    {
     "name": "stdout",
     "output_type": "stream",
     "text": [
      "psRobot_tar version 1.2\r\n",
      "psRobot_tar is designed to find potential small RNA targets on a large scale.\r\n",
      "\r\n",
      "Scoring rules: \r\n",
      "\r\n",
      "  1.    Mismatches, gaps or bulges are evaluated with a penalty of +1.\r\n",
      "  2.    G:U pairs are evaluated a penalty of +0.5.\r\n",
      "  3.    Half penalty scores will be evaluated outside the user defined essential sequence region.\r\n",
      "\r\n",
      "psRobot_tar arguments: \r\n",
      "\r\n",
      "  -s    input file name: smRNA sequences (fasta format)\r\n",
      "    default = smRNA\r\n",
      "  -t    input file name: target sequences (fasta format)\r\n",
      "    default = target\r\n",
      "  -o    output file name\r\n",
      "    default = smRNA-target.gTP\r\n",
      "  -ts   target penalty score, lower is better (0-5)\r\n",
      "    default = 2.5\r\n",
      "  -fp   5 prime boundary of essential sequence (1-2)\r\n",
      "    default = 2\r\n",
      "  -tp   3 prime boundary of essential sequence (7-31)\r\n",
      "    default = 17\r\n",
      "  -gl   position after which with gap/bulge permit (0-30), 0 means no gap/bulge permitted\r\n",
      "    default = 17\r\n",
      "  -p    number of processors use\r\n",
      "    default = 1\r\n",
      "  -gn   number of gaps/bulges permitted (0-5)\r\n",
      "    default = 1\r\n",
      "\r\n",
      "Written by Wu Hua-Jun\r\n",
      "Powered by omicslab\r\n"
     ]
    }
   ],
   "source": [
    "!psRobot_tar"
   ]
  },
  {
   "cell_type": "code",
   "execution_count": 11,
   "metadata": {
    "ExecuteTime": {
     "end_time": "2022-06-16T17:54:58.007992Z",
     "start_time": "2022-06-16T17:54:57.996275Z"
    }
   },
   "outputs": [
    {
     "name": "stdout",
     "output_type": "stream",
     "text": [
      "/home/jupyter/plant_microRNA_prediction\n"
     ]
    }
   ],
   "source": [
    "%cd ../.."
   ]
  },
  {
   "cell_type": "code",
   "execution_count": null,
   "metadata": {},
   "outputs": [],
   "source": []
  }
 ],
 "metadata": {
  "kernelspec": {
   "display_name": "Python 3",
   "language": "python",
   "name": "python3"
  },
  "language_info": {
   "codemirror_mode": {
    "name": "ipython",
    "version": 3
   },
   "file_extension": ".py",
   "mimetype": "text/x-python",
   "name": "python",
   "nbconvert_exporter": "python",
   "pygments_lexer": "ipython3",
   "version": "3.8.10"
  }
 },
 "nbformat": 4,
 "nbformat_minor": 4
}
