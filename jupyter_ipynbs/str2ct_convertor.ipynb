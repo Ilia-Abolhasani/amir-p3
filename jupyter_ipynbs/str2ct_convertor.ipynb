{
 "cells": [
  {
   "cell_type": "code",
   "execution_count": 1,
   "metadata": {
    "ExecuteTime": {
     "end_time": "2022-04-29T18:04:01.904657Z",
     "start_time": "2022-04-29T18:04:01.900732Z"
    }
   },
   "outputs": [],
   "source": [
    "directory = './Temp/miRBase_driven_data'"
   ]
  },
  {
   "cell_type": "markdown",
   "metadata": {
    "heading_collapsed": true
   },
   "source": [
    "# Download data from Mirbase"
   ]
  },
  {
   "cell_type": "code",
   "execution_count": 45,
   "metadata": {
    "ExecuteTime": {
     "end_time": "2022-04-29T17:45:36.777308Z",
     "start_time": "2022-04-29T17:45:30.701967Z"
    },
    "hidden": true
   },
   "outputs": [
    {
     "name": "stdout",
     "output_type": "stream",
     "text": [
      "--2022-04-29 22:15:30--  https://www.mirbase.org/ftp/CURRENT/miRNA.str.gz\n",
      "Resolving www.mirbase.org (www.mirbase.org)... 130.88.97.249\n",
      "Connecting to www.mirbase.org (www.mirbase.org)|130.88.97.249|:443... connected.\n",
      "HTTP request sent, awaiting response... 200 OK\n",
      "Length: 3373763 (3.2M) [application/x-gzip]\n",
      "Saving to: ‘././Temp/miRBase_driven_data/miRNA.str.gz’\n",
      "\n",
      "miRNA.str.gz          7%[>                   ] 248.00K  62.7KB/s    eta 50s    ^C\n"
     ]
    }
   ],
   "source": [
    "base = \"https://www.mirbase.org/ftp/CURRENT\"         \n",
    "!wget {base}/miRNA.str.gz -P ./{directory}/       ; gzip -d ./{directory}/miRNA.str.gz "
   ]
  },
  {
   "cell_type": "markdown",
   "metadata": {},
   "source": [
    "# Convertor"
   ]
  },
  {
   "cell_type": "code",
   "execution_count": 2,
   "metadata": {
    "ExecuteTime": {
     "end_time": "2022-04-29T18:04:04.223674Z",
     "start_time": "2022-04-29T18:04:03.745731Z"
    }
   },
   "outputs": [],
   "source": [
    "import numpy as np\n",
    "from tqdm import tqdm, trange  # !pip install tqdm\n",
    "import pandas as pd\n",
    "from tqdm.contrib.concurrent import process_map\n",
    "import multiprocessing as mp"
   ]
  },
  {
   "cell_type": "code",
   "execution_count": 3,
   "metadata": {
    "ExecuteTime": {
     "end_time": "2022-04-29T18:04:04.234808Z",
     "start_time": "2022-04-29T18:04:04.227046Z"
    }
   },
   "outputs": [],
   "source": [
    "def fasta_to_df(path):\n",
    "    with open(path, 'r') as file:\n",
    "        text = file.read()\n",
    "    lines = [line for line in text.split('\\n') if len(line) > 0]\n",
    "    s = ''\n",
    "    tags = []\n",
    "    data = []\n",
    "    for l in lines:\n",
    "        if(l[0]=='>'):\n",
    "            tags.append(l)        \n",
    "            data.append(s)\n",
    "            s = ''\n",
    "        else:\n",
    "            s += l    \n",
    "    data.append(s)\n",
    "    df = pd.DataFrame({'tag': tags, 'data': data[1:]})\n",
    "    df['tag'] = df['tag'].apply(lambda x: x[1:])    \n",
    "    return df"
   ]
  },
  {
   "cell_type": "code",
   "execution_count": 4,
   "metadata": {
    "ExecuteTime": {
     "end_time": "2022-04-29T18:04:04.250463Z",
     "start_time": "2022-04-29T18:04:04.244956Z"
    }
   },
   "outputs": [],
   "source": [
    "def isChar(c):\n",
    "    return not c in [' ', '-', '|']\n",
    "\n",
    "def adjust(text,n=7):\n",
    "    text = str(text)    \n",
    "    return \" \" * (n - len(text)) + text\n",
    "\n",
    "def isMature(c1, c2):\n",
    "    if(c1.isupper() and isChar(c1)):\n",
    "        return True\n",
    "    if(c2.isupper() and isChar(c2)):\n",
    "        return True\n",
    "    return False"
   ]
  },
  {
   "cell_type": "code",
   "execution_count": 5,
   "metadata": {
    "ExecuteTime": {
     "end_time": "2022-04-29T18:04:04.426125Z",
     "start_time": "2022-04-29T18:04:04.420333Z"
    }
   },
   "outputs": [],
   "source": [
    "def get_number(strText):\n",
    "    number = 0 \n",
    "    for i in range(len(strText[2])):\n",
    "        if(isChar(strText[2][i]) or isChar(strText[3][i])):\n",
    "            number += 1    \n",
    "        if(isChar(strText[4][i])):\n",
    "            number += 1    \n",
    "        if(isChar(strText[5][i]) or isChar(strText[6][i])):\n",
    "            number += 1     \n",
    "    return number"
   ]
  },
  {
   "cell_type": "code",
   "execution_count": 6,
   "metadata": {
    "ExecuteTime": {
     "end_time": "2022-04-29T18:04:04.607881Z",
     "start_time": "2022-04-29T18:04:04.600358Z"
    }
   },
   "outputs": [],
   "source": [
    "def get5pInfo(strText):\n",
    "    has_5p = False\n",
    "    s_5p = 0\n",
    "    f_5p = 0\n",
    "    counter = 0\n",
    "    for i in range(len(strText[2])):\n",
    "        if(isChar(strText[2][i]) or isChar(strText[3][i])):\n",
    "            counter += 1            \n",
    "            if(isMature(strText[2][i] ,strText[3][i])):\n",
    "                if(not has_5p):\n",
    "                    has_5p = True\n",
    "                    s_5p = counter\n",
    "                else:\n",
    "                    continue\n",
    "            elif(has_5p):\n",
    "                f_5p = counter - 1 \n",
    "                break\n",
    "    return [has_5p, s_5p, f_5p]"
   ]
  },
  {
   "cell_type": "code",
   "execution_count": 7,
   "metadata": {
    "ExecuteTime": {
     "end_time": "2022-04-29T18:04:04.747486Z",
     "start_time": "2022-04-29T18:04:04.740743Z"
    }
   },
   "outputs": [],
   "source": [
    "def get3pInfo(strText, number):\n",
    "    has_3p = False\n",
    "    s_3p = 0\n",
    "    f_3p = 0\n",
    "    counter = 0\n",
    "    for i in range(len(strText[6])):\n",
    "        if(isChar(strText[6][i]) or isChar(strText[5][i])):\n",
    "            counter += 1            \n",
    "            if(isMature(strText[6][i] ,strText[5][i])):\n",
    "                if(not has_3p):\n",
    "                    has_3p = True\n",
    "                    s_3p = counter\n",
    "                else:\n",
    "                    continue\n",
    "            elif(has_3p):\n",
    "                f_3p = counter - 1 \n",
    "                break        \n",
    "    return [has_3p, number - f_3p + 1, number - s_3p + 1]    "
   ]
  },
  {
   "cell_type": "code",
   "execution_count": 8,
   "metadata": {
    "ExecuteTime": {
     "end_time": "2022-04-29T18:04:04.998300Z",
     "start_time": "2022-04-29T18:04:04.921068Z"
    }
   },
   "outputs": [],
   "source": [
    "#2 [FO:Forward_out]  u    --          a   --    ucua     uu   ----a  u        -             a      gcuu          - a \n",
    "#3 [FI:Forward_in ]   uguc  uugagagggg aga  gauc    ugggu  ugg     gg cUGACAGA AGAGAGUGAGCAC cacggu    ucuuagcaug c a\n",
    "#4 [Mid:Middle    ]   ||||  |||||||||| |||  ||||    |||||  |||     || |||||||| ||||||||||||| ||||||    |||||||||| |  \n",
    "#5 [RI:Reverse_in ]   acag  gacucucuuc ucu  uuag    acccg  acc     cC GACUGUCU UCUCUCACUCGug gugucg    agggucguac g g\n",
    "#6 [RO:Reverse_out]  g    uu          c   aa    uaua     -u   acuug  -        A             c      ----          c a \n",
    "\n",
    "def convertor(strText, output_path = \"CT\"):\n",
    "    !mkdir -p {output_path}\n",
    "    index  = []\n",
    "    values = []\n",
    "    nucludid = []\n",
    "    def add(i, v, n):        \n",
    "        index.append(i)\n",
    "        values.append(v)\n",
    "        nucludid.append(n)\n",
    "            \n",
    "    f_counter = 1\n",
    "    r_counter = 0\n",
    "                    \n",
    "    number = get_number(strText)    \n",
    "    [FO, FI, Mid, RI, RO] = strText[2:]\n",
    "    # main loop    \n",
    "    for i in range(len(Mid)):           \n",
    "        \n",
    "        if(isChar(FO[i]) and FI[i] == \" \" and Mid[i] == \" \" and RI[i] == \" \"  and RO[i] == \"-\" ):\n",
    "            add(f_counter, 0, FO[i])                \n",
    "            f_counter += 1                      \n",
    "                \n",
    "        elif(FO[i] == \"-\" and FI[i] == \" \" and Mid[i] == \" \" and RI[i] == \" \"  and isChar(RO[i])):                                            \n",
    "            add(number - r_counter, 0, RO[i])                \n",
    "            r_counter += 1                      \n",
    "        \n",
    "        elif(isChar(FO[i]) and not isChar(FI[i]) and not isChar(Mid[i]) and not isChar(RI[i]) and isChar(RO[i])):\n",
    "            add(f_counter, 0, FO[i])                    \n",
    "            add(number - r_counter, 0, RO[i])                                \n",
    "            f_counter += 1        \n",
    "            r_counter += 1                              \n",
    "            \n",
    "        elif(not isChar(FO[i]) and isChar(FI[i]) and Mid[i] == \"|\" and isChar(RI[i]) and not isChar(RO[i])):        \n",
    "            add(f_counter, number - r_counter, FI[i])                        \n",
    "            add(number - r_counter, f_counter, RI[i])                \n",
    "            f_counter += 1        \n",
    "            r_counter += 1                  \n",
    "            \n",
    "        elif(not isChar(FO[i]) and isChar(FI[i]) and isChar(Mid[i]) and isChar(RI[i]) and not isChar(RO[i])):\n",
    "            add(f_counter, 0, FI[i])\n",
    "            add(f_counter + 1, 0, Mid[i])\n",
    "            add(number - r_counter, 0, RI[i])\n",
    "            f_counter += 2\n",
    "            r_counter += 1\n",
    "            \n",
    "        elif(not isChar(FO[i]) and isChar(FI[i]) and Mid[i] == \" \" and isChar(RI[i]) and not isChar(RO[i])):                \n",
    "            add(f_counter, 0, FI[i])                    \n",
    "            add(number - r_counter, 0, RI[i])                    \n",
    "            f_counter += 1        \n",
    "            r_counter += 1                  \n",
    "            \n",
    "        elif(not isChar(FO[i]) and not isChar(FI[i]) and isChar(Mid[i]) and not isChar(RI[i]) and not isChar(RO[i])):                \n",
    "            add(f_counter, 0, Mid[i])                                \n",
    "            f_counter += 1                    \n",
    "\n",
    "    # sort indexs and other base on indexes\n",
    "    inds = np.array(index).argsort()\n",
    "    index = np.array(index)[inds]\n",
    "    values = np.array(values)[inds]\n",
    "    nucludid = np.array(nucludid)[inds]   \n",
    "    # body\n",
    "    text = \"\"    \n",
    "    for i in range(len(index)):\n",
    "        text += f\"{adjust(index[i],6)} {nucludid[i]} {adjust(i,6)} {adjust((i+2)%(number+1),6)} {adjust(values[i],6)} {adjust(index[i],7)}\\n\"\n",
    "    # 5p\n",
    "    [has_5p, s_5p, f_5p] = get5pInfo(strText)\n",
    "    # 3p\n",
    "    [has_3p, s_3p, f_3p] = get3pInfo(strText, number)\n",
    "    \n",
    "    # common info\n",
    "    deltaG = strText[0].split('(')[1].split(')')[0]    \n",
    "    accession = strText[0].split(' ')[0][1:]\n",
    "    \n",
    "    common_header = f\"{adjust(number,6)} dG ={adjust(deltaG,10)} {accession}\"\n",
    "    if(has_3p and has_5p):                \n",
    "        with open(f\"{output_path}/{accession}-5p|+|1-{number}|{s_5p}-{f_5p}.ct\", 'w') as file:            \n",
    "            file.write(f\"{common_header}-5p|+|1-{number}|{s_5p}-{f_5p}\\n\" + text)\n",
    "        with open(f\"{output_path}/{accession}-3p|+|1-{number}|{s_3p}-{f_3p}.ct\", 'w') as file:            \n",
    "            file.write(f\"{common_header}-3p|+|1-{number}|{s_3p}-{f_3p}\\n\" + text)\n",
    "            \n",
    "    elif(has_5p):        \n",
    "        with open(f\"{output_path}/{accession}|+|1-{number}|{s_5p}-{f_5p}.ct\", 'w') as file:\n",
    "            file.write(f\"{common_header}|+|1-{number}|{s_5p}-{f_5p}\\n\" + text)\n",
    "            \n",
    "    elif(has_3p):        \n",
    "        with open(f\"{output_path}/{accession}|+|1-{number}|{s_3p}-{f_3p}.ct\", 'w') as file:\n",
    "            file.write(f\"{common_header}|+|1-{number}|{s_3p}-{f_3p}\\n\" + text)            "
   ]
  },
  {
   "cell_type": "code",
   "execution_count": 9,
   "metadata": {
    "ExecuteTime": {
     "end_time": "2022-04-29T18:04:05.271199Z",
     "start_time": "2022-04-29T18:04:05.085389Z"
    }
   },
   "outputs": [
    {
     "name": "stdout",
     "output_type": "stream",
     "text": [
      ">cel-let-7 (-42.90)   [cel-let-7-5p:17-38] [cel-let-7-3p:60-81]\n",
      "\n",
      "------uaca    gga             U              ---  aaua \n",
      "          cugu   uccggUGAGGUAG AGGUUGUAUAGUUu   gg    u\n",
      "          ||||   ||||||||||||| ||||||||||||||   ||     \n",
      "          gaca   aggCCAUUCCAUC UUUAACGUAUCaag   cc    u\n",
      "agcuucucaa    --g             U              ugg  acca \n"
     ]
    }
   ],
   "source": [
    "with open(f'{directory}/miRNA.str','r') as file:\n",
    "     lines = file.read().split('\\n')\n",
    "strText = lines[0:(0+7)]           \n",
    "print('\\n'.join(strText))\n",
    "convertor(strText,\"CT_high_viridi\")"
   ]
  },
  {
   "cell_type": "markdown",
   "metadata": {},
   "source": [
    "#  Select miRNA.str"
   ]
  },
  {
   "cell_type": "code",
   "execution_count": 19,
   "metadata": {
    "ExecuteTime": {
     "end_time": "2022-04-29T18:15:59.830447Z",
     "start_time": "2022-04-29T18:15:59.800664Z"
    }
   },
   "outputs": [],
   "source": [
    "temp = df['tag'].apply(lambda x: x.split(' ')[0])"
   ]
  },
  {
   "cell_type": "code",
   "execution_count": 23,
   "metadata": {
    "ExecuteTime": {
     "end_time": "2022-04-29T18:16:33.868005Z",
     "start_time": "2022-04-29T18:16:33.860398Z"
    }
   },
   "outputs": [
    {
     "data": {
      "text/plain": [
       "32           cel-mir-62\n",
       "46           cel-mir-78\n",
       "92           hsa-mir-95\n",
       "154       mmu-mir-138-2\n",
       "156         mmu-mir-141\n",
       "              ...      \n",
       "38582     smc-mir-12459\n",
       "38583     smc-mir-12460\n",
       "38584     smc-mir-12461\n",
       "38585    hsa-mir-9902-2\n",
       "38586     gga-mir-1784b\n",
       "Name: tag, Length: 35269, dtype: object"
      ]
     },
     "execution_count": 23,
     "metadata": {},
     "output_type": "execute_result"
    }
   ],
   "source": [
    "temp"
   ]
  },
  {
   "cell_type": "code",
   "execution_count": 22,
   "metadata": {
    "ExecuteTime": {
     "end_time": "2022-04-29T18:16:15.404301Z",
     "start_time": "2022-04-29T18:16:15.390440Z"
    }
   },
   "outputs": [
    {
     "data": {
      "text/html": [
       "<div>\n",
       "<style scoped>\n",
       "    .dataframe tbody tr th:only-of-type {\n",
       "        vertical-align: middle;\n",
       "    }\n",
       "\n",
       "    .dataframe tbody tr th {\n",
       "        vertical-align: top;\n",
       "    }\n",
       "\n",
       "    .dataframe thead th {\n",
       "        text-align: right;\n",
       "    }\n",
       "</style>\n",
       "<table border=\"1\" class=\"dataframe\">\n",
       "  <thead>\n",
       "    <tr style=\"text-align: right;\">\n",
       "      <th></th>\n",
       "      <th>tag</th>\n",
       "      <th>data</th>\n",
       "      <th>organism</th>\n",
       "      <th>length</th>\n",
       "    </tr>\n",
       "  </thead>\n",
       "  <tbody>\n",
       "  </tbody>\n",
       "</table>\n",
       "</div>"
      ],
      "text/plain": [
       "Empty DataFrame\n",
       "Columns: [tag, data, organism, length]\n",
       "Index: []"
      ]
     },
     "execution_count": 22,
     "metadata": {},
     "output_type": "execute_result"
    }
   ],
   "source": [
    "df[temp== 'dm-MIR156l']"
   ]
  },
  {
   "cell_type": "code",
   "execution_count": 10,
   "metadata": {
    "ExecuteTime": {
     "end_time": "2022-04-29T18:04:06.876094Z",
     "start_time": "2022-04-29T18:04:06.690938Z"
    }
   },
   "outputs": [
    {
     "name": "stdout",
     "output_type": "stream",
     "text": [
      "(38589, 2)\n",
      "(3320, 2)\n",
      "(35269, 4)\n"
     ]
    },
    {
     "data": {
      "text/html": [
       "<div>\n",
       "<style scoped>\n",
       "    .dataframe tbody tr th:only-of-type {\n",
       "        vertical-align: middle;\n",
       "    }\n",
       "\n",
       "    .dataframe tbody tr th {\n",
       "        vertical-align: top;\n",
       "    }\n",
       "\n",
       "    .dataframe thead th {\n",
       "        text-align: right;\n",
       "    }\n",
       "</style>\n",
       "<table border=\"1\" class=\"dataframe\">\n",
       "  <thead>\n",
       "    <tr style=\"text-align: right;\">\n",
       "      <th></th>\n",
       "      <th>tag</th>\n",
       "      <th>data</th>\n",
       "      <th>organism</th>\n",
       "      <th>length</th>\n",
       "    </tr>\n",
       "  </thead>\n",
       "  <tbody>\n",
       "    <tr>\n",
       "      <th>32</th>\n",
       "      <td>cel-mir-62 MI0000033 Caenorhabditis elegans mi...</td>\n",
       "      <td>GUGAGUUAGAUCUCAUAUCCUUCCGCAAAAUGGAAAUGAUAUGUAA...</td>\n",
       "      <td>cel</td>\n",
       "      <td>58</td>\n",
       "    </tr>\n",
       "    <tr>\n",
       "      <th>46</th>\n",
       "      <td>cel-mir-78 MI0000049 Caenorhabditis elegans mi...</td>\n",
       "      <td>AAUAAAAUAUAUUGUUUCAUAGUGUCCGUAAAAUAACUAGAUUUAU...</td>\n",
       "      <td>cel</td>\n",
       "      <td>96</td>\n",
       "    </tr>\n",
       "  </tbody>\n",
       "</table>\n",
       "</div>"
      ],
      "text/plain": [
       "                                                  tag  \\\n",
       "32  cel-mir-62 MI0000033 Caenorhabditis elegans mi...   \n",
       "46  cel-mir-78 MI0000049 Caenorhabditis elegans mi...   \n",
       "\n",
       "                                                 data organism  length  \n",
       "32  GUGAGUUAGAUCUCAUAUCCUUCCGCAAAAUGGAAAUGAUAUGUAA...      cel      58  \n",
       "46  AAUAAAAUAUAUUGUUUCAUAGUGUCCGUAAAAUAACUAGAUUUAU...      cel      96  "
      ]
     },
     "execution_count": 10,
     "metadata": {},
     "output_type": "execute_result"
    }
   ],
   "source": [
    "hairpin = fasta_to_df(f'./{directory}/hairpin.fa')\n",
    "print(hairpin.shape)\n",
    "high_hairpin = fasta_to_df(f'./{directory}/hairpin_high_conf.fa')\n",
    "print(high_hairpin.shape)\n",
    "hairpin = hairpin[~hairpin['tag'].isin(high_hairpin['tag'])]\n",
    "hairpin['organism'] = hairpin['tag'].apply(lambda x: x[:3])\n",
    "hairpin['length'] = hairpin['data'].apply(lambda x: len(x))\n",
    "print(hairpin.shape)\n",
    "df = hairpin\n",
    "hairpin.head(2)"
   ]
  },
  {
   "cell_type": "code",
   "execution_count": 11,
   "metadata": {
    "ExecuteTime": {
     "end_time": "2022-04-29T18:04:07.720081Z",
     "start_time": "2022-04-29T18:04:07.700796Z"
    }
   },
   "outputs": [
    {
     "name": "stdout",
     "output_type": "stream",
     "text": [
      "(285, 5)\n"
     ]
    },
    {
     "data": {
      "text/html": [
       "<div>\n",
       "<style scoped>\n",
       "    .dataframe tbody tr th:only-of-type {\n",
       "        vertical-align: middle;\n",
       "    }\n",
       "\n",
       "    .dataframe tbody tr th {\n",
       "        vertical-align: top;\n",
       "    }\n",
       "\n",
       "    .dataframe thead th {\n",
       "        text-align: right;\n",
       "    }\n",
       "</style>\n",
       "<table border=\"1\" class=\"dataframe\">\n",
       "  <thead>\n",
       "    <tr style=\"text-align: right;\">\n",
       "      <th></th>\n",
       "      <th>organism</th>\n",
       "      <th>division</th>\n",
       "      <th>name</th>\n",
       "      <th>tree</th>\n",
       "      <th>NCBI-taxid</th>\n",
       "    </tr>\n",
       "  </thead>\n",
       "  <tbody>\n",
       "    <tr>\n",
       "      <th>0</th>\n",
       "      <td>aqu</td>\n",
       "      <td>AQU</td>\n",
       "      <td>Amphimedon queenslandica</td>\n",
       "      <td>Metazoa;Porifera;</td>\n",
       "      <td>400682</td>\n",
       "    </tr>\n",
       "    <tr>\n",
       "      <th>1</th>\n",
       "      <td>nve</td>\n",
       "      <td>NVE</td>\n",
       "      <td>Nematostella vectensis</td>\n",
       "      <td>Metazoa;Cnidaria;</td>\n",
       "      <td>45351</td>\n",
       "    </tr>\n",
       "  </tbody>\n",
       "</table>\n",
       "</div>"
      ],
      "text/plain": [
       "  organism division                      name               tree  NCBI-taxid\n",
       "0      aqu      AQU  Amphimedon queenslandica  Metazoa;Porifera;      400682\n",
       "1      nve      NVE    Nematostella vectensis  Metazoa;Cnidaria;       45351"
      ]
     },
     "execution_count": 11,
     "metadata": {},
     "output_type": "execute_result"
    }
   ],
   "source": [
    "organism = pd.read_csv(f'./{directory}/organisms.txt',sep='\\t')\n",
    "organism.columns = [c.replace('#','') for c in organism.columns] # remove sharp from columns\n",
    "print(organism.shape)\n",
    "organism.head(2)"
   ]
  },
  {
   "cell_type": "code",
   "execution_count": 12,
   "metadata": {
    "ExecuteTime": {
     "end_time": "2022-04-29T18:04:09.076885Z",
     "start_time": "2022-04-29T18:04:09.060630Z"
    }
   },
   "outputs": [
    {
     "name": "stdout",
     "output_type": "stream",
     "text": [
      "(86, 5)\n"
     ]
    },
    {
     "data": {
      "text/html": [
       "<div>\n",
       "<style scoped>\n",
       "    .dataframe tbody tr th:only-of-type {\n",
       "        vertical-align: middle;\n",
       "    }\n",
       "\n",
       "    .dataframe tbody tr th {\n",
       "        vertical-align: top;\n",
       "    }\n",
       "\n",
       "    .dataframe thead th {\n",
       "        text-align: right;\n",
       "    }\n",
       "</style>\n",
       "<table border=\"1\" class=\"dataframe\">\n",
       "  <thead>\n",
       "    <tr style=\"text-align: right;\">\n",
       "      <th></th>\n",
       "      <th>organism</th>\n",
       "      <th>division</th>\n",
       "      <th>name</th>\n",
       "      <th>tree</th>\n",
       "      <th>NCBI-taxid</th>\n",
       "    </tr>\n",
       "  </thead>\n",
       "  <tbody>\n",
       "    <tr>\n",
       "      <th>66</th>\n",
       "      <td>cre</td>\n",
       "      <td>CRE</td>\n",
       "      <td>Chlamydomonas reinhardtii</td>\n",
       "      <td>Viridiplantae;Chlorophyta;</td>\n",
       "      <td>3055</td>\n",
       "    </tr>\n",
       "    <tr>\n",
       "      <th>67</th>\n",
       "      <td>pta</td>\n",
       "      <td>PTA</td>\n",
       "      <td>Pinus taeda</td>\n",
       "      <td>Viridiplantae;Coniferophyta;</td>\n",
       "      <td>3352</td>\n",
       "    </tr>\n",
       "  </tbody>\n",
       "</table>\n",
       "</div>"
      ],
      "text/plain": [
       "   organism division                       name                          tree  \\\n",
       "66      cre      CRE  Chlamydomonas reinhardtii    Viridiplantae;Chlorophyta;   \n",
       "67      pta      PTA                Pinus taeda  Viridiplantae;Coniferophyta;   \n",
       "\n",
       "    NCBI-taxid  \n",
       "66        3055  \n",
       "67        3352  "
      ]
     },
     "execution_count": 12,
     "metadata": {},
     "output_type": "execute_result"
    }
   ],
   "source": [
    "selectedTree = organism[organism['tree'].apply(lambda x: \"Viridiplantae;\" in x)]\n",
    "print(selectedTree.shape)\n",
    "selectedTree.head(2)"
   ]
  },
  {
   "cell_type": "code",
   "execution_count": 13,
   "metadata": {
    "ExecuteTime": {
     "end_time": "2022-04-29T18:04:10.704993Z",
     "start_time": "2022-04-29T18:04:10.681157Z"
    }
   },
   "outputs": [
    {
     "name": "stdout",
     "output_type": "stream",
     "text": [
      "(8455, 4)\n"
     ]
    },
    {
     "data": {
      "text/html": [
       "<div>\n",
       "<style scoped>\n",
       "    .dataframe tbody tr th:only-of-type {\n",
       "        vertical-align: middle;\n",
       "    }\n",
       "\n",
       "    .dataframe tbody tr th {\n",
       "        vertical-align: top;\n",
       "    }\n",
       "\n",
       "    .dataframe thead th {\n",
       "        text-align: right;\n",
       "    }\n",
       "</style>\n",
       "<table border=\"1\" class=\"dataframe\">\n",
       "  <thead>\n",
       "    <tr style=\"text-align: right;\">\n",
       "      <th></th>\n",
       "      <th>tag</th>\n",
       "      <th>data</th>\n",
       "      <th>organism</th>\n",
       "      <th>length</th>\n",
       "    </tr>\n",
       "  </thead>\n",
       "  <tbody>\n",
       "    <tr>\n",
       "      <th>168</th>\n",
       "      <td>ath-MIR156a MI0000178 Arabidopsis thaliana miR...</td>\n",
       "      <td>CAAGAGAAACGCAAAGAAACUGACAGAAGAGAGUGAGCACACAAAG...</td>\n",
       "      <td>ath</td>\n",
       "      <td>123</td>\n",
       "    </tr>\n",
       "    <tr>\n",
       "      <th>169</th>\n",
       "      <td>ath-MIR156b MI0000179 Arabidopsis thaliana miR...</td>\n",
       "      <td>GCUAGAAGAGGGAGAGAUGGUGAUUGAGGAAUGCAACAGAGAAAAC...</td>\n",
       "      <td>ath</td>\n",
       "      <td>183</td>\n",
       "    </tr>\n",
       "  </tbody>\n",
       "</table>\n",
       "</div>"
      ],
      "text/plain": [
       "                                                   tag  \\\n",
       "168  ath-MIR156a MI0000178 Arabidopsis thaliana miR...   \n",
       "169  ath-MIR156b MI0000179 Arabidopsis thaliana miR...   \n",
       "\n",
       "                                                  data organism  length  \n",
       "168  CAAGAGAAACGCAAAGAAACUGACAGAAGAGAGUGAGCACACAAAG...      ath     123  \n",
       "169  GCUAGAAGAGGGAGAGAUGGUGAUUGAGGAAUGCAACAGAGAAAAC...      ath     183  "
      ]
     },
     "execution_count": 13,
     "metadata": {},
     "output_type": "execute_result"
    }
   ],
   "source": [
    "selected = df[df['organism'].isin(selectedTree['organism'])]\n",
    "print(selected.shape)\n",
    "selected.head(2)"
   ]
  },
  {
   "cell_type": "code",
   "execution_count": 14,
   "metadata": {
    "ExecuteTime": {
     "end_time": "2022-04-29T18:04:16.611746Z",
     "start_time": "2022-04-29T18:04:11.445114Z"
    }
   },
   "outputs": [],
   "source": [
    "tags = list(selected['tag'].apply(lambda x : x.split(' ')[0]))\n",
    "with open(f'./{directory}/miRNA.str', 'r') as file:\n",
    "    text = file.read().split('\\n')\n",
    "\n",
    "\n",
    "result = ''\n",
    "for i in range(0,len(text),8):\n",
    "    if(text[i].split(' ')[0][1:] in tags):\n",
    "        result += '\\n'.join(text[i:i+8]) + \"\\n\"        \n",
    "with open(f'./not_high_conf_hairpin.str', 'w') as file:\n",
    "    file.write(result)"
   ]
  },
  {
   "cell_type": "code",
   "execution_count": 15,
   "metadata": {
    "ExecuteTime": {
     "end_time": "2022-04-29T18:04:20.930883Z",
     "start_time": "2022-04-29T18:04:20.885952Z"
    }
   },
   "outputs": [],
   "source": [
    "# for high confidence \n",
    "with open('./not_high_conf_hairpin.str','r') as file:\n",
    "    lines = file.read().split('\\n')     "
   ]
  },
  {
   "cell_type": "markdown",
   "metadata": {},
   "source": [
    "#  Run convertor"
   ]
  },
  {
   "cell_type": "code",
   "execution_count": 16,
   "metadata": {
    "ExecuteTime": {
     "end_time": "2022-04-29T18:05:34.733755Z",
     "start_time": "2022-04-29T18:04:49.141001Z"
    }
   },
   "outputs": [
    {
     "name": "stderr",
     "output_type": "stream",
     "text": [
      " 98%|█████████▊| 8316/8456 [00:44<00:00, 185.01it/s]"
     ]
    },
    {
     "name": "stdout",
     "output_type": "stream",
     "text": [
      "[''] not str structure\n"
     ]
    },
    {
     "name": "stderr",
     "output_type": "stream",
     "text": [
      "100%|██████████| 8456/8456 [00:45<00:00, 186.99it/s]\n"
     ]
    }
   ],
   "source": [
    "def run(i):                   \n",
    "    strText = lines[i:(i+7)]\n",
    "    if(len(strText) == 7):\n",
    "        convertor(strText, \"CT_not_high_viridi\")    \n",
    "    else:\n",
    "        print(strText, \"not str structure\")\n",
    "process_map(run , range(0,len(lines),8), tqdm_class=tqdm, max_workers= mp.cpu_count() - 1, chunksize=5);"
   ]
  },
  {
   "cell_type": "code",
   "execution_count": null,
   "metadata": {},
   "outputs": [],
   "source": [
    "!zip "
   ]
  }
 ],
 "metadata": {
  "kernelspec": {
   "display_name": "Python 3",
   "language": "python",
   "name": "python3"
  },
  "language_info": {
   "codemirror_mode": {
    "name": "ipython",
    "version": 3
   },
   "file_extension": ".py",
   "mimetype": "text/x-python",
   "name": "python",
   "nbconvert_exporter": "python",
   "pygments_lexer": "ipython3",
   "version": "3.8.10"
  }
 },
 "nbformat": 4,
 "nbformat_minor": 4
}
