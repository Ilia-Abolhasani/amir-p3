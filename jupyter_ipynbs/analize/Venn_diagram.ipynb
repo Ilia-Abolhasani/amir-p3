{
 "cells": [
  {
   "cell_type": "code",
   "execution_count": 1,
   "metadata": {
    "ExecuteTime": {
     "end_time": "2023-03-11T19:36:28.548885Z",
     "start_time": "2023-03-11T19:36:28.544004Z"
    }
   },
   "outputs": [],
   "source": [
    "experiment = \"A.indica\"\n",
    "input_genome_name = \"GCA_022749755.1_ASM2274975v1_genomic.fna\"\n",
    "\n",
    "experiment_dir = \"../experiment\"\n",
    "\n",
    "input_genome_path = f'{experiment_dir}/{experiment}/{input_genome_name}'\n",
    "\n",
    "temp_path = f\"{experiment_dir}/{experiment}/Temp\"\n",
    "result_path = f\"{experiment_dir}/{experiment}/Result\""
   ]
  },
  {
   "cell_type": "code",
   "execution_count": 2,
   "metadata": {
    "ExecuteTime": {
     "end_time": "2023-03-11T19:36:33.237272Z",
     "start_time": "2023-03-11T19:36:28.928394Z"
    }
   },
   "outputs": [],
   "source": [
    "import json\n",
    "import time\n",
    "import pickle\n",
    "from subprocess import Popen, PIPE, STDOUT\n",
    "import math\n",
    "import numpy as np\n",
    "import pandas as pd\n",
    "import hashlib\n",
    "import requests\n",
    "import os, sys, subprocess\n",
    "from tqdm.contrib.concurrent import process_map\n",
    "from tqdm.notebook import tqdm\n",
    "tqdm.pandas()\n",
    "import multiprocessing as mp\n",
    "import shutil\n",
    "import urllib.parse\n",
    "import glob\n",
    "import os\n",
    "import sys\n",
    "import networkx\n",
    "from networkx.algorithms.clique import find_cliques as maximal_cliques\n",
    "from ast import literal_eval\n",
    "from keras.models import load_model\n",
    "if sys.version_info[0] < 3: \n",
    "    from StringIO import StringIO\n",
    "else:\n",
    "    from io import StringIO\n",
    "sys.path.append(\"../src/\")\n",
    "from ct_analizer import get_row\n",
    "from filter import filter_run\n",
    "from postprocess import postprocess\n",
    "from convertor import convert\n",
    "from preprocessing import get_target, preprocessing"
   ]
  },
  {
   "cell_type": "markdown",
   "metadata": {},
   "source": [
    "# no filter"
   ]
  },
  {
   "cell_type": "markdown",
   "metadata": {
    "ExecuteTime": {
     "end_time": "2023-03-11T19:31:21.829171Z",
     "start_time": "2023-03-11T19:31:21.825759Z"
    }
   },
   "source": [
    "## BOI"
   ]
  },
  {
   "cell_type": "code",
   "execution_count": 3,
   "metadata": {
    "ExecuteTime": {
     "end_time": "2023-03-11T19:36:36.984006Z",
     "start_time": "2023-03-11T19:36:33.240874Z"
    },
    "scrolled": true
   },
   "outputs": [
    {
     "name": "stderr",
     "output_type": "stream",
     "text": [
      "<ipython-input-3-d4316a3c025f>:1: DtypeWarning: Columns (49) have mixed types. Specify dtype option on import or set low_memory=False.\n",
      "  mfold = pd.read_csv(f\"{result_path}/ct_analizer_clustered.csv\")\n"
     ]
    }
   ],
   "source": [
    "mfold = pd.read_csv(f\"{result_path}/ct_analizer_clustered.csv\")\n",
    "veinna = pd.read_csv(f\"{result_path}/viennarna_ct_analizer_clustered.csv\")\n",
    "contrafold  = pd.read_csv(f\"{result_path}/contrafold_ct_analizer_clustered.csv\")\n",
    "mxfold2 = pd.read_csv(f\"{result_path}/mxfold2_ct_analizer_clustered.csv\")"
   ]
  },
  {
   "cell_type": "code",
   "execution_count": 4,
   "metadata": {
    "ExecuteTime": {
     "end_time": "2023-03-11T19:36:37.033177Z",
     "start_time": "2023-03-11T19:36:36.988821Z"
    }
   },
   "outputs": [],
   "source": [
    "s_mfold = set(mfold['boi seq'] + mfold[\"boi dotbracket\"])\n",
    "s_veinna = set(veinna['boi seq'] + veinna[\"boi dotbracket\"])\n",
    "s_contrafold = set(contrafold['boi seq'] + contrafold[\"boi dotbracket\"])\n",
    "s_mxfold2 = set(mxfold2['boi seq'] + mxfold2[\"boi dotbracket\"])"
   ]
  },
  {
   "cell_type": "code",
   "execution_count": 5,
   "metadata": {
    "ExecuteTime": {
     "end_time": "2023-03-11T19:36:37.053560Z",
     "start_time": "2023-03-11T19:36:37.036733Z"
    }
   },
   "outputs": [
    {
     "name": "stdout",
     "output_type": "stream",
     "text": [
      "mfold: 24326\n",
      "veinna: 3715\n",
      "contrafold: 3036\n",
      "mxfold2: 971\n",
      "mfold & veinna: 366\n",
      "mfold & contrafold: 93\n",
      "mfold & mxfold2: 0\n",
      "veinna & contrafold: 81\n",
      "veinna & mxfold2: 0\n",
      "contrafold & mxfold2: 1\n",
      "veinna & contrafold & mxfold2: 0\n",
      "mfold & contrafold & mxfold2: 0\n",
      "mfold & veinna & mxfold2: 0\n",
      "mfold & veinna & contrafold : 44\n",
      "mfold & veinna & contrafold & mxfold2: 0\n"
     ]
    }
   ],
   "source": [
    "print(f'mfold: {len(s_mfold)}')\n",
    "print(f'veinna: {len(s_veinna)}')\n",
    "print(f'contrafold: {len(s_contrafold)}')\n",
    "print(f'mxfold2: {len(s_mxfold2)}')\n",
    "\n",
    "print(f'mfold & veinna: {len((s_mfold).intersection(s_veinna))}')\n",
    "print(f'mfold & contrafold: {len((s_mfold).intersection(s_contrafold))}')\n",
    "print(f'mfold & mxfold2: {len((s_mfold).intersection(s_mxfold2))}')\n",
    "print(f'veinna & contrafold: {len((s_veinna).intersection(s_contrafold))}')\n",
    "print(f'veinna & mxfold2: {len((s_veinna).intersection(s_mxfold2))}')\n",
    "print(f'contrafold & mxfold2: {len((s_contrafold).intersection(s_mxfold2))}')\n",
    "\n",
    "\n",
    "print(f'veinna & contrafold & mxfold2: {len((s_veinna).intersection(s_contrafold).intersection(s_mxfold2))}')\n",
    "print(f'mfold & contrafold & mxfold2: {len((s_mfold).intersection(s_contrafold).intersection(s_mxfold2))}')\n",
    "print(f'mfold & veinna & mxfold2: {len((s_mfold).intersection(s_veinna).intersection(s_mxfold2))}')\n",
    "print(f'mfold & veinna & contrafold : {len((s_mfold).intersection(s_veinna).intersection(s_contrafold))}')\n",
    "\n",
    "print(f'mfold & veinna & contrafold & mxfold2: {len((s_mfold).intersection(s_veinna).intersection(s_contrafold).intersection(s_mxfold2))}')"
   ]
  },
  {
   "cell_type": "markdown",
   "metadata": {},
   "source": [
    "## precursor"
   ]
  },
  {
   "cell_type": "code",
   "execution_count": 6,
   "metadata": {
    "ExecuteTime": {
     "end_time": "2023-03-11T19:36:37.094089Z",
     "start_time": "2023-03-11T19:36:37.056697Z"
    }
   },
   "outputs": [],
   "source": [
    "s_mfold = set(mfold['precursor seq'] + mfold[\"precursor dotbracket\"])\n",
    "s_veinna = set(veinna['precursor seq'] + veinna[\"precursor dotbracket\"])\n",
    "s_contrafold = set(contrafold['precursor seq'] + contrafold[\"precursor dotbracket\"])\n",
    "s_mxfold2 = set(mxfold2['precursor seq'] + mxfold2[\"precursor dotbracket\"])"
   ]
  },
  {
   "cell_type": "code",
   "execution_count": 7,
   "metadata": {
    "ExecuteTime": {
     "end_time": "2023-03-11T19:36:37.110562Z",
     "start_time": "2023-03-11T19:36:37.097073Z"
    }
   },
   "outputs": [
    {
     "name": "stdout",
     "output_type": "stream",
     "text": [
      "mfold: 15427\n",
      "veinna: 3645\n",
      "contrafold: 2993\n",
      "mxfold2: 944\n",
      "mfold & veinna: 723\n",
      "mfold & contrafold: 304\n",
      "mfold & mxfold2: 0\n",
      "veinna & contrafold: 340\n",
      "veinna & mxfold2: 3\n",
      "contrafold & mxfold2: 2\n",
      "veinna & contrafold & mxfold2: 0\n",
      "mfold & contrafold & mxfold2: 0\n",
      "mfold & veinna & mxfold2: 0\n",
      "mfold & veinna & contrafold : 219\n",
      "mfold & veinna & contrafold & mxfold2: 0\n"
     ]
    }
   ],
   "source": [
    "print(f'mfold: {len(s_mfold)}')\n",
    "print(f'veinna: {len(s_veinna)}')\n",
    "print(f'contrafold: {len(s_contrafold)}')\n",
    "print(f'mxfold2: {len(s_mxfold2)}')\n",
    "\n",
    "print(f'mfold & veinna: {len((s_mfold).intersection(s_veinna))}')\n",
    "print(f'mfold & contrafold: {len((s_mfold).intersection(s_contrafold))}')\n",
    "print(f'mfold & mxfold2: {len((s_mfold).intersection(s_mxfold2))}')\n",
    "print(f'veinna & contrafold: {len((s_veinna).intersection(s_contrafold))}')\n",
    "print(f'veinna & mxfold2: {len((s_veinna).intersection(s_mxfold2))}')\n",
    "print(f'contrafold & mxfold2: {len((s_contrafold).intersection(s_mxfold2))}')\n",
    "\n",
    "\n",
    "print(f'veinna & contrafold & mxfold2: {len((s_veinna).intersection(s_contrafold).intersection(s_mxfold2))}')\n",
    "print(f'mfold & contrafold & mxfold2: {len((s_mfold).intersection(s_contrafold).intersection(s_mxfold2))}')\n",
    "print(f'mfold & veinna & mxfold2: {len((s_mfold).intersection(s_veinna).intersection(s_mxfold2))}')\n",
    "print(f'mfold & veinna & contrafold : {len((s_mfold).intersection(s_veinna).intersection(s_contrafold))}')\n",
    "\n",
    "print(f'mfold & veinna & contrafold & mxfold2: {len((s_mfold).intersection(s_veinna).intersection(s_contrafold).intersection(s_mxfold2))}')"
   ]
  },
  {
   "cell_type": "markdown",
   "metadata": {},
   "source": [
    "# Final"
   ]
  },
  {
   "cell_type": "code",
   "execution_count": 8,
   "metadata": {
    "ExecuteTime": {
     "end_time": "2023-03-11T19:36:37.382591Z",
     "start_time": "2023-03-11T19:36:37.113424Z"
    }
   },
   "outputs": [],
   "source": [
    "mfold = pd.read_csv(f\"{result_path}/candidates_postprocessed_clustered.csv\")\n",
    "veinna = pd.read_csv(f\"{result_path}/viennarna_candidates_postprocessed_clustered.csv\")\n",
    "contrafold  = pd.read_csv(f\"{result_path}/contrafold_candidates_postprocessed_clustered.csv\")"
   ]
  },
  {
   "cell_type": "markdown",
   "metadata": {},
   "source": [
    "## BOI"
   ]
  },
  {
   "cell_type": "code",
   "execution_count": 9,
   "metadata": {
    "ExecuteTime": {
     "end_time": "2023-03-11T19:36:37.396411Z",
     "start_time": "2023-03-11T19:36:37.387105Z"
    }
   },
   "outputs": [],
   "source": [
    "s_mfold = set(mfold['boi seq'] + mfold[\"boi dotbracket\"])\n",
    "s_veinna = set(veinna['boi seq'] + veinna[\"boi dotbracket\"])\n",
    "s_contrafold = set(contrafold['boi seq'] + contrafold[\"boi dotbracket\"])\n",
    "s_mxfold2 = set()"
   ]
  },
  {
   "cell_type": "code",
   "execution_count": 10,
   "metadata": {
    "ExecuteTime": {
     "end_time": "2023-03-11T19:36:37.410895Z",
     "start_time": "2023-03-11T19:36:37.399703Z"
    }
   },
   "outputs": [
    {
     "name": "stdout",
     "output_type": "stream",
     "text": [
      "mfold: 810\n",
      "veinna: 304\n",
      "contrafold: 140\n",
      "mxfold2: 0\n",
      "mfold & veinna: 16\n",
      "mfold & contrafold: 3\n",
      "mfold & mxfold2: 0\n",
      "veinna & contrafold: 3\n",
      "veinna & mxfold2: 0\n",
      "contrafold & mxfold2: 0\n",
      "veinna & contrafold & mxfold2: 0\n",
      "mfold & contrafold & mxfold2: 0\n",
      "mfold & veinna & mxfold2: 0\n",
      "mfold & veinna & contrafold : 2\n",
      "mfold & veinna & contrafold & mxfold2: 0\n"
     ]
    }
   ],
   "source": [
    "print(f'mfold: {len(s_mfold)}')\n",
    "print(f'veinna: {len(s_veinna)}')\n",
    "print(f'contrafold: {len(s_contrafold)}')\n",
    "print(f'mxfold2: {len(s_mxfold2)}')\n",
    "\n",
    "print(f'mfold & veinna: {len((s_mfold).intersection(s_veinna))}')\n",
    "print(f'mfold & contrafold: {len((s_mfold).intersection(s_contrafold))}')\n",
    "print(f'mfold & mxfold2: {len((s_mfold).intersection(s_mxfold2))}')\n",
    "print(f'veinna & contrafold: {len((s_veinna).intersection(s_contrafold))}')\n",
    "print(f'veinna & mxfold2: {len((s_veinna).intersection(s_mxfold2))}')\n",
    "print(f'contrafold & mxfold2: {len((s_contrafold).intersection(s_mxfold2))}')\n",
    "\n",
    "\n",
    "print(f'veinna & contrafold & mxfold2: {len((s_veinna).intersection(s_contrafold).intersection(s_mxfold2))}')\n",
    "print(f'mfold & contrafold & mxfold2: {len((s_mfold).intersection(s_contrafold).intersection(s_mxfold2))}')\n",
    "print(f'mfold & veinna & mxfold2: {len((s_mfold).intersection(s_veinna).intersection(s_mxfold2))}')\n",
    "print(f'mfold & veinna & contrafold : {len((s_mfold).intersection(s_veinna).intersection(s_contrafold))}')\n",
    "\n",
    "print(f'mfold & veinna & contrafold & mxfold2: {len((s_mfold).intersection(s_veinna).intersection(s_contrafold).intersection(s_mxfold2))}')"
   ]
  },
  {
   "cell_type": "markdown",
   "metadata": {},
   "source": [
    "## precursor"
   ]
  },
  {
   "cell_type": "code",
   "execution_count": 11,
   "metadata": {
    "ExecuteTime": {
     "end_time": "2023-03-11T19:36:37.420549Z",
     "start_time": "2023-03-11T19:36:37.413760Z"
    }
   },
   "outputs": [],
   "source": [
    "s_mfold = set(mfold['precursor seq'] + mfold[\"precursor dotbracket\"])\n",
    "s_veinna = set(veinna['precursor seq'] + veinna[\"precursor dotbracket\"])\n",
    "s_contrafold = set(contrafold['precursor seq'] + contrafold[\"precursor dotbracket\"])\n",
    "s_mxfold2 = set()"
   ]
  },
  {
   "cell_type": "code",
   "execution_count": 12,
   "metadata": {
    "ExecuteTime": {
     "end_time": "2023-03-11T19:36:37.435277Z",
     "start_time": "2023-03-11T19:36:37.423336Z"
    }
   },
   "outputs": [
    {
     "name": "stdout",
     "output_type": "stream",
     "text": [
      "mfold: 335\n",
      "veinna: 304\n",
      "contrafold: 140\n",
      "mxfold2: 0\n",
      "mfold & veinna: 71\n",
      "mfold & contrafold: 16\n",
      "mfold & mxfold2: 0\n",
      "veinna & contrafold: 21\n",
      "veinna & mxfold2: 0\n",
      "contrafold & mxfold2: 0\n",
      "veinna & contrafold & mxfold2: 0\n",
      "mfold & contrafold & mxfold2: 0\n",
      "mfold & veinna & mxfold2: 0\n",
      "mfold & veinna & contrafold : 10\n",
      "mfold & veinna & contrafold & mxfold2: 0\n"
     ]
    }
   ],
   "source": [
    "print(f'mfold: {len(s_mfold)}')\n",
    "print(f'veinna: {len(s_veinna)}')\n",
    "print(f'contrafold: {len(s_contrafold)}')\n",
    "print(f'mxfold2: {len(s_mxfold2)}')\n",
    "\n",
    "print(f'mfold & veinna: {len((s_mfold).intersection(s_veinna))}')\n",
    "print(f'mfold & contrafold: {len((s_mfold).intersection(s_contrafold))}')\n",
    "print(f'mfold & mxfold2: {len((s_mfold).intersection(s_mxfold2))}')\n",
    "print(f'veinna & contrafold: {len((s_veinna).intersection(s_contrafold))}')\n",
    "print(f'veinna & mxfold2: {len((s_veinna).intersection(s_mxfold2))}')\n",
    "print(f'contrafold & mxfold2: {len((s_contrafold).intersection(s_mxfold2))}')\n",
    "\n",
    "\n",
    "print(f'veinna & contrafold & mxfold2: {len((s_veinna).intersection(s_contrafold).intersection(s_mxfold2))}')\n",
    "print(f'mfold & contrafold & mxfold2: {len((s_mfold).intersection(s_contrafold).intersection(s_mxfold2))}')\n",
    "print(f'mfold & veinna & mxfold2: {len((s_mfold).intersection(s_veinna).intersection(s_mxfold2))}')\n",
    "print(f'mfold & veinna & contrafold : {len((s_mfold).intersection(s_veinna).intersection(s_contrafold))}')\n",
    "\n",
    "print(f'mfold & veinna & contrafold & mxfold2: {len((s_mfold).intersection(s_veinna).intersection(s_contrafold).intersection(s_mxfold2))}')"
   ]
  },
  {
   "cell_type": "code",
   "execution_count": null,
   "metadata": {},
   "outputs": [],
   "source": []
  }
 ],
 "metadata": {
  "kernelspec": {
   "display_name": "Python 3",
   "language": "python",
   "name": "python3"
  },
  "language_info": {
   "codemirror_mode": {
    "name": "ipython",
    "version": 3
   },
   "file_extension": ".py",
   "mimetype": "text/x-python",
   "name": "python",
   "nbconvert_exporter": "python",
   "pygments_lexer": "ipython3",
   "version": "3.8.10"
  }
 },
 "nbformat": 4,
 "nbformat_minor": 4
}
