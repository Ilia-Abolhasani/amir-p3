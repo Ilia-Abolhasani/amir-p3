{
 "cells": [
  {
   "cell_type": "markdown",
   "metadata": {},
   "source": [
    "# Common"
   ]
  },
  {
   "cell_type": "code",
   "execution_count": 1,
   "metadata": {
    "ExecuteTime": {
     "end_time": "2021-12-03T17:09:15.372702Z",
     "start_time": "2021-12-03T17:09:14.860816Z"
    }
   },
   "outputs": [],
   "source": [
    "import math\n",
    "import numpy as np\n",
    "import pandas as pd\n",
    "from tqdm.contrib.concurrent import process_map\n",
    "from tqdm.notebook import tqdm\n",
    "tqdm.pandas()\n",
    "import multiprocessing as mp\n",
    "import shutil\n",
    "import glob\n",
    "import os\n",
    "import sys\n",
    "if sys.version_info[0] < 3: \n",
    "    from StringIO import StringIO\n",
    "else:\n",
    "    from io import StringIO"
   ]
  },
  {
   "cell_type": "code",
   "execution_count": 2,
   "metadata": {
    "ExecuteTime": {
     "end_time": "2021-12-03T17:09:15.384104Z",
     "start_time": "2021-12-03T17:09:15.376029Z"
    }
   },
   "outputs": [],
   "source": [
    "def fasta_to_df(path):\n",
    "    with open(path, 'r') as file:\n",
    "        text = file.read()\n",
    "    lines = [line for line in text.split('\\n') if len(line) > 0]\n",
    "    s = ''\n",
    "    tags = []\n",
    "    data = []\n",
    "    for l in lines:\n",
    "        if(l[0]=='>'):\n",
    "            tags.append(l)        \n",
    "            data.append(s)\n",
    "            s = ''\n",
    "        else:\n",
    "            s += l    \n",
    "    data.append(s)\n",
    "    df = pd.DataFrame(\n",
    "            {\n",
    "                'tag': tags,\n",
    "                'data': data[1:]\n",
    "            })\n",
    "    df['tag'] = df['tag'].apply(lambda x: x[1:])    \n",
    "    return df"
   ]
  },
  {
   "cell_type": "code",
   "execution_count": 3,
   "metadata": {
    "ExecuteTime": {
     "end_time": "2021-12-03T17:09:15.697758Z",
     "start_time": "2021-12-03T17:09:15.692520Z"
    }
   },
   "outputs": [],
   "source": [
    "def df_to_fasta(df, path):\n",
    "    lines = []\n",
    "    df.apply(lambda row: lines.append(f\">{row['tag']}\\n{row['data']}\\n\"),axis=1)\n",
    "    with open(path,'w') as file:\n",
    "        file.write(''.join(lines))"
   ]
  },
  {
   "cell_type": "code",
   "execution_count": 4,
   "metadata": {
    "ExecuteTime": {
     "end_time": "2021-12-03T17:09:16.067606Z",
     "start_time": "2021-12-03T17:09:16.063060Z"
    }
   },
   "outputs": [],
   "source": [
    "def reformat(path):\n",
    "    return path.replace('(','_').replace(')','_').replace('.','').replace(':','_')"
   ]
  },
  {
   "cell_type": "code",
   "execution_count": 5,
   "metadata": {
    "ExecuteTime": {
     "end_time": "2021-12-03T17:09:16.397922Z",
     "start_time": "2021-12-03T17:09:16.389515Z"
    }
   },
   "outputs": [],
   "source": [
    "def reformatCT(path):\n",
    "    with open(path, 'r') as file:\n",
    "        text = file.read()\n",
    "    text = [l for l in text.split('\\n') if len(l) > 0 ] # remove blank lines\n",
    "    text = '\\n'.join(text)\n",
    "    text = text.replace(\"\\t\",\" \")\n",
    "    while(\"  \" in text):\n",
    "        text = text.replace(\"  \", \" \")\n",
    "    lines = [l for l in text.split('\\n')]\n",
    "    for i in range(len(lines)):\n",
    "        if(lines[i][0] == \" \"):\n",
    "            lines[i] = lines[i][1:]\n",
    "        if(lines[i][-1] == \" \"):\n",
    "            lines[i] = lines[i][:-1]\n",
    "    text = '\\n'.join(lines)\n",
    "    return text"
   ]
  },
  {
   "cell_type": "code",
   "execution_count": 6,
   "metadata": {
    "ExecuteTime": {
     "end_time": "2021-12-03T17:09:16.884341Z",
     "start_time": "2021-12-03T17:09:16.878891Z"
    }
   },
   "outputs": [],
   "source": [
    "def get_ct_data(ct):\n",
    "    ct = \"\\n\".join(ct.split('\\n')[1:])\n",
    "    df = pd.read_csv(StringIO(ct), sep=\" \", header=None)               \n",
    "    nucleotide = df.iloc[:,1]\n",
    "    index = df.iloc[:,5]\n",
    "    values = df.iloc[:,4]\n",
    "    return [nucleotide, index, values]"
   ]
  },
  {
   "cell_type": "markdown",
   "metadata": {},
   "source": [
    "# Download data from Mirbase"
   ]
  },
  {
   "cell_type": "code",
   "execution_count": 138,
   "metadata": {
    "ExecuteTime": {
     "end_time": "2021-12-03T18:03:01.562454Z",
     "start_time": "2021-12-03T18:03:01.558846Z"
    }
   },
   "outputs": [],
   "source": [
    "directory = 'miRBase_driven_data'"
   ]
  },
  {
   "cell_type": "code",
   "execution_count": null,
   "metadata": {
    "ExecuteTime": {
     "end_time": "2021-12-01T16:08:27.988013Z",
     "start_time": "2021-12-01T16:08:13.127256Z"
    }
   },
   "outputs": [],
   "source": [
    "base = \"https://www.mirbase.org/ftp/CURRENT\"        \n",
    "!rm -r {directory}\n",
    "!mkdir -p {directory}\n",
    "!wget {base}/aliases.txt.gz -P ./{directory}/       ; gzip -d ./{directory}/aliases.txt.gz \n",
    "!wget {base}/hairpin.fa.gz -P ./{directory}/           ; gzip -d ./{directory}/hairpin.fa.gz \n",
    "!wget {base}/hairpin_high_conf.fa.gz -P ./{directory}/ ; gzip -d ./{directory}/hairpin_high_conf.fa.gz \n",
    "!wget {base}/mature.fa.gz -P ./{directory}/            ; gzip -d ./{directory}/mature.fa.gz \n",
    "!wget {base}/mature_high_conf.fa.gz -P ./{directory}/  ; gzip -d ./{directory}/mature_high_conf.fa.gz\n",
    "!wget {base}/miRNA.str.gz -P ./{directory}/            ; gzip -d ./{directory}/miRNA.str.gz \n",
    "!wget {base}/miRNA.xls.gz -P ./{directory}/            ; gzip -d ./{directory}/miRNA.xls.gz \n",
    "!wget {base}/organisms.txt.gz -P ./{directory}/        ; gzip -d ./{directory}/organisms.txt.gz"
   ]
  },
  {
   "cell_type": "code",
   "execution_count": 139,
   "metadata": {
    "ExecuteTime": {
     "end_time": "2021-12-03T18:03:04.305647Z",
     "start_time": "2021-12-03T18:03:04.272901Z"
    }
   },
   "outputs": [
    {
     "name": "stdout",
     "output_type": "stream",
     "text": [
      "(3320, 4)\n"
     ]
    },
    {
     "data": {
      "text/html": [
       "<div>\n",
       "<style scoped>\n",
       "    .dataframe tbody tr th:only-of-type {\n",
       "        vertical-align: middle;\n",
       "    }\n",
       "\n",
       "    .dataframe tbody tr th {\n",
       "        vertical-align: top;\n",
       "    }\n",
       "\n",
       "    .dataframe thead th {\n",
       "        text-align: right;\n",
       "    }\n",
       "</style>\n",
       "<table border=\"1\" class=\"dataframe\">\n",
       "  <thead>\n",
       "    <tr style=\"text-align: right;\">\n",
       "      <th></th>\n",
       "      <th>tag</th>\n",
       "      <th>data</th>\n",
       "      <th>organism</th>\n",
       "      <th>length</th>\n",
       "    </tr>\n",
       "  </thead>\n",
       "  <tbody>\n",
       "    <tr>\n",
       "      <th>0</th>\n",
       "      <td>cel-let-7 MI0000001 Caenorhabditis elegans let...</td>\n",
       "      <td>UACACUGUGGAUCCGGUGAGGUAGUAGGUUGUAUAGUUUGGAAUAU...</td>\n",
       "      <td>cel</td>\n",
       "      <td>99</td>\n",
       "    </tr>\n",
       "    <tr>\n",
       "      <th>1</th>\n",
       "      <td>cel-lin-4 MI0000002 Caenorhabditis elegans lin...</td>\n",
       "      <td>AUGCUUCCGGCCUGUUCCCUGAGACCUCAAGUGUGAGUGUACUAUU...</td>\n",
       "      <td>cel</td>\n",
       "      <td>94</td>\n",
       "    </tr>\n",
       "  </tbody>\n",
       "</table>\n",
       "</div>"
      ],
      "text/plain": [
       "                                                 tag  \\\n",
       "0  cel-let-7 MI0000001 Caenorhabditis elegans let...   \n",
       "1  cel-lin-4 MI0000002 Caenorhabditis elegans lin...   \n",
       "\n",
       "                                                data organism  length  \n",
       "0  UACACUGUGGAUCCGGUGAGGUAGUAGGUUGUAUAGUUUGGAAUAU...      cel      99  \n",
       "1  AUGCUUCCGGCCUGUUCCCUGAGACCUCAAGUGUGAGUGUACUAUU...      cel      94  "
      ]
     },
     "execution_count": 139,
     "metadata": {},
     "output_type": "execute_result"
    }
   ],
   "source": [
    "hdf = fasta_to_df(f'./{directory}/hairpin_high_conf.fa')\n",
    "hdf['organism'] = hdf['tag'].apply(lambda x: x[:3])\n",
    "hdf['length'] = hdf['data'].apply(lambda x: len(x))\n",
    "print(hdf.shape)\n",
    "hdf.head(2)"
   ]
  },
  {
   "cell_type": "code",
   "execution_count": 140,
   "metadata": {
    "ExecuteTime": {
     "end_time": "2021-12-03T18:03:05.005364Z",
     "start_time": "2021-12-03T18:03:04.854983Z"
    }
   },
   "outputs": [
    {
     "data": {
      "text/html": [
       "<div>\n",
       "<style scoped>\n",
       "    .dataframe tbody tr th:only-of-type {\n",
       "        vertical-align: middle;\n",
       "    }\n",
       "\n",
       "    .dataframe tbody tr th {\n",
       "        vertical-align: top;\n",
       "    }\n",
       "\n",
       "    .dataframe thead th {\n",
       "        text-align: right;\n",
       "    }\n",
       "</style>\n",
       "<table border=\"1\" class=\"dataframe\">\n",
       "  <thead>\n",
       "    <tr style=\"text-align: right;\">\n",
       "      <th></th>\n",
       "      <th>tag</th>\n",
       "      <th>data</th>\n",
       "      <th>organism</th>\n",
       "      <th>length</th>\n",
       "    </tr>\n",
       "  </thead>\n",
       "  <tbody>\n",
       "    <tr>\n",
       "      <th>0</th>\n",
       "      <td>cel-let-7 MI0000001 Caenorhabditis elegans let...</td>\n",
       "      <td>UACACUGUGGAUCCGGUGAGGUAGUAGGUUGUAUAGUUUGGAAUAU...</td>\n",
       "      <td>cel</td>\n",
       "      <td>99</td>\n",
       "    </tr>\n",
       "    <tr>\n",
       "      <th>1</th>\n",
       "      <td>cel-lin-4 MI0000002 Caenorhabditis elegans lin...</td>\n",
       "      <td>AUGCUUCCGGCCUGUUCCCUGAGACCUCAAGUGUGAGUGUACUAUU...</td>\n",
       "      <td>cel</td>\n",
       "      <td>94</td>\n",
       "    </tr>\n",
       "  </tbody>\n",
       "</table>\n",
       "</div>"
      ],
      "text/plain": [
       "                                                 tag  \\\n",
       "0  cel-let-7 MI0000001 Caenorhabditis elegans let...   \n",
       "1  cel-lin-4 MI0000002 Caenorhabditis elegans lin...   \n",
       "\n",
       "                                                data organism  length  \n",
       "0  UACACUGUGGAUCCGGUGAGGUAGUAGGUUGUAUAGUUUGGAAUAU...      cel      99  \n",
       "1  AUGCUUCCGGCCUGUUCCCUGAGACCUCAAGUGUGAGUGUACUAUU...      cel      94  "
      ]
     },
     "execution_count": 140,
     "metadata": {},
     "output_type": "execute_result"
    }
   ],
   "source": [
    "alldf = fasta_to_df(f'./{directory}/hairpin.fa')\n",
    "alldf['organism'] = alldf['tag'].apply(lambda x: x[:3])\n",
    "alldf['length'] = alldf['data'].apply(lambda x: len(x))\n",
    "alldf.head(2)"
   ]
  },
  {
   "cell_type": "code",
   "execution_count": 141,
   "metadata": {
    "ExecuteTime": {
     "end_time": "2021-12-03T18:03:06.319966Z",
     "start_time": "2021-12-03T18:03:06.299994Z"
    }
   },
   "outputs": [],
   "source": [
    "nhdf = alldf[~alldf['tag'].isin(hdf['tag'])]"
   ]
  },
  {
   "cell_type": "code",
   "execution_count": 142,
   "metadata": {
    "ExecuteTime": {
     "end_time": "2021-12-03T18:03:06.952260Z",
     "start_time": "2021-12-03T18:03:06.946973Z"
    }
   },
   "outputs": [],
   "source": [
    "df = nhdf"
   ]
  },
  {
   "cell_type": "code",
   "execution_count": 143,
   "metadata": {
    "ExecuteTime": {
     "end_time": "2021-12-03T18:03:08.801287Z",
     "start_time": "2021-12-03T18:03:08.780225Z"
    }
   },
   "outputs": [
    {
     "name": "stdout",
     "output_type": "stream",
     "text": [
      "(285, 5)\n"
     ]
    },
    {
     "data": {
      "text/html": [
       "<div>\n",
       "<style scoped>\n",
       "    .dataframe tbody tr th:only-of-type {\n",
       "        vertical-align: middle;\n",
       "    }\n",
       "\n",
       "    .dataframe tbody tr th {\n",
       "        vertical-align: top;\n",
       "    }\n",
       "\n",
       "    .dataframe thead th {\n",
       "        text-align: right;\n",
       "    }\n",
       "</style>\n",
       "<table border=\"1\" class=\"dataframe\">\n",
       "  <thead>\n",
       "    <tr style=\"text-align: right;\">\n",
       "      <th></th>\n",
       "      <th>organism</th>\n",
       "      <th>division</th>\n",
       "      <th>name</th>\n",
       "      <th>tree</th>\n",
       "      <th>NCBI-taxid</th>\n",
       "    </tr>\n",
       "  </thead>\n",
       "  <tbody>\n",
       "    <tr>\n",
       "      <th>0</th>\n",
       "      <td>aqu</td>\n",
       "      <td>AQU</td>\n",
       "      <td>Amphimedon queenslandica</td>\n",
       "      <td>Metazoa;Porifera;</td>\n",
       "      <td>400682</td>\n",
       "    </tr>\n",
       "    <tr>\n",
       "      <th>1</th>\n",
       "      <td>nve</td>\n",
       "      <td>NVE</td>\n",
       "      <td>Nematostella vectensis</td>\n",
       "      <td>Metazoa;Cnidaria;</td>\n",
       "      <td>45351</td>\n",
       "    </tr>\n",
       "  </tbody>\n",
       "</table>\n",
       "</div>"
      ],
      "text/plain": [
       "  organism division                      name               tree  NCBI-taxid\n",
       "0      aqu      AQU  Amphimedon queenslandica  Metazoa;Porifera;      400682\n",
       "1      nve      NVE    Nematostella vectensis  Metazoa;Cnidaria;       45351"
      ]
     },
     "execution_count": 143,
     "metadata": {},
     "output_type": "execute_result"
    }
   ],
   "source": [
    "organism = pd.read_csv(f'./{directory}/organisms.txt',sep='\\t')\n",
    "organism.columns = [c.replace('#','') for c in organism.columns] # remove sharp from columns\n",
    "print(organism.shape)\n",
    "organism.head(2)"
   ]
  },
  {
   "cell_type": "code",
   "execution_count": 144,
   "metadata": {
    "ExecuteTime": {
     "end_time": "2021-12-03T18:03:11.226296Z",
     "start_time": "2021-12-03T18:03:11.220946Z"
    }
   },
   "outputs": [],
   "source": [
    "items = list(organism['tree'].unique())\n",
    "items.sort(key=len)"
   ]
  },
  {
   "cell_type": "code",
   "execution_count": 145,
   "metadata": {
    "ExecuteTime": {
     "end_time": "2021-12-03T18:03:15.648002Z",
     "start_time": "2021-12-03T18:03:15.631279Z"
    }
   },
   "outputs": [
    {
     "name": "stdout",
     "output_type": "stream",
     "text": [
      "(199, 5)\n"
     ]
    },
    {
     "data": {
      "text/html": [
       "<div>\n",
       "<style scoped>\n",
       "    .dataframe tbody tr th:only-of-type {\n",
       "        vertical-align: middle;\n",
       "    }\n",
       "\n",
       "    .dataframe tbody tr th {\n",
       "        vertical-align: top;\n",
       "    }\n",
       "\n",
       "    .dataframe thead th {\n",
       "        text-align: right;\n",
       "    }\n",
       "</style>\n",
       "<table border=\"1\" class=\"dataframe\">\n",
       "  <thead>\n",
       "    <tr style=\"text-align: right;\">\n",
       "      <th></th>\n",
       "      <th>organism</th>\n",
       "      <th>division</th>\n",
       "      <th>name</th>\n",
       "      <th>tree</th>\n",
       "      <th>NCBI-taxid</th>\n",
       "    </tr>\n",
       "  </thead>\n",
       "  <tbody>\n",
       "    <tr>\n",
       "      <th>0</th>\n",
       "      <td>aqu</td>\n",
       "      <td>AQU</td>\n",
       "      <td>Amphimedon queenslandica</td>\n",
       "      <td>Metazoa;Porifera;</td>\n",
       "      <td>400682</td>\n",
       "    </tr>\n",
       "    <tr>\n",
       "      <th>1</th>\n",
       "      <td>nve</td>\n",
       "      <td>NVE</td>\n",
       "      <td>Nematostella vectensis</td>\n",
       "      <td>Metazoa;Cnidaria;</td>\n",
       "      <td>45351</td>\n",
       "    </tr>\n",
       "  </tbody>\n",
       "</table>\n",
       "</div>"
      ],
      "text/plain": [
       "  organism division                      name               tree  NCBI-taxid\n",
       "0      aqu      AQU  Amphimedon queenslandica  Metazoa;Porifera;      400682\n",
       "1      nve      NVE    Nematostella vectensis  Metazoa;Cnidaria;       45351"
      ]
     },
     "execution_count": 145,
     "metadata": {},
     "output_type": "execute_result"
    }
   ],
   "source": [
    "selectedTree = organism[organism['tree'].apply(lambda x: \"Viridiplantae;\" not in x)]\n",
    "print(selectedTree.shape)\n",
    "selectedTree.head(2)"
   ]
  },
  {
   "cell_type": "code",
   "execution_count": 146,
   "metadata": {
    "ExecuteTime": {
     "end_time": "2021-12-03T18:03:18.442453Z",
     "start_time": "2021-12-03T18:03:18.420164Z"
    },
    "scrolled": false
   },
   "outputs": [
    {
     "name": "stdout",
     "output_type": "stream",
     "text": [
      "(26610, 4)\n"
     ]
    },
    {
     "data": {
      "text/html": [
       "<div>\n",
       "<style scoped>\n",
       "    .dataframe tbody tr th:only-of-type {\n",
       "        vertical-align: middle;\n",
       "    }\n",
       "\n",
       "    .dataframe tbody tr th {\n",
       "        vertical-align: top;\n",
       "    }\n",
       "\n",
       "    .dataframe thead th {\n",
       "        text-align: right;\n",
       "    }\n",
       "</style>\n",
       "<table border=\"1\" class=\"dataframe\">\n",
       "  <thead>\n",
       "    <tr style=\"text-align: right;\">\n",
       "      <th></th>\n",
       "      <th>tag</th>\n",
       "      <th>data</th>\n",
       "      <th>organism</th>\n",
       "      <th>length</th>\n",
       "    </tr>\n",
       "  </thead>\n",
       "  <tbody>\n",
       "    <tr>\n",
       "      <th>32</th>\n",
       "      <td>cel-mir-62 MI0000033 Caenorhabditis elegans mi...</td>\n",
       "      <td>GUGAGUUAGAUCUCAUAUCCUUCCGCAAAAUGGAAAUGAUAUGUAA...</td>\n",
       "      <td>cel</td>\n",
       "      <td>58</td>\n",
       "    </tr>\n",
       "    <tr>\n",
       "      <th>46</th>\n",
       "      <td>cel-mir-78 MI0000049 Caenorhabditis elegans mi...</td>\n",
       "      <td>AAUAAAAUAUAUUGUUUCAUAGUGUCCGUAAAAUAACUAGAUUUAU...</td>\n",
       "      <td>cel</td>\n",
       "      <td>96</td>\n",
       "    </tr>\n",
       "  </tbody>\n",
       "</table>\n",
       "</div>"
      ],
      "text/plain": [
       "                                                  tag  \\\n",
       "32  cel-mir-62 MI0000033 Caenorhabditis elegans mi...   \n",
       "46  cel-mir-78 MI0000049 Caenorhabditis elegans mi...   \n",
       "\n",
       "                                                 data organism  length  \n",
       "32  GUGAGUUAGAUCUCAUAUCCUUCCGCAAAAUGGAAAUGAUAUGUAA...      cel      58  \n",
       "46  AAUAAAAUAUAUUGUUUCAUAGUGUCCGUAAAAUAACUAGAUUUAU...      cel      96  "
      ]
     },
     "execution_count": 146,
     "metadata": {},
     "output_type": "execute_result"
    }
   ],
   "source": [
    "selected = df[df['organism'].isin(selectedTree['organism'])]\n",
    "print(selected.shape)\n",
    "selected.head(2)"
   ]
  },
  {
   "cell_type": "code",
   "execution_count": 147,
   "metadata": {
    "ExecuteTime": {
     "end_time": "2021-12-03T18:03:34.979411Z",
     "start_time": "2021-12-03T18:03:21.953162Z"
    }
   },
   "outputs": [],
   "source": [
    "# use this cell for extracting str files for hairpin.fa\n",
    "tags = list(selected['tag'].apply(lambda x : x.split(' ')[0]))\n",
    "with open(f'./{directory}/miRNA.str', 'r') as file:\n",
    "    text = file.read()\n",
    "text = text.split('\\n')\n",
    "\n",
    "result = ''\n",
    "for i in range(0,len(text),8):\n",
    "    if(text[i].split(' ')[0][1:] in tags):\n",
    "        result += '\\n'.join(text[i:i+8]) + \"\\n\"        \n",
    "with open(f'./high_conf_hairpin.str', 'w') as file:\n",
    "    file.write(result)"
   ]
  },
  {
   "cell_type": "code",
   "execution_count": 148,
   "metadata": {
    "ExecuteTime": {
     "end_time": "2021-12-03T18:03:35.020165Z",
     "start_time": "2021-12-03T18:03:34.984450Z"
    },
    "scrolled": false
   },
   "outputs": [],
   "source": [
    "result = result.split('\\n')"
   ]
  },
  {
   "cell_type": "code",
   "execution_count": 149,
   "metadata": {
    "ExecuteTime": {
     "end_time": "2021-12-03T18:03:35.037409Z",
     "start_time": "2021-12-03T18:03:35.023962Z"
    }
   },
   "outputs": [],
   "source": [
    "def get_path(header): \n",
    "    path = []\n",
    "    tag = header.split(' ')[0][1:]    \n",
    "    sides = [t.split(']')[0] for t in header.split('[') if ']' in t]        \n",
    "    for s in sides:\n",
    "        hit = s.split(\":\")[-1]\n",
    "        path.append(f'{tag}|+|1-*|{hit}')\n",
    "        path.append(f'{tag}-3p|+|1-*|{hit}')\n",
    "        path.append(f'{tag}-5p|+|1-*|{hit}')\n",
    "    return path"
   ]
  },
  {
   "cell_type": "code",
   "execution_count": 150,
   "metadata": {
    "ExecuteTime": {
     "end_time": "2021-12-03T18:03:35.092442Z",
     "start_time": "2021-12-03T18:03:35.041900Z"
    }
   },
   "outputs": [],
   "source": [
    "extra = 30\n",
    "server_url = \"http://jupyter.sysmanager.ir/tree/plant_microRNA_prediction\"\n",
    "\n",
    "def get_data(ct_path, str_header):\n",
    "    out = {}\n",
    "    ct = reformatCT(ct_path)    \n",
    "    header = ct.split('\\n')[0]\n",
    "    [hs, he] = header.split('|')[-1].split('-')\n",
    "    [hs, he] = [int(hs), int(he)]       \n",
    "    [nucleotide, index, values] = get_ct_data(ct)\n",
    "    values = list(values)            \n",
    "    feature = [*values[max(hs - extra - 1,0) : min(hs + extra, len(values))]]                                     \n",
    "    nuc_feature = [*nucleotide[max(hs - extra - 1, 0) : min(hs + extra, len(values))]]        \n",
    "    # start\n",
    "    if((hs - extra) < 1):\n",
    "        for i in range(1 - (hs - extra)):\n",
    "            feature = ['*', *feature]                                \n",
    "            nuc_feature = ['*', *nuc_feature]                                \n",
    "    if((hs + extra) > len(values)):\n",
    "        for i in range((hs + extra) -  len(values)):\n",
    "            feature = [*feature, '*']                                        \n",
    "            nuc_feature = [*nuc_feature, '*']                                \n",
    "    # end\n",
    "    if((he - extra) < 1):\n",
    "        for i in range(1 - (he - extra)):\n",
    "            feature = [*feature, '*']                                        \n",
    "            nuc_feature = [*nuc_feature, '*']                                        \n",
    "    feature = [*feature, *values[max(he - extra - 1, 0) : min(he + extra,len(values))]]\n",
    "    nuc_feature = [*nuc_feature, *nucleotide[max(he - extra - 1, 0) : min(he + extra,len(values))]]                \n",
    "    if((he + extra) > len(values)):\n",
    "        for i in range((he + extra) -  len(values)):\n",
    "            feature = [*feature, '*']                                        \n",
    "            nuc_feature = [*nuc_feature, '*']                                                            \n",
    "    columns = [* [f'-{i} hit_start' for i in range(extra,0,-1)],\n",
    "                'hit_start',\n",
    "                *[f'+{i} hit_start' for i in range(1,extra+1)],                                               \n",
    "                *[f'-{i} hit_end' for i in range(extra,0,-1)],\n",
    "                'hit_end',\n",
    "                *[f'+{i} hit_end' for i in range(1,extra+1)]]    \n",
    "        \n",
    "    tag = str_header.split(' ')[0]    \n",
    "    organism_name = selectedTree[selectedTree['organism'] == tag.split('-')[0][1:]]['name'].iloc[0]\n",
    "    feature = [f'=HYPERLINK(\"{server_url}/{ct_path}\",\"ct\")',tag , organism_name, len(values), hs, he, *feature]\n",
    "    nuc_feature = ['','','','','','', *nuc_feature]\n",
    "    columns = ['ct', 'tag','organism name','seq_length', 'mir_start', 'mir_end', *columns]          \n",
    "    df = pd.DataFrame(np.array([feature,nuc_feature]), columns=columns)                \n",
    "    return df"
   ]
  },
  {
   "cell_type": "code",
   "execution_count": 151,
   "metadata": {
    "ExecuteTime": {
     "end_time": "2021-12-03T18:03:35.101665Z",
     "start_time": "2021-12-03T18:03:35.095811Z"
    }
   },
   "outputs": [],
   "source": [
    "def get_df(header):\n",
    "    dfs =[]    \n",
    "    for path in get_path(header):                                \n",
    "        ct_path = glob.glob(f'./CT/{path}.ct')\n",
    "        if(len(ct_path) > 1 ):\n",
    "            print(ct_path,\"****\")\n",
    "        if(len(ct_path) == 0):\n",
    "            #print(f'there is not ./CT/{path}.ct file')\n",
    "            continue\n",
    "        ct_path = ct_path[0]            \n",
    "        dfs.append(get_data(ct_path, header))  \n",
    "    return dfs"
   ]
  },
  {
   "cell_type": "code",
   "execution_count": 152,
   "metadata": {
    "ExecuteTime": {
     "end_time": "2021-12-03T18:17:05.165480Z",
     "start_time": "2021-12-03T18:03:35.104606Z"
    }
   },
   "outputs": [
    {
     "data": {
      "application/vnd.jupyter.widget-view+json": {
       "model_id": "c60cdf5300024bb6895b5b56313c777c",
       "version_major": 2,
       "version_minor": 0
      },
      "text/plain": [
       "  0%|          | 0/26611 [00:00<?, ?it/s]"
      ]
     },
     "metadata": {},
     "output_type": "display_data"
    }
   ],
   "source": [
    "dfs = []\n",
    "for d in process_map(get_df , pd.Series([result[i] for i in range(0,len(result),8)]), tqdm_class=tqdm, max_workers=mp.cpu_count()-1, chunksize=5):    \n",
    "    dfs = [*dfs, *d]\n",
    "df_result = pd.concat(dfs, axis=0)"
   ]
  },
  {
   "cell_type": "code",
   "execution_count": 153,
   "metadata": {
    "ExecuteTime": {
     "end_time": "2021-12-03T18:17:14.043214Z",
     "start_time": "2021-12-03T18:17:05.168817Z"
    }
   },
   "outputs": [],
   "source": [
    "freq = pd.DataFrame()\n",
    "temp = df_result.iloc[::2,:]\n",
    "col = temp.columns\n",
    "out0 = {}\n",
    "out1 = {}\n",
    "for i in range(len(col)):        \n",
    "    if(i < 5):\n",
    "        out0[col[i]] = \"\"\n",
    "        out1[col[i]] = \"\"\n",
    "    if(i == 5):\n",
    "        out0[col[i]] = \"not connected\"\n",
    "        out1[col[i]] = \"connected\"\n",
    "    else:    \n",
    "        out0[col[i]] = round(sum(temp[col[i]] == '0') / sum(temp[col[i]] != '*'), 3)\n",
    "        out1[col[i]] = round((sum(temp[col[i]] != '0') - sum(temp[col[i]] == '*')) / sum(temp[col[i]] != '*'), 3)\n",
    "freq = pd.concat([freq, pd.Series(out0).to_frame().T])\n",
    "freq = pd.concat([freq, pd.Series(out1).to_frame().T])"
   ]
  },
  {
   "cell_type": "code",
   "execution_count": 154,
   "metadata": {
    "ExecuteTime": {
     "end_time": "2021-12-03T18:18:23.238807Z",
     "start_time": "2021-12-03T18:17:14.047927Z"
    }
   },
   "outputs": [
    {
     "data": {
      "application/vnd.jupyter.widget-view+json": {
       "model_id": "e2407b7ff301425592f9c1bb30d50f15",
       "version_major": 2,
       "version_minor": 0
      },
      "text/plain": [
       "  0%|          | 0/16 [00:00<?, ?it/s]"
      ]
     },
     "metadata": {},
     "output_type": "display_data"
    }
   ],
   "source": [
    "profile = pd.DataFrame()\n",
    "temp = df_result.iloc[1::2,:]\n",
    "col = temp.columns\n",
    "for c in tqdm(['A','C','G','T','U','R','Y','K','M','S','W','B','D','H','V','N']):    \n",
    "    out = {}\n",
    "    for i in range(len(col)):        \n",
    "        if(i < 2):\n",
    "            out[col[i]] = \"\"\n",
    "        if(i == 2):\n",
    "            out[col[i]] = c\n",
    "        else:    \n",
    "            out[col[i]] = round((sum(temp[col[i]] == c)  + sum(temp[col[i]] == c.lower()) ) / sum(temp[col[i]] != '*'), 3)\n",
    "    profile = pd.concat([profile, pd.Series(out).to_frame().T])"
   ]
  },
  {
   "cell_type": "code",
   "execution_count": 155,
   "metadata": {
    "ExecuteTime": {
     "end_time": "2021-12-03T18:18:25.534141Z",
     "start_time": "2021-12-03T18:18:23.242536Z"
    }
   },
   "outputs": [],
   "source": [
    "df_result = pd.concat([df_result.iloc[::2,:], profile, freq], axis=0)\n",
    "df_result.to_csv('non_high_confidence_non_viridiplantae.csv', index=False)"
   ]
  },
  {
   "cell_type": "code",
   "execution_count": null,
   "metadata": {},
   "outputs": [],
   "source": []
  }
 ],
 "metadata": {
  "hide_input": false,
  "kernelspec": {
   "display_name": "Python 3",
   "language": "python",
   "name": "python3"
  },
  "language_info": {
   "codemirror_mode": {
    "name": "ipython",
    "version": 3
   },
   "file_extension": ".py",
   "mimetype": "text/x-python",
   "name": "python",
   "nbconvert_exporter": "python",
   "pygments_lexer": "ipython3",
   "version": "3.8.10"
  },
  "varInspector": {
   "cols": {
    "lenName": 16,
    "lenType": 16,
    "lenVar": 40
   },
   "kernels_config": {
    "python": {
     "delete_cmd_postfix": "",
     "delete_cmd_prefix": "del ",
     "library": "var_list.py",
     "varRefreshCmd": "print(var_dic_list())"
    },
    "r": {
     "delete_cmd_postfix": ") ",
     "delete_cmd_prefix": "rm(",
     "library": "var_list.r",
     "varRefreshCmd": "cat(var_dic_list()) "
    }
   },
   "types_to_exclude": [
    "module",
    "function",
    "builtin_function_or_method",
    "instance",
    "_Feature"
   ],
   "window_display": false
  }
 },
 "nbformat": 4,
 "nbformat_minor": 4
}
