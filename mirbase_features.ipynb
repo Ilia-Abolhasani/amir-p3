{
 "cells": [
  {
   "cell_type": "markdown",
   "metadata": {
    "heading_collapsed": true
   },
   "source": [
    "# Common"
   ]
  },
  {
   "cell_type": "code",
   "execution_count": 1,
   "metadata": {
    "ExecuteTime": {
     "end_time": "2021-12-01T16:07:34.029200Z",
     "start_time": "2021-12-01T16:07:33.482280Z"
    },
    "hidden": true
   },
   "outputs": [],
   "source": [
    "import math\n",
    "import numpy as np\n",
    "import pandas as pd\n",
    "from tqdm.contrib.concurrent import process_map\n",
    "from tqdm.notebook import tqdm\n",
    "tqdm.pandas()\n",
    "import multiprocessing as mp\n",
    "import shutil\n",
    "import glob\n",
    "import os\n",
    "import sys\n",
    "if sys.version_info[0] < 3: \n",
    "    from StringIO import StringIO\n",
    "else:\n",
    "    from io import StringIO"
   ]
  },
  {
   "cell_type": "code",
   "execution_count": 2,
   "metadata": {
    "ExecuteTime": {
     "end_time": "2021-12-01T16:07:41.263590Z",
     "start_time": "2021-12-01T16:07:41.255115Z"
    },
    "hidden": true
   },
   "outputs": [],
   "source": [
    "def fasta_to_df(path):\n",
    "    with open(path, 'r') as file:\n",
    "        text = file.read()\n",
    "    lines = [line for line in text.split('\\n') if len(line) > 0]\n",
    "    s = ''\n",
    "    tags = []\n",
    "    data = []\n",
    "    for l in lines:\n",
    "        if(l[0]=='>'):\n",
    "            tags.append(l)        \n",
    "            data.append(s)\n",
    "            s = ''\n",
    "        else:\n",
    "            s += l    \n",
    "    data.append(s)\n",
    "    df = pd.DataFrame(\n",
    "            {\n",
    "                'tag': tags,\n",
    "                'data': data[1:]\n",
    "            })\n",
    "    df['tag'] = df['tag'].apply(lambda x: x[1:])    \n",
    "    return df"
   ]
  },
  {
   "cell_type": "code",
   "execution_count": 3,
   "metadata": {
    "ExecuteTime": {
     "end_time": "2021-12-01T16:07:41.967532Z",
     "start_time": "2021-12-01T16:07:41.962441Z"
    },
    "hidden": true
   },
   "outputs": [],
   "source": [
    "def df_to_fasta(df, path):\n",
    "    lines = []\n",
    "    df.apply(lambda row: lines.append(f\">{row['tag']}\\n{row['data']}\\n\"),axis=1)\n",
    "    with open(path,'w') as file:\n",
    "        file.write(''.join(lines))"
   ]
  },
  {
   "cell_type": "code",
   "execution_count": 4,
   "metadata": {
    "ExecuteTime": {
     "end_time": "2021-12-01T16:07:43.747916Z",
     "start_time": "2021-12-01T16:07:43.743313Z"
    },
    "hidden": true
   },
   "outputs": [],
   "source": [
    "def reformat(path):\n",
    "    return path.replace('(','_').replace(')','_').replace('.','').replace(':','_')"
   ]
  },
  {
   "cell_type": "code",
   "execution_count": 5,
   "metadata": {
    "ExecuteTime": {
     "end_time": "2021-12-01T16:07:44.359400Z",
     "start_time": "2021-12-01T16:07:44.351163Z"
    },
    "hidden": true
   },
   "outputs": [],
   "source": [
    "def reformatCT(path):\n",
    "    with open(path, 'r') as file:\n",
    "        text = file.read()\n",
    "    text = [l for l in text.split('\\n') if len(l) > 0 ] # remove blank lines\n",
    "    text = '\\n'.join(text)\n",
    "    text = text.replace(\"\\t\",\" \")\n",
    "    while(\"  \" in text):\n",
    "        text = text.replace(\"  \", \" \")\n",
    "    lines = [l for l in text.split('\\n')]\n",
    "    for i in range(len(lines)):\n",
    "        if(lines[i][0] == \" \"):\n",
    "            lines[i] = lines[i][1:]\n",
    "        if(lines[i][-1] == \" \"):\n",
    "            lines[i] = lines[i][:-1]\n",
    "    text = '\\n'.join(lines)\n",
    "    return text"
   ]
  },
  {
   "cell_type": "code",
   "execution_count": 6,
   "metadata": {
    "ExecuteTime": {
     "end_time": "2021-12-01T16:07:44.667430Z",
     "start_time": "2021-12-01T16:07:44.662055Z"
    },
    "hidden": true
   },
   "outputs": [],
   "source": [
    "def get_ct_data(ct):\n",
    "    ct = \"\\n\".join(ct.split('\\n')[1:])\n",
    "    df = pd.read_csv(StringIO(ct), sep=\" \", header=None)               \n",
    "    nucleotide = df.iloc[:,1]\n",
    "    index = df.iloc[:,5]\n",
    "    values = df.iloc[:,4]\n",
    "    return [nucleotide, index, values]"
   ]
  },
  {
   "cell_type": "markdown",
   "metadata": {},
   "source": [
    "# Download data from Mirbase"
   ]
  },
  {
   "cell_type": "code",
   "execution_count": 9,
   "metadata": {
    "ExecuteTime": {
     "end_time": "2021-12-01T16:08:11.843034Z",
     "start_time": "2021-12-01T16:08:11.838869Z"
    }
   },
   "outputs": [],
   "source": [
    "directory = 'miRBase_driven_data'"
   ]
  },
  {
   "cell_type": "code",
   "execution_count": 10,
   "metadata": {
    "ExecuteTime": {
     "end_time": "2021-12-01T16:08:27.988013Z",
     "start_time": "2021-12-01T16:08:13.127256Z"
    }
   },
   "outputs": [
    {
     "name": "stdout",
     "output_type": "stream",
     "text": [
      "--2021-12-01 19:38:13--  https://www.mirbase.org/ftp/CURRENT/aliases.txt.gz\n",
      "Resolving www.mirbase.org (www.mirbase.org)... 130.88.97.249\n",
      "Connecting to www.mirbase.org (www.mirbase.org)|130.88.97.249|:443... connected.\n",
      "HTTP request sent, awaiting response... 200 OK\n",
      "Length: 480536 (469K) [application/x-gzip]\n",
      "Saving to: ‘./miRBase_driven_data/aliases.txt.gz’\n",
      "\n",
      "aliases.txt.gz      100%[===================>] 469.27K   393KB/s    in 1.2s    \n",
      "\n",
      "2021-12-01 19:38:15 (393 KB/s) - ‘./miRBase_driven_data/aliases.txt.gz’ saved [480536/480536]\n",
      "\n",
      "--2021-12-01 19:38:15--  https://www.mirbase.org/ftp/CURRENT/hairpin.fa.gz\n",
      "Resolving www.mirbase.org (www.mirbase.org)... 130.88.97.249\n",
      "Connecting to www.mirbase.org (www.mirbase.org)|130.88.97.249|:443... connected.\n",
      "HTTP request sent, awaiting response... 200 OK\n",
      "Length: 1547350 (1.5M) [application/x-gzip]\n",
      "Saving to: ‘./miRBase_driven_data/hairpin.fa.gz’\n",
      "\n",
      "hairpin.fa.gz       100%[===================>]   1.48M   951KB/s    in 1.6s    \n",
      "\n",
      "2021-12-01 19:38:17 (951 KB/s) - ‘./miRBase_driven_data/hairpin.fa.gz’ saved [1547350/1547350]\n",
      "\n",
      "--2021-12-01 19:38:17--  https://www.mirbase.org/ftp/CURRENT/hairpin_high_conf.fa.gz\n",
      "Resolving www.mirbase.org (www.mirbase.org)... 130.88.97.249\n",
      "Connecting to www.mirbase.org (www.mirbase.org)|130.88.97.249|:443... connected.\n",
      "HTTP request sent, awaiting response... 200 OK\n",
      "Length: 129596 (127K) [application/x-gzip]\n",
      "Saving to: ‘./miRBase_driven_data/hairpin_high_conf.fa.gz’\n",
      "\n",
      "hairpin_high_conf.f 100%[===================>] 126.56K   161KB/s    in 0.8s    \n",
      "\n",
      "2021-12-01 19:38:18 (161 KB/s) - ‘./miRBase_driven_data/hairpin_high_conf.fa.gz’ saved [129596/129596]\n",
      "\n",
      "--2021-12-01 19:38:18--  https://www.mirbase.org/ftp/CURRENT/mature.fa.gz\n",
      "Resolving www.mirbase.org (www.mirbase.org)... 130.88.97.249\n",
      "Connecting to www.mirbase.org (www.mirbase.org)|130.88.97.249|:443... connected.\n",
      "HTTP request sent, awaiting response... 200 OK\n",
      "Length: 803746 (785K) [application/x-gzip]\n",
      "Saving to: ‘./miRBase_driven_data/mature.fa.gz’\n",
      "\n",
      "mature.fa.gz        100%[===================>] 784.91K   655KB/s    in 1.2s    \n",
      "\n",
      "2021-12-01 19:38:20 (655 KB/s) - ‘./miRBase_driven_data/mature.fa.gz’ saved [803746/803746]\n",
      "\n",
      "--2021-12-01 19:38:20--  https://www.mirbase.org/ftp/CURRENT/mature_high_conf.fa.gz\n",
      "Resolving www.mirbase.org (www.mirbase.org)... 130.88.97.249\n",
      "Connecting to www.mirbase.org (www.mirbase.org)|130.88.97.249|:443... connected.\n",
      "HTTP request sent, awaiting response... 200 OK\n",
      "Length: 69381 (68K) [application/x-gzip]\n",
      "Saving to: ‘./miRBase_driven_data/mature_high_conf.fa.gz’\n",
      "\n",
      "mature_high_conf.fa 100%[===================>]  67.75K   225KB/s    in 0.3s    \n",
      "\n",
      "2021-12-01 19:38:21 (225 KB/s) - ‘./miRBase_driven_data/mature_high_conf.fa.gz’ saved [69381/69381]\n",
      "\n",
      "--2021-12-01 19:38:21--  https://www.mirbase.org/ftp/CURRENT/miRNA.str.gz\n",
      "Resolving www.mirbase.org (www.mirbase.org)... 130.88.97.249\n",
      "Connecting to www.mirbase.org (www.mirbase.org)|130.88.97.249|:443... connected.\n",
      "HTTP request sent, awaiting response... 200 OK\n",
      "Length: 3373763 (3.2M) [application/x-gzip]\n",
      "Saving to: ‘./miRBase_driven_data/miRNA.str.gz’\n",
      "\n",
      "miRNA.str.gz        100%[===================>]   3.22M  1.55MB/s    in 2.1s    \n",
      "\n",
      "2021-12-01 19:38:23 (1.55 MB/s) - ‘./miRBase_driven_data/miRNA.str.gz’ saved [3373763/3373763]\n",
      "\n",
      "--2021-12-01 19:38:24--  https://www.mirbase.org/ftp/CURRENT/miRNA.xls.gz\n",
      "Resolving www.mirbase.org (www.mirbase.org)... 130.88.97.249\n",
      "Connecting to www.mirbase.org (www.mirbase.org)|130.88.97.249|:443... connected.\n",
      "HTTP request sent, awaiting response... 200 OK\n",
      "Length: 2963404 (2.8M) [application/x-gzip]\n",
      "Saving to: ‘./miRBase_driven_data/miRNA.xls.gz’\n",
      "\n",
      "miRNA.xls.gz        100%[===================>]   2.83M  1.06MB/s    in 2.7s    \n",
      "\n",
      "2021-12-01 19:38:27 (1.06 MB/s) - ‘./miRBase_driven_data/miRNA.xls.gz’ saved [2963404/2963404]\n",
      "\n",
      "--2021-12-01 19:38:27--  https://www.mirbase.org/ftp/CURRENT/organisms.txt.gz\n",
      "Resolving www.mirbase.org (www.mirbase.org)... 130.88.97.249\n",
      "Connecting to www.mirbase.org (www.mirbase.org)|130.88.97.249|:443... connected.\n",
      "HTTP request sent, awaiting response... 200 OK\n",
      "Length: 6842 (6.7K) [application/x-gzip]\n",
      "Saving to: ‘./miRBase_driven_data/organisms.txt.gz’\n",
      "\n",
      "organisms.txt.gz    100%[===================>]   6.68K  --.-KB/s    in 0s      \n",
      "\n",
      "2021-12-01 19:38:27 (207 MB/s) - ‘./miRBase_driven_data/organisms.txt.gz’ saved [6842/6842]\n",
      "\n"
     ]
    }
   ],
   "source": [
    "base = \"https://www.mirbase.org/ftp/CURRENT\"        \n",
    "!rm -r {directory}\n",
    "!mkdir -p {directory}\n",
    "!wget {base}/aliases.txt.gz -P ./{directory}/       ; gzip -d ./{directory}/aliases.txt.gz \n",
    "!wget {base}/hairpin.fa.gz -P ./{directory}/           ; gzip -d ./{directory}/hairpin.fa.gz \n",
    "!wget {base}/hairpin_high_conf.fa.gz -P ./{directory}/ ; gzip -d ./{directory}/hairpin_high_conf.fa.gz \n",
    "!wget {base}/mature.fa.gz -P ./{directory}/            ; gzip -d ./{directory}/mature.fa.gz \n",
    "!wget {base}/mature_high_conf.fa.gz -P ./{directory}/  ; gzip -d ./{directory}/mature_high_conf.fa.gz\n",
    "!wget {base}/miRNA.str.gz -P ./{directory}/            ; gzip -d ./{directory}/miRNA.str.gz \n",
    "!wget {base}/miRNA.xls.gz -P ./{directory}/            ; gzip -d ./{directory}/miRNA.xls.gz \n",
    "!wget {base}/organisms.txt.gz -P ./{directory}/        ; gzip -d ./{directory}/organisms.txt.gz"
   ]
  },
  {
   "cell_type": "code",
   "execution_count": 230,
   "metadata": {
    "ExecuteTime": {
     "end_time": "2021-12-01T18:13:17.714597Z",
     "start_time": "2021-12-01T18:13:17.679679Z"
    }
   },
   "outputs": [
    {
     "name": "stdout",
     "output_type": "stream",
     "text": [
      "(3320, 4)\n"
     ]
    },
    {
     "data": {
      "text/html": [
       "<div>\n",
       "<style scoped>\n",
       "    .dataframe tbody tr th:only-of-type {\n",
       "        vertical-align: middle;\n",
       "    }\n",
       "\n",
       "    .dataframe tbody tr th {\n",
       "        vertical-align: top;\n",
       "    }\n",
       "\n",
       "    .dataframe thead th {\n",
       "        text-align: right;\n",
       "    }\n",
       "</style>\n",
       "<table border=\"1\" class=\"dataframe\">\n",
       "  <thead>\n",
       "    <tr style=\"text-align: right;\">\n",
       "      <th></th>\n",
       "      <th>tag</th>\n",
       "      <th>data</th>\n",
       "      <th>organism</th>\n",
       "      <th>length</th>\n",
       "    </tr>\n",
       "  </thead>\n",
       "  <tbody>\n",
       "    <tr>\n",
       "      <th>0</th>\n",
       "      <td>cel-let-7 MI0000001 Caenorhabditis elegans let...</td>\n",
       "      <td>UACACUGUGGAUCCGGUGAGGUAGUAGGUUGUAUAGUUUGGAAUAU...</td>\n",
       "      <td>cel</td>\n",
       "      <td>99</td>\n",
       "    </tr>\n",
       "    <tr>\n",
       "      <th>1</th>\n",
       "      <td>cel-lin-4 MI0000002 Caenorhabditis elegans lin...</td>\n",
       "      <td>AUGCUUCCGGCCUGUUCCCUGAGACCUCAAGUGUGAGUGUACUAUU...</td>\n",
       "      <td>cel</td>\n",
       "      <td>94</td>\n",
       "    </tr>\n",
       "  </tbody>\n",
       "</table>\n",
       "</div>"
      ],
      "text/plain": [
       "                                                 tag  \\\n",
       "0  cel-let-7 MI0000001 Caenorhabditis elegans let...   \n",
       "1  cel-lin-4 MI0000002 Caenorhabditis elegans lin...   \n",
       "\n",
       "                                                data organism  length  \n",
       "0  UACACUGUGGAUCCGGUGAGGUAGUAGGUUGUAUAGUUUGGAAUAU...      cel      99  \n",
       "1  AUGCUUCCGGCCUGUUCCCUGAGACCUCAAGUGUGAGUGUACUAUU...      cel      94  "
      ]
     },
     "execution_count": 230,
     "metadata": {},
     "output_type": "execute_result"
    }
   ],
   "source": [
    "hdf = fasta_to_df(f'./{directory}/hairpin_high_conf.fa')\n",
    "hdf['organism'] = hdf['tag'].apply(lambda x: x[:3])\n",
    "hdf['length'] = hdf['data'].apply(lambda x: len(x))\n",
    "print(hdf.shape)\n",
    "hdf.head(2)"
   ]
  },
  {
   "cell_type": "code",
   "execution_count": 231,
   "metadata": {
    "ExecuteTime": {
     "end_time": "2021-12-01T18:13:20.465113Z",
     "start_time": "2021-12-01T18:13:20.297314Z"
    }
   },
   "outputs": [
    {
     "data": {
      "text/html": [
       "<div>\n",
       "<style scoped>\n",
       "    .dataframe tbody tr th:only-of-type {\n",
       "        vertical-align: middle;\n",
       "    }\n",
       "\n",
       "    .dataframe tbody tr th {\n",
       "        vertical-align: top;\n",
       "    }\n",
       "\n",
       "    .dataframe thead th {\n",
       "        text-align: right;\n",
       "    }\n",
       "</style>\n",
       "<table border=\"1\" class=\"dataframe\">\n",
       "  <thead>\n",
       "    <tr style=\"text-align: right;\">\n",
       "      <th></th>\n",
       "      <th>tag</th>\n",
       "      <th>data</th>\n",
       "      <th>organism</th>\n",
       "      <th>length</th>\n",
       "    </tr>\n",
       "  </thead>\n",
       "  <tbody>\n",
       "    <tr>\n",
       "      <th>0</th>\n",
       "      <td>cel-let-7 MI0000001 Caenorhabditis elegans let...</td>\n",
       "      <td>UACACUGUGGAUCCGGUGAGGUAGUAGGUUGUAUAGUUUGGAAUAU...</td>\n",
       "      <td>cel</td>\n",
       "      <td>99</td>\n",
       "    </tr>\n",
       "    <tr>\n",
       "      <th>1</th>\n",
       "      <td>cel-lin-4 MI0000002 Caenorhabditis elegans lin...</td>\n",
       "      <td>AUGCUUCCGGCCUGUUCCCUGAGACCUCAAGUGUGAGUGUACUAUU...</td>\n",
       "      <td>cel</td>\n",
       "      <td>94</td>\n",
       "    </tr>\n",
       "  </tbody>\n",
       "</table>\n",
       "</div>"
      ],
      "text/plain": [
       "                                                 tag  \\\n",
       "0  cel-let-7 MI0000001 Caenorhabditis elegans let...   \n",
       "1  cel-lin-4 MI0000002 Caenorhabditis elegans lin...   \n",
       "\n",
       "                                                data organism  length  \n",
       "0  UACACUGUGGAUCCGGUGAGGUAGUAGGUUGUAUAGUUUGGAAUAU...      cel      99  \n",
       "1  AUGCUUCCGGCCUGUUCCCUGAGACCUCAAGUGUGAGUGUACUAUU...      cel      94  "
      ]
     },
     "execution_count": 231,
     "metadata": {},
     "output_type": "execute_result"
    }
   ],
   "source": [
    "alldf = fasta_to_df(f'./{directory}/hairpin.fa')\n",
    "alldf['organism'] = alldf['tag'].apply(lambda x: x[:3])\n",
    "alldf['length'] = alldf['data'].apply(lambda x: len(x))\n",
    "alldf.head(2)"
   ]
  },
  {
   "cell_type": "code",
   "execution_count": 232,
   "metadata": {
    "ExecuteTime": {
     "end_time": "2021-12-01T18:13:20.768280Z",
     "start_time": "2021-12-01T18:13:20.747116Z"
    }
   },
   "outputs": [],
   "source": [
    "nhdf = alldf[~alldf['tag'].isin(hdf['tag'])]"
   ]
  },
  {
   "cell_type": "code",
   "execution_count": 233,
   "metadata": {
    "ExecuteTime": {
     "end_time": "2021-12-01T18:13:23.791329Z",
     "start_time": "2021-12-01T18:13:23.785533Z"
    }
   },
   "outputs": [],
   "source": [
    "df = nhdf"
   ]
  },
  {
   "cell_type": "code",
   "execution_count": 247,
   "metadata": {
    "ExecuteTime": {
     "end_time": "2021-12-01T18:28:48.032811Z",
     "start_time": "2021-12-01T18:28:48.009392Z"
    }
   },
   "outputs": [
    {
     "name": "stdout",
     "output_type": "stream",
     "text": [
      "(285, 5)\n"
     ]
    },
    {
     "data": {
      "text/html": [
       "<div>\n",
       "<style scoped>\n",
       "    .dataframe tbody tr th:only-of-type {\n",
       "        vertical-align: middle;\n",
       "    }\n",
       "\n",
       "    .dataframe tbody tr th {\n",
       "        vertical-align: top;\n",
       "    }\n",
       "\n",
       "    .dataframe thead th {\n",
       "        text-align: right;\n",
       "    }\n",
       "</style>\n",
       "<table border=\"1\" class=\"dataframe\">\n",
       "  <thead>\n",
       "    <tr style=\"text-align: right;\">\n",
       "      <th></th>\n",
       "      <th>organism</th>\n",
       "      <th>division</th>\n",
       "      <th>name</th>\n",
       "      <th>tree</th>\n",
       "      <th>NCBI-taxid</th>\n",
       "    </tr>\n",
       "  </thead>\n",
       "  <tbody>\n",
       "    <tr>\n",
       "      <th>0</th>\n",
       "      <td>aqu</td>\n",
       "      <td>AQU</td>\n",
       "      <td>Amphimedon queenslandica</td>\n",
       "      <td>Metazoa;Porifera;</td>\n",
       "      <td>400682</td>\n",
       "    </tr>\n",
       "    <tr>\n",
       "      <th>1</th>\n",
       "      <td>nve</td>\n",
       "      <td>NVE</td>\n",
       "      <td>Nematostella vectensis</td>\n",
       "      <td>Metazoa;Cnidaria;</td>\n",
       "      <td>45351</td>\n",
       "    </tr>\n",
       "  </tbody>\n",
       "</table>\n",
       "</div>"
      ],
      "text/plain": [
       "  organism division                      name               tree  NCBI-taxid\n",
       "0      aqu      AQU  Amphimedon queenslandica  Metazoa;Porifera;      400682\n",
       "1      nve      NVE    Nematostella vectensis  Metazoa;Cnidaria;       45351"
      ]
     },
     "execution_count": 247,
     "metadata": {},
     "output_type": "execute_result"
    }
   ],
   "source": [
    "organism = pd.read_csv(f'./{directory}/organisms.txt',sep='\\t')\n",
    "organism.columns = [c.replace('#','') for c in organism.columns] # remove sharp from columns\n",
    "print(organism.shape)\n",
    "organism.head(2)"
   ]
  },
  {
   "cell_type": "code",
   "execution_count": 248,
   "metadata": {
    "ExecuteTime": {
     "end_time": "2021-12-01T18:28:49.455578Z",
     "start_time": "2021-12-01T18:28:49.450501Z"
    }
   },
   "outputs": [],
   "source": [
    "items = list(organism['tree'].unique())\n",
    "items.sort(key=len)"
   ]
  },
  {
   "cell_type": "code",
   "execution_count": 249,
   "metadata": {
    "ExecuteTime": {
     "end_time": "2021-12-01T18:28:52.432461Z",
     "start_time": "2021-12-01T18:28:52.415133Z"
    }
   },
   "outputs": [
    {
     "name": "stdout",
     "output_type": "stream",
     "text": [
      "(86, 5)\n"
     ]
    },
    {
     "data": {
      "text/html": [
       "<div>\n",
       "<style scoped>\n",
       "    .dataframe tbody tr th:only-of-type {\n",
       "        vertical-align: middle;\n",
       "    }\n",
       "\n",
       "    .dataframe tbody tr th {\n",
       "        vertical-align: top;\n",
       "    }\n",
       "\n",
       "    .dataframe thead th {\n",
       "        text-align: right;\n",
       "    }\n",
       "</style>\n",
       "<table border=\"1\" class=\"dataframe\">\n",
       "  <thead>\n",
       "    <tr style=\"text-align: right;\">\n",
       "      <th></th>\n",
       "      <th>organism</th>\n",
       "      <th>division</th>\n",
       "      <th>name</th>\n",
       "      <th>tree</th>\n",
       "      <th>NCBI-taxid</th>\n",
       "    </tr>\n",
       "  </thead>\n",
       "  <tbody>\n",
       "    <tr>\n",
       "      <th>66</th>\n",
       "      <td>cre</td>\n",
       "      <td>CRE</td>\n",
       "      <td>Chlamydomonas reinhardtii</td>\n",
       "      <td>Viridiplantae;Chlorophyta;</td>\n",
       "      <td>3055</td>\n",
       "    </tr>\n",
       "    <tr>\n",
       "      <th>67</th>\n",
       "      <td>pta</td>\n",
       "      <td>PTA</td>\n",
       "      <td>Pinus taeda</td>\n",
       "      <td>Viridiplantae;Coniferophyta;</td>\n",
       "      <td>3352</td>\n",
       "    </tr>\n",
       "  </tbody>\n",
       "</table>\n",
       "</div>"
      ],
      "text/plain": [
       "   organism division                       name                          tree  \\\n",
       "66      cre      CRE  Chlamydomonas reinhardtii    Viridiplantae;Chlorophyta;   \n",
       "67      pta      PTA                Pinus taeda  Viridiplantae;Coniferophyta;   \n",
       "\n",
       "    NCBI-taxid  \n",
       "66        3055  \n",
       "67        3352  "
      ]
     },
     "execution_count": 249,
     "metadata": {},
     "output_type": "execute_result"
    }
   ],
   "source": [
    "selectedTree = organism[organism['tree'].apply(lambda x: \"Viridiplantae;\"  in x)]\n",
    "print(selectedTree.shape)\n",
    "selectedTree.head(2)"
   ]
  },
  {
   "cell_type": "code",
   "execution_count": 250,
   "metadata": {
    "ExecuteTime": {
     "end_time": "2021-12-01T18:28:54.632689Z",
     "start_time": "2021-12-01T18:28:54.607361Z"
    },
    "scrolled": false
   },
   "outputs": [
    {
     "name": "stdout",
     "output_type": "stream",
     "text": [
      "(8455, 4)\n"
     ]
    },
    {
     "data": {
      "text/html": [
       "<div>\n",
       "<style scoped>\n",
       "    .dataframe tbody tr th:only-of-type {\n",
       "        vertical-align: middle;\n",
       "    }\n",
       "\n",
       "    .dataframe tbody tr th {\n",
       "        vertical-align: top;\n",
       "    }\n",
       "\n",
       "    .dataframe thead th {\n",
       "        text-align: right;\n",
       "    }\n",
       "</style>\n",
       "<table border=\"1\" class=\"dataframe\">\n",
       "  <thead>\n",
       "    <tr style=\"text-align: right;\">\n",
       "      <th></th>\n",
       "      <th>tag</th>\n",
       "      <th>data</th>\n",
       "      <th>organism</th>\n",
       "      <th>length</th>\n",
       "    </tr>\n",
       "  </thead>\n",
       "  <tbody>\n",
       "    <tr>\n",
       "      <th>168</th>\n",
       "      <td>ath-MIR156a MI0000178 Arabidopsis thaliana miR...</td>\n",
       "      <td>CAAGAGAAACGCAAAGAAACUGACAGAAGAGAGUGAGCACACAAAG...</td>\n",
       "      <td>ath</td>\n",
       "      <td>123</td>\n",
       "    </tr>\n",
       "    <tr>\n",
       "      <th>169</th>\n",
       "      <td>ath-MIR156b MI0000179 Arabidopsis thaliana miR...</td>\n",
       "      <td>GCUAGAAGAGGGAGAGAUGGUGAUUGAGGAAUGCAACAGAGAAAAC...</td>\n",
       "      <td>ath</td>\n",
       "      <td>183</td>\n",
       "    </tr>\n",
       "  </tbody>\n",
       "</table>\n",
       "</div>"
      ],
      "text/plain": [
       "                                                   tag  \\\n",
       "168  ath-MIR156a MI0000178 Arabidopsis thaliana miR...   \n",
       "169  ath-MIR156b MI0000179 Arabidopsis thaliana miR...   \n",
       "\n",
       "                                                  data organism  length  \n",
       "168  CAAGAGAAACGCAAAGAAACUGACAGAAGAGAGUGAGCACACAAAG...      ath     123  \n",
       "169  GCUAGAAGAGGGAGAGAUGGUGAUUGAGGAAUGCAACAGAGAAAAC...      ath     183  "
      ]
     },
     "execution_count": 250,
     "metadata": {},
     "output_type": "execute_result"
    }
   ],
   "source": [
    "selected = df[df['organism'].isin(selectedTree['organism'])]\n",
    "print(selected.shape)\n",
    "selected.head(2)"
   ]
  },
  {
   "cell_type": "code",
   "execution_count": 251,
   "metadata": {
    "ExecuteTime": {
     "end_time": "2021-12-01T18:29:05.001550Z",
     "start_time": "2021-12-01T18:28:59.213303Z"
    }
   },
   "outputs": [],
   "source": [
    "# use this cell for extracting str files for hairpin.fa\n",
    "tags = list(selected['tag'].apply(lambda x : x.split(' ')[0]))\n",
    "with open(f'./{directory}/miRNA.str', 'r') as file:\n",
    "    text = file.read()\n",
    "text = text.split('\\n')\n",
    "\n",
    "result = ''\n",
    "for i in range(0,len(text),8):\n",
    "    if(text[i].split(' ')[0][1:] in tags):\n",
    "        result += '\\n'.join(text[i:i+8]) + \"\\n\"        \n",
    "with open(f'./high_conf_hairpin.str', 'w') as file:\n",
    "    file.write(result)"
   ]
  },
  {
   "cell_type": "code",
   "execution_count": 252,
   "metadata": {
    "ExecuteTime": {
     "end_time": "2021-12-01T18:29:05.021585Z",
     "start_time": "2021-12-01T18:29:05.005319Z"
    },
    "scrolled": false
   },
   "outputs": [],
   "source": [
    "result = result.split('\\n')"
   ]
  },
  {
   "cell_type": "code",
   "execution_count": 253,
   "metadata": {
    "ExecuteTime": {
     "end_time": "2021-12-01T18:29:05.032420Z",
     "start_time": "2021-12-01T18:29:05.025878Z"
    }
   },
   "outputs": [],
   "source": [
    "def get_path(header): \n",
    "    path = []\n",
    "    tag = header.split(' ')[0][1:]    \n",
    "    sides = [t.split(']')[0] for t in header.split('[') if ']' in t]        \n",
    "    for s in sides:\n",
    "        hit = s.split(\":\")[-1]\n",
    "        path.append(f'{tag}|+|1-*|{hit}')\n",
    "        path.append(f'{tag}-3p|+|1-*|{hit}')\n",
    "        path.append(f'{tag}-5p|+|1-*|{hit}')\n",
    "    return path"
   ]
  },
  {
   "cell_type": "code",
   "execution_count": 254,
   "metadata": {
    "ExecuteTime": {
     "end_time": "2021-12-01T18:29:05.075773Z",
     "start_time": "2021-12-01T18:29:05.035602Z"
    }
   },
   "outputs": [],
   "source": [
    "extra = 5\n",
    "server_url = \"http://jupyter.sysmanager.ir/tree/plant_microRNA_prediction\"\n",
    "\n",
    "def get_data(ct_path, str_header):\n",
    "    out = {}\n",
    "    ct = reformatCT(ct_path)\n",
    "    header = ct.split('\\n')[0]\n",
    "    [hs, he] = header.split('|')[-1].split('-')\n",
    "    [hs, he] = [int(hs), int(he)]        \n",
    "    [nucleotide, index, values] = get_ct_data(ct)\n",
    "    values = list(values)        \n",
    "    if((hs - extra) < 1 or (he + extra) > len(values)):\n",
    "        feature = [*values[max(hs - extra - 1,0) : hs + extra], *values[he - extra - 1 : min(he + extra,len(values))]]                  \n",
    "        nuc_feature = [*nucleotide[max(hs - extra - 1,0) : hs + extra], *nucleotide[he - extra - 1 : min(he + extra,len(values))]]                  \n",
    "        if((hs - extra) < 1):\n",
    "            for i in range(1 - (hs - extra)):\n",
    "                feature = ['*', *feature]                                \n",
    "                nuc_feature = ['*', *nuc_feature]                                \n",
    "        if((he + extra) > len(values)):\n",
    "            for i in range((he + extra) -  len(values)):\n",
    "                feature = [*feature, '*']                                        \n",
    "                nuc_feature = [*nuc_feature, '*']                                                        \n",
    "    else:\n",
    "        feature = [*values[hs - extra - 1 : hs + extra], *values[he - extra - 1 : he + extra]]                    \n",
    "        nuc_feature = [*nucleotide[hs - extra - 1 : hs + extra], *nucleotide[he - extra - 1 : he + extra]]                    \n",
    "    columns = [* [f'-{i} hit_start' for i in range(extra,0,-1)],\n",
    "                'hit_start',\n",
    "                *[f'+{i} hit_start' for i in range(1,extra+1)],                                               \n",
    "                *[f'-{i} hit_end' for i in range(extra,0,-1)],\n",
    "                'hit_end',\n",
    "                *[f'+{i} hit_end' for i in range(1,extra+1)]]    \n",
    "        \n",
    "    tag = str_header.split(' ')[0]    \n",
    "    organism_name = selectedTree[selectedTree['organism'] == tag.split('-')[0][1:]]['name'].iloc[0]\n",
    "    feature = [f'=HYPERLINK(\"{server_url}/{ct_path}\",\"ct\")',tag , organism_name, *feature]\n",
    "    nuc_feature = ['','','', * nuc_feature]\n",
    "    columns = ['ct', 'tag','organism name', *columns]        \n",
    "    df = pd.DataFrame(np.array([feature,nuc_feature]),columns=columns)            \n",
    "    return df"
   ]
  },
  {
   "cell_type": "code",
   "execution_count": 255,
   "metadata": {
    "ExecuteTime": {
     "end_time": "2021-12-01T18:29:05.085284Z",
     "start_time": "2021-12-01T18:29:05.079317Z"
    }
   },
   "outputs": [],
   "source": [
    "def get_df(header):\n",
    "    dfs =[]    \n",
    "    for path in get_path(header):                                \n",
    "        ct_path = glob.glob(f'./CT/{path}.ct')\n",
    "        if(len(ct_path) > 1 ):\n",
    "            print(ct_path,\"****\")\n",
    "        if(len(ct_path) == 0):\n",
    "            #print(f'there is not ./CT/{path}.ct file')\n",
    "            continue\n",
    "        ct_path = ct_path[0]            \n",
    "        dfs.append(get_data(ct_path, header))  \n",
    "    return dfs"
   ]
  },
  {
   "cell_type": "code",
   "execution_count": 256,
   "metadata": {
    "ExecuteTime": {
     "end_time": "2021-12-01T18:32:59.761029Z",
     "start_time": "2021-12-01T18:29:06.147771Z"
    }
   },
   "outputs": [
    {
     "data": {
      "application/vnd.jupyter.widget-view+json": {
       "model_id": "e58d969d27e74b9c8c5bb1248668a6d8",
       "version_major": 2,
       "version_minor": 0
      },
      "text/plain": [
       "  0%|          | 0/8456 [00:00<?, ?it/s]"
      ]
     },
     "metadata": {},
     "output_type": "display_data"
    }
   ],
   "source": [
    "dfs = []\n",
    "for d in process_map(get_df , pd.Series([result[i] for i in range(0,len(result),8)]), tqdm_class=tqdm, max_workers=mp.cpu_count()-1, chunksize=5):    \n",
    "    dfs = [*dfs, *d]\n",
    "df_result = pd.concat(dfs, axis=0)"
   ]
  },
  {
   "cell_type": "code",
   "execution_count": 257,
   "metadata": {
    "ExecuteTime": {
     "end_time": "2021-12-01T18:33:00.194577Z",
     "start_time": "2021-12-01T18:32:59.764799Z"
    }
   },
   "outputs": [],
   "source": [
    "freq = pd.DataFrame()\n",
    "temp = df_result.iloc[::2,:]\n",
    "col = temp.columns\n",
    "out0 = {}\n",
    "out1 = {}\n",
    "for i in range(len(col)):        \n",
    "    if(i < 2):\n",
    "        out0[col[i]] = \"\"\n",
    "        out1[col[i]] = \"\"\n",
    "    if(i == 2):\n",
    "        out0[col[i]] = \"not connected\"\n",
    "        out1[col[i]] = \"connected\"\n",
    "    else:    \n",
    "        out0[col[i]] = round(sum(temp[col[i]] == '0') / sum(temp[col[i]] != '*'), 3)\n",
    "        out1[col[i]] = round((sum(temp[col[i]] != '0') - sum(temp[col[i]] == '*')) / sum(temp[col[i]] != '*'), 3)\n",
    "freq = pd.concat([freq, pd.Series(out0).to_frame().T])\n",
    "freq = pd.concat([freq, pd.Series(out1).to_frame().T])"
   ]
  },
  {
   "cell_type": "code",
   "execution_count": 258,
   "metadata": {
    "ExecuteTime": {
     "end_time": "2021-12-01T18:33:03.263037Z",
     "start_time": "2021-12-01T18:33:00.198081Z"
    }
   },
   "outputs": [
    {
     "data": {
      "application/vnd.jupyter.widget-view+json": {
       "model_id": "89e18282194b49108a6930d8ebcbb6bf",
       "version_major": 2,
       "version_minor": 0
      },
      "text/plain": [
       "  0%|          | 0/16 [00:00<?, ?it/s]"
      ]
     },
     "metadata": {},
     "output_type": "display_data"
    }
   ],
   "source": [
    "profile = pd.DataFrame()\n",
    "temp = df_result.iloc[1::2,:]\n",
    "col = temp.columns\n",
    "for c in tqdm(['A','C','G','T','U','R','Y','K','M','S','W','B','D','H','V','N']):    \n",
    "    out = {}\n",
    "    for i in range(len(col)):        \n",
    "        if(i < 2):\n",
    "            out[col[i]] = \"\"\n",
    "        if(i == 2):\n",
    "            out[col[i]] = c\n",
    "        else:    \n",
    "            out[col[i]] = round((sum(temp[col[i]] == c)  + sum(temp[col[i]] == c.lower()) ) / sum(temp[col[i]] != '*'), 3)\n",
    "    profile = pd.concat([profile, pd.Series(out).to_frame().T])"
   ]
  },
  {
   "cell_type": "code",
   "execution_count": 259,
   "metadata": {
    "ExecuteTime": {
     "end_time": "2021-12-01T18:33:03.445836Z",
     "start_time": "2021-12-01T18:33:03.266701Z"
    }
   },
   "outputs": [],
   "source": [
    "df_result = pd.concat([df_result.iloc[::2,:], profile, freq], axis=0)\n",
    "df_result.to_csv('non_high_confidence_viridiplantae.csv', index=False)"
   ]
  }
 ],
 "metadata": {
  "hide_input": false,
  "kernelspec": {
   "display_name": "Python 3",
   "language": "python",
   "name": "python3"
  },
  "language_info": {
   "codemirror_mode": {
    "name": "ipython",
    "version": 3
   },
   "file_extension": ".py",
   "mimetype": "text/x-python",
   "name": "python",
   "nbconvert_exporter": "python",
   "pygments_lexer": "ipython3",
   "version": "3.8.10"
  },
  "varInspector": {
   "cols": {
    "lenName": 16,
    "lenType": 16,
    "lenVar": 40
   },
   "kernels_config": {
    "python": {
     "delete_cmd_postfix": "",
     "delete_cmd_prefix": "del ",
     "library": "var_list.py",
     "varRefreshCmd": "print(var_dic_list())"
    },
    "r": {
     "delete_cmd_postfix": ") ",
     "delete_cmd_prefix": "rm(",
     "library": "var_list.r",
     "varRefreshCmd": "cat(var_dic_list()) "
    }
   },
   "types_to_exclude": [
    "module",
    "function",
    "builtin_function_or_method",
    "instance",
    "_Feature"
   ],
   "window_display": false
  }
 },
 "nbformat": 4,
 "nbformat_minor": 4
}
