{
 "cells": [
  {
   "cell_type": "markdown",
   "metadata": {
    "heading_collapsed": true
   },
   "source": [
    "# Common"
   ]
  },
  {
   "cell_type": "code",
   "execution_count": 1,
   "metadata": {
    "ExecuteTime": {
     "end_time": "2021-11-30T18:42:57.687523Z",
     "start_time": "2021-11-30T18:42:57.198146Z"
    },
    "hidden": true
   },
   "outputs": [],
   "source": [
    "import math\n",
    "import numpy as np\n",
    "import pandas as pd\n",
    "from tqdm.contrib.concurrent import process_map\n",
    "from tqdm.notebook import tqdm\n",
    "tqdm.pandas()\n",
    "import multiprocessing as mp\n",
    "import shutil\n",
    "import glob\n",
    "import os\n",
    "import sys\n",
    "if sys.version_info[0] < 3: \n",
    "    from StringIO import StringIO\n",
    "else:\n",
    "    from io import StringIO"
   ]
  },
  {
   "cell_type": "code",
   "execution_count": 2,
   "metadata": {
    "ExecuteTime": {
     "end_time": "2021-11-30T18:42:57.698456Z",
     "start_time": "2021-11-30T18:42:57.690801Z"
    },
    "hidden": true
   },
   "outputs": [],
   "source": [
    "def fasta_to_df(path):\n",
    "    with open(path, 'r') as file:\n",
    "        text = file.read()\n",
    "    lines = [line for line in text.split('\\n') if len(line) > 0]\n",
    "    s = ''\n",
    "    tags = []\n",
    "    data = []\n",
    "    for l in lines:\n",
    "        if(l[0]=='>'):\n",
    "            tags.append(l)        \n",
    "            data.append(s)\n",
    "            s = ''\n",
    "        else:\n",
    "            s += l    \n",
    "    data.append(s)\n",
    "    df = pd.DataFrame(\n",
    "            {\n",
    "                'tag': tags,\n",
    "                'data': data[1:]\n",
    "            })\n",
    "    df['tag'] = df['tag'].apply(lambda x: x[1:])    \n",
    "    return df"
   ]
  },
  {
   "cell_type": "code",
   "execution_count": 3,
   "metadata": {
    "ExecuteTime": {
     "end_time": "2021-11-30T18:42:57.707206Z",
     "start_time": "2021-11-30T18:42:57.702047Z"
    },
    "hidden": true
   },
   "outputs": [],
   "source": [
    "def df_to_fasta(df, path):\n",
    "    lines = []\n",
    "    df.apply(lambda row: lines.append(f\">{row['tag']}\\n{row['data']}\\n\"),axis=1)\n",
    "    with open(path,'w') as file:\n",
    "        file.write(''.join(lines))"
   ]
  },
  {
   "cell_type": "code",
   "execution_count": 4,
   "metadata": {
    "ExecuteTime": {
     "end_time": "2021-11-30T18:42:57.739085Z",
     "start_time": "2021-11-30T18:42:57.735077Z"
    },
    "hidden": true
   },
   "outputs": [],
   "source": [
    "def reformat(path):\n",
    "    return path.replace('(','_').replace(')','_').replace('.','').replace(':','_')"
   ]
  },
  {
   "cell_type": "code",
   "execution_count": 5,
   "metadata": {
    "ExecuteTime": {
     "end_time": "2021-11-30T18:42:57.901479Z",
     "start_time": "2021-11-30T18:42:57.893066Z"
    },
    "hidden": true
   },
   "outputs": [],
   "source": [
    "def reformatCT(path):\n",
    "    with open(path, 'r') as file:\n",
    "        text = file.read()\n",
    "    text = [l for l in text.split('\\n') if len(l) > 0 ] # remove blank lines\n",
    "    text = '\\n'.join(text)\n",
    "    text = text.replace(\"\\t\",\" \")\n",
    "    while(\"  \" in text):\n",
    "        text = text.replace(\"  \", \" \")\n",
    "    lines = [l for l in text.split('\\n')]\n",
    "    for i in range(len(lines)):\n",
    "        if(lines[i][0] == \" \"):\n",
    "            lines[i] = lines[i][1:]\n",
    "        if(lines[i][-1] == \" \"):\n",
    "            lines[i] = lines[i][:-1]\n",
    "    text = '\\n'.join(lines)\n",
    "    return text"
   ]
  },
  {
   "cell_type": "code",
   "execution_count": 6,
   "metadata": {
    "ExecuteTime": {
     "end_time": "2021-11-30T18:42:58.056302Z",
     "start_time": "2021-11-30T18:42:58.049255Z"
    },
    "hidden": true
   },
   "outputs": [],
   "source": [
    "def get_ct_data(ct):\n",
    "    ct = \"\\n\".join(ct.split('\\n')[1:])\n",
    "    df = pd.read_csv(StringIO(ct), sep=\" \", header=None)               \n",
    "    nucleotide = df.iloc[:,1]\n",
    "    index = df.iloc[:,5]\n",
    "    values = df.iloc[:,4]\n",
    "    return [nucleotide, index, values]"
   ]
  },
  {
   "cell_type": "markdown",
   "metadata": {},
   "source": [
    "# Download data from Mirbase"
   ]
  },
  {
   "cell_type": "code",
   "execution_count": 19,
   "metadata": {
    "ExecuteTime": {
     "end_time": "2021-11-30T18:47:39.816187Z",
     "start_time": "2021-11-30T18:47:39.811910Z"
    }
   },
   "outputs": [],
   "source": [
    "directory = 'miRBase_driven_data'"
   ]
  },
  {
   "cell_type": "code",
   "execution_count": 18,
   "metadata": {
    "ExecuteTime": {
     "end_time": "2021-11-14T15:38:44.732483Z",
     "start_time": "2021-11-14T15:38:31.128444Z"
    }
   },
   "outputs": [
    {
     "name": "stdout",
     "output_type": "stream",
     "text": [
      "--2021-11-14 19:08:31--  https://www.mirbase.org/ftp/CURRENT/aliases.txt.gz\n",
      "Resolving www.mirbase.org (www.mirbase.org)... 130.88.97.249\n",
      "Connecting to www.mirbase.org (www.mirbase.org)|130.88.97.249|:443... connected.\n",
      "HTTP request sent, awaiting response... 200 OK\n",
      "Length: 480536 (469K) [application/x-gzip]\n",
      "Saving to: ‘./miRBase_driven_data/aliases.txt.gz’\n",
      "\n",
      "aliases.txt.gz      100%[===================>] 469.27K   469KB/s    in 1.0s    \n",
      "\n",
      "2021-11-14 19:08:32 (469 KB/s) - ‘./miRBase_driven_data/aliases.txt.gz’ saved [480536/480536]\n",
      "\n",
      "--2021-11-14 19:08:33--  https://www.mirbase.org/ftp/CURRENT/hairpin.fa.gz\n",
      "Resolving www.mirbase.org (www.mirbase.org)... 130.88.97.249\n",
      "Connecting to www.mirbase.org (www.mirbase.org)|130.88.97.249|:443... connected.\n",
      "HTTP request sent, awaiting response... 200 OK\n",
      "Length: 1547350 (1.5M) [application/x-gzip]\n",
      "Saving to: ‘./miRBase_driven_data/hairpin.fa.gz’\n",
      "\n",
      "hairpin.fa.gz       100%[===================>]   1.48M   995KB/s    in 1.5s    \n",
      "\n",
      "2021-11-14 19:08:34 (995 KB/s) - ‘./miRBase_driven_data/hairpin.fa.gz’ saved [1547350/1547350]\n",
      "\n",
      "--2021-11-14 19:08:35--  https://www.mirbase.org/ftp/CURRENT/hairpin_high_conf.fa.gz\n",
      "Resolving www.mirbase.org (www.mirbase.org)... 130.88.97.249\n",
      "Connecting to www.mirbase.org (www.mirbase.org)|130.88.97.249|:443... connected.\n",
      "HTTP request sent, awaiting response... 200 OK\n",
      "Length: 129596 (127K) [application/x-gzip]\n",
      "Saving to: ‘./miRBase_driven_data/hairpin_high_conf.fa.gz’\n",
      "\n",
      "hairpin_high_conf.f 100%[===================>] 126.56K   208KB/s    in 0.6s    \n",
      "\n",
      "2021-11-14 19:08:36 (208 KB/s) - ‘./miRBase_driven_data/hairpin_high_conf.fa.gz’ saved [129596/129596]\n",
      "\n",
      "--2021-11-14 19:08:36--  https://www.mirbase.org/ftp/CURRENT/mature.fa.gz\n",
      "Resolving www.mirbase.org (www.mirbase.org)... 130.88.97.249\n",
      "Connecting to www.mirbase.org (www.mirbase.org)|130.88.97.249|:443... connected.\n",
      "HTTP request sent, awaiting response... 200 OK\n",
      "Length: 803746 (785K) [application/x-gzip]\n",
      "Saving to: ‘./miRBase_driven_data/mature.fa.gz’\n",
      "\n",
      "mature.fa.gz        100%[===================>] 784.91K   595KB/s    in 1.3s    \n",
      "\n",
      "2021-11-14 19:08:38 (595 KB/s) - ‘./miRBase_driven_data/mature.fa.gz’ saved [803746/803746]\n",
      "\n",
      "--2021-11-14 19:08:38--  https://www.mirbase.org/ftp/CURRENT/mature_high_conf.fa.gz\n",
      "Resolving www.mirbase.org (www.mirbase.org)... 130.88.97.249\n",
      "Connecting to www.mirbase.org (www.mirbase.org)|130.88.97.249|:443... connected.\n",
      "HTTP request sent, awaiting response... 200 OK\n",
      "Length: 69381 (68K) [application/x-gzip]\n",
      "Saving to: ‘./miRBase_driven_data/mature_high_conf.fa.gz’\n",
      "\n",
      "mature_high_conf.fa 100%[===================>]  67.75K   134KB/s    in 0.5s    \n",
      "\n",
      "2021-11-14 19:08:39 (134 KB/s) - ‘./miRBase_driven_data/mature_high_conf.fa.gz’ saved [69381/69381]\n",
      "\n",
      "--2021-11-14 19:08:39--  https://www.mirbase.org/ftp/CURRENT/miRNA.str.gz\n",
      "Resolving www.mirbase.org (www.mirbase.org)... 130.88.97.249\n",
      "Connecting to www.mirbase.org (www.mirbase.org)|130.88.97.249|:443... connected.\n",
      "HTTP request sent, awaiting response... 200 OK\n",
      "Length: 3373763 (3.2M) [application/x-gzip]\n",
      "Saving to: ‘./miRBase_driven_data/miRNA.str.gz’\n",
      "\n",
      "miRNA.str.gz        100%[===================>]   3.22M  1.77MB/s    in 1.8s    \n",
      "\n",
      "2021-11-14 19:08:41 (1.77 MB/s) - ‘./miRBase_driven_data/miRNA.str.gz’ saved [3373763/3373763]\n",
      "\n",
      "--2021-11-14 19:08:41--  https://www.mirbase.org/ftp/CURRENT/miRNA.xls.gz\n",
      "Resolving www.mirbase.org (www.mirbase.org)... 130.88.97.249\n",
      "Connecting to www.mirbase.org (www.mirbase.org)|130.88.97.249|:443... connected.\n",
      "HTTP request sent, awaiting response... 200 OK\n",
      "Length: 2963404 (2.8M) [application/x-gzip]\n",
      "Saving to: ‘./miRBase_driven_data/miRNA.xls.gz’\n",
      "\n",
      "miRNA.xls.gz        100%[===================>]   2.83M  1.65MB/s    in 1.7s    \n",
      "\n",
      "2021-11-14 19:08:43 (1.65 MB/s) - ‘./miRBase_driven_data/miRNA.xls.gz’ saved [2963404/2963404]\n",
      "\n",
      "--2021-11-14 19:08:44--  https://www.mirbase.org/ftp/CURRENT/organisms.txt.gz\n",
      "Resolving www.mirbase.org (www.mirbase.org)... 130.88.97.249\n",
      "Connecting to www.mirbase.org (www.mirbase.org)|130.88.97.249|:443... connected.\n",
      "HTTP request sent, awaiting response... 200 OK\n",
      "Length: 6842 (6.7K) [application/x-gzip]\n",
      "Saving to: ‘./miRBase_driven_data/organisms.txt.gz’\n",
      "\n",
      "organisms.txt.gz    100%[===================>]   6.68K  --.-KB/s    in 0s      \n",
      "\n",
      "2021-11-14 19:08:44 (132 MB/s) - ‘./miRBase_driven_data/organisms.txt.gz’ saved [6842/6842]\n",
      "\n"
     ]
    }
   ],
   "source": [
    "base = \"https://www.mirbase.org/ftp/CURRENT\"        \n",
    "!rm -r {directory}\n",
    "!mkdir -p {directory}\n",
    "!wget {base}/aliases.txt.gz -P ./{directory}/       ; gzip -d ./{directory}/aliases.txt.gz \n",
    "!wget {base}/hairpin.fa.gz -P ./{directory}/           ; gzip -d ./{directory}/hairpin.fa.gz \n",
    "!wget {base}/hairpin_high_conf.fa.gz -P ./{directory}/ ; gzip -d ./{directory}/hairpin_high_conf.fa.gz \n",
    "!wget {base}/mature.fa.gz -P ./{directory}/            ; gzip -d ./{directory}/mature.fa.gz \n",
    "!wget {base}/mature_high_conf.fa.gz -P ./{directory}/  ; gzip -d ./{directory}/mature_high_conf.fa.gz\n",
    "!wget {base}/miRNA.str.gz -P ./{directory}/            ; gzip -d ./{directory}/miRNA.str.gz \n",
    "!wget {base}/miRNA.xls.gz -P ./{directory}/            ; gzip -d ./{directory}/miRNA.xls.gz \n",
    "!wget {base}/organisms.txt.gz -P ./{directory}/        ; gzip -d ./{directory}/organisms.txt.gz"
   ]
  },
  {
   "cell_type": "code",
   "execution_count": 119,
   "metadata": {
    "ExecuteTime": {
     "end_time": "2021-11-30T19:44:38.845016Z",
     "start_time": "2021-11-30T19:44:38.814295Z"
    }
   },
   "outputs": [
    {
     "name": "stdout",
     "output_type": "stream",
     "text": [
      "(3320, 4)\n"
     ]
    },
    {
     "data": {
      "text/html": [
       "<div>\n",
       "<style scoped>\n",
       "    .dataframe tbody tr th:only-of-type {\n",
       "        vertical-align: middle;\n",
       "    }\n",
       "\n",
       "    .dataframe tbody tr th {\n",
       "        vertical-align: top;\n",
       "    }\n",
       "\n",
       "    .dataframe thead th {\n",
       "        text-align: right;\n",
       "    }\n",
       "</style>\n",
       "<table border=\"1\" class=\"dataframe\">\n",
       "  <thead>\n",
       "    <tr style=\"text-align: right;\">\n",
       "      <th></th>\n",
       "      <th>tag</th>\n",
       "      <th>data</th>\n",
       "      <th>organism</th>\n",
       "      <th>length</th>\n",
       "    </tr>\n",
       "  </thead>\n",
       "  <tbody>\n",
       "    <tr>\n",
       "      <th>0</th>\n",
       "      <td>cel-let-7 MI0000001 Caenorhabditis elegans let...</td>\n",
       "      <td>UACACUGUGGAUCCGGUGAGGUAGUAGGUUGUAUAGUUUGGAAUAU...</td>\n",
       "      <td>cel</td>\n",
       "      <td>99</td>\n",
       "    </tr>\n",
       "    <tr>\n",
       "      <th>1</th>\n",
       "      <td>cel-lin-4 MI0000002 Caenorhabditis elegans lin...</td>\n",
       "      <td>AUGCUUCCGGCCUGUUCCCUGAGACCUCAAGUGUGAGUGUACUAUU...</td>\n",
       "      <td>cel</td>\n",
       "      <td>94</td>\n",
       "    </tr>\n",
       "  </tbody>\n",
       "</table>\n",
       "</div>"
      ],
      "text/plain": [
       "                                                 tag  \\\n",
       "0  cel-let-7 MI0000001 Caenorhabditis elegans let...   \n",
       "1  cel-lin-4 MI0000002 Caenorhabditis elegans lin...   \n",
       "\n",
       "                                                data organism  length  \n",
       "0  UACACUGUGGAUCCGGUGAGGUAGUAGGUUGUAUAGUUUGGAAUAU...      cel      99  \n",
       "1  AUGCUUCCGGCCUGUUCCCUGAGACCUCAAGUGUGAGUGUACUAUU...      cel      94  "
      ]
     },
     "execution_count": 119,
     "metadata": {},
     "output_type": "execute_result"
    }
   ],
   "source": [
    "df = fasta_to_df(f'./{directory}/hairpin_high_conf.fa')\n",
    "df['organism'] = df['tag'].apply(lambda x: x[:3])\n",
    "df['length'] = df['data'].apply(lambda x: len(x))\n",
    "print(df.shape)\n",
    "df.head(2)"
   ]
  },
  {
   "cell_type": "code",
   "execution_count": 120,
   "metadata": {
    "ExecuteTime": {
     "end_time": "2021-11-30T19:44:40.138162Z",
     "start_time": "2021-11-30T19:44:40.117799Z"
    }
   },
   "outputs": [
    {
     "name": "stdout",
     "output_type": "stream",
     "text": [
      "(285, 5)\n"
     ]
    },
    {
     "data": {
      "text/html": [
       "<div>\n",
       "<style scoped>\n",
       "    .dataframe tbody tr th:only-of-type {\n",
       "        vertical-align: middle;\n",
       "    }\n",
       "\n",
       "    .dataframe tbody tr th {\n",
       "        vertical-align: top;\n",
       "    }\n",
       "\n",
       "    .dataframe thead th {\n",
       "        text-align: right;\n",
       "    }\n",
       "</style>\n",
       "<table border=\"1\" class=\"dataframe\">\n",
       "  <thead>\n",
       "    <tr style=\"text-align: right;\">\n",
       "      <th></th>\n",
       "      <th>organism</th>\n",
       "      <th>division</th>\n",
       "      <th>name</th>\n",
       "      <th>tree</th>\n",
       "      <th>NCBI-taxid</th>\n",
       "    </tr>\n",
       "  </thead>\n",
       "  <tbody>\n",
       "    <tr>\n",
       "      <th>0</th>\n",
       "      <td>aqu</td>\n",
       "      <td>AQU</td>\n",
       "      <td>Amphimedon queenslandica</td>\n",
       "      <td>Metazoa;Porifera;</td>\n",
       "      <td>400682</td>\n",
       "    </tr>\n",
       "    <tr>\n",
       "      <th>1</th>\n",
       "      <td>nve</td>\n",
       "      <td>NVE</td>\n",
       "      <td>Nematostella vectensis</td>\n",
       "      <td>Metazoa;Cnidaria;</td>\n",
       "      <td>45351</td>\n",
       "    </tr>\n",
       "  </tbody>\n",
       "</table>\n",
       "</div>"
      ],
      "text/plain": [
       "  organism division                      name               tree  NCBI-taxid\n",
       "0      aqu      AQU  Amphimedon queenslandica  Metazoa;Porifera;      400682\n",
       "1      nve      NVE    Nematostella vectensis  Metazoa;Cnidaria;       45351"
      ]
     },
     "execution_count": 120,
     "metadata": {},
     "output_type": "execute_result"
    }
   ],
   "source": [
    "organism = pd.read_csv(f'./{directory}/organisms.txt',sep='\\t')\n",
    "organism.columns = [c.replace('#','') for c in organism.columns] # remove sharp from columns\n",
    "print(organism.shape)\n",
    "organism.head(2)"
   ]
  },
  {
   "cell_type": "code",
   "execution_count": 121,
   "metadata": {
    "ExecuteTime": {
     "end_time": "2021-11-30T19:44:41.927155Z",
     "start_time": "2021-11-30T19:44:41.921960Z"
    }
   },
   "outputs": [],
   "source": [
    "items = list(organism['tree'].unique())\n",
    "items.sort(key=len)"
   ]
  },
  {
   "cell_type": "code",
   "execution_count": 122,
   "metadata": {
    "ExecuteTime": {
     "end_time": "2021-11-30T19:45:13.577399Z",
     "start_time": "2021-11-30T19:45:13.560396Z"
    }
   },
   "outputs": [
    {
     "name": "stdout",
     "output_type": "stream",
     "text": [
      "(199, 5)\n"
     ]
    },
    {
     "data": {
      "text/html": [
       "<div>\n",
       "<style scoped>\n",
       "    .dataframe tbody tr th:only-of-type {\n",
       "        vertical-align: middle;\n",
       "    }\n",
       "\n",
       "    .dataframe tbody tr th {\n",
       "        vertical-align: top;\n",
       "    }\n",
       "\n",
       "    .dataframe thead th {\n",
       "        text-align: right;\n",
       "    }\n",
       "</style>\n",
       "<table border=\"1\" class=\"dataframe\">\n",
       "  <thead>\n",
       "    <tr style=\"text-align: right;\">\n",
       "      <th></th>\n",
       "      <th>organism</th>\n",
       "      <th>division</th>\n",
       "      <th>name</th>\n",
       "      <th>tree</th>\n",
       "      <th>NCBI-taxid</th>\n",
       "    </tr>\n",
       "  </thead>\n",
       "  <tbody>\n",
       "    <tr>\n",
       "      <th>0</th>\n",
       "      <td>aqu</td>\n",
       "      <td>AQU</td>\n",
       "      <td>Amphimedon queenslandica</td>\n",
       "      <td>Metazoa;Porifera;</td>\n",
       "      <td>400682</td>\n",
       "    </tr>\n",
       "    <tr>\n",
       "      <th>1</th>\n",
       "      <td>nve</td>\n",
       "      <td>NVE</td>\n",
       "      <td>Nematostella vectensis</td>\n",
       "      <td>Metazoa;Cnidaria;</td>\n",
       "      <td>45351</td>\n",
       "    </tr>\n",
       "  </tbody>\n",
       "</table>\n",
       "</div>"
      ],
      "text/plain": [
       "  organism division                      name               tree  NCBI-taxid\n",
       "0      aqu      AQU  Amphimedon queenslandica  Metazoa;Porifera;      400682\n",
       "1      nve      NVE    Nematostella vectensis  Metazoa;Cnidaria;       45351"
      ]
     },
     "execution_count": 122,
     "metadata": {},
     "output_type": "execute_result"
    }
   ],
   "source": [
    "selectedTree = organism[organism['tree'].apply(lambda x: \"Viridiplantae;\" not in x)]\n",
    "print(selectedTree.shape)\n",
    "selectedTree.head(2)"
   ]
  },
  {
   "cell_type": "code",
   "execution_count": 123,
   "metadata": {
    "ExecuteTime": {
     "end_time": "2021-11-30T19:45:15.934892Z",
     "start_time": "2021-11-30T19:45:15.917275Z"
    },
    "scrolled": false
   },
   "outputs": [
    {
     "name": "stdout",
     "output_type": "stream",
     "text": [
      "(3160, 4)\n"
     ]
    },
    {
     "data": {
      "text/html": [
       "<div>\n",
       "<style scoped>\n",
       "    .dataframe tbody tr th:only-of-type {\n",
       "        vertical-align: middle;\n",
       "    }\n",
       "\n",
       "    .dataframe tbody tr th {\n",
       "        vertical-align: top;\n",
       "    }\n",
       "\n",
       "    .dataframe thead th {\n",
       "        text-align: right;\n",
       "    }\n",
       "</style>\n",
       "<table border=\"1\" class=\"dataframe\">\n",
       "  <thead>\n",
       "    <tr style=\"text-align: right;\">\n",
       "      <th></th>\n",
       "      <th>tag</th>\n",
       "      <th>data</th>\n",
       "      <th>organism</th>\n",
       "      <th>length</th>\n",
       "    </tr>\n",
       "  </thead>\n",
       "  <tbody>\n",
       "    <tr>\n",
       "      <th>0</th>\n",
       "      <td>cel-let-7 MI0000001 Caenorhabditis elegans let...</td>\n",
       "      <td>UACACUGUGGAUCCGGUGAGGUAGUAGGUUGUAUAGUUUGGAAUAU...</td>\n",
       "      <td>cel</td>\n",
       "      <td>99</td>\n",
       "    </tr>\n",
       "    <tr>\n",
       "      <th>1</th>\n",
       "      <td>cel-lin-4 MI0000002 Caenorhabditis elegans lin...</td>\n",
       "      <td>AUGCUUCCGGCCUGUUCCCUGAGACCUCAAGUGUGAGUGUACUAUU...</td>\n",
       "      <td>cel</td>\n",
       "      <td>94</td>\n",
       "    </tr>\n",
       "  </tbody>\n",
       "</table>\n",
       "</div>"
      ],
      "text/plain": [
       "                                                 tag  \\\n",
       "0  cel-let-7 MI0000001 Caenorhabditis elegans let...   \n",
       "1  cel-lin-4 MI0000002 Caenorhabditis elegans lin...   \n",
       "\n",
       "                                                data organism  length  \n",
       "0  UACACUGUGGAUCCGGUGAGGUAGUAGGUUGUAUAGUUUGGAAUAU...      cel      99  \n",
       "1  AUGCUUCCGGCCUGUUCCCUGAGACCUCAAGUGUGAGUGUACUAUU...      cel      94  "
      ]
     },
     "execution_count": 123,
     "metadata": {},
     "output_type": "execute_result"
    }
   ],
   "source": [
    "selected = df[df['organism'].isin(selectedTree['organism'])]\n",
    "print(selected.shape)\n",
    "selected.head(2)"
   ]
  },
  {
   "cell_type": "code",
   "execution_count": 124,
   "metadata": {
    "ExecuteTime": {
     "end_time": "2021-11-30T19:45:21.739698Z",
     "start_time": "2021-11-30T19:45:19.556941Z"
    }
   },
   "outputs": [],
   "source": [
    "# use this cell for extracting str files for hairpin.fa\n",
    "tags = list(selected['tag'].apply(lambda x : x.split(' ')[0]))\n",
    "with open(f'./{directory}/miRNA.str', 'r') as file:\n",
    "    text = file.read()\n",
    "text = text.split('\\n')\n",
    "\n",
    "result = ''\n",
    "for i in range(0,len(text),8):\n",
    "    if(text[i].split(' ')[0][1:] in tags):\n",
    "        result += '\\n'.join(text[i:i+8]) + \"\\n\"        \n",
    "with open(f'./high_conf_hairpin.str', 'w') as file:\n",
    "    file.write(result)"
   ]
  },
  {
   "cell_type": "code",
   "execution_count": 125,
   "metadata": {
    "ExecuteTime": {
     "end_time": "2021-11-30T19:45:22.769932Z",
     "start_time": "2021-11-30T19:45:22.762871Z"
    },
    "scrolled": false
   },
   "outputs": [],
   "source": [
    "result = result.split('\\n')"
   ]
  },
  {
   "cell_type": "code",
   "execution_count": 126,
   "metadata": {
    "ExecuteTime": {
     "end_time": "2021-11-30T19:45:23.266893Z",
     "start_time": "2021-11-30T19:45:23.261120Z"
    }
   },
   "outputs": [],
   "source": [
    "def get_path(header): \n",
    "    path = []\n",
    "    tag = header.split(' ')[0][1:]    \n",
    "    sides = [t.split(']')[0] for t in header.split('[') if ']' in t]        \n",
    "    for s in sides:\n",
    "        path.append(f'{tag}*|+|1-*|{s.split(\":\")[-1]}')                        \n",
    "    return path"
   ]
  },
  {
   "cell_type": "code",
   "execution_count": 127,
   "metadata": {
    "ExecuteTime": {
     "end_time": "2021-11-30T19:45:24.952691Z",
     "start_time": "2021-11-30T19:45:24.929929Z"
    }
   },
   "outputs": [],
   "source": [
    "extra = 5\n",
    "server_url = \"http://jupyter.sysmanager.ir/tree/plant_microRNA_prediction\"\n",
    "\n",
    "def get_data(ct_path, str_header):\n",
    "    out = {}\n",
    "    ct = reformatCT(ct_path)\n",
    "    header = ct.split('\\n')[0]\n",
    "    [hs, he] = header.split('|')[-1].split('-')\n",
    "    [hs, he] = [int(hs), int(he)]        \n",
    "    [nucleotide, index, values] = get_ct_data(ct)\n",
    "    values = list(values)        \n",
    "    if((hs - extra) < 1 or (he + extra) > len(values)):\n",
    "        feature = [*values[max(hs - extra - 1,0) : hs + extra], *values[he - extra - 1 : min(he + extra,len(values))]]            \n",
    "        if((hs - extra) < 1):\n",
    "            for i in range(1 - (hs - extra)):\n",
    "                feature = ['*', *feature]                                \n",
    "        if((he + extra) > len(values)):\n",
    "            for i in range((he + extra) -  len(values)):\n",
    "                feature = [*feature, '*']                                        \n",
    "    else:\n",
    "        feature = [*values[hs - extra - 1 : hs + extra], *values[he - extra - 1 : he + extra]]            \n",
    "    columns = [* [f'-{i} hit_start' for i in range(extra,0,-1)],\n",
    "                'hit_start',\n",
    "                *[f'+{i} hit_start' for i in range(1,extra+1)],                                               \n",
    "                *[f'-{i} hit_end' for i in range(extra,0,-1)],\n",
    "                'hit_end',\n",
    "                *[f'+{i} hit_end' for i in range(1,extra+1)]]\n",
    "        \n",
    "    tag = str_header.split(' ')[0]    \n",
    "    organism_name = selectedTree[selectedTree['organism'] == tag.split('-')[0][1:]]['name'].iloc[0]\n",
    "    feature = [f'=HYPERLINK(\"{server_url}/{ct_path}\",\"ct\")',tag , organism_name, *feature]\n",
    "    columns = ['ct', 'tag','organism name', *columns]\n",
    "    df = pd.DataFrame([feature],columns=columns)        \n",
    "    return df"
   ]
  },
  {
   "cell_type": "code",
   "execution_count": 131,
   "metadata": {
    "ExecuteTime": {
     "end_time": "2021-11-30T19:47:30.431940Z",
     "start_time": "2021-11-30T19:47:30.425720Z"
    }
   },
   "outputs": [],
   "source": [
    "def get_df(header):\n",
    "    dfs =[]    \n",
    "    for path in get_path(header):                                \n",
    "        ct_path = glob.glob(f'./CT/{path}.ct')\n",
    "        if(len(ct_path) > 1 ):\n",
    "            print(ct_path,\"****\")\n",
    "        if(len(ct_path) == 0):\n",
    "            print(f'there is not ./CT/{path}.ct file')\n",
    "            continue\n",
    "        ct_path = ct_path[0]            \n",
    "        dfs.append(get_data(ct_path, header))  \n",
    "    return dfs"
   ]
  },
  {
   "cell_type": "code",
   "execution_count": 132,
   "metadata": {
    "ExecuteTime": {
     "end_time": "2021-11-30T19:48:22.047402Z",
     "start_time": "2021-11-30T19:47:30.878875Z"
    }
   },
   "outputs": [
    {
     "data": {
      "application/vnd.jupyter.widget-view+json": {
       "model_id": "89aab0f31d5a41649e01b8653aed7862",
       "version_major": 2,
       "version_minor": 0
      },
      "text/plain": [
       "  0%|          | 0/3161 [00:00<?, ?it/s]"
      ]
     },
     "metadata": {},
     "output_type": "display_data"
    },
    {
     "name": "stdout",
     "output_type": "stream",
     "text": [
      "['./CT/cel-mir-35-3p|+|1-97|61-82.ct', './CT/cel-mir-355-3p|+|1-110|61-82.ct'] ****\n",
      "['./CT/cel-mir-124-3p|+|1-96|61-81.ct', './CT/cel-mir-1-3p|+|1-96|61-81.ct'] ****\n",
      "['./CT/hsa-mir-2110|+|1-75|8-29.ct', './CT/hsa-mir-21-5p|+|1-72|8-29.ct'] ****\n",
      "['./CT/cel-mir-2-3p|+|1-98|61-83.ct', './CT/cel-mir-243-3p|+|1-98|61-83.ct', './CT/cel-mir-233-3p|+|1-98|61-83.ct', './CT/cel-mir-236-3p|+|1-98|61-83.ct', './CT/cel-mir-238-3p|+|1-98|61-83.ct', './CT/cel-mir-232-3p|+|1-98|61-83.ct', './CT/cel-mir-230-3p|+|1-98|61-83.ct', './CT/cel-mir-249-3p|+|1-97|61-83.ct'] ****\n",
      "['./CT/cel-mir-4811-3p|+|1-83|54-75.ct', './CT/cel-mir-48-3p|+|1-98|54-75.ct'] ****\n",
      "['./CT/dme-mir-1-3p|+|1-91|56-77.ct', './CT/dme-mir-1002-3p|+|1-89|56-77.ct'] ****\n",
      "['./CT/dme-mir-3641-3p|+|1-69|43-64.ct', './CT/dme-mir-303-3p|+|1-70|43-64.ct', './CT/dme-mir-318-3p|+|1-68|43-64.ct', './CT/dme-mir-312-3p|+|1-66|43-64.ct', './CT/dme-mir-3-3p|+|1-69|43-64.ct'] ****\n",
      "['./CT/hsa-mir-197-3p|+|1-75|48-69.ct', './CT/hsa-mir-1972-2|+|1-77|48-69.ct', './CT/hsa-mir-1972-1|+|1-77|48-69.ct'] ****\n",
      "there is not ./CT/rno-mir-451*|+|1-*|17-38.ct file\n",
      "there is not ./CT/dre-mir-204-1*|+|1-*|18-39.ct file\n",
      "['./CT/dre-mir-430b-19-5p|+|1-81|11-33.ct', './CT/dre-mir-430b-15-5p|+|1-81|11-33.ct', './CT/dre-mir-430b-1-5p|+|1-81|11-33.ct', './CT/dre-mir-430b-16-5p|+|1-81|11-33.ct', './CT/dre-mir-430b-13-5p|+|1-81|11-33.ct', './CT/dre-mir-430b-17-5p|+|1-81|11-33.ct', './CT/dre-mir-430b-12-5p|+|1-81|11-33.ct', './CT/dre-mir-430b-18-5p|+|1-81|11-33.ct', './CT/dre-mir-430b-11-5p|+|1-81|11-33.ct', './CT/dre-mir-430b-10-5p|+|1-81|11-33.ct', './CT/dre-mir-430b-14-5p|+|1-81|11-33.ct'] ****\n",
      "['./CT/dre-mir-430b-10-3p|+|1-81|49-71.ct', './CT/dre-mir-430b-16-3p|+|1-81|49-71.ct', './CT/dre-mir-430b-12-3p|+|1-81|49-71.ct', './CT/dre-mir-430b-11-3p|+|1-81|49-71.ct', './CT/dre-mir-430b-13-3p|+|1-81|49-71.ct', './CT/dre-mir-430b-17-3p|+|1-81|49-71.ct', './CT/dre-mir-430b-15-3p|+|1-81|49-71.ct', './CT/dre-mir-430b-19-3p|+|1-81|49-71.ct', './CT/dre-mir-430b-1-3p|+|1-81|49-71.ct', './CT/dre-mir-430b-18-3p|+|1-81|49-71.ct', './CT/dre-mir-430b-14-3p|+|1-81|49-71.ct'] ****\n",
      "['./CT/dre-mir-430c-12-5p|+|1-73|9-29.ct', './CT/dre-mir-430c-16-5p|+|1-73|9-29.ct', './CT/dre-mir-430c-13-5p|+|1-73|9-29.ct', './CT/dre-mir-430c-11-5p|+|1-73|9-29.ct', './CT/dre-mir-430c-10-5p|+|1-73|9-29.ct', './CT/dre-mir-430c-15-5p|+|1-73|9-29.ct', './CT/dre-mir-430c-17-5p|+|1-73|9-29.ct', './CT/dre-mir-430c-14-5p|+|1-73|9-29.ct', './CT/dre-mir-430c-18-5p|+|1-73|9-29.ct', './CT/dre-mir-430c-1-5p|+|1-73|9-29.ct'] ****\n",
      "['./CT/dre-mir-430c-10-3p|+|1-73|45-66.ct', './CT/dre-mir-430c-18-3p|+|1-73|45-66.ct', './CT/dre-mir-430c-11-3p|+|1-73|45-66.ct', './CT/dre-mir-430c-1-3p|+|1-73|45-66.ct', './CT/dre-mir-430c-16-3p|+|1-73|45-66.ct', './CT/dre-mir-430c-12-3p|+|1-73|45-66.ct', './CT/dre-mir-430c-17-3p|+|1-73|45-66.ct', './CT/dre-mir-430c-15-3p|+|1-73|45-66.ct', './CT/dre-mir-430c-14-3p|+|1-73|45-66.ct', './CT/dre-mir-430c-13-3p|+|1-73|45-66.ct'] ****\n",
      "['./CT/dre-mir-430b-2-5p|+|1-81|11-33.ct', './CT/dre-mir-430b-20-5p|+|1-81|11-33.ct'] ****\n",
      "['./CT/dre-mir-430b-2-3p|+|1-81|49-71.ct', './CT/dre-mir-430b-20-3p|+|1-81|49-71.ct'] ****\n",
      "there is not ./CT/mmu-mir-698*|+|1-*|38-58.ct file\n",
      "['./CT/bmo-mir-1000|+|1-82|15-35.ct', './CT/bmo-mir-10-5p|+|1-84|15-35.ct'] ****\n",
      "there is not ./CT/mmu-mir-147*|+|1-*|12-35.ct file\n",
      "there is not ./CT/oan-mir-1375*|+|1-*|30-51.ct file\n",
      "['./CT/oan-mir-142-5p|+|1-110|29-49.ct', './CT/oan-mir-1422g-5p|+|1-146|29-49.ct'] ****\n",
      "['./CT/oan-mir-1420c-3p|+|1-106|65-86.ct', './CT/oan-mir-142-3p|+|1-110|65-86.ct'] ****\n",
      "there is not ./CT/oan-mir-1365*|+|1-*|31-52.ct file\n",
      "['./CT/bmo-mir-281-5p|+|1-77|11-32.ct', './CT/bmo-mir-2810|+|1-73|11-32.ct'] ****\n",
      "there is not ./CT/mmu-mir-3102*|+|1-*|1-22.ct file\n",
      "there is not ./CT/mmu-mir-3102*|+|1-*|23-43.ct file\n",
      "there is not ./CT/mmu-mir-3102*|+|1-*|60-80.ct file\n",
      "there is not ./CT/mmu-mir-3102*|+|1-*|81-103.ct file\n",
      "there is not ./CT/hsa-mir-3620*|+|1-*|23-44.ct file\n",
      "['./CT/mdo-mir-7356b-5p|+|1-60|1-22.ct', './CT/mdo-mir-7356-5p|+|1-61|1-22.ct'] ****\n",
      "['./CT/mdo-mir-7284-3p|+|1-62|42-62.ct', './CT/mdo-mir-7284b-3p|+|1-62|42-62.ct'] ****\n",
      "['./CT/mdo-mir-7286-5p|+|1-59|1-22.ct', './CT/mdo-mir-7286b-5p|+|1-66|1-22.ct'] ****\n"
     ]
    }
   ],
   "source": [
    "dfs = []\n",
    "for d in process_map(get_df , pd.Series([result[i] for i in range(0,len(result),8)]), tqdm_class=tqdm, max_workers=mp.cpu_count()- 1, chunksize=5):    \n",
    "    dfs = [*dfs, *d]\n",
    "df_result = pd.concat(dfs, axis=0)\n",
    "df_result.to_csv('high_confidence_non_viridiplantae.csv', index=False)"
   ]
  },
  {
   "cell_type": "code",
   "execution_count": null,
   "metadata": {},
   "outputs": [],
   "source": [
    "'non_high_confidence_viridiplantae.csv'\n",
    "'high_confidence_non_viridiplantae.csv'\n",
    "'non_high_confidence_non_viridiplantae.csv'"
   ]
  },
  {
   "cell_type": "code",
   "execution_count": null,
   "metadata": {},
   "outputs": [],
   "source": []
  }
 ],
 "metadata": {
  "hide_input": false,
  "kernelspec": {
   "display_name": "Python 3",
   "language": "python",
   "name": "python3"
  },
  "language_info": {
   "codemirror_mode": {
    "name": "ipython",
    "version": 3
   },
   "file_extension": ".py",
   "mimetype": "text/x-python",
   "name": "python",
   "nbconvert_exporter": "python",
   "pygments_lexer": "ipython3",
   "version": "3.8.10"
  },
  "varInspector": {
   "cols": {
    "lenName": 16,
    "lenType": 16,
    "lenVar": 40
   },
   "kernels_config": {
    "python": {
     "delete_cmd_postfix": "",
     "delete_cmd_prefix": "del ",
     "library": "var_list.py",
     "varRefreshCmd": "print(var_dic_list())"
    },
    "r": {
     "delete_cmd_postfix": ") ",
     "delete_cmd_prefix": "rm(",
     "library": "var_list.r",
     "varRefreshCmd": "cat(var_dic_list()) "
    }
   },
   "types_to_exclude": [
    "module",
    "function",
    "builtin_function_or_method",
    "instance",
    "_Feature"
   ],
   "window_display": false
  }
 },
 "nbformat": 4,
 "nbformat_minor": 4
}
