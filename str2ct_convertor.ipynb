{
 "cells": [
  {
   "cell_type": "markdown",
   "metadata": {},
   "source": [
    "# Download data from Mirbase"
   ]
  },
  {
   "cell_type": "code",
   "execution_count": 48,
   "metadata": {
    "ExecuteTime": {
     "end_time": "2021-12-18T13:06:57.812172Z",
     "start_time": "2021-12-18T13:06:57.805314Z"
    }
   },
   "outputs": [
    {
     "data": {
      "text/plain": [
       "'\\nbase = \"https://www.mirbase.org/ftp/CURRENT\"        \\n!wget {base}/miRNA.str.gz -P ./Data/          \\n!gzip -d ./Data/miRNA.str.gz \\n'"
      ]
     },
     "execution_count": 48,
     "metadata": {},
     "output_type": "execute_result"
    }
   ],
   "source": [
    "'''\n",
    "base = \"https://www.mirbase.org/ftp/CURRENT\"        \n",
    "!wget {base}/miRNA.str.gz -P ./Data/          \n",
    "!gzip -d ./Data/miRNA.str.gz \n",
    "'''"
   ]
  },
  {
   "cell_type": "markdown",
   "metadata": {},
   "source": [
    "# Convertor"
   ]
  },
  {
   "cell_type": "code",
   "execution_count": 72,
   "metadata": {
    "ExecuteTime": {
     "end_time": "2021-12-18T13:10:17.359593Z",
     "start_time": "2021-12-18T13:10:17.355012Z"
    }
   },
   "outputs": [],
   "source": [
    "import numpy as np\n",
    "from tqdm import tqdm, trange  # !pip install tqdm\n",
    "import pandas as pd\n",
    "from tqdm.contrib.concurrent import process_map\n",
    "import multiprocessing as mp"
   ]
  },
  {
   "cell_type": "code",
   "execution_count": 50,
   "metadata": {
    "ExecuteTime": {
     "end_time": "2021-12-18T13:06:58.724914Z",
     "start_time": "2021-12-18T13:06:58.716763Z"
    }
   },
   "outputs": [],
   "source": [
    "def fasta_to_df(path):\n",
    "    with open(path, 'r') as file:\n",
    "        text = file.read()\n",
    "    lines = [line for line in text.split('\\n') if len(line) > 0]\n",
    "    s = ''\n",
    "    tags = []\n",
    "    data = []\n",
    "    for l in lines:\n",
    "        if(l[0]=='>'):\n",
    "            tags.append(l)        \n",
    "            data.append(s)\n",
    "            s = ''\n",
    "        else:\n",
    "            s += l    \n",
    "    data.append(s)\n",
    "    df = pd.DataFrame({'tag': tags, 'data': data[1:]})\n",
    "    df['tag'] = df['tag'].apply(lambda x: x[1:])    \n",
    "    return df"
   ]
  },
  {
   "cell_type": "code",
   "execution_count": 51,
   "metadata": {
    "ExecuteTime": {
     "end_time": "2021-12-18T13:06:59.232829Z",
     "start_time": "2021-12-18T13:06:59.226878Z"
    }
   },
   "outputs": [],
   "source": [
    "def isChar(c):\n",
    "    return not c in [' ', '-', '|']\n",
    "\n",
    "def adjust(text,n=7):\n",
    "    text = str(text)    \n",
    "    return \" \" * (n - len(text)) + text\n",
    "\n",
    "def isMature(c1, c2):\n",
    "    if(c1.isupper() and isChar(c1)):\n",
    "        return True\n",
    "    if(c2.isupper() and isChar(c2)):\n",
    "        return True\n",
    "    return False"
   ]
  },
  {
   "cell_type": "code",
   "execution_count": 52,
   "metadata": {
    "ExecuteTime": {
     "end_time": "2021-12-18T13:06:59.594823Z",
     "start_time": "2021-12-18T13:06:59.588948Z"
    }
   },
   "outputs": [],
   "source": [
    "def get_number(strText):\n",
    "    number = 0 \n",
    "    for i in range(len(strText[2])):\n",
    "        if(isChar(strText[2][i]) or isChar(strText[3][i])):\n",
    "            number += 1    \n",
    "        if(isChar(strText[4][i])):\n",
    "            number += 1    \n",
    "        if(isChar(strText[5][i]) or isChar(strText[6][i])):\n",
    "            number += 1     \n",
    "    return number"
   ]
  },
  {
   "cell_type": "code",
   "execution_count": 53,
   "metadata": {
    "ExecuteTime": {
     "end_time": "2021-12-18T13:06:59.982402Z",
     "start_time": "2021-12-18T13:06:59.975581Z"
    }
   },
   "outputs": [],
   "source": [
    "def get5pInfo(strText):\n",
    "    has_5p = False\n",
    "    s_5p = 0\n",
    "    f_5p = 0\n",
    "    counter = 0\n",
    "    for i in range(len(strText[2])):\n",
    "        if(isChar(strText[2][i]) or isChar(strText[3][i])):\n",
    "            counter += 1            \n",
    "            if(isMature(strText[2][i] ,strText[3][i])):\n",
    "                if(not has_5p):\n",
    "                    has_5p = True\n",
    "                    s_5p = counter\n",
    "                else:\n",
    "                    continue\n",
    "            elif(has_5p):\n",
    "                f_5p = counter - 1 \n",
    "                break\n",
    "    return [has_5p, s_5p, f_5p]"
   ]
  },
  {
   "cell_type": "code",
   "execution_count": 54,
   "metadata": {
    "ExecuteTime": {
     "end_time": "2021-12-18T13:07:00.444856Z",
     "start_time": "2021-12-18T13:07:00.437865Z"
    }
   },
   "outputs": [],
   "source": [
    "def get3pInfo(strText, number):\n",
    "    has_3p = False\n",
    "    s_3p = 0\n",
    "    f_3p = 0\n",
    "    counter = 0\n",
    "    for i in range(len(strText[6])):\n",
    "        if(isChar(strText[6][i]) or isChar(strText[5][i])):\n",
    "            counter += 1            \n",
    "            if(isMature(strText[6][i] ,strText[5][i])):\n",
    "                if(not has_3p):\n",
    "                    has_3p = True\n",
    "                    s_3p = counter\n",
    "                else:\n",
    "                    continue\n",
    "            elif(has_3p):\n",
    "                f_3p = counter - 1 \n",
    "                break        \n",
    "    return [has_3p, number - f_3p + 1, number - s_3p + 1]    "
   ]
  },
  {
   "cell_type": "code",
   "execution_count": 55,
   "metadata": {
    "ExecuteTime": {
     "end_time": "2021-12-18T13:07:00.986084Z",
     "start_time": "2021-12-18T13:07:00.943632Z"
    }
   },
   "outputs": [],
   "source": [
    "#2 [FO:Forward_out]  u    --          a   --    ucua     uu   ----a  u        -             a      gcuu          - a \n",
    "#3 [FI:Forward_in ]   uguc  uugagagggg aga  gauc    ugggu  ugg     gg cUGACAGA AGAGAGUGAGCAC cacggu    ucuuagcaug c a\n",
    "#4 [Mid:Middle    ]   ||||  |||||||||| |||  ||||    |||||  |||     || |||||||| ||||||||||||| ||||||    |||||||||| |  \n",
    "#5 [RI:Reverse_in ]   acag  gacucucuuc ucu  uuag    acccg  acc     cC GACUGUCU UCUCUCACUCGug gugucg    agggucguac g g\n",
    "#6 [RO:Reverse_out]  g    uu          c   aa    uaua     -u   acuug  -        A             c      ----          c a \n",
    "\n",
    "def convertor(strText, output_path = \"CT\"):\n",
    "    !mkdir -p {output_path}\n",
    "    index  = []\n",
    "    values = []\n",
    "    nucludid = []\n",
    "    def add(i, v, n):        \n",
    "        index.append(i)\n",
    "        values.append(v)\n",
    "        nucludid.append(n)\n",
    "            \n",
    "    f_counter = 1\n",
    "    r_counter = 0\n",
    "                    \n",
    "    number = get_number(strText)    \n",
    "    [FO, FI, Mid, RI, RO] = strText[2:]\n",
    "    # main loop    \n",
    "    for i in range(len(Mid)):           \n",
    "        \n",
    "        if(isChar(FO[i]) and FI[i] == \" \" and Mid[i] == \" \" and RI[i] == \" \"  and RO[i] == \"-\" ):\n",
    "            add(f_counter, 0, FO[i])                \n",
    "            f_counter += 1                      \n",
    "                \n",
    "        elif(FO[i] == \"-\" and FI[i] == \" \" and Mid[i] == \" \" and RI[i] == \" \"  and isChar(RO[i])):                                            \n",
    "            add(number - r_counter, 0, RO[i])                \n",
    "            r_counter += 1                      \n",
    "        \n",
    "        elif(isChar(FO[i]) and not isChar(FI[i]) and not isChar(Mid[i]) and not isChar(RI[i]) and isChar(RO[i])):\n",
    "            add(f_counter, 0, FO[i])                    \n",
    "            add(number - r_counter, 0, RO[i])                                \n",
    "            f_counter += 1        \n",
    "            r_counter += 1                              \n",
    "            \n",
    "        elif(not isChar(FO[i]) and isChar(FI[i]) and Mid[i] == \"|\" and isChar(RI[i]) and not isChar(RO[i])):        \n",
    "            add(f_counter, number - r_counter, FI[i])                        \n",
    "            add(number - r_counter, f_counter, RI[i])                \n",
    "            f_counter += 1        \n",
    "            r_counter += 1                  \n",
    "            \n",
    "        elif(not isChar(FO[i]) and isChar(FI[i]) and isChar(Mid[i]) and isChar(RI[i]) and not isChar(RO[i])):\n",
    "            add(f_counter, 0, FI[i])\n",
    "            add(f_counter + 1, 0, Mid[i])\n",
    "            add(number - r_counter, 0, RI[i])\n",
    "            f_counter += 2\n",
    "            r_counter += 1\n",
    "            \n",
    "        elif(not isChar(FO[i]) and isChar(FI[i]) and Mid[i] == \" \" and isChar(RI[i]) and not isChar(RO[i])):                \n",
    "            add(f_counter, 0, FI[i])                    \n",
    "            add(number - r_counter, 0, RI[i])                    \n",
    "            f_counter += 1        \n",
    "            r_counter += 1                  \n",
    "            \n",
    "        elif(not isChar(FO[i]) and not isChar(FI[i]) and isChar(Mid[i]) and not isChar(RI[i]) and not isChar(RO[i])):                \n",
    "            add(f_counter, 0, Mid[i])                                \n",
    "            f_counter += 1                    \n",
    "\n",
    "    # sort indexs and other base on indexes\n",
    "    inds = np.array(index).argsort()\n",
    "    index = np.array(index)[inds]\n",
    "    values = np.array(values)[inds]\n",
    "    nucludid = np.array(nucludid)[inds]   \n",
    "    # body\n",
    "    text = \"\"    \n",
    "    for i in range(len(index)):\n",
    "        text += f\"{adjust(index[i],6)} {nucludid[i]} {adjust(i,6)} {adjust((i+2)%(number+1),6)} {adjust(values[i],6)} {adjust(index[i],7)}\\n\"\n",
    "    # 5p\n",
    "    [has_5p, s_5p, f_5p] = get5pInfo(strText)\n",
    "    # 3p\n",
    "    [has_3p, s_3p, f_3p] = get3pInfo(strText, number)\n",
    "    \n",
    "    # common info\n",
    "    deltaG = strText[0].split('(')[1].split(')')[0]    \n",
    "    accession = strText[0].split(' ')[0][1:]\n",
    "    \n",
    "    common_header = f\"{adjust(number,6)} dG ={adjust(deltaG,10)} {accession}\"\n",
    "    if(has_3p and has_5p):                \n",
    "        with open(f\"{output_path}/{accession}-5p|+|1-{number}|{s_5p}-{f_5p}.ct\", 'w') as file:            \n",
    "            file.write(f\"{common_header}-5p|+|1-{number}|{s_5p}-{f_5p}\\n\" + text)\n",
    "        with open(f\"{output_path}/{accession}-3p|+|1-{number}|{s_3p}-{f_3p}.ct\", 'w') as file:            \n",
    "            file.write(f\"{common_header}-3p|+|1-{number}|{s_3p}-{f_3p}\\n\" + text)\n",
    "            \n",
    "    elif(has_5p):        \n",
    "        with open(f\"{output_path}/{accession}|+|1-{number}|{s_5p}-{f_5p}.ct\", 'w') as file:\n",
    "            file.write(f\"{common_header}|+|1-{number}|{s_5p}-{f_5p}\\n\" + text)\n",
    "            \n",
    "    elif(has_3p):        \n",
    "        with open(f\"{output_path}/{accession}|+|1-{number}|{s_3p}-{f_3p}.ct\", 'w') as file:\n",
    "            file.write(f\"{common_header}|+|1-{number}|{s_3p}-{f_3p}\\n\" + text)            "
   ]
  },
  {
   "cell_type": "code",
   "execution_count": 56,
   "metadata": {
    "ExecuteTime": {
     "end_time": "2021-12-18T13:07:01.516788Z",
     "start_time": "2021-12-18T13:07:01.389101Z"
    }
   },
   "outputs": [
    {
     "name": "stdout",
     "output_type": "stream",
     "text": [
      ">osa-MIR156b (-94.20)   [osa-miR156b-5p:43-62] [osa-miR156b-3p:110-130]\n",
      "\n",
      "u    --          a   --    ucua     uu   ----a  u        -             a      gcuu          - a \n",
      " uguc  uugagagggg aga  gauc    ugggu  ugg     gg cUGACAGA AGAGAGUGAGCAC cacggu    ucuuagcaug c a\n",
      " ||||  |||||||||| |||  ||||    |||||  |||     || |||||||| ||||||||||||| ||||||    |||||||||| |  \n",
      " acag  gacucucuuc ucu  uuag    acccg  acc     cC GACUGUCU UCUCUCACUCGug gugucg    agggucguac g g\n",
      "g    uu          c   aa    uaua     -u   acuug  -        A             c      ----          c a \n"
     ]
    }
   ],
   "source": [
    "strText = lines[0:(0+7)]           \n",
    "print('\\n'.join(strText))\n",
    "convertor(strText,\"CT_high_viridi\")"
   ]
  },
  {
   "cell_type": "markdown",
   "metadata": {},
   "source": [
    "#  Select miRNA.str"
   ]
  },
  {
   "cell_type": "code",
   "execution_count": 57,
   "metadata": {
    "ExecuteTime": {
     "end_time": "2021-12-18T13:07:05.064486Z",
     "start_time": "2021-12-18T13:07:05.060048Z"
    }
   },
   "outputs": [],
   "source": [
    "directory = 'miRBase_driven_data'"
   ]
  },
  {
   "cell_type": "code",
   "execution_count": 58,
   "metadata": {
    "ExecuteTime": {
     "end_time": "2021-12-18T13:07:06.826787Z",
     "start_time": "2021-12-18T13:07:06.793507Z"
    }
   },
   "outputs": [
    {
     "name": "stdout",
     "output_type": "stream",
     "text": [
      "(3320, 4)\n"
     ]
    },
    {
     "data": {
      "text/html": [
       "<div>\n",
       "<style scoped>\n",
       "    .dataframe tbody tr th:only-of-type {\n",
       "        vertical-align: middle;\n",
       "    }\n",
       "\n",
       "    .dataframe tbody tr th {\n",
       "        vertical-align: top;\n",
       "    }\n",
       "\n",
       "    .dataframe thead th {\n",
       "        text-align: right;\n",
       "    }\n",
       "</style>\n",
       "<table border=\"1\" class=\"dataframe\">\n",
       "  <thead>\n",
       "    <tr style=\"text-align: right;\">\n",
       "      <th></th>\n",
       "      <th>tag</th>\n",
       "      <th>data</th>\n",
       "      <th>organism</th>\n",
       "      <th>length</th>\n",
       "    </tr>\n",
       "  </thead>\n",
       "  <tbody>\n",
       "    <tr>\n",
       "      <th>0</th>\n",
       "      <td>cel-let-7 MI0000001 Caenorhabditis elegans let...</td>\n",
       "      <td>UACACUGUGGAUCCGGUGAGGUAGUAGGUUGUAUAGUUUGGAAUAU...</td>\n",
       "      <td>cel</td>\n",
       "      <td>99</td>\n",
       "    </tr>\n",
       "    <tr>\n",
       "      <th>1</th>\n",
       "      <td>cel-lin-4 MI0000002 Caenorhabditis elegans lin...</td>\n",
       "      <td>AUGCUUCCGGCCUGUUCCCUGAGACCUCAAGUGUGAGUGUACUAUU...</td>\n",
       "      <td>cel</td>\n",
       "      <td>94</td>\n",
       "    </tr>\n",
       "  </tbody>\n",
       "</table>\n",
       "</div>"
      ],
      "text/plain": [
       "                                                 tag  \\\n",
       "0  cel-let-7 MI0000001 Caenorhabditis elegans let...   \n",
       "1  cel-lin-4 MI0000002 Caenorhabditis elegans lin...   \n",
       "\n",
       "                                                data organism  length  \n",
       "0  UACACUGUGGAUCCGGUGAGGUAGUAGGUUGUAUAGUUUGGAAUAU...      cel      99  \n",
       "1  AUGCUUCCGGCCUGUUCCCUGAGACCUCAAGUGUGAGUGUACUAUU...      cel      94  "
      ]
     },
     "execution_count": 58,
     "metadata": {},
     "output_type": "execute_result"
    }
   ],
   "source": [
    "df = fasta_to_df(f'./{directory}/hairpin_high_conf.fa')\n",
    "df['organism'] = df['tag'].apply(lambda x: x[:3])\n",
    "df['length'] = df['data'].apply(lambda x: len(x))\n",
    "print(df.shape)\n",
    "df.head(2)"
   ]
  },
  {
   "cell_type": "code",
   "execution_count": 59,
   "metadata": {
    "ExecuteTime": {
     "end_time": "2021-12-18T13:07:07.434488Z",
     "start_time": "2021-12-18T13:07:07.414357Z"
    }
   },
   "outputs": [
    {
     "name": "stdout",
     "output_type": "stream",
     "text": [
      "(285, 5)\n"
     ]
    },
    {
     "data": {
      "text/html": [
       "<div>\n",
       "<style scoped>\n",
       "    .dataframe tbody tr th:only-of-type {\n",
       "        vertical-align: middle;\n",
       "    }\n",
       "\n",
       "    .dataframe tbody tr th {\n",
       "        vertical-align: top;\n",
       "    }\n",
       "\n",
       "    .dataframe thead th {\n",
       "        text-align: right;\n",
       "    }\n",
       "</style>\n",
       "<table border=\"1\" class=\"dataframe\">\n",
       "  <thead>\n",
       "    <tr style=\"text-align: right;\">\n",
       "      <th></th>\n",
       "      <th>organism</th>\n",
       "      <th>division</th>\n",
       "      <th>name</th>\n",
       "      <th>tree</th>\n",
       "      <th>NCBI-taxid</th>\n",
       "    </tr>\n",
       "  </thead>\n",
       "  <tbody>\n",
       "    <tr>\n",
       "      <th>0</th>\n",
       "      <td>aqu</td>\n",
       "      <td>AQU</td>\n",
       "      <td>Amphimedon queenslandica</td>\n",
       "      <td>Metazoa;Porifera;</td>\n",
       "      <td>400682</td>\n",
       "    </tr>\n",
       "    <tr>\n",
       "      <th>1</th>\n",
       "      <td>nve</td>\n",
       "      <td>NVE</td>\n",
       "      <td>Nematostella vectensis</td>\n",
       "      <td>Metazoa;Cnidaria;</td>\n",
       "      <td>45351</td>\n",
       "    </tr>\n",
       "  </tbody>\n",
       "</table>\n",
       "</div>"
      ],
      "text/plain": [
       "  organism division                      name               tree  NCBI-taxid\n",
       "0      aqu      AQU  Amphimedon queenslandica  Metazoa;Porifera;      400682\n",
       "1      nve      NVE    Nematostella vectensis  Metazoa;Cnidaria;       45351"
      ]
     },
     "execution_count": 59,
     "metadata": {},
     "output_type": "execute_result"
    }
   ],
   "source": [
    "organism = pd.read_csv(f'./{directory}/organisms.txt',sep='\\t')\n",
    "organism.columns = [c.replace('#','') for c in organism.columns] # remove sharp from columns\n",
    "print(organism.shape)\n",
    "organism.head(2)"
   ]
  },
  {
   "cell_type": "code",
   "execution_count": 60,
   "metadata": {
    "ExecuteTime": {
     "end_time": "2021-12-18T13:07:07.700016Z",
     "start_time": "2021-12-18T13:07:07.684369Z"
    }
   },
   "outputs": [
    {
     "name": "stdout",
     "output_type": "stream",
     "text": [
      "(86, 5)\n"
     ]
    },
    {
     "data": {
      "text/html": [
       "<div>\n",
       "<style scoped>\n",
       "    .dataframe tbody tr th:only-of-type {\n",
       "        vertical-align: middle;\n",
       "    }\n",
       "\n",
       "    .dataframe tbody tr th {\n",
       "        vertical-align: top;\n",
       "    }\n",
       "\n",
       "    .dataframe thead th {\n",
       "        text-align: right;\n",
       "    }\n",
       "</style>\n",
       "<table border=\"1\" class=\"dataframe\">\n",
       "  <thead>\n",
       "    <tr style=\"text-align: right;\">\n",
       "      <th></th>\n",
       "      <th>organism</th>\n",
       "      <th>division</th>\n",
       "      <th>name</th>\n",
       "      <th>tree</th>\n",
       "      <th>NCBI-taxid</th>\n",
       "    </tr>\n",
       "  </thead>\n",
       "  <tbody>\n",
       "    <tr>\n",
       "      <th>66</th>\n",
       "      <td>cre</td>\n",
       "      <td>CRE</td>\n",
       "      <td>Chlamydomonas reinhardtii</td>\n",
       "      <td>Viridiplantae;Chlorophyta;</td>\n",
       "      <td>3055</td>\n",
       "    </tr>\n",
       "    <tr>\n",
       "      <th>67</th>\n",
       "      <td>pta</td>\n",
       "      <td>PTA</td>\n",
       "      <td>Pinus taeda</td>\n",
       "      <td>Viridiplantae;Coniferophyta;</td>\n",
       "      <td>3352</td>\n",
       "    </tr>\n",
       "  </tbody>\n",
       "</table>\n",
       "</div>"
      ],
      "text/plain": [
       "   organism division                       name                          tree  \\\n",
       "66      cre      CRE  Chlamydomonas reinhardtii    Viridiplantae;Chlorophyta;   \n",
       "67      pta      PTA                Pinus taeda  Viridiplantae;Coniferophyta;   \n",
       "\n",
       "    NCBI-taxid  \n",
       "66        3055  \n",
       "67        3352  "
      ]
     },
     "execution_count": 60,
     "metadata": {},
     "output_type": "execute_result"
    }
   ],
   "source": [
    "selectedTree = organism[organism['tree'].apply(lambda x: \"Viridiplantae;\" in x)]\n",
    "print(selectedTree.shape)\n",
    "selectedTree.head(2)"
   ]
  },
  {
   "cell_type": "code",
   "execution_count": 61,
   "metadata": {
    "ExecuteTime": {
     "end_time": "2021-12-18T13:07:07.873619Z",
     "start_time": "2021-12-18T13:07:07.857139Z"
    }
   },
   "outputs": [
    {
     "name": "stdout",
     "output_type": "stream",
     "text": [
      "(160, 4)\n"
     ]
    },
    {
     "data": {
      "text/html": [
       "<div>\n",
       "<style scoped>\n",
       "    .dataframe tbody tr th:only-of-type {\n",
       "        vertical-align: middle;\n",
       "    }\n",
       "\n",
       "    .dataframe tbody tr th {\n",
       "        vertical-align: top;\n",
       "    }\n",
       "\n",
       "    .dataframe thead th {\n",
       "        text-align: right;\n",
       "    }\n",
       "</style>\n",
       "<table border=\"1\" class=\"dataframe\">\n",
       "  <thead>\n",
       "    <tr style=\"text-align: right;\">\n",
       "      <th></th>\n",
       "      <th>tag</th>\n",
       "      <th>data</th>\n",
       "      <th>organism</th>\n",
       "      <th>length</th>\n",
       "    </tr>\n",
       "  </thead>\n",
       "  <tbody>\n",
       "    <tr>\n",
       "      <th>460</th>\n",
       "      <td>osa-MIR156b MI0000654 Oryza sativa miR156b ste...</td>\n",
       "      <td>UUGUCUUGAGAGGGGAAGAGAUCUCUAUGGGUUUUGGAGGUCUGAC...</td>\n",
       "      <td>osa</td>\n",
       "      <td>176</td>\n",
       "    </tr>\n",
       "    <tr>\n",
       "      <th>461</th>\n",
       "      <td>osa-MIR156c MI0000655 Oryza sativa miR156c ste...</td>\n",
       "      <td>GGAGGAAGAGAGGGGUGAGAGGUGAGGCUGACAGAAGAGAGUGAGC...</td>\n",
       "      <td>osa</td>\n",
       "      <td>149</td>\n",
       "    </tr>\n",
       "  </tbody>\n",
       "</table>\n",
       "</div>"
      ],
      "text/plain": [
       "                                                   tag  \\\n",
       "460  osa-MIR156b MI0000654 Oryza sativa miR156b ste...   \n",
       "461  osa-MIR156c MI0000655 Oryza sativa miR156c ste...   \n",
       "\n",
       "                                                  data organism  length  \n",
       "460  UUGUCUUGAGAGGGGAAGAGAUCUCUAUGGGUUUUGGAGGUCUGAC...      osa     176  \n",
       "461  GGAGGAAGAGAGGGGUGAGAGGUGAGGCUGACAGAAGAGAGUGAGC...      osa     149  "
      ]
     },
     "execution_count": 61,
     "metadata": {},
     "output_type": "execute_result"
    }
   ],
   "source": [
    "selected = df[df['organism'].isin(selectedTree['organism'])]\n",
    "print(selected.shape)\n",
    "selected.head(2)"
   ]
  },
  {
   "cell_type": "code",
   "execution_count": 62,
   "metadata": {
    "ExecuteTime": {
     "end_time": "2021-12-18T13:07:08.361795Z",
     "start_time": "2021-12-18T13:07:08.172171Z"
    }
   },
   "outputs": [],
   "source": [
    "tags = list(selected['tag'].apply(lambda x : x.split(' ')[0]))\n",
    "with open(f'./{directory}/miRNA.str', 'r') as file:\n",
    "    text = file.read()\n",
    "text = text.split('\\n')\n",
    "\n",
    "result = ''\n",
    "for i in range(0,len(text),8):\n",
    "    if(text[i].split(' ')[0][1:] in tags):\n",
    "        result += '\\n'.join(text[i:i+8]) + \"\\n\"        \n",
    "with open(f'./high_conf_hairpin.str', 'w') as file:\n",
    "    file.write(result)"
   ]
  },
  {
   "cell_type": "code",
   "execution_count": 63,
   "metadata": {
    "ExecuteTime": {
     "end_time": "2021-12-18T13:07:08.540696Z",
     "start_time": "2021-12-18T13:07:08.536983Z"
    }
   },
   "outputs": [],
   "source": [
    "# for all str\n",
    "'''\n",
    "with open('./Data/miRNA.str','r') as file:\n",
    "    text = file.read()\n",
    "    lines = text.split('\\n')\n",
    "''';"
   ]
  },
  {
   "cell_type": "code",
   "execution_count": 64,
   "metadata": {
    "ExecuteTime": {
     "end_time": "2021-12-18T13:07:08.945473Z",
     "start_time": "2021-12-18T13:07:08.932260Z"
    }
   },
   "outputs": [],
   "source": [
    "# for high confidence \n",
    "with open('./high_conf_hairpin.str','r') as file:\n",
    "    text = file.read()\n",
    "    lines = text.split('\\n')"
   ]
  },
  {
   "cell_type": "markdown",
   "metadata": {},
   "source": [
    "#  Run convertor"
   ]
  },
  {
   "cell_type": "code",
   "execution_count": 76,
   "metadata": {
    "ExecuteTime": {
     "end_time": "2021-12-18T13:11:57.761998Z",
     "start_time": "2021-12-18T13:11:56.343961Z"
    }
   },
   "outputs": [
    {
     "name": "stderr",
     "output_type": "stream",
     "text": [
      "  1%|          | 1/161 [00:00<01:42,  1.56it/s]"
     ]
    },
    {
     "name": "stdout",
     "output_type": "stream",
     "text": [
      "[''] not str structure\n"
     ]
    },
    {
     "name": "stderr",
     "output_type": "stream",
     "text": [
      "100%|██████████| 161/161 [00:01<00:00, 128.33it/s]\n"
     ]
    }
   ],
   "source": [
    "def run(i):                   \n",
    "    strText = lines[i:(i+7)]\n",
    "    if(len(strText) == 7):\n",
    "        convertor(strText, \"CT_high_viridi\")    \n",
    "    else:\n",
    "        print(strText, \"not str structure\")\n",
    "process_map(run , range(0,len(lines),8), tqdm_class=tqdm, max_workers= mp.cpu_count() - 1, chunksize=5);"
   ]
  },
  {
   "cell_type": "code",
   "execution_count": 22,
   "metadata": {
    "ExecuteTime": {
     "end_time": "2021-12-13T17:25:34.082077Z",
     "start_time": "2021-12-13T17:25:33.827238Z"
    }
   },
   "outputs": [
    {
     "name": "stdout",
     "output_type": "stream",
     "text": [
      "  adding: CT_high_viridi/ (stored 0%)\n",
      "  adding: CT_high_viridi/aly-MIR824-3p|+|1-654|620-640.ct (deflated 76%)\n",
      "  adding: CT_high_viridi/osa-MIR156f-5p|+|1-186|4-23.ct (deflated 74%)\n",
      "  adding: CT_high_viridi/zma-MIR156e-5p|+|1-126|20-39.ct (deflated 72%)\n",
      "  adding: CT_high_viridi/zma-MIR396e-3p|+|1-166|145-165.ct (deflated 75%)\n",
      "  adding: CT_high_viridi/tae-MIR398|+|1-120|85-105.ct (deflated 73%)\n",
      "  adding: CT_high_viridi/aly-MIR172a-5p|+|1-149|26-46.ct (deflated 73%)\n",
      "  adding: CT_high_viridi/tae-MIR9670|+|1-78|49-69.ct (deflated 72%)\n",
      "  adding: CT_high_viridi/aly-MIR173b-3p|+|1-100|69-89.ct (deflated 73%)\n",
      "  adding: CT_high_viridi/osa-MIR166l-3p|+|1-117|87-107.ct (deflated 72%)\n",
      "  adding: CT_high_viridi/osa-MIR167a-5p|+|1-141|14-34.ct (deflated 72%)\n",
      "  adding: CT_high_viridi/zma-MIR156f-5p|+|1-167|21-40.ct (deflated 73%)\n",
      "  adding: CT_high_viridi/osa-MIR3980a-5p|+|1-192|31-51.ct (deflated 74%)\n",
      "  adding: CT_high_viridi/zma-MIR166d-3p|+|1-104|84-103.ct (deflated 73%)\n",
      "  adding: CT_high_viridi/vvi-MIR3636-3p|+|1-141|99-122.ct (deflated 72%)\n",
      "  adding: CT_high_viridi/zma-MIR167c-3p|+|1-132|92-114.ct (deflated 72%)\n",
      "  adding: CT_high_viridi/zma-MIR166b-5p|+|1-116|3-23.ct (deflated 73%)\n",
      "  adding: CT_high_viridi/atr-MIR169a|+|1-166|32-51.ct (deflated 73%)\n",
      "  adding: CT_high_viridi/osa-MIR166k-5p|+|1-127|13-33.ct (deflated 73%)\n",
      "  adding: CT_high_viridi/osa-MIR168a-3p|+|1-87|56-79.ct (deflated 73%)\n",
      "  adding: CT_high_viridi/zma-MIR396f-5p|+|1-117|2-22.ct (deflated 74%)\n",
      "  adding: CT_high_viridi/tae-MIR9652-5p|+|1-124|21-42.ct (deflated 72%)\n",
      "  adding: CT_high_viridi/osa-MIR156b-5p|+|1-176|43-62.ct (deflated 72%)\n",
      "  adding: CT_high_viridi/zma-MIR399d-5p|+|1-125|18-38.ct (deflated 73%)\n",
      "  adding: CT_high_viridi/osa-MIR171c-5p|+|1-99|10-30.ct (deflated 73%)\n",
      "  adding: CT_high_viridi/zma-MIR396f-3p|+|1-117|96-116.ct (deflated 74%)\n",
      "  adding: CT_high_viridi/zma-MIR390a-3p|+|1-181|160-180.ct (deflated 72%)\n",
      "  adding: CT_high_viridi/zma-MIR160b-3p|+|1-121|83-103.ct (deflated 73%)\n",
      "  adding: CT_high_viridi/zma-MIR396e-5p|+|1-166|2-22.ct (deflated 75%)\n",
      "  adding: CT_high_viridi/osa-MIR156f-3p|+|1-186|164-185.ct (deflated 74%)\n",
      "  adding: CT_high_viridi/aly-MIR396b-5p|+|1-188|32-52.ct (deflated 73%)\n",
      "  adding: CT_high_viridi/zma-MIR166i-3p|+|1-83|63-82.ct (deflated 72%)\n",
      "  adding: CT_high_viridi/zma-MIR166d-5p|+|1-104|3-23.ct (deflated 73%)\n",
      "  adding: CT_high_viridi/osa-MIR156l-3p|+|1-156|127-148.ct (deflated 72%)\n",
      "  adding: CT_high_viridi/osa-MIR166h-3p|+|1-119|89-109.ct (deflated 73%)\n",
      "  adding: CT_high_viridi/vvi-MIR166d|+|1-160|129-149.ct (deflated 74%)\n",
      "  adding: CT_high_viridi/atr-MIR8551|+|1-297|214-237.ct (deflated 73%)\n",
      "  adding: CT_high_viridi/zma-MIR171b-5p|+|1-85|4-23.ct (deflated 73%)\n",
      "  adding: CT_high_viridi/vvi-MIR2111-5p|+|1-108|23-43.ct (deflated 73%)\n",
      "  adding: CT_high_viridi/aly-MIR168a-5p|+|1-155|24-44.ct (deflated 73%)\n",
      "  adding: CT_high_viridi/tae-MIR159a|+|1-177|154-174.ct (deflated 72%)\n",
      "  adding: CT_high_viridi/osa-MIR171i-3p|+|1-120|88-108.ct (deflated 73%)\n",
      "  adding: CT_high_viridi/aly-MIR171b-3p|+|1-137|89-109.ct (deflated 72%)\n",
      "  adding: CT_high_viridi/zma-MIR171l-3p|+|1-78|57-77.ct (deflated 71%)\n",
      "  adding: CT_high_viridi/zma-MIR399b-3p|+|1-122|83-103.ct (deflated 73%)\n",
      "  adding: CT_high_viridi/osa-MIR172d-3p|+|1-130|91-111.ct (deflated 73%)\n",
      "  adding: CT_high_viridi/osa-MIR169i-3p|+|1-176|135-156.ct (deflated 72%)\n",
      "  adding: CT_high_viridi/zma-MIR156d-3p|+|1-119|80-101.ct (deflated 72%)\n",
      "  adding: CT_high_viridi/zma-MIR159a-5p|+|1-246|23-43.ct (deflated 73%)\n",
      "  adding: CT_high_viridi/osa-MIR444a-3p|+|1-131|94-119.ct (deflated 72%)\n",
      "  adding: CT_high_viridi/tae-MIR9772|+|1-90|10-30.ct (deflated 73%)\n",
      "  adding: CT_high_viridi/aly-MIR173a-5p|+|1-100|15-36.ct (deflated 73%)\n",
      "  adding: CT_high_viridi/osa-MIR396e-5p|+|1-184|13-33.ct (deflated 74%)\n",
      "  adding: CT_high_viridi/vvi-MIR3632-5p|+|1-159|45-66.ct (deflated 72%)\n",
      "  adding: CT_high_viridi/tae-MIR171a|+|1-130|89-109.ct (deflated 73%)\n",
      "  adding: CT_high_viridi/atr-MIR8587|+|1-310|30-53.ct (deflated 72%)\n",
      "  adding: CT_high_viridi/atr-MIR166c|+|1-144|94-114.ct (deflated 73%)\n",
      "  adding: CT_high_viridi/aly-MIR171c-5p|+|1-111|15-35.ct (deflated 73%)\n",
      "  adding: CT_high_viridi/vvi-MIR3633a-3p|+|1-155|108-129.ct (deflated 72%)\n",
      "  adding: CT_high_viridi/osa-MIR167i-5p|+|1-201|11-31.ct (deflated 74%)\n",
      "  adding: CT_high_viridi/atr-MIR8610-5p|+|1-260|49-72.ct (deflated 72%)\n",
      "  adding: CT_high_viridi/zma-MIR390b-5p|+|1-192|2-22.ct (deflated 71%)\n",
      "  adding: CT_high_viridi/osa-MIR171e-3p|+|1-119|89-109.ct (deflated 72%)\n",
      "  adding: CT_high_viridi/atr-MIR2111|+|1-155|25-46.ct (deflated 73%)\n",
      "  adding: CT_high_viridi/zma-MIR166n-3p|+|1-96|75-95.ct (deflated 73%)\n",
      "  adding: CT_high_viridi/zma-MIR169j-3p|+|1-151|116-133.ct (deflated 72%)\n",
      "  adding: CT_high_viridi/atr-MIR8611|+|1-100|75-95.ct (deflated 72%)\n",
      "  adding: CT_high_viridi/osa-MIR160a-5p|+|1-88|4-24.ct (deflated 73%)\n",
      "  adding: CT_high_viridi/aly-MIR156a-5p|+|1-184|49-68.ct (deflated 72%)\n",
      "  adding: CT_high_viridi/zma-MIR159f-3p|+|1-215|194-214.ct (deflated 73%)\n",
      "  adding: CT_high_viridi/atr-MIR8585|+|1-153|44-65.ct (deflated 72%)\n",
      "  adding: CT_high_viridi/tae-MIR5384|+|1-66|38-58.ct (deflated 72%)\n",
      "  adding: CT_high_viridi/zma-MIR166k-3p|+|1-168|129-149.ct (deflated 72%)\n",
      "  adding: CT_high_viridi/atr-MIR8614|+|1-217|161-183.ct (deflated 73%)\n",
      "  adding: CT_high_viridi/zma-MIR399i-5p|+|1-91|2-22.ct (deflated 73%)\n",
      "  adding: CT_high_viridi/atr-MIR8610-3p|+|1-260|190-210.ct (deflated 72%)\n",
      "  adding: CT_high_viridi/zma-MIR171l-5p|+|1-78|2-22.ct (deflated 71%)\n",
      "  adding: CT_high_viridi/aly-MIR158a-5p|+|1-95|18-38.ct (deflated 72%)\n",
      "  adding: CT_high_viridi/zma-MIR167c-5p|+|1-132|17-37.ct (deflated 72%)\n",
      "  adding: CT_high_viridi/osa-MIR1425-5p|+|1-102|14-34.ct (deflated 72%)\n",
      "  adding: CT_high_viridi/osa-MIR166d-3p|+|1-125|91-111.ct (deflated 73%)\n",
      "  adding: CT_high_viridi/zma-MIR166g-5p|+|1-126|3-23.ct (deflated 72%)\n",
      "  adding: CT_high_viridi/aly-MIR159a-3p|+|1-222|183-203.ct (deflated 72%)\n",
      "  adding: CT_high_viridi/atr-MIR168|+|1-230|83-103.ct (deflated 72%)\n",
      "  adding: CT_high_viridi/zma-MIR172c-3p|+|1-123|103-122.ct (deflated 74%)\n",
      "  adding: CT_high_viridi/osa-MIR171i-5p|+|1-120|8-28.ct (deflated 73%)\n",
      "  adding: CT_high_viridi/tae-MIR9666c|+|1-93|11-31.ct (deflated 73%)\n",
      "  adding: CT_high_viridi/zma-MIR160g-3p|+|1-86|65-85.ct (deflated 73%)\n",
      "  adding: CT_high_viridi/atr-MIR8582|+|1-130|92-112.ct (deflated 73%)\n",
      "  adding: CT_high_viridi/zma-MIR156f-3p|+|1-167|131-152.ct (deflated 73%)\n",
      "  adding: CT_high_viridi/zma-MIR159f-5p|+|1-215|2-22.ct (deflated 73%)\n",
      "  adding: CT_high_viridi/atr-MIR166d|+|1-105|78-98.ct (deflated 73%)\n",
      "  adding: CT_high_viridi/atr-MIR8602|+|1-97|20-40.ct (deflated 73%)\n",
      "  adding: CT_high_viridi/zma-MIR171e-3p|+|1-126|87-107.ct (deflated 72%)\n",
      "  adding: CT_high_viridi/zma-MIR390a-5p|+|1-181|2-22.ct (deflated 72%)\n",
      "  adding: CT_high_viridi/osa-MIR171e-5p|+|1-119|13-33.ct (deflated 72%)\n",
      "  adding: CT_high_viridi/zma-MIR156e-3p|+|1-126|87-108.ct (deflated 72%)\n",
      "  adding: CT_high_viridi/tae-MIR5062|+|1-158|11-33.ct (deflated 72%)\n",
      "  adding: CT_high_viridi/zma-MIR319b-3p|+|1-213|175-194.ct (deflated 72%)\n",
      "  adding: CT_high_viridi/tae-MIR5200|+|1-93|66-86.ct (deflated 73%)\n",
      "  adding: CT_high_viridi/zma-MIR167i-5p|+|1-130|21-41.ct (deflated 72%)\n",
      "  adding: CT_high_viridi/osa-MIR160b-3p|+|1-139|93-113.ct (deflated 73%)\n",
      "  adding: CT_high_viridi/zma-MIR399f-3p|+|1-105|66-86.ct (deflated 73%)\n",
      "  adding: CT_high_viridi/osa-MIR172d-5p|+|1-130|22-41.ct (deflated 73%)\n",
      "  adding: CT_high_viridi/osa-MIR166d-5p|+|1-125|21-41.ct (deflated 73%)\n",
      "  adding: CT_high_viridi/osa-MIR156c-3p|+|1-149|100-121.ct (deflated 72%)\n",
      "  adding: CT_high_viridi/atr-MIR398|+|1-185|125-145.ct (deflated 73%)\n",
      "  adding: CT_high_viridi/tae-MIR5050|+|1-90|6-26.ct (deflated 73%)\n",
      "  adding: CT_high_viridi/osa-MIR166a-3p|+|1-145|110-130.ct (deflated 73%)\n",
      "  adding: CT_high_viridi/osa-MIR167i-3p|+|1-201|173-193.ct (deflated 74%)\n",
      "  adding: CT_high_viridi/atr-MIR8570|+|1-483|322-345.ct (deflated 73%)\n",
      "  adding: CT_high_viridi/atr-MIR8558a|+|1-161|98-119.ct (deflated 72%)\n",
      "  adding: CT_high_viridi/aly-MIR159b-5p|+|1-202|17-37.ct (deflated 72%)\n",
      "  adding: CT_high_viridi/aly-MIR156d-5p|+|1-118|17-36.ct (deflated 72%)\n",
      "  adding: CT_high_viridi/osa-MIR156b-3p|+|1-176|110-130.ct (deflated 72%)\n",
      "  adding: CT_high_viridi/zma-MIR171e-5p|+|1-126|23-43.ct (deflated 72%)\n",
      "  adding: CT_high_viridi/zma-MIR399h-5p|+|1-94|2-22.ct (deflated 73%)\n",
      "  adding: CT_high_viridi/zma-MIR399d-3p|+|1-125|86-106.ct (deflated 73%)\n",
      "  adding: CT_high_viridi/zma-MIR167e-3p|+|1-119|81-102.ct (deflated 73%)\n",
      "  adding: CT_high_viridi/zma-MIR390b-3p|+|1-192|171-191.ct (deflated 71%)\n",
      "  adding: CT_high_viridi/osa-MIR444a-5p|+|1-131|20-40.ct (deflated 72%)\n",
      "  adding: CT_high_viridi/osa-MIR156h-5p|+|1-186|4-23.ct (deflated 74%)\n",
      "  adding: CT_high_viridi/osa-MIR169i-5p|+|1-176|21-42.ct (deflated 72%)\n",
      "  adding: CT_high_viridi/aly-MIR156d-3p|+|1-118|84-104.ct (deflated 72%)\n",
      "  adding: CT_high_viridi/zma-MIR167j-3p|+|1-109|89-108.ct (deflated 73%)\n",
      "  adding: CT_high_viridi/osa-MIR390-3p|+|1-91|56-75.ct (deflated 72%)\n",
      "  adding: CT_high_viridi/atr-MIR169b|+|1-187|125-145.ct (deflated 72%)\n",
      "  adding: CT_high_viridi/osa-MIR5150-3p|+|1-79|44-67.ct (deflated 71%)\n",
      "  adding: CT_high_viridi/atr-MIR8580|+|1-165|120-143.ct (deflated 72%)\n",
      "  adding: CT_high_viridi/zma-MIR167e-5p|+|1-119|21-41.ct (deflated 73%)\n",
      "  adding: CT_high_viridi/aly-MIR172a-3p|+|1-149|99-119.ct (deflated 73%)\n",
      "  adding: CT_high_viridi/zma-MIR399i-3p|+|1-91|70-90.ct (deflated 73%)\n",
      "  adding: CT_high_viridi/tae-MIR167c|+|1-147|21-42.ct (deflated 73%)\n",
      "  adding: CT_high_viridi/atr-MIR160|+|1-184|48-68.ct (deflated 72%)\n",
      "  adding: CT_high_viridi/osa-MIR166k-3p|+|1-127|97-117.ct (deflated 73%)\n",
      "  adding: CT_high_viridi/osa-MIR171d-3p|+|1-135|105-125.ct (deflated 73%)\n",
      "  adding: CT_high_viridi/aly-MIR171b-5p|+|1-137|26-46.ct (deflated 72%)\n",
      "  adding: CT_high_viridi/zma-MIR166m-5p|+|1-156|23-43.ct (deflated 72%)\n",
      "  adding: CT_high_viridi/vvi-MIR2950-5p|+|1-107|25-45.ct (deflated 73%)\n",
      "  adding: CT_high_viridi/aly-MIR167a-3p|+|1-138|102-122.ct (deflated 71%)\n",
      "  adding: CT_high_viridi/vvi-MIR3640-3p|+|1-200|136-159.ct (deflated 72%)\n",
      "  adding: CT_high_viridi/vvi-MIR3632-3p|+|1-159|100-121.ct (deflated 72%)\n",
      "  adding: CT_high_viridi/tae-MIR9657b-5p|+|1-94|21-41.ct (deflated 73%)\n",
      "  adding: CT_high_viridi/osa-MIR156j-5p|+|1-165|42-61.ct (deflated 72%)\n",
      "  adding: CT_high_viridi/zma-MIR171d-3p|+|1-121|82-102.ct (deflated 73%)\n",
      "  adding: CT_high_viridi/zma-MIR529-3p|+|1-126|105-125.ct (deflated 73%)\n",
      "  adding: CT_high_viridi/osa-MIR3979-3p|+|1-114|85-104.ct (deflated 72%)\n",
      "  adding: CT_high_viridi/zma-MIR156l-5p|+|1-90|2-21.ct (deflated 73%)\n",
      "  adding: CT_high_viridi/osa-MIR396c-5p|+|1-141|11-31.ct (deflated 72%)\n",
      "  adding: CT_high_viridi/zma-MIR166l-5p|+|1-137|24-43.ct (deflated 73%)\n",
      "  adding: CT_high_viridi/osa-MIR156c-5p|+|1-149|29-48.ct (deflated 72%)\n",
      "  adding: CT_high_viridi/atr-MIR535|+|1-91|7-27.ct (deflated 72%)\n",
      "  adding: CT_high_viridi/osa-MIR166b-3p|+|1-206|168-188.ct (deflated 72%)\n",
      "  adding: CT_high_viridi/zma-MIR168b-5p|+|1-104|21-41.ct (deflated 73%)\n",
      "  adding: CT_high_viridi/osa-MIR396f-5p|+|1-176|8-29.ct (deflated 74%)\n",
      "  adding: CT_high_viridi/zma-MIR156d-5p|+|1-119|16-35.ct (deflated 72%)\n",
      "  adding: CT_high_viridi/osa-MIR160c-5p|+|1-99|7-27.ct (deflated 73%)\n",
      "  adding: CT_high_viridi/aly-MIR396a-5p|+|1-172|24-44.ct (deflated 73%)\n",
      "  adding: CT_high_viridi/osa-MIR167a-3p|+|1-141|110-131.ct (deflated 72%)\n",
      "  adding: CT_high_viridi/zma-MIR167h-3p|+|1-143|107-125.ct (deflated 73%)\n",
      "  adding: CT_high_viridi/zma-MIR171b-3p|+|1-85|65-84.ct (deflated 73%)\n",
      "  adding: CT_high_viridi/aly-MIR396b-3p|+|1-188|135-155.ct (deflated 73%)\n",
      "  adding: CT_high_viridi/aly-MIR396a-3p|+|1-172|133-153.ct (deflated 73%)\n",
      "  adding: CT_high_viridi/atr-MIR171b|+|1-189|113-133.ct (deflated 72%)\n",
      "  adding: CT_high_viridi/osa-MIR160c-3p|+|1-99|75-95.ct (deflated 73%)\n",
      "  adding: CT_high_viridi/zma-MIR166a-3p|+|1-213|189-209.ct (deflated 74%)\n",
      "  adding: CT_high_viridi/osa-MIR166h-5p|+|1-119|13-33.ct (deflated 73%)\n",
      "  adding: CT_high_viridi/osa-MIR171d-5p|+|1-135|13-33.ct (deflated 73%)\n",
      "  adding: CT_high_viridi/osa-MIR160a-3p|+|1-88|67-87.ct (deflated 73%)\n",
      "  adding: CT_high_viridi/zma-MIR166a-5p|+|1-213|6-26.ct (deflated 74%)\n",
      "  adding: CT_high_viridi/osa-MIR1425-3p|+|1-102|71-91.ct (deflated 72%)\n",
      "  adding: CT_high_viridi/osa-MIR1429-5p|+|1-120|1-21.ct (deflated 72%)\n",
      "  adding: CT_high_viridi/zma-MIR166j-3p|+|1-154|115-135.ct (deflated 72%)\n",
      "  adding: CT_high_viridi/osa-MIR408-3p|+|1-213|153-173.ct (deflated 75%)\n",
      "  adding: CT_high_viridi/aly-MIR159b-3p|+|1-202|169-189.ct (deflated 72%)\n",
      "  adding: CT_high_viridi/osa-MIR166a-5p|+|1-145|22-42.ct (deflated 73%)\n",
      "  adding: CT_high_viridi/zma-MIR167j-5p|+|1-109|2-22.ct (deflated 73%)\n",
      "  adding: CT_high_viridi/tae-MIR9666b-3p|+|1-98|67-88.ct (deflated 73%)\n",
      "  adding: CT_high_viridi/zma-MIR166j-5p|+|1-154|23-44.ct (deflated 72%)\n",
      "  adding: CT_high_viridi/zma-MIR399h-3p|+|1-94|73-93.ct (deflated 73%)\n",
      "  adding: CT_high_viridi/vvi-MIR169e|+|1-149|12-33.ct (deflated 73%)\n",
      "  adding: CT_high_viridi/zma-MIR160b-5p|+|1-121|21-41.ct (deflated 73%)\n",
      "  adding: CT_high_viridi/osa-MIR3980b-5p|+|1-192|31-51.ct (deflated 74%)\n",
      "  adding: CT_high_viridi/osa-MIR393b-3p|+|1-132|103-123.ct (deflated 73%)\n",
      "  adding: CT_high_viridi/osa-MIR169r-3p|+|1-129|86-106.ct (deflated 73%)\n",
      "  adding: CT_high_viridi/tae-MIR9657b-3p|+|1-94|54-74.ct (deflated 73%)\n",
      "  adding: CT_high_viridi/aly-MIR156c-5p|+|1-102|11-30.ct (deflated 73%)\n",
      "  adding: CT_high_viridi/atr-MIR8605|+|1-431|249-272.ct (deflated 72%)\n",
      "  adding: CT_high_viridi/osa-MIR167g|+|1-82|11-31.ct (deflated 73%)\n",
      "  adding: CT_high_viridi/osa-MIR3980b-3p|+|1-192|147-167.ct (deflated 73%)\n",
      "  adding: CT_high_viridi/zma-MIR169j-5p|+|1-151|21-41.ct (deflated 72%)\n",
      "  adding: CT_high_viridi/zma-MIR167i-3p|+|1-130|94-112.ct (deflated 72%)\n",
      "  adding: CT_high_viridi/aly-MIR156c-3p|+|1-102|74-95.ct (deflated 73%)\n",
      "  adding: CT_high_viridi/osa-MIR393b-5p|+|1-132|27-48.ct (deflated 73%)\n",
      "  adding: CT_high_viridi/vvi-MIR3640-5p|+|1-200|42-65.ct (deflated 72%)\n",
      "  adding: CT_high_viridi/zma-MIR166b-3p|+|1-116|96-115.ct (deflated 73%)\n",
      "  adding: CT_high_viridi/osa-MIR166b-5p|+|1-206|22-42.ct (deflated 72%)\n",
      "  adding: CT_high_viridi/osa-MIR5150-5p|+|1-79|10-33.ct (deflated 71%)\n",
      "  adding: CT_high_viridi/zma-MIR166m-3p|+|1-156|117-137.ct (deflated 72%)\n",
      "  adding: CT_high_viridi/zma-MIR166g-3p|+|1-126|106-125.ct (deflated 72%)\n",
      "  adding: CT_high_viridi/osa-MIR156h-3p|+|1-186|164-185.ct (deflated 74%)\n",
      "  adding: CT_high_viridi/zma-MIR160g-5p|+|1-86|2-22.ct (deflated 73%)\n",
      "  adding: CT_high_viridi/zma-MIR399f-5p|+|1-105|23-44.ct (deflated 73%)\n",
      "  adding: CT_high_viridi/atr-MIR8559|+|1-201|142-165.ct (deflated 72%)\n",
      "  adding: CT_high_viridi/vvi-MIR2111-3p|+|1-108|69-89.ct (deflated 73%)\n",
      "  adding: CT_high_viridi/aly-MIR156b-5p|+|1-109|13-32.ct (deflated 73%)\n",
      "  adding: CT_high_viridi/aly-MIR171c-3p|+|1-111|77-97.ct (deflated 73%)\n",
      "  adding: CT_high_viridi/aly-MIR173b-5p|+|1-100|15-36.ct (deflated 73%)\n",
      "  adding: CT_high_viridi/osa-MIR396e-3p|+|1-184|152-175.ct (deflated 74%)\n",
      "  adding: CT_high_viridi/atr-MIR171c|+|1-117|82-102.ct (deflated 72%)\n",
      "  adding: CT_high_viridi/zma-MIR167h-5p|+|1-143|21-41.ct (deflated 73%)\n",
      "  adding: CT_high_viridi/vvi-MIR3636-5p|+|1-141|25-48.ct (deflated 72%)\n",
      "  adding: CT_high_viridi/zma-MIR166i-5p|+|1-83|3-23.ct (deflated 73%)\n",
      "  adding: CT_high_viridi/tae-MIR9666a|+|1-98|67-88.ct (deflated 73%)\n",
      "  adding: CT_high_viridi/vvi-MIR3623-5p|+|1-129|18-39.ct (deflated 72%)\n"
     ]
    },
    {
     "name": "stdout",
     "output_type": "stream",
     "text": [
      "  adding: CT_high_viridi/tae-MIR5048|+|1-343|13-34.ct (deflated 73%)\r\n",
      "  adding: CT_high_viridi/tae-MIR9655|+|1-122|82-102.ct (deflated 73%)\r\n",
      "  adding: CT_high_viridi/osa-MIR156j-3p|+|1-165|108-129.ct (deflated 72%)\r\n",
      "  adding: CT_high_viridi/tae-MIR9652-3p|+|1-124|84-103.ct (deflated 72%)\r\n",
      "  adding: CT_high_viridi/zma-MIR172c-5p|+|1-123|4-23.ct (deflated 74%)\r\n",
      "  adding: CT_high_viridi/osa-MIR166c-3p|+|1-125|91-111.ct (deflated 73%)\r\n",
      "  adding: CT_high_viridi/aly-MIR173a-3p|+|1-100|69-89.ct (deflated 73%)\r\n",
      "  adding: CT_high_viridi/zma-MIR399b-5p|+|1-122|23-43.ct (deflated 73%)\r\n",
      "  adding: CT_high_viridi/zma-MIR159a-3p|+|1-246|207-227.ct (deflated 73%)\r\n",
      "  adding: CT_high_viridi/osa-MIR396c-3p|+|1-141|113-133.ct (deflated 72%)\r\n",
      "  adding: CT_high_viridi/osa-MIR408-5p|+|1-213|31-51.ct (deflated 75%)\r\n",
      "  adding: CT_high_viridi/osa-MIR171c-3p|+|1-99|69-89.ct (deflated 73%)\r\n",
      "  adding: CT_high_viridi/osa-MIR1429-3p|+|1-120|99-119.ct (deflated 72%)\r\n",
      "  adding: CT_high_viridi/vvi-MIR2950-3p|+|1-107|66-86.ct (deflated 73%)\r\n",
      "  adding: CT_high_viridi/osa-MIR3980a-3p|+|1-192|147-167.ct (deflated 73%)\r\n",
      "  adding: CT_high_viridi/zma-MIR156l-3p|+|1-90|68-89.ct (deflated 73%)\r\n",
      "  adding: CT_high_viridi/osa-MIR156l-5p|+|1-156|11-31.ct (deflated 72%)\r\n",
      "  adding: CT_high_viridi/vvi-MIR3633a-5p|+|1-155|32-51.ct (deflated 72%)\r\n",
      "  adding: CT_high_viridi/atr-MIR8553a|+|1-513|98-121.ct (deflated 72%)\r\n",
      "  adding: CT_high_viridi/aly-MIR158a-3p|+|1-95|61-80.ct (deflated 72%)\r\n",
      "  adding: CT_high_viridi/zma-MIR166k-5p|+|1-168|23-43.ct (deflated 72%)\r\n",
      "  adding: CT_high_viridi/vvi-MIR3623-3p|+|1-129|92-113.ct (deflated 72%)\r\n",
      "  adding: CT_high_viridi/osa-MIR3979-5p|+|1-114|13-32.ct (deflated 72%)\r\n",
      "  adding: CT_high_viridi/osa-MIR396f-3p|+|1-176|145-168.ct (deflated 74%)\r\n",
      "  adding: CT_high_viridi/aly-MIR168a-3p|+|1-155|109-129.ct (deflated 73%)\r\n",
      "  adding: CT_high_viridi/zma-MIR166l-3p|+|1-137|98-118.ct (deflated 73%)\r\n",
      "  adding: CT_high_viridi/atr-MIR8586|+|1-156|93-113.ct (deflated 73%)\r\n",
      "  adding: CT_high_viridi/zma-MIR156i-3p|+|1-117|80-101.ct (deflated 72%)\r\n",
      "  adding: CT_high_viridi/zma-MIR319b-5p|+|1-213|23-43.ct (deflated 72%)\r\n",
      "  adding: CT_high_viridi/osa-MIR169r-5p|+|1-129|14-34.ct (deflated 73%)\r\n",
      "  adding: CT_high_viridi/aly-MIR156b-3p|+|1-109|73-94.ct (deflated 73%)\r\n",
      "  adding: CT_high_viridi/vvi-MIR3633b-3p|+|1-112|79-100.ct (deflated 73%)\r\n",
      "  adding: CT_high_viridi/aly-MIR824-5p|+|1-654|17-37.ct (deflated 76%)\r\n",
      "  adding: CT_high_viridi/osa-MIR160b-5p|+|1-139|30-50.ct (deflated 73%)\r\n",
      "  adding: CT_high_viridi/osa-MIR167e-5p|+|1-273|11-31.ct (deflated 75%)\r\n",
      "  adding: CT_high_viridi/tae-MIR1137b|+|1-89|11-31.ct (deflated 73%)\r\n",
      "  adding: CT_high_viridi/osa-MIR156g-3p|+|1-116|94-115.ct (deflated 74%)\r\n",
      "  adding: CT_high_viridi/atr-MIR172|+|1-297|194-213.ct (deflated 73%)\r\n",
      "  adding: CT_high_viridi/vvi-MIR3633b-5p|+|1-112|16-36.ct (deflated 73%)\r\n",
      "  adding: CT_high_viridi/zma-MIR156i-5p|+|1-117|13-32.ct (deflated 72%)\r\n",
      "  adding: CT_high_viridi/atr-MIR8558b|+|1-297|205-226.ct (deflated 74%)\r\n",
      "  adding: CT_high_viridi/aly-MIR167a-5p|+|1-138|18-38.ct (deflated 71%)\r\n",
      "  adding: CT_high_viridi/aly-MIR159a-5p|+|1-222|23-43.ct (deflated 72%)\r\n",
      "  adding: CT_high_viridi/tae-MIR9666b-5p|+|1-98|13-33.ct (deflated 73%)\r\n",
      "  adding: CT_high_viridi/tae-MIR397|+|1-93|63-83.ct (deflated 73%)\r\n",
      "  adding: CT_high_viridi/zma-MIR166n-5p|+|1-96|2-22.ct (deflated 73%)\r\n",
      "  adding: CT_high_viridi/aly-MIR156a-3p|+|1-184|111-132.ct (deflated 72%)\r\n",
      "  adding: CT_high_viridi/osa-MIR168a-5p|+|1-87|11-31.ct (deflated 73%)\r\n",
      "  adding: CT_high_viridi/zma-MIR156g-3p|+|1-121|99-120.ct (deflated 74%)\r\n",
      "  adding: CT_high_viridi/zma-MIR171d-5p|+|1-121|23-43.ct (deflated 73%)\r\n",
      "  adding: CT_high_viridi/osa-MIR166c-5p|+|1-125|12-31.ct (deflated 73%)\r\n",
      "  adding: CT_high_viridi/tae-MIR6197|+|1-91|11-31.ct (deflated 72%)\r\n",
      "  adding: CT_high_viridi/osa-MIR390-5p|+|1-91|19-39.ct (deflated 73%)\r\n",
      "  adding: CT_high_viridi/zma-MIR529-5p|+|1-126|2-22.ct (deflated 73%)\r\n",
      "  adding: CT_high_viridi/zma-MIR156g-5p|+|1-121|4-23.ct (deflated 74%)\r\n",
      "  adding: CT_high_viridi/osa-MIR166l-5p|+|1-117|13-33.ct (deflated 72%)\r\n",
      "  adding: CT_high_viridi/zma-MIR168b-3p|+|1-104|67-86.ct (deflated 73%)\r\n",
      "  adding: CT_high_viridi/osa-MIR167e-3p|+|1-273|245-265.ct (deflated 75%)\r\n",
      "  adding: CT_high_viridi/osa-MIR156g-5p|+|1-116|4-23.ct (deflated 74%)\r\n"
     ]
    }
   ],
   "source": [
    "!zip -r ct_high_viridi.zip ./CT_high_viridi"
   ]
  },
  {
   "cell_type": "code",
   "execution_count": null,
   "metadata": {},
   "outputs": [],
   "source": []
  }
 ],
 "metadata": {
  "kernelspec": {
   "display_name": "Python 3",
   "language": "python",
   "name": "python3"
  },
  "language_info": {
   "codemirror_mode": {
    "name": "ipython",
    "version": 3
   },
   "file_extension": ".py",
   "mimetype": "text/x-python",
   "name": "python",
   "nbconvert_exporter": "python",
   "pygments_lexer": "ipython3",
   "version": "3.8.10"
  }
 },
 "nbformat": 4,
 "nbformat_minor": 4
}
