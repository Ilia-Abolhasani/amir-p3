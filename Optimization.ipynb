{
 "cells": [
  {
   "cell_type": "markdown",
   "metadata": {
    "ExecuteTime": {
     "end_time": "2022-03-26T17:28:40.942253Z",
     "start_time": "2022-03-26T17:28:29.071444Z"
    }
   },
   "source": [
    "# Import"
   ]
  },
  {
   "cell_type": "code",
   "execution_count": 1,
   "metadata": {
    "ExecuteTime": {
     "end_time": "2022-05-26T10:02:13.612561Z",
     "start_time": "2022-05-26T10:02:12.817794Z"
    }
   },
   "outputs": [],
   "source": [
    "from __future__ import division\n",
    "import warnings\n",
    "warnings.filterwarnings('ignore')\n",
    "\n",
    "from numpy.random import randint\n",
    "from numpy.random import rand\n",
    "import random\n",
    "import math\n",
    "import pandas as pd\n",
    "import numpy as np\n",
    "from tqdm.notebook import tqdm\n",
    "import matplotlib.pyplot as plt\n",
    "from tqdm.contrib.concurrent import process_map"
   ]
  },
  {
   "cell_type": "markdown",
   "metadata": {
    "heading_collapsed": true
   },
   "source": [
    "# Algorithms"
   ]
  },
  {
   "cell_type": "markdown",
   "metadata": {
    "heading_collapsed": true,
    "hidden": true
   },
   "source": [
    "## PSO"
   ]
  },
  {
   "cell_type": "code",
   "execution_count": 2,
   "metadata": {
    "ExecuteTime": {
     "end_time": "2022-05-26T10:02:04.558413Z",
     "start_time": "2022-05-26T10:02:04.539179Z"
    },
    "code_folding": [
     0
    ],
    "hidden": true
   },
   "outputs": [],
   "source": [
    "class Particle:\n",
    "    def __init__(self, x0,num_dimensions):\n",
    "        self.num_dimensions = num_dimensions\n",
    "        self.position_i=[]          # particle position\n",
    "        self.velocity_i=[]          # particle velocity\n",
    "        self.pos_best_i=[]          # best position individual\n",
    "        self.err_best_i=-1          # best error individual\n",
    "        self.err_i=-1               # error individual\n",
    "\n",
    "        for i in range(0,num_dimensions):\n",
    "            self.velocity_i.append(random.uniform(-1,1))\n",
    "            self.position_i.append(x0[i])\n",
    "\n",
    "    # evaluate current fitness\n",
    "    def evaluate(self, costFunc):\n",
    "        self.err_i=costFunc(self.position_i)\n",
    "\n",
    "        # check to see if the current position is an individual best\n",
    "        if self.err_i < self.err_best_i or self.err_best_i==-1:\n",
    "            self.pos_best_i=self.position_i\n",
    "            self.err_best_i=self.err_i\n",
    "\n",
    "    # update new particle velocity\n",
    "    def update_velocity(self, pos_best_g):\n",
    "        w = 0.7       # constant inertia weight (how much to weigh the previous velocity)\n",
    "        c1 = 1.4        # cognative constant\n",
    "        c2 = 1.4        # social constant\n",
    "\n",
    "        for i in range(0, self.num_dimensions):\n",
    "            r1 = random.random()\n",
    "            r2 = random.random()            \n",
    "            vel_cognitive = c1*r1*(self.pos_best_i[i]-self.position_i[i])\n",
    "            vel_social = c2*r2*(pos_best_g[i]-self.position_i[i])\n",
    "            self.velocity_i[i] = w*self.velocity_i[i]+vel_cognitive+vel_social\n",
    "\n",
    "    # update the particle position based off new velocity updates\n",
    "    def update_position(self, bounds):\n",
    "        for i in range(0, self.num_dimensions):\n",
    "            self.position_i[i] = self.position_i[i]+self.velocity_i[i]\n",
    "\n",
    "            # adjust maximum position if necessary\n",
    "            if self.position_i[i]>bounds[i][1]:\n",
    "                self.position_i[i]=bounds[i][1]\n",
    "\n",
    "            # adjust minimum position if neseccary\n",
    "            if self.position_i[i] < bounds[i][0]:\n",
    "                self.position_i[i]=bounds[i][0]\n",
    "\n",
    "\n",
    "def evaluation(particle):\n",
    "    particle.evaluate(cost_function)\n",
    "    return particle\n",
    "\n",
    "\n",
    "class PSO:\n",
    "    def __init__(self, costFunc, bounds, num_particles, maxiter, num_dimensions):\n",
    "        err_best_g = -1\n",
    "        pos_best_g = []        \n",
    "        swarm = []\n",
    "                \n",
    "        swarm = []\n",
    "        for i in range(0, num_particles):\n",
    "            x0 = [random.uniform(bounds[j][0],bounds[j][1]) for j in range(num_dimensions)]\n",
    "            swarm.append(Particle(x0, num_dimensions))            \n",
    "        \n",
    "        ############## main loop #######################\n",
    "        for i in range(maxiter):                       \n",
    "            counter = 0 \n",
    "            for particle in process_map(evaluation, swarm, tqdm_class=tqdm, max_workers=22, chunksize=5):\n",
    "                if particle.err_i < err_best_g or err_best_g == -1:\n",
    "                    pos_best_g=list(particle.position_i)\n",
    "                    err_best_g=float(particle.err_i)                \n",
    "                swarm[counter] = particle\n",
    "                counter += 1\n",
    "            \n",
    "            # cycle through swarm and update velocities and position                        \n",
    "            for j in range(0,num_particles):\n",
    "                swarm[j].update_velocity(pos_best_g)\n",
    "                swarm[j].update_position(bounds)                        \n",
    "            print(err_best_g)                        \n",
    "            print(pos_best_g)\n",
    "        # print final results        \n",
    "        print(pos_best_g)\n",
    "        print(err_best_g)"
   ]
  },
  {
   "cell_type": "markdown",
   "metadata": {
    "heading_collapsed": true,
    "hidden": true
   },
   "source": [
    "## GA"
   ]
  },
  {
   "cell_type": "code",
   "execution_count": 2,
   "metadata": {
    "ExecuteTime": {
     "end_time": "2022-05-26T10:02:13.653390Z",
     "start_time": "2022-05-26T10:02:13.625897Z"
    },
    "code_folding": [],
    "hidden": true
   },
   "outputs": [],
   "source": [
    "class Individual:\n",
    "    def __init__(self, costFunc, bounds, num_dimensions, r_mut, new=True):\n",
    "        self.num_dimensions = num_dimensions\n",
    "        self.bounds = bounds    \n",
    "        self.r_mut = r_mut\n",
    "        self.costFunc = costFunc\n",
    "        if(new):\n",
    "            self.random_solution()\n",
    "            self.evaluate()\n",
    "    \n",
    "    def copy(self):\n",
    "        clone = Individual(self.costFunc, self.bounds, self.num_dimensions, self.r_mut, new=False)\n",
    "        clone.position = self.position.copy()\n",
    "        clone.cost = self.cost\n",
    "        return clone\n",
    "    \n",
    "    def random_solution(self):\n",
    "        self.position = [random.uniform(bound[0], bound[1]) for bound in self.bounds]        \n",
    "        \n",
    "    def evaluate(self):\n",
    "        self.cost = self.costFunc(self.position)        \n",
    "        \n",
    "    def mutation(self):                \n",
    "        for i in range(self.num_dimensions):\n",
    "            if rand() < self.r_mut:        \n",
    "                self.position[i] = random.uniform(self.bounds[i][0], self.bounds[i][1])                        \n",
    "\n",
    "class Genetic_Algorithm:\n",
    "    def create_individual(self, inp):\n",
    "        return Individual(self.costFunc, self.bounds, self.num_dimensions, self.r_mut)\n",
    "    \n",
    "    def selection(self, scores, k=3):    \n",
    "        selection_ix = randint(len(self.pop))        \n",
    "        for ix in randint(0, len(self.pop), k-1):        \n",
    "            if scores[ix] < scores[selection_ix]:\n",
    "                selection_ix = ix\n",
    "        return self.pop[selection_ix]\n",
    "    \n",
    "    def crossover_one_point(self, p1, p2):    \n",
    "        c1 = p1.copy()\n",
    "        c2 = p2.copy()            \n",
    "        if rand() < self.r_cross:                 \n",
    "            pt = randint(1, len(p1.position)-2)                    \n",
    "            c1.position = p1.position[:pt] + p2.position[pt:]\n",
    "            c2.position = p2.position[:pt] + p1.position[pt:]                \n",
    "        return [c1, c2]\n",
    "    \n",
    "    def crossover_uniform(self, p1, p2):    \n",
    "        c1 = p1.copy()\n",
    "        c2 = p2.copy()            \n",
    "        for i in range(len(p1.position)):\n",
    "            if(rand() < 0.5):\n",
    "                c1.position[i] = p2.position[i] \n",
    "                c2.position[i] = p1.position[i]                 \n",
    "        return [c1, c2]\n",
    "    \n",
    "    def apply_operations(self, index):        \n",
    "        p1 = self.selected[index]        \n",
    "        p2 = self.selected[index+1]      \n",
    "        if(rand() > 0.5):\n",
    "            c1, c2 = self.crossover_one_point(p1, p2)                        \n",
    "        else:\n",
    "            c1, c2 = self.crossover_uniform(p1, p2)                        \n",
    "        c1.mutation()\n",
    "        c2.mutation()\n",
    "        c1.evaluate()\n",
    "        c2.evaluate()\n",
    "        return [c1, c2]\n",
    "\n",
    "    def __init__(self, costFunc, bounds, num_individual, maxiter, num_dimensions, r_cross, r_mut):                    \n",
    "        self.costFunc = costFunc\n",
    "        self.bounds = bounds\n",
    "        self.num_individual = num_individual\n",
    "        self.maxiter = maxiter\n",
    "        self.num_dimensions = num_dimensions\n",
    "        self.r_cross = r_cross\n",
    "        self.r_mut = r_mut\n",
    "        \n",
    "        best = self.create_individual(None)\n",
    "        \n",
    "        self.pop = []\n",
    "        for individual in process_map(self.create_individual, range(0,num_individual), tqdm_class=tqdm, max_workers=22, chunksize=5):\n",
    "            self.pop.append(individual)                        \n",
    "    \n",
    "        for gen in tqdm(range(maxiter)):\n",
    "            scores = [individual.cost for individual in self.pop]        \n",
    "            for individual in self.pop:\n",
    "                if individual.cost < best.cost:\n",
    "                    best = individual.copy()\n",
    "                    \n",
    "            self.selected = [self.selection(scores) for _ in range(num_individual)]        \n",
    "            self.pop = list()\n",
    "            for [p1, p2] in process_map(self.apply_operations, range(0, num_individual, 2), tqdm_class=tqdm, max_workers=22, chunksize=5):\n",
    "                self.pop.append(p1)\n",
    "                self.pop.append(p2)       \n",
    "            print(best.cost)\n",
    "            print(best.position)\n",
    "        return [best.cost, best.position]"
   ]
  },
  {
   "cell_type": "markdown",
   "metadata": {},
   "source": [
    "# Main"
   ]
  },
  {
   "cell_type": "code",
   "execution_count": 6,
   "metadata": {
    "ExecuteTime": {
     "end_time": "2022-05-26T10:02:37.548893Z",
     "start_time": "2022-05-26T10:02:37.523598Z"
    }
   },
   "outputs": [],
   "source": [
    "def cost_function(solution):       \n",
    "    pass"
   ]
  },
  {
   "cell_type": "code",
   "execution_count": null,
   "metadata": {
    "ExecuteTime": {
     "start_time": "2022-05-26T10:02:16.794Z"
    }
   },
   "outputs": [],
   "source": [
    "num_dimensions = len(config[\"means\"]) + 1 + 3\n",
    "\n",
    "bounds = [            \n",
    "    *[(-100, 100) for i in range(len(config[\"means\"]) + 1)],\n",
    "    *[(0.001, 5),(0.001, 1), (0.001, 0.35)] #trigger_coeff, resistance_coeff, buy_each_time\n",
    "    ]\n",
    "#PSO(cost_function, bounds, num_particles=1000, maxiter=50, num_dimensions=num_dimensions)\n",
    "\n",
    "r_cross = 0.9\n",
    "r_mut = 1.0 / float(num_dimensions)\n",
    "r_mut /= 2\n",
    "Genetic_Algorithm(costFunc=cost_function,\n",
    "                  bounds=bounds, \n",
    "                  num_individual=5000,\n",
    "                  maxiter=50,\n",
    "                  num_dimensions=num_dimensions, \n",
    "                  r_cross=r_cross,\n",
    "                  r_mut=r_mut)"
   ]
  },
  {
   "cell_type": "code",
   "execution_count": null,
   "metadata": {},
   "outputs": [],
   "source": []
  },
  {
   "cell_type": "code",
   "execution_count": null,
   "metadata": {},
   "outputs": [],
   "source": []
  }
 ],
 "metadata": {
  "kernelspec": {
   "display_name": "Python 3",
   "language": "python",
   "name": "python3"
  },
  "language_info": {
   "codemirror_mode": {
    "name": "ipython",
    "version": 3
   },
   "file_extension": ".py",
   "mimetype": "text/x-python",
   "name": "python",
   "nbconvert_exporter": "python",
   "pygments_lexer": "ipython3",
   "version": "3.8.10"
  }
 },
 "nbformat": 4,
 "nbformat_minor": 4
}
