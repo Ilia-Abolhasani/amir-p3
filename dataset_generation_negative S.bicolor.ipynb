{
 "cells": [
  {
   "cell_type": "markdown",
   "metadata": {
    "ExecuteTime": {
     "end_time": "2022-06-15T21:49:38.290957Z",
     "start_time": "2022-06-15T21:49:38.286712Z"
    },
    "heading_collapsed": true
   },
   "source": [
    "# Config"
   ]
  },
  {
   "cell_type": "code",
   "execution_count": 1,
   "metadata": {
    "ExecuteTime": {
     "end_time": "2022-09-15T10:39:24.464223Z",
     "start_time": "2022-09-15T10:39:24.456579Z"
    },
    "hidden": true
   },
   "outputs": [],
   "source": [
    "plant = \"S.bicolor\"\n",
    "plant_name = \"Sorghum bicolor\"\n",
    "input_genome_name = \"GCF_000003195.3_Sorghum_bicolor_NCBIv3_genomic.fna\"\n",
    "\n",
    "experiment_dir = \"./Experiment\"\n",
    "experiment = f\"{plant}/negative\"\n",
    "\n",
    "input_genome_path = f'{experiment_dir}/{plant}/{input_genome_name}'\n",
    "\n",
    "temp_path = f\"{experiment_dir}/{experiment}/Temp\"\n",
    "result_path = f\"{experiment_dir}/{experiment}/Result\"\n",
    "\n",
    "temp_path_f = temp_path.replace(\" \", \"\\ \")\n",
    "result_path_f = result_path.replace(\" \", \"\\ \")"
   ]
  },
  {
   "cell_type": "code",
   "execution_count": 2,
   "metadata": {
    "ExecuteTime": {
     "end_time": "2022-09-15T10:39:25.410085Z",
     "start_time": "2022-09-15T10:39:25.388775Z"
    },
    "hidden": true
   },
   "outputs": [],
   "source": [
    "import os\n",
    "if(not os.path.exists(f'{experiment_dir}/{experiment}')):\n",
    "    os.mkdir(f'{experiment_dir}/{experiment}')"
   ]
  },
  {
   "cell_type": "markdown",
   "metadata": {
    "heading_collapsed": true
   },
   "source": [
    "# Common"
   ]
  },
  {
   "cell_type": "code",
   "execution_count": 3,
   "metadata": {
    "ExecuteTime": {
     "end_time": "2022-09-15T10:39:26.184576Z",
     "start_time": "2022-09-15T10:39:26.180352Z"
    },
    "hidden": true
   },
   "outputs": [],
   "source": [
    "#!pip install tqdm"
   ]
  },
  {
   "cell_type": "code",
   "execution_count": 4,
   "metadata": {
    "ExecuteTime": {
     "end_time": "2022-09-15T10:39:27.733339Z",
     "start_time": "2022-09-15T10:39:26.437197Z"
    },
    "hidden": true
   },
   "outputs": [],
   "source": [
    "import json\n",
    "import time\n",
    "from subprocess import Popen, PIPE, STDOUT\n",
    "import math\n",
    "import numpy as np\n",
    "import pandas as pd\n",
    "import hashlib\n",
    "import requests\n",
    "import os, sys, subprocess\n",
    "from tqdm.contrib.concurrent import process_map\n",
    "from tqdm.notebook import tqdm\n",
    "tqdm.pandas()\n",
    "import multiprocessing as mp\n",
    "import shutil\n",
    "import urllib.parse\n",
    "import glob\n",
    "import os\n",
    "import sys\n",
    "import networkx\n",
    "from networkx.algorithms.clique import find_cliques as maximal_cliques\n",
    "from ast import literal_eval\n",
    "if sys.version_info[0] < 3: \n",
    "    from StringIO import StringIO\n",
    "else:\n",
    "    from io import StringIO\n",
    "sys.path.append(\"./src/\")\n",
    "from ct_analizer import get_row\n",
    "from filter1 import filter1_run\n",
    "from filter2 import filter2"
   ]
  },
  {
   "cell_type": "code",
   "execution_count": 5,
   "metadata": {
    "ExecuteTime": {
     "end_time": "2022-09-15T10:39:27.743244Z",
     "start_time": "2022-09-15T10:39:27.737572Z"
    },
    "hidden": true
   },
   "outputs": [],
   "source": [
    "if(not os.path.exists(temp_path)):\n",
    "    os.mkdir(temp_path)\n",
    "    \n",
    "if(not os.path.exists(result_path)):\n",
    "    os.mkdir(result_path)"
   ]
  },
  {
   "cell_type": "code",
   "execution_count": 6,
   "metadata": {
    "ExecuteTime": {
     "end_time": "2022-09-15T10:39:27.750919Z",
     "start_time": "2022-09-15T10:39:27.747268Z"
    },
    "hidden": true
   },
   "outputs": [],
   "source": [
    "current_path = os.getcwd()"
   ]
  },
  {
   "cell_type": "code",
   "execution_count": 7,
   "metadata": {
    "ExecuteTime": {
     "end_time": "2022-09-15T10:39:27.759344Z",
     "start_time": "2022-09-15T10:39:27.754351Z"
    },
    "hidden": true
   },
   "outputs": [],
   "source": [
    "def bracket_row(row):    \n",
    "    s = row['data']\n",
    "    index = min(s.find('.'), s.find('('))\n",
    "    data = row['data']\n",
    "    row['data'] = data[0:index]\n",
    "    row['bracket'] = data[index:]\n",
    "    return row"
   ]
  },
  {
   "cell_type": "code",
   "execution_count": 8,
   "metadata": {
    "ExecuteTime": {
     "end_time": "2022-09-15T10:39:27.766658Z",
     "start_time": "2022-09-15T10:39:27.762557Z"
    },
    "hidden": true
   },
   "outputs": [],
   "source": [
    "def adjust(text,n=7):\n",
    "    text = str(text)    \n",
    "    return \" \" * (n - len(text)) + text"
   ]
  },
  {
   "cell_type": "code",
   "execution_count": 9,
   "metadata": {
    "ExecuteTime": {
     "end_time": "2022-09-15T10:39:27.781323Z",
     "start_time": "2022-09-15T10:39:27.770497Z"
    },
    "hidden": true
   },
   "outputs": [],
   "source": [
    "def bracket_to_ct(tag, data, bracket, deltaG, negative_deltaG=True):    \n",
    "    deltaG = deltaG.replace('(','').replace(')','')\n",
    "    deltaG = float(deltaG)\n",
    "    if(deltaG > 0 and negative_deltaG ): # negetive?!\n",
    "        deltaG = -1 * deltaG\n",
    "    stack = []\n",
    "    index = np.zeros((len(bracket)), dtype = int)\n",
    "    values = np.zeros((len(bracket)), dtype = int)\n",
    "    for i in range(len(bracket)):\n",
    "        index[i] = i + 1\n",
    "        if(bracket[i] == '.'):\n",
    "            values[i] = 0\n",
    "        elif(bracket[i] == '('):\n",
    "            stack.append(i)\n",
    "        elif(bracket[i] == ')'):\n",
    "            if(len(stack) == 0 ):\n",
    "                print('structure error!')\n",
    "            values[stack[-1]] = i + 1\n",
    "            values[i]  = stack[-1] + 1\n",
    "            stack.pop()\n",
    "        else:\n",
    "            print('structure error!')\n",
    "    if(len(stack) != 0 ):\n",
    "        print('structure error!')\n",
    "    # body    \n",
    "    ct = f\"{adjust(len(data),6)} dG ={adjust(deltaG,10)} {tag}\\n\"   \n",
    "    for i in range(len(bracket)):\n",
    "        ct += f\"{adjust(index[i],6)} {data[i]} {adjust(i,6)} {adjust((i+2)%(len(data)+1),6)} {adjust(values[i],6)} {adjust(index[i],7)}\\n\"\n",
    "    return ct"
   ]
  },
  {
   "cell_type": "code",
   "execution_count": 10,
   "metadata": {
    "ExecuteTime": {
     "end_time": "2022-09-15T10:39:27.964186Z",
     "start_time": "2022-09-15T10:39:27.953488Z"
    },
    "hidden": true
   },
   "outputs": [],
   "source": [
    "def fasta_to_df(path):\n",
    "    with open(path, 'r') as file:\n",
    "        text = file.read()\n",
    "    lines = [line for line in text.split('\\n') if len(line) > 0]\n",
    "    s = ''\n",
    "    tags = []\n",
    "    data = []\n",
    "    for l in lines:\n",
    "        if(l[0]=='>'):\n",
    "            tags.append(l)        \n",
    "            data.append(s)\n",
    "            s = ''\n",
    "        else:\n",
    "            s += l    \n",
    "    data.append(s)\n",
    "    df = pd.DataFrame(\n",
    "            {\n",
    "                'tag': tags,\n",
    "                'data': data[1:]\n",
    "            })\n",
    "    df['tag'] = df['tag'].apply(lambda x: x[1:])    \n",
    "    return df"
   ]
  },
  {
   "cell_type": "code",
   "execution_count": 11,
   "metadata": {
    "ExecuteTime": {
     "end_time": "2022-09-15T10:39:28.122476Z",
     "start_time": "2022-09-15T10:39:28.116994Z"
    },
    "hidden": true
   },
   "outputs": [],
   "source": [
    "def df_to_fasta(df, path):\n",
    "    lines = []\n",
    "    df.apply(lambda row: lines.append(f\">{row['tag']}\\n{row['data']}\\n\"),axis=1)\n",
    "    with open(path,'w') as file:\n",
    "        file.write(''.join(lines))"
   ]
  },
  {
   "cell_type": "code",
   "execution_count": 12,
   "metadata": {
    "ExecuteTime": {
     "end_time": "2022-09-15T10:39:28.308294Z",
     "start_time": "2022-09-15T10:39:28.303634Z"
    },
    "hidden": true
   },
   "outputs": [],
   "source": [
    "def reformat(path):\n",
    "    return path.replace('(','_').replace(')','_').replace('.','').replace(':','_')"
   ]
  },
  {
   "cell_type": "code",
   "execution_count": 13,
   "metadata": {
    "ExecuteTime": {
     "end_time": "2022-09-15T10:39:28.474823Z",
     "start_time": "2022-09-15T10:39:28.466492Z"
    },
    "hidden": true
   },
   "outputs": [],
   "source": [
    "def reformatCT(path):\n",
    "    with open(path, 'r') as file:\n",
    "        text = file.read()\n",
    "    text = [l for l in text.split('\\n') if len(l) > 0 ] # remove blank lines\n",
    "    text = '\\n'.join(text)\n",
    "    text = text.replace(\"\\t\",\" \")\n",
    "    while(\"  \" in text):\n",
    "        text = text.replace(\"  \", \" \")\n",
    "    lines = [l for l in text.split('\\n')]\n",
    "    for i in range(len(lines)):\n",
    "        if(lines[i][0] == \" \"):\n",
    "            lines[i] = lines[i][1:]\n",
    "        if(lines[i][-1] == \" \"):\n",
    "            lines[i] = lines[i][:-1]\n",
    "    text = '\\n'.join(lines)\n",
    "    return text"
   ]
  },
  {
   "cell_type": "code",
   "execution_count": 14,
   "metadata": {
    "ExecuteTime": {
     "end_time": "2022-09-15T10:39:28.623216Z",
     "start_time": "2022-09-15T10:39:28.617224Z"
    },
    "hidden": true
   },
   "outputs": [],
   "source": [
    "def get_ct_data(ct):\n",
    "    ct = \"\\n\".join(ct.split('\\n')[1:])\n",
    "    df = pd.read_csv(StringIO(ct), sep=\" \", header=None)               \n",
    "    nucleotide = df.iloc[:,1]\n",
    "    index = df.iloc[:,5]\n",
    "    values = df.iloc[:,4]\n",
    "    return [nucleotide, index, values]"
   ]
  },
  {
   "cell_type": "code",
   "execution_count": 15,
   "metadata": {
    "ExecuteTime": {
     "end_time": "2022-09-15T10:39:28.762727Z",
     "start_time": "2022-09-15T10:39:28.756301Z"
    },
    "hidden": true
   },
   "outputs": [],
   "source": [
    "def ct2dot_bracket(path):\n",
    "    [nucleotide, index, values] = get_ct_data(reformatCT(path))\n",
    "    text = ''.join(nucleotide) + \"\\n\"\n",
    "    watch = []\n",
    "    for i, v in zip(index,values):\n",
    "        if(v == 0):\n",
    "            text += '.'\n",
    "        else:\n",
    "            if( v not in watch):\n",
    "                text += '('\n",
    "                watch.append(i)\n",
    "            if( v in watch):\n",
    "                text += ')'\n",
    "    return text"
   ]
  },
  {
   "cell_type": "code",
   "execution_count": 16,
   "metadata": {
    "ExecuteTime": {
     "end_time": "2022-09-15T10:39:28.905746Z",
     "start_time": "2022-09-15T10:39:28.899849Z"
    },
    "hidden": true
   },
   "outputs": [],
   "source": [
    "def is_nested(index, values):\n",
    "    max_value = max(index) + 10 # inf\n",
    "    for i, v in zip(index, values):\n",
    "        if(v < max_value and v != 0):\n",
    "            max_value  = v\n",
    "        if(i >= max_value):\n",
    "            max_value = max(index) + 10 # inf\n",
    "        if(v > max_value):\n",
    "            return False               \n",
    "    return True"
   ]
  },
  {
   "cell_type": "markdown",
   "metadata": {
    "heading_collapsed": true
   },
   "source": [
    "# Download data from Mirbase"
   ]
  },
  {
   "cell_type": "code",
   "execution_count": 17,
   "metadata": {
    "ExecuteTime": {
     "end_time": "2022-09-15T10:39:29.201336Z",
     "start_time": "2022-09-15T10:39:29.197227Z"
    },
    "hidden": true
   },
   "outputs": [],
   "source": [
    "directory = './miRBase'\n",
    "base = \"https://www.mirbase.org/ftp/CURRENT\"        "
   ]
  },
  {
   "cell_type": "code",
   "execution_count": 18,
   "metadata": {
    "ExecuteTime": {
     "end_time": "2022-09-15T10:39:29.501145Z",
     "start_time": "2022-09-15T10:39:29.335709Z"
    },
    "hidden": true
   },
   "outputs": [],
   "source": [
    "mature = fasta_to_df(f'{directory}/mature.fa')\n",
    "mature_high_conf = fasta_to_df(f'{directory}/mature_high_conf.fa')\n",
    "mature['trim tag'] = mature['tag'].apply(lambda line: ' '.join(line.split(' ')[:2]))\n",
    "mature['confidence'] = mature['trim tag'].isin(mature_high_conf['tag'])"
   ]
  },
  {
   "cell_type": "code",
   "execution_count": 19,
   "metadata": {
    "ExecuteTime": {
     "end_time": "2022-09-15T10:39:29.553062Z",
     "start_time": "2022-09-15T10:39:29.505741Z"
    },
    "hidden": true
   },
   "outputs": [
    {
     "name": "stdout",
     "output_type": "stream",
     "text": [
      "(48885, 5)\n"
     ]
    },
    {
     "data": {
      "text/html": [
       "<div>\n",
       "<style scoped>\n",
       "    .dataframe tbody tr th:only-of-type {\n",
       "        vertical-align: middle;\n",
       "    }\n",
       "\n",
       "    .dataframe tbody tr th {\n",
       "        vertical-align: top;\n",
       "    }\n",
       "\n",
       "    .dataframe thead th {\n",
       "        text-align: right;\n",
       "    }\n",
       "</style>\n",
       "<table border=\"1\" class=\"dataframe\">\n",
       "  <thead>\n",
       "    <tr style=\"text-align: right;\">\n",
       "      <th></th>\n",
       "      <th>tag</th>\n",
       "      <th>data</th>\n",
       "      <th>trim tag</th>\n",
       "      <th>confidence</th>\n",
       "      <th>organism</th>\n",
       "    </tr>\n",
       "  </thead>\n",
       "  <tbody>\n",
       "    <tr>\n",
       "      <th>0</th>\n",
       "      <td>cel-let-7-5p MIMAT0000001 Caenorhabditis elega...</td>\n",
       "      <td>UGAGGUAGUAGGUUGUAUAGUU</td>\n",
       "      <td>cel-let-7-5p MIMAT0000001</td>\n",
       "      <td>True</td>\n",
       "      <td>cel</td>\n",
       "    </tr>\n",
       "    <tr>\n",
       "      <th>1</th>\n",
       "      <td>cel-let-7-3p MIMAT0015091 Caenorhabditis elega...</td>\n",
       "      <td>CUAUGCAAUUUUCUACCUUACC</td>\n",
       "      <td>cel-let-7-3p MIMAT0015091</td>\n",
       "      <td>True</td>\n",
       "      <td>cel</td>\n",
       "    </tr>\n",
       "  </tbody>\n",
       "</table>\n",
       "</div>"
      ],
      "text/plain": [
       "                                                 tag                    data  \\\n",
       "0  cel-let-7-5p MIMAT0000001 Caenorhabditis elega...  UGAGGUAGUAGGUUGUAUAGUU   \n",
       "1  cel-let-7-3p MIMAT0015091 Caenorhabditis elega...  CUAUGCAAUUUUCUACCUUACC   \n",
       "\n",
       "                    trim tag  confidence organism  \n",
       "0  cel-let-7-5p MIMAT0000001        True      cel  \n",
       "1  cel-let-7-3p MIMAT0015091        True      cel  "
      ]
     },
     "execution_count": 19,
     "metadata": {},
     "output_type": "execute_result"
    }
   ],
   "source": [
    "mature['organism'] = mature['tag'].apply(lambda x: x[:3])\n",
    "print(mature.shape)\n",
    "mature.head(2)"
   ]
  },
  {
   "cell_type": "code",
   "execution_count": 20,
   "metadata": {
    "ExecuteTime": {
     "end_time": "2022-09-15T10:39:29.651647Z",
     "start_time": "2022-09-15T10:39:29.629149Z"
    },
    "hidden": true
   },
   "outputs": [
    {
     "name": "stdout",
     "output_type": "stream",
     "text": [
      "(285, 5)\n"
     ]
    },
    {
     "data": {
      "text/html": [
       "<div>\n",
       "<style scoped>\n",
       "    .dataframe tbody tr th:only-of-type {\n",
       "        vertical-align: middle;\n",
       "    }\n",
       "\n",
       "    .dataframe tbody tr th {\n",
       "        vertical-align: top;\n",
       "    }\n",
       "\n",
       "    .dataframe thead th {\n",
       "        text-align: right;\n",
       "    }\n",
       "</style>\n",
       "<table border=\"1\" class=\"dataframe\">\n",
       "  <thead>\n",
       "    <tr style=\"text-align: right;\">\n",
       "      <th></th>\n",
       "      <th>organism</th>\n",
       "      <th>division</th>\n",
       "      <th>name</th>\n",
       "      <th>tree</th>\n",
       "      <th>NCBI-taxid</th>\n",
       "    </tr>\n",
       "  </thead>\n",
       "  <tbody>\n",
       "    <tr>\n",
       "      <th>0</th>\n",
       "      <td>aqu</td>\n",
       "      <td>AQU</td>\n",
       "      <td>Amphimedon queenslandica</td>\n",
       "      <td>Metazoa;Porifera;</td>\n",
       "      <td>400682</td>\n",
       "    </tr>\n",
       "    <tr>\n",
       "      <th>1</th>\n",
       "      <td>nve</td>\n",
       "      <td>NVE</td>\n",
       "      <td>Nematostella vectensis</td>\n",
       "      <td>Metazoa;Cnidaria;</td>\n",
       "      <td>45351</td>\n",
       "    </tr>\n",
       "  </tbody>\n",
       "</table>\n",
       "</div>"
      ],
      "text/plain": [
       "  organism division                      name               tree  NCBI-taxid\n",
       "0      aqu      AQU  Amphimedon queenslandica  Metazoa;Porifera;      400682\n",
       "1      nve      NVE    Nematostella vectensis  Metazoa;Cnidaria;       45351"
      ]
     },
     "execution_count": 20,
     "metadata": {},
     "output_type": "execute_result"
    }
   ],
   "source": [
    "organism = pd.read_csv(f'./{directory}/organisms.txt',sep='\\t')\n",
    "organism.columns = [c.replace('#','') for c in organism.columns] # remove sharp from columns\n",
    "print(organism.shape)\n",
    "organism.head(2)"
   ]
  },
  {
   "cell_type": "code",
   "execution_count": 21,
   "metadata": {
    "ExecuteTime": {
     "end_time": "2022-09-15T10:39:29.793557Z",
     "start_time": "2022-09-15T10:39:29.782782Z"
    },
    "hidden": true
   },
   "outputs": [
    {
     "data": {
      "text/plain": [
       "['Viruses;',\n",
       " 'Mycetozoa;',\n",
       " 'Alveolata;',\n",
       " 'Metazoa;Porifera;',\n",
       " 'Metazoa;Cnidaria;',\n",
       " 'Viridiplantae;Chlorophyta;',\n",
       " 'Viridiplantae;Embryophyta;',\n",
       " 'Viridiplantae;Coniferophyta;',\n",
       " 'Viridiplantae;Magnoliophyta;',\n",
       " 'Metazoa;Bilateria;Deuterostoma;',\n",
       " 'Chromalveolata;Heterokontophyta;',\n",
       " 'Metazoa;Bilateria;Ecdysozoa;Nematoda;',\n",
       " 'Metazoa;Bilateria;Lophotrochozoa;Annelida;',\n",
       " 'Metazoa;Bilateria;Lophotrochozoa;Nemertea;',\n",
       " 'Metazoa;Bilateria;Lophotrochozoa;Mollusca;',\n",
       " 'Viridiplantae;Magnoliophyta;monocotyledons;',\n",
       " 'Metazoa;Bilateria;Deuterostoma;Hemichordata;',\n",
       " 'Metazoa;Bilateria;Deuterostoma;Echinodermata;',\n",
       " 'Metazoa;Bilateria;Lophotrochozoa;Brachiopoda;',\n",
       " 'Metazoa;Bilateria;Ecdysozoa;Arthropoda;Hexapoda;',\n",
       " 'Metazoa;Bilateria;Ecdysozoa;Arthropoda;Crustacea;',\n",
       " 'Metazoa;Bilateria;Lophotrochozoa;Platyhelminthes;',\n",
       " 'Metazoa;Bilateria;Ecdysozoa;Arthropoda;Chelicerata;',\n",
       " 'Metazoa;Bilateria;Ecdysozoa;Arthropoda;Mandibulata;',\n",
       " 'Viridiplantae;Magnoliophyta;eudicotyledons;Poaceae;',\n",
       " 'Metazoa;Bilateria;Deuterostoma;Chordata;Urochordata;',\n",
       " 'Viridiplantae;Magnoliophyta;eudicotyledons;Fabaceae;',\n",
       " 'Viridiplantae;Magnoliophyta;eudicotyledons;Vitaceae;',\n",
       " 'Viridiplantae;Magnoliophyta;eudicotyledons;Rosaceae;',\n",
       " 'Viridiplantae;Magnoliophyta;eudicotyledons;Rutaceae;',\n",
       " 'Viridiplantae;Magnoliophyta;eudicotyledons;Lamiales;',\n",
       " 'Viridiplantae;Magnoliophyta;eudicotyledons;Linaceae;',\n",
       " 'Viridiplantae;Magnoliophyta;eudicotyledons;Malvaceae;',\n",
       " 'Viridiplantae;Magnoliophyta;eudicotyledons;Myrtaceae;',\n",
       " 'Viridiplantae;Magnoliophyta;eudicotyledons;Caricaceae;',\n",
       " 'Viridiplantae;Magnoliophyta;eudicotyledons;Salicaceae;',\n",
       " 'Viridiplantae;Magnoliophyta;eudicotyledons;Solanaceae;',\n",
       " 'Viridiplantae;Magnoliophyta;eudicotyledons;Asteraceae;',\n",
       " 'Viridiplantae;Magnoliophyta;eudicotyledons;Araliaceae;',\n",
       " 'Viridiplantae;Magnoliophyta;eudicotyledons;Paeoniaceae;',\n",
       " 'Metazoa;Bilateria;Deuterostoma;Chordata;Cephalochordata;',\n",
       " 'Metazoa;Bilateria;Deuterostoma;Chordata;Vertebrata;Aves;',\n",
       " 'Viridiplantae;Magnoliophyta;eudicotyledons;Brassicaceae;',\n",
       " 'Viridiplantae;Magnoliophyta;eudicotyledons;Papaveraceae;',\n",
       " 'Viridiplantae;Magnoliophyta;eudicotyledons;Ranunculaceae;',\n",
       " 'Viridiplantae;Magnoliophyta;eudicotyledons;Euphorbiaceae;',\n",
       " 'Viridiplantae;Magnoliophyta;eudicotyledons;Cucurbitaceae;',\n",
       " 'Viridiplantae;Magnoliophyta;eudicotyledons;Amaranthaceae;',\n",
       " 'Viridiplantae;Magnoliophyta;eudicotyledons;Rhizophoraceae;',\n",
       " 'Metazoa;Bilateria;Deuterostoma;Chordata;Vertebrata;Sauria;',\n",
       " 'Metazoa;Bilateria;Deuterostoma;Chordata;Vertebrata;Amphibia;',\n",
       " 'Metazoa;Bilateria;Deuterostoma;Chordata;Vertebrata;Teleostei;',\n",
       " 'Metazoa;Bilateria;Deuterostoma;Chordata;Vertebrata;Gnathostomata;',\n",
       " 'Metazoa;Bilateria;Deuterostoma;Chordata;Vertebrata;Mammalia;Suina;',\n",
       " 'Metazoa;Bilateria;Deuterostoma;Chordata;Vertebrata;Agnathostomata;',\n",
       " 'Metazoa;Bilateria;Deuterostoma;Chordata;Vertebrata;Mammalia;Rodentia;',\n",
       " 'Metazoa;Bilateria;Deuterostoma;Chordata;Vertebrata;Mammalia;Carnivora;',\n",
       " 'Metazoa;Bilateria;Deuterostoma;Chordata;Vertebrata;Mammalia;Cingulata;',\n",
       " 'Metazoa;Bilateria;Deuterostoma;Chordata;Vertebrata;Mammalia;Metatheria;',\n",
       " 'Metazoa;Bilateria;Deuterostoma;Chordata;Vertebrata;Mammalia;Ruminantia;',\n",
       " 'Metazoa;Bilateria;Deuterostoma;Chordata;Vertebrata;Mammalia;Lagomorpha;',\n",
       " 'Metazoa;Bilateria;Deuterostoma;Chordata;Vertebrata;Mammalia;Scandentia;',\n",
       " 'Metazoa;Bilateria;Deuterostoma;Chordata;Vertebrata;Mammalia;Afrotheria;',\n",
       " 'Metazoa;Bilateria;Deuterostoma;Chordata;Vertebrata;Mammalia;Prototheria;',\n",
       " 'Metazoa;Bilateria;Deuterostoma;Chordata;Vertebrata;Mammalia;Laurasiatheria;',\n",
       " 'Metazoa;Bilateria;Deuterostoma;Chordata;Vertebrata;Mammalia;Primates;Cebidae;',\n",
       " 'Metazoa;Bilateria;Deuterostoma;Chordata;Vertebrata;Mammalia;Primates;Atelidae;',\n",
       " 'Metazoa;Bilateria;Deuterostoma;Chordata;Vertebrata;Mammalia;Primates;Hominidae;',\n",
       " 'Metazoa;Bilateria;Deuterostoma;Chordata;Vertebrata;Mammalia;Primates;Lemuridae;',\n",
       " 'Metazoa;Bilateria;Deuterostoma;Chordata;Vertebrata;Mammalia;Primates;Galagidae;',\n",
       " 'Metazoa;Bilateria;Deuterostoma;Chordata;Vertebrata;Mammalia;Primates;Hylobatidae;',\n",
       " 'Metazoa;Bilateria;Deuterostoma;Chordata;Vertebrata;Mammalia;Primates;Cheirogaleidae;',\n",
       " 'Metazoa;Bilateria;Deuterostoma;Chordata;Vertebrata;Mammalia;Primates;Daubentoniidae;',\n",
       " 'Metazoa;Bilateria;Deuterostoma;Chordata;Vertebrata;Mammalia;Primates;Cercopithecidae;']"
      ]
     },
     "execution_count": 21,
     "metadata": {},
     "output_type": "execute_result"
    }
   ],
   "source": [
    "items = list(organism['tree'].unique())\n",
    "items.sort(key=len)\n",
    "items"
   ]
  },
  {
   "cell_type": "code",
   "execution_count": 22,
   "metadata": {
    "ExecuteTime": {
     "end_time": "2022-09-15T10:39:29.954218Z",
     "start_time": "2022-09-15T10:39:29.935096Z"
    },
    "hidden": true,
    "scrolled": false
   },
   "outputs": [
    {
     "name": "stdout",
     "output_type": "stream",
     "text": [
      "(86, 5)\n"
     ]
    },
    {
     "data": {
      "text/html": [
       "<div>\n",
       "<style scoped>\n",
       "    .dataframe tbody tr th:only-of-type {\n",
       "        vertical-align: middle;\n",
       "    }\n",
       "\n",
       "    .dataframe tbody tr th {\n",
       "        vertical-align: top;\n",
       "    }\n",
       "\n",
       "    .dataframe thead th {\n",
       "        text-align: right;\n",
       "    }\n",
       "</style>\n",
       "<table border=\"1\" class=\"dataframe\">\n",
       "  <thead>\n",
       "    <tr style=\"text-align: right;\">\n",
       "      <th></th>\n",
       "      <th>organism</th>\n",
       "      <th>division</th>\n",
       "      <th>name</th>\n",
       "      <th>tree</th>\n",
       "      <th>NCBI-taxid</th>\n",
       "    </tr>\n",
       "  </thead>\n",
       "  <tbody>\n",
       "    <tr>\n",
       "      <th>66</th>\n",
       "      <td>cre</td>\n",
       "      <td>CRE</td>\n",
       "      <td>Chlamydomonas reinhardtii</td>\n",
       "      <td>Viridiplantae;Chlorophyta;</td>\n",
       "      <td>3055</td>\n",
       "    </tr>\n",
       "    <tr>\n",
       "      <th>67</th>\n",
       "      <td>pta</td>\n",
       "      <td>PTA</td>\n",
       "      <td>Pinus taeda</td>\n",
       "      <td>Viridiplantae;Coniferophyta;</td>\n",
       "      <td>3352</td>\n",
       "    </tr>\n",
       "    <tr>\n",
       "      <th>68</th>\n",
       "      <td>ppt</td>\n",
       "      <td>PPT</td>\n",
       "      <td>Physcomitrella patens</td>\n",
       "      <td>Viridiplantae;Embryophyta;</td>\n",
       "      <td>3218</td>\n",
       "    </tr>\n",
       "    <tr>\n",
       "      <th>69</th>\n",
       "      <td>smo</td>\n",
       "      <td>SMO</td>\n",
       "      <td>Selaginella moellendorffii</td>\n",
       "      <td>Viridiplantae;Embryophyta;</td>\n",
       "      <td>88036</td>\n",
       "    </tr>\n",
       "    <tr>\n",
       "      <th>70</th>\n",
       "      <td>ath</td>\n",
       "      <td>ATH</td>\n",
       "      <td>Arabidopsis thaliana</td>\n",
       "      <td>Viridiplantae;Magnoliophyta;eudicotyledons;Bra...</td>\n",
       "      <td>3702</td>\n",
       "    </tr>\n",
       "  </tbody>\n",
       "</table>\n",
       "</div>"
      ],
      "text/plain": [
       "   organism division                        name  \\\n",
       "66      cre      CRE   Chlamydomonas reinhardtii   \n",
       "67      pta      PTA                 Pinus taeda   \n",
       "68      ppt      PPT       Physcomitrella patens   \n",
       "69      smo      SMO  Selaginella moellendorffii   \n",
       "70      ath      ATH        Arabidopsis thaliana   \n",
       "\n",
       "                                                 tree  NCBI-taxid  \n",
       "66                         Viridiplantae;Chlorophyta;        3055  \n",
       "67                       Viridiplantae;Coniferophyta;        3352  \n",
       "68                         Viridiplantae;Embryophyta;        3218  \n",
       "69                         Viridiplantae;Embryophyta;       88036  \n",
       "70  Viridiplantae;Magnoliophyta;eudicotyledons;Bra...        3702  "
      ]
     },
     "execution_count": 22,
     "metadata": {},
     "output_type": "execute_result"
    }
   ],
   "source": [
    "selectedTree = organism[organism['tree'].apply(lambda x: \"Viridiplantae;\" in x)]\n",
    "print(selectedTree.shape)\n",
    "selectedTree.head(5)"
   ]
  },
  {
   "cell_type": "code",
   "execution_count": 23,
   "metadata": {
    "ExecuteTime": {
     "end_time": "2022-09-15T10:39:30.116203Z",
     "start_time": "2022-09-15T10:39:30.080899Z"
    },
    "hidden": true
   },
   "outputs": [
    {
     "name": "stdout",
     "output_type": "stream",
     "text": [
      "Chlamydomonas reinhardtii\n",
      "Pinus taeda\n",
      "Physcomitrella patens\n",
      "Selaginella moellendorffii\n",
      "Arabidopsis thaliana\n",
      "Brassica napus\n",
      "Brassica oleracea\n",
      "Brassica rapa\n",
      "Carica papaya\n",
      "Glycine max\n",
      "Lotus japonicus\n",
      "Medicago truncatula\n",
      "Vigna unguiculata\n",
      "Gossypium herbaceum\n",
      "Gossypium hirsutum\n",
      "Gossypium raimondii\n",
      "Populus trichocarpa\n",
      "Solanum lycopersicum\n",
      "Vitis vinifera\n",
      "Oryza sativa\n",
      "Sorghum bicolor\n",
      "Saccharum officinarum\n",
      "Triticum aestivum\n",
      "Zea mays\n",
      "Phaseolus vulgaris\n",
      "Malus domestica\n",
      "Brachypodium distachyon\n",
      "Aquilegia caerulea\n",
      "Populus euphratica\n",
      "Citrus sinensis\n",
      "Citrus clementina\n",
      "Citrus reticulata\n",
      "Citrus trifoliata\n",
      "Ricinus communis\n",
      "Gossypium arboreum\n",
      "Arabidopsis lyrata\n",
      "Arachis hypogaea\n",
      "Glycine soja\n",
      "Picea abies\n",
      "Triticum turgidum\n",
      "Aegilops tauschii\n",
      "Hordeum vulgare\n",
      "Papaver somniferum\n",
      "Festuca arundinacea\n",
      "Bruguiera gymnorhiza\n",
      "Bruguiera cylindrica\n",
      "Cunninghamia lanceolata\n",
      "Theobroma cacao\n",
      "Rehmannia glutinosa\n",
      "Cucumis melo\n",
      "Saccharum sp.\n",
      "Acacia mangium\n",
      "Acacia auriculiformis\n",
      "Salvia sclarea\n",
      "Digitalis purpurea\n",
      "Nicotiana tabacum\n",
      "Solanum tuberosum\n",
      "Elaeis guineensis\n",
      "Manihot esculenta\n",
      "Cynara cardunculus\n",
      "Linum usitatissimum\n",
      "Panax ginseng\n",
      "Hevea brasiliensis\n",
      "Prunus mume\n",
      "Pinus densata\n",
      "Helianthus annuus\n",
      "Helianthus ciliaris\n",
      "Helianthus tuberosus\n",
      "Helianthus exilis\n",
      "Helianthus argophyllus\n",
      "Helianthus petiolaris\n",
      "Helianthus paradoxus\n",
      "Prunus persica\n",
      "Avicennia marina\n",
      "Amborella trichopoda\n",
      "Setaria italica\n",
      "Vriesea carinata\n",
      "Eugenia uniflora\n",
      "Salicornia europaea\n",
      "Fragaria vesca\n",
      "Cucumis sativus\n",
      "Camelina sativa\n",
      "Paeonia lactiflora\n",
      "Marchantia polymorpha\n",
      "Salvia miltiorrhiza\n",
      "Asparagus officinalis\n"
     ]
    }
   ],
   "source": [
    "for i in selectedTree['name']:\n",
    "    print(i)"
   ]
  },
  {
   "cell_type": "code",
   "execution_count": 24,
   "metadata": {
    "ExecuteTime": {
     "end_time": "2022-09-15T10:39:30.239829Z",
     "start_time": "2022-09-15T10:39:30.233330Z"
    },
    "hidden": true
   },
   "outputs": [],
   "source": [
    "selectedTree = selectedTree[selectedTree['name'] == plant_name]"
   ]
  },
  {
   "cell_type": "code",
   "execution_count": 25,
   "metadata": {
    "ExecuteTime": {
     "end_time": "2022-09-15T10:39:30.426969Z",
     "start_time": "2022-09-15T10:39:30.393001Z"
    },
    "hidden": true,
    "scrolled": true
   },
   "outputs": [
    {
     "name": "stdout",
     "output_type": "stream",
     "text": [
      "(241, 5)\n"
     ]
    },
    {
     "data": {
      "text/html": [
       "<div>\n",
       "<style scoped>\n",
       "    .dataframe tbody tr th:only-of-type {\n",
       "        vertical-align: middle;\n",
       "    }\n",
       "\n",
       "    .dataframe tbody tr th {\n",
       "        vertical-align: top;\n",
       "    }\n",
       "\n",
       "    .dataframe thead th {\n",
       "        text-align: right;\n",
       "    }\n",
       "</style>\n",
       "<table border=\"1\" class=\"dataframe\">\n",
       "  <thead>\n",
       "    <tr style=\"text-align: right;\">\n",
       "      <th></th>\n",
       "      <th>tag</th>\n",
       "      <th>data</th>\n",
       "      <th>trim tag</th>\n",
       "      <th>confidence</th>\n",
       "      <th>organism</th>\n",
       "    </tr>\n",
       "  </thead>\n",
       "  <tbody>\n",
       "    <tr>\n",
       "      <th>2278</th>\n",
       "      <td>sbi-miR166d MIMAT0001391 Sorghum bicolor miR166d</td>\n",
       "      <td>UCGGACCAGGCUUCAUUCCC</td>\n",
       "      <td>sbi-miR166d MIMAT0001391</td>\n",
       "      <td>False</td>\n",
       "      <td>sbi</td>\n",
       "    </tr>\n",
       "  </tbody>\n",
       "</table>\n",
       "</div>"
      ],
      "text/plain": [
       "                                                   tag                  data  \\\n",
       "2278  sbi-miR166d MIMAT0001391 Sorghum bicolor miR166d  UCGGACCAGGCUUCAUUCCC   \n",
       "\n",
       "                      trim tag  confidence organism  \n",
       "2278  sbi-miR166d MIMAT0001391       False      sbi  "
      ]
     },
     "execution_count": 25,
     "metadata": {},
     "output_type": "execute_result"
    }
   ],
   "source": [
    "selected = mature[mature['organism'].isin(selectedTree['organism'])]\n",
    "print(selected.shape)\n",
    "selected.head(1)"
   ]
  },
  {
   "cell_type": "code",
   "execution_count": 26,
   "metadata": {
    "ExecuteTime": {
     "end_time": "2022-09-15T10:39:30.571101Z",
     "start_time": "2022-09-15T10:39:30.556699Z"
    },
    "hidden": true
   },
   "outputs": [],
   "source": [
    "df_to_fasta(selected,f'{temp_path}/mature_microRNA_queries.fasta')"
   ]
  },
  {
   "cell_type": "markdown",
   "metadata": {
    "heading_collapsed": true
   },
   "source": [
    "# Remove redundant"
   ]
  },
  {
   "cell_type": "markdown",
   "metadata": {
    "hidden": true
   },
   "source": [
    "## cdhit-est"
   ]
  },
  {
   "cell_type": "code",
   "execution_count": 27,
   "metadata": {
    "ExecuteTime": {
     "end_time": "2022-09-15T10:39:31.245108Z",
     "start_time": "2022-09-15T10:39:31.043782Z"
    },
    "code_folding": [],
    "hidden": true
   },
   "outputs": [
    {
     "name": "stdout",
     "output_type": "stream",
     "text": [
      "================================================================\n",
      "Program: CD-HIT, V4.8.1 (+OpenMP), Oct 23 2021, 21:45:39\n",
      "Command: ./software/cdhit/cd-hit-est -i\n",
      "         ././Experiment/S.bicolor/negative/Temp/mature_microRNA_queries.fasta\n",
      "         -o\n",
      "         ././Experiment/S.bicolor/negative/Temp/NR_mature_microRNA_queries.fasta\n",
      "         -c 1 -r 0 -G 1 -g 1 -b 30 -l 10 -aL 0 -AL 99999999 -aS\n",
      "         0 -AS 99999999 -s 0 -S 0\n",
      "\n",
      "Started: Thu Sep 15 15:09:31 2022\n",
      "================================================================\n",
      "                            Output                              \n",
      "----------------------------------------------------------------\n",
      "total seq: 241\n",
      "longest and shortest : 25 and 18\n",
      "Total letters: 5146\n",
      "Sequences have been sorted\n",
      "\n",
      "Approximated minimal memory consumption:\n",
      "Sequence        : 0M\n",
      "Buffer          : 1 X 12M = 12M\n",
      "Table           : 1 X 16M = 16M\n",
      "Miscellaneous   : 0M\n",
      "Total           : 28M\n",
      "\n",
      "Table limit with the given memory limit:\n",
      "Max number of representatives: 4000000\n",
      "Max number of word counting entries: 96391032\n",
      "\n",
      "comparing sequences from          0  to        241\n",
      "\n",
      "      241  finished        152  clusters\n",
      "\n",
      "Approximated maximum memory consumption: 28M\n",
      "writing new database\n",
      "writing clustering information\n",
      "program completed !\n",
      "\n",
      "Total CPU time 0.05\n"
     ]
    }
   ],
   "source": [
    "!./software/cdhit/cd-hit-est -i ./{temp_path_f}/mature_microRNA_queries.fasta  -o ./{temp_path_f}/NR_mature_microRNA_queries.fasta \\\n",
    "    -c 1 -r 0 -G 1 -g 1 -b 30 -l 10 -aL 0 -AL 99999999 -aS 0 \\\n",
    "    -AS 99999999 -s 0 -S 0"
   ]
  },
  {
   "cell_type": "markdown",
   "metadata": {
    "hidden": true
   },
   "source": [
    "## reformat"
   ]
  },
  {
   "cell_type": "code",
   "execution_count": 28,
   "metadata": {
    "ExecuteTime": {
     "end_time": "2022-09-15T10:39:31.394745Z",
     "start_time": "2022-09-15T10:39:31.371867Z"
    },
    "hidden": true
   },
   "outputs": [
    {
     "name": "stdout",
     "output_type": "stream",
     "text": [
      "(241, 2)\n"
     ]
    },
    {
     "data": {
      "text/html": [
       "<div>\n",
       "<style scoped>\n",
       "    .dataframe tbody tr th:only-of-type {\n",
       "        vertical-align: middle;\n",
       "    }\n",
       "\n",
       "    .dataframe tbody tr th {\n",
       "        vertical-align: top;\n",
       "    }\n",
       "\n",
       "    .dataframe thead th {\n",
       "        text-align: right;\n",
       "    }\n",
       "</style>\n",
       "<table border=\"1\" class=\"dataframe\">\n",
       "  <thead>\n",
       "    <tr style=\"text-align: right;\">\n",
       "      <th></th>\n",
       "      <th>seqid</th>\n",
       "      <th>cluster</th>\n",
       "    </tr>\n",
       "  </thead>\n",
       "  <tbody>\n",
       "    <tr>\n",
       "      <th>0</th>\n",
       "      <td>sbi-miR5387a</td>\n",
       "      <td>C0</td>\n",
       "    </tr>\n",
       "    <tr>\n",
       "      <th>1</th>\n",
       "      <td>sbi-miR5383</td>\n",
       "      <td>C1</td>\n",
       "    </tr>\n",
       "  </tbody>\n",
       "</table>\n",
       "</div>"
      ],
      "text/plain": [
       "          seqid cluster\n",
       "0  sbi-miR5387a      C0\n",
       "1   sbi-miR5383      C1"
      ]
     },
     "execution_count": 28,
     "metadata": {},
     "output_type": "execute_result"
    }
   ],
   "source": [
    "with open(f'./{temp_path}/NR_mature_microRNA_queries.fasta.clstr','r') as file:\n",
    "    text = file.read()\n",
    "lines = [line for line in text.split('\\n') if len(line) > 0]\n",
    "cluster = []\n",
    "seqid = []\n",
    "last_cluster = \"\"\n",
    "for l in lines:\n",
    "    if(l[0]=='>'):        \n",
    "        last_cluster = l.replace('>Cluster ',\"C\")\n",
    "    else:        \n",
    "        cluster.append(last_cluster)\n",
    "        seqid.append(l.split(', >')[1].split('...')[0])                \n",
    "seq2cluster = pd.DataFrame({'seqid': seqid,'cluster': cluster})\n",
    "print(seq2cluster.shape)\n",
    "seq2cluster.head(2)    "
   ]
  },
  {
   "cell_type": "code",
   "execution_count": 29,
   "metadata": {
    "ExecuteTime": {
     "end_time": "2022-09-15T10:39:31.639567Z",
     "start_time": "2022-09-15T10:39:31.555225Z"
    },
    "hidden": true
   },
   "outputs": [
    {
     "name": "stdout",
     "output_type": "stream",
     "text": [
      "(241, 4)\n"
     ]
    },
    {
     "data": {
      "text/html": [
       "<div>\n",
       "<style scoped>\n",
       "    .dataframe tbody tr th:only-of-type {\n",
       "        vertical-align: middle;\n",
       "    }\n",
       "\n",
       "    .dataframe tbody tr th {\n",
       "        vertical-align: top;\n",
       "    }\n",
       "\n",
       "    .dataframe thead th {\n",
       "        text-align: right;\n",
       "    }\n",
       "</style>\n",
       "<table border=\"1\" class=\"dataframe\">\n",
       "  <thead>\n",
       "    <tr style=\"text-align: right;\">\n",
       "      <th></th>\n",
       "      <th>cluster</th>\n",
       "      <th>seqid</th>\n",
       "      <th>tag</th>\n",
       "      <th>confidence</th>\n",
       "    </tr>\n",
       "  </thead>\n",
       "  <tbody>\n",
       "    <tr>\n",
       "      <th>0</th>\n",
       "      <td>C133</td>\n",
       "      <td>sbi-miR166d</td>\n",
       "      <td>sbi-miR166d MIMAT0001391 Sorghum bicolor miR166d</td>\n",
       "      <td>False</td>\n",
       "    </tr>\n",
       "    <tr>\n",
       "      <th>1</th>\n",
       "      <td>C133</td>\n",
       "      <td>sbi-miR166c</td>\n",
       "      <td>sbi-miR166c MIMAT0001392 Sorghum bicolor miR166c</td>\n",
       "      <td>False</td>\n",
       "    </tr>\n",
       "  </tbody>\n",
       "</table>\n",
       "</div>"
      ],
      "text/plain": [
       "  cluster        seqid                                               tag  \\\n",
       "0    C133  sbi-miR166d  sbi-miR166d MIMAT0001391 Sorghum bicolor miR166d   \n",
       "1    C133  sbi-miR166c  sbi-miR166c MIMAT0001392 Sorghum bicolor miR166c   \n",
       "\n",
       "   confidence  \n",
       "0       False  \n",
       "1       False  "
      ]
     },
     "metadata": {},
     "output_type": "display_data"
    }
   ],
   "source": [
    "df = fasta_to_df(f\"./{temp_path}/mature_microRNA_queries.fasta\")\n",
    "df['accession'] = df['tag'].apply(lambda x : x.split(' ')[0])\n",
    "seq2cluster = pd.merge(df,seq2cluster,how=\"inner\",left_on='accession',right_on=\"seqid\")\n",
    "seq2cluster = pd.merge(seq2cluster, mature,how=\"inner\",left_on='tag',right_on=\"tag\")[['cluster','seqid','tag', 'confidence']]\n",
    "print(seq2cluster.shape)\n",
    "display(seq2cluster.head(2))\n",
    "seq2cluster.to_csv(f'./{temp_path}/seq2cluster.csv',index=False)"
   ]
  },
  {
   "cell_type": "code",
   "execution_count": 30,
   "metadata": {
    "ExecuteTime": {
     "end_time": "2022-09-15T10:39:32.388483Z",
     "start_time": "2022-09-15T10:39:32.373598Z"
    },
    "hidden": true
   },
   "outputs": [
    {
     "data": {
      "text/html": [
       "<div>\n",
       "<style scoped>\n",
       "    .dataframe tbody tr th:only-of-type {\n",
       "        vertical-align: middle;\n",
       "    }\n",
       "\n",
       "    .dataframe tbody tr th {\n",
       "        vertical-align: top;\n",
       "    }\n",
       "\n",
       "    .dataframe thead th {\n",
       "        text-align: right;\n",
       "    }\n",
       "</style>\n",
       "<table border=\"1\" class=\"dataframe\">\n",
       "  <thead>\n",
       "    <tr style=\"text-align: right;\">\n",
       "      <th></th>\n",
       "      <th>cluster</th>\n",
       "      <th>seqid</th>\n",
       "      <th>tag</th>\n",
       "      <th>confidence</th>\n",
       "    </tr>\n",
       "  </thead>\n",
       "  <tbody>\n",
       "    <tr>\n",
       "      <th>156</th>\n",
       "      <td>C0</td>\n",
       "      <td>sbi-miR5387a</td>\n",
       "      <td>sbi-miR5387a MIMAT0021685 Sorghum bicolor miR5...</td>\n",
       "      <td>False</td>\n",
       "    </tr>\n",
       "    <tr>\n",
       "      <th>152</th>\n",
       "      <td>C1</td>\n",
       "      <td>sbi-miR5383</td>\n",
       "      <td>sbi-miR5383 MIMAT0021681 Sorghum bicolor miR5383</td>\n",
       "      <td>False</td>\n",
       "    </tr>\n",
       "  </tbody>\n",
       "</table>\n",
       "</div>"
      ],
      "text/plain": [
       "    cluster         seqid                                                tag  \\\n",
       "156      C0  sbi-miR5387a  sbi-miR5387a MIMAT0021685 Sorghum bicolor miR5...   \n",
       "152      C1   sbi-miR5383   sbi-miR5383 MIMAT0021681 Sorghum bicolor miR5383   \n",
       "\n",
       "     confidence  \n",
       "156       False  \n",
       "152       False  "
      ]
     },
     "execution_count": 30,
     "metadata": {},
     "output_type": "execute_result"
    }
   ],
   "source": [
    "# todo: sorted first by cluster then by seqid\n",
    "seq2cluster.sort_values(\"cluster\").head(2)"
   ]
  },
  {
   "cell_type": "code",
   "execution_count": 31,
   "metadata": {
    "ExecuteTime": {
     "end_time": "2022-09-15T10:39:32.884195Z",
     "start_time": "2022-09-15T10:39:32.859673Z"
    },
    "hidden": true
   },
   "outputs": [
    {
     "name": "stdout",
     "output_type": "stream",
     "text": [
      "(152, 2)\n"
     ]
    }
   ],
   "source": [
    "df = fasta_to_df(f\"./{temp_path}/NR_mature_microRNA_queries.fasta\")\n",
    "df['tag'] = df['tag'].apply(lambda x : x.split(' ')[0])\n",
    "df = pd.merge(df,seq2cluster,how=\"inner\",left_on='tag',right_on=\"seqid\")[['cluster','data']]\n",
    "\n",
    "lines = []\n",
    "df.apply(lambda row: lines.append(f\">{row['cluster']}\\n{row['data']}\\n\"),axis=1)\n",
    "print(df.shape)\n",
    "with open(f'./{temp_path}/BLASTn_queries.fasta','w') as file:\n",
    "    file.write(''.join(lines))"
   ]
  },
  {
   "cell_type": "markdown",
   "metadata": {
    "heading_collapsed": true
   },
   "source": [
    "# BlastN"
   ]
  },
  {
   "cell_type": "markdown",
   "metadata": {
    "hidden": true
   },
   "source": [
    "!sudo apt-get install ncbi-blast+\n"
   ]
  },
  {
   "cell_type": "code",
   "execution_count": 32,
   "metadata": {
    "ExecuteTime": {
     "end_time": "2022-09-15T10:39:50.047317Z",
     "start_time": "2022-09-15T10:39:34.025578Z"
    },
    "hidden": true,
    "scrolled": false
   },
   "outputs": [
    {
     "name": "stdout",
     "output_type": "stream",
     "text": [
      "\n",
      "\n",
      "Building a new DB, current time: 09/15/2022 15:09:34\n",
      "New DB name:   /home/jupyter/plant_microRNA_prediction/Experiment/S.bicolor/negative/Temp/blastn_database\n",
      "New DB title:  ./Experiment/S.bicolor/GCF_000003195.3_Sorghum_bicolor_NCBIv3_genomic.fna\n",
      "Sequence type: Nucleotide\n",
      "Keep MBits: T\n",
      "Maximum file size: 1000000000B\n",
      "Adding sequences from FASTA; added 869 sequences in 15.78 seconds.\n"
     ]
    }
   ],
   "source": [
    "!makeblastdb -in {input_genome_path} -dbtype nucl -out ./{temp_path_f}/blastn_database"
   ]
  },
  {
   "cell_type": "code",
   "execution_count": 33,
   "metadata": {
    "ExecuteTime": {
     "end_time": "2022-09-15T10:39:50.056315Z",
     "start_time": "2022-09-15T10:39:50.051757Z"
    },
    "hidden": true
   },
   "outputs": [],
   "source": [
    "header = 'qseqid sseqid qstart qend sstart send qseq sseq evalue bitscore score length pident nident mismatch positive gapopen gaps ppos frames qframe sframe sstrand qcovs qcovhsp qlen slen'"
   ]
  },
  {
   "cell_type": "code",
   "execution_count": 34,
   "metadata": {
    "ExecuteTime": {
     "end_time": "2022-09-15T10:40:07.405216Z",
     "start_time": "2022-09-15T10:39:50.060494Z"
    },
    "hidden": true
   },
   "outputs": [],
   "source": [
    "!blastn -query ./{temp_path}/BLASTn_queries.fasta \\\n",
    "        -task blastn-short \\\n",
    "        -out ./{temp_path}/BLASTn_result \\\n",
    "        -num_threads {mp.cpu_count()} \\\n",
    "        -db ./{temp_path}/blastn_database \\\n",
    "        -word_size 7 \\\n",
    "        -penalty -3 \\\n",
    "        -reward 1 \\\n",
    "        -gapopen 5 \\\n",
    "        -gapextend 2 \\\n",
    "        -evalue 10 \\\n",
    "        -outfmt '6 qseqid sseqid qstart qend sstart send qseq sseq evalue bitscore score length pident nident mismatch positive gapopen gaps ppos frames qframe sframe sstrand qcovs qcovhsp qlen slen'       "
   ]
  },
  {
   "cell_type": "code",
   "execution_count": 35,
   "metadata": {
    "ExecuteTime": {
     "end_time": "2022-09-15T10:40:07.826990Z",
     "start_time": "2022-09-15T10:40:07.410388Z"
    },
    "hidden": true,
    "scrolled": false
   },
   "outputs": [
    {
     "name": "stdout",
     "output_type": "stream",
     "text": [
      "(71281, 27)\n"
     ]
    },
    {
     "data": {
      "text/html": [
       "<div>\n",
       "<style scoped>\n",
       "    .dataframe tbody tr th:only-of-type {\n",
       "        vertical-align: middle;\n",
       "    }\n",
       "\n",
       "    .dataframe tbody tr th {\n",
       "        vertical-align: top;\n",
       "    }\n",
       "\n",
       "    .dataframe thead th {\n",
       "        text-align: right;\n",
       "    }\n",
       "</style>\n",
       "<table border=\"1\" class=\"dataframe\">\n",
       "  <thead>\n",
       "    <tr style=\"text-align: right;\">\n",
       "      <th></th>\n",
       "      <th>qseqid</th>\n",
       "      <th>sseqid</th>\n",
       "      <th>qstart</th>\n",
       "      <th>qend</th>\n",
       "      <th>sstart</th>\n",
       "      <th>send</th>\n",
       "      <th>qseq</th>\n",
       "      <th>sseq</th>\n",
       "      <th>evalue</th>\n",
       "      <th>bitscore</th>\n",
       "      <th>...</th>\n",
       "      <th>gaps</th>\n",
       "      <th>ppos</th>\n",
       "      <th>frames</th>\n",
       "      <th>qframe</th>\n",
       "      <th>sframe</th>\n",
       "      <th>sstrand</th>\n",
       "      <th>qcovs</th>\n",
       "      <th>qcovhsp</th>\n",
       "      <th>qlen</th>\n",
       "      <th>slen</th>\n",
       "    </tr>\n",
       "  </thead>\n",
       "  <tbody>\n",
       "    <tr>\n",
       "      <th>0</th>\n",
       "      <td>C133</td>\n",
       "      <td>NC_012870.2</td>\n",
       "      <td>1</td>\n",
       "      <td>20</td>\n",
       "      <td>7384262</td>\n",
       "      <td>7384281</td>\n",
       "      <td>TCGGACCAGGCTTCATTCCC</td>\n",
       "      <td>TCGGACCAGGCTTCATTCCC</td>\n",
       "      <td>0.002</td>\n",
       "      <td>40.1</td>\n",
       "      <td>...</td>\n",
       "      <td>0</td>\n",
       "      <td>100.0</td>\n",
       "      <td>1/1</td>\n",
       "      <td>1</td>\n",
       "      <td>1</td>\n",
       "      <td>plus</td>\n",
       "      <td>100</td>\n",
       "      <td>100</td>\n",
       "      <td>20</td>\n",
       "      <td>80884392</td>\n",
       "    </tr>\n",
       "    <tr>\n",
       "      <th>1</th>\n",
       "      <td>C133</td>\n",
       "      <td>NC_012870.2</td>\n",
       "      <td>1</td>\n",
       "      <td>20</td>\n",
       "      <td>26881191</td>\n",
       "      <td>26881210</td>\n",
       "      <td>TCGGACCAGGCTTCATTCCC</td>\n",
       "      <td>TCGGACCAGGCTTCATTCCC</td>\n",
       "      <td>0.002</td>\n",
       "      <td>40.1</td>\n",
       "      <td>...</td>\n",
       "      <td>0</td>\n",
       "      <td>100.0</td>\n",
       "      <td>1/1</td>\n",
       "      <td>1</td>\n",
       "      <td>1</td>\n",
       "      <td>plus</td>\n",
       "      <td>100</td>\n",
       "      <td>100</td>\n",
       "      <td>20</td>\n",
       "      <td>80884392</td>\n",
       "    </tr>\n",
       "  </tbody>\n",
       "</table>\n",
       "<p>2 rows × 27 columns</p>\n",
       "</div>"
      ],
      "text/plain": [
       "  qseqid       sseqid  qstart  qend    sstart      send                  qseq  \\\n",
       "0   C133  NC_012870.2       1    20   7384262   7384281  TCGGACCAGGCTTCATTCCC   \n",
       "1   C133  NC_012870.2       1    20  26881191  26881210  TCGGACCAGGCTTCATTCCC   \n",
       "\n",
       "                   sseq  evalue  bitscore  ...  gaps   ppos  frames  qframe  \\\n",
       "0  TCGGACCAGGCTTCATTCCC   0.002      40.1  ...     0  100.0     1/1       1   \n",
       "1  TCGGACCAGGCTTCATTCCC   0.002      40.1  ...     0  100.0     1/1       1   \n",
       "\n",
       "   sframe  sstrand  qcovs  qcovhsp  qlen      slen  \n",
       "0       1     plus    100      100    20  80884392  \n",
       "1       1     plus    100      100    20  80884392  \n",
       "\n",
       "[2 rows x 27 columns]"
      ]
     },
     "execution_count": 35,
     "metadata": {},
     "output_type": "execute_result"
    }
   ],
   "source": [
    "df_blastn = pd.read_csv(f'./{temp_path}/BLASTn_result', sep='\\t',header=None)\n",
    "df_blastn.columns = header.replace(\"  \",\" \").split(\" \")\n",
    "print(df_blastn.shape)\n",
    "df_blastn.head(2)"
   ]
  },
  {
   "cell_type": "code",
   "execution_count": 36,
   "metadata": {
    "ExecuteTime": {
     "end_time": "2022-09-15T10:40:07.893345Z",
     "start_time": "2022-09-15T10:40:07.830377Z"
    },
    "hidden": true
   },
   "outputs": [
    {
     "name": "stdout",
     "output_type": "stream",
     "text": [
      "(19239, 28)\n"
     ]
    },
    {
     "data": {
      "text/html": [
       "<div>\n",
       "<style scoped>\n",
       "    .dataframe tbody tr th:only-of-type {\n",
       "        vertical-align: middle;\n",
       "    }\n",
       "\n",
       "    .dataframe tbody tr th {\n",
       "        vertical-align: top;\n",
       "    }\n",
       "\n",
       "    .dataframe thead th {\n",
       "        text-align: right;\n",
       "    }\n",
       "</style>\n",
       "<table border=\"1\" class=\"dataframe\">\n",
       "  <thead>\n",
       "    <tr style=\"text-align: right;\">\n",
       "      <th></th>\n",
       "      <th>qseqid</th>\n",
       "      <th>sseqid</th>\n",
       "      <th>qstart</th>\n",
       "      <th>qend</th>\n",
       "      <th>sstart</th>\n",
       "      <th>send</th>\n",
       "      <th>qseq</th>\n",
       "      <th>sseq</th>\n",
       "      <th>evalue</th>\n",
       "      <th>bitscore</th>\n",
       "      <th>...</th>\n",
       "      <th>ppos</th>\n",
       "      <th>frames</th>\n",
       "      <th>qframe</th>\n",
       "      <th>sframe</th>\n",
       "      <th>sstrand</th>\n",
       "      <th>qcovs</th>\n",
       "      <th>qcovhsp</th>\n",
       "      <th>qlen</th>\n",
       "      <th>slen</th>\n",
       "      <th>Nonconformity</th>\n",
       "    </tr>\n",
       "  </thead>\n",
       "  <tbody>\n",
       "    <tr>\n",
       "      <th>5</th>\n",
       "      <td>C133</td>\n",
       "      <td>NC_012870.2</td>\n",
       "      <td>6</td>\n",
       "      <td>19</td>\n",
       "      <td>9651768</td>\n",
       "      <td>9651781</td>\n",
       "      <td>CCAGGCTTCATTCC</td>\n",
       "      <td>CCAGGCTTCATTCC</td>\n",
       "      <td>8.9</td>\n",
       "      <td>28.2</td>\n",
       "      <td>...</td>\n",
       "      <td>100.0</td>\n",
       "      <td>1/1</td>\n",
       "      <td>1</td>\n",
       "      <td>1</td>\n",
       "      <td>plus</td>\n",
       "      <td>100</td>\n",
       "      <td>70</td>\n",
       "      <td>20</td>\n",
       "      <td>80884392</td>\n",
       "      <td>6</td>\n",
       "    </tr>\n",
       "    <tr>\n",
       "      <th>6</th>\n",
       "      <td>C133</td>\n",
       "      <td>NC_012870.2</td>\n",
       "      <td>6</td>\n",
       "      <td>19</td>\n",
       "      <td>9789097</td>\n",
       "      <td>9789110</td>\n",
       "      <td>CCAGGCTTCATTCC</td>\n",
       "      <td>CCAGGCTTCATTCC</td>\n",
       "      <td>8.9</td>\n",
       "      <td>28.2</td>\n",
       "      <td>...</td>\n",
       "      <td>100.0</td>\n",
       "      <td>1/1</td>\n",
       "      <td>1</td>\n",
       "      <td>1</td>\n",
       "      <td>plus</td>\n",
       "      <td>100</td>\n",
       "      <td>70</td>\n",
       "      <td>20</td>\n",
       "      <td>80884392</td>\n",
       "      <td>6</td>\n",
       "    </tr>\n",
       "  </tbody>\n",
       "</table>\n",
       "<p>2 rows × 28 columns</p>\n",
       "</div>"
      ],
      "text/plain": [
       "  qseqid       sseqid  qstart  qend   sstart     send            qseq  \\\n",
       "5   C133  NC_012870.2       6    19  9651768  9651781  CCAGGCTTCATTCC   \n",
       "6   C133  NC_012870.2       6    19  9789097  9789110  CCAGGCTTCATTCC   \n",
       "\n",
       "             sseq  evalue  bitscore  ...   ppos  frames  qframe  sframe  \\\n",
       "5  CCAGGCTTCATTCC     8.9      28.2  ...  100.0     1/1       1       1   \n",
       "6  CCAGGCTTCATTCC     8.9      28.2  ...  100.0     1/1       1       1   \n",
       "\n",
       "   sstrand  qcovs  qcovhsp  qlen      slen Nonconformity  \n",
       "5     plus    100       70    20  80884392             6  \n",
       "6     plus    100       70    20  80884392             6  \n",
       "\n",
       "[2 rows x 28 columns]"
      ]
     },
     "execution_count": 36,
     "metadata": {},
     "output_type": "execute_result"
    }
   ],
   "source": [
    "threshold_from = 5\n",
    "threshold_to = 6\n",
    "df_blastn['Nonconformity'] = df_blastn['qlen'] - (abs(df_blastn['qend'] - df_blastn['qstart']) + 1) + df_blastn['gaps'] + df_blastn['mismatch']\n",
    "df_blastn = df_blastn[df_blastn['Nonconformity'] >= threshold_from]\n",
    "df_blastn = df_blastn[df_blastn['Nonconformity'] <= threshold_to]\n",
    "print(df_blastn.shape)\n",
    "df_blastn.head(2)"
   ]
  },
  {
   "cell_type": "code",
   "execution_count": 37,
   "metadata": {
    "ExecuteTime": {
     "end_time": "2022-09-15T10:40:13.084374Z",
     "start_time": "2022-09-15T10:40:07.896586Z"
    },
    "hidden": true
   },
   "outputs": [],
   "source": [
    "# alignment length adjustment\n",
    "def blastn_adjust(row):\n",
    "    if(row['sstrand'] == \"plus\"):        \n",
    "        row['sstart'] = max(1, row['sstart'] - (row['qstart'] - 1))\n",
    "        row['send'] = min(row['slen'], row['send'] + (row['qlen'] - row['qend']))\n",
    "    if(row['sstrand'] == \"minus\"):        \n",
    "        row['send'] = max(1, row['send'] - (row['qstart'] - 1 ))\n",
    "        row['sstart'] = min(row['slen'], row['sstart'] + (row['qlen'] - row['qend'] ))\n",
    "    return row\n",
    "    \n",
    "df_blastn = df_blastn.apply(lambda row: blastn_adjust(row), axis=1)"
   ]
  },
  {
   "cell_type": "code",
   "execution_count": 38,
   "metadata": {
    "ExecuteTime": {
     "end_time": "2022-09-15T10:40:13.410901Z",
     "start_time": "2022-09-15T10:40:13.088193Z"
    },
    "hidden": true,
    "scrolled": false
   },
   "outputs": [
    {
     "name": "stdout",
     "output_type": "stream",
     "text": [
      "(19239, 28)\n"
     ]
    }
   ],
   "source": [
    "# remore redundancy and hold best one base of Nonconformity value\n",
    "df_blastn = df_blastn.sort_values([\"Nonconformity\", \"evalue\"], ascending = (True, True))\n",
    "df_blastn = df_blastn.drop_duplicates(subset=['sseqid','sstart', 'qseqid', 'send','sstrand'], keep='first')\n",
    "df_blastn.to_csv(f'./{temp_path}/filtered_out_blastn.csv')\n",
    "print(df_blastn.shape)"
   ]
  },
  {
   "cell_type": "markdown",
   "metadata": {
    "heading_collapsed": true
   },
   "source": [
    "# Result of the blastn to bed file"
   ]
  },
  {
   "cell_type": "code",
   "execution_count": 39,
   "metadata": {
    "ExecuteTime": {
     "end_time": "2022-09-15T10:40:13.432340Z",
     "start_time": "2022-09-15T10:40:13.418507Z"
    },
    "hidden": true
   },
   "outputs": [
    {
     "name": "stderr",
     "output_type": "stream",
     "text": [
      "<ipython-input-39-eba70d589136>:2: SettingWithCopyWarning: \n",
      "A value is trying to be set on a copy of a slice from a DataFrame.\n",
      "Try using .loc[row_indexer,col_indexer] = value instead\n",
      "\n",
      "See the caveats in the documentation: https://pandas.pydata.org/pandas-docs/stable/user_guide/indexing.html#returning-a-view-versus-a-copy\n",
      "  df['ones'] = 1\n"
     ]
    }
   ],
   "source": [
    "df = df_blastn[['qseqid', 'sseqid', 'sstart', 'send', 'sstrand','slen']]\n",
    "df['ones'] = 1"
   ]
  },
  {
   "cell_type": "code",
   "execution_count": 40,
   "metadata": {
    "ExecuteTime": {
     "end_time": "2022-09-15T10:40:16.822169Z",
     "start_time": "2022-09-15T10:40:13.437230Z"
    },
    "hidden": true
   },
   "outputs": [],
   "source": [
    "def switch(row):\n",
    "    if(row['sstart'] > row['send']):        \n",
    "        temp = row['sstart']\n",
    "        row['sstart'] = row['send']\n",
    "        row['send'] = temp\n",
    "    return row\n",
    "df = df.apply(lambda row: switch(row), axis=1)"
   ]
  },
  {
   "cell_type": "code",
   "execution_count": 41,
   "metadata": {
    "ExecuteTime": {
     "end_time": "2022-09-15T10:40:16.843536Z",
     "start_time": "2022-09-15T10:40:16.827111Z"
    },
    "hidden": true
   },
   "outputs": [],
   "source": [
    "def convert(inp):\n",
    "    if(inp == \"plus\"):\n",
    "        return \"forward\"\n",
    "    if(inp == \"minus\"):\n",
    "        return \"reverse\"\n",
    "    raise Exception('Error, sstrand contains illegal word! only \"plus\" and \"minus\" are allowed')\n",
    "df['strand'] = df['sstrand'].apply(lambda x: convert(x))"
   ]
  },
  {
   "cell_type": "code",
   "execution_count": 42,
   "metadata": {
    "ExecuteTime": {
     "end_time": "2022-09-15T10:40:16.860124Z",
     "start_time": "2022-09-15T10:40:16.847217Z"
    },
    "hidden": true
   },
   "outputs": [],
   "source": [
    "def convert2sign(inp):\n",
    "    if(inp == \"plus\"):\n",
    "        return \"+\"\n",
    "    if(inp == \"minus\"):\n",
    "        return \"-\"\n",
    "    raise Exception('Error, sstrand contains illegal word! only \"plus\" and \"minus\" are allowed')\n",
    "df['sign'] = df['sstrand'].apply(lambda x: convert2sign(x))"
   ]
  },
  {
   "cell_type": "code",
   "execution_count": 43,
   "metadata": {
    "ExecuteTime": {
     "end_time": "2022-09-15T10:40:17.425179Z",
     "start_time": "2022-09-15T10:40:16.863843Z"
    },
    "hidden": true
   },
   "outputs": [],
   "source": [
    "df['hit_length'] = df.apply(lambda row: abs(row['send'] - row['sstart']) + 1 ,axis=1)"
   ]
  },
  {
   "cell_type": "markdown",
   "metadata": {
    "hidden": true
   },
   "source": [
    "## convert sstart and send from location to index (range)"
   ]
  },
  {
   "cell_type": "code",
   "execution_count": 44,
   "metadata": {
    "ExecuteTime": {
     "end_time": "2022-09-15T10:40:17.444359Z",
     "start_time": "2022-09-15T10:40:17.428520Z"
    },
    "hidden": true
   },
   "outputs": [],
   "source": [
    "df['sstart'] = df['sstart'].apply(lambda x: x - 1)"
   ]
  },
  {
   "cell_type": "code",
   "execution_count": 45,
   "metadata": {
    "ExecuteTime": {
     "end_time": "2022-09-15T10:40:18.895650Z",
     "start_time": "2022-09-15T10:40:17.447683Z"
    },
    "hidden": true
   },
   "outputs": [],
   "source": [
    "temp = fasta_to_df(temp_path.replace('negative', 'positive') + \"/\" + \"extended_modified_non_coding.txt\")\n",
    "lengths = []\n",
    "for indx, row in temp.iterrows():\n",
    "    tag = row['tag']\n",
    "    seq = row['data']\n",
    "    [start, end] = tag.split('|')[-1].split('-')\n",
    "    down = int(start) - 1\n",
    "    up = len(seq) - int(end)\n",
    "    lengths.append([down, up])        \n",
    "    lengths.append([up, down])        \n",
    "lengths = pd.DataFrame(lengths, columns=[\"up\", \"down\"])\n",
    "idx = np.random.choice(lengths.index, df.shape[0])\n",
    "lengths = lengths.iloc[idx]\n",
    "lengths = lengths.reset_index(drop=True)\n",
    "df['down'] = lengths['down'].values\n",
    "df['up'] = lengths['up'].values\n",
    "df['downstream_flanking'] = df.apply(lambda row:  min(row['down'], row['sstart']), axis=1)\n",
    "df['upstream_flanking'] = df.apply(lambda row:  row['up'] if (row['send']+row['up'] ) <= row['slen'] else row['slen'] - row['send'],axis=1)\n"
   ]
  },
  {
   "cell_type": "code",
   "execution_count": 46,
   "metadata": {
    "ExecuteTime": {
     "end_time": "2022-09-15T10:40:19.452950Z",
     "start_time": "2022-09-15T10:40:18.899128Z"
    },
    "hidden": true
   },
   "outputs": [],
   "source": [
    "df['hit_start'] = df.apply(lambda row: row['downstream_flanking'] if row['sign'] == \"+\" else row['upstream_flanking'],axis=1)"
   ]
  },
  {
   "cell_type": "code",
   "execution_count": 47,
   "metadata": {
    "ExecuteTime": {
     "end_time": "2022-09-15T10:40:20.123599Z",
     "start_time": "2022-09-15T10:40:19.456315Z"
    },
    "hidden": true
   },
   "outputs": [],
   "source": [
    "df['hit_end'] = df.apply(lambda row: row['downstream_flanking'] + row['hit_length'] if row['sign'] == \"+\" else row['upstream_flanking'] + row['hit_length'],axis=1)"
   ]
  },
  {
   "cell_type": "code",
   "execution_count": null,
   "metadata": {
    "ExecuteTime": {
     "start_time": "2022-09-15T10:39:42.105Z"
    },
    "hidden": true
   },
   "outputs": [],
   "source": [
    "df['sstart'] = df.apply(lambda row: max(row['sstart'] - row['down'], 0),axis=1)\n",
    "df['send'] = df.apply(lambda row: min(row['send'] + row['up'] , row['slen']),axis=1)"
   ]
  },
  {
   "cell_type": "code",
   "execution_count": null,
   "metadata": {
    "ExecuteTime": {
     "start_time": "2022-09-15T10:39:42.378Z"
    },
    "hidden": true
   },
   "outputs": [],
   "source": [
    "df['tag'] = df.apply(lambda row: f\">{row['sseqid']}:{row['sstart']}-{row['send']}({row['sign']})\",axis=1)\n",
    "df['reformated_tag'] = df['tag'].apply(lambda t: reformat(t))\n",
    "df[['tag', 'reformated_tag', 'hit_start', 'hit_end']].to_csv(f'./{temp_path}/hit_index_info.csv')#, index=False)"
   ]
  },
  {
   "cell_type": "code",
   "execution_count": null,
   "metadata": {
    "ExecuteTime": {
     "start_time": "2022-09-15T10:39:42.658Z"
    },
    "hidden": true
   },
   "outputs": [],
   "source": [
    "df['location_tag'] = df.apply(lambda row: f\">{row['sseqid']}|{row['sign']}|{row['sstart'] + 1}-{row['send']}|{row['hit_start']+1}-{row['hit_end']}\",axis=1)\n",
    "df[['location_tag','qseqid']].to_csv(f'./{temp_path}/pipe_seprated_location_list.csv',index=False,sep='\\t')"
   ]
  },
  {
   "cell_type": "code",
   "execution_count": null,
   "metadata": {
    "ExecuteTime": {
     "start_time": "2022-09-15T10:39:43.025Z"
    },
    "hidden": true
   },
   "outputs": [],
   "source": [
    "df[['sseqid','sstart','send','strand','ones', 'sign']].to_csv(f'./{temp_path}/extension_index.bed', \n",
    "        index=False, header=False, sep=\"\\t\")"
   ]
  },
  {
   "cell_type": "markdown",
   "metadata": {
    "heading_collapsed": true
   },
   "source": [
    "# Extention\n"
   ]
  },
  {
   "cell_type": "code",
   "execution_count": null,
   "metadata": {
    "ExecuteTime": {
     "start_time": "2022-09-15T10:39:43.831Z"
    },
    "hidden": true
   },
   "outputs": [],
   "source": [
    "# !sudo apt-get install bedtools"
   ]
  },
  {
   "cell_type": "code",
   "execution_count": null,
   "metadata": {
    "ExecuteTime": {
     "start_time": "2022-09-15T10:39:44.467Z"
    },
    "hidden": true
   },
   "outputs": [],
   "source": [
    "!bedtools getfasta -fi {input_genome_path} -fo ./{temp_path}/extended_original.txt -s -bed ./{temp_path}/extension_index.bed\n",
    "!rm input_genome.fna.fai"
   ]
  },
  {
   "cell_type": "code",
   "execution_count": null,
   "metadata": {
    "ExecuteTime": {
     "start_time": "2022-09-15T10:39:44.851Z"
    },
    "code_folding": [],
    "hidden": true
   },
   "outputs": [],
   "source": [
    "# todo: remove duplicated\n",
    "'''\n",
    "df = fasta_to_df(\"./Temp/extended.txt\")\n",
    "df = df.drop_duplicates(subset=['tag'], keep='first')\n",
    "df_to_fasta(df,\"./Temp/extended.txt\")\n",
    "len(df['tag'].unique())\n",
    "''';"
   ]
  },
  {
   "cell_type": "markdown",
   "metadata": {
    "heading_collapsed": true
   },
   "source": [
    "# Convert hit region to upper case and other region to lower case"
   ]
  },
  {
   "cell_type": "code",
   "execution_count": null,
   "metadata": {
    "ExecuteTime": {
     "start_time": "2022-09-15T10:39:45.515Z"
    },
    "hidden": true
   },
   "outputs": [],
   "source": [
    "ext = fasta_to_df(f'./{temp_path}/extended_original.txt')\n",
    "info = pd.read_csv(f'./{temp_path}/hit_index_info.csv')\n",
    "info['tag'] = info['tag'].apply(lambda x: x[1:])\n",
    "print(info.shape)\n",
    "info.head(2)"
   ]
  },
  {
   "cell_type": "code",
   "execution_count": null,
   "metadata": {
    "ExecuteTime": {
     "start_time": "2022-09-15T10:39:46.493Z"
    },
    "hidden": true
   },
   "outputs": [],
   "source": [
    "ext = ext.sort_values(by=['tag']).reset_index()\n",
    "ext['help_tag'] = ext.apply(lambda r: r['tag'] + str(r.name),axis=1)\n",
    "del ext['tag']\n",
    "\n",
    "info = info.sort_values(by=['tag']).reset_index()\n",
    "info['help_tag'] = info.apply(lambda row: row['tag']+ str(row.name),axis=1)\n",
    "def redefined_tag(row):\n",
    "    tag = row['tag']\n",
    "    [sstart, send] = tag.split(':')[-1].split('(')[0].split('-')\n",
    "    sstart = int(sstart) + 1\n",
    "    sign = tag.split('(')[-1].split(')')[0]    \n",
    "    return f\"{tag.split(':')[0]}|{sign}|{sstart}-{send}|{row['hit_start']+1}-{row['hit_end']}\"\n",
    "info['tag'] = info.apply(lambda row: redefined_tag(row),axis=1)\n",
    "ext = pd.merge(ext,info,how='inner', on='help_tag')\n",
    "\n",
    "def emphasis_hit(row):\n",
    "    seq = list(row['data'].lower())            \n",
    "    s = row['hit_start']\n",
    "    e = row['hit_end']\n",
    "    seq[s:e] = list(''.join(seq[s:e]).upper())    \n",
    "    return ''.join(seq)\n",
    "    \n",
    "ext['data'] = ext.apply(lambda row: emphasis_hit(row),axis=1)\n",
    "ext = ext.drop_duplicates(subset=['data'], keep='first')\n",
    "df_to_fasta(ext[['tag','data']],f\"./{temp_path}/extended_modified.txt\")"
   ]
  },
  {
   "cell_type": "markdown",
   "metadata": {},
   "source": [
    "# Protein coding elimination [Diamond]"
   ]
  },
  {
   "cell_type": "code",
   "execution_count": null,
   "metadata": {
    "ExecuteTime": {
     "start_time": "2022-09-15T10:39:48.005Z"
    }
   },
   "outputs": [],
   "source": [
    "#!./diamond makedb --in ./NR/nr -d ./Temp/diamond_output"
   ]
  },
  {
   "cell_type": "code",
   "execution_count": null,
   "metadata": {
    "ExecuteTime": {
     "start_time": "2022-09-15T10:39:48.433Z"
    }
   },
   "outputs": [],
   "source": [
    "#!./diamond blastx -d ./Temp/diamond_output.dmnd \\\n",
    "#                  -q ./Temp/extended_modified.txt \\\n",
    "#                  -o ./Temp/diamond_matches.tsv \\\n",
    "#                  -p 22"
   ]
  },
  {
   "cell_type": "code",
   "execution_count": 59,
   "metadata": {
    "ExecuteTime": {
     "end_time": "2022-09-15T22:07:20.707245Z",
     "start_time": "2022-09-15T22:07:20.608449Z"
    }
   },
   "outputs": [],
   "source": [
    "dmn = pd.read_csv(f\"./{temp_path}/diamond_matches.tsv\", sep='\\t', header=None)\n",
    "dmn.columns = 'qseqid sseqid pident length mismatch gapopen qstart qend sstart send evalue bitscore'.split(' ')\n",
    "coding_seq = dmn['qseqid'].unique()"
   ]
  },
  {
   "cell_type": "code",
   "execution_count": 60,
   "metadata": {
    "ExecuteTime": {
     "end_time": "2022-09-15T22:07:22.134296Z",
     "start_time": "2022-09-15T22:07:21.428229Z"
    }
   },
   "outputs": [
    {
     "name": "stdout",
     "output_type": "stream",
     "text": [
      "total:      19225\n",
      "non_coding: 15126\n",
      "coding:     4099\n"
     ]
    }
   ],
   "source": [
    "def clear(inp):\n",
    "    if(inp[:9] == \"reverse::\"):\n",
    "        return inp[9:]\n",
    "    if(inp[:9] == \"forward::\"):\n",
    "        return inp[9:]\n",
    "    return inp\n",
    "coding_seq = pd.Series(coding_seq).apply(lambda x : clear(x))\n",
    "\n",
    "ext = fasta_to_df(f'./{temp_path}/extended_modified.txt')\n",
    "print(f'total:      {ext.shape[0]}')\n",
    "non_coding = ext[~ext['tag'].isin(coding_seq)]\n",
    "print(f'non_coding: {non_coding.shape[0]}')\n",
    "df_to_fasta(non_coding,f'./{temp_path}/extended_modified_non_coding.txt')\n",
    "coding = ext[ext['tag'].isin(coding_seq)]\n",
    "print(f'coding:     {coding.shape[0]}')\n",
    "df_to_fasta(coding,f'./{temp_path}/extended_modified_coding.txt')"
   ]
  },
  {
   "cell_type": "markdown",
   "metadata": {},
   "source": [
    "# RNA 2d prediction"
   ]
  },
  {
   "cell_type": "markdown",
   "metadata": {},
   "source": [
    "## Mfold"
   ]
  },
  {
   "cell_type": "code",
   "execution_count": 61,
   "metadata": {
    "ExecuteTime": {
     "end_time": "2022-09-15T22:07:28.038979Z",
     "start_time": "2022-09-15T22:07:25.563848Z"
    }
   },
   "outputs": [
    {
     "name": "stdout",
     "output_type": "stream",
     "text": [
      "rm: cannot remove './Experiment/S.bicolor/negative/Result/secondary_structure/mfold/': No such file or directory\r\n"
     ]
    }
   ],
   "source": [
    "counter = 0\n",
    "base = f\"{result_path}/secondary_structure/mfold/\"\n",
    "!rm -r {base}\n",
    "!mkdir -p {base}\n",
    "df = fasta_to_df(f'./{temp_path}/extended_modified_coding.txt')\n",
    "\n",
    "for index, row in df.iterrows():    \n",
    "    tag = reformat(row['tag'])\n",
    "    if(not os.path.exists(base + tag)):\n",
    "        os.makedirs(base + tag)            \n",
    "    with open(base + f\"{tag}/SEQ.FASTA\",'w') as file:\n",
    "        file.write(f\">{row['tag']}\\n{row['data']}\")\n",
    "    counter += 1    \n",
    "    #if(counter >= 100):\n",
    "      #  break"
   ]
  },
  {
   "cell_type": "code",
   "execution_count": 62,
   "metadata": {
    "ExecuteTime": {
     "end_time": "2022-09-15T22:37:12.106977Z",
     "start_time": "2022-09-15T22:07:28.043562Z"
    }
   },
   "outputs": [],
   "source": [
    "%%capture\n",
    "remove_lock = False\n",
    "def run_mfold(tag):\n",
    "    tag = reformat(tag)\n",
    "    %cd {base + tag}\n",
    "    !mfold  SEQ=\"SEQ.FASTA\" T=22   \n",
    "    if(not remove_lock):\n",
    "        !find . -name \"SEQ*\" -not -name \"*.ct\" -not -name \"*.pdf\" -not -name \"*SEQ.FASTA\" -not -type d -delete\n",
    "    %cd {current_path}\n",
    "\n",
    "if __name__ == '__main__':        \n",
    "    pool = mp.Pool(mp.cpu_count() - 5)      \n",
    "    pool.map(run_mfold, df['tag'])  "
   ]
  },
  {
   "cell_type": "code",
   "execution_count": 63,
   "metadata": {
    "ExecuteTime": {
     "end_time": "2022-09-15T22:37:12.124516Z",
     "start_time": "2022-09-15T22:37:12.115365Z"
    }
   },
   "outputs": [
    {
     "name": "stdout",
     "output_type": "stream",
     "text": [
      "done\n"
     ]
    }
   ],
   "source": [
    "print(\"done\")"
   ]
  },
  {
   "cell_type": "markdown",
   "metadata": {
    "heading_collapsed": true
   },
   "source": [
    "## Mxfold2"
   ]
  },
  {
   "cell_type": "code",
   "execution_count": null,
   "metadata": {
    "ExecuteTime": {
     "start_time": "2022-05-19T07:59:48.236Z"
    },
    "hidden": true
   },
   "outputs": [],
   "source": [
    "#!wget https://github.com/keio-bioinformatics/mxfold2/releases/download/v0.1.1/mxfold2-0.1.1.tar.gz\n",
    "#!pip3 install mxfold2-0.1.1.tar.gz\n",
    "#!rm mxfold2-0.1.1.tar.gz"
   ]
  },
  {
   "cell_type": "code",
   "execution_count": null,
   "metadata": {
    "ExecuteTime": {
     "start_time": "2022-05-19T07:59:48.239Z"
    },
    "hidden": true
   },
   "outputs": [],
   "source": [
    "!mxfold2 predict ./extended.txt > Result/secondary_structure/mxfold2_result.txt"
   ]
  },
  {
   "cell_type": "code",
   "execution_count": null,
   "metadata": {
    "ExecuteTime": {
     "start_time": "2022-05-19T07:59:48.242Z"
    },
    "hidden": true
   },
   "outputs": [],
   "source": [
    "df = fasta_to_df('./Result/secondary_structure/mxfold2_result.txt')\n",
    "df = df.apply(lambda row: bracket_row(row) , axis=1)\n",
    "df.head(2)"
   ]
  },
  {
   "cell_type": "code",
   "execution_count": null,
   "metadata": {
    "ExecuteTime": {
     "start_time": "2022-05-19T07:59:48.244Z"
    },
    "hidden": true
   },
   "outputs": [],
   "source": [
    "base = \"./Result/secondary_structure/mxfold2/\"\n",
    "!rm -r {base}\n",
    "!mkdir -p {base}\n",
    "for index, row in df.iterrows():    \n",
    "    if(not os.path.exists(base + reformat(row['tag']))):\n",
    "        os.makedirs(base + reformat(row['tag']))        \n",
    "    tag = reformat(row['tag'])\n",
    "    with open(base + f\"{tag}/{tag}.ct\",'w') as file:\n",
    "        bracket = row['bracket'].split(' ')[0]\n",
    "        deltaG = row['bracket'].split(' ')[1]\n",
    "        ct = bracket_to_ct(row['tag'], row['data'], bracket, deltaG)\n",
    "        file.write(ct)    "
   ]
  },
  {
   "cell_type": "markdown",
   "metadata": {
    "heading_collapsed": true
   },
   "source": [
    "## Vienna package"
   ]
  },
  {
   "cell_type": "code",
   "execution_count": null,
   "metadata": {
    "ExecuteTime": {
     "start_time": "2022-05-19T07:59:48.248Z"
    },
    "hidden": true
   },
   "outputs": [],
   "source": [
    "#!wget https://www.tbi.univie.ac.at/RNA/download/ubuntu/ubuntu_20_04/viennarna_2.4.18-1_amd64.deb -O viennarna.deb\n",
    "#!sudo dpkg -i ./viennarna.deb\n",
    "#!sudo apt-get -f install\n",
    "#!rm viennarna.deb"
   ]
  },
  {
   "cell_type": "code",
   "execution_count": 96,
   "metadata": {
    "ExecuteTime": {
     "end_time": "2022-06-24T17:25:24.194794Z",
     "start_time": "2022-06-24T17:25:23.759029Z"
    },
    "hidden": true,
    "scrolled": false
   },
   "outputs": [
    {
     "name": "stdout",
     "output_type": "stream",
     "text": [
      "rm: cannot remove 'Experiment/A.thaliana/Result/secondary_structure/viennarna/': No such file or directory\n",
      "rm: cannot remove 'Experiment/A.thaliana/Result/secondary_structure/viennarna_result.txt': No such file or directory\n"
     ]
    }
   ],
   "source": [
    "base = f\"{result_path}/secondary_structure/viennarna/\"\n",
    "!rm -r {base}\n",
    "!rm {result_path}/secondary_structure/viennarna_result.txt\n",
    "!mkdir -p {base}"
   ]
  },
  {
   "cell_type": "code",
   "execution_count": 102,
   "metadata": {
    "ExecuteTime": {
     "end_time": "2022-06-24T17:33:38.865438Z",
     "start_time": "2022-06-24T17:28:49.490639Z"
    },
    "hidden": true
   },
   "outputs": [],
   "source": [
    "#%cd {base}\n",
    "!RNAfold --jobs=0 --infile {current_path}/{temp_path}/extended_modified.txt  --noPS -T 22 > {current_path}/{base}/viennarna_result.txt\n",
    "#%cd {current_path}"
   ]
  },
  {
   "cell_type": "code",
   "execution_count": 107,
   "metadata": {
    "ExecuteTime": {
     "end_time": "2022-06-24T17:38:58.749614Z",
     "start_time": "2022-06-24T17:38:38.726944Z"
    },
    "hidden": true
   },
   "outputs": [
    {
     "name": "stdout",
     "output_type": "stream",
     "text": [
      "(17793, 3)\n"
     ]
    },
    {
     "data": {
      "text/html": [
       "<div>\n",
       "<style scoped>\n",
       "    .dataframe tbody tr th:only-of-type {\n",
       "        vertical-align: middle;\n",
       "    }\n",
       "\n",
       "    .dataframe tbody tr th {\n",
       "        vertical-align: top;\n",
       "    }\n",
       "\n",
       "    .dataframe thead th {\n",
       "        text-align: right;\n",
       "    }\n",
       "</style>\n",
       "<table border=\"1\" class=\"dataframe\">\n",
       "  <thead>\n",
       "    <tr style=\"text-align: right;\">\n",
       "      <th></th>\n",
       "      <th>tag</th>\n",
       "      <th>data</th>\n",
       "      <th>bracket</th>\n",
       "    </tr>\n",
       "  </thead>\n",
       "  <tbody>\n",
       "    <tr>\n",
       "      <th>0</th>\n",
       "      <td>NC_000932.1|+|101567-101986|201-220</td>\n",
       "      <td>aaucccagggcucaacccuggacaggcgguggaaacuaccaagcuu...</td>\n",
       "      <td>.(((((((((.....)))))).((((((((((...)))))..))))...</td>\n",
       "    </tr>\n",
       "    <tr>\n",
       "      <th>1</th>\n",
       "      <td>NC_000932.1|+|105092-105512|201-221</td>\n",
       "      <td>aaucccgugugaaucagcaaggaccaccuugcaaggcuaaauacuc...</td>\n",
       "      <td>.....(((((......((((((....))))))....(((..(((((...</td>\n",
       "    </tr>\n",
       "  </tbody>\n",
       "</table>\n",
       "</div>"
      ],
      "text/plain": [
       "                                   tag  \\\n",
       "0  NC_000932.1|+|101567-101986|201-220   \n",
       "1  NC_000932.1|+|105092-105512|201-221   \n",
       "\n",
       "                                                data  \\\n",
       "0  aaucccagggcucaacccuggacaggcgguggaaacuaccaagcuu...   \n",
       "1  aaucccgugugaaucagcaaggaccaccuugcaaggcuaaauacuc...   \n",
       "\n",
       "                                             bracket  \n",
       "0  .(((((((((.....)))))).((((((((((...)))))..))))...  \n",
       "1  .....(((((......((((((....))))))....(((..(((((...  "
      ]
     },
     "execution_count": 107,
     "metadata": {},
     "output_type": "execute_result"
    }
   ],
   "source": [
    "df = fasta_to_df(f'{result_path}/secondary_structure/viennarna/viennarna_result.txt')\n",
    "df = df.apply(lambda row: bracket_row(row) , axis=1)\n",
    "print(df.shape)\n",
    "df.head(2)"
   ]
  },
  {
   "cell_type": "code",
   "execution_count": 108,
   "metadata": {
    "ExecuteTime": {
     "end_time": "2022-06-24T17:40:19.793270Z",
     "start_time": "2022-06-24T17:39:06.525797Z"
    },
    "hidden": true
   },
   "outputs": [],
   "source": [
    "for index, row in df.iterrows():    \n",
    "    tag = reformat(row['tag'])\n",
    "    if(not os.path.exists(base + tag)):\n",
    "        os.makedirs(base + tag)      \n",
    "    with open(base + f\"{tag}/{tag}.ct\",'w') as file:\n",
    "        bracket = row['bracket'].split(' ')[0]\n",
    "        deltaG = row['bracket'].split(' ')[1]\n",
    "        ct = bracket_to_ct(row['tag'], row['data'], bracket, deltaG, False)\n",
    "        file.write(ct)    "
   ]
  },
  {
   "cell_type": "code",
   "execution_count": 109,
   "metadata": {
    "ExecuteTime": {
     "end_time": "2022-06-24T17:40:23.866901Z",
     "start_time": "2022-06-24T17:40:23.833422Z"
    },
    "hidden": true
   },
   "outputs": [],
   "source": [
    "import glob\n",
    "for file in glob.glob(f\"{base}*.ps\"):    \n",
    "    f = file[len(base):-6] # _ss.ps \n",
    "    f = reformat(f)        \n",
    "    shutil.move(file, f\"{base}{f}/{f}.ps\")    "
   ]
  },
  {
   "cell_type": "markdown",
   "metadata": {
    "heading_collapsed": true
   },
   "source": [
    "## ContraFold"
   ]
  },
  {
   "cell_type": "code",
   "execution_count": null,
   "metadata": {
    "ExecuteTime": {
     "start_time": "2022-05-19T07:59:48.266Z"
    },
    "hidden": true
   },
   "outputs": [],
   "source": [
    "#!wget http://contra.stanford.edu/contrafold/contrafold_v2_02.tar.gz\n",
    "#!tar -xvzf contrafold_v2_02.tar.gz && rm contrafold_v2_02.tar.gz\n",
    "#%cd contrafold/src\n",
    "#!make clean\n",
    "#!make \n",
    "# to file must changed to be complieable # utility.hpp and optimization.c++ files"
   ]
  },
  {
   "cell_type": "code",
   "execution_count": null,
   "metadata": {
    "ExecuteTime": {
     "start_time": "2022-05-19T07:59:48.269Z"
    },
    "hidden": true
   },
   "outputs": [],
   "source": [
    "counter = 0\n",
    "base = f\"./{result_path}/secondary_structure/contrafold/\"\n",
    "!rm -r {base}\n",
    "!mkdir -p {base}\n",
    "df = fasta_to_df(f'./{temp_path}/extended.txt')\n",
    "\n",
    "for index, row in tqdm(df.iterrows()):    \n",
    "    tag = reformat(row['tag'])\n",
    "    if(not os.path.exists(base + tag)):\n",
    "        os.makedirs(base + tag)            \n",
    "    with open(base + f\"{tag}/{tag}.FASTA\",'w') as file:\n",
    "        file.write(f\">{row['tag']}\\n{row['data']}\")\n",
    "    counter += 1        "
   ]
  },
  {
   "cell_type": "code",
   "execution_count": null,
   "metadata": {
    "ExecuteTime": {
     "start_time": "2022-05-19T07:59:48.272Z"
    },
    "hidden": true
   },
   "outputs": [],
   "source": [
    "def run_contrafold(tag):\n",
    "    tag = reformat(tag)    \n",
    "    %cd Software/contrafold/src\n",
    "    !./contrafold predict ../..{base[1:]}{tag}/{tag}.FASTA > ../..{base[1:]}{tag}/{tag}.dot\n",
    "    with open(f\"../..{base[1:]}{tag}/{tag}.dot\", 'r') as file:\n",
    "        text = file.read()\n",
    "    text = [l for l in text.split(\"\\n\") if l[:len(\">structure\")] != \">structure\"]    \n",
    "    header = text[0]\n",
    "    with open(f\"../..{base[1:]}{tag}/{tag}.dot\", 'w') as file:\n",
    "        file.write('\\n'.join(text[1:]))    \n",
    "    !RNAeval  ../..{base[1:]}{tag}/{tag}.dot -T 20 > ../..{base[1:]}{tag}/{tag}.dotdg    \n",
    "    with open(f\"../..{base[1:]}{tag}/{tag}.dotdg\", 'r') as file:\n",
    "        text = file.read()\n",
    "    with open(f\"../..{base[1:]}{tag}/{tag}.dot\", 'w') as file:\n",
    "        file.write(header + \"\\n\" + text)    \n",
    "    \n",
    "    df = fasta_to_df(f'../..{base[1:]}{tag}/{tag}.dot')\n",
    "    df = df.apply(lambda row: bracket_row(row) , axis=1)        \n",
    "    tag = reformat(df['tag'][0])\n",
    "    with open(f'../..{base[1:]}{tag}/{tag}.ct','w') as file:\n",
    "        bracket = df['bracket'][0].split(' ')[0]        \n",
    "        deltaG = df['bracket'][0].split(' ')[1]\n",
    "        ct = bracket_to_ct(df['tag'][0], df['data'][0], bracket, deltaG, False)\n",
    "        file.write(ct)    \n",
    "    #!rm ../..{base[1:]}{tag}/{tag}.dot\n",
    "    #!rm ../..{base[1:]}{tag}/{tag}.dotdg\n",
    "    !rm ../..{base[1:]}{tag}/{tag}.FASTA\n",
    "    %cd {current_path}        \n",
    "\n",
    "if __name__ == '__main__':        \n",
    "    pool = mp.Pool(mp.cpu_count() - 1)  \n",
    "    pool.map(run_contrafold, df['tag'].iloc[:10])"
   ]
  },
  {
   "cell_type": "code",
   "execution_count": null,
   "metadata": {
    "ExecuteTime": {
     "start_time": "2022-05-19T07:59:48.275Z"
    },
    "hidden": true
   },
   "outputs": [],
   "source": [
    "'''path = 'secondary_structure/contrafold/AMWY020333941_469-893_-_/AMWY020333941_469-893_-_.dot'\n",
    "!RNAeval  {path} -T 20 -v'''; "
   ]
  },
  {
   "cell_type": "markdown",
   "metadata": {},
   "source": [
    "# CTAnalizer"
   ]
  },
  {
   "cell_type": "code",
   "execution_count": 64,
   "metadata": {
    "ExecuteTime": {
     "end_time": "2022-09-15T22:37:13.360862Z",
     "start_time": "2022-09-15T22:37:12.128650Z"
    }
   },
   "outputs": [
    {
     "name": "stdout",
     "output_type": "stream",
     "text": [
      "(4099, 2)\n"
     ]
    }
   ],
   "source": [
    "# only select those not ran before\n",
    "ss_method = \"mfold\"\n",
    "base = f\"{result_path}/secondary_structure/{ss_method}/\"\n",
    "df = fasta_to_df(f'./{temp_path}/extended_modified_coding.txt')\n",
    "index_list =[]\n",
    "for index, row in df.iterrows():    \n",
    "    tag = reformat(row['tag'])    \n",
    "    if(len(glob.glob(f'{base + tag}/*.ct')) != 0):\n",
    "        index_list.append(index)\n",
    "df = df.iloc[index_list,:]\n",
    "print(df.shape)"
   ]
  },
  {
   "cell_type": "code",
   "execution_count": 65,
   "metadata": {
    "ExecuteTime": {
     "end_time": "2022-09-15T22:37:13.371844Z",
     "start_time": "2022-09-15T22:37:13.364428Z"
    }
   },
   "outputs": [],
   "source": [
    "def run(tag, path, extra):             \n",
    "    try:\n",
    "        return get_row(tag, path,extra)\n",
    "    except Exception as e:\n",
    "        print(str(e), tag)        \n",
    "        return pd.Series()\n",
    "        \n",
    "def get_df_by_tag(tag , extra=0):           \n",
    "    ct_files = glob.glob(f'{base}{reformat(tag)}/*.ct')    \n",
    "    ct_files = [i for i in ct_files if i[-6:] != 'SEQ.ct']\n",
    "    return pd.Series(ct_files).apply(lambda path: run(tag, path,extra))    "
   ]
  },
  {
   "cell_type": "markdown",
   "metadata": {},
   "source": [
    "# Apply on current data"
   ]
  },
  {
   "cell_type": "code",
   "execution_count": 66,
   "metadata": {
    "ExecuteTime": {
     "end_time": "2022-09-15T22:37:13.588702Z",
     "start_time": "2022-09-15T22:37:13.376185Z"
    }
   },
   "outputs": [],
   "source": [
    "seq2cluster = pd.read_csv(f\"{temp_path}/seq2cluster.csv\")\n",
    "seq2cluster['tag'] = seq2cluster.groupby(['cluster'])['tag'].transform(lambda x: ','.join(x))\n",
    "seq2cluster['seqid'] = seq2cluster.groupby(['cluster'])['seqid'].transform(lambda x: ','.join(x))\n",
    "seq2cluster = seq2cluster.drop_duplicates()\n",
    "tag2cluster = pd.read_csv(f'./{temp_path}/pipe_seprated_location_list.csv',sep='\\t')\n",
    "tag2cluster['location_tag'] = tag2cluster['location_tag'].apply(lambda x : x[1:])\n",
    "data = pd.merge(seq2cluster,tag2cluster,how='inner', left_on='cluster', right_on='qseqid')\n",
    "data['Reference miRNA cluster'] = data['cluster']\n",
    "data['Reference miRNA IDs'] = data['seqid']\n",
    "data['Reference miRNA IDs and species'] = data['tag']\n",
    "data = data[['location_tag','Reference miRNA cluster', 'Reference miRNA IDs', 'Reference miRNA IDs and species','confidence']]"
   ]
  },
  {
   "cell_type": "code",
   "execution_count": 67,
   "metadata": {
    "ExecuteTime": {
     "end_time": "2022-09-15T22:37:13.602873Z",
     "start_time": "2022-09-15T22:37:13.592459Z"
    },
    "code_folding": []
   },
   "outputs": [],
   "source": [
    "rcols_ref = ['Reference miRNA cluster',\n",
    "             'Reference miRNA IDs',\n",
    "             'Reference miRNA IDs and species']\n",
    "rcols_boi = ['boi seq', 'boi name', 'boi dotbracket']\n",
    "\n",
    "rcols = [*rcols_ref,\n",
    "         *rcols_boi]\n",
    "\n",
    "rcols_dg = [*rcols, 'delta G']\n",
    "\n",
    "def selection(row):        \n",
    "    global repeted\n",
    "    tuple_row = tuple(row)            \n",
    "    if(tuple_row not in repeted):\n",
    "        repeted[tuple_row] = row.name\n",
    "        return True\n",
    "    return False\n",
    "\n",
    "def boi_selection(row):    \n",
    "    global repeted_boi        \n",
    "    tuple_row_boi = tuple(row[rcols_boi])\n",
    "    dg = row['delta G']\n",
    "    if(tuple_row_boi not in repeted_boi):\n",
    "        repeted_boi[tuple_row_boi] = { \n",
    "            \"counter\": 1,\n",
    "            \"dg\": dg,\n",
    "            \"ref clusters\": row['Reference miRNA cluster'],\n",
    "            \"ref ids\": row['Reference miRNA IDs'],\n",
    "            \"ref species\": row['Reference miRNA IDs and species'],\n",
    "            \"lock\": False\n",
    "        }\n",
    "    else:            \n",
    "        value =  repeted_boi[tuple_row_boi]\n",
    "        value['counter'] += 1\n",
    "        value['dg'] = min(value['dg'] , dg)\n",
    "        value['ref clusters'] += \",\" + row['Reference miRNA cluster']\n",
    "        value['ref ids'] += \",\" + row['Reference miRNA IDs']\n",
    "        value['ref species'] += \",\" +  row['Reference miRNA IDs and species']                \n",
    "        repeted_boi[tuple_row_boi] = value        "
   ]
  },
  {
   "cell_type": "code",
   "execution_count": 68,
   "metadata": {
    "ExecuteTime": {
     "end_time": "2022-09-15T22:40:56.123354Z",
     "start_time": "2022-09-15T22:37:13.607887Z"
    },
    "scrolled": false
   },
   "outputs": [
    {
     "name": "stdout",
     "output_type": "stream",
     "text": [
      "rm: cannot remove '././Experiment/S.bicolor/negative/Result/ct_analizer.csv': No such file or directory\r\n"
     ]
    },
    {
     "data": {
      "application/vnd.jupyter.widget-view+json": {
       "model_id": "5ceb0de2db9642739a9e65d1303b2c02",
       "version_major": 2,
       "version_minor": 0
      },
      "text/plain": [
       "  0%|          | 0/1 [00:00<?, ?it/s]"
      ]
     },
     "metadata": {},
     "output_type": "display_data"
    },
    {
     "data": {
      "application/vnd.jupyter.widget-view+json": {
       "model_id": "037aebe02ff44429a59e85623257006c",
       "version_major": 2,
       "version_minor": 0
      },
      "text/plain": [
       "  0%|          | 0/4099 [00:00<?, ?it/s]"
      ]
     },
     "metadata": {},
     "output_type": "display_data"
    }
   ],
   "source": [
    "!rm ./{result_path}/ct_analizer.csv\n",
    "chunksize = 1 * (10 ** 4)\n",
    "max_workers = mp.cpu_count() - 4\n",
    "num_terminal = 5 # acceptable_terminal_structures\n",
    "\n",
    "repeted = {}\n",
    "repeted_boi = {}\n",
    "header = True\n",
    "orders = None\n",
    "arr = np.array_split(df['tag'], max(df['tag'].shape[0]//chunksize , 1))\n",
    "for chunk in tqdm(arr):\n",
    "    dfs = []\n",
    "    for row in process_map(get_df_by_tag , chunk, tqdm_class=tqdm, max_workers=max_workers, chunksize=5):        \n",
    "        dfs.append(row)\n",
    "    chunk = pd.concat(dfs,axis=0)\n",
    "    chunk = pd.merge(data, chunk, how='right', left_on = 'location_tag', right_on ='seq name')\n",
    "    del chunk['location_tag']\n",
    "    if(header):\n",
    "        orders = chunk.columns\n",
    "    for col in orders:\n",
    "        if(col not in chunk.columns):\n",
    "            chunk[col] = np.nan            \n",
    "        \n",
    "    for col in chunk.columns:\n",
    "        if(col not in orders ):\n",
    "            print(f\"Error in {col}\")        \n",
    "    chunk = chunk.reindex(columns=orders)\n",
    "    chunk = chunk.replace(np.nan, '-').replace('', '-')                    \n",
    "    # delete repeated\n",
    "    selected = chunk[rcols].apply(lambda row: selection(row), axis=1)\n",
    "    chunk = chunk[selected]\n",
    "    \n",
    "    # cluster refs\n",
    "    chunk[rcols_dg].apply(lambda row: boi_selection(row), axis=1)        \n",
    "    chunk.to_csv(f\"./{result_path}/ct_analizer.csv\", header=header, mode='a', index=False)    \n",
    "    header = False"
   ]
  },
  {
   "cell_type": "code",
   "execution_count": 69,
   "metadata": {
    "ExecuteTime": {
     "end_time": "2022-09-15T22:41:14.561199Z",
     "start_time": "2022-09-15T22:40:56.131844Z"
    },
    "scrolled": true
   },
   "outputs": [
    {
     "name": "stdout",
     "output_type": "stream",
     "text": [
      "rm: cannot remove '././Experiment/S.bicolor/negative/Result/ct_analizer_clustered.csv': No such file or directory\r\n"
     ]
    },
    {
     "data": {
      "application/vnd.jupyter.widget-view+json": {
       "model_id": "b546dd13f3ad4bf088949d532d55f610",
       "version_major": 2,
       "version_minor": 0
      },
      "text/plain": [
       "0it [00:00, ?it/s]"
      ]
     },
     "metadata": {},
     "output_type": "display_data"
    }
   ],
   "source": [
    "!rm ./{result_path}/ct_analizer_clustered.csv\n",
    "def isKeepCluster(row):\n",
    "    global repeted_boi    \n",
    "    dg = row['delta G']    \n",
    "    if(row[\"boi name\"] == \"-\"):\n",
    "        return False\n",
    "    tuple_row_boi = tuple(row[rcols_boi])    \n",
    "    value = repeted_boi[tuple_row_boi]\n",
    "    if(value['counter'] == 1):\n",
    "        return True\n",
    "    if(value['dg'] != dg):        \n",
    "        return False\n",
    "    if(value['lock']):\n",
    "        return False\n",
    "    value['lock'] = True\n",
    "    repeted_boi[tuple_row_boi] = value\n",
    "    return True\n",
    "\n",
    "\n",
    "def makeCluster(row):            \n",
    "    tuple_row_boi = tuple(row[rcols_boi])    \n",
    "    value = repeted_boi[tuple_row_boi]\n",
    "    if(value['counter'] != 1):\n",
    "        for ref_c in ['ref clusters', 'ref ids', 'ref species']:\n",
    "            value[ref_c] = value[ref_c].replace(' ,', ',').replace(', ', ',')                        \n",
    "            value[ref_c] = value[ref_c].split(',')\n",
    "            value[ref_c] = set(value[ref_c])\n",
    "            value[ref_c] = \", \".join(value[ref_c])                    \n",
    "        row['Reference miRNA cluster'] = value[\"ref clusters\"]\n",
    "        row['Reference miRNA IDs'] = value[\"ref ids\"]\n",
    "        row['Reference miRNA IDs and species'] = value[\"ref species\"]\n",
    "    return row\n",
    "\n",
    "\n",
    "header = True\n",
    "for chunk in tqdm(pd.read_csv(f\"./{result_path}/ct_analizer.csv\", chunksize=10 ** 5)):\n",
    "    chunk = chunk[chunk[rcols_dg].apply(lambda row:  isKeepCluster(row), axis=1)]\n",
    "    chunk = chunk.apply(lambda row : makeCluster(row), axis=1)\n",
    "    chunk.to_csv(f\"./{result_path}/ct_analizer_clustered.csv\", mode='a', index=False)\n",
    "    header = False"
   ]
  },
  {
   "cell_type": "markdown",
   "metadata": {},
   "source": [
    "# Filters"
   ]
  },
  {
   "cell_type": "code",
   "execution_count": 70,
   "metadata": {
    "ExecuteTime": {
     "end_time": "2022-09-15T22:41:16.648874Z",
     "start_time": "2022-09-15T22:41:14.564967Z"
    }
   },
   "outputs": [
    {
     "name": "stdout",
     "output_type": "stream",
     "text": [
      "rm: cannot remove '././Experiment/S.bicolor/negative/Result/result_level1_filter.csv': No such file or directory\r\n"
     ]
    },
    {
     "name": "stderr",
     "output_type": "stream",
     "text": [
      "1it [00:01,  1.84s/it]\n"
     ]
    }
   ],
   "source": [
    "!rm ./{result_path}/result_level1_filter.csv\n",
    "filter1_run(input_file=  f\"./{result_path}/ct_analizer_clustered.csv\",\n",
    "            output_file= f\"./{result_path}/result_level1_filter.csv\")"
   ]
  },
  {
   "cell_type": "code",
   "execution_count": 71,
   "metadata": {
    "ExecuteTime": {
     "end_time": "2022-09-15T22:41:17.050469Z",
     "start_time": "2022-09-15T22:41:16.652908Z"
    }
   },
   "outputs": [
    {
     "data": {
      "text/plain": [
       "(3841, 170)"
      ]
     },
     "execution_count": 71,
     "metadata": {},
     "output_type": "execute_result"
    }
   ],
   "source": [
    "pd.read_csv(f\"./{result_path}/result_level1_filter.csv\").shape"
   ]
  },
  {
   "cell_type": "code",
   "execution_count": 72,
   "metadata": {
    "ExecuteTime": {
     "end_time": "2022-09-15T22:41:17.365321Z",
     "start_time": "2022-09-15T22:41:17.053924Z"
    }
   },
   "outputs": [],
   "source": [
    "import matplotlib.pyplot as plt"
   ]
  },
  {
   "cell_type": "code",
   "execution_count": 73,
   "metadata": {
    "ExecuteTime": {
     "end_time": "2022-09-15T22:41:18.029409Z",
     "start_time": "2022-09-15T22:41:17.368832Z"
    }
   },
   "outputs": [
    {
     "data": {
      "image/png": "[encoded data removed]",
      "text/plain": [
       "<Figure size 432x288 with 1 Axes>"
      ]
     },
     "metadata": {
      "needs_background": "light"
     },
     "output_type": "display_data"
    }
   ],
   "source": [
    "neg = fasta_to_df(temp_path + \"/\" + \"extended_modified_non_coding.txt\")\n",
    "neg_length = neg['data'].apply(lambda x: len(x))\n",
    "pos = fasta_to_df(temp_path.replace('negative', 'positive') + \"/\" + \"extended_modified_non_coding.txt\")\n",
    "pos_length = pos['data'].apply(lambda x: len(x))\n",
    "\n",
    "weights = np.ones_like(pos_length) / len(pos_length)\n",
    "plt.hist(pos_length, weights=weights, bins=30,color='g', label=\"positive\")\n",
    "\n",
    "weights = np.ones_like(neg_length) / len(neg_length)\n",
    "plt.hist(neg_length, weights=weights, bins=30,color='r', label=\"negative\", alpha=0.5)\n",
    "\n",
    "plt.legend()\n",
    "plt.show()"
   ]
  }
 ],
 "metadata": {
  "hide_input": false,
  "kernelspec": {
   "display_name": "Python 3",
   "language": "python",
   "name": "python3"
  },
  "language_info": {
   "codemirror_mode": {
    "name": "ipython",
    "version": 3
   },
   "file_extension": ".py",
   "mimetype": "text/x-python",
   "name": "python",
   "nbconvert_exporter": "python",
   "pygments_lexer": "ipython3",
   "version": "3.8.10"
  },
  "varInspector": {
   "cols": {
    "lenName": 16,
    "lenType": 16,
    "lenVar": 40
   },
   "kernels_config": {
    "python": {
     "delete_cmd_postfix": "",
     "delete_cmd_prefix": "del ",
     "library": "var_list.py",
     "varRefreshCmd": "print(var_dic_list())"
    },
    "r": {
     "delete_cmd_postfix": ") ",
     "delete_cmd_prefix": "rm(",
     "library": "var_list.r",
     "varRefreshCmd": "cat(var_dic_list()) "
    }
   },
   "types_to_exclude": [
    "module",
    "function",
    "builtin_function_or_method",
    "instance",
    "_Feature"
   ],
   "window_display": false
  }
 },
 "nbformat": 4,
 "nbformat_minor": 4
}
